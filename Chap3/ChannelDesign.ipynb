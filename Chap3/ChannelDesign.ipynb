{
 "cells": [
  {
   "cell_type": "markdown",
   "id": "ec3324df-d121-4e4f-8c37-917c6c669e4c",
   "metadata": {},
   "source": [
    "# Chapter 3 Hydraulics:Channel Design"
   ]
  },
  {
   "cell_type": "markdown",
   "id": "f3dc4cf2-21cf-4f03-b857-85e9208a317a",
   "metadata": {},
   "source": [
    "1. [Introduction: Channel Design](#1.-Introduction)\n",
    "2. [Simulation: Channel Design](#2.-Simulation)\n",
    "3. [Simulation: Design method selector](#3.-Simulation)\n",
    "4. [Self-Assessment](#4.-Self-Assessment)"
   ]
  },
  {
   "cell_type": "markdown",
   "id": "13b8cc8e-895b-45c8-b778-de88a5831514",
   "metadata": {},
   "source": [
    "## 1. Introduction"
   ]
  },
  {
   "cell_type": "markdown",
   "id": "ddf8084c-66aa-4e4a-8ae9-8a544ecb1d7d",
   "metadata": {},
   "source": [
    "### 🌊 Canals and Channels: Types, Design Methods, and Challenges\n",
    "\n",
    "A **canal** or **channel** is an artificial or natural waterway designed to convey water for purposes such as **irrigation**, **drainage**, **navigation**, or **flood control**. While channels may be natural or engineered, canals are typically man-made and lined or shaped for controlled flow.\n",
    "\n",
    "---\n",
    "\n",
    "### 📚 Types of Canals and Channels\n",
    "\n",
    "| Type                   | Description                                                                 |\n",
    "|------------------------|-----------------------------------------------------------------------------|\n",
    "| **Irrigation Canal**    | Delivers water to agricultural fields                                      |\n",
    "| **Drainage Channel**    | Removes excess water from land or urban areas                              |\n",
    "| **Navigation Canal**    | Designed for boat or ship movement                                         |\n",
    "| **Flood Control Channel**| Manages stormwater and prevents urban flooding                            |\n",
    "| **Natural Channel**     | Formed by geomorphic processes; irregular cross-section                    |\n",
    "| **Engineered Channel**  | Designed with specific geometry (e.g., trapezoidal, rectangular)           |\n",
    "\n",
    "---\n",
    "\n",
    "### 📐 Design Methods\n",
    "\n",
    "| Method                  | Description                                                                 |\n",
    "|------------------------|-----------------------------------------------------------------------------|\n",
    "| **Manning’s Equation**  | Used to size channels based on flow, slope, and roughness                  |\n",
    "| **Tractive Force Method**| Ensures bed stability by limiting shear stress                            |\n",
    "| **Permissible Velocity Method**| Limits erosion by controlling flow velocity                         |\n",
    "| **Empirical Formulas**  | Region-specific design charts and regression models                        |\n",
    "| **Optimization Models** | Used for cost-effective lining and cross-section design                    |\n",
    "\n",
    "---\n",
    "### 📐 Major Design Criteria for Channel Design\n",
    "\n",
    "Channel design varies by purpose — irrigation, drainage, flood control, navigation — but all require careful consideration of hydraulic, structural, and environmental factors.\n",
    "\n",
    "---\n",
    "\n",
    "### ✅ General Design Criteria\n",
    "\n",
    "| Criterion               | Description                                                                 |\n",
    "|-------------------------|------------------------------------------------------------------------------|\n",
    "| **Flow Capacity**       | Must convey design discharge without overtopping or excessive velocity      |\n",
    "| **Hydraulic Efficiency**| Minimize energy loss; optimize cross-section for uniform flow               |\n",
    "| **Stability**           | Prevent erosion, sedimentation, and bank failure                            |\n",
    "| **Freeboard**           | Vertical buffer above water surface to prevent overflow                     |\n",
    "| **Slope and Geometry**  | Ensure self-cleansing velocity and structural integrity                     |\n",
    "| **Lining Material**     | Selected based on erosion resistance, cost, and maintenance needs           |\n",
    "| **Accessibility**       | Allow for inspection, cleaning, and repairs                                 |\n",
    "| **Environmental Impact**| Minimize disruption to habitats and natural flow regimes                    |\n",
    "\n",
    "---\n",
    "\n",
    "### 📊 Design Criteria by Channel Type\n",
    "\n",
    "| Channel Type           | Key Design Criteria                                                                 |\n",
    "|------------------------|--------------------------------------------------------------------------------------|\n",
    "| **Irrigation Channel** | - Uniform flow for equitable distribution<br>- Minimize seepage losses<br>- Gentle slope for control |\n",
    "| **Drainage Channel**   | - Rapid removal of excess water<br>- Erosion control<br>- Adequate capacity during storms |\n",
    "| **Flood Control Channel**| - Convey peak flows safely<br>- High freeboard<br>- Energy dissipation structures |\n",
    "| **Navigation Canal**   | - Sufficient depth and width for vessels<br>- Stable banks<br>- Controlled velocity |\n",
    "| **Natural Channel Restoration**| - Mimic natural morphology<br>- Support habitat<br>- Manage sediment transport |\n",
    "\n",
    "---\n",
    "\n",
    "### ⚠️ Channel Failure History in the U.S.\n",
    "\n",
    "This table summarizes notable types of channel failures in the U.S., including causes, impacts, and lessons learned. These failures often involve engineered flood control channels, irrigation canals, and urban drainage systems.\n",
    "\n",
    "| Location / Project           | Year   | Channel Type         | Failure Cause                          | Impact / Notes                                      |\n",
    "|-----------------------------|--------|----------------------|----------------------------------------|-----------------------------------------------------|\n",
    "| Los Angeles River (CA)      | Various| Concrete flood channel| Sediment buildup, poor maintenance     | Reduced capacity; localized flooding                |\n",
    "| Central Arizona Project     | 1993   | Irrigation canal     | Bank erosion, overtopping              | Crop damage; canal breach                           |\n",
    "| New Orleans (LA)            | 2005   | Drainage canals      | Levee and floodwall failure (Katrina) | Catastrophic urban flooding; major infrastructure loss |\n",
    "| Teton Dam (ID)              | 1976   | Reservoir outlet channel | Structural collapse of dam            | Massive downstream flooding; 11 fatalities          |\n",
    "| San Antonio River (TX)      | 1998   | Urban channel        | Inadequate conveyance during storm     | Flash flooding; infrastructure overwhelmed          |\n",
    "| Sacramento River (CA)       | Ongoing| Natural channel      | Bank erosion, sedimentation            | Habitat degradation; flood risk                     |\n",
    "| Imperial Valley (CA)        | 1905   | Irrigation canal     | Colorado River diversion failure       | Created Salton Sea; long-term ecological impact     |\n",
    "\n",
    "---\n",
    "\n",
    "### 🔍 Common Failure Mechanisms\n",
    "\n",
    "- **Hydraulic Overload**: Flow exceeds design capacity  \n",
    "- **Bank Instability**: Erosion, piping, or slope failure  \n",
    "- **Sediment Accumulation**: Reduces conveyance and alters flow paths  \n",
    "- **Structural Defects**: Cracks, joint failures, or poor construction  \n",
    "- **Poor Maintenance**: Vegetation, debris, or neglected repairs  \n",
    "- **Extreme Events**: Hurricanes, flash floods, or seismic activity\n",
    "\n",
    "---\n",
    "\n",
    "### 🧠 Conceptual Insight\n",
    "\n",
    "> Channel failures often result from a combination of **hydraulic misestimation**, **geotechnical instability**, and **maintenance neglect**.  \n",
    "> Understanding past failures helps improve **resilience**, **design standards**, and **emergency preparedness**.\n",
    "\n",
    "\n",
    "### 🧠 Conceptual Insight\n",
    "\n",
    "> Channel design is a **multi-objective process** — balancing hydraulic performance,  \n",
    "> structural stability, ecological integrity, and long-term sustainability.\n",
    "\n",
    "---\n",
    "\n",
    "### ❓ Quiz Questions\n",
    "\n",
    "1. Why is freeboard important in channel design?\n",
    "2. What distinguishes irrigation channel design from flood control channels?\n",
    "3. How does slope affect channel stability and flow velocity?\n",
    "4. What role does lining material play in channel performance?\n",
    "5. Why is environmental impact a key consideration in modern channel design?\n",
    "\n",
    "\n",
    "\n",
    "### ⚠️ Design Challenges\n",
    "\n",
    "| Challenge               | Description                                                                 |\n",
    "|------------------------|------------------------------------------------------------------------------|\n",
    "| **Erosion and Sedimentation**| Unlined channels may erode or silt up over time                        |\n",
    "| **Vegetation Growth**   | Can obstruct flow and reduce capacity                                       |\n",
    "| **Structural Stability**| Requires proper slope and lining to prevent collapse                       |\n",
    "| **Hydraulic Efficiency**| Balancing flow capacity with energy losses                                  |\n",
    "| **Maintenance Access**  | Channels must be accessible for cleaning and repairs                        |\n",
    "| **Environmental Impact**| May alter natural flow regimes and aquatic habitats                         |\n",
    "\n",
    "---\n",
    "\n",
    "### 🧠 Conceptual Insight\n",
    "\n",
    "> Channels and canals are the **arteries of water infrastructure** —  \n",
    "> their design must balance **hydraulic performance**, **environmental sustainability**,  \n",
    "> and **long-term stability** under varying flow conditions.\n",
    "\n",
    "---\n",
    "\n",
    "### ❓ Quiz Questions\n",
    "\n",
    "1. What distinguishes a canal from a natural channel?\n",
    "2. Why is Manning’s equation commonly used in channel design?\n",
    "3. What is the role of tractive force in channel stability?\n",
    "4. How does vegetation affect channel hydraulics?\n",
    "5. What are key considerations in designing flood control channels?"
   ]
  },
  {
   "cell_type": "markdown",
   "id": "1873a350-c419-4290-8ded-b53167061885",
   "metadata": {},
   "source": [
    "## 2. Simulation"
   ]
  },
  {
   "cell_type": "markdown",
   "id": "3fe29da0-61f1-4383-9207-e3eb3717aa0e",
   "metadata": {},
   "source": [
    "### 🌊 Theoretical Background: Interactive Canal Design Tool\n",
    "\n",
    "This tool supports the design of open channels for irrigation, drainage, or conveyance systems. It allows users to select between **rigid channels** (lined or stable) and **mobile channels** (self-formed in alluvial soils), and accounts for whether the flow is **sediment-free** or **sediment-laden**.\n",
    "\n",
    "---\n",
    "\n",
    "### 📘 Design Methodologies\n",
    "\n",
    "### 1. **Manning’s Equation (Rigid Channel, Sediment-Free)**\n",
    "\n",
    "Used to estimate uniform flow velocity:\n",
    "\n",
    "$$\n",
    "V = \\frac{1}{n} R^{2/3} S^{1/2}\n",
    "\\quad \\text{and} \\quad\n",
    "Q = A \\cdot V\n",
    "$$\n",
    "\n",
    "- $( V $): velocity (m/s)  \n",
    "- $( Q $): discharge (m³/s)  \n",
    "- $( A $): cross-sectional area (m²)  \n",
    "- $( R $): hydraulic radius (m)  \n",
    "- $( S $): slope (m/m)  \n",
    "- $( n $): Manning’s roughness coefficient\n",
    "\n",
    "---\n",
    "\n",
    "### 2. **Tractive Stress Analysis (Rigid Channel, Sediment-Laden)**\n",
    "\n",
    "Used to ensure flow velocity avoids siltation and erosion:\n",
    "\n",
    "$$\n",
    "\\tau = \\gamma R S\n",
    "$$\n",
    "\n",
    "- $( \\tau $): tractive stress (N/m²)  \n",
    "- $( \\gamma $): unit weight of water (typically 9800 N/m³)  \n",
    "- $( R $): hydraulic radius  \n",
    "- $( S $): slope\n",
    "\n",
    "Design checks:\n",
    "- Minimum velocity to prevent sediment deposition  \n",
    "- Maximum velocity to prevent boundary erosion\n",
    "\n",
    "---\n",
    "\n",
    "### 3. **Kennedy’s Method (Mobile Channel)**\n",
    "\n",
    "Empirical method for designing stable channels in alluvial soils:\n",
    "\n",
    "$$\n",
    "V = 0.55 \\cdot y^{0.64} \\cdot m^{0.33}\n",
    "$$\n",
    "\n",
    "- $( V $): non-silting velocity (m/s)  \n",
    "- $( y $): flow depth (m)  \n",
    "- $( m $): silt factor (depends on sediment size)\n",
    "\n",
    "---\n",
    "\n",
    "### 4. **Lacey’s Method (Mobile Channel)**\n",
    "\n",
    "Used for designing channels in regime conditions:\n",
    "\n",
    "$$\n",
    "V = 0.48 \\cdot \\left( \\frac{Q}{f} \\right)^{1/6}\n",
    "$$\n",
    "\n",
    "- $( V $): regime velocity (m/s)  \n",
    "- $( Q $): discharge (m³/s)  \n",
    "- $( f $): silt factor (depends on sediment size and type)\n",
    "\n",
    "---\n",
    "\n",
    "### 📐 Geometry and Flow Parameters\n",
    "\n",
    "- **Bottom Width (b)**: width of channel bed (m)  \n",
    "- **Flow Depth (y)**: vertical depth of water (m)  \n",
    "- **Slope (S)**: bed slope (m/m)  \n",
    "- **Discharge (Q)**: flow rate (m³/s)  \n",
    "- **Manning’s n**: roughness coefficient (typical range 0.012–0.035)  \n",
    "- **Silt Factor (m, f)**: empirical values based on sediment type\n",
    "\n",
    "---\n",
    "\n",
    "### 📊 Stability Criteria\n",
    "\n",
    "| Parameter        | Typical Range       |\n",
    "|------------------|---------------------|\n",
    "| Manning’s n      | 0.012–0.035         |\n",
    "| Slope (S)        | 0.0001–0.01        "
   ]
  },
  {
   "cell_type": "code",
   "execution_count": 8,
   "id": "55968199-226d-41de-8cf5-8f239f441db5",
   "metadata": {},
   "outputs": [
    {
     "data": {
      "application/vnd.jupyter.widget-view+json": {
       "model_id": "26bed926ab5b4631961558b90c76923b",
       "version_major": 2,
       "version_minor": 0
      },
      "text/plain": [
       "Output()"
      ]
     },
     "metadata": {},
     "output_type": "display_data"
    }
   ],
   "source": [
    "import numpy as np\n",
    "import ipywidgets as widgets\n",
    "from IPython.display import display, clear_output\n",
    "\n",
    "# Constants\n",
    "g = 9.81  # gravity (m/s²)\n",
    "\n",
    "# Manning's equation\n",
    "def mannings(Q=None, n=0.015, A=None, R=None, S=None):\n",
    "    if Q is None:\n",
    "        return (1/n) * A * R**(2/3) * S**0.5\n",
    "    else:\n",
    "        return Q / (A * R**(2/3) * S**0.5)\n",
    "\n",
    "# Tractive stress analysis\n",
    "def tractive_stress(gamma, R, S):\n",
    "    return gamma * R * S  # N/m²\n",
    "\n",
    "# Kennedy's method (simplified)\n",
    "def kennedy_velocity(m, y):\n",
    "    return 0.55 * y**0.64 * m**0.33\n",
    "\n",
    "# Lacey's method (simplified)\n",
    "def lacey_velocity(Q, f):\n",
    "    return 0.48 * (Q / f)**(1/6)\n",
    "\n",
    "# Widgets\n",
    "channel_type = widgets.Dropdown(options=[\"Rigid\", \"Mobile\"], description=\"Channel Type\")\n",
    "flow_type = widgets.Dropdown(options=[\"Sediment-Free\", \"Sediment-Laden\"], description=\"Flow Type\")\n",
    "\n",
    "b_slider = widgets.FloatSlider(value=3.0, min=1.0, max=10.0, step=0.5, description=\"Bottom Width (m)\")\n",
    "y_slider = widgets.FloatSlider(value=1.0, min=0.5, max=5.0, step=0.1, description=\"Flow Depth (m)\")\n",
    "n_slider = widgets.FloatSlider(value=0.015, min=0.010, max=0.035, step=0.001, description=\"Manning's n\")\n",
    "S_slider = widgets.FloatSlider(value=0.001, min=0.0001, max=0.01, step=0.0001, description=\"Slope (m/m)\")\n",
    "Q_slider = widgets.FloatSlider(value=5.0, min=1.0, max=50.0, step=1.0, description=\"Discharge (m³/s)\")\n",
    "gamma_slider = widgets.FloatSlider(value=9800, min=9000, max=10000, step=100, description=\"Unit Weight (N/m³)\")\n",
    "v_min_slider = widgets.FloatSlider(value=0.3, min=0.2, max=1.0, step=0.05, description=\"Min Velocity (m/s)\")\n",
    "v_max_slider = widgets.FloatSlider(value=2.0, min=1.0, max=3.0, step=0.1, description=\"Max Velocity (m/s)\")\n",
    "m_slider = widgets.FloatSlider(value=1.0, min=0.5, max=2.0, step=0.1, description=\"Kennedy's m\")\n",
    "f_slider = widgets.FloatSlider(value=1.0, min=0.5, max=2.5, step=0.1, description=\"Lacey's f\")\n",
    "\n",
    "output = widgets.Output()\n",
    "run_button = widgets.Button(description=\"Run Design\", button_style='success')\n",
    "\n",
    "# Design function\n",
    "def run_design(button=None):\n",
    "    with output:\n",
    "        clear_output()\n",
    "        b = b_slider.value\n",
    "        y = y_slider.value\n",
    "        n = n_slider.value\n",
    "        S = S_slider.value\n",
    "        Q = Q_slider.value\n",
    "        gamma = gamma_slider.value\n",
    "        v_min = v_min_slider.value\n",
    "        v_max = v_max_slider.value\n",
    "        m = m_slider.value\n",
    "        f = f_slider.value\n",
    "\n",
    "        A = b * y\n",
    "        P = b + 2 * y\n",
    "        R = A / P\n",
    "\n",
    "        print(f\"📐 Cross-sectional Area: {A:.2f} m²\")\n",
    "        print(f\"📏 Hydraulic Radius: {R:.2f} m\")\n",
    "\n",
    "        if channel_type.value == \"Rigid\":\n",
    "            print(f\"\\n🧱 Rigid Channel Design ({flow_type.value})\")\n",
    "            V = mannings(n=n, A=A, R=R, S=S)\n",
    "            print(f\"🔄 Manning's Velocity: {V:.2f} m/s\")\n",
    "            Q_calc = V * A\n",
    "            print(f\"💧 Discharge: {Q_calc:.2f} m³/s\")\n",
    "\n",
    "            if flow_type.value == \"Sediment-Laden\":\n",
    "                print(f\"\\n🧪 Tractive Stress Analysis\")\n",
    "                tau = tractive_stress(gamma, R, S)\n",
    "                print(f\"🧲 Tractive Stress: {tau:.2f} N/m²\")\n",
    "                if V < v_min:\n",
    "                    print(\"⚠️ Velocity too low — risk of siltation.\")\n",
    "                elif V > v_max:\n",
    "                    print(\"⚠️ Velocity too high — risk of erosion.\")\n",
    "                else:\n",
    "                    print(\"✅ Velocity within safe range.\")\n",
    "\n",
    "        elif channel_type.value == \"Mobile\":\n",
    "            print(f\"\\n🌿 Mobile Channel Design ({flow_type.value})\")\n",
    "            V_k = kennedy_velocity(m, y)\n",
    "            V_l = lacey_velocity(Q, f)\n",
    "            print(f\"🔄 Kennedy's Velocity: {V_k:.2f} m/s\")\n",
    "            print(f\"🔄 Lacey's Velocity: {V_l:.2f} m/s\")\n",
    "            print(\"✅ Use these velocities to guide channel geometry and stability.\")\n",
    "\n",
    "# Visibility function\n",
    "def update_visibility(change=None):\n",
    "    with output:\n",
    "        clear_output()\n",
    "        base = [channel_type, flow_type, b_slider, y_slider, S_slider, Q_slider]\n",
    "        if channel_type.value == \"Rigid\":\n",
    "            inputs = base + [n_slider]\n",
    "            if flow_type.value == \"Sediment-Laden\":\n",
    "                inputs += [gamma_slider, v_min_slider, v_max_slider]\n",
    "        elif channel_type.value == \"Mobile\":\n",
    "            inputs = base + [m_slider, f_slider]\n",
    "        display(widgets.VBox(inputs + [run_button]))\n",
    "\n",
    "# Link triggers\n",
    "channel_type.observe(update_visibility, names='value')\n",
    "flow_type.observe(update_visibility, names='value')\n",
    "run_button.on_click(run_design)\n",
    "\n",
    "# Initial display\n",
    "update_visibility()\n",
    "display(output)"
   ]
  },
  {
   "cell_type": "markdown",
   "id": "4d3e53db-38dc-4741-8f4d-b41c9cce77f7",
   "metadata": {},
   "source": [
    "## 3. Simulation"
   ]
  },
  {
   "cell_type": "markdown",
   "id": "a69b537f-bdec-4370-b89c-16032011ae52",
   "metadata": {},
   "source": [
    "### 🌊 Interactive Channel Design Method Selector\n",
    "\n",
    "This tool recommends the most suitable **channel design method** based on user-defined parameters such as flow rate, channel type, soil condition, erosion risk, and lining material.\n",
    "\n",
    "---\n",
    "\n",
    "### ✅ What the Code Does\n",
    "\n",
    "| Component              | Description                                                                 |\n",
    "|------------------------|-----------------------------------------------------------------------------|\n",
    "| **Design Recommendation** | Suggests a channel design method based on input conditions              |\n",
    "| **Interactive Inputs** | Sliders and dropdowns for flow rate, channel type, soil type, erosion risk, and lining |\n",
    "| **Decision Logic**     | Uses rule-based conditions to match inputs to appropriate design methods    |\n",
    "| **Output Summary**     | Displays recommended method and input parameters                            |\n",
    "\n",
    "---\n",
    "\n",
    "### ▶️ How It Works\n",
    "\n",
    "- Uses `ipywidgets.interact` to create interactive controls\n",
    "- Applies conditional logic:\n",
    "  - **Permissible Velocity Method** → Sandy soil or high erosion risk\n",
    "  - **Tractive Force Method** → Drainage channels with high erosion risk\n",
    "  - **Manning’s Equation** → Lined channels or low-risk conditions\n",
    "  - **Energy-Based Design** → Flood control with high flow (>100 m³/s)\n",
    "  - **Geomorphic Design** → Natural restoration projects\n",
    "- Displays results dynamically as inputs change\n",
    "\n",
    "---\n",
    "\n",
    "### 📊 How to Interpret the Result\n",
    "\n",
    "| Output Parameter       | Meaning                                                                     |\n",
    "|------------------------|------------------------------------------------------------------------------|\n",
    "| **Recommended Method** | Most suitable design approach for the given scenario                        |\n",
    "| **Input Summary**      | Confirms flow rate, channel type, soil, erosion risk, and lining            |\n",
    "| **Use Case**           | Supports preliminary design decisions and educational exploration           |\n",
    "\n",
    "---\n",
    "\n",
    "### 🧠 Conceptual Insight\n",
    "\n",
    "> This tool helps match **hydraulic design methods** to **site-specific conditions**,  \n",
    "> promoting safer, more efficient, and context-sensitive channel engineering.\n"
   ]
  },
  {
   "cell_type": "code",
   "execution_count": 9,
   "id": "4a47c778-b90a-4094-a92b-1abadc653814",
   "metadata": {},
   "outputs": [
    {
     "data": {
      "application/vnd.jupyter.widget-view+json": {
       "model_id": "1a9dc8c86bbd48f2aab526f55a269d76",
       "version_major": 2,
       "version_minor": 0
      },
      "text/plain": [
       "interactive(children=(FloatSlider(value=50.0, description='Flow Rate (m³/s)', max=500.0, min=1.0, step=5.0), D…"
      ]
     },
     "metadata": {},
     "output_type": "display_data"
    }
   ],
   "source": [
    "import ipywidgets as widgets\n",
    "from ipywidgets import interact\n",
    "from IPython.display import display, clear_output\n",
    "\n",
    "# 📌 Decision logic for selecting channel design method\n",
    "def select_design_method(flow_rate, channel_type, soil_type, erosion_risk, lining):\n",
    "    clear_output(wait=True)\n",
    "\n",
    "    # Decision rules\n",
    "    if channel_type == 'Irrigation':\n",
    "        if soil_type == 'Sandy' or erosion_risk == 'High':\n",
    "            method = \"Permissible Velocity Method\"\n",
    "            reason = \"Sandy soils and high erosion risk require velocity control to prevent channel degradation.\"\n",
    "        elif lining == 'Concrete':\n",
    "            method = \"Manning’s Equation with Lined Channel Assumptions\"\n",
    "            reason = \"Concrete lining allows for efficient flow estimation using Manning’s equation.\"\n",
    "        else:\n",
    "            method = \"Empirical Design Charts (e.g., USBR)\"\n",
    "            reason = \"Empirical charts are suitable for irrigation channels with moderate risk and unlined sections.\"\n",
    "    elif channel_type == 'Drainage':\n",
    "        if erosion_risk == 'High':\n",
    "            method = \"Tractive Force Method\"\n",
    "            reason = \"High erosion risk in drainage channels requires shear stress control to maintain stability.\"\n",
    "        else:\n",
    "            method = \"Manning’s Equation with Freeboard Consideration\"\n",
    "            reason = \"Moderate risk allows for standard hydraulic design with added freeboard for safety.\"\n",
    "    elif channel_type == 'Flood Control':\n",
    "        if flow_rate > 100:\n",
    "            method = \"Energy-Based Design with Backwater Analysis\"\n",
    "            reason = \"High flows demand energy-grade line analysis to prevent flooding and ensure conveyance.\"\n",
    "        else:\n",
    "            method = \"Manning’s Equation with Safety Factor\"\n",
    "            reason = \"Lower flows can be managed with conventional design and conservative safety margins.\"\n",
    "    elif channel_type == 'Natural Restoration':\n",
    "        method = \"Geomorphic Channel Design / Rosgen Classification\"\n",
    "        reason = \"Restoration projects aim to mimic natural morphology and support ecological function.\"\n",
    "    else:\n",
    "        method = \"Consult regional standards or hydraulic modeling tools\"\n",
    "        reason = \"Input combination is outside standard rules; refer to local guidelines or modeling software.\"\n",
    "\n",
    "    # 📋 Output\n",
    "    print(f\"🌊 Recommended Design Method: {method}\")\n",
    "    print(f\"📌 Based on:\")\n",
    "    print(f\" - Flow Rate: {flow_rate} m³/s\")\n",
    "    print(f\" - Channel Type: {channel_type}\")\n",
    "    print(f\" - Soil Type: {soil_type}\")\n",
    "    print(f\" - Erosion Risk: {erosion_risk}\")\n",
    "    print(f\" - Lining Material: {lining}\")\n",
    "    print(\"\\n🔍 Interpretation:\")\n",
    "    print(f\" - {reason}\")\n",
    "\n",
    "# 🎛️ Interactive controls\n",
    "interact(select_design_method,\n",
    "         flow_rate=widgets.FloatSlider(value=50, min=1, max=500, step=5, description='Flow Rate (m³/s)'),\n",
    "         channel_type=widgets.Dropdown(options=['Irrigation', 'Drainage', 'Flood Control', 'Natural Restoration'], description='Channel Type'),\n",
    "         soil_type=widgets.Dropdown(options=['Clay', 'Silt', 'Sandy', 'Gravel'], description='Soil Type'),\n",
    "         erosion_risk=widgets.Dropdown(options=['Low', 'Moderate', 'High'], description='Erosion Risk'),\n",
    "         lining=widgets.Dropdown(options=['None', 'Concrete', 'Riprap', 'Vegetated'], description='Lining Material'));"
   ]
  },
  {
   "cell_type": "markdown",
   "id": "aaa8997d-2d3d-40b4-bf69-5a66b76eda95",
   "metadata": {},
   "source": [
    "## 4. Self-Assessment"
   ]
  },
  {
   "cell_type": "markdown",
   "id": "57bdf4e6-71c1-4b49-aeb1-9352c99a5ee3",
   "metadata": {},
   "source": [
    "### 🧠 Canal Design Knowledge Check\n",
    "\n",
    "This section includes quiz-style questions to test understanding, conceptual questions to deepen insight, and reflective prompts to encourage design thinking.\n",
    "\n",
    "---\n",
    "\n",
    "### ❓ Quiz Questions\n",
    "\n",
    "### Multiple Choice\n",
    "\n",
    "1. **Which parameter most directly affects tractive stress in a channel?**  \n",
    "   A. Flow depth  \n",
    "   B. Slope  \n",
    "   C. Bottom width  \n",
    "   D. Manning’s n  \n",
    "   **Answer:** B\n",
    "\n",
    "2. **Kennedy’s method is primarily used for:**  \n",
    "   A. Concrete-lined channels  \n",
    "   B. Sediment-free flow  \n",
    "   C. Mobile channels in alluvium  \n",
    "   D. Urban stormwater drains  \n",
    "   **Answer:** C\n",
    "\n",
    "3. **Lacey’s regime velocity increases with:**  \n",
    "   A. Decreasing discharge  \n",
    "   B. Increasing silt factor  \n",
    "   C. Increasing slope  \n",
    "   D. Increasing discharge  \n",
    "   **Answer:** D\n",
    "\n",
    "### True/False\n",
    "\n",
    "4. **Manning’s equation assumes uniform flow.**  \n",
    "   **Answer:** True\n",
    "\n",
    "5. **Tractive stress is higher in channels with steep slopes.**  \n",
    "   **Answer:** True\n",
    "\n",
    "6. **Kennedy’s method accounts for sediment size via the silt factor.**  \n",
    "   **Answer:** True\n",
    "\n",
    "---\n",
    "\n",
    "### 📘 Conceptual Questions\n",
    "\n",
    "1. Why is hydraulic radius a more reliable indicator of flow efficiency than flow depth alone?\n",
    "\n",
    "2. How does sediment-laden flow influence the design constraints of a rigid channel?\n",
    "\n",
    "3. What are the limitations of using empirical methods like Kennedy’s and Lacey’s for mobile channel design?\n",
    "\n",
    "4. Why is it important to define both minimum and maximum allowable velocities in sediment-laden flow?\n",
    "\n",
    "5. How does Manning’s roughness coefficient vary with channel lining and vegetation?\n",
    "\n",
    "---\n",
    "\n",
    "### 🔍 Reflective Questions\n",
    "\n",
    "1. If you were designing a canal in a mountainous region with high sediment load, which method would you prioritize and why?\n",
    "\n",
    "2. How would your design change if the goal was to minimize maintenance rather than maximize hydraulic efficiency?\n",
    "\n",
    "3. What trade-offs exist between using a concrete-lined channel versus a self-formed mobile channel?\n",
    "\n",
    "4. How could climate change (e.g., increased flow variability) affect the assumptions behind uniform flow design?\n",
    "\n",
    "5. What additional parameters or models would you include to make this tool more robust for real-world applications?\n",
    "\n",
    "---"
   ]
  },
  {
   "cell_type": "code",
   "execution_count": null,
   "id": "a7d5baaa-d6a8-4063-a54e-dd608a83943d",
   "metadata": {},
   "outputs": [],
   "source": []
  }
 ],
 "metadata": {
  "kernelspec": {
   "display_name": "Python [conda env:base] *",
   "language": "python",
   "name": "conda-base-py"
  },
  "language_info": {
   "codemirror_mode": {
    "name": "ipython",
    "version": 3
   },
   "file_extension": ".py",
   "mimetype": "text/x-python",
   "name": "python",
   "nbconvert_exporter": "python",
   "pygments_lexer": "ipython3",
   "version": "3.12.7"
  },
  "widgets": {
   "application/vnd.jupyter.widget-state+json": {
    "state": {
     "03b70aca569f49e89073f1c904610cb5": {
      "model_module": "@jupyter-widgets/controls",
      "model_module_version": "2.0.0",
      "model_name": "SliderStyleModel",
      "state": {
       "description_width": ""
      }
     },
     "053d71535e5046f287916930247c2a24": {
      "model_module": "@jupyter-widgets/controls",
      "model_module_version": "2.0.0",
      "model_name": "VBoxModel",
      "state": {
       "_dom_classes": [
        "widget-interact"
       ],
       "children": [
        "IPY_MODEL_4630fcaeabd24712959eecacc87b033e",
        "IPY_MODEL_9e3fe2f0513c475a88bb345b2a8ab228",
        "IPY_MODEL_ca3de2370636463b8548308b80c844eb",
        "IPY_MODEL_3224f574acbd46d093fa18288e9b8b14",
        "IPY_MODEL_8ee1a26544b54c84833807ca445287bd",
        "IPY_MODEL_a3fe2d415fd749bdbb22beb19be499c5"
       ],
       "layout": "IPY_MODEL_99eecc674d8345fc9a408c8ea11618cf"
      }
     },
     "09da23b0a3164925aa8bdfe03fdc9b9e": {
      "model_module": "@jupyter-widgets/controls",
      "model_module_version": "2.0.0",
      "model_name": "FloatSliderModel",
      "state": {
       "behavior": "drag-tap",
       "description": "Unit Weight (N/m³)",
       "layout": "IPY_MODEL_b420254908244c8aac7b8f51a3bd018c",
       "max": 10000,
       "min": 9000,
       "step": 100,
       "style": "IPY_MODEL_a99f8289ffaa4ce8b1e28bc7da391778",
       "value": 9800
      }
     },
     "0ce65471f6f947d79e901f26251c504a": {
      "model_module": "@jupyter-widgets/controls",
      "model_module_version": "2.0.0",
      "model_name": "FloatSliderModel",
      "state": {
       "behavior": "drag-tap",
       "description": "Lacey's f",
       "layout": "IPY_MODEL_db96cf1db1ec4c528c69147cd8a0fc73",
       "max": 2.5,
       "min": 0.5,
       "step": 0.1,
       "style": "IPY_MODEL_7285230f6365405ea6625151e43df622",
       "value": 1
      }
     },
     "117148c052a441848b75c3e77982d24e": {
      "model_module": "@jupyter-widgets/controls",
      "model_module_version": "2.0.0",
      "model_name": "DescriptionStyleModel",
      "state": {
       "description_width": ""
      }
     },
     "1443c8f235334781a084ed5f26015632": {
      "model_module": "@jupyter-widgets/base",
      "model_module_version": "2.0.0",
      "model_name": "LayoutModel",
      "state": {}
     },
     "1a9dc8c86bbd48f2aab526f55a269d76": {
      "model_module": "@jupyter-widgets/controls",
      "model_module_version": "2.0.0",
      "model_name": "VBoxModel",
      "state": {
       "_dom_classes": [
        "widget-interact"
       ],
       "children": [
        "IPY_MODEL_f36ac40562954801b9415c91cfca4a93",
        "IPY_MODEL_68683ac66f0846a899d8fb048567a8da",
        "IPY_MODEL_1bddc975545840b59529e76b28ced3ac",
        "IPY_MODEL_99ab3c68644346d1974d5a0451bd64f1",
        "IPY_MODEL_a80344be5ad04c3ca5181ee9916a474d",
        "IPY_MODEL_a8d9b003038a4545a254bf2256ad05a2"
       ],
       "layout": "IPY_MODEL_9698b0fecc2c453cbb26d7d178b879e9"
      }
     },
     "1b6267e2f5844cf495091fa74e55392b": {
      "model_module": "@jupyter-widgets/controls",
      "model_module_version": "2.0.0",
      "model_name": "VBoxModel",
      "state": {
       "_dom_classes": [
        "widget-interact"
       ],
       "children": [
        "IPY_MODEL_4e07cdecb0d84f5c92b5942b9bae7490",
        "IPY_MODEL_69df7336bed5462db05e0075e66e9360",
        "IPY_MODEL_5cd5361feb074896a7976aebaf031f79",
        "IPY_MODEL_46c813e82c004c129914bda59605a546",
        "IPY_MODEL_86da5ae468a0464b8febf4f96a4c3956",
        "IPY_MODEL_e7c4d0373b5d4b96b8853e391a432a99"
       ],
       "layout": "IPY_MODEL_98fdae79642b4130ab61c2d414bf1824"
      }
     },
     "1bddc975545840b59529e76b28ced3ac": {
      "model_module": "@jupyter-widgets/controls",
      "model_module_version": "2.0.0",
      "model_name": "DropdownModel",
      "state": {
       "_options_labels": [
        "Clay",
        "Silt",
        "Sandy",
        "Gravel"
       ],
       "description": "Soil Type",
       "index": 0,
       "layout": "IPY_MODEL_395d77ed0191494193faf09f130366ea",
       "style": "IPY_MODEL_2ce277f9c0524a679b28d43f886859e1"
      }
     },
     "216fdff7b0e64a66be853aa776bb8a74": {
      "model_module": "@jupyter-widgets/base",
      "model_module_version": "2.0.0",
      "model_name": "LayoutModel",
      "state": {}
     },
     "22d510423bab4a48abeb25ed179ceb06": {
      "model_module": "@jupyter-widgets/controls",
      "model_module_version": "2.0.0",
      "model_name": "SliderStyleModel",
      "state": {
       "description_width": ""
      }
     },
     "26bed926ab5b4631961558b90c76923b": {
      "model_module": "@jupyter-widgets/output",
      "model_module_version": "1.0.0",
      "model_name": "OutputModel",
      "state": {
       "layout": "IPY_MODEL_d7f62f610b664b6aaac36edfd6c7744f",
       "outputs": [
        {
         "data": {
          "application/vnd.jupyter.widget-view+json": {
           "model_id": "7b5be322680a4dff830b59bd282ed618",
           "version_major": 2,
           "version_minor": 0
          },
          "text/plain": "VBox(children=(Dropdown(description='Channel Type', options=('Rigid', 'Mobile'), value='Rigid'), Dropdown(desc…"
         },
         "metadata": {},
         "output_type": "display_data"
        }
       ]
      }
     },
     "2ce277f9c0524a679b28d43f886859e1": {
      "model_module": "@jupyter-widgets/controls",
      "model_module_version": "2.0.0",
      "model_name": "DescriptionStyleModel",
      "state": {
       "description_width": ""
      }
     },
     "2f9773646a7e4819bafa775cdda1516f": {
      "model_module": "@jupyter-widgets/base",
      "model_module_version": "2.0.0",
      "model_name": "LayoutModel",
      "state": {}
     },
     "3224f574acbd46d093fa18288e9b8b14": {
      "model_module": "@jupyter-widgets/controls",
      "model_module_version": "2.0.0",
      "model_name": "DropdownModel",
      "state": {
       "_options_labels": [
        "Low",
        "Moderate",
        "High"
       ],
       "description": "Erosion Risk",
       "index": 0,
       "layout": "IPY_MODEL_b7dcd6efe7784ec0b9e3fd092b5644f4",
       "style": "IPY_MODEL_6eb921c1becb40208f386da0b54a0a06"
      }
     },
     "3258b78a169543008aa8a2988197a987": {
      "model_module": "@jupyter-widgets/base",
      "model_module_version": "2.0.0",
      "model_name": "LayoutModel",
      "state": {}
     },
     "336a2fd08f3e405a9351e429bf2c06b0": {
      "model_module": "@jupyter-widgets/controls",
      "model_module_version": "2.0.0",
      "model_name": "FloatSliderModel",
      "state": {
       "behavior": "drag-tap",
       "description": "Slope (m/m)",
       "layout": "IPY_MODEL_89e6407b922f4af1a4554ad7634a69bc",
       "max": 0.01,
       "min": 0.0001,
       "step": 0.0001,
       "style": "IPY_MODEL_5dcdafb0a41c45f3ae8202f40e962569",
       "value": 0.001
      }
     },
     "3423ea640da44afea1dc89a6a7c53493": {
      "model_module": "@jupyter-widgets/base",
      "model_module_version": "2.0.0",
      "model_name": "LayoutModel",
      "state": {}
     },
     "342a5e0ec9a44c578548337c698d8e0d": {
      "model_module": "@jupyter-widgets/base",
      "model_module_version": "2.0.0",
      "model_name": "LayoutModel",
      "state": {}
     },
     "35fdb5c5bfb6496eb6468e290f1a16c7": {
      "model_module": "@jupyter-widgets/base",
      "model_module_version": "2.0.0",
      "model_name": "LayoutModel",
      "state": {}
     },
     "370b26ffa7f94846acb4f864e74cdd81": {
      "model_module": "@jupyter-widgets/controls",
      "model_module_version": "2.0.0",
      "model_name": "FloatSliderModel",
      "state": {
       "behavior": "drag-tap",
       "description": "Discharge (m³/s)",
       "layout": "IPY_MODEL_aeb522537daa47b28720c79b4474e323",
       "max": 50,
       "min": 1,
       "style": "IPY_MODEL_bac0c2a424fa4dd6896df07bf49e5859",
       "value": 5
      }
     },
     "37585859db4d4a28aa23e10f7ba651c2": {
      "model_module": "@jupyter-widgets/controls",
      "model_module_version": "2.0.0",
      "model_name": "DropdownModel",
      "state": {
       "_options_labels": [
        "Sediment-Free",
        "Sediment-Laden"
       ],
       "description": "Flow Type",
       "index": 0,
       "layout": "IPY_MODEL_216fdff7b0e64a66be853aa776bb8a74",
       "style": "IPY_MODEL_8d3c2723a83c450397d52cd5d34c3b5f"
      }
     },
     "390b17466159484dac5873ce8c288352": {
      "model_module": "@jupyter-widgets/base",
      "model_module_version": "2.0.0",
      "model_name": "LayoutModel",
      "state": {}
     },
     "395d77ed0191494193faf09f130366ea": {
      "model_module": "@jupyter-widgets/base",
      "model_module_version": "2.0.0",
      "model_name": "LayoutModel",
      "state": {}
     },
     "3df6b752556d406ea6d3dfbacd469324": {
      "model_module": "@jupyter-widgets/controls",
      "model_module_version": "2.0.0",
      "model_name": "SliderStyleModel",
      "state": {
       "description_width": ""
      }
     },
     "412feec7f213428fb03fc9bae2087e7a": {
      "model_module": "@jupyter-widgets/controls",
      "model_module_version": "2.0.0",
      "model_name": "FloatSliderModel",
      "state": {
       "behavior": "drag-tap",
       "description": "Unit Weight (N/m³)",
       "layout": "IPY_MODEL_8d963244a30c40cd862d47d8c2e66d24",
       "max": 10000,
       "min": 9000,
       "step": 100,
       "style": "IPY_MODEL_7db7e8c7857a408586a979df19bd682b",
       "value": 9800
      }
     },
     "424e62c06bf0490fb6139c6e556e8385": {
      "model_module": "@jupyter-widgets/base",
      "model_module_version": "2.0.0",
      "model_name": "LayoutModel",
      "state": {}
     },
     "43356b9d95654a1bb6748d2ab8b06b8e": {
      "model_module": "@jupyter-widgets/controls",
      "model_module_version": "2.0.0",
      "model_name": "FloatSliderModel",
      "state": {
       "behavior": "drag-tap",
       "description": "Slope (m/m)",
       "layout": "IPY_MODEL_bd0cb06b16334d71889eb2699eae1a68",
       "max": 0.01,
       "min": 0.0001,
       "step": 0.0001,
       "style": "IPY_MODEL_93f9efdf4a82442d9d146fbd386719d4",
       "value": 0.001
      }
     },
     "43ee3ddb36fe4f8f8636def04bd5bdad": {
      "model_module": "@jupyter-widgets/base",
      "model_module_version": "2.0.0",
      "model_name": "LayoutModel",
      "state": {}
     },
     "446eaaef9f114d1b8797b0d9c8d8600d": {
      "model_module": "@jupyter-widgets/controls",
      "model_module_version": "2.0.0",
      "model_name": "DescriptionStyleModel",
      "state": {
       "description_width": ""
      }
     },
     "4630fcaeabd24712959eecacc87b033e": {
      "model_module": "@jupyter-widgets/controls",
      "model_module_version": "2.0.0",
      "model_name": "FloatSliderModel",
      "state": {
       "behavior": "drag-tap",
       "description": "Flow Rate (m³/s)",
       "layout": "IPY_MODEL_527b71c9e95b488db189c726a98147a9",
       "max": 500,
       "min": 1,
       "step": 5,
       "style": "IPY_MODEL_a3a65438430748f79fc34d272e4591e2",
       "value": 50.99999999999999
      }
     },
     "46c813e82c004c129914bda59605a546": {
      "model_module": "@jupyter-widgets/controls",
      "model_module_version": "2.0.0",
      "model_name": "DropdownModel",
      "state": {
       "_options_labels": [
        "Low",
        "Moderate",
        "High"
       ],
       "description": "Erosion Risk",
       "index": 0,
       "layout": "IPY_MODEL_3258b78a169543008aa8a2988197a987",
       "style": "IPY_MODEL_446eaaef9f114d1b8797b0d9c8d8600d"
      }
     },
     "4e07cdecb0d84f5c92b5942b9bae7490": {
      "model_module": "@jupyter-widgets/controls",
      "model_module_version": "2.0.0",
      "model_name": "FloatSliderModel",
      "state": {
       "behavior": "drag-tap",
       "description": "Flow Rate (m³/s)",
       "layout": "IPY_MODEL_c9b8e457c33943a1a5c7242978434e2f",
       "max": 500,
       "min": 1,
       "step": 5,
       "style": "IPY_MODEL_9f7b10365abf4194824f9f7514a086e3",
       "value": 50.99999999999999
      }
     },
     "51bda8b8279c4fde90c63afe53e38021": {
      "model_module": "@jupyter-widgets/controls",
      "model_module_version": "2.0.0",
      "model_name": "DescriptionStyleModel",
      "state": {
       "description_width": ""
      }
     },
     "52497c4ec71340f3a1a9d77777c94f69": {
      "model_module": "@jupyter-widgets/controls",
      "model_module_version": "2.0.0",
      "model_name": "SliderStyleModel",
      "state": {
       "description_width": ""
      }
     },
     "527b71c9e95b488db189c726a98147a9": {
      "model_module": "@jupyter-widgets/base",
      "model_module_version": "2.0.0",
      "model_name": "LayoutModel",
      "state": {}
     },
     "546ce876b7d14ce9914564291298f8e4": {
      "model_module": "@jupyter-widgets/controls",
      "model_module_version": "2.0.0",
      "model_name": "SliderStyleModel",
      "state": {
       "description_width": ""
      }
     },
     "57d2129772794fba9b0630cab56fdb73": {
      "model_module": "@jupyter-widgets/controls",
      "model_module_version": "2.0.0",
      "model_name": "FloatSliderModel",
      "state": {
       "behavior": "drag-tap",
       "description": "Lacey's f",
       "layout": "IPY_MODEL_988895370c774e4d9c466bcdd040b960",
       "max": 2.5,
       "min": 0.5,
       "step": 0.1,
       "style": "IPY_MODEL_d8fb686cc99b4f22acc7cb96932dcfbb",
       "value": 1
      }
     },
     "58a4818ff845407e95e28db15549d95b": {
      "model_module": "@jupyter-widgets/base",
      "model_module_version": "2.0.0",
      "model_name": "LayoutModel",
      "state": {}
     },
     "5b830045c63c441da0d10e56b6a2bf2e": {
      "model_module": "@jupyter-widgets/base",
      "model_module_version": "2.0.0",
      "model_name": "LayoutModel",
      "state": {}
     },
     "5cb4ceadfc2643cbaecf5b835694af71": {
      "model_module": "@jupyter-widgets/controls",
      "model_module_version": "2.0.0",
      "model_name": "ButtonStyleModel",
      "state": {
       "font_family": null,
       "font_size": null,
       "font_style": null,
       "font_variant": null,
       "font_weight": null,
       "text_color": null,
       "text_decoration": null
      }
     },
     "5cd5361feb074896a7976aebaf031f79": {
      "model_module": "@jupyter-widgets/controls",
      "model_module_version": "2.0.0",
      "model_name": "DropdownModel",
      "state": {
       "_options_labels": [
        "Clay",
        "Silt",
        "Sandy",
        "Gravel"
       ],
       "description": "Soil Type",
       "index": 0,
       "layout": "IPY_MODEL_9770474c978248eb984c89b16bb12edd",
       "style": "IPY_MODEL_6131b4e56d31425ba24fcff5c4f1d089"
      }
     },
     "5dcdafb0a41c45f3ae8202f40e962569": {
      "model_module": "@jupyter-widgets/controls",
      "model_module_version": "2.0.0",
      "model_name": "SliderStyleModel",
      "state": {
       "description_width": ""
      }
     },
     "6131b4e56d31425ba24fcff5c4f1d089": {
      "model_module": "@jupyter-widgets/controls",
      "model_module_version": "2.0.0",
      "model_name": "DescriptionStyleModel",
      "state": {
       "description_width": ""
      }
     },
     "62ff5f852cbc4518b3120c4a394d7293": {
      "model_module": "@jupyter-widgets/controls",
      "model_module_version": "2.0.0",
      "model_name": "FloatSliderModel",
      "state": {
       "behavior": "drag-tap",
       "description": "Kennedy's m",
       "layout": "IPY_MODEL_3423ea640da44afea1dc89a6a7c53493",
       "max": 2,
       "min": 0.5,
       "step": 0.1,
       "style": "IPY_MODEL_683788cc10ce47edae57da4be37255e0",
       "value": 1
      }
     },
     "64322be1de304c02a5b44327fb9cd42f": {
      "model_module": "@jupyter-widgets/base",
      "model_module_version": "2.0.0",
      "model_name": "LayoutModel",
      "state": {}
     },
     "66af552be1454996a4e13fe3aa2bb0cc": {
      "model_module": "@jupyter-widgets/controls",
      "model_module_version": "2.0.0",
      "model_name": "FloatSliderModel",
      "state": {
       "behavior": "drag-tap",
       "description": "Flow Depth (m)",
       "layout": "IPY_MODEL_d9dc3c41fc3c487ea96042a0a554f6c9",
       "max": 5,
       "min": 0.5,
       "step": 0.1,
       "style": "IPY_MODEL_bf15bea61b044e08b95117f7d1291d77",
       "value": 1
      }
     },
     "67aa637fa7f14f4b81c9438bcfa1962e": {
      "model_module": "@jupyter-widgets/base",
      "model_module_version": "2.0.0",
      "model_name": "LayoutModel",
      "state": {}
     },
     "683788cc10ce47edae57da4be37255e0": {
      "model_module": "@jupyter-widgets/controls",
      "model_module_version": "2.0.0",
      "model_name": "SliderStyleModel",
      "state": {
       "description_width": ""
      }
     },
     "685e3faf33ab41e9b8d8e51ce3ca44fe": {
      "model_module": "@jupyter-widgets/controls",
      "model_module_version": "2.0.0",
      "model_name": "FloatSliderModel",
      "state": {
       "behavior": "drag-tap",
       "description": "Min Velocity (m/s)",
       "layout": "IPY_MODEL_ca600c7db31e45d1a69c7252191690a7",
       "max": 1,
       "min": 0.2,
       "step": 0.05,
       "style": "IPY_MODEL_d87554d7fe374f9f9e6860da0cf113c6",
       "value": 0.3
      }
     },
     "68683ac66f0846a899d8fb048567a8da": {
      "model_module": "@jupyter-widgets/controls",
      "model_module_version": "2.0.0",
      "model_name": "DropdownModel",
      "state": {
       "_options_labels": [
        "Irrigation",
        "Drainage",
        "Flood Control",
        "Natural Restoration"
       ],
       "description": "Channel Type",
       "index": 0,
       "layout": "IPY_MODEL_99e2561664cf4157abe49582b32ce1a7",
       "style": "IPY_MODEL_a0330477d0e6413981fae6d53901bcb6"
      }
     },
     "693ebc37532544cda51f0ecb55961d26": {
      "model_module": "@jupyter-widgets/base",
      "model_module_version": "2.0.0",
      "model_name": "LayoutModel",
      "state": {}
     },
     "69df7336bed5462db05e0075e66e9360": {
      "model_module": "@jupyter-widgets/controls",
      "model_module_version": "2.0.0",
      "model_name": "DropdownModel",
      "state": {
       "_options_labels": [
        "Irrigation",
        "Drainage",
        "Flood Control",
        "Natural Restoration"
       ],
       "description": "Channel Type",
       "index": 0,
       "layout": "IPY_MODEL_a1cdfee937994c1c81cf0a090f812ca7",
       "style": "IPY_MODEL_cb4cd989259042dcb6ba263f844b6fef"
      }
     },
     "6e6d23676faf4c6fbc86450efbfd3fdd": {
      "model_module": "@jupyter-widgets/controls",
      "model_module_version": "2.0.0",
      "model_name": "DescriptionStyleModel",
      "state": {
       "description_width": ""
      }
     },
     "6eb921c1becb40208f386da0b54a0a06": {
      "model_module": "@jupyter-widgets/controls",
      "model_module_version": "2.0.0",
      "model_name": "DescriptionStyleModel",
      "state": {
       "description_width": ""
      }
     },
     "6efea66c79f145288037b2e775015729": {
      "model_module": "@jupyter-widgets/base",
      "model_module_version": "2.0.0",
      "model_name": "LayoutModel",
      "state": {}
     },
     "6f019050758549dbb3505b85d152eba7": {
      "model_module": "@jupyter-widgets/controls",
      "model_module_version": "2.0.0",
      "model_name": "DescriptionStyleModel",
      "state": {
       "description_width": ""
      }
     },
     "6f96cca059ae47c7a0bd67f8c746897c": {
      "model_module": "@jupyter-widgets/controls",
      "model_module_version": "2.0.0",
      "model_name": "SliderStyleModel",
      "state": {
       "description_width": ""
      }
     },
     "70f9b6fb31724584954613de46539950": {
      "model_module": "@jupyter-widgets/controls",
      "model_module_version": "2.0.0",
      "model_name": "SliderStyleModel",
      "state": {
       "description_width": ""
      }
     },
     "7285230f6365405ea6625151e43df622": {
      "model_module": "@jupyter-widgets/controls",
      "model_module_version": "2.0.0",
      "model_name": "SliderStyleModel",
      "state": {
       "description_width": ""
      }
     },
     "77164338f97041a398e1989d0add52c0": {
      "model_module": "@jupyter-widgets/controls",
      "model_module_version": "2.0.0",
      "model_name": "DescriptionStyleModel",
      "state": {
       "description_width": ""
      }
     },
     "792a2cf9fcaf4744a26bb46908e35e8a": {
      "model_module": "@jupyter-widgets/controls",
      "model_module_version": "2.0.0",
      "model_name": "DescriptionStyleModel",
      "state": {
       "description_width": ""
      }
     },
     "7971387b729741ebbdca158f2949342b": {
      "model_module": "@jupyter-widgets/base",
      "model_module_version": "2.0.0",
      "model_name": "LayoutModel",
      "state": {}
     },
     "7a1adbb267644c5484f41688f3ae9d28": {
      "model_module": "@jupyter-widgets/controls",
      "model_module_version": "2.0.0",
      "model_name": "FloatSliderModel",
      "state": {
       "behavior": "drag-tap",
       "description": "Bottom Width (m)",
       "layout": "IPY_MODEL_a78bcec7ef964436b5a915ec0ce56c38",
       "max": 10,
       "min": 1,
       "step": 0.5,
       "style": "IPY_MODEL_546ce876b7d14ce9914564291298f8e4",
       "value": 3
      }
     },
     "7abeeadaabaf4cf8b317f8df0793dd13": {
      "model_module": "@jupyter-widgets/controls",
      "model_module_version": "2.0.0",
      "model_name": "ButtonStyleModel",
      "state": {
       "font_family": null,
       "font_size": null,
       "font_style": null,
       "font_variant": null,
       "font_weight": null,
       "text_color": null,
       "text_decoration": null
      }
     },
     "7b5be322680a4dff830b59bd282ed618": {
      "model_module": "@jupyter-widgets/controls",
      "model_module_version": "2.0.0",
      "model_name": "VBoxModel",
      "state": {
       "children": [
        "IPY_MODEL_b4aafad92b3c4f06b13164590dd98ca3",
        "IPY_MODEL_f4b3263754564aa591fced8ff2aa9507",
        "IPY_MODEL_820ed204274a484d887df6270bc206e2",
        "IPY_MODEL_978ff879ccc5427da106015d5b53ca09",
        "IPY_MODEL_43356b9d95654a1bb6748d2ab8b06b8e",
        "IPY_MODEL_ec004d63dfd447b5953b275d8fdebaab",
        "IPY_MODEL_b457667631d94d0ab87c6c424f985c60",
        "IPY_MODEL_afb959c01f454f7bb48e4c1c0d511d2d"
       ],
       "layout": "IPY_MODEL_5b830045c63c441da0d10e56b6a2bf2e"
      }
     },
     "7db7e8c7857a408586a979df19bd682b": {
      "model_module": "@jupyter-widgets/controls",
      "model_module_version": "2.0.0",
      "model_name": "SliderStyleModel",
      "state": {
       "description_width": ""
      }
     },
     "820ed204274a484d887df6270bc206e2": {
      "model_module": "@jupyter-widgets/controls",
      "model_module_version": "2.0.0",
      "model_name": "FloatSliderModel",
      "state": {
       "behavior": "drag-tap",
       "description": "Bottom Width (m)",
       "layout": "IPY_MODEL_424e62c06bf0490fb6139c6e556e8385",
       "max": 10,
       "min": 1,
       "step": 0.5,
       "style": "IPY_MODEL_e83bb6fb53b74e1396c7ceec6d3e2a80",
       "value": 3
      }
     },
     "82c320a4d67948e4a5cdd7c3a09fc98f": {
      "model_module": "@jupyter-widgets/controls",
      "model_module_version": "2.0.0",
      "model_name": "FloatSliderModel",
      "state": {
       "behavior": "drag-tap",
       "description": "Max Velocity (m/s)",
       "layout": "IPY_MODEL_43ee3ddb36fe4f8f8636def04bd5bdad",
       "max": 3,
       "min": 1,
       "step": 0.1,
       "style": "IPY_MODEL_6f96cca059ae47c7a0bd67f8c746897c",
       "value": 2
      }
     },
     "82fa1911e4fc445c8c12e6d82cef056f": {
      "model_module": "@jupyter-widgets/base",
      "model_module_version": "2.0.0",
      "model_name": "LayoutModel",
      "state": {}
     },
     "86da5ae468a0464b8febf4f96a4c3956": {
      "model_module": "@jupyter-widgets/controls",
      "model_module_version": "2.0.0",
      "model_name": "DropdownModel",
      "state": {
       "_options_labels": [
        "None",
        "Concrete",
        "Riprap",
        "Vegetated"
       ],
       "description": "Lining Material",
       "index": 0,
       "layout": "IPY_MODEL_acb71dbc33b14891b89354e2ed380224",
       "style": "IPY_MODEL_6e6d23676faf4c6fbc86450efbfd3fdd"
      }
     },
     "89e6407b922f4af1a4554ad7634a69bc": {
      "model_module": "@jupyter-widgets/base",
      "model_module_version": "2.0.0",
      "model_name": "LayoutModel",
      "state": {}
     },
     "8bac9b0f263b4f4ba5671e31601e3616": {
      "model_module": "@jupyter-widgets/controls",
      "model_module_version": "2.0.0",
      "model_name": "FloatSliderModel",
      "state": {
       "behavior": "drag-tap",
       "description": "Kennedy's m",
       "layout": "IPY_MODEL_6efea66c79f145288037b2e775015729",
       "max": 2,
       "min": 0.5,
       "step": 0.1,
       "style": "IPY_MODEL_03b70aca569f49e89073f1c904610cb5",
       "value": 1
      }
     },
     "8d3c2723a83c450397d52cd5d34c3b5f": {
      "model_module": "@jupyter-widgets/controls",
      "model_module_version": "2.0.0",
      "model_name": "DescriptionStyleModel",
      "state": {
       "description_width": ""
      }
     },
     "8d963244a30c40cd862d47d8c2e66d24": {
      "model_module": "@jupyter-widgets/base",
      "model_module_version": "2.0.0",
      "model_name": "LayoutModel",
      "state": {}
     },
     "8db18bd02f0f44f29e5c2ed480b12670": {
      "model_module": "@jupyter-widgets/controls",
      "model_module_version": "2.0.0",
      "model_name": "DescriptionStyleModel",
      "state": {
       "description_width": ""
      }
     },
     "8ee1a26544b54c84833807ca445287bd": {
      "model_module": "@jupyter-widgets/controls",
      "model_module_version": "2.0.0",
      "model_name": "DropdownModel",
      "state": {
       "_options_labels": [
        "None",
        "Concrete",
        "Riprap",
        "Vegetated"
       ],
       "description": "Lining Material",
       "index": 0,
       "layout": "IPY_MODEL_9bde488ea86f4dc1b92bdc4e9fc46aae",
       "style": "IPY_MODEL_117148c052a441848b75c3e77982d24e"
      }
     },
     "93f9efdf4a82442d9d146fbd386719d4": {
      "model_module": "@jupyter-widgets/controls",
      "model_module_version": "2.0.0",
      "model_name": "SliderStyleModel",
      "state": {
       "description_width": ""
      }
     },
     "9698b0fecc2c453cbb26d7d178b879e9": {
      "model_module": "@jupyter-widgets/base",
      "model_module_version": "2.0.0",
      "model_name": "LayoutModel",
      "state": {}
     },
     "9770474c978248eb984c89b16bb12edd": {
      "model_module": "@jupyter-widgets/base",
      "model_module_version": "2.0.0",
      "model_name": "LayoutModel",
      "state": {}
     },
     "978ff879ccc5427da106015d5b53ca09": {
      "model_module": "@jupyter-widgets/controls",
      "model_module_version": "2.0.0",
      "model_name": "FloatSliderModel",
      "state": {
       "behavior": "drag-tap",
       "description": "Flow Depth (m)",
       "layout": "IPY_MODEL_fa6de54fbb54451db6c88a7c3207d39f",
       "max": 5,
       "min": 0.5,
       "step": 0.1,
       "style": "IPY_MODEL_9f373bf108924390895400247c868ad1",
       "value": 1
      }
     },
     "988895370c774e4d9c466bcdd040b960": {
      "model_module": "@jupyter-widgets/base",
      "model_module_version": "2.0.0",
      "model_name": "LayoutModel",
      "state": {}
     },
     "98fdae79642b4130ab61c2d414bf1824": {
      "model_module": "@jupyter-widgets/base",
      "model_module_version": "2.0.0",
      "model_name": "LayoutModel",
      "state": {}
     },
     "99ab3c68644346d1974d5a0451bd64f1": {
      "model_module": "@jupyter-widgets/controls",
      "model_module_version": "2.0.0",
      "model_name": "DropdownModel",
      "state": {
       "_options_labels": [
        "Low",
        "Moderate",
        "High"
       ],
       "description": "Erosion Risk",
       "index": 0,
       "layout": "IPY_MODEL_a438ee6cebc14864a27377431f5b925a",
       "style": "IPY_MODEL_d254c6fa476842ce90ebd38a9c6f2349"
      }
     },
     "99e2561664cf4157abe49582b32ce1a7": {
      "model_module": "@jupyter-widgets/base",
      "model_module_version": "2.0.0",
      "model_name": "LayoutModel",
      "state": {}
     },
     "99eecc674d8345fc9a408c8ea11618cf": {
      "model_module": "@jupyter-widgets/base",
      "model_module_version": "2.0.0",
      "model_name": "LayoutModel",
      "state": {}
     },
     "9bde488ea86f4dc1b92bdc4e9fc46aae": {
      "model_module": "@jupyter-widgets/base",
      "model_module_version": "2.0.0",
      "model_name": "LayoutModel",
      "state": {}
     },
     "9e3fe2f0513c475a88bb345b2a8ab228": {
      "model_module": "@jupyter-widgets/controls",
      "model_module_version": "2.0.0",
      "model_name": "DropdownModel",
      "state": {
       "_options_labels": [
        "Irrigation",
        "Drainage",
        "Flood Control",
        "Natural Restoration"
       ],
       "description": "Channel Type",
       "index": 0,
       "layout": "IPY_MODEL_e74df23c422b40e68dddc0d49fdf5b47",
       "style": "IPY_MODEL_8db18bd02f0f44f29e5c2ed480b12670"
      }
     },
     "9f373bf108924390895400247c868ad1": {
      "model_module": "@jupyter-widgets/controls",
      "model_module_version": "2.0.0",
      "model_name": "SliderStyleModel",
      "state": {
       "description_width": ""
      }
     },
     "9f7b10365abf4194824f9f7514a086e3": {
      "model_module": "@jupyter-widgets/controls",
      "model_module_version": "2.0.0",
      "model_name": "SliderStyleModel",
      "state": {
       "description_width": ""
      }
     },
     "a0330477d0e6413981fae6d53901bcb6": {
      "model_module": "@jupyter-widgets/controls",
      "model_module_version": "2.0.0",
      "model_name": "DescriptionStyleModel",
      "state": {
       "description_width": ""
      }
     },
     "a1cdfee937994c1c81cf0a090f812ca7": {
      "model_module": "@jupyter-widgets/base",
      "model_module_version": "2.0.0",
      "model_name": "LayoutModel",
      "state": {}
     },
     "a3a65438430748f79fc34d272e4591e2": {
      "model_module": "@jupyter-widgets/controls",
      "model_module_version": "2.0.0",
      "model_name": "SliderStyleModel",
      "state": {
       "description_width": ""
      }
     },
     "a3fe2d415fd749bdbb22beb19be499c5": {
      "model_module": "@jupyter-widgets/output",
      "model_module_version": "1.0.0",
      "model_name": "OutputModel",
      "state": {
       "layout": "IPY_MODEL_b0e896e6f4ac4e7bb1b5d6e6d8146c38",
       "outputs": [
        {
         "name": "stdout",
         "output_type": "stream",
         "text": "🌊 Recommended Design Method: Empirical Design Charts (e.g., USBR)\n📌 Based on:\n - Flow Rate: 50.99999999999999 m³/s\n - Channel Type: Irrigation\n - Soil Type: Clay\n - Erosion Risk: Low\n - Lining Material: None\n"
        }
       ]
      }
     },
     "a438ee6cebc14864a27377431f5b925a": {
      "model_module": "@jupyter-widgets/base",
      "model_module_version": "2.0.0",
      "model_name": "LayoutModel",
      "state": {}
     },
     "a78bcec7ef964436b5a915ec0ce56c38": {
      "model_module": "@jupyter-widgets/base",
      "model_module_version": "2.0.0",
      "model_name": "LayoutModel",
      "state": {}
     },
     "a80344be5ad04c3ca5181ee9916a474d": {
      "model_module": "@jupyter-widgets/controls",
      "model_module_version": "2.0.0",
      "model_name": "DropdownModel",
      "state": {
       "_options_labels": [
        "None",
        "Concrete",
        "Riprap",
        "Vegetated"
       ],
       "description": "Lining Material",
       "index": 0,
       "layout": "IPY_MODEL_ecabbb9377e144a3aa5bf73d7abd58d0",
       "style": "IPY_MODEL_792a2cf9fcaf4744a26bb46908e35e8a"
      }
     },
     "a8d9b003038a4545a254bf2256ad05a2": {
      "model_module": "@jupyter-widgets/output",
      "model_module_version": "1.0.0",
      "model_name": "OutputModel",
      "state": {
       "layout": "IPY_MODEL_58a4818ff845407e95e28db15549d95b",
       "outputs": [
        {
         "name": "stdout",
         "output_type": "stream",
         "text": "🌊 Recommended Design Method: Empirical Design Charts (e.g., USBR)\n📌 Based on:\n - Flow Rate: 50.99999999999999 m³/s\n - Channel Type: Irrigation\n - Soil Type: Clay\n - Erosion Risk: Low\n - Lining Material: None\n\n🔍 Interpretation:\n - Empirical charts are suitable for irrigation channels with moderate risk and unlined sections.\n"
        }
       ]
      }
     },
     "a99f8289ffaa4ce8b1e28bc7da391778": {
      "model_module": "@jupyter-widgets/controls",
      "model_module_version": "2.0.0",
      "model_name": "SliderStyleModel",
      "state": {
       "description_width": ""
      }
     },
     "acb71dbc33b14891b89354e2ed380224": {
      "model_module": "@jupyter-widgets/base",
      "model_module_version": "2.0.0",
      "model_name": "LayoutModel",
      "state": {}
     },
     "ae418c2a58344cfbbb762d42d01fbfce": {
      "model_module": "@jupyter-widgets/base",
      "model_module_version": "2.0.0",
      "model_name": "LayoutModel",
      "state": {}
     },
     "aeb522537daa47b28720c79b4474e323": {
      "model_module": "@jupyter-widgets/base",
      "model_module_version": "2.0.0",
      "model_name": "LayoutModel",
      "state": {}
     },
     "afb959c01f454f7bb48e4c1c0d511d2d": {
      "model_module": "@jupyter-widgets/controls",
      "model_module_version": "2.0.0",
      "model_name": "ButtonModel",
      "state": {
       "button_style": "success",
       "description": "Run Design",
       "layout": "IPY_MODEL_d830e66f0ce7443096632132be3e5c1b",
       "style": "IPY_MODEL_7abeeadaabaf4cf8b317f8df0793dd13",
       "tooltip": null
      }
     },
     "b0e896e6f4ac4e7bb1b5d6e6d8146c38": {
      "model_module": "@jupyter-widgets/base",
      "model_module_version": "2.0.0",
      "model_name": "LayoutModel",
      "state": {}
     },
     "b420254908244c8aac7b8f51a3bd018c": {
      "model_module": "@jupyter-widgets/base",
      "model_module_version": "2.0.0",
      "model_name": "LayoutModel",
      "state": {}
     },
     "b457667631d94d0ab87c6c424f985c60": {
      "model_module": "@jupyter-widgets/controls",
      "model_module_version": "2.0.0",
      "model_name": "FloatSliderModel",
      "state": {
       "behavior": "drag-tap",
       "description": "Manning's n",
       "layout": "IPY_MODEL_64322be1de304c02a5b44327fb9cd42f",
       "max": 0.035,
       "min": 0.01,
       "step": 0.001,
       "style": "IPY_MODEL_f452df31ca6446119b0c3459a379431b",
       "value": 0.015
      }
     },
     "b4aafad92b3c4f06b13164590dd98ca3": {
      "model_module": "@jupyter-widgets/controls",
      "model_module_version": "2.0.0",
      "model_name": "DropdownModel",
      "state": {
       "_options_labels": [
        "Rigid",
        "Mobile"
       ],
       "description": "Channel Type",
       "index": 0,
       "layout": "IPY_MODEL_d5393661acc0490aa8de502b6ef3c1c8",
       "style": "IPY_MODEL_77164338f97041a398e1989d0add52c0"
      }
     },
     "b7dcd6efe7784ec0b9e3fd092b5644f4": {
      "model_module": "@jupyter-widgets/base",
      "model_module_version": "2.0.0",
      "model_name": "LayoutModel",
      "state": {}
     },
     "bac0c2a424fa4dd6896df07bf49e5859": {
      "model_module": "@jupyter-widgets/controls",
      "model_module_version": "2.0.0",
      "model_name": "SliderStyleModel",
      "state": {
       "description_width": ""
      }
     },
     "bcdd7c40c99b4d088c7855f73c2b8e2d": {
      "model_module": "@jupyter-widgets/base",
      "model_module_version": "2.0.0",
      "model_name": "LayoutModel",
      "state": {}
     },
     "bd0cb06b16334d71889eb2699eae1a68": {
      "model_module": "@jupyter-widgets/base",
      "model_module_version": "2.0.0",
      "model_name": "LayoutModel",
      "state": {}
     },
     "bf15bea61b044e08b95117f7d1291d77": {
      "model_module": "@jupyter-widgets/controls",
      "model_module_version": "2.0.0",
      "model_name": "SliderStyleModel",
      "state": {
       "description_width": ""
      }
     },
     "bf93dade560e4e7b941c0cb91c5d4219": {
      "model_module": "@jupyter-widgets/controls",
      "model_module_version": "2.0.0",
      "model_name": "FloatSliderModel",
      "state": {
       "behavior": "drag-tap",
       "description": "Max Velocity (m/s)",
       "layout": "IPY_MODEL_db56bb1a40ef4ab6b50f0b31f8d72421",
       "max": 3,
       "min": 1,
       "step": 0.1,
       "style": "IPY_MODEL_52497c4ec71340f3a1a9d77777c94f69",
       "value": 2
      }
     },
     "c55cf3eb3c3a4a2c9b742aafb815f203": {
      "model_module": "@jupyter-widgets/controls",
      "model_module_version": "2.0.0",
      "model_name": "FloatSliderModel",
      "state": {
       "behavior": "drag-tap",
       "description": "Min Velocity (m/s)",
       "layout": "IPY_MODEL_342a5e0ec9a44c578548337c698d8e0d",
       "max": 1,
       "min": 0.2,
       "step": 0.05,
       "style": "IPY_MODEL_22d510423bab4a48abeb25ed179ceb06",
       "value": 0.3
      }
     },
     "c9b8e457c33943a1a5c7242978434e2f": {
      "model_module": "@jupyter-widgets/base",
      "model_module_version": "2.0.0",
      "model_name": "LayoutModel",
      "state": {}
     },
     "ca3de2370636463b8548308b80c844eb": {
      "model_module": "@jupyter-widgets/controls",
      "model_module_version": "2.0.0",
      "model_name": "DropdownModel",
      "state": {
       "_options_labels": [
        "Clay",
        "Silt",
        "Sandy",
        "Gravel"
       ],
       "description": "Soil Type",
       "index": 0,
       "layout": "IPY_MODEL_67aa637fa7f14f4b81c9438bcfa1962e",
       "style": "IPY_MODEL_ddd406da722e4e20a80706d87e712e34"
      }
     },
     "ca600c7db31e45d1a69c7252191690a7": {
      "model_module": "@jupyter-widgets/base",
      "model_module_version": "2.0.0",
      "model_name": "LayoutModel",
      "state": {}
     },
     "cb4cd989259042dcb6ba263f844b6fef": {
      "model_module": "@jupyter-widgets/controls",
      "model_module_version": "2.0.0",
      "model_name": "DescriptionStyleModel",
      "state": {
       "description_width": ""
      }
     },
     "cc9cdb2d7b4442f9bc604b6a17a29a58": {
      "model_module": "@jupyter-widgets/controls",
      "model_module_version": "2.0.0",
      "model_name": "DropdownModel",
      "state": {
       "_options_labels": [
        "Rigid",
        "Mobile"
       ],
       "description": "Channel Type",
       "index": 0,
       "layout": "IPY_MODEL_2f9773646a7e4819bafa775cdda1516f",
       "style": "IPY_MODEL_6f019050758549dbb3505b85d152eba7"
      }
     },
     "cd43d054bcc64ad5a24669511cc7fe0b": {
      "model_module": "@jupyter-widgets/controls",
      "model_module_version": "2.0.0",
      "model_name": "SliderStyleModel",
      "state": {
       "description_width": ""
      }
     },
     "d254c6fa476842ce90ebd38a9c6f2349": {
      "model_module": "@jupyter-widgets/controls",
      "model_module_version": "2.0.0",
      "model_name": "DescriptionStyleModel",
      "state": {
       "description_width": ""
      }
     },
     "d537c3a887ba466abf53a1e3b2406d8d": {
      "model_module": "@jupyter-widgets/output",
      "model_module_version": "1.0.0",
      "model_name": "OutputModel",
      "state": {
       "layout": "IPY_MODEL_390b17466159484dac5873ce8c288352",
       "outputs": [
        {
         "data": {
          "application/vnd.jupyter.widget-view+json": {
           "model_id": "fc2d16f5c2b2477a8c12aafc2a6f8b58",
           "version_major": 2,
           "version_minor": 0
          },
          "text/plain": "VBox(children=(Dropdown(description='Channel Type', options=('Rigid', 'Mobile'), value='Rigid'), Dropdown(desc…"
         },
         "metadata": {},
         "output_type": "display_data"
        }
       ]
      }
     },
     "d5393661acc0490aa8de502b6ef3c1c8": {
      "model_module": "@jupyter-widgets/base",
      "model_module_version": "2.0.0",
      "model_name": "LayoutModel",
      "state": {}
     },
     "d7f62f610b664b6aaac36edfd6c7744f": {
      "model_module": "@jupyter-widgets/base",
      "model_module_version": "2.0.0",
      "model_name": "LayoutModel",
      "state": {}
     },
     "d830e66f0ce7443096632132be3e5c1b": {
      "model_module": "@jupyter-widgets/base",
      "model_module_version": "2.0.0",
      "model_name": "LayoutModel",
      "state": {}
     },
     "d87554d7fe374f9f9e6860da0cf113c6": {
      "model_module": "@jupyter-widgets/controls",
      "model_module_version": "2.0.0",
      "model_name": "SliderStyleModel",
      "state": {
       "description_width": ""
      }
     },
     "d8fb686cc99b4f22acc7cb96932dcfbb": {
      "model_module": "@jupyter-widgets/controls",
      "model_module_version": "2.0.0",
      "model_name": "SliderStyleModel",
      "state": {
       "description_width": ""
      }
     },
     "d9dc3c41fc3c487ea96042a0a554f6c9": {
      "model_module": "@jupyter-widgets/base",
      "model_module_version": "2.0.0",
      "model_name": "LayoutModel",
      "state": {}
     },
     "db56bb1a40ef4ab6b50f0b31f8d72421": {
      "model_module": "@jupyter-widgets/base",
      "model_module_version": "2.0.0",
      "model_name": "LayoutModel",
      "state": {}
     },
     "db96cf1db1ec4c528c69147cd8a0fc73": {
      "model_module": "@jupyter-widgets/base",
      "model_module_version": "2.0.0",
      "model_name": "LayoutModel",
      "state": {}
     },
     "ddd406da722e4e20a80706d87e712e34": {
      "model_module": "@jupyter-widgets/controls",
      "model_module_version": "2.0.0",
      "model_name": "DescriptionStyleModel",
      "state": {
       "description_width": ""
      }
     },
     "e006110975e34f74a2d069a2c6ef3141": {
      "model_module": "@jupyter-widgets/controls",
      "model_module_version": "2.0.0",
      "model_name": "ButtonModel",
      "state": {
       "button_style": "success",
       "description": "Run Design",
       "layout": "IPY_MODEL_bcdd7c40c99b4d088c7855f73c2b8e2d",
       "style": "IPY_MODEL_5cb4ceadfc2643cbaecf5b835694af71",
       "tooltip": null
      }
     },
     "e74df23c422b40e68dddc0d49fdf5b47": {
      "model_module": "@jupyter-widgets/base",
      "model_module_version": "2.0.0",
      "model_name": "LayoutModel",
      "state": {}
     },
     "e7c4d0373b5d4b96b8853e391a432a99": {
      "model_module": "@jupyter-widgets/output",
      "model_module_version": "1.0.0",
      "model_name": "OutputModel",
      "state": {
       "layout": "IPY_MODEL_693ebc37532544cda51f0ecb55961d26",
       "outputs": [
        {
         "name": "stdout",
         "output_type": "stream",
         "text": "🌊 Recommended Design Method: Empirical Design Charts (e.g., USBR)\n📌 Based on:\n - Flow Rate: 50.99999999999999 m³/s\n - Channel Type: Irrigation\n - Soil Type: Clay\n - Erosion Risk: Low\n - Lining Material: None\n\n🔍 Interpretation:\n - Empirical charts are suitable for irrigation channels with moderate risk and unlined sections.\n"
        }
       ]
      }
     },
     "e83bb6fb53b74e1396c7ceec6d3e2a80": {
      "model_module": "@jupyter-widgets/controls",
      "model_module_version": "2.0.0",
      "model_name": "SliderStyleModel",
      "state": {
       "description_width": ""
      }
     },
     "e8773be215b84a2bbb9013c813b7accb": {
      "model_module": "@jupyter-widgets/controls",
      "model_module_version": "2.0.0",
      "model_name": "FloatSliderModel",
      "state": {
       "behavior": "drag-tap",
       "description": "Manning's n",
       "layout": "IPY_MODEL_82fa1911e4fc445c8c12e6d82cef056f",
       "max": 0.035,
       "min": 0.01,
       "step": 0.001,
       "style": "IPY_MODEL_cd43d054bcc64ad5a24669511cc7fe0b",
       "value": 0.015
      }
     },
     "ec004d63dfd447b5953b275d8fdebaab": {
      "model_module": "@jupyter-widgets/controls",
      "model_module_version": "2.0.0",
      "model_name": "FloatSliderModel",
      "state": {
       "behavior": "drag-tap",
       "description": "Discharge (m³/s)",
       "layout": "IPY_MODEL_ae418c2a58344cfbbb762d42d01fbfce",
       "max": 50,
       "min": 1,
       "style": "IPY_MODEL_70f9b6fb31724584954613de46539950",
       "value": 5
      }
     },
     "ecabbb9377e144a3aa5bf73d7abd58d0": {
      "model_module": "@jupyter-widgets/base",
      "model_module_version": "2.0.0",
      "model_name": "LayoutModel",
      "state": {}
     },
     "f36ac40562954801b9415c91cfca4a93": {
      "model_module": "@jupyter-widgets/controls",
      "model_module_version": "2.0.0",
      "model_name": "FloatSliderModel",
      "state": {
       "behavior": "drag-tap",
       "description": "Flow Rate (m³/s)",
       "layout": "IPY_MODEL_35fdb5c5bfb6496eb6468e290f1a16c7",
       "max": 500,
       "min": 1,
       "step": 5,
       "style": "IPY_MODEL_3df6b752556d406ea6d3dfbacd469324",
       "value": 50.99999999999999
      }
     },
     "f452df31ca6446119b0c3459a379431b": {
      "model_module": "@jupyter-widgets/controls",
      "model_module_version": "2.0.0",
      "model_name": "SliderStyleModel",
      "state": {
       "description_width": ""
      }
     },
     "f4b3263754564aa591fced8ff2aa9507": {
      "model_module": "@jupyter-widgets/controls",
      "model_module_version": "2.0.0",
      "model_name": "DropdownModel",
      "state": {
       "_options_labels": [
        "Sediment-Free",
        "Sediment-Laden"
       ],
       "description": "Flow Type",
       "index": 0,
       "layout": "IPY_MODEL_1443c8f235334781a084ed5f26015632",
       "style": "IPY_MODEL_51bda8b8279c4fde90c63afe53e38021"
      }
     },
     "fa6de54fbb54451db6c88a7c3207d39f": {
      "model_module": "@jupyter-widgets/base",
      "model_module_version": "2.0.0",
      "model_name": "LayoutModel",
      "state": {}
     },
     "fc2d16f5c2b2477a8c12aafc2a6f8b58": {
      "model_module": "@jupyter-widgets/controls",
      "model_module_version": "2.0.0",
      "model_name": "VBoxModel",
      "state": {
       "children": [
        "IPY_MODEL_cc9cdb2d7b4442f9bc604b6a17a29a58",
        "IPY_MODEL_37585859db4d4a28aa23e10f7ba651c2",
        "IPY_MODEL_7a1adbb267644c5484f41688f3ae9d28",
        "IPY_MODEL_66af552be1454996a4e13fe3aa2bb0cc",
        "IPY_MODEL_336a2fd08f3e405a9351e429bf2c06b0",
        "IPY_MODEL_370b26ffa7f94846acb4f864e74cdd81",
        "IPY_MODEL_e8773be215b84a2bbb9013c813b7accb",
        "IPY_MODEL_e006110975e34f74a2d069a2c6ef3141"
       ],
       "layout": "IPY_MODEL_7971387b729741ebbdca158f2949342b"
      }
     }
    },
    "version_major": 2,
    "version_minor": 0
   }
  }
 },
 "nbformat": 4,
 "nbformat_minor": 5
}
