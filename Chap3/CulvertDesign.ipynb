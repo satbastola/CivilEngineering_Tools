{
 "cells": [
  {
   "cell_type": "markdown",
   "id": "b4f4c864-8e45-493a-b028-dc19c2ae014e",
   "metadata": {},
   "source": [
    "# Chapter 3 Hydraulics: Design of Culverts"
   ]
  },
  {
   "cell_type": "markdown",
   "id": "d36ad5cb-4e3b-44ff-996f-7a9ee060c988",
   "metadata": {},
   "source": [
    "1. [Introduction: Culvert Design](#1.-Introduction)\n",
    "2. [Simulation: Inlet and Outlet Control](#2.-Simulation)\n",
    "3. [Self-Assessment](#3.-Self-Assessment)"
   ]
  },
  {
   "cell_type": "markdown",
   "id": "c633a599-f91a-470e-a765-731b7eb9f78e",
   "metadata": {},
   "source": [
    "## 1. Introduction"
   ]
  },
  {
   "cell_type": "markdown",
   "id": "d8fb5f80-e51a-4776-b15f-e6943776506c",
   "metadata": {},
   "source": [
    "###  What Is a Culvert?\n",
    "\n",
    "A **culvert** is a hydraulic structure that allows water to flow under a road, railroad, embankment, or similar obstruction. Understanding the culvert’s capacity under different control conditions is critical for proper drainage, flood mitigation, and road safety.\n",
    "\n",
    "### 📚 Functions of Culverts\n",
    "\n",
    "- **Drainage Conveyance**: Transfers water across roads or embankments\n",
    "- **Flood Control**: Prevents overtopping and erosion during storm events\n",
    "- **Habitat Connectivity**: Maintains aquatic organism passage and stream continuity\n",
    "- **Roadway Protection**: Prevents water accumulation and structural damage\n",
    "- **Stormwater Management**: Integrates with detention and conveyance systems\n",
    "\n",
    "---\n",
    "\n",
    "### 🧱 Types of Culverts\n",
    "\n",
    "| Type                  | Description                                                                 |\n",
    "|-----------------------|-----------------------------------------------------------------------------|\n",
    "| **Pipe Culvert**       | Circular or elliptical pipe; commonly made of concrete, steel, or HDPE     |\n",
    "| **Box Culvert**        | Rectangular concrete structure; suitable for high flows and shallow cover  |\n",
    "| **Arch Culvert**       | Open-bottom arch; preserves streambed and supports ecological flow         |\n",
    "| **Slab Culvert**       | Flat slab over open channel; used for short spans                          |\n",
    "| **Bridge Culvert**     | Hybrid between culvert and small bridge; spans wider channels              |\n",
    "\n",
    "---\n",
    "\n",
    "### 🧮 Classification Table: Culverts by Shape, Material, and Flow Type\n",
    "\n",
    "| Classification Category | Subtypes / Examples                          | Notes                                                             |\n",
    "|--------------------------|---------------------------------------------|-------------------------------------------------------------------|\n",
    "| **Shape**                | Circular, Elliptical, Box, Arch, Slab       | Influences hydraulic capacity and structural design               |\n",
    "| **Material**             | Concrete, Corrugated Steel, HDPE, PVC       | Affects durability, cost, and installation method                 |\n",
    "| **Flow Type**            | Inlet-controlled, Outlet-controlled         | Determines headwater elevation and flow regime                    |\n",
    "| **Installation**         | Embedded, Open-bottom, Closed-bottom        | Impacts ecological connectivity and scour potential               |\n",
    "| **Hydraulic Design**     | Subcritical, Supercritical, Pressurized     | Guides sizing and energy dissipation strategies                   |\n",
    "\n",
    "---\n",
    "\n",
    "## ⚠️ Challenges in Culvert Design\n",
    "\n",
    "| Challenge               | Description                                                                 |\n",
    "|-------------------------|-----------------------------------------------------------------------------|\n",
    "| **Hydraulic Capacity**  | Must convey design flow without overtopping or excessive headwater          |\n",
    "| **Sediment Transport**  | Risk of blockage or scour if not properly sized or aligned                  |\n",
    "| **Ecological Impact**   | Can disrupt fish passage and stream continuity if poorly designed           |\n",
    "| **Structural Integrity**| Must withstand loads from traffic and soil pressure                         |\n",
    "| **Maintenance Access**  | Requires inspection and debris removal to prevent clogging                  |\n",
    "| **Energy Dissipation**  | High velocities may require aprons, baffles, or stilling basins             |\n",
    "\n",
    "---\n",
    "\n",
    "### 🚧 Culvert Hydraulics Classification – Ven Te Chow\n",
    "\n",
    "Ven Te Chow classified culvert flow based on the **location of hydraulic control** and the **flow regime**. These classifications help engineers determine headwater elevation, flow capacity, and whether the culvert is operating under inlet or outlet control.\n",
    "\n",
    "---\n",
    "\n",
    "## 📊 Culvert Flow Classification Table\n",
    "\n",
    "| Flow Type         | Control Location | Description                                                                 |\n",
    "|-------------------|------------------|-----------------------------------------------------------------------------|\n",
    "| **Inlet Control** | At the entrance  | Flow is governed by the culvert entrance geometry and headwater elevation. |\n",
    "| **Outlet Control**| At the exit      | Flow is governed by downstream conditions and full barrel hydraulics.      |\n",
    "\n",
    "---\n",
    "\n",
    "### 🔍 Subtypes of Culvert Flow (Outlet-Controlled)\n",
    "\n",
    "| Flow Regime       | Description                                                                 |\n",
    "|-------------------|-----------------------------------------------------------------------------|\n",
    "| **Subcritical Flow** | Flow is slow and deep; controlled by downstream tailwater.               |\n",
    "| **Supercritical Flow**| Flow is fast and shallow; controlled by upstream conditions.            |\n",
    "| **Pressurized Flow** | Culvert flows full; behaves like a pipe under pressure.                  |\n",
    "| **Free Surface Flow**| Flow has a free surface; behaves like open channel flow.                 |\n",
    "\n",
    "---\n",
    "\n",
    "### 📐 Design Implications\n",
    "\n",
    "- **Inlet Control**: Use entrance geometry and headwater to size culvert.\n",
    "- **Outlet Control**: Consider barrel roughness, slope, and tailwater elevation.\n",
    "- **Critical Depth**: Helps determine control section and flow regime.\n",
    "- **Energy Losses**: Include entrance, friction, and exit losses in design.\n",
    "\n",
    "---\n",
    "\n",
    "## 🧠 Conceptual Insight\n",
    "\n",
    "> Ven Te Chow’s classification helps engineers identify the **governing control point**  \n",
    "> and apply appropriate equations for **culvert sizing**, **headwater prediction**, and **flow regime analysis**.\n",
    "\n",
    "> Culverts are more than just pipes under roads —  \n",
    "> they are critical hydraulic structures that balance **engineering**, **environmental**, and **hydrologic** needs.\n",
    "\n",
    "---\n",
    "\n",
    "## ❓ Quiz Questions\n",
    "\n",
    "1. What are the main functions of a culvert?\n",
    "2. How does culvert shape affect hydraulic performance?\n",
    "3. What is the difference between inlet-controlled and outlet-controlled flow?\n",
    "4. Why is ecological connectivity important in culvert design?\n",
    "5. What materials are commonly used for culverts and why?\n"
   ]
  },
  {
   "cell_type": "markdown",
   "id": "6fa60b60-324e-4aee-9ade-4c5bc4025b9b",
   "metadata": {},
   "source": [
    "## 2. Simulation"
   ]
  },
  {
   "cell_type": "markdown",
   "id": "85997c95-f359-483b-abd6-5d1aef86c0ef",
   "metadata": {},
   "source": [
    "\n",
    "### Interactive Culvert Design Tool – Inlet vs Outlet Control\n",
    "\n",
    "This tool estimates and visualizes flow through a culvert under both **inlet control** and **outlet control** conditions, following standard hydraulic design principles from FHWA HDS-5.\n",
    "\n",
    "###  Flow Control Regimes\n",
    "\n",
    "### 🔵 Inlet Control\n",
    "- Occurs when the culvert barrel is not flowing full.\n",
    "- Flow depends on:\n",
    "  - Entrance geometry (weir or orifice behavior)\n",
    "  - Headwater elevation \\( H_e \\)\n",
    "  - Culvert width or cross-sectional area\n",
    "- Two options:\n",
    "  - **Weir flow**: $$\n",
    "  Q = C_d \\cdot b \\cdot H_e^{1.5}\n",
    "  $$\n",
    "  - **Orifice flow**: $$\n",
    "  Q = C_d \\cdot A \\cdot \\sqrt{2gH_e}\n",
    "  $$\n",
    "\n",
    "### 🟢 Outlet Control\n",
    "- Occurs when the culvert flows full and tailwater affects the flow.\n",
    "- Governed by **Manning’s equation**:\n",
    "  $\n",
    "  Q = \\frac{1}{n} \\cdot A \\cdot R^{2/3} \\cdot \\sqrt{S}\n",
    "  $\n",
    "\n",
    "- Depends on:\n",
    "  - Culvert shape and size\n",
    "  - Hydraulic radius $( R = A / P $)\n",
    "  - Slope $( S $)\n",
    "  - Roughness coefficient $( n $)\n",
    "\n",
    "---\n",
    "\n",
    "###  How It Works\n",
    "\n",
    "You control the following parameters:\n",
    "\n",
    "- **Culvert Shape**: Circular or Box (square)\n",
    "- **Diameter or Depth** $( d $): Defines area $( A $) and perimeter $( P $)\n",
    "- **Length $( L $)** and **Slope $( S $)**\n",
    "- **Headwater depth** $( H_e $) and **Tailwater depth** $( H_c $)\n",
    "- **Inlet Type**: Weir or Orifice\n",
    "- **Manning's n**: Roughness (based on material)\n",
    "\n",
    "For each scenario, the tool computes:\n",
    "\n",
    "- Discharge under **inlet control**\n",
    "- Discharge under **outlet control**\n",
    "- Governing condition based on which flow is more restrictive\n",
    "- **Visual plot** comparing both flow regimes over a range of heads\n",
    "\n",
    "---\n",
    "\n",
    "### Output Highlights\n",
    "\n",
    "- 💡 **Flow curves** for inlet and outlet control\n",
    "- 🔵 **Vertical markers** at selected inlet and outlet heads\n",
    "- ✅ Automatically identifies **governing condition**\n",
    "- Adaptable for **preliminary design, teaching**, and hydraulic analysis"
   ]
  },
  {
   "cell_type": "code",
   "execution_count": 1,
   "id": "7c64ab5f-82a2-4515-aaae-75a9711f0de9",
   "metadata": {},
   "outputs": [
    {
     "data": {
      "application/vnd.jupyter.widget-view+json": {
       "model_id": "1c702591420b464da5bc6a7f3e1472bc",
       "version_major": 2,
       "version_minor": 0
      },
      "text/plain": [
       "interactive(children=(FloatSlider(value=1.0, description='Diameter d (m)', max=5.0, min=0.3), FloatSlider(valu…"
      ]
     },
     "metadata": {},
     "output_type": "display_data"
    },
    {
     "data": {
      "text/plain": [
       "<function __main__.culvert_design(d, L, S, n, He, Hc, Q_type, shape)>"
      ]
     },
     "execution_count": 1,
     "metadata": {},
     "output_type": "execute_result"
    }
   ],
   "source": [
    "import numpy as np\n",
    "import matplotlib.pyplot as plt\n",
    "from ipywidgets import interact, FloatSlider, Dropdown\n",
    "\n",
    "g = 9.81  # m/s² gravity\n",
    "\n",
    "# Inlet Control Flow (weir or orifice equation, depends on head and entrance type)\n",
    "def culvert_inlet_control(Q_type, A, He, b, Cd_weir=0.6, Cd_orifice=0.5):\n",
    "    if Q_type == \"Weir\":\n",
    "        return Cd_weir * b * He**1.5\n",
    "    elif Q_type == \"Orifice\":\n",
    "        return Cd_orifice * A * np.sqrt(2 * g * He)\n",
    "    else:\n",
    "        return 0\n",
    "\n",
    "# Outlet Control Flow (full barrel, based on Manning's equation)\n",
    "def culvert_outlet_control(n, A, R, S):\n",
    "    return (1/n) * A * R**(2/3) * S**0.5\n",
    "\n",
    "# Wrapper function for visualization and comparison\n",
    "def culvert_design(d, L, S, n, He, Hc, Q_type, shape):\n",
    "    A = np.pi * (d / 2)**2 if shape == \"Circular\" else d * d\n",
    "    P = np.pi * d if shape == \"Circular\" else 2 * d + 2 * d\n",
    "    R = A / P\n",
    "\n",
    "    # Inlet Control\n",
    "    Q_inlet = culvert_inlet_control(Q_type, A, He, d)\n",
    "\n",
    "    # Outlet Control\n",
    "    Q_outlet = culvert_outlet_control(n, A, R, S)\n",
    "\n",
    "    print(\"🧮 Culvert Design Summary\")\n",
    "    print(f\"Shape: {shape}, Diameter/Depth: {d:.2f} m, Length: {L:.1f} m, Slope: {S:.4f}\")\n",
    "    print(f\"Headwater Elevation (inlet): {He:.2f} m, Tailwater Elevation (outlet): {Hc:.2f} m\")\n",
    "    print(f\"🔵 Inlet Control Discharge (Q_in): {Q_inlet:.3f} m³/s\")\n",
    "    print(f\"🟢 Outlet Control Discharge (Q_out): {Q_outlet:.3f} m³/s\")\n",
    "\n",
    "    governing = \"Inlet Control\" if Q_inlet < Q_outlet else \"Outlet Control\"\n",
    "    print(f\"✅ Governing Flow Control: {governing}\")\n",
    "\n",
    "    # Optional plot\n",
    "    heads = np.linspace(0.01, max(He, Hc) * 1.5, 200)\n",
    "    Q_in = [culvert_inlet_control(Q_type, A, H, d) for H in heads]\n",
    "    Q_out = [culvert_outlet_control(n, A, R, S)] * len(heads)\n",
    "\n",
    "    plt.figure(figsize=(8, 5))\n",
    "    plt.plot(heads, Q_in, label=\"Inlet Control\", color=\"orange\")\n",
    "    plt.plot(heads, Q_out, label=\"Outlet Control\", color=\"green\", linestyle=\"--\")\n",
    "    plt.axvline(He, color=\"blue\", linestyle=\":\", label=\"Inlet Head\")\n",
    "    plt.axvline(Hc, color=\"red\", linestyle=\":\", label=\"Tailwater Depth\")\n",
    "    plt.xlabel(\"Head H (m)\")\n",
    "    plt.ylabel(\"Discharge Q (m³/s)\")\n",
    "    plt.title(\"Culvert Flow: Inlet vs Outlet Control\")\n",
    "    plt.grid(True, linestyle=\"--\", alpha=0.6)\n",
    "    plt.legend()\n",
    "    plt.tight_layout()\n",
    "    plt.show()\n",
    "\n",
    "# Interactive controls\n",
    "interact(\n",
    "    culvert_design,\n",
    "    d=FloatSlider(value=1.0, min=0.3, max=5.0, step=0.1, description=\"Diameter d (m)\"),\n",
    "    L=FloatSlider(value=10, min=1, max=50, step=1, description=\"Length L (m)\"),\n",
    "    S=FloatSlider(value=0.01, min=0.0001, max=0.05, step=0.0005, readout_format=\".4f\", description=\"Slope S\"),\n",
    "    n=FloatSlider(value=0.013, min=0.010, max=0.035, step=0.001, description=\"Manning n\"),\n",
    "    He=FloatSlider(value=1.0, min=0.1, max=5.0, step=0.1, description=\"Inlet Head He\"),\n",
    "    Hc=FloatSlider(value=0.5, min=0.0, max=5.0, step=0.1, description=\"Tailwater Depth Hc\"),\n",
    "    Q_type=Dropdown(options=[\"Weir\", \"Orifice\"], value=\"Weir\", description=\"Inlet Type\"),\n",
    "    shape=Dropdown(options=[\"Circular\", \"Box\"], value=\"Circular\", description=\"Culvert Shape\")\n",
    ")"
   ]
  },
  {
   "cell_type": "markdown",
   "id": "131a9a79-e4fe-428a-be6d-6e3ec68a7d8b",
   "metadata": {},
   "source": [
    "## 3. Self-Assessment"
   ]
  },
  {
   "cell_type": "markdown",
   "id": "e0507008-bc83-44aa-b2bb-a711a01dec8e",
   "metadata": {},
   "source": [
    "###  Culvert Design Learning Module – Inlet vs Outlet Control\n",
    "\n",
    "This resource supports the interactive culvert design tool by deepening conceptual understanding and promoting reflective thinking in hydraulic engineering.\n",
    "\n",
    "---\n",
    "\n",
    "### Conceptual Questions (with Hints)\n",
    "\n",
    "1. **What distinguishes inlet control from outlet control in culvert hydraulics, and why does it matter for culvert design?**  \n",
    "   🔎 *Hint: Think about whether flow is limited by the entrance geometry or by what happens inside the barrel.*\n",
    "\n",
    "2. **How does Manning’s equation reflect the influence of pipe roughness, geometry, and slope in outlet-controlled culvert flow?**  \n",
    "   🔎 *Hint: Pay attention to the role of the roughness coefficient \\( n \\), hydraulic radius \\( R \\), and slope \\( S \\).*\n",
    "\n",
    "3. **Why does the governing control condition depend on the comparison between inlet and outlet discharge capacities?**  \n",
    "   🔎 *Hint: Consider which component of the culvert system is more restrictive to flow under given conditions.*\n",
    "\n",
    "4. **When modeling inlet control, why are both weir and orifice equations used? What do they represent physically?**  \n",
    "   🔎 *Hint: It depends on whether the flow is free over the crest or fully submerged at the entrance.*\n",
    "\n",
    "5. **Explain how culvert shape (circular vs. box) affects flow area and perimeter, and thus flow regime and velocity.**  \n",
    "   🔎 *Hint: Different shapes result in different hydraulic radii, affecting resistance and capacity.*\n",
    "\n",
    "---\n",
    "\n",
    "### 🔍 Reflective Questions (with Hints)\n",
    "\n",
    "1. **In mountainous terrain, which control (inlet or outlet) likely governs culvert flow, and why?**  \n",
    "   🔎 *Hint: Think about high slopes, short culvert lengths, and swift approach flows.*\n",
    "\n",
    "2. **How might debris accumulation at the entrance affect the accuracy of inlet control predictions?**  \n",
    "   🔎 *Hint: Imagine how effective flow area and entrance geometry could change in practice.*\n",
    "\n",
    "3. **If tailwater level increases over time due to downstream changes, what happens to the governing control assumption?**  \n",
    "   🔎 *Hint: A rising outlet depth could push the system into full-pipe flow conditions.*\n",
    "\n",
    "4. **Why is it important to account for both frequent low flows and rare flood events in culvert design?**  \n",
    "   🔎 *Hint: Reliability and safety aren’t based on a single storm. Think resilience and serviceability.*\n",
    "\n",
    "5. **How might increased rainfall intensity due to climate change affect culvert sizing and design safety margins?**  \n",
    "   🔎 *Hint: Consider whether current designs are conservative enough for future extremes.*\n",
    "\n",
    "---\n",
    "\n",
    "### 🧪 General Problem & Solution\n",
    "\n",
    "**Problem:**  \n",
    "A circular culvert has diameter \\( d = 1.2 \\) m, length \\( L = 30 \\) m, slope \\( S = 0.01 \\), and Manning's \\( n = 0.013 \\). The headwater depth at the entrance is \\( H_e = 1.0 \\) m, and tailwater depth is \\( H_c = 0.5 \\) m. Determine the inlet and outlet control discharges for both weir and orifice entrance conditions. Assume:\n",
    "\n",
    "- $( C_d^{\\text{weir}} = 0.6 $)\n",
    "- $( C_d^{\\text{orifice}} = 0.5 $)\n",
    "\n",
    "**Solution:**\n",
    "\n",
    "1. Cross-sectional area of circular culvert:\n",
    "   $$\n",
    "   A = \\pi \\left( \\frac{1.2}{2} \\right)^2 \\approx 1.13\\ \\text{m²}\n",
    "   $$\n",
    "\n",
    "2. Wetted perimeter:\n",
    "   $$\n",
    "   P = \\pi \\cdot 1.2 \\approx 3.77\\ \\text{m}\n",
    "   $$\n",
    "\n",
    "3. Hydraulic radius:\n",
    "   $$\n",
    "   R = \\frac{A}{P} \\approx \\frac{1.13}{3.77} \\approx 0.30\\ \\text{m}\n",
    "   $$\n",
    "\n",
    "4. Inlet Control (Weir Flow):\n",
    "   $$\n",
    "   Q_{\\text{in,weir}} = 0.6 \\cdot 1.2 \\cdot 1.0^{1.5} = 0.72\\ \\text{m³/s}\n",
    "   $$\n",
    "\n",
    "5. Inlet Control (Orifice Flow):\n",
    "   $$\n",
    "   Q_{\\text{in,orifice}} = 0.5 \\cdot 1.13 \\cdot \\sqrt{2 \\cdot 9.81 \\cdot 1.0} \\approx 2.50\\ \\text{m³/s}\n",
    "   $$\n",
    "\n",
    "6. Outlet Control:\n",
    "   $$\n",
    "   Q_{\\text{out}} = \\frac{1}{0.013} \\cdot 1.13 \\cdot 0.30^{2/3} \\cdot \\sqrt{0.01} \\approx 1.80\\ \\text{m³/s}\n",
    "   $$\n",
    "\n",
    "**Conclusion:** The governing discharge is the lower of the estimates:  \n",
    "✅ Governing flow = **0.72 m³/s** (inlet control, weir condition)\n",
    "\n",
    "---\n",
    "\n",
    "### ✅ Quiz Questions\n",
    "\n",
    "**Q1.** Inlet control occurs when:  \n",
    "A. The barrel is flowing full  \n",
    "B. Tailwater controls capacity  \n",
    "C. Entrance geometry and headwater dominate  \n",
    "D. The outlet is submerged  \n",
    "🟢 **Correct Answer:** C\n",
    "\n",
    "---\n",
    "\n",
    "**Q2.** Which of the following increases outlet-controlled flow?  \n",
    "A. Higher Manning’s \\( n \\)  \n",
    "B. Steeper culvert slope  \n",
    "C. Longer culvert  \n",
    "D. Smaller cross-sectional area  \n",
    "🟢 **Correct Answer:** B\n",
    "\n",
    "---\n",
    "\n",
    "**Q3.** The flow area of a circular culvert with diameter 1.0 m is approximately:  \n",
    "A. 0.79 m²  \n",
    "B. 1.00 m²  \n",
    "C. 3.14 m²  \n",
    "D. 0.50 m²  \n",
    "🟢 **Correct Answer:** A\n",
    "\n",
    "---\n",
    "\n",
    "**Q4.** Which is true about weir and orifice inlet equations?  \n",
    "A. Weir equation is more valid when culvert is submerged  \n",
    "B. Orifice equation is used for shallow flow  \n",
    "C. Weir flow occurs when water just begins overtopping  \n",
    "D. Orifice flow assumes zero entrance loss  \n",
    "🟢 **Correct Answer:** C\n",
    "\n",
    "---\n",
    "\n",
    "**Q5.** If a culvert design shows $( Q_{\\text{in}} > Q_{\\text{out}} $), which condition governs?  \n",
    "A. Inlet Control  \n",
    "B. Outlet Control  \n",
    "C. Submerged Flow  \n",
    "D. Critical Flow  \n",
    "🟢 **Correct Answer:** B"
   ]
  },
  {
   "cell_type": "code",
   "execution_count": null,
   "id": "13d2eb62-a1cd-407c-839e-9e6d0ac59500",
   "metadata": {},
   "outputs": [],
   "source": []
  }
 ],
 "metadata": {
  "kernelspec": {
   "display_name": "Python [conda env:base] *",
   "language": "python",
   "name": "conda-base-py"
  },
  "language_info": {
   "codemirror_mode": {
    "name": "ipython",
    "version": 3
   },
   "file_extension": ".py",
   "mimetype": "text/x-python",
   "name": "python",
   "nbconvert_exporter": "python",
   "pygments_lexer": "ipython3",
   "version": "3.12.7"
  },
  "widgets": {
   "application/vnd.jupyter.widget-state+json": {
    "state": {
     "013b2f00134a4ab1b21be5090256475e": {
      "model_module": "@jupyter-widgets/output",
      "model_module_version": "1.0.0",
      "model_name": "OutputModel",
      "state": {
       "layout": "IPY_MODEL_9a0e7d1aa4a943248f499dc8d1e074f0",
       "outputs": [
        {
         "name": "stdout",
         "output_type": "stream",
         "text": "🧮 Culvert Design Summary\nShape: Circular, Diameter/Depth: 1.00 m, Length: 10.0 m, Slope: 0.0101\nHeadwater Elevation (inlet): 1.00 m, Tailwater Elevation (outlet): 0.50 m\n🔵 Inlet Control Discharge (Q_in): 0.600 m³/s\n🟢 Outlet Control Discharge (Q_out): 2.410 m³/s\n✅ Governing Flow Control: Inlet Control\n"
        },
        {
         "data": {
          "image/png": "iVBORw0KGgoAAAANSUhEUgAAAxYAAAHqCAYAAACZcdjsAAAAOXRFWHRTb2Z0d2FyZQBNYXRwbG90bGliIHZlcnNpb24zLjkuMiwgaHR0cHM6Ly9tYXRwbG90bGliLm9yZy8hTgPZAAAACXBIWXMAAA9hAAAPYQGoP6dpAAC3zElEQVR4nOzdeXwTdf7H8dckPdKLQqGlBQoFRJBTBFwRFRABwRVR8Vg8QF1/q6Kut+Kxgrfouqgo6rorXsu6LoIHeKAIiqDiAVYKLFdpOSpHS+82beb7+2No2tIWGsg3yYTP8/HIg+lkknzmnZmQb2a+3zGUUgohhBBCCCGEOAqOYBcghBBCCCGEsD9pWAghhBBCCCGOmjQshBBCCCGEEEdNGhZCCCGEEEKIoyYNCyGEEEIIIcRRk4aFEEIIIYQQ4qhJw0IIIYQQQghx1KRhIYQQQgghhDhq0rAQQgghhBBCHDVpWAgh/OKXX37hqquuonPnzrhcLuLj4znppJOYMWMG+fn5Pj/f0qVLMQyDpUuX+r/YZli0aBHTpk1r9vKTJ0/GMIxGbx999BEA2dnZGIbBnDlz9BR9FKZNm4ZhGOzdu9fnxx7Neu3cuZNp06axevVqnx+r07fffstFF11EWloaUVFRpKamMmHCBFauXHlUz/vYY4+xYMGCBvOPZnvPyspi2rRpZGdn+/Q4f++zzaX7Pc/IyGDy5MlanlsIcWjSsBBCHLW///3vDBgwgFWrVnHnnXfyySefMH/+fC666CJeeuklrrnmmmCX6LNFixYxffp0nx4TExPDypUrG9xOO+00TVXa386dO5k+fXpINSyef/55hgwZwvbt25kxYwaff/45Tz/9NDt27OC0005j1qxZR/zcTTUsjkZWVhbTp0/3qWERzH02FN9zIYR/RAS7ACGEva1cuZLrr7+ekSNHsmDBAqKjo733jRw5kttvv51PPvkkiBX6pqysjNjY2CN6rMPh4JRTTvFzRSKQvvnmG2655RbGjh3L/PnziYio/W/y0ksv5fzzz+fPf/4z/fv3Z8iQIUGs9MjZbZ89mn1SCBFYcsRCCHFUHnvsMQzD4JVXXqn3BaVGVFQU48aN8/5tGEajpxgd7vSFmTNnYhgGmzZtanDf3XffTVRUVL3TeD7//HNGjBhBixYtiI2NZciQIXzxxRf1Hldz+s9PP/3EhAkTaNWqFV27dmXy5Mm88MIL3nprbr6eatJcy5cvZ8SIESQkJBAbG8upp57KwoULvfcXFRURERHBU0895Z23d+9eHA4HiYmJVFdXe+fffPPNJCcno5Q66rqGDRtG7969WbVqFaeffjqxsbF06dKFJ554AtM0D/v4jRs3MnHiRFJSUoiOjuaEE07w5grW6T+DBg0C4KqrrvLm3NQpaGvWrMEwDP7xj380uO/jjz/GMAw++OADAPbs2cP//d//kZ6eTnR0NMnJyQwZMoTPP//8kDU//vjjGIbB7Nmz6zUqACIiInjxxRcxDIMnnnjCO3/y5MlkZGQ0eK6a7auGYRiUlpby+uuve9d12LBhh6znhx9+YNy4cSQlJeFyuejfvz//+c9/vPfPmTOHiy66CIDhw4d7n/dQp6X5us+apsmMGTPo0aMH0dHRpKSkcOWVV7J9+/Z6j2vO9nK493zy5MnEx8eTmZnJqFGjSEhIYMSIEQDk5+dzww030L59e6KioujSpQv33XcflZWVh8xQCBE40rAQQhwxj8fDkiVLGDBgAOnp6Vpf6/LLLycqKqrBFyaPx8Nbb73FueeeS5s2bQB46623GDVqFC1atOD111/nP//5D0lJSYwePbpB4wLgggsu4LjjjuPdd9/lpZde4oEHHmDChAkA9U5pSktLO2yd1dXV9W4ej+eQyy9btowzzzyTwsJC/vGPfzB37lwSEhI499xzeeeddwBo0aIFgwYNqvel+IsvviA6Opri4mK+//577/zPP/+cM88809sQMgzjqM43z8vL47LLLuPyyy/ngw8+YMyYMUydOpW33nrrkI/Lyspi0KBB/Prrr/z1r3/lo48+4pxzzuHmm2/2nmJ20kkn8dprrwFw//33e3P+4x//2Ohz9uvXj/79+3sfU9ecOXNISUlh7NixAFxxxRUsWLCAv/zlL3z22We8+uqrnHXWWezbt6/Jmj0eD19++SUDBw6kQ4cOjS6Tnp7OgAEDWLJkyWHf24OtXLmSmJgYxo4d613XF198scnlv/zyS4YMGcL+/ft56aWXeP/99znxxBO55JJLvPvBOeecw2OPPQbACy+84H3ec845p8l19HWfvf7667n77rsZOXIkH3zwAQ8//DCffPIJp556aoM+OYfbXprznrvdbsaNG8eZZ57J+++/z/Tp06moqGD48OG88cYb3HbbbSxcuJDLL7+cGTNmcMEFFzRrPYQQAaCEEOII5eXlKUBdeumlzX4MoB588MEG8zt16qQmTZrk/fvLL79UgPryyy+98y644ALVoUMH5fF4vPMWLVqkAPXhhx8qpZQqLS1VSUlJ6txzz633/B6PR/Xr10+dfPLJ3nkPPvigAtRf/vKXBvVMmTJF+fIROWnSJAU0uA0ZMsS7zNatWxWgXnvtNe+8U045RaWkpKji4mLvvOrqatW7d2/VoUMHZZqmUkqp+++/X8XExKiKigqllFJ//OMf1dlnn6369u2rpk+frpRSaseOHQpQr7zyilJKqezsbOV0OtXVV1992PprstizZ4933tChQxWgvvvuu3rL9uzZU40ePfqQ6zV69GjVoUMHVVhYWO+xN954o3K5XCo/P18ppdSqVasaPPZQnnvuOQWoDRs2eOfl5+er6Ohodfvtt3vnxcfHq1tuuaVZz1mjudvzJZdcogD122+/KaWs975Tp04NlqvJtK64uLh623mNxrb3Hj16qP79+6uqqqp6y/7+979XaWlp3v3g3XffbfDYo13HGuvWrVOAuuGGG+rN/+677xSg7r33Xu+85m4vh3rPa/ajf/7zn/Xmv/TSSwpQ//nPf+rNf/LJJxWgPvvsM++8gz9LhBCBI0cshBC2cdVVV7F9+/Z6v9y/9tprpKamMmbMGABWrFhBfn4+kyZNqnfkwDRNzj77bFatWkVpaWm9573wwgv9Ul9MTAyrVq2qd2vstJ0apaWlfPfdd0yYMIH4+HjvfKfTyRVXXMH27dvZsGEDACNGjKC8vJwVK1YA1pGJkSNHctZZZ7F48WLvPICzzjoLgE6dOlFdXX3IGg4nNTWVk08+ud68vn37sm3btiYfU1FRwRdffMH5559PbGxsvfdh7NixVFRU8O233x5RPZdddhnR0dH1jlzNnTuXyspKrrrqKu+8k08+mTlz5vDII4/w7bffUlVVdUSv1xh14DSzuqc5+dumTZtYv349l112GUCDDHft2uXdNnT68ssvARoc9Tr55JM54YQTGhwBPJLtpTEH75NLliwhLi7OeySxRk1djR2JFEIEnjQshBBHrE2bNsTGxrJ169aAvN6YMWNIS0vznkpRUFDABx98wJVXXonT6QTgt99+A2DChAlERkbWuz355JMopRoMpdmcU5yaw+FwMHDgwHq37t27N7l8QUEBSqlGX79du3YA3lN3Tj31VGJjY/n888/ZtGkT2dnZ3obFd999R0lJCZ9//jldunShc+fOflkfgNatWzeYFx0dTXl5eZOP2bdvH9XV1Tz//PMN3oOaU5WOZFhbgKSkJMaNG8cbb7zhPRVpzpw5nHzyyfTq1cu73DvvvMOkSZN49dVXGTx4MElJSVx55ZXk5eU1+dzN3Z6zs7OJjY0lKSnpiNahOWq24zvuuKNBhjfccANwZBn6us/WbH9NbaMHn1p2JNvLwWJjY2nRokWDOlJTUxs05lJSUoiIiDjkKW5CiMCRUaGEEEfM6XQyYsQIPv74Y7Zv397keel1RUdHN9rZsjlfDGp+yX/uuefYv38///rXvxr8Ul3Tz+L5559vcoSmtm3b1vtb5y/Ph9KqVSscDge7du1qcN/OnTuB2vWJioritNNO4/PPP6dDhw6kpqbSp08funTpAlidYr/44gt+//vfB24FmtCqVSvvezVlypRGlzmaxs9VV13Fu+++y+LFi+nYsSOrVq1i9uzZ9ZZp06YNM2fOZObMmeTk5PDBBx9wzz33sHv37iZHPHI6nQwfPpxPPvmkye15+/bt/Pjjj4wZM8bbmHW5XI1u00faeKqpH2Dq1KlN9iE4VKO1Kb7uszUNhV27djVYdufOnd46/amx/bF169Z89913KKXq3b97926qq6u11CGE8J0csRBCHJWpU6eilOLaa6/F7XY3uL+qqooPP/zQ+3dGRga//PJLvWWWLFlCSUlJs17vqquuoqKigrlz5zJnzhwGDx5Mjx49vPcPGTKEli1bkpWV1eDoQc0tKirqsK9TM1qOL7+0+iouLo7f/e53vPfee/VexzRN3nrrLTp06MDxxx/vnX/WWWfx448/Mm/ePO/pTnFxcZxyyik8//zz7Ny50zs/mGJjYxk+fDg///wzffv2bfQ9qPnCeiQ5jxo1ivbt2/Paa6/x2muv4XK5+MMf/tDk8h07duTGG29k5MiR/PTTT4d87prt+YYbbmjQOdvj8XD99dejlGLq1Kne+RkZGezevdt7lAGsDsiffvppg+dv7q/33bt3p1u3bqxZs6bJ7TghIcH7nND8DH3ZZ88880yABp31V61axbp167wjNvniSN7zESNGUFJS0uAaIG+88Yb3fiFE8MkRCyHEURk8eDCzZ8/mhhtuYMCAAVx//fX06tWLqqoqfv75Z1555RV69+7NueeeC1ij9TzwwAP85S9/YejQoWRlZTFr1iwSExOb9Xo9evRg8ODBPP744+Tm5vLKK6/Uuz8+Pp7nn3+eSZMmkZ+fz4QJE0hJSWHPnj2sWbOGPXv2NPh1uzF9+vQB4Mknn/T+Ot23b99mNUp88fjjjzNy5EiGDx/OHXfcQVRUFC+++CK//vorc+fOrffr7IgRI/B4PHzxxRe8/vrr3vlnnXUWDz74IIZheL8IAmzbto2uXbsyadKko+pncSSeffZZTjvtNE4//XSuv/56MjIyKC4uZtOmTXz44YcsWbIEgK5duxITE8Pbb7/NCSecQHx8PO3atfOeCtYYp9PJlVdeyTPPPEOLFi244IIL6m0/hYWFDB8+nIkTJ9KjRw8SEhJYtWoVn3zyyWFHEBoyZAgzZ87klltu4bTTTuPGG2+kY8eO5OTk8MILL/Ddd98xc+ZMTj31VO9jLrnkEv7yl79w6aWXcuedd1JRUcFzzz3X6KhRffr0YenSpXz44YekpaWRkJDQ5JGHl19+mTFjxjB69GgmT55M+/btyc/PZ926dfz000+8++67APTu3RuAV155hYSEBFwuF507d270tCTwbZ/t3r07//d//8fzzz+Pw+FgzJgxZGdn88ADD5Cens6tt956yDwbcyTv+ZVXXskLL7zApEmTyM7Opk+fPixfvpzHHnuMsWPHhkSDWgiBjAolhPCP1atXq0mTJqmOHTuqqKgoFRcXp/r376/+8pe/qN27d3uXq6ysVHfddZdKT09XMTExaujQoWr16tXNGhWqxiuvvKIAFRMT02DUoRrLli1T55xzjkpKSlKRkZGqffv26pxzzlHvvvuud5nGRkKqW+cf//hHlZycrAzDUIDaunVrk+s/adIkFRcXd8iMGhs9SSmlvv76a3XmmWequLg4FRMTo0455RTvKFd1maap2rRpowC1Y8cO7/xvvvlGAeqkk05q9PWaM0JOU6NC9erVq9F1rTsKUlPrtXXrVnX11Ver9u3bq8jISJWcnKxOPfVU9cgjj9Rbbu7cuapHjx4qMjKyyVHDDva///3PO/LW4sWL691XUVGhrrvuOtW3b1/VokULFRMTo7p3764efPBBVVpaetjnVkqplStXqgkTJqi2bduqiIgIlZKSoi644AK1YsWKRpdftGiROvHEE1VMTIzq0qWLmjVrVqOjQq1evVoNGTJExcbGKkANHTpUKdX09r5mzRp18cUXq5SUFBUZGalSU1PVmWeeqV566aV6y82cOVN17txZOZ3OZo+y1dx91uPxqCeffFIdf/zxKjIyUrVp00ZdfvnlKjc3t97zNXd7Uarp9/xQ+9G+ffvUddddp9LS0lRERITq1KmTmjp1qnektBoyKpQQwWMo5YerKAkhhBBCCCGOadLHQgghhBBCCHHUpGEhhBBCCCGEOGrSsBBCCCGEEEIcNWlYCCGEEEIIIY6aNCyEEEIIIYQQR00aFkIIIYQQQoijdsxdIM80TXbu3ElCQkK9C08JIYQQQggh6lNKUVxcTLt27XA4Dn1MIqgNi8cff5z33nuP9evXExMTw6mnnsqTTz7Z5FVIAZYuXcrw4cMbzF+3bh09evQ47Gvu3LmT9PT0o6pbCCGEEEKIY0lubi4dOnQ45DJBbVgsW7aMKVOmMGjQIKqrq7nvvvsYNWoUWVlZxMXFHfKxGzZsoEWLFt6/k5OTm/WaCQkJgBVO3cfrpJSioqICl8slR0n8TLLVy1b5mibk5VnTqalwmF9VQoGt8rUZyVYf04Rdu6x8MzJcOJ2Sr7/J9quPZOu7oqIi0tPTvd+hDyWkrry9Z88eUlJSWLZsGWeccUajy9QcsSgoKKBly5Y+v0ZRURGJiYkUFhYGtGFhmiYOh0M2Yj+TbPWyVb6lpRAfb02XlMBhfpwIBbbK12YkW33q7mrFxYr4eMnX32T71Uey9Z0v351D6ie9wsJCAJKSkg67bP/+/UlLS2PEiBF8+eWXuks7KqZpkpmZiWmawS4l7Ei2etku34gI62YTtsvXRiRbvSIiFBERSvLVRLZffSRbvULmf2ClFLfddhunnXYavXv3bnK5tLQ0XnnlFQYMGEBlZSVvvvkmI0aMYOnSpY0e5aisrKSystL7d1FREQAejwePxwOAYRg4HA5M06TuAZya+TXLHW5+Tev34PlKKZRSjS4PNNi4nU6nt0V98PyDa2xqvu51aqr2QK+Tx+OpNx0O63So2gO9TnXzDfl1io0Ft7t2/oHHhfL7VJNvzU22Pf+tU022Ho8nbNYpVN6n2FhFaWkVa9euxeXqhcdj/3UKxfep7veGcFmn5tSue52ABt/J7L5Out8nX05uCpmGxY033sgvv/zC8uXLD7lc9+7d63XuHjx4MLm5uTz99NONNiwef/xxpk+f3mD+2rVriT9wLDcpKYmOHTuyfft28vPzvcukpqaSmppKdnY2xcXF3vnp6em0bt2ajRs3UlFR4Z3fpUsXWrRoQVZWVr03plu3bt7XrHvYrU+fPrjdbjZs2OCd53Q66dOnD8XFxWzZssU73+Vy0aNHDwoKCsjNzfXOT0hIoGvXruzevZu8mvPLA7BO3bt3JyoqiszMzHq5BnqdlFKUl5cDhM06Qei8T0op75HEcFknCJ33SSlFfn4+lZWVuFyusFinUHmf9u3bR35+PmvXriUtLS0s1imU3qfNmzd7842JiQmLdQql92ndunXefA3DCIt1CpX3qX379pSWltb7Tmb3ddL9PvlydCck+ljcdNNNLFiwgK+++orOnTv7/PhHH32Ut956i3Xr1jW4r7EjFunp6eTn53vPEwvEEYvMzEx69eqF0+mstzzYtwXbWO3BOGKxdu1a+vbty8Hsuk6Hqj0YRyxq8jUMIyzW6VC1B3qdavLt06eP93Xtvk6Hqz1Q61RdXc3atWvp1asXERERYbFOofQ+VVVVefN1Op1hsU6h9D653e56+YbDOoXK+6SU4pdffqn3nczu66T7fSoqKqJly5bN6mMR1IaFUoqbbrqJ+fPns3TpUu8v+76aMGEC+fn5LFmy5LDLSuft8CLZ6mWrfCsr4bbbrOlnnoHo6ODW0wy2ytdmJFt9Kivh1lsVoHjmGQOXS/L1N9l+9ZFsfefLd+egngo1ZcoU/vWvf/H++++TkJDgPbSTmJhITEwMAFOnTmXHjh288cYbAMycOZOMjAx69eqF2+3mrbfeYt68ecybNy9o69Ecbrcbl8sV7DLCkmSrl23yra6GF1+0pmfMsEXDAmyUrw1JtnpUV8Ps2QZgMGNG0E96CFuy/eoj2eoT1FGhZs+eTWFhIcOGDSMtLc17e+edd7zL7Nq1i5ycHO/fbrebO+64g759+3L66aezfPlyFi5cyAUXXBCMVWgW0zTZsGGDT+eoieaRbPWyVb6RkfDgg9YtMjLY1TSLrfK1GclWn8hIeOABkz/9KQ+nU/LVQbZffSRbvYJ6xKI5Z2HNmTOn3t933XUXd911l6aKhBC2FRUF06YFuwohwl5UFDz4oCIzM4+oqOZdnFYIcWwIqetYCCGEEEIIIewpZIabDXd1R4MS/iXZ6mWbfJWCA0PjkpgINumUZ5t8bUiy1UMp2L8fSksjCf64kuFLtl99JFt9QmK42UAKxqhQQogAKC2FA9emoaQE4uKCW48QYUp2NSGOLb58d5ZToQJAKUVRUZFPVy4UzSPZ6iX56iX56iPZBobkq4dsv/pItnpJwyIATNNky5YtMgKBBpKtXrbKNzYW3G7rFhsb7GqaxVb52oxkq09sLJSXe/j++9W4XJKvDrL96iPZ6iV9LIQQ4cEwbDPMrBB2VrOrRUbapiuTECJApGERJKXu0ibvczqcuCJczVrWYTiIiYw5omXLqsqaPBRoGAaxkbFHtGx5VTmmavqXgLiouCNatqK6Ao9Z/1LzHo+H8upySt2ltIhpcchl64qNjPVecbOyupJqs9ovy8ZExuAwrAOBbo+bKk+VX5Z1RbhwOpw+L1vlqcLtcTe5bHRENBGOiCaXrZtvbHSsd9lqs5rK6somnzfKGUWkM9LnZT2mh4rqiiaXjXRGEuWM8nlZU5mUV5X7ZdkIRwTREdbF95RSlFWVHfGydfONioxq9n4vnxGNL1t3v6+bbU1HzcN9ntQlnxGWpj4jGsu37rLyGXF0nxGN5evLfi+fEY0vW1FdgbvK3SDbppYNlc+IunWFOum8HQAej4eNGzfSrVs370ZsTG/6Z56x3caycOJC799xj8U1+cE0tNNQlk5e6v07+alk9pbtbXTZge0GsuraVd6/M2ZmsK1wW6PL9kzuydob1nr/7vViL7L2ZDW6bKfETmTfku39e9DfB/HDzh8aXbZNbBv23LnH+/ewOcNYtm1Zo8vGRsZSem/tB9w5/zqHRRsXNbosgHqwdlO+6N2L+G/Wf5tctmRqiXdHnbxgMq+veb3JZXffsZvkOGus9ikLp/DiDy82uezWP28lo2UGAHd+didPr3y6yWV/vf5XeqX0AmDa0mlMXza9yWW//+P3DGo/CICnvnmKuz5v+louX076kmEZwwB44fsXuPHjG5tc9qM/fMQ5x58DwJzVc7jq/auaXPY/E/7DRb0uAuDdte9y8X8vbnLZ1857jcknTgZg4f8W8vu5v29y2VljZjHl5CkALM1eyvDXhze57IyzZnDnkDsBWLVjFSe/erL3vshqeHSJNX3fmXDviAeZNmwaAGt3r6X37N5NPu8dg+/gqVFPAZC9P5vOz3ZuctkbBt7AC+e8AMCe0j2kPJ3S5LKT+k1izvg5gPWfdfzj8U0uO6HnBN696F3v3/IZYZHPiBD8jKiOhCWPWguceR9EWI2YUP+MONiDQ+UzAuQzoq5Q/YyoW1cwSOftEON0OunRo4cMbyaERpEm3LnCukXKqbNC6GNGwoo7rZsppx8KIWrJEYsAME2TgoICWrVqhcNhteXkEKbvyzZ2WNI0TQr2F9CqZSsSXAmHXLYuOc3BcrhToermGxMVE9qnObjdRP7F+kW36qEHiYyJC9nTHGrUzTcyIlJOczjAH58RdbOt+dwN1dMc/LFsID8j3G6Y9kAkFZUVPPaEgcvlaLBsSH5GHGLZUPuMaGz7lVOhah3NZ0RVdVWDbJtaNlQ+I4J9KpQv352lYREAHo+HzMxM+vTpI0ct/Eyy1Uvy1Uvy1Uey1Uvy1Uvy1Uey9Z2cCiWEEEIIIYQIKBkVSggRHpSC6gOHlyMiZBxMITRRCqqqrNuxdc6DEOJwpGERIAkJCYdfSBwRyVYv2+RbVgbxB0ZUKSmBOHsMz2ebfG1IstXD2tWcwIkUFnoI0FnFxxzZfvWRbPWRPhZCiPBQWmrLhoUQdiO7mhDHFuljEWJM0yQvL08uH6+BZKuXrfKNjYWCAusWG3v45UOArfK1GclWn9hY2LfPZP3633C5JF8dZPvVR7LVSxoWAaCUIi8vr8lh1sSRk2z1slW+hgEtW1o3m/SvsFW+NiPZ6mMYkJioKC/fBUi+Osj2q49kq5c0LIQQQgghhBBHTRoWQojw4HbDtGnWzd30Bb+EEEfH7Ybp0w1eeilVdjUhRD3SsAgAwzBISkryXnVR+I9kq5et8q2qgunTrVtV01cdDiW2ytdmJFt9qqrg4YcdvPxyKtXVkq8Osv3qI9nqJcPNBoDD4aBjx47BLiMsSbZ62SrfiAi44YbaaRuwVb42I9nqU3dXi4qS3yd1kO1XH8lWL/lECADTNMnJyZERCDSQbPWyVb7R0fDCC9YtOjrY1TSLrfK1GclWn+hoeP55k7vvziEyUvLVQbZffSRbvaRhEQBKKfLz82UEAg0kW70kX70kX30kW70kX70kX30kW72kYSGEEEIIIYQ4atKwEEKEh9JSiIy0bqWlwa5GiLBVWgoul4NBg/rJriaEqMcePRxtzjAMUlNTZQQCDSRbvWyXb3V1sCvwie3ytRHJVq+a0aAkXz1k+9VHstXLUMfYSWZFRUUkJiZSWFhIixYtgl2OEMJfTBN27bKm09LAIQdkhdBBdjUhji2+fHeWj4MA8Hg8bN68GY/HE+xSwo5kq5et8nU4oH1762aTbzq2ytdmJFt9HA5ITfVQUbEZpSRfHWT71Uey1cse//uGgeLi4mCXELYkW70kX70kX30kW70kX70kX30kW32kYSGECA9uNzz1lHVzu4NdjRBhy+2Gp582eP31ZNnVhBD1SMNCCBEeqqrgrrusW1VVsKsRImxVVcE99ziYObO97GpCiHpkVKgAMAyD9PR0GYFAA8lWL1vlGxEBkybVTtuArfK1GclWn4gIuPJKhdtdSWRkVLDLCUuy/eoj2eolo0IJIYQQQgghGiWjQoUYj8fD+vXrZQQCDSRbvSRfvSRffSRbvSRfvSRffSRbvaRhESAVFRXBLiFsSbZ6Sb56Sb76SLZ6Sb56Sb76SLb6SMNCCBEeSkuhZUvrVloa7GqECFulpdC6tYPTT+8ju5oQoh579HAUQojmKCwMdgVCHBMKCw3ACcjpJEKIWtKwCACHw0GXLl1w2ORqwHYi2eplq3xjYuB//6udtgFb5Wszkq0+MTGwYYOitLSUuLi4YJcTlmT71Uey1UtGhRJCCCGEEEI0SkaFCjEej4fMzEwZgUADyVYvyVcvyVcfyVYvyVcvyVcfyVYvaVgEiGzA+ki2etkm36oqeOEF62ajywHbJl8bkmz1qKqCF180+Ne/WtlpV7Md2X71kWz1kT4WQojw4HbDjTda05MnQ2RkUMsRIly53XDzzQ6gA1OnenC5gl2RECJUSMNCCBEenE6YMKF2WgihhdMJF16oKCwsxOlMCHY5QogQIp23A0ApRUVFBS6XC8MwAvKaxwrJVi/JVy/JVx/JVi/JVy/JVx/J1nfSeTsERUVFBbuEsCXZ6iX56iX56iPZ6iX56iX56iPZ6iMNiwAwTZPMzExM0wx2KWFHstVL8tVL8tVHstVL8tVL8tVHstVLGhZCiPBQVgbt21u3srJgVyNE2Corg44dHYwa1VN2NSFEPdJ5WwgRHpSCnTtrp4UQWli7mgFEoZQM2ymEqCUNCyFEeHC54Oefa6eFEFq4XPDDDx42bdqEy3VcsMsRQoQQGRUqAJRSmKaJw+GQEQj8TLLVS/LVS/LVR7LVS/LVS/LVR7L1nYwKFYLcbnewSwhbkq1ekq9ekq8+kq1ekq9ekq8+kq0+0rAIANM02bBhg4xAoIFkq5et8q2qgjlzrFtVVbCraRZb5Wszkq0+VVXw2muKp57aQ2Wl5KuDbL/6SLZ6SR8LIUR4cLvhqqus6YsugsjI4NYjRJhyu+GaaxxAR265xSNdmoQQXtKwEEKEB6cTxo6tnRZCaOF0wpgxiuLiIpzO+GCXI4QIIdKwCBCnfNHRRrLVyzb5ulywcGGwq/CZbfK1IclWD5cLPvzQJCsrB5erZ7DLCVuy/eoj2eojo0IJIYQQQgghGiWjQoUYpRRFRUUcY224gJBs9ZJ89ZJ89ZFs9ZJ89ZJ89ZFs9ZKGRQCYpsmWLVtkBAINJFu9bJVvWRl062bdysqCXU2z2Cpfm5Fs9Skrg+OPh969oykpkXx1kO1XH8lWL+ljIYQID0rBpk2100IILaxdzQCiUcoT7HKEECFEGhZCiPDgcsHy5bXTQggtXC5YtszDli1bcLm6BLscIUQIkYZFgLjki442kq1etsnX6YQhQ4Jdhc9sk68NSbZ61OxqKSkeGdlZI9l+9ZFs9ZFRoYQQQgghhBCNklGhQoxpmuzbt086Cmkg2eplq3yrq+Hdd61bdXWwq2kWW+VrM5KtPtXV8M47Jv/8ZzFut+Srg2y/+ki2eknDIgCUUuTm5srQZhpItnrZKt/KSrj4YutWWRnsaprFVvnajGSrT2UlXHqpg2uuSaCiQvLVQbZffSRbvaSPhRAiPDgcMHRo7bQQQguHA844Q1FaWorDERPscoQQIUQaFkKI8BATA0uXBrsKIcJeTAwsWWKSmbmJmJg+wS5HCBFCgvqz3uOPP86gQYNISEggJSWF8ePHs2HDhsM+btmyZQwYMACXy0WXLl146aWXAlDt0UlISAh2CWFLstVL8tVL8tVHstVL8tVL8tVHstUnqKNCnX322Vx66aUMGjSI6upq7rvvPjIzM8nKyiIuLq7Rx2zdupXevXtz7bXX8qc//YlvvvmGG264gblz53LhhRce9jVlVCghhBBCCCGax5fvziE13OyePXtISUlh2bJlnHHGGY0uc/fdd/PBBx+wbt0677zrrruONWvWsHLlysO+RjAaFqZpsnv3blJSUnDIud9+JdnqZat8y8th8GBreuVK63yNEGerfG1GstXH2tUU1dXVfPedk7g4ydffZPvVR7L1nW2Hmy0sLAQgKSmpyWVWrlzJqFGj6s0bPXo0P/zwA1VVVVrrO1JKKfLy8mQEAg0kW71sla9pwpo11s0mwwjaKl+bkWz1sXY1g7VrI/F4JF8dZPvVR7LVK2Q6byuluO222zjttNPo3bt3k8vl5eXRtm3bevPatm1LdXU1e/fuJS0trd59lZWVVNYZerKoqAgAj8eDx+MBwDAMHA4HpmnW29Bq5tcsd7j5DocDwzAazFdKoZRqdHmgwVjKTqcTpVSj8w+usan5utepqdoDvU4ej6fedDis06FqD/Q61c035NcpOho+/dSaHxkJBx4Xyu9TTb41N9n2/LdONdl6PJ6wWadQeZ+ioxULF1azbds2IiM74vHYf51C8X2q+70hXNapObXrXiegwXcyu6+T7vfJl0ZYyDQsbrzxRn755ReWL19+2GVrNowaNSt88HywOohPnz69wfy1a9cSHx8PWEdIOnbsyPbt28nPz/cuk5qaSmpqKtnZ2RQXF3vnp6en07p1azZu3EhFRYV3fpcuXWjRogVZWVn13phu3bp5X7NujX369MHtdtfrsO50OunTpw/FxcVs2bLFO9/lctGjRw8KCgrIzc31zk9ISKBr167s3r2bvLw873zd69S9e3eioqLIzMysl2ug10kpRXl5OUDYrBOEzvuklPIeSbTFOp1+urVOWVlNrhOEzvuklCI/P5/KykpcLpdse35cp3379pGfn8/atWtJS0sLi3UKlfeprKyYtLTNREfns359MTExMbZfp1B7n9atW+fdfg3DCIt1CpX3qX379pSWltb7Tmb3ddL9PvlyMcGQ6GNx0003sWDBAr766is6d+58yGXPOOMM+vfvz7PPPuudN3/+fC6++GLKysqIjIyst3xjRyzS09PJz8/3niemu7UHsH37dtq1a1fvfD67t2Abqz3Q62SaJjt37iQ9Pb3Bc9h1nQ5Ve6DXyTRNduzYQceOHQHCYp0OVXug16km3/T0dO/z232dDld7II9Y7Nixg/bt2+N0OsNinULpfaqurvbm63A4wmKdQul9qqqqqpdvOKxTqLxPALm5ufW+k9l9nXS/T0VFRbRs2TL0O28rpbjpppuYP38+S5cu9f6yfyh33303H374IVkHfpEEuP7661m9enXIdt4WQgRAdTV8+qk1PXo0RITMAVkhworsakIcW2zTeXvKlCm89dZb/Otf/yIhIYG8vDzy8vK8p7YATJ06lSuvvNL793XXXce2bdu47bbbWLduHf/85z/5xz/+wR133BGMVWgW0zTJycnx6VCSaB7JVi9b5VtZCb//vXWrc5QylNkqX5uRbPWpu6uVl0u+Osj2q49kq1dQGxazZ8+msLCQYcOGkZaW5r2988473mV27dpFTk6O9+/OnTuzaNEili5dyoknnsjDDz/Mc88916xrWARLzXnUIXDWWdiRbPWyVb4OBwwcaN0cQf1oazZb5Wszkq0+1q6m6NmzDMOQfHWQ7VcfyVavoB7AbM6bOmfOnAbzhg4dyk8//aShIiGEbcXEwKpVwa5CiLAXEwPffmuSmfk/YmL6BLscIUQIscfPekIIIYQQQoiQJg2LADAMg9TU1EaHwxVHR7LVS/LVS/LVR7LVS/LVS/LVR7LVKySGmw0kGRVKiDBVXg5nnWVNf/65db6GEMLvZFcT4thim1GhjhUej4fNmzc3en0LcXQkW71sla9pwooV1s0mo33YKl+bkWz1qburVVVJvjrI9quPZKuXjD4dIHWveij8S7LVyzb5RkfD/Pm10zZhm3xtSLLVIzoa5s3zsG1bDtHRHYNdTtiS7VcfyVYfaVgIIcJDRASMHx/sKoQIexERcN55kJlZKBfHE0LUI6dCCSGEEEIIIY6aNCwCwDAM0tPTZQQCDSRbvWyVr8cDS5daN5ucO2urfG1GstXH44Flywy2beuMaUq+Osj2q49kq5eMCiWECA+lpRAfb02XlEBcXHDrESJMya4mxLFFRoUKMR6Ph/Xr18sIBBpItnrZKl/DgJ49rZtNfomyVb42I9nqY+1qiq5dKzFNyVcH2X71kWz1km5XAVJRURHsEsKWZKuXbfKNjYW1a4Ndhc9sk68NSbZ6xMbCL7+YZGauIza2T7DLCVuy/eoj2eojRyyEEEIIIYQQR00aFkIIIYQQQoijJqdCBYDD4aBLly44HNKO8zfJVi9b5VteDuPGWdMffAAxMcGtpxlsla/NSLb6WLuag+rq3ixc6CA2NtgVhR/ZfvWRbPWSUaGEEOFBhqoRIiBkVxPi2CKjQoUYj8dDZmamjECggWSrl63yjY6Gt96ybtHRwa6mWWyVr81ItvpER8Mbb5g8/nguERGSrw6y/eoj2eolp0IFiGzA+ki2etkm34gIuOyyYFfhM9vka0OSrR4RETBxoiIzcx8REe2CXU7Yku1XH8lWHzliIYQQQgghhDhq0rAQQoQHjwdWrbJu8muUENrU7Gpr18bIriaEqEc6bweAUoqKigpcLheGTa4IbBeSrV62yteGPUptla/NSLb61N3ViosV8fGSr7/J9quPZOs7X747Sx+LAImKigp2CWFLstXLNvkaBnTqVDttE7bJ14YkWz2sXU15p4Uesv3qI9nqI6dCBYBpmmRmZmKaZrBLCTuSrV62yjc2FrKzrZtNBta3Vb42I9nqExsLmzebLFiwBpdL8tVBtl99JFu9pGEhhBBCCCGEOGrSsBBCCCGEEEIcNWlYCCHCQ0UFjB9v3Soqgl2NEGGrogIuuMDBrbd2ll1NCFGPjAoVAEopTNPE4XDICAR+JtnqZat8bToqlG3ytRnJVh8ZFUo/2X71kWx9J6NChSC3243L5Qp2GWFJstXLNvlGRcErr9RO24Rt8rUhyVaPqCh4+WVFVVUVUVGRwS4nbMn2q49kq4+cChUApmmyYcMGGYFAA8lWL1vlGxkJ115r3SLt8WXHVvnajGSrT2QkXHONyZAhWTidkq8Osv3qI9nqJQ0LIYQQQgghxFGThoUQIjyYJqxda93klyghtKnZ1TZvdsmuJoSoR/pYBIjT6Qx2CWFLstXLNvmWl0Pv3ta0TTpvg43ytSHJVo/ycujXzwn0oLDQY5czD21Htl99JFt9ZFQoIUR4KC2FjAxrOjvbNg0LIexGdjUhji2+fHeWU6ECQClFUVERx1gbLiAkW71slW9cHOzZY91s8k3HVvnajGSrT1wc7N6t2Ly5iNhYyVcH2X71kWz1koZFAJimyZYtW2QEAg0kW70kX70kX30kW70kX70kX30kW72kYSGEEEIIIYQ4atKwEEKEh4oKuOwy61ZREexqhAhbFRVwxRUG997bUXY1IUQ9MipUgMgVHvWRbPWyTb4eD/zrX9Z0zRW4bcA2+dqQZKuHxwNz5zqAJDweT7DLCVuy/eoj2eojo0IJIcJDVRW88II1PWWKba6+LYTdyK4mxLHFl+/O0rAIANM0KSgooFWrVjgccvaZP0m2ekm+ekm++ki2ekm+ekm++ki2vpPhZkOMUorc3FwZ2kwDyVYvyVcvyVcfyVYvyVcvyVcfyVYvaVgIIcKDaVpX68rOtqaFEFrU7Go7d0bJriaEqEc6bwshwkN5OXTubE2XlNjmInlC2E15ORx3nBPoSWGhR/pYCCG8pGERIAkJCcEuIWxJtnrZKt/Y2GBX4DNb5Wszkq0+sbFKTiXRTLZffSRbfaTzthBCCCGEEKJR0nk7xJimSV5enlw+XgPJVi/JVy/JVx/JVi/JVy/JVx/JVi9pWASAUoq8vDw5bKyBZKuX5KuX5KuPZKuX5KuX5KuPZKuXNCyEEOGhshKuvda6VVYGuxohwlZlJfzpTwYPPZQuu5oQoh7pvC2ECA/V1fDqq9b0zJkQHR3UcoQIV9XV8I9/OIDWVFd7gl2OECKESMMiAAzDICkpCcMwgl1K2JFs9bJVvpGR8MgjtdM2YKt8bUay1ScyEh5+2KSwsIioKBkERQfZfvWRbPWSUaGEEEIIIYQQjZJRoUKMaZrk5OTICAQaSLZ6Sb56Sb76SLZ6Sb56Sb76SLZ6ScMiAJRS5OfnywgEGki2etkqX6Vgzx7rZod6sVm+NiPZ6qMU7N6t2LSpENOUfHWQ7VcfyVYvn/pYFBYWMn/+fL7++muys7MpKysjOTmZ/v37M3r0aE499VRddQohxKGVlUFKijVdUgJxccGtR4gwVVYGaWlOoA+FhR7krGIhRI1mHbHYtWsX1157LWlpaTz00EOUlpZy4oknMmLECDp06MCXX37JyJEj6dmzJ++8847umoUQQgghhBAhpllHLPr168eVV17J999/T+/evRtdpry8nAULFvDMM8+Qm5vLHXfc4ddC7cwwDFJTU2UEAg0kW71slW9cnG1Ogaphq3xtRrLVJy4OPB6T3bt3Ex+fEuxywpJsv/pItno1a1SoPXv2kJyc3Own9XX5QJJRoYQQQgghhGgev48K5WsjIVQbFcHi8XjYvHkzHo9cSMjfJFu9JF+9JF99JFu9JF+9JF99JFu9fB4V6vXXX2fhwoXev++66y5atmzJqaeeyrZt2/xaXDgpLi4OdglhS7LVyzb5VlbCLbdYt8rKYFfTbLbJ14YkWz0qK+G22wz+8pcWdtrVbEe2X30kW318blg89thjxMTEALBy5UpmzZrFjBkzaNOmDbfeeqvfCxRCiGaproZnn7Vu1dXBrkaIsFVdDc895+Bf/0qWXU0IUY9Pw80C5ObmctxxxwGwYMECJkyYwP/93/8xZMgQhg0b5u/6hBCieSIj4d57a6eFEFpERsI995js2bObyEg59VkIUcvnhkV8fDz79u2jY8eOfPbZZ96jFC6Xi/Lycr8XGA4MwyA9PV1GINBAstXLVvlGRcGjjwa7Cp/YKl+bkWz1qdnVCgoiiY6WfHWQ7VcfyVYvnxsWI0eO5I9//CP9+/fnf//7H+eccw4Aa9euJSMjw9/1hQWHw0Hr1q2DXUZYkmz1knz1knz1kWz1knz1knz1kWz18rmPxQsvvMDgwYPZs2cP8+bN8745P/74I3/4wx/8XmA48Hg8rF+/XkYg0ECy1ctW+SoFpaXWzSbXs7BVvjYj2eqjFBQVefjppw1UV0u+Osj2q49kq1ezj1i88sorjBs3jtTUVGbNmtXg/unTp/u1sHBTUVER7BLClmSrl23yLSuD+HhruqTEuoqXDdgmXxuSbPUoK4PERCfQncJCD3JJKD1k+9VHstWn2Ucs5s6dS0ZGBr/73e947LHHyMrK0lmXEEIIIYQQwkaa3bD48ssv2bVrFzfddBOrV69m8ODBdO3aldtuu42lS5dimqbOOoUQ4tBiY60jFSUl1rQQQovYWCgs9LBixS+yqwkh6vGpj0WrVq24/PLL+c9//sOePXt44YUXqKio4IorriA5OZkrr7yS//73v5SWljbr+b766ivOPfdc2rVrh2EYLFiw4JDLL126FMMwGtzWr1/vy2oEnMPhoEuXLjgcPndpEYch2eplq3wNwzr9KS7OmrYBW+VrM5KtPoYBCQkOevXKwOmUfHWQ7VcfyVavI041KiqKs88+mxdffJHc3Fw+/fRTMjIyePjhh3nmmWea9RylpaX069ev0T4bh7JhwwZ27drlvXXr1u1IViFgDMOgRYsWMrSZBpKtXpKvXpKvPpKtXpKvXpKvPpKtXkfUsCgsLGwwb+DAgTz00EOsWbOGe+65p1nPM2bMGB555BEuuOACn14/JSWF1NRU783pdPr0+EDzeDxkZmbKCAQaSLZ62Spftxvuu8+6ud3BrqZZbJWvzUi2+rjdMHWqybXX7qa8XPLVQbZffSRbvZo9KtQDDzzA66+/zs0338z06dO59dZbeeihhxpdNlLzVW/79+9PRUUFPXv25P7772f48OFNLltZWUllZaX376KiIsDasGo2KsMwcDgcmKaJqjNMZc38gze+puY7HA4Mw2gwXylFdXV1o8sDDfqnOJ1OlFKNzj+4xqbm616npmoP9Dp5PB6qq6u90+GwToeqPdDrVDffkF8ntxvjscesuu++Gw784BDK71NNvkqpRms8lre9o12nmmw9Hk/YrFOovE9ut+KJJxxACjNmuImKsv86heL7VPd7Q7isU3Nq171OQIPvZHZfJ93v08F1HEqzGxbff/89Sikuu+wyrr76as4444wmGxa6pKWl8corrzBgwAAqKyt58803GTFiBEuXLuWMM85o9DGPP/54o0Phrl27lvgDQ1MmJSXRsWNHtm/fTn5+vneZmiMi2dnZFBcXe+enp6fTunVrNm7cWG/Isi5dutCiRQuysrLqvTE1p2qtXbu23qG3Pn364Ha72bBhg3ee0+mkT58+FBcXs2XLFu98l8tFjx49KCgoIDc31zs/ISGBrl27snv3bvLy8rzzda9T9+7diYqKIjMzs16ugV4npZT3iu/hsk4QOu+TUsp7hDLk1+n441FTplBQUMDO9etRUVEh/z4ppcjPz6eyshKXyyXbnh/Xad++feTn57N27VrS0tLCYp1C5X0qLy/mD3+ooLKygv/9L5/ERPuvU6i9T+vWrfNuv4ZhhMU6hcr71L59e0pLS+t9J7P7Oul+n3wZoMlQzWyGnH322URERPDRRx8BMHz4cL788stmv9BhCzEM5s+fz/jx43163LnnnothGHzwwQeN3t/YEYv09HTy8/NpcWDw7UAcscjMzKRXr171Ttuyewu2sdqDccRi7dq19O3bl4PZdZ0OVXswjljU5GsYRlis06FqD/Q61eTbp08f7+vafZ0OV3ug1qm6upq1a9fSq1cvIiIiwmKdQul9qqqq8ubrdDrDYp1C6X1yu9318g2HdQqV90kpxS+//FLvO5nd10n3+1RUVETLli0pLCz0fnduSrOPWAwYMIBHH30UALfbTVVVVXMfqtUpp5zCW2+91eT90dHRREdHN5hf80FYV80b39iyRzNfKUWPHj2IjIxstLNQY89jGEaj85uq0df5R7tORzJfxzo5HA569Ojh3SGOtkZf54f7+9ScfO22Ts2pMVDrVJOv0+lsssamnidU1+lo5vtznSIjIxt87tp9nXTV6Ot8wzAazdfu6xRK71Nj+fr6PKG2TqHyPh3qO5ld1+lQ8/1VY3M1u/N2TaMCrBGhli5d2uwX0ennn38mLS0t2GUcVlRUVLBLCFuSrV6Sr16Srz6SrV6Sr16Srz6SrT5HPNxsREQEJSUlFBUV1bv5oqSkhNWrV7N69WoAtm7dyurVq8nJyQFg6tSpXHnlld7lZ86cyYIFC9i4cSNr165l6tSpzJs3jxtvvPFIVyMgTNMkMzPTp3PURPNItnrZKt/SUmuAfcOwpm3AVvnajGSrT2kpOBwGERFOioslXx1k+9VHstWr2adC1di6dSs33ngjS5curdfpQynV6LlZh/LDDz/UG9HptttuA2DSpEnMmTOHXbt2eRsZYJ2Cdccdd7Bjxw5iYmLo1asXCxcuZOzYsb6uhhBCCCGEEMKPfG5YXHbZZQD885//pG3btj6dd3WwYcOGHXIIqzlz5tT7+6677uKuu+464tcTQoSx2FjYvbt2WgihRWws7NrlISsri9jYnsEuRwgRQnxuWPzyyy/8+OOPdO/eXUc9QghxZAwDkpODXYUQYa9mV0tK8nAUvy0KIcJQs4ebrTF8+HDuu+8+zjrrLF01aVVUVERiYmKzhszyl5qhxA41so44MpKtXpKvXpKvPpKtXpKvXpKvPpKt73z57uzzEYtXX32V6667jh07dtC7d+8GV9lu7HoCwuof4nK5gl1GWJJs9bJNvm43PPWUNX3nnWCTUT9sk68NSbZ6uN0wYwZUV5tMneqgkRHdhR/I9quPZKuPz0csvv32WyZOnEh2dnbtkxy44IivnbeDIRhHLDweD5mZmd6LYAn/kWz1slW+paUQH29Nl5RAXFxw62kGW+VrM5KtPnV3tcJCDy1aSL7+JtuvPpKt77Qesbj66qvp378/c+fOPerO20II4TcREfDHP9ZOCyG0iIiAa64xyc8vICKiZbDLEUKEEJ//9922bRsffPABxx13nI56hBDiyERHw9//HuwqhAh70dHw8suKzMxcoqNbBrscIUQI8fkCeWeeeSZr1qzRUUtYk8Nt+ki2ekm+ekm++ki2ekm+ekm++ki2+vjcx+KVV17hkUce4eqrr6ZPnz4NOm+PGzfOrwX6WzD6WAghhBBCCGFHvnx39rlh4XA0fZBDOm83TilFcXExCQkJ0ifFzyRbvWyVb2kppKRY07t326Lztq3ytRnJVh9rV7O+Ovz2G8THS77+JtuvPpKt73z57uzzqVCmaTZ5C/VGRbCYpsmWLVswTTPYpYQdyVYv2+VbVmbdbMJ2+dqIZKtXWZlBWZkh+Woi268+kq1eMnSKECI8xMTA1q2100IILWJiYNMmDxs2bCAmpnuwyxFChJBmHbH497//3ewnzM3N5ZtvvjnigoQQ4og4HJCRYd0OccqmEOLo1Oxq7dq5ZVcTQtTTrI+E2bNn06NHD5588knWrVvX4P7CwkIWLVrExIkTGTBgAPn5+X4v1O7kCo/6SLZ6Sb56Sb76SLZ6Sb56Sb76SLb6NLvz9kcffcTzzz/P559/TlxcHG3btsXlclFQUEBeXh7JyclcddVV3HLLLaTUdKAMQTIqlBBhqqoKXnjBmp4yBQ4asU4I4R+yqwlxbNE6KtS+fftYvnw52dnZlJeX06ZNG/r370///v0POWJUqAhGw8I0TQoKCmjVqpUtMrITyVYvW+VbWgrx8dZ0SYktRoWyVb42I9nqU3dXKyoySUiQfP1Ntl99JFvf+fLd2efO261bt+a888474uKORUopcnNzadmyZbBLCTuSrV62ytfphIkTa6dtwFb52oxkq4/TCX/4g8n+/ftxOBKDXU5Yku1XH8lWLxkVSggRHlwuePvtYFchRNhzueDNNxWZmTm4XH2CXY4QIoTIMSAhhBBCCCHEUZOGRYAkJCQEu4SwJdnqJfnqJfnqI9nqJfnqJfnqI9nq43PnbbuTUaGECFOlpdbg+gDZ2bbovC2EHcmuJsSxxZfvzkd8xGLv3r0UFRUd6cOPKaZpkpeXJ5eP10Cy1ct2+e7da91swnb52ohkq1fNrib56iHbrz6SrV4+NSz279/PlClTaNOmDW3btqVVq1akpqYydepUysrKdNVoe0op8vLyOMYODgWEZKuXrfKNiYFff7VuMTHBrqZZbJWvzUi2+sTEwJo1Hv773/W4XJKvDrL96iPZ6tXsUaHy8/MZPHgwO3bs4LLLLuOEE05AKcW6det4/vnnWbx4McuXL2fNmjV899133HzzzTrrFkKI+hwO6NUr2FUIEfZqdjXTrEAuAyCEqKvZDYuHHnqIqKgoNm/eTNu2bRvcN2rUKK644go+++wznnvuOb8XKoQQQgghhAhdzW5YLFiwgJdffrlBowIgNTWVGTNmMHbsWB588EEmTZrk1yLtzjAMkpKSMAwj2KWEHclWL1vlW1UFc+ZY05MnQ2RkMKtpFlvlazOSrT5VVfDPfxrs35/OCScYdrkepa3I9quPZKtXs0eFio6OZvPmzXTo0KHR+7dv305GRgbV1dV+LdDfZFQoIcJUaSnEx1vTJSUyVI0QmsiuJsSxRcuoUG3atCE7O7vJ+7du3UpKSkqzizyWmKZJTk6OjECggWSrl63ydTrhvPOsm01+QrVVvjYj2erjdMK4cYpRo8owDMlXB9l+9ZFs9Wp2w+Lss8/mvvvuw+12N7ivsrKSBx54gLPPPtuvxYULpRT5+fkyAoEGkq1etsrX5YIFC6ybyxXsaprFVvnajGSrj8sF771n8uST/yM6WvLVQbZffSRbvZrdx2L69OkMHDiQbt26MWXKFHr06AFAVlYWL774IpWVlbzxxhvaChVCCCGEEEKErmY3LDp06MDKlSu54YYbmDp1qrelZxgGI0eOZNasWXTs2FFboUIIIYQQQojQ1eyGBUDnzp35+OOPKSgoYOPGjQAcd9xxJCUlaSkuXBiGQWpqqoxAoIFkq5et8i0rg549remsLIiNDW49zWCrfG1GstXH2tUceDx9WLfO8HbkFv4j268+kq1ezR4VKlzIqFBChCkZqkaIgJBdTYhji5ZRocSR83g8bN68GY/HE+xSwo5kq5et8nW54PvvrZtNOm/bKl+bkWz1cblg5UoP7723nchIyVcH2X71kWz18ulUKHHkiouLg11C2JJs9bJNvk4nDBoU7Cp8Zpt8bUiy1aNmV8vM3IvTmRbscsKWbL/6SLb6yBELIYQQQgghxFGTIxZCiPBQXQ3vvGNNX3IJRMjHmxA6VFfD3LkGubmtOOEE21yPUggRAEd0xOLNN99kyJAhtGvXjm3btgEwc+ZM3n//fb8WFy4MwyA9PV1GINBAstXLVvlWVsLll1u3yspgV9MstsrXZiRbfSor4corHdx3XyfcbslXB9l+9ZFs9fK5YTF79mxuu+02xo4dy/79+72dX1q2bMnMmTP9XV9YcDgctG7dGodDzjzzN8lWL1vl63DAWWdZNzvUi83ytRnJVp+6u1pEhOSrg2y/+ki2evmc6vPPP8/f//537rvvPpx1jn8OHDiQzMxMvxYXLjweD+vXr5cRCDSQbPWyVb4xMbB4sXWLiQl2Nc1iq3xtRrLVJyYGPvnEw/PPrycqSvLVQbZffSRbvXxuWGzdupX+/fs3mB8dHU1paalfigpHFRUVwS4hbEm2ekm+ekm++ki2ekm+ekm++ki2+vjcsOjcuTOrV69uMP/jjz+mZ81Vb4UQQgghhBDHFJ+HTbnzzjuZMmUKFRUVKKX4/vvvmTt3Lo8//jivvvqqjhqFEOLwyspqr2OxahXExga3HiHClLWrOaio6M7q1ZCQEOyKhBChwueGxVVXXUV1dTV33XUXZWVlTJw4kfbt2/Pss89y6aWX6qjR9hwOB126dJGOQhpItnrZKl+lICurdtoGbJWvzUi2+li7mgHEYBj22NfsRrZffSRbvQyljvx/4L1792KaJikpKf6sSauioiISExMpLCykRYsWwS5HCOEvHg98/bU1ffrpMri+EJrIribEscWX785H1Vxr06aNrRoVweLxeMjMzJQRCDSQbPWyVb5OJwwbZt1s8k3HVvnajGSrj9MJp5/uoXXrTEDy1UG2X30kW718PhWqf//+jV5UxDAMXC4Xxx13HJMnT2b48OF+KTBcyAasj2Srl+Srl+Srj2Srl+Srl+Srj2Srj89HLM4++2y2bNlCXFwcw4cPZ9iwYcTHx7N582YGDRrErl27OOuss+Qq3EKIwKquhgULrFt1dbCrESJsVVfD++/Dl18myq4mhKjH5yMWe/fu5fbbb+eBBx6oN/+RRx5h27ZtfPbZZzz44IM8/PDDnHfeeX4rVAghDqmyEs4/35ouKYEInz/ehBDNUFkJF17oBDpzzTUeoqODXZEQIlT43Hk7MTGRH3/8keOOO67e/E2bNjFgwAAKCwtZv349gwYNori42K/F+kMwOm8rpaioqMDlcjV6Gpk4cpKtXrbKt7wczjrLmv78c1tcfdtW+dqMZKuPtaspTNPkiy8cxMZKvv4m268+kq3vfPnu7PNPei6XixUrVjRoWKxYsQKXywWAaZpEy08Y9URFRQW7hLAl2eplm3xjYuCbb4Jdhc9sk68NSbZ6xMTA8uVgmiAjduoj268+kq0+Pn8k3HTTTVx33XX8+c9/5q233uLtt9/mz3/+M9dffz0333wzAJ9++in9+/f3e7F2ZZommZmZmKYZ7FLCjmSrl+Srl+Srj2Srl+Srl+Srj2Srl89HLO6//346d+7MrFmzePPNNwHo3r07f//735k4cSIA1113Hddff71/KxVCCCGEEEKELJ8aFtXV1Tz66KNcffXVXHbZZU0uF2ODc5uFEGGmvBzOOMOa/uorW/SxEMKOrF3NQVnZ8Xz3HcTHB7siIcKcUmCT/iA+nQoVERHBU089JeP/CiFCj2nCDz9YNznELYQ21q5mkJUVK7uaEDqVZMMvD8IHnaFoQ7CraRafR4UaP34848ePZ/LkyZpK0itYo0KZponD4ZARCPxMstXLVvlWV8Onn1rTo0fbYrhZW+VrM5KtPtXV8MknVr5jxjiIjJR8/U22X31CPtvqctg+Hzb/E377onZ+r/ug3yNBKUnrqFBjxoxh6tSp/PrrrwwYMIC4uLh6948bN87XpzwmuN1u76hZwr8kW71sk29EBJxzTrCr8Jlt8rUhyVaPml2tosJNRITkq4tsv/qEXLZKQcFPsPkfkP0vqCo8cIcBqSOgyzWQPj6YFTabz0csHIcYW84wjJA/TSoYRyw8Hg+ZmZn06dMHp9MZkNc8Vki2ekm+ekm++ki2ekm+ekm++oRUthV7Iftt2PJP2P9L7fy4TtDlKug8CeIzglZeDa1HLGR4LiFESPJ4YMkSa/rMMyHY/2EIEaY8Hli8GLKz4+nZU3Y1IXxieiBvsdWY2P4+mG5rviMa0i+ErldD2+Fg2PMiMaF/ErIQQjRHRQWMGmVNl5TAQadpCiH8o6ICxoxxAscxcaIHudaYEM1QtBG2vg5b5kD5jtr5SQOgy9WQ8QeIahW08vzliBoWpaWlLFu2jJycHNxud737ai6SJ+oL+uG2MCbZ6mWbfB0O6NevdtombJOvDUm2eli7mqKiogKHQ1oVusj2q0/Asq0qhpz/WI2JPctr50clQecrrNOdWvULTC0B4nMfi59//pmxY8dSVlZGaWkpSUlJ7N27l9jYWFJSUtiyZYuuWv0iGH0shBBCCCHEMUCZsHsZbH4NcueBp8yabzgg7WzoMhnajwNndFDL9IUv3519/lnv1ltv5dxzzyU/P5+YmBi+/fZbtm3bxoABA3j66aePuOhwppSiqKgIH9twohkkW70kX70kX30kW70kX70kX320ZVuyFX6ZBh90hS/OhOw3rUZFix5w4hNwXi4MWwgdL7JVo8JXPjcsVq9eze23347T6cTpdFJZWUl6ejozZszg3nvv1VGj7ZmmyZYtW6TjuwaSrV6Sr16Srz6SrV6Sr16Srz5+zba6FLa8AZ8Phw+6wK/ToTQbIlvAcX+CUSvhnCzoeTfEtjv617MBn/tYREZGei8o0rZtW3JycjjhhBNITEwkJyfH7wUKIUSzlJfDmDHW9McfQ0xMcOsRIkyVl8PZZzsoLT2OpUshPj7YFQkRQErBnm9gy2tW/4nqkgN3GJB6ltVvosN4iDg2/w/yuWHRv39/fvjhB44//niGDx/OX/7yF/bu3cubb75Jnz59dNQohBCHZ5qwbFnttBBCC9OEr74ygHhMM7SvXSWE35TmwtY3rI7YJZtq58cfZ/Wb6HwFxHUMVnUhw+dToR577DHS0tIAePjhh2ndujXXX389u3fv5pVXXvHpub766ivOPfdc2rVrh2EYLFiw4LCPWbZsGQMGDMDlctGlSxdeeuklX1chKELqCo9hRrLVyzb5RkfDf/5j3aLtc/6qbfK1IclWj+ho+Pe/PfztbzvstKvZjmy/+jQ72+pyyJ4LS0bB+53gl/utRkVEvDVE7Flfw7n/g973SaPiAJ9HhfKnjz/+mG+++YaTTjqJCy+8kPnz5zN+/Pgml9+6dSu9e/fm2muv5U9/+hPffPMNN9xwA3PnzuXCCy9s1mvKqFBCCCGEEKJRSsG+76wjE9v+DVWFtfelDLNOdep4IUQcO9dK0nrlbX8aM2YMY2rOiW6Gl156iY4dOzJz5kwATjjhBH744QeefvrpZjcsgsE0TQoKCmjVqhUOG42vbweSrV6Sr16Srz6SrV6Sr16Srz5NZlu20xrJacscKFpfOz+uE3SeDF0mQXznQJdrOz5vrb/99htXXHEF7dq1IyIiwjs6VM1Np5UrVzKq5sq6B4wePZoffviBqqoqra99NJRS5ObmyrBxGki2etkqX48HvvnGunnscd63rfK1GclWH48Hli9XfPhhPtXVkq8Osv3qUy9bTyXkvAtLz4H302H1PVajwhkDGVfAiCUwbgv0nSaNimby+YjF5MmTycnJ4YEHHiAtLc07QlQg5OXl0bZt23rz2rZtS3V1NXv37vX2/airsrKSyspK799FRUUAeDwePAe+fBiGgcPhwDTNejtxzXzPQV9SmprvcDgwDKPBfKUUSqlGlwcaDHnmdDpRSjU6/+Aam5qve52aqj3Q6+TxeOpNh8M6Har2QK9T3XxDfp3KyzFOO82qu7AQ4uIaXadD1R7odarJt+Ym257/1qkmW4/HEzbrFCrvU3m5YuhQJ9CN885z43Taf51C8X2q+70hXNapObXrXieUIqbsV/jhZVTuOxjuAu/9qs0QVOdJqPQJENnCWicj9NdJ9/vkSwPX54bF8uXL+frrrznxxBN9fahfHNyQqVnZpho4jz/+ONOnT28wf+3atcQfGCMvKSmJjh07sn37dvLz873LpKamkpqaSnZ2NsXFxd756enptG7dmo0bN1JRUeGd36VLF1q0aEFWVla9N6Zbt27e16xbZ58+fXC73WzYsME7z+l00qdPH4qLi+tdxdzlctGjRw8KCgrIzc31zk9ISKBr167s3r2bvLw873zd69S9e3eioqLIzMysl2ug10kpRXl5OUDYrBOEzvuklKKw0Dq/NOTXqWtXjK5dqXK7Wb92LSomJuTfJ6UU+fn5VFZW4nK5ZNvz4zrt27eP/Px81q5dS1paWlisU6i8TyUlxaSnR2GaJuvW/Y+kJPuvU6i9T+vWrfNuv4ZhhMU6Bft9iqz6jfbuL0ks+IDuReu8y7oj2uJufynxfaawZY/DWqf122yxToF6n3y55ofPnbd79uzJ22+/Tf/+/X152OELMYzDdt4+44wz6N+/P88++6x33vz587n44ospKysjMjKywWMaO2KRnp5Ofn6+twNKII5YZGdn07Fjx3qni9m9BdtY7cE4YpGTk0Pnzg0PUdp1nQ5VezCOWGzbto0uXbpgGEZYrNOhag/0OtXk27lzZ+/r2n2dDld7oNapurqabdu20alTJyIiIsJinULpfaqqqvLmW3MqtN3XKZTeJ7fbXS/fcFinoLxP7mLIfQ8j+034bQkGB47AO1yo9uOhy5WQMgLDKZ8Rh1qnoqIiWrZs2azO2z43LD777DP++te/8vLLL5ORkeHLQw9dSDMaFnfffTcffvghWVlZ3nnXX389q1evZuXKlc16HRkVSgghhBAiTCkTdi+DLa9D7n+tq2PXSBkKna+EjtapTqJ5/D4qVKtWreqdwlNaWkrXrl2JjY1tcJSg7mGYwykpKWHTptqLjGzdupXVq1d7D+tMnTqVHTt28MYbbwBw3XXXMWvWLG677TauvfZaVq5cyT/+8Q/mzp3b7NcMBtM02b17NykpKd5Wq/APyVYvyVcvyVcfyVYvyVcvyfcIFG2ArW9at7Kc2vnxx1mNic6XQ3znOtnGS7YaNKthUTO8q7/98MMPDB8+3Pv3bbfdBsCkSZOYM2cOu3btIienduPo3LkzixYt4tZbb+WFF16gXbt2PPfccyE91CxYp0Ll5eWRnJwc7FLCjmSrl63yraiAms+CefPABheXslW+NiPZ6lNRARdcYFBcHMMnn6iacRKEH8n220yV+ZDzjnV0Yt93tfMjE6HTpVaDos1gqPPjuGSrV7MaFpMmTdLy4sOGDTtkT/M5c+Y0mDd06FB++uknLfUIIWzM44FFi2qnhRBaeDzw8ccGkNjgfGwhtDOrYOfHsPUN2PEhmG5rvuGEtLOt6020Pxecof/jUjjyeVSoRYsW4XQ6GT16dL35n332GR6Px6cL3gkhhN9ERcFrr9VOCyG0iIqCf/zDZPv27URFtQ92OeJYoBQU/ARb3oBt/4LKvbX3tTrROjLRaSLEtG3yKURg+NywuOeee3jiiScazDdNk3vuuUcaFo0wDIOkpKSAXvPjWCHZ6mWrfCMjYfLkYFfhE1vlazOSrT41u9r27RAVJfnqINvvAWU7Ifst6+hE4dra+a62kHG51aBo1denp5Rs9fJ5VKiYmBjWrVvXYESo7OxsevXqRWlpaeMPDBEyKpQQQgghRIiqLoPtC6x+E799bo3yBOCIhg7jrVOdUkeCw+ffxsUR8uW7s8/d4RMTE+tdyKPGpk2biJMeXI0yTZOcnByfLjAimkey1ctW+Xo8sHq1dbPJed+2ytdmJFt9PB746SeTjz/eRVWV5KvDMbf9mh7IWwLfXgXvpcKKyyDvM6tRkXwanPx3uCAPTvs3tBtzVI2KYy7bAPO5YTFu3DhuueUWNm/e7J23adMmbr/9dsaNG+fX4sJFzdV1fTw4JJpBstXLVvlWVED//tatztVEQ5mt8rUZyVafigoYMMDB2LFplJdLvjocM9vv/kz4+S54vxMsGQFb5kB1McR1ht4PwrmbYOTXcNwfIaqlX17ymMk2SHxu8j311FOcffbZ9OjRgw4dOgCwfft2Tj/9dJ5++mm/FyiEEM1iGNCuXe20EEILa1ezrr5tGM5glyPspmwHZP/L6jux/5fa+VGtoOPFkHGZdZRCPsdtyeeGRWJiIitWrGDx4sWsWbOGmJgY+vbtyxlnnKGjPiGEaJ7YWNixI9hVCBH2YmMhJ8ckMzOL2Ng+wS5H2EFVEeS+B1vfgt+WAAeOFjiioP3vrY7Y7caCMzqoZYqjd0QnqRmGwahRoxg1ahQA+/fv92dNYccwDFJTU2UEAg0kW70kX70kX30kW70kX73CIl+zCnZ9Zh2Z2P4+eMpr70s+3boSdseLrCMVARQW2YYwn0eFevLJJ8nIyOCSSy4B4OKLL2bevHmkpqayaNEi+vXrp6VQf5FRoYQQQgghNFAK9q2yGhPb/g2Ve2rva9EdMq6wTnWKzwhaicJ3WkeFevnll0lPTwdg8eLFLF68mI8//pgxY8Zw5513HlnFYc7j8bB582a5QqkGkq1etsq3ogIuusi62aTztq3ytRnJVp+KCpgwQTFmTAmlpZKvDrbbfku2QObD8FEP+Ox38L/nrUaFKwW6/xnO/gHOWQe97wt6o8J22dqMz6dC7dq1y9uw+Oijj7j44osZNWoUGRkZ/O53v/N7geGiuLg42CWELclWL9vk6/HAf/9rTc+ZE9RSfGGbfG1IstXD44F58wwgXr6caRTy22/lPsh5F7a+CXtX1M53xkL6+Va/idSzQvJ6EyGfrY35/G63atWK3Nxc0tPT+eSTT3jkkUcAa/gu+YARQgRNVBTMmlU7LYTQIioKnnvOZOfOnURFpQW7HBFIngrY8ZF1qtPORVY/CgDDAW1HQOcrrIvYRSYEtUwRPD43LC644AImTpxIt27d2LdvH2PGjAFg9erVHHfccX4vUAghmiUyEqZMCXYVQoS9yEi44QZFZuZeIiOlYRH2lAm7v7YaEznvQlVh7X2tTrT6TXS6FGLbBa1EETp8blj87W9/IyMjg9zcXGbMmEF8fDxgnSJ1ww03+L3AcGAYBunp6TICgQaSrV6Sr16Srz6SrV6Sr15Bz1cp2L8Gst+2OmGXba+9Lzbd6oCdcRm07B2c+o5C0LMNcz6PCmV3MiqUEGHKNGHzZmu6a1dw+Dw2hRCiGWRXC2PFm2HbXOsCdkXraudHJkL6hdapTilnWKc+iWOGL9+dm3XE4oMPPmDMmDFERkbywQcfHHLZcePGNb/SY4TH42Hjxo1069YNp1OuUupPkq1etsq3vByOP96aLimBuLjg1tMMtsrXZiRbferuaoWFHlq0kHz9LaDbb/lvkPMf6+jEvu9q5zuiof251pGJdmPC5uJ18tmgV7MaFuPHjycvL4+UlBTGjx/f5HKGYUgH7iZU2GT4SzuSbPWyVb6JicGuwGe2ytdmJFt9EhMVHo8Z7DLCmtbtt6oIcudbRyZ++9zqRwEHOmGfBRkTrZGdIsPzzA75bNCnWQ0L0zQbnRZCiJARFwf79we7CiHCXlwc7NtnkpmZSVxcn2CXI5rLUwk7P7aOTOz8yBrhqUbr31mNiY4XQ0xq8GoUthd6gwsLIYQQQoijZ3pg9zLY9i/I+W/9EZ1a9LBOc+r0B0joGrwaRVjxqWFhmiZz5szhvffeIzs7G8Mw6Ny5MxMmTOCKK66QHvZNcDgcdOnSBYf0cPM7yVYvyVcvyVcfyVYvyVevo8pXKSj4yTrNadu/oXxn7X0x7SHjD9BpojVU7DH4vU22Xb2aPSqUUopzzz2XRYsW0a9fP3r06IFSinXr1pGZmcm4ceNYsGCB5nKPnowKJUSYqqyEP/3Jmn75ZYgOj46GQoQa2dVCVNFG68hE9r+g+H+18yNbQseLrKMTKafLiE7CZ758d252w+K1117jz3/+M++//z7Dhw+vd9+SJUsYP348s2bN4sorrzzyygMgGA0Lj8dDVlYWPXv2lBEI/Eyy1ctW+ZaWwoHr6thpVCjb5Gszkq0+dXc1GRVKj2Zvv+W7YNs7VmMif1XtfKcL2o+zGhNpo8NmRCd/kM8G3/l9uFmAuXPncu+99zZoVACceeaZ3HPPPbz99tsh37AIFhktSx/JVi/b5BsZCTNm1E7bhG3ytSHJVo/ISHjiCZO8vF1ERkpHX12a3H4r90HuPOs0p9+WAgd+HzackDrS6oTdYTxEJgSoUvuRzwZ9mt2w+OWXX5hR8592I8aMGcNzzz3nl6KEEMJnUVFw553BrkKIsBcVBXfcocjM3ENUlDQsAqKqCHIXWI2JvMWgqmvva33KgU7YF4MrJWglCgE+NCzy8/Np27Ztk/e3bduWgoICvxQlhBBCCHEsM8xyjJx3Ifc/sHMRmJW1d7bqD50utYaHjc8IWo1CHKzZDQuPx0NERNOLO51Oqqurm7z/WOZwOOjevbuMQKCBZKuXrfI1Tdi1y5pOSwMb1GyrfG1GstXH2tUcxMd3ByRfv/JUwq7PcGz7N323v4/hKa29r0UPqzHR6VJo0T14NdqcfDbo1eyGhVKKyZMnE93E8A+VlZWNzheWqKioYJcQtiRbvWyTb3k5dOhgTduk8zbYKF8bkmz1KC+H9HQDiKG4WHk7cosjZFbDb19apznlvgdV+6kZBFbFZWDUNCZa9j0mh4fVQT4b9Gl2w2LSpEmHXUY6bjfONK0rlPbp00dGIPAzyVYv2+V7iKOqoch2+dqIZKtXRITVYdg0TUDy9ZkyYc83VmMi512o3FN7X0waZvpFbHIPpOvJf8Bps8+1UCefDXo1e2t97bXXdNYhhBBHJy4OqqqCXYUQYS8uDioqrC9ncXF9gl2OfSgF+T9YjYlt70D5jtr7oltD+kXWkYnk01AKyjIz5QiFsB1pBgshhBBC6LI/80Bj4t9QsqV2fmQLSL8AOl4KqWeCo84w2TIcqrApaVgIIYQQQvhT0UbIecdqTBSurZ3vjIUO46wjE2mjrQvZCRFGmn3l7XARjCtvK6UwTROHw4EhhzX9SrLVy1b5VlbCbbdZ0888A00MNBFKbJWvzUi2+lRWwq23KkDxzDMGLpfkC0DxZqu/RM5/oODn2vmOKGg31mpMtP89RBx+YAnZfvWRbH3ny3dnaVgEgFKKiooKXC6XbMR+JtnqZat8S0vxDk9jk1GhbJWvzUi2+tTd1axRoY7hfEu2WI2Jbf+Bgp9q5xtOSD3Lakx0GA9RLX16Wtl+9ZFsfefLd2c5FSoATNNkw4YNMgKBBpKtXrbKNzISHnywdtoGbJWvzUi2+kRGwgMPmOzevRunM5ljblSokq0Hjky8a3XGrmE4oe2Z1kXrOowHV5sjfgnZfvWRbPWShoUQIjxERcG0acGuQoiwFxUFDz6oyMzMIyoqOdjlBEbpttojE/mraucbDkgZDp0uhg7ng+sYyUOIJkjDQgghhBDiYKU5tX0m9n1fO99wQMow68hE+vngSglaiUKEGmlYBIgcbtNHstXLNvkqBYWF1nRiom3Gf7dNvjYk2eqhFOzfD6WlkYRdL83S3NrTnPZ9WzvfcEDK0AONiQsC0piQ7VcfyVYf6bwthAgPNuy8LYQdhd2uVrYdcv5rHZnYu7LOHYbVmOh0MXS4AGLaBq1EIYJJOm+HGKUUxcXFJCQkyAgEfibZ6iX56iX56iPZBob126QN8y3bUacxsaLOHQaknH7gyMSFEJMalPJk+9VHstXLEewCjgWmabJlyxZM0wx2KWFHstXLVvnGxoLbbd1iY4NdTbPYKl+bkWz1iY2F8nIP33+/GpfLRvmW7YANz8Hi02FBB/jplgONCgOST4cBz8P5O+CsZXD8lKA1KkC2X50kW73kiIUQIjwYhm2GmRXCzmp2tchIG3RlKt0GOfMg978HneYEJJ8GHS+yjkzEtg9OfUKEGWlYCCGEECJ8FG2E3HnWre51JgDanGqd5tTxQojtEJz6hAhj0rAIEJfLFewSwpZkq5dt8nW74b77rOlHH7UG27cB2+RrQ5KtHm43TJ1qsH9/OrNmQUxMsCsCCrNqj0zs/6V2vuGA5DOg4wTrOhOx7YJXo49k+9VHstVHRoUSQoSHsBuqRojQFBK7mlJWAyLnv9aRiaJ1tfcZEQeugH3hgStgy3UmhDgaMipUiDFNk4KCAlq1aoXDIf3l/Umy1ctW+UZGwh131E7bgK3ytRnJVp/ISLj9dkVFRQVOZzQBGwdGKevUptx5VoOiZHPtfY4oSB1lNSbaj4PopMDUpIlsv/pItnpJwyIAlFLk5ubSsmXLYJcSdiRbvWyVb1QUPPVUsKvwia3ytRnJVp+oKHjySZPMzA1ERvbR+2LKhL3f1h6ZKMupvc/pgrQx1mlO7c6BqES9tQSQbL/6SLZ6ScNCCCGEEKHD9MCer63GxPb5UL6z9r6IOGj3e+vIRNoYiIwPXp1CiAakYSGECA9KQXW1NR0RYYNxMIWwJ6Wgqsq6+a2XplkFvy21Ol9vXwAVu2vvi2xhnd7UcYJ1ulNEKPQWF0I0RhoWAZKQkBDsEsKWZKuXbfItKwuBHqW+s02+NiTZ6mHtak7gRAoLPRzxOCjV5ZC32Doqsf0DcOfX3heVZHW8Tr8QUkeAM9oPlduLbL/6SLb6yKhQQojwEBJD1QgR/o5qV3Pvhx0LrcbErk+gurT2PleKNSRsxwmQMhQc9hiEQYhwJ6NChRjTNNm9ezcpKSkyAoGfSbZ62Srf2FgoKKidtgFb5Wszkq0+sbGwb5/Jnj17cLmSOeyoUOV5sP19qzHx2xLrtCfvk3WE9POtBkXyaeBwaq3dLmT71Uey1UsaFgGglCIvL4/k5ORglxJ2JFu9bJWvYYDNRvmwVb42I9nqYxiQmKjIydkFtGl8oeLNVkMidz7sXQnUOTkisafVkEg/H1qdJP2hGiHbrz6SrV7SsBBCCCHE0VEK9q+xGhLb58P+zPr3t/5d7ZGJFscHp0YhhHbSsBBChAe3Gx57zJq+915rsH0hhN+53fDIIwa7f0vhb/d9Q8ze960GRenW2oUMJ6QMO9CYGA+x7YNVrhAigKRhEQCGYZCUlIQhh3v9TrLVy1b5VlXB9OnW9J132qJhYat8bUay1cRTSVXOMh5+eBTQjr/+rhu4yqz7nC5IO9s6KtH+97a/+nUwyfarj2SrlzQsAsDhcNCxY8dglxGWJFu9bJVvRATccEPttA3YKl+bkWz9qKoEdn1sHZXYuZCIsgpuOOsZACJc8ZBxgXVkIm20dQE7cdRk+9VHstXLHv/72pxpmmzfvp0OHTrICAR+JtnqZat8o6PhhReCXYVPbJWvzUi2R6liN+z4yGpM5C0Gs9J7V3SLNGY9+it7ok8jslcORBx715jQTbZffSRbvaRhEQBKKfLz82nfXs4x9TfJVi/JVy/JVx/J9ggUbbCGhd3xAexZQb2RnOKPq+183eZ3mKZiZ2YmrQ35GqGDbL/6SLZ6ySeCEEIIcSwyPbDv2wPXmHgfiv9X//5WJ0GH8yD9AkjsddCwsJ6AliqEsAdpWAghwkNpae11LPbvlytvC9GY6jLr1Kbt71unOlXuqb3PEQkpw63GRPtzIS690aewdjUH0I99+0wOcyFeIcQxRBoWAWAYBqmpqTICgQaSrV62y7e6OtgV+MR2+dqIZFtH+W+w8yOrMZG3GDwVtfdFtoR2Y63GRNpoiEps1lNWV1u5Sr56yParj2Srl6GUUodfLHwUFRWRmJhIYWEhLeRnFiHCh2nCrl3WdFoaSKc8caxSCorWW30ltr8Pe7+lXn+JuE7Q/jyrMZFyunWkwgeyqwlxbPHlu7McsQgAj8dDdnY2GRkZOJ3OYJcTViRbvWyVr8MBNuuMZ6t8beaYy9b0wN4VtY2J4o31708aUNuYaNnnoP4SvnE4IDXVylepDOAYyDfAjrntN4AkW72kYREgxcXFwS4hbEm2ekm+ekm++oR9ttWlsOszqzGx4yOo3Ft7nyMS2p5Z218itoPfXz7s8w0yyVcfyVYfaVgIIcKD2w3PPmtN//nPtrjythA+K99lNSK2fwC/fd6wv0T7c2r7S0TqOd3X7Ya//c0gLy+Zxx6DmBgtLyOEsCFpWAghwkNVFdx1lzV9ww3SsBDhQZlQ8LPVmNjxIeT/WP/+uAyrIdHhPEg+zef+EkeiqgruuccBtGf6dI80LIQQXkFvWLz44os89dRT7Nq1i169ejFz5kxOP/30RpddunQpw4cPbzB/3bp19OjRQ3epR8wwDNLT02UEAg0kW71slW9EBEyaVDttA7bK12ZsnW11KeR9bjUmdi60jlLUlTQIOoyzGhOJvY+qv8SRiIiAK69UuN2VREZKA14HW2+/IU6y1Suoo0K98847XHHFFbz44osMGTKEl19+mVdffZWsrCw6duzYYPmahsWGDRvq9UpPTk5udgccGRVKCCFEyCndBjsWWo2J35aAWVl7X0QcpI6C9r+3hoaNSQ1enUKIY44v352DOkjcM888wzXXXMMf//hHTjjhBGbOnEl6ejqzZ88+5ONSUlJITU313kK9V7/H42H9+vV4PHKlUn+TbPWSfPWSfPUJ+WxND+xZCavvhUV94f0M+GEK7PrYalTEZcDxN8HwT+HCfXDGe9D16pBpVIR8vjYn+eoj2eoVtPMF3G43P/74I/fcc0+9+aNGjWLFihWHfGz//v2pqKigZ8+e3H///Y2eHhVqKioqDr+QOCKSrV6Sr16Srz4hl627EPI+O3CK06L6ozgZDmhzqnVUov250OKEgJ/i5KuQyzfMSL76SLb6BK1hsXfvXjweD23btq03v23btuTl5TX6mLS0NF555RUGDBhAZWUlb775JiNGjGDp0qWcccYZjT6msrKSysraQ8pFRUWA1WKtaa0ahoHD4cA0TeqeGVYz/+BWbVPzHQ4HhmE0mK+UQinV6PIApmnWm+90OlFKNTr/4Bqbmq97nZqqPdDr5PF46k2HwzodqvZAr1PdfEN+ncrLoYM1pKaZkwNxcY2u06FqD/Q61eRbc5Ntz3/rVJOtx+MJ7joVbURt/xBj10LY/RWGqr06vIpMRKWdDWnnoNJG44xNqV2nA88Viu9TSYmiQwcHHk9vcnI8tGgh256OdTJNk7KyMhwOR9isU3Nq171ONc9RWlrqPePF7ut0tO9TZGQkkZGRTa6TL70mgt7D8eDOM0qpJjvUdO/ene7du3v/Hjx4MLm5uTz99NNNNiwef/xxpk+f3mD+2rVriY+PByApKYmOHTuyfft28vPzvcvUnGqVnZ1db8zj9PR0WrduzcaNG+u1ert06UKLFi3Iysqq98Z069bN+5p1161Pnz643W42bNjgned0OunTpw/FxcVs2bLFO9/lctGjRw8KCgrIzc31zk9ISKBr167s3r27XoNM9zp1796dqKgoMjMz6+Ua6HVSSlFeXg4QNusEofM+KaUoLCwECP116tIF54Fa165dixkTE/Lvk1KK/Px8Kisrcblcsu35cZ327dtHfn4+a9euJS0tLXDrpKqIL1tDYunXJLu/wyjaQN3/0SqjOxPd+QIKE05na0k7MCKhGBIopmvXFNu8T4WFLYAI1q1bQ1JStGx7flynhIQE1q5di1LKW1NkpDXaV1VVVb11amp+VFQUpmlSXV3bkDUMg8jIyHo/rB5qvsPhICIigurq6npffJ1OJ06nk6qqqnpfOJuaHxERgcPhwO12N6t23evkdDoxDIOtW7eGzTod7fuklKJly5Z06tSp0f3p4IbPoQSt87bb7SY2NpZ3332X888/3zv/z3/+M6tXr2bZsmXNep5HH32Ut956i3Xr1jV6f2NHLNLT08nPz/d2QNHdKjcMg+LiYuLi4uo1LEK9BXuodQqVVrlSipKSEhITExs8t13X6VC1B3qd6uZb86t6yK4TwObN1vyuXa3LAzeyToeqPdDrpJSiuLiYxMREDMOQbc+P62SaJsXFxSQkJHh/8dW2Tu59sOtT1M6FGLs+xaja771PGRGQfDqq3e9R7cZCQjfbv08ej+J///NQWlpK375xOJ2G7dcplPanvLw8CgoKaNOmDfHx8Uc0elHNL/OhPt8X/nxNj8fToH+undfpaOYrpSgrK2PPnj20bNmSlJSUess6HA6Kiopo2bJlszpvB3VUqN/97ncMGDCAF1980TuvZ8+enHfeeTz++OPNeo4JEyaQn5/PkiVLmrW8jAolhBDiqCjTup7EzkXWbd8qoM5/pdFtrNGb2v/eGs0pKjFopQp78Xg8/O9//yMlJYXWrVsHuxxxDNm3bx+7d+/m+OOPb9Do8uW7c1BPhbrtttu44oorGDhwIIMHD+aVV14hJyeH6667DoCpU6eyY8cO3njjDQBmzpxJRkYGvXr1wu1289ZbbzFv3jzmzZsXzNU4LI/HQ1ZWFj179gz5EazsRrLVS/LVS/LVx+/ZVubDrs+shsSuT6ByT/37W50IaWOsjtetTwZHeL+fsu3qUXOqTExMDGVlZcTExBzREQvRtJpTqCXb+mJjYwFrGzyafTqoDYtLLrmEffv28dBDD7Fr1y569+7NokWL6NSpEwC7du0iJyfHu7zb7eaOO+5gx44dxMTE0KtXLxYuXMjYsWODtQrNJsOa6SPZ6mWbfKuq4JVXrOn/+z+I1H8FYn+wTb42dFTZKgUFqw80JD6GvSutIxU1IhIgbaR1ZCLtbIhtf9T12kVVFbz0ksHOna148EGQdoX/+eM0GyF84a9GVlBPhQqGYJwK5fF4yMzMpE+fPvLLjp9JtnrZKt/SUjgwIAMlJd5RoUKZrfK1mSPK1l0IeYtrj0ocfMXrxF5WQ6LdWGtoWOexedXpurtaYaGHFi1k2/WXiooKtm7dSkZGBkqpsP5V3TAM5s+fz/jx4wP6uqF6xKLmItAFBQW0bNky4K9fs+117twZl8tV7z7bnAolhBB+43TChAm100IcjlJQ+OuBvhIfw55voM5wsDhjIfWsA42JMRDXMXi1hhCnEy680BoxzulMCHY5IgRMnjyZ/fv3s2DBgpB4jby8PB599FEWLlzIjh07SElJ4cQTT+SWW27hzDPP9FtNw4YN48QTT2TmzJl+e067k4ZFADgcDrp37+4dkUL4j2Srl63ydbng3XeDXYVPbJWvzTSZbVUx5H1hnd60cxGUba9/f4vukHagIZFyBjijA1e0TdTsahUV0bhcsu3qcvCvxqJ5srOzGTJkCC1btmTGjBn07duXqqoqPv30U6ZMmcK6desCmm3N9XQiIo6Nr9zyiRAgUVHH5iHzQJBs9ZJ89ZJ89YmKijrQV2INZM2AL0bAvNbw9fmw6RWrUeF0WUckBjwP526C36+HAc9Y/SekUXFIsu3qFUqn6fhq2LBh3Hzzzdx1110kJSWRmprKtGnTDvmYHTt2cMkll9CqVStat27NeeedR3Z2NgDTpk3j9ddf5/3338cwDAzDYOnSpY0+zw033IBhGHz//fdMmDCB448/nl69enHbbbfx7bffAla2OTk5nHfeecTHx9OiRQsuvvhifvvtN+/zTJs2jRNPPJE333yTjIwMEhMTufTSS73XI5k8eTLLli3j2Wef9daUnZ3N0qVLMQyDTz/9lIEDBxIdHc3XX39NZWUlN998MykpKbhcLk477TRWrVp11FmHGmlYBIBpmmRmZvp0gRHRPJKtXpKvXpKvJpX7UNlzKfzkfFjQAT4+EVbfDb8tAbMK4rvA8TfCsEVwYT4MWwjdb4SErsGu3DZk29Wv5uKvdvX6668TFxfHd999x4wZM3jooYdYvHhxo8uWlZUxfPhw4uPj+eqrr1i+fDnx8fGcffbZ3oF7Lr74Ys4++2x27drFrl27OPXUUxs8T35+Pp988glTpkwhrpF+djV9F8rKyjj//PPJz89n2bJlLF68mM2bN3PJJZfUW37z5s0sWLCAjz76iI8++ohly5bxxBNPAPDss88yePBgrr32Wm9N6enp3sfeddddPP7446xbt46+ffty1113MW/ePF5//XV++uknjjvuOEaPHl3vgorh4Ng4LiOECH9lZXDgKvds3AgHhs4TxwCzGvZ9B7s+tW77VuFAkVRzvzMG2g6HtNHWLeF4sPGvwcFm7WoOqqp6snkzJEg3C32UAk9ZcF7bGXtU+0nfvn158MEHAejWrRuzZs3iiy++YOTIkQ2W/fe//43D4eDVV1/1Hql57bXXaNmyJUuXLmXUqFHExMRQWVlJampqk6+5adMmlFL06NHjkLUtWbKEX375ha1bt3obA2+++Sa9evVi1apVDBo0CLAa0HPmzCHhwEZ+xRVX8MUXX/Doo4+SmJhIVFQUsbGxjdb00EMPede1tLSU2bNnM2fOHMaMGQPA3//+dxYvXsw//vEP7rzzzkPWayfSsBBChAelYOfO2mkR3kpzDzQkPoG8z6GqsN7dKrE3eyJOonXviThTh1qnPAm/sHY1A4hCKRkuWStPGbwbpJbbxSUQceSj6/Xt27fe32lpaezevbvRZX/88Uc2bdrk/QJfo6Kigs2bNzf7NWsGOj3caWQbNmwgPT293hGGnj170rJlS9atW+dtWGRkZNSr6VDrcLCBAwd6pzdv3kxVVRVDhgzxzouMjOTkk09m3bp1zXo+u5CGhRAiPLhc8PPPtdMivFSXw+6vrMZE3qdQmFX//qhWkDrSuqZE2ijM6FR2ZmbSOrWPjBLmZy4X/PCDh02bNuFyHRfsckSIijzoWkKGYTR56pxpmgwYMIC33367wX3JycnNfs1u3bphGAbr1q075DC2SqlGGx8Hz/dlHQ5W91Sspho8TdVhZ9KwCACHw0GfPn1k5BcNJFu9bJWv0wknnhjsKnxiq3wDTSkoWl97VGL3MvBU1N5vOKD17w6c3nQ2JA2sd7Vrh1KSrSZOJ5x0koMTTzxO8tUoJibG2g8uLglOAc7AnU560kkn8c4775CSktLkdRKioqIOe9HLpKQkRo8ezQsvvMDNN9/coJ/F/v37SUxMpF+/fuTk5JCbm+s9apGVlUVhYSEnnHBCs+tuTk0Axx13HFFRUSxfvpyJEycC1hWuf/jhB2655ZZmv54dSMMiQNxutwwdp4lkq5fkq5fkW0dlvtXBetdnVoOiLKf+/THtod3ZVmMi9SzrKMUhSLZ6Sb56eX/NPorTkezisssu46mnnuK8887joYceokOHDuTk5PDee+9x55130qFDBzIyMvj000/ZsGEDrVu3JjExscERBYAXX3yRU089lZNPPpmHHnqIvn37Ul1dzeLFi5k9ezZZWVmMGDGCvn37ctlllzFz5kyqq6u54YYbGDp0aL1TmA4nIyOD7777juzsbOLj40lKSmp0ubi4OK6//nruvPNOkpKS6NixIzNmzKCsrIxrrrnmiHMLRfJTQwCYpsmGDRtk9AwNJFu9bJVvVRXMmWPdqqqCXU2z2CpfHTyV8NtSWHMffHIyzGsDyy+CzX+3GhWOaOv0pv5/hbG/wvhc+N2r0PGiwzYqjvlsNaqqgtdeUzz11B4qKyVfXSoqKg6/UJiIjY3lq6++omPHjlxwwQWccMIJXH311ZSXl3uPYFx77bV0796dgQMHkpyczDfffNPoc3Xu3JmffvqJ4cOHc/vtt9O7d29GjhzJF198wezZswGorKxk/vz5tGrVijPOOIOzzjqLLl268M477/hU9x133IHT6aRnz54kJyeTk5PT5LJPPPEEF154IVdccQUnnXQSmzZt4tNPP6VVq0N/ltmNodSx1cvRl8uS+4vH4yEzM5M+ffrglHN9/Uqy1ctW+ZaWQny8NV1SAo0MNRhqbJWvPygFhWshbzHsWnzg9KaDRrxJ7Hmgr8RoSBkKEUd2OsYxl20A1d3VCgs9tGgh+fpLRUUFW7duJSMjA6UUMTExYXcOfrAppSgvL5dsD1Kz7XXu3LnBkUhfvjvLqVBCiPDgdMLYsbXTIjSU77JGbdq1GH773Pq7Lldb67Sm1JHWv7Htg1OnaDanE8aMURQXF+F0xge7HCFECJGGRYDIL2b6SLZ62SZflwsWLgx2FT6zTb7NVV0Kvy2zjkrkfQ6Fv9a/3xkDKWccaEiMhJZ9tF1TIuyyDREuF3z4oUlWVg4uV89glyOECCFyKpQQQogjZ3og/8cDDYnFsHeFdXVrLwOSBhw4vWkktDkVnNFBK1eIUHao01GE0ElOhbIRpRTFxcUkJCTI+Xx+JtnqJfnqZct8lYKSLdbRiLzF1ihO7oL6y8Rl1DYk2p4J0a2DUKYNs7URyVcvpRQejweHwyH5+plSCtM0JVtNpGERAKZpsmXLFulEqIFkq5et8i0rg379rOk1ayA2cGOwHynb5Fu202pA/LYE8r5oOAxsZKLVgEg7cHpTfFdtpzc1l22ytaGaXa2yMpq1a00SEiRfHSorK61rWQi/k2z1kYaFECI8KAWbNtVOiyNXmQ+7l0LeEvjtC+tCdXU5IqH1KbVHJZIGgkP+OzlWWLuaAUSj1OEvDiaEOHbI/wRCiPDgcsHy5bXTovmqSmDPcqsRkbcECn4G6jbODvSTaHsmpI6A5CHHxEW7RONcLli2zMOWLVtwuboEuxwhRAiRhkWASCcsfSRbvWyTr9MJQ4YEuwqfBSVfTyXs/bb29Ka934Kqrr9MYk9oO8JqTLQdetgL0oUi22y7NlOzq6WkeGRkZ43k/H99JFt9pGERAE6nkx49egS7jLAk2eol+eoVsHxNDxT8VNtHYs9y8JTXXyYuwzoa0fZM6xaTqr8ujWTb1Uvy1cswDGkYa2IYhvSv0EgaFgFgmiYFBQW0atUKh8MR7HLCimSrl63yra6G+fOt6fPPh4jQ/3jTlq8yoTALfvvSOr3pt6VQVVh/GVfb2kZE6giI7+y/1w8Bttp2baa6GubNMyktLeXyy+OIipJ8/U0pRXV1NU6nU35dP2Dy5Mns37+fBQsWHNXz1Iy4FQ7ZZmRkcMstt3DLLbcEuxQv+TQIAKUUubm5HGOXDAkIyVYvW+VbWQkXX2zdKiuDXU2z+C1fZcL+TNjwPHx9IbyXAov6wI83w/b3rUZFZCJ0OA8GPAtjf4Xzd8GQf8Fxfwy7RgXYbNu1mcpKuPRSB9dck0BFheSri9vtDnYJPsnNzeWaa66hXbt2REVF0alTJ/785z+zb98+n54nOzsbwzBYvXr1UdWzdOlSDMNg//79De47OFulFK+88gq/+93viI+Pp2XLlgwcOJCZM2dSVlZ2VHXUNWfOHFq2bOm35wtFof+TnhBCNIfDAUOH1k6HM2XC/l+tkZt2L7NulQf95+2MtTpZ1xyRaNVfRm4SfuFwwBlnKEpLS3E45JQSAVu2bGHw4MEcf/zxzJ07l86dO7N27VruvPNOPv74Y7799luSkpKCXWaTrrjiCt577z3uv/9+Zs2aRXJyMmvWrGHmzJlkZGQwfvz4gNbjdruJiooK6Gv6S5j/7yuEOGbExMDSpdYt3M6fVSYU/AIbnoOvLoB5yfBxP/jxz5D7ntWocMZC6ijo9xiMXAETCuDMz6DXPdB6kDQqhN/ExMCSJSavvrop7HY1cWSmTJlCVFQUn332GUOHDqVjx46MGTOGzz//nB07dnDfffd5lzUMo8HpTC1btmTOnDkAdO5sHUHt378/hmEwbNiwRl9TKcWMGTPo0qULMTEx9OvXj//+97+AddRj+PDhALRq1QrDMJg8eXKjz/Of//yHt99+m7lz53LvvfcyaNAgMjIyOO+881iyZIn3eUzT5KGHHqJDhw5ER0dz4okn8sknn3ifp+ZIy3vvvcfw4cOJjY2lX79+rFy5ErCOoFx11VUUFhZiGAaGYTBt2jTAOqXpkUceYfLkySQmJnLttdcCMG/ePHr16kV0dDQZGRn89a9/bd4bEkTyP02AJCQkBLuEsCXZ6iX56tVovjWnNv22tPaIhDu//jIRcZB8GqQMg5Sh0HqgdX0J4SXbrl6Sr151+waVukubXM7pcOKKcDVrWYfhICYy5rDLxkU1fzjp/Px8Pv30Ux599NEGnaJTU1O57LLLeOedd3jxxReb1afh+++/5+STT+bzzz+nV69eTf5yf//99/Pee+8xe/ZsunXrxldffcXll19OcnIyp512GvPmzePCCy9kw4YNtGjRol5tdbN9++236d69O+edd16D1zAMg8TERACeffZZ/vrXv/Lyyy/Tv39//vnPfzJu3DjWrl1Lt27dvI+57777ePrpp+nWrRv33Xcff/jDH9i0aROnnnoqM2fO5C9/+QsbNmwAID4+3vu4p556igceeID7778fgB9//JGLL76YadOmcckll7BixQpuuOEGWrdu3WQjKRRIwyIAnE4nXbt2DXYZYUmy1Uvy1cubrzKhYM2BhsRS2P3VoRsSbYdZ15WQhkSTZNvVS/LV6+BRoeIfj29y2bHdxrJw4kLv3ylPp1BW1Xi/gKGdhrJ08lLv3xnPZrC3bG+D5dSDze87s3HjRpRSnHDCCY3ef8IJJ1BQUMCePXtISUk57PMlJycD0Lp1a1JTGx+drrS0lGeeeYYlS5YwePBgALp06cLy5ct5+eWXGTp0qPfUq5SUlHr9Gg7OduPGjXTv3v2wdT399NPcfffdXHrppQA8+eSTfPnll8ycOZMXXnjBu9wdd9zBOeecA8D06dPp1asXmzZtokePHiQmJmIYRqPrdeaZZ3LHHXd4/77ssssYMWIEDzzwAADHH388WVlZPPXUU9KwONaZpsnu3btJSUmR0Un8TLLVy1b5lpfDgf9gWLkytE+HMquh4GfM377CvX0x0UXfY7gL6i8TEQfJp1uNiJRhkHSSNCR8YKtt12asXc0atei775zExUm+/qaUoqqqioiICNuPXFQzgII/1yMrK4uKigpGjhxZb77b7aZ///6Hrae6utqbrVLqsLUVFRWxc+dOhhx0raQhQ4awZs2aevP69u3rnU5LSwNg9+7dhx2eeeDAgfX+XrduXYOjKEOGDGHmzJneUa1CkTQsAkApRV5enrcVLvxHstXLVvmaJtR8wJtmcGs5WHU57PsOdn8Ne76GvSuguhQH4P3dLCLeOiIhDQm/sNW2azPWrmYAkXg8nmCXE7ZqGhYAJVNLmlzO6aj/BXP3HbubXNZh1G8EZv85+8gLPOC4447DMAyysrIa7eS8fv16WrVqRZs2bQC8X+brqqqq8uk1zQOf8QsXLqR9+/b17ouOjj7s4+tme/zxx7Nu3bpmve7BDZDGGiWRkZENljeb8X9SXFz9088ae247jHInDQshRHhwueCzz2qng8ldAHu+qW1I5P8A5kH/cUa2RCUPYVf1cbTtewnONtLBWtiDywUff+whO3srLlf4DVUcinzp86Br2aa0bt2akSNH8uKLL3LrrbfW68uQl5fH22+/zZVXXun9kpycnMyuXbu8y2zcuLHekK41fSoO1Wjt2bMn0dHR5OTkMLRmNMCDNOd5ACZOnMill17K+++/3+AIgVKKoqIiEhMTadeuHcuXL+eMM87w3r9ixQpOPvnkQz7/wTU1tzHes2dPli9fXm/eihUrOP7440P2aAVIw0IIES6cTjjosHjAlO20GhC7v7L+3f8rcNAvSzHtrFObUk63/m3ZG9NU7M7MpG3rPuAI3f8ohKirZlfLzCwhhL/fiACaNWsWp556KqNHj+aRRx6pN9xs+/btefTRR73LnnnmmcyaNYtTTjkF0zS5++676/3Kn5KSQkxMDJ988gkdOnTA5XJ5O1DXSEhI4I477uDWW2/FNE1OO+00ioqKWLFiBfHx8UyaNIlOnTphGAYfffQRY8eOJSYmpl5n6RoXX3wx8+fP5w9/+AMPPPAAI0eOJDk5mczMTP72t79x0003MX78eO68804efPBBunbtyoknnshrr73G6tWrefvtt5udU0ZGBiUlJXzxxRf069eP2NhYYmNjG1329ttvZ9CgQTz88MNccsklrFy5klmzZvHiiy82+/WCQh1jCgsLFaAKCwsD9poej0dt27ZNeTyegL3msUKy1UvybYRpKlW4QalNryq1YpJS73dR6m0a3j44Xqlvr1Fq8xylijdbjzuI5KuPZKuX5KtHeXm5ysrKUmVlZaqiokKZjXxuhKrs7Gw1efJklZqaqiIjI1V6erq66aab1N69e+stt2PHDjVq1CgVFxenunXrphYtWqQSExPVa6+95l3m73//u0pPT1cOh0MNHTpUKaXUpEmT1HnnneddxjRN9eyzz6ru3buryMhIlZycrEaPHq2WLVvmXeahhx5SqampyjAMNWnSJO/jDs7W4/Go2bNnq0GDBqnY2FjVokULNWDAAPXss8+qsrIy7zLTp09X7du3V5GRkapfv37q448/9j7H1q1bFaB+/vln77yCggIFqC+//NI777rrrlOtW7dWgHrwwQeVUkp16tRJ/e1vf2uQ6X//+1/Vs2dPFRkZqTp27Kieeuqpevc39bgjUbPtlZeXN7jPl+/OhlI2OGHLj2oOaRUWFtKiRYtglyOE8Jfqavj0U2t69GiI8NMBWdMD+385cETiwKlNFb/VX8ZwQMt+B45InGH1lYhp65/XFyLE6NrVBFRUVLB161Y6d+5cb+QiIXQ71Lbny3dn+TgIANM02b59Ox06dJDRSfxMstXLVvlWVsLvf29Nl5Qc+bcddyHs/dbqYL13hTVdfVDHSUc0tD659rSm5FMh0vcfKmyVr81ItvrU3dWKikwSEiRff1NKUVlZSVRUlO1HhQo1Sinvla0lW/+ThkUAKKXIz89vMHKBOHqSrV62ytfhgJrh+pr7RVIpKNkMe1bUNiQa6x8R2QLanHrgaMTp1sXonEf/a6Kt8rUZyVYfa1dTlJWVYxiHH4FHHBkZcUsfyVYfaVgIIcJDTAysWnXoZTwVkP9j/YZERSNDM8Z3tRoSyadC8hBo0VM6VwtxQEwMfPutSWbm/4iJ6RPscoQQIUQaFkKI8FWeZzUeahoS+T+C6a6/jCMKkgZajYg2B27SP0IIIYTwmTQsAqDm8u1yLp//SbZ62Spf0wOFa2HvN7UNiZItDZdzpUCbIbUNiaQB4AzO6Ry2ytdmJFu9JF/96g7BKvxLstVHGhYB4HA4SE1NDXYZYUmy1Suk863YDXu/s65ovfdb2PUdPHSgk/W9QBSAAS17HzitaYj1b3wXCJEvQyGdr81JtvqUl8NZZzmAVD7/3Do1SviXYRjy5VcTyVYvaVgEgMfjITs7m4yMjJC+WqIdSbZ6hUy+nkooWG01IGoaEqVb6y/jBjYemO5xD3QaDq1/B1GJhKqQyTcMSbb6mCasWGFNV1V5iImRfP1NKUVFRQXR0dFyVMjPakbckmz1kIZFgBQXFwe7hLAl2eoV8HyVgtLsA0O+HmhIFPzcsG8EQIsToM0pVgOi5QCYl3NgyJrf22Zwfdl+9ZFs9YiOhnnzPGzblkN0dMdglxO2TNMMdglhS7LVxx7/8wohwpe7EPJXWac11TQkKvc0XC66jdWAqGlItB4EUS3rL3PBwICULMSxLCICzjsPMjML7dJ+F0IEiHwkCCECx+O2rmKd/wPsW2U1IgqzaHDdCEcktOpfvyERQn0jhBBCHB3DMJg/fz7jx48Pdil+tXTpUoYPH05BQQEtW7YMdjkBJw2LADAMg/T0dDmXTwPJVq+jytf0QNE6qwFR05DYv6bxU5riMmobEG1OgVYn+n4BOo8Hvv7amj79dLDBefWy/eoj2erj8cCyZQbFxZ3p1cuww65mS1FRUcEuodkmT57M/v37WbBgQdBfo6nlar7w5+fnk5CQoK3OY500LALA4XDQunXrYJcRliRbvZqdb80VrOs2Igp+gurShstGtYKkQdbVq1v/zrr547oRFRUwfLg1XVICcXFH/5yayfarj2SrT0UFjBjhABIpKQEZYMf/DMMgQs4z00Ky1csR7AKOBR6Ph/Xr18sl5DWQbPVqNF+loGw75M6H1ffCklEwrzV82A1WTIT1z8Cer61GRUQcpJwBPW6HIf+GczfBhfvgzE+h36PQYZz/LkZnGNCzp3Wzya/Usv3qI9nqY+1qiq5dKzFNyVcHpRTl5eUopQ6/cAgaNmwYN998M3fddRdJSUmkpqYybdq0Qz5mx44dXHLJJbRq1YrWrVtz3nnnkZ2dDcC0adN4/fXXef/99zEMA8MwWLp06RHVVjfbFStWcMYZZxATE0N6ejo333wzpaW1P4i99dZbDBw4kISEBFJTU5k4cSK7d++u93yLFi3i+OOPJyYmhuHDh3trPlZJky1AKioqgl1C2JJsNVKK6uIc2LnBOo2p5mhERV7DZR1R1ilMSYOsjtVJA6FFD3AE6DyJ2FhYuzYwr+VHsv3qI9nqERsLv/xikpm5jtjYPsEuJ2zVbVTUfNeNja393cTthqoqqzN9dJ1rfNYsGxNjDZIH1nJut3WGqMt1+GX9cRTq9ddf57bbbuO7775j5cqVTJ48mSFDhjBy5MgGy5aVlTF8+HBOP/10vvrqKyIiInjkkUc4++yz+eWXX7jjjjtYt24dRUVFvPbaawAkJSUdcW1KKTIzMxk9ejQPP/ww//jHP9izZw833ngjN954o/c13G43Dz/8MN27d2f37t3ceuutTJ48mUWLFgGQm5vLBRdcwHXXXcf111/PDz/8wO23337EdYUDaVgIISxKQek26xSmfOvmKPiJ3hW/1V4foobhhMReBxoQBxoSib3BaZ9zgoUQwi7i461/d++G5GRr+qmn4P774Y9/hL//vXbZlBQoK4OtWyEjw5r3wgtw660wcSK8/XbtshkZsHcv/Por9OplzZszB6699uhr7tu3Lw8++CAA3bp1Y9asWXzxxReNNiz+/e9/43A4ePXVV739ol577TVatmzJ0qVLGTVqFDExMVRWVjbrwpcfffQR8TWhHXDw0cunn36aiRMncsstt3hrfO655xg6dCizZ8/G5XJx9dVXe5fv0qULzz33HCeffDIlJSXEx8cze/ZsunTpwt/+9jcMw6B79+5kZmby5JNP+pRVOJGGhRDHImVC8SarAVHTkCj4CdwF9RYzAIUDEntiJJ0ErU6yGhGtToSI2KCULoQQIvT17du33t9paWkNTiOq8eOPP7Jp06YGnaorKirYvHmzz689fPhwZs+eXW/ed999x+WXX97gNd+u09JSSmGaJlu3buWEE07g559/Ztq0aaxevZr8/Hzv9S9ycnLo2bMn69at45RTTqk3SMTgwYN9rjecSMMiABwOB126dMHhkC4t/ibZNoNZDUXrD2pE/AzVJQ2XdURCYh9IOgmSTkK17E9xRAYJLduGfr+F8nIYN86a/uAD69h+iJPtVx/JVh9rV3NQXd2bhQsdxMpvDFpE1zm/qeTAx3XdrO+8E265peG1QGu+u9f9CJwyxToKcfAIXjXdAeouO3ny0VRdK/Kg86kMw2jywnSmaTJgwIB6X/JrJNccovFBXFwcxx13XL1527dv905HR0djmiZ/+tOfuPnmmxs8vmPHjpSWljJq1ChGjRrFW2+9RXJyMjk5OYwePRq32xrd0K59YHSShkUAGIZBixYtgl1GWJJsD1JVbF0nomCN1Sei5l9PI+eaO2OgZT9vI4JWJ1mnN9U5nckAbJOuacLnn9dO24Bsv/pItvpYu5oBRCDfq/QwDANnnVZAY4PcRUVZt4M1tmxkZOP9JppaNtBOOukk3nnnHVJSUprcb6OiovwyGENNtieddBJr165t0ACpkZmZyd69e3niiSdIT08H4Icffqi3TM+ePRsMa/vtt98edY12Jg2LAPB4PGRlZdGzZ896HxTi6B2z2SoFpdkNGxAlWxpfPiIBkvpbjYeaRkSL7uA49EeArfKNjoa33qqdtgFb5Wszkq0+0dHwxhsmO3bsICKiHSD5+ptSirKyMmJiYo6Ja7FcdtllPPXUU5x33nk89NBDdOjQgZycHN577z3uvPNOOnToQEZGBp9++ikbNmygdevWJCYmNjgq0hw12d51110MHjyYKVOmcO211xIXF8e6detYvHgxzz//PB07diQqKornn3+e6667jl9//ZWHH3643nNdd911/PWvf+W2227jT3/6Ez/++CNz5szxUyr2JA2LAJEhD/UJ+2yry2B/Zv0GRMEvUF3c+PIx7aFVP+toRKt+ViMioSsYR3ZKiG3yjYiAyy4LdhU+s02+NiTZ6hERARMnKjIz9x1oWAhxdGJjY/nqq6+4++67ueCCCyguLqZ9+/aMGDHCewTj2muvZenSpQwcOJCSkhK+/PJLhg0bdsSv2bdvX5YtW8Z9993H6aefjlKKrl27cskllwDWKVhz5szh3nvv5bnnnuOkk07i6aefZlzNKbdYp0zNmzePW2+9lRdffJGTTz6Zxx57rF6n72ONoY6xE8SKiopITEyksLAwYIfJPR4PmZmZ9OnTR34587Owyrbm+hD1GhBroHgj0Mhu6oiCxJ61DYiW/aBlX3C18VtJYZVvCJJ89ZFs9ZJ89aioqGDr1q1kZGSglDpmjlgEUs11LCTb+mq2vc6dO+OqOyYxvn13liMWQgRDxW7Y/ysU/nrg37XWdFVR48u72tZvQLTqe+AaEXLJWy+PB376yZo+6aT/b+/e46Kq0z+Af2aGGYbhmqCAAqIuongX8kIvQvNWtmVrbVZbgqsptalomq5ummZZW16yzUuFurtet1JfudnaTVHSdpWgCPypcRG8ICIIAzMMzJzn98c4AwMDMsycgcHn/XrNi5nvnHPm+T5zhjPPnHO+p+lZiowxhzAYgDNngNxcD0RF8UeNMVaPCwsnkEqliIyM5NFJRNDhc1tbDtzKri8cTMWErtT69BI3Y8HQ8FAmvyGOuzq1jTp8fhuqqQFGjDDer6qyflZiB+NS+XUxnFvx1NQAo0fLAERiyhSyegIxs1/jX42Z43BuxcOFhZMo+D+vaDpEbvXVQEVOfeFQkW28r73SzAwSwKsP4DfQOBKT70Djfe++He4icx0iv60hkQA9e9bfdxEuk18XxLkVh/GjRub7TBx8mI54OLfi4cLCCQRB4GNRReL03NaWAxX/B1SeM14bouKcsYiozm9+HlVofeHgOxDwGwD49HeJC8y51LqrUtUPyu4iXCq/LoZzKx6VCsjNNeZXqRwEHhVKHKbzAJjjcW7Fw4UFY40RAZqi+sKhskEhUXO9+fmUgcbCwXdAfRHhGwUofJ0XO2OMMcZYO+HCgt29DDqgKrdp8VD5f8ZDm5qjCjHucfDpB/j2N973HQAobb86KGOMMcZYZ8GFBevcBL3xQnLqi0DlBeNf9e2/mkKAmrlCs8QN8I5oUDz0u11MRAJyb6d2gbVSTQ3w1FPG+/v2AXxyHmOiqKkBpk2TorKyF/79b5cYJ4Ex5iR8HQsnICIIggCpVMonDDkYEUEw6CGtuQpJ1a/GoqGyQfFQlQeQvvkFuHk3LR58+wNevXkoV7jYultdDXh5Ge+7yKhQLpVfF8O5FU/Dj5paTfDy4vw6SsPrWJhGLuL117Eafu3l3Nbj61i4mNraWh7ezB4GnXHPQ1We5U39K6TqXyERapqfV6Y07n3wjjCOutTwr7IbD2tyBy6z7ioUwIcf1t93ES6TXxfEuRWHQgFs20aoq6uDQsE/wIiFiPiLr0g4t+LhwsIJBEHA+fPneXSSlhABuhsNCoZcoLpBAaG5AmtXnzb9WyCJGyTefQCvCMCnUfGg6gFIeCz7tnCpdVcuB55/vr2jsIlL5dfFcG7FI5cDM2cKyMrKgUzGo0KJpaam5q4YuWjMmDEYOnQoNm7cCAAIDw9HcnIykpOTRXvNzp7b48ePY+zYsSgvL4efn59TX5sLC+YcpsKhutB4bkP1JeP96vz64qGlE6YBwM3TeO0Hr97mm0HVE+evEiKHTYRM7u6cvjDGGGMMwJ0PJ0pISMDOnTubff7AgQOQy52350sqlWLfvn148sknRVn+mDFjkJqaCsB4LZ2AgAAMHz4cM2bMwNSpU0V5vYaFWXvjwoI5hqEG0FxuWjhoCuv/Glo4XAkAIDFe86FB4WBxcw9oetiSwYDa0ixAyqvyXU8QgHPnjPf79wf4isuMiUIQgOxsIDdXiQEDAN4hdHe7du2a+f7+/fuxYsUKnD9/3tx2pz0DXbp0ES02MdXV1TVbED3//PNYvXo16urqcOXKFRw8eBBPPfUUEhMT8aHpkN1Oire8TuLSu+LrqowjKl0/DuTvBnLeAdIXACd/DxwdCRwIBvZ7AIcjgO/GAT/MALJeA/K2A8XfGE+kNtQAkAAe3QH/UUDYNKD/IuDezcCY/wC/vQBM0wKPXQLGHwNGpQADlwPhTwMBI41DuTbzq4hL59YFuEx+tVpg4EDjTatt72hazWXy64I4t+LQaoEhQ2R44ol+rvRRYyIJCgoy33x9fSGRSMyP5XI5kpKSEBISApVKhUGDBmHv3r0W848ZM6bZw55efvllPPLII+bHGzduhEQiwRdffGFui4yMxLZt2wAAZ86cwYQJExAQEABfX1/Ex8fjxx9/NE8bHh4OAHjqqacglUrNjwHg8OHDiI6OhlKpRO/evbFq1Sro9fWDv0gkEmzduhVTpkyBp6cn1qxZ02xOVCoVgoKCEBoailGjRuHtt9/Gtm3b8NFHH+Gbb74xT3flyhVMmzYN99xzD/z9/TFlyhQUNLjQa2JiIh577DGsWrUK3bp1g4+PD+bMmYPa2lrz86mpqXjvvfcgkUggkUgs5k9PT0dMTAxUKhViY2MtCj6xtPvPvJs3b8Y777yDa9euYcCAAdi4cSPi4uKanT41NRULFy5EdnY2unfvjldeeQVJSUlOjNh2MpkMgwYNau8wLBEBejVQU2K86Ju2GNBeBbRXAM3V+vvaq0BdZeuWKfMAPHsCqjDjX8+w2/dvP/boAcgce1Jth8xtJ+Jy+Q0IaO8IbOJy+XUhnFtxmT5qXLyJQyKRWP7SX337UGGVqv5HttpaoK4OcHMD3N2bTuvhUb/ntq7OOL1MZjkUd3PTOujQpJqaGkRHR2PJkiXw8fHBF198geeeew69e/fGyJEj7zj/mDFjkJKSYh7hLTU1FQEBAUhNTcXDDz+M4uJiXLhwAfHx8QAAtVqNhIQEbNq0CQCwbt06TJ48GRcvXoS3tzfOnDmDbt26YceOHXjwwQfN6+/Ro0fx7LPPYtOmTYiLi0Nubi5mz54NAFi5cqU5npUrV2Lt2rXYsGGDzet+QkICXn75ZRw4cADjx4+HRqPB2LFjERcXhxMnTsDNzQ1r1qzBgw8+iJ9//hmK24OQfPvtt1AqlTh27BgKCgowY8YMBAQE4I033sB7772HCxcuYODAgVi9ejUAoGvXrubiYvny5Vi3bh26du2KpKQk/PGPf8T3339vU9w2o3a0b98+ksvl9NFHH1FOTg7Nnz+fPD096dKlS1anz8vLI5VKRfPnz6ecnBz66KOPSC6X06efftrq16yoqCAAVFFR4ahu3JEgCFRRUUGCIIj7QnUaourLRGWZRFe/IsrbRZSzjihjCdHpGUTHJhN9GUN0MIxorzvRbrT+tt+L6HAk0Tdjib5/lujHV4jObSQqPEh0M52oppRI7P5Z4bTc3qU4v+Li/IqHcysuzq84tFot5eTkkEajIb1eX59f48+BRCUl9ROvWWNsmzXLciEqlbE9P7++bcMGY9szz1hOGxBgbP/ll/q2Dz9sc/w7duwgX1/fFqeZPHkyvfzyy+bH8fHxNH/+fPPjnj170oYNG4iI6NatWySVSuns2bMkCAL5+/vT2rVr6d577yUioj179lBgYGCzr6XX68nb25sOHz5sbgNAn332mcW6GxcXR2+++abFvP/85z8pODjYYr7k5OQW+2atPw2NHDmSHnroISIiSklJocjISIs4dDodeXh40NGjR4mIKCEhgbp06ULV1dXmabZs2UJeXl5kMBiafb1jx44RAPrmm2/MbV988QUBIK1WazU207pn7Xlbvju36x6L9evXY+bMmZg1axYA4y6uo0ePYsuWLVi7dm2T6bdu3YqwsDDzCSr9+/fH2bNn8e677+Lxxx93Zug2EQQBeXl5LY9OQgQYtIC+yngSs77KeAhSXQVQWwbUlgO6239rrfzVlQGCzvbg3LyMQ64qA417FDy6A6ruDe7f/ttBLwrXqtyyNuP8iovzKx7Orbg4v+LT6XQuP3KRwWDAW2+9hf379+PKlSvQ6XTQ6XTwbOV1hnx9fTF06FAcP34ccrkcUqkUc+bMwcqVK6FWq3H8+HHz3goAKCkpwYoVK/Ddd9/h+vXrMBgM0Gg0KCwstFhuXV2dxeP09HScOXMGb7zxhkXsNTU10Gg0UKlUAICYmJi2pgKA5TC36enp+PXXX+Htbfn9qqamBrm5uebHQ4YMMb8+AIwePRpVVVUoKipCz549W3y9wYMHm+8HBwcDMOYoLCzMrn60pN0Ki9raWqSnp2Pp0qUW7RMnTsSpU6esznP69GlMnDjRom3SpElISUlp9iQa00psUllpPKzHYDDAYDAAMO5ylEqlEAShyYVTpFKpebo7tZsuxNS4nYhARMZ2EiD9Nh4waCyLCH01JFaGU7UVSWSAogugDIRE2Q3kbrxB2dVYPCi7QeoRDIPCH3DvBrip2tQn6e1dpoIgtKpdJpOZL1jVuL1x3ptrt/Y+GQwGi/sNuWqfWord2X1qmN/O0qeWYnd2n0z5Nd06Q5/uFLuz+mTKrcFg6DR96kjvU8P8dpY+dYT3yTRv479Qq41/VSrjD5EAsGgRMH++8VCohjFevw6JRAJSKuvbX3wRmDULEjc3y/7k5xvjUanq2xMSzPNJJJIm/W+pvXE/3n33XWzYsAEbN27EwIED4enpiQULFqC2ttZiftP/QGuP4+Pjcfz4cSgUCsTHx8PPzw8DBgxAWloajh8/juTkZPO0iYmJuHHjBjZs2IDw8HAoFArExsZCp9M1ibfhY0EQsGrVKvzud79r0helUmmeVtUgTy3loHF/AOP/+4sXLyImJsb82YmOjsauXbuazN+tW7cm+bD2mne6L5fLrcbRePqGjxt+PwaMn5uW3uvG2q2wKC0thcFgQGBgoEV7YGAgiouLrc5TXFxsdXq9Xo/S0lJzNdbQ2rVrsWrVqibt2dnZ8Lp96dAuXbogLCwMly9fRllZmXka08lHBQUFUJs+1ABCQ0Ph7++PixcvoqamfqSj3r17w8fHBzk5ORZvSkREhPk1JRIJBpf9CCm1sHfBzROCVIU6UsAg84JB6gtS+MHHvye0BiXKNRIYZD7Qy3zg7hWE7uEDcaNCj2tlOghST0AiMfepqLDQ2CcDgGogyDsIQQFBKMjNhVpdXxHb2qfIyEgoFApkZWVZhD5o0CDU1tZanCBkOtZZrVYjLy/P3K5UKtGvXz+Ul5ejqKjI3O7t7Y0+ffqgpKTEYl2w9j4REbS3zx60933qKH0CHLfu2dsnIkJFRQUAdPw+RUSAZs5EZWUlilauBLm7d/j3iYhQVlYGnU4HpVLJ654D+3Tz5k2UlZUhOzsbwcHBnaJPHeV9unFDjcREPXS6YLzxRg78/Fy/Tx3lfQoJCQFg/FFUJpOZn1OqVJBIJObtnYmHpyeICDUN26VSqFQqCAYDdA3aJTIZPJRKGPR688m/kEohlUqhlEqhr6ur/yVfr4dMJoO7uztqa2st8iuXyyGXy6HT6SyKMUWDC5Oa4kxNTcWjjz6KZ599FhqNBoIg4MKFC4iMjDT/ei8IAvR6fZO+mR7HxsZi+/btcHNzwwMPPACtVovY2Fjs3r3bfH6FwWBAbW0tTp48iQ0bNmDcuHFQKpXIy8tDaWkp6urqoNVqIZPJIJfLUVdXZ5H3YcOG4fz58wgNDW3SJ6lUao6ltrYWWq0W7re3L41jNl2Qs3F/PDw8sHPnTpSXl+O3v/0ttFotBg0ahH/9618ICAiAe4NzZEzn1+j1euj1evz0008oKyuDp6cnlEolTp06BS8vL/j7+0Or1cLNzc3cf9P71PAHddP7ZOqvaZqamhqrxUhubq5FDiIjI5sU3S2648FSIrly5QoBoFOnTlm0r1mzhiIjI63OExER0eQYuLS0NAJA165dszpPTU0NVVRUmG9FRUUEgMrKykiv15Nerzcfp2YwGMxtDdsbtrXUbjpOrnF7XV0d5eTkkE6nM7YVHiL95S9JuJ5Gws1M0t86T/qqK6SvqSB9XS0RGY9fbbwcazE21y52nwRBsBpjc+1i9Umn01FOTk6T+V25Tx3pfdLpdJSdnW1+7Q7dJ7XafByyvqLCJd4nU37r6up43XNwn0y51el0naZPHeV9UqsF8yH/ZWW6TtGnjvI+aTQaysnJoerqatJoNGQwGMxx23Iz9cnZ7aZzLEyP58+fT6GhofT9999TdnY2zZw5k3x8fGjKlCnmaeLj42nevHnmxz179qT169ebH5eXl5NUKiWZTEZZWVkkCAIdPHiQZDIZde3a1SKWoUOH0oQJEyg7O5t++OEHiouLIw8PD4vlRURE0PPPP09XrlyhmzdvkiAI9OWXX5KbmxutWLGCsrKyKDs7m/bu3UvLli0zLx8AHThw4I45iI+Pp1mzZtHVq1epsLCQTp8+TYsXLya5XE5JSUnm6aqqqigiIoLGjBlDqamplJubS8eOHaO5c+dSUVERCYJACQkJ5OXlRU8//TT98ssvdOTIEQoMDKQlS5aYlzNr1iy69957KS8vj0pKSkiv19N3331HAKi8vNw83Y8//kgAKC8vz2rspnWvqqqqyefm1q1bHf8ci4CAAMhksiZ7J0pKSprslTAJCgqyOr2bmxv8/f2tzuPu7m5RCZrIZLImx4WadpNam9be9v79+9c/CJ1iOb2VZUgkEqvLaS5GW9sd0Sdb28Xok0wms8ytnTHa2t7Z3yeZTIaoqCir85p0mD65uwMbNhif8/CwGFy/o75PjfPL657j+qRQKJqsu67eJ7FitLXd3V1i+qjBy0th/qi5cp86yvtkOv5eKpWaf/1uq+YuXCd2e8PnVqxYgYKCAkyaNAkqlQqzZ8/GY489hoqKCov5TUOlWnvs5+eHYcOGobCwEAMGDIBEIsH9998PQRDM51eYpt2+fTtmz56N4cOHIywsDG+++SYWLVpksbx169Zh4cKF2LFjB3r06IGCggI8+OCD+Pe//43Vq1fjnXfegVwuR79+/cznAJvmtRanNR9//DE+/vhjKBQK+Pv7Izo6Gvv377c41MrT0xMnTpzAkiVL8Pjjj0OtVqNHjx4YN24cfHx8zMseN24cIiIiEB8fD51Oh6eeegqrVq0yP7948WIkJCRgwIAB0Gq1yM/Ptxpjc38bT2ft+/GdLoJoMS2RDQdOOdjIkSMRHR2NzZs3m9uioqIwZcoUqydvL1myBIcPH0ZOTo657YUXXkBmZiZOnz7dqtesrKyEr68vKioq4OPjY38nWkEQBJSXl+Oee+5p9p8OaxvOrbg4v+Li/IqHcysuzq84ampqkJ+fj/DwcMjlcshkMpu+1LE7o9vnN7hCbhMTE3Hr1i0cOnRI9NcyrXu9evVqUtTa8t25Xf8bLFy4EB9//DG2b9+Oc+fOYcGCBSgsLDRfl+LPf/4zpk+fbp4+KSkJly5dwsKFC3Hu3Dls374dKSkpWLRoUXt1oVWICEVFRTad/MJah3MrLs6vuDi/4uHciovzKz7zeRDM4Ti34mnX4WanTZuGmzdvYvXq1bh27RoGDhyII0eOmIfPunbtmsUQYb169cKRI0ewYMECfPDBB+jevTs2bdrUoYeaZYw5iSAApv8XYWH1F3tijDmUIAAFBcDVqwoMGGBx1CFj7C7X7lfefvHFF/Hiiy9afW7nzp1N2uIbXZ6dMcYAAFot0KuX8X5VFdDKcdIZY7bRaoHf/EYGIAoVFQZHXaSZMdaIte/BHV27FxZ3i8YXQGGOw7kVl0vlt8FFhFyFS+XXxXBuxaNSNR2nnzkWn7siHs6teLiwcAKZTIY+ffq0dxidEudWXC6VX09PoLq6vaOwiUvl18VwbsVj/KhJAHTsE19dmUQisXtUKGYd51ZcXLI5gSAIKC4utu0CI6xVOLfi4vyKi/MrHs6tuDi/4hIEAXV1dbxXSARExLm1wlH54MLCCYgIxcXFvBKLgHMrLs6vuDi/4uHciovzKw757RNWNBpN/VWwmcNxbpvSaDQA6tfBtuJDoRhjnYNOB7z0kvH+3/5mvGAeY8zhdDrgT3+SoKwsFLt2ueSpTR2WTCaDn58fbty4AV9fXwB8PoCjERF0Ol2Ti93drYgIGo0GJSUl8PPza/Zijq3FhQVjrHPQ64GPPzbe37iRCwvGRKLXAykpUgD+0OsN7R1OpxMUFARBEFBSUoJbt27xl18HMx0KJZfLObcN+Pn5ISgoyO7lcGHhBBKJBF26dOEVWAScW3G5VH7lcmDNmvr7LsCl8utiOLfikcuB118XUFFRCYWi5avwMttJJBIEBwejrq4O3bp14z0WDmY6PygoKIhze5vpKu+OIKG77ABJWy5LzhhjjDHG2N3Mlu/OXKo5gSAIKCws5NEzRMC5FRfnV1ycX/FwbsXF+RUX51c8nFtxcWHhBESEsrIyHj1DBJxbcblUfomAGzeMN1eIFy6WXxfDuRUPEVBSQvj11woIAudXDLz+iodzKy4+x4Ix1jloNEC3bsb7VVXGq3gxxhxOowGCg2UABqGiwgA+qpgxZnLXFRamCrWystJpr2kwGFBVVYXKykqHnRzDjDi34nKp/Da86nZlJWDo+KPVuFR+XQznVjyWHzUDAM6vo/H6Kx7Ore1M35lbs5fnriss1Go1ACA0NLSdI2GMiaZ79/aOgLG7Am9KGbt7qNVq8/VVmnPXjQolCAKuXr0Kb29vpw1DWFlZidDQUBQVFfFIVA7GuRUX51dcnF/xcG7FxfkVF+dXPJxb2xER1Go1unfvfscheu+6PRZSqRQhISHt8to+Pj68EouEcysuzq+4OL/i4dyKi/MrLs6veDi3trnTngoTHhWKMcYYY4wxZjcuLBhjjDHGGGN248LCCdzd3bFy5Uq4u7u3dyidDudWXJxfcXF+xcO5FRfnV1ycX/FwbsV11528zRhjjDHGGHM83mPBGGOMMcYYsxsXFowxxhhjjDG7cWHBGGOMMcYYsxsXFg6wefNm9OrVC0qlEtHR0Th58mSL06empiI6OhpKpRK9e/fG1q1bnRSpa7IlvwcOHMCECRPQtWtX+Pj4YPTo0Th69KgTo3U9tq6/Jt9//z3c3NwwdOhQcQN0cbbmV6fTYfny5ejZsyfc3d3Rp08fbN++3UnRuhZbc7t7924MGTIEKpUKwcHBmDFjBm7evOmkaF3LiRMn8Mgjj6B79+6QSCQ4dOjQHefhbVvr2Jpb3q7Zpi3rrglv1+zHhYWd9u/fj+TkZCxfvhwZGRmIi4vDQw89hMLCQqvT5+fnY/LkyYiLi0NGRgaWLVuGefPm4bPPPnNy5K7B1vyeOHECEyZMwJEjR5Ceno6xY8fikUceQUZGhpMjdw225tekoqIC06dPx7hx45wUqWtqS36ffPJJfPvtt0hJScH58+exd+9e9OvXz4lRuwZbc5uWlobp06dj5syZyM7OxieffIIzZ85g1qxZTo7cNVRXV2PIkCH429/+1qrpedvWerbmlrdrtrE1vya8XXMQYnYZMWIEJSUlWbT169ePli5danX6V155hfr162fRNmfOHBo1apRoMboyW/NrTVRUFK1atcrRoXUKbc3vtGnT6C9/+QutXLmShgwZImKErs3W/H755Zfk6+tLN2/edEZ4Ls3W3L7zzjvUu3dvi7ZNmzZRSEiIaDF2FgDo4MGDLU7D27a2aU1ureHtWuvYkl/erjkG77GwQ21tLdLT0zFx4kSL9okTJ+LUqVNW5zl9+nST6SdNmoSzZ8+irq5OtFhdUVvy25ggCFCr1ejSpYsYIbq0tuZ3x44dyM3NxcqVK8UO0aW1Jb+ff/45YmJi8Ne//hU9evRA3759sWjRImi1WmeE7DLaktvY2FhcvnwZR44cARHh+vXr+PTTT/Hwww87I+ROj7dtzsPbNcfj7ZrjuLV3AK6stLQUBoMBgYGBFu2BgYEoLi62Ok9xcbHV6fV6PUpLSxEcHCxavK6mLfltbN26daiursaTTz4pRogurS35vXjxIpYuXYqTJ0/CzY3/fbSkLfnNy8tDWloalEolDh48iNLSUrz44osoKyvj8ywaaEtuY2NjsXv3bkybNg01NTXQ6/V49NFH8f777zsj5E6Pt23Ow9s1x+LtmmPxHgsHkEgkFo+JqEnbnaa31s6MbM2vyd69e/Haa69h//796Natm1jhubzW5tdgMOCZZ57BqlWr0LdvX2eF5/JsWX8FQYBEIsHu3bsxYsQITJ48GevXr8fOnTt5r4UVtuQ2JycH8+bNw4oVK5Ceno7//Oc/yM/PR1JSkjNCvSvwtk18vF1zLN6uOR6XZnYICAiATCZr8gtZSUlJk19uTIKCgqxO7+bmBn9/f9FidUVtya/J/v37MXPmTHzyyScYP368mGG6LFvzq1arcfbsWWRkZOCll14CYPwiTERwc3PDV199hQceeMApsbuCtqy/wcHB6NGjB3x9fc1t/fv3BxHh8uXLiIiIEDVmV9GW3K5duxb33XcfFi9eDAAYPHgwPD09ERcXhzVr1vAv6nbibZv4eLvmeLxdczzeY2EHhUKB6OhofP311xbtX3/9NWJjY63OM3r06CbTf/XVV4iJiYFcLhctVlfUlvwCxl90EhMTsWfPHj5+ugW25tfHxwdZWVnIzMw035KSkhAZGYnMzEyMHDnSWaG7hLasv/fddx+uXr2Kqqoqc9uFCxcglUoREhIiaryupC251Wg0kEotN3kymQxA/S/rrO142yYu3q6Jg7drImifc8Y7j3379pFcLqeUlBTKycmh5ORk8vT0pIKCAiIiWrp0KT333HPm6fPy8kilUtGCBQsoJyeHUlJSSC6X06efftpeXejQbM3vnj17yM3NjT744AO6du2a+Xbr1q326kKHZmt+G+PRM1pma37VajWFhITQE088QdnZ2ZSamkoRERE0a9as9upCh2Vrbnfs2EFubm60efNmys3NpbS0NIqJiaERI0a0Vxc6NLVaTRkZGZSRkUEAaP369ZSRkUGXLl0iIt622cPW3PJ2zTa25rcx3q7ZhwsLB/jggw+oZ8+epFAoaPjw4ZSammp+LiEhgeLj4y2mP378OA0bNowUCgWFh4fTli1bnByxa7Elv/Hx8QSgyS0hIcH5gbsIW9ffhvgf8J3Zmt9z587R+PHjycPDg0JCQmjhwoWk0WicHLVrsDW3mzZtoqioKPLw8KDg4GD6wx/+QJcvX3Zy1K7h2LFjLf4v5W1b29maW96u2aYt625DvF2zj4SI9wEzxhhjjDHG7MPnWDDGGGOMMcbsxoUFY4wxxhhjzG5cWDDGGGOMMcbsxoUFY4wxxhhjzG5cWDDGGGOMMcbsxoUFY4wxxhhjzG5cWDDGGGOMMcbsxoUFY4wxxhhjzG5cWDDGGGOMMcbsxoUFY4wxpzp+/DgkEglu3bol2mu8+uqrmD17tl3LyMrKQkhICKqrqx0UFWOMdW5cWDDG2F0mMTERjz32WJN2Z3zhb63w8HBs3LixSftrr72GoUOHtjjv9evX8d5772HZsmV2xTBo0CCMGDECGzZssGs5jDF2t+DCgjHGWKeSkpKC0aNHIzw83O5lzZgxA1u2bIHBYLA/MMYY6+S4sGCMMdasU6dO4f7774eHhwdCQ0Mxb948i0ODdu3ahZiYGHh7eyMoKAjPPPMMSkpKLJZx5MgR9O3bFx4eHhg7diwKCgpEjXnfvn149NFHLdrGjBmDuXPnIjk5Gffccw8CAwPx4Ycforq6GjNmzIC3tzf69OmDL7/80mK+SZMm4ebNm0hNTRU1ZsYY6wy4sGCMMWZVVlYWJk2ahKlTp+Lnn3/G/v37kZaWhpdeesk8TW1tLV5//XX89NNPOHToEPLz85GYmGh+vqioCFOnTsXkyZORmZmJWbNmYenSpaLFXF5ejl9++QUxMTFNnvv73/+OgIAA/O9//8PcuXPxwgsv4Pe//z1iY2Px448/YtKkSXjuueeg0WjM8ygUCgwZMgQnT54ULWbGGOssJERE7R0EY4wx50lMTMSuXbugVCot2g0GA2pqalBeXg4/Pz9Mnz4dHh4e2LZtm3matLQ0xMfHo7q6usn8AHDmzBmMGDECarUaXl5eWLZsGQ4dOoTs7GxIJBIAwNKlS/H222+bX8ea8PBwXLt2DXK53KK9trYWUVFRyMzMtDpfZmYmhg0bhsLCQoSGhprbx4wZA4PBYC4QDAYDfH19MXXqVPzjH/8AABQXFyM4OBinT5/GqFGjzPNOnToVvr6+2LFjRzMZZYwxBgBu7R0AY4wx5xs7diy2bNli0fbf//4Xzz77rPlxeno6fv31V+zevdvcRkQQBAH5+fno378/MjIy8NprryEzMxNlZWUQBAEAUFhYiKioKJw7dw6jRo0yFxUAMHr06FbFuHjxYou9HwCwadMmnDhxotl5tFotAFgtegYPHmy+L5PJ4O/vj0GDBpnbAgMDAaDJoVweHh4WezEYY4xZx4UFY4zdhTw9PfGb3/zGou3y5csWjwVBwJw5czBv3rwm84eFhaG6uhoTJ07ExIkTsWvXLnTt2hWFhYWYNGkSamtrARgLkbYKCAhoEmOXLl3uOA9gPCSqa9euFs813vshkUgs2kzFj6k4MikrK0OfPn1sC54xxu5CXFgwxhizavjw4cjOzm7y5d4kKysLpaWleOutt8yHHZ09e9ZimqioKBw6dMii7YcffhAlXgDo06cPfHx8kJOTg759+zpkmb/88gueeOIJhyyLMcY6Mz55mzHGmFVLlizB6dOn8ac//QmZmZm4ePEiPv/8c8ydOxeAca+FQqHA+++/j7y8PHz++ed4/fXXLZaRlJSE3NxcLFy4EOfPn8eePXuwc+dO0WKWSqUYP3480tLSHLK8goICXLlyBePHj3fI8hhjrDPjwoIxxphVgwcPRmpqKi5evIi4uDgMGzYMr776KoKDgwEAXbt2xc6dO/HJJ58gKioKb731Ft59912LZYSFheGzzz7D4cOHMWTIEGzduhVvvvmmqHHPnj0b+/bta3JIU1vs3bsXEydORM+ePR0QGWOMdW48KhRjjLFOhYgwatQoJCcn4+mnn27zcnQ6HSIiIrB3717cd999DoyQMcY6J95jwRhjrFORSCT48MMPodfr7VrOpUuXsHz5ci4qGGOslXiPBWOMMcYYY8xuvMeCMcYYY4wxZjcuLBhjjDHGGGN248KCMcYYY4wxZjcuLBhjjDHGGGN248KCMcYYY4wxZjcuLBhjjDHGGGN248KCMcYYY4wxZjcuLBhjjDHGGGN248KCMcYYY4wxZrf/B3wN2hauDFzZAAAAAElFTkSuQmCC",
          "text/plain": "<Figure size 800x500 with 1 Axes>"
         },
         "metadata": {},
         "output_type": "display_data"
        }
       ]
      }
     },
     "05690d68f13f4aeb8aefdc4bfdd28ca8": {
      "model_module": "@jupyter-widgets/controls",
      "model_module_version": "2.0.0",
      "model_name": "FloatSliderModel",
      "state": {
       "behavior": "drag-tap",
       "description": "Slope S",
       "layout": "IPY_MODEL_af2779f013e54f96a198e062e69e2d96",
       "max": 0.05,
       "min": 0.0001,
       "readout_format": ".4f",
       "step": 0.0005,
       "style": "IPY_MODEL_3dc91a37aca14684aad087ffd50cf0ec",
       "value": 0.0101
      }
     },
     "06febfdaf762474cbdae19690fad5ea6": {
      "model_module": "@jupyter-widgets/controls",
      "model_module_version": "2.0.0",
      "model_name": "SliderStyleModel",
      "state": {
       "description_width": ""
      }
     },
     "1c702591420b464da5bc6a7f3e1472bc": {
      "model_module": "@jupyter-widgets/controls",
      "model_module_version": "2.0.0",
      "model_name": "VBoxModel",
      "state": {
       "_dom_classes": [
        "widget-interact"
       ],
       "children": [
        "IPY_MODEL_8240af617ece45e1acdef7646984226c",
        "IPY_MODEL_ec23778127ee4401be1c624edb306a8b",
        "IPY_MODEL_05690d68f13f4aeb8aefdc4bfdd28ca8",
        "IPY_MODEL_8647a0b06cff489b8fe97c349f06db05",
        "IPY_MODEL_7061f816fd344925bcbc92b5d38c03b9",
        "IPY_MODEL_9468b9e1076b4658ab164957d1cfdfd0",
        "IPY_MODEL_c177041348a8475bbcf82ecee642ef2c",
        "IPY_MODEL_7b6fb6f26ee24c14b26152a5777973df",
        "IPY_MODEL_013b2f00134a4ab1b21be5090256475e"
       ],
       "layout": "IPY_MODEL_5314b2904f64470cbea3c57b2cf043cb"
      }
     },
     "2f3145ec2f3a4005830af25e243644f0": {
      "model_module": "@jupyter-widgets/controls",
      "model_module_version": "2.0.0",
      "model_name": "DescriptionStyleModel",
      "state": {
       "description_width": ""
      }
     },
     "3dc91a37aca14684aad087ffd50cf0ec": {
      "model_module": "@jupyter-widgets/controls",
      "model_module_version": "2.0.0",
      "model_name": "SliderStyleModel",
      "state": {
       "description_width": ""
      }
     },
     "4ded67fcb28144d184be383b489ec87b": {
      "model_module": "@jupyter-widgets/base",
      "model_module_version": "2.0.0",
      "model_name": "LayoutModel",
      "state": {}
     },
     "5314b2904f64470cbea3c57b2cf043cb": {
      "model_module": "@jupyter-widgets/base",
      "model_module_version": "2.0.0",
      "model_name": "LayoutModel",
      "state": {}
     },
     "63a51022433848718d2c55089ded69c5": {
      "model_module": "@jupyter-widgets/controls",
      "model_module_version": "2.0.0",
      "model_name": "SliderStyleModel",
      "state": {
       "description_width": ""
      }
     },
     "6efeae3656394f2d99c4d0707e95783a": {
      "model_module": "@jupyter-widgets/base",
      "model_module_version": "2.0.0",
      "model_name": "LayoutModel",
      "state": {}
     },
     "7061f816fd344925bcbc92b5d38c03b9": {
      "model_module": "@jupyter-widgets/controls",
      "model_module_version": "2.0.0",
      "model_name": "FloatSliderModel",
      "state": {
       "behavior": "drag-tap",
       "description": "Inlet Head He",
       "layout": "IPY_MODEL_ec75f0ed8a9a405ea9b031085b89fa08",
       "max": 5,
       "min": 0.1,
       "step": 0.1,
       "style": "IPY_MODEL_bae69189ee4140eba147451b1f1adad9",
       "value": 1.0000000000000002
      }
     },
     "7b6fb6f26ee24c14b26152a5777973df": {
      "model_module": "@jupyter-widgets/controls",
      "model_module_version": "2.0.0",
      "model_name": "DropdownModel",
      "state": {
       "_options_labels": [
        "Circular",
        "Box"
       ],
       "description": "Culvert Shape",
       "index": 0,
       "layout": "IPY_MODEL_af813fb5ed9c48e79b5688e89c0f6da0",
       "style": "IPY_MODEL_a510f3cafc224386a6d1c6d64afee99d"
      }
     },
     "81e7907a2e0941d5a77a60d3d2ba2e79": {
      "model_module": "@jupyter-widgets/controls",
      "model_module_version": "2.0.0",
      "model_name": "SliderStyleModel",
      "state": {
       "description_width": ""
      }
     },
     "8240af617ece45e1acdef7646984226c": {
      "model_module": "@jupyter-widgets/controls",
      "model_module_version": "2.0.0",
      "model_name": "FloatSliderModel",
      "state": {
       "behavior": "drag-tap",
       "description": "Diameter d (m)",
       "layout": "IPY_MODEL_d6fa8dc703554b15bf70b50707e70a09",
       "max": 5,
       "min": 0.3,
       "step": 0.1,
       "style": "IPY_MODEL_63a51022433848718d2c55089ded69c5",
       "value": 1
      }
     },
     "8647a0b06cff489b8fe97c349f06db05": {
      "model_module": "@jupyter-widgets/controls",
      "model_module_version": "2.0.0",
      "model_name": "FloatSliderModel",
      "state": {
       "behavior": "drag-tap",
       "description": "Manning n",
       "layout": "IPY_MODEL_916d7eafdf604584a488af08c9fb4c77",
       "max": 0.035,
       "min": 0.01,
       "step": 0.001,
       "style": "IPY_MODEL_06febfdaf762474cbdae19690fad5ea6",
       "value": 0.013000000000000001
      }
     },
     "916d7eafdf604584a488af08c9fb4c77": {
      "model_module": "@jupyter-widgets/base",
      "model_module_version": "2.0.0",
      "model_name": "LayoutModel",
      "state": {}
     },
     "9468b9e1076b4658ab164957d1cfdfd0": {
      "model_module": "@jupyter-widgets/controls",
      "model_module_version": "2.0.0",
      "model_name": "FloatSliderModel",
      "state": {
       "behavior": "drag-tap",
       "description": "Tailwater Depth Hc",
       "layout": "IPY_MODEL_e3ea56b64d7d48d4b4c49030114ac9f0",
       "max": 5,
       "step": 0.1,
       "style": "IPY_MODEL_f5c4d145146b42cd9b95898bbfc43d4a",
       "value": 0.5
      }
     },
     "9a0e7d1aa4a943248f499dc8d1e074f0": {
      "model_module": "@jupyter-widgets/base",
      "model_module_version": "2.0.0",
      "model_name": "LayoutModel",
      "state": {}
     },
     "a510f3cafc224386a6d1c6d64afee99d": {
      "model_module": "@jupyter-widgets/controls",
      "model_module_version": "2.0.0",
      "model_name": "DescriptionStyleModel",
      "state": {
       "description_width": ""
      }
     },
     "af2779f013e54f96a198e062e69e2d96": {
      "model_module": "@jupyter-widgets/base",
      "model_module_version": "2.0.0",
      "model_name": "LayoutModel",
      "state": {}
     },
     "af813fb5ed9c48e79b5688e89c0f6da0": {
      "model_module": "@jupyter-widgets/base",
      "model_module_version": "2.0.0",
      "model_name": "LayoutModel",
      "state": {}
     },
     "bae69189ee4140eba147451b1f1adad9": {
      "model_module": "@jupyter-widgets/controls",
      "model_module_version": "2.0.0",
      "model_name": "SliderStyleModel",
      "state": {
       "description_width": ""
      }
     },
     "c177041348a8475bbcf82ecee642ef2c": {
      "model_module": "@jupyter-widgets/controls",
      "model_module_version": "2.0.0",
      "model_name": "DropdownModel",
      "state": {
       "_options_labels": [
        "Weir",
        "Orifice"
       ],
       "description": "Inlet Type",
       "index": 0,
       "layout": "IPY_MODEL_6efeae3656394f2d99c4d0707e95783a",
       "style": "IPY_MODEL_2f3145ec2f3a4005830af25e243644f0"
      }
     },
     "d6fa8dc703554b15bf70b50707e70a09": {
      "model_module": "@jupyter-widgets/base",
      "model_module_version": "2.0.0",
      "model_name": "LayoutModel",
      "state": {}
     },
     "e3ea56b64d7d48d4b4c49030114ac9f0": {
      "model_module": "@jupyter-widgets/base",
      "model_module_version": "2.0.0",
      "model_name": "LayoutModel",
      "state": {}
     },
     "ec23778127ee4401be1c624edb306a8b": {
      "model_module": "@jupyter-widgets/controls",
      "model_module_version": "2.0.0",
      "model_name": "FloatSliderModel",
      "state": {
       "behavior": "drag-tap",
       "description": "Length L (m)",
       "layout": "IPY_MODEL_4ded67fcb28144d184be383b489ec87b",
       "max": 50,
       "min": 1,
       "style": "IPY_MODEL_81e7907a2e0941d5a77a60d3d2ba2e79",
       "value": 10.000000000000002
      }
     },
     "ec75f0ed8a9a405ea9b031085b89fa08": {
      "model_module": "@jupyter-widgets/base",
      "model_module_version": "2.0.0",
      "model_name": "LayoutModel",
      "state": {}
     },
     "f5c4d145146b42cd9b95898bbfc43d4a": {
      "model_module": "@jupyter-widgets/controls",
      "model_module_version": "2.0.0",
      "model_name": "SliderStyleModel",
      "state": {
       "description_width": ""
      }
     }
    },
    "version_major": 2,
    "version_minor": 0
   }
  }
 },
 "nbformat": 4,
 "nbformat_minor": 5
}
