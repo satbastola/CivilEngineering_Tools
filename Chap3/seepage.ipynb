{
 "cells": [
  {
   "cell_type": "markdown",
   "id": "1b6ec785-d048-4bfd-9fe6-f1fd411175e1",
   "metadata": {},
   "source": [
    "# Chapter 3 Hydraulics: Seepage analysis"
   ]
  },
  {
   "cell_type": "markdown",
   "id": "00be3ae8-61bf-45f2-93f7-46273b7cf265",
   "metadata": {},
   "source": [
    "1. [Introduction: Seepage Analysis](#1.-Introduction)\n",
    "2. [Simulation: Seepage Analysis](#2.-Simulation)\n",
    "3. [Self-Assessment](#3.-Self-Assessment)"
   ]
  },
  {
   "cell_type": "markdown",
   "id": "6d0de5ee-d339-48a0-8d01-58ee3616449c",
   "metadata": {},
   "source": [
    "## 1. Introduction"
   ]
  },
  {
   "cell_type": "markdown",
   "id": "30b21eb5-ab7c-4e7a-9cd1-3da3705ba7ac",
   "metadata": {},
   "source": [
    "### 💧 Seepage in Hydraulic Structures\n",
    "\n",
    "**Seepage** refers to the slow movement of water through soil or porous media due to hydraulic gradients. It occurs naturally in embankments, foundations, and abutments of hydraulic structures such as **dams**, **levees**, and **floodwalls**.\n",
    "\n",
    "---\n",
    "\n",
    "### ⚠️ How Seepage Threatens Hydraulic Infrastructure\n",
    "\n",
    "| Structure     | Seepage Risks                                                                 |\n",
    "|---------------|--------------------------------------------------------------------------------|\n",
    "| **Dams**      | - Uplift pressure reduces stability<br>- Internal erosion (piping)<br>- Foundation weakening |\n",
    "| **Levees**    | - Boiling and sand boils<br>- Slope instability<br>- Breach during high water events |\n",
    "| **Floodwalls**| - Undermining of wall base<br>- Loss of structural integrity<br>- Seepage paths through joints |\n",
    "\n",
    "---\n",
    "\n",
    "### 🔍 Seepage Failure Mechanisms\n",
    "\n",
    "- **Piping**: Progressive erosion of soil particles along seepage paths\n",
    "- **Uplift**: Vertical pressure that can lift slabs or destabilize foundations\n",
    "- **Boiling**: Upward flow causing soil to behave like a fluid\n",
    "- **Saturation**: Reduces shear strength and increases risk of slope failure\n",
    "\n",
    "---\n",
    "\n",
    "### 🧮 Methods for Seepage Analysis\n",
    "\n",
    "| Method / Approach             | Description                                                                 |\n",
    "|-------------------------------|-----------------------------------------------------------------------------|\n",
    "| **Flow Net Analysis**         | Graphical method using equipotential and flow lines to estimate seepage quantity and pressure distribution |\n",
    "| **Darcy’s Law**               | Fundamental equation for flow through porous media:<br>\\( q = k \\cdot i \\cdot A \\)<br>Where:<br>\\( q \\): flow rate<br>\\( k \\): permeability<br>\\( i \\): hydraulic gradient<br>\\( A \\): cross-sectional area |\n",
    "| **Finite Element Method (FEM)**| Numerical modeling of seepage through complex geometries and heterogeneous soils |\n",
    "| **Finite Difference Method (FDM)**| Grid-based numerical solution of Laplace or Richards equations for steady/unsteady flow |\n",
    "| **SEEP/W (GeoStudio)**        | Commercial software for 2D/3D seepage modeling with boundary conditions and material properties |\n",
    "| **Empirical Charts**          | Used for estimating seepage through homogeneous embankments or foundations |\n",
    "| **Critical Gradient Analysis**| Determines the gradient at which piping or boiling may initiate:<br>\\( i_c = \\frac{\\gamma'}{\\gamma_w} \\) |\n",
    "\n",
    "---\n",
    "### 💥 Seepage-Related Hydraulic Disasters in the U.S.\n",
    "\n",
    "Seepage is a major contributor to dam and levee failures, often leading to internal erosion (piping), uplift pressure, and structural instability. Below is a summary of notable seepage-related incidents across different hydraulic structures.\n",
    "\n",
    "---\n",
    "\n",
    "##@ 📊 Summary Table: Major Seepage-Related Failures\n",
    "\n",
    "| Year | Structure Type     | Location                  | Failure Mode         | Impact / Notes                                      |\n",
    "|------|--------------------|---------------------------|----------------------|-----------------------------------------------------|\n",
    "| 1889 | Gravity Dam        | South Fork Dam, PA        | Piping & overtopping | 2,209 fatalities; catastrophic flood in Johnstown   |\n",
    "| 1928 | Gravity Dam        | St. Francis Dam, CA       | Foundation seepage   | ~450 fatalities; reactivation of landslide          |\n",
    "| 1976 | Embankment Dam     | Teton Dam, ID             | Internal erosion     | 11 fatalities; $1B in damages                   |\n",
    "| 1977 | Earth Dam          | Kelly Barnes Dam, GA      | Seepage & saturation | 39 fatalities; college campus inundated         |\n",
    "| 2005 | Levee System       | New Orleans, LA           | Underseepage & piping| Widespread flooding during Hurricane Katrina   |\n",
    "| 1993 | Levee System       | Midwest (IL, MO)          | Seepage & boils      | >1,500 levee failures; Galloway Report initiated|\n",
    "| 2020 | Embankment Dam     | Edenville Dam, MI         | Seepage & instability| Evacuation; dam breach due to poor maintenance |\n",
    "| 2009 | Levee              | Princeville Levee, NC     | Repeated seepage     | Progressive weakening; invisible damage         |\n",
    "\n",
    "---\n",
    "\n",
    "### 🔍 Common Seepage Failure Mechanisms\n",
    "\n",
    "| Mechanism             | Description                                                                 |\n",
    "|-----------------------|-----------------------------------------------------------------------------|\n",
    "| **Piping**            | Soil particles eroded by seepage flow, forming internal channels            |\n",
    "| **Uplift Pressure**   | Vertical pressure destabilizing slabs or foundations                        |\n",
    "| **Boiling / Sand Boils**| Upward flow carrying soil to surface; precursor to piping                  |\n",
    "| **Saturation**        | Weakens soil shear strength; leads to slope failure                         |\n",
    "| **Crack Propagation** | Seepage concentrates along cracks or conduits                               |\n",
    "\n",
    "---\n",
    "\n",
    "## 🧠 Lessons Learned\n",
    "\n",
    "- Seepage failures often occur **without overtopping**\n",
    "- Many failures happen during **first reservoir filling** or within **first 5 years**\n",
    "- **Monitoring and maintenance** are critical to detect early signs\n",
    "- **Relief wells, cutoff walls, and filters** are essential for seepage control\n",
    "- **Levee failures** are often rapid and offer **little warning time**\n",
    "\n",
    "---\n",
    "\n",
    "### 📚 References\n",
    "\n",
    "- [ASDSO Dam Failures Database](https://damsafety.org/dam-failures)\n",
    "- [Stanford NPDP Dam Failure Compilation](https://npdp.stanford.edu/sites/default/files/reports/npdp_dam_failure_summary_compilation_v1_2018.pdf)\n",
    "- [FEMA Seepage Workshop Report](https://www.fema.gov/sites/default/files/2020-08/seepage.pdf)\n",
    "- [EPA Levee Failure Report](https://semspub.epa.gov/work/05/424459.pdf)\n",
    "- [NC State Levee Study](https://ccee.ncsu.edu/news/2020/study-finds-flooding-damage-to-levees-is-cumulative-and-often-invisible/)\n",
    "\n",
    "\n",
    "### 🧠 Conceptual Insight\n",
    "\n",
    "> Seepage is a **hidden threat** to hydraulic structures —  \n",
    "> understanding its behavior is essential for **designing safe embankments**,  \n",
    "> **preventing failure**, and **ensuring long-term performance**.\n",
    "\n",
    "---\n",
    "\n",
    "### ❓ Quiz Questions\n",
    "\n",
    "1. What is the role of permeability in seepage analysis?\n",
    "2. How does uplift pressure affect dam stability?\n",
    "3. What does a flow net represent?\n",
    "4. Why is piping dangerous in levees?\n",
    "5. What software tools are commonly used for seepage modeling?\n",
    "\n",
    "\n"
   ]
  },
  {
   "cell_type": "markdown",
   "id": "9e3ebe07-4185-48b8-bd50-267ba953107e",
   "metadata": {},
   "source": [
    "## 2. Simulation"
   ]
  },
  {
   "cell_type": "markdown",
   "id": "1ba1cb9d-3e5a-45a0-b99c-6aa8911789f9",
   "metadata": {},
   "source": [
    "\n",
    "### 💧 Interactive Dam Seepage Simulation — Laplace Equation\n",
    "\n",
    "This Python notebook cell simulates 2D steady-state seepage beneath a dam using the Laplace equation. It uses finite difference methods and `ipywidgets` to allow dynamic user control of geometry and boundary conditions.\n",
    "\n",
    "---\n",
    "\n",
    "### 🧠 Governing Equation\n",
    "\n",
    "We solve the Laplace equation:\n",
    "\n",
    "\n",
    "\n",
    "$$\n",
    "\\frac{\\partial^2 h}{\\partial x^2} + \\frac{\\partial^2 h}{\\partial y^2} = 0\n",
    "$$\n",
    "\n",
    "\n",
    "\n",
    "Where:\n",
    "- $( h $): hydraulic head [m]\n",
    "\n",
    "Assumptions:\n",
    "- Steady state\n",
    "- Homogeneous, isotropic medium\n",
    "- No flow across bottom and top boundaries\n",
    "- Constant head at upstream and downstream boundaries\n",
    "\n",
    "---\n",
    "\n",
    "### ⚙️ Inputs and Controls\n",
    "\n",
    "| Parameter        | Description                         |\n",
    "|------------------|-------------------------------------|\n",
    "| Grid Nx, Ny      | Number of grid points in x and y    |\n",
    "| Domain Lx, Ly    | Length and depth of dam section (m) |\n",
    "| Head h_left      | Upstream boundary condition (m)     |\n",
    "| Head h_right     | Downstream boundary condition (m)   |\n",
    "\n",
    "Users can adjust these interactively with sliders.\n",
    "\n",
    "---\n",
    "\n",
    "### 🔁 Solver Logic\n",
    "\n",
    "- Discretize domain into a 2D grid.\n",
    "- Apply boundary conditions:\n",
    "  - Upstream and downstream head fixed\n",
    "  - Top and bottom boundaries are no-flow\n",
    "- Use Gauss-Seidel iteration until convergence.\n",
    "\n",
    "---\n",
    "\n",
    "### 📊 Visualization\n",
    "\n",
    "- Hydraulic head is plotted using filled contours (`contourf`).\n",
    "- Vertical gradient beneath dam visualizes seepage potential.\n",
    "- Real-time interactivity enables design exploration.\n",
    "\n",
    "---\n",
    "\n",
    "### 🚀 Use Cases\n",
    "\n",
    "- Estimate flow patterns beneath dams and levees\n",
    "- Demonstrate influence of geometry and boundary heads\n",
    "- Educational illustration of potential flow and Laplace solutions\n",
    "\n",
    "---\n"
   ]
  },
  {
   "cell_type": "code",
   "execution_count": 1,
   "id": "1e5e2f7f-94a8-43d6-ae0d-ce754b9cf4dc",
   "metadata": {},
   "outputs": [
    {
     "data": {
      "application/vnd.jupyter.widget-view+json": {
       "model_id": "4572a7fb8f204f2f82b6a2a98647b8a6",
       "version_major": 2,
       "version_minor": 0
      },
      "text/plain": [
       "VBox(children=(IntSlider(value=100, description='Grid Nx', max=200, min=50, step=10), IntSlider(value=30, desc…"
      ]
     },
     "metadata": {},
     "output_type": "display_data"
    },
    {
     "data": {
      "application/vnd.jupyter.widget-view+json": {
       "model_id": "7999bf2158d842038d5bba579351cee9",
       "version_major": 2,
       "version_minor": 0
      },
      "text/plain": [
       "Output()"
      ]
     },
     "metadata": {},
     "output_type": "display_data"
    }
   ],
   "source": [
    "import numpy as np\n",
    "import matplotlib.pyplot as plt\n",
    "import ipywidgets as widgets\n",
    "from IPython.display import display\n",
    "\n",
    "# 🔧 Finite difference solver with seepage face on downstream\n",
    "def solve_laplace(Nx, Ny, h_left, h_right, tol=1e-4, max_iter=5000):\n",
    "    h = np.zeros((Ny, Nx))\n",
    "\n",
    "    # Initial boundary conditions\n",
    "    h[:, 0] = h_left  # Upstream head\n",
    "    h[:, -1] = np.linspace(h_right, h_right, Ny)  # Seepage face (free exit)\n",
    "\n",
    "    for _ in range(max_iter):\n",
    "        h_old = h.copy()\n",
    "\n",
    "        # Update interior points\n",
    "        for i in range(1, Ny - 1):\n",
    "            for j in range(1, Nx - 1):\n",
    "                h[i, j] = 0.25 * (h[i+1, j] + h[i-1, j] + h[i, j+1] + h[i, j-1])\n",
    "\n",
    "        # Reapply boundary conditions\n",
    "        h[:, 0] = h_left\n",
    "        h[:, -1] = np.linspace(h_right, h_right, Ny)  # Seepage face\n",
    "        h[0, :] = h[1, :]     # Bottom (no flow)\n",
    "        h[-1, :] = h[-2, :]   # Top (no flow)\n",
    "\n",
    "        if np.max(np.abs(h - h_old)) < tol:\n",
    "            break\n",
    "\n",
    "    return h\n",
    "\n",
    "# 📊 Plot hydraulic head and streamline flow\n",
    "def plot_seepage(Nx, Ny, Lx, Ly, h_left, h_right, K):\n",
    "    if Nx < 2 or Ny < 2:\n",
    "        print(\"⚠️ Grid size too small for seepage analysis.\")\n",
    "        return\n",
    "\n",
    "    dx = Lx / (Nx - 1)\n",
    "    dy = Ly / (Ny - 1)\n",
    "    h = solve_laplace(Nx, Ny, h_left, h_right)\n",
    "    X = np.linspace(0, Lx, Nx)\n",
    "    Y = np.linspace(0, Ly, Ny)\n",
    "    XX, YY = np.meshgrid(X, Y)\n",
    "\n",
    "    # 💨 Darcy velocity field\n",
    "    dh_dx, dh_dy = np.gradient(h, dx, dy)\n",
    "    qx = -K * dh_dx\n",
    "    qy = -K * dh_dy\n",
    "    velocity_mag = np.sqrt(qx**2 + qy**2)\n",
    "\n",
    "    # 🔢 Estimate seepage across downstream face\n",
    "    seepage_rate = np.mean(qx[:, -1]) * Ly  # average flux × height\n",
    "\n",
    "    # 📈 Plot head and streamlines\n",
    "    plt.figure(figsize=(12, 5))\n",
    "    contour = plt.contourf(XX, YY, h, levels=30, cmap=\"viridis\")\n",
    "    plt.colorbar(contour, label=\"Hydraulic Head (m)\")\n",
    "    plt.streamplot(XX, YY, qx, qy, color=\"white\", density=1.2, linewidth=1)\n",
    "\n",
    "    # 🔴 Velocity magnitude contours\n",
    "    plt.contour(XX, YY, velocity_mag, levels=20, colors='red', linewidths=0.5)\n",
    "\n",
    "    # 💬 Annotate seepage rate\n",
    "    plt.text(Lx * 0.6, Ly * 0.1, f\"Seepage Rate: {seepage_rate:.2f} m³/day\",\n",
    "             fontsize=12, color='white', bbox=dict(facecolor='black', alpha=0.5))\n",
    "\n",
    "    plt.gca().invert_yaxis()\n",
    "    plt.title(\"Seepage Flow & Streamlines with Seepage Face\")\n",
    "    plt.xlabel(\"Horizontal Distance (m)\")\n",
    "    plt.ylabel(\"Depth Beneath Dam (m)\")\n",
    "    plt.grid(True)\n",
    "    plt.tight_layout()\n",
    "    plt.show()\n",
    "\n",
    "# 🎛️ Interactive controls\n",
    "Nx_slider = widgets.IntSlider(value=100, min=50, max=200, step=10, description='Grid Nx')\n",
    "Ny_slider = widgets.IntSlider(value=30, min=10, max=100, step=5, description='Grid Ny')\n",
    "Lx_slider = widgets.FloatSlider(value=50.0, min=10.0, max=200.0, step=10.0, description='Length Lx (m)')\n",
    "Ly_slider = widgets.FloatSlider(value=10.0, min=5.0, max=50.0, step=5.0, description='Depth Ly (m)')\n",
    "h_left_slider = widgets.FloatSlider(value=10.0, min=1.0, max=20.0, step=0.5, description='Upstream Head (m)')\n",
    "h_right_slider = widgets.FloatSlider(value=2.0, min=0.0, max=10.0, step=0.5, description='Downstream Head (m)')\n",
    "K_slider = widgets.FloatSlider(value=1.0, min=0.01, max=10.0, step=0.1, description='Hydraulic Conductivity K')\n",
    "\n",
    "ui = widgets.VBox([\n",
    "    Nx_slider, Ny_slider, Lx_slider, Ly_slider,\n",
    "    h_left_slider, h_right_slider, K_slider\n",
    "])\n",
    "\n",
    "out = widgets.interactive_output(plot_seepage, {\n",
    "    'Nx': Nx_slider,\n",
    "    'Ny': Ny_slider,\n",
    "    'Lx': Lx_slider,\n",
    "    'Ly': Ly_slider,\n",
    "    'h_left': h_left_slider,\n",
    "    'h_right': h_right_slider,\n",
    "    'K': K_slider\n",
    "})\n",
    "\n",
    "display(ui, out)"
   ]
  },
  {
   "cell_type": "markdown",
   "id": "8a8c5639-32fe-404d-8383-bfd0be242b6e",
   "metadata": {},
   "source": [
    "## 3. Self-Assessment"
   ]
  },
  {
   "cell_type": "markdown",
   "id": "023ffb76-9885-47b7-9565-03ec46f0e073",
   "metadata": {},
   "source": [
    "### 💧 Seepage Flow Analysis Beneath a Dam: Interpretation & Learning\n",
    "\n",
    "This module explores 2D seepage beneath a dam using a finite difference solution to **Laplace’s equation**, with a downstream **seepage face**. The model visualizes hydraulic head, streamlines, and velocity contours, and estimates total seepage rate.\n",
    "\n",
    "---\n",
    "\n",
    "### 📘 How to Interpret the Results\n",
    "\n",
    "### 🔹 Hydraulic Head Contours\n",
    "- Represent the **equipotential lines** of groundwater flow.\n",
    "- Head decreases from upstream (left) to downstream (right).\n",
    "- Steep gradients indicate high flow velocity.\n",
    "\n",
    "### 🔹 Streamlines\n",
    "- Show the **path of water particles** through the soil.\n",
    "- Flow converges toward the downstream face, especially near the base.\n",
    "- Streamlines bend near boundaries due to no-flow conditions.\n",
    "\n",
    "### 🔹 Velocity Magnitude Contours\n",
    "- Red lines show zones of **high seepage velocity**.\n",
    "- Concentrated near the toe of the dam and seepage face.\n",
    "- Useful for identifying potential piping or erosion zones.\n",
    "\n",
    "### 🔹 Seepage Rate\n",
    "- Calculated as average horizontal Darcy flux across the downstream face:\n",
    "  $\n",
    "  Q_{\\text{seepage}} = \\bar{q}_x \\cdot L_y\n",
    "  $\n",
    "- Reported in m³/day — useful for drainage design and safety checks.\n",
    "\n",
    "---\n",
    "\n",
    "### ✅ Conceptual Questions\n",
    "\n",
    "1. **What equation governs steady-state seepage in saturated soils?**\n",
    "   - A. Navier-Stokes  \n",
    "   - B. Laplace’s equation  \n",
    "   - C. Bernoulli’s equation  \n",
    "   - D. Richards’ equation  \n",
    "\n",
    "2. **What boundary condition is applied at the bottom and top of the domain?**\n",
    "   - A. Constant head  \n",
    "   - B. No-flow (Neumann)  \n",
    "   - C. Seepage face  \n",
    "   - D. Free surface  \n",
    "\n",
    "3. **Which parameter most directly affects the magnitude of seepage?**\n",
    "   - A. Grid resolution  \n",
    "   - B. Hydraulic conductivity  \n",
    "   - C. Upstream head  \n",
    "   - D. Depth of dam  \n",
    "\n",
    "4. **Why is the downstream face modeled as a seepage face?**\n",
    "   - A. To simulate rainfall infiltration  \n",
    "   - B. To allow free exit of groundwater  \n",
    "   - C. To enforce zero velocity  \n",
    "   - D. To model impermeable boundary  \n",
    "\n",
    "---\n",
    "\n",
    "### 🔍 Reflection Questions\n",
    "\n",
    "1. **How does changing the upstream head affect the flow field and seepage rate?**  \n",
    "2. **Why is it important to visualize both head and velocity in seepage analysis?**  \n",
    "3. **What physical processes are captured by Laplace’s equation that uniform flow models ignore?**  \n",
    "4. **How would you modify this model to include anisotropic soils or layered media?**  \n",
    "5. **What are the risks of underestimating seepage beneath hydraulic structures?**\n",
    "\n",
    "---\n",
    "\n",
    "### 💡 Engineering Insight\n",
    "\n",
    "> “Seepage beneath dams is a critical safety concern. Visualizing flow paths and gradients helps engineers design effective drainage systems and prevent piping, uplift, and structural failure.”\n",
    "\n",
    "---"
   ]
  },
  {
   "cell_type": "code",
   "execution_count": null,
   "id": "ceaaa708-c966-42bc-84a3-38e8f1d23a65",
   "metadata": {},
   "outputs": [],
   "source": []
  }
 ],
 "metadata": {
  "kernelspec": {
   "display_name": "Python [conda env:base] *",
   "language": "python",
   "name": "conda-base-py"
  },
  "language_info": {
   "codemirror_mode": {
    "name": "ipython",
    "version": 3
   },
   "file_extension": ".py",
   "mimetype": "text/x-python",
   "name": "python",
   "nbconvert_exporter": "python",
   "pygments_lexer": "ipython3",
   "version": "3.12.7"
  },
  "widgets": {
   "application/vnd.jupyter.widget-state+json": {
    "state": {
     "156c18e6b3e94d18ab7fce4bbfca573f": {
      "model_module": "@jupyter-widgets/controls",
      "model_module_version": "2.0.0",
      "model_name": "SliderStyleModel",
      "state": {
       "description_width": ""
      }
     },
     "1ec3cb93d03f4e57a0ada153d734ff0f": {
      "model_module": "@jupyter-widgets/controls",
      "model_module_version": "2.0.0",
      "model_name": "SliderStyleModel",
      "state": {
       "description_width": ""
      }
     },
     "4572a7fb8f204f2f82b6a2a98647b8a6": {
      "model_module": "@jupyter-widgets/controls",
      "model_module_version": "2.0.0",
      "model_name": "VBoxModel",
      "state": {
       "children": [
        "IPY_MODEL_66ff6f82635540a0beed937edd70a0a4",
        "IPY_MODEL_a3b5767774c5419686cdd49227a01ef1",
        "IPY_MODEL_f02e55e13b64465f8495a762b41dd23b",
        "IPY_MODEL_c9eb1007532644a49d046f6f074e10c2",
        "IPY_MODEL_540148fdc3ff4efc90a4de6706f71e7c",
        "IPY_MODEL_4a9a324cee6443b89d0f342d2f7bc82e",
        "IPY_MODEL_9e02d1e9e9774932b48768b394acda8e"
       ],
       "layout": "IPY_MODEL_933140969b28429eadcce081ab39cbcd"
      }
     },
     "4a9a324cee6443b89d0f342d2f7bc82e": {
      "model_module": "@jupyter-widgets/controls",
      "model_module_version": "2.0.0",
      "model_name": "FloatSliderModel",
      "state": {
       "behavior": "drag-tap",
       "description": "Downstream Head (m)",
       "layout": "IPY_MODEL_a6258cea19d34acba8400b1aa6e64541",
       "max": 10,
       "step": 0.5,
       "style": "IPY_MODEL_953b4a130b0d4fbe93b3f3c4c3d98254",
       "value": 2
      }
     },
     "540148fdc3ff4efc90a4de6706f71e7c": {
      "model_module": "@jupyter-widgets/controls",
      "model_module_version": "2.0.0",
      "model_name": "FloatSliderModel",
      "state": {
       "behavior": "drag-tap",
       "description": "Upstream Head (m)",
       "layout": "IPY_MODEL_8b68164bf47f438e85f1168ea4385037",
       "max": 20,
       "min": 1,
       "step": 0.5,
       "style": "IPY_MODEL_a148a06586f94af5ad80f698a84e3332",
       "value": 10.000000000000002
      }
     },
     "5e738c747c55486d9ca36404db3cb8b8": {
      "model_module": "@jupyter-widgets/controls",
      "model_module_version": "2.0.0",
      "model_name": "SliderStyleModel",
      "state": {
       "description_width": ""
      }
     },
     "66ff6f82635540a0beed937edd70a0a4": {
      "model_module": "@jupyter-widgets/controls",
      "model_module_version": "2.0.0",
      "model_name": "IntSliderModel",
      "state": {
       "behavior": "drag-tap",
       "description": "Grid Nx",
       "layout": "IPY_MODEL_9361acd0bba64217bbfff4549db41112",
       "max": 200,
       "min": 50,
       "step": 10,
       "style": "IPY_MODEL_156c18e6b3e94d18ab7fce4bbfca573f",
       "value": 100
      }
     },
     "6a3e626adfb242f0a4da825bc0ef1ad9": {
      "model_module": "@jupyter-widgets/base",
      "model_module_version": "2.0.0",
      "model_name": "LayoutModel",
      "state": {}
     },
     "7999bf2158d842038d5bba579351cee9": {
      "model_module": "@jupyter-widgets/output",
      "model_module_version": "1.0.0",
      "model_name": "OutputModel",
      "state": {
       "layout": "IPY_MODEL_d0d980da2ac745a087634971223b639c",
       "outputs": [
        {
         "data": {
          "image/png": "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",
          "text/plain": "<Figure size 1200x500 with 2 Axes>"
         },
         "metadata": {},
         "output_type": "display_data"
        }
       ]
      }
     },
     "8b68164bf47f438e85f1168ea4385037": {
      "model_module": "@jupyter-widgets/base",
      "model_module_version": "2.0.0",
      "model_name": "LayoutModel",
      "state": {}
     },
     "933140969b28429eadcce081ab39cbcd": {
      "model_module": "@jupyter-widgets/base",
      "model_module_version": "2.0.0",
      "model_name": "LayoutModel",
      "state": {}
     },
     "9361acd0bba64217bbfff4549db41112": {
      "model_module": "@jupyter-widgets/base",
      "model_module_version": "2.0.0",
      "model_name": "LayoutModel",
      "state": {}
     },
     "953b4a130b0d4fbe93b3f3c4c3d98254": {
      "model_module": "@jupyter-widgets/controls",
      "model_module_version": "2.0.0",
      "model_name": "SliderStyleModel",
      "state": {
       "description_width": ""
      }
     },
     "9e02d1e9e9774932b48768b394acda8e": {
      "model_module": "@jupyter-widgets/controls",
      "model_module_version": "2.0.0",
      "model_name": "FloatSliderModel",
      "state": {
       "behavior": "drag-tap",
       "description": "Hydraulic Conductivity K",
       "layout": "IPY_MODEL_6a3e626adfb242f0a4da825bc0ef1ad9",
       "max": 10,
       "min": 0.01,
       "step": 0.1,
       "style": "IPY_MODEL_d7fbfd10466f43d782aec9410b419a2c",
       "value": 1.01
      }
     },
     "a148a06586f94af5ad80f698a84e3332": {
      "model_module": "@jupyter-widgets/controls",
      "model_module_version": "2.0.0",
      "model_name": "SliderStyleModel",
      "state": {
       "description_width": ""
      }
     },
     "a3b5767774c5419686cdd49227a01ef1": {
      "model_module": "@jupyter-widgets/controls",
      "model_module_version": "2.0.0",
      "model_name": "IntSliderModel",
      "state": {
       "behavior": "drag-tap",
       "description": "Grid Ny",
       "layout": "IPY_MODEL_cbb24d36fca34e74ab3cb6e01491a44b",
       "min": 10,
       "step": 5,
       "style": "IPY_MODEL_1ec3cb93d03f4e57a0ada153d734ff0f",
       "value": 30
      }
     },
     "a6258cea19d34acba8400b1aa6e64541": {
      "model_module": "@jupyter-widgets/base",
      "model_module_version": "2.0.0",
      "model_name": "LayoutModel",
      "state": {}
     },
     "b0159559b90443b79dbe6de622f7bd0e": {
      "model_module": "@jupyter-widgets/base",
      "model_module_version": "2.0.0",
      "model_name": "LayoutModel",
      "state": {}
     },
     "bc74fdff32d2449eb88fd0f687a98495": {
      "model_module": "@jupyter-widgets/base",
      "model_module_version": "2.0.0",
      "model_name": "LayoutModel",
      "state": {}
     },
     "c9eb1007532644a49d046f6f074e10c2": {
      "model_module": "@jupyter-widgets/controls",
      "model_module_version": "2.0.0",
      "model_name": "FloatSliderModel",
      "state": {
       "behavior": "drag-tap",
       "description": "Depth Ly (m)",
       "layout": "IPY_MODEL_b0159559b90443b79dbe6de622f7bd0e",
       "max": 50,
       "min": 5,
       "step": 5,
       "style": "IPY_MODEL_fbfc932cca0d4b9e9cf8574dd25f8d23",
       "value": 10
      }
     },
     "cbb24d36fca34e74ab3cb6e01491a44b": {
      "model_module": "@jupyter-widgets/base",
      "model_module_version": "2.0.0",
      "model_name": "LayoutModel",
      "state": {}
     },
     "d0d980da2ac745a087634971223b639c": {
      "model_module": "@jupyter-widgets/base",
      "model_module_version": "2.0.0",
      "model_name": "LayoutModel",
      "state": {}
     },
     "d7fbfd10466f43d782aec9410b419a2c": {
      "model_module": "@jupyter-widgets/controls",
      "model_module_version": "2.0.0",
      "model_name": "SliderStyleModel",
      "state": {
       "description_width": ""
      }
     },
     "f02e55e13b64465f8495a762b41dd23b": {
      "model_module": "@jupyter-widgets/controls",
      "model_module_version": "2.0.0",
      "model_name": "FloatSliderModel",
      "state": {
       "behavior": "drag-tap",
       "description": "Length Lx (m)",
       "layout": "IPY_MODEL_bc74fdff32d2449eb88fd0f687a98495",
       "max": 200,
       "min": 10,
       "step": 10,
       "style": "IPY_MODEL_5e738c747c55486d9ca36404db3cb8b8",
       "value": 50.00000000000001
      }
     },
     "fbfc932cca0d4b9e9cf8574dd25f8d23": {
      "model_module": "@jupyter-widgets/controls",
      "model_module_version": "2.0.0",
      "model_name": "SliderStyleModel",
      "state": {
       "description_width": ""
      }
     }
    },
    "version_major": 2,
    "version_minor": 0
   }
  }
 },
 "nbformat": 4,
 "nbformat_minor": 5
}
