{
 "cells": [
  {
   "cell_type": "markdown",
   "id": "1b6ec785-d048-4bfd-9fe6-f1fd411175e1",
   "metadata": {},
   "source": [
    "# Chapter 3 Hydraulics: Seepage analysis"
   ]
  },
  {
   "cell_type": "markdown",
   "id": "00be3ae8-61bf-45f2-93f7-46273b7cf265",
   "metadata": {},
   "source": [
    "1. [Introduction: Culvert Design](#1.-Introduction)\n",
    "2. [Simulation: Inlet and Outlet Control](#2.-Simulation)\n",
    "3. [Self-Assessment](#3.-Self-Assessment)"
   ]
  },
  {
   "cell_type": "markdown",
   "id": "6d0de5ee-d339-48a0-8d01-58ee3616449c",
   "metadata": {},
   "source": [
    "## 1. Introduction"
   ]
  },
  {
   "cell_type": "markdown",
   "id": "30b21eb5-ab7c-4e7a-9cd1-3da3705ba7ac",
   "metadata": {},
   "source": [
    "# 💧 Interactive Dam Seepage Simulation — Laplace Equation\n",
    "\n",
    "This Python notebook cell simulates 2D steady-state seepage beneath a dam using the Laplace equation. It uses finite difference methods and `ipywidgets` to allow dynamic user control of geometry and boundary conditions.\n",
    "\n",
    "---\n",
    "\n",
    "## 🧠 Governing Equation\n",
    "\n",
    "We solve the Laplace equation:\n",
    "\n",
    "\n",
    "\n",
    "$$\n",
    "\\frac{\\partial^2 h}{\\partial x^2} + \\frac{\\partial^2 h}{\\partial y^2} = 0\n",
    "$$\n",
    "\n",
    "\n",
    "\n",
    "Where:\n",
    "- $( h $): hydraulic head [m]\n",
    "\n",
    "Assumptions:\n",
    "- Steady state\n",
    "- Homogeneous, isotropic medium\n",
    "- No flow across bottom and top boundaries\n",
    "- Constant head at upstream and downstream boundaries\n",
    "\n",
    "---\n",
    "\n",
    "## ⚙️ Inputs and Controls\n",
    "\n",
    "| Parameter        | Description                         |\n",
    "|------------------|-------------------------------------|\n",
    "| Grid Nx, Ny      | Number of grid points in x and y    |\n",
    "| Domain Lx, Ly    | Length and depth of dam section (m) |\n",
    "| Head h_left      | Upstream boundary condition (m)     |\n",
    "| Head h_right     | Downstream boundary condition (m)   |\n",
    "\n",
    "Users can adjust these interactively with sliders.\n",
    "\n",
    "---\n",
    "\n",
    "## 🔁 Solver Logic\n",
    "\n",
    "- Discretize domain into a 2D grid.\n",
    "- Apply boundary conditions:\n",
    "  - Upstream and downstream head fixed\n",
    "  - Top and bottom boundaries are no-flow\n",
    "- Use Gauss-Seidel iteration until convergence.\n",
    "\n",
    "---\n",
    "\n",
    "## 📊 Visualization\n",
    "\n",
    "- Hydraulic head is plotted using filled contours (`contourf`).\n",
    "- Vertical gradient beneath dam visualizes seepage potential.\n",
    "- Real-time interactivity enables design exploration.\n",
    "\n",
    "---\n",
    "\n",
    "## 🚀 Use Cases\n",
    "\n",
    "- Estimate flow patterns beneath dams and levees\n",
    "- Demonstrate influence of geometry and boundary heads\n",
    "- Educational illustration of potential flow and Laplace solutions\n",
    "\n",
    "---\n",
    "\n",
    "Want help adding streamlines or calculating seepage rate via Darcy's Law?\n",
    "I can extend this into a full groundwater flow design toolkit 💧📈🔧.\n"
   ]
  },
  {
   "cell_type": "markdown",
   "id": "9e3ebe07-4185-48b8-bd50-267ba953107e",
   "metadata": {},
   "source": [
    "## 2. Simulation"
   ]
  },
  {
   "cell_type": "code",
   "execution_count": 1,
   "id": "1e5e2f7f-94a8-43d6-ae0d-ce754b9cf4dc",
   "metadata": {},
   "outputs": [
    {
     "data": {
      "application/vnd.jupyter.widget-view+json": {
       "model_id": "ec7cec775dba4793aea56e7edb75a6be",
       "version_major": 2,
       "version_minor": 0
      },
      "text/plain": [
       "VBox(children=(IntSlider(value=100, description='Grid Nx', max=200, min=50, step=10), IntSlider(value=30, desc…"
      ]
     },
     "metadata": {},
     "output_type": "display_data"
    },
    {
     "data": {
      "application/vnd.jupyter.widget-view+json": {
       "model_id": "68db249e6ffc412cac10b19a039f264f",
       "version_major": 2,
       "version_minor": 0
      },
      "text/plain": [
       "Output()"
      ]
     },
     "metadata": {},
     "output_type": "display_data"
    }
   ],
   "source": [
    "import numpy as np\n",
    "import matplotlib.pyplot as plt\n",
    "import ipywidgets as widgets\n",
    "from IPython.display import display\n",
    "\n",
    "# 🔧 Finite difference solver with seepage face on downstream\n",
    "def solve_laplace(Nx, Ny, h_left, h_right, tol=1e-4, max_iter=5000):\n",
    "    h = np.zeros((Ny, Nx))\n",
    "\n",
    "    # Initial boundary conditions\n",
    "    h[:, 0] = h_left  # Upstream head\n",
    "    h[:, -1] = np.linspace(h_right, h_right, Ny)  # Seepage face (free exit)\n",
    "\n",
    "    for _ in range(max_iter):\n",
    "        h_old = h.copy()\n",
    "\n",
    "        # Update interior points\n",
    "        for i in range(1, Ny - 1):\n",
    "            for j in range(1, Nx - 1):\n",
    "                h[i, j] = 0.25 * (h[i+1, j] + h[i-1, j] + h[i, j+1] + h[i, j-1])\n",
    "\n",
    "        # Reapply boundary conditions\n",
    "        h[:, 0] = h_left\n",
    "        h[:, -1] = np.linspace(h_right, h_right, Ny)  # Seepage face\n",
    "        h[0, :] = h[1, :]     # Bottom (no flow)\n",
    "        h[-1, :] = h[-2, :]   # Top (no flow)\n",
    "\n",
    "        if np.max(np.abs(h - h_old)) < tol:\n",
    "            break\n",
    "\n",
    "    return h\n",
    "\n",
    "# 📊 Plot hydraulic head and streamline flow\n",
    "def plot_seepage(Nx, Ny, Lx, Ly, h_left, h_right, K):\n",
    "    if Nx < 2 or Ny < 2:\n",
    "        print(\"⚠️ Grid size too small for seepage analysis.\")\n",
    "        return\n",
    "\n",
    "    dx = Lx / (Nx - 1)\n",
    "    dy = Ly / (Ny - 1)\n",
    "    h = solve_laplace(Nx, Ny, h_left, h_right)\n",
    "    X = np.linspace(0, Lx, Nx)\n",
    "    Y = np.linspace(0, Ly, Ny)\n",
    "    XX, YY = np.meshgrid(X, Y)\n",
    "\n",
    "    # 💨 Darcy velocity field\n",
    "    dh_dx, dh_dy = np.gradient(h, dx, dy)\n",
    "    qx = -K * dh_dx\n",
    "    qy = -K * dh_dy\n",
    "    velocity_mag = np.sqrt(qx**2 + qy**2)\n",
    "\n",
    "    # 🔢 Estimate seepage across downstream face\n",
    "    seepage_rate = np.mean(qx[:, -1]) * Ly  # average flux × height\n",
    "\n",
    "    # 📈 Plot head and streamlines\n",
    "    plt.figure(figsize=(12, 5))\n",
    "    contour = plt.contourf(XX, YY, h, levels=30, cmap=\"viridis\")\n",
    "    plt.colorbar(contour, label=\"Hydraulic Head (m)\")\n",
    "    plt.streamplot(XX, YY, qx, qy, color=\"white\", density=1.2, linewidth=1)\n",
    "\n",
    "    # 🔴 Velocity magnitude contours\n",
    "    plt.contour(XX, YY, velocity_mag, levels=20, colors='red', linewidths=0.5)\n",
    "\n",
    "    # 💬 Annotate seepage rate\n",
    "    plt.text(Lx * 0.6, Ly * 0.1, f\"Seepage Rate: {seepage_rate:.2f} m³/day\",\n",
    "             fontsize=12, color='white', bbox=dict(facecolor='black', alpha=0.5))\n",
    "\n",
    "    plt.gca().invert_yaxis()\n",
    "    plt.title(\"Seepage Flow & Streamlines with Seepage Face\")\n",
    "    plt.xlabel(\"Horizontal Distance (m)\")\n",
    "    plt.ylabel(\"Depth Beneath Dam (m)\")\n",
    "    plt.grid(True)\n",
    "    plt.tight_layout()\n",
    "    plt.show()\n",
    "\n",
    "# 🎛️ Interactive controls\n",
    "Nx_slider = widgets.IntSlider(value=100, min=50, max=200, step=10, description='Grid Nx')\n",
    "Ny_slider = widgets.IntSlider(value=30, min=10, max=100, step=5, description='Grid Ny')\n",
    "Lx_slider = widgets.FloatSlider(value=50.0, min=10.0, max=200.0, step=10.0, description='Length Lx (m)')\n",
    "Ly_slider = widgets.FloatSlider(value=10.0, min=5.0, max=50.0, step=5.0, description='Depth Ly (m)')\n",
    "h_left_slider = widgets.FloatSlider(value=10.0, min=1.0, max=20.0, step=0.5, description='Upstream Head (m)')\n",
    "h_right_slider = widgets.FloatSlider(value=2.0, min=0.0, max=10.0, step=0.5, description='Downstream Head (m)')\n",
    "K_slider = widgets.FloatSlider(value=1.0, min=0.01, max=10.0, step=0.1, description='Hydraulic Conductivity K')\n",
    "\n",
    "ui = widgets.VBox([\n",
    "    Nx_slider, Ny_slider, Lx_slider, Ly_slider,\n",
    "    h_left_slider, h_right_slider, K_slider\n",
    "])\n",
    "\n",
    "out = widgets.interactive_output(plot_seepage, {\n",
    "    'Nx': Nx_slider,\n",
    "    'Ny': Ny_slider,\n",
    "    'Lx': Lx_slider,\n",
    "    'Ly': Ly_slider,\n",
    "    'h_left': h_left_slider,\n",
    "    'h_right': h_right_slider,\n",
    "    'K': K_slider\n",
    "})\n",
    "\n",
    "display(ui, out)"
   ]
  },
  {
   "cell_type": "code",
   "execution_count": null,
   "id": "2ea60822-7504-4c13-8036-accce4034d26",
   "metadata": {},
   "outputs": [],
   "source": []
  },
  {
   "cell_type": "markdown",
   "id": "023ffb76-9885-47b7-9565-03ec46f0e073",
   "metadata": {},
   "source": [
    "# 💧 Seepage Flow Analysis Beneath a Dam: Interpretation & Learning\n",
    "\n",
    "This module explores 2D seepage beneath a dam using a finite difference solution to **Laplace’s equation**, with a downstream **seepage face**. The model visualizes hydraulic head, streamlines, and velocity contours, and estimates total seepage rate.\n",
    "\n",
    "---\n",
    "\n",
    "## 📘 How to Interpret the Results\n",
    "\n",
    "### 🔹 Hydraulic Head Contours\n",
    "- Represent the **equipotential lines** of groundwater flow.\n",
    "- Head decreases from upstream (left) to downstream (right).\n",
    "- Steep gradients indicate high flow velocity.\n",
    "\n",
    "### 🔹 Streamlines\n",
    "- Show the **path of water particles** through the soil.\n",
    "- Flow converges toward the downstream face, especially near the base.\n",
    "- Streamlines bend near boundaries due to no-flow conditions.\n",
    "\n",
    "### 🔹 Velocity Magnitude Contours\n",
    "- Red lines show zones of **high seepage velocity**.\n",
    "- Concentrated near the toe of the dam and seepage face.\n",
    "- Useful for identifying potential piping or erosion zones.\n",
    "\n",
    "### 🔹 Seepage Rate\n",
    "- Calculated as average horizontal Darcy flux across the downstream face:\n",
    "  \\[\n",
    "  Q_{\\text{seepage}} = \\bar{q}_x \\cdot L_y\n",
    "  \\]\n",
    "- Reported in m³/day — useful for drainage design and safety checks.\n",
    "\n",
    "---\n",
    "\n",
    "## ✅ Conceptual Questions\n",
    "\n",
    "1. **What equation governs steady-state seepage in saturated soils?**\n",
    "   - A. Navier-Stokes  \n",
    "   - B. Laplace’s equation  \n",
    "   - C. Bernoulli’s equation  \n",
    "   - D. Richards’ equation  \n",
    "\n",
    "2. **What boundary condition is applied at the bottom and top of the domain?**\n",
    "   - A. Constant head  \n",
    "   - B. No-flow (Neumann)  \n",
    "   - C. Seepage face  \n",
    "   - D. Free surface  \n",
    "\n",
    "3. **Which parameter most directly affects the magnitude of seepage?**\n",
    "   - A. Grid resolution  \n",
    "   - B. Hydraulic conductivity  \n",
    "   - C. Upstream head  \n",
    "   - D. Depth of dam  \n",
    "\n",
    "4. **Why is the downstream face modeled as a seepage face?**\n",
    "   - A. To simulate rainfall infiltration  \n",
    "   - B. To allow free exit of groundwater  \n",
    "   - C. To enforce zero velocity  \n",
    "   - D. To model impermeable boundary  \n",
    "\n",
    "---\n",
    "\n",
    "## 🔍 Reflection Questions\n",
    "\n",
    "1. **How does changing the upstream head affect the flow field and seepage rate?**  \n",
    "2. **Why is it important to visualize both head and velocity in seepage analysis?**  \n",
    "3. **What physical processes are captured by Laplace’s equation that uniform flow models ignore?**  \n",
    "4. **How would you modify this model to include anisotropic soils or layered media?**  \n",
    "5. **What are the risks of underestimating seepage beneath hydraulic structures?**\n",
    "\n",
    "---\n",
    "\n",
    "## 💡 Engineering Insight\n",
    "\n",
    "> “Seepage beneath dams is a critical safety concern. Visualizing flow paths and gradients helps engineers design effective drainage systems and prevent piping, uplift, and structural failure.”\n",
    "\n",
    "---"
   ]
  },
  {
   "cell_type": "code",
   "execution_count": null,
   "id": "ceaaa708-c966-42bc-84a3-38e8f1d23a65",
   "metadata": {},
   "outputs": [],
   "source": []
  }
 ],
 "metadata": {
  "kernelspec": {
   "display_name": "Python [conda env:base] *",
   "language": "python",
   "name": "conda-base-py"
  },
  "language_info": {
   "codemirror_mode": {
    "name": "ipython",
    "version": 3
   },
   "file_extension": ".py",
   "mimetype": "text/x-python",
   "name": "python",
   "nbconvert_exporter": "python",
   "pygments_lexer": "ipython3",
   "version": "3.12.7"
  },
  "widgets": {
   "application/vnd.jupyter.widget-state+json": {
    "state": {
     "0f67b6c5520c49649734d294ffa02295": {
      "model_module": "@jupyter-widgets/base",
      "model_module_version": "2.0.0",
      "model_name": "LayoutModel",
      "state": {}
     },
     "23879f2e0c46459a9bed07970613a138": {
      "model_module": "@jupyter-widgets/controls",
      "model_module_version": "2.0.0",
      "model_name": "SliderStyleModel",
      "state": {
       "description_width": ""
      }
     },
     "2f851263ef7244e18418deee0e880d17": {
      "model_module": "@jupyter-widgets/base",
      "model_module_version": "2.0.0",
      "model_name": "LayoutModel",
      "state": {}
     },
     "345bf7a25fd64d5690113097bdcf05a5": {
      "model_module": "@jupyter-widgets/base",
      "model_module_version": "2.0.0",
      "model_name": "LayoutModel",
      "state": {}
     },
     "46afd385e6754bad842d5410cf2e3a7b": {
      "model_module": "@jupyter-widgets/controls",
      "model_module_version": "2.0.0",
      "model_name": "FloatSliderModel",
      "state": {
       "behavior": "drag-tap",
       "description": "Length Lx (m)",
       "layout": "IPY_MODEL_b3d70886d9ea465f969839549dfb8dc9",
       "max": 200,
       "min": 10,
       "step": 10,
       "style": "IPY_MODEL_ac03070dcc7946de8feee4f0a850760a",
       "value": 50.00000000000001
      }
     },
     "5518e015b58b4446a8a3ad73e4790e9e": {
      "model_module": "@jupyter-widgets/controls",
      "model_module_version": "2.0.0",
      "model_name": "SliderStyleModel",
      "state": {
       "description_width": ""
      }
     },
     "5a08dcc2a38a4f9baa4a23d48f338008": {
      "model_module": "@jupyter-widgets/base",
      "model_module_version": "2.0.0",
      "model_name": "LayoutModel",
      "state": {}
     },
     "67762d5289264c81a4497a72c9581ab6": {
      "model_module": "@jupyter-widgets/controls",
      "model_module_version": "2.0.0",
      "model_name": "FloatSliderModel",
      "state": {
       "behavior": "drag-tap",
       "description": "Downstream Head (m)",
       "layout": "IPY_MODEL_345bf7a25fd64d5690113097bdcf05a5",
       "max": 10,
       "step": 0.5,
       "style": "IPY_MODEL_5518e015b58b4446a8a3ad73e4790e9e",
       "value": 2
      }
     },
     "68db249e6ffc412cac10b19a039f264f": {
      "model_module": "@jupyter-widgets/output",
      "model_module_version": "1.0.0",
      "model_name": "OutputModel",
      "state": {
       "layout": "IPY_MODEL_b10ba7a3904748f8a861d2434bcbb484",
       "msg_id": "f792c54a-12df-4e6a-b3f4-9a3e26b5e8df",
       "outputs": [
        {
         "data": {
          "image/png": "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",
          "text/plain": "<Figure size 1200x500 with 2 Axes>"
         },
         "metadata": {},
         "output_type": "display_data"
        }
       ]
      }
     },
     "988c1be274f54446aa9646f8932bcbad": {
      "model_module": "@jupyter-widgets/controls",
      "model_module_version": "2.0.0",
      "model_name": "IntSliderModel",
      "state": {
       "behavior": "drag-tap",
       "description": "Grid Ny",
       "layout": "IPY_MODEL_f6dbe81e8d16449396215656a0669710",
       "min": 10,
       "step": 5,
       "style": "IPY_MODEL_23879f2e0c46459a9bed07970613a138",
       "value": 30
      }
     },
     "a15eee3b83d2453985e2f30b4e8c47ac": {
      "model_module": "@jupyter-widgets/controls",
      "model_module_version": "2.0.0",
      "model_name": "SliderStyleModel",
      "state": {
       "description_width": ""
      }
     },
     "a8e8243563234d2e8aa1f5e0de930291": {
      "model_module": "@jupyter-widgets/base",
      "model_module_version": "2.0.0",
      "model_name": "LayoutModel",
      "state": {}
     },
     "ac03070dcc7946de8feee4f0a850760a": {
      "model_module": "@jupyter-widgets/controls",
      "model_module_version": "2.0.0",
      "model_name": "SliderStyleModel",
      "state": {
       "description_width": ""
      }
     },
     "b10ba7a3904748f8a861d2434bcbb484": {
      "model_module": "@jupyter-widgets/base",
      "model_module_version": "2.0.0",
      "model_name": "LayoutModel",
      "state": {}
     },
     "b3d70886d9ea465f969839549dfb8dc9": {
      "model_module": "@jupyter-widgets/base",
      "model_module_version": "2.0.0",
      "model_name": "LayoutModel",
      "state": {}
     },
     "b4bc2974ad674140a63406fa97310d33": {
      "model_module": "@jupyter-widgets/controls",
      "model_module_version": "2.0.0",
      "model_name": "SliderStyleModel",
      "state": {
       "description_width": ""
      }
     },
     "be0d7cc6c07248aa9ade8e0d39972216": {
      "model_module": "@jupyter-widgets/controls",
      "model_module_version": "2.0.0",
      "model_name": "FloatSliderModel",
      "state": {
       "behavior": "drag-tap",
       "description": "Upstream Head (m)",
       "layout": "IPY_MODEL_a8e8243563234d2e8aa1f5e0de930291",
       "max": 20,
       "min": 1,
       "step": 0.5,
       "style": "IPY_MODEL_a15eee3b83d2453985e2f30b4e8c47ac",
       "value": 10.000000000000002
      }
     },
     "c46c0a04c9c34f73a7df5a94ef510b2b": {
      "model_module": "@jupyter-widgets/controls",
      "model_module_version": "2.0.0",
      "model_name": "SliderStyleModel",
      "state": {
       "description_width": ""
      }
     },
     "cc2fc43e4ba24b87a130ef02c69f45c7": {
      "model_module": "@jupyter-widgets/controls",
      "model_module_version": "2.0.0",
      "model_name": "FloatSliderModel",
      "state": {
       "behavior": "drag-tap",
       "description": "Depth Ly (m)",
       "layout": "IPY_MODEL_2f851263ef7244e18418deee0e880d17",
       "max": 50,
       "min": 5,
       "step": 5,
       "style": "IPY_MODEL_e72d6dcfd7214d9faefdfebbb6eb7fb9",
       "value": 10
      }
     },
     "dfd46649d13c42f9b8304a2810201465": {
      "model_module": "@jupyter-widgets/base",
      "model_module_version": "2.0.0",
      "model_name": "LayoutModel",
      "state": {}
     },
     "e72d6dcfd7214d9faefdfebbb6eb7fb9": {
      "model_module": "@jupyter-widgets/controls",
      "model_module_version": "2.0.0",
      "model_name": "SliderStyleModel",
      "state": {
       "description_width": ""
      }
     },
     "eb34b4aac6a44a71af960f67e5c4c1e6": {
      "model_module": "@jupyter-widgets/controls",
      "model_module_version": "2.0.0",
      "model_name": "FloatSliderModel",
      "state": {
       "behavior": "drag-tap",
       "description": "Hydraulic Conductivity K",
       "layout": "IPY_MODEL_5a08dcc2a38a4f9baa4a23d48f338008",
       "max": 10,
       "min": 0.01,
       "step": 0.1,
       "style": "IPY_MODEL_c46c0a04c9c34f73a7df5a94ef510b2b",
       "value": 1.01
      }
     },
     "ec7cec775dba4793aea56e7edb75a6be": {
      "model_module": "@jupyter-widgets/controls",
      "model_module_version": "2.0.0",
      "model_name": "VBoxModel",
      "state": {
       "children": [
        "IPY_MODEL_ff1c240bac0e4d7e8a6cfe5504abc6f8",
        "IPY_MODEL_988c1be274f54446aa9646f8932bcbad",
        "IPY_MODEL_46afd385e6754bad842d5410cf2e3a7b",
        "IPY_MODEL_cc2fc43e4ba24b87a130ef02c69f45c7",
        "IPY_MODEL_be0d7cc6c07248aa9ade8e0d39972216",
        "IPY_MODEL_67762d5289264c81a4497a72c9581ab6",
        "IPY_MODEL_eb34b4aac6a44a71af960f67e5c4c1e6"
       ],
       "layout": "IPY_MODEL_0f67b6c5520c49649734d294ffa02295"
      }
     },
     "f6dbe81e8d16449396215656a0669710": {
      "model_module": "@jupyter-widgets/base",
      "model_module_version": "2.0.0",
      "model_name": "LayoutModel",
      "state": {}
     },
     "ff1c240bac0e4d7e8a6cfe5504abc6f8": {
      "model_module": "@jupyter-widgets/controls",
      "model_module_version": "2.0.0",
      "model_name": "IntSliderModel",
      "state": {
       "behavior": "drag-tap",
       "description": "Grid Nx",
       "layout": "IPY_MODEL_dfd46649d13c42f9b8304a2810201465",
       "max": 200,
       "min": 50,
       "step": 10,
       "style": "IPY_MODEL_b4bc2974ad674140a63406fa97310d33",
       "value": 100
      }
     }
    },
    "version_major": 2,
    "version_minor": 0
   }
  }
 },
 "nbformat": 4,
 "nbformat_minor": 5
}
