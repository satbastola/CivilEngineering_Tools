{
 "cells": [
  {
   "cell_type": "markdown",
   "id": "a8df7ea4-8553-47bb-b893-92409024aaa1",
   "metadata": {},
   "source": [
    "# Chapter 3: Energy Dissipator"
   ]
  },
  {
   "cell_type": "markdown",
   "id": "7d125c06-da3f-44a1-841a-dd658dde4b1a",
   "metadata": {},
   "source": [
    "1. [Introduction: Energy Dissipator](#1.-Introduction)\n",
    "2. [Simulation](#2.-Simulation)\n",
    "3. [Self-Assessment](#3.-Self-Assessment)"
   ]
  },
  {
   "cell_type": "markdown",
   "id": "5f5d4b59-9758-4d14-8341-b1e9ae7424b0",
   "metadata": {},
   "source": [
    "## 1. Introduction"
   ]
  },
  {
   "cell_type": "markdown",
   "id": "9299871f-7b51-445a-857a-fa80929632e8",
   "metadata": {},
   "source": [
    "### 🌊 Energy Dissipation Structures – Definition, Importance & Lessons\n",
    "\n",
    "Energy dissipation structures are engineered hydraulic features that **reduce flow velocity and excess energy** in high-discharge waterways. They are critical at outlets of spillways, culverts, storm drains, and channels to transition supercritical flow into subcritical flow through turbulence.\n",
    "\n",
    "### 🧱 Common Types:\n",
    "- Stilling basins (e.g. USBR Types I–IX)\n",
    "- Flip buckets and roller buckets\n",
    "- Baffle blocks and end sills\n",
    "- Plunge pools and impact basins\n",
    "- Riprap aprons\n",
    "\n",
    "The **USBR energy dissipator** is a family of hydraulic structures developed by the U.S. Bureau of Reclamation to reduce high flow velocities and safely transition supercritical flow into subcritical conditions. These systems are essential at dam spillways, outlet works, culverts, and irrigation channels to prevent scour and protect downstream infrastructure.\n",
    "\n",
    "---\n",
    "\n",
    "### 🏗️ What It Is\n",
    "\n",
    "- **Purpose**: Dissipate excess hydraulic energy through turbulence\n",
    "- **Structures**: Stilling basins, impact basins, baffle aprons, riprap aprons\n",
    "- **Applications**: Dam outlets, canal terminations, flood control, culvert design\n",
    "---\n",
    "\n",
    "### 🎯 Why Energy Dissipators Are Important\n",
    "\n",
    "| Benefit                    | Purpose                                                          |\n",
    "|----------------------------|------------------------------------------------------------------|\n",
    "| Erosion control            | Prevents downstream channel and bed scouring                    |\n",
    "| Infrastructure protection  | Reduces forces on outlet works, spillway slabs, culvert ends    |\n",
    "| Flow stabilization         | Converts dangerous velocities into safe, subcritical flow       |\n",
    "| Environmental safety       | Limits sediment transport and aquatic habitat disruption        |\n",
    "| Hydraulic jump formation   | Enables controlled energy loss via turbulence                   |\n",
    "\n",
    "---\n",
    "\n",
    "### ⚠️ Consequences of Poor Design\n",
    "\n",
    "If improperly sized, configured, or matched to tailwater conditions, dissipation structures can fail or cause severe damage:\n",
    "\n",
    "- ❌ Incomplete or submerged hydraulic jumps\n",
    "- ❌ Excessive scour and undermining of foundations\n",
    "- ❌ Structural damage to aprons, walls, and channel beds\n",
    "- ❌ Flooding, sediment overload, and safety hazards\n",
    "\n",
    "---\n",
    "### 🧪 USBR Stilling Basin Types (Examples)\n",
    "\n",
    "| Type     | Characteristics                                   | Use Case                          |\n",
    "|----------|---------------------------------------------------|-----------------------------------|\n",
    "| Type I   | Long basin with baffles and end sill              | General dam outlet flows          |\n",
    "| Type VI  | Compact impact basin                              | Pipe and box culvert outlets      |\n",
    "| Type IX  | Shallow basin for low tailwater + high velocity   | Small irrigation or drainage flow |\n",
    "\n",
    "---\n",
    "\n",
    "### ⚙️ How It Works\n",
    "\n",
    "- Flow enters with high velocity (often supercritical)\n",
    "- Energy is reduced via:\n",
    "  - **Hydraulic jump** formation\n",
    "  - **Baffles and sills** that enhance mixing and turbulence\n",
    "  - **Riprap or apron zones** that absorb residual energy and protect bed material\n",
    "- Designs are tailored to tailwater elevation and expected flow conditions\n",
    "\n",
    "---\n",
    "\n",
    "### 📊 Interpretation & Design Considerations\n",
    "\n",
    "| Parameter            | Design Role                                      |\n",
    "|----------------------|--------------------------------------------------|\n",
    "| Froude Number `Fr`   | Determines jump strength and basin length        |\n",
    "| Tailwater Depth      | Controls jump stability (must match jump depth)  |\n",
    "| Basin Geometry       | Must accommodate hydraulic jump and turbulence   |\n",
    "| Energy Dissipation   | Estimated via head loss and flow conditions      |\n",
    "\n",
    "---\n",
    "\n",
    "USBR designs are empirically validated and widely used in civil, agricultural, and environmental engineering contexts. Need help applying a specific basin type or comparing jump predictions under variable tailwater conditions?\n",
    "\n",
    "\n",
    "### 📉 Major Energy Dissipator Failures – U.S. & Global\n",
    "\n",
    "### 🇺🇸 U.S. Incidents\n",
    "| Event                   | Location             | Cause                               | Impact             |\n",
    "|------------------------|----------------------|--------------------------------------|--------------------|\n",
    "| South Fork Dam (1889)  | Johnstown, PA        | Inadequate spillway + poor outlet    | 2,209 deaths       |\n",
    "| St. Francis Dam (1928) | California           | Foundation instability + outlet flaw | ~600 deaths        |\n",
    "| Buffalo Creek Dam (1972)| West Virginia       | Poor outlet energy control           | 125 deaths         |\n",
    "\n",
    "#### 🌐 International Failures\n",
    "| Event                  | Country        | Cause                                 | Impact             |\n",
    "|-----------------------|----------------|----------------------------------------|--------------------|\n",
    "| Malpasset Dam (1959)  | France         | Foundation failure + spillway misdesign| 423 deaths         |\n",
    "| Vajont Dam (1963)     | Italy          | Landslide-induced wave + outlet control loss | ~2,000 deaths |\n",
    "| Vega de Tera (1959)   | Spain          | Outlet structure collapse              | 144 deaths         |\n",
    "| Certej Dam (1971)     | Romania        | Hydraulic instability & poor outlet    | 89 deaths          |\n",
    "\n",
    "---\n",
    "\n",
    "### 📐 Design Best Practices\n",
    "\n",
    "- Match tailwater depth to hydraulic jump requirements  \n",
    "- Model flows using physical or CFD simulations  \n",
    "- Follow empirical guidelines (e.g. USBR Type VI for compact outlets)  \n",
    "- Regular inspection and structural detailing (baffle height, sill spacing)  \n",
    "- Account for variability in discharge, sediment, and downstream geometry\n",
    "\n",
    "---\n",
    "\n",
    "\n"
   ]
  },
  {
   "cell_type": "markdown",
   "id": "2e808d40-57b7-4471-a3fb-6e5582b2c56c",
   "metadata": {},
   "source": [
    "## 2. Simulation"
   ]
  },
  {
   "cell_type": "markdown",
   "id": "ec8c6979-ff1c-42fa-9dac-fd551fc0fdea",
   "metadata": {},
   "source": [
    "### 💧 Hydraulic Jump Analyzer – Summary Module\n",
    "\n",
    "An interactive Python tool that calculates and evaluates hydraulic jump conditions in a rectangular channel. It uses the Bélanger equation to estimate key flow parameters and diagnose jump stability.\n",
    "\n",
    "---\n",
    "\n",
    "### 🧪 What the Code Does\n",
    "\n",
    "- Calculates upstream **velocity** (`v₁`) and **Froude number** (`Fr₁`)\n",
    "- Computes the **downstream jump depth** (`y₂`) using Bélanger's formula\n",
    "- Assesses whether the provided **tailwater depth (`yᵥ`)** can support a stable jump\n",
    "- Estimates **head loss** and **energy dissipation**\n",
    "- Provides a **qualitative diagnostic** on the jump condition (stable, submerged, or not forming)\n",
    "\n",
    "---\n",
    "\n",
    "### ⚙️ How It Works\n",
    "\n",
    "### Inputs:\n",
    "| Parameter | Description                  |\n",
    "|----------|------------------------------|\n",
    "| `Q`      | Flow rate (m³/s)             |\n",
    "| `b`      | Channel width (m)            |\n",
    "| `y₁`     | Upstream depth (m)           |\n",
    "| `yᵥ`     | Tailwater depth (m)          |\n",
    "\n",
    "### Key Equations:\n",
    "```python\n",
    "v₁ = Q / (y₁ * b)\n",
    "Fr₁ = v₁ / sqrt(g * y₁)\n",
    "y₂ = y₁ * 0.5 * (sqrt(1 + 8 * Fr₁**2) - 1)\n",
    "head_loss = y₂ - y₁\n",
    "energy_loss = g * head_loss\n"
   ]
  },
  {
   "cell_type": "code",
   "execution_count": 1,
   "id": "12ba9fff-26ba-48f2-92b5-1285fdb436c9",
   "metadata": {},
   "outputs": [
    {
     "data": {
      "application/vnd.jupyter.widget-view+json": {
       "model_id": "997df2d0092344569c78e3f6ff5855e8",
       "version_major": 2,
       "version_minor": 0
      },
      "text/plain": [
       "FloatText(value=50.0, description='Flow Rate Q (m³/s):')"
      ]
     },
     "metadata": {},
     "output_type": "display_data"
    },
    {
     "data": {
      "application/vnd.jupyter.widget-view+json": {
       "model_id": "57ef0d52910c4b7c9cb42efbfb553c4c",
       "version_major": 2,
       "version_minor": 0
      },
      "text/plain": [
       "FloatText(value=5.0, description='Channel Width b (m):')"
      ]
     },
     "metadata": {},
     "output_type": "display_data"
    },
    {
     "data": {
      "application/vnd.jupyter.widget-view+json": {
       "model_id": "dedffde32ae3466f9830e1099d22fa5a",
       "version_major": 2,
       "version_minor": 0
      },
      "text/plain": [
       "FloatText(value=0.5, description='Upstream Depth y₁ (m):')"
      ]
     },
     "metadata": {},
     "output_type": "display_data"
    },
    {
     "data": {
      "application/vnd.jupyter.widget-view+json": {
       "model_id": "d62ab2ae52064a4db9697bdff892eb93",
       "version_major": 2,
       "version_minor": 0
      },
      "text/plain": [
       "FloatText(value=1.2, description='Tailwater Depth yᵥ (m):')"
      ]
     },
     "metadata": {},
     "output_type": "display_data"
    },
    {
     "data": {
      "application/vnd.jupyter.widget-view+json": {
       "model_id": "7fabda3b08484c17b4113bdf120066ee",
       "version_major": 2,
       "version_minor": 0
      },
      "text/plain": [
       "Button(description='Calculate', style=ButtonStyle())"
      ]
     },
     "metadata": {},
     "output_type": "display_data"
    }
   ],
   "source": [
    "import ipywidgets as widgets\n",
    "from IPython.display import display, Markdown\n",
    "import numpy as np\n",
    "\n",
    "# Constants\n",
    "g = 9.81  # gravity (m/s²)\n",
    "\n",
    "# Widgets\n",
    "Q_input = widgets.FloatText(value=50.0, description='Flow Rate Q (m³/s):')\n",
    "b_input = widgets.FloatText(value=5.0, description='Channel Width b (m):')\n",
    "y1_input = widgets.FloatText(value=0.5, description='Upstream Depth y₁ (m):')\n",
    "y_tw_input = widgets.FloatText(value=1.2, description='Tailwater Depth yᵥ (m):')\n",
    "\n",
    "calculate_btn = widgets.Button(description='Calculate')\n",
    "\n",
    "# Jump depth using Bélanger equation\n",
    "def hydraulic_jump_depth(y1, Q, b):\n",
    "    v1 = Q / (y1 * b)\n",
    "    Fr1 = v1 / np.sqrt(g * y1)\n",
    "    y2 = y1 * 0.5 * (np.sqrt(1 + 8 * Fr1**2) - 1)\n",
    "    return y2, Fr1, v1\n",
    "\n",
    "def on_calculate_clicked(b):\n",
    "    Q = Q_input.value\n",
    "    b_width = b_input.value\n",
    "    y1 = y1_input.value\n",
    "    y_tw = y_tw_input.value\n",
    "\n",
    "    y2, Fr1, v1 = hydraulic_jump_depth(y1, Q, b_width)\n",
    "    head_loss = y2 - y1\n",
    "    energy_loss = g * head_loss\n",
    "\n",
    "    # Interpretation\n",
    "    if y_tw < y2:\n",
    "        jump_status = \"❌ Tailwater too low — jump may not form properly.\"\n",
    "    elif abs(y_tw - y2) < 0.15:\n",
    "        jump_status = \"✅ Well-matched — stable hydraulic jump expected.\"\n",
    "    else:\n",
    "        jump_status = \"⚠️ Excess tailwater — potential submerged jump.\"\n",
    "\n",
    "    result_md = f\"\"\"\n",
    "### 🔍 USBR Dissipator Results\n",
    "\n",
    "- **Approach Velocity v₁**: {v1:.2f} m/s  \n",
    "- **Froude Number Fr₁**: {Fr1:.2f}  \n",
    "- **Downstream Jump Depth y₂**: {y2:.2f} m  \n",
    "- **Tailwater Depth yᵥ**: {y_tw:.2f} m  \n",
    "- **Head Loss (y₂ − y₁)**: {head_loss:.2f} m  \n",
    "- **Energy Dissipated**: {energy_loss:.2f} m²/s²  \n",
    "- **Jump Evaluation**: {jump_status}\n",
    "\"\"\"\n",
    "    display(Markdown(result_md))\n",
    "\n",
    "calculate_btn.on_click(on_calculate_clicked)\n",
    "display(Q_input, b_input, y1_input, y_tw_input, calculate_btn)\n"
   ]
  },
  {
   "cell_type": "markdown",
   "id": "9fb25e35-5ea1-4e22-bc73-8924fccd0f1d",
   "metadata": {},
   "source": [
    "## 3. Self-Assessment"
   ]
  },
  {
   "cell_type": "markdown",
   "id": "976284f9-b931-4c28-8fff-79b212a04e20",
   "metadata": {},
   "source": [
    "### 💡 Hydraulic Jump Diagnostic: Conceptual, Reflective & Quiz Questions\n",
    "\n",
    "### Bélanger Equation & Flow Variables\n",
    "- What does the Bélanger equation estimate in the context of open channel flow?\n",
    "- Why is the Froude number crucial for classifying hydraulic jumps?\n",
    "- How does approach velocity affect jump depth and energy dissipation?\n",
    "- Explain the relationship between tailwater depth and jump stability.\n",
    "\n",
    "### USBR Energy Dissipators\n",
    "- How do dissipators like hydraulic jumps help protect downstream infrastructure?\n",
    "- What design parameters are needed to ensure stable jump formation?\n",
    "\n",
    "---\n",
    "\n",
    "### 🔍 Self-Reflective Questions\n",
    "\n",
    "- When using the interactive tool, which parameter had the most noticeable effect on jump depth and stability?\n",
    "- How do you interpret the evaluation message (e.g., “tailwater too low”) in terms of flow control and design adjustments?\n",
    "- Have you applied Bélanger's method in real projects or teaching scenarios? What did you learn about its strengths or limitations?\n",
    "- Reflect on a time when mismatched tailwater conditions led to performance issues in flow structures—what design changes did you implement?\n",
    "\n",
    "---\n",
    "\n",
    "### 🧪 Quiz Questions\n",
    "\n",
    "**Q1. The Bélanger equation is used to calculate:**  \n",
    "- A. Channel slope  \n",
    "- B. Flow velocity  \n",
    "- C. Downstream depth after hydraulic jump ✅  \n",
    "- D. Critical depth location  \n",
    "\n",
    "**Q2. A Froude number greater than 1 indicates:**  \n",
    "- A. Subcritical flow  \n",
    "- B. Supercritical flow ✅  \n",
    "- C. Uniform flow  \n",
    "- D. No jump formation  \n",
    "\n",
    "**Q3. If tailwater depth is significantly lower than predicted y₂:**  \n",
    "- A. Jump will form effectively  \n",
    "- B. Jump may be drowned  \n",
    "- C. Jump may not form properly ✅  \n",
    "- D. Flow is laminar  \n",
    "\n",
    "**Q4. Increasing the flow rate Q while keeping channel width and depth constant will:**  \n",
    "- A. Decrease approach velocity  \n",
    "- B. Decrease Froude number  \n",
    "- C. Increase approach velocity ✅  \n",
    "- D. Eliminate head loss  \n",
    "\n",
    "**Q5. Energy loss across a hydraulic jump is directly proportional to:**  \n",
    "- A. Channel length  \n",
    "- B. Jump depth difference ✅  \n",
    "- C. Froude number  \n",
    "- D. Tailwater turbulence  "
   ]
  }
 ],
 "metadata": {
  "kernelspec": {
   "display_name": "Python [conda env:base] *",
   "language": "python",
   "name": "conda-base-py"
  },
  "language_info": {
   "codemirror_mode": {
    "name": "ipython",
    "version": 3
   },
   "file_extension": ".py",
   "mimetype": "text/x-python",
   "name": "python",
   "nbconvert_exporter": "python",
   "pygments_lexer": "ipython3",
   "version": "3.12.7"
  },
  "widgets": {
   "application/vnd.jupyter.widget-state+json": {
    "state": {
     "058dbd542fd84b66add2e3a0b512ccc3": {
      "model_module": "@jupyter-widgets/base",
      "model_module_version": "2.0.0",
      "model_name": "LayoutModel",
      "state": {}
     },
     "57ef0d52910c4b7c9cb42efbfb553c4c": {
      "model_module": "@jupyter-widgets/controls",
      "model_module_version": "2.0.0",
      "model_name": "FloatTextModel",
      "state": {
       "description": "Channel Width b (m):",
       "layout": "IPY_MODEL_bbe0f99772d242c394f538c1b3a2c64b",
       "step": null,
       "style": "IPY_MODEL_649f27742d5641e0bfb5a83d31d27692",
       "value": 5
      }
     },
     "5aad3f12f75b4af596dee26bd9e9911b": {
      "model_module": "@jupyter-widgets/controls",
      "model_module_version": "2.0.0",
      "model_name": "ButtonStyleModel",
      "state": {
       "font_family": null,
       "font_size": null,
       "font_style": null,
       "font_variant": null,
       "font_weight": null,
       "text_color": null,
       "text_decoration": null
      }
     },
     "649f27742d5641e0bfb5a83d31d27692": {
      "model_module": "@jupyter-widgets/controls",
      "model_module_version": "2.0.0",
      "model_name": "DescriptionStyleModel",
      "state": {
       "description_width": ""
      }
     },
     "7fabda3b08484c17b4113bdf120066ee": {
      "model_module": "@jupyter-widgets/controls",
      "model_module_version": "2.0.0",
      "model_name": "ButtonModel",
      "state": {
       "description": "Calculate",
       "layout": "IPY_MODEL_86bbaff6750345ec9d82752a5cd7c626",
       "style": "IPY_MODEL_5aad3f12f75b4af596dee26bd9e9911b",
       "tooltip": null
      }
     },
     "82ceb5959fd74c6a95f67695969846a5": {
      "model_module": "@jupyter-widgets/controls",
      "model_module_version": "2.0.0",
      "model_name": "DescriptionStyleModel",
      "state": {
       "description_width": ""
      }
     },
     "86bbaff6750345ec9d82752a5cd7c626": {
      "model_module": "@jupyter-widgets/base",
      "model_module_version": "2.0.0",
      "model_name": "LayoutModel",
      "state": {}
     },
     "997df2d0092344569c78e3f6ff5855e8": {
      "model_module": "@jupyter-widgets/controls",
      "model_module_version": "2.0.0",
      "model_name": "FloatTextModel",
      "state": {
       "description": "Flow Rate Q (m³/s):",
       "layout": "IPY_MODEL_058dbd542fd84b66add2e3a0b512ccc3",
       "step": null,
       "style": "IPY_MODEL_e9f1708b822d41ebb7058e9a96edd93c",
       "value": 50
      }
     },
     "b28f265e5aab4d889db1eeccd48bb96e": {
      "model_module": "@jupyter-widgets/base",
      "model_module_version": "2.0.0",
      "model_name": "LayoutModel",
      "state": {}
     },
     "bbe0f99772d242c394f538c1b3a2c64b": {
      "model_module": "@jupyter-widgets/base",
      "model_module_version": "2.0.0",
      "model_name": "LayoutModel",
      "state": {}
     },
     "c4a3b22b00e944a9b7a1cdd6a1e22de6": {
      "model_module": "@jupyter-widgets/controls",
      "model_module_version": "2.0.0",
      "model_name": "DescriptionStyleModel",
      "state": {
       "description_width": ""
      }
     },
     "d62ab2ae52064a4db9697bdff892eb93": {
      "model_module": "@jupyter-widgets/controls",
      "model_module_version": "2.0.0",
      "model_name": "FloatTextModel",
      "state": {
       "description": "Tailwater Depth yᵥ (m):",
       "layout": "IPY_MODEL_eab12ef03cd047f5a02c33fa3da624f4",
       "step": null,
       "style": "IPY_MODEL_c4a3b22b00e944a9b7a1cdd6a1e22de6",
       "value": 1.2
      }
     },
     "dedffde32ae3466f9830e1099d22fa5a": {
      "model_module": "@jupyter-widgets/controls",
      "model_module_version": "2.0.0",
      "model_name": "FloatTextModel",
      "state": {
       "description": "Upstream Depth y₁ (m):",
       "layout": "IPY_MODEL_b28f265e5aab4d889db1eeccd48bb96e",
       "step": null,
       "style": "IPY_MODEL_82ceb5959fd74c6a95f67695969846a5",
       "value": 0.5
      }
     },
     "e9f1708b822d41ebb7058e9a96edd93c": {
      "model_module": "@jupyter-widgets/controls",
      "model_module_version": "2.0.0",
      "model_name": "DescriptionStyleModel",
      "state": {
       "description_width": ""
      }
     },
     "eab12ef03cd047f5a02c33fa3da624f4": {
      "model_module": "@jupyter-widgets/base",
      "model_module_version": "2.0.0",
      "model_name": "LayoutModel",
      "state": {}
     }
    },
    "version_major": 2,
    "version_minor": 0
   }
  }
 },
 "nbformat": 4,
 "nbformat_minor": 5
}
