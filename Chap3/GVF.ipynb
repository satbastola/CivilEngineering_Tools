{
 "cells": [
  {
   "cell_type": "markdown",
   "id": "89e08846-4d72-4fd0-9bf5-8e68afb7bbed",
   "metadata": {},
   "source": [
    "# Chapter 3 Hydraulics: GVF profile"
   ]
  },
  {
   "cell_type": "markdown",
   "id": "31622f59-ddab-4ac3-9fdc-a76d38bd4f37",
   "metadata": {},
   "source": [
    "1. [Introduction: Culvert Design](#1.-Introduction)\n",
    "2. [Simulation: Inlet and Outlet Control](#2.-Simulation)\n",
    "3. [Self-Assessment](#3.-Self-Assessment)"
   ]
  },
  {
   "cell_type": "markdown",
   "id": "32581dcd-62f7-42ff-9583-7121b5c55cbd",
   "metadata": {},
   "source": [
    "## 1. Introduction"
   ]
  },
  {
   "cell_type": "markdown",
   "id": "98138a99-6c21-41e5-8dbf-77c6c8fa4648",
   "metadata": {},
   "source": [
    "### Gradually Varied Flow (GVF) Profile Simulator — Description\n",
    "\n",
    "This interactive Python tool visualizes the gradually varied flow (GVF) profile in a rectangular open channel using the standard flow hydraulics equations. It enables engineers, hydrologists, and students to explore how water depth and energy vary between two points in a channel, influenced by flow rate, channel geometry, slope, and roughness.\n",
    "\n",
    "---\n",
    "\n",
    "### Purpose\n",
    "\n",
    "- Model gradually varied flow conditions in open channels\n",
    "- Compare water surface profile vs. energy grade line (EGL)\n",
    "- Assist in hydraulic design and backwater analysis\n",
    "- Provide hands-on learning with live parameter adjustments\n",
    "\n",
    "---\n",
    "\n",
    "### Hydraulic Equations Used\n",
    "\n",
    "| Quantity               | Formula                                                                 |\n",
    "|------------------------|-------------------------------------------------------------------------|\n",
    "| Area $( A $)           | $( A = b \\cdot h $)                                                     |\n",
    "| Wetted Perimeter $( P $)| $( P = b + 2h $)                                                        |\n",
    "| Hydraulic Radius $( R $)| $( R = A / P $)                                                        |\n",
    "| Velocity $( V $)        | $( V = Q / A $)                                                        |\n",
    "| Slope due to friction $( S_f $)| $( S_f = (Qn / (A R^{2/3}))^2 $)                             |\n",
    "| Energy Grade Line $( E $) | $( E = h + V^2 / (2g) $), where $( g = 9.81 \\, \\text{m/s}^2 $) |\n",
    "\n",
    "---\n",
    "\n",
    "### Visualization Outputs\n",
    "\n",
    "- **Water Surface Profile (h)**: shows how depth varies with distance\n",
    "- **Energy Grade Line (E)**: plots total hydraulic energy at each section\n",
    "- Line plots help diagnose flow regimes, backwater effects, and hydraulic transitions\n",
    "\n",
    "---\n",
    "\n",
    "### Interactive Inputs\n",
    "\n",
    "| Parameter        | Description                               |\n",
    "|------------------|-------------------------------------------|\n",
    "| Flow Q (m³/s)    | Discharge through channel                 |\n",
    "| Channel Width (m)| Rectangular channel bottom width          |\n",
    "| Manning n        | Roughness coefficient                     |\n",
    "| Bed Slope S₀     | Longitudinal slope of the channel bed     |\n",
    "| Upstream Depth (m)| Known depth at upstream control section   |\n",
    "| Downstream Depth (m)| Known depth at downstream boundary      |\n",
    "| Distance L (m)   | Length of the channel section being modeled |\n",
    "| Steps            | Number of intervals (discretization)      |\n",
    "\n",
    "---\n",
    "\n",
    "### What You Can Analyze\n",
    "\n",
    "- Mild vs. steep slope effects on flow profile\n",
    "- Subcritical vs. supercritical transitions\n",
    "- Backwater effects from downstream controls\n",
    "- Impact of roughness on energy loss and depth\n",
    "\n",
    "---\n",
    "### Gradually Varied Flow (GVF) Using Standard Step Method — Overview\n",
    "\n",
    "Gradually Varied Flow (GVF) refers to the non-uniform flow in open channels where flow depth changes gradually along the channel length due to variations in slope, roughness, or boundary conditions. It commonly arises in rivers, canals, and stormwater channels under subcritical or mild slope conditions.\n",
    "\n",
    "The **Standard Step Method** is a widely used numerical technique for solving the GVF equation and estimating flow profiles between known control points.\n",
    "\n",
    "---\n",
    "\n",
    "### GVF Equation Formulation\n",
    "\n",
    "The gradually varied flow equation for steady, incompressible flow is:\n",
    "\n",
    "\n",
    "\n",
    "$$\n",
    "\\frac{dx}{dh} = \\frac{1 - \\frac{S_f}{S_0}}{1 - F_r^2}\n",
    "$$\n",
    "\n",
    "\n",
    "\n",
    "Where:\n",
    "- $( dx $) = incremental channel length\n",
    "- $( dh $) = depth increment\n",
    "- $( S_0 $) = bed slope\n",
    "- $( S_f $) = friction slope (from Manning's equation)\n",
    "- $( F_r $) = Froude number = $( \\frac{V}{\\sqrt{g h}} $)\n",
    "\n",
    "\n",
    "In the **standard step method**, the flow is analyzed by taking small depth steps (\\( \\Delta h \\)), calculating corresponding energy changes, and computing the horizontal distance needed to transition from one depth to the next.\n",
    "\n",
    "---\n",
    "\n",
    "### Standard step Methodology\n",
    "\n",
    "### 1. Assume:\n",
    "- Channel geometry and roughness (e.g. rectangular, trapezoidal)\n",
    "- Flow rate $( Q $)\n",
    "- Known starting depth $( h_0 $) at a control point\n",
    "\n",
    "### 2. Compute:\n",
    "- Hydraulic properties: area, velocity, energy\n",
    "- Friction slope $( S_f $) via Manning’s formula\n",
    "- Energy difference between trial steps\n",
    "- Average slope and energy grade line\n",
    "- Use:\n",
    "\n",
    "$$\n",
    "\\Delta x = \\frac{\\Delta E}{S_0 - \\bar{S}_f}\n",
    "$$\n",
    "\n",
    "### 3. Repeat:\n",
    "- For each new depth step until desired distance or boundary condition is reached\n",
    "\n",
    "---\n",
    "\n",
    "### Applications of GVF Using Standard Step Method\n",
    "\n",
    "| Application                        | Use Case                                                    |\n",
    "|------------------------------------|-------------------------------------------------------------|\n",
    "| River Backwater Analysis           | Determine upstream impacts due to dam or obstruction       |\n",
    "| Channel Design                     | Predict water surface elevation profile for canal slopes   |\n",
    "| Floodplain Mapping                 | Simulate elevated flow profiles for flood risk zones       |\n",
    "| Hydraulic Jump Location            | Identify where critical transitions occur                  |\n",
    "| Irrigation and Drainage Modeling   | Optimize slope and depth profiles for efficient flow       |\n",
    "| Stormwater Infrastructure          | Analyze detention basin outflow and flow depth variations  |\n",
    "\n",
    "---\n",
    "\n",
    "### Advantages\n",
    "\n",
    "- Straightforward and intuitive\n",
    "- Flexible for variable channel geometry and slope\n",
    "- Useful for both upstream and downstream calculations\n",
    "- Applicable for subcritical and supercritical regimes\n",
    "\n",
    "---\n",
    "#### Direct Step Method — Description\n",
    "\n",
    "The **Direct Step Method** is a computational technique used to solve the Gradually Varied Flow (GVF) equation in open channel hydraulics. Unlike the Standard Step Method (which solves for distance between depth changes), the Direct Step Method solves for the **distance required to transition between two known flow depths**. It is particularly effective for analyzing flow profiles in **prismatic channels** where geometry remains constant.\n",
    "\n",
    "---\n",
    "\n",
    "## 📐 Governing Equation\n",
    "\n",
    "\n",
    "$$\n",
    "\\Delta x = \\frac{\\Delta E}{S_0 - \\bar{S}_f}\n",
    "$$\n",
    "\n",
    "\n",
    "Where:\n",
    "- $( \\Delta x $) = horizontal channel length between two flow depths  \n",
    "- $( \\Delta E $) = change in specific energy between depth 1 and depth 2  \n",
    "- $( S_0 $) = bed slope  \n",
    "- $( \\bar{S}_f $) = average friction slope between the two depths\n",
    "\n",
    "---\n",
    "\n",
    "### Methodology\n",
    "\n",
    "### 1. Specify:\n",
    "- Upstream and downstream depths (or vice versa)\n",
    "- Channel geometry (typically rectangular or trapezoidal)\n",
    "- Flow rate $( Q $), bed slope $( S_0 $), and Manning’s $( n $)\n",
    "\n",
    "### 2. Compute for each depth:\n",
    "- Cross-sectional area $( A $)  \n",
    "- Hydraulic radius $( R $)  \n",
    "- Velocity $( V = Q / A $)  \n",
    "- Specific energy $( E = h + V^2 / 2g $)  \n",
    "- Friction slope $( S_f $) from Manning’s equation\n",
    "\n",
    "### 3. Calculate:\n",
    "- Energy difference $( \\Delta E $)\n",
    "- Average friction slope $( \\bar{S}_f = (S_{f1} + S_{f2}) / 2 $)\n",
    "- Solve for $( \\Delta x $)\n",
    "\n",
    "---\n",
    "\n",
    "### Applications\n",
    "\n",
    "| Scenario                        | Why Use Direct Step Method                              |\n",
    "|--------------------------------|----------------------------------------------------------|\n",
    "| Channel Transitions            | To find length needed between two depth control points  |\n",
    "| Backwater Profile Analysis     | For flow upstream of dams, weirs, or sluice gates       |\n",
    "| Subcritical Flow Evaluation    | Common in mild slope channels and canals                |\n",
    "| Flood Routing                  | Estimate water surface elevation changes with distance  |\n",
    "\n",
    "---\n",
    "\n",
    "### Advantages\n",
    "\n",
    "- Simple and direct for prismatic channels\n",
    "- Efficient for computing the profile segment between fixed depths\n",
    "- Compatible with manual or spreadsheet implementation\n",
    "\n",
    "---"
   ]
  },
  {
   "cell_type": "markdown",
   "id": "03f17389-a347-4d67-977a-6f0e930ea2cd",
   "metadata": {},
   "source": [
    "## 2. Simulation"
   ]
  },
  {
   "cell_type": "code",
   "execution_count": 2,
   "id": "7eed52c6-2912-4e41-ae80-62f2704341e4",
   "metadata": {},
   "outputs": [
    {
     "data": {
      "application/vnd.jupyter.widget-view+json": {
       "model_id": "f1908210ef3445c4b3486c1d9f207e90",
       "version_major": 2,
       "version_minor": 0
      },
      "text/plain": [
       "interactive(children=(FloatSlider(value=20.0, description='Flow Q (m³/s)', layout=Layout(width='400px'), min=1…"
      ]
     },
     "metadata": {},
     "output_type": "display_data"
    }
   ],
   "source": [
    "# Direct step method\n",
    "import numpy as np\n",
    "import ipywidgets as widgets\n",
    "from IPython.display import display, clear_output\n",
    "from ipywidgets import interact\n",
    "\n",
    "# 📐 Manning's equation for normal depth (rectangular channel)\n",
    "def compute_normal_depth(Q, b, n, So):\n",
    "    def area(h): return b * h\n",
    "    def perimeter(h): return b + 2 * h\n",
    "    def hydraulic_radius(h): return area(h) / perimeter(h)\n",
    "    def velocity(h): return (1 / n) * hydraulic_radius(h)**(2/3) * So**0.5\n",
    "    def discharge(h): return velocity(h) * area(h)\n",
    "\n",
    "    h = 0.1\n",
    "    for _ in range(1000):\n",
    "        f = discharge(h) - Q\n",
    "        df = (discharge(h + 0.001) - discharge(h)) / 0.001\n",
    "        h_new = h - f / df\n",
    "        if abs(h_new - h) < 1e-6:\n",
    "            break\n",
    "        h = h_new\n",
    "    return round(h, 3)\n",
    "\n",
    "# 📐 Critical depth for rectangular channel\n",
    "def compute_critical_depth(Q, b):\n",
    "    g = 9.81\n",
    "    h = (Q**2 / b**2 / g)**(1/3)\n",
    "    return round(h, 3)\n",
    "\n",
    "# 🧮 Direct Step Method to find distance to target depth\n",
    "def direct_step(Q, b, n, So, h_start, h_target, steps=100):\n",
    "    g = 9.81\n",
    "    dx_total = 0\n",
    "    direction = \"downstream\" if h_target < h_start else \"upstream\"\n",
    "    h = h_start\n",
    "    dh = (h_target - h_start) / steps\n",
    "\n",
    "    for _ in range(steps):\n",
    "        A = b * h\n",
    "        P = b + 2 * h\n",
    "        R = A / P\n",
    "        V = Q / A\n",
    "        E = h + V**2 / (2 * g)\n",
    "        Sf = (V * n / R**(2/3))**2\n",
    "        dx = dh / (So - Sf) if So != Sf else 0\n",
    "        dx_total += abs(dx)\n",
    "        h += dh\n",
    "\n",
    "    return round(dx_total, 1), direction\n",
    "\n",
    "# 🌊 Main function\n",
    "def simulate_gvf(Q, b, n, So, h_start, h_target):\n",
    "    clear_output(wait=True)\n",
    "\n",
    "    h_normal = compute_normal_depth(Q, b, n, So)\n",
    "    h_critical = compute_critical_depth(Q, b)\n",
    "\n",
    "    # 🔍 Classify slope\n",
    "    slope_type = \"Steep\" if h_normal < h_critical else \"Mild\" if h_normal > h_critical else \"Critical\"\n",
    "\n",
    "    # 🔁 Decide direction based on slope and flow regime\n",
    "    if slope_type == \"Mild\":\n",
    "        direction = \"upstream\" if h_target > h_normal else \"downstream\"\n",
    "    elif slope_type == \"Steep\":\n",
    "        direction = \"downstream\" if h_target < h_normal else \"upstream\"\n",
    "    else:\n",
    "        direction = \"downstream\"  # assume normal depth flows downstream\n",
    "\n",
    "    # 🧮 Compute distance\n",
    "    dx, flow_dir = direct_step(Q, b, n, So, h_start, h_target)\n",
    "\n",
    "    # 📋 Output\n",
    "    print(f\"🔎 Slope Type: {slope_type}\")\n",
    "    print(f\"📐 Normal Depth: {h_normal:.3f} m\")\n",
    "    print(f\"📐 Critical Depth: {h_critical:.3f} m\")\n",
    "    print(f\"📍 Starting Depth: {h_start:.3f} m\")\n",
    "    print(f\"🎯 Target Depth: {h_target:.3f} m\")\n",
    "    print(f\"🧭 Flow Direction: {flow_dir}\")\n",
    "    print(f\"📏 Estimated Distance to Target Depth: {dx:.1f} m\")\n",
    "\n",
    "# 🎛️ Interactive controls\n",
    "style = {'description_width': '160px'}\n",
    "layout = widgets.Layout(width='400px')\n",
    "\n",
    "interact(simulate_gvf,\n",
    "         Q=widgets.FloatSlider(value=20, min=1, max=100, step=1, description='Flow Q (m³/s)', style=style, layout=layout),\n",
    "         b=widgets.FloatSlider(value=5, min=1, max=20, step=0.5, description='Channel Width (m)', style=style, layout=layout),\n",
    "         n=widgets.FloatSlider(value=0.03, min=0.01, max=0.06, step=0.001, description='Manning n', style=style, layout=layout),\n",
    "         So=widgets.FloatSlider(value=0.001, min=0.0001, max=0.01, step=0.0001, description='Bed Slope S₀', style=style, layout=layout),\n",
    "         h_start=widgets.FloatSlider(value=2.5, min=0.5, max=6.0, step=0.1, description='Starting Depth (m)', style=style, layout=layout),\n",
    "         h_target=widgets.FloatSlider(value=1.5, min=0.5, max=6.0, step=0.1, description='Target Depth (m)', style=style, layout=layout));"
   ]
  },
  {
   "cell_type": "markdown",
   "id": "b97977a0-787c-4e3a-b342-a7543fcd5ffc",
   "metadata": {},
   "source": [
    "## 3. Simulation"
   ]
  },
  {
   "cell_type": "markdown",
   "id": "3f84e83b-a3bd-4a2a-aae5-cf345ab3af9a",
   "metadata": {},
   "source": [
    "### Gradually Varied Flow (GVF) Using Standard Step Method — Overview\n",
    "\n",
    "Gradually Varied Flow (GVF) refers to the non-uniform flow in open channels where flow depth changes gradually along the channel length due to variations in slope, roughness, or boundary conditions. It commonly arises in rivers, canals, and stormwater channels under subcritical or mild slope conditions.\n",
    "\n",
    "The **Standard Step Method** is a widely used numerical technique for solving the GVF equation and estimating flow profiles between known control points.\n",
    "\n",
    "---\n",
    "\n",
    "### GVF Equation Formulation\n",
    "\n",
    "The gradually varied flow equation for steady, incompressible flow is:\n",
    "\n",
    "$$\n",
    "\\frac{dx}{dh} = \\frac{1 - \\frac{S_f}{S_0}}{1 - F_r^2}\n",
    "$$\n",
    "\n",
    "\n",
    "Where:\n",
    "- $( dx $) = incremental channel length\n",
    "- $( dh $) = depth increment\n",
    "- $( S_0 $) = bed slope\n",
    "- $( S_f $) = friction slope (from Manning's equation)\n",
    "- $( F_r $) = Froude number = $( \\frac{V}{\\sqrt{g h}} $)\n",
    "\n",
    "In the **standard step method**, the flow is analyzed by taking small depth steps ($( \\Delta h $)), calculating corresponding energy changes, and computing the horizontal distance needed to transition from one depth to the next.\n",
    "\n",
    "---\n",
    "## 🧮 Methodology\n",
    "\n",
    "### 1. Assume:\n",
    "- Channel geometry and roughness (e.g. rectangular, trapezoidal)\n",
    "- Flow rate $( Q $)\n",
    "- Known starting depth $( h_0 $) at a control point\n",
    "\n",
    "### 2. Compute:\n",
    "- Hydraulic properties: area, velocity, energy\n",
    "- Friction slope $( S_f $) via Manning’s formula\n",
    "- Energy difference between trial steps\n",
    "- Average slope and energy grade line\n",
    "- Use:\n",
    "\n",
    "$$\n",
    "\\Delta x = \\frac{\\Delta E}{S_0 - \\bar{S}_f}\n",
    "$$\n",
    "\n",
    "\n",
    "\n",
    "### 3. Repeat:\n",
    "- For each new depth step until desired distance or boundary condition is reached\n",
    "\n",
    "\n",
    "## 🛠️ Applications of GVF Using Standard Step Method\n",
    "\n",
    "| Application                        | Use Case                                                    |\n",
    "|------------------------------------|-------------------------------------------------------------|\n",
    "| River Backwater Analysis           | Determine upstream impacts due to dam or obstruction       |\n",
    "| Channel Design                     | Predict water surface elevation profile for canal slopes   |\n",
    "| Floodplain Mapping                 | Simulate elevated flow profiles for flood risk zones       |\n",
    "| Hydraulic Jump Location            | Identify where critical transitions occur                  |\n",
    "| Irrigation and Drainage Modeling   | Optimize slope and depth profiles for efficient flow       |\n",
    "| Stormwater Infrastructure          | Analyze detention basin outflow and flow depth variations  |\n",
    "\n",
    "---\n",
    "\n",
    "## ✅ Advantages\n",
    "\n",
    "- Straightforward and intuitive\n",
    "- Flexible for variable channel geometry and slope\n",
    "- Useful for both upstream and downstream calculations\n",
    "- Applicable for subcritical and supercritical regimes\n",
    "\n"
   ]
  },
  {
   "cell_type": "markdown",
   "id": "17b22211-8157-4667-8fd4-4bc1685e4590",
   "metadata": {},
   "source": [
    "## 2. Simulation"
   ]
  },
  {
   "cell_type": "code",
   "execution_count": 3,
   "id": "91906372-2d75-4960-b0f7-92c668eede2d",
   "metadata": {},
   "outputs": [
    {
     "data": {
      "application/vnd.jupyter.widget-view+json": {
       "model_id": "146bc8827b0c4dd0ae6183cba2ef275a",
       "version_major": 2,
       "version_minor": 0
      },
      "text/plain": [
       "interactive(children=(FloatSlider(value=20.0, description='Flow Q (m³/s)', min=1.0, step=1.0, style=SliderStyl…"
      ]
     },
     "metadata": {},
     "output_type": "display_data"
    }
   ],
   "source": [
    "import numpy as np\n",
    "import matplotlib.pyplot as plt\n",
    "from ipywidgets import FloatSlider, IntSlider, interact\n",
    "\n",
    "g = 9.81  # gravitational acceleration (m/s²)\n",
    "\n",
    "# ⚙️ Rectangular channel hydraulics\n",
    "def area(h, b): return b * h\n",
    "def wetted_perimeter(h, b): return b + 2 * h\n",
    "def hydraulic_radius(h, b): return area(h, b) / wetted_perimeter(h, b)\n",
    "def velocity(h, b, Q): return Q / area(h, b)\n",
    "def manning_slope(h, b, Q, n): return (Q * n / (area(h, b) * hydraulic_radius(h, b)**(2/3)))**2\n",
    "def energy(h, b, Q): return h + velocity(h, b, Q)**2 / (2 * g)\n",
    "\n",
    "# 📍 Compute depth at specified distance using standard step method\n",
    "def compute_depth_at_distance(Q, b, So, n, h_start, distance_target, direction='upstream', dx=5):\n",
    "    h = h_start\n",
    "    x = 0\n",
    "\n",
    "    while x < distance_target:\n",
    "        h_trial = h + 0.1 if direction == 'upstream' else h - 0.1\n",
    "\n",
    "        Sf1 = manning_slope(h, b, Q, n)\n",
    "        Sf2 = manning_slope(h_trial, b, Q, n)\n",
    "        E1 = energy(h, b, Q)\n",
    "        E2 = energy(h_trial, b, Q)\n",
    "        delta_E = E2 - E1\n",
    "        S_avg = (Sf1 + Sf2) / 2\n",
    "\n",
    "        delta_x = delta_E / (So - S_avg) if (So - S_avg) != 0 else dx\n",
    "        dx = abs(delta_x)\n",
    "\n",
    "        h = h_trial\n",
    "        x += dx\n",
    "\n",
    "        if x >= distance_target:\n",
    "            return round(h, 4)\n",
    "\n",
    "    return round(h, 4)\n",
    "\n",
    "# 🖱️ Interactive tool\n",
    "def interactive_depth(Q, b, So, n, h_start, distance, direction):\n",
    "    depth = compute_depth_at_distance(Q, b, So, n, h_start, distance, direction)\n",
    "    print(f\"📏 Estimated Depth at {distance:.1f} m ({direction}): {depth:.2f} m\")\n",
    "\n",
    "# 🎛️ Sliders\n",
    "interact(interactive_depth,\n",
    "         Q=FloatSlider(value=20, min=1, max=100, step=1, description='Flow Q (m³/s)', style={'description_width': '150px'}),\n",
    "         b=FloatSlider(value=5, min=1, max=20, step=0.5, description='Channel Width (m)', style={'description_width': '150px'}),\n",
    "         So=FloatSlider(value=0.001, min=0.0001, max=0.01, step=0.0001, description='Bed Slope S₀', style={'description_width': '150px'}),\n",
    "         n=FloatSlider(value=0.03, min=0.01, max=0.06, step=0.001, description='Manning n', style={'description_width': '150px'}),\n",
    "         h_start=FloatSlider(value=2.5, min=0.5, max=5.0, step=0.1, description='Start Depth (m)', style={'description_width': '150px'}),\n",
    "         distance=FloatSlider(value=100, min=1, max=1000, step=5, description='Distance (m)', style={'description_width': '150px'}),\n",
    "         direction=['upstream', 'downstream']);\n"
   ]
  },
  {
   "cell_type": "code",
   "execution_count": null,
   "id": "dadbeb7c-8ad7-4341-b4ab-1bc7e50b9ecc",
   "metadata": {},
   "outputs": [],
   "source": [
    "import numpy as np\n",
    "import matplotlib.pyplot as plt\n",
    "import ipywidgets as widgets\n",
    "from IPython.display import display\n",
    "\n",
    "# 📐 Normal depth using Manning’s equation\n",
    "def compute_normal_depth(Q, b, n, S0):\n",
    "    def area(h): return b * h\n",
    "    def perimeter(h): return b + 2 * h\n",
    "    def hydraulic_radius(h): return area(h) / perimeter(h)\n",
    "    def velocity(h): return (1 / n) * hydraulic_radius(h)**(2/3) * S0**0.5\n",
    "    def discharge(h): return velocity(h) * area(h)\n",
    "\n",
    "    h = 0.1\n",
    "    for _ in range(1000):\n",
    "        f = discharge(h) - Q\n",
    "        df = (discharge(h + 0.001) - discharge(h)) / 0.001\n",
    "        h_new = h - f / df\n",
    "        if abs(h_new - h) < 1e-6:\n",
    "            break\n",
    "        h = h_new\n",
    "    return round(h, 3)\n",
    "\n",
    "# 📐 Critical depth for rectangular channel\n",
    "def compute_critical_depth(Q, b):\n",
    "    g = 9.81\n",
    "    h = (Q**2 / b**2 / g)**(1/3)\n",
    "    return round(h, 3)\n",
    "\n",
    "# 🧮 Direct Step Method for GVF\n",
    "def compute_gvf(Q, b, n, S0, L, steps, h_start, flow_direction):\n",
    "    g = 9.81\n",
    "    dx = L / steps\n",
    "    x = np.zeros(steps)\n",
    "    h = np.zeros(steps)\n",
    "    h[0] = h_start\n",
    "\n",
    "    for i in range(1, steps):\n",
    "        A = b * h[i-1]\n",
    "        P = b + 2 * h[i-1]\n",
    "        R = A / P\n",
    "        V = Q / A\n",
    "        Sf = (V * n / R**(2/3))**2\n",
    "        E = h[i-1] + V**2 / (2 * g)\n",
    "\n",
    "        dE_dh = 1 + (-Q**2 / (g * A**3)) * (b**2)\n",
    "        dh = 0.01 if flow_direction == \"downstream\" else -0.01\n",
    "        h_trial = h[i-1] + dh\n",
    "        A_trial = b * h_trial\n",
    "        V_trial = Q / A_trial\n",
    "        E_trial = h_trial + V_trial**2 / (2 * g)\n",
    "        dE = E_trial - E\n",
    "        dx_step = dE / (S0 - Sf) if S0 != Sf else dx\n",
    "\n",
    "        x[i] = x[i-1] + abs(dx_step)\n",
    "        h[i] = h[i-1] + dh\n",
    "\n",
    "        if x[i] > L:\n",
    "            x = x[:i+1]\n",
    "            h = h[:i+1]\n",
    "            break\n",
    "\n",
    "    return x, h\n",
    "\n",
    "# 📊 Plotting function\n",
    "def plot_gvf(Q, b, n, S0, L, steps, h_start, flow_direction):\n",
    "    h_normal = compute_normal_depth(Q, b, n, S0)\n",
    "    h_critical = compute_critical_depth(Q, b)\n",
    "\n",
    "    # 🧭 Slope classification\n",
    "    if h_normal > h_critical:\n",
    "        slope_type = \"Mild\"\n",
    "    elif h_normal < h_critical:\n",
    "        slope_type = \"Steep\"\n",
    "    else:\n",
    "        slope_type = \"Critical\"\n",
    "\n",
    "    x, h = compute_gvf(Q, b, n, S0, L, steps, h_start, flow_direction)\n",
    "\n",
    "    plt.figure(figsize=(10, 4))\n",
    "    plt.plot(x, h, label=\"Water Surface Profile\", color=\"blue\")\n",
    "    plt.axhline(h_normal, color=\"green\", linestyle=\"--\", label=f\"Normal Depth = {h_normal:.2f} m\")\n",
    "    plt.axhline(h_critical, color=\"red\", linestyle=\"--\", label=f\"Critical Depth = {h_critical:.2f} m\")\n",
    "    plt.xlabel(\"Distance Along Channel (m)\")\n",
    "    plt.ylabel(\"Water Depth h (m)\")\n",
    "    plt.title(f\"GVF Profile — {flow_direction.capitalize()} | Slope Type: {slope_type}\")\n",
    "    plt.grid(True)\n",
    "    plt.legend()\n",
    "    plt.tight_layout()\n",
    "    plt.show()\n",
    "\n",
    "    print(f\"📐 Normal Depth: {h_normal:.2f} m\")\n",
    "    print(f\"📐 Critical Depth: {h_critical:.2f} m\")\n",
    "    print(f\"🧭 Slope Type: {slope_type}\")\n",
    "\n",
    "# 🎛️ Interactive controls\n",
    "Q_slider = widgets.FloatSlider(value=20, min=1, max=100, step=1, description='Flow Q (m³/s)')\n",
    "b_slider = widgets.FloatSlider(value=5, min=1, max=20, step=0.5, description='Channel Width b (m)')\n",
    "n_slider = widgets.FloatSlider(value=0.03, min=0.01, max=0.06, step=0.001, description='Manning n')\n",
    "S0_slider = widgets.FloatSlider(value=0.001, min=0.0001, max=0.01, step=0.0001, description='Bed Slope S₀')\n",
    "L_slider = widgets.FloatSlider(value=100, min=10, max=1000, step=10, description='Channel Length L (m)')\n",
    "steps_slider = widgets.IntSlider(value=50, min=10, max=200, step=10, description='Steps')\n",
    "h_start_slider = widgets.FloatSlider(value=2.0, min=0.5, max=6.0, step=0.1, description='Starting Depth h₀ (m)')\n",
    "direction_dropdown = widgets.Dropdown(options=[\"upstream\", \"downstream\"], value=\"downstream\", description='Flow Direction')\n",
    "\n",
    "ui = widgets.VBox([\n",
    "    Q_slider, b_slider, n_slider, S0_slider,\n",
    "    L_slider, steps_slider, h_start_slider, direction_dropdown\n",
    "])\n",
    "\n",
    "out = widgets.interactive_output(plot_gvf, {\n",
    "    'Q': Q_slider,\n",
    "    'b': b_slider,\n",
    "    'n': n_slider,\n",
    "    'S0': S0_slider,\n",
    "    'L': L_slider,\n",
    "    'steps': steps_slider,\n",
    "    'h_start': h_start_slider,\n",
    "    'flow_direction': direction_dropdown\n",
    "})\n",
    "\n",
    "display(ui, out)"
   ]
  },
  {
   "cell_type": "markdown",
   "id": "7b6cb5eb-432b-4911-bd33-45242d845b3e",
   "metadata": {},
   "source": [
    "## 3. Self-Assessment"
   ]
  },
  {
   "cell_type": "markdown",
   "id": "ccb7d7fd-42ca-43fe-be1e-6f9897b3db0b",
   "metadata": {},
   "source": [
    "\n",
    "### ✅ Conceptual Questions\n",
    "\n",
    "1. **What does the Direct Step Method compute in GVF analysis?**\n",
    "   - A. Flow velocity at critical depth  \n",
    "   - B. Distance between two flow depths  \n",
    "   - C. Channel slope required for uniform flow  \n",
    "   - D. Hydraulic jump location  \n",
    "\n",
    "2. **In a rectangular channel, the normal depth is determined by:**\n",
    "   - A. Flow rate and critical slope  \n",
    "   - B. Manning’s equation and channel geometry  \n",
    "   - C. Energy equation and tailwater depth  \n",
    "   - D. Froude number and sediment load  \n",
    "\n",
    "3. **If the normal depth is greater than the critical depth, the slope is classified as:**\n",
    "   - A. Steep  \n",
    "   - B. Mild  \n",
    "   - C. Critical  \n",
    "   - D. Horizontal  \n",
    "\n",
    "4. **Which of the following increases the friction slope \\( S_f \\)?**\n",
    "   - A. Increasing Manning’s \\( n \\)  \n",
    "   - B. Increasing hydraulic radius  \n",
    "   - C. Decreasing velocity  \n",
    "   - D. Reducing bed slope  \n",
    "\n",
    "5. **In GVF analysis, flow direction is determined by:**\n",
    "   - A. Channel curvature  \n",
    "   - B. Depth gradient and slope type  \n",
    "   - C. Sediment transport rate  \n",
    "   - D. Water temperature  \n",
    "\n",
    "---\n",
    "\n",
    "### Parametric Exploration Prompts\n",
    "\n",
    "1. How does increasing Manning’s \\( n \\) affect the normal depth and flow resistance?  \n",
    "2. What happens to the estimated distance when the target depth is much lower than the starting depth on a mild slope?  \n",
    "3. Why is it important to classify the slope type before applying the Direct Step Method?  \n",
    "4. How would the results differ in a natural channel with variable width and roughness?  \n",
    "5. What are the limitations of using a fixed step size in the Direct Step Method?\n",
    "\n",
    "---\n",
    "\n",
    "### Reflection Questions\n",
    "\n",
    "1. **How does the Direct Step Method help visualize flow transitions in open channels?**  \n",
    "2. **What physical processes are captured by the gradually varied flow equations that uniform flow neglects?**  \n",
    "3. **Why is critical depth a key reference point in classifying flow regimes?**  \n",
    "4. **How would you modify this model to handle non-prismatic or compound channels?**  \n",
    "5. **What insights can engineers gain by interactively adjusting flow, slope, and depth parameters in real-time?**\n",
    "\n",
    "---\n",
    "\n",
    "### Design Insight\n",
    "\n",
    "> “Understanding gradually varied flow is essential for designing channels, culverts, and floodplains. It bridges the gap between idealized uniform flow and real-world hydraulic transitions.”\n",
    "\n",
    "---"
   ]
  },
  {
   "cell_type": "code",
   "execution_count": null,
   "id": "bcdf4893-d8ea-4c60-8aa2-99226668f527",
   "metadata": {},
   "outputs": [],
   "source": []
  }
 ],
 "metadata": {
  "kernelspec": {
   "display_name": "Python [conda env:base] *",
   "language": "python",
   "name": "conda-base-py"
  },
  "language_info": {
   "codemirror_mode": {
    "name": "ipython",
    "version": 3
   },
   "file_extension": ".py",
   "mimetype": "text/x-python",
   "name": "python",
   "nbconvert_exporter": "python",
   "pygments_lexer": "ipython3",
   "version": "3.12.7"
  },
  "widgets": {
   "application/vnd.jupyter.widget-state+json": {
    "state": {
     "03089961b7de4e7e88144ca080a832d4": {
      "model_module": "@jupyter-widgets/controls",
      "model_module_version": "2.0.0",
      "model_name": "SliderStyleModel",
      "state": {
       "description_width": "150px"
      }
     },
     "09c6b5e34ce743bebc7c297344519bf6": {
      "model_module": "@jupyter-widgets/controls",
      "model_module_version": "2.0.0",
      "model_name": "FloatSliderModel",
      "state": {
       "behavior": "drag-tap",
       "description": "Channel Width (m)",
       "layout": "IPY_MODEL_3cdfd51090eb4c21a849c532ff063555",
       "max": 20,
       "min": 1,
       "step": 0.5,
       "style": "IPY_MODEL_594b417e437e4f868e2041c034d67325",
       "value": 5
      }
     },
     "0ad4c8452274441781928ccd50ba1b31": {
      "model_module": "@jupyter-widgets/controls",
      "model_module_version": "2.0.0",
      "model_name": "FloatSliderModel",
      "state": {
       "behavior": "drag-tap",
       "description": "Distance (m)",
       "layout": "IPY_MODEL_5170acf9f7ed48dfbcfde6489ead7402",
       "max": 1000,
       "min": 1,
       "step": 5,
       "style": "IPY_MODEL_a619b75e68954eeab1e226665f8a65a1",
       "value": 101
      }
     },
     "146bc8827b0c4dd0ae6183cba2ef275a": {
      "model_module": "@jupyter-widgets/controls",
      "model_module_version": "2.0.0",
      "model_name": "VBoxModel",
      "state": {
       "_dom_classes": [
        "widget-interact"
       ],
       "children": [
        "IPY_MODEL_17f18a32bac544fb8700ccd4a42b3d2c",
        "IPY_MODEL_99c5dd97649d40d1be17194bcdd60d1a",
        "IPY_MODEL_e7c447a779b14f8e9c0bf348e207247f",
        "IPY_MODEL_9991e25de500464aa3a5d7a5ba0a1652",
        "IPY_MODEL_a5a5e4ec66744c04871550d9764cb860",
        "IPY_MODEL_0ad4c8452274441781928ccd50ba1b31",
        "IPY_MODEL_a11f0ab6fc9642a28503d1518bc8d8d8",
        "IPY_MODEL_5cfc4b1c8ada4d02b94c781ee1c1658c"
       ],
       "layout": "IPY_MODEL_9250141ad5ed4b1a81e42b65f33f06cd"
      }
     },
     "14e7d5b28439498fa233feb5ce0e6678": {
      "model_module": "@jupyter-widgets/controls",
      "model_module_version": "2.0.0",
      "model_name": "SliderStyleModel",
      "state": {
       "description_width": "160px"
      }
     },
     "17c268bc1c71497390a4b2b275778390": {
      "model_module": "@jupyter-widgets/controls",
      "model_module_version": "2.0.0",
      "model_name": "FloatSliderModel",
      "state": {
       "behavior": "drag-tap",
       "description": "Bed Slope S₀",
       "layout": "IPY_MODEL_57a20ea87276494fa76f8d7a0dcb70ec",
       "max": 0.01,
       "min": 0.0001,
       "step": 0.0001,
       "style": "IPY_MODEL_14e7d5b28439498fa233feb5ce0e6678",
       "value": 0.001
      }
     },
     "17d0c831a446482f96a162692999c98d": {
      "model_module": "@jupyter-widgets/base",
      "model_module_version": "2.0.0",
      "model_name": "LayoutModel",
      "state": {}
     },
     "17f18a32bac544fb8700ccd4a42b3d2c": {
      "model_module": "@jupyter-widgets/controls",
      "model_module_version": "2.0.0",
      "model_name": "FloatSliderModel",
      "state": {
       "behavior": "drag-tap",
       "description": "Flow Q (m³/s)",
       "layout": "IPY_MODEL_441c865f7762417b914dc4ca3620fc7a",
       "min": 1,
       "style": "IPY_MODEL_40d8817d48684ef997953a9839b92b1e",
       "value": 20.000000000000004
      }
     },
     "1e9ab98e067845a39f7c3e1d7cec6330": {
      "model_module": "@jupyter-widgets/controls",
      "model_module_version": "2.0.0",
      "model_name": "DropdownModel",
      "state": {
       "_options_labels": [
        "upstream",
        "downstream"
       ],
       "description": "direction",
       "index": 0,
       "layout": "IPY_MODEL_95f1a872c91e4c34bb166369fee81afb",
       "style": "IPY_MODEL_72e59afc9e0f4951afea931b394a4940"
      }
     },
     "228a882efa944abbb0592086c1fe0770": {
      "model_module": "@jupyter-widgets/controls",
      "model_module_version": "2.0.0",
      "model_name": "FloatSliderModel",
      "state": {
       "behavior": "drag-tap",
       "description": "Starting Depth (m)",
       "layout": "IPY_MODEL_57a20ea87276494fa76f8d7a0dcb70ec",
       "max": 6,
       "min": 0.5,
       "step": 0.1,
       "style": "IPY_MODEL_bde052603ae34508a455062abc795d34",
       "value": 2.5
      }
     },
     "2804c829b0c545e2a970a4934efe539d": {
      "model_module": "@jupyter-widgets/controls",
      "model_module_version": "2.0.0",
      "model_name": "SliderStyleModel",
      "state": {
       "description_width": "150px"
      }
     },
     "2ceed29fb79544589599383abb0d6bb3": {
      "model_module": "@jupyter-widgets/base",
      "model_module_version": "2.0.0",
      "model_name": "LayoutModel",
      "state": {}
     },
     "2db310173c00455fac400e699edecbb9": {
      "model_module": "@jupyter-widgets/base",
      "model_module_version": "2.0.0",
      "model_name": "LayoutModel",
      "state": {}
     },
     "316e2452e9ca4671845c73315dbb0f8e": {
      "model_module": "@jupyter-widgets/controls",
      "model_module_version": "2.0.0",
      "model_name": "SliderStyleModel",
      "state": {
       "description_width": "150px"
      }
     },
     "346788ddc2674eb69ef6e1096ad79d09": {
      "model_module": "@jupyter-widgets/output",
      "model_module_version": "1.0.0",
      "model_name": "OutputModel",
      "state": {
       "layout": "IPY_MODEL_e03b2b6fa02b4119b0621bff83e87260",
       "outputs": [
        {
         "name": "stdout",
         "output_type": "stream",
         "text": "🔎 Slope Type: Mild\n📐 Normal Depth: 3.066 m\n📐 Critical Depth: 1.177 m\n📍 Starting Depth: 2.500 m\n🎯 Target Depth: 1.500 m\n🧭 Flow Direction: downstream\n📏 Estimated Distance to Target Depth: 571.6 m\n"
        }
       ]
      }
     },
     "3cdfd51090eb4c21a849c532ff063555": {
      "model_module": "@jupyter-widgets/base",
      "model_module_version": "2.0.0",
      "model_name": "LayoutModel",
      "state": {}
     },
     "40d8817d48684ef997953a9839b92b1e": {
      "model_module": "@jupyter-widgets/controls",
      "model_module_version": "2.0.0",
      "model_name": "SliderStyleModel",
      "state": {
       "description_width": "150px"
      }
     },
     "441c865f7762417b914dc4ca3620fc7a": {
      "model_module": "@jupyter-widgets/base",
      "model_module_version": "2.0.0",
      "model_name": "LayoutModel",
      "state": {}
     },
     "5170acf9f7ed48dfbcfde6489ead7402": {
      "model_module": "@jupyter-widgets/base",
      "model_module_version": "2.0.0",
      "model_name": "LayoutModel",
      "state": {}
     },
     "55ce533d3d3d473fa5d7efce0d008a62": {
      "model_module": "@jupyter-widgets/base",
      "model_module_version": "2.0.0",
      "model_name": "LayoutModel",
      "state": {}
     },
     "57a20ea87276494fa76f8d7a0dcb70ec": {
      "model_module": "@jupyter-widgets/base",
      "model_module_version": "2.0.0",
      "model_name": "LayoutModel",
      "state": {
       "width": "400px"
      }
     },
     "594b417e437e4f868e2041c034d67325": {
      "model_module": "@jupyter-widgets/controls",
      "model_module_version": "2.0.0",
      "model_name": "SliderStyleModel",
      "state": {
       "description_width": "150px"
      }
     },
     "59c0b62ac1b64fa7b40bfdef699a0143": {
      "model_module": "@jupyter-widgets/controls",
      "model_module_version": "2.0.0",
      "model_name": "SliderStyleModel",
      "state": {
       "description_width": "160px"
      }
     },
     "5a065a79f8df4189baf81cea11c3adcc": {
      "model_module": "@jupyter-widgets/controls",
      "model_module_version": "2.0.0",
      "model_name": "DescriptionStyleModel",
      "state": {
       "description_width": ""
      }
     },
     "5cfc4b1c8ada4d02b94c781ee1c1658c": {
      "model_module": "@jupyter-widgets/output",
      "model_module_version": "1.0.0",
      "model_name": "OutputModel",
      "state": {
       "layout": "IPY_MODEL_aa35c331901f4f4ab2c9cc1b195383fc",
       "outputs": [
        {
         "name": "stdout",
         "output_type": "stream",
         "text": "📏 Estimated Depth at 101.0 m (upstream): 2.60 m\n"
        }
       ]
      }
     },
     "6d3f0c2799794e0cbc86642d3e26d4eb": {
      "model_module": "@jupyter-widgets/base",
      "model_module_version": "2.0.0",
      "model_name": "LayoutModel",
      "state": {}
     },
     "6e1cc1c018004800b7838ba1e5e8b26c": {
      "model_module": "@jupyter-widgets/controls",
      "model_module_version": "2.0.0",
      "model_name": "FloatSliderModel",
      "state": {
       "behavior": "drag-tap",
       "description": "Start Depth (m)",
       "layout": "IPY_MODEL_ca59794b26df417b98853dae9ef963da",
       "max": 5,
       "min": 0.5,
       "step": 0.1,
       "style": "IPY_MODEL_03089961b7de4e7e88144ca080a832d4",
       "value": 2.5
      }
     },
     "72e59afc9e0f4951afea931b394a4940": {
      "model_module": "@jupyter-widgets/controls",
      "model_module_version": "2.0.0",
      "model_name": "DescriptionStyleModel",
      "state": {
       "description_width": ""
      }
     },
     "79a1b19fdef8446fade79d35636e4fd3": {
      "model_module": "@jupyter-widgets/base",
      "model_module_version": "2.0.0",
      "model_name": "LayoutModel",
      "state": {}
     },
     "8875fd5eb1154cc0868aa15d077e08e2": {
      "model_module": "@jupyter-widgets/base",
      "model_module_version": "2.0.0",
      "model_name": "LayoutModel",
      "state": {}
     },
     "8ea23bfde0024b96bc7ac13f521ef4f8": {
      "model_module": "@jupyter-widgets/base",
      "model_module_version": "2.0.0",
      "model_name": "LayoutModel",
      "state": {}
     },
     "8edcc08e86fb4f0e9d35c7645be281f5": {
      "model_module": "@jupyter-widgets/controls",
      "model_module_version": "2.0.0",
      "model_name": "SliderStyleModel",
      "state": {
       "description_width": "150px"
      }
     },
     "9250141ad5ed4b1a81e42b65f33f06cd": {
      "model_module": "@jupyter-widgets/base",
      "model_module_version": "2.0.0",
      "model_name": "LayoutModel",
      "state": {}
     },
     "954fdb60f14b4a68ae288b71763ff1c3": {
      "model_module": "@jupyter-widgets/output",
      "model_module_version": "1.0.0",
      "model_name": "OutputModel",
      "state": {
       "layout": "IPY_MODEL_e5eff10e84db439795432c7df2314296",
       "outputs": [
        {
         "name": "stdout",
         "output_type": "stream",
         "text": "📏 Estimated Depth at 101.0 m (upstream): 2.60 m\n"
        }
       ]
      }
     },
     "95f1a872c91e4c34bb166369fee81afb": {
      "model_module": "@jupyter-widgets/base",
      "model_module_version": "2.0.0",
      "model_name": "LayoutModel",
      "state": {}
     },
     "95fed52b3eb6416dbd38900b8d1be882": {
      "model_module": "@jupyter-widgets/controls",
      "model_module_version": "2.0.0",
      "model_name": "FloatSliderModel",
      "state": {
       "behavior": "drag-tap",
       "description": "Distance (m)",
       "layout": "IPY_MODEL_6d3f0c2799794e0cbc86642d3e26d4eb",
       "max": 1000,
       "min": 1,
       "step": 5,
       "style": "IPY_MODEL_bbf8a807c4c9481ca74adcbcd4ba2ece",
       "value": 101
      }
     },
     "97bbbb16cbfa4223be8a5161d9c29a72": {
      "model_module": "@jupyter-widgets/controls",
      "model_module_version": "2.0.0",
      "model_name": "FloatSliderModel",
      "state": {
       "behavior": "drag-tap",
       "description": "Channel Width (m)",
       "layout": "IPY_MODEL_57a20ea87276494fa76f8d7a0dcb70ec",
       "max": 20,
       "min": 1,
       "step": 0.5,
       "style": "IPY_MODEL_ef0cb20cb95c48b78eb3bacc03807f54",
       "value": 5
      }
     },
     "9991e25de500464aa3a5d7a5ba0a1652": {
      "model_module": "@jupyter-widgets/controls",
      "model_module_version": "2.0.0",
      "model_name": "FloatSliderModel",
      "state": {
       "behavior": "drag-tap",
       "description": "Manning n",
       "layout": "IPY_MODEL_55ce533d3d3d473fa5d7efce0d008a62",
       "max": 0.06,
       "min": 0.01,
       "step": 0.001,
       "style": "IPY_MODEL_2804c829b0c545e2a970a4934efe539d",
       "value": 0.03
      }
     },
     "99c5dd97649d40d1be17194bcdd60d1a": {
      "model_module": "@jupyter-widgets/controls",
      "model_module_version": "2.0.0",
      "model_name": "FloatSliderModel",
      "state": {
       "behavior": "drag-tap",
       "description": "Channel Width (m)",
       "layout": "IPY_MODEL_2ceed29fb79544589599383abb0d6bb3",
       "max": 20,
       "min": 1,
       "step": 0.5,
       "style": "IPY_MODEL_bec6822474fd4e5d88f30081ca577dcc",
       "value": 5
      }
     },
     "9aaca2e36575467ab4b4d03784602051": {
      "model_module": "@jupyter-widgets/base",
      "model_module_version": "2.0.0",
      "model_name": "LayoutModel",
      "state": {}
     },
     "9ca01dd57f8f4bb5b0d60638c671158e": {
      "model_module": "@jupyter-widgets/controls",
      "model_module_version": "2.0.0",
      "model_name": "FloatSliderModel",
      "state": {
       "behavior": "drag-tap",
       "description": "Bed Slope S₀",
       "layout": "IPY_MODEL_9aaca2e36575467ab4b4d03784602051",
       "max": 0.01,
       "min": 0.0001,
       "step": 0.0001,
       "style": "IPY_MODEL_f83f43ef451b4e389d4238eeb75f9fa9",
       "value": 0.001
      }
     },
     "a11f0ab6fc9642a28503d1518bc8d8d8": {
      "model_module": "@jupyter-widgets/controls",
      "model_module_version": "2.0.0",
      "model_name": "DropdownModel",
      "state": {
       "_options_labels": [
        "upstream",
        "downstream"
       ],
       "description": "direction",
       "index": 0,
       "layout": "IPY_MODEL_8875fd5eb1154cc0868aa15d077e08e2",
       "style": "IPY_MODEL_5a065a79f8df4189baf81cea11c3adcc"
      }
     },
     "a39676d34cc4478381b92ef4561a0e8b": {
      "model_module": "@jupyter-widgets/controls",
      "model_module_version": "2.0.0",
      "model_name": "SliderStyleModel",
      "state": {
       "description_width": "160px"
      }
     },
     "a5a5e4ec66744c04871550d9764cb860": {
      "model_module": "@jupyter-widgets/controls",
      "model_module_version": "2.0.0",
      "model_name": "FloatSliderModel",
      "state": {
       "behavior": "drag-tap",
       "description": "Start Depth (m)",
       "layout": "IPY_MODEL_79a1b19fdef8446fade79d35636e4fd3",
       "max": 5,
       "min": 0.5,
       "step": 0.1,
       "style": "IPY_MODEL_316e2452e9ca4671845c73315dbb0f8e",
       "value": 2.5
      }
     },
     "a619b75e68954eeab1e226665f8a65a1": {
      "model_module": "@jupyter-widgets/controls",
      "model_module_version": "2.0.0",
      "model_name": "SliderStyleModel",
      "state": {
       "description_width": "150px"
      }
     },
     "aa35c331901f4f4ab2c9cc1b195383fc": {
      "model_module": "@jupyter-widgets/base",
      "model_module_version": "2.0.0",
      "model_name": "LayoutModel",
      "state": {}
     },
     "bbf8a807c4c9481ca74adcbcd4ba2ece": {
      "model_module": "@jupyter-widgets/controls",
      "model_module_version": "2.0.0",
      "model_name": "SliderStyleModel",
      "state": {
       "description_width": "150px"
      }
     },
     "bde052603ae34508a455062abc795d34": {
      "model_module": "@jupyter-widgets/controls",
      "model_module_version": "2.0.0",
      "model_name": "SliderStyleModel",
      "state": {
       "description_width": "160px"
      }
     },
     "bec6822474fd4e5d88f30081ca577dcc": {
      "model_module": "@jupyter-widgets/controls",
      "model_module_version": "2.0.0",
      "model_name": "SliderStyleModel",
      "state": {
       "description_width": "150px"
      }
     },
     "c8d0ede96adb42c6b94678ff70bd1ac9": {
      "model_module": "@jupyter-widgets/controls",
      "model_module_version": "2.0.0",
      "model_name": "FloatSliderModel",
      "state": {
       "behavior": "drag-tap",
       "description": "Flow Q (m³/s)",
       "layout": "IPY_MODEL_57a20ea87276494fa76f8d7a0dcb70ec",
       "min": 1,
       "style": "IPY_MODEL_e2c787b78b23436f8f32b6967f0057a9",
       "value": 20.000000000000004
      }
     },
     "ca4019e8bf1f40d8a3766973f42d3672": {
      "model_module": "@jupyter-widgets/controls",
      "model_module_version": "2.0.0",
      "model_name": "VBoxModel",
      "state": {
       "_dom_classes": [
        "widget-interact"
       ],
       "children": [
        "IPY_MODEL_e05b80dff35347848a1e4b40ea63b346",
        "IPY_MODEL_09c6b5e34ce743bebc7c297344519bf6",
        "IPY_MODEL_9ca01dd57f8f4bb5b0d60638c671158e",
        "IPY_MODEL_cecc470df2994bec8be8697b3447d879",
        "IPY_MODEL_6e1cc1c018004800b7838ba1e5e8b26c",
        "IPY_MODEL_95fed52b3eb6416dbd38900b8d1be882",
        "IPY_MODEL_1e9ab98e067845a39f7c3e1d7cec6330",
        "IPY_MODEL_954fdb60f14b4a68ae288b71763ff1c3"
       ],
       "layout": "IPY_MODEL_2db310173c00455fac400e699edecbb9"
      }
     },
     "ca59794b26df417b98853dae9ef963da": {
      "model_module": "@jupyter-widgets/base",
      "model_module_version": "2.0.0",
      "model_name": "LayoutModel",
      "state": {}
     },
     "cecc470df2994bec8be8697b3447d879": {
      "model_module": "@jupyter-widgets/controls",
      "model_module_version": "2.0.0",
      "model_name": "FloatSliderModel",
      "state": {
       "behavior": "drag-tap",
       "description": "Manning n",
       "layout": "IPY_MODEL_8ea23bfde0024b96bc7ac13f521ef4f8",
       "max": 0.06,
       "min": 0.01,
       "step": 0.001,
       "style": "IPY_MODEL_ea30d44335364293b0c9c30282b5835b",
       "value": 0.03
      }
     },
     "dd96ab473f194e4488f33315fc1b91ae": {
      "model_module": "@jupyter-widgets/controls",
      "model_module_version": "2.0.0",
      "model_name": "SliderStyleModel",
      "state": {
       "description_width": "150px"
      }
     },
     "e03b2b6fa02b4119b0621bff83e87260": {
      "model_module": "@jupyter-widgets/base",
      "model_module_version": "2.0.0",
      "model_name": "LayoutModel",
      "state": {}
     },
     "e05b80dff35347848a1e4b40ea63b346": {
      "model_module": "@jupyter-widgets/controls",
      "model_module_version": "2.0.0",
      "model_name": "FloatSliderModel",
      "state": {
       "behavior": "drag-tap",
       "description": "Flow Q (m³/s)",
       "layout": "IPY_MODEL_e12192a10fc742cab86c7b40cc41015d",
       "min": 1,
       "style": "IPY_MODEL_8edcc08e86fb4f0e9d35c7645be281f5",
       "value": 20.000000000000004
      }
     },
     "e12192a10fc742cab86c7b40cc41015d": {
      "model_module": "@jupyter-widgets/base",
      "model_module_version": "2.0.0",
      "model_name": "LayoutModel",
      "state": {}
     },
     "e2c787b78b23436f8f32b6967f0057a9": {
      "model_module": "@jupyter-widgets/controls",
      "model_module_version": "2.0.0",
      "model_name": "SliderStyleModel",
      "state": {
       "description_width": "160px"
      }
     },
     "e5eff10e84db439795432c7df2314296": {
      "model_module": "@jupyter-widgets/base",
      "model_module_version": "2.0.0",
      "model_name": "LayoutModel",
      "state": {}
     },
     "e63bb18473a84e2fbabac79bc95de23f": {
      "model_module": "@jupyter-widgets/controls",
      "model_module_version": "2.0.0",
      "model_name": "FloatSliderModel",
      "state": {
       "behavior": "drag-tap",
       "description": "Manning n",
       "layout": "IPY_MODEL_57a20ea87276494fa76f8d7a0dcb70ec",
       "max": 0.06,
       "min": 0.01,
       "step": 0.001,
       "style": "IPY_MODEL_a39676d34cc4478381b92ef4561a0e8b",
       "value": 0.03
      }
     },
     "e7c447a779b14f8e9c0bf348e207247f": {
      "model_module": "@jupyter-widgets/controls",
      "model_module_version": "2.0.0",
      "model_name": "FloatSliderModel",
      "state": {
       "behavior": "drag-tap",
       "description": "Bed Slope S₀",
       "layout": "IPY_MODEL_17d0c831a446482f96a162692999c98d",
       "max": 0.01,
       "min": 0.0001,
       "step": 0.0001,
       "style": "IPY_MODEL_dd96ab473f194e4488f33315fc1b91ae",
       "value": 0.001
      }
     },
     "e98a4df76e20427593ada9b67e989136": {
      "model_module": "@jupyter-widgets/base",
      "model_module_version": "2.0.0",
      "model_name": "LayoutModel",
      "state": {}
     },
     "ea30d44335364293b0c9c30282b5835b": {
      "model_module": "@jupyter-widgets/controls",
      "model_module_version": "2.0.0",
      "model_name": "SliderStyleModel",
      "state": {
       "description_width": "150px"
      }
     },
     "ef0cb20cb95c48b78eb3bacc03807f54": {
      "model_module": "@jupyter-widgets/controls",
      "model_module_version": "2.0.0",
      "model_name": "SliderStyleModel",
      "state": {
       "description_width": "160px"
      }
     },
     "f1908210ef3445c4b3486c1d9f207e90": {
      "model_module": "@jupyter-widgets/controls",
      "model_module_version": "2.0.0",
      "model_name": "VBoxModel",
      "state": {
       "_dom_classes": [
        "widget-interact"
       ],
       "children": [
        "IPY_MODEL_c8d0ede96adb42c6b94678ff70bd1ac9",
        "IPY_MODEL_97bbbb16cbfa4223be8a5161d9c29a72",
        "IPY_MODEL_e63bb18473a84e2fbabac79bc95de23f",
        "IPY_MODEL_17c268bc1c71497390a4b2b275778390",
        "IPY_MODEL_228a882efa944abbb0592086c1fe0770",
        "IPY_MODEL_f1981b21e2644d5b94051087ae93836c",
        "IPY_MODEL_346788ddc2674eb69ef6e1096ad79d09"
       ],
       "layout": "IPY_MODEL_e98a4df76e20427593ada9b67e989136"
      }
     },
     "f1981b21e2644d5b94051087ae93836c": {
      "model_module": "@jupyter-widgets/controls",
      "model_module_version": "2.0.0",
      "model_name": "FloatSliderModel",
      "state": {
       "behavior": "drag-tap",
       "description": "Target Depth (m)",
       "layout": "IPY_MODEL_57a20ea87276494fa76f8d7a0dcb70ec",
       "max": 6,
       "min": 0.5,
       "step": 0.1,
       "style": "IPY_MODEL_59c0b62ac1b64fa7b40bfdef699a0143",
       "value": 1.5
      }
     },
     "f83f43ef451b4e389d4238eeb75f9fa9": {
      "model_module": "@jupyter-widgets/controls",
      "model_module_version": "2.0.0",
      "model_name": "SliderStyleModel",
      "state": {
       "description_width": "150px"
      }
     }
    },
    "version_major": 2,
    "version_minor": 0
   }
  }
 },
 "nbformat": 4,
 "nbformat_minor": 5
}
