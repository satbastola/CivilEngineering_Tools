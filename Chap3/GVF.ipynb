{
 "cells": [
  {
   "cell_type": "markdown",
   "id": "89e08846-4d72-4fd0-9bf5-8e68afb7bbed",
   "metadata": {},
   "source": [
    "# Chapter 3 Hydraulics: GVF profile"
   ]
  },
  {
   "cell_type": "markdown",
   "id": "31622f59-ddab-4ac3-9fdc-a76d38bd4f37",
   "metadata": {},
   "source": [
    "1. [Introduction: Gradually Varied Flow](#1.-Introduction)\n",
    "2. [Simulation: Direct Step method](#2.-Simulation)\n",
    "3. [Simulation: Standard Step Method](#3.-Simulation)\n",
    "4. [Simulation: GVF Profile](#4.-Simulation)\n",
    "5. [Self-Assessment](#5.-Self-Assessment)"
   ]
  },
  {
   "cell_type": "markdown",
   "id": "32581dcd-62f7-42ff-9583-7121b5c55cbd",
   "metadata": {},
   "source": [
    "## 1. Introduction"
   ]
  },
  {
   "cell_type": "markdown",
   "id": "98138a99-6c21-41e5-8dbf-77c6c8fa4648",
   "metadata": {},
   "source": [
    "### 🌊 Gradually Varied Flow (GVF)\n",
    "\n",
    "### ✅ Definition\n",
    "\n",
    "**Gradually Varied Flow (GVF)** refers to non-uniform flow in open channels where the **depth of water changes slowly** over a long distance. Unlike uniform flow (constant depth) or rapidly varied flow (abrupt changes), GVF occurs when flow adjusts gradually due to changes in slope, channel geometry, or boundary conditions.\n",
    "\n",
    "Mathematically, GVF is governed by the **one-dimensional steady flow equation**:\n",
    "$$\n",
    "\\frac{dy}{dx} = \\frac{S_0 - S_f}{1 - Fr^2}\n",
    "$$\n",
    "Where:\n",
    "- $( y $): flow depth  \n",
    "- $( x $): longitudinal distance  \n",
    "- $( S_0 $): bed slope  \n",
    "- $( S_f $): friction slope  \n",
    "- $( Fr $): Froude number\n",
    "\n",
    "---\n",
    "\n",
    "### 📐 Importance of GVF in Hydraulic Engineering\n",
    "\n",
    "| Application Area              | Why GVF Matters                                                                 |\n",
    "|-------------------------------|----------------------------------------------------------------------------------|\n",
    "| **Channel Design**            | Determines water surface profiles and required freeboard                        |\n",
    "| **Floodplain Mapping**        | Predicts inundation extents and backwater effects                               |\n",
    "| **Bridge and Culvert Sizing** | Ensures accurate headwater and tailwater elevations                            |\n",
    "| **Reservoir and Weir Analysis**| Models flow transitions and control sections                                   |\n",
    "| **Environmental Flow Studies**| Assesses habitat conditions and flow depth variability                         |\n",
    "| **Hydraulic Modeling Tools**  | Used in HEC-RAS, SWMM, and other open-channel simulation software              |\n",
    "\n",
    "---\n",
    "\n",
    "### 🔍 Flow Profile Types in GVF\n",
    "\n",
    "- **M1, M2, M3**: Mild slope profiles  \n",
    "- **S1, S2, S3**: Steep slope profiles  \n",
    "- **C1, C2, C3**: Critical slope profiles  \n",
    "- Each profile type reflects how flow depth compares to normal and critical depth\n",
    "\n",
    "---\n",
    "\n",
    "### 🧠 Conceptual Insight\n",
    "\n",
    "> Gradually varied flow is the **realistic flow condition** in most natural and engineered channels.  \n",
    "> Understanding GVF is essential for predicting water surface elevations, designing safe infrastructure,  \n",
    "> and managing flood risks.\n",
    "\n",
    "---\n",
    "\n",
    "### 🌊 Solving Gradually Varied Flow (GVF) Profiles\n",
    "\n",
    "Gradually Varied Flow (GVF) occurs when flow depth changes slowly along the channel due to changes in slope, geometry, or boundary conditions. GVF profiles are solved using one of three main methods:\n",
    "\n",
    "---\n",
    "\n",
    "### 📘 Overview of GVF Solution Methods\n",
    "\n",
    "| Method              | Applicability             | What It Solves                     | Channel Type         |\n",
    "|---------------------|---------------------------|------------------------------------|----------------------|\n",
    "| **Direct Integration** | Analytical (limited cases) | Depth as a function of distance     | Simple prismatic     |\n",
    "| **Direct Step Method** | Numerical                | Distance between two known depths   | Prismatic channels   |\n",
    "| **Standard Step Method**| Numerical               | Depth at a given location           | Natural/irregular    |\n",
    "\n",
    "---\n",
    "\n",
    "### 📐 1. Direct Integration Method\n",
    "\n",
    "#### ✅ Applicability\n",
    "- Only for simple prismatic channels with known analytical expressions\n",
    "- Assumes friction slope $( S_f $) is a function of depth\n",
    "\n",
    "#### 🔣 Governing Equation\n",
    "$$\n",
    "\\frac{dy}{dx} = \\frac{S_0 - S_f(y)}{1 - Fr^2}\n",
    "$$\n",
    "\n",
    "#### 🧮 Solution Steps\n",
    "1. Express $( S_f $) and $( Fr $) as functions of $( y $)\n",
    "2. Rearrange and integrate:\n",
    "   $$\n",
    "   x = \\int_{y_1}^{y_2} \\frac{1 - Fr^2}{S_0 - S_f(y)} \\, dy\n",
    "   $$\n",
    "3. Solve analytically or numerically\n",
    "\n",
    "---\n",
    "\n",
    "### 📐 2. Direct Step Method\n",
    "\n",
    "#### ✅ Applicability\n",
    "- Prismatic channels with constant cross-section\n",
    "- Used to compute **distance between two known depths**\n",
    "\n",
    "#### 🔣 Energy Equation\n",
    "$$\n",
    "\\Delta x = \\frac{E_2 - E_1}{S_0 - \\bar{S_f}}\n",
    "$$\n",
    "\n",
    "Where:\n",
    "- $( E = y + \\frac{V^2}{2g} $): specific energy  \n",
    "- $( \\bar{S_f} $): average friction slope between two sections\n",
    "\n",
    "#### 🧮 Solution Steps\n",
    "1. Choose two depths $( y_1 $) and $( y_2 $)\n",
    "2. Compute velocities $( V_1, V_2 $) and energies $( E_1, E_2 $)\n",
    "3. Calculate friction slopes $( S_{f1}, S_{f2} $)\n",
    "4. Compute average slope $( \\bar{S_f} = \\frac{S_{f1} + S_{f2}}{2} $)\n",
    "5. Solve for $( \\Delta x $)\n",
    "\n",
    "\n",
    "### Applications\n",
    "\n",
    "| Scenario                        | Why Use Direct Step Method                              |\n",
    "|--------------------------------|----------------------------------------------------------|\n",
    "| Channel Transitions            | To find length needed between two depth control points  |\n",
    "| Backwater Profile Analysis     | For flow upstream of dams, weirs, or sluice gates       |\n",
    "| Subcritical Flow Evaluation    | Common in mild slope channels and canals                |\n",
    "| Flood Routing                  | Estimate water surface elevation changes with distance  |\n",
    "\n",
    "---\n",
    "\n",
    "### Advantages\n",
    "\n",
    "- Simple and direct for prismatic channels\n",
    "- Efficient for computing the profile segment between fixed depths\n",
    "- Compatible with manual or spreadsheet implementation\n",
    "\n",
    "\n",
    "---\n",
    "\n",
    "### 📐 3. Standard Step Method\n",
    "\n",
    "#### ✅ Applicability\n",
    "- Natural channels with varying geometry\n",
    "- Used to compute **depth at a given location**\n",
    "\n",
    "### Applications of GVF Using Standard Step Method\n",
    "\n",
    "| Application                        | Use Case                                                    |\n",
    "|------------------------------------|-------------------------------------------------------------|\n",
    "| River Backwater Analysis           | Determine upstream impacts due to dam or obstruction       |\n",
    "| Channel Design                     | Predict water surface elevation profile for canal slopes   |\n",
    "| Floodplain Mapping                 | Simulate elevated flow profiles for flood risk zones       |\n",
    "| Hydraulic Jump Location            | Identify where critical transitions occur                  |\n",
    "| Irrigation and Drainage Modeling   | Optimize slope and depth profiles for efficient flow       |\n",
    "| Stormwater Infrastructure          | Analyze detention basin outflow and flow depth variations  |\n",
    "\n",
    "\n",
    "\n",
    "#### 🔣 Energy Equation\n",
    "$$\n",
    "E_1 + z_1 = E_2 + z_2 + h_L\n",
    "$$\n",
    "\n",
    "Where:\n",
    "- $( E = y + \\frac{V^2}{2g} $): specific energy  \n",
    "- $( z $): bed elevation  \n",
    "- $( h_L = \\bar{S_f} \\cdot \\Delta x $): head loss due to friction\n",
    "\n",
    "#### 🧮 Solution Steps\n",
    "1. Assume downstream depth $( y_2 $)\n",
    "2. Compute velocity $( V_2 $), energy $( E_2 $)\n",
    "3. Estimate upstream depth $( y_1 $)\n",
    "4. Compute $( V_1, E_1 $), and head loss $( h_L $)\n",
    "5. Check energy balance:\n",
    "   $$\n",
    "   E_1 + z_1 \\overset{?}{=} E_2 + z_2 + h_L\n",
    "   $$\n",
    "6. Iterate until energy equation is satisfied\n",
    "\n",
    "---\n",
    "\n",
    "## 🧠 Conceptual Insight\n",
    "\n",
    "> Each method offers a different approach to solving GVF profiles depending on channel complexity, available data, and modeling goals.  \n",
    "> Direct Step is efficient for uniform channels, while Standard Step handles real-world variability.\n",
    "\n",
    "---\n",
    "\n",
    "## ❓ Quiz Questions\n",
    "\n",
    "1. What does the Direct Step Method compute?\n",
    "2. Why is the Standard Step Method preferred for natural channels?\n",
    "3. What is the role of specific energy in GVF analysis?\n",
    "4. How is friction slope estimated in these methods?\n",
    "5. Which method requires iteration to satisfy energy balance?\n",
    "6. What distinguishes gradually varied flow from uniform flow?\n",
    "7. Why is GVF important for floodplain mapping?\n",
    "8. What does the GVF equation describe?\n",
    "9. How does channel slope affect GVF profiles?\n"
   ]
  },
  {
   "cell_type": "markdown",
   "id": "03f17389-a347-4d67-977a-6f0e930ea2cd",
   "metadata": {},
   "source": [
    "## 2. Simulation"
   ]
  },
  {
   "cell_type": "markdown",
   "id": "47f68f1e-33bf-4d54-83c9-d0ae145f1e01",
   "metadata": {},
   "source": [
    "### 🌊 Direct Step Method – GVF Simulation Tool\n",
    "\n",
    "This interactive tool estimates the **distance required for flow to transition** between two depths in a **rectangular open channel** using the **Direct Step Method**. It also computes **normal depth**, **critical depth**, and classifies the slope type.\n",
    "\n",
    "---\n",
    "\n",
    "### ✅ What the Code Does\n",
    "\n",
    "| Component              | Description                                                                 |\n",
    "|------------------------|-----------------------------------------------------------------------------|\n",
    "| **Normal Depth**       | Solves Manning’s equation iteratively to find depth for given flow          |\n",
    "| **Critical Depth**     | Uses analytical formula for rectangular channels                            |\n",
    "| **Slope Classification**| Compares normal and critical depth to classify slope as mild, steep, or critical |\n",
    "| **Direct Step Method** | Computes distance between starting and target depths using energy balance   |\n",
    "| **Interactive Controls**| Sliders for flow, channel width, Manning’s n, slope, and depth inputs       |\n",
    "| **Output Summary**     | Displays slope type, depths, flow direction, and estimated distance          |\n",
    "\n",
    "---\n",
    "\n",
    "### ▶️ How It Works\n",
    "\n",
    "- **Normal Depth**:  \n",
    "  Iteratively solves Manning’s equation:\n",
    "  $$\n",
    "  Q = \\frac{1}{n} A R^{2/3} S_0^{1/2}\n",
    "  $$\n",
    "\n",
    "- **Critical Depth**:  \n",
    "  Uses:\n",
    "  $$\n",
    "  h_c = \\left( \\frac{Q^2}{b^2 g} \\right)^{1/3}\n",
    "  $$\n",
    "\n",
    "- **Direct Step Method**:  \n",
    "  Applies energy equation:\n",
    "  $$\n",
    "  \\Delta x = \\frac{E_2 - E_1}{S_0 - \\bar{S_f}}\n",
    "  $$\n",
    "  where $( E = y + \\frac{V^2}{2g} $)\n",
    "\n",
    "- **Flow Direction**:  \n",
    "  Determined based on slope type and depth transition\n",
    "\n",
    "---\n",
    "\n",
    "### 📊 How to Interpret the Results\n",
    "\n",
    "- **Slope Type**:  \n",
    "  - Mild: \\( h_n > h_c \\)  \n",
    "  - Steep: \\( h_n < h_c \\)  \n",
    "  - Critical: \\( h_n = h_c \\)\n",
    "\n",
    "- **Flow Direction**:  \n",
    "  Indicates whether flow transitions upstream or downstream\n",
    "\n",
    "- **Estimated Distance**:  \n",
    "  Length of channel required for flow to adjust from starting to target depth\n",
    "\n",
    "- **Use Cases**:  \n",
    "  - Channel design  \n",
    "  - Backwater profile estimation  \n",
    "  - Hydraulic structure placement\n",
    "\n",
    "---\n",
    "\n",
    "### 🧠 Conceptual Insight\n",
    "\n",
    "> The Direct Step Method links flow depth changes to energy gradients,  \n",
    "> helping engineers design channels that safely convey water under varying conditions.\n"
   ]
  },
  {
   "cell_type": "code",
   "execution_count": 4,
   "id": "7eed52c6-2912-4e41-ae80-62f2704341e4",
   "metadata": {},
   "outputs": [
    {
     "data": {
      "application/vnd.jupyter.widget-view+json": {
       "model_id": "66c4a879cace4e169b1e95a90b4848ae",
       "version_major": 2,
       "version_minor": 0
      },
      "text/plain": [
       "interactive(children=(FloatSlider(value=20.0, description='Flow Q (m³/s)', layout=Layout(width='400px'), min=1…"
      ]
     },
     "metadata": {},
     "output_type": "display_data"
    }
   ],
   "source": [
    "# Direct step method\n",
    "import numpy as np\n",
    "import ipywidgets as widgets\n",
    "from IPython.display import display, clear_output\n",
    "from ipywidgets import interact\n",
    "\n",
    "# 📐 Manning's equation for normal depth (rectangular channel)\n",
    "def compute_normal_depth(Q, b, n, So):\n",
    "    def area(h): return b * h\n",
    "    def perimeter(h): return b + 2 * h\n",
    "    def hydraulic_radius(h): return area(h) / perimeter(h)\n",
    "    def velocity(h): return (1 / n) * hydraulic_radius(h)**(2/3) * So**0.5\n",
    "    def discharge(h): return velocity(h) * area(h)\n",
    "\n",
    "    h = 0.1\n",
    "    for _ in range(1000):\n",
    "        f = discharge(h) - Q\n",
    "        df = (discharge(h + 0.001) - discharge(h)) / 0.001\n",
    "        h_new = h - f / df\n",
    "        if abs(h_new - h) < 1e-6:\n",
    "            break\n",
    "        h = h_new\n",
    "    return round(h, 3)\n",
    "\n",
    "# 📐 Critical depth for rectangular channel\n",
    "def compute_critical_depth(Q, b):\n",
    "    g = 9.81\n",
    "    h = (Q**2 / b**2 / g)**(1/3)\n",
    "    return round(h, 3)\n",
    "\n",
    "# 🧮 Direct Step Method to find distance to target depth\n",
    "def direct_step(Q, b, n, So, h_start, h_target, steps=100):\n",
    "    g = 9.81\n",
    "    dx_total = 0\n",
    "    direction = \"downstream\" if h_target < h_start else \"upstream\"\n",
    "    h = h_start\n",
    "    dh = (h_target - h_start) / steps\n",
    "\n",
    "    for _ in range(steps):\n",
    "        A = b * h\n",
    "        P = b + 2 * h\n",
    "        R = A / P\n",
    "        V = Q / A\n",
    "        E = h + V**2 / (2 * g)\n",
    "        Sf = (V * n / R**(2/3))**2\n",
    "        dx = dh / (So - Sf) if So != Sf else 0\n",
    "        dx_total += abs(dx)\n",
    "        h += dh\n",
    "\n",
    "    return round(dx_total, 1), direction\n",
    "\n",
    "# 🌊 Main function\n",
    "def simulate_gvf(Q, b, n, So, h_start, h_target):\n",
    "    clear_output(wait=True)\n",
    "\n",
    "    h_normal = compute_normal_depth(Q, b, n, So)\n",
    "    h_critical = compute_critical_depth(Q, b)\n",
    "\n",
    "    # 🔍 Classify slope\n",
    "    slope_type = \"Steep\" if h_normal < h_critical else \"Mild\" if h_normal > h_critical else \"Critical\"\n",
    "\n",
    "    # 🔁 Decide direction based on slope and flow regime\n",
    "    if slope_type == \"Mild\":\n",
    "        direction = \"upstream\" if h_target > h_normal else \"downstream\"\n",
    "    elif slope_type == \"Steep\":\n",
    "        direction = \"downstream\" if h_target < h_normal else \"upstream\"\n",
    "    else:\n",
    "        direction = \"downstream\"  # assume normal depth flows downstream\n",
    "\n",
    "    # 🧮 Compute distance\n",
    "    dx, flow_dir = direct_step(Q, b, n, So, h_start, h_target)\n",
    "\n",
    "    # 📋 Output\n",
    "    print(f\"🔎 Slope Type: {slope_type}\")\n",
    "    print(f\"📐 Normal Depth: {h_normal:.3f} m\")\n",
    "    print(f\"📐 Critical Depth: {h_critical:.3f} m\")\n",
    "    print(f\"📍 Starting Depth: {h_start:.3f} m\")\n",
    "    print(f\"🎯 Target Depth: {h_target:.3f} m\")\n",
    "    print(f\"🧭 Flow Direction: {flow_dir}\")\n",
    "    print(f\"📏 Estimated Distance to Target Depth: {dx:.1f} m\")\n",
    "\n",
    "# 🎛️ Interactive controls\n",
    "style = {'description_width': '160px'}\n",
    "layout = widgets.Layout(width='400px')\n",
    "\n",
    "interact(simulate_gvf,\n",
    "         Q=widgets.FloatSlider(value=20, min=1, max=100, step=1, description='Flow Q (m³/s)', style=style, layout=layout),\n",
    "         b=widgets.FloatSlider(value=5, min=1, max=20, step=0.5, description='Channel Width (m)', style=style, layout=layout),\n",
    "         n=widgets.FloatSlider(value=0.03, min=0.01, max=0.06, step=0.001, description='Manning n', style=style, layout=layout),\n",
    "         So=widgets.FloatSlider(value=0.001, min=0.0001, max=0.01, step=0.0001, description='Bed Slope S₀', style=style, layout=layout),\n",
    "         h_start=widgets.FloatSlider(value=2.5, min=0.5, max=6.0, step=0.1, description='Starting Depth (m)', style=style, layout=layout),\n",
    "         h_target=widgets.FloatSlider(value=1.5, min=0.5, max=6.0, step=0.1, description='Target Depth (m)', style=style, layout=layout));"
   ]
  },
  {
   "cell_type": "markdown",
   "id": "17b22211-8157-4667-8fd4-4bc1685e4590",
   "metadata": {},
   "source": [
    "## 3. Simulation"
   ]
  },
  {
   "cell_type": "markdown",
   "id": "fb2c3bfa-f7b6-4761-b57f-149752fe0fe0",
   "metadata": {},
   "source": [
    "### 🌊 Standard Step Method – Depth Estimation Tool\n",
    "\n",
    "This interactive tool estimates the **flow depth at a specified distance** along a **rectangular open channel** using the **Standard Step Method**, simulating gradually varied flow (GVF).\n",
    "\n",
    "---\n",
    "\n",
    "#### ✅ What the Code Does\n",
    "\n",
    "| Component              | Description                                                                 |\n",
    "|------------------------|-----------------------------------------------------------------------------|\n",
    "| **Depth Estimation**   | Computes flow depth at a target location using energy balance               |\n",
    "| **Hydraulic Parameters**| Calculates area, velocity, hydraulic radius, energy, and friction slope    |\n",
    "| **Energy Equation**    | Applies: \\( \\Delta x = \\frac{E_2 - E_1}{S_0 - \\bar{S_f}} \\)                  |\n",
    "| **Interactive Inputs** | Sliders for flow rate, channel width, slope, Manning’s n, start depth, distance, and direction |\n",
    "| **Output**             | Displays estimated depth and flow direction at the specified location       |\n",
    "\n",
    "---\n",
    "\n",
    "#### ▶️ How It Works\n",
    "\n",
    "- Iteratively adjusts depth in the specified direction (upstream/downstream)\n",
    "- Computes energy and friction slope at each step\n",
    "- Accumulates distance until target is reached\n",
    "- Returns final depth estimate\n",
    "\n",
    "---\n",
    "\n",
    "#### 📊 How to Interpret the Result\n",
    "\n",
    "| Output Parameter       | Meaning                                                                     |\n",
    "|------------------------|------------------------------------------------------------------------------|\n",
    "| **Estimated Depth**    | Flow depth at the specified distance                                         |\n",
    "| **Direction**          | Indicates whether flow is simulated upstream or downstream                  |\n",
    "| **Use Cases**          | Channel design, backwater analysis, hydraulic structure placement           |\n",
    "\n",
    "---\n",
    "\n",
    "#### 🧠 Conceptual Insight\n",
    "\n",
    "> The Standard Step Method models how flow depth evolves along a channel,  \n",
    "> helping engineers design safe and efficient hydraulic systems under non-uniform flow conditions."
   ]
  },
  {
   "cell_type": "code",
   "execution_count": 5,
   "id": "91906372-2d75-4960-b0f7-92c668eede2d",
   "metadata": {},
   "outputs": [
    {
     "data": {
      "application/vnd.jupyter.widget-view+json": {
       "model_id": "7201f7d622584d2ca51c17893e30f9a4",
       "version_major": 2,
       "version_minor": 0
      },
      "text/plain": [
       "interactive(children=(FloatSlider(value=20.0, description='Flow Q (m³/s)', min=1.0, step=1.0, style=SliderStyl…"
      ]
     },
     "metadata": {},
     "output_type": "display_data"
    }
   ],
   "source": [
    "import numpy as np\n",
    "import matplotlib.pyplot as plt\n",
    "from ipywidgets import FloatSlider, IntSlider, interact\n",
    "\n",
    "g = 9.81  # gravitational acceleration (m/s²)\n",
    "\n",
    "# ⚙️ Rectangular channel hydraulics\n",
    "def area(h, b): return b * h\n",
    "def wetted_perimeter(h, b): return b + 2 * h\n",
    "def hydraulic_radius(h, b): return area(h, b) / wetted_perimeter(h, b)\n",
    "def velocity(h, b, Q): return Q / area(h, b)\n",
    "def manning_slope(h, b, Q, n): return (Q * n / (area(h, b) * hydraulic_radius(h, b)**(2/3)))**2\n",
    "def energy(h, b, Q): return h + velocity(h, b, Q)**2 / (2 * g)\n",
    "\n",
    "# 📍 Compute depth at specified distance using standard step method\n",
    "def compute_depth_at_distance(Q, b, So, n, h_start, distance_target, direction='upstream', dx=5):\n",
    "    h = h_start\n",
    "    x = 0\n",
    "\n",
    "    while x < distance_target:\n",
    "        h_trial = h + 0.1 if direction == 'upstream' else h - 0.1\n",
    "\n",
    "        Sf1 = manning_slope(h, b, Q, n)\n",
    "        Sf2 = manning_slope(h_trial, b, Q, n)\n",
    "        E1 = energy(h, b, Q)\n",
    "        E2 = energy(h_trial, b, Q)\n",
    "        delta_E = E2 - E1\n",
    "        S_avg = (Sf1 + Sf2) / 2\n",
    "\n",
    "        delta_x = delta_E / (So - S_avg) if (So - S_avg) != 0 else dx\n",
    "        dx = abs(delta_x)\n",
    "\n",
    "        h = h_trial\n",
    "        x += dx\n",
    "\n",
    "        if x >= distance_target:\n",
    "            return round(h, 4)\n",
    "\n",
    "    return round(h, 4)\n",
    "\n",
    "# 🖱️ Interactive tool\n",
    "def interactive_depth(Q, b, So, n, h_start, distance, direction):\n",
    "    depth = compute_depth_at_distance(Q, b, So, n, h_start, distance, direction)\n",
    "    print(f\"📏 Estimated Depth at {distance:.1f} m ({direction}): {depth:.2f} m\")\n",
    "\n",
    "# 🎛️ Sliders\n",
    "interact(interactive_depth,\n",
    "         Q=FloatSlider(value=20, min=1, max=100, step=1, description='Flow Q (m³/s)', style={'description_width': '150px'}),\n",
    "         b=FloatSlider(value=5, min=1, max=20, step=0.5, description='Channel Width (m)', style={'description_width': '150px'}),\n",
    "         So=FloatSlider(value=0.001, min=0.0001, max=0.01, step=0.0001, description='Bed Slope S₀', style={'description_width': '150px'}),\n",
    "         n=FloatSlider(value=0.03, min=0.01, max=0.06, step=0.001, description='Manning n', style={'description_width': '150px'}),\n",
    "         h_start=FloatSlider(value=2.5, min=0.5, max=5.0, step=0.1, description='Start Depth (m)', style={'description_width': '150px'}),\n",
    "         distance=FloatSlider(value=100, min=1, max=1000, step=5, description='Distance (m)', style={'description_width': '150px'}),\n",
    "         direction=['upstream', 'downstream']);\n"
   ]
  },
  {
   "cell_type": "markdown",
   "id": "fcc6ec65-8249-495b-84d6-301b2bec2c18",
   "metadata": {},
   "source": [
    "## 4. Simulation"
   ]
  },
  {
   "cell_type": "code",
   "execution_count": 6,
   "id": "dadbeb7c-8ad7-4341-b4ab-1bc7e50b9ecc",
   "metadata": {},
   "outputs": [
    {
     "data": {
      "application/vnd.jupyter.widget-view+json": {
       "model_id": "baef169d50ba4521bb96bd59dd69f54a",
       "version_major": 2,
       "version_minor": 0
      },
      "text/plain": [
       "VBox(children=(FloatSlider(value=20.0, description='Flow Q (m³/s)', min=1.0, step=1.0), FloatSlider(value=5.0,…"
      ]
     },
     "metadata": {},
     "output_type": "display_data"
    },
    {
     "data": {
      "application/vnd.jupyter.widget-view+json": {
       "model_id": "90a390f181ec407e855a0ab30d64c16b",
       "version_major": 2,
       "version_minor": 0
      },
      "text/plain": [
       "Output()"
      ]
     },
     "metadata": {},
     "output_type": "display_data"
    }
   ],
   "source": [
    "import numpy as np\n",
    "import matplotlib.pyplot as plt\n",
    "import ipywidgets as widgets\n",
    "from IPython.display import display\n",
    "\n",
    "# 📐 Normal depth using Manning’s equation\n",
    "def compute_normal_depth(Q, b, n, S0):\n",
    "    def area(h): return b * h\n",
    "    def perimeter(h): return b + 2 * h\n",
    "    def hydraulic_radius(h): return area(h) / perimeter(h)\n",
    "    def velocity(h): return (1 / n) * hydraulic_radius(h)**(2/3) * S0**0.5\n",
    "    def discharge(h): return velocity(h) * area(h)\n",
    "\n",
    "    h = 0.1\n",
    "    for _ in range(1000):\n",
    "        f = discharge(h) - Q\n",
    "        df = (discharge(h + 0.001) - discharge(h)) / 0.001\n",
    "        h_new = h - f / df\n",
    "        if abs(h_new - h) < 1e-6:\n",
    "            break\n",
    "        h = h_new\n",
    "    return round(h, 3)\n",
    "\n",
    "# 📐 Critical depth for rectangular channel\n",
    "def compute_critical_depth(Q, b):\n",
    "    g = 9.81\n",
    "    h = (Q**2 / b**2 / g)**(1/3)\n",
    "    return round(h, 3)\n",
    "\n",
    "# 🧮 Direct Step Method for GVF\n",
    "def compute_gvf(Q, b, n, S0, L, steps, h_start, flow_direction):\n",
    "    g = 9.81\n",
    "    dx = L / steps\n",
    "    x = np.zeros(steps)\n",
    "    h = np.zeros(steps)\n",
    "    h[0] = h_start\n",
    "\n",
    "    for i in range(1, steps):\n",
    "        A = b * h[i-1]\n",
    "        P = b + 2 * h[i-1]\n",
    "        R = A / P\n",
    "        V = Q / A\n",
    "        Sf = (V * n / R**(2/3))**2\n",
    "        E = h[i-1] + V**2 / (2 * g)\n",
    "\n",
    "        dE_dh = 1 + (-Q**2 / (g * A**3)) * (b**2)\n",
    "        dh = 0.01 if flow_direction == \"downstream\" else -0.01\n",
    "        h_trial = h[i-1] + dh\n",
    "        A_trial = b * h_trial\n",
    "        V_trial = Q / A_trial\n",
    "        E_trial = h_trial + V_trial**2 / (2 * g)\n",
    "        dE = E_trial - E\n",
    "        dx_step = dE / (S0 - Sf) if S0 != Sf else dx\n",
    "\n",
    "        x[i] = x[i-1] + abs(dx_step)\n",
    "        h[i] = h[i-1] + dh\n",
    "\n",
    "        if x[i] > L:\n",
    "            x = x[:i+1]\n",
    "            h = h[:i+1]\n",
    "            break\n",
    "\n",
    "    return x, h\n",
    "\n",
    "# 📊 Plotting function\n",
    "def plot_gvf(Q, b, n, S0, L, steps, h_start, flow_direction):\n",
    "    h_normal = compute_normal_depth(Q, b, n, S0)\n",
    "    h_critical = compute_critical_depth(Q, b)\n",
    "\n",
    "    # 🧭 Slope classification\n",
    "    if h_normal > h_critical:\n",
    "        slope_type = \"Mild\"\n",
    "    elif h_normal < h_critical:\n",
    "        slope_type = \"Steep\"\n",
    "    else:\n",
    "        slope_type = \"Critical\"\n",
    "\n",
    "    x, h = compute_gvf(Q, b, n, S0, L, steps, h_start, flow_direction)\n",
    "\n",
    "    plt.figure(figsize=(10, 4))\n",
    "    plt.plot(x, h, label=\"Water Surface Profile\", color=\"blue\")\n",
    "    plt.axhline(h_normal, color=\"green\", linestyle=\"--\", label=f\"Normal Depth = {h_normal:.2f} m\")\n",
    "    plt.axhline(h_critical, color=\"red\", linestyle=\"--\", label=f\"Critical Depth = {h_critical:.2f} m\")\n",
    "    plt.xlabel(\"Distance Along Channel (m)\")\n",
    "    plt.ylabel(\"Water Depth h (m)\")\n",
    "    plt.title(f\"GVF Profile — {flow_direction.capitalize()} | Slope Type: {slope_type}\")\n",
    "    plt.grid(True)\n",
    "    plt.legend()\n",
    "    plt.tight_layout()\n",
    "    plt.show()\n",
    "\n",
    "    print(f\"📐 Normal Depth: {h_normal:.2f} m\")\n",
    "    print(f\"📐 Critical Depth: {h_critical:.2f} m\")\n",
    "    print(f\"🧭 Slope Type: {slope_type}\")\n",
    "\n",
    "# 🎛️ Interactive controls\n",
    "Q_slider = widgets.FloatSlider(value=20, min=1, max=100, step=1, description='Flow Q (m³/s)')\n",
    "b_slider = widgets.FloatSlider(value=5, min=1, max=20, step=0.5, description='Channel Width b (m)')\n",
    "n_slider = widgets.FloatSlider(value=0.03, min=0.01, max=0.06, step=0.001, description='Manning n')\n",
    "S0_slider = widgets.FloatSlider(value=0.001, min=0.0001, max=0.01, step=0.0001, description='Bed Slope S₀')\n",
    "L_slider = widgets.FloatSlider(value=100, min=10, max=1000, step=10, description='Channel Length L (m)')\n",
    "steps_slider = widgets.IntSlider(value=50, min=10, max=200, step=10, description='Steps')\n",
    "h_start_slider = widgets.FloatSlider(value=2.0, min=0.5, max=6.0, step=0.1, description='Starting Depth h₀ (m)')\n",
    "direction_dropdown = widgets.Dropdown(options=[\"upstream\", \"downstream\"], value=\"downstream\", description='Flow Direction')\n",
    "\n",
    "ui = widgets.VBox([\n",
    "    Q_slider, b_slider, n_slider, S0_slider,\n",
    "    L_slider, steps_slider, h_start_slider, direction_dropdown\n",
    "])\n",
    "\n",
    "out = widgets.interactive_output(plot_gvf, {\n",
    "    'Q': Q_slider,\n",
    "    'b': b_slider,\n",
    "    'n': n_slider,\n",
    "    'S0': S0_slider,\n",
    "    'L': L_slider,\n",
    "    'steps': steps_slider,\n",
    "    'h_start': h_start_slider,\n",
    "    'flow_direction': direction_dropdown\n",
    "})\n",
    "\n",
    "display(ui, out)"
   ]
  },
  {
   "cell_type": "markdown",
   "id": "7b6cb5eb-432b-4911-bd33-45242d845b3e",
   "metadata": {},
   "source": [
    "## 5. Self-Assessment"
   ]
  },
  {
   "cell_type": "markdown",
   "id": "ccb7d7fd-42ca-43fe-be1e-6f9897b3db0b",
   "metadata": {},
   "source": [
    "\n",
    "### ✅ Conceptual Questions\n",
    "\n",
    "1. **What does the Direct Step Method compute in GVF analysis?**\n",
    "   - A. Flow velocity at critical depth  \n",
    "   - B. Distance between two flow depths  \n",
    "   - C. Channel slope required for uniform flow  \n",
    "   - D. Hydraulic jump location  \n",
    "\n",
    "2. **In a rectangular channel, the normal depth is determined by:**\n",
    "   - A. Flow rate and critical slope  \n",
    "   - B. Manning’s equation and channel geometry  \n",
    "   - C. Energy equation and tailwater depth  \n",
    "   - D. Froude number and sediment load  \n",
    "\n",
    "3. **If the normal depth is greater than the critical depth, the slope is classified as:**\n",
    "   - A. Steep  \n",
    "   - B. Mild  \n",
    "   - C. Critical  \n",
    "   - D. Horizontal  \n",
    "\n",
    "4. **Which of the following increases the friction slope $( S_f $)?**\n",
    "   - A. Increasing Manning’s $( n $)  \n",
    "   - B. Increasing hydraulic radius  \n",
    "   - C. Decreasing velocity  \n",
    "   - D. Reducing bed slope  \n",
    "\n",
    "5. **In GVF analysis, flow direction is determined by:**\n",
    "   - A. Channel curvature  \n",
    "   - B. Depth gradient and slope type  \n",
    "   - C. Sediment transport rate  \n",
    "   - D. Water temperature  \n",
    "\n",
    "---\n",
    "\n",
    "### Parametric Exploration Prompts\n",
    "\n",
    "1. How does increasing Manning’s $( n $) affect the normal depth and flow resistance?  \n",
    "2. What happens to the estimated distance when the target depth is much lower than the starting depth on a mild slope?  \n",
    "3. Why is it important to classify the slope type before applying the Direct Step Method?  \n",
    "4. How would the results differ in a natural channel with variable width and roughness?  \n",
    "5. What are the limitations of using a fixed step size in the Direct Step Method?\n",
    "\n",
    "---\n",
    "\n",
    "### Reflection Questions\n",
    "\n",
    "1. **How does the Direct Step Method help visualize flow transitions in open channels?**  \n",
    "2. **What physical processes are captured by the gradually varied flow equations that uniform flow neglects?**  \n",
    "3. **Why is critical depth a key reference point in classifying flow regimes?**  \n",
    "4. **How would you modify this model to handle non-prismatic or compound channels?**  \n",
    "5. **What insights can engineers gain by interactively adjusting flow, slope, and depth parameters in real-time?**\n",
    "\n",
    "---\n",
    "\n",
    "### Design Insight\n",
    "\n",
    "> “Understanding gradually varied flow is essential for designing channels, culverts, and floodplains. It bridges the gap between idealized uniform flow and real-world hydraulic transitions.”\n",
    "\n",
    "---"
   ]
  },
  {
   "cell_type": "code",
   "execution_count": null,
   "id": "bcdf4893-d8ea-4c60-8aa2-99226668f527",
   "metadata": {},
   "outputs": [],
   "source": []
  }
 ],
 "metadata": {
  "kernelspec": {
   "display_name": "Python [conda env:base] *",
   "language": "python",
   "name": "conda-base-py"
  },
  "language_info": {
   "codemirror_mode": {
    "name": "ipython",
    "version": 3
   },
   "file_extension": ".py",
   "mimetype": "text/x-python",
   "name": "python",
   "nbconvert_exporter": "python",
   "pygments_lexer": "ipython3",
   "version": "3.12.7"
  },
  "widgets": {
   "application/vnd.jupyter.widget-state+json": {
    "state": {
     "03016e62f67241288921ae6f37f8da7f": {
      "model_module": "@jupyter-widgets/controls",
      "model_module_version": "2.0.0",
      "model_name": "DropdownModel",
      "state": {
       "_options_labels": [
        "upstream",
        "downstream"
       ],
       "description": "direction",
       "index": 0,
       "layout": "IPY_MODEL_22e2c540675b4a08b272529e0521493b",
       "style": "IPY_MODEL_63c51ce192784b189b28d8bdcef4e3a5"
      }
     },
     "03bdfd987ed94492bd0a7efbeabe2d56": {
      "model_module": "@jupyter-widgets/controls",
      "model_module_version": "2.0.0",
      "model_name": "FloatSliderModel",
      "state": {
       "behavior": "drag-tap",
       "description": "Channel Width (m)",
       "layout": "IPY_MODEL_335aafbd7c09431a9a4062854f17ecc4",
       "max": 20,
       "min": 1,
       "step": 0.5,
       "style": "IPY_MODEL_40472c9877f142a4ad8ed3bcb1dd7eba",
       "value": 5
      }
     },
     "03e533bea1014043b25749563d09ff9e": {
      "model_module": "@jupyter-widgets/base",
      "model_module_version": "2.0.0",
      "model_name": "LayoutModel",
      "state": {}
     },
     "053c5cef1302483b95891cea3e6ee82a": {
      "model_module": "@jupyter-widgets/controls",
      "model_module_version": "2.0.0",
      "model_name": "FloatSliderModel",
      "state": {
       "behavior": "drag-tap",
       "description": "Channel Width b (m)",
       "layout": "IPY_MODEL_1a7f6d9bd4b747a08aca8280c74fd7a2",
       "max": 20,
       "min": 1,
       "step": 0.5,
       "style": "IPY_MODEL_69cfeefd86f24ed9b0e1924f41af0e47",
       "value": 5
      }
     },
     "08e913b7de68496b8af0a6f58bded6c0": {
      "model_module": "@jupyter-widgets/base",
      "model_module_version": "2.0.0",
      "model_name": "LayoutModel",
      "state": {}
     },
     "0a618caaf7ac4d1da7d52914653b5171": {
      "model_module": "@jupyter-widgets/controls",
      "model_module_version": "2.0.0",
      "model_name": "SliderStyleModel",
      "state": {
       "description_width": "150px"
      }
     },
     "0b127d01d5314620b9dcb50a17161873": {
      "model_module": "@jupyter-widgets/base",
      "model_module_version": "2.0.0",
      "model_name": "LayoutModel",
      "state": {}
     },
     "0d0b73399b7a43ac98c432cda42db4f6": {
      "model_module": "@jupyter-widgets/base",
      "model_module_version": "2.0.0",
      "model_name": "LayoutModel",
      "state": {}
     },
     "0f8e066b86024faa9c25964c9ac2cb3f": {
      "model_module": "@jupyter-widgets/controls",
      "model_module_version": "2.0.0",
      "model_name": "FloatSliderModel",
      "state": {
       "behavior": "drag-tap",
       "description": "Manning n",
       "layout": "IPY_MODEL_4c9b68351d864e2fa16577fef50aa79c",
       "max": 0.06,
       "min": 0.01,
       "step": 0.001,
       "style": "IPY_MODEL_3766947d3cb14db3b86a9fe51ccb084d",
       "value": 0.03
      }
     },
     "12de6909bf8f4636a170276c5b5f8dee": {
      "model_module": "@jupyter-widgets/base",
      "model_module_version": "2.0.0",
      "model_name": "LayoutModel",
      "state": {}
     },
     "1754dd7ca0cd414b9ee1be09dcda0af8": {
      "model_module": "@jupyter-widgets/controls",
      "model_module_version": "2.0.0",
      "model_name": "SliderStyleModel",
      "state": {
       "description_width": "150px"
      }
     },
     "198510048ea148798805cc0a3f8d7e12": {
      "model_module": "@jupyter-widgets/controls",
      "model_module_version": "2.0.0",
      "model_name": "FloatSliderModel",
      "state": {
       "behavior": "drag-tap",
       "description": "Flow Q (m³/s)",
       "layout": "IPY_MODEL_2725c0f4ceda4e9dad3b8af665300e3f",
       "min": 1,
       "style": "IPY_MODEL_b88c2d1c76404c0b8f549fe4ba9870b7",
       "value": 20.000000000000004
      }
     },
     "1a7f6d9bd4b747a08aca8280c74fd7a2": {
      "model_module": "@jupyter-widgets/base",
      "model_module_version": "2.0.0",
      "model_name": "LayoutModel",
      "state": {}
     },
     "1ff84822b4144ae3a3f552d4a88e188d": {
      "model_module": "@jupyter-widgets/controls",
      "model_module_version": "2.0.0",
      "model_name": "SliderStyleModel",
      "state": {
       "description_width": "150px"
      }
     },
     "21718a3867fd463fb5a4ad0d9a6ffc81": {
      "model_module": "@jupyter-widgets/controls",
      "model_module_version": "2.0.0",
      "model_name": "VBoxModel",
      "state": {
       "children": [
        "IPY_MODEL_b38658f56d2e446a931f2af5d7c4337d",
        "IPY_MODEL_b68e714e12bd42ceb93fb2680374801e",
        "IPY_MODEL_9813377d406146b986e20b0cb87c451a",
        "IPY_MODEL_d1c45ca9fffe435991a4f436747b8628",
        "IPY_MODEL_392131ccf14a4e2a928797d569c6b353",
        "IPY_MODEL_ffd6c8724b944e2ca1d1f74494f364e1",
        "IPY_MODEL_45eaaef034cf4bc3809043cccb5f380f",
        "IPY_MODEL_bdf399bd82a8418ea5a4b3f96448f495"
       ],
       "layout": "IPY_MODEL_82ee5cbae48641168c3bf8642633d86c"
      }
     },
     "22e2c540675b4a08b272529e0521493b": {
      "model_module": "@jupyter-widgets/base",
      "model_module_version": "2.0.0",
      "model_name": "LayoutModel",
      "state": {}
     },
     "2725c0f4ceda4e9dad3b8af665300e3f": {
      "model_module": "@jupyter-widgets/base",
      "model_module_version": "2.0.0",
      "model_name": "LayoutModel",
      "state": {}
     },
     "2803ce77677943eb844e5fa658d2ee56": {
      "model_module": "@jupyter-widgets/controls",
      "model_module_version": "2.0.0",
      "model_name": "IntSliderModel",
      "state": {
       "behavior": "drag-tap",
       "description": "Steps",
       "layout": "IPY_MODEL_43c3cd4eeca8416996fdde194f47dfaf",
       "max": 200,
       "min": 10,
       "step": 10,
       "style": "IPY_MODEL_d0118bb2d9d0426aa07c3636e8bc0a84",
       "value": 50
      }
     },
     "2921749531054e3abdc8081c35b228f8": {
      "model_module": "@jupyter-widgets/controls",
      "model_module_version": "2.0.0",
      "model_name": "FloatSliderModel",
      "state": {
       "behavior": "drag-tap",
       "description": "Bed Slope S₀",
       "layout": "IPY_MODEL_80c9f7f266744de8995605d157beaf07",
       "max": 0.01,
       "min": 0.0001,
       "step": 0.0001,
       "style": "IPY_MODEL_0a618caaf7ac4d1da7d52914653b5171",
       "value": 0.001
      }
     },
     "2cb961080c584e50ab8f31412e4b8439": {
      "model_module": "@jupyter-widgets/controls",
      "model_module_version": "2.0.0",
      "model_name": "FloatSliderModel",
      "state": {
       "behavior": "drag-tap",
       "description": "Start Depth (m)",
       "layout": "IPY_MODEL_6ac4cae751a1486f8757b9df7562ac86",
       "max": 5,
       "min": 0.5,
       "step": 0.1,
       "style": "IPY_MODEL_435aaa7faca64f07ae8ecd63459e6505",
       "value": 2.5
      }
     },
     "328b682a6bbe4a1b8547e32309044ac1": {
      "model_module": "@jupyter-widgets/controls",
      "model_module_version": "2.0.0",
      "model_name": "SliderStyleModel",
      "state": {
       "description_width": ""
      }
     },
     "335aafbd7c09431a9a4062854f17ecc4": {
      "model_module": "@jupyter-widgets/base",
      "model_module_version": "2.0.0",
      "model_name": "LayoutModel",
      "state": {
       "width": "400px"
      }
     },
     "33a0b48659e142538f1822143e3a0921": {
      "model_module": "@jupyter-widgets/controls",
      "model_module_version": "2.0.0",
      "model_name": "SliderStyleModel",
      "state": {
       "description_width": ""
      }
     },
     "35778bb165d940768d1f8f104229de58": {
      "model_module": "@jupyter-widgets/controls",
      "model_module_version": "2.0.0",
      "model_name": "FloatSliderModel",
      "state": {
       "behavior": "drag-tap",
       "description": "Flow Q (m³/s)",
       "layout": "IPY_MODEL_5ce8e027f89c473e8d0976b916b9092d",
       "min": 1,
       "style": "IPY_MODEL_b85da27095444e6c89343b06ac203003",
       "value": 20.000000000000004
      }
     },
     "374dcf0b09754fd4aecfd2be1ef34ce5": {
      "model_module": "@jupyter-widgets/controls",
      "model_module_version": "2.0.0",
      "model_name": "SliderStyleModel",
      "state": {
       "description_width": ""
      }
     },
     "3766947d3cb14db3b86a9fe51ccb084d": {
      "model_module": "@jupyter-widgets/controls",
      "model_module_version": "2.0.0",
      "model_name": "SliderStyleModel",
      "state": {
       "description_width": ""
      }
     },
     "392131ccf14a4e2a928797d569c6b353": {
      "model_module": "@jupyter-widgets/controls",
      "model_module_version": "2.0.0",
      "model_name": "FloatSliderModel",
      "state": {
       "behavior": "drag-tap",
       "description": "Channel Length L (m)",
       "layout": "IPY_MODEL_ce1d61befacb43f4b5a695e9db903055",
       "max": 1000,
       "min": 10,
       "step": 10,
       "style": "IPY_MODEL_b4c1845a48494caca11f4f67824ab07e",
       "value": 100
      }
     },
     "3a118d5fce7a4a78a5afd691b7c85874": {
      "model_module": "@jupyter-widgets/controls",
      "model_module_version": "2.0.0",
      "model_name": "FloatSliderModel",
      "state": {
       "behavior": "drag-tap",
       "description": "Flow Q (m³/s)",
       "layout": "IPY_MODEL_335aafbd7c09431a9a4062854f17ecc4",
       "min": 1,
       "style": "IPY_MODEL_f1cdc28d28254c5faeb613f2e4621551",
       "value": 20.000000000000004
      }
     },
     "3c976542ab944514b04458ea7dbc63b9": {
      "model_module": "@jupyter-widgets/controls",
      "model_module_version": "2.0.0",
      "model_name": "SliderStyleModel",
      "state": {
       "description_width": "160px"
      }
     },
     "3d58d2c0c5664b22bbb494a253691539": {
      "model_module": "@jupyter-widgets/controls",
      "model_module_version": "2.0.0",
      "model_name": "DescriptionStyleModel",
      "state": {
       "description_width": ""
      }
     },
     "3e2180391db44d9c87676c7ae9c0c8a3": {
      "model_module": "@jupyter-widgets/controls",
      "model_module_version": "2.0.0",
      "model_name": "FloatSliderModel",
      "state": {
       "behavior": "drag-tap",
       "description": "Target Depth (m)",
       "layout": "IPY_MODEL_335aafbd7c09431a9a4062854f17ecc4",
       "max": 6,
       "min": 0.5,
       "step": 0.1,
       "style": "IPY_MODEL_e029ab259d5d4b14afd55b876c3d0564",
       "value": 1.5
      }
     },
     "3eedd2a03e264c2f924bbe21b16f1081": {
      "model_module": "@jupyter-widgets/controls",
      "model_module_version": "2.0.0",
      "model_name": "FloatSliderModel",
      "state": {
       "behavior": "drag-tap",
       "description": "Bed Slope S₀",
       "layout": "IPY_MODEL_40cc7f5298f2465e892b55a192a765ea",
       "max": 0.01,
       "min": 0.0001,
       "step": 0.0001,
       "style": "IPY_MODEL_db13d1d36a3e43b18be36c0ac28c4b92",
       "value": 0.001
      }
     },
     "3f57343b1f3b4f039fc0bc7d1f1b27d0": {
      "model_module": "@jupyter-widgets/base",
      "model_module_version": "2.0.0",
      "model_name": "LayoutModel",
      "state": {}
     },
     "40472c9877f142a4ad8ed3bcb1dd7eba": {
      "model_module": "@jupyter-widgets/controls",
      "model_module_version": "2.0.0",
      "model_name": "SliderStyleModel",
      "state": {
       "description_width": "160px"
      }
     },
     "409b9e5807b94f24888d988b76008796": {
      "model_module": "@jupyter-widgets/output",
      "model_module_version": "1.0.0",
      "model_name": "OutputModel",
      "state": {
       "layout": "IPY_MODEL_76a02f714af945f980799cb7f20c6d0b",
       "outputs": [
        {
         "data": {
          "image/png": "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",
          "text/plain": "<Figure size 1000x400 with 1 Axes>"
         },
         "metadata": {},
         "output_type": "display_data"
        },
        {
         "name": "stdout",
         "output_type": "stream",
         "text": "📐 Normal Depth: 3.07 m\n📐 Critical Depth: 1.18 m\n🧭 Slope Type: Mild\n"
        }
       ]
      }
     },
     "40cc7f5298f2465e892b55a192a765ea": {
      "model_module": "@jupyter-widgets/base",
      "model_module_version": "2.0.0",
      "model_name": "LayoutModel",
      "state": {}
     },
     "4106d2c26e4c40429d5b4fc371172829": {
      "model_module": "@jupyter-widgets/base",
      "model_module_version": "2.0.0",
      "model_name": "LayoutModel",
      "state": {}
     },
     "435aaa7faca64f07ae8ecd63459e6505": {
      "model_module": "@jupyter-widgets/controls",
      "model_module_version": "2.0.0",
      "model_name": "SliderStyleModel",
      "state": {
       "description_width": "150px"
      }
     },
     "438fc4a25326417b9408fb05982cca3e": {
      "model_module": "@jupyter-widgets/controls",
      "model_module_version": "2.0.0",
      "model_name": "FloatSliderModel",
      "state": {
       "behavior": "drag-tap",
       "description": "Manning n",
       "layout": "IPY_MODEL_9dd1f360fa984a7789ca267dc34d2050",
       "max": 0.06,
       "min": 0.01,
       "step": 0.001,
       "style": "IPY_MODEL_c929ba25975244bea6d5b810123860b3",
       "value": 0.03
      }
     },
     "43c3cd4eeca8416996fdde194f47dfaf": {
      "model_module": "@jupyter-widgets/base",
      "model_module_version": "2.0.0",
      "model_name": "LayoutModel",
      "state": {}
     },
     "45eaaef034cf4bc3809043cccb5f380f": {
      "model_module": "@jupyter-widgets/controls",
      "model_module_version": "2.0.0",
      "model_name": "FloatSliderModel",
      "state": {
       "behavior": "drag-tap",
       "description": "Starting Depth h₀ (m)",
       "layout": "IPY_MODEL_bd768074f3764efdb8198ff32a2bfdf6",
       "max": 6,
       "min": 0.5,
       "step": 0.1,
       "style": "IPY_MODEL_62feec0b87f24b00b7918afe72864941",
       "value": 2
      }
     },
     "48afbe00c6ac4baeaf50ce4bdff5405c": {
      "model_module": "@jupyter-widgets/base",
      "model_module_version": "2.0.0",
      "model_name": "LayoutModel",
      "state": {}
     },
     "4c9b68351d864e2fa16577fef50aa79c": {
      "model_module": "@jupyter-widgets/base",
      "model_module_version": "2.0.0",
      "model_name": "LayoutModel",
      "state": {}
     },
     "507947d073db4df3afede5eefc209f08": {
      "model_module": "@jupyter-widgets/controls",
      "model_module_version": "2.0.0",
      "model_name": "FloatSliderModel",
      "state": {
       "behavior": "drag-tap",
       "description": "Bed Slope S₀",
       "layout": "IPY_MODEL_b85a5fda6cbb4708805de5b587782d5c",
       "max": 0.01,
       "min": 0.0001,
       "step": 0.0001,
       "style": "IPY_MODEL_cf92186ab2d640be8f19624cbefa1575",
       "value": 0.001
      }
     },
     "51352c93dee64acba094156f13efc617": {
      "model_module": "@jupyter-widgets/controls",
      "model_module_version": "2.0.0",
      "model_name": "FloatSliderModel",
      "state": {
       "behavior": "drag-tap",
       "description": "Channel Length L (m)",
       "layout": "IPY_MODEL_765d09f57e054f0fbdeb2b3bcf0c326a",
       "max": 1000,
       "min": 10,
       "step": 10,
       "style": "IPY_MODEL_f0e913e0ecca4e96b17e6471512461d0",
       "value": 100
      }
     },
     "5154a12619f245a5a266577421776559": {
      "model_module": "@jupyter-widgets/controls",
      "model_module_version": "2.0.0",
      "model_name": "DropdownModel",
      "state": {
       "_options_labels": [
        "upstream",
        "downstream"
       ],
       "description": "direction",
       "index": 0,
       "layout": "IPY_MODEL_91555595d61d4d62a812e77e80d01af2",
       "style": "IPY_MODEL_e89795033129408981d0a5f9e359e109"
      }
     },
     "580a4799aebf463f85f48dbf20aa9ae7": {
      "model_module": "@jupyter-widgets/controls",
      "model_module_version": "2.0.0",
      "model_name": "FloatSliderModel",
      "state": {
       "behavior": "drag-tap",
       "description": "Distance (m)",
       "layout": "IPY_MODEL_f983f960a0664a30bc5442149520d268",
       "max": 1000,
       "min": 1,
       "step": 5,
       "style": "IPY_MODEL_fb81ce57e9cb471a84dcf3b464c1ff7d",
       "value": 101
      }
     },
     "5ce8e027f89c473e8d0976b916b9092d": {
      "model_module": "@jupyter-widgets/base",
      "model_module_version": "2.0.0",
      "model_name": "LayoutModel",
      "state": {}
     },
     "5ebe478ae9084a56b32f138fd8255214": {
      "model_module": "@jupyter-widgets/base",
      "model_module_version": "2.0.0",
      "model_name": "LayoutModel",
      "state": {}
     },
     "62feec0b87f24b00b7918afe72864941": {
      "model_module": "@jupyter-widgets/controls",
      "model_module_version": "2.0.0",
      "model_name": "SliderStyleModel",
      "state": {
       "description_width": ""
      }
     },
     "6307295d5c7a4501809e82227fa3d1de": {
      "model_module": "@jupyter-widgets/output",
      "model_module_version": "1.0.0",
      "model_name": "OutputModel",
      "state": {
       "layout": "IPY_MODEL_d4e5190b43db4311ae8be17b49a5414c",
       "outputs": [
        {
         "name": "stdout",
         "output_type": "stream",
         "text": "📏 Estimated Depth at 101.0 m (upstream): 2.60 m\n"
        }
       ]
      }
     },
     "63c51ce192784b189b28d8bdcef4e3a5": {
      "model_module": "@jupyter-widgets/controls",
      "model_module_version": "2.0.0",
      "model_name": "DescriptionStyleModel",
      "state": {
       "description_width": ""
      }
     },
     "6469f7b84c3247dd866eb555e7d99001": {
      "model_module": "@jupyter-widgets/controls",
      "model_module_version": "2.0.0",
      "model_name": "VBoxModel",
      "state": {
       "_dom_classes": [
        "widget-interact"
       ],
       "children": [
        "IPY_MODEL_8aee2e96a7d44dd0b9e41202057b7381",
        "IPY_MODEL_7ec4daf7154443eb80ed63c645fc4ae2",
        "IPY_MODEL_a22c6b7015ac4b0c8d68dc7f508c28ea",
        "IPY_MODEL_8392e1f8e70445cb833ffd525b8d092f",
        "IPY_MODEL_70862988dfaf4ca49f0744529c1325df",
        "IPY_MODEL_d2c7e4821bcc4216a027cbb9d075207a",
        "IPY_MODEL_f5802763d669427a833c72db8a0fad56"
       ],
       "layout": "IPY_MODEL_4106d2c26e4c40429d5b4fc371172829"
      }
     },
     "66c4a879cace4e169b1e95a90b4848ae": {
      "model_module": "@jupyter-widgets/controls",
      "model_module_version": "2.0.0",
      "model_name": "VBoxModel",
      "state": {
       "_dom_classes": [
        "widget-interact"
       ],
       "children": [
        "IPY_MODEL_3a118d5fce7a4a78a5afd691b7c85874",
        "IPY_MODEL_03bdfd987ed94492bd0a7efbeabe2d56",
        "IPY_MODEL_9f366476a4ae47f39828e8ab49ca2b0b",
        "IPY_MODEL_f683167c1f9e4d9e84397d8de3686991",
        "IPY_MODEL_f2d4b2946e914d6fba197b89b4d8dd8e",
        "IPY_MODEL_3e2180391db44d9c87676c7ae9c0c8a3",
        "IPY_MODEL_c6a7204a9acf4895b46d494769dc566c"
       ],
       "layout": "IPY_MODEL_03e533bea1014043b25749563d09ff9e"
      }
     },
     "673e116ba25b4c16a79c3bbfbf4e0f53": {
      "model_module": "@jupyter-widgets/controls",
      "model_module_version": "2.0.0",
      "model_name": "VBoxModel",
      "state": {
       "_dom_classes": [
        "widget-interact"
       ],
       "children": [
        "IPY_MODEL_35778bb165d940768d1f8f104229de58",
        "IPY_MODEL_6aa69445019b44bf88784ab78dc3c266",
        "IPY_MODEL_2921749531054e3abdc8081c35b228f8",
        "IPY_MODEL_438fc4a25326417b9408fb05982cca3e",
        "IPY_MODEL_2cb961080c584e50ab8f31412e4b8439",
        "IPY_MODEL_f2db15f895a84a8685ed22287649dfd4",
        "IPY_MODEL_03016e62f67241288921ae6f37f8da7f",
        "IPY_MODEL_871611a34e834ab682a710d1d38d38af"
       ],
       "layout": "IPY_MODEL_08e913b7de68496b8af0a6f58bded6c0"
      }
     },
     "68069360b5cd415f8ef8ace3e3585ff2": {
      "model_module": "@jupyter-widgets/controls",
      "model_module_version": "2.0.0",
      "model_name": "SliderStyleModel",
      "state": {
       "description_width": ""
      }
     },
     "69cfeefd86f24ed9b0e1924f41af0e47": {
      "model_module": "@jupyter-widgets/controls",
      "model_module_version": "2.0.0",
      "model_name": "SliderStyleModel",
      "state": {
       "description_width": ""
      }
     },
     "6aa69445019b44bf88784ab78dc3c266": {
      "model_module": "@jupyter-widgets/controls",
      "model_module_version": "2.0.0",
      "model_name": "FloatSliderModel",
      "state": {
       "behavior": "drag-tap",
       "description": "Channel Width (m)",
       "layout": "IPY_MODEL_0b127d01d5314620b9dcb50a17161873",
       "max": 20,
       "min": 1,
       "step": 0.5,
       "style": "IPY_MODEL_8e2c94ba733f4a9fa4cf18568f8423ea",
       "value": 5
      }
     },
     "6ac4cae751a1486f8757b9df7562ac86": {
      "model_module": "@jupyter-widgets/base",
      "model_module_version": "2.0.0",
      "model_name": "LayoutModel",
      "state": {}
     },
     "70862988dfaf4ca49f0744529c1325df": {
      "model_module": "@jupyter-widgets/controls",
      "model_module_version": "2.0.0",
      "model_name": "FloatSliderModel",
      "state": {
       "behavior": "drag-tap",
       "description": "Starting Depth (m)",
       "layout": "IPY_MODEL_97452152fd0c4937a1d81dfe3ba3e69c",
       "max": 6,
       "min": 0.5,
       "step": 0.1,
       "style": "IPY_MODEL_aa815000e87f4cfda49d3a4004d5b81c",
       "value": 2.5
      }
     },
     "7201f7d622584d2ca51c17893e30f9a4": {
      "model_module": "@jupyter-widgets/controls",
      "model_module_version": "2.0.0",
      "model_name": "VBoxModel",
      "state": {
       "_dom_classes": [
        "widget-interact"
       ],
       "children": [
        "IPY_MODEL_198510048ea148798805cc0a3f8d7e12",
        "IPY_MODEL_e185956722494d3fbceaaa418e63ea72",
        "IPY_MODEL_507947d073db4df3afede5eefc209f08",
        "IPY_MODEL_f1acb10579264ecf899beb27f5b7dbc4",
        "IPY_MODEL_d473f2f3532f480d996500fa53ce3bcc",
        "IPY_MODEL_580a4799aebf463f85f48dbf20aa9ae7",
        "IPY_MODEL_5154a12619f245a5a266577421776559",
        "IPY_MODEL_6307295d5c7a4501809e82227fa3d1de"
       ],
       "layout": "IPY_MODEL_8eaff96372f84ca697573a68913b8dcb"
      }
     },
     "765d09f57e054f0fbdeb2b3bcf0c326a": {
      "model_module": "@jupyter-widgets/base",
      "model_module_version": "2.0.0",
      "model_name": "LayoutModel",
      "state": {}
     },
     "76a02f714af945f980799cb7f20c6d0b": {
      "model_module": "@jupyter-widgets/base",
      "model_module_version": "2.0.0",
      "model_name": "LayoutModel",
      "state": {}
     },
     "77265d537a21471f9a731cdec31f9276": {
      "model_module": "@jupyter-widgets/base",
      "model_module_version": "2.0.0",
      "model_name": "LayoutModel",
      "state": {}
     },
     "774a9311b87844cd9651c7aec8b77168": {
      "model_module": "@jupyter-widgets/base",
      "model_module_version": "2.0.0",
      "model_name": "LayoutModel",
      "state": {}
     },
     "7b6cfc44eec841599ada0636277bf3e9": {
      "model_module": "@jupyter-widgets/controls",
      "model_module_version": "2.0.0",
      "model_name": "SliderStyleModel",
      "state": {
       "description_width": "160px"
      }
     },
     "7e9e712556b24c6796cdb61f5a63d5af": {
      "model_module": "@jupyter-widgets/controls",
      "model_module_version": "2.0.0",
      "model_name": "SliderStyleModel",
      "state": {
       "description_width": "150px"
      }
     },
     "7ec4daf7154443eb80ed63c645fc4ae2": {
      "model_module": "@jupyter-widgets/controls",
      "model_module_version": "2.0.0",
      "model_name": "FloatSliderModel",
      "state": {
       "behavior": "drag-tap",
       "description": "Channel Width (m)",
       "layout": "IPY_MODEL_97452152fd0c4937a1d81dfe3ba3e69c",
       "max": 20,
       "min": 1,
       "step": 0.5,
       "style": "IPY_MODEL_3c976542ab944514b04458ea7dbc63b9",
       "value": 5
      }
     },
     "7f7f8116f6014bb2b2ae55e93105eb7e": {
      "model_module": "@jupyter-widgets/base",
      "model_module_version": "2.0.0",
      "model_name": "LayoutModel",
      "state": {}
     },
     "80afdde9787343289efaad89c11c8ba3": {
      "model_module": "@jupyter-widgets/controls",
      "model_module_version": "2.0.0",
      "model_name": "SliderStyleModel",
      "state": {
       "description_width": "150px"
      }
     },
     "80c9f7f266744de8995605d157beaf07": {
      "model_module": "@jupyter-widgets/base",
      "model_module_version": "2.0.0",
      "model_name": "LayoutModel",
      "state": {}
     },
     "8117ee91794943a5a8447269ebe978af": {
      "model_module": "@jupyter-widgets/base",
      "model_module_version": "2.0.0",
      "model_name": "LayoutModel",
      "state": {}
     },
     "81c383c966e04312a2fe3a49410324b3": {
      "model_module": "@jupyter-widgets/base",
      "model_module_version": "2.0.0",
      "model_name": "LayoutModel",
      "state": {}
     },
     "82ee5cbae48641168c3bf8642633d86c": {
      "model_module": "@jupyter-widgets/base",
      "model_module_version": "2.0.0",
      "model_name": "LayoutModel",
      "state": {}
     },
     "8392e1f8e70445cb833ffd525b8d092f": {
      "model_module": "@jupyter-widgets/controls",
      "model_module_version": "2.0.0",
      "model_name": "FloatSliderModel",
      "state": {
       "behavior": "drag-tap",
       "description": "Bed Slope S₀",
       "layout": "IPY_MODEL_97452152fd0c4937a1d81dfe3ba3e69c",
       "max": 0.01,
       "min": 0.0001,
       "step": 0.0001,
       "style": "IPY_MODEL_fe1d3387ae76452a99cb3290a836c907",
       "value": 0.001
      }
     },
     "83a2e06fb08544a4a1ff272c7522995c": {
      "model_module": "@jupyter-widgets/controls",
      "model_module_version": "2.0.0",
      "model_name": "SliderStyleModel",
      "state": {
       "description_width": ""
      }
     },
     "871611a34e834ab682a710d1d38d38af": {
      "model_module": "@jupyter-widgets/output",
      "model_module_version": "1.0.0",
      "model_name": "OutputModel",
      "state": {
       "layout": "IPY_MODEL_ec3d1815c8244222a0011eaea05c6dfa",
       "outputs": [
        {
         "name": "stdout",
         "output_type": "stream",
         "text": "📏 Estimated Depth at 101.0 m (upstream): 2.60 m\n"
        }
       ]
      }
     },
     "87f480ffb06242119901993e9c4afca9": {
      "model_module": "@jupyter-widgets/controls",
      "model_module_version": "2.0.0",
      "model_name": "FloatSliderModel",
      "state": {
       "behavior": "drag-tap",
       "description": "Flow Q (m³/s)",
       "layout": "IPY_MODEL_e86f791aee7f427088dce3e4488d967a",
       "min": 1,
       "style": "IPY_MODEL_8e7760c13935449fa843cf0c7757175f",
       "value": 20.000000000000004
      }
     },
     "8aee2e96a7d44dd0b9e41202057b7381": {
      "model_module": "@jupyter-widgets/controls",
      "model_module_version": "2.0.0",
      "model_name": "FloatSliderModel",
      "state": {
       "behavior": "drag-tap",
       "description": "Flow Q (m³/s)",
       "layout": "IPY_MODEL_97452152fd0c4937a1d81dfe3ba3e69c",
       "min": 1,
       "style": "IPY_MODEL_b503a377a4484de8b9412ddc7c504dd7",
       "value": 20.000000000000004
      }
     },
     "8e2c94ba733f4a9fa4cf18568f8423ea": {
      "model_module": "@jupyter-widgets/controls",
      "model_module_version": "2.0.0",
      "model_name": "SliderStyleModel",
      "state": {
       "description_width": "150px"
      }
     },
     "8e7760c13935449fa843cf0c7757175f": {
      "model_module": "@jupyter-widgets/controls",
      "model_module_version": "2.0.0",
      "model_name": "SliderStyleModel",
      "state": {
       "description_width": ""
      }
     },
     "8eaff96372f84ca697573a68913b8dcb": {
      "model_module": "@jupyter-widgets/base",
      "model_module_version": "2.0.0",
      "model_name": "LayoutModel",
      "state": {}
     },
     "8f3ee9674d024acd86f296920a3ee520": {
      "model_module": "@jupyter-widgets/base",
      "model_module_version": "2.0.0",
      "model_name": "LayoutModel",
      "state": {}
     },
     "8fce1d0c433342aeb8f4620fdeec1628": {
      "model_module": "@jupyter-widgets/controls",
      "model_module_version": "2.0.0",
      "model_name": "SliderStyleModel",
      "state": {
       "description_width": ""
      }
     },
     "90a390f181ec407e855a0ab30d64c16b": {
      "model_module": "@jupyter-widgets/output",
      "model_module_version": "1.0.0",
      "model_name": "OutputModel",
      "state": {
       "layout": "IPY_MODEL_774a9311b87844cd9651c7aec8b77168",
       "outputs": [
        {
         "data": {
          "image/png": "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",
          "text/plain": "<Figure size 1000x400 with 1 Axes>"
         },
         "metadata": {},
         "output_type": "display_data"
        },
        {
         "name": "stdout",
         "output_type": "stream",
         "text": "📐 Normal Depth: 3.07 m\n📐 Critical Depth: 1.18 m\n🧭 Slope Type: Mild\n"
        }
       ]
      }
     },
     "91555595d61d4d62a812e77e80d01af2": {
      "model_module": "@jupyter-widgets/base",
      "model_module_version": "2.0.0",
      "model_name": "LayoutModel",
      "state": {}
     },
     "97452152fd0c4937a1d81dfe3ba3e69c": {
      "model_module": "@jupyter-widgets/base",
      "model_module_version": "2.0.0",
      "model_name": "LayoutModel",
      "state": {
       "width": "400px"
      }
     },
     "9813377d406146b986e20b0cb87c451a": {
      "model_module": "@jupyter-widgets/controls",
      "model_module_version": "2.0.0",
      "model_name": "FloatSliderModel",
      "state": {
       "behavior": "drag-tap",
       "description": "Manning n",
       "layout": "IPY_MODEL_0d0b73399b7a43ac98c432cda42db4f6",
       "max": 0.06,
       "min": 0.01,
       "step": 0.001,
       "style": "IPY_MODEL_374dcf0b09754fd4aecfd2be1ef34ce5",
       "value": 0.03
      }
     },
     "9a226b6b46374e2d9045ddb22bfafa7c": {
      "model_module": "@jupyter-widgets/controls",
      "model_module_version": "2.0.0",
      "model_name": "DropdownModel",
      "state": {
       "_options_labels": [
        "upstream",
        "downstream"
       ],
       "description": "Flow Direction",
       "index": 1,
       "layout": "IPY_MODEL_adf87bbbbd4648ec9026315c6db031f4",
       "style": "IPY_MODEL_f563e78253d74d7284ef632c817531a3"
      }
     },
     "9b508333fa2047139e6428bc01efe26a": {
      "model_module": "@jupyter-widgets/controls",
      "model_module_version": "2.0.0",
      "model_name": "SliderStyleModel",
      "state": {
       "description_width": "160px"
      }
     },
     "9d98d608394242409f8bcbae7e2f78f1": {
      "model_module": "@jupyter-widgets/controls",
      "model_module_version": "2.0.0",
      "model_name": "SliderStyleModel",
      "state": {
       "description_width": "160px"
      }
     },
     "9dd1f360fa984a7789ca267dc34d2050": {
      "model_module": "@jupyter-widgets/base",
      "model_module_version": "2.0.0",
      "model_name": "LayoutModel",
      "state": {}
     },
     "9e9e7383d2224af7a685674479512e37": {
      "model_module": "@jupyter-widgets/controls",
      "model_module_version": "2.0.0",
      "model_name": "SliderStyleModel",
      "state": {
       "description_width": "160px"
      }
     },
     "9f366476a4ae47f39828e8ab49ca2b0b": {
      "model_module": "@jupyter-widgets/controls",
      "model_module_version": "2.0.0",
      "model_name": "FloatSliderModel",
      "state": {
       "behavior": "drag-tap",
       "description": "Manning n",
       "layout": "IPY_MODEL_335aafbd7c09431a9a4062854f17ecc4",
       "max": 0.06,
       "min": 0.01,
       "step": 0.001,
       "style": "IPY_MODEL_9d98d608394242409f8bcbae7e2f78f1",
       "value": 0.03
      }
     },
     "a22c6b7015ac4b0c8d68dc7f508c28ea": {
      "model_module": "@jupyter-widgets/controls",
      "model_module_version": "2.0.0",
      "model_name": "FloatSliderModel",
      "state": {
       "behavior": "drag-tap",
       "description": "Manning n",
       "layout": "IPY_MODEL_97452152fd0c4937a1d81dfe3ba3e69c",
       "max": 0.06,
       "min": 0.01,
       "step": 0.001,
       "style": "IPY_MODEL_9b508333fa2047139e6428bc01efe26a",
       "value": 0.03
      }
     },
     "aa815000e87f4cfda49d3a4004d5b81c": {
      "model_module": "@jupyter-widgets/controls",
      "model_module_version": "2.0.0",
      "model_name": "SliderStyleModel",
      "state": {
       "description_width": "160px"
      }
     },
     "aaf7dbec13ff4b52a4e981eabd33c2f5": {
      "model_module": "@jupyter-widgets/controls",
      "model_module_version": "2.0.0",
      "model_name": "SliderStyleModel",
      "state": {
       "description_width": "160px"
      }
     },
     "adf87bbbbd4648ec9026315c6db031f4": {
      "model_module": "@jupyter-widgets/base",
      "model_module_version": "2.0.0",
      "model_name": "LayoutModel",
      "state": {}
     },
     "b38658f56d2e446a931f2af5d7c4337d": {
      "model_module": "@jupyter-widgets/controls",
      "model_module_version": "2.0.0",
      "model_name": "FloatSliderModel",
      "state": {
       "behavior": "drag-tap",
       "description": "Flow Q (m³/s)",
       "layout": "IPY_MODEL_d34003d7f53d4ec0904b7d17fc6b5a3c",
       "min": 1,
       "style": "IPY_MODEL_8fce1d0c433342aeb8f4620fdeec1628",
       "value": 20.000000000000004
      }
     },
     "b4c1845a48494caca11f4f67824ab07e": {
      "model_module": "@jupyter-widgets/controls",
      "model_module_version": "2.0.0",
      "model_name": "SliderStyleModel",
      "state": {
       "description_width": ""
      }
     },
     "b503a377a4484de8b9412ddc7c504dd7": {
      "model_module": "@jupyter-widgets/controls",
      "model_module_version": "2.0.0",
      "model_name": "SliderStyleModel",
      "state": {
       "description_width": "160px"
      }
     },
     "b68e714e12bd42ceb93fb2680374801e": {
      "model_module": "@jupyter-widgets/controls",
      "model_module_version": "2.0.0",
      "model_name": "FloatSliderModel",
      "state": {
       "behavior": "drag-tap",
       "description": "Channel Width b (m)",
       "layout": "IPY_MODEL_81c383c966e04312a2fe3a49410324b3",
       "max": 20,
       "min": 1,
       "step": 0.5,
       "style": "IPY_MODEL_33a0b48659e142538f1822143e3a0921",
       "value": 5
      }
     },
     "b85a5fda6cbb4708805de5b587782d5c": {
      "model_module": "@jupyter-widgets/base",
      "model_module_version": "2.0.0",
      "model_name": "LayoutModel",
      "state": {}
     },
     "b85da27095444e6c89343b06ac203003": {
      "model_module": "@jupyter-widgets/controls",
      "model_module_version": "2.0.0",
      "model_name": "SliderStyleModel",
      "state": {
       "description_width": "150px"
      }
     },
     "b88c2d1c76404c0b8f549fe4ba9870b7": {
      "model_module": "@jupyter-widgets/controls",
      "model_module_version": "2.0.0",
      "model_name": "SliderStyleModel",
      "state": {
       "description_width": "150px"
      }
     },
     "baef169d50ba4521bb96bd59dd69f54a": {
      "model_module": "@jupyter-widgets/controls",
      "model_module_version": "2.0.0",
      "model_name": "VBoxModel",
      "state": {
       "children": [
        "IPY_MODEL_87f480ffb06242119901993e9c4afca9",
        "IPY_MODEL_053c5cef1302483b95891cea3e6ee82a",
        "IPY_MODEL_0f8e066b86024faa9c25964c9ac2cb3f",
        "IPY_MODEL_3eedd2a03e264c2f924bbe21b16f1081",
        "IPY_MODEL_51352c93dee64acba094156f13efc617",
        "IPY_MODEL_2803ce77677943eb844e5fa658d2ee56",
        "IPY_MODEL_f325186a9b524c97858b13c84c12727a",
        "IPY_MODEL_9a226b6b46374e2d9045ddb22bfafa7c"
       ],
       "layout": "IPY_MODEL_7f7f8116f6014bb2b2ae55e93105eb7e"
      }
     },
     "bd768074f3764efdb8198ff32a2bfdf6": {
      "model_module": "@jupyter-widgets/base",
      "model_module_version": "2.0.0",
      "model_name": "LayoutModel",
      "state": {}
     },
     "bdf399bd82a8418ea5a4b3f96448f495": {
      "model_module": "@jupyter-widgets/controls",
      "model_module_version": "2.0.0",
      "model_name": "DropdownModel",
      "state": {
       "_options_labels": [
        "upstream",
        "downstream"
       ],
       "description": "Flow Direction",
       "index": 1,
       "layout": "IPY_MODEL_8117ee91794943a5a8447269ebe978af",
       "style": "IPY_MODEL_3d58d2c0c5664b22bbb494a253691539"
      }
     },
     "c1da4a6d67b247acae1120407cdf9bfb": {
      "model_module": "@jupyter-widgets/base",
      "model_module_version": "2.0.0",
      "model_name": "LayoutModel",
      "state": {}
     },
     "c6a7204a9acf4895b46d494769dc566c": {
      "model_module": "@jupyter-widgets/output",
      "model_module_version": "1.0.0",
      "model_name": "OutputModel",
      "state": {
       "layout": "IPY_MODEL_d53c41320dd94715a772cfc2e3fd96c1",
       "outputs": [
        {
         "name": "stdout",
         "output_type": "stream",
         "text": "🔎 Slope Type: Mild\n📐 Normal Depth: 3.066 m\n📐 Critical Depth: 1.177 m\n📍 Starting Depth: 2.500 m\n🎯 Target Depth: 1.500 m\n🧭 Flow Direction: downstream\n📏 Estimated Distance to Target Depth: 571.6 m\n"
        }
       ]
      }
     },
     "c929ba25975244bea6d5b810123860b3": {
      "model_module": "@jupyter-widgets/controls",
      "model_module_version": "2.0.0",
      "model_name": "SliderStyleModel",
      "state": {
       "description_width": "150px"
      }
     },
     "ce1d61befacb43f4b5a695e9db903055": {
      "model_module": "@jupyter-widgets/base",
      "model_module_version": "2.0.0",
      "model_name": "LayoutModel",
      "state": {}
     },
     "cf92186ab2d640be8f19624cbefa1575": {
      "model_module": "@jupyter-widgets/controls",
      "model_module_version": "2.0.0",
      "model_name": "SliderStyleModel",
      "state": {
       "description_width": "150px"
      }
     },
     "d0118bb2d9d0426aa07c3636e8bc0a84": {
      "model_module": "@jupyter-widgets/controls",
      "model_module_version": "2.0.0",
      "model_name": "SliderStyleModel",
      "state": {
       "description_width": ""
      }
     },
     "d1c45ca9fffe435991a4f436747b8628": {
      "model_module": "@jupyter-widgets/controls",
      "model_module_version": "2.0.0",
      "model_name": "FloatSliderModel",
      "state": {
       "behavior": "drag-tap",
       "description": "Bed Slope S₀",
       "layout": "IPY_MODEL_48afbe00c6ac4baeaf50ce4bdff5405c",
       "max": 0.01,
       "min": 0.0001,
       "step": 0.0001,
       "style": "IPY_MODEL_328b682a6bbe4a1b8547e32309044ac1",
       "value": 0.001
      }
     },
     "d2c7e4821bcc4216a027cbb9d075207a": {
      "model_module": "@jupyter-widgets/controls",
      "model_module_version": "2.0.0",
      "model_name": "FloatSliderModel",
      "state": {
       "behavior": "drag-tap",
       "description": "Target Depth (m)",
       "layout": "IPY_MODEL_97452152fd0c4937a1d81dfe3ba3e69c",
       "max": 6,
       "min": 0.5,
       "step": 0.1,
       "style": "IPY_MODEL_9e9e7383d2224af7a685674479512e37",
       "value": 1.5
      }
     },
     "d34003d7f53d4ec0904b7d17fc6b5a3c": {
      "model_module": "@jupyter-widgets/base",
      "model_module_version": "2.0.0",
      "model_name": "LayoutModel",
      "state": {}
     },
     "d473f2f3532f480d996500fa53ce3bcc": {
      "model_module": "@jupyter-widgets/controls",
      "model_module_version": "2.0.0",
      "model_name": "FloatSliderModel",
      "state": {
       "behavior": "drag-tap",
       "description": "Start Depth (m)",
       "layout": "IPY_MODEL_5ebe478ae9084a56b32f138fd8255214",
       "max": 5,
       "min": 0.5,
       "step": 0.1,
       "style": "IPY_MODEL_7e9e712556b24c6796cdb61f5a63d5af",
       "value": 2.5
      }
     },
     "d4e5190b43db4311ae8be17b49a5414c": {
      "model_module": "@jupyter-widgets/base",
      "model_module_version": "2.0.0",
      "model_name": "LayoutModel",
      "state": {}
     },
     "d53c41320dd94715a772cfc2e3fd96c1": {
      "model_module": "@jupyter-widgets/base",
      "model_module_version": "2.0.0",
      "model_name": "LayoutModel",
      "state": {}
     },
     "db13d1d36a3e43b18be36c0ac28c4b92": {
      "model_module": "@jupyter-widgets/controls",
      "model_module_version": "2.0.0",
      "model_name": "SliderStyleModel",
      "state": {
       "description_width": ""
      }
     },
     "e029ab259d5d4b14afd55b876c3d0564": {
      "model_module": "@jupyter-widgets/controls",
      "model_module_version": "2.0.0",
      "model_name": "SliderStyleModel",
      "state": {
       "description_width": "160px"
      }
     },
     "e185956722494d3fbceaaa418e63ea72": {
      "model_module": "@jupyter-widgets/controls",
      "model_module_version": "2.0.0",
      "model_name": "FloatSliderModel",
      "state": {
       "behavior": "drag-tap",
       "description": "Channel Width (m)",
       "layout": "IPY_MODEL_3f57343b1f3b4f039fc0bc7d1f1b27d0",
       "max": 20,
       "min": 1,
       "step": 0.5,
       "style": "IPY_MODEL_1754dd7ca0cd414b9ee1be09dcda0af8",
       "value": 5
      }
     },
     "e86f791aee7f427088dce3e4488d967a": {
      "model_module": "@jupyter-widgets/base",
      "model_module_version": "2.0.0",
      "model_name": "LayoutModel",
      "state": {}
     },
     "e89795033129408981d0a5f9e359e109": {
      "model_module": "@jupyter-widgets/controls",
      "model_module_version": "2.0.0",
      "model_name": "DescriptionStyleModel",
      "state": {
       "description_width": ""
      }
     },
     "ec3d1815c8244222a0011eaea05c6dfa": {
      "model_module": "@jupyter-widgets/base",
      "model_module_version": "2.0.0",
      "model_name": "LayoutModel",
      "state": {}
     },
     "f0e913e0ecca4e96b17e6471512461d0": {
      "model_module": "@jupyter-widgets/controls",
      "model_module_version": "2.0.0",
      "model_name": "SliderStyleModel",
      "state": {
       "description_width": ""
      }
     },
     "f1acb10579264ecf899beb27f5b7dbc4": {
      "model_module": "@jupyter-widgets/controls",
      "model_module_version": "2.0.0",
      "model_name": "FloatSliderModel",
      "state": {
       "behavior": "drag-tap",
       "description": "Manning n",
       "layout": "IPY_MODEL_fbc44b877dc64e1bb7fccf8a59c07730",
       "max": 0.06,
       "min": 0.01,
       "step": 0.001,
       "style": "IPY_MODEL_80afdde9787343289efaad89c11c8ba3",
       "value": 0.03
      }
     },
     "f1cdc28d28254c5faeb613f2e4621551": {
      "model_module": "@jupyter-widgets/controls",
      "model_module_version": "2.0.0",
      "model_name": "SliderStyleModel",
      "state": {
       "description_width": "160px"
      }
     },
     "f2d4b2946e914d6fba197b89b4d8dd8e": {
      "model_module": "@jupyter-widgets/controls",
      "model_module_version": "2.0.0",
      "model_name": "FloatSliderModel",
      "state": {
       "behavior": "drag-tap",
       "description": "Starting Depth (m)",
       "layout": "IPY_MODEL_335aafbd7c09431a9a4062854f17ecc4",
       "max": 6,
       "min": 0.5,
       "step": 0.1,
       "style": "IPY_MODEL_7b6cfc44eec841599ada0636277bf3e9",
       "value": 2.5
      }
     },
     "f2db15f895a84a8685ed22287649dfd4": {
      "model_module": "@jupyter-widgets/controls",
      "model_module_version": "2.0.0",
      "model_name": "FloatSliderModel",
      "state": {
       "behavior": "drag-tap",
       "description": "Distance (m)",
       "layout": "IPY_MODEL_c1da4a6d67b247acae1120407cdf9bfb",
       "max": 1000,
       "min": 1,
       "step": 5,
       "style": "IPY_MODEL_1ff84822b4144ae3a3f552d4a88e188d",
       "value": 101
      }
     },
     "f325186a9b524c97858b13c84c12727a": {
      "model_module": "@jupyter-widgets/controls",
      "model_module_version": "2.0.0",
      "model_name": "FloatSliderModel",
      "state": {
       "behavior": "drag-tap",
       "description": "Starting Depth h₀ (m)",
       "layout": "IPY_MODEL_77265d537a21471f9a731cdec31f9276",
       "max": 6,
       "min": 0.5,
       "step": 0.1,
       "style": "IPY_MODEL_68069360b5cd415f8ef8ace3e3585ff2",
       "value": 2
      }
     },
     "f563e78253d74d7284ef632c817531a3": {
      "model_module": "@jupyter-widgets/controls",
      "model_module_version": "2.0.0",
      "model_name": "DescriptionStyleModel",
      "state": {
       "description_width": ""
      }
     },
     "f5802763d669427a833c72db8a0fad56": {
      "model_module": "@jupyter-widgets/output",
      "model_module_version": "1.0.0",
      "model_name": "OutputModel",
      "state": {
       "layout": "IPY_MODEL_12de6909bf8f4636a170276c5b5f8dee",
       "outputs": [
        {
         "name": "stdout",
         "output_type": "stream",
         "text": "🔎 Slope Type: Mild\n📐 Normal Depth: 3.066 m\n📐 Critical Depth: 1.177 m\n📍 Starting Depth: 2.500 m\n🎯 Target Depth: 1.500 m\n🧭 Flow Direction: downstream\n📏 Estimated Distance to Target Depth: 571.6 m\n"
        }
       ]
      }
     },
     "f683167c1f9e4d9e84397d8de3686991": {
      "model_module": "@jupyter-widgets/controls",
      "model_module_version": "2.0.0",
      "model_name": "FloatSliderModel",
      "state": {
       "behavior": "drag-tap",
       "description": "Bed Slope S₀",
       "layout": "IPY_MODEL_335aafbd7c09431a9a4062854f17ecc4",
       "max": 0.01,
       "min": 0.0001,
       "step": 0.0001,
       "style": "IPY_MODEL_aaf7dbec13ff4b52a4e981eabd33c2f5",
       "value": 0.001
      }
     },
     "f983f960a0664a30bc5442149520d268": {
      "model_module": "@jupyter-widgets/base",
      "model_module_version": "2.0.0",
      "model_name": "LayoutModel",
      "state": {}
     },
     "fb81ce57e9cb471a84dcf3b464c1ff7d": {
      "model_module": "@jupyter-widgets/controls",
      "model_module_version": "2.0.0",
      "model_name": "SliderStyleModel",
      "state": {
       "description_width": "150px"
      }
     },
     "fbc44b877dc64e1bb7fccf8a59c07730": {
      "model_module": "@jupyter-widgets/base",
      "model_module_version": "2.0.0",
      "model_name": "LayoutModel",
      "state": {}
     },
     "fe1d3387ae76452a99cb3290a836c907": {
      "model_module": "@jupyter-widgets/controls",
      "model_module_version": "2.0.0",
      "model_name": "SliderStyleModel",
      "state": {
       "description_width": "160px"
      }
     },
     "ffd6c8724b944e2ca1d1f74494f364e1": {
      "model_module": "@jupyter-widgets/controls",
      "model_module_version": "2.0.0",
      "model_name": "IntSliderModel",
      "state": {
       "behavior": "drag-tap",
       "description": "Steps",
       "layout": "IPY_MODEL_8f3ee9674d024acd86f296920a3ee520",
       "max": 200,
       "min": 10,
       "step": 10,
       "style": "IPY_MODEL_83a2e06fb08544a4a1ff272c7522995c",
       "value": 50
      }
     }
    },
    "version_major": 2,
    "version_minor": 0
   }
  }
 },
 "nbformat": 4,
 "nbformat_minor": 5
}
