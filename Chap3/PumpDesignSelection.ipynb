{
 "cells": [
  {
   "cell_type": "markdown",
   "id": "75a208e4-6d20-4829-98ae-f396ea8b6466",
   "metadata": {},
   "source": [
    "# Chapter 3 Hydraulics: Hydraulic Pumps"
   ]
  },
  {
   "cell_type": "markdown",
   "id": "7cdde549-3a98-46b4-9976-758867d57e00",
   "metadata": {},
   "source": [
    "1. [Introduction: Hydraulic Pumps](#1.-Introduction)\n",
    "2. [Simulation: Pump Selection](#2.-Simulation)\n",
    "3. [Simulation: Pump Design](#3.-Simulation)\n",
    "4. [Self-Assessment](#4.-Self-Assessment)"
   ]
  },
  {
   "cell_type": "markdown",
   "id": "1c155221-3fde-4610-8832-87bba522c0ca",
   "metadata": {},
   "source": [
    "## 1. Introduction"
   ]
  },
  {
   "attachments": {},
   "cell_type": "markdown",
   "id": "9f032634-1118-4696-8acd-d3c3de1b9d2e",
   "metadata": {
    "jp-MarkdownHeadingCollapsed": true
   },
   "source": [
    "\n",
    "```{figure} HydraulicPump.png\n",
    ":alt: Descriptive alt text for accessibility\n",
    ":width: 600px\n",
    ":name: Breaking Wave\n",
    "\n",
    "**Figure 3.9 **: Breaking Wave.\n",
    "\n",
    "```\n",
    "\n",
    "### 💧 Hydraulic Pumps: Concepts, Design, and System Integration\n",
    "\n",
    "\n",
    "\n",
    "### 📘 Definition\n",
    "\n",
    "A **hydraulic pump** converts mechanical energy into hydraulic energy by generating flow and pressure within a fluid system. It is a core component in applications such as water delivery, energy dissipation, and fluid power systems.\n",
    "\n",
    "---\n",
    "\n",
    "### ⚙️ Design Parameters\n",
    "\n",
    "| Parameter        | Description                                                             |\n",
    "|------------------|-------------------------------------------------------------------------|\n",
    "| **Flow Rate (Q)**| Volume of fluid moved per unit time (e.g., L/min or m³/s)               |\n",
    "| **Head (H)**     | Energy per unit weight of fluid, typically expressed in meters          |\n",
    "| **Power (Pₖ)**   | Mechanical energy required to drive the pump                            |\n",
    "| **Efficiency (η)**| Ratio of hydraulic power to shaft input power                          |\n",
    "| **Fluid Properties** | Density, viscosity, temperature, and presence of solids              |\n",
    "| **NPSH**         | Net Positive Suction Head required to avoid cavitation                  |\n",
    "\n",
    "---\n",
    "\n",
    "### 🔍 Types of Hydraulic Pumps\n",
    "\n",
    "| Pump Type                | Description & Use Case                                         |\n",
    "|--------------------------|---------------------------------------------------------------|\n",
    "| **Centrifugal Pump**      | Rotodynamic; high flow, low pressure; ideal for clean water   |\n",
    "| **Gear Pump**             | Positive displacement; suitable for viscous fluids            |\n",
    "| **Vane Pump**             | Moderate pressure and compact footprint                       |\n",
    "| **Piston Pump**           | High pressure applications; variable displacement             |\n",
    "| **Diaphragm Pump**        | For slurries, chemicals, and solids-laden fluids              |\n",
    "\n",
    "---\n",
    "\n",
    "### 🧪 Pump Selection Guidelines\n",
    "\n",
    "- Match pump type with fluid characteristics and system duty\n",
    "- Consider pressure, flow rate, efficiency, and spatial constraints\n",
    "- Use manufacturer curves and selection charts\n",
    "- Verify compatibility with solids, viscosity, and corrosion\n",
    "\n",
    "---\n",
    "\n",
    "### 📈 Pump Characteristic Curve\n",
    "\n",
    "- Plot of **Head vs. Flow Rate** for a pump at constant speed\n",
    "- Includes:\n",
    "  - **Best Efficiency Point (BEP)**\n",
    "  - **Power consumption**\n",
    "  - **NPSHr (required)**\n",
    "- Shape: head decreases as flow increases\n",
    "\n",
    "---\n",
    "\n",
    "### 📊 System Curve\n",
    "\n",
    "- Represents total **head loss** in the system as a function of flow\n",
    "- Components:\n",
    "  - **Static head** (elevation gain/loss)\n",
    "  - **Friction head** (pipe and fittings resistance)\n",
    "- Curve rises with increasing flow\n",
    "\n",
    "---\n",
    "\n",
    "### 🎯 Selection of Operating Point\n",
    "\n",
    "- Found at the **intersection** of pump curve and system curve\n",
    "- Should be near **BEP** for optimal:\n",
    "  - Efficiency\n",
    "  - Longevity\n",
    "  - Noise/vibration control\n",
    "- Consider **POR** and **AOR** per ANSI/HI guidelines\n",
    "\n",
    "---\n",
    "\n",
    "### 🧮 Net Positive Suction Head (NPSH)\n",
    "\n",
    "| Term        | Definition                                                    |\n",
    "|-------------|---------------------------------------------------------------|\n",
    "| **NPSHa**   | Available suction head in the system                          |\n",
    "| **NPSHr**   | Minimum required NPSH by the pump to prevent cavitation       |\n",
    "| **Cavitation Risk** | Occurs if NPSHa < NPSHr — leads to vapor bubbles & damage |\n",
    "\n",
    "> Ensure NPSHa ≥ NPSHr + margin for safe operation.\n",
    "\n",
    "---\n",
    "\n",
    "### 🔗 Pumps in Series vs. Pumps in Parallel\n",
    "\n",
    "| Configuration       | Combined Effect                  | Typical Application                     |\n",
    "|---------------------|----------------------------------|------------------------------------------|\n",
    "| **Series**          | Adds **head**, flow remains constant | High elevation or pressure requirements  |\n",
    "| **Parallel**        | Adds **flow**, head remains constant | High demand or variable flow systems     |\n",
    "\n",
    "- In **series**: $( H_{total} = H_1 + H_2 $)\n",
    "- In **parallel**: $( Q_{total} = Q_1 + Q_2 $)\n",
    "\n",
    "---\n",
    "### References\n",
    "\n",
    "{cite}`gupta2017hydrology` provides fundamental coverage of hydraulic machinery and pumps, suitable for civil and mechanical engineering students.\n"
   ]
  },
  {
   "cell_type": "markdown",
   "id": "86b99ac7-f0be-4b3d-b2ef-2c2a316ea365",
   "metadata": {},
   "source": [
    "## 2. Simulation"
   ]
  },
  {
   "cell_type": "markdown",
   "id": "ccc0a6f0-e145-41cb-a47b-6421d400766a",
   "metadata": {},
   "source": [
    "### 💧 Summary: Interactive Hydraulic Pump Design & Selection Tool\n",
    "\n",
    "### 📘 What It Is\n",
    "This Jupyter-based Python tool estimates hydraulic pump power requirements and suggests suitable pump types. It uses `ipywidgets` for interactive input and real-time output display.\n",
    "\n",
    "---\n",
    "\n",
    "### ⚙️ How It Works\n",
    "\n",
    "### 🔧 Design Calculator\n",
    "- Computes **flow rate** in m³/s from user input (L/min)\n",
    "- Calculates **required power** in kW based on flow rate, head, fluid density, gravity, and efficiency\n",
    "- Optionally estimates **outlet pressure** in kPa\n",
    "\n",
    "### 🔍 Pump Selector\n",
    "- Recommends pump type based on:\n",
    "  - Flow rate and head\n",
    "  - Fluid type and viscosity\n",
    "  - Presence of solids\n",
    "  - Space constraints\n",
    "\n",
    "---\n",
    "\n",
    "### 🧭 Inputs and Parameters\n",
    "\n",
    "| Parameter         | Purpose                                  |\n",
    "|------------------|------------------------------------------|\n",
    "| Q (L/min)         | Flow rate input                          |\n",
    "| H (m)             | Head (elevation gain)                    |\n",
    "| Efficiency        | Pump efficiency (0.5–0.95)               |\n",
    "| Density (ρ)       | Fluid density (kg/m³)                    |\n",
    "| Gravity (g)       | Gravitational constant (m/s²)            |\n",
    "| Fluid Type        | Water, Oil, Coolant                      |\n",
    "| Viscosity (cP)    | Fluid viscosity                          |\n",
    "| Solids Present    | Checkbox for abrasive or particulate flow|\n",
    "| Space Limited     | Checkbox for vertical installation logic |\n",
    "\n",
    "---\n",
    "\n",
    "### 📊 Interpreting Output\n",
    "\n",
    "| Output Field             | Meaning                                             |\n",
    "|--------------------------|-----------------------------------------------------|\n",
    "| Flow Rate (m³/s)         | Converted flow for power calculation                |\n",
    "| Required Power (kW)      | Energy needed to deliver fluid at defined head      |\n",
    "| Outlet Pressure (kPa)    | Estimated static pressure at pump outlet            |\n",
    "| Pump Selection Advice    | Suggests most suitable pump type for given scenario |\n",
    "\n",
    "---\n",
    "\n",
    "This tool is useful for teaching design principles, guiding preliminary selection in water systems, or exploring parametric impacts on pump sizing."
   ]
  },
  {
   "cell_type": "code",
   "execution_count": 6,
   "id": "8ea8c934-ca6f-4667-b595-c7c68cabea97",
   "metadata": {},
   "outputs": [
    {
     "data": {
      "application/vnd.jupyter.widget-view+json": {
       "model_id": "b403b8fdc5fd43368b02a8aec15c7d64",
       "version_major": 2,
       "version_minor": 0
      },
      "text/plain": [
       "FloatSlider(value=500.0, description='Flow Q (L/min):', max=2000.0, min=10.0, step=10.0)"
      ]
     },
     "metadata": {},
     "output_type": "display_data"
    },
    {
     "data": {
      "application/vnd.jupyter.widget-view+json": {
       "model_id": "9535ba32ac2d49398304901c63ea243f",
       "version_major": 2,
       "version_minor": 0
      },
      "text/plain": [
       "FloatSlider(value=35.0, description='Head H (m):', max=150.0, min=1.0, step=1.0)"
      ]
     },
     "metadata": {},
     "output_type": "display_data"
    },
    {
     "data": {
      "application/vnd.jupyter.widget-view+json": {
       "model_id": "4c5accbcc2bf4b938949a102865082fc",
       "version_major": 2,
       "version_minor": 0
      },
      "text/plain": [
       "FloatSlider(value=0.75, description='Efficiency:', max=0.95, min=0.5, step=0.01)"
      ]
     },
     "metadata": {},
     "output_type": "display_data"
    },
    {
     "data": {
      "application/vnd.jupyter.widget-view+json": {
       "model_id": "05981db8b003435fa55430e050dfb7c9",
       "version_major": 2,
       "version_minor": 0
      },
      "text/plain": [
       "FloatSlider(value=1000.0, description='Density ρ:', max=1200.0, min=950.0, step=10.0)"
      ]
     },
     "metadata": {},
     "output_type": "display_data"
    },
    {
     "data": {
      "application/vnd.jupyter.widget-view+json": {
       "model_id": "c9d0380892e44066bf685930ea05ef46",
       "version_major": 2,
       "version_minor": 0
      },
      "text/plain": [
       "FloatSlider(value=9.81, description='Gravity g:', max=10.0, min=9.0, step=0.01)"
      ]
     },
     "metadata": {},
     "output_type": "display_data"
    },
    {
     "data": {
      "application/vnd.jupyter.widget-view+json": {
       "model_id": "f400471e09bc49c6af6bda584a6524cf",
       "version_major": 2,
       "version_minor": 0
      },
      "text/plain": [
       "Dropdown(description='Fluid:', options=('Water', 'Oil', 'Coolant'), value='Water')"
      ]
     },
     "metadata": {},
     "output_type": "display_data"
    },
    {
     "data": {
      "application/vnd.jupyter.widget-view+json": {
       "model_id": "e125ae00e77548058189f7ec9c55a58c",
       "version_major": 2,
       "version_minor": 0
      },
      "text/plain": [
       "FloatSlider(value=1.0, description='Viscosity (cP):', max=500.0, min=0.5, step=1.0)"
      ]
     },
     "metadata": {},
     "output_type": "display_data"
    },
    {
     "data": {
      "application/vnd.jupyter.widget-view+json": {
       "model_id": "d3a637ae5bc740e7b86f8ed7e5a228d2",
       "version_major": 2,
       "version_minor": 0
      },
      "text/plain": [
       "Checkbox(value=False, description='Solids Present')"
      ]
     },
     "metadata": {},
     "output_type": "display_data"
    },
    {
     "data": {
      "application/vnd.jupyter.widget-view+json": {
       "model_id": "e04e0c06ae7f4a478610b2473767a0aa",
       "version_major": 2,
       "version_minor": 0
      },
      "text/plain": [
       "Checkbox(value=False, description='Space Limited')"
      ]
     },
     "metadata": {},
     "output_type": "display_data"
    },
    {
     "data": {
      "application/vnd.jupyter.widget-view+json": {
       "model_id": "2b6f0a675fd142dabab831f9c921fad0",
       "version_major": 2,
       "version_minor": 0
      },
      "text/plain": [
       "Button(description='Calculate & Recommend', style=ButtonStyle())"
      ]
     },
     "metadata": {},
     "output_type": "display_data"
    }
   ],
   "source": [
    "import numpy as np\n",
    "import ipywidgets as widgets\n",
    "from IPython.display import display, Markdown\n",
    "\n",
    "# 🔧 Design calculator\n",
    "def hydraulic_pump_design(Q_lpm, H_m, efficiency=0.75, rho=1000, g=9.81, include_pressure=True):\n",
    "    Q_m3s = Q_lpm / 1000 / 60\n",
    "    power_kW = (rho * g * Q_m3s * H_m) / (efficiency * 1000)\n",
    "    pressure_kPa = rho * g * H_m / 1000 if include_pressure else None\n",
    "\n",
    "    md = f\"\"\"\n",
    "### 💡 Hydraulic Pump Design Results\n",
    "\n",
    "- **Flow Rate**: {Q_lpm:.1f} L/min → {Q_m3s:.5f} m³/s  \n",
    "- **Head**: {H_m:.1f} m  \n",
    "- **Efficiency**: {efficiency:.2f}  \n",
    "- **Fluid Density (ρ)**: {rho:.1f} kg/m³  \n",
    "- **Gravity (g)**: {g:.2f} m/s²  \n",
    "- ⚡ **Required Power**: {power_kW:.2f} kW  \n",
    "- 🧪 **Outlet Pressure**: {pressure_kPa:.2f} kPa\n",
    "\"\"\"\n",
    "    display(Markdown(md))\n",
    "\n",
    "# 🔍 Pump selector\n",
    "def recommend_pump_type(flow_lpm, head_m, fluid_type='Water', temperature=25,\n",
    "                        viscosity_cP=1.0, solids=False, space_limited=False):\n",
    "    if viscosity_cP > 100 or fluid_type.lower() == 'oil':\n",
    "        return \"🔧 Recommend: Screw or Gear Pump (Viscous Fluids)\"\n",
    "    elif head_m > 100:\n",
    "        return \"🔧 Recommend: Multistage Centrifugal Pump (High Head)\"\n",
    "    elif solids:\n",
    "        return \"🔧 Recommend: Slurry or Diaphragm Pump (Solids Handling)\"\n",
    "    elif flow_lpm < 50:\n",
    "        return \"🔧 Recommend: Peristaltic or Piston Pump (Low Flow)\"\n",
    "    elif space_limited:\n",
    "        return \"🔧 Recommend: Vertical Inline Pump (Compact Footprint)\"\n",
    "    else:\n",
    "        return \"🔧 Recommend: Standard Centrifugal Pump (General Use)\"\n",
    "\n",
    "# 🎛️ Widgets\n",
    "Q_slider = widgets.FloatSlider(value=500, min=10, max=2000, step=10, description='Flow Q (L/min):')\n",
    "H_slider = widgets.FloatSlider(value=35, min=1, max=150, step=1, description='Head H (m):')\n",
    "eff_slider = widgets.FloatSlider(value=0.75, min=0.5, max=0.95, step=0.01, description='Efficiency:')\n",
    "rho_slider = widgets.FloatSlider(value=1000, min=950, max=1200, step=10, description='Density ρ:')\n",
    "g_slider = widgets.FloatSlider(value=9.81, min=9.0, max=10.0, step=0.01, description='Gravity g:')\n",
    "\n",
    "fluid_dropdown = widgets.Dropdown(options=['Water', 'Oil', 'Coolant'], value='Water', description='Fluid:')\n",
    "viscosity_slider = widgets.FloatSlider(value=1.0, min=0.5, max=500.0, step=1.0, description='Viscosity (cP):')\n",
    "solids_toggle = widgets.Checkbox(value=False, description='Solids Present')\n",
    "space_toggle = widgets.Checkbox(value=False, description='Space Limited')\n",
    "\n",
    "run_btn = widgets.Button(description='Calculate & Recommend')\n",
    "\n",
    "def on_click(b):\n",
    "    hydraulic_pump_design(Q_slider.value, H_slider.value, eff_slider.value,\n",
    "                          rho_slider.value, g_slider.value)\n",
    "\n",
    "    recommendation = recommend_pump_type(flow_lpm=Q_slider.value,\n",
    "                                         head_m=H_slider.value,\n",
    "                                         fluid_type=fluid_dropdown.value,\n",
    "                                         viscosity_cP=viscosity_slider.value,\n",
    "                                         solids=solids_toggle.value,\n",
    "                                         space_limited=space_toggle.value)\n",
    "    display(Markdown(f\"### 🧭 Pump Selection Advice\\n{recommendation}\"))\n",
    "\n",
    "run_btn.on_click(on_click)\n",
    "\n",
    "# 📦 Display interface\n",
    "display(Q_slider, H_slider, eff_slider, rho_slider, g_slider,\n",
    "        fluid_dropdown, viscosity_slider, solids_toggle, space_toggle, run_btn)"
   ]
  },
  {
   "cell_type": "markdown",
   "id": "d7923222-b898-4149-98ba-16dc81e96701",
   "metadata": {},
   "source": [
    "## 3. Simulation"
   ]
  },
  {
   "cell_type": "markdown",
   "id": "6f4c9166-cf67-488c-8624-84bc6ef5a4d7",
   "metadata": {},
   "source": [
    "### 💧 Summary: Pump Flow Capacity Estimator (Interactive Tool)\n",
    "\n",
    "### 📘 What It Is\n",
    "This Python-based Jupyter tool estimates flow capacity and evaluates suction safety for typical pumps based on embedded performance curves. It allows users to interactively define system elevation, pipe conditions, and fluid properties.\n",
    "\n",
    "---\n",
    "\n",
    "### ⚙️ What It Does\n",
    "\n",
    "- Uses embedded pump models with head–flow equations \\( H = a - bQ^2 \\)\n",
    "- Computes static head based on suction and discharge elevations\n",
    "- Solves for operating flow rate where pump head equals system head\n",
    "- Assesses NPSH safety by comparing NPSHa vs. NPSHr\n",
    "\n",
    "---\n",
    "\n",
    "### 🧮 How It Works\n",
    "\n",
    "| Module             | Function                                                                 |\n",
    "|--------------------|--------------------------------------------------------------------------|\n",
    "| `pump_models`       | Defines typical pumps with parameters `a`, `b`, and `NPSHr`              |\n",
    "| `find_operating_point()` | Calculates flow rate \\( Q_{opt} \\) that satisfies \\( H_{pump} = H_{system} \\) |\n",
    "| `check_npsh()`      | Computes Net Positive Suction Head Available (NPSHa) and checks safety margin |\n",
    "| Widgets             | Let users input suction/discharge elevations, pipe diameter, losses, vapor head |\n",
    "\n",
    "---\n",
    "\n",
    "### 📊 Input Parameters\n",
    "\n",
    "| Input                 | Meaning                                               |\n",
    "|-----------------------|--------------------------------------------------------|\n",
    "| **Pump Model**        | Selects curve parameters for a predefined pump         |\n",
    "| **Suction Elevation** | Elevation of fluid source (m)                          |\n",
    "| **Discharge Elevation** | Elevation of output point (m)                       |\n",
    "| **Pipe Diameter**     | Size of delivery pipe (used for display)              |\n",
    "| **Vapor Head**        | Vapor pressure head of fluid (used in NPSH calc)      |\n",
    "| **Pipe Loss**         | Suction-side head loss (m)                             |\n",
    "\n",
    "---\n",
    "\n",
    "### 📈 How to Interpret Outputs\n",
    "\n",
    "| Output Field            | Meaning                                                            |\n",
    "|-------------------------|---------------------------------------------------------------------|\n",
    "| **Static Head**         | Elevation difference driving system resistance                     |\n",
    "| **Pump Head at Operating Point** | Required pump head when flow equals system head           |\n",
    "| **Flow Capacity**       | Calculated flow rate where pump matches system resistance (L/s)    |\n",
    "| **NPSHa vs. NPSHr**     | Compares available and required suction head for cavitation safety |\n",
    "| **Safety Margin**       | Buffer zone above NPSHr; ≥0.5 m is typically safe                  |\n",
    "\n",
    "---\n",
    "\n",
    "✅ Use this tool to determine feasibility, pump suitability, and suction safety across design scenarios. You can easily extend it with real pump catalog data, friction losses, or visual curve plotting."
   ]
  },
  {
   "cell_type": "code",
   "execution_count": 7,
   "id": "fee67f0d-ceb4-4884-abb0-08939485f627",
   "metadata": {},
   "outputs": [
    {
     "data": {
      "application/vnd.jupyter.widget-view+json": {
       "model_id": "e5e210073dda42a095cede874948583f",
       "version_major": 2,
       "version_minor": 0
      },
      "text/plain": [
       "Dropdown(description='Pump Model:', options=('Model A - Centrifugal', 'Model B - Multistage', 'Model C - Low H…"
      ]
     },
     "metadata": {},
     "output_type": "display_data"
    },
    {
     "data": {
      "application/vnd.jupyter.widget-view+json": {
       "model_id": "7ca2b6ef71ce4156995ce8ec69327a7d",
       "version_major": 2,
       "version_minor": 0
      },
      "text/plain": [
       "FloatSlider(value=2.0, description='Suction Elev (m):', max=10.0, min=-5.0, step=0.5)"
      ]
     },
     "metadata": {},
     "output_type": "display_data"
    },
    {
     "data": {
      "application/vnd.jupyter.widget-view+json": {
       "model_id": "051b2851e1ad4d9b8b45c0a275df8e5e",
       "version_major": 2,
       "version_minor": 0
      },
      "text/plain": [
       "FloatSlider(value=30.0, description='Discharge Elev (m):', step=1.0)"
      ]
     },
     "metadata": {},
     "output_type": "display_data"
    },
    {
     "data": {
      "application/vnd.jupyter.widget-view+json": {
       "model_id": "a95e4e9f8255476aad9f08fa29a7566b",
       "version_major": 2,
       "version_minor": 0
      },
      "text/plain": [
       "FloatSlider(value=0.2, description='Pipe Diameter (m):', max=1.0, min=0.05, step=0.01)"
      ]
     },
     "metadata": {},
     "output_type": "display_data"
    },
    {
     "data": {
      "application/vnd.jupyter.widget-view+json": {
       "model_id": "72a6157e45474b319ce83d4b046a3b06",
       "version_major": 2,
       "version_minor": 0
      },
      "text/plain": [
       "FloatSlider(value=0.3, description='Vapor Head (m):', max=1.5, min=0.2, step=0.05)"
      ]
     },
     "metadata": {},
     "output_type": "display_data"
    },
    {
     "data": {
      "application/vnd.jupyter.widget-view+json": {
       "model_id": "52705833732d456f975e0392817be0ea",
       "version_major": 2,
       "version_minor": 0
      },
      "text/plain": [
       "FloatSlider(value=0.6, description='Suction Pipe Loss (m):', max=2.0, min=0.1)"
      ]
     },
     "metadata": {},
     "output_type": "display_data"
    },
    {
     "data": {
      "application/vnd.jupyter.widget-view+json": {
       "model_id": "8c769b6e459b430fb7bba4a4f936c5b6",
       "version_major": 2,
       "version_minor": 0
      },
      "text/plain": [
       "Button(description='Estimate Flow Capacity', style=ButtonStyle())"
      ]
     },
     "metadata": {},
     "output_type": "display_data"
    }
   ],
   "source": [
    "import numpy as np\n",
    "import ipywidgets as widgets\n",
    "from IPython.display import display, Markdown\n",
    "\n",
    "# Sample pump models with H_pump = a - b*Q²\n",
    "pump_models = {\n",
    "    'Model A - Centrifugal': {'a': 40, 'b': 0.004, 'NPSHr': 2.5},\n",
    "    'Model B - Multistage': {'a': 70, 'b': 0.002, 'NPSHr': 4.0},\n",
    "    'Model C - Low Head, High Flow': {'a': 25, 'b': 0.006, 'NPSHr': 1.8}\n",
    "}\n",
    "\n",
    "# System curve: Static head only\n",
    "def system_head(Q, suction_elev, discharge_elev):\n",
    "    return discharge_elev - suction_elev\n",
    "\n",
    "# Solve for operating point Q_opt (H_pump = H_system)\n",
    "def find_operating_point(pump, suction_elev, discharge_elev):\n",
    "    a, b = pump['a'], pump['b']\n",
    "    static_head = discharge_elev - suction_elev\n",
    "    delta_H = a - static_head\n",
    "    if delta_H <= 0:\n",
    "        return 0, a, static_head, False\n",
    "    Q_opt = np.sqrt(delta_H / b)\n",
    "    H_pump = a - b * Q_opt**2\n",
    "    return Q_opt, H_pump, static_head, True\n",
    "\n",
    "# NPSH safety check\n",
    "def check_npsh(pump, vapor_head, suction_elev, pipe_loss, atm_head=10.3):\n",
    "    NPSHa = atm_head + suction_elev - pipe_loss - vapor_head\n",
    "    margin = NPSHa - pump['NPSHr']\n",
    "    safe = margin >= 0.5\n",
    "    return round(NPSHa, 2), round(pump['NPSHr'], 2), round(margin, 2), safe\n",
    "\n",
    "# Widgets\n",
    "pump_selector = widgets.Dropdown(options=list(pump_models.keys()), description='Pump Model:')\n",
    "suction_slider = widgets.FloatSlider(value=2, min=-5, max=10, step=0.5, description='Suction Elev (m):')\n",
    "discharge_slider = widgets.FloatSlider(value=30, min=0, max=100, step=1, description='Discharge Elev (m):')\n",
    "pipe_diam_slider = widgets.FloatSlider(value=0.2, min=0.05, max=1.0, step=0.01, description='Pipe Diameter (m):')\n",
    "vapor_head_slider = widgets.FloatSlider(value=0.3, min=0.2, max=1.5, step=0.05, description='Vapor Head (m):')\n",
    "pipe_loss_slider = widgets.FloatSlider(value=0.6, min=0.1, max=2.0, step=0.1, description='Suction Pipe Loss (m):')\n",
    "run_btn = widgets.Button(description='Estimate Flow Capacity')\n",
    "\n",
    "# Callback\n",
    "def on_click(b):\n",
    "    pump = pump_models[pump_selector.value]\n",
    "    Q_opt, H_pump, H_sys, feasible = find_operating_point(pump, suction_slider.value, discharge_slider.value)\n",
    "    NPSHa, NPSHr, margin, safe = check_npsh(pump, vapor_head_slider.value, suction_slider.value, pipe_loss_slider.value)\n",
    "\n",
    "    if not feasible:\n",
    "        md = \"### ❌ No feasible operating point — system head exceeds pump capability.\"\n",
    "    else:\n",
    "        md = f\"\"\"\n",
    "### 🚰 Estimated Pump Flow Capacity\n",
    "\n",
    "- **Pump Model**: {pump_selector.value}  \n",
    "- **Static Head**: {H_sys:.2f} m  \n",
    "- **Pump Head at Operating Point**: {H_pump:.2f} m  \n",
    "- **Flow Capacity**: {Q_opt:.2f} L/s  \n",
    "- **Pipe Diameter**: {pipe_diam_slider.value:.2f} m  \n",
    "\n",
    "### 🧪 NPSH Check\n",
    "\n",
    "- **NPSHa**: {NPSHa:.2f} m  \n",
    "- **NPSHr**: {NPSHr:.2f} m  \n",
    "- **Safety Margin**: {margin:.2f} m  \n",
    "- {'✅ Cavitation risk is low' if safe else '⚠️ Cavitation risk detected — redesign advised'}\n",
    "\"\"\"\n",
    "    display(Markdown(md))\n",
    "\n",
    "run_btn.on_click(on_click)\n",
    "\n",
    "# Display UI\n",
    "display(pump_selector, suction_slider, discharge_slider,\n",
    "        pipe_diam_slider, vapor_head_slider, pipe_loss_slider, run_btn)"
   ]
  },
  {
   "cell_type": "markdown",
   "id": "84b716aa-fe33-4f72-9397-133ae101ef14",
   "metadata": {},
   "source": [
    "### ⚙️ Interactive Visualization of Pump Performance Curves\n",
    "\n",
    "This Python tool uses `ipywidgets` and `matplotlib` to display characteristic pump curves for various types, sizes, and speeds. It is useful for analyzing how impeller diameter and rotation speed affect pump behavior across flow rates.\n",
    "\n",
    "---\n",
    "\n",
    "### 📈 What It Shows\n",
    "\n",
    "1. **Head vs. Flow Rate (Q-H Curve)**  \n",
    "   How the pressure head varies as flow increases. Different pump types exhibit distinct head profiles.\n",
    "\n",
    "2. **Efficiency vs. Flow Rate**  \n",
    "   Visualization of optimal operating regions where pump efficiency peaks.\n",
    "\n",
    "3. **Power Requirement vs. Flow Rate**  \n",
    "   Illustrates the energy consumption relative to throughput.\n",
    "\n",
    "---\n",
    "\n",
    "### 🔧 Interactive Inputs\n",
    "\n",
    "- **Pump Type**  \n",
    "  Select from Centrifugal, Axial, or Mixed-flow.\n",
    "  \n",
    "- **Impeller Diameter [m]**  \n",
    "  Adjust the size of the rotating impeller, which influences flow and head.\n",
    "\n",
    "- **Rotational Speed [RPM]**  \n",
    "  Change pump shaft speed to see its effect on flow characteristics.\n",
    "\n",
    "---\n",
    "\n"
   ]
  },
  {
   "cell_type": "markdown",
   "id": "f5d426f5-3569-4cb4-8f33-ff251eeb1720",
   "metadata": {},
   "source": [
    "import numpy as np\n",
    "import matplotlib.pyplot as plt\n",
    "from ipywidgets import interact, FloatSlider, Dropdown\n",
    "\n",
    "# 📐 Pump curve generator (simplified characteristic shapes)\n",
    "def pump_curve(Q, pump_type, D, N):\n",
    "    # Normalize flow based on impeller diameter and speed\n",
    "    Q_norm = Q / (D**2 * N)\n",
    "\n",
    "    if pump_type == 'Centrifugal':\n",
    "        H = 60 * (1 - (Q_norm)**2)  # Head drops sharply\n",
    "        Eff = 0.6 + 0.3 * np.exp(-((Q_norm - 0.6)**2) / 0.1)\n",
    "        P = Q * H / (Eff + 1e-5)\n",
    "\n",
    "    elif pump_type == 'Axial':\n",
    "        H = 20 * (1 - 0.4 * Q_norm)  # Flatter head\n",
    "        Eff = 0.75 + 0.1 * np.sin(np.pi * Q_norm)\n",
    "        P = Q * H / (Eff + 1e-5)\n",
    "\n",
    "    elif pump_type == 'Mixed-flow':\n",
    "        H = 40 * (1 - 0.6 * Q_norm)\n",
    "        Eff = 0.7 + 0.15 * np.exp(-((Q_norm - 0.5)**2) / 0.2)\n",
    "        P = Q * H / (Eff + 1e-5)\n",
    "\n",
    "    else:\n",
    "        H = np.zeros_like(Q)\n",
    "        Eff = np.zeros_like(Q)\n",
    "        P = np.zeros_like(Q)\n",
    "\n",
    "    return H, Eff, P\n",
    "\n",
    "# 📊 Plot curves\n",
    "def update(pump_type, D, N):\n",
    "    Q = np.linspace(1, 100, 100)\n",
    "    H, Eff, P = pump_curve(Q, pump_type, D, N)\n",
    "\n",
    "    fig, axs = plt.subplots(3, 1, figsize=(7, 10))\n",
    "    \n",
    "    axs[0].plot(Q, H, 'b')\n",
    "    axs[0].set_ylabel('Head [m]')\n",
    "    axs[0].set_title(f'Pump Type: {pump_type} | D: {D} m | N: {N} RPM')\n",
    "    axs[0].grid(True)\n",
    "\n",
    "    axs[1].plot(Q, Eff, 'g')\n",
    "    axs[1].set_ylabel('Efficiency [-]')\n",
    "    axs[1].grid(True)\n",
    "\n",
    "    axs[2].plot(Q, P, 'r')\n",
    "    axs[2].set_ylabel('Power [W]')\n",
    "    axs[2].set_xlabel('Flow Rate Q [m³/h]')\n",
    "    axs[2].grid(True)\n",
    "\n",
    "    plt.tight_layout()\n",
    "    plt.show()\n",
    "\n",
    "# 🎛️ Interactive Controls\n",
    "interact(update,\n",
    "    pump_type=Dropdown(\n",
    "        options=['Centrifugal', 'Axial', 'Mixed-flow'],\n",
    "        value='Centrifugal',\n",
    "        description='Pump Design'\n",
    "    ),\n",
    "    D=FloatSlider(\n",
    "        value=0.5, min=0.2, max=2.0, step=0.1,\n",
    "        description='Impeller Diameter [m]'\n",
    "    ),\n",
    "    N=FloatSlider(\n",
    "        value=1800, min=500, max=3600, step=100,\n",
    "        description='Rotational Speed [RPM]'\n",
    "    )\n",
    ")\n"
   ]
  },
  {
   "cell_type": "code",
   "execution_count": null,
   "id": "9037f864-c727-45bb-9fc8-96c0de385d7b",
   "metadata": {},
   "outputs": [],
   "source": []
  },
  {
   "cell_type": "code",
   "execution_count": 3,
   "id": "f22923e0-e3b1-4e2e-a0b4-e78e33031ff6",
   "metadata": {},
   "outputs": [
    {
     "data": {
      "application/vnd.jupyter.widget-view+json": {
       "model_id": "88302f46cfed4fc494c9e17732429a7b",
       "version_major": 2,
       "version_minor": 0
      },
      "text/plain": [
       "VBox(children=(Label(value='🏗️ Application Scenario: Select the operational context where pumping is needed.')…"
      ]
     },
     "metadata": {},
     "output_type": "display_data"
    },
    {
     "data": {
      "application/vnd.jupyter.widget-view+json": {
       "model_id": "dac5d20a1bfa4481aeb308c8c6bbdcca",
       "version_major": 2,
       "version_minor": 0
      },
      "text/plain": [
       "interactive(children=(Dropdown(description='🌍 Select Application', options=('Wastewater Treatment', 'River Wit…"
      ]
     },
     "metadata": {},
     "output_type": "display_data"
    },
    {
     "data": {
      "text/plain": [
       "<function __main__.update(application, Q, H, Eff)>"
      ]
     },
     "execution_count": 3,
     "metadata": {},
     "output_type": "execute_result"
    }
   ],
   "source": [
    "import numpy as np\n",
    "from ipywidgets import interact, FloatSlider, Dropdown\n",
    "from IPython.display import display\n",
    "from ipywidgets import VBox, Label\n",
    "\n",
    "# 🌊 Fluid properties\n",
    "rho = 1000  # kg/m³\n",
    "g = 9.81    # m/s²\n",
    "\n",
    "# ⚙️ Suggest pump type based on scenario\n",
    "def suggest_pump(application):\n",
    "    if application == 'Wastewater Treatment':\n",
    "        return 'Submersible or Progressive Cavity Pump'\n",
    "    elif application == 'River Withdrawal':\n",
    "        return 'Mixed-Flow or Vertical Turbine Pump'\n",
    "    elif application == 'Stormwater Discharge':\n",
    "        return 'Axial or Propeller Pump'\n",
    "    else:\n",
    "        return 'General Centrifugal Pump'\n",
    "\n",
    "# 🔌 Estimate Power Requirement\n",
    "def calculate_power(Q_m3hr, H, Eff):\n",
    "    Q_m3s = Q_m3hr / 3600\n",
    "    P_kW = (rho * g * Q_m3s * H) / (Eff * 1000)\n",
    "    return round(P_kW, 2)\n",
    "\n",
    "# 💬 Output calculator\n",
    "def update(application, Q, H, Eff):\n",
    "    pump = suggest_pump(application)\n",
    "    power = calculate_power(Q, H, Eff)\n",
    "\n",
    "    print(\"🏗️ Application Scenario:\", application)\n",
    "    print(\"🔧 Recommended Pump Type:\", pump)\n",
    "    print(f\"💦 Design Flow Rate: {Q} m³/hr\")\n",
    "    print(f\"📐 Design Head: {H} m\")\n",
    "    print(f\"⚙️ Assumed Efficiency: {Eff}\")\n",
    "    print(f\"🔌 Estimated Shaft Power Requirement: {power} kW\")\n",
    "\n",
    "# 🎛️ Interactive Controls with Descriptive Labels\n",
    "display(VBox([\n",
    "    Label(\"🏗️ Application Scenario: Select the operational context where pumping is needed.\"),\n",
    "    Label(\"💦 Design Flow Rate [m³/hr]: Total volume of fluid to be pumped per hour.\"),\n",
    "    Label(\"📐 Design Head [m]: Vertical height the fluid must be lifted or overcome due to system pressure.\"),\n",
    "    Label(\"⚙️ Pump Efficiency [-]: Estimated mechanical efficiency of the pump used for conversion of shaft power.\")\n",
    "]))\n",
    "\n",
    "interact(update,\n",
    "    application=Dropdown(\n",
    "        options=[\n",
    "            'Wastewater Treatment',\n",
    "            'River Withdrawal',\n",
    "            'Stormwater Discharge'\n",
    "        ],\n",
    "        value='Wastewater Treatment',\n",
    "        description='🌍 Select Application'\n",
    "    ),\n",
    "    Q=FloatSlider(\n",
    "        value=200, min=10, max=2000, step=10,\n",
    "        description='💦 Flow Rate [m³/hr]'\n",
    "    ),\n",
    "    H=FloatSlider(\n",
    "        value=10, min=1, max=50, step=1,\n",
    "        description='📐 Head [m]'\n",
    "    ),\n",
    "    Eff=FloatSlider(\n",
    "        value=0.65, min=0.3, max=0.9, step=0.05,\n",
    "        description='⚙️ Pump Efficiency'\n",
    "    )\n",
    ")\n"
   ]
  },
  {
   "cell_type": "markdown",
   "id": "3cfefd86-a90d-4649-a46e-ccb6d213e97f",
   "metadata": {},
   "source": [
    "## 4. Self-Assessment"
   ]
  },
  {
   "cell_type": "markdown",
   "id": "a78736e2-60c9-49f5-85d4-89e6435892cf",
   "metadata": {},
   "source": [
    "### 🧠 Hydraulic Pump Design & Selection: Reflective, Conceptual & Quiz Questions\n",
    "\n",
    "\n",
    "### Pump Fundamentals\n",
    "- What is the physical relationship between flow rate, head, and power in hydraulic systems?\n",
    "- Why does fluid density and gravity influence both pressure and power requirements?\n",
    "- How does efficiency affect the total energy demand of a hydraulic pump?\n",
    "\n",
    "### Pump Selection Logic\n",
    "- What conditions would justify the use of a positive displacement pump instead of a centrifugal pump?\n",
    "- Why is head-based selection critical for identifying multistage vs. standard centrifugal pumps?\n",
    "- In what scenarios are peristaltic or piston pumps preferred?\n",
    "\n",
    "---\n",
    "\n",
    "### 💭 Reflective Questions\n",
    "\n",
    "- As you manipulated the sliders, which input parameter had the most impact on calculated power? Why?\n",
    "- How does fluid viscosity affect pump type selection in practical field applications?\n",
    "- Have you ever worked on a system with limited installation space? What trade-offs were necessary in pump selection?\n",
    "- Think of a field situation where cavitation was observed—how might NPSH considerations have prevented it?\n",
    "- How confident do you feel explaining the link between design parameters and system efficiency to learners?\n",
    "\n",
    "---\n",
    "\n",
    "### Design Calculations\n",
    "\n",
    "**Q1. Increasing flow rate while keeping head and efficiency constant will:**  \n",
    "- A. Decrease required power  \n",
    "- B. Increase required power ✅  \n",
    "- C. Not affect power  \n",
    "- D. Reduce outlet pressure  \n",
    "\n",
    "**Q2. If head = 30 m and fluid density = 1000 kg/m³, what is approximate outlet pressure?**  \n",
    "- A. 2.94 kPa  \n",
    "- B. 29.43 kPa ✅  \n",
    "- C. 3.00 Pa  \n",
    "- D. 294.3 kPa  \n",
    "\n",
    "**Q3. Which combination of properties suggests use of a screw or gear pump?**  \n",
    "- A. High head and low flow  \n",
    "- B. Water and low viscosity  \n",
    "- C. Oil and viscosity > 100 cP ✅  \n",
    "- D. Large solids and space constraints  \n",
    "\n",
    "### Selection Conditions\n",
    "\n",
    "**Q4. A system with 45 L/min flow and solids present would best use:**  \n",
    "- A. Vertical Inline Pump  \n",
    "- B. Standard Centrifugal Pump  \n",
    "- C. Diaphragm or Slurry Pump ✅  \n",
    "- D. Multistage Centrifugal Pump  \n",
    "\n",
    "**Q5. Which parameter does NOT influence outlet pressure directly?**  \n",
    "- A. Fluid density  \n",
    "- B. Head  \n",
    "- C. Viscosity ✅  \n",
    "- D. Gravity  \n",
    "\n",
    "---\n",
    "\n",
    "### 💧 Problem 1: Power Calculation\n",
    "\n",
    "A water distribution system requires a flow of **750 L/min** and an elevation gain of **22 m**. The pump operates at **78% efficiency**.\n",
    "\n",
    "**Tasks:**\n",
    "- Convert flow rate to m³/s\n",
    "- Estimate required input power in kW using:  \n",
    "  $( P = \\frac{ρgQH}{η} $)\n",
    "- Compute outlet pressure in kPa assuming ρ = 1000 kg/m³\n",
    "\n",
    "---\n",
    "\n",
    "### 🔍 Problem 2: NPSH Evaluation\n",
    "\n",
    "For the same system:\n",
    "- Suction tank is 3.5 m above pump centerline\n",
    "- Pipe losses before pump = 1.2 m\n",
    "- Vapor pressure head at 25°C = 0.3 m\n",
    "\n",
    "**Tasks:**\n",
    "- Calculate NPSHa:  \n",
    "  $( NPSHa = Z + P_{atm} - h_{loss} - h_{vapor} $)\n",
    "- If pump’s NPSHr = 2.8 m, will cavitation occur?\n",
    "\n",
    "---\n",
    "\n",
    "### 📈 Problem 3: Operating Point Selection\n",
    "\n",
    "Use the simplified system curve:  \n",
    "$( H_{sys} = 10 + 0.002Q^2 $)\n",
    "\n",
    "Pump curve:  \n",
    "$( H_{pump} = 30 - 0.0015Q^2 $)\n",
    "\n",
    "**Tasks:**\n",
    "- Graph both curves on the same axis (Q vs. H)\n",
    "- Determine operating point (intersection)\n",
    "- Identify if operating point falls near BEP\n",
    "\n",
    "---\n",
    "\n",
    "### 🔗 Problem 4: Pump Configuration Comparison\n",
    "\n",
    "Design two configurations for a site needing **1800 L/min** and **65 m** head.\n",
    "\n",
    "**Tasks:**\n",
    "1. Choose pump type(s) for each configuration:\n",
    "   - **Single pump**\n",
    "   - **Two pumps in series**\n",
    "   - **Two pumps in parallel**\n",
    "2. Compute head and flow for each configuration\n",
    "3. Compare power requirements and NPSH conditions\n",
    "\n",
    "---\n",
    "\n",
    "### 🧠 Challenge Scenario\n",
    "\n",
    "You are designing a pump station for a slurry discharge line with:\n",
    "- Flow: 45 L/min\n",
    "- Head: 12 m\n",
    "- Fluid: Viscous + solid particles\n",
    "- Limited installation space\n",
    "\n",
    "**Tasks:**\n",
    "- Select pump type and justify choice\n",
    "- Describe expected pump curve shape\n",
    "- Identify risks to operation and mitigation strategies\n",
    "\n",
    "---\n",
    "\n",
    "### ✍️ Reflection Prompt\n",
    "\n",
    "- How does fluid type influence pump selection and operating safety?\n",
    "- What trade-offs do you make between energy efficiency and system flexibility?\n",
    "- Where might you prioritize NPSH safety over pump cost?\n",
    "\n",
    "---"
   ]
  },
  {
   "cell_type": "code",
   "execution_count": null,
   "id": "43f12b31-3c20-4eb5-89b5-2c809004e8af",
   "metadata": {},
   "outputs": [],
   "source": []
  }
 ],
 "metadata": {
  "kernelspec": {
   "display_name": "Python [conda env:base] *",
   "language": "python",
   "name": "conda-base-py"
  },
  "language_info": {
   "codemirror_mode": {
    "name": "ipython",
    "version": 3
   },
   "file_extension": ".py",
   "mimetype": "text/x-python",
   "name": "python",
   "nbconvert_exporter": "python",
   "pygments_lexer": "ipython3",
   "version": "3.12.7"
  },
  "widgets": {
   "application/vnd.jupyter.widget-state+json": {
    "state": {},
    "version_major": 2,
    "version_minor": 0
   }
  }
 },
 "nbformat": 4,
 "nbformat_minor": 5
}
