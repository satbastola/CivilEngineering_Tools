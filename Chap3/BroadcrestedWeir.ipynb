{
 "cells": [
  {
   "cell_type": "markdown",
   "id": "95be4a41-e7d4-41e0-b4f9-d84580874112",
   "metadata": {},
   "source": [
    "# Chapter 3 Hydraulics:Broad-Crested Weir"
   ]
  },
  {
   "cell_type": "markdown",
   "id": "4cc9fb3a-1ed6-4866-afd4-d33f3568b505",
   "metadata": {},
   "source": [
    "1. [Introduction: Broad Crested Weir](#1.-Introduction)\n",
    "2. [Simulation: Broad Crested Weir](#2.-Simulation)\n",
    "3. [Self-Assessment](#3.-Self-Assessment)"
   ]
  },
  {
   "cell_type": "markdown",
   "id": "2d43d422-908e-4d50-a50b-dcb49390efc6",
   "metadata": {},
   "source": [
    "## 1. Introduction"
   ]
  },
  {
   "cell_type": "markdown",
   "id": "3322e076-35b2-4b37-bff1-964bfda92608",
   "metadata": {},
   "source": [
    "### ✅ What Is a Broad-Crested Weir?\n",
    "\n",
    "A **broad-crested weir** is a hydraulic structure where water flows over a **wide, flat crest** that is long enough for the flow to become nearly parallel to the crest surface. Unlike sharp-crested weirs, the flow adjusts gradually, making it suitable for stable and high-flow conditions.\n",
    "\n",
    "---\n",
    "\n",
    "### 📐 Characteristics\n",
    "\n",
    "| Feature               | Description                                                                 |\n",
    "|-----------------------|-----------------------------------------------------------------------------|\n",
    "| Crest Width           | Typically ≥ 2× flow depth; allows uniform velocity profile                  |\n",
    "| Flow Profile          | Subcritical upstream, critical over crest, supercritical downstream         |\n",
    "| Measurement Accuracy  | Lower than sharp-crested; requires calibration                             |\n",
    "| Construction          | Often made of concrete or earth; integrated into channel or spillway        |\n",
    "\n",
    "---\n",
    "\n",
    "### ⚠️ Problems and Limitations\n",
    "\n",
    "| Issue                        | Description                                                                 |\n",
    "|------------------------------|-----------------------------------------------------------------------------|\n",
    "| **Lower Accuracy**           | Flow measurement less precise due to gradual velocity changes               |\n",
    "| **Submergence Sensitivity**  | Backwater effects can distort flow profile and reduce discharge             |\n",
    "| **Large Footprint**          | Requires more space and excavation compared to sharp-crested weirs          |\n",
    "| **Costly Construction**      | Wide crest demands more material and structural support                     |\n",
    "| **Limited Low-Flow Use**     | Not ideal for small discharges or laboratory settings                       |\n",
    "\n",
    "---\n",
    "\n",
    "### 💰 Why They're Not Widely Used for Measurement\n",
    "\n",
    "- **High construction cost** due to large crest width and structural requirements\n",
    "- **Lower measurement precision** makes them unsuitable for small-scale or regulatory flow monitoring\n",
    "- **Site constraints** often favor compact weir types like sharp-crested or V-notch\n",
    "\n",
    "---\n",
    "\n",
    "### 🏞️ Best Use Cases for Broad-Crested Weirs\n",
    "\n",
    "| Application                  | Reason for Suitability                                                     |\n",
    "|------------------------------|----------------------------------------------------------------------------|\n",
    "| **Spillways in Dams**        | Stable flow control under high discharge; integrated into dam crest        |\n",
    "| **Irrigation Channels**      | Durable and low-maintenance flow regulation                                |\n",
    "| **Flood Control Structures** | Handles large volumes with minimal turbulence                             |\n",
    "| **Energy Dissipation**       | Smooth transition to downstream supercritical flow                         |\n",
    "\n",
    "---\n",
    "\n",
    "### 🌊 Broad-Crested Weir: Equation, Design Procedure, and Discharge Coefficient Estimation\n",
    "\n",
    "---\n",
    "\n",
    "### ✅ Governing Equation\n",
    "\n",
    "For free-flow (non-submerged) conditions, the discharge over a broad-crested weir is given by:\n",
    "\n",
    "$\n",
    "Q = C_d \\cdot b \\cdot H^{3/2}\n",
    "$\n",
    "\n",
    "Where:\n",
    "- $( Q $): discharge (m³/s)\n",
    "- $( C_d $): discharge coefficient (dimensionless)\n",
    "- $( b $): crest width (m)\n",
    "- $( H $): head over the crest (m)\n",
    "\n",
    "---\n",
    "\n",
    "### 📐 Design Steps\n",
    "\n",
    "### Step 1: Define Design Flow\n",
    "- Determine design discharge $( Q $) based on hydrologic analysis (e.g., design storm, return period)\n",
    "\n",
    "### Step 2: Select Crest Geometry\n",
    "- Choose crest width $( b $) and height based on site constraints and flow characteristics\n",
    "- Ensure crest is long enough for parallel flow (typically $( b \\geq 2H $))\n",
    "\n",
    "### Step 3: Estimate Head Over Crest\n",
    "- Rearrange the weir equation to solve for $( H $):\n",
    "  $\n",
    "  H = \\left( \\frac{Q}{C_d \\cdot b} \\right)^{2/3}\n",
    "  $\n",
    "\n",
    "### Step 4: Check Flow Conditions\n",
    "- Ensure free-flow (critical depth over crest)\n",
    "- Avoid submergence (tailwater elevation < crest + head)\n",
    "\n",
    "### Step 5: Refine Crest Shape\n",
    "- Use rounded upstream edge and flat crest to minimize flow separation\n",
    "- Consider aeration slots or vents for high-head flows\n",
    "\n",
    "---\n",
    "\n",
    "### 🔢 Estimating Discharge Coefficient $( C_d $)\n",
    "\n",
    "| Method / Source            | Empirical Relation / Notes                                               |\n",
    "|----------------------------|---------------------------------------------------------------------------|\n",
    "| **Empirical (USBR)**       | $( C_d \\approx 1.7 $) for well-shaped broad-crested weirs                |\n",
    "| **Based on Froude Number** | $( C_d = 1.705 - 0.011 \\cdot Fr $), where $( Fr = \\frac{V}{\\sqrt{gH}} $) |\n",
    "| **Based on Crest Length**  | $( C_d = 1.66 + 0.1 \\cdot \\frac{L}{H} $) for $( L/H \\leq 5 $)            |\n",
    "| **Laboratory Calibration** | Use flume tests or CFD models to refine $( C_d $)                        |\n",
    "\n",
    "> Note: $( C_d $) typically ranges from **1.6 to 1.8** depending on crest shape, approach flow, and aeration.\n",
    "\n",
    "---\n",
    "\n",
    "## ⚠️ Design Considerations\n",
    "\n",
    "- **Submergence**: Reduces effective head and alters flow profile\n",
    "- **Approach Velocity**: High approach flow may require velocity head correction\n",
    "- **Sediment and Debris**: May accumulate on crest and affect flow\n",
    "- **Structural Integration**: Often built into spillways, requiring geotechnical and structural design\n",
    "\n",
    "---\n",
    "\n",
    "## 🧠 Conceptual Insight\n",
    "\n",
    "> Broad-crested weirs are ideal for **high-flow, stable discharge control**,  \n",
    "> but require careful design of crest geometry and flow conditions to ensure accuracy.\n",
    "\n",
    "---\n",
    "\n",
    "## ❓ Quiz Questions\n",
    "\n",
    "1. What is the standard equation for broad-crested weir flow?\n",
    "2. How does crest width affect discharge and flow stability?\n",
    "3. What factors influence the discharge coefficient \\( C_d \\)?\n",
    "4. Why is submergence a concern in weir design?\n",
    "5. How can laboratory calibration improve weir accuracy?\n",
    "\n",
    "\n",
    "1. What distinguishes a broad-crested weir from a sharp-crested weir?\n",
    "2. Why is a broad crest less accurate for flow measurement?\n",
    "3. What are typical applications of broad-crested weirs?\n",
    "4. How does submergence affect broad-crested weir performance?\n",
    "5. Why are broad-crested weirs more expensive to construct?\n",
    "### 🧠 Conceptual Insight\n",
    "\n",
    "> Broad-crested weirs are **robust and hydraulically stable**,  \n",
    "> but their **cost, size, and lower precision** limit their use to **high-flow, structural applications**.\n",
    "\n",
    "---\n"
   ]
  },
  {
   "cell_type": "markdown",
   "id": "7a44d184-82f6-40ca-b202-4428aff252ec",
   "metadata": {},
   "source": [
    "## 2. Simulation"
   ]
  },
  {
   "cell_type": "markdown",
   "id": "c56ca053-f145-40e1-84cb-460925a3e908",
   "metadata": {},
   "source": [
    "### Interactive Broad-Crested Weir Flow Visualizer\n",
    "\n",
    "This tool demonstrates how discharge $( Q $) varies with upstream head $( H $), crest width $( b $), and the discharge coefficient $( C_d $) for a **broad-crested weir**.\n",
    "\n",
    "The flow rate is calculated using the empirical equation:\n",
    "\n",
    "$$\n",
    "Q = C_d \\cdot b \\cdot H \\cdot \\sqrt{2gH}\n",
    "$$\n",
    "\n",
    "Where:\n",
    "- $( Q $): discharge [m³/s]  \n",
    "- $( C_d $): discharge coefficient (typically between 0.4 and 0.7)  \n",
    "- $( b $): crest width [m]  \n",
    "- $( H $): head over the crest [m]  \n",
    "- $( g = 9.81 $, $text{m/s}^2 $): gravitational acceleration  \n",
    "\n",
    "---\n",
    "\n",
    "### Parameters Controlled with Sliders\n",
    "\n",
    "- **Discharge Coefficient $( C_d $)**: Adjust between 0.4 and 0.7\n",
    "- **Crest Width $( b $)**: Choose values from 0.1 m to 5.0 m\n",
    "- **Maximum Head $( H $)**: Define the head range up to 2.0 m\n",
    "\n",
    "---\n",
    "\n",
    "### Output\n",
    "\n",
    "The resulting plot shows:\n",
    "- A continuous curve of **discharge vs head**\n",
    "- How changes in geometry or $( C_d $) influence capacity\n",
    "- Useful visual insight for preliminary design or learning\n",
    "\n"
   ]
  },
  {
   "cell_type": "code",
   "execution_count": 2,
   "id": "d296e71f-0cbb-43c9-9a9b-c21045dee7f4",
   "metadata": {},
   "outputs": [
    {
     "data": {
      "application/vnd.jupyter.widget-view+json": {
       "model_id": "caf975ae3f8f4a2e975ce9a900a02ba6",
       "version_major": 2,
       "version_minor": 0
      },
      "text/plain": [
       "interactive(children=(FloatSlider(value=0.5, description='Discharge Coeff. Cd', max=0.7, min=0.4, step=0.01), …"
      ]
     },
     "metadata": {},
     "output_type": "display_data"
    },
    {
     "data": {
      "text/plain": [
       "<function __main__.plot_broad_weir(Cd, b, H_max)>"
      ]
     },
     "execution_count": 2,
     "metadata": {},
     "output_type": "execute_result"
    }
   ],
   "source": [
    "import numpy as np\n",
    "import matplotlib.pyplot as plt\n",
    "from ipywidgets import interact, FloatSlider\n",
    "\n",
    "g = 9.81  # gravitational acceleration (m/s²)\n",
    "\n",
    "# Broad-crested weir discharge equation\n",
    "def broad_crested_weir_Q(b, H, Cd):\n",
    "    return Cd * b * H * np.sqrt(2 * g * H)\n",
    "\n",
    "# Interactive plot\n",
    "def plot_broad_weir(Cd, b, H_max):\n",
    "    H_vals = np.linspace(0.01, H_max, 300)\n",
    "    Q_vals = broad_crested_weir_Q(b, H_vals, Cd)\n",
    "    \n",
    "    plt.figure(figsize=(8, 5))\n",
    "    plt.plot(H_vals, Q_vals, color='royalblue', linewidth=2)\n",
    "    plt.xlabel(\"Head over Crest H (m)\")\n",
    "    plt.ylabel(\"Discharge Q (m³/s)\")\n",
    "    plt.title(f\"Broad-Crested Weir: Discharge vs Head\\nWidth b = {b:.2f} m, Cd = {Cd}\")\n",
    "    plt.grid(True, linestyle=\"--\", alpha=0.5)\n",
    "    plt.tight_layout()\n",
    "    plt.show()\n",
    "\n",
    "# Interactive controls\n",
    "interact(\n",
    "    plot_broad_weir,\n",
    "    Cd=FloatSlider(value=0.5, min=0.4, max=0.7, step=0.01, description=\"Discharge Coeff. Cd\"),\n",
    "    b=FloatSlider(value=1.0, min=0.1, max=5.0, step=0.1, description=\"Crest Width b (m)\"),\n",
    "    H_max=FloatSlider(value=1.0, min=0.1, max=2.0, step=0.05, description=\"Max Head H (m)\")\n",
    ")"
   ]
  },
  {
   "cell_type": "markdown",
   "id": "812d52b3-d1c7-4bb8-b939-adc1eaf639e0",
   "metadata": {},
   "source": [
    "## 3. Self-Assessment"
   ]
  },
  {
   "cell_type": "markdown",
   "id": "6adcb899-930b-49cb-bc7d-b96ea95a6799",
   "metadata": {},
   "source": [
    "### Interactive Broad-Crested Weir Flow Estimator\n",
    "\n",
    "This notebook provides an interactive tool for exploring how the **discharge over a broad-crested weir** varies with upstream head, crest width, and discharge coefficient.\n",
    "\n",
    "---\n",
    "\n",
    "### Conceptual Questions\n",
    "\n",
    "1. **Why is the discharge through a broad-crested weir proportional to \\( H^{1.5} \\), and what physical principles explain this relationship?**\n",
    "2. **How does the discharge coefficient \\( C_d \\) reflect the impact of surface roughness, approach flow, and weir geometry?**\n",
    "3. **Why is the weir crest made “broad” compared to sharp-crested weirs? What advantage does this provide in real applications?**\n",
    "4. **Explain why weir width \\( b \\) has a linear relationship with discharge, while head \\( H \\) has a nonlinear one.**\n",
    "5. **What assumptions underlie the standard broad-crested weir equation used in this tool?**\n",
    "\n",
    "---\n",
    "\n",
    "### Reflective Questions\n",
    "\n",
    "1. **If your goal is to minimize flow over a flood control structure, would increasing $( b $) or decreasing $( C_d $) be more effective? Why?**\n",
    "2. **In what situations might a broad-crested weir be preferred over a V-notch or Cipolletti weir? What trade-offs are involved?**\n",
    "3. **How would sediment buildup on the crest affect the accuracy of the discharge prediction?**\n",
    "4. **What factors might cause the actual $( C_d $) in the field to differ from the nominal value used in design?**\n",
    "5. **Imagine you must design a weir for a fish passage. How might your weir geometry or flow regime need to change?**\n",
    "\n",
    "---\n",
    "\n",
    "### General Problem & Solution\n",
    "\n",
    "**Problem:**  \n",
    "A broad-crested weir has a crest width $( b = 2.0 $) m. If the upstream head $( H $) is 0.6 m and the discharge coefficient is estimated at $( C_d = 0.5 $), calculate the flow rate $( Q $) over the weir.\n",
    "\n",
    "**Solution:**\n",
    "\n",
    "$$\n",
    "Q = C_d \\cdot b \\cdot H \\cdot \\sqrt{2gH}\n",
    "$$\n",
    "\n",
    "Substitute values:\n",
    "\n",
    "$$\n",
    "Q = 0.5 \\cdot 2.0 \\cdot 0.6 \\cdot \\sqrt{2 \\cdot 9.81 \\cdot 0.6} \\approx 0.6 \\cdot \\sqrt{11.772} \\approx 0.6 \\cdot 3.43 \\approx \\boxed{2.06\\ \\text{m³/s}}\n",
    "$$\n",
    "\n",
    "---\n",
    "\n",
    "### ✅ Quiz Questions\n",
    "\n",
    "**Q1.** Which term in the broad-crested weir equation has the most significant impact on discharge for small changes?  \n",
    "A. Crest width $( b $)  \n",
    "B. Discharge coefficient $( C_d $)  \n",
    "C. Head over crest $( H $)  \n",
    "🟢 **Correct Answer:** C\n",
    "\n",
    "---\n",
    "\n",
    "**Q2.** The exponent on head $( H $) in the weir equation is:  \n",
    "A. 1  \n",
    "B. 1.5  \n",
    "C. 2  \n",
    "D. 0.5  \n",
    "🟢 **Correct Answer:** B\n",
    "\n",
    "---\n",
    "\n",
    "**Q3.** The function of a broad-crested weir is primarily to:  \n",
    "A. Increase flow turbulence  \n",
    "B. Reduce head losses  \n",
    "C. Measure or regulate flow  \n",
    "D. Control sediment transport  \n",
    "🟢 **Correct Answer:** C\n",
    "\n",
    "---\n",
    "\n",
    "**Q4.** Increasing the discharge coefficient $( C_d $) causes discharge to:  \n",
    "A. Decrease  \n",
    "B. Stay the same  \n",
    "C. Increase  \n",
    "D. Become zero  \n",
    "🟢 **Correct Answer:** C"
   ]
  },
  {
   "cell_type": "markdown",
   "id": "73a45517-1e71-435e-8040-5c3ab8ff0378",
   "metadata": {},
   "source": []
  },
  {
   "cell_type": "code",
   "execution_count": null,
   "id": "dd673aa1-477d-4eea-aeeb-e39c591c3b45",
   "metadata": {},
   "outputs": [],
   "source": []
  }
 ],
 "metadata": {
  "kernelspec": {
   "display_name": "Python [conda env:base] *",
   "language": "python",
   "name": "conda-base-py"
  },
  "language_info": {
   "codemirror_mode": {
    "name": "ipython",
    "version": 3
   },
   "file_extension": ".py",
   "mimetype": "text/x-python",
   "name": "python",
   "nbconvert_exporter": "python",
   "pygments_lexer": "ipython3",
   "version": "3.12.7"
  },
  "widgets": {
   "application/vnd.jupyter.widget-state+json": {
    "state": {
     "07d63a97ad18409f98430b6a419c6b54": {
      "model_module": "@jupyter-widgets/base",
      "model_module_version": "2.0.0",
      "model_name": "LayoutModel",
      "state": {}
     },
     "1db1662ed41e4d66a6bcc27ca0af5dba": {
      "model_module": "@jupyter-widgets/controls",
      "model_module_version": "2.0.0",
      "model_name": "FloatSliderModel",
      "state": {
       "behavior": "drag-tap",
       "description": "Max Head H (m)",
       "layout": "IPY_MODEL_872f649672cc4f6f87ba73b95dfc8d9d",
       "max": 2,
       "min": 0.1,
       "step": 0.05,
       "style": "IPY_MODEL_5ee8e70a7efc4f8a9e3b7d468d2693a9",
       "value": 1
      }
     },
     "23ecabace0d2479a91a7b386453ca84b": {
      "model_module": "@jupyter-widgets/output",
      "model_module_version": "1.0.0",
      "model_name": "OutputModel",
      "state": {
       "layout": "IPY_MODEL_07d63a97ad18409f98430b6a419c6b54",
       "outputs": [
        {
         "data": {
          "image/png": "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",
          "text/plain": "<Figure size 800x500 with 1 Axes>"
         },
         "metadata": {},
         "output_type": "display_data"
        }
       ]
      }
     },
     "2f9cdeaec529448d9ba5af25eacfae02": {
      "model_module": "@jupyter-widgets/controls",
      "model_module_version": "2.0.0",
      "model_name": "SliderStyleModel",
      "state": {
       "description_width": ""
      }
     },
     "387ca0a16de24ab5a4837d81753fa470": {
      "model_module": "@jupyter-widgets/controls",
      "model_module_version": "2.0.0",
      "model_name": "SliderStyleModel",
      "state": {
       "description_width": ""
      }
     },
     "48e2e037d0c14769b6da1ee0f015291a": {
      "model_module": "@jupyter-widgets/controls",
      "model_module_version": "2.0.0",
      "model_name": "FloatSliderModel",
      "state": {
       "behavior": "drag-tap",
       "description": "Max Head H (m)",
       "layout": "IPY_MODEL_cc50cb05cd794cfcac86db93ae4aaa38",
       "max": 2,
       "min": 0.1,
       "step": 0.05,
       "style": "IPY_MODEL_d078520afc8440b2b2590a4884b2bd54",
       "value": 1
      }
     },
     "4badc6e97886487d93e6900cd7086e9c": {
      "model_module": "@jupyter-widgets/base",
      "model_module_version": "2.0.0",
      "model_name": "LayoutModel",
      "state": {}
     },
     "4cff66f91d6149b6ab4d672716890d02": {
      "model_module": "@jupyter-widgets/controls",
      "model_module_version": "2.0.0",
      "model_name": "FloatSliderModel",
      "state": {
       "behavior": "drag-tap",
       "description": "Discharge Coeff. Cd",
       "layout": "IPY_MODEL_c7985921a9a9499c8dbe5b41839d3ed1",
       "max": 0.7,
       "min": 0.4,
       "step": 0.01,
       "style": "IPY_MODEL_2f9cdeaec529448d9ba5af25eacfae02",
       "value": 0.5
      }
     },
     "5ee8e70a7efc4f8a9e3b7d468d2693a9": {
      "model_module": "@jupyter-widgets/controls",
      "model_module_version": "2.0.0",
      "model_name": "SliderStyleModel",
      "state": {
       "description_width": ""
      }
     },
     "5f595d0d010049c49f80a6c58699f2a9": {
      "model_module": "@jupyter-widgets/controls",
      "model_module_version": "2.0.0",
      "model_name": "FloatSliderModel",
      "state": {
       "behavior": "drag-tap",
       "description": "Discharge Coeff. Cd",
       "layout": "IPY_MODEL_723a1d72f1d9423ab99b8b8cac83c6c3",
       "max": 0.7,
       "min": 0.4,
       "step": 0.01,
       "style": "IPY_MODEL_387ca0a16de24ab5a4837d81753fa470",
       "value": 0.5
      }
     },
     "6767bf45161c48c0a5adb9eaa1baebb1": {
      "model_module": "@jupyter-widgets/base",
      "model_module_version": "2.0.0",
      "model_name": "LayoutModel",
      "state": {}
     },
     "723a1d72f1d9423ab99b8b8cac83c6c3": {
      "model_module": "@jupyter-widgets/base",
      "model_module_version": "2.0.0",
      "model_name": "LayoutModel",
      "state": {}
     },
     "872f649672cc4f6f87ba73b95dfc8d9d": {
      "model_module": "@jupyter-widgets/base",
      "model_module_version": "2.0.0",
      "model_name": "LayoutModel",
      "state": {}
     },
     "a83433c1c6884819a6872b4de2e4eebb": {
      "model_module": "@jupyter-widgets/controls",
      "model_module_version": "2.0.0",
      "model_name": "SliderStyleModel",
      "state": {
       "description_width": ""
      }
     },
     "ac6841f6f43e4c238a719d97d148df12": {
      "model_module": "@jupyter-widgets/controls",
      "model_module_version": "2.0.0",
      "model_name": "SliderStyleModel",
      "state": {
       "description_width": ""
      }
     },
     "b459ddf9e012476bbd6e9a0c7808db27": {
      "model_module": "@jupyter-widgets/output",
      "model_module_version": "1.0.0",
      "model_name": "OutputModel",
      "state": {
       "layout": "IPY_MODEL_be44680a91254cbfa74905e8a7b26b93",
       "outputs": [
        {
         "data": {
          "image/png": "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",
          "text/plain": "<Figure size 800x500 with 1 Axes>"
         },
         "metadata": {},
         "output_type": "display_data"
        }
       ]
      }
     },
     "bbbb7a0e29e143f384a174ed6fa84518": {
      "model_module": "@jupyter-widgets/base",
      "model_module_version": "2.0.0",
      "model_name": "LayoutModel",
      "state": {}
     },
     "be44680a91254cbfa74905e8a7b26b93": {
      "model_module": "@jupyter-widgets/base",
      "model_module_version": "2.0.0",
      "model_name": "LayoutModel",
      "state": {}
     },
     "c0d3f9ece1e14684b26671b7eddda8e6": {
      "model_module": "@jupyter-widgets/base",
      "model_module_version": "2.0.0",
      "model_name": "LayoutModel",
      "state": {}
     },
     "c7985921a9a9499c8dbe5b41839d3ed1": {
      "model_module": "@jupyter-widgets/base",
      "model_module_version": "2.0.0",
      "model_name": "LayoutModel",
      "state": {}
     },
     "caf975ae3f8f4a2e975ce9a900a02ba6": {
      "model_module": "@jupyter-widgets/controls",
      "model_module_version": "2.0.0",
      "model_name": "VBoxModel",
      "state": {
       "_dom_classes": [
        "widget-interact"
       ],
       "children": [
        "IPY_MODEL_4cff66f91d6149b6ab4d672716890d02",
        "IPY_MODEL_eeee9d446ecf44b9b98b42bae4ed80b2",
        "IPY_MODEL_1db1662ed41e4d66a6bcc27ca0af5dba",
        "IPY_MODEL_23ecabace0d2479a91a7b386453ca84b"
       ],
       "layout": "IPY_MODEL_c0d3f9ece1e14684b26671b7eddda8e6"
      }
     },
     "cc50cb05cd794cfcac86db93ae4aaa38": {
      "model_module": "@jupyter-widgets/base",
      "model_module_version": "2.0.0",
      "model_name": "LayoutModel",
      "state": {}
     },
     "d078520afc8440b2b2590a4884b2bd54": {
      "model_module": "@jupyter-widgets/controls",
      "model_module_version": "2.0.0",
      "model_name": "SliderStyleModel",
      "state": {
       "description_width": ""
      }
     },
     "e6d87ddecc3841af9238089a8b1df607": {
      "model_module": "@jupyter-widgets/controls",
      "model_module_version": "2.0.0",
      "model_name": "VBoxModel",
      "state": {
       "_dom_classes": [
        "widget-interact"
       ],
       "children": [
        "IPY_MODEL_5f595d0d010049c49f80a6c58699f2a9",
        "IPY_MODEL_f45dce9fd7f14dec842b949557899ef5",
        "IPY_MODEL_48e2e037d0c14769b6da1ee0f015291a",
        "IPY_MODEL_b459ddf9e012476bbd6e9a0c7808db27"
       ],
       "layout": "IPY_MODEL_6767bf45161c48c0a5adb9eaa1baebb1"
      }
     },
     "eeee9d446ecf44b9b98b42bae4ed80b2": {
      "model_module": "@jupyter-widgets/controls",
      "model_module_version": "2.0.0",
      "model_name": "FloatSliderModel",
      "state": {
       "behavior": "drag-tap",
       "description": "Crest Width b (m)",
       "layout": "IPY_MODEL_4badc6e97886487d93e6900cd7086e9c",
       "max": 5,
       "min": 0.1,
       "step": 0.1,
       "style": "IPY_MODEL_a83433c1c6884819a6872b4de2e4eebb",
       "value": 1.0000000000000002
      }
     },
     "f45dce9fd7f14dec842b949557899ef5": {
      "model_module": "@jupyter-widgets/controls",
      "model_module_version": "2.0.0",
      "model_name": "FloatSliderModel",
      "state": {
       "behavior": "drag-tap",
       "description": "Crest Width b (m)",
       "layout": "IPY_MODEL_bbbb7a0e29e143f384a174ed6fa84518",
       "max": 5,
       "min": 0.1,
       "step": 0.1,
       "style": "IPY_MODEL_ac6841f6f43e4c238a719d97d148df12",
       "value": 1.0000000000000002
      }
     }
    },
    "version_major": 2,
    "version_minor": 0
   }
  }
 },
 "nbformat": 4,
 "nbformat_minor": 5
}
