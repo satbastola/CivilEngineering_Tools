{
 "cells": [
  {
   "cell_type": "markdown",
   "id": "549c6b0b-c7b6-423d-93c6-ef80b9a6d801",
   "metadata": {},
   "source": [
    "# Chapter 3 Hydraulics: Storm Drain Inet Design"
   ]
  },
  {
   "cell_type": "markdown",
   "id": "e4c17aeb-7b81-4924-aec7-5ade619c25a9",
   "metadata": {},
   "source": [
    "1. [Introduction: Storm Drain](#1.-Introduction)\n",
    "2. [Simulation: Storm Drain](#2.-Simulation)\n",
    "3. [Simulation: Detention pond size](#3.-Simulation)\n",
    "4. [Self-Assessment](#4.-Self-Assessment)"
   ]
  },
  {
   "cell_type": "markdown",
   "id": "40376bca-1818-4e93-982a-93cff0ff1259",
   "metadata": {},
   "source": [
    "## 1. Introduction"
   ]
  },
  {
   "cell_type": "markdown",
   "id": "6e31f707-ce2f-47e6-9e2f-654239fde5f6",
   "metadata": {},
   "source": [
    "### 📐 Urban system\n",
    "Urban areas are highly impervious due to roads, rooftops, and pavements, which prevent natural infiltration and increase surface runoff. Stormwater systems are essential to:\n",
    "\n",
    "- **Prevent Urban Flooding**: Rapid runoff can overwhelm streets and infrastructure\n",
    "- **Protect Public Safety**: Reduces risk of property damage, traffic disruption, and health hazards\n",
    "- **Maintain Water Quality**: Filters pollutants before discharge to natural water bodies\n",
    "- **Support Sustainable Development**: Integrates with green infrastructure and climate resilience\n",
    "- **Comply with Regulations**: Meets municipal, state, and federal stormwater management standards\n",
    "\n",
    "---\n",
    "\n",
    "### 📐 Design Philosophy\n",
    "\n",
    "| Principle                  | Description                                                                 |\n",
    "|----------------------------|-----------------------------------------------------------------------------|\n",
    "| **Capture and Convey**     | Collect runoff and route it safely to outfalls or detention systems         |\n",
    "| **Detain and Retain**      | Temporarily store runoff to reduce peak flow and promote infiltration       |\n",
    "| **Treat and Filter**       | Remove sediments, nutrients, and contaminants before discharge              |\n",
    "| **Decentralize**           | Use distributed systems (e.g., bioswales, rain gardens) to manage runoff locally |\n",
    "| **Design for Extremes**    | Account for climate change, intense storms, and future urbanization         |\n",
    "| **Integrate with Land Use**| Align stormwater design with zoning, transportation, and green space plans  |\n",
    "\n",
    "---\n",
    "\n",
    "### 🌧️ Detailed Urban Stormwater Strategies\n",
    "\n",
    "| Strategy                     | Function                                                                 | Design Considerations                                                                 | Benefits                                                                 |\n",
    "|------------------------------|--------------------------------------------------------------------------|----------------------------------------------------------------------------------------|-------------------------------------------------------------------------|\n",
    "| **Detention Basins**         | Temporarily store runoff and release it slowly to reduce peak discharge | - Sized for design storm (e.g., 10-year, 100-year)<br>- Outlet control structure<br>- Dry between storms | - Reduces downstream flooding<br>- Controls peak flow rates             |\n",
    "| **Retention Ponds**          | Permanently store water and promote infiltration and evapotranspiration | - Includes forebay for sediment<br>- May support aquatic habitat<br>- Requires infiltration-friendly soils | - Improves water quality<br>- Recharges groundwater<br>- Aesthetic value |\n",
    "| **Green Infrastructure**     | Use vegetation and soil to absorb, filter, and slow runoff              | - Includes bioswales, rain gardens, green roofs<br>- Soil media and plant selection<br>- Maintenance access | - Reduces runoff volume<br>- Enhances urban ecology<br>- Mitigates heat island effect |\n",
    "| **Storm Sewers**             | Convey runoff through underground pipes to outfalls or treatment systems| - Designed for full-flow capacity<br>- Requires inlet spacing and grade control<br>- Connects to detention or treatment | - Rapid drainage<br>- Prevents surface flooding<br>- Integrates with existing infrastructure |\n",
    "| **Flood Routing Models**     | Simulate flow paths and optimize system performance                     | - Use tools like SWMM, HEC-HMS, InfoWorks<br>- Include impervious cover, time of concentration<br>- Calibrate with rainfall data | - Predicts flood risk<br>- Supports resilient design<br>- Informs emergency planning |\n",
    "| **Low Impact Development (LID)**| Minimize runoff at source using decentralized, site-level solutions | - Includes permeable pavements, cisterns, tree boxes<br>- Requires integration with site grading<br>- Often regulated by stormwater ordinances | - Reduces infrastructure load<br>- Improves water quality<br>- Promotes sustainability |\n",
    "\n",
    "### 🧠 Conceptual Insight\n",
    "\n",
    "> Urban stormwater systems are not just pipes and ponds —  \n",
    "> they are **multifunctional networks** that protect cities from flooding,  \n",
    "> improve water quality, and enhance urban livability.\n",
    "\n",
    "---\n",
    "\n",
    "### 🚧 Stormwater Road Inlets: Types and Design Guidelines\n",
    "\n",
    "**Stormwater road inlets** are surface drainage structures that collect runoff from streets, gutters, and adjacent areas and convey it into underground storm sewer systems. They are critical for:\n",
    "\n",
    "- Preventing street flooding\n",
    "- Managing surface runoff\n",
    "- Protecting infrastructure and public safety\n",
    "\n",
    "---\n",
    "\n",
    "### 🧱 Common Types of Road Inlets\n",
    "\n",
    "| Inlet Type       | Description                                                                 | Typical Use Case                          |\n",
    "|------------------|------------------------------------------------------------------------------|-------------------------------------------|\n",
    "| **Grate Inlet**   | Horizontal grate over a box; captures flow from above                       | Low points, sag areas, curb openings      |\n",
    "| **Curb Inlet**    | Vertical opening in curb face; captures sheet flow along gutter             | Continuous curb lines, high-speed roads   |\n",
    "| **Combination Inlet**| Grate + curb inlet; maximizes capture efficiency                         | High-flow areas, redundancy needed        |\n",
    "| **Slotted Inlet** | Long narrow slot (often trench-style); captures flow over extended length   | Parking lots, medians, flat grades        |\n",
    "| **Drop Inlet**    | Vertical shaft with grate; connects directly to storm sewer                 | Depressed areas, behind curbs             |\n",
    "\n",
    "---\n",
    "\n",
    "### 📐 Design Guidelines\n",
    "\n",
    "### 🔢 Hydraulic Design\n",
    "- Use **Manning’s equation** to estimate gutter flow:\n",
    "  $\n",
    "  Q = \\frac{1}{n} R^{2/3} S^{1/2} \\cdot A\n",
    "  $\n",
    "- Determine **capture efficiency** based on inlet type, flow depth, and velocity\n",
    "- Ensure **maximum allowable spread** does not exceed traffic lane or sidewalk limits\n",
    "\n",
    "### 📏 Spacing and Layout\n",
    "- Inlet spacing depends on: - Street slope; - Gutter geometry; - Rainfall intensity; - Required capture rate\n",
    "- Use **hydraulic modeling tools** (e.g., SWMM, HEC-22) for precise spacing\n",
    "\n",
    "### 🛠️ Structural and Site Considerations\n",
    "- Ensure inlets are accessible for maintenance; - Avoid placing inlets near pedestrian crossings or driveways\n",
    "- Use **flanking inlets** near sag points to prevent bypass\n",
    "\n",
    "### 🌧️ Design Storm Criteria\n",
    "- Typically designed for **10-year or 25-year storm** for minor systems and **100-year storm** for major conveyance or critical infrastructure\n",
    "\n",
    "---\n",
    "\n",
    "### Storm Drain Inlet Design Based on FHWA Guidelines\n",
    "\n",
    "This design methodology follows the principles outlined in the **FHWA Hydraulic Engineering Circular No. 22 (HEC-22)**, which provides comprehensive guidance for designing storm drainage systems associated with transportation infrastructure.\n",
    "\n",
    "---\n",
    "\n",
    "### Design Philosophy\n",
    "\n",
    "Storm drain inlets are designed to:\n",
    "- **Intercept surface runoff** from streets and pavements\n",
    "- **Prevent excessive spread** of water into travel lanes\n",
    "- **Safely convey stormwater** into underground drainage systems\n",
    "\n",
    "The design must balance hydraulic efficiency, safety, and maintenance accessibility.\n",
    "\n",
    "---\n",
    "\n",
    "### Inlet Types (HEC-22 Classification)\n",
    "\n",
    "| Inlet Type         | Description                                  | Typical Use Case                     |\n",
    "|--------------------|----------------------------------------------|--------------------------------------|\n",
    "| **Grate Inlet**     | Surface grate intercepts vertical flow       | Sag points, flat areas               |\n",
    "| **Curb Opening**    | Horizontal slot intercepts gutter flow       | Continuous grades, low debris zones |\n",
    "| **Combination Inlet** | Grate + curb opening for redundancy       | High-flow areas, sags                |\n",
    "| **Slotted Drain**   | Long slot over pipe intercepts sheet flow    | Parking lots, wide pavements        |\n",
    "\n",
    "---\n",
    "\n",
    "### 📐 Hydraulic Design Parameters\n",
    "\n",
    "| Parameter               | Description                                      |\n",
    "|-------------------------|--------------------------------------------------|\n",
    "| $( Q $)                 | Design flow rate (m³/s)                          |\n",
    "| $( S $)                 | Longitudinal street slope (m/m)                 |\n",
    "| $( n $)                 | Manning’s roughness coefficient                 |\n",
    "| $( W $)                 | Gutter width (m)                                 |\n",
    "| $( d $)                 | Gutter depression depth (m)                      |\n",
    "| $( E $)                 | Inlet capture efficiency (0–1)                   |\n",
    "\n",
    "---\n",
    "\n",
    "### 1. Gutter Flow (Manning’s Equation for Triangular Section)\n",
    "\n",
    "$$\n",
    "Q = \\frac{1}{n} A R^{2/3} S^{1/2}\n",
    "\\quad \\text{where} \\quad\n",
    "A = \\frac{W \\cdot d}{2}, \\quad R = \\frac{d}{2}\n",
    "$$\n",
    "\n",
    "### 2. Captured Flow\n",
    "\n",
    "$$\n",
    "Q_{\\text{captured}} = Q_{\\text{gutter}} \\cdot E\n",
    "$$\n",
    "\n",
    "### 3. Inlet Spacing\n",
    "\n",
    "$$\n",
    "\\text{Spacing} = \\frac{Q_{\\text{required}}}{Q_{\\text{captured}}}\n",
    "$$\n",
    "\n",
    "---\n",
    "\n",
    "### Design Criteria (HEC-22 Recommendations)\n",
    "\n",
    "- **Design storm**: 10-year for minor systems, 100-year for major systems\n",
    "- **Maximum spread**: Typically 1.8–2.4 m into travel lane\n",
    "- **Minimum street slope**: 0.5% for curbed pavements\n",
    "- **Clogging factor**: Apply 25–50% reduction for grate inlets in sag locations\n",
    "\n",
    "\n",
    "\n",
    "### 🧠 Conceptual Insight\n",
    "\n",
    "> Road inlets are the **first line of defense** in urban stormwater systems —  \n",
    "> their design must balance **hydraulic performance**, **safety**, and **maintenance access**.\n",
    "\n",
    "---\n",
    "\n",
    "### ❓ Quiz Questions\n",
    "\n",
    "1. What distinguishes a curb inlet from a grate inlet?\n",
    "2. Why are combination inlets preferred in high-flow areas?\n",
    "3. What factors influence inlet spacing?\n",
    "4. How does street slope affect inlet performance?\n",
    "5. What is the role of capture efficiency in inlet design?\n",
    "6. Why are urban areas more prone to flooding than rural areas?\n",
    "7. What is the difference between detention and retention?\n",
    "8. How does green infrastructure help manage stormwater?\n",
    "9. What role does climate change play in stormwater design?\n",
    "10. What are key components of a decentralized stormwater system?\n",
    "\n",
    "\n",
    "---\n",
    "\n",
    "### Reference\n",
    "\n",
    "- FHWA Hydraulic Engineering Circular No. 22 (HEC-22), 4th Edition  \n",
    "  [Urban Drainage Design Manual – FHWA](https://rosap.ntl.bts.gov/view/dot/74311/dot_74311_DS1.pdf)\n",
    "\n",
    "---"
   ]
  },
  {
   "cell_type": "markdown",
   "id": "a9ce3ddb-843d-46ee-be12-4a23dbee6df0",
   "metadata": {},
   "source": [
    "## 2. Simulation"
   ]
  },
  {
   "cell_type": "markdown",
   "id": "acecbd3f-48e0-406f-a658-60cbf2643bbd",
   "metadata": {},
   "source": [
    "### 🚰 Interactive Gutter Flow and Inlet Spacing Tool\n",
    "\n",
    "---\n",
    "\n",
    "### ✅ What the Code Does\n",
    "\n",
    "This tool estimates:\n",
    "- **Gutter flow capacity** using Manning’s equation\n",
    "- **Inlet spacing** based on inlet type and capture efficiency\n",
    "- **Visualizes gutter geometry and maximum allowable spread**\n",
    "\n",
    "It helps urban drainage designers evaluate inlet performance and layout for street stormwater systems.\n",
    "\n",
    "---\n",
    "\n",
    "### ▶️ How It Works\n",
    "\n",
    "### 🔧 Hydraulic Calculations\n",
    "- **Manning’s Equation** estimates flow in a triangular gutter:\n",
    "  $\n",
    "  Q = \\frac{1}{n} R^{2/3} S^{1/2} \\cdot A\n",
    "  $\n",
    "  where:\n",
    "  - $( R $): hydraulic radius\n",
    "  - $( S $): street slope\n",
    "  - $( n $): Manning’s roughness\n",
    "  - $( A $): flow area (triangular approximation)\n",
    "\n",
    "- **Inlet Capture Efficiency** varies by type (e.g., curb, grate, slotted)\n",
    "- **Spacing** is calculated as:\n",
    "  $$\n",
    "  \\text{Spacing} = \\frac{Q_{\\text{required}}}{Q_{\\text{captured}}}\n",
    "  $$\n",
    "\n",
    "### 📐 Visualization\n",
    "- Plots gutter cross-section with water spread\n",
    "- Highlights max allowable spread and slope\n",
    "- Displays inlet performance vs. required flow\n",
    "\n",
    "---\n",
    "\n",
    "### 📊 How to Interpret Inputs\n",
    "\n",
    "| Input Parameter     | Description                                                             |\n",
    "|---------------------|-------------------------------------------------------------------------|\n",
    "| `Q`                 | Required flow to capture (m³/s)                                         |\n",
    "| `S`                 | Street slope (m/m); affects flow velocity                               |\n",
    "| `n`                 | Manning’s roughness; varies by surface type                             |\n",
    "| `W`                 | Gutter width (m); affects flow area                                     |\n",
    "| `d`                 | Gutter depth (m); affects hydraulic radius                              |\n",
    "| `inlet_type`        | Type of inlet (Grate, Curb, Combination, Slotted)                       |\n",
    "| `max_spread`        | Maximum allowable water spread across street (m)                        |\n",
    "\n",
    "---\n",
    "\n",
    "### 📋 How to Interpret Outputs\n",
    "\n",
    "| Output              | Meaning                                                                 |\n",
    "|---------------------|-------------------------------------------------------------------------|\n",
    "| `Peak Inflow Rate`  | Flow capacity of gutter based on geometry and slope                     |\n",
    "| `Captured Flow`     | Portion of flow captured by inlet based on efficiency                   |\n",
    "| `Estimated Spacing` | Distance between inlets to meet flow capture requirement                |\n",
    "| `Plot`              | Visual comparison of captured vs. required flow and gutter geometry     |\n",
    "\n",
    "### 📘 Interpretation Tips\n",
    "- **Spacing < 20 m**: Frequent inlets needed; risk of excessive spread\n",
    "- **Spacing 20–50 m**: Acceptable for typical urban streets\n",
    "- **Spacing > 50 m**: May risk bypass; consider flanking or higher-efficiency inlets\n",
    "- **Captured < Required**: Warning to increase inlet size or add more inlets\n",
    "\n",
    "---\n",
    "\n",
    "### 🧠 Conceptual Insight\n",
    "\n",
    "> This tool supports **urban stormwater design** by linking hydraulic theory  \n",
    "> with practical inlet layout and street geometry — promoting safe and efficient drainage.\n",
    "\n",
    "\n",
    "---\n",
    "\n",
    "### Design Workflow\n",
    "\n",
    "1. Estimate runoff using Rational Method or hydrograph\n",
    "2. Compute gutter flow using Manning’s equation\n",
    "3. Select inlet type and determine capture efficiency\n",
    "4. Calculate captured flow and compare to required flow\n",
    "5. Determine inlet spacing to meet hydraulic and safety criteria\n",
    "\n"
   ]
  },
  {
   "cell_type": "code",
   "execution_count": 4,
   "id": "6eb19eb0-dbf5-4b86-80c1-ad08d3457359",
   "metadata": {},
   "outputs": [
    {
     "data": {
      "application/vnd.jupyter.widget-view+json": {
       "model_id": "4c2b61375f214df4ba0ef28d71f39445",
       "version_major": 2,
       "version_minor": 0
      },
      "text/plain": [
       "interactive(children=(FloatSlider(value=2.0, description='Gutter Width (m)', max=5.0, min=1.0), FloatSlider(va…"
      ]
     },
     "metadata": {},
     "output_type": "display_data"
    },
    {
     "data": {
      "application/vnd.jupyter.widget-view+json": {
       "model_id": "e34d5eb6d81246b8a9675b74fa4577e2",
       "version_major": 2,
       "version_minor": 0
      },
      "text/plain": [
       "interactive(children=(FloatSlider(value=0.5, description='Flow (m³/s)', max=5.0, min=0.1), FloatSlider(value=0…"
      ]
     },
     "metadata": {},
     "output_type": "display_data"
    }
   ],
   "source": [
    "# 📌 Run this cell in a Jupyter Notebook\n",
    "import numpy as np\n",
    "import matplotlib.pyplot as plt\n",
    "import ipywidgets as widgets\n",
    "from IPython.display import display, clear_output\n",
    "\n",
    "# 📐 Manning's equation for gutter flow\n",
    "def gutter_flow(Q, S, n, W, d):\n",
    "    A = W * d / 2  # triangular cross-section approximation\n",
    "    R = d / 2      # hydraulic radius\n",
    "    V = (1 / n) * R**(2/3) * S**0.5\n",
    "    Q_calc = A * V\n",
    "    return Q_calc\n",
    "\n",
    "# 📊 Inlet spacing calculator\n",
    "def inlet_design(Q, S, n, W, d, inlet_type, max_spread):\n",
    "    clear_output(wait=True)\n",
    "\n",
    "    # Compute gutter flow capacity\n",
    "    Q_gutter = gutter_flow(Q, S, n, W, d)\n",
    "\n",
    "    # Capture efficiency by inlet type\n",
    "    efficiency_dict = {\n",
    "        'Grate': 0.6,\n",
    "        'Curb': 0.75,\n",
    "        'Combination': 0.85,\n",
    "        'Slotted': 0.9\n",
    "    }\n",
    "    efficiency = efficiency_dict.get(inlet_type, 0.7)\n",
    "\n",
    "    # Effective captured flow\n",
    "    Q_captured = Q_gutter * efficiency\n",
    "\n",
    "    # Estimate spacing (simplified)\n",
    "    spacing = Q / Q_captured if Q_captured > 0 else np.inf\n",
    "\n",
    "    # Plot\n",
    "    plt.figure(figsize=(6, 4))\n",
    "    plt.bar(['Captured Flow'], [Q_captured], color='dodgerblue')\n",
    "    plt.axhline(Q, color='red', linestyle='--', label='Required Flow')\n",
    "    plt.ylabel('Flow (m³/s)')\n",
    "    plt.title(f'{inlet_type} Inlet Design\\nEstimated Spacing ≈ {spacing:.1f} m')\n",
    "    plt.legend()\n",
    "    plt.grid(True)\n",
    "    plt.tight_layout()\n",
    "    plt.show()\n",
    "\n",
    "    # Display summary and interpretation\n",
    "    print(f\"🚰 Required Flow: {Q:.2f} m³/s\")\n",
    "    print(f\"🛣️ Street Slope: {S:.3f} m/m (Suggested: 0.005–0.02)\")\n",
    "    print(f\"🧱 Manning's n: {n:.3f} (Typical: 0.015–0.025 for concrete/asphalt)\")\n",
    "    print(f\"📏 Gutter Width: {W:.2f} m (Typical: 1.0–2.5 m)\")\n",
    "    print(f\"📉 Gutter Depth: {d:.2f} m (Typical: 0.075–0.15 m)\")\n",
    "    print(f\"🧮 Inlet Type: {inlet_type}\")\n",
    "    print(f\"🎯 Capture Efficiency: {efficiency*100:.0f}%\")\n",
    "    print(f\"📐 Estimated Inlet Spacing: {spacing:.1f} m\")\n",
    "\n",
    "    # Interpretation\n",
    "    print(\"\\n📘 Interpretation:\")\n",
    "    if spacing < 20:\n",
    "        print(\"🔹 Inlets should be placed frequently to avoid excessive spread.\")\n",
    "    elif spacing < 50:\n",
    "        print(\"🔹 Moderate spacing is acceptable for typical urban streets.\")\n",
    "    else:\n",
    "        print(\"🔹 Wide spacing may risk bypass flow — consider flanking inlets or increasing capture efficiency.\")\n",
    "\n",
    "    if Q_captured < Q:\n",
    "        print(\"⚠️ Warning: Captured flow is less than required. Consider increasing inlet size or adding more inlets.\")\n",
    "\n",
    "\n",
    "\n",
    "\n",
    "# 🎚️ Interactive controls\n",
    "Q_slider = widgets.FloatSlider(value=0.5, min=0.1, max=5.0, step=0.1, description='Flow (m³/s)')\n",
    "S_slider = widgets.FloatSlider(value=0.01, min=0.001, max=0.05, step=0.001, description='Street Slope')\n",
    "n_slider = widgets.FloatSlider(value=0.016, min=0.010, max=0.030, step=0.001, description=\"Manning's n\")\n",
    "W_slider = widgets.FloatSlider(value=1.5, min=0.5, max=5.0, step=0.1, description='Gutter Width (m)')\n",
    "d_slider = widgets.FloatSlider(value=0.1, min=0.05, max=0.3, step=0.01, description='Gutter Depth (m)')\n",
    "inlet_dropdown = widgets.Dropdown(\n",
    "    options=['Grate', 'Curb', 'Combination', 'Slotted'],\n",
    "    value='Combination',\n",
    "    description='Inlet Type'\n",
    ")\n",
    "spread_slider = widgets.FloatSlider(value=2.0, min=0.5, max=5.0, step=0.1, description='Max Spread (m)')\n",
    "\n",
    "\n",
    "# 📐 Visualization function\n",
    "def plot_gutter_geometry(W, d, max_spread, S):\n",
    "    clear_output(wait=True)\n",
    "\n",
    "    # Create triangular gutter profile\n",
    "    x = np.linspace(0, W, 100)\n",
    "    y = d * (x / W)  # linear slope\n",
    "\n",
    "    # Plot\n",
    "    plt.figure(figsize=(8, 5))\n",
    "    plt.plot(x, y, label='Gutter Cross-Section', color='steelblue')\n",
    "    plt.fill_between(x, 0, y, color='lightblue', alpha=0.5)\n",
    "\n",
    "    # Max spread line\n",
    "    plt.axvline(max_spread, color='red', linestyle='--', label='Max Allowable Spread')\n",
    "    plt.text(max_spread + 0.1, d * 0.5, f'{max_spread:.2f} m', color='red')\n",
    "\n",
    "    # Annotate parameters\n",
    "    plt.text(W * 0.5, d + 0.02, f'Gutter Width = {W:.2f} m', ha='center')\n",
    "    plt.text(W * 0.5, -0.05, f'Depression Depth = {d:.2f} m', ha='center')\n",
    "    plt.text(W * 0.5, -0.10, f'Street Slope = {S:.3f} m/m', ha='center')\n",
    "\n",
    "    plt.xlabel('Distance from Curb (m)')\n",
    "    plt.ylabel('Water Depth (m)')\n",
    "    plt.title('Maximum Spread and Gutter Geometry')\n",
    "    plt.grid(True)\n",
    "    plt.legend()\n",
    "    plt.ylim(-0.15, d + 0.1)\n",
    "    plt.gca().invert_yaxis()  # 🔄 Invert y-axis to show depression\n",
    "    \n",
    "    plt.tight_layout()\n",
    "    plt.show()\n",
    "\n",
    "\n",
    "# 🎚️ Interactive controls\n",
    "W_slider = widgets.FloatSlider(value=2.0, min=1.0, max=5.0, step=0.1, description='Gutter Width (m)')\n",
    "d_slider = widgets.FloatSlider(value=0.1, min=0.05, max=0.3, step=0.01, description='Depression Depth (m)')\n",
    "spread_slider = widgets.FloatSlider(value=2.0, min=0.5, max=5.0, step=0.1, description='Max Spread (m)')\n",
    "S_slider = widgets.FloatSlider(value=0.01, min=0.001, max=0.05, step=0.001, description='Street Slope')\n",
    "\n",
    "\n",
    "interactive_plot = widgets.interactive(\n",
    "    plot_gutter_geometry,\n",
    "    W=W_slider,\n",
    "    d=d_slider,\n",
    "    max_spread=spread_slider,\n",
    "    S=S_slider\n",
    ")\n",
    "\n",
    "display(interactive_plot)\n",
    "\n",
    "\n",
    "interactive_plot = widgets.interactive(\n",
    "    inlet_design,\n",
    "    Q=Q_slider,\n",
    "    S=S_slider,\n",
    "    n=n_slider,\n",
    "    W=W_slider,\n",
    "    d=d_slider,\n",
    "    inlet_type=inlet_dropdown,\n",
    "    max_spread=spread_slider\n",
    ")\n",
    "\n",
    "display(interactive_plot)"
   ]
  },
  {
   "cell_type": "markdown",
   "id": "d2c16160-172d-4313-ba29-57980d0c6a6e",
   "metadata": {},
   "source": [
    "## 3. Simulation"
   ]
  },
  {
   "cell_type": "markdown",
   "id": "5be3cd72-0212-48da-8f0a-851c87753a71",
   "metadata": {},
   "source": [
    "### 🧮 Interactive Detention Pond Sizing Tool\n",
    "\n",
    "---\n",
    "\n",
    "### ✅ What the Code Does\n",
    "\n",
    "This tool estimates the **required detention pond volume** for urban stormwater management using a simplified hydrologic approach. It accounts for:\n",
    "\n",
    "- Peak runoff generation\n",
    "- Site-specific adjustments (soil type, terrain slope, groundwater table)\n",
    "- Outlet structure efficiency\n",
    "\n",
    "It helps designers explore how different parameters influence pond sizing.\n",
    "\n",
    "---\n",
    "\n",
    "### ▶️ How It Works\n",
    "\n",
    "1. **Hydrologic Calculations**\n",
    "   - Peak inflow rate:\n",
    "     $$\n",
    "     Q_{\\text{peak}} = C \\cdot i \\cdot A\n",
    "     $$\n",
    "   - Inflow volume (triangular hydrograph):\n",
    "     $$\n",
    "     V_{\\text{in}} = 0.5 \\cdot Q_{\\text{peak}} \\cdot t\n",
    "     $$\n",
    "   - Outflow volume:\n",
    "     $$\n",
    "     V_{\\text{out}} = Q_{\\text{out}} \\cdot t\n",
    "     $$\n",
    "   - Required storage:\n",
    "     $$\n",
    "     V_{\\text{required}} = V_{\\text{in}} - V_{\\text{out}}\n",
    "     $$\n",
    "\n",
    "2. **Site Adjustments**\n",
    "   - **Soil Type**: Adjusts for infiltration capacity\n",
    "   - **Terrain Slope**: Affects pond geometry and depth\n",
    "   - **Groundwater Table**: Limits excavation depth\n",
    "   - **Outlet Structure**: Improves discharge efficiency\n",
    "\n",
    "3. **Final Output**\n",
    "   - Displays peak inflow, raw volume, adjusted volume, and interpretive notes\n",
    "\n",
    "---\n",
    "\n",
    "### 📊 How to Interpret Inputs and Outputs\n",
    "\n",
    "### 🔢 Inputs\n",
    "\n",
    "| Parameter         | Description                                                             |\n",
    "|-------------------|-------------------------------------------------------------------------|\n",
    "| `C`               | Runoff coefficient (0.3–0.95); higher for urban areas                   |\n",
    "| `i`               | Rainfall intensity (mm/hr); based on design storm                       |\n",
    "| `A`               | Drainage area (ha); larger areas generate more runoff                   |\n",
    "| `duration_min`    | Storm duration (minutes); affects total volume                          |\n",
    "| `Q_out`           | Permissible outflow rate (m³/s); lower rates require more detention     |\n",
    "| `soil_type`       | Affects infiltration and retention (e.g., clay vs. sand)                |\n",
    "| `slope`           | Influences pond geometry and depth feasibility                          |\n",
    "| `gw_table`        | Groundwater depth; high tables limit excavation                         |\n",
    "| `outlet_type`     | Discharge structure; multi-stage and infiltration reduce volume         |\n",
    "\n",
    "### 📋 Outputs\n",
    "\n",
    "| Output                        | Interpretation                                                                 |\n",
    "|-------------------------------|--------------------------------------------------------------------------------|\n",
    "| `Peak Inflow Rate`            | Maximum runoff rate entering the pond                                          |\n",
    "| `Raw Storage Volume`          | Volume required without site adjustments                                      |\n",
    "| `Adjusted Storage Volume`     | Final recommended volume considering soil, slope, groundwater, and outlet type |\n",
    "| `Interpretation Notes`        | Explains how each input affects the final volume                              |\n",
    "\n",
    "---\n",
    "\n",
    "### 🧠 Conceptual Insight\n",
    "\n",
    "> This tool integrates **hydrologic**, **geotechnical**, and **hydraulic** factors  \n",
    "> to support resilient and context-sensitive detention pond design."
   ]
  },
  {
   "cell_type": "code",
   "execution_count": 5,
   "id": "e3823976-383a-46d0-b8dc-57ab6ffbcde9",
   "metadata": {},
   "outputs": [
    {
     "data": {
      "application/vnd.jupyter.widget-view+json": {
       "model_id": "c9c4118a294f422bb96f556917cdcc5f",
       "version_major": 2,
       "version_minor": 0
      },
      "text/plain": [
       "interactive(children=(FloatSlider(value=0.75, description='Runoff Coeff.', max=0.95, min=0.3, step=0.05), Floa…"
      ]
     },
     "metadata": {},
     "output_type": "display_data"
    }
   ],
   "source": [
    "import numpy as np\n",
    "import ipywidgets as widgets\n",
    "from ipywidgets import interact\n",
    "from IPython.display import clear_output\n",
    "\n",
    "# 📌 Interactive function\n",
    "def detention_pond_sizing(C, i, A, duration_min, Q_out, soil_type, slope, gw_table, outlet_type):\n",
    "    clear_output(wait=True)\n",
    "    \n",
    "    # Convert units\n",
    "    A_m2 = A * 10_000                     # hectares to m²\n",
    "    i_mps = i / 3600 / 1000               # mm/hr to m/s\n",
    "    duration = duration_min * 60         # minutes to seconds\n",
    "    \n",
    "    # Compute peak inflow\n",
    "    Q_peak = C * i_mps * A_m2            # m³/s\n",
    "    V_in = 0.5 * Q_peak * duration       # triangular hydrograph\n",
    "    V_out = Q_out * duration             # constant outflow\n",
    "    V_required = max(V_in - V_out, 0)    # required storage\n",
    "    \n",
    "    # 🌿 Soil infiltration adjustment\n",
    "    infiltration_factor = {\n",
    "        'Clay': 1.0,\n",
    "        'Silt': 0.9,\n",
    "        'Loam': 0.75,\n",
    "        'Sand': 0.6\n",
    "    }[soil_type]\n",
    "    \n",
    "    V_adjusted = V_required * infiltration_factor\n",
    "    \n",
    "    # 🧱 Slope adjustment\n",
    "    if slope == 'Flat':\n",
    "        slope_factor = 1.2\n",
    "    elif slope == 'Moderate':\n",
    "        slope_factor = 1.0\n",
    "    else:  # Steep\n",
    "        slope_factor = 0.85\n",
    "    \n",
    "    V_adjusted *= slope_factor\n",
    "    \n",
    "    # 💧 Groundwater table adjustment\n",
    "    if gw_table == 'High':\n",
    "        gw_factor = 1.2\n",
    "    elif gw_table == 'Moderate':\n",
    "        gw_factor = 1.0\n",
    "    else:  # Deep\n",
    "        gw_factor = 0.9\n",
    "    \n",
    "    V_adjusted *= gw_factor\n",
    "    \n",
    "    # 🛠️ Outlet structure influence\n",
    "    outlet_factor = {\n",
    "        'Orifice': 1.0,\n",
    "        'Weir': 0.95,\n",
    "        'Multi-stage': 0.85,\n",
    "        'Infiltration': 0.75\n",
    "    }[outlet_type]\n",
    "    \n",
    "    V_final = V_adjusted * outlet_factor\n",
    "    \n",
    "    # 📋 Output\n",
    "    print(f\"🌧️ Peak Inflow Rate: {Q_peak:.2f} m³/s\")\n",
    "    print(f\"📦 Raw Storage Volume (no adjustment): {V_required:.1f} m³\")\n",
    "    print(f\"🛠️ Adjusted Storage Volume (site + outlet): {V_final:.1f} m³\")\n",
    "    print(\"\\n🔍 Interpretation:\")\n",
    "    print(f\"- Soil Type '{soil_type}' affects infiltration and retention.\")\n",
    "    print(f\"- Terrain '{slope}' influences pond shape and depth.\")\n",
    "    print(f\"- Groundwater table '{gw_table}' may limit excavation depth.\")\n",
    "    print(f\"- Outlet type '{outlet_type}' improves discharge efficiency.\")\n",
    "    print(f\"\\n✅ Recommended Detention Volume: {V_final:.1f} m³\")\n",
    "\n",
    "# 🎛️ Interactive controls\n",
    "interact(detention_pond_sizing,\n",
    "         C=widgets.FloatSlider(value=0.75, min=0.3, max=0.95, step=0.05, description='Runoff Coeff.'),\n",
    "         i=widgets.FloatSlider(value=100, min=10, max=200, step=5, description='Rainfall Intensity (mm/hr)'),\n",
    "         A=widgets.FloatSlider(value=5, min=0.1, max=50, step=0.1, description='Area (ha)'),\n",
    "         duration_min=widgets.IntSlider(value=60, min=10, max=180, step=5, description='Storm Duration (min)'),\n",
    "         Q_out=widgets.FloatSlider(value=0.5, min=0.1, max=5.0, step=0.1, description='Outflow Rate (m³/s)'),\n",
    "         soil_type=widgets.Dropdown(options=['Clay', 'Silt', 'Loam', 'Sand'], description='Soil Type'),\n",
    "         slope=widgets.Dropdown(options=['Flat', 'Moderate', 'Steep'], description='Terrain Slope'),\n",
    "         gw_table=widgets.Dropdown(options=['High', 'Moderate', 'Deep'], description='Groundwater Table'),\n",
    "         outlet_type=widgets.Dropdown(options=['Orifice', 'Weir', 'Multi-stage', 'Infiltration'], description='Outlet Structure'));"
   ]
  },
  {
   "cell_type": "markdown",
   "id": "96d04893-fef5-4827-abd3-dab2bb5efe68",
   "metadata": {},
   "source": [
    "## 4. Self-Assessment"
   ]
  },
  {
   "cell_type": "markdown",
   "id": "6606d43c-e63c-48c4-b30c-aa82c3b16d66",
   "metadata": {},
   "source": [
    "### Storm Drain Inlet Design: Quiz & Reflection\n",
    "\n",
    "This section helps reinforce key concepts from the storm drain inlet design model using Manning’s equation and FHWA guidelines.\n",
    "\n",
    "---\n",
    "\n",
    "### Conceptual Questions\n",
    "\n",
    "1. **What is the role of Manning’s roughness coefficient (n) in gutter flow calculations?**\n",
    "   - A. It increases flow velocity\n",
    "   - B. It accounts for surface friction\n",
    "   - C. It represents water depth\n",
    "   - D. It controls inlet spacing\n",
    "\n",
    "2. **Which inlet type typically has the highest capture efficiency?**\n",
    "   - A. Grate\n",
    "   - B. Curb\n",
    "   - C. Combination\n",
    "   - D. Slotted\n",
    "\n",
    "3. **Why is the y-axis inverted in the gutter geometry plot?**\n",
    "   - A. To match the direction of flow\n",
    "   - B. To simulate water rising\n",
    "   - C. To visually represent depression in the street\n",
    "   - D. To show elevation above the curb\n",
    "\n",
    "4. **What happens if the captured flow is less than the required flow?**\n",
    "   - A. The inlet spacing increases\n",
    "   - B. The street slope must be reduced\n",
    "   - C. Bypass flow may occur\n",
    "   - D. The depression depth becomes irrelevant\n",
    "\n",
    "---\n",
    "\n",
    "### Calculation Challenge\n",
    "\n",
    "Given:\n",
    "\n",
    "- Flow rate $( Q = 0.8 \\ \\text{m}^3/\\text{s} $)\n",
    "- Street slope $( S = 0.015 $)\n",
    "- Manning’s $( n = 0.016 $)\n",
    "- Gutter width $( W = 2.0\\ \\text{m} $)\n",
    "- Depression depth $( d = 0.1 \\ \\text{m} $)\n",
    "- Inlet type = Combination\n",
    "\n",
    "**Tasks:**\n",
    "- Calculate the gutter flow capacity using Manning’s equation.\n",
    "- Estimate the captured flow using the inlet efficiency.\n",
    "- Determine the required inlet spacing.\n",
    "\n",
    "---\n",
    "\n",
    "### Reflection Questions\n",
    "\n",
    "1. **How does increasing the street slope affect the gutter flow and inlet spacing?**\n",
    "2. **Why might a designer choose a combination inlet over a grate or curb inlet in a sag location?**\n",
    "3. **What are the risks of exceeding the maximum allowable spread in urban streets?**\n",
    "4. **How could this model be extended to account for clogging, debris, or inlet bypass flow?**\n",
    "\n",
    "---\n",
    "\n",
    "### Design Insight\n",
    "\n",
    "> “Inlet spacing is not just a hydraulic decision — it’s a safety, maintenance, and cost decision. Balancing flow capture with accessibility and resilience is key to effective urban drainage.”\n",
    "\n",
    "---\n"
   ]
  },
  {
   "cell_type": "code",
   "execution_count": null,
   "id": "5f1f11e7-40e1-4dca-8c3f-de566b5b0f66",
   "metadata": {},
   "outputs": [],
   "source": []
  }
 ],
 "metadata": {
  "kernelspec": {
   "display_name": "Python [conda env:base] *",
   "language": "python",
   "name": "conda-base-py"
  },
  "language_info": {
   "codemirror_mode": {
    "name": "ipython",
    "version": 3
   },
   "file_extension": ".py",
   "mimetype": "text/x-python",
   "name": "python",
   "nbconvert_exporter": "python",
   "pygments_lexer": "ipython3",
   "version": "3.12.7"
  },
  "widgets": {
   "application/vnd.jupyter.widget-state+json": {
    "state": {
     "0336fd5480ce428d8db47aa39bbccfa3": {
      "model_module": "@jupyter-widgets/controls",
      "model_module_version": "2.0.0",
      "model_name": "FloatSliderModel",
      "state": {
       "behavior": "drag-tap",
       "description": "Gutter Width (m)",
       "layout": "IPY_MODEL_2b13181a5c3d417ca7eaa9929df18eab",
       "max": 5,
       "min": 0.5,
       "step": 0.1,
       "style": "IPY_MODEL_4d67b6ec5c6e4c1197a92dd056c25e68",
       "value": 1.5
      }
     },
     "0873b6f4d9f242c0924f5790f6ee76c8": {
      "model_module": "@jupyter-widgets/controls",
      "model_module_version": "2.0.0",
      "model_name": "DropdownModel",
      "state": {
       "_options_labels": [
        "Clay",
        "Silt",
        "Loam",
        "Sand"
       ],
       "description": "Soil Type",
       "index": 0,
       "layout": "IPY_MODEL_f8dd3e06f2fb41a3aa3c5d88eb1e330a",
       "style": "IPY_MODEL_92966803833d4eedad82dec4bad007e2"
      }
     },
     "08e92cf4ac54485abda48d66fd53d601": {
      "model_module": "@jupyter-widgets/controls",
      "model_module_version": "2.0.0",
      "model_name": "SliderStyleModel",
      "state": {
       "description_width": ""
      }
     },
     "099998797f08421d94ef4e6cbf9d5798": {
      "model_module": "@jupyter-widgets/base",
      "model_module_version": "2.0.0",
      "model_name": "LayoutModel",
      "state": {}
     },
     "0c7215e68ffa49119d1f3d56fb57f81a": {
      "model_module": "@jupyter-widgets/base",
      "model_module_version": "2.0.0",
      "model_name": "LayoutModel",
      "state": {}
     },
     "0dc0d427d4674b729382737f6684b620": {
      "model_module": "@jupyter-widgets/base",
      "model_module_version": "2.0.0",
      "model_name": "LayoutModel",
      "state": {}
     },
     "0e5683bb63464be4b6989b9d8ae47f70": {
      "model_module": "@jupyter-widgets/controls",
      "model_module_version": "2.0.0",
      "model_name": "SliderStyleModel",
      "state": {
       "description_width": ""
      }
     },
     "0ec58261ae0448f4ae3858f274436bfd": {
      "model_module": "@jupyter-widgets/controls",
      "model_module_version": "2.0.0",
      "model_name": "DescriptionStyleModel",
      "state": {
       "description_width": ""
      }
     },
     "0f2ef61a252e42e7abf0fa900f4f5464": {
      "model_module": "@jupyter-widgets/controls",
      "model_module_version": "2.0.0",
      "model_name": "FloatSliderModel",
      "state": {
       "behavior": "drag-tap",
       "description": "Area (ha)",
       "layout": "IPY_MODEL_e49327145096452c842d772d497ec3f8",
       "max": 50,
       "min": 0.1,
       "step": 0.1,
       "style": "IPY_MODEL_789e1ba436ea4321a7d96230c1dc33af",
       "value": 4.999999999999999
      }
     },
     "0fb2a4f923984ae7aa73d254bab20710": {
      "model_module": "@jupyter-widgets/output",
      "model_module_version": "1.0.0",
      "model_name": "OutputModel",
      "state": {
       "layout": "IPY_MODEL_87f887cf6c704c27bee8deb78c2c183f",
       "outputs": [
        {
         "name": "stdout",
         "output_type": "stream",
         "text": "🌧️ Peak Inflow Rate: 1.04 m³/s\n📦 Raw Storage Volume (no adjustment): 75.0 m³\n🛠️ Adjusted Storage Volume (site + outlet): 108.0 m³\n\n🔍 Interpretation:\n- Soil Type 'Clay' affects infiltration and retention.\n- Terrain 'Flat' influences pond shape and depth.\n- Groundwater table 'High' may limit excavation depth.\n- Outlet type 'Orifice' improves discharge efficiency.\n\n✅ Recommended Detention Volume: 108.0 m³\n"
        }
       ]
      }
     },
     "0fda041d8ac04fcb9cc281785e17a403": {
      "model_module": "@jupyter-widgets/controls",
      "model_module_version": "2.0.0",
      "model_name": "DropdownModel",
      "state": {
       "_options_labels": [
        "Orifice",
        "Weir",
        "Multi-stage",
        "Infiltration"
       ],
       "description": "Outlet Structure",
       "index": 0,
       "layout": "IPY_MODEL_8534522c74324fbe857bec5e1acbcda2",
       "style": "IPY_MODEL_0ec58261ae0448f4ae3858f274436bfd"
      }
     },
     "100e2211b77148ec81ea6ce403e48af4": {
      "model_module": "@jupyter-widgets/controls",
      "model_module_version": "2.0.0",
      "model_name": "FloatSliderModel",
      "state": {
       "behavior": "drag-tap",
       "description": "Outflow Rate (m³/s)",
       "layout": "IPY_MODEL_3de7270c2f9c4c0088dcb006a263cb1a",
       "max": 5,
       "min": 0.1,
       "step": 0.1,
       "style": "IPY_MODEL_3cbd765332b84d488ce8193a3a0da91e",
       "value": 0.5000000000000001
      }
     },
     "110a6443ffe847bb81c057e6f19e31e8": {
      "model_module": "@jupyter-widgets/output",
      "model_module_version": "1.0.0",
      "model_name": "OutputModel",
      "state": {
       "layout": "IPY_MODEL_4b4ef8be5e1446db8e235f249037c02c",
       "outputs": [
        {
         "data": {
          "image/png": "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",
          "text/plain": "<Figure size 800x500 with 1 Axes>"
         },
         "metadata": {},
         "output_type": "display_data"
        }
       ]
      }
     },
     "14b2e4b335d941119ef9c40aae736b27": {
      "model_module": "@jupyter-widgets/controls",
      "model_module_version": "2.0.0",
      "model_name": "SliderStyleModel",
      "state": {
       "description_width": ""
      }
     },
     "156bbc9af61c400884702d7d86448401": {
      "model_module": "@jupyter-widgets/controls",
      "model_module_version": "2.0.0",
      "model_name": "DropdownModel",
      "state": {
       "_options_labels": [
        "Flat",
        "Moderate",
        "Steep"
       ],
       "description": "Terrain Slope",
       "index": 0,
       "layout": "IPY_MODEL_321f486dafe14a00925ef79c9e158e9b",
       "style": "IPY_MODEL_439a3ea0da8e4d71bf94f141f1fb1457"
      }
     },
     "1a9b7803493d45a9a0b261abda787210": {
      "model_module": "@jupyter-widgets/base",
      "model_module_version": "2.0.0",
      "model_name": "LayoutModel",
      "state": {}
     },
     "1e89c25f5cf144cd9117ad91c055ea18": {
      "model_module": "@jupyter-widgets/controls",
      "model_module_version": "2.0.0",
      "model_name": "FloatSliderModel",
      "state": {
       "behavior": "drag-tap",
       "description": "Area (ha)",
       "layout": "IPY_MODEL_64cc61a7909b42e7a85819417034c41e",
       "max": 50,
       "min": 0.1,
       "step": 0.1,
       "style": "IPY_MODEL_14b2e4b335d941119ef9c40aae736b27",
       "value": 4.999999999999999
      }
     },
     "1f4b294e4d35449fbf1caa523c9b2635": {
      "model_module": "@jupyter-widgets/controls",
      "model_module_version": "2.0.0",
      "model_name": "SliderStyleModel",
      "state": {
       "description_width": ""
      }
     },
     "2171ff54e9a44475a0c134f284224474": {
      "model_module": "@jupyter-widgets/controls",
      "model_module_version": "2.0.0",
      "model_name": "DescriptionStyleModel",
      "state": {
       "description_width": ""
      }
     },
     "24985a86ee094577bc72eadce2dadd77": {
      "model_module": "@jupyter-widgets/controls",
      "model_module_version": "2.0.0",
      "model_name": "FloatSliderModel",
      "state": {
       "behavior": "drag-tap",
       "description": "Gutter Width (m)",
       "layout": "IPY_MODEL_2a0b595569324c8a9d8736f49c5d557a",
       "max": 5,
       "min": 1,
       "step": 0.1,
       "style": "IPY_MODEL_65d9c3839f914e86961be1202245a742",
       "value": 2
      }
     },
     "28047c000d2644d481332a4890bb976d": {
      "model_module": "@jupyter-widgets/controls",
      "model_module_version": "2.0.0",
      "model_name": "SliderStyleModel",
      "state": {
       "description_width": ""
      }
     },
     "29714c72d7c0492198da46b55ed2f744": {
      "model_module": "@jupyter-widgets/base",
      "model_module_version": "2.0.0",
      "model_name": "LayoutModel",
      "state": {}
     },
     "2a0b595569324c8a9d8736f49c5d557a": {
      "model_module": "@jupyter-widgets/base",
      "model_module_version": "2.0.0",
      "model_name": "LayoutModel",
      "state": {}
     },
     "2a33c18670254d38844371be174784ad": {
      "model_module": "@jupyter-widgets/base",
      "model_module_version": "2.0.0",
      "model_name": "LayoutModel",
      "state": {}
     },
     "2a35b375ad5a486d81394065ef8d6ad5": {
      "model_module": "@jupyter-widgets/base",
      "model_module_version": "2.0.0",
      "model_name": "LayoutModel",
      "state": {}
     },
     "2b13181a5c3d417ca7eaa9929df18eab": {
      "model_module": "@jupyter-widgets/base",
      "model_module_version": "2.0.0",
      "model_name": "LayoutModel",
      "state": {}
     },
     "2d5f61d1e23c4b918ff63bad7336086d": {
      "model_module": "@jupyter-widgets/controls",
      "model_module_version": "2.0.0",
      "model_name": "FloatSliderModel",
      "state": {
       "behavior": "drag-tap",
       "description": "Area (ha)",
       "layout": "IPY_MODEL_b9a28e4f0836415e8fd3499e3b65f9a6",
       "max": 50,
       "min": 0.1,
       "step": 0.1,
       "style": "IPY_MODEL_28047c000d2644d481332a4890bb976d",
       "value": 30.8
      }
     },
     "2ef2790ed63c445498b61a1ae4d596b3": {
      "model_module": "@jupyter-widgets/controls",
      "model_module_version": "2.0.0",
      "model_name": "FloatSliderModel",
      "state": {
       "behavior": "drag-tap",
       "description": "Street Slope",
       "layout": "IPY_MODEL_e15d769de8ce47c7898e925305703825",
       "max": 0.05,
       "min": 0.001,
       "step": 0.001,
       "style": "IPY_MODEL_9a13388be15e45bcabac9478b33feddf",
       "value": 0.010000000000000002
      }
     },
     "321f486dafe14a00925ef79c9e158e9b": {
      "model_module": "@jupyter-widgets/base",
      "model_module_version": "2.0.0",
      "model_name": "LayoutModel",
      "state": {}
     },
     "3519064340884ecfbef60effa413b1d1": {
      "model_module": "@jupyter-widgets/controls",
      "model_module_version": "2.0.0",
      "model_name": "VBoxModel",
      "state": {
       "_dom_classes": [
        "widget-interact"
       ],
       "children": [
        "IPY_MODEL_8fbebe8ed7af4147bcdb2345d19f4e8a",
        "IPY_MODEL_4c0a4a8a824b4c9a89868c5c9d344942",
        "IPY_MODEL_2d5f61d1e23c4b918ff63bad7336086d",
        "IPY_MODEL_9aa904bff53141eaacd295a66dc329f0",
        "IPY_MODEL_a26e602e43694aabba9aa92355136f13",
        "IPY_MODEL_36dbe9ba4ef04fcc928e198e3f7ec7d4"
       ],
       "layout": "IPY_MODEL_4bb4f9cf93304bb993ae49cd1ca2537c"
      }
     },
     "36dbe9ba4ef04fcc928e198e3f7ec7d4": {
      "model_module": "@jupyter-widgets/output",
      "model_module_version": "1.0.0",
      "model_name": "OutputModel",
      "state": {
       "layout": "IPY_MODEL_b3d10349558b4969bcff48a55bd32d94",
       "outputs": [
        {
         "name": "stdout",
         "output_type": "stream",
         "text": "🌧️ Peak Inflow Rate: 4.49 m³/s\n📦 Total Inflow Volume: 19538.8 m³\n🚰 Total Outflow Volume: 4350.0 m³\n🛑 Required Detention Storage: 15188.8 m³\n"
        }
       ]
      }
     },
     "3827cad5b5234115827fae3d79a67dc5": {
      "model_module": "@jupyter-widgets/base",
      "model_module_version": "2.0.0",
      "model_name": "LayoutModel",
      "state": {}
     },
     "38c2b9c7959448d29e07b3e343685543": {
      "model_module": "@jupyter-widgets/base",
      "model_module_version": "2.0.0",
      "model_name": "LayoutModel",
      "state": {}
     },
     "3b99044d57a4466799cf5ca3a8af585e": {
      "model_module": "@jupyter-widgets/base",
      "model_module_version": "2.0.0",
      "model_name": "LayoutModel",
      "state": {}
     },
     "3cbd765332b84d488ce8193a3a0da91e": {
      "model_module": "@jupyter-widgets/controls",
      "model_module_version": "2.0.0",
      "model_name": "SliderStyleModel",
      "state": {
       "description_width": ""
      }
     },
     "3de7270c2f9c4c0088dcb006a263cb1a": {
      "model_module": "@jupyter-widgets/base",
      "model_module_version": "2.0.0",
      "model_name": "LayoutModel",
      "state": {}
     },
     "409fd47c60684027ba2387495ea4f62c": {
      "model_module": "@jupyter-widgets/base",
      "model_module_version": "2.0.0",
      "model_name": "LayoutModel",
      "state": {}
     },
     "42752e7f160e4dcc891c0667d5170e6c": {
      "model_module": "@jupyter-widgets/controls",
      "model_module_version": "2.0.0",
      "model_name": "SliderStyleModel",
      "state": {
       "description_width": ""
      }
     },
     "439a3ea0da8e4d71bf94f141f1fb1457": {
      "model_module": "@jupyter-widgets/controls",
      "model_module_version": "2.0.0",
      "model_name": "DescriptionStyleModel",
      "state": {
       "description_width": ""
      }
     },
     "486cefb878944cfb816e5865c1a4e68f": {
      "model_module": "@jupyter-widgets/controls",
      "model_module_version": "2.0.0",
      "model_name": "DescriptionStyleModel",
      "state": {
       "description_width": ""
      }
     },
     "4b4ef8be5e1446db8e235f249037c02c": {
      "model_module": "@jupyter-widgets/base",
      "model_module_version": "2.0.0",
      "model_name": "LayoutModel",
      "state": {}
     },
     "4b70dea9a482433cb32d786bccfb28fb": {
      "model_module": "@jupyter-widgets/base",
      "model_module_version": "2.0.0",
      "model_name": "LayoutModel",
      "state": {}
     },
     "4bb4f9cf93304bb993ae49cd1ca2537c": {
      "model_module": "@jupyter-widgets/base",
      "model_module_version": "2.0.0",
      "model_name": "LayoutModel",
      "state": {}
     },
     "4c0a4a8a824b4c9a89868c5c9d344942": {
      "model_module": "@jupyter-widgets/controls",
      "model_module_version": "2.0.0",
      "model_name": "FloatSliderModel",
      "state": {
       "behavior": "drag-tap",
       "description": "Rainfall Intensity (mm/hr)",
       "layout": "IPY_MODEL_4b70dea9a482433cb32d786bccfb28fb",
       "max": 200,
       "min": 10,
       "step": 5,
       "style": "IPY_MODEL_932cbdeb64664a62ae7729e3e13f2b11",
       "value": 70
      }
     },
     "4c2b61375f214df4ba0ef28d71f39445": {
      "model_module": "@jupyter-widgets/controls",
      "model_module_version": "2.0.0",
      "model_name": "VBoxModel",
      "state": {
       "_dom_classes": [
        "widget-interact"
       ],
       "children": [
        "IPY_MODEL_24985a86ee094577bc72eadce2dadd77",
        "IPY_MODEL_ec546e0f06a14fc590a1342122c0af61",
        "IPY_MODEL_532e30b8046b4147aa484fbc96cb3edd",
        "IPY_MODEL_2ef2790ed63c445498b61a1ae4d596b3",
        "IPY_MODEL_110a6443ffe847bb81c057e6f19e31e8"
       ],
       "layout": "IPY_MODEL_5a48ff83c62b4a1c90d3daeddf710e1e"
      }
     },
     "4c463f4ccbf34e54a2e98ce715bed3a1": {
      "model_module": "@jupyter-widgets/base",
      "model_module_version": "2.0.0",
      "model_name": "LayoutModel",
      "state": {}
     },
     "4d67b6ec5c6e4c1197a92dd056c25e68": {
      "model_module": "@jupyter-widgets/controls",
      "model_module_version": "2.0.0",
      "model_name": "SliderStyleModel",
      "state": {
       "description_width": ""
      }
     },
     "5167ae031933473b8a90eee102d29b35": {
      "model_module": "@jupyter-widgets/base",
      "model_module_version": "2.0.0",
      "model_name": "LayoutModel",
      "state": {}
     },
     "52187c244c124133b6e1798111808e73": {
      "model_module": "@jupyter-widgets/controls",
      "model_module_version": "2.0.0",
      "model_name": "SliderStyleModel",
      "state": {
       "description_width": ""
      }
     },
     "532e30b8046b4147aa484fbc96cb3edd": {
      "model_module": "@jupyter-widgets/controls",
      "model_module_version": "2.0.0",
      "model_name": "FloatSliderModel",
      "state": {
       "behavior": "drag-tap",
       "description": "Max Spread (m)",
       "layout": "IPY_MODEL_3827cad5b5234115827fae3d79a67dc5",
       "max": 5,
       "min": 0.5,
       "step": 0.1,
       "style": "IPY_MODEL_b3c9e968001b4b25a40d91ae429572c0",
       "value": 2
      }
     },
     "5426d41948f247be92125a39a256d2d7": {
      "model_module": "@jupyter-widgets/controls",
      "model_module_version": "2.0.0",
      "model_name": "IntSliderModel",
      "state": {
       "behavior": "drag-tap",
       "description": "Storm Duration (min)",
       "layout": "IPY_MODEL_feee8944274c4479972d2c6e8394fc7b",
       "max": 180,
       "min": 10,
       "step": 5,
       "style": "IPY_MODEL_84e4b85522324f6b8a07be22b2431c7f",
       "value": 60
      }
     },
     "5a48ff83c62b4a1c90d3daeddf710e1e": {
      "model_module": "@jupyter-widgets/base",
      "model_module_version": "2.0.0",
      "model_name": "LayoutModel",
      "state": {}
     },
     "5b2c640229aa47bab3c7a3aaf896e5ec": {
      "model_module": "@jupyter-widgets/base",
      "model_module_version": "2.0.0",
      "model_name": "LayoutModel",
      "state": {}
     },
     "5d6e7f12cf024be985bd1c3bd36f2862": {
      "model_module": "@jupyter-widgets/controls",
      "model_module_version": "2.0.0",
      "model_name": "SliderStyleModel",
      "state": {
       "description_width": ""
      }
     },
     "60df65c9f6834f8cb48f87b7c25bff94": {
      "model_module": "@jupyter-widgets/base",
      "model_module_version": "2.0.0",
      "model_name": "LayoutModel",
      "state": {}
     },
     "640816a6c3074f6e9e3e2c588acfb311": {
      "model_module": "@jupyter-widgets/controls",
      "model_module_version": "2.0.0",
      "model_name": "DropdownModel",
      "state": {
       "_options_labels": [
        "High",
        "Moderate",
        "Deep"
       ],
       "description": "Groundwater Table",
       "index": 0,
       "layout": "IPY_MODEL_8064c65eb5ac49fb85afb4ff9c319631",
       "style": "IPY_MODEL_ce01b17ef5704170819f518e7e2735ec"
      }
     },
     "64cc61a7909b42e7a85819417034c41e": {
      "model_module": "@jupyter-widgets/base",
      "model_module_version": "2.0.0",
      "model_name": "LayoutModel",
      "state": {}
     },
     "65d9c3839f914e86961be1202245a742": {
      "model_module": "@jupyter-widgets/controls",
      "model_module_version": "2.0.0",
      "model_name": "SliderStyleModel",
      "state": {
       "description_width": ""
      }
     },
     "6d20edcc1ed54ceba736ffee33130bca": {
      "model_module": "@jupyter-widgets/controls",
      "model_module_version": "2.0.0",
      "model_name": "SliderStyleModel",
      "state": {
       "description_width": ""
      }
     },
     "6fc316b604bf4c6bbaf907046a22fe70": {
      "model_module": "@jupyter-widgets/base",
      "model_module_version": "2.0.0",
      "model_name": "LayoutModel",
      "state": {}
     },
     "7364eb15f803407a8d09aacdd4c648c9": {
      "model_module": "@jupyter-widgets/base",
      "model_module_version": "2.0.0",
      "model_name": "LayoutModel",
      "state": {}
     },
     "789e1ba436ea4321a7d96230c1dc33af": {
      "model_module": "@jupyter-widgets/controls",
      "model_module_version": "2.0.0",
      "model_name": "SliderStyleModel",
      "state": {
       "description_width": ""
      }
     },
     "7e023c0cb9d9434a95f602d3a8ab12fd": {
      "model_module": "@jupyter-widgets/controls",
      "model_module_version": "2.0.0",
      "model_name": "FloatSliderModel",
      "state": {
       "behavior": "drag-tap",
       "description": "Flow (m³/s)",
       "layout": "IPY_MODEL_29714c72d7c0492198da46b55ed2f744",
       "max": 5,
       "min": 0.1,
       "step": 0.1,
       "style": "IPY_MODEL_42752e7f160e4dcc891c0667d5170e6c",
       "value": 0.5000000000000001
      }
     },
     "8064c65eb5ac49fb85afb4ff9c319631": {
      "model_module": "@jupyter-widgets/base",
      "model_module_version": "2.0.0",
      "model_name": "LayoutModel",
      "state": {}
     },
     "83b65b3661ce4bc3acf0852afef97a9b": {
      "model_module": "@jupyter-widgets/controls",
      "model_module_version": "2.0.0",
      "model_name": "VBoxModel",
      "state": {
       "_dom_classes": [
        "widget-interact"
       ],
       "children": [
        "IPY_MODEL_f14b557d43054297ab7402f03d9b8283",
        "IPY_MODEL_de519ae5a9c94e8697ffdbec9e1a6342",
        "IPY_MODEL_0f2ef61a252e42e7abf0fa900f4f5464",
        "IPY_MODEL_aa015ca4e5aa45deb5d80a51af9848ca",
        "IPY_MODEL_100e2211b77148ec81ea6ce403e48af4",
        "IPY_MODEL_0873b6f4d9f242c0924f5790f6ee76c8",
        "IPY_MODEL_d68e11bcfd264383b7079bd3cf3dd666",
        "IPY_MODEL_f82f674624024f45a6e64969b68eca80",
        "IPY_MODEL_89ac1b06fa034f819509f0da9e9fc6bc",
        "IPY_MODEL_f1bccf3d06ff44c8aad0e008a95328aa"
       ],
       "layout": "IPY_MODEL_a58d81132d0a4eee94f348a2c38e246f"
      }
     },
     "84a9aae441094967a471f3ee9b3e634f": {
      "model_module": "@jupyter-widgets/output",
      "model_module_version": "1.0.0",
      "model_name": "OutputModel",
      "state": {
       "layout": "IPY_MODEL_0dc0d427d4674b729382737f6684b620",
       "outputs": [
        {
         "data": {
          "image/png": "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",
          "text/plain": "<Figure size 600x400 with 1 Axes>"
         },
         "metadata": {},
         "output_type": "display_data"
        },
        {
         "name": "stdout",
         "output_type": "stream",
         "text": "🚰 Required Flow: 0.50 m³/s\n🛣️ Street Slope: 0.010 m/m (Suggested: 0.005–0.02)\n🧱 Manning's n: 0.016 (Typical: 0.015–0.025 for concrete/asphalt)\n📏 Gutter Width: 2.00 m (Typical: 1.0–2.5 m)\n📉 Gutter Depth: 0.10 m (Typical: 0.075–0.15 m)\n🧮 Inlet Type: Combination\n🎯 Capture Efficiency: 85%\n📐 Estimated Inlet Spacing: 6.9 m\n\n📘 Interpretation:\n🔹 Inlets should be placed frequently to avoid excessive spread.\n⚠️ Warning: Captured flow is less than required. Consider increasing inlet size or adding more inlets.\n"
        }
       ]
      }
     },
     "84e4b85522324f6b8a07be22b2431c7f": {
      "model_module": "@jupyter-widgets/controls",
      "model_module_version": "2.0.0",
      "model_name": "SliderStyleModel",
      "state": {
       "description_width": ""
      }
     },
     "8534522c74324fbe857bec5e1acbcda2": {
      "model_module": "@jupyter-widgets/base",
      "model_module_version": "2.0.0",
      "model_name": "LayoutModel",
      "state": {}
     },
     "87bf20fa98c14a82b1336459d7d1790c": {
      "model_module": "@jupyter-widgets/controls",
      "model_module_version": "2.0.0",
      "model_name": "FloatSliderModel",
      "state": {
       "behavior": "drag-tap",
       "description": "Rainfall Intensity (mm/hr)",
       "layout": "IPY_MODEL_c08d79e3dc6d422bb8f36b788cb01fe1",
       "max": 200,
       "min": 10,
       "step": 5,
       "style": "IPY_MODEL_aa8f8e35175a429ab57f5ffd601ab7e9",
       "value": 100
      }
     },
     "87f887cf6c704c27bee8deb78c2c183f": {
      "model_module": "@jupyter-widgets/base",
      "model_module_version": "2.0.0",
      "model_name": "LayoutModel",
      "state": {}
     },
     "89ac1b06fa034f819509f0da9e9fc6bc": {
      "model_module": "@jupyter-widgets/controls",
      "model_module_version": "2.0.0",
      "model_name": "DropdownModel",
      "state": {
       "_options_labels": [
        "Orifice",
        "Weir",
        "Multi-stage",
        "Infiltration"
       ],
       "description": "Outlet Structure",
       "index": 0,
       "layout": "IPY_MODEL_3b99044d57a4466799cf5ca3a8af585e",
       "style": "IPY_MODEL_486cefb878944cfb816e5865c1a4e68f"
      }
     },
     "8cc402ff698147ef90561b21b7bb454d": {
      "model_module": "@jupyter-widgets/base",
      "model_module_version": "2.0.0",
      "model_name": "LayoutModel",
      "state": {}
     },
     "8db4274fd4a642f989acb38d67f94bf0": {
      "model_module": "@jupyter-widgets/controls",
      "model_module_version": "2.0.0",
      "model_name": "FloatSliderModel",
      "state": {
       "behavior": "drag-tap",
       "description": "Gutter Depth (m)",
       "layout": "IPY_MODEL_60df65c9f6834f8cb48f87b7c25bff94",
       "max": 0.3,
       "min": 0.05,
       "step": 0.01,
       "style": "IPY_MODEL_97389f3004454b08aa0372c0381fd001",
       "value": 0.1
      }
     },
     "8ed3a5f201a044d09d27843f392ae5c4": {
      "model_module": "@jupyter-widgets/controls",
      "model_module_version": "2.0.0",
      "model_name": "SliderStyleModel",
      "state": {
       "description_width": ""
      }
     },
     "8fbebe8ed7af4147bcdb2345d19f4e8a": {
      "model_module": "@jupyter-widgets/controls",
      "model_module_version": "2.0.0",
      "model_name": "FloatSliderModel",
      "state": {
       "behavior": "drag-tap",
       "description": "Runoff Coeff.",
       "layout": "IPY_MODEL_099998797f08421d94ef4e6cbf9d5798",
       "max": 0.95,
       "min": 0.3,
       "step": 0.05,
       "style": "IPY_MODEL_e1f53bb27a3f4628a176dcd5808922d1",
       "value": 0.75
      }
     },
     "92966803833d4eedad82dec4bad007e2": {
      "model_module": "@jupyter-widgets/controls",
      "model_module_version": "2.0.0",
      "model_name": "DescriptionStyleModel",
      "state": {
       "description_width": ""
      }
     },
     "932cbdeb64664a62ae7729e3e13f2b11": {
      "model_module": "@jupyter-widgets/controls",
      "model_module_version": "2.0.0",
      "model_name": "SliderStyleModel",
      "state": {
       "description_width": ""
      }
     },
     "946677f523ff48bfbb4e43ae47447b03": {
      "model_module": "@jupyter-widgets/base",
      "model_module_version": "2.0.0",
      "model_name": "LayoutModel",
      "state": {}
     },
     "97389f3004454b08aa0372c0381fd001": {
      "model_module": "@jupyter-widgets/controls",
      "model_module_version": "2.0.0",
      "model_name": "SliderStyleModel",
      "state": {
       "description_width": ""
      }
     },
     "9a13388be15e45bcabac9478b33feddf": {
      "model_module": "@jupyter-widgets/controls",
      "model_module_version": "2.0.0",
      "model_name": "SliderStyleModel",
      "state": {
       "description_width": ""
      }
     },
     "9aa904bff53141eaacd295a66dc329f0": {
      "model_module": "@jupyter-widgets/controls",
      "model_module_version": "2.0.0",
      "model_name": "FloatSliderModel",
      "state": {
       "behavior": "drag-tap",
       "description": "Outflow Rate (m³/s)",
       "layout": "IPY_MODEL_409fd47c60684027ba2387495ea4f62c",
       "max": 5,
       "min": 0.1,
       "step": 0.1,
       "style": "IPY_MODEL_6d20edcc1ed54ceba736ffee33130bca",
       "value": 0.5000000000000001
      }
     },
     "a1f2c011cdb44e1da777775a68dd701b": {
      "model_module": "@jupyter-widgets/controls",
      "model_module_version": "2.0.0",
      "model_name": "DropdownModel",
      "state": {
       "_options_labels": [
        "Clay",
        "Silt",
        "Loam",
        "Sand"
       ],
       "description": "Soil Type",
       "index": 0,
       "layout": "IPY_MODEL_946677f523ff48bfbb4e43ae47447b03",
       "style": "IPY_MODEL_2171ff54e9a44475a0c134f284224474"
      }
     },
     "a251e18044ed47eeaa0eefa9ec7a1950": {
      "model_module": "@jupyter-widgets/controls",
      "model_module_version": "2.0.0",
      "model_name": "FloatSliderModel",
      "state": {
       "behavior": "drag-tap",
       "description": "Street Slope",
       "layout": "IPY_MODEL_1a9b7803493d45a9a0b261abda787210",
       "max": 0.05,
       "min": 0.001,
       "step": 0.001,
       "style": "IPY_MODEL_8ed3a5f201a044d09d27843f392ae5c4",
       "value": 0.01
      }
     },
     "a26e602e43694aabba9aa92355136f13": {
      "model_module": "@jupyter-widgets/controls",
      "model_module_version": "2.0.0",
      "model_name": "IntSliderModel",
      "state": {
       "behavior": "drag-tap",
       "description": "Storm Duration (min)",
       "layout": "IPY_MODEL_bf6441661e944a6b89602310552d6e1b",
       "max": 180,
       "min": 10,
       "step": 5,
       "style": "IPY_MODEL_08e92cf4ac54485abda48d66fd53d601",
       "value": 145
      }
     },
     "a4dc79d43e78487fad46c56ea8ed0794": {
      "model_module": "@jupyter-widgets/controls",
      "model_module_version": "2.0.0",
      "model_name": "DescriptionStyleModel",
      "state": {
       "description_width": ""
      }
     },
     "a58d81132d0a4eee94f348a2c38e246f": {
      "model_module": "@jupyter-widgets/base",
      "model_module_version": "2.0.0",
      "model_name": "LayoutModel",
      "state": {}
     },
     "a6aee479dbe34942b419fc3d6970d7f2": {
      "model_module": "@jupyter-widgets/base",
      "model_module_version": "2.0.0",
      "model_name": "LayoutModel",
      "state": {}
     },
     "aa015ca4e5aa45deb5d80a51af9848ca": {
      "model_module": "@jupyter-widgets/controls",
      "model_module_version": "2.0.0",
      "model_name": "IntSliderModel",
      "state": {
       "behavior": "drag-tap",
       "description": "Storm Duration (min)",
       "layout": "IPY_MODEL_0c7215e68ffa49119d1f3d56fb57f81a",
       "max": 180,
       "min": 10,
       "step": 5,
       "style": "IPY_MODEL_faffb848cf3846e0921c50ab5761324f",
       "value": 60
      }
     },
     "aa8f8e35175a429ab57f5ffd601ab7e9": {
      "model_module": "@jupyter-widgets/controls",
      "model_module_version": "2.0.0",
      "model_name": "SliderStyleModel",
      "state": {
       "description_width": ""
      }
     },
     "b23dcdf8ab174ea0bbed5776806138a6": {
      "model_module": "@jupyter-widgets/controls",
      "model_module_version": "2.0.0",
      "model_name": "DropdownModel",
      "state": {
       "_options_labels": [
        "Grate",
        "Curb",
        "Combination",
        "Slotted"
       ],
       "description": "Inlet Type",
       "index": 2,
       "layout": "IPY_MODEL_38c2b9c7959448d29e07b3e343685543",
       "style": "IPY_MODEL_a4dc79d43e78487fad46c56ea8ed0794"
      }
     },
     "b2b8cc010fb8458aba1541ef824a7f07": {
      "model_module": "@jupyter-widgets/base",
      "model_module_version": "2.0.0",
      "model_name": "LayoutModel",
      "state": {}
     },
     "b3c9e968001b4b25a40d91ae429572c0": {
      "model_module": "@jupyter-widgets/controls",
      "model_module_version": "2.0.0",
      "model_name": "SliderStyleModel",
      "state": {
       "description_width": ""
      }
     },
     "b3d10349558b4969bcff48a55bd32d94": {
      "model_module": "@jupyter-widgets/base",
      "model_module_version": "2.0.0",
      "model_name": "LayoutModel",
      "state": {}
     },
     "b571e92df4f744debc0c7e7f522f1ccd": {
      "model_module": "@jupyter-widgets/controls",
      "model_module_version": "2.0.0",
      "model_name": "FloatSliderModel",
      "state": {
       "behavior": "drag-tap",
       "description": "Outflow Rate (m³/s)",
       "layout": "IPY_MODEL_2a33c18670254d38844371be174784ad",
       "max": 5,
       "min": 0.1,
       "step": 0.1,
       "style": "IPY_MODEL_52187c244c124133b6e1798111808e73",
       "value": 0.5000000000000001
      }
     },
     "b9a28e4f0836415e8fd3499e3b65f9a6": {
      "model_module": "@jupyter-widgets/base",
      "model_module_version": "2.0.0",
      "model_name": "LayoutModel",
      "state": {}
     },
     "bf4a542d533b45aeaf546c929aef539f": {
      "model_module": "@jupyter-widgets/controls",
      "model_module_version": "2.0.0",
      "model_name": "DescriptionStyleModel",
      "state": {
       "description_width": ""
      }
     },
     "bf6441661e944a6b89602310552d6e1b": {
      "model_module": "@jupyter-widgets/base",
      "model_module_version": "2.0.0",
      "model_name": "LayoutModel",
      "state": {}
     },
     "c08d79e3dc6d422bb8f36b788cb01fe1": {
      "model_module": "@jupyter-widgets/base",
      "model_module_version": "2.0.0",
      "model_name": "LayoutModel",
      "state": {}
     },
     "c3d2a3186f8641e88ba63bddfe9daf21": {
      "model_module": "@jupyter-widgets/base",
      "model_module_version": "2.0.0",
      "model_name": "LayoutModel",
      "state": {}
     },
     "c43b9e1b07cd4115a03b58bb2bb417bd": {
      "model_module": "@jupyter-widgets/base",
      "model_module_version": "2.0.0",
      "model_name": "LayoutModel",
      "state": {}
     },
     "c9c4118a294f422bb96f556917cdcc5f": {
      "model_module": "@jupyter-widgets/controls",
      "model_module_version": "2.0.0",
      "model_name": "VBoxModel",
      "state": {
       "_dom_classes": [
        "widget-interact"
       ],
       "children": [
        "IPY_MODEL_e4c83f8121c34d93be05f8842d95b1d6",
        "IPY_MODEL_87bf20fa98c14a82b1336459d7d1790c",
        "IPY_MODEL_1e89c25f5cf144cd9117ad91c055ea18",
        "IPY_MODEL_5426d41948f247be92125a39a256d2d7",
        "IPY_MODEL_b571e92df4f744debc0c7e7f522f1ccd",
        "IPY_MODEL_a1f2c011cdb44e1da777775a68dd701b",
        "IPY_MODEL_156bbc9af61c400884702d7d86448401",
        "IPY_MODEL_640816a6c3074f6e9e3e2c588acfb311",
        "IPY_MODEL_0fda041d8ac04fcb9cc281785e17a403",
        "IPY_MODEL_0fb2a4f923984ae7aa73d254bab20710"
       ],
       "layout": "IPY_MODEL_5b2c640229aa47bab3c7a3aaf896e5ec"
      }
     },
     "ce01b17ef5704170819f518e7e2735ec": {
      "model_module": "@jupyter-widgets/controls",
      "model_module_version": "2.0.0",
      "model_name": "DescriptionStyleModel",
      "state": {
       "description_width": ""
      }
     },
     "d22bf55da56d4328992e651c8bd61584": {
      "model_module": "@jupyter-widgets/controls",
      "model_module_version": "2.0.0",
      "model_name": "FloatSliderModel",
      "state": {
       "behavior": "drag-tap",
       "description": "Max Spread (m)",
       "layout": "IPY_MODEL_c3d2a3186f8641e88ba63bddfe9daf21",
       "max": 5,
       "min": 0.5,
       "step": 0.1,
       "style": "IPY_MODEL_5d6e7f12cf024be985bd1c3bd36f2862",
       "value": 2
      }
     },
     "d5b57097ccbe488c829271b74ac1981e": {
      "model_module": "@jupyter-widgets/controls",
      "model_module_version": "2.0.0",
      "model_name": "SliderStyleModel",
      "state": {
       "description_width": ""
      }
     },
     "d68e11bcfd264383b7079bd3cf3dd666": {
      "model_module": "@jupyter-widgets/controls",
      "model_module_version": "2.0.0",
      "model_name": "DropdownModel",
      "state": {
       "_options_labels": [
        "Flat",
        "Moderate",
        "Steep"
       ],
       "description": "Terrain Slope",
       "index": 0,
       "layout": "IPY_MODEL_2a35b375ad5a486d81394065ef8d6ad5",
       "style": "IPY_MODEL_f782734219594d06b6e83041da843cc8"
      }
     },
     "de519ae5a9c94e8697ffdbec9e1a6342": {
      "model_module": "@jupyter-widgets/controls",
      "model_module_version": "2.0.0",
      "model_name": "FloatSliderModel",
      "state": {
       "behavior": "drag-tap",
       "description": "Rainfall Intensity (mm/hr)",
       "layout": "IPY_MODEL_b2b8cc010fb8458aba1541ef824a7f07",
       "max": 200,
       "min": 10,
       "step": 5,
       "style": "IPY_MODEL_d5b57097ccbe488c829271b74ac1981e",
       "value": 100
      }
     },
     "e15d769de8ce47c7898e925305703825": {
      "model_module": "@jupyter-widgets/base",
      "model_module_version": "2.0.0",
      "model_name": "LayoutModel",
      "state": {}
     },
     "e1f53bb27a3f4628a176dcd5808922d1": {
      "model_module": "@jupyter-widgets/controls",
      "model_module_version": "2.0.0",
      "model_name": "SliderStyleModel",
      "state": {
       "description_width": ""
      }
     },
     "e34d5eb6d81246b8a9675b74fa4577e2": {
      "model_module": "@jupyter-widgets/controls",
      "model_module_version": "2.0.0",
      "model_name": "VBoxModel",
      "state": {
       "_dom_classes": [
        "widget-interact"
       ],
       "children": [
        "IPY_MODEL_7e023c0cb9d9434a95f602d3a8ab12fd",
        "IPY_MODEL_2ef2790ed63c445498b61a1ae4d596b3",
        "IPY_MODEL_f9cddd4c3a944101a74a17c77f3b63f4",
        "IPY_MODEL_24985a86ee094577bc72eadce2dadd77",
        "IPY_MODEL_ec546e0f06a14fc590a1342122c0af61",
        "IPY_MODEL_b23dcdf8ab174ea0bbed5776806138a6",
        "IPY_MODEL_532e30b8046b4147aa484fbc96cb3edd",
        "IPY_MODEL_84a9aae441094967a471f3ee9b3e634f"
       ],
       "layout": "IPY_MODEL_6fc316b604bf4c6bbaf907046a22fe70"
      }
     },
     "e49327145096452c842d772d497ec3f8": {
      "model_module": "@jupyter-widgets/base",
      "model_module_version": "2.0.0",
      "model_name": "LayoutModel",
      "state": {}
     },
     "e4c83f8121c34d93be05f8842d95b1d6": {
      "model_module": "@jupyter-widgets/controls",
      "model_module_version": "2.0.0",
      "model_name": "FloatSliderModel",
      "state": {
       "behavior": "drag-tap",
       "description": "Runoff Coeff.",
       "layout": "IPY_MODEL_5167ae031933473b8a90eee102d29b35",
       "max": 0.95,
       "min": 0.3,
       "step": 0.05,
       "style": "IPY_MODEL_e921cd062db142f48b332d2f2f79981c",
       "value": 0.75
      }
     },
     "e921cd062db142f48b332d2f2f79981c": {
      "model_module": "@jupyter-widgets/controls",
      "model_module_version": "2.0.0",
      "model_name": "SliderStyleModel",
      "state": {
       "description_width": ""
      }
     },
     "ec546e0f06a14fc590a1342122c0af61": {
      "model_module": "@jupyter-widgets/controls",
      "model_module_version": "2.0.0",
      "model_name": "FloatSliderModel",
      "state": {
       "behavior": "drag-tap",
       "description": "Depression Depth (m)",
       "layout": "IPY_MODEL_8cc402ff698147ef90561b21b7bb454d",
       "max": 0.3,
       "min": 0.05,
       "step": 0.01,
       "style": "IPY_MODEL_0e5683bb63464be4b6989b9d8ae47f70",
       "value": 0.1
      }
     },
     "f14b557d43054297ab7402f03d9b8283": {
      "model_module": "@jupyter-widgets/controls",
      "model_module_version": "2.0.0",
      "model_name": "FloatSliderModel",
      "state": {
       "behavior": "drag-tap",
       "description": "Runoff Coeff.",
       "layout": "IPY_MODEL_a6aee479dbe34942b419fc3d6970d7f2",
       "max": 0.95,
       "min": 0.3,
       "step": 0.05,
       "style": "IPY_MODEL_fbe555b959764a98bd86b6f69b78ed1c",
       "value": 0.75
      }
     },
     "f1bccf3d06ff44c8aad0e008a95328aa": {
      "model_module": "@jupyter-widgets/output",
      "model_module_version": "1.0.0",
      "model_name": "OutputModel",
      "state": {
       "layout": "IPY_MODEL_4c463f4ccbf34e54a2e98ce715bed3a1",
       "outputs": [
        {
         "name": "stdout",
         "output_type": "stream",
         "text": "🌧️ Peak Inflow Rate: 1.04 m³/s\n📦 Raw Storage Volume (no adjustment): 75.0 m³\n🛠️ Adjusted Storage Volume (site + outlet): 108.0 m³\n\n🔍 Interpretation:\n- Soil Type 'Clay' affects infiltration and retention.\n- Terrain 'Flat' influences pond shape and depth.\n- Groundwater table 'High' may limit excavation depth.\n- Outlet type 'Orifice' improves discharge efficiency.\n\n✅ Recommended Detention Volume: 108.0 m³\n"
        }
       ]
      }
     },
     "f782734219594d06b6e83041da843cc8": {
      "model_module": "@jupyter-widgets/controls",
      "model_module_version": "2.0.0",
      "model_name": "DescriptionStyleModel",
      "state": {
       "description_width": ""
      }
     },
     "f82f674624024f45a6e64969b68eca80": {
      "model_module": "@jupyter-widgets/controls",
      "model_module_version": "2.0.0",
      "model_name": "DropdownModel",
      "state": {
       "_options_labels": [
        "High",
        "Moderate",
        "Deep"
       ],
       "description": "Groundwater Table",
       "index": 0,
       "layout": "IPY_MODEL_c43b9e1b07cd4115a03b58bb2bb417bd",
       "style": "IPY_MODEL_bf4a542d533b45aeaf546c929aef539f"
      }
     },
     "f8dd3e06f2fb41a3aa3c5d88eb1e330a": {
      "model_module": "@jupyter-widgets/base",
      "model_module_version": "2.0.0",
      "model_name": "LayoutModel",
      "state": {}
     },
     "f9cddd4c3a944101a74a17c77f3b63f4": {
      "model_module": "@jupyter-widgets/controls",
      "model_module_version": "2.0.0",
      "model_name": "FloatSliderModel",
      "state": {
       "behavior": "drag-tap",
       "description": "Manning's n",
       "layout": "IPY_MODEL_7364eb15f803407a8d09aacdd4c648c9",
       "max": 0.03,
       "min": 0.01,
       "step": 0.001,
       "style": "IPY_MODEL_1f4b294e4d35449fbf1caa523c9b2635",
       "value": 0.016
      }
     },
     "faffb848cf3846e0921c50ab5761324f": {
      "model_module": "@jupyter-widgets/controls",
      "model_module_version": "2.0.0",
      "model_name": "SliderStyleModel",
      "state": {
       "description_width": ""
      }
     },
     "fbe555b959764a98bd86b6f69b78ed1c": {
      "model_module": "@jupyter-widgets/controls",
      "model_module_version": "2.0.0",
      "model_name": "SliderStyleModel",
      "state": {
       "description_width": ""
      }
     },
     "feee8944274c4479972d2c6e8394fc7b": {
      "model_module": "@jupyter-widgets/base",
      "model_module_version": "2.0.0",
      "model_name": "LayoutModel",
      "state": {}
     }
    },
    "version_major": 2,
    "version_minor": 0
   }
  }
 },
 "nbformat": 4,
 "nbformat_minor": 5
}
