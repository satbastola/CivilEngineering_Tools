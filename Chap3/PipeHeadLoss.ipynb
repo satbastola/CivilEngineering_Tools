{
 "cells": [
  {
   "attachments": {},
   "cell_type": "markdown",
   "id": "ce789582-21a5-4868-bd4b-4f124e53144f",
   "metadata": {},
   "source": [
    "# Chapter 3 Hydraulics: Pipe Hydraulics"
   ]
  },
  {
   "attachments": {},
   "cell_type": "markdown",
   "id": "007e53b9-ab22-4d8a-9818-a2582696fc61",
   "metadata": {},
   "source": [
    "1. [Introduction: Weir and Notches](#1.-Introduction)\n",
    "2. [Simulation](#2.-Simulation)\n",
    "3. [Self-Assessment](#3.-Self-Assessment)"
   ]
  },
  {
   "attachments": {},
   "cell_type": "markdown",
   "id": "0966fade-654d-4bc7-84b6-47a8b185c6be",
   "metadata": {},
   "source": [
    "## 1. Introduction"
   ]
  },
  {
   "cell_type": "markdown",
   "id": "ce6986b0-da3a-451f-a1fc-beb8a64be0b4",
   "metadata": {},
   "source": [
    "### 🌊 Head Loss in Pipes: Concepts, Estimation & Applications\n",
    "\n",
    "![image.png](attachment:71aa6310-9ff0-453b-bbb5-da3d38b87345.png)\n",
    "\n",
    "### 📘 What Is Head Loss?\n",
    "\n",
    "Head loss refers to the reduction in total head (hydraulic energy) of a fluid as it flows through a pipe system. It arises from:\n",
    "\n",
    "- **Frictional losses**: caused by pipe wall resistance (major losses)\n",
    "- **Local disturbances**: such as bends, valves, fittings (minor losses)\n",
    "\n",
    "Head loss is expressed in units of length (meters or feet), indicating the height of fluid lost due to resistance.\n",
    "\n",
    "---\n",
    "\n",
    "### 📐 Estimating or Measuring Head Loss\n",
    "\n",
    "### 1. Empirical Formulas\n",
    "\n",
    "#### 🔸 Darcy–Weisbach Equation (General Use)\n",
    "$$ h_f = f \\cdot \\frac{L}{D} \\cdot \\frac{v^2}{2g} $$\n",
    "\n",
    "- $( h_f $): head loss\n",
    "- $( f $): friction factor\n",
    "- $( L $): pipe length\n",
    "- $( D $): pipe diameter\n",
    "- $( v $): flow velocity\n",
    "- $( g $): gravitational acceleration\n",
    "\n",
    "#### 🔸 Hazen–Williams Equation (For Water)\n",
    "$$ h_f = 10.67 \\cdot \\frac{L}{C^{1.85}} \\cdot \\left(\\frac{Q^{1.85}}{D^{4.87}}\\right) $$\n",
    "\n",
    "- Best suited for turbulent water flow in municipal systems\n",
    "\n",
    "### 2. Minor Losses\n",
    "$$ h_m = K \\cdot \\frac{v^2}{2g} $$\n",
    "\n",
    "- $( K $): fitting/valve loss coefficient\n",
    "- Used for elbows, tees, reducers, valves, etc.\n",
    "\n",
    "### 3. Measurement Methods\n",
    "\n",
    "- **Pressure gauge readings** across pipe sections\n",
    "- **Flow meters** with energy grade line tracking\n",
    "- **Manometers** for lab setups\n",
    "\n",
    "---\n",
    "\n",
    "### 🧭 Importance of Head Loss\n",
    "\n",
    "### 🔹 Design Optimization\n",
    "- Determines pump power and pipe sizing\n",
    "\n",
    "### 🔹 Operational Monitoring\n",
    "- Aids in troubleshooting and system performance tracking\n",
    "\n",
    "### 🔹 Energy Efficiency\n",
    "- Lower head loss means reduced operational"
   ]
  },
  {
   "cell_type": "code",
   "execution_count": null,
   "id": "53c200f3-c6e6-441f-af8d-d6ad0c95d36c",
   "metadata": {},
   "outputs": [],
   "source": []
  },
  {
   "cell_type": "markdown",
   "id": "9855ff28-bbc8-4744-afda-71df28152ede",
   "metadata": {},
   "source": [
    "## Type 1 Problem"
   ]
  },
  {
   "cell_type": "markdown",
   "id": "205e3fa5-c5d9-42b5-8b3c-e47107650572",
   "metadata": {},
   "source": [
    "### 🔍 Summary – Head Loss Calculator for Flow Through Piles (Jupyter Interactive)\n",
    "\n",
    "---\n",
    "\n",
    "### 💡 What It Is\n",
    "\n",
    "-A jupyter-basedinterative tool to lot the Moodys chart to estimate the darcy friction factor based on Ryenold number and Rouhness. \n",
    "\n",
    "\n",
    "-A Jupyter-based interactive tool that estimates **hydraulic head loss** when fluid flows through a group of piles. It uses sliders to define flow and pile parameters, and applies the **Darcy-Weisbach equation** for pressure drop.\n",
    "\n",
    "---\n",
    "\n",
    "### ⚙️ How It Works\n",
    "\n",
    "- Calculates flow velocity from total cross-sectional area of all piles.\n",
    "- Applies the Darcy-Weisbach formula:\n",
    "  \\[$$\n",
    "  h_f = f \\cdot \\frac{L}{D} \\cdot \\frac{v^2}{2g}\n",
    "  $$\n",
    "- Updates results instantly when you click **“Calculate Head Loss.”**\n",
    "\n",
    "---\n",
    "\n",
    "### 🧾 Inputs\n",
    "\n",
    "| Parameter     | Description                           |\n",
    "|---------------|---------------------------------------|\n",
    "| `Flow Q`      | Flow rate (m³/s)                      |\n",
    "| `Pile Dia`    | Diameter of each pile (m)             |\n",
    "| `Pile Len`    | Length of each pile (m)               |\n",
    "| `No. of Piles`| Total piles in the group              |\n",
    "| `Friction f`  | Friction factor (dimensionless)       |\n",
    "\n",
    "---\n",
    "\n",
    "### 📈 Outputs\n",
    "\n",
    "| Output Item      | Meaning                                            |\n",
    "|------------------|----------------------------------------------------|\n",
    "| `Estimated Head Loss (m)` | Total pressure drop across pile group      |\n",
    "| `Flow Rate`      | Input flow rate used for calculation               |\n",
    "| `Pile Details`   | Group properties contributing to resistance        |\n",
    "| `Friction Factor`| Used to model flow resistance                      |\n",
    "\n",
    "> Use this tool to analyze energy losses through pile-supported structures or porous flow regions, especially useful in foundation hydraulics or marine engineering."
   ]
  },
  {
   "cell_type": "markdown",
   "id": "5f578e3f-78e3-4435-9f61-64f9a92bc9f5",
   "metadata": {},
   "source": [
    "### Friction Factor Estimtion: Moodys Chart"
   ]
  },
  {
   "cell_type": "code",
   "execution_count": 4,
   "id": "eb8e282c-dfa7-4d06-b095-b4df5fe835fd",
   "metadata": {},
   "outputs": [
    {
     "name": "stderr",
     "output_type": "stream",
     "text": [
      "C:\\Users\\satis\\AppData\\Local\\Temp\\ipykernel_27556\\1374860575.py:10: RuntimeWarning: invalid value encountered in sqrt\n",
      "  return 1/np.sqrt(f) + 2.0*np.log10(eD/3.7 + 2.51/(Re*np.sqrt(f)))\n",
      "C:\\Users\\satis\\AppData\\Local\\Temp\\ipykernel_27556\\1374860575.py:19: RuntimeWarning: The iteration is not making good progress, as measured by the \n",
      "  improvement from the last ten iterations.\n",
      "  f[i] = fsolve(colebrook, f_initial_guess, args=(r, eD))[0]\n"
     ]
    },
    {
     "data": {
      "image/png": "[encoded data removed]",
      "text/plain": [
       "<Figure size 1000x700 with 1 Axes>"
      ]
     },
     "metadata": {},
     "output_type": "display_data"
    }
   ],
   "source": [
    "import numpy as np\n",
    "import matplotlib.pyplot as plt\n",
    "from scipy.optimize import fsolve\n",
    "\n",
    "# Define Reynolds number range\n",
    "Re = np.logspace(3, 8, 500)\n",
    "relative_roughness = [0.0, 0.00001, 0.0001, 0.001, 0.005, 0.01, 0.02]  # Typical values\n",
    "\n",
    "def colebrook(f, Re, eD):\n",
    "    return 1/np.sqrt(f) + 2.0*np.log10(eD/3.7 + 2.51/(Re*np.sqrt(f)))\n",
    "\n",
    "def compute_friction_factor(Re, eD):\n",
    "    f = np.zeros_like(Re)\n",
    "    for i, r in enumerate(Re):\n",
    "        if r < 2300:\n",
    "            f[i] = 64.0 / r  # Laminar flow\n",
    "        else:\n",
    "            f_initial_guess = 0.02\n",
    "            f[i] = fsolve(colebrook, f_initial_guess, args=(r, eD))[0]\n",
    "    return f\n",
    "\n",
    "# Plotting\n",
    "plt.figure(figsize=(10, 7))\n",
    "for eD in relative_roughness:\n",
    "    f = compute_friction_factor(Re, eD)\n",
    "    label = f\"ε/D = {eD}\" if eD != 0 else \"Laminar (ε=0)\"\n",
    "    plt.semilogx(Re, f, label=label)\n",
    "\n",
    "plt.xlabel(\"Reynolds Number (Re)\")\n",
    "plt.ylabel(\"Darcy Friction Factor (f)\")\n",
    "plt.title(\"Moody Chart: Darcy Friction Factor vs Reynolds Number\")\n",
    "plt.grid(True, which='both', linestyle='--', linewidth=0.5)\n",
    "plt.legend()\n",
    "plt.xlim(1e3, 1e8)\n",
    "plt.ylim(0.008, 0.1)\n",
    "plt.tight_layout()\n",
    "plt.show()"
   ]
  },
  {
   "cell_type": "code",
   "execution_count": 5,
   "id": "63b55466-1e09-4fc5-a766-c7e5fbf049c1",
   "metadata": {},
   "outputs": [
    {
     "data": {
      "application/vnd.jupyter.widget-view+json": {
       "model_id": "cc9c8826acf14b11ad9cab3d3d318c28",
       "version_major": 2,
       "version_minor": 0
      },
      "text/plain": [
       "VBox(children=(HTML(value='<h3>🔧 Head Loss Calculator for Flow Through Piles</h3>'), FloatSlider(value=0.1, de…"
      ]
     },
     "metadata": {},
     "output_type": "display_data"
    }
   ],
   "source": [
    "import ipywidgets as widgets\n",
    "from IPython.display import display, Markdown\n",
    "import math\n",
    "\n",
    "# --- Darcy-Weisbach head loss function ---\n",
    "def head_loss(Q, D, L, n, f, g=9.81):\n",
    "    # Convert flow rate Q (m³/s) to velocity\n",
    "    A = (math.pi * D**2 / 4) * n  # total cross-sectional flow area through all piles\n",
    "    if A == 0:\n",
    "        return 0.0\n",
    "    v = Q / A  # flow velocity per pile group\n",
    "    h_f = f * (L / D) * (v**2 / (2 * g))  # Darcy-Weisbach equation\n",
    "    return h_f\n",
    "\n",
    "# --- Interactive widgets ---\n",
    "Q_slider = widgets.FloatSlider(value=0.1, min=0.001, max=2.0, step=0.01, description='Flow Q (m³/s)')\n",
    "D_slider = widgets.FloatSlider(value=0.3, min=0.05, max=2.0, step=0.01, description='Pile Dia (m)')\n",
    "L_slider = widgets.FloatSlider(value=5.0, min=0.5, max=30.0, step=0.5, description='Pile Len (m)')\n",
    "n_slider = widgets.IntSlider(value=4, min=1, max=100, step=1, description='No. of Piles')\n",
    "f_slider = widgets.FloatSlider(value=0.02, min=0.005, max=0.1, step=0.001, description='Friction f')\n",
    "\n",
    "button = widgets.Button(description='Calculate Head Loss')\n",
    "output = widgets.Output()\n",
    "\n",
    "def on_click(b):\n",
    "    with output:\n",
    "        output.clear_output()\n",
    "        Q = Q_slider.value\n",
    "        D = D_slider.value\n",
    "        L = L_slider.value\n",
    "        n = n_slider.value\n",
    "        f = f_slider.value\n",
    "        h = head_loss(Q, D, L, n, f)\n",
    "        display(Markdown(\n",
    "            f\"### 🧮 Estimated Head Loss: `{h:.3f} m`\\n\"\n",
    "            f\"- Flow Rate: `{Q} m³/s`\\n\"\n",
    "            f\"- Total Piles: `{n}` | Diameter: `{D} m` | Length: `{L} m`\\n\"\n",
    "            f\"- Friction Factor: `{f}`\"\n",
    "        ))\n",
    "\n",
    "button.on_click(on_click)\n",
    "\n",
    "display(widgets.VBox([\n",
    "    widgets.HTML(\"<h3>🔧 Head Loss Calculator for Flow Through Piles</h3>\"),\n",
    "    Q_slider, D_slider, L_slider, n_slider, f_slider,\n",
    "    button, output\n",
    "]))"
   ]
  },
  {
   "cell_type": "markdown",
   "id": "99abaa5b-816f-4e7b-9181-5c883157414b",
   "metadata": {},
   "source": [
    "## Type 5 Problem: Design"
   ]
  },
  {
   "cell_type": "markdown",
   "id": "196906d9-3437-4d81-9251-82e4d07df224",
   "metadata": {},
   "source": [
    "### 🔍 Summary – Pipe Diameter Design Calculator (Jupyter Interactive)\n",
    "\n",
    "---\n",
    "\n",
    "### 💡 What It Is\n",
    "A Jupyter Notebook tool that calculates the required pipe diameter for a given flow rate, pipe material, length, and head loss. It uses interactive widgets to input data and outputs key hydraulic parameters.\n",
    "\n",
    "---\n",
    "\n",
    "### ⚙️ How It Works\n",
    "- Uses the **Darcy-Weisbach equation** and **Swamee-Jain friction factor** to solve for:\n",
    "  - Pipe diameter needed to match head loss\n",
    "  - Flow velocity\n",
    "  - Reynolds number\n",
    "  - Friction factor\n",
    "\n",
    "- Iterates via Newton-style update until pressure loss matches input.\n",
    "\n",
    "---\n",
    "\n",
    "### 🧾 Inputs\n",
    "| Parameter     | Description                             |\n",
    "|---------------|-----------------------------------------|\n",
    "| `Q (m³/s)`     | Flow rate                               |\n",
    "| `Length (m)`   | Pipe length                             |\n",
    "| `Head Loss (m)`| Desired pressure drop                   |\n",
    "| `Material`     | Pipe material (roughness coefficient)   |\n",
    "\n",
    "---\n",
    "\n",
    "### 📈 Output Interpretation\n",
    "| Output Item         | Meaning                                           |\n",
    "|---------------------|---------------------------------------------------|\n",
    "| `Required Diameter` | Minimum pipe size needed to carry the flow        |\n",
    "| `Velocity (m/s)`    | Speed of flow within the pipe                     |\n",
    "| `Reynolds Number`   | Flow regime: laminar (<2300) or turbulent         |\n",
    "| `Friction Factor`   | Coefficient used in head loss calculation         |\n",
    "\n",
    "> Use this tool to design pipe systems that meet hydraulic constraints based on flow, material, and pressure requirements."
   ]
  },
  {
   "cell_type": "code",
   "execution_count": 6,
   "id": "5bd77341-eafe-475b-a392-79a98b862bd9",
   "metadata": {},
   "outputs": [
    {
     "data": {
      "application/vnd.jupyter.widget-view+json": {
       "model_id": "db99e63474ba430cadd72d5b4bff7a3b",
       "version_major": 2,
       "version_minor": 0
      },
      "text/plain": [
       "VBox(children=(HTML(value='<h3>🚰 Pipe Diameter Design Calculator</h3>'), FloatSlider(value=0.05, description='…"
      ]
     },
     "metadata": {},
     "output_type": "display_data"
    }
   ],
   "source": [
    "# 📌 Pipe Design Calculator – Jupyter Version\n",
    "\n",
    "import math\n",
    "import ipywidgets as widgets\n",
    "from IPython.display import display, Markdown\n",
    "\n",
    "# 🔧 Roughness values by material (meters)\n",
    "roughness = {\n",
    "    'PVC': 0.0000015,\n",
    "    'Steel': 0.000045,\n",
    "    'Cast Iron': 0.00026,\n",
    "    'Concrete': 0.0003,\n",
    "    'Copper': 0.0000015\n",
    "}\n",
    "\n",
    "# 🧮 Friction factor estimation (Swamee-Jain)\n",
    "def friction_factor(e, D, Re):\n",
    "    if Re < 2300:  # Laminar flow\n",
    "        return 64 / Re\n",
    "    return 0.25 / (math.log10(e/(3.7*D) + 5.74/Re**0.9))**2\n",
    "\n",
    "# 🔁 Solver for pipe diameter\n",
    "def solve_diameter(Q, L, material, head_loss, nu=1e-6, g=9.81):\n",
    "    e = roughness.get(material, 0.000045)\n",
    "    D = 0.05  # Initial guess\n",
    "    for _ in range(100):\n",
    "        A = math.pi * D**2 / 4\n",
    "        v = Q / A\n",
    "        Re = v * D / nu\n",
    "        f = friction_factor(e, D, Re)\n",
    "        hf_calc = f * (L / D) * (v**2 / (2 * g))\n",
    "        D += 0.001 * (head_loss - hf_calc)\n",
    "        D = max(D, 0.01)\n",
    "    return D, v, f, Re\n",
    "\n",
    "# 📊 Interactive widgets\n",
    "Q_slider = widgets.FloatSlider(value=0.05, min=0.001, max=2.0, step=0.001, description='Q (m³/s)')\n",
    "L_slider = widgets.FloatSlider(value=30, min=1, max=200, step=1, description='Length (m)')\n",
    "hf_slider = widgets.FloatSlider(value=5.0, min=0.1, max=30.0, step=0.1, description='Head Loss (m)')\n",
    "material_dd = widgets.Dropdown(options=list(roughness.keys()), value='PVC', description='Material')\n",
    "button = widgets.Button(description='Calculate Diameter')\n",
    "output = widgets.Output()\n",
    "\n",
    "# 🧠 Button logic\n",
    "def on_button_click(b):\n",
    "    with output:\n",
    "        output.clear_output()\n",
    "        Q = Q_slider.value\n",
    "        L = L_slider.value\n",
    "        hf = hf_slider.value\n",
    "        material = material_dd.value\n",
    "        D, v, f, Re = solve_diameter(Q, L, material, hf)\n",
    "        display(Markdown(f\"\"\"\n",
    "        ### ✅ Pipe Design Result\n",
    "        - **Material**: `{material}`\n",
    "        - **Flow Rate**: `{Q:.3f} m³/s` | **Length**: `{L} m` | **Head Loss**: `{hf} m`\n",
    "        - **Required Diameter**: `{D:.3f} m`\n",
    "        - **Velocity**: `{v:.2f} m/s` | **Reynolds Number**: `{Re:.0f}`\n",
    "        - **Friction Factor**: `{f:.3f}`\n",
    "        \"\"\"))\n",
    "\n",
    "button.on_click(on_button_click)\n",
    "\n",
    "# 🖥️ Display layout\n",
    "display(widgets.VBox([\n",
    "    widgets.HTML(\"<h3>🚰 Pipe Diameter Design Calculator</h3>\"),\n",
    "    Q_slider, L_slider, hf_slider, material_dd, button, output\n",
    "]))"
   ]
  },
  {
   "cell_type": "markdown",
   "id": "d4151505-10f1-4390-aa9a-e0b9a1c4975e",
   "metadata": {},
   "source": [
    "## Simulation"
   ]
  },
  {
   "cell_type": "markdown",
   "id": "51d2a62a-b8c2-49f7-bd79-3b3f34ac3e7f",
   "metadata": {},
   "source": [
    "### 🔍 Summary – Compound Pipe Head Loss Calculator (Jupyter Interactive)\n",
    "\n",
    "---\n",
    "\n",
    "### 💡 What It Is\n",
    "An interactive **Jupyter Notebook tool** that calculates the total head loss across a series of connected pipe segments. Each segment can have its own length, diameter, flow rate, and roughness coefficient.\n",
    "\n",
    "---\n",
    "\n",
    "### ⚙️ How It Works\n",
    "- Uses the **Darcy-Weisbach equation** and **Swamee-Jain formula** to compute:\n",
    "  - Flow velocity\n",
    "  - Reynolds number\n",
    "  - Friction factor\n",
    "  - Head loss per segment\n",
    "\n",
    "- Dynamically adjusts the number of pipe segments (1–6) using a slider\n",
    "- Inputs are entered via text boxes for each segment:\n",
    "  - `L`: Length in meters  \n",
    "  - `D`: Diameter in meters  \n",
    "  - `Q`: Flow rate in m³/s  \n",
    "  - `e`: Roughness in meters\n",
    "\n",
    "- On clicking **“Calculate Total Head Loss”**, it:\n",
    "  - Computes individual losses for each segment\n",
    "  - Displays velocity, flow regime, and friction factor\n",
    "  - Sums the losses and outputs **total system head loss**\n",
    "\n",
    "---\n",
    "\n",
    "### 📈 How to Interpret Results\n",
    "\n",
    "| Output Element        | Meaning                                           |\n",
    "|------------------------|---------------------------------------------------|\n",
    "| Velocity (m/s)         | Speed of flow through each segment                |\n",
    "| Reynolds Number        | Flow regime: laminar (<2300) or turbulent         |\n",
    "| Friction Factor        | Based on pipe roughness and turbulence            |\n",
    "| Segment Head Loss (m)  | Pressure drop per pipe segment                    |\n",
    "| Total Head Loss (m)    | Overall system loss due to friction               |\n",
    "\n",
    "> Use it to evaluate multi-pipe systems in civil, environmental, or mechanical applications."
   ]
  },
  {
   "cell_type": "code",
   "execution_count": 7,
   "id": "7deba691-048c-490d-9ec2-5e26cdaf91b7",
   "metadata": {},
   "outputs": [
    {
     "data": {
      "application/vnd.jupyter.widget-view+json": {
       "model_id": "6ecaa28c13834566a093fd671e02ec0c",
       "version_major": 2,
       "version_minor": 0
      },
      "text/plain": [
       "VBox(children=(HTML(value='<h3>🌊 Compound Pipe Head Loss – Interactive Calculator</h3>'), IntSlider(value=3, d…"
      ]
     },
     "metadata": {},
     "output_type": "display_data"
    }
   ],
   "source": [
    "# 📘 Interactive Compound Pipe Head Loss Calculator – Jupyter Notebook\n",
    "\n",
    "import math\n",
    "import ipywidgets as widgets\n",
    "from IPython.display import display, Markdown, clear_output\n",
    "\n",
    "# --- Pipe segment template ---\n",
    "segment_widgets = []\n",
    "num_segments = widgets.IntSlider(value=3, min=1, max=6, step=1, description=\"Pipe Segments\")\n",
    "\n",
    "# --- Constants ---\n",
    "g = 9.81      # Gravity acceleration (m/s²)\n",
    "nu = 1e-6     # Kinematic viscosity (m²/s)\n",
    "\n",
    "# --- Swamee-Jain equation ---\n",
    "def friction_factor(e, D, Re):\n",
    "    if Re < 2300:\n",
    "        return 64 / Re\n",
    "    return 0.25 / (math.log10(e / (3.7 * D) + 5.74 / Re**0.9))**2\n",
    "\n",
    "# --- Head loss for one segment ---\n",
    "def darcy_weisbach(L, D, Q, e):\n",
    "    A = math.pi * D**2 / 4\n",
    "    v = Q / A\n",
    "    Re = v * D / nu\n",
    "    f = friction_factor(e, D, Re)\n",
    "    hf = f * (L / D) * (v**2 / (2 * g))\n",
    "    return hf, f, v, Re\n",
    "\n",
    "# --- UI generators per segment ---\n",
    "def make_segment_widgets():\n",
    "    widgets_list = []\n",
    "    for i in range(num_segments.value):\n",
    "        L = widgets.FloatText(value=50, description=f'L{i+1} (m)', step=1)\n",
    "        D = widgets.FloatText(value=0.1, description=f'D{i+1} (m)', step=0.01)\n",
    "        Q = widgets.FloatText(value=0.01, description=f'Q{i+1} (m³/s)', step=0.001)\n",
    "        e = widgets.FloatText(value=0.000045, description=f'e{i+1} (m)', step=0.00001)\n",
    "        widgets_list.append((L, D, Q, e))\n",
    "    return widgets_list\n",
    "\n",
    "# --- Update segment widgets dynamically ---\n",
    "def update_segments(change=None):\n",
    "    global segment_widgets\n",
    "    segment_widgets = make_segment_widgets()\n",
    "    pipe_inputs.children = [widgets.HBox(w) for w in segment_widgets]\n",
    "\n",
    "# --- Output logic ---\n",
    "def calculate_head_loss(b):\n",
    "    with output:\n",
    "        clear_output()\n",
    "        total_loss = 0\n",
    "        for i, (L, D, Q, e) in enumerate(segment_widgets):\n",
    "            hf, f, v, Re = darcy_weisbach(L.value, D.value, Q.value, e.value)\n",
    "            total_loss += hf\n",
    "            display(Markdown(f\"\"\"\n",
    "            ### 🔧 Segment {i+1}\n",
    "            - Length: `{L.value} m` | Diameter: `{D.value} m` | Flow: `{Q.value:.3f} m³/s` | Roughness: `{e.value:.5f} m`\n",
    "            - Velocity: `{v:.2f} m/s` | Reynolds: `{Re:.0f}` | Friction Factor: `{f:.3f}`\n",
    "            - Head Loss: `{hf:.3f} m`\n",
    "            \"\"\"))\n",
    "        display(Markdown(f\"## 💡 Total Head Loss Across System: `{total_loss:.3f} m`\"))\n",
    "\n",
    "# --- Interface layout ---\n",
    "pipe_inputs = widgets.VBox()\n",
    "output = widgets.Output()\n",
    "run_button = widgets.Button(description=\"Calculate Total Head Loss\")\n",
    "run_button.on_click(calculate_head_loss)\n",
    "num_segments.observe(update_segments, names=\"value\")\n",
    "\n",
    "# --- Initial render ---\n",
    "update_segments()\n",
    "\n",
    "display(widgets.VBox([\n",
    "    widgets.HTML(\"<h3>🌊 Compound Pipe Head Loss – Interactive Calculator</h3>\"),\n",
    "    num_segments,\n",
    "    pipe_inputs,\n",
    "    run_button,\n",
    "    output\n",
    "]))"
   ]
  },
  {
   "cell_type": "markdown",
   "id": "584aaf2c-e36d-401f-b5ea-ac646fe2169f",
   "metadata": {},
   "source": [
    "## 5. Simulation"
   ]
  },
  {
   "cell_type": "markdown",
   "id": "7583739e-db27-4075-ba38-2d6ecf4e9740",
   "metadata": {},
   "source": [
    "## 🔍 Hardy Cross Interactive Flow Balancer – Summary\n",
    "\n",
    "---\n",
    "\n",
    "### 💡 What It Is\n",
    "\n",
    "This Jupyter-based tool uses the **Hardy Cross method** to balance pipe flows in a closed loop with up to six pipes. It's an interactive module where users specify initial flow estimates, pipe resistance coefficients, and flow directions — then iteratively adjusts flows until energy balance is achieved.\n",
    "\n",
    "---\n",
    "\n",
    "### ⚙️ How It Works\n",
    "\n",
    "- **Input Parameters per Pipe**:\n",
    "  - `Q (m³/s)`: Initial guessed flow\n",
    "  - `K`: Resistance coefficient (e.g. from Darcy-Weisbach)\n",
    "  - `Dir`: Direction sign relative to loop (\"+\" = clockwise, \"–\" = counterclockwise)\n",
    "\n",
    "- **Method**:\n",
    "  - Calculates total loop imbalance from head losses:  \n",
    "    \\( h_f = K Q |Q| \\)\n",
    "  - Computes adjustment \\( \\Delta Q = -\\frac{\\sum K Q |Q|}{\\sum 2K |Q|} \\)\n",
    "  - Updates each pipe’s flow using directionality\n",
    "  - Repeats until \\( |\\Delta Q| < 0.0001 \\) (convergence)\n",
    "\n",
    "---\n",
    "\n",
    "### 🧾 Inputs\n",
    "\n",
    "- Number of pipes (2–6)\n",
    "- For each pipe:\n",
    "  - Estimated flow `Q`\n",
    "  - Resistance coefficient `K`\n",
    "  - Flow direction sign `+` or `–`\n",
    "\n",
    "---\n",
    "\n",
    "### 📈 Output Interpretation\n",
    "\n",
    "| Element            | Meaning                                               |\n",
    "|--------------------|--------------------------------------------------------|\n",
    "| `Step n: ΔQ = ...` | Flow correction at each iteration (should approach 0) |\n",
    "| `Flow = ...`       | Updated balanced flow in each pipe                    |\n",
    "| `✅ Converged`      | System is hydraulically balanced                     |\n",
    "\n",
    "---\n",
    "\n",
    "> Use this to teach loop flow correction, test hydraulic assumptions, or verify pipe designs in looped networks."
   ]
  },
  {
   "cell_type": "code",
   "execution_count": 8,
   "id": "1d198d4d-37db-447c-af99-95dfcda616b7",
   "metadata": {},
   "outputs": [
    {
     "data": {
      "application/vnd.jupyter.widget-view+json": {
       "model_id": "4e4df8f4a01a4a16b56c75831fce649b",
       "version_major": 2,
       "version_minor": 0
      },
      "text/plain": [
       "VBox(children=(HTML(value='<h3>🚰 Hardy Cross Loop Flow Balancer – Interactive</h3>'), IntSlider(value=4, descr…"
      ]
     },
     "metadata": {},
     "output_type": "display_data"
    }
   ],
   "source": [
    "# 📘 Hardy Cross Method – Interactive Pipe Network Flow Balancing (Jupyter Version)\n",
    "\n",
    "import math\n",
    "import ipywidgets as widgets\n",
    "from IPython.display import display, Markdown, clear_output\n",
    "\n",
    "# --- Assumed friction coefficient per pipe (user-defined) ---\n",
    "def friction_loss(Q, K):\n",
    "    return K * Q * abs(Q)  # head loss ∝ Q^2\n",
    "\n",
    "# --- One loop adjustment step ---\n",
    "def hardy_cross_adjust(loop, K_values):\n",
    "    Σ_KQabsQ = 0\n",
    "    Σ_KabsQ = 0\n",
    "    for pipe in loop:\n",
    "        Q = pipe[\"flow\"]\n",
    "        K = K_values[pipe[\"name\"]]\n",
    "        Σ_KQabsQ += friction_loss(Q, K)\n",
    "        Σ_KabsQ += 2 * K * abs(Q)\n",
    "    ΔQ = -Σ_KQabsQ / Σ_KabsQ\n",
    "    for pipe in loop:\n",
    "        pipe[\"flow\"] += ΔQ * (1 if pipe[\"direction\"] == \"+\" else -1)\n",
    "    return ΔQ\n",
    "\n",
    "# --- Interactive pipe loop definition (up to 6 pipes) ---\n",
    "num_pipes = widgets.IntSlider(value=4, min=2, max=6, step=1, description=\"Loop Pipes\")\n",
    "pipe_widgets = []\n",
    "K_inputs = {}\n",
    "direction_inputs = {}\n",
    "flow_inputs = {}\n",
    "\n",
    "def update_loop_inputs(change=None):\n",
    "    pipe_widgets.clear()\n",
    "    K_inputs.clear()\n",
    "    direction_inputs.clear()\n",
    "    flow_inputs.clear()\n",
    "    for i in range(num_pipes.value):\n",
    "        name = f\"P{i+1}\"\n",
    "        flow_inputs[name] = widgets.FloatText(value=10.0, step=0.1, description=f\"{name} Q (m³/s)\")\n",
    "        K_inputs[name] = widgets.FloatText(value=1.0, step=0.1, description=f\"{name} K\")\n",
    "        direction_inputs[name] = widgets.Dropdown(options=[\"+\", \"-\"], value=\"+\", description=f\"{name} Dir\")\n",
    "        pipe_widgets.append(widgets.HBox([flow_inputs[name], K_inputs[name], direction_inputs[name]]))\n",
    "    loop_box.children = pipe_widgets\n",
    "\n",
    "# --- Compute and display adjustments ---\n",
    "output = widgets.Output()\n",
    "def calculate_flow_balance(b):\n",
    "    with output:\n",
    "        clear_output()\n",
    "        # Setup pipe loop\n",
    "        loop = []\n",
    "        K_vals = {}\n",
    "        for name in flow_inputs:\n",
    "            Q = flow_inputs[name].value\n",
    "            K = K_inputs[name].value\n",
    "            D = direction_inputs[name].value\n",
    "            loop.append({\"name\": name, \"flow\": Q, \"direction\": D})\n",
    "            K_vals[name] = K\n",
    "\n",
    "        # Iterate Hardy Cross\n",
    "        display(Markdown(\"### 🔄 Iterative Hardy Cross Adjustments\"))\n",
    "        for step in range(1, 11):\n",
    "            ΔQ = hardy_cross_adjust(loop, K_vals)\n",
    "            display(Markdown(f\"- Step {step}: ΔQ = `{ΔQ:.4f} m³/s`\"))\n",
    "            for p in loop:\n",
    "                display(Markdown(f\"`{p['name']}` → Flow = `{p['flow']:.4f} m³/s`\"))\n",
    "            if abs(ΔQ) < 0.0001:\n",
    "                display(Markdown(\"✅ Converged\"))\n",
    "                break\n",
    "\n",
    "# --- Layout ---\n",
    "run_btn = widgets.Button(description=\"Solve with Hardy Cross\")\n",
    "run_btn.on_click(calculate_flow_balance)\n",
    "loop_box = widgets.VBox()\n",
    "num_pipes.observe(update_loop_inputs, names='value')\n",
    "update_loop_inputs()\n",
    "\n",
    "display(widgets.VBox([\n",
    "    widgets.HTML(\"<h3>🚰 Hardy Cross Loop Flow Balancer – Interactive</h3>\"),\n",
    "    num_pipes,\n",
    "    loop_box,\n",
    "    run_btn,\n",
    "    output\n",
    "]))"
   ]
  },
  {
   "cell_type": "markdown",
   "id": "5fa55265-bdf0-4150-b641-fe413b652537",
   "metadata": {},
   "source": [
    "## 7 Simulation"
   ]
  },
  {
   "cell_type": "markdown",
   "id": "95ddf772-77d9-444f-910b-be021c46b9bf",
   "metadata": {},
   "source": [
    "### 🔍 Summary – \"Three Reservoir Flow Balancer\"\n",
    "\n",
    "---\n",
    "\n",
    "### 💡 What It Is\n",
    "An interactive **Jupyter Notebook tool** that calculates water flow between three connected reservoirs. It uses sliders and input boxes to define reservoir elevations and pipe properties, then balances flow using the **Darcy-Weisbach equation** and **Newton-Raphson iterations**.\n",
    "\n",
    "---\n",
    "\n",
    "### ⚙️ How It Works\n",
    "- **Input**:\n",
    "  - Elevation of each reservoir (A, B, C)\n",
    "  - Pipe details for AB, BC, and AC: Length (L), Diameter (D), Friction factor (f)\n",
    "- **Process**:\n",
    "  - Calculates head loss in each pipe segment\n",
    "  - Iteratively solves for flows \\( Q_{AB}, Q_{BC}, Q_{AC} \\) that satisfy energy balance\n",
    "- **Output**:\n",
    "  - Shows the flow rate between each reservoir in m³/s\n",
    "\n",
    "---\n",
    "\n",
    "### 🧾 How to Run It\n",
    "1. Open in **Jupyter Notebook or JupyterLab**\n",
    "2. Install widgets (if needed):  \n",
    "   ```bash\n",
    "   pip install ipywidgets"
   ]
  },
  {
   "cell_type": "code",
   "execution_count": 9,
   "id": "976e029a-86e2-480f-8e8e-ba1cfab659fa",
   "metadata": {},
   "outputs": [
    {
     "data": {
      "application/vnd.jupyter.widget-view+json": {
       "model_id": "0e3e313efaf94c018937755a41e9b98c",
       "version_major": 2,
       "version_minor": 0
      },
      "text/plain": [
       "VBox(children=(HTML(value='<h3>🌊 Three Reservoir Flow Balancer – Interactive</h3>'), HBox(children=(FloatSlide…"
      ]
     },
     "metadata": {},
     "output_type": "display_data"
    }
   ],
   "source": [
    "import math\n",
    "import ipywidgets as widgets\n",
    "from IPython.display import display, Markdown, clear_output\n",
    "\n",
    "# 🧮 Darcy-Weisbach Head Loss\n",
    "def head_loss(Q, L, D, f, g=9.81):\n",
    "    A = math.pi * D**2 / 4\n",
    "    V = abs(Q) / A\n",
    "    return f * L / D * V**2 / (2 * g)\n",
    "\n",
    "# 🔁 Flow Solver Using Newton-Raphson\n",
    "def solve_flows(H1, H2, H3, pipe_props):\n",
    "    Q12, Q23, Q13 = 0.5, 0.3, 0.2  # initial guesses\n",
    "    for _ in range(30):  # iteration limit\n",
    "        HL12 = head_loss(Q12, *pipe_props[\"12\"])\n",
    "        HL23 = head_loss(Q23, *pipe_props[\"23\"])\n",
    "        HL13 = head_loss(Q13, *pipe_props[\"13\"])\n",
    "\n",
    "        F1 = H1 - H2 - HL12 * math.copysign(1, Q12)\n",
    "        F2 = H2 - H3 - HL23 * math.copysign(1, Q23)\n",
    "        F3 = H1 - H3 - HL13 * math.copysign(1, Q13)\n",
    "\n",
    "        dHL12 = 2 * HL12 / Q12\n",
    "        dHL23 = 2 * HL23 / Q23\n",
    "        dHL13 = 2 * HL13 / Q13\n",
    "\n",
    "        Q12 += F1 / dHL12\n",
    "        Q23 += F2 / dHL23\n",
    "        Q13 += F3 / dHL13\n",
    "\n",
    "    return Q12, Q23, Q13\n",
    "\n",
    "# 🧾 Input Widgets\n",
    "elev_A = widgets.FloatSlider(value=120, min=50, max=200, step=1, description=\"Reservoir A\")\n",
    "elev_B = widgets.FloatSlider(value=90, min=50, max=200, step=1, description=\"Reservoir B\")\n",
    "elev_C = widgets.FloatSlider(value=60, min=50, max=200, step=1, description=\"Reservoir C\")\n",
    "\n",
    "L12 = widgets.FloatText(value=500, description=\"L12 (m)\")\n",
    "D12 = widgets.FloatText(value=0.3, description=\"D12 (m)\")\n",
    "f12 = widgets.FloatText(value=0.02, description=\"f12\")\n",
    "\n",
    "L23 = widgets.FloatText(value=400, description=\"L23 (m)\")\n",
    "D23 = widgets.FloatText(value=0.25, description=\"D23 (m)\")\n",
    "f23 = widgets.FloatText(value=0.025, description=\"f23\")\n",
    "\n",
    "L13 = widgets.FloatText(value=600, description=\"L13 (m)\")\n",
    "D13 = widgets.FloatText(value=0.35, description=\"D13 (m)\")\n",
    "f13 = widgets.FloatText(value=0.018, description=\"f13\")\n",
    "\n",
    "# 🧠 Compute Button\n",
    "button = widgets.Button(description=\"Calculate Flows\")\n",
    "output = widgets.Output()\n",
    "\n",
    "def on_click(b):\n",
    "    with output:\n",
    "        clear_output()\n",
    "        H1, H2, H3 = elev_A.value, elev_B.value, elev_C.value\n",
    "        props = {\n",
    "            \"12\": [L12.value, D12.value, f12.value],\n",
    "            \"23\": [L23.value, D23.value, f23.value],\n",
    "            \"13\": [L13.value, D13.value, f13.value]\n",
    "        }\n",
    "        Q12, Q23, Q13 = solve_flows(H1, H2, H3, props)\n",
    "        display(Markdown(f\"\"\"\n",
    "        ### ✅ Computed Flows Between Reservoirs\n",
    "        - 💧 Q<sub>A → B</sub>: `{Q12:.3f} m³/s`\n",
    "        - 💧 Q<sub>B → C</sub>: `{Q23:.3f} m³/s`\n",
    "        - 💧 Q<sub>A → C</sub>: `{Q13:.3f} m³/s`\n",
    "        \"\"\"))\n",
    "\n",
    "button.on_click(on_click)\n",
    "\n",
    "# 🖥️ Layout\n",
    "display(widgets.VBox([\n",
    "    widgets.HTML(\"<h3>🌊 Three Reservoir Flow Balancer – Interactive</h3>\"),\n",
    "    widgets.HBox([elev_A, elev_B, elev_C]),\n",
    "    widgets.HTML(\"<b>Pipe AB</b>\"), widgets.HBox([L12, D12, f12]),\n",
    "    widgets.HTML(\"<b>Pipe BC</b>\"), widgets.HBox([L23, D23, f23]),\n",
    "    widgets.HTML(\"<b>Pipe AC</b>\"), widgets.HBox([L13, D13, f13]),\n",
    "    button, output\n",
    "]))"
   ]
  },
  {
   "cell_type": "markdown",
   "id": "eeeaff07-f6e0-4f99-b4cc-e67a85f4abb7",
   "metadata": {},
   "source": [
    "## 7. Self-Assessment"
   ]
  },
  {
   "cell_type": "markdown",
   "id": "8bceb048-b0fc-400e-9b15-acbeebc54ce1",
   "metadata": {},
   "source": [
    "### 🔎 Reflective Questions: Pipe Flow Analysis\n",
    "\n",
    "### 🚰 Head Loss\n",
    "- How does increasing pipe roughness influence head loss in real-world systems over time?\n",
    "- In what scenarios might minimizing head loss not be the primary design objective?\n",
    "- Reflect on your most recent hydraulic model—did your head loss predictions align with observed values? Why or why not?\n",
    "\n",
    "### 🔄 Compound Pipes\n",
    "- Why is it important to consider continuity of flow and cumulative head loss in compound pipelines?\n",
    "- How does the choice between materials or diameters across segments affect total energy loss?\n",
    "\n",
    "### 🔁 Hardy Cross Method\n",
    "- How would you explain the benefits and limitations of iterative loop analysis to someone unfamiliar with network modeling?\n",
    "- When might Hardy Cross be preferred over matrix-based solutions in pipe networks?\n",
    "\n",
    "### 🏞️ Three-Reservoir Problem\n",
    "- What assumptions make the three-reservoir problem tractable, and how would you modify the setup for pumping systems?\n",
    "- How would elevation differences drive flow direction if all reservoirs had identical hydraulic grades?\n",
    "\n",
    "---\n",
    "\n",
    "### 🧪 Quiz Questions: Pipe Flow Fundamentals\n",
    "\n",
    "### 🚰 Head Loss\n",
    "\n",
    "**Q1. Which parameter does NOT influence head loss in the Darcy–Weisbach equation?**  \n",
    "- A. Flow velocity  \n",
    "- B. Pipe diameter  \n",
    "- C. Pipe material roughness  \n",
    "- D. Fluid color ✅\n",
    "\n",
    "**Q2. In turbulent flow, friction factor typically:**  \n",
    "- A. Decreases with increasing Reynolds number  \n",
    "- B. Increases with decreasing pipe roughness  \n",
    "- C. Is constant  \n",
    "- D. Varies non-linearly ✅\n",
    "\n",
    "---\n",
    "\n",
    "### 🔄 Compound Pipes\n",
    "\n",
    "**Q3. Total head loss in compound pipes is:**  \n",
    "- A. Average of all losses  \n",
    "- B. Weighted by pipe lengths  \n",
    "- C. Sum of individual losses ✅  \n",
    "- D. Dependent only on the last segment\n",
    "\n",
    "**Q4. Which property is usually assumed continuous across segments of compound pipes?**  \n",
    "- A. Velocity head  \n",
    "- B. Discharge ✅  \n",
    "- C. Pressure  \n",
    "- D. Flow area\n",
    "\n",
    "---\n",
    "\n",
    "### 🔁 Hardy Cross Method\n",
    "\n",
    "**Q5. The correction term in Hardy Cross method is derived from:**  \n",
    "- A. Pipe roughness  \n",
    "- B. Head imbalance around loop ✅  \n",
    "- C. Flow velocity difference  \n",
    "- D. Pump efficiency\n",
    "\n",
    "---\n",
    "\n",
    "### 🏞️ Three-Reservoir Problem\n",
    "\n",
    "**Q6. In solving the three-reservoir problem, which principle is primarily used at the junction?**  \n",
    "- A. Energy conservation  \n",
    "- B. Flow continuity ✅  \n",
    "- C. Momentum balance  \n",
    "- D. Bernoulli’s Theorem\n",
    "\n",
    "---"
   ]
  },
  {
   "cell_type": "code",
   "execution_count": null,
   "id": "3d442a5c-54b4-48b4-a461-a8a90fbbc9f9",
   "metadata": {},
   "outputs": [],
   "source": []
  }
 ],
 "metadata": {
  "kernelspec": {
   "display_name": "Python [conda env:base] *",
   "language": "python",
   "name": "conda-base-py"
  },
  "language_info": {
   "codemirror_mode": {
    "name": "ipython",
    "version": 3
   },
   "file_extension": ".py",
   "mimetype": "text/x-python",
   "name": "python",
   "nbconvert_exporter": "python",
   "pygments_lexer": "ipython3",
   "version": "3.12.7"
  },
  "widgets": {
   "application/vnd.jupyter.widget-state+json": {
    "state": {
     "00315d8f65854e508d952cf26f9b09bb": {
      "model_module": "@jupyter-widgets/controls",
      "model_module_version": "2.0.0",
      "model_name": "DescriptionStyleModel",
      "state": {
       "description_width": ""
      }
     },
     "012a44740023490ab5bca87fdc0ce0af": {
      "model_module": "@jupyter-widgets/controls",
      "model_module_version": "2.0.0",
      "model_name": "SliderStyleModel",
      "state": {
       "description_width": ""
      }
     },
     "01b6f7a88b4c4a269658ded0aab304fa": {
      "model_module": "@jupyter-widgets/controls",
      "model_module_version": "2.0.0",
      "model_name": "SliderStyleModel",
      "state": {
       "description_width": ""
      }
     },
     "01c26ba767594445b1bd3ca3505df510": {
      "model_module": "@jupyter-widgets/base",
      "model_module_version": "2.0.0",
      "model_name": "LayoutModel",
      "state": {}
     },
     "01c5a240b4d54275b5629d2183f291e5": {
      "model_module": "@jupyter-widgets/controls",
      "model_module_version": "2.0.0",
      "model_name": "ButtonModel",
      "state": {
       "description": "Solve with Hardy Cross",
       "layout": "IPY_MODEL_a8d2fa03f8164d0783420ce4639fe329",
       "style": "IPY_MODEL_62f0b546920b4e34aedf55ae77a4d735",
       "tooltip": null
      }
     },
     "0275c612079141d4a25722b61cdf1ad5": {
      "model_module": "@jupyter-widgets/controls",
      "model_module_version": "2.0.0",
      "model_name": "HTMLStyleModel",
      "state": {
       "description_width": "",
       "font_size": null,
       "text_color": null
      }
     },
     "027bc483c5c5426fae9ad69f16fa5c3a": {
      "model_module": "@jupyter-widgets/controls",
      "model_module_version": "2.0.0",
      "model_name": "SliderStyleModel",
      "state": {
       "description_width": ""
      }
     },
     "044ba72265614385b9400e5e8758c65a": {
      "model_module": "@jupyter-widgets/base",
      "model_module_version": "2.0.0",
      "model_name": "LayoutModel",
      "state": {}
     },
     "05266178ce014bd7ae7174654a935ea8": {
      "model_module": "@jupyter-widgets/base",
      "model_module_version": "2.0.0",
      "model_name": "LayoutModel",
      "state": {}
     },
     "07ebdd9c634e45df84c103041847a531": {
      "model_module": "@jupyter-widgets/base",
      "model_module_version": "2.0.0",
      "model_name": "LayoutModel",
      "state": {}
     },
     "0831300aaa694655b49d6abd31932da9": {
      "model_module": "@jupyter-widgets/base",
      "model_module_version": "2.0.0",
      "model_name": "LayoutModel",
      "state": {}
     },
     "0971fe0dc9c8407a891c68563af113b0": {
      "model_module": "@jupyter-widgets/base",
      "model_module_version": "2.0.0",
      "model_name": "LayoutModel",
      "state": {}
     },
     "09c00d35fbc143f1b5d2f7d5b66dc3b4": {
      "model_module": "@jupyter-widgets/base",
      "model_module_version": "2.0.0",
      "model_name": "LayoutModel",
      "state": {}
     },
     "09cb909a73b44defbb97fe2a6be74c06": {
      "model_module": "@jupyter-widgets/controls",
      "model_module_version": "2.0.0",
      "model_name": "ButtonStyleModel",
      "state": {
       "font_family": null,
       "font_size": null,
       "font_style": null,
       "font_variant": null,
       "font_weight": null,
       "text_color": null,
       "text_decoration": null
      }
     },
     "09f25d03b4a0489bbbea8259402ac2d2": {
      "model_module": "@jupyter-widgets/base",
      "model_module_version": "2.0.0",
      "model_name": "LayoutModel",
      "state": {}
     },
     "0a0d58a80c6d4ccf8a47e849bc650da8": {
      "model_module": "@jupyter-widgets/output",
      "model_module_version": "1.0.0",
      "model_name": "OutputModel",
      "state": {
       "layout": "IPY_MODEL_6fad3e1470a9440f9380d8cab4f1edc7"
      }
     },
     "0bac8d76122b4b6fb9a4f9af5b690a61": {
      "model_module": "@jupyter-widgets/base",
      "model_module_version": "2.0.0",
      "model_name": "LayoutModel",
      "state": {}
     },
     "0bcc6296390c457fb5f7f374cd3f7f05": {
      "model_module": "@jupyter-widgets/base",
      "model_module_version": "2.0.0",
      "model_name": "LayoutModel",
      "state": {}
     },
     "0c30b05179dd4b3d89842b1345fbd458": {
      "model_module": "@jupyter-widgets/base",
      "model_module_version": "2.0.0",
      "model_name": "LayoutModel",
      "state": {}
     },
     "0e3e313efaf94c018937755a41e9b98c": {
      "model_module": "@jupyter-widgets/controls",
      "model_module_version": "2.0.0",
      "model_name": "VBoxModel",
      "state": {
       "children": [
        "IPY_MODEL_213f89848a53432e8ff1a07da183cd66",
        "IPY_MODEL_abf31f1b93b14e5595cece3ffdcdbf5e",
        "IPY_MODEL_c687fee877194c4782933f3d731c7a17",
        "IPY_MODEL_729a9b45ca954785b153c9c89a284020",
        "IPY_MODEL_65f157021fb54d7e823b11b40d2bd48f",
        "IPY_MODEL_161a6b64b8f647569edee23fe3b7663b",
        "IPY_MODEL_f4e6dcd2d9984d9eaf9bcf7542d97cdf",
        "IPY_MODEL_2de8621d4a4041668a89cc8a15040730",
        "IPY_MODEL_b3ca623a5b8b48a0ae2b7bfa4eb39a9b",
        "IPY_MODEL_98208d2dc2284e49895e19d122e9f704"
       ],
       "layout": "IPY_MODEL_0831300aaa694655b49d6abd31932da9"
      }
     },
     "0f872d0ee7b8497ca5ebed2459986955": {
      "model_module": "@jupyter-widgets/controls",
      "model_module_version": "2.0.0",
      "model_name": "DescriptionStyleModel",
      "state": {
       "description_width": ""
      }
     },
     "0fde25b970464ab895f101d037afce3b": {
      "model_module": "@jupyter-widgets/base",
      "model_module_version": "2.0.0",
      "model_name": "LayoutModel",
      "state": {}
     },
     "1004a9af81234439b1af87b81b61fe49": {
      "model_module": "@jupyter-widgets/controls",
      "model_module_version": "2.0.0",
      "model_name": "DescriptionStyleModel",
      "state": {
       "description_width": ""
      }
     },
     "105ad48d761946df85bd5f93200daf59": {
      "model_module": "@jupyter-widgets/base",
      "model_module_version": "2.0.0",
      "model_name": "LayoutModel",
      "state": {}
     },
     "111de26f6aa24522b10ec0e0134774ba": {
      "model_module": "@jupyter-widgets/controls",
      "model_module_version": "2.0.0",
      "model_name": "FloatTextModel",
      "state": {
       "description": "D13 (m)",
       "layout": "IPY_MODEL_c9dca20beab04f1c9b589ef594b190a1",
       "step": null,
       "style": "IPY_MODEL_51ef93c80b8b477dac1933039c3899fe",
       "value": 0.35
      }
     },
     "12a7a155d7d3494d8672fa817b4e7884": {
      "model_module": "@jupyter-widgets/controls",
      "model_module_version": "2.0.0",
      "model_name": "SliderStyleModel",
      "state": {
       "description_width": ""
      }
     },
     "12edc7b7ac934fb99833a95819be1152": {
      "model_module": "@jupyter-widgets/base",
      "model_module_version": "2.0.0",
      "model_name": "LayoutModel",
      "state": {}
     },
     "141cedd4d00040c88c2f92526744a086": {
      "model_module": "@jupyter-widgets/controls",
      "model_module_version": "2.0.0",
      "model_name": "HTMLStyleModel",
      "state": {
       "description_width": "",
       "font_size": null,
       "text_color": null
      }
     },
     "14ec465fe34b4f1895f022a73af867f2": {
      "model_module": "@jupyter-widgets/base",
      "model_module_version": "2.0.0",
      "model_name": "LayoutModel",
      "state": {}
     },
     "161a6b64b8f647569edee23fe3b7663b": {
      "model_module": "@jupyter-widgets/controls",
      "model_module_version": "2.0.0",
      "model_name": "HBoxModel",
      "state": {
       "children": [
        "IPY_MODEL_88eda385cf4a405dabef75107e7a9fec",
        "IPY_MODEL_e0c086e40c6e4928bf50d0ab096f6e1e",
        "IPY_MODEL_c86083fdc85c4f6b8403e9700f2eb988"
       ],
       "layout": "IPY_MODEL_50a70d17cb904e48b41ae63d782f57b7"
      }
     },
     "172e5646f92649fcb6a0fd28ecbf3987": {
      "model_module": "@jupyter-widgets/base",
      "model_module_version": "2.0.0",
      "model_name": "LayoutModel",
      "state": {}
     },
     "17923c0e25c54dd19569f63f3686dbc3": {
      "model_module": "@jupyter-widgets/controls",
      "model_module_version": "2.0.0",
      "model_name": "FloatSliderModel",
      "state": {
       "behavior": "drag-tap",
       "description": "Flow Q (m³/s)",
       "layout": "IPY_MODEL_68a0ff82feba4dcfbacfffd4ae429ddd",
       "max": 2,
       "min": 0.001,
       "step": 0.01,
       "style": "IPY_MODEL_3d02b457340a45508e5957b0c17178d1",
       "value": 0.101
      }
     },
     "181bc0c62641440b81f021248cb10b22": {
      "model_module": "@jupyter-widgets/controls",
      "model_module_version": "2.0.0",
      "model_name": "HTMLStyleModel",
      "state": {
       "description_width": "",
       "font_size": null,
       "text_color": null
      }
     },
     "189784c3ce2b44e88af06d4dac3db9c8": {
      "model_module": "@jupyter-widgets/base",
      "model_module_version": "2.0.0",
      "model_name": "LayoutModel",
      "state": {}
     },
     "18e1a2c4d7524b248bc6350eef5a9ae7": {
      "model_module": "@jupyter-widgets/controls",
      "model_module_version": "2.0.0",
      "model_name": "DescriptionStyleModel",
      "state": {
       "description_width": ""
      }
     },
     "1a5a6cdd3c05456b964d98c9aa53e302": {
      "model_module": "@jupyter-widgets/controls",
      "model_module_version": "2.0.0",
      "model_name": "DescriptionStyleModel",
      "state": {
       "description_width": ""
      }
     },
     "1a9e1d8ac2b4484d9da6548e85d99423": {
      "model_module": "@jupyter-widgets/base",
      "model_module_version": "2.0.0",
      "model_name": "LayoutModel",
      "state": {}
     },
     "1e02ed20123b4f57b21bbe6a225aa4c1": {
      "model_module": "@jupyter-widgets/controls",
      "model_module_version": "2.0.0",
      "model_name": "SliderStyleModel",
      "state": {
       "description_width": ""
      }
     },
     "1e34edfabded427e9f05e09f7742b8c2": {
      "model_module": "@jupyter-widgets/base",
      "model_module_version": "2.0.0",
      "model_name": "LayoutModel",
      "state": {}
     },
     "2032c922a2d04c828cd56d9365c9cb9f": {
      "model_module": "@jupyter-widgets/controls",
      "model_module_version": "2.0.0",
      "model_name": "DescriptionStyleModel",
      "state": {
       "description_width": ""
      }
     },
     "210f3c922ee34c058ea9668bff003ac9": {
      "model_module": "@jupyter-widgets/controls",
      "model_module_version": "2.0.0",
      "model_name": "VBoxModel",
      "state": {
       "children": [
        "IPY_MODEL_2d1343c1d7204dc09270b8de2f69efe9",
        "IPY_MODEL_a4c17f9312ac4565887ff392f6ef0c20",
        "IPY_MODEL_95dd4e463b844c34b787779dfa0f4081",
        "IPY_MODEL_9fdb33f4be8642d1827ee9b92448f54c",
        "IPY_MODEL_3dbca27b2a904519b8f89dd1e996cb1e",
        "IPY_MODEL_a8524f06fbed445fa8b888f522748235",
        "IPY_MODEL_e3aa1a1d677b479ab1c22b7eb3f9293b"
       ],
       "layout": "IPY_MODEL_189784c3ce2b44e88af06d4dac3db9c8"
      }
     },
     "213f89848a53432e8ff1a07da183cd66": {
      "model_module": "@jupyter-widgets/controls",
      "model_module_version": "2.0.0",
      "model_name": "HTMLModel",
      "state": {
       "layout": "IPY_MODEL_46118586124f4a74a0b8e93811872935",
       "style": "IPY_MODEL_843249428e2f4bf2a32fe793441c459d",
       "value": "<h3>🌊 Three Reservoir Flow Balancer – Interactive</h3>"
      }
     },
     "21a3034bee9143f0b3e632a1167a1f44": {
      "model_module": "@jupyter-widgets/controls",
      "model_module_version": "2.0.0",
      "model_name": "DescriptionStyleModel",
      "state": {
       "description_width": ""
      }
     },
     "2246ebe86c5245fdaf8096b3dcbfe087": {
      "model_module": "@jupyter-widgets/controls",
      "model_module_version": "2.0.0",
      "model_name": "DescriptionStyleModel",
      "state": {
       "description_width": ""
      }
     },
     "22e330444d64426899b37f43ab9aded3": {
      "model_module": "@jupyter-widgets/controls",
      "model_module_version": "2.0.0",
      "model_name": "FloatTextModel",
      "state": {
       "description": "Q1 (m³/s)",
       "layout": "IPY_MODEL_0c30b05179dd4b3d89842b1345fbd458",
       "step": 0.001,
       "style": "IPY_MODEL_c4d12268a0314a9b95405bf8d07964f2",
       "value": 0.01
      }
     },
     "231cb14ed07744d9b1fb603cf2e08b54": {
      "model_module": "@jupyter-widgets/controls",
      "model_module_version": "2.0.0",
      "model_name": "FloatSliderModel",
      "state": {
       "behavior": "drag-tap",
       "description": "Friction f",
       "layout": "IPY_MODEL_c26dfa6800454adea4f97ed6e24d95d3",
       "max": 0.1,
       "min": 0.005,
       "step": 0.001,
       "style": "IPY_MODEL_e1cc770ae5aa44cabc9ccb317554304c",
       "value": 0.02
      }
     },
     "2567e5c8aba2472184c66829bcb1699c": {
      "model_module": "@jupyter-widgets/controls",
      "model_module_version": "2.0.0",
      "model_name": "SliderStyleModel",
      "state": {
       "description_width": ""
      }
     },
     "25c82ca9cd724798a558fe8b8a099615": {
      "model_module": "@jupyter-widgets/controls",
      "model_module_version": "2.0.0",
      "model_name": "HTMLStyleModel",
      "state": {
       "description_width": "",
       "font_size": null,
       "text_color": null
      }
     },
     "27743497d6c64acea588f05b0ab0f21e": {
      "model_module": "@jupyter-widgets/controls",
      "model_module_version": "2.0.0",
      "model_name": "FloatTextModel",
      "state": {
       "description": "D12 (m)",
       "layout": "IPY_MODEL_dfad51006bcf44b395ffc551977254a1",
       "step": null,
       "style": "IPY_MODEL_21a3034bee9143f0b3e632a1167a1f44",
       "value": 0.3
      }
     },
     "2937af4a072048ceb290c4d1bfc00eff": {
      "model_module": "@jupyter-widgets/base",
      "model_module_version": "2.0.0",
      "model_name": "LayoutModel",
      "state": {}
     },
     "2995536cb472467485aa100a42999919": {
      "model_module": "@jupyter-widgets/base",
      "model_module_version": "2.0.0",
      "model_name": "LayoutModel",
      "state": {}
     },
     "2ca1b23b3167461295bffaaeeae415f9": {
      "model_module": "@jupyter-widgets/controls",
      "model_module_version": "2.0.0",
      "model_name": "HBoxModel",
      "state": {
       "children": [
        "IPY_MODEL_655ad074ae4d495fa77e15218342f876",
        "IPY_MODEL_9bb401582e634459879cf4cdcb4cc133",
        "IPY_MODEL_dfb35fe5a4974d8e80522e73dbe89cf1"
       ],
       "layout": "IPY_MODEL_b40bf101536f43d5b68d669b83c298d8"
      }
     },
     "2cab88a9ff9e47d094e77206f4d03e9d": {
      "model_module": "@jupyter-widgets/controls",
      "model_module_version": "2.0.0",
      "model_name": "DescriptionStyleModel",
      "state": {
       "description_width": ""
      }
     },
     "2d1343c1d7204dc09270b8de2f69efe9": {
      "model_module": "@jupyter-widgets/controls",
      "model_module_version": "2.0.0",
      "model_name": "HTMLModel",
      "state": {
       "layout": "IPY_MODEL_e9647e0a2d004a00b5a4392571d4da3b",
       "style": "IPY_MODEL_ca8e11a5c785401ca18dccf12bdd46a9",
       "value": "<h3>🚰 Pipe Diameter Design Calculator</h3>"
      }
     },
     "2d860d60fda04acc809eff56445b5c2d": {
      "model_module": "@jupyter-widgets/controls",
      "model_module_version": "2.0.0",
      "model_name": "DropdownModel",
      "state": {
       "_options_labels": [
        "+",
        "-"
       ],
       "description": "P4 Dir",
       "index": 0,
       "layout": "IPY_MODEL_e23eb419c20e455fa110da1165dea3da",
       "style": "IPY_MODEL_18e1a2c4d7524b248bc6350eef5a9ae7"
      }
     },
     "2de8621d4a4041668a89cc8a15040730": {
      "model_module": "@jupyter-widgets/controls",
      "model_module_version": "2.0.0",
      "model_name": "HBoxModel",
      "state": {
       "children": [
        "IPY_MODEL_9d3d30febdb946ebb9d883fecc2311e4",
        "IPY_MODEL_111de26f6aa24522b10ec0e0134774ba",
        "IPY_MODEL_82d94896414942e1b01ef79cbb4acf31"
       ],
       "layout": "IPY_MODEL_c59d7b2ac8694bffa6ae644d0dbf4165"
      }
     },
     "2e15d60382894e1692ee7ee4a1a6c6cc": {
      "model_module": "@jupyter-widgets/controls",
      "model_module_version": "2.0.0",
      "model_name": "DescriptionStyleModel",
      "state": {
       "description_width": ""
      }
     },
     "2f6900b9de3d49c7ad397372f67666b8": {
      "model_module": "@jupyter-widgets/controls",
      "model_module_version": "2.0.0",
      "model_name": "HBoxModel",
      "state": {
       "children": [
        "IPY_MODEL_3e78d5e2651a4746a3e3063d78dd3902",
        "IPY_MODEL_6b892ee22d9943108d0a8c63484d78f5",
        "IPY_MODEL_22e330444d64426899b37f43ab9aded3",
        "IPY_MODEL_fa0819a357ea455499c70e5fdadef01e"
       ],
       "layout": "IPY_MODEL_3f3d86b39d3d41b482d3edc95de24463"
      }
     },
     "2f72afacdf0c4b28a623546d72388f27": {
      "model_module": "@jupyter-widgets/controls",
      "model_module_version": "2.0.0",
      "model_name": "FloatTextModel",
      "state": {
       "description": "P2 Q (m³/s)",
       "layout": "IPY_MODEL_f641d09b47c74de0a35a411506b1bc53",
       "step": 0.1,
       "style": "IPY_MODEL_d0ff1e0d7e5f4d5e89edd7df1cf187d5",
       "value": 10
      }
     },
     "305f8270403f485eab37b9600ccc0c96": {
      "model_module": "@jupyter-widgets/controls",
      "model_module_version": "2.0.0",
      "model_name": "HBoxModel",
      "state": {
       "children": [
        "IPY_MODEL_ad437f87e0ce49a7b06a66a5e58f09fa",
        "IPY_MODEL_ccfc2d2c04574344a548bbfd162ac06f",
        "IPY_MODEL_2d860d60fda04acc809eff56445b5c2d"
       ],
       "layout": "IPY_MODEL_613f57447c2e47b1b1fdd3115a3ba6cd"
      }
     },
     "33f94680ed8147588fce53e27176ed53": {
      "model_module": "@jupyter-widgets/controls",
      "model_module_version": "2.0.0",
      "model_name": "HBoxModel",
      "state": {
       "children": [
        "IPY_MODEL_49fef1a4a15246c696f8e71a01eac2c8",
        "IPY_MODEL_f8802288c2d6413ab68e6e57ff6ca878",
        "IPY_MODEL_7d93b8aa8c5e4bf88e487940798dd285"
       ],
       "layout": "IPY_MODEL_48872188343c46f89b5bacb38aa3b4c1"
      }
     },
     "3571bac7946f4dd1b7661ede0aa97cba": {
      "model_module": "@jupyter-widgets/controls",
      "model_module_version": "2.0.0",
      "model_name": "ButtonStyleModel",
      "state": {
       "font_family": null,
       "font_size": null,
       "font_style": null,
       "font_variant": null,
       "font_weight": null,
       "text_color": null,
       "text_decoration": null
      }
     },
     "359d3cba6ef246d1a0d41185ad4ff910": {
      "model_module": "@jupyter-widgets/base",
      "model_module_version": "2.0.0",
      "model_name": "LayoutModel",
      "state": {}
     },
     "35cb3f7736d9453597226c4090a9c633": {
      "model_module": "@jupyter-widgets/controls",
      "model_module_version": "2.0.0",
      "model_name": "DescriptionStyleModel",
      "state": {
       "description_width": ""
      }
     },
     "36cf0eac8eaf4a70a293cfc22a7e2a35": {
      "model_module": "@jupyter-widgets/base",
      "model_module_version": "2.0.0",
      "model_name": "LayoutModel",
      "state": {}
     },
     "3936765d564547408f046aa42d21a02b": {
      "model_module": "@jupyter-widgets/controls",
      "model_module_version": "2.0.0",
      "model_name": "SliderStyleModel",
      "state": {
       "description_width": ""
      }
     },
     "3ab69ea802714ef6b62136fc52ee2c70": {
      "model_module": "@jupyter-widgets/base",
      "model_module_version": "2.0.0",
      "model_name": "LayoutModel",
      "state": {}
     },
     "3acd6991ba604e87a64640317d9c87e0": {
      "model_module": "@jupyter-widgets/controls",
      "model_module_version": "2.0.0",
      "model_name": "ButtonStyleModel",
      "state": {
       "font_family": null,
       "font_size": null,
       "font_style": null,
       "font_variant": null,
       "font_weight": null,
       "text_color": null,
       "text_decoration": null
      }
     },
     "3d02b457340a45508e5957b0c17178d1": {
      "model_module": "@jupyter-widgets/controls",
      "model_module_version": "2.0.0",
      "model_name": "SliderStyleModel",
      "state": {
       "description_width": ""
      }
     },
     "3dbca27b2a904519b8f89dd1e996cb1e": {
      "model_module": "@jupyter-widgets/controls",
      "model_module_version": "2.0.0",
      "model_name": "DropdownModel",
      "state": {
       "_options_labels": [
        "PVC",
        "Steel",
        "Cast Iron",
        "Concrete",
        "Copper"
       ],
       "description": "Material",
       "index": 0,
       "layout": "IPY_MODEL_044ba72265614385b9400e5e8758c65a",
       "style": "IPY_MODEL_1a5a6cdd3c05456b964d98c9aa53e302"
      }
     },
     "3e78d5e2651a4746a3e3063d78dd3902": {
      "model_module": "@jupyter-widgets/controls",
      "model_module_version": "2.0.0",
      "model_name": "FloatTextModel",
      "state": {
       "description": "L1 (m)",
       "layout": "IPY_MODEL_601b62d6a46a4e00b2ac30a39bcca216",
       "step": 1,
       "style": "IPY_MODEL_2246ebe86c5245fdaf8096b3dcbfe087",
       "value": 50
      }
     },
     "3efd2ed99dd0490c8d747a38778c7156": {
      "model_module": "@jupyter-widgets/controls",
      "model_module_version": "2.0.0",
      "model_name": "DescriptionStyleModel",
      "state": {
       "description_width": ""
      }
     },
     "3f3d86b39d3d41b482d3edc95de24463": {
      "model_module": "@jupyter-widgets/base",
      "model_module_version": "2.0.0",
      "model_name": "LayoutModel",
      "state": {}
     },
     "409345a597714e7a84e8ebf150901fb3": {
      "model_module": "@jupyter-widgets/output",
      "model_module_version": "1.0.0",
      "model_name": "OutputModel",
      "state": {
       "layout": "IPY_MODEL_666f476ea0ba4b58966e394209463b3e",
       "outputs": [
        {
         "data": {
          "text/markdown": "### 🧮 Estimated Head Loss: `0.114 m`\n- Flow Rate: `0.7309999999999999 m³/s`\n- Total Piles: `4` | Diameter: `0.30000000000000004 m` | Length: `4.999999999999999 m`\n- Friction Factor: `0.02`",
          "text/plain": "<IPython.core.display.Markdown object>"
         },
         "metadata": {},
         "output_type": "display_data"
        }
       ]
      }
     },
     "41a89e671fea44d78ed42426d641202b": {
      "model_module": "@jupyter-widgets/base",
      "model_module_version": "2.0.0",
      "model_name": "LayoutModel",
      "state": {}
     },
     "4539e4217e6c4b999fb629a396ece4e6": {
      "model_module": "@jupyter-widgets/base",
      "model_module_version": "2.0.0",
      "model_name": "LayoutModel",
      "state": {}
     },
     "46118586124f4a74a0b8e93811872935": {
      "model_module": "@jupyter-widgets/base",
      "model_module_version": "2.0.0",
      "model_name": "LayoutModel",
      "state": {}
     },
     "48295d41dabf4bc0865b8f6f118cc3a6": {
      "model_module": "@jupyter-widgets/base",
      "model_module_version": "2.0.0",
      "model_name": "LayoutModel",
      "state": {}
     },
     "48872188343c46f89b5bacb38aa3b4c1": {
      "model_module": "@jupyter-widgets/base",
      "model_module_version": "2.0.0",
      "model_name": "LayoutModel",
      "state": {}
     },
     "48d4bb8a300246939beab2c41f3fd33e": {
      "model_module": "@jupyter-widgets/base",
      "model_module_version": "2.0.0",
      "model_name": "LayoutModel",
      "state": {}
     },
     "48dc5a4bc163457296b7e90e3bcb5908": {
      "model_module": "@jupyter-widgets/controls",
      "model_module_version": "2.0.0",
      "model_name": "DescriptionStyleModel",
      "state": {
       "description_width": ""
      }
     },
     "49fef1a4a15246c696f8e71a01eac2c8": {
      "model_module": "@jupyter-widgets/controls",
      "model_module_version": "2.0.0",
      "model_name": "FloatTextModel",
      "state": {
       "description": "P3 Q (m³/s)",
       "layout": "IPY_MODEL_a47748d653bc4d298d70ae47c38035d5",
       "step": 0.1,
       "style": "IPY_MODEL_2e15d60382894e1692ee7ee4a1a6c6cc",
       "value": 10
      }
     },
     "4bdaf9cb24dc47ae997fd3ab4c611068": {
      "model_module": "@jupyter-widgets/controls",
      "model_module_version": "2.0.0",
      "model_name": "SliderStyleModel",
      "state": {
       "description_width": ""
      }
     },
     "4e2798b7f5284a3c9818342c2f2f5d9d": {
      "model_module": "@jupyter-widgets/base",
      "model_module_version": "2.0.0",
      "model_name": "LayoutModel",
      "state": {}
     },
     "4e4df8f4a01a4a16b56c75831fce649b": {
      "model_module": "@jupyter-widgets/controls",
      "model_module_version": "2.0.0",
      "model_name": "VBoxModel",
      "state": {
       "children": [
        "IPY_MODEL_b279d7174f1e43019502cb1af7ef3958",
        "IPY_MODEL_627c136101b1446b84ac68fd5b123896",
        "IPY_MODEL_b04d075319d1433097a3e891a98538b2",
        "IPY_MODEL_01c5a240b4d54275b5629d2183f291e5",
        "IPY_MODEL_d3fc89a901204d918fba26901a5c8153"
       ],
       "layout": "IPY_MODEL_807b508210e04dcf9ae35104edf29a10"
      }
     },
     "4eeabb18bde14b0989f2e7bf0dc72435": {
      "model_module": "@jupyter-widgets/controls",
      "model_module_version": "2.0.0",
      "model_name": "HBoxModel",
      "state": {
       "children": [
        "IPY_MODEL_2f72afacdf0c4b28a623546d72388f27",
        "IPY_MODEL_895bb45050074c31af5d13cabd53f0ce",
        "IPY_MODEL_da203b77d8ba446785ea8ed73fbff718"
       ],
       "layout": "IPY_MODEL_f6be7872d65b459e8ae0daa2081e3f5a"
      }
     },
     "50a70d17cb904e48b41ae63d782f57b7": {
      "model_module": "@jupyter-widgets/base",
      "model_module_version": "2.0.0",
      "model_name": "LayoutModel",
      "state": {}
     },
     "5151345a62d44b9e977bcac3c57cb7e4": {
      "model_module": "@jupyter-widgets/controls",
      "model_module_version": "2.0.0",
      "model_name": "ButtonStyleModel",
      "state": {
       "font_family": null,
       "font_size": null,
       "font_style": null,
       "font_variant": null,
       "font_weight": null,
       "text_color": null,
       "text_decoration": null
      }
     },
     "51c653af254341a5ac4692c2bea98dc2": {
      "model_module": "@jupyter-widgets/base",
      "model_module_version": "2.0.0",
      "model_name": "LayoutModel",
      "state": {}
     },
     "51ef93c80b8b477dac1933039c3899fe": {
      "model_module": "@jupyter-widgets/controls",
      "model_module_version": "2.0.0",
      "model_name": "DescriptionStyleModel",
      "state": {
       "description_width": ""
      }
     },
     "526d6c054e3f41018e178f418f529d20": {
      "model_module": "@jupyter-widgets/controls",
      "model_module_version": "2.0.0",
      "model_name": "FloatTextModel",
      "state": {
       "description": "Q3 (m³/s)",
       "layout": "IPY_MODEL_12edc7b7ac934fb99833a95819be1152",
       "step": 0.001,
       "style": "IPY_MODEL_fe39116109184641ae955164fc0eb090",
       "value": 0.01
      }
     },
     "52aeb15593a74c0ab59cb8edcdaca090": {
      "model_module": "@jupyter-widgets/controls",
      "model_module_version": "2.0.0",
      "model_name": "DescriptionStyleModel",
      "state": {
       "description_width": ""
      }
     },
     "53cc65732c5c4f8391e3cf62bb879a96": {
      "model_module": "@jupyter-widgets/controls",
      "model_module_version": "2.0.0",
      "model_name": "DescriptionStyleModel",
      "state": {
       "description_width": ""
      }
     },
     "5407401f17744dacb55996f8564fa6a4": {
      "model_module": "@jupyter-widgets/controls",
      "model_module_version": "2.0.0",
      "model_name": "ButtonModel",
      "state": {
       "description": "Calculate Total Head Loss",
       "layout": "IPY_MODEL_7443360b3dde42d68715fd8170c60a58",
       "style": "IPY_MODEL_5151345a62d44b9e977bcac3c57cb7e4",
       "tooltip": null
      }
     },
     "5c35de913ea54276a3c8b00bfb00670e": {
      "model_module": "@jupyter-widgets/base",
      "model_module_version": "2.0.0",
      "model_name": "LayoutModel",
      "state": {}
     },
     "5fb3065a2b164a3caacbd7013a85f00d": {
      "model_module": "@jupyter-widgets/base",
      "model_module_version": "2.0.0",
      "model_name": "LayoutModel",
      "state": {}
     },
     "601b62d6a46a4e00b2ac30a39bcca216": {
      "model_module": "@jupyter-widgets/base",
      "model_module_version": "2.0.0",
      "model_name": "LayoutModel",
      "state": {}
     },
     "60b6b5085bd14c39b1383db73504b7b3": {
      "model_module": "@jupyter-widgets/base",
      "model_module_version": "2.0.0",
      "model_name": "LayoutModel",
      "state": {}
     },
     "613f57447c2e47b1b1fdd3115a3ba6cd": {
      "model_module": "@jupyter-widgets/base",
      "model_module_version": "2.0.0",
      "model_name": "LayoutModel",
      "state": {}
     },
     "627c136101b1446b84ac68fd5b123896": {
      "model_module": "@jupyter-widgets/controls",
      "model_module_version": "2.0.0",
      "model_name": "IntSliderModel",
      "state": {
       "behavior": "drag-tap",
       "description": "Loop Pipes",
       "layout": "IPY_MODEL_1e34edfabded427e9f05e09f7742b8c2",
       "max": 6,
       "min": 2,
       "style": "IPY_MODEL_2567e5c8aba2472184c66829bcb1699c",
       "value": 4
      }
     },
     "62f0b546920b4e34aedf55ae77a4d735": {
      "model_module": "@jupyter-widgets/controls",
      "model_module_version": "2.0.0",
      "model_name": "ButtonStyleModel",
      "state": {
       "font_family": null,
       "font_size": null,
       "font_style": null,
       "font_variant": null,
       "font_weight": null,
       "text_color": null,
       "text_decoration": null
      }
     },
     "632a84f1761e49358aa689c174c11c14": {
      "model_module": "@jupyter-widgets/base",
      "model_module_version": "2.0.0",
      "model_name": "LayoutModel",
      "state": {}
     },
     "637ed00afcfd447989d32ad3f78ce95a": {
      "model_module": "@jupyter-widgets/base",
      "model_module_version": "2.0.0",
      "model_name": "LayoutModel",
      "state": {}
     },
     "6389b2a0f9f1465480686069a9b78e36": {
      "model_module": "@jupyter-widgets/base",
      "model_module_version": "2.0.0",
      "model_name": "LayoutModel",
      "state": {}
     },
     "63d297bb8b5d4cb2adb3facc017aa19f": {
      "model_module": "@jupyter-widgets/base",
      "model_module_version": "2.0.0",
      "model_name": "LayoutModel",
      "state": {}
     },
     "64136f9caa214021bd2c009a682052bc": {
      "model_module": "@jupyter-widgets/controls",
      "model_module_version": "2.0.0",
      "model_name": "FloatTextModel",
      "state": {
       "description": "L2 (m)",
       "layout": "IPY_MODEL_05266178ce014bd7ae7174654a935ea8",
       "step": 1,
       "style": "IPY_MODEL_1004a9af81234439b1af87b81b61fe49",
       "value": 50
      }
     },
     "655ad074ae4d495fa77e15218342f876": {
      "model_module": "@jupyter-widgets/controls",
      "model_module_version": "2.0.0",
      "model_name": "FloatTextModel",
      "state": {
       "description": "P1 Q (m³/s)",
       "layout": "IPY_MODEL_359d3cba6ef246d1a0d41185ad4ff910",
       "step": 0.1,
       "style": "IPY_MODEL_0f872d0ee7b8497ca5ebed2459986955",
       "value": 10
      }
     },
     "657694c28ece4d4cb6c2d96757a7c7ea": {
      "model_module": "@jupyter-widgets/controls",
      "model_module_version": "2.0.0",
      "model_name": "FloatTextModel",
      "state": {
       "description": "f12",
       "layout": "IPY_MODEL_cf1391e98d1c4685b22317ad0b21f427",
       "step": null,
       "style": "IPY_MODEL_e3fb1b9235b34a25847dc9a7538582e6",
       "value": 0.02
      }
     },
     "65f157021fb54d7e823b11b40d2bd48f": {
      "model_module": "@jupyter-widgets/controls",
      "model_module_version": "2.0.0",
      "model_name": "HTMLModel",
      "state": {
       "layout": "IPY_MODEL_2995536cb472467485aa100a42999919",
       "style": "IPY_MODEL_971662328aa74f0e9802622ba019602d",
       "value": "<b>Pipe BC</b>"
      }
     },
     "66522560f55f4ed09302659888b816af": {
      "model_module": "@jupyter-widgets/base",
      "model_module_version": "2.0.0",
      "model_name": "LayoutModel",
      "state": {}
     },
     "666f476ea0ba4b58966e394209463b3e": {
      "model_module": "@jupyter-widgets/base",
      "model_module_version": "2.0.0",
      "model_name": "LayoutModel",
      "state": {}
     },
     "6681ae9468b848ebac0ab770d41b837a": {
      "model_module": "@jupyter-widgets/controls",
      "model_module_version": "2.0.0",
      "model_name": "FloatSliderModel",
      "state": {
       "behavior": "drag-tap",
       "description": "Reservoir A",
       "layout": "IPY_MODEL_e7a7c7450bb34884b9bd88d636470538",
       "max": 200,
       "min": 50,
       "style": "IPY_MODEL_3936765d564547408f046aa42d21a02b",
       "value": 120
      }
     },
     "66afb7e85a864b51b86c90ab41477eea": {
      "model_module": "@jupyter-widgets/controls",
      "model_module_version": "2.0.0",
      "model_name": "ButtonModel",
      "state": {
       "description": "Calculate Head Loss",
       "layout": "IPY_MODEL_fab47dccbf2b47eebb89e1011da150f1",
       "style": "IPY_MODEL_bfc8915366e94b4b8bcb9486136a85dd",
       "tooltip": null
      }
     },
     "675efd9fdfe64c2fbadb46279ec5ca1c": {
      "model_module": "@jupyter-widgets/controls",
      "model_module_version": "2.0.0",
      "model_name": "FloatSliderModel",
      "state": {
       "behavior": "drag-tap",
       "description": "Pile Len (m)",
       "layout": "IPY_MODEL_73c227e65d884ba2be75592507c121c4",
       "max": 30,
       "min": 0.5,
       "step": 0.5,
       "style": "IPY_MODEL_b61e32953da3465eadcbc9ac00e2f04e",
       "value": 4.999999999999999
      }
     },
     "68a0ff82feba4dcfbacfffd4ae429ddd": {
      "model_module": "@jupyter-widgets/base",
      "model_module_version": "2.0.0",
      "model_name": "LayoutModel",
      "state": {}
     },
     "68e40751911841eb8f8ba4a725e4a0d7": {
      "model_module": "@jupyter-widgets/controls",
      "model_module_version": "2.0.0",
      "model_name": "HTMLStyleModel",
      "state": {
       "description_width": "",
       "font_size": null,
       "text_color": null
      }
     },
     "68e842476bd44fda994173f11d3783b0": {
      "model_module": "@jupyter-widgets/base",
      "model_module_version": "2.0.0",
      "model_name": "LayoutModel",
      "state": {}
     },
     "6b892ee22d9943108d0a8c63484d78f5": {
      "model_module": "@jupyter-widgets/controls",
      "model_module_version": "2.0.0",
      "model_name": "FloatTextModel",
      "state": {
       "description": "D1 (m)",
       "layout": "IPY_MODEL_09c00d35fbc143f1b5d2f7d5b66dc3b4",
       "step": 0.01,
       "style": "IPY_MODEL_a54d2554f3f84448aac0d015180ffc62",
       "value": 0.1
      }
     },
     "6ecaa28c13834566a093fd671e02ec0c": {
      "model_module": "@jupyter-widgets/controls",
      "model_module_version": "2.0.0",
      "model_name": "VBoxModel",
      "state": {
       "children": [
        "IPY_MODEL_9b61cd2dec3246d69736e7b77e25a5ed",
        "IPY_MODEL_eea28cda321843489d2c772a72ef8f3e",
        "IPY_MODEL_957823409f0847b282719347a8ec703c",
        "IPY_MODEL_5407401f17744dacb55996f8564fa6a4",
        "IPY_MODEL_d9ba42dfd75c4204a5319165c7fad6ba"
       ],
       "layout": "IPY_MODEL_8c0f5c0fe4b94d6cbdc8d7fbfd494a18"
      }
     },
     "6f55ca76f6f64345b6ef6c991dd4c815": {
      "model_module": "@jupyter-widgets/controls",
      "model_module_version": "2.0.0",
      "model_name": "SliderStyleModel",
      "state": {
       "description_width": ""
      }
     },
     "6fad3e1470a9440f9380d8cab4f1edc7": {
      "model_module": "@jupyter-widgets/base",
      "model_module_version": "2.0.0",
      "model_name": "LayoutModel",
      "state": {}
     },
     "70a3ad01e9fc4bd6acf57c832c3a3460": {
      "model_module": "@jupyter-widgets/controls",
      "model_module_version": "2.0.0",
      "model_name": "ButtonStyleModel",
      "state": {
       "font_family": null,
       "font_size": null,
       "font_style": null,
       "font_variant": null,
       "font_weight": null,
       "text_color": null,
       "text_decoration": null
      }
     },
     "70bbbab77af24c85958d9823ec564887": {
      "model_module": "@jupyter-widgets/controls",
      "model_module_version": "2.0.0",
      "model_name": "FloatSliderModel",
      "state": {
       "behavior": "drag-tap",
       "description": "Pile Len (m)",
       "layout": "IPY_MODEL_66522560f55f4ed09302659888b816af",
       "max": 30,
       "min": 0.5,
       "step": 0.5,
       "style": "IPY_MODEL_12a7a155d7d3494d8672fa817b4e7884",
       "value": 4.999999999999999
      }
     },
     "7203d9b574df4342a67f38ce68d90d4b": {
      "model_module": "@jupyter-widgets/controls",
      "model_module_version": "2.0.0",
      "model_name": "SliderStyleModel",
      "state": {
       "description_width": ""
      }
     },
     "729a9b45ca954785b153c9c89a284020": {
      "model_module": "@jupyter-widgets/controls",
      "model_module_version": "2.0.0",
      "model_name": "HBoxModel",
      "state": {
       "children": [
        "IPY_MODEL_acd06564d3c54afc9f23fa5a74e98f40",
        "IPY_MODEL_27743497d6c64acea588f05b0ab0f21e",
        "IPY_MODEL_657694c28ece4d4cb6c2d96757a7c7ea"
       ],
       "layout": "IPY_MODEL_0fde25b970464ab895f101d037afce3b"
      }
     },
     "7310f5c0ab784a5b837cb65e96c854de": {
      "model_module": "@jupyter-widgets/controls",
      "model_module_version": "2.0.0",
      "model_name": "DescriptionStyleModel",
      "state": {
       "description_width": ""
      }
     },
     "73c227e65d884ba2be75592507c121c4": {
      "model_module": "@jupyter-widgets/base",
      "model_module_version": "2.0.0",
      "model_name": "LayoutModel",
      "state": {}
     },
     "7443360b3dde42d68715fd8170c60a58": {
      "model_module": "@jupyter-widgets/base",
      "model_module_version": "2.0.0",
      "model_name": "LayoutModel",
      "state": {}
     },
     "7458ed8575d64cf0bfe14ea32c930944": {
      "model_module": "@jupyter-widgets/controls",
      "model_module_version": "2.0.0",
      "model_name": "DescriptionStyleModel",
      "state": {
       "description_width": ""
      }
     },
     "76432b1db28e428aa05007d964149178": {
      "model_module": "@jupyter-widgets/controls",
      "model_module_version": "2.0.0",
      "model_name": "DescriptionStyleModel",
      "state": {
       "description_width": ""
      }
     },
     "7869863b621b4bf09d444eb17992f08f": {
      "model_module": "@jupyter-widgets/base",
      "model_module_version": "2.0.0",
      "model_name": "LayoutModel",
      "state": {}
     },
     "7bc429f33378428b9c368008055079ea": {
      "model_module": "@jupyter-widgets/controls",
      "model_module_version": "2.0.0",
      "model_name": "DescriptionStyleModel",
      "state": {
       "description_width": ""
      }
     },
     "7d93b8aa8c5e4bf88e487940798dd285": {
      "model_module": "@jupyter-widgets/controls",
      "model_module_version": "2.0.0",
      "model_name": "DropdownModel",
      "state": {
       "_options_labels": [
        "+",
        "-"
       ],
       "description": "P3 Dir",
       "index": 0,
       "layout": "IPY_MODEL_a07ac6526aca4dff8057653765918586",
       "style": "IPY_MODEL_7458ed8575d64cf0bfe14ea32c930944"
      }
     },
     "7e5e605a1ee541d2831901f07956b7fc": {
      "model_module": "@jupyter-widgets/output",
      "model_module_version": "1.0.0",
      "model_name": "OutputModel",
      "state": {
       "layout": "IPY_MODEL_1a9e1d8ac2b4484d9da6548e85d99423"
      }
     },
     "7e7e3776deaa4b239687fde6a8d9712c": {
      "model_module": "@jupyter-widgets/controls",
      "model_module_version": "2.0.0",
      "model_name": "FloatSliderModel",
      "state": {
       "behavior": "drag-tap",
       "description": "Q (m³/s)",
       "layout": "IPY_MODEL_b30434ffd3264083bcfe9a9833f921d0",
       "max": 2,
       "min": 0.001,
       "step": 0.001,
       "style": "IPY_MODEL_027bc483c5c5426fae9ad69f16fa5c3a",
       "value": 0.049999999999999996
      }
     },
     "7e8ad6411d8f40af926905dda211aede": {
      "model_module": "@jupyter-widgets/controls",
      "model_module_version": "2.0.0",
      "model_name": "FloatSliderModel",
      "state": {
       "behavior": "drag-tap",
       "description": "Pile Dia (m)",
       "layout": "IPY_MODEL_fa9de0b1409148beb44f4c1580a01bd9",
       "max": 2,
       "min": 0.05,
       "step": 0.01,
       "style": "IPY_MODEL_d8c751aa1b9d4c4cbf5b3c915f7b2130",
       "value": 0.30000000000000004
      }
     },
     "7f3335be59934f90ab36c824d05382e8": {
      "model_module": "@jupyter-widgets/controls",
      "model_module_version": "2.0.0",
      "model_name": "DescriptionStyleModel",
      "state": {
       "description_width": ""
      }
     },
     "807b508210e04dcf9ae35104edf29a10": {
      "model_module": "@jupyter-widgets/base",
      "model_module_version": "2.0.0",
      "model_name": "LayoutModel",
      "state": {}
     },
     "80b53c8ad4744a4fb9498fe1a7905e2d": {
      "model_module": "@jupyter-widgets/controls",
      "model_module_version": "2.0.0",
      "model_name": "HTMLModel",
      "state": {
       "layout": "IPY_MODEL_c1107800b7aa41cb8f6cc5d74bd232bb",
       "style": "IPY_MODEL_25c82ca9cd724798a558fe8b8a099615",
       "value": "<h3>🔧 Head Loss Calculator for Flow Through Piles</h3>"
      }
     },
     "80b60922ca4c41198177e006272a51ba": {
      "model_module": "@jupyter-widgets/base",
      "model_module_version": "2.0.0",
      "model_name": "LayoutModel",
      "state": {}
     },
     "80e27ee81c7345a1b427eec527e6341b": {
      "model_module": "@jupyter-widgets/base",
      "model_module_version": "2.0.0",
      "model_name": "LayoutModel",
      "state": {}
     },
     "817a5a0c21614cba8533b166449126af": {
      "model_module": "@jupyter-widgets/base",
      "model_module_version": "2.0.0",
      "model_name": "LayoutModel",
      "state": {}
     },
     "82d94896414942e1b01ef79cbb4acf31": {
      "model_module": "@jupyter-widgets/controls",
      "model_module_version": "2.0.0",
      "model_name": "FloatTextModel",
      "state": {
       "description": "f13",
       "layout": "IPY_MODEL_a1cbf7c366bf4c41b2a37db56d61b326",
       "step": null,
       "style": "IPY_MODEL_53cc65732c5c4f8391e3cf62bb879a96",
       "value": 0.018
      }
     },
     "83bb2065294f45f893fdd3982953b011": {
      "model_module": "@jupyter-widgets/controls",
      "model_module_version": "2.0.0",
      "model_name": "HTMLModel",
      "state": {
       "layout": "IPY_MODEL_172e5646f92649fcb6a0fd28ecbf3987",
       "style": "IPY_MODEL_181bc0c62641440b81f021248cb10b22",
       "value": "<h3>🚰 Pipe Diameter Design Calculator</h3>"
      }
     },
     "843249428e2f4bf2a32fe793441c459d": {
      "model_module": "@jupyter-widgets/controls",
      "model_module_version": "2.0.0",
      "model_name": "HTMLStyleModel",
      "state": {
       "description_width": "",
       "font_size": null,
       "text_color": null
      }
     },
     "843766728e9b410bb4de60ccdd9899a9": {
      "model_module": "@jupyter-widgets/base",
      "model_module_version": "2.0.0",
      "model_name": "LayoutModel",
      "state": {}
     },
     "84882464c95c42e48288012f61c7031d": {
      "model_module": "@jupyter-widgets/controls",
      "model_module_version": "2.0.0",
      "model_name": "FloatTextModel",
      "state": {
       "description": "D2 (m)",
       "layout": "IPY_MODEL_48d4bb8a300246939beab2c41f3fd33e",
       "step": 0.01,
       "style": "IPY_MODEL_52aeb15593a74c0ab59cb8edcdaca090",
       "value": 0.1
      }
     },
     "85bc8637a7c14c4dbba7477250426ee1": {
      "model_module": "@jupyter-widgets/controls",
      "model_module_version": "2.0.0",
      "model_name": "HBoxModel",
      "state": {
       "children": [
        "IPY_MODEL_64136f9caa214021bd2c009a682052bc",
        "IPY_MODEL_84882464c95c42e48288012f61c7031d",
        "IPY_MODEL_88024c850bbd4ed69920465c29ef2818",
        "IPY_MODEL_faa1e22cdce146cfbc884f01e7a32b51"
       ],
       "layout": "IPY_MODEL_92c8efb2fccd4432baad339cce9a1f10"
      }
     },
     "872ebdfa521b4979821f24eb5d5c6049": {
      "model_module": "@jupyter-widgets/base",
      "model_module_version": "2.0.0",
      "model_name": "LayoutModel",
      "state": {}
     },
     "88024c850bbd4ed69920465c29ef2818": {
      "model_module": "@jupyter-widgets/controls",
      "model_module_version": "2.0.0",
      "model_name": "FloatTextModel",
      "state": {
       "description": "Q2 (m³/s)",
       "layout": "IPY_MODEL_60b6b5085bd14c39b1383db73504b7b3",
       "step": 0.001,
       "style": "IPY_MODEL_2cab88a9ff9e47d094e77206f4d03e9d",
       "value": 0.01
      }
     },
     "88eda385cf4a405dabef75107e7a9fec": {
      "model_module": "@jupyter-widgets/controls",
      "model_module_version": "2.0.0",
      "model_name": "FloatTextModel",
      "state": {
       "description": "L23 (m)",
       "layout": "IPY_MODEL_d418c2d8b3e34fe99426692230070847",
       "step": null,
       "style": "IPY_MODEL_ed54b760afd340c39eb014ca7870186b",
       "value": 400
      }
     },
     "895bb45050074c31af5d13cabd53f0ce": {
      "model_module": "@jupyter-widgets/controls",
      "model_module_version": "2.0.0",
      "model_name": "FloatTextModel",
      "state": {
       "description": "P2 K",
       "layout": "IPY_MODEL_68e842476bd44fda994173f11d3783b0",
       "step": 0.1,
       "style": "IPY_MODEL_7f3335be59934f90ab36c824d05382e8",
       "value": 1
      }
     },
     "898da6dfeb744b519482fe8aa2fbc68e": {
      "model_module": "@jupyter-widgets/controls",
      "model_module_version": "2.0.0",
      "model_name": "HTMLStyleModel",
      "state": {
       "description_width": "",
       "font_size": null,
       "text_color": null
      }
     },
     "89f70ed6d3684b359df7eb01a203b045": {
      "model_module": "@jupyter-widgets/base",
      "model_module_version": "2.0.0",
      "model_name": "LayoutModel",
      "state": {}
     },
     "89fcdea6fdda4819b7446e7b465b1863": {
      "model_module": "@jupyter-widgets/base",
      "model_module_version": "2.0.0",
      "model_name": "LayoutModel",
      "state": {}
     },
     "8c0f5c0fe4b94d6cbdc8d7fbfd494a18": {
      "model_module": "@jupyter-widgets/base",
      "model_module_version": "2.0.0",
      "model_name": "LayoutModel",
      "state": {}
     },
     "8c4699001da84d788ec6f6a1039d6544": {
      "model_module": "@jupyter-widgets/base",
      "model_module_version": "2.0.0",
      "model_name": "LayoutModel",
      "state": {}
     },
     "92c8efb2fccd4432baad339cce9a1f10": {
      "model_module": "@jupyter-widgets/base",
      "model_module_version": "2.0.0",
      "model_name": "LayoutModel",
      "state": {}
     },
     "9405e2be760c47fd959b91f9b3c442ad": {
      "model_module": "@jupyter-widgets/controls",
      "model_module_version": "2.0.0",
      "model_name": "DescriptionStyleModel",
      "state": {
       "description_width": ""
      }
     },
     "9517b5b1d4e444b3becae98583d15bc4": {
      "model_module": "@jupyter-widgets/base",
      "model_module_version": "2.0.0",
      "model_name": "LayoutModel",
      "state": {}
     },
     "957823409f0847b282719347a8ec703c": {
      "model_module": "@jupyter-widgets/controls",
      "model_module_version": "2.0.0",
      "model_name": "VBoxModel",
      "state": {
       "children": [
        "IPY_MODEL_2f6900b9de3d49c7ad397372f67666b8",
        "IPY_MODEL_85bc8637a7c14c4dbba7477250426ee1",
        "IPY_MODEL_c3335ac0ef38494b8a177fe2580e3a5b"
       ],
       "layout": "IPY_MODEL_f93f2d3113b34042a4964e850be3ed8d"
      }
     },
     "95dd4e463b844c34b787779dfa0f4081": {
      "model_module": "@jupyter-widgets/controls",
      "model_module_version": "2.0.0",
      "model_name": "FloatSliderModel",
      "state": {
       "behavior": "drag-tap",
       "description": "Length (m)",
       "layout": "IPY_MODEL_4e2798b7f5284a3c9818342c2f2f5d9d",
       "max": 200,
       "min": 1,
       "style": "IPY_MODEL_fad964bfaea147a3a9914c622303cc78",
       "value": 29.999999999999996
      }
     },
     "970ae0a4fc404bcca12d9231cba0a92c": {
      "model_module": "@jupyter-widgets/controls",
      "model_module_version": "2.0.0",
      "model_name": "SliderStyleModel",
      "state": {
       "description_width": ""
      }
     },
     "971662328aa74f0e9802622ba019602d": {
      "model_module": "@jupyter-widgets/controls",
      "model_module_version": "2.0.0",
      "model_name": "HTMLStyleModel",
      "state": {
       "description_width": "",
       "font_size": null,
       "text_color": null
      }
     },
     "98208d2dc2284e49895e19d122e9f704": {
      "model_module": "@jupyter-widgets/output",
      "model_module_version": "1.0.0",
      "model_name": "OutputModel",
      "state": {
       "layout": "IPY_MODEL_2937af4a072048ceb290c4d1bfc00eff"
      }
     },
     "99b03221228741d4aa680d94ef14a272": {
      "model_module": "@jupyter-widgets/base",
      "model_module_version": "2.0.0",
      "model_name": "LayoutModel",
      "state": {}
     },
     "9a4f3cb3a9e346ab967037d6863acf71": {
      "model_module": "@jupyter-widgets/base",
      "model_module_version": "2.0.0",
      "model_name": "LayoutModel",
      "state": {}
     },
     "9b61cd2dec3246d69736e7b77e25a5ed": {
      "model_module": "@jupyter-widgets/controls",
      "model_module_version": "2.0.0",
      "model_name": "HTMLModel",
      "state": {
       "layout": "IPY_MODEL_a1b1f64a34b74c37b31fd6684110ac8d",
       "style": "IPY_MODEL_0275c612079141d4a25722b61cdf1ad5",
       "value": "<h3>🌊 Compound Pipe Head Loss – Interactive Calculator</h3>"
      }
     },
     "9bb401582e634459879cf4cdcb4cc133": {
      "model_module": "@jupyter-widgets/controls",
      "model_module_version": "2.0.0",
      "model_name": "FloatTextModel",
      "state": {
       "description": "P1 K",
       "layout": "IPY_MODEL_6389b2a0f9f1465480686069a9b78e36",
       "step": 0.1,
       "style": "IPY_MODEL_c11726c99aad4afcad9229b998d1b98a",
       "value": 1
      }
     },
     "9bf7dea7e6c74586b301ac2592d09bc8": {
      "model_module": "@jupyter-widgets/controls",
      "model_module_version": "2.0.0",
      "model_name": "FloatTextModel",
      "state": {
       "description": "D3 (m)",
       "layout": "IPY_MODEL_99b03221228741d4aa680d94ef14a272",
       "step": 0.01,
       "style": "IPY_MODEL_7310f5c0ab784a5b837cb65e96c854de",
       "value": 0.1
      }
     },
     "9cae2f5832c243b889c1607a240ea7a2": {
      "model_module": "@jupyter-widgets/base",
      "model_module_version": "2.0.0",
      "model_name": "LayoutModel",
      "state": {}
     },
     "9d3d30febdb946ebb9d883fecc2311e4": {
      "model_module": "@jupyter-widgets/controls",
      "model_module_version": "2.0.0",
      "model_name": "FloatTextModel",
      "state": {
       "description": "L13 (m)",
       "layout": "IPY_MODEL_80b60922ca4c41198177e006272a51ba",
       "step": null,
       "style": "IPY_MODEL_a6ad60f3e22840d7ae89387778401120",
       "value": 600
      }
     },
     "9e3ac0b669b642c48602fe4f885f5c31": {
      "model_module": "@jupyter-widgets/controls",
      "model_module_version": "2.0.0",
      "model_name": "HTMLStyleModel",
      "state": {
       "description_width": "",
       "font_size": null,
       "text_color": null
      }
     },
     "9e3e83b1e794463bb1b264dfa8fd9710": {
      "model_module": "@jupyter-widgets/controls",
      "model_module_version": "2.0.0",
      "model_name": "FloatSliderModel",
      "state": {
       "behavior": "drag-tap",
       "description": "Pile Dia (m)",
       "layout": "IPY_MODEL_0bac8d76122b4b6fb9a4f9af5b690a61",
       "max": 2,
       "min": 0.05,
       "step": 0.01,
       "style": "IPY_MODEL_c8cbe4ff03474e23905167b20413d87a",
       "value": 0.30000000000000004
      }
     },
     "9fdb33f4be8642d1827ee9b92448f54c": {
      "model_module": "@jupyter-widgets/controls",
      "model_module_version": "2.0.0",
      "model_name": "FloatSliderModel",
      "state": {
       "behavior": "drag-tap",
       "description": "Head Loss (m)",
       "layout": "IPY_MODEL_5c35de913ea54276a3c8b00bfb00670e",
       "max": 30,
       "min": 0.1,
       "step": 0.1,
       "style": "IPY_MODEL_da19a7c077bd4871bae2de88cc32bbb2",
       "value": 5
      }
     },
     "a0683d80cd4748de8eb583c82f3599f4": {
      "model_module": "@jupyter-widgets/controls",
      "model_module_version": "2.0.0",
      "model_name": "FloatSliderModel",
      "state": {
       "behavior": "drag-tap",
       "description": "Flow Q (m³/s)",
       "layout": "IPY_MODEL_b007bc672ce24d40b6a2d3bbc75f226a",
       "max": 2,
       "min": 0.001,
       "step": 0.01,
       "style": "IPY_MODEL_e1152031f34949f3b21eb65c4598ce76",
       "value": 0.7309999999999999
      }
     },
     "a07ac6526aca4dff8057653765918586": {
      "model_module": "@jupyter-widgets/base",
      "model_module_version": "2.0.0",
      "model_name": "LayoutModel",
      "state": {}
     },
     "a1b1f64a34b74c37b31fd6684110ac8d": {
      "model_module": "@jupyter-widgets/base",
      "model_module_version": "2.0.0",
      "model_name": "LayoutModel",
      "state": {}
     },
     "a1cbf7c366bf4c41b2a37db56d61b326": {
      "model_module": "@jupyter-widgets/base",
      "model_module_version": "2.0.0",
      "model_name": "LayoutModel",
      "state": {}
     },
     "a27a3ffcfbfb40f1bb39910be0c3f8c3": {
      "model_module": "@jupyter-widgets/base",
      "model_module_version": "2.0.0",
      "model_name": "LayoutModel",
      "state": {}
     },
     "a47748d653bc4d298d70ae47c38035d5": {
      "model_module": "@jupyter-widgets/base",
      "model_module_version": "2.0.0",
      "model_name": "LayoutModel",
      "state": {}
     },
     "a4c17f9312ac4565887ff392f6ef0c20": {
      "model_module": "@jupyter-widgets/controls",
      "model_module_version": "2.0.0",
      "model_name": "FloatSliderModel",
      "state": {
       "behavior": "drag-tap",
       "description": "Q (m³/s)",
       "layout": "IPY_MODEL_0bcc6296390c457fb5f7f374cd3f7f05",
       "max": 2,
       "min": 0.001,
       "step": 0.001,
       "style": "IPY_MODEL_7203d9b574df4342a67f38ce68d90d4b",
       "value": 0.049999999999999996
      }
     },
     "a54d2554f3f84448aac0d015180ffc62": {
      "model_module": "@jupyter-widgets/controls",
      "model_module_version": "2.0.0",
      "model_name": "DescriptionStyleModel",
      "state": {
       "description_width": ""
      }
     },
     "a6ad60f3e22840d7ae89387778401120": {
      "model_module": "@jupyter-widgets/controls",
      "model_module_version": "2.0.0",
      "model_name": "DescriptionStyleModel",
      "state": {
       "description_width": ""
      }
     },
     "a8524f06fbed445fa8b888f522748235": {
      "model_module": "@jupyter-widgets/controls",
      "model_module_version": "2.0.0",
      "model_name": "ButtonModel",
      "state": {
       "description": "Calculate Diameter",
       "layout": "IPY_MODEL_872ebdfa521b4979821f24eb5d5c6049",
       "style": "IPY_MODEL_09cb909a73b44defbb97fe2a6be74c06",
       "tooltip": null
      }
     },
     "a8d2fa03f8164d0783420ce4639fe329": {
      "model_module": "@jupyter-widgets/base",
      "model_module_version": "2.0.0",
      "model_name": "LayoutModel",
      "state": {}
     },
     "aa41b19576c94b5fbe4e72de82078cbf": {
      "model_module": "@jupyter-widgets/base",
      "model_module_version": "2.0.0",
      "model_name": "LayoutModel",
      "state": {}
     },
     "ab5a16256e8f4d628d9e10d5d8b93c55": {
      "model_module": "@jupyter-widgets/controls",
      "model_module_version": "2.0.0",
      "model_name": "SliderStyleModel",
      "state": {
       "description_width": ""
      }
     },
     "abf31f1b93b14e5595cece3ffdcdbf5e": {
      "model_module": "@jupyter-widgets/controls",
      "model_module_version": "2.0.0",
      "model_name": "HBoxModel",
      "state": {
       "children": [
        "IPY_MODEL_6681ae9468b848ebac0ab770d41b837a",
        "IPY_MODEL_d929bbffa30b414fa4e156865b83094c",
        "IPY_MODEL_cc1e8f0d2bd24e79af27c08bbe369e8e"
       ],
       "layout": "IPY_MODEL_80e27ee81c7345a1b427eec527e6341b"
      }
     },
     "ac35e09aca3a4b40bb8256faad7f61c6": {
      "model_module": "@jupyter-widgets/base",
      "model_module_version": "2.0.0",
      "model_name": "LayoutModel",
      "state": {}
     },
     "acd06564d3c54afc9f23fa5a74e98f40": {
      "model_module": "@jupyter-widgets/controls",
      "model_module_version": "2.0.0",
      "model_name": "FloatTextModel",
      "state": {
       "description": "L12 (m)",
       "layout": "IPY_MODEL_c594fc86ddba40b08cbad660675bd691",
       "step": null,
       "style": "IPY_MODEL_d94804fa93024c4bab7ff3d4eaa1562c",
       "value": 500
      }
     },
     "ad437f87e0ce49a7b06a66a5e58f09fa": {
      "model_module": "@jupyter-widgets/controls",
      "model_module_version": "2.0.0",
      "model_name": "FloatTextModel",
      "state": {
       "description": "P4 Q (m³/s)",
       "layout": "IPY_MODEL_843766728e9b410bb4de60ccdd9899a9",
       "step": 0.1,
       "style": "IPY_MODEL_48dc5a4bc163457296b7e90e3bcb5908",
       "value": 10
      }
     },
     "b007bc672ce24d40b6a2d3bbc75f226a": {
      "model_module": "@jupyter-widgets/base",
      "model_module_version": "2.0.0",
      "model_name": "LayoutModel",
      "state": {}
     },
     "b04d075319d1433097a3e891a98538b2": {
      "model_module": "@jupyter-widgets/controls",
      "model_module_version": "2.0.0",
      "model_name": "VBoxModel",
      "state": {
       "children": [
        "IPY_MODEL_2ca1b23b3167461295bffaaeeae415f9",
        "IPY_MODEL_4eeabb18bde14b0989f2e7bf0dc72435",
        "IPY_MODEL_33f94680ed8147588fce53e27176ed53",
        "IPY_MODEL_305f8270403f485eab37b9600ccc0c96"
       ],
       "layout": "IPY_MODEL_aa41b19576c94b5fbe4e72de82078cbf"
      }
     },
     "b23f1d623e114dcb9826fe4398c2a010": {
      "model_module": "@jupyter-widgets/controls",
      "model_module_version": "2.0.0",
      "model_name": "DescriptionStyleModel",
      "state": {
       "description_width": ""
      }
     },
     "b279d7174f1e43019502cb1af7ef3958": {
      "model_module": "@jupyter-widgets/controls",
      "model_module_version": "2.0.0",
      "model_name": "HTMLModel",
      "state": {
       "layout": "IPY_MODEL_817a5a0c21614cba8533b166449126af",
       "style": "IPY_MODEL_68e40751911841eb8f8ba4a725e4a0d7",
       "value": "<h3>🚰 Hardy Cross Loop Flow Balancer – Interactive</h3>"
      }
     },
     "b30434ffd3264083bcfe9a9833f921d0": {
      "model_module": "@jupyter-widgets/base",
      "model_module_version": "2.0.0",
      "model_name": "LayoutModel",
      "state": {}
     },
     "b3ca623a5b8b48a0ae2b7bfa4eb39a9b": {
      "model_module": "@jupyter-widgets/controls",
      "model_module_version": "2.0.0",
      "model_name": "ButtonModel",
      "state": {
       "description": "Calculate Flows",
       "layout": "IPY_MODEL_ce98e59e77484329b0943f27ce71a8f4",
       "style": "IPY_MODEL_3acd6991ba604e87a64640317d9c87e0",
       "tooltip": null
      }
     },
     "b40bf101536f43d5b68d669b83c298d8": {
      "model_module": "@jupyter-widgets/base",
      "model_module_version": "2.0.0",
      "model_name": "LayoutModel",
      "state": {}
     },
     "b454aa9f1b4545819660c38c77268d2a": {
      "model_module": "@jupyter-widgets/controls",
      "model_module_version": "2.0.0",
      "model_name": "DescriptionStyleModel",
      "state": {
       "description_width": ""
      }
     },
     "b506a14554904b98a4038b2a4b0432dd": {
      "model_module": "@jupyter-widgets/controls",
      "model_module_version": "2.0.0",
      "model_name": "VBoxModel",
      "state": {
       "children": [
        "IPY_MODEL_80b53c8ad4744a4fb9498fe1a7905e2d",
        "IPY_MODEL_a0683d80cd4748de8eb583c82f3599f4",
        "IPY_MODEL_9e3e83b1e794463bb1b264dfa8fd9710",
        "IPY_MODEL_70bbbab77af24c85958d9823ec564887",
        "IPY_MODEL_de8c31d6788e459e9a33584a9ce5ca93",
        "IPY_MODEL_c40bc0afc75743da88848158cd8691bb",
        "IPY_MODEL_66afb7e85a864b51b86c90ab41477eea",
        "IPY_MODEL_409345a597714e7a84e8ebf150901fb3"
       ],
       "layout": "IPY_MODEL_9a4f3cb3a9e346ab967037d6863acf71"
      }
     },
     "b61e32953da3465eadcbc9ac00e2f04e": {
      "model_module": "@jupyter-widgets/controls",
      "model_module_version": "2.0.0",
      "model_name": "SliderStyleModel",
      "state": {
       "description_width": ""
      }
     },
     "bada60695a4049c7bff4a78d74641c85": {
      "model_module": "@jupyter-widgets/controls",
      "model_module_version": "2.0.0",
      "model_name": "FloatTextModel",
      "state": {
       "description": "L3 (m)",
       "layout": "IPY_MODEL_5fb3065a2b164a3caacbd7013a85f00d",
       "step": 1,
       "style": "IPY_MODEL_00315d8f65854e508d952cf26f9b09bb",
       "value": 50
      }
     },
     "bb532bda5bbe4424b56f658ca9cc407a": {
      "model_module": "@jupyter-widgets/controls",
      "model_module_version": "2.0.0",
      "model_name": "IntSliderModel",
      "state": {
       "behavior": "drag-tap",
       "description": "No. of Piles",
       "layout": "IPY_MODEL_632a84f1761e49358aa689c174c11c14",
       "min": 1,
       "style": "IPY_MODEL_6f55ca76f6f64345b6ef6c991dd4c815",
       "value": 4
      }
     },
     "be1a600c04784d2ea56c545d7eb9d080": {
      "model_module": "@jupyter-widgets/controls",
      "model_module_version": "2.0.0",
      "model_name": "HTMLModel",
      "state": {
       "layout": "IPY_MODEL_7869863b621b4bf09d444eb17992f08f",
       "style": "IPY_MODEL_898da6dfeb744b519482fe8aa2fbc68e",
       "value": "<h3>🔧 Head Loss Calculator for Flow Through Piles</h3>"
      }
     },
     "bfc8915366e94b4b8bcb9486136a85dd": {
      "model_module": "@jupyter-widgets/controls",
      "model_module_version": "2.0.0",
      "model_name": "ButtonStyleModel",
      "state": {
       "font_family": null,
       "font_size": null,
       "font_style": null,
       "font_variant": null,
       "font_weight": null,
       "text_color": null,
       "text_decoration": null
      }
     },
     "c1107800b7aa41cb8f6cc5d74bd232bb": {
      "model_module": "@jupyter-widgets/base",
      "model_module_version": "2.0.0",
      "model_name": "LayoutModel",
      "state": {}
     },
     "c11726c99aad4afcad9229b998d1b98a": {
      "model_module": "@jupyter-widgets/controls",
      "model_module_version": "2.0.0",
      "model_name": "DescriptionStyleModel",
      "state": {
       "description_width": ""
      }
     },
     "c26dfa6800454adea4f97ed6e24d95d3": {
      "model_module": "@jupyter-widgets/base",
      "model_module_version": "2.0.0",
      "model_name": "LayoutModel",
      "state": {}
     },
     "c2dfa7e7cead4b11b11fc72defee3883": {
      "model_module": "@jupyter-widgets/controls",
      "model_module_version": "2.0.0",
      "model_name": "ButtonModel",
      "state": {
       "description": "Calculate Diameter",
       "layout": "IPY_MODEL_36cf0eac8eaf4a70a293cfc22a7e2a35",
       "style": "IPY_MODEL_70a3ad01e9fc4bd6acf57c832c3a3460",
       "tooltip": null
      }
     },
     "c3335ac0ef38494b8a177fe2580e3a5b": {
      "model_module": "@jupyter-widgets/controls",
      "model_module_version": "2.0.0",
      "model_name": "HBoxModel",
      "state": {
       "children": [
        "IPY_MODEL_bada60695a4049c7bff4a78d74641c85",
        "IPY_MODEL_9bf7dea7e6c74586b301ac2592d09bc8",
        "IPY_MODEL_526d6c054e3f41018e178f418f529d20",
        "IPY_MODEL_f39d060e489c4e1abb857f36c070309f"
       ],
       "layout": "IPY_MODEL_d17b6774f325431197e15f8591f31456"
      }
     },
     "c3926a97d29e4adf992041bac8ac1edb": {
      "model_module": "@jupyter-widgets/controls",
      "model_module_version": "2.0.0",
      "model_name": "DescriptionStyleModel",
      "state": {
       "description_width": ""
      }
     },
     "c40bc0afc75743da88848158cd8691bb": {
      "model_module": "@jupyter-widgets/controls",
      "model_module_version": "2.0.0",
      "model_name": "FloatSliderModel",
      "state": {
       "behavior": "drag-tap",
       "description": "Friction f",
       "layout": "IPY_MODEL_0971fe0dc9c8407a891c68563af113b0",
       "max": 0.1,
       "min": 0.005,
       "step": 0.001,
       "style": "IPY_MODEL_1e02ed20123b4f57b21bbe6a225aa4c1",
       "value": 0.02
      }
     },
     "c4d12268a0314a9b95405bf8d07964f2": {
      "model_module": "@jupyter-widgets/controls",
      "model_module_version": "2.0.0",
      "model_name": "DescriptionStyleModel",
      "state": {
       "description_width": ""
      }
     },
     "c594fc86ddba40b08cbad660675bd691": {
      "model_module": "@jupyter-widgets/base",
      "model_module_version": "2.0.0",
      "model_name": "LayoutModel",
      "state": {}
     },
     "c59d7b2ac8694bffa6ae644d0dbf4165": {
      "model_module": "@jupyter-widgets/base",
      "model_module_version": "2.0.0",
      "model_name": "LayoutModel",
      "state": {}
     },
     "c687fee877194c4782933f3d731c7a17": {
      "model_module": "@jupyter-widgets/controls",
      "model_module_version": "2.0.0",
      "model_name": "HTMLModel",
      "state": {
       "layout": "IPY_MODEL_4539e4217e6c4b999fb629a396ece4e6",
       "style": "IPY_MODEL_141cedd4d00040c88c2f92526744a086",
       "value": "<b>Pipe AB</b>"
      }
     },
     "c86083fdc85c4f6b8403e9700f2eb988": {
      "model_module": "@jupyter-widgets/controls",
      "model_module_version": "2.0.0",
      "model_name": "FloatTextModel",
      "state": {
       "description": "f23",
       "layout": "IPY_MODEL_a27a3ffcfbfb40f1bb39910be0c3f8c3",
       "step": null,
       "style": "IPY_MODEL_b23f1d623e114dcb9826fe4398c2a010",
       "value": 0.025
      }
     },
     "c8cbe4ff03474e23905167b20413d87a": {
      "model_module": "@jupyter-widgets/controls",
      "model_module_version": "2.0.0",
      "model_name": "SliderStyleModel",
      "state": {
       "description_width": ""
      }
     },
     "c9dca20beab04f1c9b589ef594b190a1": {
      "model_module": "@jupyter-widgets/base",
      "model_module_version": "2.0.0",
      "model_name": "LayoutModel",
      "state": {}
     },
     "ca8e11a5c785401ca18dccf12bdd46a9": {
      "model_module": "@jupyter-widgets/controls",
      "model_module_version": "2.0.0",
      "model_name": "HTMLStyleModel",
      "state": {
       "description_width": "",
       "font_size": null,
       "text_color": null
      }
     },
     "cbce10a524d643f4a1ef27394d41ee22": {
      "model_module": "@jupyter-widgets/base",
      "model_module_version": "2.0.0",
      "model_name": "LayoutModel",
      "state": {}
     },
     "cc1e8f0d2bd24e79af27c08bbe369e8e": {
      "model_module": "@jupyter-widgets/controls",
      "model_module_version": "2.0.0",
      "model_name": "FloatSliderModel",
      "state": {
       "behavior": "drag-tap",
       "description": "Reservoir C",
       "layout": "IPY_MODEL_d33d4341e092474a86a6a0f217fbfe10",
       "max": 200,
       "min": 50,
       "style": "IPY_MODEL_970ae0a4fc404bcca12d9231cba0a92c",
       "value": 60
      }
     },
     "cc9c8826acf14b11ad9cab3d3d318c28": {
      "model_module": "@jupyter-widgets/controls",
      "model_module_version": "2.0.0",
      "model_name": "VBoxModel",
      "state": {
       "children": [
        "IPY_MODEL_be1a600c04784d2ea56c545d7eb9d080",
        "IPY_MODEL_17923c0e25c54dd19569f63f3686dbc3",
        "IPY_MODEL_7e8ad6411d8f40af926905dda211aede",
        "IPY_MODEL_675efd9fdfe64c2fbadb46279ec5ca1c",
        "IPY_MODEL_bb532bda5bbe4424b56f658ca9cc407a",
        "IPY_MODEL_231cb14ed07744d9b1fb603cf2e08b54",
        "IPY_MODEL_de98df8ea21e4b7eaa87ea6636f97403",
        "IPY_MODEL_0a0d58a80c6d4ccf8a47e849bc650da8"
       ],
       "layout": "IPY_MODEL_9cae2f5832c243b889c1607a240ea7a2"
      }
     },
     "ccfc2d2c04574344a548bbfd162ac06f": {
      "model_module": "@jupyter-widgets/controls",
      "model_module_version": "2.0.0",
      "model_name": "FloatTextModel",
      "state": {
       "description": "P4 K",
       "layout": "IPY_MODEL_41a89e671fea44d78ed42426d641202b",
       "step": 0.1,
       "style": "IPY_MODEL_9405e2be760c47fd959b91f9b3c442ad",
       "value": 1
      }
     },
     "ce98e59e77484329b0943f27ce71a8f4": {
      "model_module": "@jupyter-widgets/base",
      "model_module_version": "2.0.0",
      "model_name": "LayoutModel",
      "state": {}
     },
     "cef3d98af3ef46d99cdea4821855f9b1": {
      "model_module": "@jupyter-widgets/controls",
      "model_module_version": "2.0.0",
      "model_name": "FloatSliderModel",
      "state": {
       "behavior": "drag-tap",
       "description": "Head Loss (m)",
       "layout": "IPY_MODEL_cbce10a524d643f4a1ef27394d41ee22",
       "max": 30,
       "min": 0.1,
       "step": 0.1,
       "style": "IPY_MODEL_4bdaf9cb24dc47ae997fd3ab4c611068",
       "value": 5
      }
     },
     "cf1391e98d1c4685b22317ad0b21f427": {
      "model_module": "@jupyter-widgets/base",
      "model_module_version": "2.0.0",
      "model_name": "LayoutModel",
      "state": {}
     },
     "d0ff1e0d7e5f4d5e89edd7df1cf187d5": {
      "model_module": "@jupyter-widgets/controls",
      "model_module_version": "2.0.0",
      "model_name": "DescriptionStyleModel",
      "state": {
       "description_width": ""
      }
     },
     "d12094cee6fe4b27a977b20e7d8db300": {
      "model_module": "@jupyter-widgets/controls",
      "model_module_version": "2.0.0",
      "model_name": "FloatSliderModel",
      "state": {
       "behavior": "drag-tap",
       "description": "Length (m)",
       "layout": "IPY_MODEL_48295d41dabf4bc0865b8f6f118cc3a6",
       "max": 200,
       "min": 1,
       "style": "IPY_MODEL_ab5a16256e8f4d628d9e10d5d8b93c55",
       "value": 29.999999999999996
      }
     },
     "d17b6774f325431197e15f8591f31456": {
      "model_module": "@jupyter-widgets/base",
      "model_module_version": "2.0.0",
      "model_name": "LayoutModel",
      "state": {}
     },
     "d33d4341e092474a86a6a0f217fbfe10": {
      "model_module": "@jupyter-widgets/base",
      "model_module_version": "2.0.0",
      "model_name": "LayoutModel",
      "state": {}
     },
     "d3fc89a901204d918fba26901a5c8153": {
      "model_module": "@jupyter-widgets/output",
      "model_module_version": "1.0.0",
      "model_name": "OutputModel",
      "state": {
       "layout": "IPY_MODEL_637ed00afcfd447989d32ad3f78ce95a"
      }
     },
     "d418c2d8b3e34fe99426692230070847": {
      "model_module": "@jupyter-widgets/base",
      "model_module_version": "2.0.0",
      "model_name": "LayoutModel",
      "state": {}
     },
     "d86a0ef678f7404cb0d1edffb16f3594": {
      "model_module": "@jupyter-widgets/base",
      "model_module_version": "2.0.0",
      "model_name": "LayoutModel",
      "state": {}
     },
     "d8c751aa1b9d4c4cbf5b3c915f7b2130": {
      "model_module": "@jupyter-widgets/controls",
      "model_module_version": "2.0.0",
      "model_name": "SliderStyleModel",
      "state": {
       "description_width": ""
      }
     },
     "d929bbffa30b414fa4e156865b83094c": {
      "model_module": "@jupyter-widgets/controls",
      "model_module_version": "2.0.0",
      "model_name": "FloatSliderModel",
      "state": {
       "behavior": "drag-tap",
       "description": "Reservoir B",
       "layout": "IPY_MODEL_105ad48d761946df85bd5f93200daf59",
       "max": 200,
       "min": 50,
       "style": "IPY_MODEL_012a44740023490ab5bca87fdc0ce0af",
       "value": 90
      }
     },
     "d94804fa93024c4bab7ff3d4eaa1562c": {
      "model_module": "@jupyter-widgets/controls",
      "model_module_version": "2.0.0",
      "model_name": "DescriptionStyleModel",
      "state": {
       "description_width": ""
      }
     },
     "d9ba42dfd75c4204a5319165c7fad6ba": {
      "model_module": "@jupyter-widgets/output",
      "model_module_version": "1.0.0",
      "model_name": "OutputModel",
      "state": {
       "layout": "IPY_MODEL_8c4699001da84d788ec6f6a1039d6544"
      }
     },
     "da19a7c077bd4871bae2de88cc32bbb2": {
      "model_module": "@jupyter-widgets/controls",
      "model_module_version": "2.0.0",
      "model_name": "SliderStyleModel",
      "state": {
       "description_width": ""
      }
     },
     "da203b77d8ba446785ea8ed73fbff718": {
      "model_module": "@jupyter-widgets/controls",
      "model_module_version": "2.0.0",
      "model_name": "DropdownModel",
      "state": {
       "_options_labels": [
        "+",
        "-"
       ],
       "description": "P2 Dir",
       "index": 0,
       "layout": "IPY_MODEL_14ec465fe34b4f1895f022a73af867f2",
       "style": "IPY_MODEL_76432b1db28e428aa05007d964149178"
      }
     },
     "db99e63474ba430cadd72d5b4bff7a3b": {
      "model_module": "@jupyter-widgets/controls",
      "model_module_version": "2.0.0",
      "model_name": "VBoxModel",
      "state": {
       "children": [
        "IPY_MODEL_83bb2065294f45f893fdd3982953b011",
        "IPY_MODEL_7e7e3776deaa4b239687fde6a8d9712c",
        "IPY_MODEL_d12094cee6fe4b27a977b20e7d8db300",
        "IPY_MODEL_cef3d98af3ef46d99cdea4821855f9b1",
        "IPY_MODEL_f31a8f8034714d75a8630d5c645ecfd8",
        "IPY_MODEL_c2dfa7e7cead4b11b11fc72defee3883",
        "IPY_MODEL_7e5e605a1ee541d2831901f07956b7fc"
       ],
       "layout": "IPY_MODEL_89f70ed6d3684b359df7eb01a203b045"
      }
     },
     "dc3997f6fc9f4b018996278b67c15431": {
      "model_module": "@jupyter-widgets/controls",
      "model_module_version": "2.0.0",
      "model_name": "SliderStyleModel",
      "state": {
       "description_width": ""
      }
     },
     "de8c31d6788e459e9a33584a9ce5ca93": {
      "model_module": "@jupyter-widgets/controls",
      "model_module_version": "2.0.0",
      "model_name": "IntSliderModel",
      "state": {
       "behavior": "drag-tap",
       "description": "No. of Piles",
       "layout": "IPY_MODEL_63d297bb8b5d4cb2adb3facc017aa19f",
       "min": 1,
       "style": "IPY_MODEL_01b6f7a88b4c4a269658ded0aab304fa",
       "value": 4
      }
     },
     "de98df8ea21e4b7eaa87ea6636f97403": {
      "model_module": "@jupyter-widgets/controls",
      "model_module_version": "2.0.0",
      "model_name": "ButtonModel",
      "state": {
       "description": "Calculate Head Loss",
       "layout": "IPY_MODEL_9517b5b1d4e444b3becae98583d15bc4",
       "style": "IPY_MODEL_3571bac7946f4dd1b7661ede0aa97cba",
       "tooltip": null
      }
     },
     "df748ff93ba048e3af886888bdbac9bd": {
      "model_module": "@jupyter-widgets/base",
      "model_module_version": "2.0.0",
      "model_name": "LayoutModel",
      "state": {}
     },
     "dfad51006bcf44b395ffc551977254a1": {
      "model_module": "@jupyter-widgets/base",
      "model_module_version": "2.0.0",
      "model_name": "LayoutModel",
      "state": {}
     },
     "dfb35fe5a4974d8e80522e73dbe89cf1": {
      "model_module": "@jupyter-widgets/controls",
      "model_module_version": "2.0.0",
      "model_name": "DropdownModel",
      "state": {
       "_options_labels": [
        "+",
        "-"
       ],
       "description": "P1 Dir",
       "index": 0,
       "layout": "IPY_MODEL_09f25d03b4a0489bbbea8259402ac2d2",
       "style": "IPY_MODEL_35cb3f7736d9453597226c4090a9c633"
      }
     },
     "e0c086e40c6e4928bf50d0ab096f6e1e": {
      "model_module": "@jupyter-widgets/controls",
      "model_module_version": "2.0.0",
      "model_name": "FloatTextModel",
      "state": {
       "description": "D23 (m)",
       "layout": "IPY_MODEL_01c26ba767594445b1bd3ca3505df510",
       "step": null,
       "style": "IPY_MODEL_b454aa9f1b4545819660c38c77268d2a",
       "value": 0.25
      }
     },
     "e1152031f34949f3b21eb65c4598ce76": {
      "model_module": "@jupyter-widgets/controls",
      "model_module_version": "2.0.0",
      "model_name": "SliderStyleModel",
      "state": {
       "description_width": ""
      }
     },
     "e1cc770ae5aa44cabc9ccb317554304c": {
      "model_module": "@jupyter-widgets/controls",
      "model_module_version": "2.0.0",
      "model_name": "SliderStyleModel",
      "state": {
       "description_width": ""
      }
     },
     "e23eb419c20e455fa110da1165dea3da": {
      "model_module": "@jupyter-widgets/base",
      "model_module_version": "2.0.0",
      "model_name": "LayoutModel",
      "state": {}
     },
     "e3aa1a1d677b479ab1c22b7eb3f9293b": {
      "model_module": "@jupyter-widgets/output",
      "model_module_version": "1.0.0",
      "model_name": "OutputModel",
      "state": {
       "layout": "IPY_MODEL_d86a0ef678f7404cb0d1edffb16f3594"
      }
     },
     "e3fb1b9235b34a25847dc9a7538582e6": {
      "model_module": "@jupyter-widgets/controls",
      "model_module_version": "2.0.0",
      "model_name": "DescriptionStyleModel",
      "state": {
       "description_width": ""
      }
     },
     "e7a7c7450bb34884b9bd88d636470538": {
      "model_module": "@jupyter-widgets/base",
      "model_module_version": "2.0.0",
      "model_name": "LayoutModel",
      "state": {}
     },
     "e9647e0a2d004a00b5a4392571d4da3b": {
      "model_module": "@jupyter-widgets/base",
      "model_module_version": "2.0.0",
      "model_name": "LayoutModel",
      "state": {}
     },
     "ea4fbe5cd5c34b9ba69a81ce3fe213ce": {
      "model_module": "@jupyter-widgets/controls",
      "model_module_version": "2.0.0",
      "model_name": "DescriptionStyleModel",
      "state": {
       "description_width": ""
      }
     },
     "ed54b760afd340c39eb014ca7870186b": {
      "model_module": "@jupyter-widgets/controls",
      "model_module_version": "2.0.0",
      "model_name": "DescriptionStyleModel",
      "state": {
       "description_width": ""
      }
     },
     "eea28cda321843489d2c772a72ef8f3e": {
      "model_module": "@jupyter-widgets/controls",
      "model_module_version": "2.0.0",
      "model_name": "IntSliderModel",
      "state": {
       "behavior": "drag-tap",
       "description": "Pipe Segments",
       "layout": "IPY_MODEL_f566c49d0e1943f494b9d7b9cacbad30",
       "max": 6,
       "min": 1,
       "style": "IPY_MODEL_dc3997f6fc9f4b018996278b67c15431",
       "value": 3
      }
     },
     "f31a8f8034714d75a8630d5c645ecfd8": {
      "model_module": "@jupyter-widgets/controls",
      "model_module_version": "2.0.0",
      "model_name": "DropdownModel",
      "state": {
       "_options_labels": [
        "PVC",
        "Steel",
        "Cast Iron",
        "Concrete",
        "Copper"
       ],
       "description": "Material",
       "index": 0,
       "layout": "IPY_MODEL_07ebdd9c634e45df84c103041847a531",
       "style": "IPY_MODEL_2032c922a2d04c828cd56d9365c9cb9f"
      }
     },
     "f39d060e489c4e1abb857f36c070309f": {
      "model_module": "@jupyter-widgets/controls",
      "model_module_version": "2.0.0",
      "model_name": "FloatTextModel",
      "state": {
       "description": "e3 (m)",
       "layout": "IPY_MODEL_df748ff93ba048e3af886888bdbac9bd",
       "step": 1e-05,
       "style": "IPY_MODEL_3efd2ed99dd0490c8d747a38778c7156",
       "value": 4.5e-05
      }
     },
     "f4e6dcd2d9984d9eaf9bcf7542d97cdf": {
      "model_module": "@jupyter-widgets/controls",
      "model_module_version": "2.0.0",
      "model_name": "HTMLModel",
      "state": {
       "layout": "IPY_MODEL_51c653af254341a5ac4692c2bea98dc2",
       "style": "IPY_MODEL_9e3ac0b669b642c48602fe4f885f5c31",
       "value": "<b>Pipe AC</b>"
      }
     },
     "f566c49d0e1943f494b9d7b9cacbad30": {
      "model_module": "@jupyter-widgets/base",
      "model_module_version": "2.0.0",
      "model_name": "LayoutModel",
      "state": {}
     },
     "f641d09b47c74de0a35a411506b1bc53": {
      "model_module": "@jupyter-widgets/base",
      "model_module_version": "2.0.0",
      "model_name": "LayoutModel",
      "state": {}
     },
     "f6be7872d65b459e8ae0daa2081e3f5a": {
      "model_module": "@jupyter-widgets/base",
      "model_module_version": "2.0.0",
      "model_name": "LayoutModel",
      "state": {}
     },
     "f8802288c2d6413ab68e6e57ff6ca878": {
      "model_module": "@jupyter-widgets/controls",
      "model_module_version": "2.0.0",
      "model_name": "FloatTextModel",
      "state": {
       "description": "P3 K",
       "layout": "IPY_MODEL_3ab69ea802714ef6b62136fc52ee2c70",
       "step": 0.1,
       "style": "IPY_MODEL_ea4fbe5cd5c34b9ba69a81ce3fe213ce",
       "value": 1
      }
     },
     "f93f2d3113b34042a4964e850be3ed8d": {
      "model_module": "@jupyter-widgets/base",
      "model_module_version": "2.0.0",
      "model_name": "LayoutModel",
      "state": {}
     },
     "fa0819a357ea455499c70e5fdadef01e": {
      "model_module": "@jupyter-widgets/controls",
      "model_module_version": "2.0.0",
      "model_name": "FloatTextModel",
      "state": {
       "description": "e1 (m)",
       "layout": "IPY_MODEL_89fcdea6fdda4819b7446e7b465b1863",
       "step": 1e-05,
       "style": "IPY_MODEL_c3926a97d29e4adf992041bac8ac1edb",
       "value": 4.5e-05
      }
     },
     "fa9de0b1409148beb44f4c1580a01bd9": {
      "model_module": "@jupyter-widgets/base",
      "model_module_version": "2.0.0",
      "model_name": "LayoutModel",
      "state": {}
     },
     "faa1e22cdce146cfbc884f01e7a32b51": {
      "model_module": "@jupyter-widgets/controls",
      "model_module_version": "2.0.0",
      "model_name": "FloatTextModel",
      "state": {
       "description": "e2 (m)",
       "layout": "IPY_MODEL_ac35e09aca3a4b40bb8256faad7f61c6",
       "step": 1e-05,
       "style": "IPY_MODEL_7bc429f33378428b9c368008055079ea",
       "value": 4.5e-05
      }
     },
     "fab47dccbf2b47eebb89e1011da150f1": {
      "model_module": "@jupyter-widgets/base",
      "model_module_version": "2.0.0",
      "model_name": "LayoutModel",
      "state": {}
     },
     "fad964bfaea147a3a9914c622303cc78": {
      "model_module": "@jupyter-widgets/controls",
      "model_module_version": "2.0.0",
      "model_name": "SliderStyleModel",
      "state": {
       "description_width": ""
      }
     },
     "fe39116109184641ae955164fc0eb090": {
      "model_module": "@jupyter-widgets/controls",
      "model_module_version": "2.0.0",
      "model_name": "DescriptionStyleModel",
      "state": {
       "description_width": ""
      }
     }
    },
    "version_major": 2,
    "version_minor": 0
   }
  }
 },
 "nbformat": 4,
 "nbformat_minor": 5
}
