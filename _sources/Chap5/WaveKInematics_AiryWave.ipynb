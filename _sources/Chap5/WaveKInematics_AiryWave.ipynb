{
 "cells": [
  {
   "cell_type": "markdown",
   "id": "f83a0c13-76d5-4343-8d16-3ffd49c22dc3",
   "metadata": {},
   "source": [
    "# Chapter 5 Coastal Engineering: Wave Kinematics"
   ]
  },
  {
   "cell_type": "markdown",
   "id": "3047ad33-6cd2-4c81-a292-14030e95577a",
   "metadata": {},
   "source": [
    "1. [Introduction: Wave Kinematics](#1.-Introduction)\n",
    "2. [Simulation: AiryWave](#2.-Simulation)\n",
    "3. [Self-Assessment](#3.-Self-Assessment)"
   ]
  },
  {
   "cell_type": "markdown",
   "id": "c1e1070d-c617-433c-a86e-2e51a5e8abef",
   "metadata": {},
   "source": [
    "## 1. Introduction"
   ]
  },
  {
   "cell_type": "markdown",
   "id": "5849c3f8-e811-4f5a-a6a1-21d9fc842f24",
   "metadata": {},
   "source": [
    "### 🌊 Wave Kinematics\n",
    "\n",
    "Several wave theories are used to characterize the **profile**, **kinematics**, **energy**, and other dynamic parameters of water waves. These theories are typically categorized based on the **linearity** of the wave motion.\n",
    "\n",
    "- **Airy (Linear) Theory** - Assumes wave symmetry about the still water level. - Described using a cosine function. - Models only **oscillatory waves**. - Applicable to **deep water** and **low-amplitude** conditions. - Simple and widely used in engineering design. - May oversimplify results due to idealized assumptions.\n",
    "\n",
    "---\n",
    "\n",
    "### 📘 About Linear Wave Theory\n",
    "\n",
    "**Linear Wave Theory** (Airy wave theory) describes the propagation of small-amplitude waves on the surface of an inviscid, incompressible, and irrotational fluid. It assumes:\n",
    "\n",
    "- **Small Amplitude Waves**: $( H \\ll \\lambda $), $( H \\ll h $)  \n",
    "- **Incompressible Fluid**: Constant density  \n",
    "- **Irrotational Flow**: No internal vorticity  \n",
    "- **Homogeneous Properties**: Uniform throughout  \n",
    "- **Gravity Waves**: Dominated by gravitational restoring forces  \n",
    "\n",
    "- Assumes small-amplitude, symmetric, oscillatory waves about the still water level, typically modeled with cosine functions. It is simple, analytically tractable, and widely used in engineering design—especially for deep water and low-steepness waves. However, it oversimplifies some physical phenomena due to its assumptions\n",
    "\n",
    "---\n",
    "\n",
    "### 🔬 Governing Equations\n",
    "\n",
    "- **Laplace's Equation** for velocity potential $( \\phi $):  \n",
    "  $$\n",
    "  \\nabla^2 \\phi = 0\n",
    "  $$\n",
    "\n",
    "- **Free Surface Boundary Condition**:  \n",
    "  $$\n",
    "  \\frac{\\partial \\phi}{\\partial t} + g\\eta = 0 \\quad \\text{at } z = \\eta\n",
    "  $$\n",
    "\n",
    "- **Bottom Boundary Condition**:  \n",
    "  $$\n",
    "  \\frac{\\partial \\phi}{\\partial z} = 0 \\quad \\text{at } z = -h\n",
    "  $$\n",
    "\n",
    "---\n",
    "\n",
    "### 📈 Wave Solutions\n",
    "\n",
    "- **Surface Elevation**:  \n",
    "  $$\n",
    "  \\eta(x, t) = a \\cos(kx - \\omega t)\n",
    "  $$\n",
    "\n",
    "- **Velocity Potential**:  \n",
    "  $$\n",
    "  \\phi(x, z, t) = \\frac{a g}{\\omega} \\cosh(k(z + h)) \\cos(kx - \\omega t)\n",
    "  $$\n",
    "\n",
    "- **Dispersion Relation**:  \n",
    "  $$\n",
    "  \\omega^2 = gk \\tanh(kh)\n",
    "  $$\n",
    "\n",
    "**Where**:  \n",
    "- $( a $): Wave amplitude  \n",
    "- $( k = \\dfrac{2\\pi}{\\lambda} $): Wave number  \n",
    "- $( \\omega = 2\\pi f $): Angular frequency  \n",
    "- $( h $): Water depth  \n",
    "- $( g $): Acceleration due to gravity  \n",
    "\n",
    "---\n",
    "\n",
    "### 📚 Reference\n",
    "\n",
    "{cite}`usace1984shore` introduces Airy (linear) wave theory and applies it to coastal design, forming the basis for wave force calculations on structures. {cite:p}`Dean2001` offers a rigorous description of wave kinematics, especially through the lens of Airy (linear) wave theory. It derives analytical expressions for surface elevation, velocity, acceleration, and pressure beneath waves, assuming small amplitude and inviscid, irrotational flow. The book clearly explains the physical meaning of each term and boundary condition, making it ideal for engineering applications. It also connects linear theory to more advanced models, providing a solid foundation for understanding wave-structure interactions and coastal processes."
   ]
  },
  {
   "cell_type": "markdown",
   "id": "731dac60-174a-4f7c-8035-7b99426c2c29",
   "metadata": {},
   "source": [
    "## 2. Simulation"
   ]
  },
  {
   "cell_type": "markdown",
   "id": "a2116178-ea6e-42ff-878c-a7cd28ff6f3d",
   "metadata": {},
   "source": [
    "### 🌊 Interactive Wave Field Simulator — Airy Theory Visualization\n",
    "\n",
    "A dynamic Jupyter Notebook tool that simulates and visualizes wave-induced kinematics and pressure fields in a 2D domain using **Airy wave theory**.\n",
    "\n",
    "---\n",
    "\n",
    "### ⚙️ How It Works\n",
    "\n",
    "1. **Defines spatial grid** in horizontal (x) and vertical (z) directions\n",
    "2. Computes:\n",
    "   - **Surface elevation ζ**\n",
    "   - **Horizontal velocity (u)**\n",
    "   - **Horizontal acceleration (aₓ)**\n",
    "   - **Hydrostatic + dynamic pressure (p)**\n",
    "3. Uses sinusoidal expressions for wave motion and hyperbolic functions for vertical decay\n",
    "4. Visualizes outputs as:\n",
    "   - Line plot of surface elevation\n",
    "   - Heatmaps for velocity, acceleration, and pressure distributions\n",
    "\n",
    "---\n",
    "\n",
    "### 🎛️ Inputs (via Sliders)\n",
    "\n",
    "| Input        | Meaning                         |\n",
    "|-------------|----------------------------------|\n",
    "| `Time [s]`   | Phase time of wave cycle        |\n",
    "| `Amplitude [m]` | Surface wave amplitude         |\n",
    "| `Depth [m]`  | Water depth                     |\n",
    "\n",
    "---\n",
    "\n",
    "### 📊 Outputs\n",
    "\n",
    "- **ζ(x)**: Surface elevation vs. horizontal distance\n",
    "- **u(x, z)**: Velocity field heatmap\n",
    "- **aₓ(x, z)**: Acceleration field heatmap\n",
    "- **p(x, z)**: Pressure field heatmap\n",
    "\n",
    "---\n",
    "\n",
    "### 🧭 Interpretation\n",
    "\n",
    "- Velocity and pressure decay with depth due to hyperbolic attenuation\n",
    "- Surface elevation shows sinusoidal wave form at selected time\n",
    "- Use outputs to:\n",
    "  - Visualize wave structure and impact at different depths\n",
    "  - Explore nearshore hydrodynamics\n",
    "  - Validate linear theory assumptions\n",
    "\n",
    "> _Ideal for education, coastal planning, and understanding wave-driven forces beneath the surface._\n"
   ]
  },
  {
   "cell_type": "code",
   "execution_count": 1,
   "id": "597622ec-e42f-4065-841f-2d9d0df616a7",
   "metadata": {},
   "outputs": [
    {
     "data": {
      "application/vnd.jupyter.widget-view+json": {
       "model_id": "693c726ae368499c905bf36b031dc217",
       "version_major": 2,
       "version_minor": 0
      },
      "text/plain": [
       "VBox(children=(FloatSlider(value=2.0, description='Time [s]', max=12.566370614359172), FloatSlider(value=0.2, …"
      ]
     },
     "metadata": {},
     "output_type": "display_data"
    }
   ],
   "source": [
    "import numpy as np\n",
    "import plotly.graph_objects as go\n",
    "import plotly.express as px\n",
    "from ipywidgets import interact, FloatSlider\n",
    "import ipywidgets as widgets\n",
    "from IPython.display import display\n",
    "import plotly.graph_objects as go\n",
    "# Define all constant/parameters; grid size\n",
    "nz = 100 # number of grid along z-axis\n",
    "nx = 100 # number of grid along x-axis\n",
    "g = 9.81\n",
    "freq=1     # Hz frequency\n",
    "omega = 2 * np.pi * freq\n",
    "k = omega**2 / g\n",
    "zetaA=0.2  # wave amplitude\n",
    "ts=0       # time start\n",
    "te=4*np.pi # terminal time\n",
    "d=2       # water depth\n",
    "xe=5     # maximum range\n",
    "time=2.   # ref time\n",
    "x=0\n",
    "k=omega**2/g\n",
    "\n",
    "############ Grid####################\n",
    "x = np.linspace(0, xe, nx)\n",
    "z = np.linspace(-d, 0, nz)\n",
    "\n",
    "# Compute spatial distribution of velocity, accleration and pressure\n",
    "def compute_fields(time,zetaA,d):\n",
    "    rho = 1000# density of water in kg/m^3\n",
    "    zeta=zetaA*np.sin(omega*time-k*x)\n",
    "    u=np.zeros((nx,nz))\n",
    "    ax=np.zeros((nx,nz))\n",
    "    p=np.zeros((nx,nz))\n",
    "    sp=np.zeros((nx,nz))\n",
    "    H = 2 * zetaA\n",
    "    #print(nx,nz,k,d,time,zetaA,omega)\n",
    "    for iz in range(nz):\n",
    "        for ix in range(nx):\n",
    "            u[ix, iz]=zetaA*omega*np.cosh(k*(z[iz]+d))/np.cosh(k*d)*np.cos(omega*time-k*x[ix])\n",
    "            #p[ix,iz] = rho * g * (-z[iz]) + 0.5 * rho * u[ix, iz]**2\n",
    "            p[ix, iz] = -rho * g * z[iz] + rho * g * H / np.cosh(k * d) * np.cosh(k * (d + z[iz])) * np.cos(k * x[ix] - omega * time)\n",
    "            #sp[ix,iz] = omega/k*np.sqrt(np.cosh(k*d)/np.cosh(k*(z[ix]+d)))\n",
    "            ax[ix, iz]=zetaA*omega**2*np.cosh(k*(z[iz]+d))/np.cosh(k*d)*np.cos(omega*time-k*x[ix])\n",
    "    return zeta, u, ax, p,sp\n",
    "\n",
    "# Interactive plotting function\n",
    "def plot_interactive(time, zetaA, d):\n",
    "    global z\n",
    "    z = np.linspace(-d, 0, nz)# update z based on depth\n",
    "    zeta, u, ax,p,sp = compute_fields(time, zetaA, d)\n",
    "    fig = go.Figure()\n",
    "    # Surface elevation plot\n",
    "    fig.add_trace(go.Scatter(x=x, y=zeta, mode='lines', name='water surface ζ',\n",
    "                             line=dict(color='blue')))\n",
    "    fig.update_layout(title='Water Surface ζ [m]',\n",
    "                      xaxis_title='distance [m]',\n",
    "                      yaxis_title='Surface ζ [m]',\n",
    "                      height=300)\n",
    "\n",
    "    fig.show()\n",
    "    # Velocity field plot\n",
    "    fig_u = px.imshow(u.T, origin='lower', aspect='auto', color_continuous_scale='Jet',labels={'color': 'u [m/s]'})\n",
    "    fig_u.update_layout(title='Velocity Field u [m/s]', xaxis_title='x [m]', yaxis_title='z [m]')\n",
    "    fig_u.update_xaxes(tickvals=np.linspace(0, nx-1, 5),ticktext=[f\"{val:.1f}\" for val in np.linspace(0, xe, 5)])\n",
    "    fig_u.update_yaxes(tickvals=np.linspace(0, nz-1, 5),ticktext=[f\"{val:.1f}\" for val in np.linspace(-d, 0, 5)])\n",
    "    fig_u.show()\n",
    "    # Acceleration field plot\n",
    "    fig_ax = px.imshow(ax.T, origin='lower', aspect='auto', color_continuous_scale='Jet',labels={'color': 'w [m/s²]'})\n",
    "    fig_ax.update_layout(title='Acceleration Field w [m/s²]',xaxis_title='x [m]',yaxis_title='z [m]')\n",
    "    fig_ax.update_xaxes(tickvals=np.linspace(0, nx-1, 5),ticktext=[f\"{val:.1f}\" for val in np.linspace(0, xe, 5)])\n",
    "    fig_ax.update_yaxes(tickvals=np.linspace(0, nz-1, 5), ticktext=[f\"{val:.1f}\" for val in np.linspace(-d, 0, 5)])\n",
    "    fig_ax.show()\n",
    "    # pressure field plot\n",
    "\n",
    "    fig = go.Figure(data=go.Heatmap(z=p.T,colorscale='Jet',colorbar=dict(title='p [pascal]')))\n",
    "    fig.update_layout( title='Pressure Field Pascal [Pa]',xaxis_title='x [m]',yaxis_title='z [m]',height=400)\n",
    "    fig.update_xaxes(tickvals=np.linspace(0, nx-1, 5),ticktext=[f\"{val:.1f}\" for val in np.linspace(0, xe, 5)])\n",
    "    fig.update_yaxes(tickvals=np.linspace(0, nz-1, 5),ticktext=[f\"{val:.1f}\" for val in np.linspace(-d, 0, 5)])\n",
    "    fig.show()\n",
    "\n",
    "# Create interactive slider with all parameters\n",
    "time_slider = widgets.FloatSlider(value=2.0, min=0, max=4*np.pi, step=0.1, description='Time [s]')\n",
    "zeta_slider = widgets.FloatSlider(value=0.2, min=0.1, max=4, step=0.1, description='Amplitude [m]')\n",
    "depth_slider = widgets.FloatSlider(value=2.0, min=1, max=10, step=0.1, description='Depth [m]')\n",
    "run_button = widgets.Button(description=\"Run Simulation\")\n",
    "\n",
    "# Output area\n",
    "output = widgets.Output()\n",
    "\n",
    "# Callback function\n",
    "def on_button_click(b):\n",
    "    with output:\n",
    "        output.clear_output()\n",
    "        plot_interactive(time_slider.value, zeta_slider.value, depth_slider.value)\n",
    "run_button.on_click(on_button_click)\n",
    "# Display widgets\n",
    "display(widgets.VBox([time_slider, zeta_slider, depth_slider, run_button, output]))\n"
   ]
  },
  {
   "cell_type": "code",
   "execution_count": 5,
   "id": "a227d0a8-6c77-4986-91af-7aceb25e27b0",
   "metadata": {},
   "outputs": [
    {
     "data": {
      "application/vnd.jupyter.widget-view+json": {
       "model_id": "a45ec4911efc4b3d944e4dadbb2a40bb",
       "version_major": 2,
       "version_minor": 0
      },
      "text/plain": [
       "interactive(children=(FloatSlider(value=2.0, description='Wave Height H (m)', max=5.0, min=0.1), FloatSlider(v…"
      ]
     },
     "metadata": {},
     "output_type": "display_data"
    },
    {
     "data": {
      "text/plain": [
       "<function __main__.plot_wave_energy(H=2.0, T=8.0, h=10.0, z=-2.0)>"
      ]
     },
     "execution_count": 5,
     "metadata": {},
     "output_type": "execute_result"
    }
   ],
   "source": [
    "import numpy as np\n",
    "import matplotlib.pyplot as plt\n",
    "from ipywidgets import interact, FloatSlider\n",
    "\n",
    "# Constants\n",
    "g = 9.81  # gravitational acceleration (m/s²)\n",
    "rho = 1025  # seawater density (kg/m³)\n",
    "\n",
    "def wave_properties(H, T, h, z):\n",
    "    \"\"\"\n",
    "    Computes wave energy, power, and pressure at depth z using linear wave theory.\n",
    "    \"\"\"\n",
    "    # Derived quantities\n",
    "    omega = 2 * np.pi / T\n",
    "    L = (g * T**2) / (2 * np.pi) * np.tanh((2 * np.pi * h) / (g * T**2))  # approximate dispersion\n",
    "    k = 2 * np.pi / L\n",
    "    c = L / T\n",
    "\n",
    "    # Energy per unit area\n",
    "    E_pot = (1/8) * rho * g * H**2\n",
    "    E_kin = E_pot  # For linear theory, kinetic ≈ potential\n",
    "    E_total = E_pot + E_kin\n",
    "\n",
    "    # Wave power per unit crest length\n",
    "    P = E_total * c\n",
    "\n",
    "    # Pressure at depth z (z measured from still water level, negative downward)\n",
    "    pressure = rho * g * H / 2 * np.cosh(k * (h + z)) / np.cosh(k * h)\n",
    "\n",
    "    return L, c, E_pot, E_kin, E_total, P, pressure\n",
    "\n",
    "def plot_wave_energy(H=2.0, T=8.0, h=10.0, z=-2.0):\n",
    "    L, c, E_pot, E_kin, E_total, P, pressure = wave_properties(H, T, h, z)\n",
    "\n",
    "    print(f\"🌊 Wave Characteristics:\")\n",
    "    print(f\"- Wavelength (L): {L:.2f} m\")\n",
    "    print(f\"- Phase Speed (c): {c:.2f} m/s\")\n",
    "    print(f\"\\n⚡ Energy:\")\n",
    "    print(f\"- Potential Energy: {E_pot:.2f} J/m²\")\n",
    "    print(f\"- Kinetic Energy: {E_kin:.2f} J/m²\")\n",
    "    print(f\"- Total Energy: {E_total:.2f} J/m²\")\n",
    "    print(f\"- Wave Power: {P:.2f} W/m\")\n",
    "    print(f\"\\n🧭 Pressure at z = {z} m:\")\n",
    "    print(f\"- Dynamic Pressure: {pressure:.2f} Pa\")\n",
    "\n",
    "    # Optional plot: pressure profile\n",
    "    z_vals = np.linspace(-h, 0, 500)\n",
    "    pressure_profile = rho * g * H / 2 * np.cosh(2 * np.pi / L * (h + z_vals)) / np.cosh(2 * np.pi / L * h)\n",
    "\n",
    "    plt.figure(figsize=(6, 4))\n",
    "    plt.plot(pressure_profile, z_vals)\n",
    "    plt.title('Pressure Profile Under Wave (Linear Theory)')\n",
    "    plt.xlabel('Pressure (Pa)')\n",
    "    plt.ylabel('Depth z (m)')\n",
    "    plt.grid(True)\n",
    "    plt.gca().invert_yaxis()\n",
    "    plt.tight_layout()\n",
    "    plt.show()\n",
    "\n",
    "interact(plot_wave_energy,\n",
    "         H=FloatSlider(value=2.0, min=0.1, max=5.0, step=0.1, description='Wave Height H (m)'),\n",
    "         T=FloatSlider(value=8.0, min=2.0, max=20.0, step=0.5, description='Wave Period T (s)'),\n",
    "         h=FloatSlider(value=10.0, min=1.0, max=50.0, step=1.0, description='Water Depth h (m)'),\n",
    "         z=FloatSlider(value=-2.0, min=-50.0, max=0.0, step=0.5, description='Depth z (m)'))\n"
   ]
  },
  {
   "cell_type": "markdown",
   "id": "54a0cf63-9e60-422d-90a9-7be3bfcbb549",
   "metadata": {},
   "source": [
    "## 3. Self-Assessment"
   ]
  },
  {
   "cell_type": "markdown",
   "id": "c200295b-04ae-4f5a-b2e4-15aea41838d1",
   "metadata": {},
   "source": [
    "### Wave kinematics Conceptual Understanding\n",
    "\n",
    "1. **Why does linear wave theory assume small-amplitude waves? What physical phenomena would invalidate this assumption?**\n",
    "\n",
    "2. **What role does the velocity potential $( \\phi $) play in describing wave motion?**\n",
    "\n",
    "3. **How does the dispersion relation $( \\omega^2 = gk \\tanh(kh) $) help us distinguish between shallow and deep water waves?**\n",
    "\n",
    "4. **Why does pressure beneath a wave include both hydrostatic and dynamic components?**\n",
    "\n",
    "5. **How would increasing depth $( h $) affect the vertical structure of the velocity and acceleration fields?**\n",
    "\n",
    "\n",
    "6. **What surprised you most when visualizing the pressure or velocity field?**  \n",
    "   _Was it how deep the wave motion extended? Or how quickly the pressure varied with depth?_\n",
    "\n",
    "7. **When adjusting wave amplitude or depth, how did your intuition compare to what the simulation revealed?**  \n",
    "   _Did you expect deeper motion at higher amplitudes, or more flattening at greater depths?_\n",
    "\n",
    "8. **How would you explain to a non-engineering friend why water particles in waves don’t move horizontally across the ocean?**\n",
    "\n",
    "9. **How might real-world effects (e.g., wind, viscosity, turbulence) deviate from what you saw in the simulation?**"
   ]
  },
  {
   "cell_type": "markdown",
   "id": "cdbd060f-e8ad-4351-b714-0d2f1a61ded1",
   "metadata": {},
   "source": [
    "###  Wave kinematics Quiz\n",
    "\n",
    "**Q1:** Which assumption is *not* part of linear wave theory?  \n",
    "A. The fluid is homogeneous  \n",
    "B. The wave height is large compared to the depth  \n",
    "C. The flow is irrotational  \n",
    "D. The fluid is incompressible  \n",
    "🟢 **Answer:** B\n",
    "\n",
    "---\n",
    "\n",
    "**Q2:** In the wave equation $( \\eta(x,t) = a \\cos(kx - \\omega t) $), what does $( a $) represent?  \n",
    "A. Wavelength  \n",
    "B. Water depth  \n",
    "C. Wave amplitude  \n",
    "D. Velocity potential  \n",
    "🟢 **Answer:** C\n",
    "\n",
    "---\n",
    "\n",
    "**Q3:** What does the term $( \\cosh(k(z + h)) $) control in the solution for velocity potential?  \n",
    "A. Time oscillation  \n",
    "B. Horizontal periodicity  \n",
    "C. Decay with depth  \n",
    "D. Wave energy  \n",
    "🟢 **Answer:** C"
   ]
  },
  {
   "cell_type": "markdown",
   "id": "a0d8d5ba-b387-4bd4-abb0-44c0a6195a6e",
   "metadata": {},
   "source": [
    "Q1. What does increasing the value of the Amplitude slider (ζₐ) do to the computed velocity and pressure fields?\n",
    "- It reduces both fields\n",
    "- It increases the surface wave speed only\n",
    "- It increases the magnitude of velocity and pressure\n",
    "- It has no effect on any field\n",
    "🟢 Correct Answer: C\n",
    "\n",
    "Q2. When using the Time slider, what type of behavior is observed in the surface elevation plot?\n",
    "- Linear increase with time\n",
    "- Random noise fluctuation\n",
    "- Cyclical or oscillatory motion\n",
    "- Constant wave crest height\n",
    "🟢 Correct Answer: C\n",
    "\n",
    "Q3. What effect does increasing the Water Depth (d) have on the shape of the velocity and acceleration fields?\n",
    "- Motion penetrates deeper and becomes more uniform\n",
    "- Particle velocity becomes vertical only\n",
    "- Pressure increases but velocity vanishes\n",
    "- Fields become zero beyond surface level\n",
    "🟢 Correct Answer: A\n",
    "\n",
    "Q4. At which depth zone is horizontal particle acceleration generally highest?\n",
    "- At the bottom (z = −d)\n",
    "- At the surface (z = 0)\n",
    "- Uniform at all depths\n",
    "- At mid-depth\n",
    "🟢 Correct Answer: B\n",
    "\n",
    "Q5. True or False:\n",
    "Increasing the wave amplitude will linearly increase pressure everywhere in the fluid column.\n",
    "🟢 Correct Answer: False\n",
    "💡 Explanation: Pressure depends on both hydrostatic and dynamic components, and the latter varies nonlinearly with depth and time.\n"
   ]
  },
  {
   "cell_type": "markdown",
   "id": "b19a7155-6f8b-4342-b0f8-15b4fadf4a9d",
   "metadata": {},
   "source": [
    "### Short Answer & Discussion Prompts\n",
    "- What do you observe about the pressure field as time progresses? How does this relate to the position of wave crests and troughs?\n",
    "- Explain why acceleration and velocity fields attenuate with depth even though the wave propagates along the surface.\n",
    "- If the wavelength were longer (i.e., smaller k), how do you think the shape of the pressure field would change\n"
   ]
  },
  {
   "cell_type": "markdown",
   "id": "05fdfbb8-56be-461a-9eec-d77166a51759",
   "metadata": {},
   "source": [
    "## 🌊 Wave Theory Applicability Quiz\n",
    "![Alt text](Lemaute.png)\n",
    "\n",
    "### **Instructions:**\n",
    "For each question, use the given wave height (H) and water depth (h) to determine the most suitable wave theory. Choose from:\n",
    "\n",
    "- **Linear (Airy) Theory**\n",
    "- **Stokes Theory**\n",
    "- **Cnoidal Theory**\n",
    "- **Solitary Wave Theory**\n",
    "\n",
    "Use the **relative wave height** $( \\frac{H}{h} $) and **relative depth** $( \\frac{h}{L} $) (where $( L $) is wavelength) to guide your choice.\n",
    "\n",
    "---\n",
    "\n",
    "### ❓ Question 1\n",
    "\n",
    "**Given:**\n",
    "- Wave height $( H = 1.2 \\, \\text{m} $)\n",
    "- Water depth $( h = 15 \\, \\text{m} $)\n",
    "- Wavelength $( L = 100 \\, \\text{m} $)\n",
    "\n",
    "**Calculate:**\n",
    "- $( \\frac{H}{h} = \\_\\_\\_\\_ $)\n",
    "- $( \\frac{h}{L} = \\_\\_\\_\\_ $)\n",
    "\n",
    "**Which wave theory is most applicable?**\n",
    "\n",
    "- [ ] Linear (Airy) Theory  \n",
    "- [ ] Stokes Theory  \n",
    "- [ ] Cnoidal Theory  \n",
    "- [ ] Solitary Wave Theory  \n",
    "\n",
    "---\n",
    "\n",
    "### ❓ Question 2\n",
    "\n",
    "**Given:**\n",
    "- Wave height $( H = 2.5 \\, \\text{m} $)\n",
    "- Water depth $( h = 4 \\, \\text{m} $)\n",
    "- Wavelength $( L = 40 \\, \\text{m} $)\n",
    "\n",
    "**Calculate:**\n",
    "- $( \\frac{H}{h} = \\_\\_\\_\\_ $)\n",
    "- $( \\frac{h}{L} = \\_\\_\\_\\_ $)\n",
    "\n",
    "**Which wave theory is most applicable?**\n",
    "\n",
    "- [ ] Linear (Airy) Theory  \n",
    "- [ ] Stokes Theory  \n",
    "- [ ] Cnoidal Theory  \n",
    "- [ ] Solitary Wave Theory  \n",
    "\n",
    "---\n",
    "\n",
    "### ❓ Question 3\n",
    "\n",
    "**Given:**\n",
    "- Wave height $( H = 0.5 \\, \\text{m} $)\n",
    "- Water depth $( h = 25 \\, \\text{m} $)\n",
    "- Wavelength $( L = 150 \\, \\text{m} $)\n",
    "\n",
    "**Calculate:**\n",
    "- $( \\frac{H}{h} = \\_\\_\\_\\_ $)\n",
    "- $( \\frac{h}{L} = \\_\\_\\_\\_ $)\n",
    "\n",
    "**Which wave theory is most applicable?**\n",
    "\n",
    "- [ ] Linear (Airy) Theory  \n",
    "- [ ] Stokes Theory  \n",
    "- [ ] Cnoidal Theory  \n",
    "- [ ] Solitary Wave Theory  \n",
    "\n",
    "---\n",
    "\n",
    "### ✅ Answer Key (Optional)\n",
    "\n",
    "```markdown\n",
    "**Answers:**\n",
    "1. Linear (Airy) Theory  \n",
    "2. Cnoidal Theory  \n",
    "3. Linear (Airy) Theory\n",
    "\n"
   ]
  },
  {
   "cell_type": "code",
   "execution_count": null,
   "id": "b9778b15-12bf-4ecb-8a20-598c65f840ae",
   "metadata": {},
   "outputs": [],
   "source": []
  }
 ],
 "metadata": {
  "kernelspec": {
   "display_name": "Python [conda env:base] *",
   "language": "python",
   "name": "conda-base-py"
  },
  "language_info": {
   "codemirror_mode": {
    "name": "ipython",
    "version": 3
   },
   "file_extension": ".py",
   "mimetype": "text/x-python",
   "name": "python",
   "nbconvert_exporter": "python",
   "pygments_lexer": "ipython3",
   "version": "3.12.7"
  },
  "widgets": {
   "application/vnd.jupyter.widget-state+json": {
    "state": {
     "042ed557443947f8bf13213558cb51b6": {
      "model_module": "@jupyter-widgets/controls",
      "model_module_version": "2.0.0",
      "model_name": "ButtonStyleModel",
      "state": {
       "font_family": null,
       "font_size": null,
       "font_style": null,
       "font_variant": null,
       "font_weight": null,
       "text_color": null,
       "text_decoration": null
      }
     },
     "1299fc4cebc74212b0d9b610772bdf35": {
      "model_module": "@jupyter-widgets/base",
      "model_module_version": "2.0.0",
      "model_name": "LayoutModel",
      "state": {}
     },
     "14986468913342aeb30074e8165f82d0": {
      "model_module": "@jupyter-widgets/base",
      "model_module_version": "2.0.0",
      "model_name": "LayoutModel",
      "state": {}
     },
     "168f767e3f504081b8390008696e2dee": {
      "model_module": "@jupyter-widgets/controls",
      "model_module_version": "2.0.0",
      "model_name": "DropdownModel",
      "state": {
       "_options_labels": [
        "Calm Sea (H=1m, T=6s, h=10m, z=-2m)",
        "Moderate Swell (H=2m, T=10s, h=20m, z=-5m)",
        "Storm Surge (H=4m, T=12s, h=15m, z=-3m)",
        "Shallow Breaker (H=1.5m, T=5s, h=5m, z=-1m)",
        "Deep Ocean Swell (H=3m, T=14s, h=40m, z=-10m)"
       ],
       "description": "Scenario 1",
       "index": 3,
       "layout": "IPY_MODEL_d684daacf0bf42c4ba53dc0367394397",
       "style": "IPY_MODEL_366301a11846477cabb0d41f9b573725"
      }
     },
     "2cef57d8e2f24661a9c2511e6c2f3a97": {
      "model_module": "@jupyter-widgets/base",
      "model_module_version": "2.0.0",
      "model_name": "LayoutModel",
      "state": {}
     },
     "366301a11846477cabb0d41f9b573725": {
      "model_module": "@jupyter-widgets/controls",
      "model_module_version": "2.0.0",
      "model_name": "DescriptionStyleModel",
      "state": {
       "description_width": ""
      }
     },
     "3b823fb663854e9fbc73f01c58f272f9": {
      "model_module": "@jupyter-widgets/base",
      "model_module_version": "2.0.0",
      "model_name": "LayoutModel",
      "state": {}
     },
     "3bf88bea72764487a03655234547f32b": {
      "model_module": "@jupyter-widgets/controls",
      "model_module_version": "2.0.0",
      "model_name": "SliderStyleModel",
      "state": {
       "description_width": ""
      }
     },
     "42eb65a1e4264a248b80a5fee832cd21": {
      "model_module": "@jupyter-widgets/base",
      "model_module_version": "2.0.0",
      "model_name": "LayoutModel",
      "state": {}
     },
     "466be509c0554d4d8829b33adb8a1f59": {
      "model_module": "@jupyter-widgets/base",
      "model_module_version": "2.0.0",
      "model_name": "LayoutModel",
      "state": {}
     },
     "471924774d1241bda485f6e8d1b25af4": {
      "model_module": "@jupyter-widgets/controls",
      "model_module_version": "2.0.0",
      "model_name": "FloatSliderModel",
      "state": {
       "behavior": "drag-tap",
       "description": "Depth [m]",
       "layout": "IPY_MODEL_75e9ff0d2f2d4d358da29461bf286556",
       "max": 10,
       "min": 1,
       "step": 0.1,
       "style": "IPY_MODEL_9d4df014ab5748bb8dc6288f0834fa28",
       "value": 2
      }
     },
     "4a0f9a3f6e7947b293f35790f9b7b740": {
      "model_module": "@jupyter-widgets/base",
      "model_module_version": "2.0.0",
      "model_name": "LayoutModel",
      "state": {}
     },
     "502c7ed400d34fd984011b86cb8b292b": {
      "model_module": "@jupyter-widgets/base",
      "model_module_version": "2.0.0",
      "model_name": "LayoutModel",
      "state": {}
     },
     "54ecb1be1e394b1fa8bd6897ad535dab": {
      "model_module": "@jupyter-widgets/controls",
      "model_module_version": "2.0.0",
      "model_name": "VBoxModel",
      "state": {
       "_dom_classes": [
        "widget-interact"
       ],
       "children": [
        "IPY_MODEL_b03cad9ef4cb4f48a4f9e71ce3968039",
        "IPY_MODEL_f7312fe1351a41029bb09ffbd95e83ea",
        "IPY_MODEL_faa5057fda4f4ea2a1b236921a133c3e"
       ],
       "layout": "IPY_MODEL_689a25ff5f2940d19bab5152ae076722"
      }
     },
     "5665f774e8804e65b7d7989a6dc2859b": {
      "model_module": "@jupyter-widgets/base",
      "model_module_version": "2.0.0",
      "model_name": "LayoutModel",
      "state": {}
     },
     "650454a8950c4982906d42fca53f82e7": {
      "model_module": "@jupyter-widgets/controls",
      "model_module_version": "2.0.0",
      "model_name": "SliderStyleModel",
      "state": {
       "description_width": ""
      }
     },
     "689a25ff5f2940d19bab5152ae076722": {
      "model_module": "@jupyter-widgets/base",
      "model_module_version": "2.0.0",
      "model_name": "LayoutModel",
      "state": {}
     },
     "693c726ae368499c905bf36b031dc217": {
      "model_module": "@jupyter-widgets/controls",
      "model_module_version": "2.0.0",
      "model_name": "VBoxModel",
      "state": {
       "children": [
        "IPY_MODEL_7c2ac9313155413796fa026a95d6003b",
        "IPY_MODEL_b33c4258db724ef3a0b74935c7c7b0f2",
        "IPY_MODEL_471924774d1241bda485f6e8d1b25af4",
        "IPY_MODEL_7b23629211634f3b8e64107e3ca1f687",
        "IPY_MODEL_c1933506bd794ebf854bff30d3b0360d"
       ],
       "layout": "IPY_MODEL_d4396235afa64f39a25f4f8db3310e4c"
      }
     },
     "7079acf4fed44227b5a3be9d2a683cbe": {
      "model_module": "@jupyter-widgets/base",
      "model_module_version": "2.0.0",
      "model_name": "LayoutModel",
      "state": {}
     },
     "75e9ff0d2f2d4d358da29461bf286556": {
      "model_module": "@jupyter-widgets/base",
      "model_module_version": "2.0.0",
      "model_name": "LayoutModel",
      "state": {}
     },
     "7b23629211634f3b8e64107e3ca1f687": {
      "model_module": "@jupyter-widgets/controls",
      "model_module_version": "2.0.0",
      "model_name": "ButtonModel",
      "state": {
       "description": "Run Simulation",
       "layout": "IPY_MODEL_cc6cdc70cc994d4fb9bbafd8f2c67237",
       "style": "IPY_MODEL_042ed557443947f8bf13213558cb51b6",
       "tooltip": null
      }
     },
     "7c2ac9313155413796fa026a95d6003b": {
      "model_module": "@jupyter-widgets/controls",
      "model_module_version": "2.0.0",
      "model_name": "FloatSliderModel",
      "state": {
       "behavior": "drag-tap",
       "description": "Time [s]",
       "layout": "IPY_MODEL_14986468913342aeb30074e8165f82d0",
       "max": 12.566370614359172,
       "step": 0.1,
       "style": "IPY_MODEL_3bf88bea72764487a03655234547f32b",
       "value": 2
      }
     },
     "81694d528a14408e918eb8957fd7c8d8": {
      "model_module": "@jupyter-widgets/base",
      "model_module_version": "2.0.0",
      "model_name": "LayoutModel",
      "state": {}
     },
     "82f9ac1094d14013821816e71115c1a7": {
      "model_module": "@jupyter-widgets/base",
      "model_module_version": "2.0.0",
      "model_name": "LayoutModel",
      "state": {}
     },
     "87865eee9e5e41afb501ca4e3f5e09b7": {
      "model_module": "@jupyter-widgets/controls",
      "model_module_version": "2.0.0",
      "model_name": "FloatSliderModel",
      "state": {
       "behavior": "drag-tap",
       "description": "Wave Period T (s)",
       "layout": "IPY_MODEL_82f9ac1094d14013821816e71115c1a7",
       "max": 20,
       "min": 2,
       "step": 0.5,
       "style": "IPY_MODEL_d431ce1c059b46ba9e947a6c5fd2cf8b",
       "value": 7.999999999999999
      }
     },
     "87ea08f4b5de4ee3a219f0a05eb2b06f": {
      "model_module": "@jupyter-widgets/controls",
      "model_module_version": "2.0.0",
      "model_name": "SliderStyleModel",
      "state": {
       "description_width": ""
      }
     },
     "8cc374904ae3434c9ca103b6aff1ee1c": {
      "model_module": "@jupyter-widgets/controls",
      "model_module_version": "2.0.0",
      "model_name": "VBoxModel",
      "state": {
       "_dom_classes": [
        "widget-interact"
       ],
       "children": [
        "IPY_MODEL_168f767e3f504081b8390008696e2dee",
        "IPY_MODEL_d82bfc486cb54f7d9f45acddbf8a2643",
        "IPY_MODEL_d0ab09d9e5d64fdd984a1c349b9d20c1"
       ],
       "layout": "IPY_MODEL_f7e5a817269047a6b71a1f10651c6573"
      }
     },
     "8ea0db41b15b42f08c25c358c1b0da82": {
      "model_module": "@jupyter-widgets/controls",
      "model_module_version": "2.0.0",
      "model_name": "SliderStyleModel",
      "state": {
       "description_width": ""
      }
     },
     "93d94fafad5348dbb5e85479c471b6d8": {
      "model_module": "@jupyter-widgets/controls",
      "model_module_version": "2.0.0",
      "model_name": "SliderStyleModel",
      "state": {
       "description_width": ""
      }
     },
     "94d731b87acf4833a3e5e1002f2c9f5f": {
      "model_module": "@jupyter-widgets/controls",
      "model_module_version": "2.0.0",
      "model_name": "SliderStyleModel",
      "state": {
       "description_width": ""
      }
     },
     "9d4df014ab5748bb8dc6288f0834fa28": {
      "model_module": "@jupyter-widgets/controls",
      "model_module_version": "2.0.0",
      "model_name": "SliderStyleModel",
      "state": {
       "description_width": ""
      }
     },
     "a23799169b184384b28f257ca4ca78e4": {
      "model_module": "@jupyter-widgets/base",
      "model_module_version": "2.0.0",
      "model_name": "LayoutModel",
      "state": {}
     },
     "a45ec4911efc4b3d944e4dadbb2a40bb": {
      "model_module": "@jupyter-widgets/controls",
      "model_module_version": "2.0.0",
      "model_name": "VBoxModel",
      "state": {
       "_dom_classes": [
        "widget-interact"
       ],
       "children": [
        "IPY_MODEL_de5f9a0b941d4dca81a3c1196142cc47",
        "IPY_MODEL_87865eee9e5e41afb501ca4e3f5e09b7",
        "IPY_MODEL_c74f6ae2146e4a57a0eae2abb37c17f9",
        "IPY_MODEL_cdfe11695b7c418b9c407ed74e319c90",
        "IPY_MODEL_f1a7ae8f4f1d41679019a9c62ff879b8"
       ],
       "layout": "IPY_MODEL_edba46dbf6bc42ac881c6ade7590c376"
      }
     },
     "ab2d1e29dd3542af9058a35d217bd9c4": {
      "model_module": "@jupyter-widgets/controls",
      "model_module_version": "2.0.0",
      "model_name": "SliderStyleModel",
      "state": {
       "description_width": ""
      }
     },
     "ac1e8114df4f40d6b6f14758bd4fec06": {
      "model_module": "@jupyter-widgets/controls",
      "model_module_version": "2.0.0",
      "model_name": "DescriptionStyleModel",
      "state": {
       "description_width": ""
      }
     },
     "b03cad9ef4cb4f48a4f9e71ce3968039": {
      "model_module": "@jupyter-widgets/controls",
      "model_module_version": "2.0.0",
      "model_name": "FloatSliderModel",
      "state": {
       "behavior": "drag-tap",
       "description": "Wavelength L (m)",
       "layout": "IPY_MODEL_42eb65a1e4264a248b80a5fee832cd21",
       "min": 1,
       "style": "IPY_MODEL_94d731b87acf4833a3e5e1002f2c9f5f",
       "value": 10.000000000000002
      }
     },
     "b33c4258db724ef3a0b74935c7c7b0f2": {
      "model_module": "@jupyter-widgets/controls",
      "model_module_version": "2.0.0",
      "model_name": "FloatSliderModel",
      "state": {
       "behavior": "drag-tap",
       "description": "Amplitude [m]",
       "layout": "IPY_MODEL_2cef57d8e2f24661a9c2511e6c2f3a97",
       "max": 4,
       "min": 0.1,
       "step": 0.1,
       "style": "IPY_MODEL_8ea0db41b15b42f08c25c358c1b0da82",
       "value": 0.2
      }
     },
     "c1933506bd794ebf854bff30d3b0360d": {
      "model_module": "@jupyter-widgets/output",
      "model_module_version": "1.0.0",
      "model_name": "OutputModel",
      "state": {
       "layout": "IPY_MODEL_3b823fb663854e9fbc73f01c58f272f9"
      }
     },
     "c74f6ae2146e4a57a0eae2abb37c17f9": {
      "model_module": "@jupyter-widgets/controls",
      "model_module_version": "2.0.0",
      "model_name": "FloatSliderModel",
      "state": {
       "behavior": "drag-tap",
       "description": "Water Depth h (m)",
       "layout": "IPY_MODEL_4a0f9a3f6e7947b293f35790f9b7b740",
       "max": 50,
       "min": 1,
       "style": "IPY_MODEL_650454a8950c4982906d42fca53f82e7",
       "value": 10.000000000000002
      }
     },
     "cc6cdc70cc994d4fb9bbafd8f2c67237": {
      "model_module": "@jupyter-widgets/base",
      "model_module_version": "2.0.0",
      "model_name": "LayoutModel",
      "state": {}
     },
     "cdfe11695b7c418b9c407ed74e319c90": {
      "model_module": "@jupyter-widgets/controls",
      "model_module_version": "2.0.0",
      "model_name": "FloatSliderModel",
      "state": {
       "behavior": "drag-tap",
       "description": "Depth z (m)",
       "layout": "IPY_MODEL_a23799169b184384b28f257ca4ca78e4",
       "max": 0,
       "min": -50,
       "step": 0.5,
       "style": "IPY_MODEL_93d94fafad5348dbb5e85479c471b6d8",
       "value": -2
      }
     },
     "d0ab09d9e5d64fdd984a1c349b9d20c1": {
      "model_module": "@jupyter-widgets/output",
      "model_module_version": "1.0.0",
      "model_name": "OutputModel",
      "state": {
       "layout": "IPY_MODEL_1299fc4cebc74212b0d9b610772bdf35",
       "outputs": [
        {
         "name": "stdout",
         "output_type": "stream",
         "text": "🌊 Scenario 1: Shallow Breaker (H=1.5m, T=5s, h=5m, z=-1m)\n- Wavelength: 4.97 m\n- Phase Speed: 0.99 m/s\n- Total Energy: 5656.08 J/m²\n- Wave Power: 5625.34 W/m\n- Pressure at z = -1.0 m: 2131.76 Pa\n\n🌊 Scenario 2: Moderate Swell (H=2m, T=10s, h=20m, z=-5m)\n- Wavelength: 19.89 m\n- Phase Speed: 1.99 m/s\n- Total Energy: 10055.25 J/m²\n- Wave Power: 20001.22 W/m\n- Pressure at z = -5.0 m: 2072.57 Pa\n\n"
        },
        {
         "data": {
          "image/png": "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",
          "text/plain": "<Figure size 1000x500 with 1 Axes>"
         },
         "metadata": {},
         "output_type": "display_data"
        }
       ]
      }
     },
     "d431ce1c059b46ba9e947a6c5fd2cf8b": {
      "model_module": "@jupyter-widgets/controls",
      "model_module_version": "2.0.0",
      "model_name": "SliderStyleModel",
      "state": {
       "description_width": ""
      }
     },
     "d4396235afa64f39a25f4f8db3310e4c": {
      "model_module": "@jupyter-widgets/base",
      "model_module_version": "2.0.0",
      "model_name": "LayoutModel",
      "state": {}
     },
     "d684daacf0bf42c4ba53dc0367394397": {
      "model_module": "@jupyter-widgets/base",
      "model_module_version": "2.0.0",
      "model_name": "LayoutModel",
      "state": {}
     },
     "d82bfc486cb54f7d9f45acddbf8a2643": {
      "model_module": "@jupyter-widgets/controls",
      "model_module_version": "2.0.0",
      "model_name": "DropdownModel",
      "state": {
       "_options_labels": [
        "Calm Sea (H=1m, T=6s, h=10m, z=-2m)",
        "Moderate Swell (H=2m, T=10s, h=20m, z=-5m)",
        "Storm Surge (H=4m, T=12s, h=15m, z=-3m)",
        "Shallow Breaker (H=1.5m, T=5s, h=5m, z=-1m)",
        "Deep Ocean Swell (H=3m, T=14s, h=40m, z=-10m)"
       ],
       "description": "Scenario 2",
       "index": 1,
       "layout": "IPY_MODEL_81694d528a14408e918eb8957fd7c8d8",
       "style": "IPY_MODEL_ac1e8114df4f40d6b6f14758bd4fec06"
      }
     },
     "de5f9a0b941d4dca81a3c1196142cc47": {
      "model_module": "@jupyter-widgets/controls",
      "model_module_version": "2.0.0",
      "model_name": "FloatSliderModel",
      "state": {
       "behavior": "drag-tap",
       "description": "Wave Height H (m)",
       "layout": "IPY_MODEL_502c7ed400d34fd984011b86cb8b292b",
       "max": 5,
       "min": 0.1,
       "step": 0.1,
       "style": "IPY_MODEL_ab2d1e29dd3542af9058a35d217bd9c4",
       "value": 3.5
      }
     },
     "edba46dbf6bc42ac881c6ade7590c376": {
      "model_module": "@jupyter-widgets/base",
      "model_module_version": "2.0.0",
      "model_name": "LayoutModel",
      "state": {}
     },
     "f1a7ae8f4f1d41679019a9c62ff879b8": {
      "model_module": "@jupyter-widgets/output",
      "model_module_version": "1.0.0",
      "model_name": "OutputModel",
      "state": {
       "layout": "IPY_MODEL_466be509c0554d4d8829b33adb8a1f59",
       "outputs": [
        {
         "name": "stdout",
         "output_type": "stream",
         "text": "🌊 Wave Characteristics:\n- Wavelength (L): 9.97 m\n- Phase Speed (c): 1.25 m/s\n\n⚡ Energy:\n- Potential Energy: 15397.10 J/m²\n- Kinetic Energy: 15397.10 J/m²\n- Total Energy: 30794.20 J/m²\n- Wave Power: 38364.76 W/m\n\n🧭 Pressure at z = -2.0 m:\n- Dynamic Pressure: 4987.42 Pa\n"
        },
        {
         "data": {
          "image/png": "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",
          "text/plain": "<Figure size 600x400 with 1 Axes>"
         },
         "metadata": {},
         "output_type": "display_data"
        }
       ]
      }
     },
     "f7312fe1351a41029bb09ffbd95e83ea": {
      "model_module": "@jupyter-widgets/controls",
      "model_module_version": "2.0.0",
      "model_name": "FloatSliderModel",
      "state": {
       "behavior": "drag-tap",
       "description": "Water Depth h (m)",
       "layout": "IPY_MODEL_5665f774e8804e65b7d7989a6dc2859b",
       "max": 50,
       "min": 0.1,
       "step": 0.5,
       "style": "IPY_MODEL_87ea08f4b5de4ee3a219f0a05eb2b06f",
       "value": 5.1
      }
     },
     "f7e5a817269047a6b71a1f10651c6573": {
      "model_module": "@jupyter-widgets/base",
      "model_module_version": "2.0.0",
      "model_name": "LayoutModel",
      "state": {}
     },
     "faa5057fda4f4ea2a1b236921a133c3e": {
      "model_module": "@jupyter-widgets/output",
      "model_module_version": "1.0.0",
      "model_name": "OutputModel",
      "state": {
       "layout": "IPY_MODEL_7079acf4fed44227b5a3be9d2a683cbe",
       "outputs": [
        {
         "data": {
          "image/png": "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",
          "text/plain": "<Figure size 1200x400 with 2 Axes>"
         },
         "metadata": {},
         "output_type": "display_data"
        }
       ]
      }
     }
    },
    "version_major": 2,
    "version_minor": 0
   }
  }
 },
 "nbformat": 4,
 "nbformat_minor": 5
}
