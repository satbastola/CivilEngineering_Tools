{
 "cells": [
  {
   "cell_type": "code",
   "execution_count": null,
   "id": "04fbacc7-6628-4202-ad49-36d050f3fe86",
   "metadata": {},
   "outputs": [],
   "source": []
  },
  {
   "cell_type": "code",
   "execution_count": 6,
   "id": "247604c9-e3a2-489b-bc3f-d959e70d83d2",
   "metadata": {},
   "outputs": [
    {
     "data": {
      "application/vnd.jupyter.widget-view+json": {
       "model_id": "aa5b9d9b7fa44583a67ea9a0438b0c8c",
       "version_major": 2,
       "version_minor": 0
      },
      "text/plain": [
       "VBox(children=(Label(value='💦 Flow Rate Diverted [m³/s]:\\nAmount of water diverted from the main channel for s…"
      ]
     },
     "metadata": {},
     "output_type": "display_data"
    },
    {
     "data": {
      "application/vnd.jupyter.widget-view+json": {
       "model_id": "4828164fb5fe4d37a02df7a645d339e4",
       "version_major": 2,
       "version_minor": 0
      },
      "text/plain": [
       "VBox(children=(Label(value='💦 Sand Fraction [%]'), FloatSlider(value=40.0, step=2.0)))"
      ]
     },
     "metadata": {},
     "output_type": "display_data"
    },
    {
     "data": {
      "application/vnd.jupyter.widget-view+json": {
       "model_id": "f562635449454aecb54abcfae6ac65ad",
       "version_major": 2,
       "version_minor": 0
      },
      "text/plain": [
       "VBox(children=(Label(value='💦 silt Fraction [%].'), FloatSlider(value=500.0, max=3000.0, min=100.0, step=100.0…"
      ]
     },
     "metadata": {},
     "output_type": "display_data"
    },
    {
     "data": {
      "application/vnd.jupyter.widget-view+json": {
       "model_id": "48c6a2bb82fe41d1aa800f7879e764af",
       "version_major": 2,
       "version_minor": 0
      },
      "text/plain": [
       "VBox(children=(Label(value='💦 clay Fraction [%]'), FloatSlider(value=5.0, step=5.0)))"
      ]
     },
     "metadata": {},
     "output_type": "display_data"
    },
    {
     "data": {
      "application/vnd.jupyter.widget-view+json": {
       "model_id": "52344da512e447dd9e9c1464875a3c8d",
       "version_major": 2,
       "version_minor": 0
      },
      "text/plain": [
       "VBox(children=(Label(value=\"💦 Salinity in Receiving Basin [ppt]'.\"), FloatSlider(value=2.0, max=30.0, step=100…"
      ]
     },
     "metadata": {},
     "output_type": "display_data"
    },
    {
     "data": {
      "application/vnd.jupyter.widget-view+json": {
       "model_id": "c5de6c2bd46f462182a1aa79fd19c36b",
       "version_major": 2,
       "version_minor": 0
      },
      "text/plain": [
       "VBox(children=(Label(value='💦 Sediment Spread Area.'), FloatSlider(value=50.0, max=3000.0, min=1.0, step=100.0…"
      ]
     },
     "metadata": {},
     "output_type": "display_data"
    }
   ],
   "source": [
    "import numpy as np\n",
    "from ipywidgets import interact, FloatSlider\n",
    "from IPython.display import display, Markdown\n",
    "\n",
    "# 🧱 Empirical coefficients for sediment deposition effectiveness\n",
    "def compute_land_gain(Q, sand, silt, clay, salinity, area):\n",
    "    # Normalize sediment fractions\n",
    "    total_frac = sand + silt + clay\n",
    "    sand_frac = sand / total_frac\n",
    "    silt_frac = silt / total_frac\n",
    "    clay_frac = clay / total_frac\n",
    "\n",
    "    # Weighting effectiveness: sand deposits faster, clay settles poorly\n",
    "    effectiveness = (\n",
    "        1.5 * sand_frac +\n",
    "        1.2 * silt_frac +\n",
    "        0.4 * clay_frac\n",
    "    )\n",
    "\n",
    "    # Salinity adjustment: higher salinity reduces flocculation of clay\n",
    "    salinity_factor = np.exp(-0.05 * salinity)  # drops with salinity\n",
    "\n",
    "    # Area dilution factor: wider spread = lower deposition per unit area\n",
    "    area_factor = 1 / np.sqrt(area)\n",
    "\n",
    "    # Flow scaling (m³/s → m³/day → tonnes/day rough estimate)\n",
    "    mass_input = Q * 86400 * 1.3 * effectiveness * salinity_factor * 1e-3  # assume 1.3 g/cm³ sediment\n",
    "\n",
    "    # Empirical conversion to land gain (hectares/year)\n",
    "    land_gain = (mass_input / 1e5) * area_factor * 365\n",
    "    return round(land_gain, 2)\n",
    "\n",
    "# 🎛️ Interactive function\n",
    "def update(Q, sand, silt, clay, salinity, area):\n",
    "    gain = compute_land_gain(Q, sand, silt, clay, salinity, area)\n",
    "    display(Markdown(f\"\"\"\n",
    "### 🌍 Estimated Land Gain from Diversion:\n",
    "- 💧 Flow diverted: **{Q} m³/s**\n",
    "- 🏖️ Sediment fractions: Sand={sand}%, Silt={silt}%, Clay={clay}%\n",
    "- 🌊 Receiving basin salinity: **{salinity} ppt**\n",
    "- 🗺️ Spread area: **{area} km²**\n",
    "---\n",
    "🟢 **Estimated land-building performance:**  \n",
    "🏞️ **{gain} hectares/year**\n",
    "\"\"\"))\n",
    "\n",
    "from ipywidgets import FloatSlider, Label, VBox\n",
    "\n",
    "flow_slider = FloatSlider(value=500, min=10, max=30000, step=10)\n",
    "\n",
    "flow_label = Label(\"💦 Flow Rate Diverted [m³/s]:\\nAmount of water diverted from the main channel for sediment delivery.\")\n",
    "\n",
    "display(VBox([flow_label, flow_slider]))\n",
    "\n",
    "\n",
    "flow_slider = FloatSlider(value=40, min=0, max=100, step=2)\n",
    "\n",
    "flow_label = Label(\"💦 Sand Fraction [%]\")\n",
    "\n",
    "display(VBox([flow_label, flow_slider]))\n",
    "\n",
    "\n",
    "flow_slider = FloatSlider(value=500, min=100, max=3000, step=100)\n",
    "\n",
    "flow_label = Label(\"💦 silt Fraction [%].\")\n",
    "\n",
    "display(VBox([flow_label, flow_slider]))\n",
    "\n",
    "\n",
    "flow_slider = FloatSlider(value=5, min=0, max=100, step=5)\n",
    "\n",
    "flow_label = Label(\"💦 clay Fraction [%]\")\n",
    "\n",
    "display(VBox([flow_label, flow_slider]))\n",
    "\n",
    "\n",
    "flow_slider = FloatSlider(value=2, min=0, max=30, step=100)\n",
    "\n",
    "flow_label = Label(\"💦 Salinity in Receiving Basin [ppt]'.\")\n",
    "\n",
    "display(VBox([flow_label, flow_slider]))\n",
    "\n",
    "\n",
    "flow_slider = FloatSlider(value=50, min=1, max=3000, step=100)\n",
    "\n",
    "flow_label = Label(\"💦 Sediment Spread Area.\")\n",
    "\n",
    "display(VBox([flow_label, flow_slider]))\n",
    "\n",
    "\n",
    "\n",
    "\n",
    "# # 🚀 Run the interactive tool\n",
    "# interact(update,\n",
    "#     Q=FloatSlider(value=500, min=100, max=3000, step=100,\n",
    "#                   description='Flow Rate Diverted [m³/s]'),\n",
    "#     sand=FloatSlider(value=40, min=0, max=100, step=5,\n",
    "#                      description='Sand Fraction [%]'),\n",
    "#     silt=FloatSlider(value=40, min=0, max=100, step=5,\n",
    "#                      description='Silt Fraction [%]'),\n",
    "#     clay=FloatSlider(value=20, min=0, max=100, step=5,\n",
    "#                      description='Clay Fraction [%]'),\n",
    "#     salinity=FloatSlider(value=2, min=0, max=30, step=1,\n",
    "#                          description='Salinity in Receiving Basin [ppt]'),\n",
    "#     area=FloatSlider(value=50, min=1, max=200, step=5,\n",
    "#                      description='Sediment Spread Area [km²]')\n",
    "# )\n"
   ]
  },
  {
   "cell_type": "code",
   "execution_count": null,
   "id": "bdcd7cfe-d546-41af-9536-900c05490fe2",
   "metadata": {},
   "outputs": [],
   "source": []
  },
  {
   "cell_type": "code",
   "execution_count": 7,
   "id": "476a714c-bfee-4629-9a0e-b233fb18a151",
   "metadata": {},
   "outputs": [
    {
     "data": {
      "application/vnd.jupyter.widget-view+json": {
       "model_id": "17c32c569014479197b48a84a30f8eaf",
       "version_major": 2,
       "version_minor": 0
      },
      "text/plain": [
       "VBox(children=(Label(value='💦 Flow Rate Diverted [m³/s]:\\nAmount of water diverted from the main channel for s…"
      ]
     },
     "metadata": {},
     "output_type": "display_data"
    },
    {
     "data": {
      "application/vnd.jupyter.widget-view+json": {
       "model_id": "d81be883cbe142c48cc0dc9dbc2f7d09",
       "version_major": 2,
       "version_minor": 0
      },
      "text/plain": [
       "interactive(children=(FloatSlider(value=500.0, description='Q', max=3000.0, min=100.0, step=100.0, style=Slide…"
      ]
     },
     "metadata": {},
     "output_type": "display_data"
    },
    {
     "data": {
      "text/plain": [
       "<function __main__.update(Q, sand, silt, clay, salinity, area)>"
      ]
     },
     "execution_count": 7,
     "metadata": {},
     "output_type": "execute_result"
    }
   ],
   "source": []
  },
  {
   "cell_type": "code",
   "execution_count": 1,
   "id": "6dec23ae-aeab-4fdf-a79b-dac072201d21",
   "metadata": {},
   "outputs": [
    {
     "data": {
      "application/vnd.jupyter.widget-view+json": {
       "model_id": "6307841115034ac7990e01c8988b6f09",
       "version_major": 2,
       "version_minor": 0
      },
      "text/plain": [
       "interactive(children=(FloatSlider(value=500.0, description='Flow Rate Diverted [m³/s]', max=3000.0, min=100.0,…"
      ]
     },
     "metadata": {},
     "output_type": "display_data"
    },
    {
     "data": {
      "text/plain": [
       "<function __main__.update(Q, sand, silt, clay, salinity, area)>"
      ]
     },
     "execution_count": 1,
     "metadata": {},
     "output_type": "execute_result"
    }
   ],
   "source": [
    "import numpy as np\n",
    "from ipywidgets import interact, FloatSlider\n",
    "from IPython.display import display, Markdown\n",
    "\n",
    "# 🧱 Empirical coefficients for sediment deposition effectiveness\n",
    "def compute_land_gain(Q, sand, silt, clay, salinity, area):\n",
    "    # Normalize sediment fractions\n",
    "    total_frac = sand + silt + clay\n",
    "    sand_frac = sand / total_frac\n",
    "    silt_frac = silt / total_frac\n",
    "    clay_frac = clay / total_frac\n",
    "\n",
    "    # Weighting effectiveness: sand deposits faster, clay settles poorly\n",
    "    effectiveness = (\n",
    "        1.5 * sand_frac +\n",
    "        1.2 * silt_frac +\n",
    "        0.4 * clay_frac\n",
    "    )\n",
    "\n",
    "    # Salinity adjustment: higher salinity reduces flocculation of clay\n",
    "    salinity_factor = np.exp(-0.05 * salinity)  # drops with salinity\n",
    "\n",
    "    # Area dilution factor: wider spread = lower deposition per unit area\n",
    "    area_factor = 1 / np.sqrt(area)\n",
    "\n",
    "    # Flow scaling (m³/s → m³/day → tonnes/day rough estimate)\n",
    "    mass_input = Q * 86400 * 1.3 * effectiveness * salinity_factor * 1e-3  # assume 1.3 g/cm³ sediment\n",
    "\n",
    "    # Empirical conversion to land gain (hectares/year)\n",
    "    land_gain = (mass_input / 1e5) * area_factor * 365\n",
    "    return round(land_gain, 2)\n",
    "\n",
    "# 🎛️ Interactive function\n",
    "def update(Q, sand, silt, clay, salinity, area):\n",
    "    gain = compute_land_gain(Q, sand, silt, clay, salinity, area)\n",
    "    display(Markdown(f\"\"\"\n",
    "### 🌍 Estimated Land Gain from Diversion:\n",
    "- 💧 Flow diverted: **{Q} m³/s**\n",
    "- 🏖️ Sediment fractions: Sand={sand}%, Silt={silt}%, Clay={clay}%\n",
    "- 🌊 Receiving basin salinity: **{salinity} ppt**\n",
    "- 🗺️ Spread area: **{area} km²**\n",
    "---\n",
    "🟢 **Estimated land-building performance:**  \n",
    "🏞️ **{gain} hectares/year**\n",
    "\"\"\"))\n",
    "\n",
    "from ipywidgets import FloatSlider, Label, VBox\n",
    "\n",
    "\n",
    "\n",
    "interact(update,\n",
    "\n",
    "         \n",
    "         \n",
    "             Q=FloatSlider(value=500, min=100, max=3000, step=100,\n",
    "                  description='Flow Rate Diverted [m³/s]'),\n",
    "    sand=FloatSlider(value=40, min=0, max=100, step=5,\n",
    "                     description='Sand Fraction [%]'),\n",
    "    silt=FloatSlider(value=40, min=0, max=100, step=5,\n",
    "                     description='Silt Fraction [%]'),\n",
    "    clay=FloatSlider(value=20, min=0, max=100, step=5,\n",
    "                     description='Clay Fraction [%]'),\n",
    "    salinity=FloatSlider(value=2, min=0, max=30, step=1,\n",
    "                         description='Salinity in Receiving Basin [ppt]'),\n",
    "    area=FloatSlider(value=50, min=1, max=200, step=5,\n",
    "                     description='Sediment Spread Area [km²]')\n",
    " \n",
    ")\n"
   ]
  },
  {
   "cell_type": "code",
   "execution_count": null,
   "id": "47f0c60a-267e-4b3a-a0c1-08a9ce8f3b61",
   "metadata": {},
   "outputs": [],
   "source": []
  }
 ],
 "metadata": {
  "kernelspec": {
   "display_name": "Python [conda env:base] *",
   "language": "python",
   "name": "conda-base-py"
  },
  "language_info": {
   "codemirror_mode": {
    "name": "ipython",
    "version": 3
   },
   "file_extension": ".py",
   "mimetype": "text/x-python",
   "name": "python",
   "nbconvert_exporter": "python",
   "pygments_lexer": "ipython3",
   "version": "3.12.7"
  },
  "widgets": {
   "application/vnd.jupyter.widget-state+json": {
    "state": {
     "0c3f1f4d6f5940ad98867c6ce92d5e10": {
      "model_module": "@jupyter-widgets/base",
      "model_module_version": "2.0.0",
      "model_name": "LayoutModel",
      "state": {}
     },
     "1abd84053aaf44288945ed61cd55f225": {
      "model_module": "@jupyter-widgets/base",
      "model_module_version": "2.0.0",
      "model_name": "LayoutModel",
      "state": {}
     },
     "33bbfc48e19849179c8cb6ca186ea495": {
      "model_module": "@jupyter-widgets/controls",
      "model_module_version": "2.0.0",
      "model_name": "SliderStyleModel",
      "state": {
       "description_width": ""
      }
     },
     "3e205932f1ce402f83590b089628c935": {
      "model_module": "@jupyter-widgets/controls",
      "model_module_version": "2.0.0",
      "model_name": "FloatSliderModel",
      "state": {
       "behavior": "drag-tap",
       "description": "Silt Fraction [%]",
       "layout": "IPY_MODEL_a5b88e7c5898489a91ec8520b6cf47ff",
       "step": 5,
       "style": "IPY_MODEL_85b818fd890a4508aaa563b096d93256",
       "value": 80
      }
     },
     "6307841115034ac7990e01c8988b6f09": {
      "model_module": "@jupyter-widgets/controls",
      "model_module_version": "2.0.0",
      "model_name": "VBoxModel",
      "state": {
       "_dom_classes": [
        "widget-interact"
       ],
       "children": [
        "IPY_MODEL_f161b53ffbf748ca9fd76587f9b9bf90",
        "IPY_MODEL_fa7262f439f04f76b66c04e91f1e6cd2",
        "IPY_MODEL_3e205932f1ce402f83590b089628c935",
        "IPY_MODEL_f9d003888c0e433f9922a8a437517c9a",
        "IPY_MODEL_9dac0eff3af1465cb9c9873732a48bd4",
        "IPY_MODEL_b67fd36091e54e33b6e74ff1f6b06183",
        "IPY_MODEL_e2b67270400b472bbbbad787321cc40a"
       ],
       "layout": "IPY_MODEL_f6e7ff72a2be4a76bd5da7b26ee5c50b"
      }
     },
     "81434dcff079463cb01128b6d952c649": {
      "model_module": "@jupyter-widgets/base",
      "model_module_version": "2.0.0",
      "model_name": "LayoutModel",
      "state": {}
     },
     "81d45c375b7d48669e58706106a90eb3": {
      "model_module": "@jupyter-widgets/controls",
      "model_module_version": "2.0.0",
      "model_name": "SliderStyleModel",
      "state": {
       "description_width": ""
      }
     },
     "8469982657844615b1ff1b74d7967ad8": {
      "model_module": "@jupyter-widgets/controls",
      "model_module_version": "2.0.0",
      "model_name": "SliderStyleModel",
      "state": {
       "description_width": ""
      }
     },
     "85b818fd890a4508aaa563b096d93256": {
      "model_module": "@jupyter-widgets/controls",
      "model_module_version": "2.0.0",
      "model_name": "SliderStyleModel",
      "state": {
       "description_width": ""
      }
     },
     "9dac0eff3af1465cb9c9873732a48bd4": {
      "model_module": "@jupyter-widgets/controls",
      "model_module_version": "2.0.0",
      "model_name": "FloatSliderModel",
      "state": {
       "behavior": "drag-tap",
       "description": "Salinity in Receiving Basin [ppt]",
       "layout": "IPY_MODEL_a61866c8c4514b70a3031d82d934a3e5",
       "max": 30,
       "style": "IPY_MODEL_81d45c375b7d48669e58706106a90eb3",
       "value": 10.000000000000002
      }
     },
     "a5b88e7c5898489a91ec8520b6cf47ff": {
      "model_module": "@jupyter-widgets/base",
      "model_module_version": "2.0.0",
      "model_name": "LayoutModel",
      "state": {}
     },
     "a61866c8c4514b70a3031d82d934a3e5": {
      "model_module": "@jupyter-widgets/base",
      "model_module_version": "2.0.0",
      "model_name": "LayoutModel",
      "state": {}
     },
     "b67fd36091e54e33b6e74ff1f6b06183": {
      "model_module": "@jupyter-widgets/controls",
      "model_module_version": "2.0.0",
      "model_name": "FloatSliderModel",
      "state": {
       "behavior": "drag-tap",
       "description": "Sediment Spread Area [km²]",
       "layout": "IPY_MODEL_e2b4c9802fe54cf7b19cabc1a9fd21ab",
       "max": 200,
       "min": 1,
       "step": 5,
       "style": "IPY_MODEL_b6cde680188047118c5d77f941765f7e",
       "value": 51
      }
     },
     "b6cde680188047118c5d77f941765f7e": {
      "model_module": "@jupyter-widgets/controls",
      "model_module_version": "2.0.0",
      "model_name": "SliderStyleModel",
      "state": {
       "description_width": ""
      }
     },
     "cdf4ef4b49334f83bfaa30627bf367db": {
      "model_module": "@jupyter-widgets/controls",
      "model_module_version": "2.0.0",
      "model_name": "SliderStyleModel",
      "state": {
       "description_width": ""
      }
     },
     "e2b4c9802fe54cf7b19cabc1a9fd21ab": {
      "model_module": "@jupyter-widgets/base",
      "model_module_version": "2.0.0",
      "model_name": "LayoutModel",
      "state": {}
     },
     "e2b67270400b472bbbbad787321cc40a": {
      "model_module": "@jupyter-widgets/output",
      "model_module_version": "1.0.0",
      "model_name": "OutputModel",
      "state": {
       "layout": "IPY_MODEL_1abd84053aaf44288945ed61cd55f225",
       "outputs": [
        {
         "data": {
          "text/markdown": "\n### 🌍 Estimated Land Gain from Diversion:\n- 💧 Flow diverted: **1500.0 m³/s**\n- 🏖️ Sediment fractions: Sand=25.0%, Silt=80.0%, Clay=55.0%\n- 🌊 Receiving basin salinity: **10.000000000000002 ppt**\n- 🗺️ Spread area: **51.0 km²**\n---\n🟢 **Estimated land-building performance:**  \n🏞️ **50.76 hectares/year**\n",
          "text/plain": "<IPython.core.display.Markdown object>"
         },
         "metadata": {},
         "output_type": "display_data"
        }
       ]
      }
     },
     "f161b53ffbf748ca9fd76587f9b9bf90": {
      "model_module": "@jupyter-widgets/controls",
      "model_module_version": "2.0.0",
      "model_name": "FloatSliderModel",
      "state": {
       "behavior": "drag-tap",
       "description": "Flow Rate Diverted [m³/s]",
       "layout": "IPY_MODEL_0c3f1f4d6f5940ad98867c6ce92d5e10",
       "max": 3000,
       "min": 100,
       "step": 100,
       "style": "IPY_MODEL_cdf4ef4b49334f83bfaa30627bf367db",
       "value": 1500
      }
     },
     "f6e7ff72a2be4a76bd5da7b26ee5c50b": {
      "model_module": "@jupyter-widgets/base",
      "model_module_version": "2.0.0",
      "model_name": "LayoutModel",
      "state": {}
     },
     "f9d003888c0e433f9922a8a437517c9a": {
      "model_module": "@jupyter-widgets/controls",
      "model_module_version": "2.0.0",
      "model_name": "FloatSliderModel",
      "state": {
       "behavior": "drag-tap",
       "description": "Clay Fraction [%]",
       "layout": "IPY_MODEL_81434dcff079463cb01128b6d952c649",
       "step": 5,
       "style": "IPY_MODEL_33bbfc48e19849179c8cb6ca186ea495",
       "value": 55
      }
     },
     "fa7262f439f04f76b66c04e91f1e6cd2": {
      "model_module": "@jupyter-widgets/controls",
      "model_module_version": "2.0.0",
      "model_name": "FloatSliderModel",
      "state": {
       "behavior": "drag-tap",
       "description": "Sand Fraction [%]",
       "layout": "IPY_MODEL_faaf29b7a128418992d69ac63dd74a7c",
       "step": 5,
       "style": "IPY_MODEL_8469982657844615b1ff1b74d7967ad8",
       "value": 25
      }
     },
     "faaf29b7a128418992d69ac63dd74a7c": {
      "model_module": "@jupyter-widgets/base",
      "model_module_version": "2.0.0",
      "model_name": "LayoutModel",
      "state": {}
     }
    },
    "version_major": 2,
    "version_minor": 0
   }
  }
 },
 "nbformat": 4,
 "nbformat_minor": 5
}
