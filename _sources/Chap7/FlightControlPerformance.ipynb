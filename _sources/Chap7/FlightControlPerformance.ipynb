{
 "cells": [
  {
   "cell_type": "markdown",
   "id": "ca6c2877-0647-4217-b2ce-1d8e24714a9a",
   "metadata": {},
   "source": [
    "# Chapter 7 Drone Remote Pilot: Drone Flight control and Performance"
   ]
  },
  {
   "cell_type": "markdown",
   "id": "43a47e46-8928-412c-869f-c69a9d3102e8",
   "metadata": {},
   "source": [
    "1. [Introduction: Drone Components ](#1.-Introduction)\n",
    "3. [Simulation: Quadcopter Thrust Estimator](#2.-Simulation)\n",
    "4. [Simulation: Airfoil Force Simulator](#3.-Simulation)\n",
    "5. [Self-Assessment](#4.-Self-Assessment)\n"
   ]
  },
  {
   "cell_type": "markdown",
   "id": "780f5fe1-999c-4d14-be48-2d89e684880b",
   "metadata": {},
   "source": [
    "## 1. Introduction"
   ]
  },
  {
   "cell_type": "markdown",
   "id": "372449b9-e4db-48cb-a32a-26c81b3f5c3c",
   "metadata": {},
   "source": [
    "### 🛫 Drone Flight Control and Aerodynamic Forces\n",
    "\n",
    "A **drone** (Unmanned Aerial Vehicle or UAV) is a flying robot that operates either autonomously or via remote control. In quadcopters:\n",
    "\n",
    "- Four rotors generate lift and enable 3D maneuverability.\n",
    "- Components include motors, propellers, batteries, sensors, and flight controllers.\n",
    "- Drones may carry payloads such as cameras, sensors, or delivery packages.\n",
    "\n",
    "---\n",
    "\n",
    "### 🎮 How Are Drones Controlled?\n",
    "\n",
    "Quadcopters manipulate thrust across four motors to control movement along four axes:\n",
    "\n",
    "| Control Axis | Description                                                                 |\n",
    "|--------------|-----------------------------------------------------------------------------|\n",
    "| **Hover**    | Maintain altitude by balancing thrust and gravity                           |\n",
    "| **Pitch**    | Tilt forward/backward by adjusting front/rear motor speeds                  |\n",
    "| **Roll**     | Tilt left/right by adjusting left/right motor speeds                        |\n",
    "| **Yaw**      | Rotate clockwise/counterclockwise by varying diagonal motor pairs           |\n",
    "\n",
    "Control inputs are delivered via:\n",
    "\n",
    "- **Remote controllers** (manual piloting)  \n",
    "- **Autopilot systems** (GPS-based navigation)  \n",
    "- **Flight control software** (e.g., PID controllers for stability)\n",
    "\n",
    "\n",
    "### ⚠️ Most Limiting Factors in Drone Control\n",
    "\n",
    "| Limiting Factor         | Impact on Control                                                                 |\n",
    "|-------------------------|-----------------------------------------------------------------------------------|\n",
    "| **Thrust-to-Weight Ratio** | Insufficient thrust prevents hovering or climbing                              |\n",
    "| **Air Density (Altitude)** | Reduced lift efficiency at high altitudes due to lower air density             |\n",
    "| **Battery Capacity**        | Limits flight time and available power for maneuvers                          |\n",
    "| **Propeller Efficiency**    | Poor matching of size/pitch reduces lift and responsiveness                   |\n",
    "| **Environmental Conditions**| Wind, turbulence, and temperature affect stability and control precision      |\n",
    "| **Sensor Accuracy**         | GPS drift, IMU noise, or barometer errors degrade autonomous control          |\n",
    "\n",
    "---\n",
    "\n",
    "### 📘 Related Concepts\n",
    "\n",
    "#### 🏔️ Density Altitude\n",
    "- **Definition**: Altitude relative to air density, not physical elevation  \n",
    "- **Impact**: Higher density altitude (e.g., hot, humid, high elevation) reduces air density → less lift  \n",
    "- **Relevance**: Drones require more thrust to operate effectively at high density altitudes\n",
    "\n",
    "#### 📐 Angle of Attack (AoA)\n",
    "- **Definition**: Angle between the chord line of the propeller blade and the oncoming airflow  \n",
    "- **Impact**:  \n",
    "  - Higher AoA increases lift — up to a point  \n",
    "  - Excessive AoA causes **stall**, reducing lift and increasing drag  \n",
    "- **Relevance**: Critical in propeller design and maneuver efficiency\n"
   ]
  },
  {
   "cell_type": "markdown",
   "id": "948e5e09-9a64-4314-9eb4-042a5d81384c",
   "metadata": {},
   "source": [
    "## 2. Simulation"
   ]
  },
  {
   "cell_type": "markdown",
   "id": "38b19247-fc96-4607-9728-ad22ccd94f65",
   "metadata": {},
   "source": [
    "### 🚀 Quadcopter Thrust Estimator – Summary\n",
    "\n",
    "---\n",
    "\n",
    "### ✅ What It Does  \n",
    "Creates an interactive simulation using `ipywidgets` to estimate the thrust required for a quadcopter based on:\n",
    "\n",
    "- Payload weight  \n",
    "- Propeller size  \n",
    "- Propeller pitch  \n",
    "- Altitude  \n",
    "- Selected flight maneuver(s)\n",
    "\n",
    "---\n",
    "\n",
    "### ⚙️ How It Works  \n",
    "- Uses sliders and dropdowns for user input  \n",
    "- Calculates thrust based on:\n",
    "  - Gravity-adjusted payload\n",
    "  - Air density reduction with altitude\n",
    "  - Propeller diameter and pitch efficiency\n",
    "  - Maneuver-specific multipliers (e.g., Hover, Roll)  \n",
    "- Outputs the required thrust in Newtons for chosen conditions\n",
    "\n",
    "---\n",
    "\n",
    "### 📊 How to Interpret Results  \n",
    "- The printed thrust value represents **total force needed per quad** to maintain stability or execute maneuvers  \n",
    "- Higher payload, altitude, pitch, or aggressive movements (e.g., Roll/Pitch) increase required thrust  \n",
    "- Use this estimate to size motors and propellers appropriately for performance and power management\n",
    "\n",
    "Perfect for prototyping flight physics or building dynamic educational tools!\n"
   ]
  },
  {
   "cell_type": "code",
   "execution_count": 1,
   "id": "a9a62d5e-73ad-4a4f-9ea2-91d630500e49",
   "metadata": {},
   "outputs": [
    {
     "data": {
      "application/vnd.jupyter.widget-view+json": {
       "model_id": "6f8251a92a8645ca890e3933d0312366",
       "version_major": 2,
       "version_minor": 0
      },
      "text/plain": [
       "VBox(children=(FloatSlider(value=500.0, description='Payload (grams):', max=2000.0, min=100.0, step=50.0, styl…"
      ]
     },
     "metadata": {},
     "output_type": "display_data"
    },
    {
     "data": {
      "application/vnd.jupyter.widget-view+json": {
       "model_id": "93c74a2b51f548c8a43f079be0902a17",
       "version_major": 2,
       "version_minor": 0
      },
      "text/plain": [
       "Output()"
      ]
     },
     "metadata": {},
     "output_type": "display_data"
    }
   ],
   "source": [
    "import ipywidgets as widgets\n",
    "from IPython.display import display\n",
    "import math\n",
    "\n",
    "# Define widgets\n",
    "payload_weight = widgets.FloatSlider(\n",
    "    value=500,\n",
    "    min=100,\n",
    "    max=2000,\n",
    "    step=50,\n",
    "    description='Payload (grams):',\n",
    "    style={'description_width': 'initial'}\n",
    ")\n",
    "\n",
    "propeller_size = widgets.Dropdown(\n",
    "    options=['4 inch', '5 inch', '6 inch', '7 inch', '8 inch'],\n",
    "    value='6 inch',\n",
    "    description='Propeller Size:',\n",
    ")\n",
    "\n",
    "propeller_pitch = widgets.Dropdown(\n",
    "    options=['3 inch', '4 inch', '5 inch', '6 inch'],\n",
    "    value='4 inch',\n",
    "    description='Propeller Pitch:',\n",
    ")\n",
    "\n",
    "altitude = widgets.FloatSlider(\n",
    "    value=0,\n",
    "    min=0,\n",
    "    max=3000,\n",
    "    step=100,\n",
    "    description='Altitude (m):',\n",
    "    style={'description_width': 'initial'}\n",
    ")\n",
    "\n",
    "maneuver = widgets.SelectMultiple(\n",
    "    options=['Hover', 'Yaw', 'Roll', 'Pitch'],\n",
    "    value=['Hover'],\n",
    "    description='Maneuver(s):',\n",
    "    style={'description_width': 'initial'}\n",
    ")\n",
    "\n",
    "output = widgets.Output()\n",
    "\n",
    "def estimate_thrust(payload, prop_size, pitch, alt, maneuvers):\n",
    "    base_factor = {\n",
    "        'Hover': 1.1,\n",
    "        'Yaw': 1.05,\n",
    "        'Roll': 1.2,\n",
    "        'Pitch': 1.2\n",
    "    }\n",
    "\n",
    "    # Prop size and pitch together affect thrust potential\n",
    "    size_factor = {\n",
    "        '4 inch': 0.9,\n",
    "        '5 inch': 1.0,\n",
    "        '6 inch': 1.1,\n",
    "        '7 inch': 1.2,\n",
    "        '8 inch': 1.3\n",
    "    }\n",
    "\n",
    "    pitch_factor = {\n",
    "        '3 inch': 0.95,\n",
    "        '4 inch': 1.0,\n",
    "        '5 inch': 1.05,\n",
    "        '6 inch': 1.1\n",
    "    }\n",
    "\n",
    "    air_density_sea_level = 1.225\n",
    "    air_density = air_density_sea_level * math.exp(-alt / 8500)\n",
    "\n",
    "    maneuver_factor = max([base_factor[m] for m in maneuvers])\n",
    "    adjusted_payload = payload * 9.81 * maneuver_factor\n",
    "    thrust_factor = size_factor[prop_size] * pitch_factor[pitch]\n",
    "    density_adjustment = air_density / air_density_sea_level\n",
    "\n",
    "    total_thrust = adjusted_payload / (thrust_factor * density_adjustment)\n",
    "    return total_thrust\n",
    "\n",
    "def update_output(change=None):\n",
    "    with output:\n",
    "        output.clear_output()\n",
    "        thrust = estimate_thrust(\n",
    "            payload_weight.value,\n",
    "            propeller_size.value,\n",
    "            propeller_pitch.value,\n",
    "            altitude.value,\n",
    "            list(maneuver.value)\n",
    "        )\n",
    "        print(\"🚁 Estimated Thrust Needed:\")\n",
    "        print(f\"➡️ {thrust:.2f} Newtons for selected conditions\")\n",
    "\n",
    "# Observe changes\n",
    "for widget in [payload_weight, propeller_size, propeller_pitch, altitude, maneuver]:\n",
    "    widget.observe(update_output, names='value')\n",
    "\n",
    "update_output()\n",
    "\n",
    "ui = widgets.VBox([\n",
    "    payload_weight,\n",
    "    propeller_size,\n",
    "    propeller_pitch,\n",
    "    altitude,\n",
    "    maneuver\n",
    "])\n",
    "display(ui, output)\n"
   ]
  },
  {
   "cell_type": "markdown",
   "id": "db826fb6-6ed7-4b2b-860e-2221cee36e45",
   "metadata": {
    "jp-MarkdownHeadingCollapsed": true
   },
   "source": [
    "## 3. Simulation"
   ]
  },
  {
   "cell_type": "markdown",
   "id": "180cf6e1-8395-440b-99a4-470464724642",
   "metadata": {},
   "source": [
    "### ✈️ Airfoil Force Simulator: Lift, Drag, Bank & Load Factor Interactive Tool\n",
    "\n",
    "This Python widget tool models how an airfoil generates **lift** and experiences **drag** under varying flight conditions, while also accounting for **banking angle** and calculating the **load factor**. It offers hands-on visualization of essential aerodynamic concepts for enhanced flight analysis.\n",
    "\n",
    "---\n",
    "\n",
    "\n",
    "An interactive simulation built using `ipywidgets` that calculates and displays:\n",
    "\n",
    "- 🪁 **Lift Force**\n",
    "- 🛑 **Drag Force**\n",
    "- 🔼 **Lift Coefficient (Cl)**\n",
    "- ⏬ **Drag Coefficient (Cd)**\n",
    "- 📎 **Vertical Lift** (effective lift during bank)\n",
    "- 📈 **Load Factor** (g-force in coordinated turn)\n",
    "\n",
    "Based on the following adjustable inputs:\n",
    "\n",
    "- 📐 **Angle of Attack (°)**\n",
    "- 🌬️ **Airspeed (m/s)**\n",
    "- 🌡️ **Air Density (kg/m³)**\n",
    "- 🧮 **Wing Area (m²)**\n",
    "- 🔁 **Banking Angle (°)**\n",
    "\n",
    "---\n",
    "\n",
    "### ⚙️ How It Works\n",
    "\n",
    "#### Aerodynamics Equations:\n",
    "\n",
    "- **Lift:**  \n",
    "  $$L = 0.5 \\cdot \\rho \\cdot V^2 \\cdot S \\cdot C_L$$\n",
    "\n",
    "- **Drag:**  \n",
    "  $$D = 0.5 \\cdot \\rho \\cdot V^2 \\cdot S \\cdot C_D$$\n",
    "\n",
    "- **Vertical Lift:**  \n",
    "  $$L_v = L \\cdot \\cos(\\phi)$$\n",
    "\n",
    "- **Load Factor:**  \n",
    "  $$n = \\frac{1}{\\cos(\\phi)}$$\n",
    "\n",
    "#### Coefficient Models:\n",
    "\n",
    "- **Cl (Lift Coefficient):**  \n",
    "  Linearly increases with AoA up to 15°, then decays exponentially to simulate stall.\n",
    "\n",
    "- **Cd (Drag Coefficient):**  \n",
    "  Grows quadratically with AoA, capturing both parasitic and induced drag components.\n",
    "\n",
    "All calculations refresh instantly with slider updates, making it ideal for interactive exploration.\n",
    "\n",
    "---\n",
    "\n",
    "### 📊 How to Use It\n",
    "\n",
    "1. Adjust the sliders to simulate different flight conditions.\n",
    "2. Monitor output values for lift, drag, vertical lift, and load factor.\n",
    "3. Explore dynamics such as:\n",
    "\n",
    "   - ✅ Lift vs. drag trade-offs  \n",
    "   - ⚠️ Stall behavior beyond critical AoA  \n",
    "   - 🎯 Impact of banking on vertical lift and load factor  \n",
    "   - 💨 Influence of speed, density, and wing geometry\n",
    "\n",
    "---"
   ]
  },
  {
   "cell_type": "code",
   "execution_count": 2,
   "id": "237ca4f5-95c5-4fc1-81a4-99384cf0953c",
   "metadata": {},
   "outputs": [
    {
     "data": {
      "application/vnd.jupyter.widget-view+json": {
       "model_id": "2489cf8698bf4bfcb9d0ab78cc4b397e",
       "version_major": 2,
       "version_minor": 0
      },
      "text/plain": [
       "VBox(children=(FloatSlider(value=5.0, description='Angle of Attack (°):', max=50.0, min=-5.0, step=0.5, style=…"
      ]
     },
     "metadata": {},
     "output_type": "display_data"
    }
   ],
   "source": [
    "import ipywidgets as widgets\n",
    "from IPython.display import display\n",
    "import math\n",
    "\n",
    "# Widget inputs\n",
    "angle_of_attack = widgets.FloatSlider(\n",
    "    value=5.0, min=-5.0, max=50.0, step=0.5,\n",
    "    description='Angle of Attack (°):', style={'description_width': 'initial'}\n",
    ")\n",
    "\n",
    "airspeed = widgets.FloatSlider(\n",
    "    value=30, min=5, max=100, step=1,\n",
    "    description='Airspeed (m/s):', style={'description_width': 'initial'}\n",
    ")\n",
    "\n",
    "air_density = widgets.FloatSlider(\n",
    "    value=1.225, min=0.8, max=1.3, step=0.01,\n",
    "    description='Air Density (kg/m³):', style={'description_width': 'initial'}\n",
    ")\n",
    "\n",
    "wing_area = widgets.FloatSlider(\n",
    "    value=0.5, min=0.1, max=2.0, step=0.1,\n",
    "    description='Wing Area (m²):', style={'description_width': 'initial'}\n",
    ")\n",
    "\n",
    "bank_angle = widgets.FloatSlider(\n",
    "    value=0.0, min=0.0, max=80.0, step=1,\n",
    "    description='Banking Angle (°):', style={'description_width': 'initial'}\n",
    ")\n",
    "\n",
    "output = widgets.Output()\n",
    "\n",
    "# Coefficient models\n",
    "def compute_lift_coefficient(aoa):\n",
    "    if aoa < 15:\n",
    "        return 0.1 * aoa\n",
    "    else:\n",
    "        return 0.1 * 15 * math.exp(-(aoa - 15) / 5)\n",
    "\n",
    "def compute_drag_coefficient(aoa):\n",
    "    return 0.02 + 0.01 * aoa + 0.002 * aoa**2\n",
    "\n",
    "# Force & factor calculations\n",
    "def compute_forces(aoa, v, rho, s, phi_deg):\n",
    "    cl = compute_lift_coefficient(aoa)\n",
    "    cd = compute_drag_coefficient(aoa)\n",
    "    lift = 0.5 * rho * v**2 * s * cl\n",
    "    drag = 0.5 * rho * v**2 * s * cd\n",
    "    phi_rad = math.radians(phi_deg)\n",
    "    vertical_lift = lift * math.cos(phi_rad)\n",
    "    load_factor = 1 / math.cos(phi_rad) if math.cos(phi_rad) != 0 else float('inf')\n",
    "    return lift, drag, vertical_lift, load_factor, cl, cd\n",
    "\n",
    "# Update function\n",
    "def update(change=None):\n",
    "    with output:\n",
    "        output.clear_output()\n",
    "        lift, drag, vertical_lift, load_factor, cl, cd = compute_forces(\n",
    "            angle_of_attack.value,\n",
    "            airspeed.value,\n",
    "            air_density.value,\n",
    "            wing_area.value,\n",
    "            bank_angle.value\n",
    "        )\n",
    "        print(\"✈️ Airfoil Force Analysis\")\n",
    "        print(f\"📐 Angle of Attack: {angle_of_attack.value:.1f}°\")\n",
    "        print(f\"🌬️ Airspeed: {airspeed.value:.1f} m/s\")\n",
    "        print(f\"🌡️ Air Density: {air_density.value:.3f} kg/m³\")\n",
    "        print(f\"🧮 Wing Area: {wing_area.value:.2f} m²\")\n",
    "        print(f\"🔁 Banking Angle: {bank_angle.value:.1f}°\")\n",
    "        print(f\"🔼 Lift Coefficient (Cl): {cl:.3f}\")\n",
    "        print(f\"⏬ Drag Coefficient (Cd): {cd:.3f}\")\n",
    "        print(f\"🪁 Lift Force: {lift:.2f} N\")\n",
    "        print(f\"🛑 Drag Force: {drag:.2f} N\")\n",
    "        print(f\"📎 Vertical Lift (L·cosφ): {vertical_lift:.2f} N\")\n",
    "        print(f\"📈 Load Factor (1/cosφ): {load_factor:.2f} g\")\n",
    "\n",
    "# Observe changes\n",
    "for widget in [angle_of_attack, airspeed, air_density, wing_area, bank_angle]:\n",
    "    widget.observe(update, names='value')\n",
    "\n",
    "update()\n",
    "display(widgets.VBox([\n",
    "    angle_of_attack, airspeed, air_density, wing_area, bank_angle, output\n",
    "]))\n"
   ]
  },
  {
   "cell_type": "markdown",
   "id": "ac684e52-7d99-479d-8442-a058eec7dda6",
   "metadata": {},
   "source": [
    "## 4. Self-Assessment"
   ]
  },
  {
   "cell_type": "markdown",
   "id": "1973bcf3-4583-44a3-bf21-f71f5a238560",
   "metadata": {},
   "source": [
    "### ✈️ Airfoil Force Simulator Quiz\n",
    "\n",
    "Test your understanding of aerodynamic forces and simulation principles!\n",
    "\n",
    "---\n",
    "\n",
    "### 🧠 Reflective & Conceptual Questions\n",
    "\n",
    "1. **What is the primary purpose of the Airfoil Force Simulator?**\n",
    "   - [ ] To calculate the thrust required for a quadcopter  \n",
    "   - [x] To model how an airfoil generates lift and experiences drag under varying conditions  \n",
    "   - [ ] To simulate the effects of propeller size on drone performance  \n",
    "   - [ ] To estimate battery capacity for flight endurance  \n",
    "\n",
    "2. **Which equation is used to calculate lift in the simulator?**\n",
    "   - [ ] $( L = 0.5 \\cdot \\rho \\cdot V^2 \\cdot S \\cdot C_D $)  \n",
    "   - [x] $( L = 0.5 \\cdot \\rho \\cdot V^2 \\cdot S \\cdot C_L $)  \n",
    "   - [ ] $( L = \\rho \\cdot V \\cdot S \\cdot C_L $)  \n",
    "   - [ ] $( L = 0.5 \\cdot \\rho \\cdot V \\cdot S \\cdot C_D $)  \n",
    "\n",
    "3. **What happens to the lift coefficient ( $( C_L $) ) when the angle of attack exceeds 15°?**\n",
    "   - [ ] It continues to increase linearly  \n",
    "   - [x] It decreases exponentially to simulate stall  \n",
    "   - [ ] It remains constant  \n",
    "   - [ ] It decreases quadratically  \n",
    "\n",
    "4. **How is the load factor ( $( n $) ) calculated during a banked turn?**\n",
    "   - [ ] $( n = $cos(\\phi) $)  \n",
    "   - [x] $( n = $frac{1}{\\cos(\\phi)} $)  \n",
    "   - [ ] $( n = $sin(\\phi) $)  \n",
    "   - [ ] $( n = $frac{1}{\\sin(\\phi)} $)  \n",
    "\n",
    "5. **What is the effect of increasing the banking angle ( $( \\phi $) ) on vertical lift ( $( L_v $) )?**\n",
    "   - [ ] Vertical lift increases  \n",
    "   - [x] Vertical lift decreases  \n",
    "   - [ ] Vertical lift remains constant  \n",
    "   - [ ] Vertical lift becomes zero  \n",
    "\n",
    "6. **What is the relationship between drag coefficient ( $( C_D $) ) and AoA?**\n",
    "   - [ ] $( C_D $) increases linearly with AoA  \n",
    "   - [ ] $( C_D $) decreases linearly with AoA  \n",
    "   - [x] $( C_D $) grows quadratically with AoA  \n",
    "   - [ ] $( C_D $) remains constant regardless of AoA  \n",
    "\n",
    "7. **Which parameter directly affects both lift and drag forces?**\n",
    "   - [ ] Banking angle ( $( \\phi $) )  \n",
    "   - [x] Airspeed ( $( V $) )  \n",
    "   - [ ] Load factor ( $( n $) )  \n",
    "   - [ ] Wing area ( $( S $) )  \n",
    "\n",
    "8. **What happens to the load factor ( $( n $) ) as the banking angle approaches 90°?**\n",
    "   - [ ] Load factor approaches 0  \n",
    "   - [x] Load factor approaches infinity  \n",
    "   - [ ] Load factor remains constant  \n",
    "   - [ ] Load factor decreases linearly  \n",
    "\n",
    "9. **What is the primary aerodynamic trade-off explored in the simulator?**\n",
    "   - [ ] Lift vs. banking angle  \n",
    "   - [x] Lift vs. drag  \n",
    "   - [ ] Drag vs. air density  \n",
    "   - [ ] Load factor vs. wing area  \n",
    "\n",
    "10. **Why does the simulator model $( C_L $) decay exponentially beyond 15° AoA?**\n",
    "    - [ ] To simulate the effects of increased drag  \n",
    "    - [x] To simulate the effects of stall  \n",
    "    - [ ] To simulate the effects of reduced air density  \n",
    "    - [ ] To simulate the effects of increased banking angle  \n",
    "\n",
    "---\n",
    "\n",
    "\n",
    "\n",
    "### ❓ Quiz Questions\n",
    "\n",
    "1. **Which force opposes thrust during forward motion?**  \n",
    "   - A. Lift  \n",
    "   - B. Drag  \n",
    "   - C. Weight  \n",
    "   - D. Pitch  \n",
    "   **✅ Answer**: B\n",
    "\n",
    "2. **What happens when thrust is less than weight?**  \n",
    "   - A. The drone hovers  \n",
    "   - B. The drone ascends  \n",
    "   - C. The drone descends  \n",
    "   - D. The drone rolls  \n",
    "   **✅ Answer**: C\n",
    "\n",
    "3. **Which maneuver adjusts diagonal motor pairs to rotate the drone?**  \n",
    "   - A. Pitch  \n",
    "   - B. Roll  \n",
    "   - C. Yaw  \n",
    "   - D. Hover  \n",
    "   **✅ Answer**: C\n",
    "\n",
    "4. **What does a high angle of attack risk causing?**  \n",
    "   - A. Increased lift  \n",
    "   - B. Stall  \n",
    "   - C. Reduced drag  \n",
    "   - D. Better agility  \n",
    "   **✅ Answer**: B\n",
    "\n",
    "---"
   ]
  }
 ],
 "metadata": {
  "kernelspec": {
   "display_name": "Python [conda env:base] *",
   "language": "python",
   "name": "conda-base-py"
  },
  "language_info": {
   "codemirror_mode": {
    "name": "ipython",
    "version": 3
   },
   "file_extension": ".py",
   "mimetype": "text/x-python",
   "name": "python",
   "nbconvert_exporter": "python",
   "pygments_lexer": "ipython3",
   "version": "3.12.7"
  },
  "widgets": {
   "application/vnd.jupyter.widget-state+json": {
    "state": {
     "095f28db86594361851b1c306b6cf30b": {
      "model_module": "@jupyter-widgets/controls",
      "model_module_version": "2.0.0",
      "model_name": "SliderStyleModel",
      "state": {
       "description_width": "initial"
      }
     },
     "10f9d4d60c344c23a03aa5cba863f15f": {
      "model_module": "@jupyter-widgets/base",
      "model_module_version": "2.0.0",
      "model_name": "LayoutModel",
      "state": {}
     },
     "13fd8ad683b24ced8f20be96681b16ac": {
      "model_module": "@jupyter-widgets/controls",
      "model_module_version": "2.0.0",
      "model_name": "SliderStyleModel",
      "state": {
       "description_width": "initial"
      }
     },
     "2489cf8698bf4bfcb9d0ab78cc4b397e": {
      "model_module": "@jupyter-widgets/controls",
      "model_module_version": "2.0.0",
      "model_name": "VBoxModel",
      "state": {
       "children": [
        "IPY_MODEL_c97e183411f84d749cd440fcdfb57145",
        "IPY_MODEL_b856aa7c2f664d46b6d4c0dc5cb26168",
        "IPY_MODEL_d0ded887a64c4263ab513fbb15226d82",
        "IPY_MODEL_4e17193932e445dd8f0aa0fadfead931",
        "IPY_MODEL_48ce91d95ccc471e959f46755de9f222",
        "IPY_MODEL_883d821370354b94a983d53a2b41e3e3"
       ],
       "layout": "IPY_MODEL_719f5c232a33485fbf51ada5c6510a76"
      }
     },
     "30e204b17512478eaee623b754b794e3": {
      "model_module": "@jupyter-widgets/controls",
      "model_module_version": "2.0.0",
      "model_name": "SliderStyleModel",
      "state": {
       "description_width": "initial"
      }
     },
     "31745c7d333d41bca74694cf931c0afb": {
      "model_module": "@jupyter-widgets/controls",
      "model_module_version": "2.0.0",
      "model_name": "FloatSliderModel",
      "state": {
       "behavior": "drag-tap",
       "description": "Payload (grams):",
       "layout": "IPY_MODEL_69d0e4d71269474ea261221b4ffd6372",
       "max": 2000,
       "min": 100,
       "step": 50,
       "style": "IPY_MODEL_cc18dfd3f6594f9ba5ae13124b1a67af",
       "value": 500
      }
     },
     "3f12171bdbcc457fabcd19073c2f6b3d": {
      "model_module": "@jupyter-widgets/controls",
      "model_module_version": "2.0.0",
      "model_name": "FloatSliderModel",
      "state": {
       "behavior": "drag-tap",
       "description": "Altitude (m):",
       "layout": "IPY_MODEL_4b9cbd0da1f94218b10c3f361bf1c699",
       "max": 3000,
       "step": 100,
       "style": "IPY_MODEL_13fd8ad683b24ced8f20be96681b16ac"
      }
     },
     "48ce91d95ccc471e959f46755de9f222": {
      "model_module": "@jupyter-widgets/controls",
      "model_module_version": "2.0.0",
      "model_name": "FloatSliderModel",
      "state": {
       "behavior": "drag-tap",
       "description": "Banking Angle (°):",
       "layout": "IPY_MODEL_c96d45ee96c94dcb9c33c4417fce8516",
       "max": 80,
       "style": "IPY_MODEL_095f28db86594361851b1c306b6cf30b"
      }
     },
     "4ae5715164c0471ca8ae907aba7f59d9": {
      "model_module": "@jupyter-widgets/controls",
      "model_module_version": "2.0.0",
      "model_name": "SelectMultipleModel",
      "state": {
       "_options_labels": [
        "Hover",
        "Yaw",
        "Roll",
        "Pitch"
       ],
       "description": "Maneuver(s):",
       "index": [
        0
       ],
       "layout": "IPY_MODEL_9021d23607124de584dc80ab60f4bb21",
       "rows": 5,
       "style": "IPY_MODEL_ce12f9c5b0e4449ab81949096bd9d345"
      }
     },
     "4b9cbd0da1f94218b10c3f361bf1c699": {
      "model_module": "@jupyter-widgets/base",
      "model_module_version": "2.0.0",
      "model_name": "LayoutModel",
      "state": {}
     },
     "4e17193932e445dd8f0aa0fadfead931": {
      "model_module": "@jupyter-widgets/controls",
      "model_module_version": "2.0.0",
      "model_name": "FloatSliderModel",
      "state": {
       "behavior": "drag-tap",
       "description": "Wing Area (m²):",
       "layout": "IPY_MODEL_10f9d4d60c344c23a03aa5cba863f15f",
       "max": 2,
       "min": 0.1,
       "step": 0.1,
       "style": "IPY_MODEL_30e204b17512478eaee623b754b794e3",
       "value": 0.5
      }
     },
     "53a7ab94457d45b293eb7b3d82fe5953": {
      "model_module": "@jupyter-widgets/base",
      "model_module_version": "2.0.0",
      "model_name": "LayoutModel",
      "state": {}
     },
     "663e6594f7394cb6ba4391782d87282c": {
      "model_module": "@jupyter-widgets/controls",
      "model_module_version": "2.0.0",
      "model_name": "DropdownModel",
      "state": {
       "_options_labels": [
        "3 inch",
        "4 inch",
        "5 inch",
        "6 inch"
       ],
       "description": "Propeller Pitch:",
       "index": 1,
       "layout": "IPY_MODEL_c44dee8b8f26423fbcf5a57424a8a515",
       "style": "IPY_MODEL_77d3babaa8e74fc1893500dd730aeafe"
      }
     },
     "69d0e4d71269474ea261221b4ffd6372": {
      "model_module": "@jupyter-widgets/base",
      "model_module_version": "2.0.0",
      "model_name": "LayoutModel",
      "state": {}
     },
     "6f8251a92a8645ca890e3933d0312366": {
      "model_module": "@jupyter-widgets/controls",
      "model_module_version": "2.0.0",
      "model_name": "VBoxModel",
      "state": {
       "children": [
        "IPY_MODEL_31745c7d333d41bca74694cf931c0afb",
        "IPY_MODEL_7303ceb346804cd5a0998977a2ecfb57",
        "IPY_MODEL_663e6594f7394cb6ba4391782d87282c",
        "IPY_MODEL_3f12171bdbcc457fabcd19073c2f6b3d",
        "IPY_MODEL_4ae5715164c0471ca8ae907aba7f59d9"
       ],
       "layout": "IPY_MODEL_7f191dd8aa59494fbf66c53a9c4603d1"
      }
     },
     "719f5c232a33485fbf51ada5c6510a76": {
      "model_module": "@jupyter-widgets/base",
      "model_module_version": "2.0.0",
      "model_name": "LayoutModel",
      "state": {}
     },
     "7303ceb346804cd5a0998977a2ecfb57": {
      "model_module": "@jupyter-widgets/controls",
      "model_module_version": "2.0.0",
      "model_name": "DropdownModel",
      "state": {
       "_options_labels": [
        "4 inch",
        "5 inch",
        "6 inch",
        "7 inch",
        "8 inch"
       ],
       "description": "Propeller Size:",
       "index": 2,
       "layout": "IPY_MODEL_9425a96ac3fb48f9b347ea0b51557600",
       "style": "IPY_MODEL_e1cc9cc94718468bb51f439303fa209d"
      }
     },
     "77d3babaa8e74fc1893500dd730aeafe": {
      "model_module": "@jupyter-widgets/controls",
      "model_module_version": "2.0.0",
      "model_name": "DescriptionStyleModel",
      "state": {
       "description_width": ""
      }
     },
     "7bbad61090b142779f10b05a91f9410a": {
      "model_module": "@jupyter-widgets/controls",
      "model_module_version": "2.0.0",
      "model_name": "SliderStyleModel",
      "state": {
       "description_width": "initial"
      }
     },
     "7ca1b79d4cd940ec9bdcdafc4a54b1f7": {
      "model_module": "@jupyter-widgets/base",
      "model_module_version": "2.0.0",
      "model_name": "LayoutModel",
      "state": {}
     },
     "7f191dd8aa59494fbf66c53a9c4603d1": {
      "model_module": "@jupyter-widgets/base",
      "model_module_version": "2.0.0",
      "model_name": "LayoutModel",
      "state": {}
     },
     "87146e651733416bbed61c888264fc5c": {
      "model_module": "@jupyter-widgets/controls",
      "model_module_version": "2.0.0",
      "model_name": "SliderStyleModel",
      "state": {
       "description_width": "initial"
      }
     },
     "883d821370354b94a983d53a2b41e3e3": {
      "model_module": "@jupyter-widgets/output",
      "model_module_version": "1.0.0",
      "model_name": "OutputModel",
      "state": {
       "layout": "IPY_MODEL_53a7ab94457d45b293eb7b3d82fe5953",
       "outputs": [
        {
         "name": "stdout",
         "output_type": "stream",
         "text": "✈️ Airfoil Force Analysis\n📐 Angle of Attack: 5.0°\n🌬️ Airspeed: 30.0 m/s\n🌡️ Air Density: 1.230 kg/m³\n🧮 Wing Area: 0.50 m²\n🔁 Banking Angle: 0.0°\n🔼 Lift Coefficient (Cl): 0.500\n⏬ Drag Coefficient (Cd): 0.120\n🪁 Lift Force: 138.37 N\n🛑 Drag Force: 33.21 N\n📎 Vertical Lift (L·cosφ): 138.37 N\n📈 Load Factor (1/cosφ): 1.00 g\n"
        }
       ]
      }
     },
     "9021d23607124de584dc80ab60f4bb21": {
      "model_module": "@jupyter-widgets/base",
      "model_module_version": "2.0.0",
      "model_name": "LayoutModel",
      "state": {}
     },
     "91d760387b35473788350683ae7e7918": {
      "model_module": "@jupyter-widgets/base",
      "model_module_version": "2.0.0",
      "model_name": "LayoutModel",
      "state": {}
     },
     "93c74a2b51f548c8a43f079be0902a17": {
      "model_module": "@jupyter-widgets/output",
      "model_module_version": "1.0.0",
      "model_name": "OutputModel",
      "state": {
       "layout": "IPY_MODEL_7ca1b79d4cd940ec9bdcdafc4a54b1f7",
       "outputs": [
        {
         "name": "stdout",
         "output_type": "stream",
         "text": "🚁 Estimated Thrust Needed:\n➡️ 4905.00 Newtons for selected conditions\n"
        }
       ]
      }
     },
     "9425a96ac3fb48f9b347ea0b51557600": {
      "model_module": "@jupyter-widgets/base",
      "model_module_version": "2.0.0",
      "model_name": "LayoutModel",
      "state": {}
     },
     "a1e91d2802bf42149e84c5f1d65e2016": {
      "model_module": "@jupyter-widgets/base",
      "model_module_version": "2.0.0",
      "model_name": "LayoutModel",
      "state": {}
     },
     "b856aa7c2f664d46b6d4c0dc5cb26168": {
      "model_module": "@jupyter-widgets/controls",
      "model_module_version": "2.0.0",
      "model_name": "FloatSliderModel",
      "state": {
       "behavior": "drag-tap",
       "description": "Airspeed (m/s):",
       "layout": "IPY_MODEL_a1e91d2802bf42149e84c5f1d65e2016",
       "min": 5,
       "style": "IPY_MODEL_87146e651733416bbed61c888264fc5c",
       "value": 30
      }
     },
     "bf9211ed73fe4e7a8f153e7532892ecb": {
      "model_module": "@jupyter-widgets/controls",
      "model_module_version": "2.0.0",
      "model_name": "SliderStyleModel",
      "state": {
       "description_width": "initial"
      }
     },
     "c44dee8b8f26423fbcf5a57424a8a515": {
      "model_module": "@jupyter-widgets/base",
      "model_module_version": "2.0.0",
      "model_name": "LayoutModel",
      "state": {}
     },
     "c96d45ee96c94dcb9c33c4417fce8516": {
      "model_module": "@jupyter-widgets/base",
      "model_module_version": "2.0.0",
      "model_name": "LayoutModel",
      "state": {}
     },
     "c97e183411f84d749cd440fcdfb57145": {
      "model_module": "@jupyter-widgets/controls",
      "model_module_version": "2.0.0",
      "model_name": "FloatSliderModel",
      "state": {
       "behavior": "drag-tap",
       "description": "Angle of Attack (°):",
       "layout": "IPY_MODEL_91d760387b35473788350683ae7e7918",
       "max": 50,
       "min": -5,
       "step": 0.5,
       "style": "IPY_MODEL_7bbad61090b142779f10b05a91f9410a",
       "value": 4.999999999999998
      }
     },
     "cc18dfd3f6594f9ba5ae13124b1a67af": {
      "model_module": "@jupyter-widgets/controls",
      "model_module_version": "2.0.0",
      "model_name": "SliderStyleModel",
      "state": {
       "description_width": "initial"
      }
     },
     "ce12f9c5b0e4449ab81949096bd9d345": {
      "model_module": "@jupyter-widgets/controls",
      "model_module_version": "2.0.0",
      "model_name": "DescriptionStyleModel",
      "state": {
       "description_width": "initial"
      }
     },
     "d0ded887a64c4263ab513fbb15226d82": {
      "model_module": "@jupyter-widgets/controls",
      "model_module_version": "2.0.0",
      "model_name": "FloatSliderModel",
      "state": {
       "behavior": "drag-tap",
       "description": "Air Density (kg/m³):",
       "layout": "IPY_MODEL_db4bab0644be4b0b94e04d5f70b10cd0",
       "max": 1.3,
       "min": 0.8,
       "step": 0.01,
       "style": "IPY_MODEL_bf9211ed73fe4e7a8f153e7532892ecb",
       "value": 1.23
      }
     },
     "db4bab0644be4b0b94e04d5f70b10cd0": {
      "model_module": "@jupyter-widgets/base",
      "model_module_version": "2.0.0",
      "model_name": "LayoutModel",
      "state": {}
     },
     "e1cc9cc94718468bb51f439303fa209d": {
      "model_module": "@jupyter-widgets/controls",
      "model_module_version": "2.0.0",
      "model_name": "DescriptionStyleModel",
      "state": {
       "description_width": ""
      }
     }
    },
    "version_major": 2,
    "version_minor": 0
   }
  }
 },
 "nbformat": 4,
 "nbformat_minor": 5
}
