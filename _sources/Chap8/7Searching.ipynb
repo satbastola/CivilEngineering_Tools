{
 "cells": [
  {
   "cell_type": "markdown",
   "id": "2c1977f7-b383-45b2-81e1-7c4799afeee0",
   "metadata": {},
   "source": [
    "### 🔍 Search Algorithms in Computer Science\n",
    "\n",
    "### 🧠 What Is a Search Algorithm?\n",
    "\n",
    "A **search algorithm** is a method for finding a specific item or value within a data structure such as an array, list, tree, or graph. It answers the question:  \n",
    "> _“Where is the item I’m looking for?”_\n",
    "\n",
    "Search algorithms are fundamental to computing, powering everything from database queries to AI pathfinding.\n",
    "\n",
    "---\n",
    "\n",
    "### 📂 Types of Search Algorithms\n",
    "\n",
    "#### 1. **Linear Search**\n",
    "- **Description**: Scans each element in a list sequentially until the target is found.\n",
    "- **Best Case**: O(1) (target is first element)  \n",
    "- **Worst Case**: O(n) (target is last or not present)  \n",
    "- **Use Case**: Small or unsorted datasets.\n",
    "\n",
    "#### 2. **Binary Search**\n",
    "- **Description**: Repeatedly divides a **sorted** list in half to locate the target.\n",
    "- **Best Case**: O(1)  \n",
    "- **Average/Worst Case**: O(log n)  \n",
    "- **Use Case**: Large, sorted datasets.\n",
    "\n",
    "#### 3. **Hash-Based Search**\n",
    "- **Description**: Uses a hash function to map keys to indices for constant-time lookup.\n",
    "- **Time Complexity**: O(1) average, O(n) worst (due to collisions)\n",
    "- **Use Case**: Dictionaries, sets, symbol tables.\n",
    "\n",
    "#### 4. **Tree-Based Search (e.g., BST Search)**\n",
    "- **Description**: Traverses a binary search tree to find a value.\n",
    "- **Time Complexity**: O(log n) average, O(n) worst (unbalanced tree)\n",
    "- **Use Case**: Hierarchical or dynamically updated data.\n",
    "\n",
    "#### 5. **Graph Search (DFS/BFS)**\n",
    "- **Description**: Explores nodes in a graph using depth-first or breadth-first strategies.\n",
    "- **Time Complexity**: O(V + E)  \n",
    "- **Use Case**: Pathfinding, network traversal, AI.\n",
    "\n",
    "---\n",
    "\n",
    "### 🔄 Searching vs Sorting\n",
    "\n",
    "| Feature             | Searching                          | Sorting                            |\n",
    "|---------------------|-------------------------------------|-------------------------------------|\n",
    "| **Goal**            | Find a specific item                | Arrange items in a specific order   |\n",
    "| **Input Requirement** | May require sorted data (e.g., binary search) | Works on unsorted data             |\n",
    "| **Output**          | Index or presence of item           | Entire dataset reordered            |\n",
    "| **Examples**        | Linear, Binary, Hash Search         | Bubble, Merge, Quick Sort           |\n",
    "\n",
    "---\n",
    "\n",
    "### 🧠 Conceptual Questions\n",
    "\n",
    "1. Why does binary search require sorted data?\n",
    "2. How does hashing achieve constant-time search?\n",
    "3. What trade-offs exist between tree-based and hash-based search?\n",
    "4. When would you prefer BFS over DFS in graph search?\n",
    "5. How does the structure of data affect search performance?\n",
    "\n",
    "---\n",
    "\n",
    "### 📝 Mini Quiz\n",
    "\n",
    "**Question 1:**  \n",
    "Which search algorithm is most efficient for large sorted arrays?  \n",
    "- A) Linear Search  \n",
    "- B) Binary Search  \n",
    "- C) Hash Search  \n",
    "- D) DFS  \n",
    "✅ **Correct Answer: B**\n",
    "\n",
    "**Question 2:**  \n",
    "Which search algorithm uses a hash function to locate items?  \n",
    "- A) Binary Search  \n",
    "- B) Tree Search  \n",
    "- C) Hash Search  \n",
    "- D) BFS  \n",
    "✅ **Correct Answer: C**\n",
    "\n",
    "**Question 3:**  \n",
    "Which search algorithm explores all neighbors before going deeper?  \n",
    "- A) DFS  \n",
    "- B) BFS  \n",
    "- C) Binary Search  \n",
    "- D) Hash Search  \n",
    "✅ **Correct Answer: B**\n",
    "\n",
    "---\n",
    "\n",
    "### 🎉 Fun Facts About Searching\n",
    "\n",
    "- 🧠 **Binary search** is so efficient it can search a billion items in ~30 steps.\n",
    "- 🧩 **Hash tables** are the backbone of Python’s `dict` and `set` types.\n",
    "- 🕸️ **Graph search algorithms** are used in Google Maps, social networks, and AI.\n",
    "- 🧪 **Search algorithms** are often combined with sorting for optimal performance (e.g., sort first, then binary search).\n",
    "\n",
    "---\n",
    "\n",
    "### 🔍 Reflection Prompt\n",
    "\n",
    "> Think of a real-world scenario (e.g., searching a contact, finding a route, locating a file).  \n",
    "> Which search algorithm would be most appropriate and why? Consider data structure, speed, and memory usage.\n",
    "\n"
   ]
  },
  {
   "cell_type": "code",
   "execution_count": 3,
   "id": "930cbdd7-9a77-4171-be7b-36fcc1dd785a",
   "metadata": {},
   "outputs": [
    {
     "data": {
      "application/vnd.jupyter.widget-view+json": {
       "model_id": "599c6c1413f34efeb2368e559326062f",
       "version_major": 2,
       "version_minor": 0
      },
      "text/plain": [
       "IntSlider(value=20, description='Data Size:', min=10, step=10)"
      ]
     },
     "metadata": {},
     "output_type": "display_data"
    },
    {
     "data": {
      "application/vnd.jupyter.widget-view+json": {
       "model_id": "2b678dd381aa402cba81d89db9ebadad",
       "version_major": 2,
       "version_minor": 0
      },
      "text/plain": [
       "IntText(value=42, description='Target Value:')"
      ]
     },
     "metadata": {},
     "output_type": "display_data"
    },
    {
     "data": {
      "application/vnd.jupyter.widget-view+json": {
       "model_id": "a1890544435f4e86a458fadc054f3b00",
       "version_major": 2,
       "version_minor": 0
      },
      "text/plain": [
       "Dropdown(description='Algorithm:', options=('Linear Search', 'Binary Search', 'Hash Search'), value='Linear Se…"
      ]
     },
     "metadata": {},
     "output_type": "display_data"
    },
    {
     "data": {
      "application/vnd.jupyter.widget-view+json": {
       "model_id": "6b93180544804c4f8c546f5d95d7efdd",
       "version_major": 2,
       "version_minor": 0
      },
      "text/plain": [
       "Button(button_style='success', description='Run Search', style=ButtonStyle())"
      ]
     },
     "metadata": {},
     "output_type": "display_data"
    },
    {
     "data": {
      "application/vnd.jupyter.widget-view+json": {
       "model_id": "ee35fa68447d465ea609ac4ec5f54995",
       "version_major": 2,
       "version_minor": 0
      },
      "text/plain": [
       "Output()"
      ]
     },
     "metadata": {},
     "output_type": "display_data"
    }
   ],
   "source": [
    "import numpy as np\n",
    "import ipywidgets as widgets\n",
    "from IPython.display import display, Markdown\n",
    "\n",
    "### 🔍 Search Algorithms\n",
    "def linear_search(arr, target):\n",
    "    for i, val in enumerate(arr):\n",
    "        if val == target:\n",
    "            return i\n",
    "    return -1\n",
    "\n",
    "def binary_search(arr, target):\n",
    "    arr = sorted(arr)\n",
    "    low, high = 0, len(arr) - 1\n",
    "    while low <= high:\n",
    "        mid = (low + high) // 2\n",
    "        if arr[mid] == target:\n",
    "            return mid\n",
    "        elif arr[mid] < target:\n",
    "            low = mid + 1\n",
    "        else:\n",
    "            high = mid - 1\n",
    "    return -1\n",
    "\n",
    "def hash_search(arr, target):\n",
    "    lookup = {val: i for i, val in enumerate(arr)}\n",
    "    return lookup.get(target, -1)\n",
    "\n",
    "# 🧠 Algorithm dictionary\n",
    "algorithms = {\n",
    "    \"Linear Search\": linear_search,\n",
    "    \"Binary Search\": binary_search,\n",
    "    \"Hash Search\": hash_search\n",
    "}\n",
    "\n",
    "### 🎛️ Widgets\n",
    "size_slider = widgets.IntSlider(value=20, min=10, max=100, step=10, description=\"Data Size:\")\n",
    "target_input = widgets.IntText(value=42, description=\"Target Value:\")\n",
    "algo_dropdown = widgets.Dropdown(options=list(algorithms.keys()), value=\"Linear Search\", description=\"Algorithm:\")\n",
    "run_button = widgets.Button(description=\"Run Search\", button_style='success')\n",
    "output = widgets.Output()\n",
    "\n",
    "### 🧪 Run search\n",
    "def on_run_click(b):\n",
    "    output.clear_output()\n",
    "    np.random.seed(0)\n",
    "    data = np.random.randint(0, 100, size_slider.value).tolist()\n",
    "    target = target_input.value\n",
    "    algo_name = algo_dropdown.value\n",
    "    func = algorithms[algo_name]\n",
    "    result = func(data, target)\n",
    "    with output:\n",
    "        display(Markdown(f\"### 🔍 {algo_name} Result\"))\n",
    "        print(f\"Data: {data}\")\n",
    "        print(f\"Target: {target}\")\n",
    "        if result != -1:\n",
    "            print(f\"✅ Found at index {result}\")\n",
    "        else:\n",
    "            print(\"❌ Not found\")\n",
    "\n",
    "run_button.on_click(on_run_click)\n",
    "\n",
    "### 🚀 Display UI\n",
    "display(size_slider, target_input, algo_dropdown, run_button, output)\n"
   ]
  },
  {
   "cell_type": "code",
   "execution_count": null,
   "id": "5e3044d4-3b04-436b-bfaa-c1c554e767b4",
   "metadata": {},
   "outputs": [],
   "source": []
  },
  {
   "cell_type": "code",
   "execution_count": 6,
   "id": "f3a94144-fbe4-4af8-9f0f-3e51e024eac1",
   "metadata": {},
   "outputs": [
    {
     "data": {
      "application/vnd.jupyter.widget-view+json": {
       "model_id": "83c075ce7b2a4719af1d89efcf829e81",
       "version_major": 2,
       "version_minor": 0
      },
      "text/plain": [
       "IntSlider(value=1000, description='Data Size:', max=10000, min=100, step=100)"
      ]
     },
     "metadata": {},
     "output_type": "display_data"
    },
    {
     "data": {
      "application/vnd.jupyter.widget-view+json": {
       "model_id": "bb5d39159c9740f8868eb7c40dd0d83d",
       "version_major": 2,
       "version_minor": 0
      },
      "text/plain": [
       "IntText(value=42, description='Target Value:')"
      ]
     },
     "metadata": {},
     "output_type": "display_data"
    },
    {
     "data": {
      "application/vnd.jupyter.widget-view+json": {
       "model_id": "06c922b2a47f4926a676b9ea28563047",
       "version_major": 2,
       "version_minor": 0
      },
      "text/plain": [
       "Button(button_style='info', description='Compare Performance', style=ButtonStyle())"
      ]
     },
     "metadata": {},
     "output_type": "display_data"
    },
    {
     "data": {
      "application/vnd.jupyter.widget-view+json": {
       "model_id": "7ba559acb54d4ba1a6deeca9f41d5d99",
       "version_major": 2,
       "version_minor": 0
      },
      "text/plain": [
       "Output()"
      ]
     },
     "metadata": {},
     "output_type": "display_data"
    }
   ],
   "source": [
    "import numpy as np\n",
    "import time\n",
    "import matplotlib.pyplot as plt\n",
    "import ipywidgets as widgets\n",
    "from IPython.display import display, Markdown\n",
    "\n",
    "# 🔍 Search Algorithms\n",
    "def linear_search(arr, target):\n",
    "    for i, val in enumerate(arr):\n",
    "        if val == target:\n",
    "            return i\n",
    "    return -1\n",
    "\n",
    "def binary_search(arr, target):\n",
    "    arr = sorted(arr)\n",
    "    low, high = 0, len(arr) - 1\n",
    "    while low <= high:\n",
    "        mid = (low + high) // 2\n",
    "        if arr[mid] == target:\n",
    "            return mid\n",
    "        elif arr[mid] < target:\n",
    "            low = mid + 1\n",
    "        else:\n",
    "            high = mid - 1\n",
    "    return -1\n",
    "\n",
    "def hash_search(arr, target):\n",
    "    lookup = {val: i for i, val in enumerate(arr)}\n",
    "    return lookup.get(target, -1)\n",
    "\n",
    "# 🧠 Algorithm dictionary\n",
    "algorithms = {\n",
    "    \"Linear Search\": linear_search,\n",
    "    \"Binary Search\": binary_search,\n",
    "    \"Hash Search\": hash_search\n",
    "}\n",
    "\n",
    "# 🎛️ Widgets\n",
    "size_slider = widgets.IntSlider(value=1000, min=100, max=10000, step=100, description=\"Data Size:\")\n",
    "target_input = widgets.IntText(value=42, description=\"Target Value:\")\n",
    "compare_button = widgets.Button(description=\"Compare Performance\", button_style='info')\n",
    "output = widgets.Output()\n",
    "\n",
    "# 📊 Compare performance\n",
    "def on_compare_click(b):\n",
    "    output.clear_output()\n",
    "    np.random.seed(0)\n",
    "    data = np.random.randint(0, 10000, size_slider.value).tolist()\n",
    "    target = target_input.value\n",
    "    times = {}\n",
    "    results = {}\n",
    "\n",
    "    for name, func in algorithms.items():\n",
    "        start = time.time()\n",
    "        index = func(data, target)\n",
    "        duration = time.time() - start\n",
    "        times[name] = duration\n",
    "        results[name] = index\n",
    "\n",
    "    with output:\n",
    "        display(Markdown(\"### 📊 Search Algorithm Performance Summary\"))\n",
    "        print(f\"🔢 Data Sample (first 20 of {len(data)}): {data[:20]}\")\n",
    "        print(f\"🎯 Target Value: {target}\\n\")\n",
    "        for name in algorithms:\n",
    "            found_msg = f\"✅ Found at index {results[name]}\" if results[name] != -1 else \"❌ Not found\"\n",
    "            print(f\"{name:<15} ➤ Time: {times[name]:.6f} sec | {found_msg}\")\n",
    "\n",
    "        # Plotting\n",
    "        plt.figure(figsize=(8, 5))\n",
    "        plt.bar(times.keys(), times.values(), color='lightgreen')\n",
    "        plt.ylabel(\"Execution Time (seconds)\")\n",
    "        plt.title(\"Search Algorithm Comparison\")\n",
    "        plt.grid(True, linestyle='--', alpha=0.5)\n",
    "        plt.tight_layout()\n",
    "        plt.show()\n",
    "\n",
    "compare_button.on_click(on_compare_click)\n",
    "\n",
    "# 🚀 Display UI\n",
    "display(size_slider, target_input, compare_button, output)\n"
   ]
  },
  {
   "cell_type": "code",
   "execution_count": null,
   "id": "6399e986-16b9-4fea-beb5-9ea85750828c",
   "metadata": {},
   "outputs": [],
   "source": []
  }
 ],
 "metadata": {
  "kernelspec": {
   "display_name": "Python [conda env:base] *",
   "language": "python",
   "name": "conda-base-py"
  },
  "language_info": {
   "codemirror_mode": {
    "name": "ipython",
    "version": 3
   },
   "file_extension": ".py",
   "mimetype": "text/x-python",
   "name": "python",
   "nbconvert_exporter": "python",
   "pygments_lexer": "ipython3",
   "version": "3.12.7"
  },
  "widgets": {
   "application/vnd.jupyter.widget-state+json": {
    "state": {},
    "version_major": 2,
    "version_minor": 0
   }
  }
 },
 "nbformat": 4,
 "nbformat_minor": 5
}
