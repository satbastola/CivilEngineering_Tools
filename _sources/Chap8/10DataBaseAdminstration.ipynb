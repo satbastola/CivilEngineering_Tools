{
 "cells": [
  {
   "cell_type": "markdown",
   "id": "50641e97-aacb-4e4f-bf9b-1c61fd7a6bca",
   "metadata": {},
   "source": [
    "### 🧠 Database Administration Learning Module\n",
    "\n",
    "### 📘 What Is Database Administration?\n",
    "\n",
    "Database Administration (DBA) involves managing and maintaining database systems to ensure:\n",
    "- ✅ Data integrity\n",
    "- 🚀 Performance\n",
    "- 🔒 Security\n",
    "- 📈 Availability\n",
    "\n",
    "DBAs work with relational databases like **MySQL**, **PostgreSQL**, **SQL Server**, and **Oracle**.\n",
    "\n",
    "---\n",
    "\n",
    "### 🧰 Core DBA Responsibilities\n",
    "\n",
    "| Task Category         | Description                                                                 |\n",
    "|-----------------------|------------------------------------------------------------------------------|\n",
    "| **Installation & Setup** | Install and configure database software and environments                   |\n",
    "| **Backup & Recovery**   | Ensure regular backups and restore capabilities in case of failure         |\n",
    "| **Security Management** | Manage user roles, permissions, and encryption                             |\n",
    "| **Performance Tuning**  | Optimize queries, indexes, and system resources                            |\n",
    "| **Monitoring & Alerts** | Track uptime, query performance, and system health                         |\n",
    "| **Data Integrity**       | Enforce constraints, validate data, and prevent corruption                 |\n",
    "| **Upgrades & Patching** | Apply updates and patches to maintain security and compatibility           |\n",
    "\n",
    "---\n",
    "\n",
    "### 🧮 Essential SQL Commands for DBAs\n",
    "\n",
    "| Command         | Category         | Description                                                                 | Example Syntax                                                  |\n",
    "|------------------|------------------|------------------------------------------------------------------------------|------------------------------------------------------------------|\n",
    "| `SELECT`         | DML               | Retrieve data from tables                                                   | `SELECT * FROM users WHERE active = 1;`                         |\n",
    "| `INSERT`         | DML               | Add new records                                                             | `INSERT INTO users (name, email) VALUES ('Alice', 'a@x.com');`  |\n",
    "| `UPDATE`         | DML               | Modify existing records                                                     | `UPDATE users SET active = 0 WHERE id = 5;`                     |\n",
    "| `DELETE`         | DML               | Remove records                                                              | `DELETE FROM users WHERE id = 5;`                               |\n",
    "| `CREATE TABLE`   | DDL               | Define a new table structure                                                | `CREATE TABLE users (id INT, name TEXT);`                       |\n",
    "| `ALTER TABLE`    | DDL               | Modify table structure                                                      | `ALTER TABLE users ADD COLUMN email TEXT;`                      |\n",
    "| `DROP TABLE`     | DDL               | Delete a table                                                              | `DROP TABLE users;`                                             |\n",
    "| `CREATE INDEX`   | Performance       | Speed up queries on specific columns                                        | `CREATE INDEX idx_name ON users(name);`                         |\n",
    "| `GRANT`          | Security          | Assign privileges to users                                                  | `GRANT SELECT ON users TO analyst;`                             |\n",
    "| `REVOKE`         | Security          | Remove privileges                                                           | `REVOKE SELECT ON users FROM analyst;`                          |\n",
    "| `BACKUP DATABASE`| Maintenance       | Create a backup of the database (SQL Server)                                | `BACKUP DATABASE [MyDB] TO DISK = 'C:\\\\backup.bak';`            |\n",
    "| `RESTORE DATABASE`| Maintenance      | Restore from backup                                                         | `RESTORE DATABASE [MyDB] FROM DISK = 'C:\\\\backup.bak';`         |\n",
    "| `EXPLAIN`        | Performance       | Analyze query execution plan                                                | `EXPLAIN SELECT * FROM users WHERE name = 'Alice';`             |\n",
    "| `CREATE USER`    | Security          | Add a new database user                                                     | `CREATE USER 'admin'@'localhost' IDENTIFIED BY 'pass';`         |\n",
    "| `SET TRANSACTION`| Integrity         | Control transaction behavior                                                | `SET TRANSACTION ISOLATION LEVEL SERIALIZABLE;`                 |\n",
    "\n",
    "---\n",
    "\n",
    "### 🧪 Suggested Practice Activities\n",
    "\n",
    "1. **Create a sample database** with multiple tables and relationships.\n",
    "2. **Perform CRUD operations** using `SELECT`, `INSERT`, `UPDATE`, and `DELETE`.\n",
    "3. **Simulate a backup and restore** using SQL Server or PostgreSQL commands.\n",
    "4. **Create and revoke user privileges** to understand access control.\n",
    "5. **Use `EXPLAIN` or `QUERY PLAN`** to analyze performance bottlenecks.\n",
    "6. **Write scripts for automated monitoring** (e.g., slow queries, disk usage).\n",
    "\n",
    "---\n",
    "\n",
    "### 📚 Recommended Resources\n",
    "\n",
    "- [Essential SQL commands for database management – Educative](https://www.educative.io/blog/essential-sql-commands-database-management)\n",
    "- [DBA’s Essential 100 SQL Commands – SQL DBA School](https://sqldbaschool.com/100-syntax-what-dba-should-know-in-detail/)\n",
    "- [SQL Cheat Sheet for SQL Server DBA – MSSQLTips](https://www.mssqltips.com/sqlservertip/7616/sql-cheat-sheet"
   ]
  },
  {
   "cell_type": "code",
   "execution_count": 2,
   "id": "a0c1e87e-cea2-41f3-91d2-4bc495830d63",
   "metadata": {},
   "outputs": [
    {
     "data": {
      "application/vnd.jupyter.widget-view+json": {
       "model_id": "a301552ee13440e9a3f35242f3b60445",
       "version_major": 2,
       "version_minor": 0
      },
      "text/plain": [
       "Dropdown(description='DBA Task:', options=('Installation & Setup', 'Backup & Recovery', 'Security Management',…"
      ]
     },
     "metadata": {},
     "output_type": "display_data"
    },
    {
     "data": {
      "application/vnd.jupyter.widget-view+json": {
       "model_id": "ccb4961e0a7d48ffba668c11d1a0bedf",
       "version_major": 2,
       "version_minor": 0
      },
      "text/plain": [
       "Output()"
      ]
     },
     "metadata": {},
     "output_type": "display_data"
    }
   ],
   "source": [
    "import ipywidgets as widgets\n",
    "from IPython.display import display, Markdown, clear_output\n",
    "\n",
    "### 📋 DBA Responsibility Descriptions\n",
    "dba_tasks = {\n",
    "    \"Installation & Setup\": \"Install and configure database software, set up environments, and initialize schemas.\",\n",
    "    \"Backup & Recovery\": \"Schedule backups, test restore procedures, and ensure disaster recovery readiness.\",\n",
    "    \"Security Management\": \"Create users, assign roles, manage permissions, and enforce encryption policies.\",\n",
    "    \"Performance Tuning\": \"Optimize queries, indexes, and resource allocation to improve speed and efficiency.\",\n",
    "    \"Monitoring & Alerts\": \"Track uptime, query latency, disk usage, and set up alerts for anomalies.\",\n",
    "    \"Data Integrity\": \"Enforce constraints, validate input, and prevent corruption or orphaned records.\",\n",
    "    \"Upgrades & Patching\": \"Apply updates, hotfixes, and version upgrades to maintain security and compatibility.\"\n",
    "}\n",
    "\n",
    "### 📦 Dropdown widget\n",
    "dropdown = widgets.Dropdown(\n",
    "    options=list(dba_tasks.keys()),\n",
    "    description='DBA Task:',\n",
    "    style={'description_width': 'initial'}\n",
    ")\n",
    "\n",
    "### 📤 Output area\n",
    "output = widgets.Output()\n",
    "\n",
    "### 🔁 Callback function\n",
    "def show_task(change):\n",
    "    output.clear_output()\n",
    "    task = change.new\n",
    "    with output:\n",
    "        display(Markdown(f\"### 🧠 {task}\\n{dba_tasks[task]}\"))\n",
    "\n",
    "dropdown.observe(show_task, names='value')\n",
    "\n",
    "### 🚀 Display UI\n",
    "display(dropdown, output)\n"
   ]
  }
 ],
 "metadata": {
  "kernelspec": {
   "display_name": "Python [conda env:base] *",
   "language": "python",
   "name": "conda-base-py"
  },
  "language_info": {
   "codemirror_mode": {
    "name": "ipython",
    "version": 3
   },
   "file_extension": ".py",
   "mimetype": "text/x-python",
   "name": "python",
   "nbconvert_exporter": "python",
   "pygments_lexer": "ipython3",
   "version": "3.12.7"
  },
  "widgets": {
   "application/vnd.jupyter.widget-state+json": {
    "state": {},
    "version_major": 2,
    "version_minor": 0
   }
  }
 },
 "nbformat": 4,
 "nbformat_minor": 5
}
