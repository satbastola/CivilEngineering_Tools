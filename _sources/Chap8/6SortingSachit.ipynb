{
 "cells": [
  {
   "cell_type": "markdown",
   "id": "6322f4ed-e49f-4013-b7c9-b5477400eabd",
   "metadata": {},
   "source": [
    "### 🧮 Sorting Algorithms: Concepts, Comparisons, and Curiosities\n",
    "\n",
    "### 📚 Overview of Common Sorting Algorithms\n",
    "\n",
    "| Algorithm        | Description                                                                 | Time Complexity (Best/Average/Worst) | Stable? |\n",
    "|------------------|------------------------------------------------------------------------------|--------------------------------------|---------|\n",
    "| **Bubble Sort**  | Repeatedly swaps adjacent elements if they’re in the wrong order.            | O(n) / O(n²) / O(n²)                 | ✅ Yes  |\n",
    "| **Insertion Sort** | Builds the sorted list one item at a time by inserting into correct position. | O(n) / O(n²) / O(n²)                 | ✅ Yes  |\n",
    "| **Merge Sort**   | Divides array into halves, sorts recursively, and merges.                    | O(n log n) / O(n log n) / O(n log n) | ✅ Yes  |\n",
    "| **Quick Sort**   | Picks a pivot, partitions array, and sorts recursively.                      | O(n log n) / O(n log n) / O(n²)      | ❌ No   |\n",
    "| **Timsort**      | Hybrid of merge and insertion sort (used in Python’s `sorted()`).            | O(n) / O(n log n) / O(n log n)       | ✅ Yes  |\n",
    "\n",
    "---\n",
    "\n",
    "### 🧠 Conceptual Questions\n",
    "\n",
    "1. **Why is stability important in sorting?**  \n",
    "   _Hint: Think about sorting records with multiple fields._\n",
    "\n",
    "2. **What makes Quick Sort faster in practice despite its worst-case time?**\n",
    "\n",
    "3. **How does Merge Sort guarantee performance regardless of input order?**\n",
    "\n",
    "4. **Why is Bubble Sort rarely used in real-world applications?**\n",
    "\n",
    "5. **What kind of data would make Insertion Sort outperform Quick Sort?**\n",
    "\n",
    "---\n",
    "\n",
    "### 📝 Mini Quiz\n",
    "\n",
    "**Question 1:**  \n",
    "Which sorting algorithm is guaranteed to run in O(n log n) time regardless of input?  \n",
    "- A) Bubble Sort  \n",
    "- B) Merge Sort  \n",
    "- C) Quick Sort  \n",
    "- D) Insertion Sort  \n",
    "✅ **Correct Answer: B**\n",
    "\n",
    "**Question 2:**  \n",
    "Which algorithm is most efficient for nearly sorted data?  \n",
    "- A) Merge Sort  \n",
    "- B) Bubble Sort  \n",
    "- C) Insertion Sort  \n",
    "- D) Quick Sort  \n",
    "✅ **Correct Answer: C**\n",
    "\n",
    "**Question 3:**  \n",
    "Which sorting algorithm is used internally by Python’s `sorted()` function?  \n",
    "- A) Merge Sort  \n",
    "- B) Quick Sort  \n",
    "- C) Timsort  \n",
    "- D) Heap Sort  \n",
    "✅ **Correct Answer: C**\n",
    "\n",
    "---\n",
    "\n",
    "### 🎉 Fun Facts About Sorting\n",
    "\n",
    "- 🧠 **Timsort** was invented by Tim Peters for Python and is also used in Java!\n",
    "- 🐢 **Bubble Sort** is often taught first because it’s conceptually simple—but it's one of the slowest.\n",
    "- 🧩 **Sorting networks** are used in hardware implementations for parallel sorting.\n",
    "- 🧪 **Radix Sort** and **Counting Sort** can beat comparison-based sorts for integers.\n",
    "- 📈 **Sorting is foundational**—many algorithms (like searching, clustering, and graph traversal) rely on sorted data.\n",
    "\n",
    "---\n",
    "\n",
    "### 🔍 Reflection Prompt\n",
    "\n",
    "> Think about a real-world scenario (e.g., sorting patient records, ranking sports teams, organizing emails).  \n",
    "> Which sorting algorithm would you choose and why? Consider stability, speed, and input characteristics.\n",
    "\n"
   ]
  },
  {
   "cell_type": "code",
   "execution_count": 1,
   "id": "a25bd0c9-ac3b-437e-9d9a-c7be8d2dadcd",
   "metadata": {},
   "outputs": [
    {
     "data": {
      "application/vnd.jupyter.widget-view+json": {
       "model_id": "08b2e41e805d4cfcb5935f84c8c31d30",
       "version_major": 2,
       "version_minor": 0
      },
      "text/plain": [
       "IntSlider(value=1000, description='Data Size:', max=5000, min=10, step=100)"
      ]
     },
     "metadata": {},
     "output_type": "display_data"
    },
    {
     "data": {
      "application/vnd.jupyter.widget-view+json": {
       "model_id": "08750faf82f44441b52e3c6164a49310",
       "version_major": 2,
       "version_minor": 0
      },
      "text/plain": [
       "Dropdown(description='Choose Algorithm:', options=('Bubble Sort', 'Insertion Sort', 'Merge Sort', 'Quick Sort'…"
      ]
     },
     "metadata": {},
     "output_type": "display_data"
    },
    {
     "data": {
      "application/vnd.jupyter.widget-view+json": {
       "model_id": "3d64086828e84650bda5ffc0652eb4c8",
       "version_major": 2,
       "version_minor": 0
      },
      "text/plain": [
       "Button(button_style='success', description='Run Sort', style=ButtonStyle())"
      ]
     },
     "metadata": {},
     "output_type": "display_data"
    },
    {
     "data": {
      "application/vnd.jupyter.widget-view+json": {
       "model_id": "eafe1ecbf21a42d381249cc0c52f4817",
       "version_major": 2,
       "version_minor": 0
      },
      "text/plain": [
       "Button(button_style='info', description='Compare All', style=ButtonStyle())"
      ]
     },
     "metadata": {},
     "output_type": "display_data"
    },
    {
     "data": {
      "application/vnd.jupyter.widget-view+json": {
       "model_id": "e56b7361c4744f8b95c24738368080a2",
       "version_major": 2,
       "version_minor": 0
      },
      "text/plain": [
       "Output()"
      ]
     },
     "metadata": {},
     "output_type": "display_data"
    }
   ],
   "source": [
    "import time\n",
    "import numpy as np\n",
    "import matplotlib.pyplot as plt\n",
    "import ipywidgets as widgets\n",
    "from IPython.display import display, Markdown\n",
    "\n",
    "# 🧬 Generate synthetic data\n",
    "def generate_data(size=1000, seed=42):\n",
    "    np.random.seed(seed)\n",
    "    return np.random.randint(0, 10000, size).tolist()\n",
    "\n",
    "# 🧮 Sorting algorithms\n",
    "def bubble_sort(arr):\n",
    "    a = arr.copy()\n",
    "    for i in range(len(a)):\n",
    "        for j in range(len(a)-1-i):\n",
    "            if a[j] > a[j+1]:\n",
    "                a[j], a[j+1] = a[j+1], a[j]\n",
    "    return a\n",
    "\n",
    "def insertion_sort(arr):\n",
    "    a = arr.copy()\n",
    "    for i in range(1, len(a)):\n",
    "        key = a[i]\n",
    "        j = i - 1\n",
    "        while j >= 0 and a[j] > key:\n",
    "            a[j+1] = a[j]\n",
    "            j -= 1\n",
    "        a[j+1] = key\n",
    "    return a\n",
    "\n",
    "def merge_sort(arr):\n",
    "    if len(arr) <= 1:\n",
    "        return arr\n",
    "    mid = len(arr)//2\n",
    "    left = merge_sort(arr[:mid])\n",
    "    right = merge_sort(arr[mid:])\n",
    "    return merge(left, right)\n",
    "\n",
    "def merge(left, right):\n",
    "    result = []\n",
    "    i = j = 0\n",
    "    while i < len(left) and j < len(right):\n",
    "        if left[i] < right[j]:\n",
    "            result.append(left[i])\n",
    "            i += 1\n",
    "        else:\n",
    "            result.append(right[j])\n",
    "            j += 1\n",
    "    result.extend(left[i:])\n",
    "    result.extend(right[j:])\n",
    "    return result\n",
    "\n",
    "def quick_sort(arr):\n",
    "    if len(arr) <= 1:\n",
    "        return arr\n",
    "    pivot = arr[0]\n",
    "    less = [x for x in arr[1:] if x <= pivot]\n",
    "    greater = [x for x in arr[1:] if x > pivot]\n",
    "    return quick_sort(less) + [pivot] + quick_sort(greater)\n",
    "\n",
    "# 🧠 Algorithm dictionary\n",
    "algorithms = {\n",
    "    \"Bubble Sort\": bubble_sort,\n",
    "    \"Insertion Sort\": insertion_sort,\n",
    "    \"Merge Sort\": merge_sort,\n",
    "    \"Quick Sort\": quick_sort,\n",
    "    \"Built-in sorted()\": sorted\n",
    "}\n",
    "\n",
    "# 🎛️ Widgets\n",
    "size_slider = widgets.IntSlider(value=1000, min=10, max=5000, step=100, description=\"Data Size:\")\n",
    "dropdown = widgets.Dropdown(options=list(algorithms.keys()), value=\"Bubble Sort\", description=\"Choose Algorithm:\")\n",
    "run_button = widgets.Button(description=\"Run Sort\", button_style='success')\n",
    "compare_button = widgets.Button(description=\"Compare All\", button_style='info')\n",
    "output = widgets.Output()\n",
    "\n",
    "# 🧪 Single algorithm execution\n",
    "def on_run_click(b):\n",
    "    output.clear_output()\n",
    "    data = generate_data(size_slider.value)\n",
    "    algo_name = dropdown.value\n",
    "    func = algorithms[algo_name]\n",
    "    start = time.time()\n",
    "    result = func(data)\n",
    "    duration = time.time() - start\n",
    "    with output:\n",
    "        display(Markdown(f\"### 🔍 {algo_name} Result\"))\n",
    "        print(f\"Data Size: {len(data)}\")\n",
    "        print(f\"Execution Time: {duration:.6f} seconds\")\n",
    "\n",
    "# 📈 Compare all algorithms\n",
    "def on_compare_click(b):\n",
    "    output.clear_output()\n",
    "    data = generate_data(size_slider.value)\n",
    "    times = {}\n",
    "    for name, func in algorithms.items():\n",
    "        start = time.time()\n",
    "        func(data)\n",
    "        times[name] = time.time() - start\n",
    "    with output:\n",
    "        display(Markdown(\"### 📊 Sorting Algorithm Performance Comparison\"))\n",
    "        plt.figure(figsize=(8, 5))\n",
    "        plt.bar(times.keys(), times.values(), color='skyblue')\n",
    "        plt.ylabel(\"Execution Time (seconds)\")\n",
    "        plt.xticks(rotation=45)\n",
    "        plt.grid(True, linestyle='--', alpha=0.5)\n",
    "        plt.tight_layout()\n",
    "        plt.show()\n",
    "\n",
    "run_button.on_click(on_run_click)\n",
    "compare_button.on_click(on_compare_click)\n",
    "\n",
    "# 🚀 Display UI\n",
    "display(size_slider, dropdown, run_button, compare_button, output)\n"
   ]
  },
  {
   "cell_type": "code",
   "execution_count": null,
   "id": "973b9175-1d7c-4f68-8852-c4ac29e63913",
   "metadata": {},
   "outputs": [],
   "source": []
  }
 ],
 "metadata": {
  "kernelspec": {
   "display_name": "Python [conda env:base] *",
   "language": "python",
   "name": "conda-base-py"
  },
  "language_info": {
   "codemirror_mode": {
    "name": "ipython",
    "version": 3
   },
   "file_extension": ".py",
   "mimetype": "text/x-python",
   "name": "python",
   "nbconvert_exporter": "python",
   "pygments_lexer": "ipython3",
   "version": "3.12.7"
  },
  "widgets": {
   "application/vnd.jupyter.widget-state+json": {
    "state": {
     "08750faf82f44441b52e3c6164a49310": {
      "model_module": "@jupyter-widgets/controls",
      "model_module_version": "2.0.0",
      "model_name": "DropdownModel",
      "state": {
       "_options_labels": [
        "Bubble Sort",
        "Insertion Sort",
        "Merge Sort",
        "Quick Sort",
        "Built-in sorted()"
       ],
       "description": "Choose Algorithm:",
       "index": 0,
       "layout": "IPY_MODEL_10401987d3984caba39c552d2eaf1e88",
       "style": "IPY_MODEL_c965f2119deb4287aba5126cc4d20d44"
      }
     },
     "08b2e41e805d4cfcb5935f84c8c31d30": {
      "model_module": "@jupyter-widgets/controls",
      "model_module_version": "2.0.0",
      "model_name": "IntSliderModel",
      "state": {
       "behavior": "drag-tap",
       "description": "Data Size:",
       "layout": "IPY_MODEL_e7b32afc838e412d8e6b84f27eed346b",
       "max": 5000,
       "min": 10,
       "step": 100,
       "style": "IPY_MODEL_8faad00c8b474ec0b800721dad3cef4c",
       "value": 2110
      }
     },
     "10401987d3984caba39c552d2eaf1e88": {
      "model_module": "@jupyter-widgets/base",
      "model_module_version": "2.0.0",
      "model_name": "LayoutModel",
      "state": {}
     },
     "15a6a3bb2057473685ac69b7c84c4736": {
      "model_module": "@jupyter-widgets/controls",
      "model_module_version": "2.0.0",
      "model_name": "ButtonStyleModel",
      "state": {
       "font_family": null,
       "font_size": null,
       "font_style": null,
       "font_variant": null,
       "font_weight": null,
       "text_color": null,
       "text_decoration": null
      }
     },
     "3d64086828e84650bda5ffc0652eb4c8": {
      "model_module": "@jupyter-widgets/controls",
      "model_module_version": "2.0.0",
      "model_name": "ButtonModel",
      "state": {
       "button_style": "success",
       "description": "Run Sort",
       "layout": "IPY_MODEL_d552654ed1e44ba2a5854547f75fe156",
       "style": "IPY_MODEL_5346568238954eec997d0322b7c5786a",
       "tooltip": null
      }
     },
     "5346568238954eec997d0322b7c5786a": {
      "model_module": "@jupyter-widgets/controls",
      "model_module_version": "2.0.0",
      "model_name": "ButtonStyleModel",
      "state": {
       "font_family": null,
       "font_size": null,
       "font_style": null,
       "font_variant": null,
       "font_weight": null,
       "text_color": null,
       "text_decoration": null
      }
     },
     "64fede10b4a04014b4dd7f03450712f1": {
      "model_module": "@jupyter-widgets/base",
      "model_module_version": "2.0.0",
      "model_name": "LayoutModel",
      "state": {}
     },
     "8faad00c8b474ec0b800721dad3cef4c": {
      "model_module": "@jupyter-widgets/controls",
      "model_module_version": "2.0.0",
      "model_name": "SliderStyleModel",
      "state": {
       "description_width": ""
      }
     },
     "c965f2119deb4287aba5126cc4d20d44": {
      "model_module": "@jupyter-widgets/controls",
      "model_module_version": "2.0.0",
      "model_name": "DescriptionStyleModel",
      "state": {
       "description_width": ""
      }
     },
     "d552654ed1e44ba2a5854547f75fe156": {
      "model_module": "@jupyter-widgets/base",
      "model_module_version": "2.0.0",
      "model_name": "LayoutModel",
      "state": {}
     },
     "d5d9dd2a53224d0e8e31e39999193229": {
      "model_module": "@jupyter-widgets/base",
      "model_module_version": "2.0.0",
      "model_name": "LayoutModel",
      "state": {}
     },
     "e56b7361c4744f8b95c24738368080a2": {
      "model_module": "@jupyter-widgets/output",
      "model_module_version": "1.0.0",
      "model_name": "OutputModel",
      "state": {
       "layout": "IPY_MODEL_64fede10b4a04014b4dd7f03450712f1",
       "outputs": [
        {
         "data": {
          "text/markdown": "### 📊 Sorting Algorithm Performance Comparison",
          "text/plain": "<IPython.core.display.Markdown object>"
         },
         "metadata": {},
         "output_type": "display_data"
        },
        {
         "data": {
          "image/png": "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",
          "text/plain": "<Figure size 800x500 with 1 Axes>"
         },
         "metadata": {},
         "output_type": "display_data"
        }
       ]
      }
     },
     "e7b32afc838e412d8e6b84f27eed346b": {
      "model_module": "@jupyter-widgets/base",
      "model_module_version": "2.0.0",
      "model_name": "LayoutModel",
      "state": {}
     },
     "eafe1ecbf21a42d381249cc0c52f4817": {
      "model_module": "@jupyter-widgets/controls",
      "model_module_version": "2.0.0",
      "model_name": "ButtonModel",
      "state": {
       "button_style": "info",
       "description": "Compare All",
       "layout": "IPY_MODEL_d5d9dd2a53224d0e8e31e39999193229",
       "style": "IPY_MODEL_15a6a3bb2057473685ac69b7c84c4736",
       "tooltip": null
      }
     }
    },
    "version_major": 2,
    "version_minor": 0
   }
  }
 },
 "nbformat": 4,
 "nbformat_minor": 5
}
