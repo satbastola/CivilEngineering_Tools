{
 "cells": [
  {
   "cell_type": "markdown",
   "id": "1b32ebd2-d9ec-4b3c-bc10-05764d6f5dc1",
   "metadata": {},
   "source": [
    "## SQL command"
   ]
  },
  {
   "cell_type": "markdown",
   "id": "5e1fbe58-e191-4bf3-924a-0520880330ff",
   "metadata": {},
   "source": [
    "### 🗃️ Essential SQL Commands Cheat Sheet\n",
    "\n",
    "| Command     | Purpose                                 | Syntax Example                                              | Sample Output / Effect                          |\n",
    "|-------------|------------------------------------------|-------------------------------------------------------------|--------------------------------------------------|\n",
    "| **SELECT**  | Retrieve data from a table               | `SELECT name, age FROM employees;`                          | Returns name and age columns from employees      |\n",
    "| **INSERT**  | Add new data into a table                | `INSERT INTO employees (name, age) VALUES ('Alice', 30);`   | Adds a new row with name \"Alice\" and age 30      |\n",
    "| **UPDATE**  | Modify existing data                     | `UPDATE employees SET age = 31 WHERE name = 'Alice';`       | Updates Alice's age to 31                        |\n",
    "| **DELETE**  | Remove data from a table                 | `DELETE FROM employees WHERE name = 'Alice';`               | Deletes Alice's record                           |\n",
    "| **CREATE**  | Create a new table                       | `CREATE TABLE employees (id INT, name TEXT, age INT);`      | Creates a table with three columns               |\n",
    "| **DROP**    | Delete a table or database               | `DROP TABLE employees;`                                     | Removes the entire employees table               |\n",
    "| **ALTER**   | Modify table structure                   | `ALTER TABLE employees ADD salary INT;`                     | Adds a salary column to employees table          |\n",
    "| **WHERE**   | Filter records based on condition        | `SELECT * FROM employees WHERE age > 30;`                   | Returns employees older than 30                  |\n",
    "| **JOIN**    | Combine rows from multiple tables        | `SELECT * FROM orders JOIN customers ON orders.cust_id = customers.id;` | Combines matching rows from orders and customers |\n",
    "| **GROUP BY**| Aggregate data by groups                 | `SELECT dept, COUNT(*) FROM employees GROUP BY dept;`       | Counts employees per department                  |\n",
    "| **ORDER BY**| Sort results                             | `SELECT * FROM employees ORDER BY age DESC;`                | Lists employees by descending age                |\n",
    "| **HAVING**  | Filter grouped data                      | `SELECT dept, COUNT(*) FROM employees GROUP BY dept HAVING COUNT(*) > 5;` | Departments with more than 5 employees           |\n",
    "| **LIMIT**   | Restrict number of results               | `SELECT * FROM employees LIMIT 10;`                         | Returns only the first 10 rows                   |\n",
    "\n",
    "---\n",
    "\n",
    "### 🧠 Notes\n",
    "- **SELECT** is the most frequently used command for querying data.\n",
    "- **WHERE** and **HAVING** are critical for filtering.\n",
    "- **JOIN** is essential for relational queries across tables.\n",
    "- **GROUP BY** and **ORDER BY** help summarize and organize results.\n",
    "\n",
    "Would you like this scaffolded into a Jupyter Book module with interactive SQL widgets or quiz questions for students? I can also generate a syntax comparison across SQL dialects (e.g., MySQL, PostgreSQL, SQLite)."
   ]
  },
  {
   "cell_type": "markdown",
   "id": "7ac904a2-e8c1-48c9-9b2d-e27f8fbc301f",
   "metadata": {},
   "source": [
    "## SQL Lite\n"
   ]
  },
  {
   "cell_type": "code",
   "execution_count": 2,
   "id": "f79e4c99-9173-440c-af3f-5ffd4939bb9d",
   "metadata": {},
   "outputs": [
    {
     "data": {
      "application/vnd.jupyter.widget-view+json": {
       "model_id": "ca0eb17898464937862c25d95244f147",
       "version_major": 2,
       "version_minor": 0
      },
      "text/plain": [
       "Dropdown(description='SQL Command:', options=('SELECT', 'INSERT', 'UPDATE', 'DELETE', 'GROUP BY', 'ORDER BY', …"
      ]
     },
     "metadata": {},
     "output_type": "display_data"
    },
    {
     "data": {
      "application/vnd.jupyter.widget-view+json": {
       "model_id": "87388c6897d845f29c5b13e31144b230",
       "version_major": 2,
       "version_minor": 0
      },
      "text/plain": [
       "Output()"
      ]
     },
     "metadata": {},
     "output_type": "display_data"
    }
   ],
   "source": [
    "import sqlite3\n",
    "import ipywidgets as widgets\n",
    "from IPython.display import display, clear_output\n",
    "\n",
    "### Setup in-memory SQLite DB\n",
    "conn = sqlite3.connect(\":memory:\")\n",
    "cursor = conn.cursor()\n",
    "\n",
    "### Create sample table\n",
    "cursor.execute(\"\"\"\n",
    "CREATE TABLE employees (\n",
    "    id INTEGER PRIMARY KEY,\n",
    "    name TEXT,\n",
    "    age INTEGER,\n",
    "    dept TEXT\n",
    ");\n",
    "\"\"\")\n",
    "cursor.executemany(\"\"\"\n",
    "INSERT INTO employees (name, age, dept) VALUES (?, ?, ?);\n",
    "\"\"\", [\n",
    "    (\"Alice\", 30, \"HR\"),\n",
    "    (\"Bob\", 25, \"Engineering\"),\n",
    "    (\"Charlie\", 35, \"HR\"),\n",
    "    (\"Diana\", 28, \"Marketing\"),\n",
    "    (\"Eve\", 40, \"Engineering\")\n",
    "])\n",
    "\n",
    "### SQL command options\n",
    "sql_options = {\n",
    "    \"SELECT\": \"SELECT name, age FROM employees;\",\n",
    "    \"INSERT\": \"INSERT INTO employees (name, age, dept) VALUES ('Frank', 33, 'Sales');\",\n",
    "    \"UPDATE\": \"UPDATE employees SET age = 31 WHERE name = 'Alice';\",\n",
    "    \"DELETE\": \"DELETE FROM employees WHERE name = 'Bob';\",\n",
    "    \"GROUP BY\": \"SELECT dept, COUNT(*) FROM employees GROUP BY dept;\",\n",
    "    \"ORDER BY\": \"SELECT * FROM employees ORDER BY age DESC;\",\n",
    "    \"WHERE\": \"SELECT * FROM employees WHERE age > 30;\"\n",
    "}\n",
    "\n",
    "### Dropdown widget\n",
    "dropdown = widgets.Dropdown(\n",
    "    options=list(sql_options.keys()),\n",
    "    description='SQL Command:',\n",
    "    style={'description_width': 'initial'}\n",
    ")\n",
    "\n",
    "# Output area\n",
    "output = widgets.Output()\n",
    "\n",
    "### Execute and display results\n",
    "def run_sql(change):\n",
    "    output.clear_output()\n",
    "    command = sql_options[change.new]\n",
    "    try:\n",
    "        cursor.execute(command)\n",
    "        result = cursor.fetchall()\n",
    "        with output:\n",
    "            print(f\"Executed:\\n{command}\\n\")\n",
    "            print(\"Result:\")\n",
    "            for row in result:\n",
    "                print(row)\n",
    "    except Exception as e:\n",
    "        with output:\n",
    "            print(f\"Error: {e}\")\n",
    "\n",
    "dropdown.observe(run_sql, names='value')\n",
    "\n",
    "### Display widgets\n",
    "display(dropdown, output)\n"
   ]
  },
  {
   "cell_type": "code",
   "execution_count": null,
   "id": "8b196883-6e5e-43c0-bef5-c57d92971b8e",
   "metadata": {},
   "outputs": [],
   "source": []
  }
 ],
 "metadata": {
  "kernelspec": {
   "display_name": "Python [conda env:base] *",
   "language": "python",
   "name": "conda-base-py"
  },
  "language_info": {
   "codemirror_mode": {
    "name": "ipython",
    "version": 3
   },
   "file_extension": ".py",
   "mimetype": "text/x-python",
   "name": "python",
   "nbconvert_exporter": "python",
   "pygments_lexer": "ipython3",
   "version": "3.12.7"
  },
  "widgets": {
   "application/vnd.jupyter.widget-state+json": {
    "state": {},
    "version_major": 2,
    "version_minor": 0
   }
  }
 },
 "nbformat": 4,
 "nbformat_minor": 5
}
