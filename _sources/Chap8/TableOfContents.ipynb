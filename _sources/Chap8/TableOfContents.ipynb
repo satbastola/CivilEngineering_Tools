{
 "cells": [
  {
   "cell_type": "markdown",
   "id": "2676e43a-60e8-404f-9733-a178f5082d59",
   "metadata": {},
   "source": [
    "# Table of Contents\n",
    "\n",
    "1. [Number System](./1NumberSystem.ipynb)\n",
    "2. [Infromation System](./2InformationSystem.ipynb)\n",
    "3. [Computer Languages](./3ComputerLanguage.ipynb)\n",
    "4. [Important Concepts](./4ImportantConcepts.ipynb)\n",
    "5. [Data Strucutre](./5DataStructure.ipynb)\n",
    "6. [Data Sorting](./6SortingSachit.ipynb)\n",
    "7. [Data Search](./7Searching.ipynb)\n",
    "8. [Logic Gate](./8LogicGate.ipynb)\n",
    "9. [SQL Basics](./9SQLCommands.ipynb)\n",
    "10. [Data Base Adminstator](./10DataBaseAdminstration.ipynb)\n",
    "11. [Cyber Security](./11CyberSecurity.ipynb)\n",
    "12. [Computer Network](./12Network.ipynb)\n",
    "13. [Statistics](./13Statistics.ipynb)\n",
    "14. [Numerical Methods](./14NumericalMethods.ipynb)\n",
    "15. [Machine Learning](./15MachinLearningAlgorithm.ipynb)\n",
    "16. [Engineering Economics](./16EngineeringEconomics.ipynb)\n",
    "17. [ETL Basics](./1ETLProcessing.ipynb)\n",
    "18. [Power BI Basics](./18PowerBI.ipynb)"
   ]
  },
  {
   "cell_type": "code",
   "execution_count": null,
   "id": "5b544595-3cca-4c15-a71c-8a85b90955e6",
   "metadata": {},
   "outputs": [],
   "source": []
  }
 ],
 "metadata": {
  "kernelspec": {
   "display_name": "Python [conda env:base] *",
   "language": "python",
   "name": "conda-base-py"
  },
  "language_info": {
   "codemirror_mode": {
    "name": "ipython",
    "version": 3
   },
   "file_extension": ".py",
   "mimetype": "text/x-python",
   "name": "python",
   "nbconvert_exporter": "python",
   "pygments_lexer": "ipython3",
   "version": "3.12.7"
  },
  "widgets": {
   "application/vnd.jupyter.widget-state+json": {
    "state": {},
    "version_major": 2,
    "version_minor": 0
   }
  }
 },
 "nbformat": 4,
 "nbformat_minor": 5
}
