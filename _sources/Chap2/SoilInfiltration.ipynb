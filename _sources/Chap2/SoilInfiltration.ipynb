{
 "cells": [
  {
   "cell_type": "markdown",
   "id": "5a2dda12-7b8f-4f72-b6a6-cb9f4f4b150f",
   "metadata": {},
   "source": [
    "# Chapter 2 Hydrology: Infiltration Models"
   ]
  },
  {
   "cell_type": "markdown",
   "id": "7bc2f76c-efe4-4de2-a8cd-f13d625b04fc",
   "metadata": {},
   "source": [
    "1. [Introduction: Weir and Notches](#1.-Introduction)\n",
    "2. [Simulation](#2.-Simulation)\n",
    "3. [Self-Assessment](#3.-Self-Assessment)"
   ]
  },
  {
   "cell_type": "markdown",
   "id": "b54ea812-4632-47ee-83a1-c5089a56b0d8",
   "metadata": {},
   "source": [
    "## 1. Introduction"
   ]
  },
  {
   "cell_type": "markdown",
   "id": "8f5b4362-102d-4892-b41b-a6f1cdce0d1a",
   "metadata": {
    "jp-MarkdownHeadingCollapsed": true
   },
   "source": [
    "\n",
    "```{figure} soilinfiltration.png\n",
    ":alt: Descriptive alt text for accessibility\n",
    ":width: 600px\n",
    "\n",
    "**Figure 2.3 **: Soil Infiltration.\n",
    "\n",
    "```\n",
    "\n",
    "### 🌱 Soil Infiltration: Definition, Importance & Applications\n",
    "\n",
    "### 📘 What Is Soil Infiltration?\n",
    "\n",
    "**Soil infiltration** is the process by which surface water—typically from rainfall, snowmelt, or irrigation—**enters the soil profile** and moves downward through pores and voids. It represents the **transition from surface flow to subsurface storage**, acting as a gatekeeper for groundwater recharge and surface runoff.\n",
    "\n",
    "The **rate** of infiltration depends on:\n",
    "- Soil texture and structure\n",
    "- Moisture content\n",
    "- Vegetation cover\n",
    "- Surface conditions and compaction\n",
    "- Rainfall intensity and duration\n",
    "\n",
    "---\n",
    "### 📊 Comparative Table: Infiltration Models\n",
    "\n",
    "The Horton {cite:p}`Horton1940`, Green-Ampt {cite:p}`GreenAmpt1911`, φ-index {cite:p}`Chow1988`, Modified Horton infiltration models {cite:p}`Bauer1974` represent a spectrum of approaches—from empirical decay-based formulations and physically grounded soil moisture dynamics to simplified loss-rate thresholds—each offering distinct advantages for estimating infiltration under varying rainfall and soil conditions.\n",
    "\n",
    "\n",
    "| Model Name       | Governing Equation                                         | Key Parameters                     | Typical Use Cases                                 | Limitations / Assumptions                        |\n",
    "|------------------|------------------------------------------------------------|------------------------------------|---------------------------------------------------|--------------------------------------------------|\n",
    "| **Horton**       | $( f(t) = f_c + (f_0 - f_c) e^{-kt} $)                    | $( f_0 $): initial rate, $( f_c $): final rate, $( k $): decay | Urban hydrology, decay of infiltration over time | Empirical, ignores soil layering                |\n",
    "| **Green–Ampt**   | $( f(t) = K \\left( \\frac{\\Psi \\Delta \\theta}{F} + 1 \\right) $) | $( K $): hydraulic conductivity, $( \\Psi $): suction, $( \\Delta \\theta $): moisture change, $( F $): cumulative | Detailed field modeling, unsaturated infiltration | Assumes homogeneous soil and distinct wetting front |\n",
    "| **SCS I&C**      | $( F(t) = I_a + \\phi_c \\cdot t $)                          | $( I_a $): initial abstraction, $( \\phi_c $): constant rate     | Lumped rainfall abstraction (e.g. TR-55, NRCS)     | Ignores dynamic soil-water interaction           |\n",
    "| **Phi-Index**    | $( \\phi = \\text{constant} $)                              | $( \\phi $): constant abstraction rate                  | Simple runoff estimation for design storms        | Oversimplified, assumes constant abstraction     |\n",
    "| **Modified Horton** | Includes recovery during dry periods                   | Same as Horton, plus recovery terms                    | Long-term infiltration analysis                   | Added complexity may require calibration         |\n",
    "\n",
    "\n",
    "### 🧭 Importance in Hydrological Analysis\n",
    "\n",
    "### 🔹 Runoff Estimation\n",
    "- Infiltration governs how much rainfall is **abstracted** before contributing to runoff.\n",
    "- Key to **SCS-CN**, Horton, and Green–Ampt methods.\n",
    "\n",
    "### 🔹 Groundwater Recharge\n",
    "- Direct link to aquifer replenishment.\n",
    "- Influences sustainability in water-scarce regions.\n",
    "\n",
    "### 🔹 Flood Mitigation\n",
    "- Higher infiltration = **reduced peak flows** and surface water volumes.\n",
    "- Guides stormwater design strategies.\n",
    "\n",
    "### 🔹 Soil Conservation\n",
    "- Minimizes erosion by reducing surface velocity.\n",
    "- Enhances agronomic practices by retaining moisture.\n",
    "\n",
    "\n",
    "---\n",
    "\n",
    "### 🏗️ Hydrologic Applications\n",
    "\n",
    "| Model/Analysis Context        | Role of Infiltration                                  |\n",
    "|------------------------------|--------------------------------------------------------|\n",
    "| Rainfall–Runoff Modeling     | Abstracts rainfall before surface flow initiates       |\n",
    "| Urban Drainage Design        | Informs green infrastructure (e.g. rain gardens, swales)|\n",
    "| Irrigation & Agriculture     | Optimizes water delivery and reduces overland loss     |\n",
    "| Watershed Planning           | Assesses land use impact on recharge and runoff        |\n",
    "| Flood Routing                | Modulates hydrograph shape and lag time                |\n",
    "\n",
    "---\n",
    "\n",
    "### Fundamental Literature\n",
    "\n",
    "{cite}`Horton1940`, {cite}`GreenAmpt1911`, {cite}`Chow1988`,{cite}`Bauer1974` represent the fundamental spectrum of infiltration modeling approaches in hydrology and soil physics. These works collectively underpin both empirical and physically based methods for estimating infiltration under varying rainfall and soil conditions. {cite}`Horton1940` introduced an empirical model describing how infiltration capacity decays exponentially over time during a storm, forming the basis for many urban runoff models. {cite}`GreenAmpt1911` developed a physically based infiltration model using Darcy’s law and moisture front dynamics, suitable for ponded conditions and widely used in engineering applications. {cite}`Chow1988` formalized the φ-index method, a simplified abstraction for estimating average infiltration losses during storm events, often used in design hydrology {cite}`Bauer1974`proposed modified Horton models, incorporating recovery functions and adjustments for antecedent moisture, improving applicability in variable soil and climate conditions.\n"
   ]
  },
  {
   "cell_type": "markdown",
   "id": "06540022-3022-4068-b4f0-d5a51325baf8",
   "metadata": {},
   "source": [
    "## 2. Simulation"
   ]
  },
  {
   "cell_type": "markdown",
   "id": "5a00982a-8696-47a4-b86b-9218bef48e41",
   "metadata": {},
   "source": [
    "### 💧 Overview: Interactive Infiltration Model Simulator\n",
    "\n",
    "This Jupyter-based script uses `ipywidgets` to create interactive plots for four key infiltration models used in hydrology:\n",
    "\n",
    "- Green–Ampt  \n",
    "- Horton  \n",
    "- Phi-index  \n",
    "- SCS Initial & Constant  \n",
    "\n",
    "---\n",
    "\n",
    "### ⚙️ How It Works\n",
    "\n",
    "**Inputs:**\n",
    "- **Sliders:** Let users adjust model parameters like hydraulic conductivity (K), suction head (Ψ), decay rate (k), rainfall intensity (P), and abstraction rates.\n",
    "- **Time Vector:** Simulated over 5 hours to observe infiltration dynamics.\n",
    "\n",
    "**Models & Outputs:**\n",
    "\n",
    "| Model        | Equation Structure                                        | Output                                 |\n",
    "|--------------|-----------------------------------------------------------|----------------------------------------|\n",
    "| Green–Ampt   | Uses soil suction, conductivity, and moisture deficit     | Variable infiltration rate over time   |\n",
    "| Horton       | Exponential decay of infiltration capacity                | Infiltration rate vs. time             |\n",
    "| Phi-index    | Constant abstraction threshold                            | Excess rainfall infiltration            |\n",
    "| SCS I&C      | Cumulative abstraction = initial + constant rate          | Total infiltration volume vs. time     |\n",
    "\n",
    "---\n",
    "\n",
    "### 📊 Visualization\n",
    "\n",
    "- Each function generates a time-series plot of infiltration behavior.\n",
    "- Users interpret curve shapes, peak rates, and rate decay to compare soil/water interactions.\n",
    "\n",
    "---\n",
    "\n",
    "### 🧠 How to Interpret Results\n",
    "\n",
    "- **Green–Ampt:** High suction or low initial infiltration → steep early curve, slows as soil saturates.  \n",
    "- **Horton:** Decay curve shows how infiltration decreases due to surface sealing or saturation.  \n",
    "- **Phi-index:** Flat line if rainfall > φ-index → constant excess infiltration.  \n",
    "- **SCS:** Linear growth—great for estimating cumulative abstraction in design storms.\n"
   ]
  },
  {
   "cell_type": "code",
   "execution_count": 5,
   "id": "e83b4c73-4731-458a-8880-0a230f0eb098",
   "metadata": {},
   "outputs": [
    {
     "data": {
      "application/vnd.jupyter.widget-view+json": {
       "model_id": "fcd50579b0aa42bbb5118527b0fc4c89",
       "version_major": 2,
       "version_minor": 0
      },
      "text/plain": [
       "interactive(children=(FloatSlider(value=5.0, description='K', max=10.0, min=0.5, step=0.5), FloatSlider(value=…"
      ]
     },
     "metadata": {},
     "output_type": "display_data"
    },
    {
     "data": {
      "application/vnd.jupyter.widget-view+json": {
       "model_id": "184fad4443ff45c4b070a3a6b3d823f7",
       "version_major": 2,
       "version_minor": 0
      },
      "text/plain": [
       "interactive(children=(FloatSlider(value=20.0, description='f₀', max=40.0, min=5.0, step=1.0), FloatSlider(valu…"
      ]
     },
     "metadata": {},
     "output_type": "display_data"
    },
    {
     "data": {
      "application/vnd.jupyter.widget-view+json": {
       "model_id": "2e0f129156354366bd980661f911791c",
       "version_major": 2,
       "version_minor": 0
      },
      "text/plain": [
       "interactive(children=(FloatSlider(value=15.0, description='Rainfall', max=30.0, min=5.0, step=1.0), FloatSlide…"
      ]
     },
     "metadata": {},
     "output_type": "display_data"
    },
    {
     "data": {
      "application/vnd.jupyter.widget-view+json": {
       "model_id": "49635db9c3cc4e1b90d5711e2794d9ba",
       "version_major": 2,
       "version_minor": 0
      },
      "text/plain": [
       "interactive(children=(FloatSlider(value=5.0, description='Ia', max=20.0, step=1.0), FloatSlider(value=4.0, des…"
      ]
     },
     "metadata": {},
     "output_type": "display_data"
    },
    {
     "data": {
      "text/plain": [
       "<function __main__.scs_plot(Ia, φc)>"
      ]
     },
     "execution_count": 5,
     "metadata": {},
     "output_type": "execute_result"
    }
   ],
   "source": [
    "import numpy as np\n",
    "import matplotlib.pyplot as plt\n",
    "from ipywidgets import interact, FloatSlider, fixed\n",
    "import warnings\n",
    "warnings.filterwarnings('ignore')\n",
    "def green_ampt_plot(K, Ψ, Δθ, F0):\n",
    "    time = np.linspace(0.01, 5, 100)\n",
    "    F = F0 + K * time\n",
    "    f_values = [K * ((Ψ * Δθ / Fi) + 1) if Fi > 0 else K for Fi in F]\n",
    "\n",
    "    plt.figure(figsize=(8,5))\n",
    "    plt.plot(time, f_values, label=\"Green–Ampt\")\n",
    "    plt.xlabel(\"Time [hr]\")\n",
    "    plt.ylabel(\"Infiltration Rate [mm/hr]\")\n",
    "    plt.title(\"Green–Ampt Model\")\n",
    "    plt.grid(True)\n",
    "    plt.legend()\n",
    "    plt.show()\n",
    "\n",
    "def horton_plot(f0, fc, k):\n",
    "    time = np.linspace(0.01, 5, 100)\n",
    "    f_values = fc + (f0 - fc) * np.exp(-k * time)\n",
    "\n",
    "    plt.figure(figsize=(8,5))\n",
    "    plt.plot(time, f_values, label=\"Horton\")\n",
    "    plt.xlabel(\"Time [hr]\")\n",
    "    plt.ylabel(\"Infiltration Rate [mm/hr]\")\n",
    "    plt.title(\"Horton Model\")\n",
    "    plt.grid(True)\n",
    "    plt.legend()\n",
    "    plt.show()\n",
    "\n",
    "def phi_index_plot(P, φ):\n",
    "    time = np.linspace(0.01, 5, 100)\n",
    "    f_values = [max(P - φ, 0) for _ in time]\n",
    "\n",
    "    plt.figure(figsize=(8,5))\n",
    "    plt.plot(time, f_values, label=\"Phi-index\")\n",
    "    plt.xlabel(\"Time [hr]\")\n",
    "    plt.ylabel(\"Infiltration Rate [mm/hr]\")\n",
    "    plt.title(\"Phi-index Model\")\n",
    "    plt.grid(True)\n",
    "    plt.legend()\n",
    "    plt.show()\n",
    "\n",
    "def scs_plot(Ia, φc):\n",
    "    time = np.linspace(0.01, 5, 100)\n",
    "    f_values = Ia + φc * time\n",
    "\n",
    "    plt.figure(figsize=(8,5))\n",
    "    plt.plot(time, f_values, label=\"SCS Initial & Constant\")\n",
    "    plt.xlabel(\"Time [hr]\")\n",
    "    plt.ylabel(\"Cumulative Abstraction [mm]\")\n",
    "    plt.title(\"SCS Model\")\n",
    "    plt.grid(True)\n",
    "    plt.legend()\n",
    "    plt.show()\n",
    "\n",
    "interact(green_ampt_plot,\n",
    "         K=FloatSlider(value=5, min=0.5, max=10, step=0.5, description='K'),\n",
    "         Ψ=FloatSlider(value=100, min=10, max=200, step=10, description='Ψ'),\n",
    "         Δθ=FloatSlider(value=0.2, min=0.05, max=0.5, step=0.05, description='Δθ'),\n",
    "         F0=FloatSlider(value=10, min=0, max=30, step=1, description='F₀'))\n",
    "\n",
    "interact(horton_plot,\n",
    "         f0=FloatSlider(value=20, min=5, max=40, step=1, description='f₀'),\n",
    "         fc=FloatSlider(value=5, min=0.5, max=20, step=0.5, description='fᶜ'),\n",
    "         k=FloatSlider(value=1.0, min=0.1, max=5, step=0.1, description='k'))\n",
    "\n",
    "interact(phi_index_plot,\n",
    "         P=FloatSlider(value=15, min=5, max=30, step=1, description='Rainfall'),\n",
    "         φ=FloatSlider(value=7, min=0, max=20, step=1, description='φ-index'))\n",
    "\n",
    "interact(scs_plot,\n",
    "         Ia=FloatSlider(value=5, min=0, max=20, step=1, description='Ia'),\n",
    "         φc=FloatSlider(value=4, min=1, max=10, step=0.5, description='φc'))"
   ]
  },
  {
   "cell_type": "markdown",
   "id": "93fcf365-5c21-4c14-ac47-4f03d22eb587",
   "metadata": {},
   "source": [
    "## 3. Self-Assessment"
   ]
  },
  {
   "cell_type": "markdown",
   "id": "8d17e607-1aa8-43cd-9c15-810cba693d91",
   "metadata": {},
   "source": [
    "### 🧠 Infiltration Modeling: Conceptual, Reflective & Quiz Questions\n",
    "\n",
    "### 🔍 Conceptual Questions\n",
    "\n",
    "### Green–Ampt Model\n",
    "- What physical processes does the Green–Ampt model attempt to simulate?\n",
    "- How do the parameters Ψ (suction head) and Δθ (moisture deficit) influence infiltration rate over time?\n",
    "\n",
    "### Horton Model\n",
    "- Why does infiltration rate decay exponentially in the Horton formulation?\n",
    "- How do f₀ and fᶜ shape the infiltration curve in different soil types?\n",
    "\n",
    "### Phi-index Method\n",
    "- What does the φ-index represent conceptually in a storm event?\n",
    "- Under what conditions would the φ-index yield zero infiltration?\n",
    "\n",
    "### SCS Initial & Constant Method\n",
    "- How does initial abstraction Ia impact the timing and magnitude of runoff?\n",
    "- Why might the SCS method be favored in lumped watershed models?\n",
    "\n",
    "---\n",
    "\n",
    "### 💭 Self-Reflective Questions\n",
    "\n",
    "- When using interactive sliders, which parameters felt most sensitive to changes in infiltration behavior?\n",
    "- Reflect on a design case: how did infiltration modeling influence drainage sizing or runoff prediction?\n",
    "- Which model aligns most closely with your field observations in sandy vs. clay soils?\n",
    "- How confident do you feel in explaining the physical meaning of Green–Ampt parameters to learners?\n",
    "\n",
    "---\n",
    "\n",
    "### 🧪 Quiz Questions\n",
    "\n",
    "### Green–Ampt\n",
    "\n",
    "**Q1. Increasing suction head (Ψ) while keeping other parameters constant will generally:**  \n",
    "- A. Reduce infiltration rate  \n",
    "- B. Increase infiltration rate ✅  \n",
    "- C. Not affect infiltration  \n",
    "- D. Delay surface runoff  \n",
    "\n",
    "### Horton\n",
    "\n",
    "**Q2. The infiltration rate at time zero in Horton model equals:**  \n",
    "- A. fᶜ  \n",
    "- B. f₀ ✅  \n",
    "- C. k  \n",
    "- D. Rainfall rate  \n",
    "\n",
    "**Q3. Horton model is best suited for:**  \n",
    "- A. Saturated flow  \n",
    "- B. Soil moisture redistribution  \n",
    "- C. Infiltration decay over time ✅  \n",
    "- D. Groundwater recharge estimation  \n",
    "\n",
    "### Phi-index\n",
    "\n",
    "**Q4. If rainfall intensity is 10 mm/hr and φ-index is 12 mm/hr, infiltration rate is:**  \n",
    "- A. 0 mm/hr ✅  \n",
    "- B. 2 mm/hr  \n",
    "- C. 10 mm/hr  \n",
    "- D. 12 mm/hr  \n",
    "\n",
    "### SCS Method\n",
    "\n",
    "**Q5. The cumulative abstraction after 2 hours with Ia = 5 mm and φc = 4 mm/hr is:**  \n",
    "- A. 8 mm  \n",
    "- B. 9 mm  \n",
    "- C. 13 mm ✅  \n",
    "- D. 15 mm\n"
   ]
  },
  {
   "cell_type": "code",
   "execution_count": null,
   "id": "bc33b504-a169-4e48-8b15-86e08bd303d3",
   "metadata": {},
   "outputs": [],
   "source": []
  }
 ],
 "metadata": {
  "kernelspec": {
   "display_name": "Python [conda env:base] *",
   "language": "python",
   "name": "conda-base-py"
  },
  "language_info": {
   "codemirror_mode": {
    "name": "ipython",
    "version": 3
   },
   "file_extension": ".py",
   "mimetype": "text/x-python",
   "name": "python",
   "nbconvert_exporter": "python",
   "pygments_lexer": "ipython3",
   "version": "3.12.7"
  },
  "widgets": {
   "application/vnd.jupyter.widget-state+json": {
    "state": {},
    "version_major": 2,
    "version_minor": 0
   }
  }
 },
 "nbformat": 4,
 "nbformat_minor": 5
}
