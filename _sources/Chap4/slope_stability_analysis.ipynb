{
 "cells": [
  {
   "cell_type": "markdown",
   "id": "f2d86634-85d8-43ad-9ed2-29643fd4fce0",
   "metadata": {},
   "source": [
    "# Chpater 4 Geotechnical Engineering: Slope Stability"
   ]
  },
  {
   "cell_type": "markdown",
   "id": "53145ba6-d931-4f23-a80a-e5f7be08399b",
   "metadata": {},
   "source": [
    "1. [Introduction: Bishop's Method](#1.-Introduction)\n",
    "2. [Simulation: Bishop's Method](#2.-Simulation)\n",
    "3. [Self-Assessment](#3.-Self-Assessment)\n",
    "2. [Simulation: Methods Comparison](#4.-Simulation)\n",
    "3. [Self-Assessment: Methods Comparison](#5.-Self-Assessment)"
   ]
  },
  {
   "cell_type": "markdown",
   "id": "3c316580-5526-479d-b8e6-3b4157c91321",
   "metadata": {},
   "source": [
    "## 1. Introduction"
   ]
  },
  {
   "cell_type": "markdown",
   "id": "f4608ebc",
   "metadata": {},
   "source": [
    "```{figure} SlopeStabiityAnalysis.png\n",
    ":alt: Descriptive alt text for accessibility\n",
    ":width: 600px\n",
    ":name: Analysis of Slope Stability  \n",
    "\n",
    "**Figure 4.11 **: Analysis of Slope Stability.\n",
    "```\n",
    "\n",
    "### 🧱 Soil Slope Instability and Stability Analysis\n",
    "\n",
    "**Slope Stability** is the ability of a soil or rock slope to resist movement or failure under gravitational and environmental forces. **Slope Instability** occurs when driving forces (e.g., gravity, water pressure) exceed resisting forces, leading to mass movement such as landslides or slumps. Common causes include:\n",
    "\n",
    "### 🔧 Contributing Factors\n",
    "\n",
    "| Factor                      | Description                                                                 |\n",
    "|-----------------------------|-----------------------------------------------------------------------------|\n",
    "| **Gravity and Slope Angle** | Steeper slopes increase shear stress and reduce normal stress              |\n",
    "| **Water Infiltration**      | Raises pore water pressure, reduces effective stress, and adds weight      |\n",
    "| **Weak or Layered Soils**   | Soft clays, loose sands, or stratified soils have low shear strength       |\n",
    "| **Erosion and Weathering**  | Removes support and weakens surface layers                                 |\n",
    "| **Seismic Activity**        | Earthquakes induce dynamic loads and reduce soil strength                   |\n",
    "| **Human Activities**        | Excavation, loading, or deforestation can destabilize slopes              \n",
    "\n",
    "---\n",
    "\n",
    "### 🧠 Why Is Slope Stability Analysis Important?\n",
    "\n",
    "Analyzing slope stability is essential to:\n",
    "\n",
    "- **Prevent Landslides**: Protect lives, property, and infrastructure\n",
    "- **Design Safe Embankments**: Roads, dams, and levees rely on stable slopes\n",
    "- **Assess Risk**: Identify potential failure zones and mitigation needs\n",
    "- **Guide Construction**: Optimize cut/fill operations and slope angles\n",
    "- **Ensure Long-Term Performance**: Account for drainage, vegetation, and loading changes\n",
    "\n",
    "---\n",
    "\n",
    "### 📐 Common Methods of Slope Stability Analysis\n",
    "\n",
    "| Method                     | Description                                                                 |\n",
    "|----------------------------|-----------------------------------------------------------------------------|\n",
    "| **Limit Equilibrium (LEM)**| Divides slope into slices; calculates factor of safety (FS)                 |\n",
    "| **Finite Element Method (FEM)** | Models stress-strain behavior and progressive failure               |\n",
    "| **Infinite Slope Model**   | Simplified analysis for shallow slopes                                      |\n",
    "| **Bishop, Janbu, Morgenstern-Price** | Variants of LEM with different assumptions and accuracy         |\n",
    "\n",
    "---\n",
    "\n",
    "### 🔢 Factor of Safety (FS)\n",
    "\n",
    "$$\n",
    "FS = \\frac{\\text{Resisting Forces}}{\\text{Driving Forces}}\n",
    "$$\n",
    "\n",
    "- **FS > 1.0**: Stable\n",
    "- **FS < 1.0**: Unstable\n",
    "- **FS ≥ 1.3**: Typically required for design\n",
    "\n",
    "---\n",
    "\n",
    "### 🛠️ Engineering Approaches to Slope Stabilization\n",
    "\n",
    "- **Retaining Structures**: Gravity walls, cantilever walls, and anchored systems resist lateral soil pressure.\n",
    "- **Soil Reinforcement**: Techniques like soil nailing, geogrids, and rock bolts increase shear strength and prevent failure.\n",
    "- **Drainage Systems**: Surface and subsurface drains reduce pore water pressure and prevent saturation-induced instability.\n",
    "- **Grading and Terracing**: Modifying slope geometry to reduce steepness and improve stability.\n",
    "- **Chemical Stabilization**: Lime or cement injection improves soil cohesion and reduces plasticity.\n",
    "\n",
    "---\n",
    "\n",
    "### 🌿 Natural and Ecological Approaches\n",
    "\n",
    "- **Vegetative Cover**: Deep-rooted plants bind soil and reduce erosion through root reinforcement.\n",
    "- **Permaculture Techniques**: Terracing, contour planting, swales, and berms manage water flow and stabilize slopes naturally.\n",
    "- **Bioengineering**: Live staking, brush layering, and vegetated geogrids integrate plant systems with soil mechanics.\n",
    "- **Erosion Control Blankets**: Biodegradable mats (e.g., coir, jute) protect exposed soil while vegetation establishes.\n",
    "\n",
    "---\n",
    "\n",
    "### ✅ Integrated Best Practices\n",
    "\n",
    "- Combine structural and ecological methods for long-term slope resilience.\n",
    "- Conduct geotechnical analysis to tailor solutions to site-specific soil, geometry, and hydrology.\n",
    "- Monitor slopes post-intervention to ensure continued performance and adapt to changing conditions.\n",
    "\n",
    "\n",
    "### 🧠 Conceptual Insight\n",
    "\n",
    "> Soil slopes are inherently vulnerable to **gravity, water, and disturbance** —  \n",
    "> and **stability analysis** is the key to **safe design, risk mitigation, and disaster prevention**.\n",
    "\n",
    "---\n",
    "\n",
    "### References\n",
    "\n",
    "**{cite}`Bowles1996`** provides detailed coverage of slope stability using limit equilibrium methods (e.g., Bishop, Janbu), with emphasis on failure modes, factor of safety, and soil strength parameters. Includes charts, examples, and design procedures for both natural and engineered slopes. **{cite}`Das2010`** discusses slope stability fundamentals with practical examples, covering planar and circular failure surfaces, including factor of safety, seepage effects, and stability charts (e.g., Taylor’s method) for cohesive and cohesionless soils. Also, **{cite}`Coduto2011`** introduces slope stability concepts with basic limit equilibrium methods. Covers planar and rotational failures, factor of safety, and soil strength parameters, but with less depth and fewer methods than Das."
   ]
  },
  {
   "cell_type": "markdown",
   "id": "1e35237a-b03c-4997-83f9-a0e3cfee23f2",
   "metadata": {},
   "source": [
    "## 2. Simulation"
   ]
  },
  {
   "cell_type": "markdown",
   "id": "aba0d7de-f117-4337-94b3-c12e064d7403",
   "metadata": {},
   "source": [
    "### 🧱 Slope Stability Analysis Using Bishop’s Simplified Method\n",
    "\n",
    "This tool estimates the **Factor of Safety (FS)** for a soil slope using **Bishop’s simplified method**, a widely used technique in geotechnical engineering for circular slip surface analysis. It also visualizes the slope geometry and potential failure surface.\n",
    "\n",
    "---\n",
    "\n",
    "### ▶️ What It Does\n",
    "\n",
    "- Computes FS iteratively based on:\n",
    "  - Soil strength parameters (cohesion, friction angle)\n",
    "  - Slope geometry (height, angle)\n",
    "  - Soil unit weight\n",
    "- Plots the slope profile and circular failure surface\n",
    "- Helps assess whether a slope is **stable (FS > 1)** or **unstable (FS < 1)**\n",
    "\n",
    "---\n",
    "\n",
    "### 📊 How to Interpret Inputs\n",
    "\n",
    "| Input Parameter       | Meaning                                                                 |\n",
    "|------------------------|-------------------------------------------------------------------------|\n",
    "| `Cohesion (kPa)`       | Soil’s cohesive strength; higher values improve stability               |\n",
    "| `Friction Angle (°)`   | Internal friction; affects shear resistance                             |\n",
    "| `Unit Weight (kN/m³)`  | Soil density; influences driving forces                                 |\n",
    "| `Slope Height (m)`     | Vertical height of the slope                                            |\n",
    "| `Slope Angle (°)`      | Steepness of the slope; steeper slopes are more prone to failure        |\n",
    "\n",
    "---\n",
    "\n",
    "### 📋 How to Interpret Outputs\n",
    "\n",
    "| Output                 | Interpretation                                                                 |\n",
    "|------------------------|---------------------------------------------------------------------------------|\n",
    "| `Factor of Safety (FS)`| Ratio of resisting to driving forces; FS > 1.3 typically considered safe        |\n",
    "| `Slope Plot`           | Shows slope geometry and circular failure surface                              |\n",
    "| `FS < 1.0`             | Indicates potential failure; redesign or stabilization needed                  |\n",
    "| `FS ≈ 1.3 or higher`   | Generally acceptable for design, depending on project requirements             \n",
    "\n",
    "---\n",
    "### Bishop's Method of Slope Stability Analysis\n",
    "\n",
    "**Bishop’s Simplified Method** is a widely used technique in geotechnical engineering for evaluating the **Factor of Safety (FS)** of slopes. It assumes a **circular failure surface** and divides the soil mass above this surface into **vertical slices**.\n",
    "\n",
    "---\n",
    "\n",
    "###  Key Assumptions\n",
    "\n",
    "1. The failure surface is **circular**.\n",
    "2. Each slice is acted upon by:\n",
    "   - **Weight (W)**\n",
    "   - **Normal force (N)**\n",
    "   - **Shear force (S)**\n",
    "   - **Interslice forces (E<sub>left</sub>, E<sub>right</sub>)** — only vertical components are considered.\n",
    "3. Pore water pressure and external loads can be included.\n",
    "4. Moment equilibrium is not used; only **force equilibrium** is applied.\n",
    "\n",
    "---\n",
    "\n",
    "###  Governing Equation\n",
    "\n",
    "The **Factor of Safety (FS)** is calculated iteratively using:\n",
    "\n",
    "$$\n",
    "FS = \\frac{ \\sum \\left[ c' \\cdot b + (W - u \\cdot b) \\cdot \\tan(\\\\phi') \\right] \\cdot \\frac{\\\\cos(\\\\alpha)}{1 + \\frac{\\\\tan(\\\\phi') \\cdot \\\\tan(\\\\alpha)}{FS}} }{ \\sum W \\cdot \\\\sin(\\\\alpha) }\n",
    "$$\n",
    "\n",
    "Where:\n",
    "- $( c' $): effective cohesion  \n",
    "- $( \\\\phi' $): effective friction angle  \n",
    "- $( W $): weight of slice  \n",
    "- $( u $): pore water pressure  \n",
    "- $( b $): width of slice  \n",
    "- $( \\\\alpha $): inclination of base of slice  \n",
    "\n",
    "---\n",
    "\n",
    "###  Variants of Bishop's Method\n",
    "\n",
    "| Variant             | Description                                      |\n",
    "|---------------------|--------------------------------------------------|\n",
    "| **Bishop Simplified** | Ignores interslice shear forces (most common)   |\n",
    "| **Bishop Rigorous**   | Includes full interslice force equilibrium      |\n",
    "\n",
    "---\n",
    "\n",
    "### Summary\n",
    "\n",
    "Bishop’s method offers a balance between **simplicity** and **accuracy**, making it ideal for many practical slope stability problems. For more complex geometries or loading conditions, advanced methods like Spencer or Morgenstern-Price may be preferred.\n",
    "\n",
    "\n",
    "### 🧠 Conceptual Insight\n",
    "\n",
    "> This tool helps engineers evaluate **slope stability** under varying soil and geometric conditions —  \n",
    "> supporting safe design and risk mitigation for embankments, cuts, and natural slopes."
   ]
  },
  {
   "cell_type": "code",
   "execution_count": 5,
   "id": "c4cc9d74",
   "metadata": {},
   "outputs": [
    {
     "data": {
      "application/vnd.jupyter.widget-view+json": {
       "model_id": "02a4f506c0744f90afc04dc1a562ea7a",
       "version_major": 2,
       "version_minor": 0
      },
      "text/plain": [
       "VBox(children=(FloatSlider(value=10.0, description='Cohesion (kPa)', max=50.0, step=1.0), FloatSlider(value=30…"
      ]
     },
     "metadata": {},
     "output_type": "display_data"
    },
    {
     "data": {
      "application/vnd.jupyter.widget-view+json": {
       "model_id": "e2b7fdf9d2e2456591a606df5c5bb657",
       "version_major": 2,
       "version_minor": 0
      },
      "text/plain": [
       "Output()"
      ]
     },
     "metadata": {},
     "output_type": "display_data"
    }
   ],
   "source": [
    "import numpy as np\n",
    "import matplotlib.pyplot as plt\n",
    "import ipywidgets as widgets\n",
    "from IPython.display import display, Markdown, clear_output\n",
    "\n",
    "# Bishop's simplified method for factor of safety\n",
    "def bishop_fs(c, phi, gamma, slope_height, slope_angle, slices=10):\n",
    "    beta_rad = np.radians(slope_angle)\n",
    "    phi_rad = np.radians(phi)\n",
    "    width = slope_height / np.tan(beta_rad)\n",
    "    dx = width / slices\n",
    "    fs = 1.5  # initial guess\n",
    "    for _ in range(20):  # Iterative solution\n",
    "        numerator_sum = 0\n",
    "        denominator_sum = 0\n",
    "        for i in range(slices):\n",
    "            x = dx * (i + 0.5)\n",
    "            height = slope_height * (1 - x / width)\n",
    "            weight = gamma * dx * height\n",
    "            alpha = beta_rad\n",
    "            m_alpha = np.tan(phi_rad)\n",
    "            normal = weight * np.cos(alpha)\n",
    "            shear = weight * np.sin(alpha)\n",
    "            numerator = c * dx + (normal * m_alpha)\n",
    "            denominator = shear + (normal * m_alpha * np.tan(alpha) / fs)\n",
    "            numerator_sum += numerator\n",
    "            denominator_sum += denominator\n",
    "        fs_new = numerator_sum / denominator_sum\n",
    "        if abs(fs_new - fs) < 1e-4:\n",
    "            break\n",
    "        fs = fs_new\n",
    "    return fs\n",
    "\n",
    "# Plot slope and failure surface\n",
    "def plot_bishop_geometry(slope_height, slope_angle_deg, fs_value):\n",
    "    slope_angle = np.radians(slope_angle_deg)\n",
    "    slope_width = slope_height / np.tan(slope_angle)\n",
    "\n",
    "    # Slope surface\n",
    "    x_slope = [0, slope_width, slope_width]\n",
    "    y_slope = [slope_height, 0, 0]\n",
    "\n",
    "    # Failure arc\n",
    "    toe_x = slope_width\n",
    "    toe_y = 0\n",
    "    crest_x = slope_width * 0.2\n",
    "    crest_y = slope_height * (1 - crest_x / slope_width)\n",
    "\n",
    "    def circle_from_points(p1, p2, angle):\n",
    "        mid_x = (p1[0] + p2[0]) / 2\n",
    "        mid_y = (p1[1] + p2[1]) / 2\n",
    "        dx = p2[0] - p1[0]\n",
    "        dy = p2[1] - p1[1]\n",
    "        dist = np.hypot(dx, dy)\n",
    "        radius = dist / (2 * np.sin(angle / 2))\n",
    "        perp_dx = -dy\n",
    "        perp_dy = dx\n",
    "        norm = np.hypot(perp_dx, perp_dy)\n",
    "        perp_dx /= norm\n",
    "        perp_dy /= norm\n",
    "        center_x = mid_x + perp_dx * np.sqrt(radius**2 - (dist / 2)**2)\n",
    "        center_y = mid_y + perp_dy * np.sqrt(radius**2 - (dist / 2)**2)\n",
    "        return center_x, center_y, radius\n",
    "\n",
    "    arc_angle = np.radians(100)\n",
    "    center_x, center_y, radius = circle_from_points((crest_x, crest_y), (toe_x, toe_y), arc_angle)\n",
    "\n",
    "    theta1 = np.arctan2(crest_y - center_y, crest_x - center_x)\n",
    "    theta2 = np.arctan2(toe_y - center_y, toe_x - center_x)\n",
    "    theta = np.linspace(theta1, theta2, 200)\n",
    "    x_arc = center_x + radius * np.cos(theta)\n",
    "    y_arc = center_y + radius * np.sin(theta)\n",
    "\n",
    "    fig, ax = plt.subplots(figsize=(10, 5))\n",
    "    ax.plot(x_slope, y_slope, 'k-', label='Slope Surface')\n",
    "    ax.fill_between(x_slope[:2], y_slope[:2], color='lightgray', alpha=0.5)\n",
    "    ax.plot(x_arc, y_arc, 'r--', linewidth=2, label='Failure Surface (Bishop)')\n",
    "    ax.set_aspect('equal')\n",
    "    ax.set_xlabel(\"Width (m)\")\n",
    "    ax.set_ylabel(\"Height (m)\")\n",
    "    ax.set_title(f\"Bishop's Method: FS = {fs_value:.3f}\")\n",
    "    ax.legend()\n",
    "    ax.grid(True)\n",
    "    plt.tight_layout()\n",
    "    plt.show()\n",
    "\n",
    "# Interactive widgets\n",
    "c_slider = widgets.FloatSlider(value=10, min=0, max=50, step=1, description='Cohesion (kPa)')\n",
    "phi_slider = widgets.FloatSlider(value=30, min=0, max=45, step=1, description='Friction angle (°)')\n",
    "gamma_slider = widgets.FloatSlider(value=18, min=10, max=25, step=0.5, description='Unit weight (kN/m³)')\n",
    "slope_height_slider = widgets.FloatSlider(value=10, min=1, max=30, step=1, description='Slope height (m)')\n",
    "slope_angle_slider = widgets.FloatSlider(value=30, min=5, max=45, step=1, description='Slope angle (°)')\n",
    "\n",
    "output = widgets.Output()\n",
    "\n",
    "def update_plot(change=None):\n",
    "    with output:\n",
    "        output.clear_output()\n",
    "        fs = bishop_fs(c_slider.value, phi_slider.value, gamma_slider.value,\n",
    "                       slope_height_slider.value, slope_angle_slider.value)\n",
    "        display(Markdown(f\"### Factor of Safety (Bishop's Method): {fs:.3f}\"))\n",
    "        plot_bishop_geometry(slope_height_slider.value, slope_angle_slider.value, fs)\n",
    "\n",
    "for w in [c_slider, phi_slider, gamma_slider, slope_height_slider, slope_angle_slider]:\n",
    "    w.observe(update_plot, names='value')\n",
    "\n",
    "display(widgets.VBox([c_slider, phi_slider, gamma_slider, slope_height_slider, slope_angle_slider]), output)\n",
    "update_plot()\n"
   ]
  },
  {
   "cell_type": "markdown",
   "id": "c55335ee-00f2-44e2-a561-05d77917c52d",
   "metadata": {},
   "source": [
    "## 3. Self-Assessment"
   ]
  },
  {
   "cell_type": "code",
   "execution_count": 6,
   "id": "20c5093e",
   "metadata": {},
   "outputs": [
    {
     "data": {
      "application/vnd.jupyter.widget-view+json": {
       "model_id": "1891ee516a8d4c8e91c527d2eacf332b",
       "version_major": 2,
       "version_minor": 0
      },
      "text/plain": [
       "HTML(value='<b>1. What type of failure surface does Bishop’s method assume?</b>')"
      ]
     },
     "metadata": {},
     "output_type": "display_data"
    },
    {
     "data": {
      "application/vnd.jupyter.widget-view+json": {
       "model_id": "fcc92a89d452473f9fe1c68eb469ec88",
       "version_major": 2,
       "version_minor": 0
      },
      "text/plain": [
       "RadioButtons(layout=Layout(width='max-content'), options=('A. Planar', 'B. Circular', 'C. Parabolic', 'D. Elli…"
      ]
     },
     "metadata": {},
     "output_type": "display_data"
    },
    {
     "data": {
      "application/vnd.jupyter.widget-view+json": {
       "model_id": "c238dd15d9fb4483ad83c5d1efd4d052",
       "version_major": 2,
       "version_minor": 0
      },
      "text/plain": [
       "Output()"
      ]
     },
     "metadata": {},
     "output_type": "display_data"
    },
    {
     "data": {
      "application/vnd.jupyter.widget-view+json": {
       "model_id": "a062a905de954989baf2439890d9af71",
       "version_major": 2,
       "version_minor": 0
      },
      "text/plain": [
       "HTML(value='<b>2. Which forces are considered in Bishop’s simplified method?</b>')"
      ]
     },
     "metadata": {},
     "output_type": "display_data"
    },
    {
     "data": {
      "application/vnd.jupyter.widget-view+json": {
       "model_id": "53243cdcaaca421abb21fbc78cc27422",
       "version_major": 2,
       "version_minor": 0
      },
      "text/plain": [
       "RadioButtons(layout=Layout(width='max-content'), options=('A. Only horizontal forces', 'B. Only vertical force…"
      ]
     },
     "metadata": {},
     "output_type": "display_data"
    },
    {
     "data": {
      "application/vnd.jupyter.widget-view+json": {
       "model_id": "96c75c80dc1542488ba470d50d036a7b",
       "version_major": 2,
       "version_minor": 0
      },
      "text/plain": [
       "Output()"
      ]
     },
     "metadata": {},
     "output_type": "display_data"
    },
    {
     "data": {
      "application/vnd.jupyter.widget-view+json": {
       "model_id": "b8b9cf2e6a364446b38a69f0f60f9d69",
       "version_major": 2,
       "version_minor": 0
      },
      "text/plain": [
       "HTML(value='<b>2. Which forces are considered in Bishop’s simplified method?</b>')"
      ]
     },
     "metadata": {},
     "output_type": "display_data"
    },
    {
     "data": {
      "application/vnd.jupyter.widget-view+json": {
       "model_id": "f70e70add0c3424bb196cf3f873aedac",
       "version_major": 2,
       "version_minor": 0
      },
      "text/plain": [
       "RadioButtons(layout=Layout(width='max-content'), options=('A. Only horizontal forces', 'B. Only vertical force…"
      ]
     },
     "metadata": {},
     "output_type": "display_data"
    },
    {
     "data": {
      "application/vnd.jupyter.widget-view+json": {
       "model_id": "3ccd84fb974a491cb9abb61fe51e26e4",
       "version_major": 2,
       "version_minor": 0
      },
      "text/plain": [
       "Output()"
      ]
     },
     "metadata": {},
     "output_type": "display_data"
    },
    {
     "data": {
      "application/vnd.jupyter.widget-view+json": {
       "model_id": "4aa26efc06d54d2c9ea3cb63b5eb189e",
       "version_major": 2,
       "version_minor": 0
      },
      "text/plain": [
       "HTML(value='<b>3. What is the purpose of slicing the slope in Bishop’s method?</b>')"
      ]
     },
     "metadata": {},
     "output_type": "display_data"
    },
    {
     "data": {
      "application/vnd.jupyter.widget-view+json": {
       "model_id": "0e22f7dd82eb4af1a2a06f643ded0346",
       "version_major": 2,
       "version_minor": 0
      },
      "text/plain": [
       "RadioButtons(layout=Layout(width='max-content'), options=('A. To simplify geometry', 'B. To apply equilibrium …"
      ]
     },
     "metadata": {},
     "output_type": "display_data"
    },
    {
     "data": {
      "application/vnd.jupyter.widget-view+json": {
       "model_id": "88556ab605ed463fb1bdb756e5b5336b",
       "version_major": 2,
       "version_minor": 0
      },
      "text/plain": [
       "Output()"
      ]
     },
     "metadata": {},
     "output_type": "display_data"
    },
    {
     "data": {
      "application/vnd.jupyter.widget-view+json": {
       "model_id": "a2ced50faa1c425a9a0ac8be245caa3a",
       "version_major": 2,
       "version_minor": 0
      },
      "text/plain": [
       "HTML(value='<b>4. Which of the following increases the Factor of Safety?</b>')"
      ]
     },
     "metadata": {},
     "output_type": "display_data"
    },
    {
     "data": {
      "application/vnd.jupyter.widget-view+json": {
       "model_id": "1903faa03b3e4343a4962b37bdf955c4",
       "version_major": 2,
       "version_minor": 0
      },
      "text/plain": [
       "RadioButtons(layout=Layout(width='max-content'), options=('A. Increasing slope angle', 'B. Increasing unit wei…"
      ]
     },
     "metadata": {},
     "output_type": "display_data"
    },
    {
     "data": {
      "application/vnd.jupyter.widget-view+json": {
       "model_id": "9e7c2fc17a3d4e1da445bd41e3c0ff9b",
       "version_major": 2,
       "version_minor": 0
      },
      "text/plain": [
       "Output()"
      ]
     },
     "metadata": {},
     "output_type": "display_data"
    },
    {
     "data": {
      "application/vnd.jupyter.widget-view+json": {
       "model_id": "46bdabfbaad14d96af153a68ffc74ce7",
       "version_major": 2,
       "version_minor": 0
      },
      "text/plain": [
       "HTML(value='<b>5. The Bishop method uses which type of equilibrium?</b>')"
      ]
     },
     "metadata": {},
     "output_type": "display_data"
    },
    {
     "data": {
      "application/vnd.jupyter.widget-view+json": {
       "model_id": "eb31551b0bff4772a60267547b726db9",
       "version_major": 2,
       "version_minor": 0
      },
      "text/plain": [
       "RadioButtons(layout=Layout(width='max-content'), options=('A. Moment equilibrium only', 'B. Force equilibrium …"
      ]
     },
     "metadata": {},
     "output_type": "display_data"
    },
    {
     "data": {
      "application/vnd.jupyter.widget-view+json": {
       "model_id": "4c91125868a343fc8b5f69eaff3c21ab",
       "version_major": 2,
       "version_minor": 0
      },
      "text/plain": [
       "Output()"
      ]
     },
     "metadata": {},
     "output_type": "display_data"
    },
    {
     "data": {
      "application/vnd.jupyter.widget-view+json": {
       "model_id": "f55cffec9d2d4f9885ef0e477b9f9af7",
       "version_major": 2,
       "version_minor": 0
      },
      "text/plain": [
       "HTML(value='<b>6. What is the typical initial guess for FS in the Bishop method?</b>')"
      ]
     },
     "metadata": {},
     "output_type": "display_data"
    },
    {
     "data": {
      "application/vnd.jupyter.widget-view+json": {
       "model_id": "168ed32d6deb4fedb50d696bba39e437",
       "version_major": 2,
       "version_minor": 0
      },
      "text/plain": [
       "RadioButtons(layout=Layout(width='max-content'), options=('A. 0.5', 'B. 1.0', 'C. 1.5', 'D. 2.0'), value='A. 0…"
      ]
     },
     "metadata": {},
     "output_type": "display_data"
    },
    {
     "data": {
      "application/vnd.jupyter.widget-view+json": {
       "model_id": "cea35ca594dd4186bd661f02332a74e6",
       "version_major": 2,
       "version_minor": 0
      },
      "text/plain": [
       "Output()"
      ]
     },
     "metadata": {},
     "output_type": "display_data"
    },
    {
     "data": {
      "application/vnd.jupyter.widget-view+json": {
       "model_id": "7059ea8fba074d0ab079fd582093479a",
       "version_major": 2,
       "version_minor": 0
      },
      "text/plain": [
       "HTML(value='<b>7. Which parameter is NOT directly adjustable in the provided code?</b>')"
      ]
     },
     "metadata": {},
     "output_type": "display_data"
    },
    {
     "data": {
      "application/vnd.jupyter.widget-view+json": {
       "model_id": "3ffa1e291ecf4b89b94ea7222bc16492",
       "version_major": 2,
       "version_minor": 0
      },
      "text/plain": [
       "RadioButtons(layout=Layout(width='max-content'), options=('A. Cohesion', 'B. Friction angle', 'C. Pore water p…"
      ]
     },
     "metadata": {},
     "output_type": "display_data"
    },
    {
     "data": {
      "application/vnd.jupyter.widget-view+json": {
       "model_id": "f50dfe0274e64c0d9c83985c901e1a72",
       "version_major": 2,
       "version_minor": 0
      },
      "text/plain": [
       "Output()"
      ]
     },
     "metadata": {},
     "output_type": "display_data"
    },
    {
     "data": {
      "application/vnd.jupyter.widget-view+json": {
       "model_id": "d2efecdf08e3496ea793267c36d3e255",
       "version_major": 2,
       "version_minor": 0
      },
      "text/plain": [
       "HTML(value='<b>8. What does the red dashed arc in the plot represent?</b>')"
      ]
     },
     "metadata": {},
     "output_type": "display_data"
    },
    {
     "data": {
      "application/vnd.jupyter.widget-view+json": {
       "model_id": "f14533a885ea49f7a8de2e59ba6d8204",
       "version_major": 2,
       "version_minor": 0
      },
      "text/plain": [
       "RadioButtons(layout=Layout(width='max-content'), options=('A. Slope surface', 'B. Water table', 'C. Failure su…"
      ]
     },
     "metadata": {},
     "output_type": "display_data"
    },
    {
     "data": {
      "application/vnd.jupyter.widget-view+json": {
       "model_id": "869317899e714bd3a6000f6628aa3d8d",
       "version_major": 2,
       "version_minor": 0
      },
      "text/plain": [
       "Output()"
      ]
     },
     "metadata": {},
     "output_type": "display_data"
    },
    {
     "data": {
      "application/vnd.jupyter.widget-view+json": {
       "model_id": "aaf57fa2ae33498fb1cc6ad0d5caf3fe",
       "version_major": 2,
       "version_minor": 0
      },
      "text/plain": [
       "HTML(value='<b>9. Why is an iterative loop used in the FS calculation?</b>')"
      ]
     },
     "metadata": {},
     "output_type": "display_data"
    },
    {
     "data": {
      "application/vnd.jupyter.widget-view+json": {
       "model_id": "61c4712c30ba488696ebc18989fdb549",
       "version_major": 2,
       "version_minor": 0
      },
      "text/plain": [
       "RadioButtons(layout=Layout(width='max-content'), options=('A. To average slice values', 'B. To converge on a s…"
      ]
     },
     "metadata": {},
     "output_type": "display_data"
    },
    {
     "data": {
      "application/vnd.jupyter.widget-view+json": {
       "model_id": "c6258632d62249c49fd3949abca141fd",
       "version_major": 2,
       "version_minor": 0
      },
      "text/plain": [
       "Output()"
      ]
     },
     "metadata": {},
     "output_type": "display_data"
    },
    {
     "data": {
      "application/vnd.jupyter.widget-view+json": {
       "model_id": "ebb79562b42f4dd28cf365a9b659714e",
       "version_major": 2,
       "version_minor": 0
      },
      "text/plain": [
       "HTML(value='<b>10. Which of the following would most likely decrease FS?</b>')"
      ]
     },
     "metadata": {},
     "output_type": "display_data"
    },
    {
     "data": {
      "application/vnd.jupyter.widget-view+json": {
       "model_id": "0921aab08bfd49a08a5bb389a4bfba43",
       "version_major": 2,
       "version_minor": 0
      },
      "text/plain": [
       "RadioButtons(layout=Layout(width='max-content'), options=('A. Increasing cohesion', 'B. Decreasing slope angle…"
      ]
     },
     "metadata": {},
     "output_type": "display_data"
    },
    {
     "data": {
      "application/vnd.jupyter.widget-view+json": {
       "model_id": "2c32fc11b3864e88994c19ee4445ed42",
       "version_major": 2,
       "version_minor": 0
      },
      "text/plain": [
       "Output()"
      ]
     },
     "metadata": {},
     "output_type": "display_data"
    }
   ],
   "source": [
    "import ipywidgets as widgets\n",
    "from IPython.display import display, clear_output\n",
    "\n",
    "question = \"1. What type of failure surface does Bishop’s method assume?\"\n",
    "options = ['A. Planar', 'B. Circular', 'C. Parabolic', 'D. Elliptical']\n",
    "correct_answer = \"B. Circular\"\n",
    "explanation = \"Bishop’s method assumes a circular failure surface.\"\n",
    "\n",
    "radio = widgets.RadioButtons(options=options, description='', layout={'width': 'max-content'})\n",
    "output = widgets.Output()\n",
    "\n",
    "def check_answer(change):\n",
    "    with output:\n",
    "        output.clear_output()\n",
    "        if radio.value == correct_answer:\n",
    "            print(\"✅ Correct! \" + explanation)\n",
    "        else:\n",
    "            print(\"❌ Incorrect. \" + explanation)\n",
    "\n",
    "radio.observe(check_answer, names='value')\n",
    "display(widgets.HTML(f\"<b>{question}</b>\"))\n",
    "display(radio, output)\n",
    "\n",
    "question = \"2. Which forces are considered in Bishop’s simplified method?\"\n",
    "options = ['A. Only horizontal forces', 'B. Only vertical forces', 'C. Both horizontal and vertical forces', 'D. Only shear forces']\n",
    "correct_answer = \"B. Only vertical forces\"\n",
    "explanation = \"Bishop’s simplified method considers only vertical force equilibrium.\"\n",
    "\n",
    "radio = widgets.RadioButtons(options=options, description='', layout={'width': 'max-content'})\n",
    "output = widgets.Output()\n",
    "\n",
    "def check_answer(change):\n",
    "    with output:\n",
    "        output.clear_output()\n",
    "        if radio.value == correct_answer:\n",
    "            print(\"✅ Correct! \" + explanation)\n",
    "        else:\n",
    "            print(\"❌ Incorrect. \" + explanation)\n",
    "\n",
    "radio.observe(check_answer, names='value')\n",
    "display(widgets.HTML(f\"<b>{question}</b>\"))\n",
    "display(radio, output)\n",
    "\n",
    "question = \"2. Which forces are considered in Bishop’s simplified method?\"\n",
    "options = ['A. Only horizontal forces', 'B. Only vertical forces', 'C. Both horizontal and vertical forces', 'D. Only shear forces']\n",
    "correct_answer = \"B. Only vertical forces\"\n",
    "explanation = \"Bishop’s simplified method considers only vertical force equilibrium.\"\n",
    "\n",
    "radio = widgets.RadioButtons(options=options, description='', layout={'width': 'max-content'})\n",
    "output = widgets.Output()\n",
    "\n",
    "def check_answer(change):\n",
    "    with output:\n",
    "        output.clear_output()\n",
    "        if radio.value == correct_answer:\n",
    "            print(\"✅ Correct! \" + explanation)\n",
    "        else:\n",
    "            print(\"❌ Incorrect. \" + explanation)\n",
    "\n",
    "radio.observe(check_answer, names='value')\n",
    "display(widgets.HTML(f\"<b>{question}</b>\"))\n",
    "display(radio, output)\n",
    "\n",
    "\n",
    "question = \"3. What is the purpose of slicing the slope in Bishop’s method?\"\n",
    "options = ['A. To simplify geometry', 'B. To apply equilibrium equations to each slice', 'C. To reduce computation time', 'D. To visualize the slope']\n",
    "correct_answer = \"B. To apply equilibrium equations to each slice\"\n",
    "explanation = \"Slicing allows applying equilibrium equations to each slice.\"\n",
    "\n",
    "radio = widgets.RadioButtons(options=options, description='', layout={'width': 'max-content'})\n",
    "output = widgets.Output()\n",
    "\n",
    "def check_answer(change):\n",
    "    with output:\n",
    "        output.clear_output()\n",
    "        if radio.value == correct_answer:\n",
    "            print(\"✅ Correct! \" + explanation)\n",
    "        else:\n",
    "            print(\"❌ Incorrect. \" + explanation)\n",
    "\n",
    "radio.observe(check_answer, names='value')\n",
    "display(widgets.HTML(f\"<b>{question}</b>\"))\n",
    "display(radio, output)\n",
    "\n",
    "\n",
    "question = \"4. Which of the following increases the Factor of Safety?\"\n",
    "options = ['A. Increasing slope angle', 'B. Increasing unit weight', 'C. Increasing cohesion', 'D. Increasing slice width']\n",
    "correct_answer = \"C. Increasing cohesion\"\n",
    "explanation = \"Higher cohesion increases the resisting force, thus increasing FS.\"\n",
    "\n",
    "radio = widgets.RadioButtons(options=options, description='', layout={'width': 'max-content'})\n",
    "output = widgets.Output()\n",
    "\n",
    "def check_answer(change):\n",
    "    with output:\n",
    "        output.clear_output()\n",
    "        if radio.value == correct_answer:\n",
    "            print(\"✅ Correct! \" + explanation)\n",
    "        else:\n",
    "            print(\"❌ Incorrect. \" + explanation)\n",
    "\n",
    "radio.observe(check_answer, names='value')\n",
    "display(widgets.HTML(f\"<b>{question}</b>\"))\n",
    "display(radio, output)\n",
    "\n",
    "\n",
    "\n",
    "question = \"5. The Bishop method uses which type of equilibrium?\"\n",
    "options = ['A. Moment equilibrium only', 'B. Force equilibrium only', 'C. Both moment and force equilibrium', 'D. No equilibrium']\n",
    "correct_answer = \"B. Force equilibrium only\"\n",
    "explanation = \"Bishop’s simplified method uses only vertical force equilibrium.\"\n",
    "\n",
    "radio = widgets.RadioButtons(options=options, description='', layout={'width': 'max-content'})\n",
    "output = widgets.Output()\n",
    "\n",
    "def check_answer(change):\n",
    "    with output:\n",
    "        output.clear_output()\n",
    "        if radio.value == correct_answer:\n",
    "            print(\"✅ Correct! \" + explanation)\n",
    "        else:\n",
    "            print(\"❌ Incorrect. \" + explanation)\n",
    "\n",
    "radio.observe(check_answer, names='value')\n",
    "display(widgets.HTML(f\"<b>{question}</b>\"))\n",
    "display(radio, output)\n",
    "\n",
    "\n",
    "\n",
    "question = \"6. What is the typical initial guess for FS in the Bishop method?\"\n",
    "options = ['A. 0.5', 'B. 1.0', 'C. 1.5', 'D. 2.0']\n",
    "correct_answer = \"C. 1.5\"\n",
    "explanation = \"The iterative solution typically starts with FS = 1.5.\"\n",
    "\n",
    "radio = widgets.RadioButtons(options=options, description='', layout={'width': 'max-content'})\n",
    "output = widgets.Output()\n",
    "\n",
    "def check_answer(change):\n",
    "    with output:\n",
    "        output.clear_output()\n",
    "        if radio.value == correct_answer:\n",
    "            print(\"✅ Correct! \" + explanation)\n",
    "        else:\n",
    "            print(\"❌ Incorrect. \" + explanation)\n",
    "\n",
    "radio.observe(check_answer, names='value')\n",
    "display(widgets.HTML(f\"<b>{question}</b>\"))\n",
    "display(radio, output)\n",
    "\n",
    "\n",
    "\n",
    "question = \"7. Which parameter is NOT directly adjustable in the provided code?\"\n",
    "options = ['A. Cohesion', 'B. Friction angle', 'C. Pore water pressure', 'D. Slope height']\n",
    "correct_answer = \"C. Pore water pressure\"\n",
    "explanation = \"The code does not include pore water pressure as an input.\"\n",
    "\n",
    "radio = widgets.RadioButtons(options=options, description='', layout={'width': 'max-content'})\n",
    "output = widgets.Output()\n",
    "\n",
    "def check_answer(change):\n",
    "    with output:\n",
    "        output.clear_output()\n",
    "        if radio.value == correct_answer:\n",
    "            print(\"✅ Correct! \" + explanation)\n",
    "        else:\n",
    "            print(\"❌ Incorrect. \" + explanation)\n",
    "\n",
    "radio.observe(check_answer, names='value')\n",
    "display(widgets.HTML(f\"<b>{question}</b>\"))\n",
    "display(radio, output)\n",
    "\n",
    "\n",
    "\n",
    "question = \"8. What does the red dashed arc in the plot represent?\"\n",
    "options = ['A. Slope surface', 'B. Water table', 'C. Failure surface', 'D. Bedrock']\n",
    "correct_answer = \"C. Failure surface\"\n",
    "explanation = \"The red dashed arc represents the circular failure surface.\"\n",
    "\n",
    "radio = widgets.RadioButtons(options=options, description='', layout={'width': 'max-content'})\n",
    "output = widgets.Output()\n",
    "\n",
    "def check_answer(change):\n",
    "    with output:\n",
    "        output.clear_output()\n",
    "        if radio.value == correct_answer:\n",
    "            print(\"✅ Correct! \" + explanation)\n",
    "        else:\n",
    "            print(\"❌ Incorrect. \" + explanation)\n",
    "\n",
    "radio.observe(check_answer, names='value')\n",
    "display(widgets.HTML(f\"<b>{question}</b>\"))\n",
    "display(radio, output)\n",
    "\n",
    "\n",
    "\n",
    "question = \"9. Why is an iterative loop used in the FS calculation?\"\n",
    "options = ['A. To average slice values', 'B. To converge on a stable FS value', 'C. To simulate time-dependent failure', 'D. To reduce slice number']\n",
    "correct_answer = \"B. To converge on a stable FS value\"\n",
    "explanation = \"The loop iteratively solves for FS until convergence.\"\n",
    "\n",
    "radio = widgets.RadioButtons(options=options, description='', layout={'width': 'max-content'})\n",
    "output = widgets.Output()\n",
    "\n",
    "def check_answer(change):\n",
    "    with output:\n",
    "        output.clear_output()\n",
    "        if radio.value == correct_answer:\n",
    "            print(\"✅ Correct! \" + explanation)\n",
    "        else:\n",
    "            print(\"❌ Incorrect. \" + explanation)\n",
    "\n",
    "radio.observe(check_answer, names='value')\n",
    "display(widgets.HTML(f\"<b>{question}</b>\"))\n",
    "display(radio, output)\n",
    "\n",
    "import ipywidgets as widgets\n",
    "from IPython.display import display, clear_output\n",
    "\n",
    "question = \"10. Which of the following would most likely decrease FS?\"\n",
    "options = ['A. Increasing cohesion', 'B. Decreasing slope angle', 'C. Increasing unit weight', 'D. Increasing friction angle']\n",
    "correct_answer = \"C. Increasing unit weight\"\n",
    "explanation = \"Higher unit weight increases driving force, reducing FS.\"\n",
    "\n",
    "radio = widgets.RadioButtons(options=options, description='', layout={'width': 'max-content'})\n",
    "output = widgets.Output()\n",
    "\n",
    "def check_answer(change):\n",
    "    with output:\n",
    "        output.clear_output()\n",
    "        if radio.value == correct_answer:\n",
    "            print(\"✅ Correct! \" + explanation)\n",
    "        else:\n",
    "            print(\"❌ Incorrect. \" + explanation)\n",
    "\n",
    "radio.observe(check_answer, names='value')\n",
    "display(widgets.HTML(f\"<b>{question}</b>\"))\n",
    "display(radio, output)"
   ]
  },
  {
   "cell_type": "markdown",
   "id": "3fa89a8b",
   "metadata": {},
   "source": [
    "### Reflective and Conceptual Questions on the Bishop Method\n",
    "\n",
    "### 🔍 Conceptual Understanding\n",
    "1. **What are the key assumptions made in the Bishop Simplified Method, and how do they affect the accuracy of the results?**\n",
    "2. **How does the Bishop Method differ from other slope stability methods such as the Ordinary Method of Slices or Janbu’s Method?**\n",
    "3. **Why is the Bishop Method considered more accurate for circular slip surfaces compared to other methods?**\n",
    "4. **What role does the factor of safety play in the Bishop Method, and how is it iteratively determined?**\n",
    "\n",
    "\n",
    "### 🧩 Application and Analysis\n",
    "5. **In what types of soil conditions or slope geometries is the Bishop Method most appropriate?**\n",
    "6. **How would the presence of pore water pressure influence the results obtained using the Bishop Method?**\n",
    "7. **What are the limitations of using the Bishop Method in analyzing non-circular failure surfaces?**\n",
    "8. **How does the number of slices affect the accuracy and convergence of the Bishop Method?**\n",
    "\n",
    "### 🧭 Critical Thinking\n",
    "9. **Can the Bishop Method be reliably used in seismic slope stability analysis? Why or why not?**\n",
    "10. **How would you justify the use of the Bishop Method in a real-world engineering project to a client or stakeholder?**\n",
    "11. **What improvements or modifications could be made to the Bishop Method to enhance its applicability to complex slope conditions?**\n"
   ]
  },
  {
   "cell_type": "markdown",
   "id": "9f0a5007-a01f-45be-8049-16abe38e6a7d",
   "metadata": {},
   "source": [
    "## 4. Simulation"
   ]
  },
  {
   "cell_type": "markdown",
   "id": "d578c682",
   "metadata": {},
   "source": [
    "### Overview of Slope Stability Methods\n",
    "\n",
    "Slope stability analysis evaluates the safety of slopes under various conditions. The following methods are widely used in geotechnical engineering, each with unique assumptions and capabilities.\n",
    "\n",
    "---\n",
    "\n",
    "### 1. **Bishop Simplified Method**\n",
    "- **Slip Surface**: Circular  \n",
    "- **Force Equilibrium**: Vertical only  \n",
    "- **Factor of Safety Equation**:\n",
    "  $$\n",
    "  F = \\frac{\\sum \\left( c' \\Delta l + \\left( W - u \\Delta l \\right) \\tan \\phi' \\right) \\sec \\alpha}{\\sum W \\sin \\alpha}\n",
    "  $$\n",
    "- **Assumptions**:\n",
    "  - Circular failure surface\n",
    "  - Vertical interslice forces (no shear)\n",
    "  - Moment equilibrium not considered\n",
    "- **Limitations**:\n",
    "  - Not suitable for non-circular failures\n",
    "  - Assumes homogeneous soil\n",
    "- **Applicability**: Moderate complexity, high accuracy for circular failures\n",
    "\n",
    "---\n",
    "\n",
    "### 2. **Janbu Simplified Method**\n",
    "- **Slip Surface**: Non-circular  \n",
    "- **Force Equilibrium**: Horizontal only  \n",
    "- **Factor of Safety Equation**:\n",
    "  $$\n",
    "  F = \\frac{\\sum \\left( c' \\Delta l + (N - u \\Delta l) \\tan \\phi' \\right)}{\\sum T}\n",
    "  $$\n",
    "- **Assumptions**:\n",
    "  - Neglects moment equilibrium\n",
    "  - Assumes constant interslice forces\n",
    "- **Limitations**:\n",
    "  - Less accurate for complex geometries\n",
    "  - Conservative results\n",
    "- **Applicability**: Moderate complexity and accuracy, useful for layered soils\n",
    "\n",
    "---\n",
    "\n",
    "### 3. **Spencer Method**\n",
    "- **Slip Surface**: Any shape  \n",
    "- **Equilibrium**: Force + Moment  \n",
    "- **Factor of Safety**: Solves for constant interslice force inclination and safety factor\n",
    "- **Assumptions**:\n",
    "  - Constant interslice force inclination\n",
    "  - Full equilibrium satisfied\n",
    "- **Limitations**:\n",
    "  - Computationally intensive\n",
    "- **Applicability**: High complexity, very high accuracy for all geometries\n",
    "\n",
    "---\n",
    "\n",
    "### 4. **Morgenstern-Price Method**\n",
    "- **Slip Surface**: Any shape  \n",
    "- **Equilibrium**: Force + Moment  \n",
    "- **Factor of Safety**: Iterative solution using user-defined interslice force function\n",
    "- **Assumptions**:\n",
    "  - Arbitrary interslice force function\n",
    "  - Full equilibrium satisfied\n",
    "- **Limitations**:\n",
    "  - Requires assumption of interslice force function\n",
    "- **Applicability**: High complexity, very high accuracy, versatile\n",
    "\n",
    "---\n",
    "\n",
    "### 5. **Sarma Method**\n",
    "- **Slip Surface**: Non-circular or composite  \n",
    "- **Equilibrium**: Force + Moment (including seismic forces)  \n",
    "- **Factor of Safety**: Based on limit equilibrium with seismic loading\n",
    "- **Assumptions**:\n",
    "  - Incorporates seismic coefficients\n",
    "  - Allows for irregular slip surfaces\n",
    "- **Limitations**:\n",
    "  - Complex implementation\n",
    "  - Requires detailed input\n",
    "- **Applicability**: High complexity, ideal for seismic slope stability analysis\n",
    "\n",
    "| Method             | Slip Surface        | Equilibrium Satisfied  | Interslice Forces      | Accuracy      | Typical Use                         |\n",
    "|-------------------|---------------------|-------------------------|------------------------|---------------|-------------------------------------|\n",
    "| **Bishop Simplified** | Circular            | Vertical forces only    | No shear               | Moderate–High | Homogeneous, circular slopes        |\n",
    "| **Janbu Simplified**  | Non-circular        | Horizontal forces only  | Simplified             | Moderate      | Layered or stratified slopes        |\n",
    "| **Spencer**           | Any shape           | Full (force + moment)   | Constant inclination   | Very High     | Complex, irregular geometries       |\n",
    "| **Morgenstern-Price** | Any shape           | Full (force + moment)   | User-defined function  | Very High     | Versatile, general-purpose analysis |\n",
    "| **Sarma**             | Composite/Polygonal | Full (with seismic)     | Varies (pseudo-static) | Very High     | Seismic slope stability             |\n"
   ]
  },
  {
   "cell_type": "code",
   "execution_count": 7,
   "id": "67f9769c",
   "metadata": {},
   "outputs": [
    {
     "data": {
      "application/vnd.jupyter.widget-view+json": {
       "model_id": "37230069f9c245a696b34b5bd16b96b8",
       "version_major": 2,
       "version_minor": 0
      },
      "text/plain": [
       "VBox(children=(FloatSlider(value=10.0, description='Cohesion (kPa)', max=30.0, step=1.0), FloatSlider(value=30…"
      ]
     },
     "metadata": {},
     "output_type": "display_data"
    },
    {
     "data": {
      "application/vnd.jupyter.widget-view+json": {
       "model_id": "a9caebf31f6a4ec1b27cb6e5bcb68543",
       "version_major": 2,
       "version_minor": 0
      },
      "text/plain": [
       "Output()"
      ]
     },
     "metadata": {},
     "output_type": "display_data"
    }
   ],
   "source": [
    "import numpy as np\n",
    "import matplotlib.pyplot as plt\n",
    "import ipywidgets as widgets\n",
    "from IPython.display import display, clear_output\n",
    "\n",
    "# Define slope stability methods\n",
    "def ordinary_method(c, phi, gamma, slope_height, slope_angle, slices=10):\n",
    "    beta_rad = np.radians(slope_angle)\n",
    "    phi_rad = np.radians(phi)\n",
    "    width = slope_height / np.tan(beta_rad)\n",
    "    dx = width / slices\n",
    "    fs_total = 0\n",
    "    for i in range(slices):\n",
    "        x = dx * (i + 0.5)\n",
    "        height = slope_height * (1 - x / width)\n",
    "        weight = gamma * dx * height\n",
    "        normal = weight * np.cos(beta_rad)\n",
    "        shear = weight * np.sin(beta_rad)\n",
    "        resisting = c * dx + normal * np.tan(phi_rad)\n",
    "        fs_total += resisting / shear\n",
    "    return fs_total / slices\n",
    "\n",
    "def bishop_method(c, phi, gamma, slope_height, slope_angle, slices=10):\n",
    "    beta_rad = np.radians(slope_angle)\n",
    "    phi_rad = np.radians(phi)\n",
    "    width = slope_height / np.tan(beta_rad)\n",
    "    dx = width / slices\n",
    "    fs = 1.5\n",
    "    for _ in range(20):\n",
    "        num_sum = 0\n",
    "        den_sum = 0\n",
    "        for i in range(slices):\n",
    "            x = dx * (i + 0.5)\n",
    "            height = slope_height * (1 - x / width)\n",
    "            weight = gamma * dx * height\n",
    "            alpha = beta_rad\n",
    "            m_alpha = np.tan(phi_rad)\n",
    "            normal = weight * np.cos(alpha)\n",
    "            shear = weight * np.sin(alpha)\n",
    "            num = c * dx + (normal * m_alpha)\n",
    "            den = shear + (normal * m_alpha * np.tan(alpha) / fs)\n",
    "            num_sum += num\n",
    "            den_sum += den\n",
    "        fs_new = num_sum / den_sum\n",
    "        if abs(fs_new - fs) < 1e-4:\n",
    "            break\n",
    "        fs = fs_new\n",
    "    return fs\n",
    "\n",
    "def janbu_method(c, phi, gamma, slope_height, slope_angle, slices=10):\n",
    "    return ordinary_method(c, phi, gamma, slope_height, slope_angle, slices) * 0.9\n",
    "\n",
    "def culmann_method(c, phi, gamma, slope_height, slope_angle):\n",
    "    return 1.2 + 0.01 * phi - 0.005 * slope_angle\n",
    "\n",
    "def spencer_method(c, phi, gamma, slope_height, slope_angle):\n",
    "    return bishop_method(c, phi, gamma, slope_height, slope_angle) * 0.98\n",
    "\n",
    "def morgenstern_price_method(c, phi, gamma, slope_height, slope_angle):\n",
    "    return bishop_method(c, phi, gamma, slope_height, slope_angle) * 1.02\n",
    "\n",
    "def sarma_method(c, phi, gamma, slope_height, slope_angle):\n",
    "    return bishop_method(c, phi, gamma, slope_height, slope_angle) * 0.95\n",
    "\n",
    "methods = {\n",
    "    \"Ordinary\": ordinary_method,\n",
    "    \"Bishop\": bishop_method,\n",
    "    \"Janbu\": janbu_method,\n",
    "    \"Culmann\": culmann_method,\n",
    "    \"Spencer\": spencer_method,\n",
    "    \"Morgenstern-Price\": morgenstern_price_method,\n",
    "    \"Sarma\": sarma_method\n",
    "}\n",
    "\n",
    "# Widgets\n",
    "c_slider = widgets.FloatSlider(value=10, min=0, max=30, step=1, description='Cohesion (kPa)')\n",
    "phi_slider = widgets.FloatSlider(value=30, min=10, max=45, step=1, description='Friction angle (°)')\n",
    "gamma_slider = widgets.FloatSlider(value=18, min=10, max=25, step=0.5, description='Unit weight (kN/m³)')\n",
    "slope_height_slider = widgets.FloatSlider(value=10, min=5, max=30, step=1, description='Slope height (m)')\n",
    "slope_angle_slider = widgets.FloatSlider(value=30, min=10, max=45, step=1, description='Slope angle (°)')\n",
    "\n",
    "output = widgets.Output()\n",
    "\n",
    "def update_plot(change=None):\n",
    "    with output:\n",
    "        output.clear_output()\n",
    "        c = c_slider.value\n",
    "        phi = phi_slider.value\n",
    "        gamma = gamma_slider.value\n",
    "        h = slope_height_slider.value\n",
    "        beta = slope_angle_slider.value\n",
    "\n",
    "        fs_values = {name: func(c, phi, gamma, h, beta) for name, func in methods.items()}\n",
    "\n",
    "        # Bar chart\n",
    "        fig, axs = plt.subplots(1, 3, figsize=(18, 5))\n",
    "\n",
    "        axs[0].bar(fs_values.keys(), fs_values.values(), color='skyblue')\n",
    "        axs[0].axhline(1.0, color='red', linestyle='--', label='FS = 1.0')\n",
    "        axs[0].set_ylabel(\"Factor of Safety\")\n",
    "        axs[0].set_title(\"Comparison of Slope Stability Methods\")\n",
    "        axs[0].set_ylim(0, max(fs_values.values()) + 0.5)\n",
    "        axs[0].grid(True)\n",
    "        axs[0].legend()\n",
    "        axs[0].tick_params(axis='x', rotation=45)\n",
    "\n",
    "        # Sensitivity to cohesion\n",
    "        cohesion_range = np.linspace(0.1, 30, 30)\n",
    "        for name, func in methods.items():\n",
    "            fs_c = [func(c_val, phi, gamma, h, beta) for c_val in cohesion_range]\n",
    "            axs[1].plot(cohesion_range, fs_c, label=name)\n",
    "        axs[1].set_title(\"Sensitivity: FS vs. Cohesion\")\n",
    "        axs[1].set_xlabel(\"Cohesion (kPa)\")\n",
    "        axs[1].set_ylabel(\"Factor of Safety\")\n",
    "        axs[1].grid(True)\n",
    "        axs[1].legend()\n",
    "\n",
    "        # Sensitivity to friction angle\n",
    "        phi_range = np.linspace(10, 45, 30)\n",
    "        for name, func in methods.items():\n",
    "            fs_phi = [func(c, phi_val, gamma, h, beta) for phi_val in phi_range]\n",
    "            axs[2].plot(phi_range, fs_phi, label=name)\n",
    "        axs[2].set_title(\"Sensitivity: FS vs. Friction Angle\")\n",
    "        axs[2].set_xlabel(\"Friction Angle (°)\")\n",
    "        axs[2].set_ylabel(\"Factor of Safety\")\n",
    "        axs[2].grid(True)\n",
    "        axs[2].legend()\n",
    "\n",
    "        plt.tight_layout()\n",
    "        plt.show()\n",
    "\n",
    "for w in [c_slider, phi_slider, gamma_slider, slope_height_slider, slope_angle_slider]:\n",
    "    w.observe(update_plot, names='value')\n",
    "\n",
    "display(widgets.VBox([c_slider, phi_slider, gamma_slider, slope_height_slider, slope_angle_slider]), output)\n",
    "update_plot()\n",
    "\n"
   ]
  },
  {
   "cell_type": "markdown",
   "id": "94f243fa-190e-4aeb-822c-cb9fc7b4edff",
   "metadata": {},
   "source": [
    "## 5. Self-Assessment"
   ]
  },
  {
   "cell_type": "markdown",
   "id": "b64e4050",
   "metadata": {},
   "source": [
    "## Reflective and Conceptual Questions\n",
    "\n",
    "### Reflective Questions\n",
    "1. **Understanding the Methods**:\n",
    "    - Reflect on the different slope stability methods implemented in the code. How do the assumptions and calculations differ between the Ordinary Method and the Bishop Method?\n",
    "    - Consider the sensitivity analysis plots. What do these plots tell you about the influence of cohesion and friction angle on the factor of safety?\n",
    "\n",
    "2. **Application and Interpretation**:\n",
    "    - How would you apply these methods to a real-world slope stability problem? What additional data or considerations might you need?\n",
    "    - Reflect on a scenario where the slope angle is very steep. How would this affect the factor of safety across different methods?\n",
    "\n",
    "### Conceptual Questions\n",
    "1. **Method Comparison**:\n",
    "    - Compare and contrast the Ordinary Method and the Bishop Method. What are the strengths and limitations of each method?\n",
    "    - Why might the Bishop Method be considered more accurate than the Ordinary Method?\n",
    "\n",
    "2. **Sensitivity Analysis**:\n",
    "    - Explain the significance of the sensitivity analysis for cohesion and friction angle. How do these parameters impact the stability of a slope?\n",
    "    - Based on the sensitivity plots, which method appears to be the most sensitive to changes in cohesion? Which method is the most sensitive to changes in friction angle?\n",
    "\n",
    "### Critical Thinking Hints\n",
    "- **Assumptions and Real-World Application**:\n",
    "    - Consider the assumptions made in each method. How might these assumptions impact the results in a real-world scenario?\n",
    "    - Think about the practical implications of the sensitivity analysis. How would you use this information to make decisions about slope stabilization in a real-world project?\n",
    "\n",
    "- **Comparative Analysis**:\n",
    "    - When comparing methods, think about the context in which each method might be most appropriate. Are there specific conditions or types of slopes where one method would be preferred over others?\n",
    "    - Reflect on the potential sources of error in each method. How might these errors affect the reliability of the factor of safety calculations?\n",
    "\n",
    "- **Further Exploration**:\n",
    "    - Consider exploring additional slope stability methods not covered in the code. How might these methods compare to the ones implemented here?\n",
    "    - Think about how advancements in technology and computational methods could improve the accuracy and efficiency of slope stability analysis in the future.\n"
   ]
  },
  {
   "cell_type": "code",
   "execution_count": 8,
   "id": "0ab8c5b7",
   "metadata": {},
   "outputs": [
    {
     "data": {
      "application/vnd.jupyter.widget-view+json": {
       "model_id": "b3cf8547de3a463a88a0f48e39fd8ef0",
       "version_major": 2,
       "version_minor": 0
      },
      "text/plain": [
       "HTML(value='<b>1. What is the main difference between the Ordinary Method and the Bishop Method in terms of as…"
      ]
     },
     "metadata": {},
     "output_type": "display_data"
    },
    {
     "data": {
      "application/vnd.jupyter.widget-view+json": {
       "model_id": "1ca065f4752141f69abed792aecb3ccc",
       "version_major": 2,
       "version_minor": 0
      },
      "text/plain": [
       "RadioButtons(layout=Layout(width='max-content'), options=('A. Ordinary Method assumes uniform slope height', '…"
      ]
     },
     "metadata": {},
     "output_type": "display_data"
    },
    {
     "data": {
      "application/vnd.jupyter.widget-view+json": {
       "model_id": "6b508b284aa34a96add60188a0de9a81",
       "version_major": 2,
       "version_minor": 0
      },
      "text/plain": [
       "Output()"
      ]
     },
     "metadata": {},
     "output_type": "display_data"
    },
    {
     "data": {
      "application/vnd.jupyter.widget-view+json": {
       "model_id": "ad2485638036422a97e63de4044b548a",
       "version_major": 2,
       "version_minor": 0
      },
      "text/plain": [
       "HTML(value='<b>2. In the sensitivity analysis plots, what does an increase in cohesion generally do to the fac…"
      ]
     },
     "metadata": {},
     "output_type": "display_data"
    },
    {
     "data": {
      "application/vnd.jupyter.widget-view+json": {
       "model_id": "09b9d78d48f44eba8db148bafe096449",
       "version_major": 2,
       "version_minor": 0
      },
      "text/plain": [
       "RadioButtons(layout=Layout(width='max-content'), options=('A. Decreases the factor of safety', 'B. Increases t…"
      ]
     },
     "metadata": {},
     "output_type": "display_data"
    },
    {
     "data": {
      "application/vnd.jupyter.widget-view+json": {
       "model_id": "5b1933cdb5484f3cb0ba1f198a58242c",
       "version_major": 2,
       "version_minor": 0
      },
      "text/plain": [
       "Output()"
      ]
     },
     "metadata": {},
     "output_type": "display_data"
    },
    {
     "data": {
      "application/vnd.jupyter.widget-view+json": {
       "model_id": "f963654a4fe84effbc5a794d70132b59",
       "version_major": 2,
       "version_minor": 0
      },
      "text/plain": [
       "HTML(value='<b>3. When applying slope stability methods to a real-world problem, which additional data might b…"
      ]
     },
     "metadata": {},
     "output_type": "display_data"
    },
    {
     "data": {
      "application/vnd.jupyter.widget-view+json": {
       "model_id": "5a2db47253ca46ddb33f82f8386b28c8",
       "version_major": 2,
       "version_minor": 0
      },
      "text/plain": [
       "RadioButtons(layout=Layout(width='max-content'), options=('A. Soil properties', 'B. Groundwater conditions', '…"
      ]
     },
     "metadata": {},
     "output_type": "display_data"
    },
    {
     "data": {
      "application/vnd.jupyter.widget-view+json": {
       "model_id": "47f4c34e678a460aad3832bed00eda06",
       "version_major": 2,
       "version_minor": 0
      },
      "text/plain": [
       "Output()"
      ]
     },
     "metadata": {},
     "output_type": "display_data"
    },
    {
     "data": {
      "application/vnd.jupyter.widget-view+json": {
       "model_id": "70d67ce47be542f6ab348da39ef3367c",
       "version_major": 2,
       "version_minor": 0
      },
      "text/plain": [
       "HTML(value='<b>4. How does a very steep slope angle affect the factor of safety across different methods?</b>'…"
      ]
     },
     "metadata": {},
     "output_type": "display_data"
    },
    {
     "data": {
      "application/vnd.jupyter.widget-view+json": {
       "model_id": "873c71fb8f034ac482a421aee9ea969d",
       "version_major": 2,
       "version_minor": 0
      },
      "text/plain": [
       "RadioButtons(layout=Layout(width='max-content'), options=('A. Increases the factor of safety', 'B. Decreases t…"
      ]
     },
     "metadata": {},
     "output_type": "display_data"
    },
    {
     "data": {
      "application/vnd.jupyter.widget-view+json": {
       "model_id": "c568c04acba94d7db3461ed22fccec4e",
       "version_major": 2,
       "version_minor": 0
      },
      "text/plain": [
       "Output()"
      ]
     },
     "metadata": {},
     "output_type": "display_data"
    },
    {
     "data": {
      "application/vnd.jupyter.widget-view+json": {
       "model_id": "fadb3d6224db4a7588d18c1149ae50ea",
       "version_major": 2,
       "version_minor": 0
      },
      "text/plain": [
       "HTML(value='<b>5. What are the strengths of the Bishop Method compared to the Ordinary Method?</b>')"
      ]
     },
     "metadata": {},
     "output_type": "display_data"
    },
    {
     "data": {
      "application/vnd.jupyter.widget-view+json": {
       "model_id": "af5f427bd977456f81d3d6990c4f2c85",
       "version_major": 2,
       "version_minor": 0
      },
      "text/plain": [
       "RadioButtons(layout=Layout(width='max-content'), options=('A. Considers inter-slice forces', 'B. Provides more…"
      ]
     },
     "metadata": {},
     "output_type": "display_data"
    },
    {
     "data": {
      "application/vnd.jupyter.widget-view+json": {
       "model_id": "3ae51cf2781c43ddb309b84143d17916",
       "version_major": 2,
       "version_minor": 0
      },
      "text/plain": [
       "Output()"
      ]
     },
     "metadata": {},
     "output_type": "display_data"
    },
    {
     "data": {
      "application/vnd.jupyter.widget-view+json": {
       "model_id": "a08d25553c224710b7e87a203262ce7f",
       "version_major": 2,
       "version_minor": 0
      },
      "text/plain": [
       "HTML(value='<b>6. Why might the Bishop Method be considered more accurate than the Ordinary Method?</b>')"
      ]
     },
     "metadata": {},
     "output_type": "display_data"
    },
    {
     "data": {
      "application/vnd.jupyter.widget-view+json": {
       "model_id": "20a4b2e9b2374df4abd44c6122fccbe1",
       "version_major": 2,
       "version_minor": 0
      },
      "text/plain": [
       "RadioButtons(layout=Layout(width='max-content'), options=('A. It uses a simplified approach', 'B. It considers…"
      ]
     },
     "metadata": {},
     "output_type": "display_data"
    },
    {
     "data": {
      "application/vnd.jupyter.widget-view+json": {
       "model_id": "10cd69ddb029442ea9093945ccdc25bc",
       "version_major": 2,
       "version_minor": 0
      },
      "text/plain": [
       "Output()"
      ]
     },
     "metadata": {},
     "output_type": "display_data"
    },
    {
     "data": {
      "application/vnd.jupyter.widget-view+json": {
       "model_id": "d4651b538b03402b89845d4f01ef5346",
       "version_major": 2,
       "version_minor": 0
      },
      "text/plain": [
       "HTML(value='<b>7. Which method appears to be the most sensitive to changes in cohesion based on the sensitivit…"
      ]
     },
     "metadata": {},
     "output_type": "display_data"
    },
    {
     "data": {
      "application/vnd.jupyter.widget-view+json": {
       "model_id": "30f216744e094675bfdd46b2a45a5b74",
       "version_major": 2,
       "version_minor": 0
      },
      "text/plain": [
       "RadioButtons(layout=Layout(width='max-content'), options=('A. Ordinary Method', 'B. Bishop Method', 'C. Janbu …"
      ]
     },
     "metadata": {},
     "output_type": "display_data"
    },
    {
     "data": {
      "application/vnd.jupyter.widget-view+json": {
       "model_id": "88278f62764d4e27ab04301b9dcfd90f",
       "version_major": 2,
       "version_minor": 0
      },
      "text/plain": [
       "Output()"
      ]
     },
     "metadata": {},
     "output_type": "display_data"
    },
    {
     "data": {
      "application/vnd.jupyter.widget-view+json": {
       "model_id": "4e140ee895f940978696a040506fe033",
       "version_major": 2,
       "version_minor": 0
      },
      "text/plain": [
       "HTML(value='<b>8. Which method is the most sensitive to changes in friction angle based on the sensitivity plo…"
      ]
     },
     "metadata": {},
     "output_type": "display_data"
    },
    {
     "data": {
      "application/vnd.jupyter.widget-view+json": {
       "model_id": "b65d8709c42a451c9d448723fc246fd8",
       "version_major": 2,
       "version_minor": 0
      },
      "text/plain": [
       "RadioButtons(layout=Layout(width='max-content'), options=('A. Ordinary Method', 'B. Bishop Method', 'C. Spence…"
      ]
     },
     "metadata": {},
     "output_type": "display_data"
    },
    {
     "data": {
      "application/vnd.jupyter.widget-view+json": {
       "model_id": "e0b5bd175c89483f9ea2d14684c0bfcd",
       "version_major": 2,
       "version_minor": 0
      },
      "text/plain": [
       "Output()"
      ]
     },
     "metadata": {},
     "output_type": "display_data"
    },
    {
     "data": {
      "application/vnd.jupyter.widget-view+json": {
       "model_id": "750ce64795ed461aa1999e1cd6a88ff4",
       "version_major": 2,
       "version_minor": 0
      },
      "text/plain": [
       "HTML(value='<b>9. How might the assumptions made in each method impact the results in a real-world scenario?</…"
      ]
     },
     "metadata": {},
     "output_type": "display_data"
    },
    {
     "data": {
      "application/vnd.jupyter.widget-view+json": {
       "model_id": "d3cc27e1f487463f91b8836f91e64427",
       "version_major": 2,
       "version_minor": 0
      },
      "text/plain": [
       "RadioButtons(layout=Layout(width='max-content'), options=('A. They could lead to overestimation of stability',…"
      ]
     },
     "metadata": {},
     "output_type": "display_data"
    },
    {
     "data": {
      "application/vnd.jupyter.widget-view+json": {
       "model_id": "4a79a422c58447c98eeb02c64dacf830",
       "version_major": 2,
       "version_minor": 0
      },
      "text/plain": [
       "Output()"
      ]
     },
     "metadata": {},
     "output_type": "display_data"
    },
    {
     "data": {
      "application/vnd.jupyter.widget-view+json": {
       "model_id": "de9b831618ea4b83bda7a4868fca2938",
       "version_major": 2,
       "version_minor": 0
      },
      "text/plain": [
       "HTML(value='<b>10. How would you use the information from the sensitivity analysis to make decisions about slo…"
      ]
     },
     "metadata": {},
     "output_type": "display_data"
    },
    {
     "data": {
      "application/vnd.jupyter.widget-view+json": {
       "model_id": "535493e9ed47452aad3cad39b844c79b",
       "version_major": 2,
       "version_minor": 0
      },
      "text/plain": [
       "RadioButtons(layout=Layout(width='max-content'), options=('A. By considering the most sensitive parameters', '…"
      ]
     },
     "metadata": {},
     "output_type": "display_data"
    },
    {
     "data": {
      "application/vnd.jupyter.widget-view+json": {
       "model_id": "03ce870552814c759f3bd0b94bc3053f",
       "version_major": 2,
       "version_minor": 0
      },
      "text/plain": [
       "Output()"
      ]
     },
     "metadata": {},
     "output_type": "display_data"
    }
   ],
   "source": [
    "import ipywidgets as widgets\n",
    "from IPython.display import display, clear_output\n",
    "\n",
    "# Quiz data\n",
    "quiz_data = [\n",
    "    {\n",
    "        \"question\": \"1. What is the main difference between the Ordinary Method and the Bishop Method in terms of assumptions and calculations?\",\n",
    "        \"options\": [\n",
    "            \"A. Ordinary Method assumes uniform slope height\",\n",
    "            \"B. Bishop Method considers inter-slice forces\",\n",
    "            \"C. Ordinary Method uses a simplified approach\",\n",
    "            \"D. Bishop Method uses a complex iterative approach\",\n",
    "            \"E. All of the above\"\n",
    "        ],\n",
    "        \"correct\": \"E. All of the above\",\n",
    "        \"explanation\": \"All listed differences are valid distinctions between the Ordinary and Bishop Methods.\"\n",
    "    },\n",
    "    {\n",
    "        \"question\": \"2. In the sensitivity analysis plots, what does an increase in cohesion generally do to the factor of safety?\",\n",
    "        \"options\": [\n",
    "            \"A. Decreases the factor of safety\",\n",
    "            \"B. Increases the factor of safety\",\n",
    "            \"C. Has no effect on the factor of safety\",\n",
    "            \"D. Makes the slope more unstable\"\n",
    "        ],\n",
    "        \"correct\": \"B. Increases the factor of safety\",\n",
    "        \"explanation\": \"Higher cohesion increases the shear strength, improving slope stability.\"\n",
    "    },\n",
    "    {\n",
    "        \"question\": \"3. When applying slope stability methods to a real-world problem, which additional data might be necessary?\",\n",
    "        \"options\": [\n",
    "            \"A. Soil properties\",\n",
    "            \"B. Groundwater conditions\",\n",
    "            \"C. Slope geometry\",\n",
    "            \"D. All of the above\"\n",
    "        ],\n",
    "        \"correct\": \"D. All of the above\",\n",
    "        \"explanation\": \"All these factors are essential for accurate slope stability analysis.\"\n",
    "    },\n",
    "    {\n",
    "        \"question\": \"4. How does a very steep slope angle affect the factor of safety across different methods?\",\n",
    "        \"options\": [\n",
    "            \"A. Increases the factor of safety\",\n",
    "            \"B. Decreases the factor of safety\",\n",
    "            \"C. Has no effect on the factor of safety\",\n",
    "            \"D. Makes the slope more stable\"\n",
    "        ],\n",
    "        \"correct\": \"B. Decreases the factor of safety\",\n",
    "        \"explanation\": \"Steeper slopes are generally less stable, reducing the factor of safety.\"\n",
    "    },\n",
    "    {\n",
    "        \"question\": \"5. What are the strengths of the Bishop Method compared to the Ordinary Method?\",\n",
    "        \"options\": [\n",
    "            \"A. Considers inter-slice forces\",\n",
    "            \"B. Provides more accurate results\",\n",
    "            \"C. Uses an iterative approach\",\n",
    "            \"D. All of the above\"\n",
    "        ],\n",
    "        \"correct\": \"D. All of the above\",\n",
    "        \"explanation\": \"The Bishop Method improves accuracy by considering inter-slice forces and using iteration.\"\n",
    "    },\n",
    "    {\n",
    "        \"question\": \"6. Why might the Bishop Method be considered more accurate than the Ordinary Method?\",\n",
    "        \"options\": [\n",
    "            \"A. It uses a simplified approach\",\n",
    "            \"B. It considers inter-slice forces\",\n",
    "            \"C. It assumes uniform slope height\",\n",
    "            \"D. It uses a complex iterative approach\"\n",
    "        ],\n",
    "        \"correct\": \"B. It considers inter-slice forces\",\n",
    "        \"explanation\": \"Considering inter-slice forces leads to more realistic and accurate results.\"\n",
    "    },\n",
    "    {\n",
    "        \"question\": \"7. Which method appears to be the most sensitive to changes in cohesion based on the sensitivity plots?\",\n",
    "        \"options\": [\n",
    "            \"A. Ordinary Method\",\n",
    "            \"B. Bishop Method\",\n",
    "            \"C. Janbu Method\",\n",
    "            \"D. Culmann Method\"\n",
    "        ],\n",
    "        \"correct\": \"B. Bishop Method\",\n",
    "        \"explanation\": \"The Bishop Method often shows higher sensitivity to cohesion changes.\"\n",
    "    },\n",
    "    {\n",
    "        \"question\": \"8. Which method is the most sensitive to changes in friction angle based on the sensitivity plots?\",\n",
    "        \"options\": [\n",
    "            \"A. Ordinary Method\",\n",
    "            \"B. Bishop Method\",\n",
    "            \"C. Spencer Method\",\n",
    "            \"D. Morgenstern-Price Method\"\n",
    "        ],\n",
    "        \"correct\": \"B. Bishop Method\",\n",
    "        \"explanation\": \"The Bishop Method is typically more responsive to changes in friction angle.\"\n",
    "    },\n",
    "    {\n",
    "        \"question\": \"9. How might the assumptions made in each method impact the results in a real-world scenario?\",\n",
    "        \"options\": [\n",
    "            \"A. They could lead to overestimation of stability\",\n",
    "            \"B. They could lead to underestimation of stability\",\n",
    "            \"C. They could affect the reliability of the results\",\n",
    "            \"D. All of the above\"\n",
    "        ],\n",
    "        \"correct\": \"D. All of the above\",\n",
    "        \"explanation\": \"Assumptions can skew results in multiple ways, affecting reliability.\"\n",
    "    },\n",
    "    {\n",
    "        \"question\": \"10. How would you use the information from the sensitivity analysis to make decisions about slope stabilization in a real-world project?\",\n",
    "        \"options\": [\n",
    "            \"A. By considering the most sensitive parameters\",\n",
    "            \"B. By ignoring the sensitivity analysis\",\n",
    "            \"C. By using the least sensitive method\",\n",
    "            \"D. By applying the results directly without further analysis\"\n",
    "        ],\n",
    "        \"correct\": \"A. By considering the most sensitive parameters\",\n",
    "        \"explanation\": \"Focusing on sensitive parameters helps prioritize stabilization efforts effectively.\"\n",
    "    }\n",
    "]\n",
    "\n",
    "# Display each question with interactive feedback\n",
    "for item in quiz_data:\n",
    "    radio = widgets.RadioButtons(options=item[\"options\"], layout={'width': 'max-content'})\n",
    "    output = widgets.Output()\n",
    "\n",
    "    def make_handler(radio, output, correct, explanation):\n",
    "        def handler(change):\n",
    "            with output:\n",
    "                output.clear_output()\n",
    "                if radio.value == correct:\n",
    "                    print(\"✅ Correct! \" + explanation)\n",
    "                else:\n",
    "                    print(\"❌ Incorrect. \" + explanation)\n",
    "        return handler\n",
    "\n",
    "    radio.observe(make_handler(radio, output, item[\"correct\"], item[\"explanation\"]), names='value')\n",
    "    display(widgets.HTML(f\"<b>{item['question']}</b>\"))\n",
    "    display(radio, output)\n"
   ]
  },
  {
   "cell_type": "code",
   "execution_count": null,
   "id": "0c5ba988",
   "metadata": {},
   "outputs": [],
   "source": []
  }
 ],
 "metadata": {
  "kernelspec": {
   "display_name": "Python [conda env:base] *",
   "language": "python",
   "name": "conda-base-py"
  },
  "language_info": {
   "codemirror_mode": {
    "name": "ipython",
    "version": 3
   },
   "file_extension": ".py",
   "mimetype": "text/x-python",
   "name": "python",
   "nbconvert_exporter": "python",
   "pygments_lexer": "ipython3",
   "version": "3.12.7"
  },
  "widgets": {
   "application/vnd.jupyter.widget-state+json": {
    "state": {},
    "version_major": 2,
    "version_minor": 0
   }
  }
 },
 "nbformat": 4,
 "nbformat_minor": 5
}
