{
 "cells": [
  {
   "cell_type": "markdown",
   "id": "017b3bf2-0f60-4e03-9449-6a74483bbb22",
   "metadata": {},
   "source": [
    "# Chapter 4 Geotechnical Engineering: Bearing Capacity of Soil"
   ]
  },
  {
   "cell_type": "markdown",
   "id": "63281c01-68d3-4764-a690-ee88e0f29309",
   "metadata": {},
   "source": [
    "1. [Introduction: Bearing Capacity](#1.-Introduction)\n",
    "2. [Simulation: Parameter Sensitivity](#2.-Simulation)\n",
    "3. [Self-Assessment](#3.-Self-Assessment)"
   ]
  },
  {
   "cell_type": "markdown",
   "id": "c75c619c-9678-41a8-a255-5f3b9a63dc4a",
   "metadata": {},
   "source": [
    "## 1. Introduction"
   ]
  },
  {
   "cell_type": "markdown",
   "id": "523014ec-41ea-49e3-a41b-b6b054914a51",
   "metadata": {
    "jp-MarkdownHeadingCollapsed": true
   },
   "source": [
    "```{figure} SoilFoundation.png\n",
    ":alt: Descriptive alt text for accessibility\n",
    ":width: 600px\n",
    ":name: Bearing capacity estimation for shallow foundation  \n",
    "\n",
    "**Figure 4.8 **: Bearing capacity estimation for shallow foundation.\n",
    "```\n",
    "\n",
    "\n",
    "\n",
    "### Bearing Capacity Methods\n",
    "\n",
    "Several classical and extended theories have been developed to estimate the bearing capacity of foundations under various soil conditions. Each theory introduces assumptions and parameters tailored to specific scenarios:\n",
    "\n",
    "### 📊 Comparative Table of Bearing Capacity Theories\n",
    "\n",
    "| **Theory**         | **Applicable Conditions**                            | **Key Assumptions / Features**                                                                 | **Best Use Cases**                          |\n",
    "|--------------------|------------------------------------------------------|------------------------------------------------------------------------------------------------|---------------------------------------------|\n",
    "| **Terzaghi**       | Strip, square, circular footings; general soils      | Three-zone shear resistance; includes cohesion $( c' $), overburden $( q = \\gamma D $), and width $( B $) | Shallow foundations in cohesive/granular soils |\n",
    "| **Rankine**        | Cohesionless soils; passive earth pressure           | Frictionless wall; planar failure surface; resultant force parallel to backfill                 | Granular soils; pile foundations            |\n",
    "| **Skempton**       | Undrained cohesive soils                             | Depth-dependent bearing capacity factors; saturated clays; short-term loading                   | Deep foundations in saturated clays         |\n",
    "| **Meyerhof**       | General soils; shallow and deep foundations          | Logarithmic failure surface; includes resistance above pile base; shape and depth factors       | Footings with complex geometries            |\n",
    "| **Hansen**         | Cohesionless soils; plane strain conditions          | Better experimental correlation; conservative estimates; offshore applicability                 | Marine and offshore foundations             |\n",
    "| **Vesic**          | Sloped or inclined surfaces; offshore environments   | Extends Terzaghi; accounts for slope effects and inclined loading                               | Most used in offshore and sloped terrains   |\n",
    "\n",
    "\n",
    "### **1. Terzaghi's Method**\n",
    "**Overview**: Terzaghi's method is one of the earliest and most widely used methods for calculating the bearing capacity of shallow foundations. It is based on the theory of plastic equilibrium in soils.\n",
    "\n",
    "**Equation**:\n",
    "$$\n",
    "q_{ult} = cN_c + qN_q + 0.5\\gamma BN_\\gamma\n",
    "$$\n",
    "where:\n",
    "- $( q_{ult} $) = ultimate bearing capacity\n",
    "- $( c $) = cohesion of the soil\n",
    "- $( q $) = overburden pressure at the foundation level\n",
    "- $( \\gamma $) = unit weight of the soil\n",
    "- $( B $) = width of the foundation\n",
    "- $( N_c, N_q, N_\\gamma $) = bearing capacity factors, which depend on the internal friction angle (\\(\\phi\\))\n",
    "\n",
    "**Assumptions**:\n",
    "- The soil is homogeneous and isotropic.\n",
    "- The foundation is shallow.\n",
    "- The load is applied vertically and centrally.\n",
    "\n",
    "### **2. Meyerhof's Method**\n",
    "**Overview**: Meyerhof's method extends Terzaghi's theory by considering the shape and depth of the foundation, as well as the inclination of the load.\n",
    "\n",
    "**Equation**:\n",
    "$$\n",
    "q_{ult} = cN_c + qN_q + 0.5\\gamma BN_\\gamma \\left(1 + 0.3 \\frac{B}{L}\\right)\n",
    "$$\n",
    "where:\n",
    "- $( L $) = length of the foundation\n",
    "- Other terms are as defined in Terzaghi's method.\n",
    "\n",
    "**Assumptions**:\n",
    "- Similar to Terzaghi's method, but includes adjustments for foundation shape and load inclination.\n",
    "\n",
    "### **3. Hansen's Method**\n",
    "**Overview**: Hansen's method further refines the bearing capacity calculation by including shape, depth, and inclination factors for each term in the bearing capacity equation.\n",
    "\n",
    "**Equation**:\n",
    "$$\n",
    "q_{ult} = cN_c s_c d_c i_c + qN_q s_q d_q i_q + 0.5\\gamma BN_\\gamma s_\\gamma d_\\gamma i_\\gamma\n",
    "$$\n",
    "where:\n",
    "- $( s_c, s_q, s_\\gamma $) = shape factors\n",
    "- $( d_c, d_q, d_\\gamma $) = depth factors\n",
    "- $( i_c, i_q, i_\\gamma $) = inclination factors\n",
    "- Other terms are as defined in Terzaghi's method.\n",
    "\n",
    "**Assumptions**:\n",
    "- More comprehensive than Terzaghi's and Meyerhof's methods, accounting for various factors affecting bearing capacity.\n",
    "\n",
    "### **Interpreting the Results**\n",
    "- **Terzaghi's Method**: Provides a basic estimate of bearing capacity, suitable for simple cases with shallow foundations and uniform soil conditions.\n",
    "- **Meyerhof's Method**: Offers a more refined estimate by considering the shape and depth of the foundation, making it suitable for a wider range of conditions.\n",
    "- **Hansen's Method**: Provides the most comprehensive estimate by including additional factors, making it suitable for complex conditions with varying soil properties and load inclinations.\n",
    "\n",
    "### **Recommendations**\n",
    "- **Consistency**: If the bearing capacities calculated by the different methods are similar, it indicates consistency in the results, and any method can be used based on convenience.\n",
    "- **Significant Differences**: If there are significant differences between the methods, further investigation and validation of soil parameters are recommended to ensure accurate design.\n",
    "\n",
    "### **Bearing Capacity Factors Table**\n",
    "The following table provides typical values for the bearing capacity factors (\\(N_c\\), \\(N_q\\), \\(N_\\gamma\\)) based on the internal friction angle (\\(\\phi\\)):\n",
    "\n",
    "| \\(\\phi\\) (degrees) | \\(N_c\\) | \\(N_q\\) | \\(N_\\gamma\\) |\n",
    "|--------------------|---------|---------|--------------|\n",
    "| 0                  | 5.14    | 1.00    | 0.00         |\n",
    "| 5                  | 6.50    | 1.57    | 0.21         |\n",
    "| 10                 | 8.34    | 2.47    | 0.67         |\n",
    "| 15                 | 11.00   | 3.90    | 1.41         |\n",
    "| 20                 | 15.00   | 6.40    | 2.56         |\n",
    "| 25                 | 20.70   | 10.60   | 4.40         |\n",
    "| 30                 | 27.70   | 18.40   | 7.40         |\n",
    "| 35                 | 37.20   | 31.00   | 11.80        |\n",
    "| 40                 | 50.60   | 52.00   | 18.40        |\n",
    "| 45                 | 69.30   | 100.00  | 32.40        |\n",
    "\n",
    "These methods are essential tools in geotechnical engineering for designing safe and stable foundations. Understanding their assumptions and limitations helps engineers choose the appropriate method for their specific project conditions.\n",
    "\n",
    "\n",
    "### References\n",
    "The **theoretical background** and foundational principles of the brearing capacity estimation methods are sufficiently described in {cite}`das2021geotechnical` and {cite}`unt2005geotechnical`, making them a valuable reference for understanding the assumptions, governing equations.\n"
   ]
  },
  {
   "cell_type": "markdown",
   "id": "e27959d1-14ae-4cf5-a367-7c916f150ba1",
   "metadata": {},
   "source": [
    "## 2. Simulation"
   ]
  },
  {
   "cell_type": "markdown",
   "id": "be8bb6e0-e839-424a-afbb-dcd999903672",
   "metadata": {},
   "source": [
    "### 🧱 Bearing Capacity Calculator (Terzaghi, Meyerhof, Hansen)\n",
    "\n",
    "This tool estimates the **ultimate bearing capacity of soil** using three classical methods:\n",
    "- **Terzaghi’s Method**\n",
    "- **Meyerhof’s Method**\n",
    "- **Hansen’s Method**\n",
    "\n",
    "It allows users to input soil and foundation parameters interactively and compares the results across methods with interpretive guidance.\n",
    "\n",
    "---\n",
    "\n",
    "### 🔧 Calculation Steps\n",
    "\n",
    "1. **Inputs**:\n",
    "   - Soil properties: cohesion $( c $), unit weight $( \\gamma $), overburden pressure $( q $)\n",
    "   - Foundation dimensions: width $( B $), length $( L $)\n",
    "   - Bearing capacity factors: $( N_c $), $( N_q $), $( N_\\gamma $)\n",
    "\n",
    "2. **Equations Used**:\n",
    "   - **Terzaghi**:\n",
    "     $\n",
    "     q_u = c N_c + q N_q + 0.5 \\gamma B N_\\gamma\n",
    "     $\n",
    "   - **Meyerhof**:\n",
    "     $\n",
    "     q_u = c N_c + q N_q + 0.5 \\gamma B N_\\gamma \\left(1 + 0.3 \\frac{B}{L}\\right)\n",
    "     $\n",
    "   - **Hansen**:\n",
    "     $\n",
    "     q_u = c N_c s_c + q N_q s_q + 0.5 \\gamma B N_\\gamma s_\\gamma\n",
    "     $\n",
    "     where shape factors $( s_c, s_q, s_\\gamma $) depend on $( B/L $)\n",
    "\n",
    "3. **Interpretation Logic**:\n",
    "   - Compares results from all three methods\n",
    "   - Identifies which method gives highest and lowest capacity\n",
    "   - Provides recommendations based on consistency of results\n",
    "\n",
    "---\n",
    "\n",
    "### 📊 How to Interpret Inputs\n",
    "\n",
    "| Parameter         | Meaning                                                                 |\n",
    "|-------------------|-------------------------------------------------------------------------|\n",
    "| `c`               | Soil cohesion (kPa)                                                     |\n",
    "| `γ`               | Unit weight of soil (kN/m³)                                             |\n",
    "| `q`               | Overburden pressure at foundation depth (kPa)                          |\n",
    "| `B`, `L`          | Width and length of foundation (m)                                      |\n",
    "| `Nc`, `Nq`, `Ngamma` | Bearing capacity factors based on soil friction angle               |\n",
    "\n",
    "---\n",
    "\n",
    "## 📋 How to Interpret Outputs\n",
    "\n",
    "| Output                        | Interpretation                                                                 |\n",
    "|-------------------------------|--------------------------------------------------------------------------------|\n",
    "| `Terzaghi`, `Meyerhof`, `Hansen` | Ultimate bearing capacity estimates (kPa)                                |\n",
    "| **Interpretation Section**    | Highlights which method gives highest/lowest values and whether results are consistent |\n",
    "| **Recommendations**           | Suggests further investigation if methods diverge significantly (>50%)       |\n",
    "\n",
    "---\n",
    "\n",
    "## 🧠 Conceptual Insight\n",
    "\n",
    "> This tool helps compare **classic bearing capacity methods** and guides foundation design decisions  \n",
    "> by integrating **soil mechanics theory** with **interactive analysis**."
   ]
  },
  {
   "cell_type": "code",
   "execution_count": 1,
   "id": "b0faf30d",
   "metadata": {},
   "outputs": [
    {
     "data": {
      "application/vnd.jupyter.widget-view+json": {
       "model_id": "56f1c25f2eff4f1c8fed75faba7cb267",
       "version_major": 2,
       "version_minor": 0
      },
      "text/plain": [
       "VBox(children=(FloatSlider(value=25.0, description='Cohesion (kPa):', layout=Layout(width='50%'), step=1.0, st…"
      ]
     },
     "metadata": {},
     "output_type": "display_data"
    },
    {
     "data": {
      "application/vnd.jupyter.widget-view+json": {
       "model_id": "38da30ca58764dffbc73a1b2c6ee5a9c",
       "version_major": 2,
       "version_minor": 0
      },
      "text/plain": [
       "Output()"
      ]
     },
     "metadata": {},
     "output_type": "display_data"
    }
   ],
   "source": [
    "import numpy as np\n",
    "import matplotlib.pyplot as plt\n",
    "import ipywidgets as widgets\n",
    "from IPython.display import display, Markdown\n",
    "\n",
    "# Function to calculate bearing capacity using Terzaghi's method\n",
    "def terzaghi_bearing_capacity(c, gamma, q, B, Nq, Nc, Ngamma):\n",
    "    q_ult = c * Nc + q * Nq + 0.5 * gamma * B * Ngamma\n",
    "    return q_ult\n",
    "\n",
    "# Function to calculate bearing capacity using Meyerhof's method\n",
    "def meyerhof_bearing_capacity(c, gamma, q, B, L, Nq, Nc, Ngamma):\n",
    "    q_ult = c * Nc + q * Nq + 0.5 * gamma * B * Ngamma * (1 + 0.3 * (B / L))\n",
    "    return q_ult\n",
    "\n",
    "# Function to calculate bearing capacity using Hansen's method\n",
    "def hansen_bearing_capacity(c, gamma, q, B, L, Nq, Nc, Ngamma):\n",
    "    sc = 1 + 0.2 * (B / L)\n",
    "    sq = 1 + 0.2 * (B / L)\n",
    "    sgamma = 1 - 0.4 * (B / L)\n",
    "    q_ult = c * Nc * sc + q * Nq * sq + 0.5 * gamma * B * Ngamma * sgamma\n",
    "    return q_ult\n",
    "\n",
    "# Function to interpret bearing capacity results and guide users\n",
    "def interpret_results(terzaghi_q_ult, meyerhof_q_ult, hansen_q_ult):\n",
    "    results = {\n",
    "        \"Terzaghi\": terzaghi_q_ult,\n",
    "        \"Meyerhof\": meyerhof_q_ult,\n",
    "        \"Hansen\": hansen_q_ult\n",
    "    }\n",
    "    \n",
    "    max_capacity = max(results.values())\n",
    "    min_capacity = min(results.values())\n",
    "    \n",
    "    interpretation = \"\"\n",
    "    \n",
    "    if max_capacity == terzaghi_q_ult:\n",
    "        interpretation += \"Terzaghi's method provides the highest bearing capacity.\\n\"\n",
    "    elif max_capacity == meyerhof_q_ult:\n",
    "        interpretation += \"Meyerhof's method provides the highest bearing capacity.\\n\"\n",
    "    elif max_capacity == hansen_q_ult:\n",
    "        interpretation += \"Hansen's method provides the highest bearing capacity.\\n\"\n",
    "    \n",
    "    if min_capacity == terzaghi_q_ult:\n",
    "        interpretation += \"Terzaghi's method provides the lowest bearing capacity.\\n\"\n",
    "    elif min_capacity == meyerhof_q_ult:\n",
    "        interpretation += \"Meyerhof's method provides the lowest bearing capacity.\\n\"\n",
    "    elif min_capacity == hansen_q_ult:\n",
    "        interpretation += \"Hansen's method provides the lowest bearing capacity.\\n\"\n",
    "    \n",
    "    interpretation += \"\\n### Recommendations:\\n\"\n",
    "    \n",
    "    if max_capacity / min_capacity > 1.5:\n",
    "        interpretation += \"- There is a significant difference between the methods. Consider further investigation and validation of soil parameters.\\n\"\n",
    "    else:\n",
    "        interpretation += \"- The methods provide similar results. You can choose any method based on convenience and familiarity.\\n\"\n",
    "    \n",
    "    return interpretation\n",
    "# Interactive widgets for input parameters\n",
    "c_input = widgets.FloatSlider(\n",
    "    value=25,\n",
    "    min=0,\n",
    "    max=100,\n",
    "    step=1,\n",
    "    description='Cohesion (kPa):',\n",
    "    layout=widgets.Layout(width='50%'),\n",
    "    style={'description_width': 'initial'}\n",
    ")\n",
    "\n",
    "gamma_input = widgets.FloatSlider(\n",
    "    value=18,\n",
    "    min=10,\n",
    "    max=25,\n",
    "    step=0.1,\n",
    "    description='Unit Weight (kN/m³):',\n",
    "    layout=widgets.Layout(width='50%'),\n",
    "    style={'description_width': 'initial'}\n",
    ")\n",
    "\n",
    "q_input = widgets.FloatSlider(\n",
    "    value=50,\n",
    "    min=0,\n",
    "    max=200,\n",
    "    step=1,\n",
    "    description='Overburden Pressure (kPa):',\n",
    "    layout=widgets.Layout(width='50%'),\n",
    "    style={'description_width': 'initial'}\n",
    ")\n",
    "\n",
    "B_input = widgets.FloatSlider(\n",
    "    value=2,\n",
    "    min=0.5,\n",
    "    max=10,\n",
    "    step=0.1,\n",
    "    description='Width of Foundation (m):',\n",
    "    layout=widgets.Layout(width='50%'),\n",
    "    style={'description_width': 'initial'}\n",
    ")\n",
    "\n",
    "L_input = widgets.FloatSlider(\n",
    "    value=2,\n",
    "    min=0.5,\n",
    "    max=10,\n",
    "    step=0.1,\n",
    "    description='Length of Foundation (m):',\n",
    "    layout=widgets.Layout(width='50%'),\n",
    "    style={'description_width': 'initial'}\n",
    ")\n",
    "\n",
    "Nq_input = widgets.FloatSlider(\n",
    "    value=20,\n",
    "    min=0,\n",
    "    max=100,\n",
    "    step=1,\n",
    "    description='Nq:',\n",
    "    layout=widgets.Layout(width='50%'),\n",
    "    style={'description_width': 'initial'}\n",
    ")\n",
    "\n",
    "Nc_input = widgets.FloatSlider(\n",
    "    value=30,\n",
    "    min=0,\n",
    "    max=100,\n",
    "    step=1,\n",
    "    description='Nc:',\n",
    "    layout=widgets.Layout(width='50%'),\n",
    "    style={'description_width': 'initial'}\n",
    ")\n",
    "\n",
    "Ngamma_input = widgets.FloatSlider(\n",
    "    value=10,\n",
    "    min=0,\n",
    "    max=100,\n",
    "    step=1,\n",
    "    description='Ngamma:',\n",
    "    layout=widgets.Layout(width='50%'),\n",
    "    style={'description_width': 'initial'}\n",
    ")\n",
    "\n",
    "output = widgets.Output()\n",
    "\n",
    "def update_plot(change=None):\n",
    "    with output:\n",
    "        try:\n",
    "            c = c_input.value\n",
    "            gamma = gamma_input.value\n",
    "            q = q_input.value\n",
    "            B = B_input.value\n",
    "            L = L_input.value\n",
    "            Nq = Nq_input.value\n",
    "            Nc = Nc_input.value\n",
    "            Ngamma = Ngamma_input.value\n",
    "            \n",
    "            # Calculate bearing capacities using different methods\n",
    "            terzaghi_q_ult = terzaghi_bearing_capacity(c, gamma, q, B, Nq, Nc, Ngamma)\n",
    "            meyerhof_q_ult = meyerhof_bearing_capacity(c, gamma, q, B, L, Nq, Nc, Ngamma)\n",
    "            hansen_q_ult = hansen_bearing_capacity(c, gamma, q, B, L, Nq, Nc, Ngamma)\n",
    "            \n",
    "            # Interpret results and guide users\n",
    "            interpretation = interpret_results(terzaghi_q_ult, meyerhof_q_ult, hansen_q_ult)\n",
    "            \n",
    "            # Display results and interpretation\n",
    "            output.clear_output()\n",
    "            display(Markdown(f\"### Bearing Capacity Results\"))\n",
    "            display(Markdown(f\"- **Terzaghi's Method:** {terzaghi_q_ult:.2f} kPa\"))\n",
    "            display(Markdown(f\"- **Meyerhof's Method:** {meyerhof_q_ult:.2f} kPa\"))\n",
    "            display(Markdown(f\"- **Hansen's Method:** {hansen_q_ult:.2f} kPa\"))\n",
    "            display(Markdown(f\"### Interpretation and Recommendations\"))\n",
    "            display(Markdown(interpretation))\n",
    "            \n",
    "        except Exception as e:\n",
    "            output.clear_output()\n",
    "            display(Markdown(f\"❌ **Error:** {e}\"))\n",
    "\n",
    "c_input.observe(update_plot, names='value')\n",
    "gamma_input.observe(update_plot, names='value')\n",
    "q_input.observe(update_plot, names='value')\n",
    "B_input.observe(update_plot, names='value')\n",
    "L_input.observe(update_plot, names='value')\n",
    "Nq_input.observe(update_plot, names='value')\n",
    "Nc_input.observe(update_plot, names='value')\n",
    "Ngamma_input.observe(update_plot, names='value')\n",
    "\n",
    "display(widgets.VBox([c_input, gamma_input, q_input, B_input, L_input, Nq_input, Nc_input, Ngamma_input]), output)\n",
    "update_plot()\n"
   ]
  },
  {
   "cell_type": "markdown",
   "id": "464e928b-e0dc-46d5-b181-5c197cde5e0e",
   "metadata": {},
   "source": [
    "## 3. Self-Assessment"
   ]
  },
  {
   "cell_type": "code",
   "execution_count": 2,
   "id": "c27f4fc2",
   "metadata": {},
   "outputs": [
    {
     "data": {
      "text/markdown": [
       "### Which of the following parameters is **not** included in Terzaghi’s original bearing capacity equation?"
      ],
      "text/plain": [
       "<IPython.core.display.Markdown object>"
      ]
     },
     "metadata": {},
     "output_type": "display_data"
    },
    {
     "data": {
      "application/vnd.jupyter.widget-view+json": {
       "model_id": "298254ea7aa2458398567c4ad8343e62",
       "version_major": 2,
       "version_minor": 0
      },
      "text/plain": [
       "RadioButtons(layout=Layout(width='max-content'), options=('Cohesion (c)', 'Overburden pressure (q)', 'Length o…"
      ]
     },
     "metadata": {},
     "output_type": "display_data"
    },
    {
     "data": {
      "application/vnd.jupyter.widget-view+json": {
       "model_id": "eb0cbe0ab1834c9b9ea88abe412e1fea",
       "version_major": 2,
       "version_minor": 0
      },
      "text/plain": [
       "Button(button_style='info', description='Check Answer', style=ButtonStyle())"
      ]
     },
     "metadata": {},
     "output_type": "display_data"
    },
    {
     "data": {
      "application/vnd.jupyter.widget-view+json": {
       "model_id": "cdcaf53b0bb54ac49f2502a0f3370c0f",
       "version_major": 2,
       "version_minor": 0
      },
      "text/plain": [
       "Output()"
      ]
     },
     "metadata": {},
     "output_type": "display_data"
    },
    {
     "data": {
      "text/markdown": [
       "### What additional factor does Meyerhof’s method introduce compared to Terzaghi’s?"
      ],
      "text/plain": [
       "<IPython.core.display.Markdown object>"
      ]
     },
     "metadata": {},
     "output_type": "display_data"
    },
    {
     "data": {
      "application/vnd.jupyter.widget-view+json": {
       "model_id": "d7d4bf728a3544d48106fec888c543a5",
       "version_major": 2,
       "version_minor": 0
      },
      "text/plain": [
       "RadioButtons(layout=Layout(width='max-content'), options=('Soil compressibility', 'Foundation shape and depth'…"
      ]
     },
     "metadata": {},
     "output_type": "display_data"
    },
    {
     "data": {
      "application/vnd.jupyter.widget-view+json": {
       "model_id": "c07674111ea34b91a98874e4c04e7750",
       "version_major": 2,
       "version_minor": 0
      },
      "text/plain": [
       "Button(button_style='info', description='Check Answer', style=ButtonStyle())"
      ]
     },
     "metadata": {},
     "output_type": "display_data"
    },
    {
     "data": {
      "application/vnd.jupyter.widget-view+json": {
       "model_id": "6cf3c3d7c3124673a002234f413a47a7",
       "version_major": 2,
       "version_minor": 0
      },
      "text/plain": [
       "Output()"
      ]
     },
     "metadata": {},
     "output_type": "display_data"
    },
    {
     "data": {
      "text/markdown": [
       "### Hansen’s method includes which of the following factors in the bearing capacity equation?"
      ],
      "text/plain": [
       "<IPython.core.display.Markdown object>"
      ]
     },
     "metadata": {},
     "output_type": "display_data"
    },
    {
     "data": {
      "application/vnd.jupyter.widget-view+json": {
       "model_id": "5031a978851f44bdac7666f6a63ff062",
       "version_major": 2,
       "version_minor": 0
      },
      "text/plain": [
       "RadioButtons(layout=Layout(width='max-content'), options=('Shape, depth, and inclination factors', 'Only shape…"
      ]
     },
     "metadata": {},
     "output_type": "display_data"
    },
    {
     "data": {
      "application/vnd.jupyter.widget-view+json": {
       "model_id": "d8809a3690eb43ccb00330f4a6176202",
       "version_major": 2,
       "version_minor": 0
      },
      "text/plain": [
       "Button(button_style='info', description='Check Answer', style=ButtonStyle())"
      ]
     },
     "metadata": {},
     "output_type": "display_data"
    },
    {
     "data": {
      "application/vnd.jupyter.widget-view+json": {
       "model_id": "1bf649e911b74ebaae6c747bfe963fc7",
       "version_major": 2,
       "version_minor": 0
      },
      "text/plain": [
       "Output()"
      ]
     },
     "metadata": {},
     "output_type": "display_data"
    },
    {
     "data": {
      "text/markdown": [
       "### According to the bearing capacity factor table, what is the value of Nq when the internal friction angle φ = 30°?"
      ],
      "text/plain": [
       "<IPython.core.display.Markdown object>"
      ]
     },
     "metadata": {},
     "output_type": "display_data"
    },
    {
     "data": {
      "application/vnd.jupyter.widget-view+json": {
       "model_id": "78a3141c62294453ad4c244f084a8403",
       "version_major": 2,
       "version_minor": 0
      },
      "text/plain": [
       "RadioButtons(layout=Layout(width='max-content'), options=('10.6', '18.4', '27.7', '7.4'), value='10.6')"
      ]
     },
     "metadata": {},
     "output_type": "display_data"
    },
    {
     "data": {
      "application/vnd.jupyter.widget-view+json": {
       "model_id": "42bb0adda3f847e2bce5d047c0924344",
       "version_major": 2,
       "version_minor": 0
      },
      "text/plain": [
       "Button(button_style='info', description='Check Answer', style=ButtonStyle())"
      ]
     },
     "metadata": {},
     "output_type": "display_data"
    },
    {
     "data": {
      "application/vnd.jupyter.widget-view+json": {
       "model_id": "b53099c4d0094ddcbc2c5fa35d3f01cc",
       "version_major": 2,
       "version_minor": 0
      },
      "text/plain": [
       "Output()"
      ]
     },
     "metadata": {},
     "output_type": "display_data"
    },
    {
     "data": {
      "text/markdown": [
       "### In the Python code, what does the function interpret_results() primarily do?"
      ],
      "text/plain": [
       "<IPython.core.display.Markdown object>"
      ]
     },
     "metadata": {},
     "output_type": "display_data"
    },
    {
     "data": {
      "application/vnd.jupyter.widget-view+json": {
       "model_id": "43947abdef6e4821be3202a3b2e501ed",
       "version_major": 2,
       "version_minor": 0
      },
      "text/plain": [
       "RadioButtons(layout=Layout(width='max-content'), options=('Calculates the average bearing capacity', 'Compares…"
      ]
     },
     "metadata": {},
     "output_type": "display_data"
    },
    {
     "data": {
      "application/vnd.jupyter.widget-view+json": {
       "model_id": "f4cba0e55fe94bc3ade7c3dccb5fdeb1",
       "version_major": 2,
       "version_minor": 0
      },
      "text/plain": [
       "Button(button_style='info', description='Check Answer', style=ButtonStyle())"
      ]
     },
     "metadata": {},
     "output_type": "display_data"
    },
    {
     "data": {
      "application/vnd.jupyter.widget-view+json": {
       "model_id": "ac27dbab6d1442ab9670c0f18db79ba9",
       "version_major": 2,
       "version_minor": 0
      },
      "text/plain": [
       "Output()"
      ]
     },
     "metadata": {},
     "output_type": "display_data"
    },
    {
     "data": {
      "text/markdown": [
       "### In the simplified Hansen’s method in the code, how is the shape factor sc calculated?"
      ],
      "text/plain": [
       "<IPython.core.display.Markdown object>"
      ]
     },
     "metadata": {},
     "output_type": "display_data"
    },
    {
     "data": {
      "application/vnd.jupyter.widget-view+json": {
       "model_id": "de051669c2f5471a9bfc88caff82e93d",
       "version_major": 2,
       "version_minor": 0
      },
      "text/plain": [
       "RadioButtons(layout=Layout(width='max-content'), options=('1 + 0.3 B/L', '1 - 0.4 B/L', '1 + 0.2 B/L', '1 + 0.…"
      ]
     },
     "metadata": {},
     "output_type": "display_data"
    },
    {
     "data": {
      "application/vnd.jupyter.widget-view+json": {
       "model_id": "87d135188be64806ac8618b23a8b1f76",
       "version_major": 2,
       "version_minor": 0
      },
      "text/plain": [
       "Button(button_style='info', description='Check Answer', style=ButtonStyle())"
      ]
     },
     "metadata": {},
     "output_type": "display_data"
    },
    {
     "data": {
      "application/vnd.jupyter.widget-view+json": {
       "model_id": "0627d26fc4384fe5b24449ed40cc0f17",
       "version_major": 2,
       "version_minor": 0
      },
      "text/plain": [
       "Output()"
      ]
     },
     "metadata": {},
     "output_type": "display_data"
    },
    {
     "data": {
      "text/markdown": [
       "### According to the interpretation logic, when is further investigation recommended?"
      ],
      "text/plain": [
       "<IPython.core.display.Markdown object>"
      ]
     },
     "metadata": {},
     "output_type": "display_data"
    },
    {
     "data": {
      "application/vnd.jupyter.widget-view+json": {
       "model_id": "3acaea84e35b4f1597f5ea855c82d27e",
       "version_major": 2,
       "version_minor": 0
      },
      "text/plain": [
       "RadioButtons(layout=Layout(width='max-content'), options=('When all methods give the same result', 'When max/m…"
      ]
     },
     "metadata": {},
     "output_type": "display_data"
    },
    {
     "data": {
      "application/vnd.jupyter.widget-view+json": {
       "model_id": "e88269802d354ae08848451290ca7b8e",
       "version_major": 2,
       "version_minor": 0
      },
      "text/plain": [
       "Button(button_style='info', description='Check Answer', style=ButtonStyle())"
      ]
     },
     "metadata": {},
     "output_type": "display_data"
    },
    {
     "data": {
      "application/vnd.jupyter.widget-view+json": {
       "model_id": "062e218d1c3e442eb6c81039d1b07a72",
       "version_major": 2,
       "version_minor": 0
      },
      "text/plain": [
       "Output()"
      ]
     },
     "metadata": {},
     "output_type": "display_data"
    },
    {
     "data": {
      "text/markdown": [
       "### What is the effect of increasing the foundation width B on the bearing capacity?"
      ],
      "text/plain": [
       "<IPython.core.display.Markdown object>"
      ]
     },
     "metadata": {},
     "output_type": "display_data"
    },
    {
     "data": {
      "application/vnd.jupyter.widget-view+json": {
       "model_id": "ccd34012c1e743a09c2509ba2ffde616",
       "version_major": 2,
       "version_minor": 0
      },
      "text/plain": [
       "RadioButtons(layout=Layout(width='max-content'), options=('It decreases the bearing capacity', 'It has no effe…"
      ]
     },
     "metadata": {},
     "output_type": "display_data"
    },
    {
     "data": {
      "application/vnd.jupyter.widget-view+json": {
       "model_id": "ca4f4b112bad49ecba223637b71e84ba",
       "version_major": 2,
       "version_minor": 0
      },
      "text/plain": [
       "Button(button_style='info', description='Check Answer', style=ButtonStyle())"
      ]
     },
     "metadata": {},
     "output_type": "display_data"
    },
    {
     "data": {
      "application/vnd.jupyter.widget-view+json": {
       "model_id": "8b93acfc66e148998424cdafd486bf32",
       "version_major": 2,
       "version_minor": 0
      },
      "text/plain": [
       "Output()"
      ]
     },
     "metadata": {},
     "output_type": "display_data"
    },
    {
     "data": {
      "text/markdown": [
       "### Which of the following is **not** an assumption of Terzaghi’s method?"
      ],
      "text/plain": [
       "<IPython.core.display.Markdown object>"
      ]
     },
     "metadata": {},
     "output_type": "display_data"
    },
    {
     "data": {
      "application/vnd.jupyter.widget-view+json": {
       "model_id": "87cb697f4b264b8ab7b3a80b3a731315",
       "version_major": 2,
       "version_minor": 0
      },
      "text/plain": [
       "RadioButtons(layout=Layout(width='max-content'), options=('Soil is homogeneous and isotropic', 'Load is applie…"
      ]
     },
     "metadata": {},
     "output_type": "display_data"
    },
    {
     "data": {
      "application/vnd.jupyter.widget-view+json": {
       "model_id": "ad7ffea147de463896018ef5f9db9c92",
       "version_major": 2,
       "version_minor": 0
      },
      "text/plain": [
       "Button(button_style='info', description='Check Answer', style=ButtonStyle())"
      ]
     },
     "metadata": {},
     "output_type": "display_data"
    },
    {
     "data": {
      "application/vnd.jupyter.widget-view+json": {
       "model_id": "a92aa2cb673f427eb259c7cdb58d2583",
       "version_major": 2,
       "version_minor": 0
      },
      "text/plain": [
       "Output()"
      ]
     },
     "metadata": {},
     "output_type": "display_data"
    },
    {
     "data": {
      "text/markdown": [
       "### Which method is most suitable for complex soil conditions and inclined loads?"
      ],
      "text/plain": [
       "<IPython.core.display.Markdown object>"
      ]
     },
     "metadata": {},
     "output_type": "display_data"
    },
    {
     "data": {
      "application/vnd.jupyter.widget-view+json": {
       "model_id": "84d44aad87574eb5bfd470b2de1aa44a",
       "version_major": 2,
       "version_minor": 0
      },
      "text/plain": [
       "RadioButtons(layout=Layout(width='max-content'), options=('Terzaghi’s Method', 'Meyerhof’s Method', 'Hansen’s …"
      ]
     },
     "metadata": {},
     "output_type": "display_data"
    },
    {
     "data": {
      "application/vnd.jupyter.widget-view+json": {
       "model_id": "0588170dcb874581991788d522741dd7",
       "version_major": 2,
       "version_minor": 0
      },
      "text/plain": [
       "Button(button_style='info', description='Check Answer', style=ButtonStyle())"
      ]
     },
     "metadata": {},
     "output_type": "display_data"
    },
    {
     "data": {
      "application/vnd.jupyter.widget-view+json": {
       "model_id": "eee7bd7bebbd4f58bc2b271903eef0f1",
       "version_major": 2,
       "version_minor": 0
      },
      "text/plain": [
       "Output()"
      ]
     },
     "metadata": {},
     "output_type": "display_data"
    }
   ],
   "source": [
    "import ipywidgets as widgets\n",
    "from IPython.display import display, Markdown, clear_output\n",
    "\n",
    "# Define quiz questions, options, and correct answers\n",
    "quiz_data = [\n",
    "    {\n",
    "        \"question\": \"Which of the following parameters is **not** included in Terzaghi’s original bearing capacity equation?\",\n",
    "        \"options\": [\"Cohesion (c)\", \"Overburden pressure (q)\", \"Length of foundation (L)\", \"Unit weight of soil (γ)\"],\n",
    "        \"answer\": \"Length of foundation (L)\"\n",
    "    },\n",
    "    {\n",
    "        \"question\": \"What additional factor does Meyerhof’s method introduce compared to Terzaghi’s?\",\n",
    "        \"options\": [\"Soil compressibility\", \"Foundation shape and depth\", \"Water table correction\", \"Soil anisotropy\"],\n",
    "        \"answer\": \"Foundation shape and depth\"\n",
    "    },\n",
    "    {\n",
    "        \"question\": \"Hansen’s method includes which of the following factors in the bearing capacity equation?\",\n",
    "        \"options\": [\"Shape, depth, and inclination factors\", \"Only shape and depth factors\", \"Only inclination factors\", \"None of the above\"],\n",
    "        \"answer\": \"Shape, depth, and inclination factors\"\n",
    "    },\n",
    "    {\n",
    "        \"question\": \"According to the bearing capacity factor table, what is the value of Nq when the internal friction angle φ = 30°?\",\n",
    "        \"options\": [\"10.6\", \"18.4\", \"27.7\", \"7.4\"],\n",
    "        \"answer\": \"18.4\"\n",
    "    },\n",
    "    {\n",
    "        \"question\": \"In the Python code, what does the function interpret_results() primarily do?\",\n",
    "        \"options\": [\"Calculates the average bearing capacity\", \"Compares results from different methods and provides recommendations\", \"Plots the bearing capacity values\", \"Adjusts the input parameters\"],\n",
    "        \"answer\": \"Compares results from different methods and provides recommendations\"\n",
    "    },\n",
    "    {\n",
    "        \"question\": \"In the simplified Hansen’s method in the code, how is the shape factor sc calculated?\",\n",
    "        \"options\": [\"1 + 0.3 B/L\", \"1 - 0.4 B/L\", \"1 + 0.2 B/L\", \"1 + 0.5 B/L\"],\n",
    "        \"answer\": \"1 + 0.2 B/L\"\n",
    "    },\n",
    "    {\n",
    "        \"question\": \"According to the interpretation logic, when is further investigation recommended?\",\n",
    "        \"options\": [\"When all methods give the same result\", \"When max/min > 1.5\", \"When max/min < 1.5\", \"When Terzaghi’s method is the lowest\"],\n",
    "        \"answer\": \"When max/min > 1.5\"\n",
    "    },\n",
    "    {\n",
    "        \"question\": \"What is the effect of increasing the foundation width B on the bearing capacity?\",\n",
    "        \"options\": [\"It decreases the bearing capacity\", \"It has no effect\", \"It increases the bearing capacity\", \"It only affects Hansen’s method\"],\n",
    "        \"answer\": \"It increases the bearing capacity\"\n",
    "    },\n",
    "    {\n",
    "        \"question\": \"Which of the following is **not** an assumption of Terzaghi’s method?\",\n",
    "        \"options\": [\"Soil is homogeneous and isotropic\", \"Load is applied eccentrically\", \"Foundation is shallow\", \"Load is vertical and central\"],\n",
    "        \"answer\": \"Load is applied eccentrically\"\n",
    "    },\n",
    "    {\n",
    "        \"question\": \"Which method is most suitable for complex soil conditions and inclined loads?\",\n",
    "        \"options\": [\"Terzaghi’s Method\", \"Meyerhof’s Method\", \"Hansen’s Method\", \"None of the above\"],\n",
    "        \"answer\": \"Hansen’s Method\"\n",
    "    }\n",
    "]\n",
    "\n",
    "# Function to create a widget for each quiz question\n",
    "def create_quiz_widget(question, options, correct_answer):\n",
    "    output = widgets.Output()\n",
    "    radio = widgets.RadioButtons(options=options, layout={'width': 'max-content'})\n",
    "    check_button = widgets.Button(description=\"Check Answer\", button_style='info')\n",
    "\n",
    "    def on_check_clicked(b):\n",
    "        with output:\n",
    "            clear_output()\n",
    "            if radio.value == correct_answer:\n",
    "                display(Markdown(\"✅ **Correct!**\"))\n",
    "            else:\n",
    "                display(Markdown(f\"❌ **Incorrect.** The correct answer is: **{correct_answer}**\"))\n",
    "\n",
    "    check_button.on_click(on_check_clicked)\n",
    "    display(Markdown(f\"### {question}\"))\n",
    "    display(radio, check_button, output)\n",
    "\n",
    "# Display all quiz widgets\n",
    "for q in quiz_data:\n",
    "    create_quiz_widget(q[\"question\"], q[\"options\"], q[\"answer\"])\n"
   ]
  },
  {
   "cell_type": "code",
   "execution_count": 3,
   "id": "52ab50e0",
   "metadata": {},
   "outputs": [
    {
     "data": {
      "text/markdown": [
       "### Reflective Question 1"
      ],
      "text/plain": [
       "<IPython.core.display.Markdown object>"
      ]
     },
     "metadata": {},
     "output_type": "display_data"
    },
    {
     "data": {
      "text/markdown": [
       "Why do different bearing capacity methods (Terzaghi, Meyerhof, Hansen) yield different results for the same soil and foundation conditions?"
      ],
      "text/plain": [
       "<IPython.core.display.Markdown object>"
      ]
     },
     "metadata": {},
     "output_type": "display_data"
    },
    {
     "data": {
      "application/vnd.jupyter.widget-view+json": {
       "model_id": "7f3715886b27432dbe1b05c3f508172e",
       "version_major": 2,
       "version_minor": 0
      },
      "text/plain": [
       "Textarea(value='', layout=Layout(height='100px', width='100%'), placeholder='Type your answer here...')"
      ]
     },
     "metadata": {},
     "output_type": "display_data"
    },
    {
     "data": {
      "text/markdown": [
       "### Reflective Question 2"
      ],
      "text/plain": [
       "<IPython.core.display.Markdown object>"
      ]
     },
     "metadata": {},
     "output_type": "display_data"
    },
    {
     "data": {
      "text/markdown": [
       "How would you decide which method to use in a real-world project?"
      ],
      "text/plain": [
       "<IPython.core.display.Markdown object>"
      ]
     },
     "metadata": {},
     "output_type": "display_data"
    },
    {
     "data": {
      "application/vnd.jupyter.widget-view+json": {
       "model_id": "beb31c7d104b4f0a820875c12cf721a7",
       "version_major": 2,
       "version_minor": 0
      },
      "text/plain": [
       "Textarea(value='', layout=Layout(height='100px', width='100%'), placeholder='Type your answer here...')"
      ]
     },
     "metadata": {},
     "output_type": "display_data"
    },
    {
     "data": {
      "text/markdown": [
       "### Reflective Question 3"
      ],
      "text/plain": [
       "<IPython.core.display.Markdown object>"
      ]
     },
     "metadata": {},
     "output_type": "display_data"
    },
    {
     "data": {
      "text/markdown": [
       "What are the potential consequences of overestimating vs. underestimating bearing capacity in foundation design?"
      ],
      "text/plain": [
       "<IPython.core.display.Markdown object>"
      ]
     },
     "metadata": {},
     "output_type": "display_data"
    },
    {
     "data": {
      "application/vnd.jupyter.widget-view+json": {
       "model_id": "be3bea1837e340a59d075e81ebd36bee",
       "version_major": 2,
       "version_minor": 0
      },
      "text/plain": [
       "Textarea(value='', layout=Layout(height='100px', width='100%'), placeholder='Type your answer here...')"
      ]
     },
     "metadata": {},
     "output_type": "display_data"
    },
    {
     "data": {
      "text/markdown": [
       "### Reflective Question 4"
      ],
      "text/plain": [
       "<IPython.core.display.Markdown object>"
      ]
     },
     "metadata": {},
     "output_type": "display_data"
    },
    {
     "data": {
      "text/markdown": [
       "How does the inclusion of shape, depth, and inclination factors in Hansen’s method improve the accuracy of bearing capacity predictions?"
      ],
      "text/plain": [
       "<IPython.core.display.Markdown object>"
      ]
     },
     "metadata": {},
     "output_type": "display_data"
    },
    {
     "data": {
      "application/vnd.jupyter.widget-view+json": {
       "model_id": "3a85f6674d534ac68ba886ec2391ccad",
       "version_major": 2,
       "version_minor": 0
      },
      "text/plain": [
       "Textarea(value='', layout=Layout(height='100px', width='100%'), placeholder='Type your answer here...')"
      ]
     },
     "metadata": {},
     "output_type": "display_data"
    },
    {
     "data": {
      "text/markdown": [
       "### Reflective Question 5"
      ],
      "text/plain": [
       "<IPython.core.display.Markdown object>"
      ]
     },
     "metadata": {},
     "output_type": "display_data"
    },
    {
     "data": {
      "text/markdown": [
       "How would you validate the soil parameters (e.g., cohesion, unit weight, friction angle) used in bearing capacity calculations?"
      ],
      "text/plain": [
       "<IPython.core.display.Markdown object>"
      ]
     },
     "metadata": {},
     "output_type": "display_data"
    },
    {
     "data": {
      "application/vnd.jupyter.widget-view+json": {
       "model_id": "c61acdbc25e2453fba7c532c35ebf29b",
       "version_major": 2,
       "version_minor": 0
      },
      "text/plain": [
       "Textarea(value='', layout=Layout(height='100px', width='100%'), placeholder='Type your answer here...')"
      ]
     },
     "metadata": {},
     "output_type": "display_data"
    },
    {
     "data": {
      "text/markdown": [
       "### Reflective Question 6"
      ],
      "text/plain": [
       "<IPython.core.display.Markdown object>"
      ]
     },
     "metadata": {},
     "output_type": "display_data"
    },
    {
     "data": {
      "text/markdown": [
       "Explain the physical meaning of each term in Terzaghi’s bearing capacity equation."
      ],
      "text/plain": [
       "<IPython.core.display.Markdown object>"
      ]
     },
     "metadata": {},
     "output_type": "display_data"
    },
    {
     "data": {
      "application/vnd.jupyter.widget-view+json": {
       "model_id": "5f40ab04bdce4ebbb92b9d3086478688",
       "version_major": 2,
       "version_minor": 0
      },
      "text/plain": [
       "Textarea(value='', layout=Layout(height='100px', width='100%'), placeholder='Type your answer here...')"
      ]
     },
     "metadata": {},
     "output_type": "display_data"
    },
    {
     "data": {
      "text/markdown": [
       "### Reflective Question 7"
      ],
      "text/plain": [
       "<IPython.core.display.Markdown object>"
      ]
     },
     "metadata": {},
     "output_type": "display_data"
    },
    {
     "data": {
      "text/markdown": [
       "What is the role of the bearing capacity factors Nc, Nq, and Nγ? How do they relate to the internal friction angle φ?"
      ],
      "text/plain": [
       "<IPython.core.display.Markdown object>"
      ]
     },
     "metadata": {},
     "output_type": "display_data"
    },
    {
     "data": {
      "application/vnd.jupyter.widget-view+json": {
       "model_id": "c8cf12b16664406fad27fc714336a3b9",
       "version_major": 2,
       "version_minor": 0
      },
      "text/plain": [
       "Textarea(value='', layout=Layout(height='100px', width='100%'), placeholder='Type your answer here...')"
      ]
     },
     "metadata": {},
     "output_type": "display_data"
    },
    {
     "data": {
      "text/markdown": [
       "### Reflective Question 8"
      ],
      "text/plain": [
       "<IPython.core.display.Markdown object>"
      ]
     },
     "metadata": {},
     "output_type": "display_data"
    },
    {
     "data": {
      "text/markdown": [
       "Why is the width of the foundation (B) included in the bearing capacity equations?"
      ],
      "text/plain": [
       "<IPython.core.display.Markdown object>"
      ]
     },
     "metadata": {},
     "output_type": "display_data"
    },
    {
     "data": {
      "application/vnd.jupyter.widget-view+json": {
       "model_id": "6e68a33394b844868194c454bd4f00c9",
       "version_major": 2,
       "version_minor": 0
      },
      "text/plain": [
       "Textarea(value='', layout=Layout(height='100px', width='100%'), placeholder='Type your answer here...')"
      ]
     },
     "metadata": {},
     "output_type": "display_data"
    },
    {
     "data": {
      "text/markdown": [
       "### Reflective Question 9"
      ],
      "text/plain": [
       "<IPython.core.display.Markdown object>"
      ]
     },
     "metadata": {},
     "output_type": "display_data"
    },
    {
     "data": {
      "text/markdown": [
       "Compare the assumptions made in Terzaghi’s method with those in Meyerhof’s and Hansen’s."
      ],
      "text/plain": [
       "<IPython.core.display.Markdown object>"
      ]
     },
     "metadata": {},
     "output_type": "display_data"
    },
    {
     "data": {
      "application/vnd.jupyter.widget-view+json": {
       "model_id": "fe1a32d3421f49ddaf4e3b534aefd330",
       "version_major": 2,
       "version_minor": 0
      },
      "text/plain": [
       "Textarea(value='', layout=Layout(height='100px', width='100%'), placeholder='Type your answer here...')"
      ]
     },
     "metadata": {},
     "output_type": "display_data"
    },
    {
     "data": {
      "text/markdown": [
       "### Reflective Question 10"
      ],
      "text/plain": [
       "<IPython.core.display.Markdown object>"
      ]
     },
     "metadata": {},
     "output_type": "display_data"
    },
    {
     "data": {
      "text/markdown": [
       "How would the presence of groundwater near the foundation level affect bearing capacity?"
      ],
      "text/plain": [
       "<IPython.core.display.Markdown object>"
      ]
     },
     "metadata": {},
     "output_type": "display_data"
    },
    {
     "data": {
      "application/vnd.jupyter.widget-view+json": {
       "model_id": "95e4b30e4c6e4fbc95fb3f4da7576fbe",
       "version_major": 2,
       "version_minor": 0
      },
      "text/plain": [
       "Textarea(value='', layout=Layout(height='100px', width='100%'), placeholder='Type your answer here...')"
      ]
     },
     "metadata": {},
     "output_type": "display_data"
    }
   ],
   "source": [
    "import ipywidgets as widgets\n",
    "from IPython.display import display, Markdown\n",
    "\n",
    "# Define reflective and conceptual questions\n",
    "questions = [\n",
    "    \"Why do different bearing capacity methods (Terzaghi, Meyerhof, Hansen) yield different results for the same soil and foundation conditions?\",\n",
    "    \"How would you decide which method to use in a real-world project?\",\n",
    "    \"What are the potential consequences of overestimating vs. underestimating bearing capacity in foundation design?\",\n",
    "    \"How does the inclusion of shape, depth, and inclination factors in Hansen’s method improve the accuracy of bearing capacity predictions?\",\n",
    "    \"How would you validate the soil parameters (e.g., cohesion, unit weight, friction angle) used in bearing capacity calculations?\",\n",
    "    \"Explain the physical meaning of each term in Terzaghi’s bearing capacity equation.\",\n",
    "    \"What is the role of the bearing capacity factors Nc, Nq, and Nγ? How do they relate to the internal friction angle φ?\",\n",
    "    \"Why is the width of the foundation (B) included in the bearing capacity equations?\",\n",
    "    \"Compare the assumptions made in Terzaghi’s method with those in Meyerhof’s and Hansen’s.\",\n",
    "    \"How would the presence of groundwater near the foundation level affect bearing capacity?\"\n",
    "]\n",
    "\n",
    "# Display each question with a text area for user input\n",
    "for i, q in enumerate(questions, 1):\n",
    "    display(Markdown(f\"### Reflective Question {i}\"))\n",
    "    display(Markdown(q))\n",
    "    display(widgets.Textarea(\n",
    "        placeholder='Type your answer here...',\n",
    "        layout=widgets.Layout(width='100%', height='100px')\n",
    "    ))\n"
   ]
  },
  {
   "cell_type": "code",
   "execution_count": null,
   "id": "07fecb6a",
   "metadata": {},
   "outputs": [],
   "source": []
  }
 ],
 "metadata": {
  "kernelspec": {
   "display_name": "Python [conda env:base] *",
   "language": "python",
   "name": "conda-base-py"
  },
  "language_info": {
   "codemirror_mode": {
    "name": "ipython",
    "version": 3
   },
   "file_extension": ".py",
   "mimetype": "text/x-python",
   "name": "python",
   "nbconvert_exporter": "python",
   "pygments_lexer": "ipython3",
   "version": "3.12.7"
  },
  "widgets": {
   "application/vnd.jupyter.widget-state+json": {
    "state": {},
    "version_major": 2,
    "version_minor": 0
   }
  }
 },
 "nbformat": 4,
 "nbformat_minor": 5
}
