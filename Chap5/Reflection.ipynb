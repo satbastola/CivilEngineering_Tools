{
 "cells": [
  {
   "cell_type": "markdown",
   "id": "8f5a3ca3-a523-4cc8-8d5e-6b4a4c913757",
   "metadata": {},
   "source": [
    "# Chapter 5 Coastal Engineering: Wave reflection from coastal structure"
   ]
  },
  {
   "cell_type": "markdown",
   "id": "540273f7-96fc-4e04-b80e-6fa31db3ee4b",
   "metadata": {},
   "source": [
    "1. [Introduction: Wave Kinematics](#1.-Introduction)\n",
    "2. [Simulation: AiryWave](#2.-Simulation)\n",
    "3. [Self-Assessment](#3.-Self-Assessment)"
   ]
  },
  {
   "cell_type": "markdown",
   "id": "44a45453-02c7-4436-b56c-bd264d331587",
   "metadata": {},
   "source": [
    "## 1. Introduction"
   ]
  },
  {
   "cell_type": "markdown",
   "id": "f2a55c8d-8e9d-4afc-8a4d-eb866f753fd9",
   "metadata": {},
   "source": [
    "### Wave Reflection from Coastal Structures\n",
    "\n",
    "Wave reflection occurs when incident waves encounter a boundary and part of the energy is redirected back toward the sea. The **reflection coefficient** \\( R \\) represents the ratio of reflected wave height to incident wave height:\n",
    "\n",
    "$$\n",
    "R = \\frac{H_r}{H_i}\n",
    "$$\n",
    "\n",
    "Where:\n",
    "- $( H_r $): Reflected wave height  \n",
    "- $( H_i $): Incident wave height\n",
    "\n",
    "Reflection characteristics depend heavily on the geometry and material of the structure.\n",
    "\n",
    "---\n",
    "\n",
    "### 1. Natural Beach (Gentle Slope)\n",
    "\n",
    "- **Slope Range:** 1:20 to 1:10  \n",
    "- **Material:** Sand or sediment  \n",
    "- **Behavior:**\n",
    "  - Waves tend to **break** and dissipate energy before reaching the shore\n",
    "  - Most energy is **absorbed** or **converted to turbulence**\n",
    "  - Reflection coefficient:  \n",
    "    $$ R \\approx 0.1 - 0.3 $$\n",
    "  - Minimal standing wave patterns\n",
    "\n",
    "---\n",
    "\n",
    "### 2. Truly Vertical Wall (e.g., Concrete Seawall)\n",
    "\n",
    "- **Slope:** Infinite (vertical)  \n",
    "- **Material:** Rigid, impermeable concrete or steel  \n",
    "- **Behavior:**\n",
    "  - Reflects nearly all wave energy  \n",
    "  - Creates strong **standing wave** fields and potential for **scour** at base  \n",
    "  - Reflection coefficient:  \n",
    "    $$ R \\approx 0.9 - 1.0 $$\n",
    "  - Can amplify wave forces and cause overtopping\n",
    "\n",
    "---\n",
    "\n",
    "### 3. Rubble Mound Structure (e.g., Breakwater or Revetment)\n",
    "\n",
    "- **Slope:** Typically 1:1.5 to 1:2  \n",
    "- **Material:** Permeable rocks or armor units  \n",
    "- **Behavior:**\n",
    "  - Significant wave **energy dissipation** through infiltration and friction  \n",
    "  - Reflection depends on permeability and roughness  \n",
    "  - Reflection coefficient:  \n",
    "    $$ R \\approx 0.3 - 0.6 $$\n",
    "  - Lower wave forces and reduced scour risk\n",
    "\n",
    "---\n",
    "\n",
    "### Additional Factors Affecting Reflection\n",
    "\n",
    "- **Wave Type:** Reflection is higher for regular waves than for irregular, breaking waves  \n",
    "- **Wave Angle:** Oblique incidence reduces reflection magnitude  \n",
    "- **Submerged Geometry:** Partially submerged structures may exhibit complex reflection and diffraction patterns\n",
    "\n",
    "---\n",
    "\n",
    "### Engineering Relevance\n",
    "\n",
    "Understanding reflection helps:\n",
    "- Design **stable coastal defenses**  \n",
    "- Prevent **scour and erosion**  \n",
    "- Minimize **harbor agitation**  \n",
    "- Improve **wave run-up prediction**\n",
    "\n",
    "---\n",
    "\n",
    "### Wave Reflection Coefficient Estimation Based on SPM\n",
    "\n",
    "### Overview\n",
    "\n",
    "The **wave reflection coefficient** \\( K_r \\) quantifies the fraction of incident wave energy reflected by a coastal structure. According to the **Shore Protection Manual (SPM)**, \\( K_r \\) depends on:\n",
    "\n",
    "- **Structure type** (vertical wall, rubble mound, natural beach)\n",
    "- **Wave breaking condition**\n",
    "- **Slope** of the structure or beach\n",
    "- **Surface roughness or smoothness**\n",
    "\n",
    "---\n",
    "\n",
    "### General Definition\n",
    "\n",
    "$$\n",
    "K_r = \\frac{H_r}{H_i}\n",
    "$$\n",
    "\n",
    "Where:\n",
    "- $( H_r $) = reflected wave height  \n",
    "- $( H_i $) = incident wave height\n",
    "\n",
    "---\n",
    "\n",
    "### 1. Vertical Wall Structures\n",
    "\n",
    "Vertical walls reflect most of the incident energy, especially under **non-breaking wave conditions**.\n",
    "\n",
    "###  Breaking Criterion\n",
    "\n",
    "$$\n",
    "H_b = \\gamma \\cdot h\n",
    "\\quad \\text{where } \\gamma \\approx 0.78\n",
    "$$\n",
    "\n",
    "If $( H \\geq H_b $), the wave is considered **breaking**.\n",
    "\n",
    "###  Reflection Coefficient Logic\n",
    "\n",
    "- **Breaking waves**:\n",
    "  $$\n",
    "  K_r = 0.5 + 0.3 \\cdot \\left( \\frac{H_b}{H} \\right)\n",
    "  \\quad \\text{(capped at 0.8)}\n",
    "  $$\n",
    "\n",
    "- **Non-breaking waves**:\n",
    "  $$\n",
    "  K_r = 0.9 + 0.1 \\cdot \\left( 1 - \\frac{H}{H_b} \\right)\n",
    "  \\quad \\text{(minimum 0.9)}\n",
    "  $$\n",
    "\n",
    "---\n",
    "\n",
    "### 2. Rubble Mound Structures\n",
    "\n",
    "Rubble mound structures reflect less energy due to their **porous and rough surfaces**.\n",
    "\n",
    "### Influencing Factors\n",
    "\n",
    "- **Smoothness**: 0 (very rough) to 1 (very smooth)  \n",
    "- **Slope**: \\( \\tan(\\beta) \\), e.g., 0.1 for 1:10\n",
    "\n",
    "### Reflection Coefficient Logic\n",
    "\n",
    "$$\n",
    "K_r = \\left( 0.3 + 0.4 \\cdot \\text{smoothness} \\right) \\cdot \\left( 1 - \\frac{\\tan(\\beta)}{0.5} \\right)\n",
    "\\quad \\text{(clipped to range 0.3–0.7)}\n",
    "$$\n",
    "\n",
    "---\n",
    "\n",
    "### 3. Natural Beaches\n",
    "\n",
    "Beaches reflect very little wave energy due to their **gentle slopes** and **natural roughness**.\n",
    "\n",
    "### 🔹 Reflection Coefficient Logic\n",
    "\n",
    "$$\n",
    "K_r = 0.05 + 0.25 \\cdot \\left( \\frac{\\text{smoothness} + \\tan(\\beta)}{2} \\right)\n",
    "\\quad \\text{(range: 0.05–0.3)}\n",
    "$$\n",
    "\n",
    "---\n",
    "\n",
    "### Summary of Typical $( K_r $) Ranges\n",
    "\n",
    "| Structure Type     | Typical \\( K_r \\) Range |\n",
    "|--------------------|--------------------------|\n",
    "| Vertical wall      | 0.5 – 1.0                |\n",
    "| Rubble mound       | 0.3 – 0.7                |\n",
    "| Sand beach         | 0.05 – 0.3               |\n",
    "\n",
    "---\n",
    "\n",
    "### References\n",
    "\n",
    "- U.S. Army Corps of Engineers (1984). *Shore Protection Manual*  \n",
    "- U.S. Army Corps of Engineers (2002). *Coastal Engineering Manual*  \n"
   ]
  },
  {
   "cell_type": "markdown",
   "id": "5a1d1d27-1488-4349-94ed-fde381c26699",
   "metadata": {},
   "source": [
    "## 2. Simulation"
   ]
  },
  {
   "cell_type": "code",
   "execution_count": 1,
   "id": "380e3acd-20ef-45a3-90d7-64dc3b4f23fc",
   "metadata": {},
   "outputs": [
    {
     "data": {
      "application/vnd.jupyter.widget-view+json": {
       "model_id": "2b8edb0ccf8d4184b90b5aa219ba696d",
       "version_major": 2,
       "version_minor": 0
      },
      "text/plain": [
       "interactive(children=(FloatSlider(value=2.0, description='Wave Height (m)', max=5.0, min=0.5), FloatSlider(val…"
      ]
     },
     "metadata": {},
     "output_type": "display_data"
    }
   ],
   "source": [
    "# 📌 Run this cell in a Jupyter Notebook\n",
    "import numpy as np\n",
    "import ipywidgets as widgets\n",
    "from IPython.display import display, clear_output\n",
    "\n",
    "# 📐 Reflection coefficient function\n",
    "def reflection_coefficient(H, h, structure_type, slope=0.0, smoothness=1.0):\n",
    "    \"\"\"\n",
    "    Estimate wave reflection coefficient based on structure type, slope, smoothness, and wave breaking.\n",
    "    \n",
    "    Parameters:\n",
    "    - H: wave height (m)\n",
    "    - h: water depth at structure toe (m)\n",
    "    - structure_type: 'vertical', 'rubble', 'beach'\n",
    "    - slope: tan(beta), e.g., 0.1 for 1:10\n",
    "    - smoothness: 0 (very rough) to 1 (very smooth)\n",
    "    \n",
    "    Returns:\n",
    "    - Kr: estimated reflection coefficient\n",
    "    - breaking: True if wave is breaking\n",
    "    \"\"\"\n",
    "    gamma = 0.78  # breaking index\n",
    "    Hb = gamma * h\n",
    "    breaking = H >= Hb\n",
    "    smoothness = np.clip(smoothness, 0, 1)\n",
    "\n",
    "    if structure_type == 'vertical':\n",
    "        if breaking:\n",
    "            Kr = 0.5 + 0.3 * (Hb / H)  # 0.5–0.8\n",
    "            Kr = min(Kr, 0.8)\n",
    "        else:\n",
    "            Kr = 0.9 + 0.1 * (1 - H / Hb)  # 0.9–1.0\n",
    "            Kr = max(Kr, 0.9)\n",
    "\n",
    "    elif structure_type == 'rubble':\n",
    "        base_Kr = 0.3 + 0.4 * smoothness  # 0.3–0.7\n",
    "        slope_factor = np.clip(1 - slope / 0.5, 0.5, 1.0)\n",
    "        Kr = base_Kr * slope_factor\n",
    "\n",
    "    elif structure_type == 'beach':\n",
    "        Kr = 0.05 + 0.25 * (smoothness + slope) / 2  # 0.05–0.3\n",
    "\n",
    "    else:\n",
    "        raise ValueError(\"Structure type must be 'vertical', 'rubble', or 'beach'.\")\n",
    "\n",
    "    return round(Kr, 3), breaking\n",
    "\n",
    "# 🎛️ Interactive function\n",
    "def update_reflection(H, h, structure_type, slope, smoothness):\n",
    "    clear_output(wait=True)\n",
    "    Kr, breaking = reflection_coefficient(H, h, structure_type, slope, smoothness)\n",
    "    status = \"🌊 Breaking\" if breaking else \"🌊 Non-breaking\"\n",
    "    print(f\"Structure Type: {structure_type.capitalize()}\")\n",
    "    print(f\"Wave Height H = {H:.2f} m\")\n",
    "    print(f\"Water Depth h = {h:.2f} m\")\n",
    "    print(f\"Slope tan(β) = {slope:.3f}\")\n",
    "    print(f\"Smoothness = {smoothness:.2f}\")\n",
    "    print(f\"Wave Condition: {status}\")\n",
    "    print(f\"Estimated Reflection Coefficient K_r = {Kr}\")\n",
    "\n",
    "# 🎚️ Widgets\n",
    "H_slider = widgets.FloatSlider(value=2.0, min=0.5, max=5.0, step=0.1, description='Wave Height (m)')\n",
    "h_slider = widgets.FloatSlider(value=2.5, min=0.5, max=5.0, step=0.1, description='Water Depth (m)')\n",
    "structure_dropdown = widgets.Dropdown(options=['vertical', 'rubble', 'beach'], value='vertical', description='Structure')\n",
    "slope_slider = widgets.FloatSlider(value=0.05, min=0.001, max=0.5, step=0.01, description='Slope tan(β)')\n",
    "smoothness_slider = widgets.FloatSlider(value=1.0, min=0.0, max=1.0, step=0.05, description='Smoothness')\n",
    "\n",
    "# 🔄 Display interactive controls\n",
    "interactive_plot = widgets.interactive(\n",
    "    update_reflection,\n",
    "    H=H_slider,\n",
    "    h=h_slider,\n",
    "    structure_type=structure_dropdown,\n",
    "    slope=slope_slider,\n",
    "    smoothness=smoothness_slider\n",
    ")\n",
    "\n",
    "display(interactive_plot)"
   ]
  },
  {
   "cell_type": "markdown",
   "id": "05cd5487-c665-40e0-aaa6-6d5601420eab",
   "metadata": {},
   "source": [
    "### Simulation: MIche-SPM reflection"
   ]
  },
  {
   "cell_type": "code",
   "execution_count": 2,
   "id": "f317dce0-c893-4385-81fd-4c87f3fe7f4f",
   "metadata": {},
   "outputs": [
    {
     "data": {
      "application/vnd.jupyter.widget-view+json": {
       "model_id": "189c4267d9a142dc9a4efa99d71ece1b",
       "version_major": 2,
       "version_minor": 0
      },
      "text/plain": [
       "interactive(children=(FloatSlider(value=2.0, description='Wave Height (m)', max=5.0, min=0.5), FloatSlider(val…"
      ]
     },
     "metadata": {},
     "output_type": "display_data"
    }
   ],
   "source": [
    "# 📌 Run this cell in a Jupyter Notebook\n",
    "import numpy as np\n",
    "import ipywidgets as widgets\n",
    "from IPython.display import display, clear_output\n",
    "\n",
    "# 📐 Miche-SPM Reflection Coefficient Estimator\n",
    "def reflection_coefficient_miche(H, h, T, structure_type, slope=0.0, smoothness=1.0):\n",
    "    \"\"\"\n",
    "    Estimate wave reflection coefficient using Miche-SPM method.\n",
    "\n",
    "    Parameters:\n",
    "    - H: wave height (m)\n",
    "    - h: water depth at structure toe (m)\n",
    "    - T: wave period (s)\n",
    "    - structure_type: one of:\n",
    "        'smooth_concrete', 'grass_clay', 'beach_slope',\n",
    "        'rough_permeable_slope', 'stepped_slope'\n",
    "    - slope: tan(beta), e.g., 0.1 for 1:10\n",
    "    - smoothness: 0 (very rough) to 1 (very smooth)\n",
    "\n",
    "    Returns:\n",
    "    - Kr: estimated reflection coefficient\n",
    "    - breaking: True if wave is breaking\n",
    "    \"\"\"\n",
    "\n",
    "    # --- Surface Feature Factor X1 ---\n",
    "    if structure_type == 'smooth_concrete':\n",
    "        X1 = 0.95 + 0.05 * smoothness  # 0.9–1.0\n",
    "    elif structure_type == 'grass_clay':\n",
    "        X1 = 0.9\n",
    "    elif structure_type == 'beach_slope':\n",
    "        X1 = 0.8 + 0.1 * smoothness  # 0.8–0.9\n",
    "    elif structure_type == 'rough_permeable_slope':\n",
    "        X1 = 0.3  # very rough, porous armor\n",
    "    elif structure_type == 'stepped_slope':\n",
    "        X1 = 0.0 + 0.8 * (1 - smoothness)  # 0–0.8 depending on step roughness\n",
    "    else:\n",
    "        raise ValueError(\"Invalid structure type.\")\n",
    "\n",
    "    # --- Wave Breaking Check ---\n",
    "    gamma = 0.78  # breaking index\n",
    "    Hb = gamma * h\n",
    "    breaking = H >= Hb\n",
    "\n",
    "    # --- Wave Steepness Factor X2 ---\n",
    "    g = 9.81\n",
    "    L0 = g * T**2 / (2 * np.pi)  # deepwater wavelength\n",
    "    S_actual = H / L0\n",
    "    S_max = 0.055  # typical max steepness for deepwater waves\n",
    "\n",
    "    if breaking:\n",
    "        X2 = max(0.1, S_actual / S_max)\n",
    "        X2 = min(X2, 1.0)\n",
    "    else:\n",
    "        X2 = 1.0\n",
    "\n",
    "    # --- Final Reflection Coefficient ---\n",
    "    Kr = round(X1 * X2, 3)\n",
    "    return Kr, breaking\n",
    "\n",
    "# 🎛️ Interactive function\n",
    "def update_reflection(H, h, T, structure_type, slope, smoothness):\n",
    "    clear_output(wait=True)\n",
    "    Kr, breaking = reflection_coefficient_miche(H, h, T, structure_type, slope, smoothness)\n",
    "    status = \"🌊 Breaking\" if breaking else \"🌊 Non-breaking\"\n",
    "    print(f\"Structure Type: {structure_type.replace('_', ' ').title()}\")\n",
    "    print(f\"Wave Height H = {H:.2f} m\")\n",
    "    print(f\"Water Depth h = {h:.2f} m\")\n",
    "    print(f\"Wave Period T = {T:.2f} s\")\n",
    "    print(f\"Slope tan(β) = {slope:.3f}\")\n",
    "    print(f\"Smoothness = {smoothness:.2f}\")\n",
    "    print(f\"Wave Condition: {status}\")\n",
    "    print(f\"Estimated Reflection Coefficient K_r = {Kr}\")\n",
    "\n",
    "# 🎚️ Widgets\n",
    "H_slider = widgets.FloatSlider(value=2.0, min=0.5, max=5.0, step=0.1, description='Wave Height (m)')\n",
    "h_slider = widgets.FloatSlider(value=2.5, min=0.5, max=5.0, step=0.1, description='Water Depth (m)')\n",
    "T_slider = widgets.FloatSlider(value=8.0, min=4.0, max=12.0, step=0.5, description='Wave Period (s)')\n",
    "structure_dropdown = widgets.Dropdown(\n",
    "    options=[\n",
    "        'smooth_concrete',\n",
    "        'grass_clay',\n",
    "        'beach_slope',\n",
    "        'rough_permeable_slope',\n",
    "        'stepped_slope'\n",
    "    ],\n",
    "    value='smooth_concrete',\n",
    "    description='Structure Type'\n",
    ")\n",
    "slope_slider = widgets.FloatSlider(value=0.05, min=0.001, max=0.5, step=0.01, description='Slope tan(β)')\n",
    "smoothness_slider = widgets.FloatSlider(value=1.0, min=0.0, max=1.0, step=0.05, description='Smoothness')\n",
    "\n",
    "# 🔄 Display interactive controls\n",
    "interactive_plot = widgets.interactive(\n",
    "    update_reflection,\n",
    "    H=H_slider,\n",
    "    h=h_slider,\n",
    "    T=T_slider,\n",
    "    structure_type=structure_dropdown,\n",
    "    slope=slope_slider,\n",
    "    smoothness=smoothness_slider\n",
    ")\n",
    "\n",
    "display(interactive_plot)"
   ]
  },
  {
   "cell_type": "markdown",
   "id": "988b6574-0228-4904-a404-f7680ef11df7",
   "metadata": {},
   "source": [
    "## 3. Self-Assessment"
   ]
  },
  {
   "cell_type": "markdown",
   "id": "1da52b88-57dd-40ab-800e-60b2e0e0b76a",
   "metadata": {},
   "source": [
    "\n",
    "### 📘 Conceptual Questions\n",
    "\n",
    "1. **What does the reflection coefficient \\( R \\) represent in wave mechanics?**\n",
    "   - A. Ratio of incident wave height to reflected wave height  \n",
    "   - B. Ratio of reflected wave height to incident wave height ✅  \n",
    "   - C. Ratio of transmitted wave height to incident wave height  \n",
    "   - D. Ratio of wave energy to wave speed  \n",
    "\n",
    "2. **Which type of structure typically has the highest reflection coefficient?**\n",
    "   - A. Natural beach  \n",
    "   - B. Rubble mound breakwater  \n",
    "   - C. Vertical seawall ✅  \n",
    "   - D. Submerged reef  \n",
    "\n",
    "3. **Why do natural beaches have lower reflection coefficients than vertical walls?**\n",
    "   - A. They are impermeable  \n",
    "   - B. They dissipate wave energy through breaking and turbulence ✅  \n",
    "   - C. They amplify wave energy  \n",
    "   - D. They reflect all wave energy  \n",
    "\n",
    "4. **What is the primary mechanism that reduces reflection on a rubble mound structure?**\n",
    "   - A. Wave breaking  \n",
    "   - B. Energy dissipation through infiltration and friction ✅  \n",
    "   - C. Wave diffraction  \n",
    "   - D. Wave amplification  \n",
    "\n",
    "5. **How does increasing slope steepness affect reflection coefficient?**\n",
    "   - A. It increases ✅  \n",
    "   - B. It decreases  \n",
    "   - C. No change  \n",
    "   - D. It becomes zero  \n",
    "\n",
    "---\n",
    "\n",
    "### Calculation Questions\n",
    "\n",
    "6. **If the incident wave height is 2 meters and the reflected wave height is 1 meter, what is the reflection coefficient?**\n",
    "   - ✅ Answer:  \n",
    "     $$ R = \\frac{H_r}{H_i} = \\frac{1}{2} = 0.5 $$\n",
    "\n",
    "7. **If the reflection coefficient is 0.6 and incident wave height is 3 meters, what is the reflected wave height?**\n",
    "   - ✅ Answer:  \n",
    "     $$ H_r = R \\times H_i = 0.6 \\times 3 = 1.8 \\text{ meters} $$\n",
    "\n",
    "8. **A vertical wall reflects nearly all wave energy. What reflection coefficient is expected?**\n",
    "   - ✅ Answer:  \n",
    "     $$ R \\approx 1.0 $$\n",
    "\n",
    "9. **A rubble mound with slope 1:2 has \\( R = 0.4 \\). What happens if slope steepens to 1:1.5?**\n",
    "   - ✅ Answer:  \n",
    "     Reflection increases — steeper slopes reflect more energy.\n",
    "\n",
    "10. **What percentage of wave energy is reflected if \\( R = 0.8 \\)?**\n",
    "   - ✅ Answer:  \n",
    "     80% wave height reflected. Energy scales with square of amplitude, but height ratio is 0.8.\n",
    "\n",
    "---\n",
    "\n",
    "### Bonus True/False\n",
    "\n",
    "11. **Reflection coefficient is always constant for a given structure.** ❌ False  \n",
    "12. **Standing waves are often formed in front of vertical seawalls.** ✅ True  \n",
    "13. **Rubble mound structures generally have higher reflection than natural beaches.** ✅ True  \n",
    "14. **Increasing surface roughness on rubble mound structures decreases \\( R \\).** ✅ True  \n",
    "15. **Submerged reefs tend to amplify wave reflection.** ❌ False\n",
    "\n",
    "### Quiz: Wave Reflection Coefficient Estimation (Miche-SPM Method)\n",
    "\n",
    "Test your understanding of how surface features, wave conditions, and geometry affect wave reflection using the Miche-SPM method.\n",
    "\n",
    "---\n",
    "\n",
    "### 1. Which structure type typically has the **highest reflection coefficient** under non-breaking wave conditions?\n",
    "\n",
    "- A) Rough permeable slope  \n",
    "- B) Stepped slope  \n",
    "- C) Smooth concrete  \n",
    "- D) Beach slope  \n",
    "<details>\n",
    "  <summary>✅ Show Answer</summary>\n",
    "  **Answer: C — Smooth concrete**  \n",
    "  Smooth concrete surfaces have high X₁ values (0.95–1.0), leading to high reflection under non-breaking conditions.\n",
    "</details>\n",
    "\n",
    "---\n",
    "\n",
    "### 2. What is the **breaking wave height** \\( H_b \\) estimated as in this model?\n",
    "\n",
    "- A) \\( H_b = 0.55 \\cdot h \\)  \n",
    "- B) \\( H_b = 0.78 \\cdot h \\)  \n",
    "- C) \\( H_b = h \\)  \n",
    "- D) \\( H_b = 1.2 \\cdot h \\)  \n",
    "<details>\n",
    "  <summary>✅ Show Answer</summary>\n",
    "  **Answer: B — \\( H_b = 0.78 \\cdot h \\)**  \n",
    "  This is based on the breaking index \\( \\gamma = 0.78 \\), a standard value from coastal engineering literature.\n",
    "</details>\n",
    "\n",
    "---\n",
    "\n",
    "### 3. Which factor reduces the reflection coefficient **when waves are breaking**?\n",
    "\n",
    "- A) Increase in slope  \n",
    "- B) Increase in smoothness  \n",
    "- C) Ratio of actual to maximum wave steepness  \n",
    "- D) Surface roughness only  \n",
    "<details>\n",
    "  <summary>✅ Show Answer</summary>\n",
    "  **Answer: C — Ratio of actual to maximum wave steepness**  \n",
    "  The wave-related factor \\( X_2 \\) is reduced when waves are breaking, based on this steepness ratio.\n",
    "</details>\n",
    "\n",
    "---\n",
    "\n",
    "### 4. What is the typical range of the **surface feature factor \\( X_1 \\)** for a **stepped slope**?\n",
    "\n",
    "- A) 0.9–1.0  \n",
    "- B) 0.8–0.9  \n",
    "- C) 0.0–0.8  \n",
    "- D) 0.3–0.5  \n",
    "<details>\n",
    "  <summary>✅ Show Answer</summary>\n",
    "  **Answer: C — 0.0–0.8**  \n",
    "  Stepped slopes vary widely depending on geometry and roughness, modeled as \\( X_1 = 0.8 \\cdot (1 - \\text{smoothness}) \\).\n",
    "</details>\n",
    "\n",
    "---\n",
    "\n",
    "### 5. Which combination is most likely to produce a **low reflection coefficient**?\n",
    "\n",
    "- A) Smooth concrete + non-breaking wave  \n",
    "- B) Rough permeable slope + breaking wave  \n",
    "- C) Grass on clay + non-breaking wave  \n",
    "- D) Beach slope + smooth surface  \n",
    "<details>\n",
    "  <summary>✅ Show Answer</summary>\n",
    "  **Answer: B — Rough permeable slope + breaking wave**  \n",
    "  This combination minimizes both \\( X_1 \\) and \\( X_2 \\), resulting in low reflection.\n",
    "</details>\n",
    "\n",
    "---\n",
    "\n",
    "### Bonus Conceptual Question\n",
    "\n",
    "**Why does wave breaking reduce the reflection coefficient in the Miche-SPM method?**\n",
    "\n",
    "<details>\n",
    "  <summary>✅ Show Answer</summary>\n",
    "  **Answer:**  \n",
    "  Breaking waves dissipate energy through turbulence and air entrainment, reducing the amount of energy reflected. The Miche-SPM method accounts for this by lowering the wave-related factor \\( X_2 \\) when the actual wave steepness exceeds the breaking threshold.\n",
    "</details>\n"
   ]
  },
  {
   "cell_type": "code",
   "execution_count": null,
   "id": "cd2e9bda-b170-4ba9-973d-b55f7fda0e6a",
   "metadata": {},
   "outputs": [],
   "source": []
  }
 ],
 "metadata": {
  "kernelspec": {
   "display_name": "Python [conda env:base] *",
   "language": "python",
   "name": "conda-base-py"
  },
  "language_info": {
   "codemirror_mode": {
    "name": "ipython",
    "version": 3
   },
   "file_extension": ".py",
   "mimetype": "text/x-python",
   "name": "python",
   "nbconvert_exporter": "python",
   "pygments_lexer": "ipython3",
   "version": "3.12.7"
  },
  "widgets": {
   "application/vnd.jupyter.widget-state+json": {
    "state": {
     "0b5c8f0a148641ccad369485693f66ba": {
      "model_module": "@jupyter-widgets/base",
      "model_module_version": "2.0.0",
      "model_name": "LayoutModel",
      "state": {}
     },
     "1142608146e1411ca00d849fe124ce5a": {
      "model_module": "@jupyter-widgets/output",
      "model_module_version": "1.0.0",
      "model_name": "OutputModel",
      "state": {
       "layout": "IPY_MODEL_53a563c7f99b43ea82e5972bcd6ad3df",
       "outputs": [
        {
         "name": "stdout",
         "output_type": "stream",
         "text": "Structure Type: Vertical\nWave Height H = 2.00 m\nWater Depth h = 2.50 m\nSlope tan(β) = 0.051\nSmoothness = 1.00\nWave Condition: 🌊 Breaking\nEstimated Reflection Coefficient K_r = 0.792\n"
        }
       ]
      }
     },
     "181b325fb8ae454a932eeb486e77e0af": {
      "model_module": "@jupyter-widgets/controls",
      "model_module_version": "2.0.0",
      "model_name": "DescriptionStyleModel",
      "state": {
       "description_width": ""
      }
     },
     "189c4267d9a142dc9a4efa99d71ece1b": {
      "model_module": "@jupyter-widgets/controls",
      "model_module_version": "2.0.0",
      "model_name": "VBoxModel",
      "state": {
       "_dom_classes": [
        "widget-interact"
       ],
       "children": [
        "IPY_MODEL_1f40b58d43ee4ff2b0b81bec77732e46",
        "IPY_MODEL_f004ecd14e9d476a8d40af76a1af5625",
        "IPY_MODEL_dd6863334a644054ad274fbdfa41687b",
        "IPY_MODEL_e2238cca7bb14adf88ea6792899ad3bc",
        "IPY_MODEL_e9095151ea6744f888c4d03959ae4d6d",
        "IPY_MODEL_4d1acdac82e64bf48b7037fac0f0f61a",
        "IPY_MODEL_444a8cb341914f09b0c47503c21163f0"
       ],
       "layout": "IPY_MODEL_5539583c797e49548293a74b3f00d89d"
      }
     },
     "1f40b58d43ee4ff2b0b81bec77732e46": {
      "model_module": "@jupyter-widgets/controls",
      "model_module_version": "2.0.0",
      "model_name": "FloatSliderModel",
      "state": {
       "behavior": "drag-tap",
       "description": "Wave Height (m)",
       "layout": "IPY_MODEL_6dde8af77dc44000aa22c73f9081864c",
       "max": 5,
       "min": 0.5,
       "step": 0.1,
       "style": "IPY_MODEL_c6b89d9d7b1a487ca2d52139eabe0983",
       "value": 2
      }
     },
     "238792cff36c41cda66e7f5b0a9bea2d": {
      "model_module": "@jupyter-widgets/base",
      "model_module_version": "2.0.0",
      "model_name": "LayoutModel",
      "state": {}
     },
     "2a06d13a31db4f0b8406bc0009634d52": {
      "model_module": "@jupyter-widgets/controls",
      "model_module_version": "2.0.0",
      "model_name": "SliderStyleModel",
      "state": {
       "description_width": ""
      }
     },
     "2b8edb0ccf8d4184b90b5aa219ba696d": {
      "model_module": "@jupyter-widgets/controls",
      "model_module_version": "2.0.0",
      "model_name": "VBoxModel",
      "state": {
       "_dom_classes": [
        "widget-interact"
       ],
       "children": [
        "IPY_MODEL_b0397c8af0cd441ab34ff0d1fc489014",
        "IPY_MODEL_6c693e9ce4e140fea6e1d121b3588297",
        "IPY_MODEL_e38ae48457d2409bb4e48a59277a0aa8",
        "IPY_MODEL_691f8c54d7e54035b82534d1542a0d29",
        "IPY_MODEL_cca57dc0835542fdaa35e6551eaed385",
        "IPY_MODEL_1142608146e1411ca00d849fe124ce5a"
       ],
       "layout": "IPY_MODEL_0b5c8f0a148641ccad369485693f66ba"
      }
     },
     "36bc5a7f282448b7bd5ab28c5751146d": {
      "model_module": "@jupyter-widgets/controls",
      "model_module_version": "2.0.0",
      "model_name": "SliderStyleModel",
      "state": {
       "description_width": ""
      }
     },
     "36d1ff2bd43f452c8c37962ed7edc83a": {
      "model_module": "@jupyter-widgets/base",
      "model_module_version": "2.0.0",
      "model_name": "LayoutModel",
      "state": {}
     },
     "3ed1ec6a03e6414780b22dbe2cab5f6f": {
      "model_module": "@jupyter-widgets/controls",
      "model_module_version": "2.0.0",
      "model_name": "SliderStyleModel",
      "state": {
       "description_width": ""
      }
     },
     "444a8cb341914f09b0c47503c21163f0": {
      "model_module": "@jupyter-widgets/output",
      "model_module_version": "1.0.0",
      "model_name": "OutputModel",
      "state": {
       "layout": "IPY_MODEL_5d510e8b9b6942788d81bc5026f0e04f",
       "outputs": [
        {
         "name": "stdout",
         "output_type": "stream",
         "text": "Structure Type: Smooth Concrete\nWave Height H = 2.00 m\nWater Depth h = 2.50 m\nWave Period T = 8.00 s\nSlope tan(β) = 0.051\nSmoothness = 1.00\nWave Condition: 🌊 Breaking\nEstimated Reflection Coefficient K_r = 0.364\n"
        }
       ]
      }
     },
     "45ec73d265014c449e036fa07bde8308": {
      "model_module": "@jupyter-widgets/controls",
      "model_module_version": "2.0.0",
      "model_name": "SliderStyleModel",
      "state": {
       "description_width": ""
      }
     },
     "4d1acdac82e64bf48b7037fac0f0f61a": {
      "model_module": "@jupyter-widgets/controls",
      "model_module_version": "2.0.0",
      "model_name": "FloatSliderModel",
      "state": {
       "behavior": "drag-tap",
       "description": "Smoothness",
       "layout": "IPY_MODEL_eeac25364cd24e7696e96e9bcc67b613",
       "max": 1,
       "step": 0.05,
       "style": "IPY_MODEL_f9c1939f66d547d1a5bc521d24532fc0",
       "value": 1
      }
     },
     "53a563c7f99b43ea82e5972bcd6ad3df": {
      "model_module": "@jupyter-widgets/base",
      "model_module_version": "2.0.0",
      "model_name": "LayoutModel",
      "state": {}
     },
     "5539583c797e49548293a74b3f00d89d": {
      "model_module": "@jupyter-widgets/base",
      "model_module_version": "2.0.0",
      "model_name": "LayoutModel",
      "state": {}
     },
     "5d510e8b9b6942788d81bc5026f0e04f": {
      "model_module": "@jupyter-widgets/base",
      "model_module_version": "2.0.0",
      "model_name": "LayoutModel",
      "state": {}
     },
     "691f8c54d7e54035b82534d1542a0d29": {
      "model_module": "@jupyter-widgets/controls",
      "model_module_version": "2.0.0",
      "model_name": "FloatSliderModel",
      "state": {
       "behavior": "drag-tap",
       "description": "Slope tan(β)",
       "layout": "IPY_MODEL_aeb99a3108a54ef98e2f72d9fd8646eb",
       "max": 0.5,
       "min": 0.001,
       "step": 0.01,
       "style": "IPY_MODEL_f234e23557b8492bbd4260a386f2300f",
       "value": 0.05099999999999999
      }
     },
     "6c693e9ce4e140fea6e1d121b3588297": {
      "model_module": "@jupyter-widgets/controls",
      "model_module_version": "2.0.0",
      "model_name": "FloatSliderModel",
      "state": {
       "behavior": "drag-tap",
       "description": "Water Depth (m)",
       "layout": "IPY_MODEL_238792cff36c41cda66e7f5b0a9bea2d",
       "max": 5,
       "min": 0.5,
       "step": 0.1,
       "style": "IPY_MODEL_d18a74f29e32406e8420742d0ab838fa",
       "value": 2.5
      }
     },
     "6dde8af77dc44000aa22c73f9081864c": {
      "model_module": "@jupyter-widgets/base",
      "model_module_version": "2.0.0",
      "model_name": "LayoutModel",
      "state": {}
     },
     "79f723caf89344d5b6157d87d3451e3e": {
      "model_module": "@jupyter-widgets/base",
      "model_module_version": "2.0.0",
      "model_name": "LayoutModel",
      "state": {}
     },
     "8238db9cb59646fcb3eff15d770e5794": {
      "model_module": "@jupyter-widgets/base",
      "model_module_version": "2.0.0",
      "model_name": "LayoutModel",
      "state": {}
     },
     "8c4b9142911c4bdbb52e92cc9552c7f4": {
      "model_module": "@jupyter-widgets/base",
      "model_module_version": "2.0.0",
      "model_name": "LayoutModel",
      "state": {}
     },
     "9a573c75db6a4d0faf6f7a9b57837105": {
      "model_module": "@jupyter-widgets/base",
      "model_module_version": "2.0.0",
      "model_name": "LayoutModel",
      "state": {}
     },
     "9aa82b22d6e54eb29a1db45df09783d6": {
      "model_module": "@jupyter-widgets/base",
      "model_module_version": "2.0.0",
      "model_name": "LayoutModel",
      "state": {}
     },
     "aeb99a3108a54ef98e2f72d9fd8646eb": {
      "model_module": "@jupyter-widgets/base",
      "model_module_version": "2.0.0",
      "model_name": "LayoutModel",
      "state": {}
     },
     "b0397c8af0cd441ab34ff0d1fc489014": {
      "model_module": "@jupyter-widgets/controls",
      "model_module_version": "2.0.0",
      "model_name": "FloatSliderModel",
      "state": {
       "behavior": "drag-tap",
       "description": "Wave Height (m)",
       "layout": "IPY_MODEL_79f723caf89344d5b6157d87d3451e3e",
       "max": 5,
       "min": 0.5,
       "step": 0.1,
       "style": "IPY_MODEL_45ec73d265014c449e036fa07bde8308",
       "value": 2
      }
     },
     "c57058bbd57b40219f606a3697ad4063": {
      "model_module": "@jupyter-widgets/base",
      "model_module_version": "2.0.0",
      "model_name": "LayoutModel",
      "state": {}
     },
     "c6b89d9d7b1a487ca2d52139eabe0983": {
      "model_module": "@jupyter-widgets/controls",
      "model_module_version": "2.0.0",
      "model_name": "SliderStyleModel",
      "state": {
       "description_width": ""
      }
     },
     "cc852d3577c34b1a82c5443c8b7e03b1": {
      "model_module": "@jupyter-widgets/controls",
      "model_module_version": "2.0.0",
      "model_name": "SliderStyleModel",
      "state": {
       "description_width": ""
      }
     },
     "cca57dc0835542fdaa35e6551eaed385": {
      "model_module": "@jupyter-widgets/controls",
      "model_module_version": "2.0.0",
      "model_name": "FloatSliderModel",
      "state": {
       "behavior": "drag-tap",
       "description": "Smoothness",
       "layout": "IPY_MODEL_c57058bbd57b40219f606a3697ad4063",
       "max": 1,
       "step": 0.05,
       "style": "IPY_MODEL_3ed1ec6a03e6414780b22dbe2cab5f6f",
       "value": 1
      }
     },
     "d18a74f29e32406e8420742d0ab838fa": {
      "model_module": "@jupyter-widgets/controls",
      "model_module_version": "2.0.0",
      "model_name": "SliderStyleModel",
      "state": {
       "description_width": ""
      }
     },
     "dd6863334a644054ad274fbdfa41687b": {
      "model_module": "@jupyter-widgets/controls",
      "model_module_version": "2.0.0",
      "model_name": "FloatSliderModel",
      "state": {
       "behavior": "drag-tap",
       "description": "Wave Period (s)",
       "layout": "IPY_MODEL_36d1ff2bd43f452c8c37962ed7edc83a",
       "max": 12,
       "min": 4,
       "step": 0.5,
       "style": "IPY_MODEL_36bc5a7f282448b7bd5ab28c5751146d",
       "value": 8
      }
     },
     "e2238cca7bb14adf88ea6792899ad3bc": {
      "model_module": "@jupyter-widgets/controls",
      "model_module_version": "2.0.0",
      "model_name": "DropdownModel",
      "state": {
       "_options_labels": [
        "smooth_concrete",
        "grass_clay",
        "beach_slope",
        "rough_permeable_slope",
        "stepped_slope"
       ],
       "description": "Structure Type",
       "index": 0,
       "layout": "IPY_MODEL_8238db9cb59646fcb3eff15d770e5794",
       "style": "IPY_MODEL_ec53a9e4c7114b0b8ae012060f6572ae"
      }
     },
     "e38ae48457d2409bb4e48a59277a0aa8": {
      "model_module": "@jupyter-widgets/controls",
      "model_module_version": "2.0.0",
      "model_name": "DropdownModel",
      "state": {
       "_options_labels": [
        "vertical",
        "rubble",
        "beach"
       ],
       "description": "Structure",
       "index": 0,
       "layout": "IPY_MODEL_9aa82b22d6e54eb29a1db45df09783d6",
       "style": "IPY_MODEL_181b325fb8ae454a932eeb486e77e0af"
      }
     },
     "e9095151ea6744f888c4d03959ae4d6d": {
      "model_module": "@jupyter-widgets/controls",
      "model_module_version": "2.0.0",
      "model_name": "FloatSliderModel",
      "state": {
       "behavior": "drag-tap",
       "description": "Slope tan(β)",
       "layout": "IPY_MODEL_8c4b9142911c4bdbb52e92cc9552c7f4",
       "max": 0.5,
       "min": 0.001,
       "step": 0.01,
       "style": "IPY_MODEL_2a06d13a31db4f0b8406bc0009634d52",
       "value": 0.05099999999999999
      }
     },
     "ec53a9e4c7114b0b8ae012060f6572ae": {
      "model_module": "@jupyter-widgets/controls",
      "model_module_version": "2.0.0",
      "model_name": "DescriptionStyleModel",
      "state": {
       "description_width": ""
      }
     },
     "eeac25364cd24e7696e96e9bcc67b613": {
      "model_module": "@jupyter-widgets/base",
      "model_module_version": "2.0.0",
      "model_name": "LayoutModel",
      "state": {}
     },
     "f004ecd14e9d476a8d40af76a1af5625": {
      "model_module": "@jupyter-widgets/controls",
      "model_module_version": "2.0.0",
      "model_name": "FloatSliderModel",
      "state": {
       "behavior": "drag-tap",
       "description": "Water Depth (m)",
       "layout": "IPY_MODEL_9a573c75db6a4d0faf6f7a9b57837105",
       "max": 5,
       "min": 0.5,
       "step": 0.1,
       "style": "IPY_MODEL_cc852d3577c34b1a82c5443c8b7e03b1",
       "value": 2.5
      }
     },
     "f234e23557b8492bbd4260a386f2300f": {
      "model_module": "@jupyter-widgets/controls",
      "model_module_version": "2.0.0",
      "model_name": "SliderStyleModel",
      "state": {
       "description_width": ""
      }
     },
     "f9c1939f66d547d1a5bc521d24532fc0": {
      "model_module": "@jupyter-widgets/controls",
      "model_module_version": "2.0.0",
      "model_name": "SliderStyleModel",
      "state": {
       "description_width": ""
      }
     }
    },
    "version_major": 2,
    "version_minor": 0
   }
  }
 },
 "nbformat": 4,
 "nbformat_minor": 5
}
