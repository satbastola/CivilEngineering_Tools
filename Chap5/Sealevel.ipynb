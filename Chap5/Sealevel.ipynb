{
 "cells": [
  {
   "cell_type": "markdown",
   "id": "887e1f34-00e0-4112-8ae7-8afea2806651",
   "metadata": {},
   "source": [
    "# Chapter 5 Coastal Engineering: Sea Level Change"
   ]
  },
  {
   "cell_type": "markdown",
   "id": "1e078d8e-66ea-4cf1-ae51-13a64e803763",
   "metadata": {},
   "source": [
    "1. [Introduction: Sea Level Change](#1.-Introduction)\n",
    "2. [Simulation: Sea Level Change](#2.-Simulation)\n",
    "3. [Self-Assessment](#3.-Self-Assessment)"
   ]
  },
  {
   "cell_type": "markdown",
   "id": "fd32eac7-8a17-4e09-86d7-1c64b9fef07b",
   "metadata": {},
   "source": [
    "## 1. Introduction"
   ]
  },
  {
   "cell_type": "markdown",
   "id": "47ed956f-8163-479b-b95c-1a64929d9dde",
   "metadata": {},
   "source": [
    "### 🌊 Sea Level Rise: Definition, Data, Methods, and U.S. Coastal Impacts\n",
    "\n",
    "---\n",
    "\n",
    "### 📌 What Is Sea Level Rise?\n",
    "\n",
    "**Sea level rise** refers to the long-term increase in the average height of the ocean’s surface, primarily driven by:\n",
    "- 🌡️ **Thermal expansion**: Warmer water expands\n",
    "- 🧊 **Melting glaciers and ice sheets**: Adds freshwater to oceans\n",
    "- 🚰 **Groundwater extraction**: Transfers water from land to sea\n",
    "\n",
    "Global sea level has risen by **21–24 cm (8–9.5 inches)** since 1880, with the rate accelerating to **3.4–4.6 mm/year** in recent decades.\n",
    "\n",
    "---\n",
    "\n",
    "### 🏗️ Coastal Projects That Require Sea Level Rise Information\n",
    "\n",
    "Sea level rise data is essential for:\n",
    "- **Harbor and port design**\n",
    "- **Floodplain mapping and zoning**\n",
    "- **Wetland restoration and marsh migration planning**\n",
    "- **Storm surge barrier and seawall engineering**\n",
    "- **Infrastructure siting (roads, wastewater, power plants)**\n",
    "- **Managed retreat and relocation strategies**\n",
    "- **Climate adaptation and resilience planning**\n",
    "\n",
    "Agencies like NOAA, FEMA, USACE, and state coastal commissions use sea level projections to guide permitting, hazard mitigation, and long-term investment.\n",
    "\n",
    "---\n",
    "\n",
    "### 🛰️ What the Data Tell Us About Future Sea Level Rise\n",
    "\n",
    "### 🔭 Observational Data\n",
    "- **Tide gauges**: Track local relative sea level changes over decades\n",
    "- **Satellite altimetry**: Measures global sea surface height since 1993\n",
    "- **Ice mass loss**: Monitored via GRACE and ICESat missions\n",
    "\n",
    "### 📡 Satellite-Based Insights\n",
    "- NASA’s Sentinel-6 and Jason missions show **record-high sea levels in 2024**, exceeding expectations\n",
    "- Copernicus and ESA data reveal regional variations and acceleration trends\n",
    "\n",
    "### 🧮 Model-Based Projections\n",
    "- IPCC AR6 and NOAA scenarios project:\n",
    "  - **0.3–1.0 m rise by 2100** under low emissions\n",
    "  - **0.5–1.9 m rise by 2100** under high emissions\n",
    "- Models incorporate ice sheet dynamics, thermal expansion, and land subsidence\n",
    "\n",
    "---\n",
    "\n",
    "### 🛠️ Typical Methods for Measuring and Projecting Sea Level Rise\n",
    "\n",
    "| Method                     | Description                                      |\n",
    "|---------------------------|--------------------------------------------------|\n",
    "| Tide gauges                | Long-term local measurements                     |\n",
    "| Satellite altimetry       | Global sea surface height tracking               |\n",
    "| InSAR                     | Detects land subsidence and vertical motion      |\n",
    "| Extensometers             | Measure aquifer compaction and subsidence        |\n",
    "| Climate models            | Simulate ocean warming and ice melt              |\n",
    "| Semi-empirical models     | Use historical trends to project future rise     |\n",
    "| Structured expert judgment| Combines expert opinions with model outputs      |\n",
    "\n",
    "---\n",
    "\n",
    "### 🇺🇸 Sea Level Rise in U.S. Coastal Regions\n",
    "\n",
    "- **East Coast**: Cities like New York, Boston, and Norfolk have seen **11–18 inches** of rise over the past century\n",
    "- **Gulf Coast**: Galveston and New Orleans face **subsidence + sea level rise**, with up to **25 inches** observed\n",
    "- **West Coast**: Slower rise, but vulnerable to king tides and erosion\n",
    "- **Alaska**: Some areas experience relative sea level fall due to land uplift\n",
    "\n",
    "### 🔍 Implications\n",
    "- Increased **high-tide flooding** (sunny-day floods)\n",
    "- Loss of **wetlands and barrier islands**\n",
    "- Threats to **infrastructure, housing, and drinking water**\n",
    "- Displacement of **coastal communities**\n",
    "- Need for **resilient design, managed retreat, and nature-based solutions**\n",
    "\n",
    "By 2050, **48,000+ U.S. properties** could be below the high tide line.\n",
    "\n",
    "---\n",
    "\n",
    "> _Sea level rise is not just a future problem—it’s already reshaping coastlines, ecosystems, and economies. Planning with robust data and adaptive strategies is essential._\n"
   ]
  },
  {
   "cell_type": "markdown",
   "id": "a6547a75-9e49-403c-a7b1-6e35ebe7993a",
   "metadata": {},
   "source": [
    "## 2. Simulation"
   ]
  },
  {
   "cell_type": "markdown",
   "id": "15437080-cc77-4025-8381-dc6fe690044a",
   "metadata": {},
   "source": [
    "### 🌍 Interactive Sea Level Rise (SLR) Projection Dashboard\n",
    "\n",
    "This Jupyter Notebook tool visualizes **projected sea level rise from 2020 to 2100** across different locations and climate scenarios using a simplified numerical model.\n",
    "\n",
    "---\n",
    "\n",
    "### 🧠 What It Does\n",
    "\n",
    "- Computes **SLR projections** based on selected climate scenarios:\n",
    "  - **SSP1-2.6**: low emissions\n",
    "  - **SSP2-4.5**: intermediate emissions\n",
    "  - **SSP5-8.5**: high emissions\n",
    "- Uses a linear model to estimate cumulative SLR (in meters)\n",
    "- Plots SLR over time for the selected location and scenario\n",
    "- Updates in real time using interactive dropdowns and radio buttons\n",
    "\n",
    "---\n",
    "\n",
    "### 🎛️ Inputs\n",
    "\n",
    "| Control               | Description                                 |\n",
    "|-----------------------|---------------------------------------------|\n",
    "| `Location`            | Select from New Orleans, Galveston, Mobile, Tampa |\n",
    "| `Scenario`            | SSP1-2.6, SSP2-4.5, or SSP5-8.5              |\n",
    "\n",
    "---\n",
    "\n",
    "### 📊 Output\n",
    "\n",
    "- 📈 Line chart showing projected SLR from 2020 to 2100\n",
    "- 🟦 Blue curve shows SLR trajectory per scenario\n",
    "- Title reflects selected location\n",
    "- Y-axis shows SLR in **meters**\n",
    "- 📦 Real-time plot updates upon interaction\n",
    "\n",
    "---\n",
    "\n",
    "## 🧭 How to Interpret\n",
    "\n",
    "- **Steeper curve = faster SLR** under more severe climate scenarios\n",
    "- Use visualization to assess **local vulnerability** and **planning urgency**\n",
    "- Helps compare expected impacts between regions and emissions pathways\n",
    "\n",
    "> _A compact dashboard for visualizing long-term climate-driven sea level changes under multiple futures._\n"
   ]
  },
  {
   "cell_type": "code",
   "execution_count": 1,
   "id": "9e26606c-80f8-40bb-98a7-c3d8ce63b432",
   "metadata": {
    "editable": true,
    "slideshow": {
     "slide_type": ""
    },
    "tags": [
     "thebe-init"
    ]
   },
   "outputs": [
    {
     "data": {
      "application/vnd.jupyter.widget-view+json": {
       "model_id": "9bd91f253f0a4f738039d21ca167998d",
       "version_major": 2,
       "version_minor": 0
      },
      "text/plain": [
       "VBox(children=(Dropdown(description='Location:', options=('New Orleans', 'Galveston', 'Mobile', 'Tampa'), valu…"
      ]
     },
     "metadata": {},
     "output_type": "display_data"
    }
   ],
   "source": [
    "import numpy as np\n",
    "import matplotlib.pyplot as plt\n",
    "import ipywidgets as widgets\n",
    "from IPython.display import display, clear_output\n",
    "\n",
    "# Projection model\n",
    "def slr_projection(years, scenario):\n",
    "    if scenario == 'SSP1-2.6':\n",
    "        return 0.25 + 0.003 * (years - 2020)\n",
    "    elif scenario == 'SSP2-4.5':\n",
    "        return 0.3 + 0.005 * (years - 2020)\n",
    "    else:  # SSP5-8.5\n",
    "        return 0.4 + 0.007 * (years - 2020)\n",
    "\n",
    "years = np.arange(2020, 2101)\n",
    "\n",
    "# Widgets\n",
    "location_selector = widgets.Dropdown(\n",
    "    options=['New Orleans', 'Galveston', 'Mobile', 'Tampa'],\n",
    "    value='New Orleans',\n",
    "    description='Location:'\n",
    ")\n",
    "\n",
    "scenario_selector = widgets.RadioButtons(\n",
    "    options=['SSP1-2.6', 'SSP2-4.5', 'SSP5-8.5'],\n",
    "    value='SSP2-4.5',\n",
    "    description='Scenario:'\n",
    ")\n",
    "\n",
    "output = widgets.Output()\n",
    "\n",
    "# Update logic using matplotlib\n",
    "def update_plot(change=None):\n",
    "    with output:\n",
    "        clear_output(wait=True)\n",
    "        location = location_selector.value\n",
    "        scenario = scenario_selector.value\n",
    "        slr = slr_projection(years, scenario)\n",
    "\n",
    "        plt.figure(figsize=(10, 5))\n",
    "        plt.plot(years, slr, label='Projected SLR', color='royalblue')\n",
    "        plt.title(f\"Projected Sea Level Rise – {location}\")\n",
    "        plt.xlabel(\"Year\")\n",
    "        plt.ylabel(\"Sea Level Rise (m)\")\n",
    "        plt.ylim([0, max(slr) + 0.1])\n",
    "        plt.grid(True, linestyle='--', alpha=0.5)\n",
    "        plt.legend()\n",
    "        plt.tight_layout()\n",
    "        plt.show()\n",
    "\n",
    "# Attach observers\n",
    "location_selector.observe(update_plot, names='value')\n",
    "scenario_selector.observe(update_plot, names='value')\n",
    "\n",
    "# Display UI\n",
    "display(widgets.VBox([location_selector, scenario_selector, output]))\n",
    "update_plot()\n"
   ]
  },
  {
   "cell_type": "markdown",
   "id": "6e196387-95a0-44cd-9a4c-19e242986d45",
   "metadata": {},
   "source": [
    "## 3. Self-Assessment"
   ]
  },
  {
   "cell_type": "markdown",
   "id": "0d92a815-2b4e-418e-ba29-3641fd1960b2",
   "metadata": {},
   "source": [
    "## 3. Self-Assessment"
   ]
  }
 ],
 "metadata": {
  "kernelspec": {
   "display_name": "Python [conda env:base] *",
   "language": "python",
   "name": "conda-base-py"
  },
  "language_info": {
   "codemirror_mode": {
    "name": "ipython",
    "version": 3
   },
   "file_extension": ".py",
   "mimetype": "text/x-python",
   "name": "python",
   "nbconvert_exporter": "python",
   "pygments_lexer": "ipython3",
   "version": "3.12.7"
  },
  "widgets": {
   "application/vnd.jupyter.widget-state+json": {
    "state": {},
    "version_major": 2,
    "version_minor": 0
   }
  }
 },
 "nbformat": 4,
 "nbformat_minor": 5
}
