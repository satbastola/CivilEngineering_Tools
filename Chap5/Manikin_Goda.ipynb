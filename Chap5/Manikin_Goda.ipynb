{
 "cells": [
  {
   "cell_type": "markdown",
   "id": "67ceba3b-da17-4508-be2a-cfeb52949f10",
   "metadata": {},
   "source": [
    "# Chapter 5 Coastal Engineering: Vertical Structures Using Minikin Method"
   ]
  },
  {
   "cell_type": "markdown",
   "id": "ae006a8c-d2c2-4660-9646-837494c21e02",
   "metadata": {},
   "source": [
    "1. [Introduction: Breaking Wave Force](#1.-Introduction)\n",
    "2. [Simulation: Breaking Wave Force](#2.-Simulation)\n",
    "3. [Simulation: Breaking Wave Force](#3.-Simulation)\n",
    "4. [Simulation: Breaking Wave Force](#4.-Simulation)\n",
    "5. [Self-Assessment](#5.-Self-Assessment) "
   ]
  },
  {
   "cell_type": "markdown",
   "id": "9f84cc1d-f063-4f06-9a61-dd94b702450b",
   "metadata": {},
   "source": [
    "## 1. Introduction"
   ]
  },
  {
   "cell_type": "markdown",
   "id": "2fe3d4cf-b0de-4a2e-8ee2-6c4eca91f439",
   "metadata": {},
   "source": [
    "### Wave Load Calculation on Vertical Structures Using Minikin Method\n",
    "\n",
    "This guide outlines the steps for calculating wave forces from **breaking waves** on vertical coastal structures using the **Minikin method**, with corrections and clarifications for three structural configurations.\n",
    "\n",
    "---\n",
    "\n",
    "### Assumptions\n",
    "- Linear Wave Theory applies unless otherwise specified.\n",
    "- Figures referenced (e.g., 7-3, 7-4, etc.) are from standard coastal engineering design manuals (e.g., Shore Protection Manual or Coastal Engineering Manual).\n",
    "- `w` = unit weight of water  \n",
    "- `ds` = water depth at structure  \n",
    "- `T` = wave period  \n",
    "- `Ho` = deepwater wave height  \n",
    "- `Hb` = breaking wave height  \n",
    "- `Rm` = dynamic force  \n",
    "- `rm` = force reduction factor  \n",
    "- `θ` = angle of inclination from vertical\n",
    "\n",
    "---\n",
    "\n",
    "### Non-Overtopping Vertical Structure\n",
    "\n",
    "### Step-by-Step Procedure\n",
    "\n",
    "1. **Wave Characteristics**\n",
    "   - Calculate wavelength and deepwater wave height (`Ho`) using **Linear Wave Theory** if not provided.\n",
    "\n",
    "2. **Design Breaking Wave Height**\n",
    "   - Compute dimensionless parameter:  \n",
    "     $$\n",
    "     \\frac{ds}{gT^2}\n",
    "     $$\n",
    "   - Use **Figure 7-4** to find **design breaking wave height** (`Hb`) at the structure.\n",
    "\n",
    "3. **Available Breaking Wave Height**\n",
    "   - Compute:  \n",
    "     $$\n",
    "     \\frac{Ho}{gT^2}\n",
    "     $$\n",
    "   - Use **Figure 7-3** to find **available breaking wave height**.\n",
    "\n",
    "4. **Applicability Check**\n",
    "   - Confirm that **breaking wave theory** is valid for the given conditions.\n",
    "\n",
    "5. **Pressure Ratio**\n",
    "   - Use  \n",
    "     $$\n",
    "     \\frac{ds}{gT^2}\n",
    "     $$\n",
    "     to obtain **pressure ratio** from **Figure 7-100**.\n",
    "\n",
    "6. **Dynamic Pressure**\n",
    "   - Multiply pressure ratio by unit weight (`w`) and design breaking wave height (`Hb`):  \n",
    "     $$\n",
    "     P = \\text{ratio} \\times w \\times Hb\n",
    "     $$\n",
    "\n",
    "7. **Dynamic Force**\n",
    "   - Compute:  \n",
    "     $$\n",
    "     Rm = P \\times \\frac{Hb}{3}\n",
    "     $$\n",
    "\n",
    "8. **Dynamic Moment**\n",
    "   - Compute:  \n",
    "     $$\n",
    "     M_m = Rm \\times ds\n",
    "     $$\n",
    "\n",
    "9. **Total Force**\n",
    "   - Add dynamic force to static force:  \n",
    "     $$\n",
    "     F_{\\text{total}} = Rm + \\frac{w(ds + \\frac{1}{2}Hb)^2}{2}\n",
    "     $$\n",
    "\n",
    "10. **Total Moment**\n",
    "    - Add dynamic moment to static moment:  \n",
    "      $$\n",
    "      M_{\\text{total}} = M_m + \\frac{w(ds + \\frac{1}{2}Hb)^3}{6}\n",
    "      $$\n",
    "\n",
    "---\n",
    "\n",
    "### 2️⃣ Overtopping Vertical Structure\n",
    "\n",
    "### Step-by-Step Procedure\n",
    "\n",
    "1–4. **Repeat Steps 1–4** from the non-overtopping case.\n",
    "\n",
    "5. **Force Reduction Factor**\n",
    "   - Use **Figure 7-102** to obtain **force reduction factor** (`rm`).\n",
    "\n",
    "6. **Reduced Dynamic Force**\n",
    "   - Multiply dynamic force (`Rm`) by reduction factor:  \n",
    "     $$\n",
    "     Rm_{\\text{reduced}} = rm \\times Rm\n",
    "     $$\n",
    "\n",
    "7. **Reduced Moment**\n",
    "   - Use **Figure 7-103** to obtain parameter `a`, then compute:  \n",
    "     $$\n",
    "     M'_m = ds \\cdot Rm - (ds + a)(1 - rm) \\cdot Rm\n",
    "     $$\n",
    "\n",
    "8. **Total Wave Loading**\n",
    "   - Add dynamic wave loadings to hydrostatic components.\n",
    "\n",
    "---\n",
    "\n",
    "### 3️⃣ Slightly Inclined Non-Overtopping Vertical Structure\n",
    "\n",
    "### Step-by-Step Procedure\n",
    "\n",
    "1–8. **Repeat Steps 1–8** from the non-overtopping case.\n",
    "\n",
    "9. **Reduced Dynamic Force**\n",
    "   - Apply inclination correction:  \n",
    "     $$$$\n",
    "     Rm_{\\text{inclined}} = Rm \\cdot \\sin^2(\\theta)\n",
    "   $$\\]\n",
    "\n",
    "10. **Reduced Dynamic Moment**\n",
    "    - Apply inclination correction:  \n",
    "    $$\\[\n",
    "      M_m^{\\text{inclined}} = M_m \\cdot \\sin^2(\\theta)\n",
    "    $$\\]\n",
    "\n",
    "11. **Total Wave Loading**\n",
    "    - Add dynamic wave loadings to hydrostatic components.\n",
    "\n",
    "---\n",
    "\n",
    "### ✅ Notes and Corrections\n",
    "\n",
    "- Ensure consistent units (e.g., SI or Imperial) throughout.\n",
    "- Use appropriate figures from validated coastal engineering references.\n",
    "- For inclined structures, angle `θ` should be measured from vertical.\n",
    "- Always verify applicability of breaking wave theory based on wave steepness and depth.\n"
   ]
  },
  {
   "cell_type": "markdown",
   "id": "11ab5749-f791-44f0-af2a-369e34f50ccb",
   "metadata": {},
   "source": [
    "## 2. Simulation"
   ]
  },
  {
   "cell_type": "markdown",
   "id": "a197fd4b-4a58-4078-830c-d606015d1c2d",
   "metadata": {},
   "source": [
    "### 🌊 Wave Force & Moment Estimator — Minikin vs. Goda Methods\n",
    "\n",
    "This Python-based simulator calculates and visualizes the **hydrodynamic pressure**, **resultant force**, and **overturning moment** exerted by breaking waves on a vertical coastal structure using two classic engineering approaches.\n",
    "\n",
    "---\n",
    "\n",
    "### 🧠 What It Does\n",
    "\n",
    "- Uses input wave and structure parameters to:\n",
    "  - Solve for **wave length** using linear Airy theory\n",
    "  - Estimate **pressure**, **force**, and **moment** via:\n",
    "    - **Minikin method** (simplified empirical formula)\n",
    "    - **Goda method** (accounts for wave angle, structure geometry, and dispersive effects)\n",
    "- Outputs numerical comparisons and bar chart visualization\n",
    "\n",
    "---\n",
    "\n",
    "### 🎛️ User Inputs\n",
    "\n",
    "| Parameter           | Description                                  |\n",
    "|--------------------|----------------------------------------------|\n",
    "| `Hb`               | Breaker wave height (m)                      |\n",
    "| `ds`               | Water depth at toe of structure (m)          |\n",
    "| `T`                | Wave period (s)                              |\n",
    "| `slope`            | Beach slope (tan β)                          |\n",
    "| `structure_height` | Total structure height (m)                   |\n",
    "| `structure_width`  | Width of structure (m)                       |\n",
    "| `β (deg)`          | Wave angle relative to structure face        |\n",
    "\n",
    "---\n",
    "\n",
    "### 📊 Outputs\n",
    "\n",
    "### 🔹 Minikin Method\n",
    "- **Max Pressure**: Simplified estimate based on wave height/depth\n",
    "- **Resultant Force**: Horizontal wave thrust on structure\n",
    "- **Overturning Moment**: Moment exerted about base of structure\n",
    "\n",
    "### 🔹 Goda Method\n",
    "- **Pressure p1**: Peak hydrodynamic pressure at wave crest\n",
    "- **Reduced Pressure p3**: Adjusted for depth/dispersion\n",
    "- **Resultant Force & Moment**: Similar to above but more nuanced\n",
    "\n",
    "### 📈 Visualization\n",
    "- **Wave profile sketch** and structure geometry\n",
    "- **Bar chart** comparing overturning moments between methods\n",
    "\n",
    "---\n",
    "\n",
    "### 🧭 How to Interpret\n",
    "\n",
    "- **Higher Hb or lower ds** leads to stronger impact forces\n",
    "- **Minikin method** is quicker but less detailed\n",
    "- **Goda method** includes wave angle and depth refinement\n",
    "- Use outputs to inform structural resilience, footing stability, or wave defense design\n",
    "\n",
    "> _This tool brings coastal force estimation into an accessible, visual format—bridging theory and real-world design._\n"
   ]
  },
  {
   "cell_type": "code",
   "execution_count": 1,
   "id": "c2764b1c-f543-4add-855e-fcec2d48cc79",
   "metadata": {},
   "outputs": [
    {
     "data": {
      "image/png": "[encoded data removed]",
      "text/plain": [
       "<Figure size 1000x600 with 1 Axes>"
      ]
     },
     "metadata": {},
     "output_type": "display_data"
    },
    {
     "name": "stdout",
     "output_type": "stream",
     "text": [
      "🔹 Minikin Method:\n",
      "  Max Pressure: 12944.16 Pa\n",
      "  Resultant Force: 12944.16 N/m\n",
      "  Overturning Moment: 64720.81 Nm/m\n",
      "\n",
      "🔹 Goda Method:\n",
      "  Max Pressure p1: 5782.41 Pa\n",
      "  Reduced Pressure p3: -1227.75 Pa\n",
      "  Resultant Force: 5782.41 N/m\n",
      "  Overturning Moment: 28912.03 Nm/m\n"
     ]
    },
    {
     "data": {
      "image/png": "[encoded data removed]",
      "text/plain": [
       "<Figure size 800x500 with 1 Axes>"
      ]
     },
     "metadata": {},
     "output_type": "display_data"
    }
   ],
   "source": [
    "# 🌊 Wave Pressure & Moment Estimation using Minikin and Goda Methods\n",
    "\n",
    "import numpy as np\n",
    "import matplotlib.pyplot as plt\n",
    "\n",
    "# 📐 Physical constants\n",
    "g = 9.81          # gravity (m/s²)\n",
    "gamma = 1025      # unit weight of seawater (kg/m³)\n",
    "# 🌊 Wave parameters\n",
    "#Hb=input(\"breakwer wave height\")\n",
    "#ds=input(\"water depth at toe\")\n",
    "#structure_height = input(\"height of structure\")#8.0  # total height of structure (m)\n",
    "#structure_width = input(\"width of structure\")2#.0   # width of structure (m)\n",
    "\n",
    "Hb = 3.0      # breaker wave height (m)\n",
    "ds = 5.0      # water depth at toe (m)\n",
    "structure_height = 5.0  # total height of structure (m)\n",
    "structure_width = 2.0   # width of structure (m)\n",
    "T = 8.0           # wave period (s)\n",
    "slope = 0.02      # beach slope (tan β)\n",
    "\n",
    "# 📊 Input parameters\n",
    "#Hb = 3.0          # breaker wave height (m)\n",
    "#ds = 5.0          # water depth at toe (m)\n",
    "#d1 = 6.0          # depth one wavelength in front of wall (m)\n",
    "#Ld1 = 20.0        # wavelength at d1 (m)\n",
    "beta_deg = 0      # wave angle (degrees)\n",
    "beta = np.radians(beta_deg)\n",
    "\n",
    "# 📐 Airy wave theory: dispersion relation solver\n",
    "def calculate_wavelength(T, h, tol=1e-6, max_iter=100):\n",
    "    omega = 2 * np.pi / T\n",
    "    k = omega**2 / g  # initial guess\n",
    "    for _ in range(max_iter):\n",
    "        k_new = omega**2 / (g * np.tanh(k * h))\n",
    "        if abs(k_new - k) < tol:\n",
    "            break\n",
    "        k = k_new\n",
    "    return 2 * np.pi / k\n",
    "\n",
    "# 📏 Calculate wavelength at depth ds\n",
    "Ld1 = calculate_wavelength(T, ds)\n",
    "\n",
    "# 📏 Estimate depth one wavelength in front of structure\n",
    "d1 = ds +slope * Ld1\n",
    "d1 = max(d1, 0.1)  # prevent negative or zero depth\n",
    "\n",
    "# 📐 Structure coordinates\n",
    "wall_x = [0, 0, structure_width, structure_width, 0]\n",
    "wall_y = [0, structure_height, structure_height, 0, 0]\n",
    "\n",
    "# 🌊 Wave crest and trough\n",
    "wave_x = np.linspace(-10, 0, 100)\n",
    "wave_y = Hb * np.sin(2 * np.pi * wave_x / 10) + ds\n",
    "\n",
    "# 🖼️ Plot setup\n",
    "plt.figure(figsize=(10, 6))\n",
    "plt.plot(wave_x, wave_y, label='Wave Profile', color='blue')\n",
    "plt.fill(wall_x, wall_y, color='gray', label='Vertical Structure')\n",
    "plt.axhline(ds, color='cyan', linestyle='--', label='Still Water Level')\n",
    "\n",
    "# 📏 Annotations\n",
    "plt.text(-9, ds + Hb + 0.5, f'Wave Height = {Hb} m', color='blue')\n",
    "plt.text(1.5, structure_height / 2, 'Structure', rotation=90, color='white', backgroundcolor='gray')\n",
    "\n",
    "# 🧭 Labels and legend\n",
    "plt.xlabel('Horizontal Distance (m)')\n",
    "plt.ylabel('Elevation (m)')\n",
    "plt.title('Wave Impact on Vertical Coastal Structure')\n",
    "plt.grid(True)\n",
    "plt.legend()\n",
    "plt.tight_layout()\n",
    "plt.show()\n",
    "\n",
    "\n",
    "# 📦 Minikin Method\n",
    "pm_minikin = 101 * gamma * Hb / ds * (d1 + ds) / Ld1\n",
    "Rm_minikin = pm_minikin * Hb / 3\n",
    "Mm_minikin = Rm_minikin * ds\n",
    "\n",
    "# 📦 Goda Method (simplified)\n",
    "alpha1 = 0.6 + 2 / np.sinh(4 * np.pi * ds / Ld1)\n",
    "alpha2 = min((ds - d1) / (3 * ds), 2 * ds / Hb)\n",
    "alpha3 = 1 - d1 / ds\n",
    "\n",
    "Hmax = Hb  # assuming design wave height equals breaker height\n",
    "p1 = gamma * (1 + np.cos(beta)) * (alpha1 + alpha2 * np.cos(beta)**2) * Hmax / 2\n",
    "p3 = alpha3 * p1\n",
    "\n",
    "# Resultant force and moment (Goda)\n",
    "Rm_goda = p1 * Hb / 3\n",
    "Mm_goda = Rm_goda * ds\n",
    "\n",
    "# 🧮 Print results\n",
    "print(\"🔹 Minikin Method:\")\n",
    "print(f\"  Max Pressure: {pm_minikin:.2f} Pa\")\n",
    "print(f\"  Resultant Force: {Rm_minikin:.2f} N/m\")\n",
    "print(f\"  Overturning Moment: {Mm_minikin:.2f} Nm/m\")\n",
    "\n",
    "print(\"\\n🔹 Goda Method:\")\n",
    "print(f\"  Max Pressure p1: {p1:.2f} Pa\")\n",
    "print(f\"  Reduced Pressure p3: {p3:.2f} Pa\")\n",
    "print(f\"  Resultant Force: {Rm_goda:.2f} N/m\")\n",
    "print(f\"  Overturning Moment: {Mm_goda:.2f} Nm/m\")\n",
    "\n",
    "# 📈 Visualization\n",
    "methods = ['Minikin', 'Goda']\n",
    "moments = [Mm_minikin, Mm_goda]\n",
    "\n",
    "plt.figure(figsize=(8, 5))\n",
    "plt.bar(methods, moments, color=['skyblue', 'salmon'])\n",
    "plt.ylabel('Overturning Moment (Nm/m)')\n",
    "plt.title('Comparison of Wave-Induced Moments on Structure')\n",
    "plt.grid(True)\n",
    "plt.tight_layout()\n",
    "plt.show()\n"
   ]
  },
  {
   "cell_type": "markdown",
   "id": "e2ef8c41-0443-4721-b93c-444258291d91",
   "metadata": {},
   "source": [
    "## 3. Simulation"
   ]
  },
  {
   "cell_type": "markdown",
   "id": "7c994298-3ea2-480f-9d4a-eac5043a95fe",
   "metadata": {},
   "source": [
    "### 🏗️ Coastal Structure Interaction Model — Wave Break, Energy & Sediment Drift\n",
    "\n",
    "This script estimates wave-induced sediment transport potential near a sloped coastal structure using empirical physics-based relationships.\n",
    "\n",
    "---\n",
    "\n",
    "### 🧠 What It Does\n",
    "\n",
    "1. **Collects user inputs** for structure geometry, wave conditions, and beach slope\n",
    "2. Computes:\n",
    "   - **Breaking wave height and depth**\n",
    "   - **Wave celerity (Cg)** in shallow water\n",
    "   - **Wave energy flux (Ef)** — total power per unit crest length\n",
    "   - **Sediment transport potential (Qs)** using structure slope and wave interaction\n",
    "\n",
    "---\n",
    "\n",
    "### 🎛️ Inputs\n",
    "\n",
    "| Parameter             | Description                          |\n",
    "|----------------------|--------------------------------------|\n",
    "| `structure_slope`     | Slope ratio (e.g., 0.2 for 1V:5H)    |\n",
    "| `structure_height`    | Structure crest elevation (m)        |\n",
    "| `wave_height`         | Significant offshore wave height (m)|\n",
    "| `wave_period`         | Wave period (s)                      |\n",
    "| `beach_slope`         | Tan(β), beach steepness              |\n",
    "\n",
    "---\n",
    "\n",
    "### 📊 Outputs\n",
    "\n",
    "- 📏 **Estimated Breaking Depth (db)**  \n",
    "- 🔋 **Wave Energy Flux (Ef)** — proxy for nearshore wave power  \n",
    "- 🚢 **Longshore Transport Potential (Qs_structure)** — sediment drift estimate in W/m  \n",
    "- 🧭 **Qualitative Interpretation**:\n",
    "  - If Qs_structure > 0 → sediment likely drifts downdrift\n",
    "  - If Qs_structure ≤ 0 → minimal transport, reevaluate orientation\n",
    "\n",
    "---\n",
    "\n",
    "### 🧭 Use Cases\n",
    "\n",
    "- Rapid assessment of wave-structure-sediment interaction\n",
    "- Planning for groynes, jetties, and other sloped defenses\n",
    "- Teaching wave-induced transport concepts\n",
    "\n",
    "> _Oblique waves + sloped structures = sediment mobility trigger. Zero transport may indicate shielding or poor alignment._\n"
   ]
  },
  {
   "cell_type": "code",
   "execution_count": 1,
   "id": "3bd93cf9-768c-40d7-b64c-8788240e80f7",
   "metadata": {},
   "outputs": [
    {
     "data": {
      "application/vnd.jupyter.widget-view+json": {
       "model_id": "f7cbb556920e454ca08b555b9fb86fd5",
       "version_major": 2,
       "version_minor": 0
      },
      "text/plain": [
       "interactive(children=(FloatSlider(value=0.2, description='Structure Slope', max=1.0, min=0.05, step=0.05), Flo…"
      ]
     },
     "metadata": {},
     "output_type": "display_data"
    },
    {
     "data": {
      "text/plain": [
       "<function __main__.estimate_transport(structure_slope, structure_height, wave_height, wave_period, beach_slope)>"
      ]
     },
     "execution_count": 1,
     "metadata": {},
     "output_type": "execute_result"
    }
   ],
   "source": [
    "import numpy as np\n",
    "from ipywidgets import interact, FloatSlider\n",
    "import matplotlib.pyplot as plt\n",
    "\n",
    "# 🌊 Constants\n",
    "g = 9.81  # gravity (m/s²)\n",
    "rho = 1025  # seawater density (kg/m³)\n",
    "\n",
    "# 💡 Interactive function\n",
    "def estimate_transport(structure_slope, structure_height, wave_height, wave_period, beach_slope):\n",
    "    # 🌊 Breaking depth estimate\n",
    "    Lo = (g * wave_period**2) / (2 * np.pi)\n",
    "    Hb = 0.78 * wave_height\n",
    "    db = Hb / beach_slope\n",
    "\n",
    "    print(f\"📏 Breaking Depth: {db:.2f} m\")\n",
    "\n",
    "    # 🌊 Celerity and energy flux\n",
    "    Cg = np.sqrt(g * db)\n",
    "    Ef = (1/8) * rho * g * wave_height**2 * Cg\n",
    "\n",
    "    # 🌊 Longshore transport estimate\n",
    "    theta = np.arctan(structure_slope)\n",
    "    Qs_structure = 0.77 * Ef * np.sin(2 * theta)\n",
    "\n",
    "    print(f\"🚢 Longshore Transport (proxy): {Qs_structure:.2f} W/m\")\n",
    "\n",
    "    # 🧭 Interpretation\n",
    "    if Qs_structure > 0:\n",
    "        drift_msg = \"→ Sediment likely to drift downdrift due to oblique wave incidence.\"\n",
    "    else:\n",
    "        drift_msg = \"→ Minimal transport expected. Consider revising structure alignment or wave angle.\"\n",
    "    print(f\"\\n🧭 {drift_msg}\")\n",
    "\n",
    "# 🎛️ Sliders for user inputs\n",
    "interact(\n",
    "    estimate_transport,\n",
    "    structure_slope=FloatSlider(value=0.2, min=0.05, max=1.0, step=0.05, description=\"Structure Slope\"),\n",
    "    structure_height=FloatSlider(value=3.5, min=1.0, max=10.0, step=0.5, description=\"Structure Height (m)\"),\n",
    "    wave_height=FloatSlider(value=2.0, min=0.5, max=5.0, step=0.1, description=\"Wave Height Hs (m)\"),\n",
    "    wave_period=FloatSlider(value=8.0, min=4.0, max=15.0, step=0.5, description=\"Wave Period T (s)\"),\n",
    "    beach_slope=FloatSlider(value=0.1, min=0.01, max=0.3, step=0.01, description=\"Beach Slope tan(β)\")\n",
    ")\n"
   ]
  },
  {
   "cell_type": "markdown",
   "id": "4fa32c53-02c2-4f2d-b048-e4aa317f26e1",
   "metadata": {},
   "source": [
    "## 4. Simulation"
   ]
  },
  {
   "cell_type": "markdown",
   "id": "9c0e643b-ae8c-4046-8019-b2da44bf5d7e",
   "metadata": {},
   "source": [
    "### 🏗️ Coastal Structure Interaction Model — Wave Break, Energy & Sediment Drift\n",
    "\n",
    "This script estimates wave-induced sediment transport potential near a sloped coastal structure using empirical physics-based relationships.\n",
    "\n",
    "---\n",
    "\n",
    "### 🧠 What It Does\n",
    "\n",
    "1. **Collects user inputs** for structure geometry, wave conditions, and beach slope\n",
    "2. Computes:\n",
    "   - **Breaking wave height and depth**\n",
    "   - **Wave celerity (Cg)** in shallow water\n",
    "   - **Wave energy flux (Ef)** — total power per unit crest length\n",
    "   - **Sediment transport potential (Qs)** using structure slope and wave interaction\n",
    "\n",
    "---\n",
    "\n",
    "### 🎛️ Inputs\n",
    "\n",
    "| Parameter             | Description                          |\n",
    "|----------------------|--------------------------------------|\n",
    "| `structure_slope`     | Slope ratio (e.g., 0.2 for 1V:5H)    |\n",
    "| `structure_height`    | Structure crest elevation (m)        |\n",
    "| `wave_height`         | Significant offshore wave height (m)|\n",
    "| `wave_period`         | Wave period (s)                      |\n",
    "| `beach_slope`         | Tan(β), beach steepness              |\n",
    "\n",
    "---\n",
    "\n",
    "### 📊 Outputs\n",
    "\n",
    "- 📏 **Estimated Breaking Depth (db)**  \n",
    "- 🔋 **Wave Energy Flux (Ef)** — proxy for nearshore wave power  \n",
    "- 🚢 **Longshore Transport Potential (Qs_structure)** — sediment drift estimate in W/m  \n",
    "- 🧭 **Qualitative Interpretation**:\n",
    "  - If Qs_structure > 0 → sediment likely drifts downdrift\n",
    "  - If Qs_structure ≤ 0 → minimal transport, reevaluate orientation\n",
    "\n",
    "---\n",
    "\n",
    "### 🧭 Use Cases\n",
    "\n",
    "- Rapid assessment of wave-structure-sediment interaction\n",
    "- Planning for groynes, jetties, and other sloped defenses\n",
    "- Teaching wave-induced transport concepts\n",
    "\n",
    "> _Oblique waves + sloped structures = sediment mobility trigger. Zero transport may indicate shielding or poor alignment._\n"
   ]
  },
  {
   "cell_type": "code",
   "execution_count": 2,
   "id": "ea77a36d-a5a1-474b-a413-2d2714c0ce37",
   "metadata": {},
   "outputs": [
    {
     "data": {
      "application/vnd.jupyter.widget-view+json": {
       "model_id": "e414a6822c2949ebbaeab5731432d805",
       "version_major": 2,
       "version_minor": 0
      },
      "text/plain": [
       "interactive(children=(FloatSlider(value=3.0, description='Breaker Height Hb (m)', max=6.0, min=1.0), FloatSlid…"
      ]
     },
     "metadata": {},
     "output_type": "display_data"
    }
   ],
   "source": [
    "import numpy as np\n",
    "import matplotlib.pyplot as plt\n",
    "from ipywidgets import interact, FloatSlider\n",
    "\n",
    "# 📐 Physical constants\n",
    "g = 9.81            # gravity (m/s²)\n",
    "gamma = 1025        # unit weight of seawater (kg/m³)\n",
    "rho = 1025          # density of seawater (kg/m³)\n",
    "\n",
    "# 📐 Airy wave theory: dispersion relation solver\n",
    "def calculate_wavelength(T, h, tol=1e-6, max_iter=100):\n",
    "    omega = 2 * np.pi / T\n",
    "    k = omega**2 / g  # initial guess\n",
    "    for _ in range(max_iter):\n",
    "        k_new = omega**2 / (g * np.tanh(k * h))\n",
    "        if abs(k_new - k) < tol:\n",
    "            break\n",
    "        k = k_new\n",
    "    return 2 * np.pi / k\n",
    "\n",
    "# 🧮 Main function\n",
    "def wave_force_model(Hb, ds, structure_height, structure_width, T, slope, wall_angle_deg, wave_angle_deg):\n",
    "    beta = np.radians(wave_angle_deg)\n",
    "    theta = np.radians(wall_angle_deg)\n",
    "\n",
    "    # Wavelength and depth calculations\n",
    "    Ld1 = calculate_wavelength(T, ds)\n",
    "    d1 = ds + slope * Ld1\n",
    "    d1 = max(d1, 0.1)\n",
    "\n",
    "    # 🌊 Minikin Method with wall angle correction\n",
    "    pm_minikin = 101 * gamma * Hb / ds * (d1 + ds) / Ld1\n",
    "    R_theta = np.cos(theta)  # wall angle correction\n",
    "    pm_minikin_corr = pm_minikin * R_theta\n",
    "    Rm_minikin = pm_minikin_corr * Hb / 3\n",
    "    Mm_minikin = Rm_minikin * ds\n",
    "\n",
    "    # 🌊 Goda Method with wave angle and overtopping correction\n",
    "    alpha1 = 0.6 + 2 / np.sinh(4 * np.pi * ds / Ld1)\n",
    "    alpha2 = min((ds - d1) / (3 * ds), 2 * ds / Hb)\n",
    "    alpha3 = 1 - d1 / ds\n",
    "\n",
    "    Hmax = Hb\n",
    "    p1 = gamma * (1 + np.cos(beta)) * (alpha1 + alpha2 * np.cos(beta)**2) * Hmax / 2\n",
    "    p3 = alpha3 * p1\n",
    "\n",
    "    # Overtopping correction\n",
    "    if Hb > structure_height:\n",
    "        lambda_overtop = 0.5  # assume smooth foreshore\n",
    "        c = np.sqrt(g * ds)\n",
    "        p1 *= lambda_overtop\n",
    "\n",
    "    Rm_goda = p1 * Hb / 3\n",
    "    Mm_goda = Rm_goda * ds\n",
    "\n",
    "    # 🖼️ Plot wave and structure\n",
    "    wall_x = [0, 0, structure_width, structure_width, 0]\n",
    "    wall_y = [0, structure_height, structure_height, 0, 0]\n",
    "    wave_x = np.linspace(-10, 0, 100)\n",
    "    wave_y = Hb * np.sin(2 * np.pi * wave_x / 10) + ds\n",
    "\n",
    "    plt.figure(figsize=(10, 6))\n",
    "    plt.plot(wave_x, wave_y, label='Wave Profile', color='blue')\n",
    "    plt.fill(wall_x, wall_y, color='gray', label='Structure')\n",
    "    plt.axhline(ds, color='cyan', linestyle='--', label='Still Water Level')\n",
    "    plt.text(-9, ds + Hb + 0.5, f'Wave Height = {Hb:.1f} m', color='blue')\n",
    "    plt.text(1.5, structure_height / 2, 'Structure', rotation=90, color='white', backgroundcolor='gray')\n",
    "    plt.xlabel('Horizontal Distance (m)')\n",
    "    plt.ylabel('Elevation (m)')\n",
    "    plt.title('Wave Impact on Coastal Structure')\n",
    "    plt.grid(True)\n",
    "    plt.legend()\n",
    "    plt.tight_layout()\n",
    "    plt.show()\n",
    "\n",
    "    # 📊 Print results\n",
    "    print(\"🔹 Minikin Method (Corrected):\")\n",
    "    print(f\"  Max Pressure: {pm_minikin_corr:.2f} Pa\")\n",
    "    print(f\"  Resultant Force: {Rm_minikin:.2f} N/m\")\n",
    "    print(f\"  Overturning Moment: {Mm_minikin:.2f} Nm/m\")\n",
    "\n",
    "    print(\"\\n🔹 Goda Method (Corrected):\")\n",
    "    print(f\"  Max Pressure p1: {p1:.2f} Pa\")\n",
    "    print(f\"  Reduced Pressure p3: {p3:.2f} Pa\")\n",
    "    print(f\"  Resultant Force: {Rm_goda:.2f} N/m\")\n",
    "    print(f\"  Overturning Moment: {Mm_goda:.2f} Nm/m\")\n",
    "\n",
    "    # 📈 Comparison bar chart\n",
    "    methods = ['Minikin', 'Goda']\n",
    "    moments = [Mm_minikin, Mm_goda]\n",
    "    plt.figure(figsize=(8, 5))\n",
    "    plt.bar(methods, moments, color=['skyblue', 'salmon'])\n",
    "    plt.ylabel('Overturning Moment (Nm/m)')\n",
    "    plt.title('Comparison of Wave-Induced Moments')\n",
    "    plt.grid(True)\n",
    "    plt.tight_layout()\n",
    "    plt.show()\n",
    "\n",
    "# 🎛️ Interactive sliders\n",
    "interact(\n",
    "    wave_force_model,\n",
    "    Hb=FloatSlider(value=3.0, min=1.0, max=6.0, step=0.1, description='Breaker Height Hb (m)'),\n",
    "    ds=FloatSlider(value=5.0, min=1.0, max=10.0, step=0.1, description='Depth at Toe ds (m)'),\n",
    "    structure_height=FloatSlider(value=5.0, min=2.0, max=10.0, step=0.1, description='Structure Height (m)'),\n",
    "    structure_width=FloatSlider(value=2.0, min=1.0, max=5.0, step=0.1, description='Structure Width (m)'),\n",
    "    T=FloatSlider(value=8.0, min=4.0, max=12.0, step=0.5, description='Wave Period T (s)'),\n",
    "    slope=FloatSlider(value=0.02, min=0.005, max=0.05, step=0.005, description='Beach Slope'),\n",
    "    wall_angle_deg=FloatSlider(value=0, min=0, max=30, step=1, description='Wall Angle (°)'),\n",
    "    wave_angle_deg=FloatSlider(value=0, min=0, max=45, step=1, description='Wave Angle (°)')\n",
    ");"
   ]
  },
  {
   "cell_type": "markdown",
   "id": "aa84d774-0354-4153-8bab-e340c209533d",
   "metadata": {},
   "source": [
    "## 5. Self-Assessment"
   ]
  },
  {
   "cell_type": "markdown",
   "id": "bd1ab5d1-f5ec-40f5-80e5-9bb4e914e675",
   "metadata": {},
   "source": [
    "### 📘 Conceptual Questions\n",
    "\n",
    "- What physical processes are captured by the Airy wave theory used in the `calculate_wavelength` function?\n",
    "- Why is the dispersion relation nonlinear, and how does the iterative solver address this?\n",
    "- How does wave period $( T $) influence wavelength $( L $), and what implications does this have for wave loading?\n",
    "\n",
    "### Force Estimation Methods\n",
    "- What are the key assumptions behind the Minikin method for estimating wave pressure and force?\n",
    "- How does the Goda method incorporate wave angle and overtopping effects that the Minikin method does not?\n",
    "- Why is wall angle correction applied in the Minikin method but not explicitly in the Goda method?\n",
    "\n",
    "### Structural Interaction\n",
    "- How does the depth at the toe $( d_s $) affect the magnitude of wave-induced forces and moments?\n",
    "- What role does the structure height play in determining overtopping and pressure distribution?\n",
    "- Why is the overturning moment a critical metric for structural stability?\n",
    "\n",
    "---\n",
    "\n",
    "### Reflective Questions\n",
    "\n",
    "- In what coastal scenarios might the Minikin method be more appropriate than the Goda method, and vice versa?\n",
    "- How would the results change if the structure were submerged or if the wave height exceeded the structure height significantly?\n",
    "- What are the limitations of using linear wave theory (Airy) in this context, especially for high-energy wave events?\n",
    "- How could this model be extended to include dynamic wave loading or time-varying wave trains?\n",
    "- What are the implications of assuming a constant seawater density and unit weight across all scenarios?\n",
    "\n",
    "---\n",
    "\n",
    "### ❓ Quiz Questions\n",
    "\n",
    "### Multiple Choice\n",
    "\n",
    "1. **Which parameter most directly affects the wavelength in the dispersion relation?**  \n",
    "   A. Breaker height $( H_b $)  \n",
    "   B. Wave period $( T $)  \n",
    "   C. Structure width  \n",
    "   D. Wall angle  \n",
    "   **Answer:** B\n",
    "\n",
    "2. **In the Goda method, which factor reduces the pressure due to overtopping?**  \n",
    "   A. Wall angle  \n",
    "   B. Beach slope  \n",
    "   C. $( \\lambda_{\\text{overtop}} $)  \n",
    "   D. Structure width  \n",
    "   **Answer:** C\n",
    "\n",
    "3. **The Minikin method calculates pressure using which of the following expressions?**  \n",
    "   A. $( \\gamma H_b / ds \\cdot (d_1 + ds)/L $)  \n",
    "   B. $( \\rho g H_b^2 / L $)  \n",
    "   C. $( \\gamma H_b \\cdot \\cos(\\theta) $)  \n",
    "   D. $( \\gamma H_b / L \\cdot \\tan(\\beta) $)  \n",
    "   **Answer:** A\n",
    "\n",
    "### True/False\n",
    "\n",
    "4. **The Goda method accounts for wave angle effects using cosine terms.**  \n",
    "   **Answer:** True\n",
    "\n",
    "5. **The Minikin method includes overtopping correction by default.**  \n",
    "   **Answer:** False\n",
    "\n",
    "6. **Increasing the wall angle reduces the resultant force in the Minikin method.**  \n",
    "   **Answer:** True\n",
    "\n",
    "### Short Answer\n",
    "\n",
    "7. **Explain why the overturning moment is calculated as force × depth. What does this represent physically?**  \n",
    "   *Answer:* It represents the torque exerted by wave forces about the base of the structure, which influences its rotational stability.\n",
    "\n",
    "8. **How does increasing the beach slope affect the effective depth $( d_1 $) and wave loading?**  \n",
    "   *Answer:* A steeper slope increases $( d_1 $), which can reduce wave steepness and alter pressure distribution.\n"
   ]
  }
 ],
 "metadata": {
  "kernelspec": {
   "display_name": "Python [conda env:base] *",
   "language": "python",
   "name": "conda-base-py"
  },
  "language_info": {
   "codemirror_mode": {
    "name": "ipython",
    "version": 3
   },
   "file_extension": ".py",
   "mimetype": "text/x-python",
   "name": "python",
   "nbconvert_exporter": "python",
   "pygments_lexer": "ipython3",
   "version": "3.12.7"
  },
  "widgets": {
   "application/vnd.jupyter.widget-state+json": {
    "state": {
     "0c2fba65be2149cfb6f3bf0515b2c63e": {
      "model_module": "@jupyter-widgets/output",
      "model_module_version": "1.0.0",
      "model_name": "OutputModel",
      "state": {
       "layout": "IPY_MODEL_f4c232d324934480999f90ee5de21f0f",
       "outputs": [
        {
         "name": "stdout",
         "output_type": "stream",
         "text": "📏 Breaking Depth: 15.60 m\n🚢 Longshore Transport (proxy): 18419.47 W/m\n\n🧭 → Sediment likely to drift downdrift due to oblique wave incidence.\n"
        }
       ]
      }
     },
     "144114bcf16a4d1b90742bab303653e7": {
      "model_module": "@jupyter-widgets/controls",
      "model_module_version": "2.0.0",
      "model_name": "FloatSliderModel",
      "state": {
       "behavior": "drag-tap",
       "description": "Wave Angle (°)",
       "layout": "IPY_MODEL_97915f6dcb034bacb3a4c9a50977ca0c",
       "max": 45,
       "style": "IPY_MODEL_2822683eefd444a19b3e140362492118"
      }
     },
     "1a7875434d244cdbb90309437af6072b": {
      "model_module": "@jupyter-widgets/base",
      "model_module_version": "2.0.0",
      "model_name": "LayoutModel",
      "state": {}
     },
     "2197e18952e74c52bc3f41cff2a6f580": {
      "model_module": "@jupyter-widgets/controls",
      "model_module_version": "2.0.0",
      "model_name": "SliderStyleModel",
      "state": {
       "description_width": ""
      }
     },
     "2822683eefd444a19b3e140362492118": {
      "model_module": "@jupyter-widgets/controls",
      "model_module_version": "2.0.0",
      "model_name": "SliderStyleModel",
      "state": {
       "description_width": ""
      }
     },
     "36a899bacd37494a86b7c9b1c188720b": {
      "model_module": "@jupyter-widgets/controls",
      "model_module_version": "2.0.0",
      "model_name": "SliderStyleModel",
      "state": {
       "description_width": ""
      }
     },
     "36ccabf3ea7041a3987c7543f5024ac5": {
      "model_module": "@jupyter-widgets/controls",
      "model_module_version": "2.0.0",
      "model_name": "FloatSliderModel",
      "state": {
       "behavior": "drag-tap",
       "description": "Breaker Height Hb (m)",
       "layout": "IPY_MODEL_6fe17791604b4f7b8993fac3d59455c9",
       "max": 6,
       "min": 1,
       "step": 0.1,
       "style": "IPY_MODEL_519d1143b803468aba7125013bc21d90",
       "value": 3
      }
     },
     "3af1705e42db42528d82b350ee873b28": {
      "model_module": "@jupyter-widgets/base",
      "model_module_version": "2.0.0",
      "model_name": "LayoutModel",
      "state": {}
     },
     "43a9510c9a724bf8845138a50840f8a3": {
      "model_module": "@jupyter-widgets/controls",
      "model_module_version": "2.0.0",
      "model_name": "SliderStyleModel",
      "state": {
       "description_width": ""
      }
     },
     "448636a750fb4c3fbfe909c6e1fb1870": {
      "model_module": "@jupyter-widgets/controls",
      "model_module_version": "2.0.0",
      "model_name": "FloatSliderModel",
      "state": {
       "behavior": "drag-tap",
       "description": "Depth at Toe ds (m)",
       "layout": "IPY_MODEL_64124245f4a54512ba1ab0baceef2cd9",
       "max": 10,
       "min": 1,
       "step": 0.1,
       "style": "IPY_MODEL_8940c302bcfe41a2b06f1ea210332d39",
       "value": 5
      }
     },
     "47573eb450c642c794e4dff94b79ce8a": {
      "model_module": "@jupyter-widgets/controls",
      "model_module_version": "2.0.0",
      "model_name": "SliderStyleModel",
      "state": {
       "description_width": ""
      }
     },
     "48220777fdca48e59a391e4a77bb60cd": {
      "model_module": "@jupyter-widgets/controls",
      "model_module_version": "2.0.0",
      "model_name": "FloatSliderModel",
      "state": {
       "behavior": "drag-tap",
       "description": "Beach Slope",
       "layout": "IPY_MODEL_ad9041b443574235936f0498fc56c2b0",
       "max": 0.05,
       "min": 0.005,
       "step": 0.005,
       "style": "IPY_MODEL_967602b133c14af2927ec45195bf7afc",
       "value": 0.02
      }
     },
     "4db5972fe2c8400dbebcfacf5a3fc15f": {
      "model_module": "@jupyter-widgets/controls",
      "model_module_version": "2.0.0",
      "model_name": "FloatSliderModel",
      "state": {
       "behavior": "drag-tap",
       "description": "Wave Period T (s)",
       "layout": "IPY_MODEL_bd2a09448e2b4429b6cf80da8ed1f7fa",
       "max": 15,
       "min": 4,
       "step": 0.5,
       "style": "IPY_MODEL_36a899bacd37494a86b7c9b1c188720b",
       "value": 8
      }
     },
     "519d1143b803468aba7125013bc21d90": {
      "model_module": "@jupyter-widgets/controls",
      "model_module_version": "2.0.0",
      "model_name": "SliderStyleModel",
      "state": {
       "description_width": ""
      }
     },
     "54582374d9ea4300a1ead41a52a35389": {
      "model_module": "@jupyter-widgets/base",
      "model_module_version": "2.0.0",
      "model_name": "LayoutModel",
      "state": {}
     },
     "575aee7a5d2742889cf459de94b5920b": {
      "model_module": "@jupyter-widgets/controls",
      "model_module_version": "2.0.0",
      "model_name": "SliderStyleModel",
      "state": {
       "description_width": ""
      }
     },
     "639630ba18b241cb8e14d10a6942112a": {
      "model_module": "@jupyter-widgets/controls",
      "model_module_version": "2.0.0",
      "model_name": "FloatSliderModel",
      "state": {
       "behavior": "drag-tap",
       "description": "Structure Height (m)",
       "layout": "IPY_MODEL_f5ec0ca8779c4dd4911dcf7950d251dd",
       "max": 10,
       "min": 2,
       "step": 0.1,
       "style": "IPY_MODEL_9e41c62170a042ec959d8e610b45e0f4",
       "value": 5
      }
     },
     "64124245f4a54512ba1ab0baceef2cd9": {
      "model_module": "@jupyter-widgets/base",
      "model_module_version": "2.0.0",
      "model_name": "LayoutModel",
      "state": {}
     },
     "6d02a484eb3e43218183ef5bacbc62f4": {
      "model_module": "@jupyter-widgets/controls",
      "model_module_version": "2.0.0",
      "model_name": "FloatSliderModel",
      "state": {
       "behavior": "drag-tap",
       "description": "Wave Period T (s)",
       "layout": "IPY_MODEL_ba3335aba8314d1cba5a749b71c25a84",
       "max": 12,
       "min": 4,
       "step": 0.5,
       "style": "IPY_MODEL_a5f42dd924624872aee475e6eb3a4824",
       "value": 8
      }
     },
     "6ea79a562a5e48f28c25fa0db7d81bf4": {
      "model_module": "@jupyter-widgets/base",
      "model_module_version": "2.0.0",
      "model_name": "LayoutModel",
      "state": {}
     },
     "6fe17791604b4f7b8993fac3d59455c9": {
      "model_module": "@jupyter-widgets/base",
      "model_module_version": "2.0.0",
      "model_name": "LayoutModel",
      "state": {}
     },
     "710f685d22544880a8dbe0adf11e492a": {
      "model_module": "@jupyter-widgets/base",
      "model_module_version": "2.0.0",
      "model_name": "LayoutModel",
      "state": {}
     },
     "8940c302bcfe41a2b06f1ea210332d39": {
      "model_module": "@jupyter-widgets/controls",
      "model_module_version": "2.0.0",
      "model_name": "SliderStyleModel",
      "state": {
       "description_width": ""
      }
     },
     "8a6a9cc2f61241da855a59a832ff6bc5": {
      "model_module": "@jupyter-widgets/controls",
      "model_module_version": "2.0.0",
      "model_name": "FloatSliderModel",
      "state": {
       "behavior": "drag-tap",
       "description": "Structure Slope",
       "layout": "IPY_MODEL_710f685d22544880a8dbe0adf11e492a",
       "max": 1,
       "min": 0.05,
       "step": 0.05,
       "style": "IPY_MODEL_eae366b3ff174f1da7b1c282c9a58d96",
       "value": 0.2
      }
     },
     "8ff27381e4e44a7288bd3f4835ae429c": {
      "model_module": "@jupyter-widgets/controls",
      "model_module_version": "2.0.0",
      "model_name": "FloatSliderModel",
      "state": {
       "behavior": "drag-tap",
       "description": "Structure Width (m)",
       "layout": "IPY_MODEL_54582374d9ea4300a1ead41a52a35389",
       "max": 5,
       "min": 1,
       "step": 0.1,
       "style": "IPY_MODEL_dfef47a5ba764ed1bfd55557e6e68bde",
       "value": 2
      }
     },
     "958c763911164992bddaba91e90598c0": {
      "model_module": "@jupyter-widgets/base",
      "model_module_version": "2.0.0",
      "model_name": "LayoutModel",
      "state": {}
     },
     "967602b133c14af2927ec45195bf7afc": {
      "model_module": "@jupyter-widgets/controls",
      "model_module_version": "2.0.0",
      "model_name": "SliderStyleModel",
      "state": {
       "description_width": ""
      }
     },
     "97915f6dcb034bacb3a4c9a50977ca0c": {
      "model_module": "@jupyter-widgets/base",
      "model_module_version": "2.0.0",
      "model_name": "LayoutModel",
      "state": {}
     },
     "9e41c62170a042ec959d8e610b45e0f4": {
      "model_module": "@jupyter-widgets/controls",
      "model_module_version": "2.0.0",
      "model_name": "SliderStyleModel",
      "state": {
       "description_width": ""
      }
     },
     "a5f42dd924624872aee475e6eb3a4824": {
      "model_module": "@jupyter-widgets/controls",
      "model_module_version": "2.0.0",
      "model_name": "SliderStyleModel",
      "state": {
       "description_width": ""
      }
     },
     "ad9041b443574235936f0498fc56c2b0": {
      "model_module": "@jupyter-widgets/base",
      "model_module_version": "2.0.0",
      "model_name": "LayoutModel",
      "state": {}
     },
     "b191ddb2212147cc9545320771644405": {
      "model_module": "@jupyter-widgets/base",
      "model_module_version": "2.0.0",
      "model_name": "LayoutModel",
      "state": {}
     },
     "b87f6d19a033487994b325a9cb316d6c": {
      "model_module": "@jupyter-widgets/base",
      "model_module_version": "2.0.0",
      "model_name": "LayoutModel",
      "state": {}
     },
     "ba3335aba8314d1cba5a749b71c25a84": {
      "model_module": "@jupyter-widgets/base",
      "model_module_version": "2.0.0",
      "model_name": "LayoutModel",
      "state": {}
     },
     "bd2a09448e2b4429b6cf80da8ed1f7fa": {
      "model_module": "@jupyter-widgets/base",
      "model_module_version": "2.0.0",
      "model_name": "LayoutModel",
      "state": {}
     },
     "c893d7f5db534ec2a6f8e5d2f94cd784": {
      "model_module": "@jupyter-widgets/output",
      "model_module_version": "1.0.0",
      "model_name": "OutputModel",
      "state": {
       "layout": "IPY_MODEL_b87f6d19a033487994b325a9cb316d6c",
       "outputs": [
        {
         "data": {
          "image/png": "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",
          "text/plain": "<Figure size 1000x600 with 1 Axes>"
         },
         "metadata": {},
         "output_type": "display_data"
        },
        {
         "name": "stdout",
         "output_type": "stream",
         "text": "🔹 Minikin Method (Corrected):\n  Max Pressure: 12944.16 Pa\n  Resultant Force: 12944.16 N/m\n  Overturning Moment: 64720.81 Nm/m\n\n🔹 Goda Method (Corrected):\n  Max Pressure p1: 5782.41 Pa\n  Reduced Pressure p3: -1227.75 Pa\n  Resultant Force: 5782.41 N/m\n  Overturning Moment: 28912.03 Nm/m\n"
        },
        {
         "data": {
          "image/png": "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",
          "text/plain": "<Figure size 800x500 with 1 Axes>"
         },
         "metadata": {},
         "output_type": "display_data"
        }
       ]
      }
     },
     "d0a61990450b46ba81597b72e8e785af": {
      "model_module": "@jupyter-widgets/controls",
      "model_module_version": "2.0.0",
      "model_name": "FloatSliderModel",
      "state": {
       "behavior": "drag-tap",
       "description": "Structure Height (m)",
       "layout": "IPY_MODEL_3af1705e42db42528d82b350ee873b28",
       "max": 10,
       "min": 1,
       "step": 0.5,
       "style": "IPY_MODEL_2197e18952e74c52bc3f41cff2a6f580",
       "value": 3.5
      }
     },
     "d0f071989da943f294ac82570da6278a": {
      "model_module": "@jupyter-widgets/controls",
      "model_module_version": "2.0.0",
      "model_name": "FloatSliderModel",
      "state": {
       "behavior": "drag-tap",
       "description": "Wave Height Hs (m)",
       "layout": "IPY_MODEL_958c763911164992bddaba91e90598c0",
       "max": 5,
       "min": 0.5,
       "step": 0.1,
       "style": "IPY_MODEL_575aee7a5d2742889cf459de94b5920b",
       "value": 2
      }
     },
     "d783c5738a854de097ba247728cb7351": {
      "model_module": "@jupyter-widgets/base",
      "model_module_version": "2.0.0",
      "model_name": "LayoutModel",
      "state": {}
     },
     "dfef47a5ba764ed1bfd55557e6e68bde": {
      "model_module": "@jupyter-widgets/controls",
      "model_module_version": "2.0.0",
      "model_name": "SliderStyleModel",
      "state": {
       "description_width": ""
      }
     },
     "e414a6822c2949ebbaeab5731432d805": {
      "model_module": "@jupyter-widgets/controls",
      "model_module_version": "2.0.0",
      "model_name": "VBoxModel",
      "state": {
       "_dom_classes": [
        "widget-interact"
       ],
       "children": [
        "IPY_MODEL_36ccabf3ea7041a3987c7543f5024ac5",
        "IPY_MODEL_448636a750fb4c3fbfe909c6e1fb1870",
        "IPY_MODEL_639630ba18b241cb8e14d10a6942112a",
        "IPY_MODEL_8ff27381e4e44a7288bd3f4835ae429c",
        "IPY_MODEL_6d02a484eb3e43218183ef5bacbc62f4",
        "IPY_MODEL_48220777fdca48e59a391e4a77bb60cd",
        "IPY_MODEL_e8e2da65615c4b409cc12ce2b11f24db",
        "IPY_MODEL_144114bcf16a4d1b90742bab303653e7",
        "IPY_MODEL_c893d7f5db534ec2a6f8e5d2f94cd784"
       ],
       "layout": "IPY_MODEL_b191ddb2212147cc9545320771644405"
      }
     },
     "e8e2da65615c4b409cc12ce2b11f24db": {
      "model_module": "@jupyter-widgets/controls",
      "model_module_version": "2.0.0",
      "model_name": "FloatSliderModel",
      "state": {
       "behavior": "drag-tap",
       "description": "Wall Angle (°)",
       "layout": "IPY_MODEL_d783c5738a854de097ba247728cb7351",
       "max": 30,
       "style": "IPY_MODEL_43a9510c9a724bf8845138a50840f8a3"
      }
     },
     "eae366b3ff174f1da7b1c282c9a58d96": {
      "model_module": "@jupyter-widgets/controls",
      "model_module_version": "2.0.0",
      "model_name": "SliderStyleModel",
      "state": {
       "description_width": ""
      }
     },
     "f4c232d324934480999f90ee5de21f0f": {
      "model_module": "@jupyter-widgets/base",
      "model_module_version": "2.0.0",
      "model_name": "LayoutModel",
      "state": {}
     },
     "f507d466c451495195bde18d0a36a78a": {
      "model_module": "@jupyter-widgets/controls",
      "model_module_version": "2.0.0",
      "model_name": "FloatSliderModel",
      "state": {
       "behavior": "drag-tap",
       "description": "Beach Slope tan(β)",
       "layout": "IPY_MODEL_6ea79a562a5e48f28c25fa0db7d81bf4",
       "max": 0.3,
       "min": 0.01,
       "step": 0.01,
       "style": "IPY_MODEL_47573eb450c642c794e4dff94b79ce8a",
       "value": 0.09999999999999999
      }
     },
     "f5ec0ca8779c4dd4911dcf7950d251dd": {
      "model_module": "@jupyter-widgets/base",
      "model_module_version": "2.0.0",
      "model_name": "LayoutModel",
      "state": {}
     },
     "f7cbb556920e454ca08b555b9fb86fd5": {
      "model_module": "@jupyter-widgets/controls",
      "model_module_version": "2.0.0",
      "model_name": "VBoxModel",
      "state": {
       "_dom_classes": [
        "widget-interact"
       ],
       "children": [
        "IPY_MODEL_8a6a9cc2f61241da855a59a832ff6bc5",
        "IPY_MODEL_d0a61990450b46ba81597b72e8e785af",
        "IPY_MODEL_d0f071989da943f294ac82570da6278a",
        "IPY_MODEL_4db5972fe2c8400dbebcfacf5a3fc15f",
        "IPY_MODEL_f507d466c451495195bde18d0a36a78a",
        "IPY_MODEL_0c2fba65be2149cfb6f3bf0515b2c63e"
       ],
       "layout": "IPY_MODEL_1a7875434d244cdbb90309437af6072b"
      }
     }
    },
    "version_major": 2,
    "version_minor": 0
   }
  }
 },
 "nbformat": 4,
 "nbformat_minor": 5
}
