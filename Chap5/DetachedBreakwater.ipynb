{
 "cells": [
  {
   "cell_type": "markdown",
   "id": "12f6c44f-d605-4288-878b-2786c8e649fb",
   "metadata": {},
   "source": [
    "# Chapter 5 Coastal Engineering: Detached Breakwater"
   ]
  },
  {
   "cell_type": "markdown",
   "id": "dca016eb-7fd5-44b3-bd1e-0df218a59e6f",
   "metadata": {},
   "source": [
    "1. [Introduction: Detached Breakwater](#1.-Introduction)\n",
    "2. [Simulation: Detached Breakwater](#2.-Simulation)\n",
    "3. [Self-Assessment](#3.-Self-Assessment)"
   ]
  },
  {
   "cell_type": "markdown",
   "id": "4e4c9dd1-ad4a-4f5c-86eb-d2837ac1b132",
   "metadata": {},
   "source": [
    "## 1. Introduction"
   ]
  },
  {
   "cell_type": "markdown",
   "id": "05df66c4-0cac-41a0-bc90-58da3d52262f",
   "metadata": {},
   "source": [
    "\n",
    "### What Are Detached Breakwaters?\n",
    "\n",
    "Detached breakwaters are **shore-parallel coastal structures** placed offshore to reduce wave energy reaching the beach. They are typically constructed from rock, concrete, or lightweight materials and may be:\n",
    "- **Emerged** (above water level)\n",
    "- **Submerged** (low-crested)\n",
    "- **Segmented** (with gaps between units)\n",
    "\n",
    "Their primary goals are:\n",
    "- To **dissipate wave energy**\n",
    "- To **modify sediment transport**\n",
    "- To **promote beach accretion** and reduce erosion\n",
    "\n",
    "---\n",
    "\n",
    "### Design Philosophy\n",
    "\n",
    "Design of detached breakwaters involves balancing:\n",
    "- **Hydrodynamic performance** (wave transmission, reflection)\n",
    "- **Morphological response** (salient or tombolo formation)\n",
    "- **Environmental impact** (habitat, circulation)\n",
    "- **Constructability and cost**\n",
    "\n",
    "Key geometric parameters:\n",
    "- $( L_s $): Breakwater length  \n",
    "- $( X $): Distance offshore  \n",
    "- $( L_s/X $): Governs shoreline response\n",
    "\n",
    "Empirical studies (e.g., Gourlay, CERC, Suh & Dalrymple) guide design thresholds:\n",
    "- $( L_s/X < 0.5 $): Limited response  \n",
    "- $( 0.5 < L_s/X < 1.5 $): Salient formation  \n",
    "- $( L_s/X > 1.5 $): Tombolo formation\n",
    "\n",
    "---\n",
    "\n",
    "### Shoreline Response Types\n",
    "\n",
    "### 1. **Salient**\n",
    "- Bell-shaped shoreline protrusion\n",
    "- Does not connect to breakwater\n",
    "- Allows partial wave energy and sediment flow\n",
    "- Less risk of downstream erosion\n",
    "\n",
    "### 2. **Tombolo**\n",
    "- Sand accumulation connects beach to breakwater\n",
    "- Creates sheltered zone\n",
    "- May cause upstream accretion and downstream erosion\n",
    "- Often forms when $( L_s/X > 1.5 $)\n",
    "\n",
    "---\n",
    "\n",
    "### Global Applications\n",
    "\n",
    "Detached breakwaters have been used extensively in:\n",
    "| Country       | Application Highlights                                 |\n",
    "|---------------|--------------------------------------------------------|\n",
    "| 🇯🇵 Japan       | Over 2,100 breakwaters built (1962–1981) for erosion control |\n",
    "| 🇮🇹 Italy       | Common along Adriatic coast for beach stabilization     |\n",
    "| 🇪🇸 Spain       | Used on Mediterranean coast; geometric models developed |\n",
    "| 🇺🇸 USA         | Projects in California, Great Lakes, Gulf Coast         |\n",
    "| 🇮🇱 Israel      | Tombolo formation observed in Tel Aviv                  |\n",
    "| 🇦🇺 Australia   | Used for beach protection and recreation                |\n",
    "\n",
    "Studies show mixed results depending on wave climate, sediment availability, and structure layout.\n",
    "\n",
    "---\n",
    "\n",
    "### Louisiana Case Study: Coastal Restoration\n",
    "\n",
    "### Rockefeller Wildlife Refuge (Cameron Parish)\n",
    "- One of the most biologically diverse areas in the U.S.\n",
    "- Faced erosion rates up to 300 ft/year\n",
    "- CWPPRA-funded project installed 4 miles of segmented breakwaters\n",
    "- Used **lightweight aggregate core** to prevent\n",
    "\n",
    "\n",
    "---\n",
    "\n",
    "### ✅ Conceptual Questions\n",
    "\n",
    "1. **What does the Ls/X ratio represent in breakwater design?**\n",
    "   - A. Ratio of wave height to crest elevation  \n",
    "   - B. Ratio of breakwater length to offshore distance  \n",
    "   - C. Ratio of sediment thickness to beach width  \n",
    "   - D. Ratio of wave direction to shoreline angle  \n",
    "\n",
    "2. **Which shoreline response is most likely when Ls/X > 1.5?**\n",
    "   - A. No accretion  \n",
    "   - B. Salient formation  \n",
    "   - C. Tombolo formation  \n",
    "   - D. Limited response  \n",
    "\n",
    "3. **Wave transmission coefficient (Kt) indicates:**\n",
    "   - A. The amount of wave energy absorbed by the breakwater  \n",
    "   - B. The fraction of wave energy reflected seaward  \n",
    "   - C. The fraction of wave energy passing through or over the breakwater  \n",
    "   - D. The angle of wave approach  \n",
    "\n",
    "4. **Which of the following is NOT a factor in predicting shoreline response?**\n",
    "   - A. Breakwater length  \n",
    "   - B. Offshore distance  \n",
    "   - C. Wave angle  \n",
    "   - D. Crest elevation  \n",
    "\n",
    "5. **Which study suggests that Ls/X < 0.6 leads to tombolo formation?**\n",
    "   - A. Gourlay (1981)  \n",
    "   - B. McCormick (1993)  \n",
    "   - C. Nir (1982)  \n",
    "   - D. Suh & Dalrymple (1987)  \n",
    "\n",
    "---\n",
    "\n",
    "###  Code Interpretation Prompts\n",
    "\n",
    "1. Why is the breakwater plotted parallel to the coastline in the simulation?  \n",
    "2. What does the red arrow on the map represent, and how does its angle affect sediment transport?  \n",
    "3. How does changing the crest elevation affect wave transmission and shoreline response?  \n",
    "4. Why are multiple empirical methods used instead of relying on a single predictor?  \n",
    "5. How does the scoring system help identify the most consistent shoreline response?\n",
    "\n",
    "---\n",
    "\n",
    "###  Reflective Questions\n",
    "\n",
    "1. **How do breakwater geometry and placement influence sediment accumulation and beach stability?**  \n",
    "2. **Why is it important to visualize wave direction in coastal structure design?**  \n",
    "3. **What are the limitations of using empirical Ls/X ratios without site-specific data?**  \n",
    "4. **How would you modify the design if most methods predict limited response?**  \n",
    "5. **What insights can be gained by comparing shoreline response across multiple studies?**\n",
    "\n",
    "---\n",
    "\n",
    "### Design Insight\n",
    "\n",
    "> “Detached breakwaters interact with waves and sediment in complex ways. Using multiple shoreline response models helps engineers make informed decisions and adapt designs to site-specific conditions.”\n",
    "\n",
    "---\n",
    "| Parameter               | Description                                  |\n",
    "|------------------------|----------------------------------------------|\n",
    "| Wave Height (Hs)       | Significant wave height (m)                  |\n",
    "| Water Depth (h)        | Depth at breakwater location (m)             |\n",
    "| Crest Elevation (H)    | Elevation of breakwater crest (m)            |\n",
    "| Breakwater Length (Ls) | Horizontal length of breakwater (m)          |\n",
    "| Distance Offshore (X)  | Distance from shoreline to breakwater (m)    |\n",
    "| Submerged/Emerged      | Breakwater type (submerged or emerged)       |\n",
    "| Wave Direction (θ)     | Angle from shore-normal (degrees)            |\n",
    "\n",
    "---\n",
    "\n",
    "### Computed Parameters\n",
    "\n",
    "- **Ls/X Ratio**: Used to classify shoreline response  \n",
    "- **Wave Transmission Coefficient (Kt)**: Fraction of wave energy transmitted past the breakwater  \n",
    "- **Wave Reflection Coefficient (Kr)**: Fraction of wave energy reflected seaward  \n",
    "- **Wave Direction Vector**: Visualized as an arrow on the map\n",
    "\n",
    "---\n",
    "\n",
    "### Shoreline Response Models Evaluated\n",
    "\n",
    "| Study                      | Response Criteria                          |\n",
    "|---------------------------|--------------------------------------------|\n",
    "| Inman & Fritschy (1966)   | Ls/X ≤ 0.33 → Limited                      |\n",
    "| Noble (1978)              | Ls/X ≤ 0.17 → Limited                      |\n",
    "| Gourlay (1981)            | Ls/X ≥ 1 → Tombolo; 0.4–1 → Salient        |\n",
    "| Nir (1982)                | Ls/X ≤ 0.5 → No Accretion                  |\n",
    "| CERC (1984)               | Ls/X ≤ 1 → Salient; >2 → Tombolo           |\n",
    "| Dally & Pope (1986)       | Ls/X ≥ 1.5 → Tombolo                       |\n",
    "| Suh & Dalrymple (1987)    | Ls/X ≥ 1 → Tombolo                         |\n",
    "| Herbich (1989)            | Ls/X > 1 → Tombolo; ≤0.5 → Limited         |\n",
    "| Hsu & Silvester (1980)    | Ls/X > 1.33 → Tombolo                      |\n",
    "| Ahren & Cox (1990)        | Ls/X > 1.5 → Tombolo                       |\n",
    "| McCormick (1993)          | Ls/X < 0.6 → Tombolo; >0.6 → Salient       |\n",
    "\n",
    "### Output Summary\n",
    "\n",
    "- **Individual Predictions**: Each method classifies the shoreline response  \n",
    "- **Response Score**: Counts of methods predicting tombolo, salient, limited, or no accretion  \n",
    "- **Top 3 Consistent Responses**: Ranked by number of supporting methods  \n",
    "- **Visual Map**: Shows coastline, breakwater, offshore distance, and wave direction\n",
    "\n",
    "### Interpretation\n",
    "\n",
    "- A high Ls/X ratio (>1.5) typically leads to **tombolo formation**, indicating strong shoreline accretion.\n",
    "- Moderate ratios (0.7–1.5) suggest **salient formation**, with partial sediment buildup.\n",
    "- Low ratios (<0.5) result in **limited or no shoreline response**, requiring design adjustment.\n",
    "- Consistency across multiple methods improves confidence in shoreline behavior prediction.\n",
    "\n",
    "---\n",
    "### References\n",
    "\n",
    "- Shore Protection Manual (USACE, 1984)  \n",
    "- Coastal Engineering Research Center (CERC)  \n",
    "- Inman & Fritschy (1966), Gourlay (1981), Nir (1982), Dally & Pope (1986)  \n",
    "- Suh & Dalrymple (1987), Herbich (1989), Hsu & Silvester (1980), McCormick (1993)\n",
    "---\n",
    "\n",
    "> “Detached breakwaters are powerful tools for shoreline stabilization. This simulation helps engineers evaluate their effectiveness using multiple empirical models, ensuring robust and informed coastal design.”"
   ]
  },
  {
   "cell_type": "markdown",
   "id": "048b378f-3c49-43b3-a878-082ca7bb3008",
   "metadata": {},
   "source": [
    "## 2. Simulation"
   ]
  },
  {
   "cell_type": "code",
   "execution_count": 10,
   "id": "c62c3908-8418-48e6-9161-b057fe981164",
   "metadata": {},
   "outputs": [
    {
     "data": {
      "application/vnd.jupyter.widget-view+json": {
       "model_id": "61172250b5544bcaa0e628f89c002290",
       "version_major": 2,
       "version_minor": 0
      },
      "text/plain": [
       "interactive(children=(FloatSlider(value=1.5, description='Wave Height Hs (m)', max=5.0, min=0.5), FloatSlider(…"
      ]
     },
     "metadata": {},
     "output_type": "display_data"
    }
   ],
   "source": [
    "# 📌 Run this cell in a Jupyter Notebook\n",
    "import numpy as np\n",
    "import matplotlib.pyplot as plt\n",
    "import ipywidgets as widgets\n",
    "from IPython.display import display, clear_output\n",
    "\n",
    "# 📐 Shoreline response predictors from literature\n",
    "def shoreline_response_methods(Ls, X):\n",
    "    ratio = Ls / X\n",
    "    methods = {}\n",
    "\n",
    "    methods['Inman & Fritschy (1966)'] = 'Limited' if ratio <= 0.33 else 'Salient'\n",
    "    methods['Noble (1978)'] = 'Limited' if ratio <= 0.17 else 'Salient'\n",
    "    methods['Gourlay (1981)'] = 'Tombolo' if ratio >= 1 else 'Salient' if ratio >= 0.4 else 'Limited'\n",
    "    methods['Nir (1982)'] = 'No Accretion' if ratio <= 0.5 else 'Salient'\n",
    "    methods['CERC (1984)'] = 'Tombolo' if ratio > 2 else 'Salient'\n",
    "    methods['Dally & Pope (1986)'] = 'Tombolo' if ratio >= 1.5 else 'Salient'\n",
    "    methods['Suh & Dalrymple (1987)'] = 'Tombolo' if ratio >= 1 else 'Salient'\n",
    "    methods['Herbich (1989)'] = 'Tombolo' if ratio > 1 else 'Salient' if ratio > 0.5 else 'Limited'\n",
    "    methods['Hsu & Silvester (1980)'] = 'Tombolo' if ratio > 1.33 else 'Salient'\n",
    "    methods['Ahren & Cox (1990)'] = 'Tombolo' if ratio > 1.5 else 'Salient'\n",
    "    methods['McCormick (1993)'] = 'Salient' if ratio > 0.6 else 'Tombolo'\n",
    "\n",
    "    return methods\n",
    "\n",
    "# 📐 Suh & Dalrymple (1987) salient length prediction\n",
    "def predict_salient_length(X, Ls, G):\n",
    "    GX_ratio = (G * X) / (Ls**2)\n",
    "    Xs = X * 14.8 * GX_ratio * np.exp(-2.83 * np.sqrt(GX_ratio))\n",
    "    return round(Xs, 2)\n",
    "\n",
    "# 📐 Nir (1982) tombolo thickness estimation\n",
    "def predict_tombolo_thickness(Xs, Ls):\n",
    "    if Xs == 0 or Ls == 0:\n",
    "        return 0\n",
    "    thickness = 1.78 - 0.809 * (Xs / Ls)\n",
    "    return round(max(thickness, 0), 2)\n",
    "\n",
    "# 📐 Herbich (1989) sediment volume estimation\n",
    "def predict_sediment_volume(X, Ls, width=30):\n",
    "    ratio = X / Ls\n",
    "    Qb_per_length = np.exp(0.315 - 1.922 * ratio)\n",
    "    Qb_total = Qb_per_length * width  # assume 30 m alongshore width\n",
    "    return round(Qb_total, 2)\n",
    "\n",
    "# 📊 Interactive design function\n",
    "def breakwater_design(Hs, h_breakwater, H_breakwater, L_breakwater, X_offshore, submerged, wave_angle_deg, gap):\n",
    "    clear_output(wait=True)\n",
    "\n",
    "    ratio = L_breakwater / X_offshore\n",
    "    methods = shoreline_response_methods(L_breakwater, X_offshore)\n",
    "    salient_length = predict_salient_length(X_offshore, L_breakwater, gap)\n",
    "    tombolo_thickness = predict_tombolo_thickness(salient_length, L_breakwater)\n",
    "    sediment_volume = predict_sediment_volume(X_offshore, L_breakwater)\n",
    "\n",
    "    # Count responses\n",
    "    counts = {'Tombolo': 0, 'Salient': 0, 'Limited': 0, 'No Accretion': 0}\n",
    "    for m in methods.values():\n",
    "        counts[m] += 1\n",
    "\n",
    "    top_consistent = sorted(counts.items(), key=lambda x: -x[1])[:3]\n",
    "\n",
    "    # 📋 Output summary\n",
    "    print(f\"📏 Breakwater Length (Ls): {L_breakwater:.1f} m\")\n",
    "    print(f\"📍 Distance Offshore (X): {X_offshore:.1f} m\")\n",
    "    print(f\"🔢 Ls/X Ratio: {ratio:.2f}\")\n",
    "    print(f\"🔀 Gap Between Segments (G): {gap:.1f} m\")\n",
    "    print(f\"📐 Predicted Salient Length (Xs): {salient_length:.2f} m\")\n",
    "    print(f\"🧱 Estimated Tombolo Thickness: {tombolo_thickness:.2f} m\")\n",
    "    print(f\"🏖️ Estimated Sediment Volume (Herbich): {sediment_volume:.2f} m³ per 30 m width\")\n",
    "    print(f\"🧭 Wave Direction: {wave_angle_deg:.1f}° from shore-normal\\n\")\n",
    "\n",
    "    print(\"📊 Shoreline Response Predictions:\")\n",
    "    for method, result in methods.items():\n",
    "        print(f\" - {method}: {result}\")\n",
    "\n",
    "    print(\"\\n🏆 Top 3 Most Consistent Predictions:\")\n",
    "    for label, score in top_consistent:\n",
    "        print(f\" - {label}: {score} methods\")\n",
    "\n",
    "    # 📈 Geometry visualization\n",
    "    fig, ax = plt.subplots(figsize=(10, 6))\n",
    "\n",
    "    # Plot coastline\n",
    "    ax.plot([0, L_breakwater + 40], [0, 0], 'b--', label='Coastline')\n",
    "\n",
    "    # Plot breakwater\n",
    "    x_start = 20\n",
    "    x_end = x_start + L_breakwater\n",
    "    y_base = -X_offshore\n",
    "    ax.plot([x_start, x_end], [y_base, y_base], color='gray', linewidth=6, label='Breakwater')\n",
    "    ax.text((x_start + x_end) / 2, y_base - 1, 'Breakwater Crest', ha='center', color='black')\n",
    "\n",
    "    # Annotate offshore distance\n",
    "    ax.annotate('', xy=(x_start, 0), xytext=(x_start, y_base),\n",
    "                arrowprops=dict(arrowstyle='<->', color='darkgreen'))\n",
    "    ax.text(x_start - 2, y_base / 2, f'{X_offshore:.1f} m', va='center', ha='right', color='darkgreen')\n",
    "\n",
    "    # Plot wave direction\n",
    "    angle_rad = np.radians(wave_angle_deg)\n",
    "    arrow_length = 15\n",
    "    dx = arrow_length * np.sin(angle_rad)\n",
    "    dy = -arrow_length * np.cos(angle_rad)\n",
    "    ax.arrow(x_start + L_breakwater / 2, 5, dx, dy, head_width=2, head_length=3,\n",
    "             fc='red', ec='red', label='Wave Direction')\n",
    "    ax.text(x_start + L_breakwater / 2 + dx / 2, 5 + dy / 2, f'{wave_angle_deg:.0f}°', color='red')\n",
    "\n",
    "    # Plot predicted salient tip\n",
    "    ax.plot([x_start + L_breakwater / 2], [-salient_length], 'go', label='Predicted Salient Tip')\n",
    "    ax.text(x_start + L_breakwater / 2, -salient_length - 1, f'Xs = {salient_length:.1f} m', ha='center', color='green')\n",
    "\n",
    "    ax.set_title('Detached Breakwater Geometry with Salient & Sediment Prediction')\n",
    "    ax.set_xlabel('Alongshore Distance (m)')\n",
    "    ax.set_ylabel('Offshore Distance (m)')\n",
    "    ax.set_xlim(0, L_breakwater + 40)\n",
    "    ax.set_ylim(-X_offshore - 20, 10)\n",
    "    ax.grid(True)\n",
    "    ax.legend()\n",
    "    plt.tight_layout()\n",
    "    plt.show()\n",
    "\n",
    "# 🎚️ Interactive controls\n",
    "Hs_slider = widgets.FloatSlider(value=1.5, min=0.5, max=5.0, step=0.1, description='Wave Height Hs (m)')\n",
    "h_slider = widgets.FloatSlider(value=2.0, min=1.0, max=10.0, step=0.1, description='Water Depth h (m)')\n",
    "H_slider = widgets.FloatSlider(value=1.0, min=0.5, max=5.0, step=0.1, description='Crest Elevation H (m)')\n",
    "L_slider = widgets.FloatSlider(value=30.0, min=10.0, max=100.0, step=5.0, description='Breakwater Length (m)')\n",
    "X_slider = widgets.FloatSlider(value=20.0, min=5.0, max=100.0, step=5.0, description='Distance Offshore (m)')\n",
    "gap_slider = widgets.FloatSlider(value=20.0, min=5.0, max=100.0, step=5.0, description='Gap G (m)')\n",
    "submerged_toggle = widgets.ToggleButtons(options=[True, False], value=True, description='Submerged?')\n",
    "angle_slider = widgets.FloatSlider(value=0.0, min=-90.0, max=90.0, step=5.0, description='Wave Angle (°)')\n",
    "\n",
    "interactive_plot = widgets.interactive(\n",
    "    breakwater_design,\n",
    "    Hs=Hs_slider,\n",
    "    h_breakwater=h_slider,\n",
    "    H_breakwater=H_slider,\n",
    "    L_breakwater=L_slider,\n",
    "    X_offshore=X_slider,\n",
    "    gap=gap_slider,\n",
    "    submerged=submerged_toggle,\n",
    "    wave_angle_deg=angle_slider\n",
    ")\n",
    "\n",
    "display(interactive_plot)"
   ]
  },
  {
   "cell_type": "markdown",
   "id": "f3e8af5a-be0f-448a-8d69-afb09a9ad854",
   "metadata": {},
   "source": [
    "## 3. Self-Assessment"
   ]
  },
  {
   "cell_type": "markdown",
   "id": "ad099a1d-03fb-4824-a38b-05cb44715807",
   "metadata": {},
   "source": [
    "\n",
    "### Conceptual Questions\n",
    "\n",
    "1. **What does the Ls/X ratio represent in breakwater design?**\n",
    "   - A. Ratio of wave height to crest elevation  \n",
    "   - B. Ratio of breakwater length to offshore distance  \n",
    "   - C. Ratio of sediment thickness to beach width  \n",
    "   - D. Ratio of wave direction to shoreline angle  \n",
    "\n",
    "2. **Which shoreline response is most likely when Ls/X > 1.5?**\n",
    "   - A. No accretion  \n",
    "   - B. Salient formation  \n",
    "   - C. Tombolo formation  \n",
    "   - D. Limited response  \n",
    "\n",
    "3. **Wave transmission coefficient (Kt) indicates:**\n",
    "   - A. The amount of wave energy absorbed by the breakwater  \n",
    "   - B. The fraction of wave energy reflected seaward  \n",
    "   - C. The fraction of wave energy passing through or over the breakwater  \n",
    "   - D. The angle of wave approach  \n",
    "\n",
    "4. **Which of the following is NOT a factor in predicting shoreline response?**\n",
    "   - A. Breakwater length  \n",
    "   - B. Offshore distance  \n",
    "   - C. Wave angle  \n",
    "   - D. Crest elevation  \n",
    "\n",
    "5. **Which study suggests that Ls/X < 0.6 leads to tombolo formation?**\n",
    "   - A. Gourlay (1981)  \n",
    "   - B. McCormick (1993)  \n",
    "   - C. Nir (1982)  \n",
    "   - D. Suh & Dalrymple (1987)  \n",
    "\n",
    "---\n",
    "\n",
    "###  Interpretation\n",
    "\n",
    "1. Why is the breakwater plotted parallel to the coastline in the simulation?  \n",
    "2. What does the red arrow on the map represent, and how does its angle affect sediment transport?  \n",
    "3. How does changing the crest elevation affect wave transmission and shoreline response?  \n",
    "4. Why are multiple empirical methods used instead of relying on a single predictor?  \n",
    "5. How does the scoring system help identify the most consistent shoreline response?\n",
    "\n",
    "---\n",
    "\n",
    "### Reflective Questions\n",
    "\n",
    "1. **How do breakwater geometry and placement influence sediment accumulation and beach stability?**  \n",
    "2. **Why is it important to visualize wave direction in coastal structure design?**  \n",
    "3. **What are the limitations of using empirical Ls/X ratios without site-specific data?**  \n",
    "4. **How would you modify the design if most methods predict limited response?**  \n",
    "5. **What insights can be gained by comparing shoreline response across multiple studies?**\n",
    "\n",
    "---\n",
    "\n",
    "### Design Insight\n",
    "\n",
    "> “Detached breakwaters interact with waves and sediment in complex ways. Using multiple shoreline response models helps engineers make informed decisions and adapt designs to site-specific conditions.”\n",
    "\n",
    "---"
   ]
  },
  {
   "cell_type": "code",
   "execution_count": null,
   "id": "45168ffc-4026-4666-ab57-e2443fc01206",
   "metadata": {},
   "outputs": [],
   "source": []
  }
 ],
 "metadata": {
  "kernelspec": {
   "display_name": "Python [conda env:base] *",
   "language": "python",
   "name": "conda-base-py"
  },
  "language_info": {
   "codemirror_mode": {
    "name": "ipython",
    "version": 3
   },
   "file_extension": ".py",
   "mimetype": "text/x-python",
   "name": "python",
   "nbconvert_exporter": "python",
   "pygments_lexer": "ipython3",
   "version": "3.12.7"
  },
  "widgets": {
   "application/vnd.jupyter.widget-state+json": {
    "state": {
     "0030c854044542bea6b3c9947e422d8b": {
      "model_module": "@jupyter-widgets/controls",
      "model_module_version": "2.0.0",
      "model_name": "SliderStyleModel",
      "state": {
       "description_width": ""
      }
     },
     "00ed3aa04ad34486afc811fb317fe351": {
      "model_module": "@jupyter-widgets/controls",
      "model_module_version": "2.0.0",
      "model_name": "ToggleButtonsStyleModel",
      "state": {
       "button_width": "",
       "description_width": ""
      }
     },
     "029c7b29e2574f24a63f29908aa03b5b": {
      "model_module": "@jupyter-widgets/output",
      "model_module_version": "1.0.0",
      "model_name": "OutputModel",
      "state": {
       "layout": "IPY_MODEL_fd93027c9d82498782df6ded11f88af6",
       "outputs": [
        {
         "name": "stdout",
         "output_type": "stream",
         "text": "🌊 Significant Wave Height: 1.50 m\n🏗️ Breakwater Crest Elevation: 1.00 m\n🌊 Water Depth at Structure: 2.00 m\n📏 Breakwater Length: 30.0 m\n📍 Distance Offshore: 20.0 m\n🌊 Transmission Coefficient (Kt): 0.60\n🌊 Reflection Coefficient (Kr): 0.23\n🏖️ Predicted Shoreline Response: Salient formation\n"
        },
        {
         "data": {
          "image/png": "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",
          "text/plain": "<Figure size 1000x500 with 1 Axes>"
         },
         "metadata": {},
         "output_type": "display_data"
        }
       ]
      }
     },
     "02dd5f6cb2924a6b874369e33d0927be": {
      "model_module": "@jupyter-widgets/controls",
      "model_module_version": "2.0.0",
      "model_name": "FloatSliderModel",
      "state": {
       "behavior": "drag-tap",
       "description": "Wave Angle (°)",
       "layout": "IPY_MODEL_8400c8e24db946418180963a4ec2d550",
       "max": 90,
       "min": -90,
       "step": 5,
       "style": "IPY_MODEL_d97c80c24cbd43cfba16502e7d2f0a60"
      }
     },
     "0378bdea64984bcaaa0c0089a2c1707f": {
      "model_module": "@jupyter-widgets/controls",
      "model_module_version": "2.0.0",
      "model_name": "FloatSliderModel",
      "state": {
       "behavior": "drag-tap",
       "description": "Water Depth h (m)",
       "layout": "IPY_MODEL_bc2f03a988294ce2a1d85cb6b15d0bf3",
       "max": 10,
       "min": 1,
       "step": 0.1,
       "style": "IPY_MODEL_cbbf5a6532fc4f2fb809d9ec1dd2e204",
       "value": 2
      }
     },
     "03872644a58e4de9b566e9d09f5091bf": {
      "model_module": "@jupyter-widgets/controls",
      "model_module_version": "2.0.0",
      "model_name": "SliderStyleModel",
      "state": {
       "description_width": ""
      }
     },
     "04529062f70044268de7a68d831ae4aa": {
      "model_module": "@jupyter-widgets/controls",
      "model_module_version": "2.0.0",
      "model_name": "SliderStyleModel",
      "state": {
       "description_width": ""
      }
     },
     "06f659d4e557410c8215a32dc10beac3": {
      "model_module": "@jupyter-widgets/controls",
      "model_module_version": "2.0.0",
      "model_name": "FloatSliderModel",
      "state": {
       "behavior": "drag-tap",
       "description": "Crest Elevation H (m)",
       "layout": "IPY_MODEL_f32c4d6d669e453fa1782ea84f7210d0",
       "max": 5,
       "min": 0.5,
       "step": 0.1,
       "style": "IPY_MODEL_4e276e77aef84654937b879ee2a7ca8d",
       "value": 1
      }
     },
     "08dad264564543fe92f522dca6f094fc": {
      "model_module": "@jupyter-widgets/controls",
      "model_module_version": "2.0.0",
      "model_name": "SliderStyleModel",
      "state": {
       "description_width": ""
      }
     },
     "0a0048b13dc34f5c8806c36602599cac": {
      "model_module": "@jupyter-widgets/base",
      "model_module_version": "2.0.0",
      "model_name": "LayoutModel",
      "state": {}
     },
     "0ace457121f648fb9f38daa6d1468c8d": {
      "model_module": "@jupyter-widgets/base",
      "model_module_version": "2.0.0",
      "model_name": "LayoutModel",
      "state": {}
     },
     "0b02af807b584b0aaf8bd72dbe29c241": {
      "model_module": "@jupyter-widgets/controls",
      "model_module_version": "2.0.0",
      "model_name": "SliderStyleModel",
      "state": {
       "description_width": ""
      }
     },
     "101fed46e8044998b95dfec6a91ec49c": {
      "model_module": "@jupyter-widgets/output",
      "model_module_version": "1.0.0",
      "model_name": "OutputModel",
      "state": {
       "layout": "IPY_MODEL_fd4e6fa69bcc45f9ab5d0da437b6d4ce",
       "outputs": [
        {
         "name": "stdout",
         "output_type": "stream",
         "text": "📏 Breakwater Length (Ls): 30.0 m\n📍 Distance Offshore (X): 20.0 m\n🔢 Ls/X Ratio: 1.50\n🧭 Wave Direction: 0.0° from shore-normal\n\n📊 Shoreline Response Predictions:\n - Inman & Fritschy (1966): Salient\n - Noble (1978): Salient\n - Gourlay (1981): Tombolo\n - Nir (1982): Salient\n - CERC (1984): Salient\n - Dally & Pope (1986): Tombolo\n - Suh & Dalrymple (1987): Tombolo\n - Herbich (1989): Tombolo\n - Hsu & Silvester (1980): Tombolo\n - Ahren & Cox (1990): Salient\n - McCormick (1993): Salient\n\n🏆 Top 3 Most Consistent Predictions:\n - Salient: 6 methods\n - Tombolo: 5 methods\n - Limited: 0 methods\n"
        },
        {
         "data": {
          "image/png": "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",
          "text/plain": "<Figure size 1000x600 with 1 Axes>"
         },
         "metadata": {},
         "output_type": "display_data"
        }
       ]
      }
     },
     "113380734013491c87390779a7b05142": {
      "model_module": "@jupyter-widgets/controls",
      "model_module_version": "2.0.0",
      "model_name": "FloatSliderModel",
      "state": {
       "behavior": "drag-tap",
       "description": "Distance Offshore (m)",
       "layout": "IPY_MODEL_3ef0ec1b423c4e4b832d1fa592775970",
       "min": 5,
       "step": 5,
       "style": "IPY_MODEL_eaf1ed04d86f4e719fa24b779c114f08",
       "value": 20
      }
     },
     "1186e471597a483cbb63e687aa6af780": {
      "model_module": "@jupyter-widgets/controls",
      "model_module_version": "2.0.0",
      "model_name": "SliderStyleModel",
      "state": {
       "description_width": ""
      }
     },
     "1491bd56af5c4626a828de801b58e5a0": {
      "model_module": "@jupyter-widgets/controls",
      "model_module_version": "2.0.0",
      "model_name": "SliderStyleModel",
      "state": {
       "description_width": ""
      }
     },
     "1579c5151d0b468c8a9981cee8c611eb": {
      "model_module": "@jupyter-widgets/controls",
      "model_module_version": "2.0.0",
      "model_name": "VBoxModel",
      "state": {
       "_dom_classes": [
        "widget-interact"
       ],
       "children": [
        "IPY_MODEL_d6bfdb943c764cc18042f7d5c199d420",
        "IPY_MODEL_c287cbc71fc04ef9a879b73b5d8a16e6",
        "IPY_MODEL_a7b5de02d51c499ab6a5b7e41a1dcc4e",
        "IPY_MODEL_b6af2b136c504300a8001e66924b3d27",
        "IPY_MODEL_90a2f71ef8d94eeb859def11a52a47dc",
        "IPY_MODEL_190cd4b716504dc7a5146071ec6f33af",
        "IPY_MODEL_e9e6fed106ad4f479e61ecc08f725c26"
       ],
       "layout": "IPY_MODEL_23b3b21d512e436da1c534f36a94f45c"
      }
     },
     "162a5e0bc2da4df4b24070f47b19f439": {
      "model_module": "@jupyter-widgets/controls",
      "model_module_version": "2.0.0",
      "model_name": "ToggleButtonsModel",
      "state": {
       "_options_labels": [
        "True",
        "False"
       ],
       "button_style": "",
       "description": "Submerged?",
       "icons": [],
       "index": 0,
       "layout": "IPY_MODEL_feaacbe083914a209d30b8b13e1e9fce",
       "style": "IPY_MODEL_695d15a88b514c069f42b8bad88e2a87",
       "tooltips": []
      }
     },
     "167dacab2cb641f1a68870028510eccd": {
      "model_module": "@jupyter-widgets/controls",
      "model_module_version": "2.0.0",
      "model_name": "FloatSliderModel",
      "state": {
       "behavior": "drag-tap",
       "description": "Water Depth h (m)",
       "layout": "IPY_MODEL_72a96da909f048979e96903c3eccc322",
       "max": 10,
       "min": 1,
       "step": 0.1,
       "style": "IPY_MODEL_ee4ef35fafde46748b959775d290082c",
       "value": 2
      }
     },
     "190cd4b716504dc7a5146071ec6f33af": {
      "model_module": "@jupyter-widgets/controls",
      "model_module_version": "2.0.0",
      "model_name": "ToggleButtonsModel",
      "state": {
       "_options_labels": [
        "True",
        "False"
       ],
       "button_style": "",
       "description": "Submerged?",
       "icons": [],
       "index": 0,
       "layout": "IPY_MODEL_7a2f05de040041a7b614893bc6cc0ec7",
       "style": "IPY_MODEL_37ab2460db794c4e8bb38134ee3a8eb0",
       "tooltips": []
      }
     },
     "1b1550e4c1a3460a8f42d70ca8ef3e84": {
      "model_module": "@jupyter-widgets/base",
      "model_module_version": "2.0.0",
      "model_name": "LayoutModel",
      "state": {}
     },
     "1cb2087374d1480bbe165572d0183899": {
      "model_module": "@jupyter-widgets/base",
      "model_module_version": "2.0.0",
      "model_name": "LayoutModel",
      "state": {}
     },
     "1d058b5330b244f4a9cde0cfdc25ffd1": {
      "model_module": "@jupyter-widgets/base",
      "model_module_version": "2.0.0",
      "model_name": "LayoutModel",
      "state": {}
     },
     "1e265daa295a4ec4816b311111ca3e46": {
      "model_module": "@jupyter-widgets/base",
      "model_module_version": "2.0.0",
      "model_name": "LayoutModel",
      "state": {}
     },
     "20dae6e05c6c4085b46d7cd6a7559132": {
      "model_module": "@jupyter-widgets/controls",
      "model_module_version": "2.0.0",
      "model_name": "FloatSliderModel",
      "state": {
       "behavior": "drag-tap",
       "description": "Wave Height Hs (m)",
       "layout": "IPY_MODEL_afcac66038a842b586d46279ebf1ab06",
       "max": 5,
       "min": 0.5,
       "step": 0.1,
       "style": "IPY_MODEL_fc53dca3aca54e028ab53bcdd71deed6",
       "value": 1.5
      }
     },
     "214c0ac074ce413a8d68bf71869b4c88": {
      "model_module": "@jupyter-widgets/controls",
      "model_module_version": "2.0.0",
      "model_name": "FloatSliderModel",
      "state": {
       "behavior": "drag-tap",
       "description": "Wave Height Hs (m)",
       "layout": "IPY_MODEL_7c97e48162e845058f551d5114bbb6bb",
       "max": 5,
       "min": 0.5,
       "step": 0.1,
       "style": "IPY_MODEL_f41f8e90d9e041b2b25664c6342b9b99",
       "value": 1.5
      }
     },
     "22687d6125f34f65b15f3589fb0d5f82": {
      "model_module": "@jupyter-widgets/controls",
      "model_module_version": "2.0.0",
      "model_name": "FloatSliderModel",
      "state": {
       "behavior": "drag-tap",
       "description": "Water Depth h (m)",
       "layout": "IPY_MODEL_fb1f3452f1054839999e857ed8672e8b",
       "max": 10,
       "min": 1,
       "step": 0.1,
       "style": "IPY_MODEL_54743f6d911f454fbf70d38281640322",
       "value": 2
      }
     },
     "23b3b21d512e436da1c534f36a94f45c": {
      "model_module": "@jupyter-widgets/base",
      "model_module_version": "2.0.0",
      "model_name": "LayoutModel",
      "state": {}
     },
     "2dbca9f4f056482cb27448abb338cab0": {
      "model_module": "@jupyter-widgets/base",
      "model_module_version": "2.0.0",
      "model_name": "LayoutModel",
      "state": {}
     },
     "3746beee9c5f45e7b4227ff95ed3e9dd": {
      "model_module": "@jupyter-widgets/controls",
      "model_module_version": "2.0.0",
      "model_name": "SliderStyleModel",
      "state": {
       "description_width": ""
      }
     },
     "376b81f6a06f464db6de894d43450adb": {
      "model_module": "@jupyter-widgets/controls",
      "model_module_version": "2.0.0",
      "model_name": "FloatSliderModel",
      "state": {
       "behavior": "drag-tap",
       "description": "Breakwater Length (m)",
       "layout": "IPY_MODEL_7fa439cf84f4414b8e67eebc9dd166fe",
       "min": 10,
       "step": 5,
       "style": "IPY_MODEL_d66200e425074c0f82ee071b0c239422",
       "value": 30
      }
     },
     "37ab2460db794c4e8bb38134ee3a8eb0": {
      "model_module": "@jupyter-widgets/controls",
      "model_module_version": "2.0.0",
      "model_name": "ToggleButtonsStyleModel",
      "state": {
       "button_width": "",
       "description_width": ""
      }
     },
     "396eafb8ac9f4cbcb59b3a25a0c8188d": {
      "model_module": "@jupyter-widgets/controls",
      "model_module_version": "2.0.0",
      "model_name": "SliderStyleModel",
      "state": {
       "description_width": ""
      }
     },
     "39a4d22ac7ce4bffb9161e70cd9891b9": {
      "model_module": "@jupyter-widgets/base",
      "model_module_version": "2.0.0",
      "model_name": "LayoutModel",
      "state": {}
     },
     "3a4fb3fec5f14e24b1b59cbe59d9580d": {
      "model_module": "@jupyter-widgets/controls",
      "model_module_version": "2.0.0",
      "model_name": "SliderStyleModel",
      "state": {
       "description_width": ""
      }
     },
     "3b4d7ec14c504ee6b38db53578c5c051": {
      "model_module": "@jupyter-widgets/controls",
      "model_module_version": "2.0.0",
      "model_name": "FloatSliderModel",
      "state": {
       "behavior": "drag-tap",
       "description": "Distance Offshore (m)",
       "layout": "IPY_MODEL_7d3ba835ebe843779a290b6044d30258",
       "min": 5,
       "step": 5,
       "style": "IPY_MODEL_3746beee9c5f45e7b4227ff95ed3e9dd",
       "value": 20
      }
     },
     "3ef0ec1b423c4e4b832d1fa592775970": {
      "model_module": "@jupyter-widgets/base",
      "model_module_version": "2.0.0",
      "model_name": "LayoutModel",
      "state": {}
     },
     "4066f0af61e44db081a08edf9df4b114": {
      "model_module": "@jupyter-widgets/base",
      "model_module_version": "2.0.0",
      "model_name": "LayoutModel",
      "state": {}
     },
     "420bb62c7b2746cb88d3fc534e1f48e5": {
      "model_module": "@jupyter-widgets/controls",
      "model_module_version": "2.0.0",
      "model_name": "FloatSliderModel",
      "state": {
       "behavior": "drag-tap",
       "description": "Crest Elevation H (m)",
       "layout": "IPY_MODEL_1cb2087374d1480bbe165572d0183899",
       "max": 5,
       "min": 0.5,
       "step": 0.1,
       "style": "IPY_MODEL_b2be5ea4302340209ae0315b34ff5125",
       "value": 1
      }
     },
     "437f120688bb4b74ac3ed0517c837a51": {
      "model_module": "@jupyter-widgets/controls",
      "model_module_version": "2.0.0",
      "model_name": "ToggleButtonsStyleModel",
      "state": {
       "button_width": "",
       "description_width": ""
      }
     },
     "4442e55c242c48699351d9de65d8e847": {
      "model_module": "@jupyter-widgets/controls",
      "model_module_version": "2.0.0",
      "model_name": "ToggleButtonsStyleModel",
      "state": {
       "button_width": "",
       "description_width": ""
      }
     },
     "48ae4459eb074b6e88e9c180aece5e9d": {
      "model_module": "@jupyter-widgets/controls",
      "model_module_version": "2.0.0",
      "model_name": "SliderStyleModel",
      "state": {
       "description_width": ""
      }
     },
     "4cf39e722f904127a36cb154092c0bea": {
      "model_module": "@jupyter-widgets/controls",
      "model_module_version": "2.0.0",
      "model_name": "FloatSliderModel",
      "state": {
       "behavior": "drag-tap",
       "description": "Breakwater Length (m)",
       "layout": "IPY_MODEL_de5b0fa451cb49e8b85fe7f0e71817f9",
       "min": 10,
       "step": 5,
       "style": "IPY_MODEL_4d2dbe1bfe2f4392ab05aa0347256d83",
       "value": 30
      }
     },
     "4d2dbe1bfe2f4392ab05aa0347256d83": {
      "model_module": "@jupyter-widgets/controls",
      "model_module_version": "2.0.0",
      "model_name": "SliderStyleModel",
      "state": {
       "description_width": ""
      }
     },
     "4e276e77aef84654937b879ee2a7ca8d": {
      "model_module": "@jupyter-widgets/controls",
      "model_module_version": "2.0.0",
      "model_name": "SliderStyleModel",
      "state": {
       "description_width": ""
      }
     },
     "5034e12ebc3c4d528de687f7f2830991": {
      "model_module": "@jupyter-widgets/base",
      "model_module_version": "2.0.0",
      "model_name": "LayoutModel",
      "state": {}
     },
     "54743f6d911f454fbf70d38281640322": {
      "model_module": "@jupyter-widgets/controls",
      "model_module_version": "2.0.0",
      "model_name": "SliderStyleModel",
      "state": {
       "description_width": ""
      }
     },
     "55bf1fadb5564f1687cdc110ff252c99": {
      "model_module": "@jupyter-widgets/base",
      "model_module_version": "2.0.0",
      "model_name": "LayoutModel",
      "state": {}
     },
     "56944989887e46dea29d552b57c8a012": {
      "model_module": "@jupyter-widgets/base",
      "model_module_version": "2.0.0",
      "model_name": "LayoutModel",
      "state": {}
     },
     "57c6250adf5b4cf3af9111f9a49b54cc": {
      "model_module": "@jupyter-widgets/controls",
      "model_module_version": "2.0.0",
      "model_name": "SliderStyleModel",
      "state": {
       "description_width": ""
      }
     },
     "5b6b46b834ab49b6bbec93e35de7e5e8": {
      "model_module": "@jupyter-widgets/controls",
      "model_module_version": "2.0.0",
      "model_name": "VBoxModel",
      "state": {
       "_dom_classes": [
        "widget-interact"
       ],
       "children": [
        "IPY_MODEL_eac0d12e2e3c4195a1cca162534069b7",
        "IPY_MODEL_22687d6125f34f65b15f3589fb0d5f82",
        "IPY_MODEL_ebfa0bd532f54566869ed0fc4e6be426",
        "IPY_MODEL_7e4f8e2e1a714e8b8e56c9a265c91c3b",
        "IPY_MODEL_68e3825dd07c482eb6a87e33a0f36dfa",
        "IPY_MODEL_ea7c8fd95e9f49b0a997ef665a135e6e",
        "IPY_MODEL_f379b901f0674d4493f301d3b0f398cc"
       ],
       "layout": "IPY_MODEL_be233eb4dda243a89a946f8df543bf7a"
      }
     },
     "5bfc6cb9235a4b76b4637056634472f6": {
      "model_module": "@jupyter-widgets/base",
      "model_module_version": "2.0.0",
      "model_name": "LayoutModel",
      "state": {}
     },
     "61172250b5544bcaa0e628f89c002290": {
      "model_module": "@jupyter-widgets/controls",
      "model_module_version": "2.0.0",
      "model_name": "VBoxModel",
      "state": {
       "_dom_classes": [
        "widget-interact"
       ],
       "children": [
        "IPY_MODEL_214c0ac074ce413a8d68bf71869b4c88",
        "IPY_MODEL_0378bdea64984bcaaa0c0089a2c1707f",
        "IPY_MODEL_420bb62c7b2746cb88d3fc534e1f48e5",
        "IPY_MODEL_da2e7b20cd31479ca3ecb4c5fa346e78",
        "IPY_MODEL_113380734013491c87390779a7b05142",
        "IPY_MODEL_6f246986740c47b48a4fbc9d3070c80e",
        "IPY_MODEL_df2459ab35ad491593155a3bcc1bae28",
        "IPY_MODEL_a2fb09d2b4764d1eb3b7fd35e5648472",
        "IPY_MODEL_650e7a4b722d406ab7dbaad16ce07057"
       ],
       "layout": "IPY_MODEL_1e265daa295a4ec4816b311111ca3e46"
      }
     },
     "629e3780cdc7489e953ec1b7c1f4284d": {
      "model_module": "@jupyter-widgets/base",
      "model_module_version": "2.0.0",
      "model_name": "LayoutModel",
      "state": {}
     },
     "62c4fa26aaff421eb7a081708e95037d": {
      "model_module": "@jupyter-widgets/base",
      "model_module_version": "2.0.0",
      "model_name": "LayoutModel",
      "state": {}
     },
     "6410ef8b6fbb46b3883c5c367107c4d0": {
      "model_module": "@jupyter-widgets/base",
      "model_module_version": "2.0.0",
      "model_name": "LayoutModel",
      "state": {}
     },
     "650e7a4b722d406ab7dbaad16ce07057": {
      "model_module": "@jupyter-widgets/output",
      "model_module_version": "1.0.0",
      "model_name": "OutputModel",
      "state": {
       "layout": "IPY_MODEL_5034e12ebc3c4d528de687f7f2830991",
       "outputs": [
        {
         "name": "stdout",
         "output_type": "stream",
         "text": "📏 Breakwater Length (Ls): 30.0 m\n📍 Distance Offshore (X): 20.0 m\n🔢 Ls/X Ratio: 1.50\n🔀 Gap Between Segments (G): 20.0 m\n📐 Predicted Salient Length (Xs): 19.94 m\n🧱 Estimated Tombolo Thickness: 1.24 m\n🏖️ Estimated Sediment Volume (Herbich): 11.41 m³ per 30 m width\n🧭 Wave Direction: 0.0° from shore-normal\n\n📊 Shoreline Response Predictions:\n - Inman & Fritschy (1966): Salient\n - Noble (1978): Salient\n - Gourlay (1981): Tombolo\n - Nir (1982): Salient\n - CERC (1984): Salient\n - Dally & Pope (1986): Tombolo\n - Suh & Dalrymple (1987): Tombolo\n - Herbich (1989): Tombolo\n - Hsu & Silvester (1980): Tombolo\n - Ahren & Cox (1990): Salient\n - McCormick (1993): Salient\n\n🏆 Top 3 Most Consistent Predictions:\n - Salient: 6 methods\n - Tombolo: 5 methods\n - Limited: 0 methods\n"
        },
        {
         "data": {
          "image/png": "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",
          "text/plain": "<Figure size 1000x600 with 1 Axes>"
         },
         "metadata": {},
         "output_type": "display_data"
        }
       ]
      }
     },
     "65b0ed867c9f4ba982c3d7507ccb1784": {
      "model_module": "@jupyter-widgets/controls",
      "model_module_version": "2.0.0",
      "model_name": "FloatSliderModel",
      "state": {
       "behavior": "drag-tap",
       "description": "Crest Elevation H (m)",
       "layout": "IPY_MODEL_56944989887e46dea29d552b57c8a012",
       "max": 5,
       "min": 0.5,
       "step": 0.1,
       "style": "IPY_MODEL_57c6250adf5b4cf3af9111f9a49b54cc",
       "value": 1
      }
     },
     "65d45734314442d8854f217aa7dae6d6": {
      "model_module": "@jupyter-widgets/controls",
      "model_module_version": "2.0.0",
      "model_name": "FloatSliderModel",
      "state": {
       "behavior": "drag-tap",
       "description": "Wave Height Hs (m)",
       "layout": "IPY_MODEL_c72676c9a6b04b1a968bcce14e193769",
       "max": 5,
       "min": 0.5,
       "step": 0.1,
       "style": "IPY_MODEL_f2d661a48b5d43ca813203849b69dd0e",
       "value": 1.5
      }
     },
     "65e3cf017102432cbd48f0dd9c621711": {
      "model_module": "@jupyter-widgets/base",
      "model_module_version": "2.0.0",
      "model_name": "LayoutModel",
      "state": {}
     },
     "68e3825dd07c482eb6a87e33a0f36dfa": {
      "model_module": "@jupyter-widgets/controls",
      "model_module_version": "2.0.0",
      "model_name": "FloatSliderModel",
      "state": {
       "behavior": "drag-tap",
       "description": "Distance Offshore (m)",
       "layout": "IPY_MODEL_875f9a33c85243f18d65f05f790ac40c",
       "min": 5,
       "step": 5,
       "style": "IPY_MODEL_82d2504a80da4640b6b25d476da598c1",
       "value": 20
      }
     },
     "695d15a88b514c069f42b8bad88e2a87": {
      "model_module": "@jupyter-widgets/controls",
      "model_module_version": "2.0.0",
      "model_name": "ToggleButtonsStyleModel",
      "state": {
       "button_width": "",
       "description_width": ""
      }
     },
     "6f246986740c47b48a4fbc9d3070c80e": {
      "model_module": "@jupyter-widgets/controls",
      "model_module_version": "2.0.0",
      "model_name": "ToggleButtonsModel",
      "state": {
       "_options_labels": [
        "True",
        "False"
       ],
       "button_style": "",
       "description": "Submerged?",
       "icons": [],
       "index": 0,
       "layout": "IPY_MODEL_0ace457121f648fb9f38daa6d1468c8d",
       "style": "IPY_MODEL_4442e55c242c48699351d9de65d8e847",
       "tooltips": []
      }
     },
     "72a96da909f048979e96903c3eccc322": {
      "model_module": "@jupyter-widgets/base",
      "model_module_version": "2.0.0",
      "model_name": "LayoutModel",
      "state": {}
     },
     "75a7505869e54d0fa05749844ecbab27": {
      "model_module": "@jupyter-widgets/base",
      "model_module_version": "2.0.0",
      "model_name": "LayoutModel",
      "state": {}
     },
     "76608ab66b234b6aa1f77f56818c5c63": {
      "model_module": "@jupyter-widgets/controls",
      "model_module_version": "2.0.0",
      "model_name": "FloatSliderModel",
      "state": {
       "behavior": "drag-tap",
       "description": "Water Depth h (m)",
       "layout": "IPY_MODEL_c9ab6e4c3ee443daa55c9000befc5dbc",
       "max": 10,
       "min": 1,
       "step": 0.1,
       "style": "IPY_MODEL_94ac2d65546a459ab9353938545f7d12",
       "value": 2
      }
     },
     "77f356ded2ef4590a621b8943409f67b": {
      "model_module": "@jupyter-widgets/controls",
      "model_module_version": "2.0.0",
      "model_name": "ToggleButtonsModel",
      "state": {
       "_options_labels": [
        "True",
        "False"
       ],
       "button_style": "",
       "description": "Submerged?",
       "icons": [],
       "index": 0,
       "layout": "IPY_MODEL_2dbca9f4f056482cb27448abb338cab0",
       "style": "IPY_MODEL_00ed3aa04ad34486afc811fb317fe351",
       "tooltips": []
      }
     },
     "799bcd36bb794a52b90f9bb1e576eb14": {
      "model_module": "@jupyter-widgets/controls",
      "model_module_version": "2.0.0",
      "model_name": "VBoxModel",
      "state": {
       "_dom_classes": [
        "widget-interact"
       ],
       "children": [
        "IPY_MODEL_65d45734314442d8854f217aa7dae6d6",
        "IPY_MODEL_76608ab66b234b6aa1f77f56818c5c63",
        "IPY_MODEL_06f659d4e557410c8215a32dc10beac3",
        "IPY_MODEL_83d5f52d50ca415895b98e53b78f8148",
        "IPY_MODEL_f3c6936be2ae48c2a84d6e0e0d8f6543",
        "IPY_MODEL_d2e851b07f424135b439785315cb0fe3",
        "IPY_MODEL_faf1589b870a4b9b9c66753d597fa874",
        "IPY_MODEL_101fed46e8044998b95dfec6a91ec49c"
       ],
       "layout": "IPY_MODEL_1d058b5330b244f4a9cde0cfdc25ffd1"
      }
     },
     "7a2f05de040041a7b614893bc6cc0ec7": {
      "model_module": "@jupyter-widgets/base",
      "model_module_version": "2.0.0",
      "model_name": "LayoutModel",
      "state": {}
     },
     "7a9544d3efe24a8fb5a1c467f50a891a": {
      "model_module": "@jupyter-widgets/controls",
      "model_module_version": "2.0.0",
      "model_name": "SliderStyleModel",
      "state": {
       "description_width": ""
      }
     },
     "7b0b6d41b1524f3d908d1c22d58921ad": {
      "model_module": "@jupyter-widgets/base",
      "model_module_version": "2.0.0",
      "model_name": "LayoutModel",
      "state": {}
     },
     "7c1b5911ec664ca5be5cd1fbad6e7346": {
      "model_module": "@jupyter-widgets/controls",
      "model_module_version": "2.0.0",
      "model_name": "SliderStyleModel",
      "state": {
       "description_width": ""
      }
     },
     "7c71effb1d4c4b18ba43178a757195f1": {
      "model_module": "@jupyter-widgets/base",
      "model_module_version": "2.0.0",
      "model_name": "LayoutModel",
      "state": {}
     },
     "7c97e48162e845058f551d5114bbb6bb": {
      "model_module": "@jupyter-widgets/base",
      "model_module_version": "2.0.0",
      "model_name": "LayoutModel",
      "state": {}
     },
     "7d3ba835ebe843779a290b6044d30258": {
      "model_module": "@jupyter-widgets/base",
      "model_module_version": "2.0.0",
      "model_name": "LayoutModel",
      "state": {}
     },
     "7e4f8e2e1a714e8b8e56c9a265c91c3b": {
      "model_module": "@jupyter-widgets/controls",
      "model_module_version": "2.0.0",
      "model_name": "FloatSliderModel",
      "state": {
       "behavior": "drag-tap",
       "description": "Breakwater Length (m)",
       "layout": "IPY_MODEL_75a7505869e54d0fa05749844ecbab27",
       "min": 10,
       "step": 5,
       "style": "IPY_MODEL_7c1b5911ec664ca5be5cd1fbad6e7346",
       "value": 30
      }
     },
     "7fa439cf84f4414b8e67eebc9dd166fe": {
      "model_module": "@jupyter-widgets/base",
      "model_module_version": "2.0.0",
      "model_name": "LayoutModel",
      "state": {}
     },
     "8094a2340c6d4307ad4cfda48514f6f0": {
      "model_module": "@jupyter-widgets/base",
      "model_module_version": "2.0.0",
      "model_name": "LayoutModel",
      "state": {}
     },
     "81b5b3c8e11c4d9c84e342e493dac616": {
      "model_module": "@jupyter-widgets/controls",
      "model_module_version": "2.0.0",
      "model_name": "FloatSliderModel",
      "state": {
       "behavior": "drag-tap",
       "description": "Water Depth h (m)",
       "layout": "IPY_MODEL_d27ef5b0ff284a51970b9529e172e255",
       "max": 10,
       "min": 1,
       "step": 0.1,
       "style": "IPY_MODEL_1186e471597a483cbb63e687aa6af780",
       "value": 2
      }
     },
     "82d2504a80da4640b6b25d476da598c1": {
      "model_module": "@jupyter-widgets/controls",
      "model_module_version": "2.0.0",
      "model_name": "SliderStyleModel",
      "state": {
       "description_width": ""
      }
     },
     "83d5f52d50ca415895b98e53b78f8148": {
      "model_module": "@jupyter-widgets/controls",
      "model_module_version": "2.0.0",
      "model_name": "FloatSliderModel",
      "state": {
       "behavior": "drag-tap",
       "description": "Breakwater Length (m)",
       "layout": "IPY_MODEL_0a0048b13dc34f5c8806c36602599cac",
       "min": 10,
       "step": 5,
       "style": "IPY_MODEL_48ae4459eb074b6e88e9c180aece5e9d",
       "value": 30
      }
     },
     "8400c8e24db946418180963a4ec2d550": {
      "model_module": "@jupyter-widgets/base",
      "model_module_version": "2.0.0",
      "model_name": "LayoutModel",
      "state": {}
     },
     "875f9a33c85243f18d65f05f790ac40c": {
      "model_module": "@jupyter-widgets/base",
      "model_module_version": "2.0.0",
      "model_name": "LayoutModel",
      "state": {}
     },
     "8c26025ce8144e1d97f6db2d9c4b6266": {
      "model_module": "@jupyter-widgets/controls",
      "model_module_version": "2.0.0",
      "model_name": "SliderStyleModel",
      "state": {
       "description_width": ""
      }
     },
     "90a2f71ef8d94eeb859def11a52a47dc": {
      "model_module": "@jupyter-widgets/controls",
      "model_module_version": "2.0.0",
      "model_name": "FloatSliderModel",
      "state": {
       "behavior": "drag-tap",
       "description": "Distance Offshore (m)",
       "layout": "IPY_MODEL_65e3cf017102432cbd48f0dd9c621711",
       "min": 5,
       "step": 5,
       "style": "IPY_MODEL_acdddb1d3fb740d59a22a92f5cb7578f",
       "value": 20
      }
     },
     "93989a93c9f84df3bef6924ac063fb8c": {
      "model_module": "@jupyter-widgets/base",
      "model_module_version": "2.0.0",
      "model_name": "LayoutModel",
      "state": {}
     },
     "94ac2d65546a459ab9353938545f7d12": {
      "model_module": "@jupyter-widgets/controls",
      "model_module_version": "2.0.0",
      "model_name": "SliderStyleModel",
      "state": {
       "description_width": ""
      }
     },
     "94f3e54c159f4d3ea4517450b15f3b36": {
      "model_module": "@jupyter-widgets/controls",
      "model_module_version": "2.0.0",
      "model_name": "SliderStyleModel",
      "state": {
       "description_width": ""
      }
     },
     "99d8c20fe3024aa0aeaacbcfa907db7d": {
      "model_module": "@jupyter-widgets/controls",
      "model_module_version": "2.0.0",
      "model_name": "FloatSliderModel",
      "state": {
       "behavior": "drag-tap",
       "description": "Wave Height Hs (m)",
       "layout": "IPY_MODEL_da6f7ef25cc546dd977c2ede738c1338",
       "max": 5,
       "min": 0.5,
       "step": 0.1,
       "style": "IPY_MODEL_94f3e54c159f4d3ea4517450b15f3b36",
       "value": 1.5
      }
     },
     "a0606901c58845fbb5c7559f64f7dc50": {
      "model_module": "@jupyter-widgets/base",
      "model_module_version": "2.0.0",
      "model_name": "LayoutModel",
      "state": {}
     },
     "a2fb09d2b4764d1eb3b7fd35e5648472": {
      "model_module": "@jupyter-widgets/controls",
      "model_module_version": "2.0.0",
      "model_name": "FloatSliderModel",
      "state": {
       "behavior": "drag-tap",
       "description": "Gap G (m)",
       "layout": "IPY_MODEL_bc4e07d16a2f411fb825ddc0f4fc5722",
       "min": 5,
       "step": 5,
       "style": "IPY_MODEL_396eafb8ac9f4cbcb59b3a25a0c8188d",
       "value": 20
      }
     },
     "a507d26db35a4c609ea6eb01a04ba68d": {
      "model_module": "@jupyter-widgets/controls",
      "model_module_version": "2.0.0",
      "model_name": "SliderStyleModel",
      "state": {
       "description_width": ""
      }
     },
     "a7b5de02d51c499ab6a5b7e41a1dcc4e": {
      "model_module": "@jupyter-widgets/controls",
      "model_module_version": "2.0.0",
      "model_name": "FloatSliderModel",
      "state": {
       "behavior": "drag-tap",
       "description": "Crest Elevation H (m)",
       "layout": "IPY_MODEL_5bfc6cb9235a4b76b4637056634472f6",
       "max": 5,
       "min": 0.5,
       "step": 0.1,
       "style": "IPY_MODEL_d469b5234a3c489b8145472d662a6e96",
       "value": 1
      }
     },
     "aad42e6d887f4089a8008ca3f136ae8b": {
      "model_module": "@jupyter-widgets/controls",
      "model_module_version": "2.0.0",
      "model_name": "FloatSliderModel",
      "state": {
       "behavior": "drag-tap",
       "description": "Crest Elevation H (m)",
       "layout": "IPY_MODEL_629e3780cdc7489e953ec1b7c1f4284d",
       "max": 5,
       "min": 0.5,
       "step": 0.1,
       "style": "IPY_MODEL_7a9544d3efe24a8fb5a1c467f50a891a",
       "value": 1
      }
     },
     "acdddb1d3fb740d59a22a92f5cb7578f": {
      "model_module": "@jupyter-widgets/controls",
      "model_module_version": "2.0.0",
      "model_name": "SliderStyleModel",
      "state": {
       "description_width": ""
      }
     },
     "afcac66038a842b586d46279ebf1ab06": {
      "model_module": "@jupyter-widgets/base",
      "model_module_version": "2.0.0",
      "model_name": "LayoutModel",
      "state": {}
     },
     "b1250c19f35a432189c09228ee59cd5e": {
      "model_module": "@jupyter-widgets/base",
      "model_module_version": "2.0.0",
      "model_name": "LayoutModel",
      "state": {}
     },
     "b2be5ea4302340209ae0315b34ff5125": {
      "model_module": "@jupyter-widgets/controls",
      "model_module_version": "2.0.0",
      "model_name": "SliderStyleModel",
      "state": {
       "description_width": ""
      }
     },
     "b4d5147652a7437d9f7a150824f8fcc4": {
      "model_module": "@jupyter-widgets/controls",
      "model_module_version": "2.0.0",
      "model_name": "FloatSliderModel",
      "state": {
       "behavior": "drag-tap",
       "description": "Gap G (m)",
       "layout": "IPY_MODEL_ea0e5ed7fc9241d69c6cb2636650e2fa",
       "min": 5,
       "step": 5,
       "style": "IPY_MODEL_0b02af807b584b0aaf8bd72dbe29c241",
       "value": 20
      }
     },
     "b4e08437d7e84d5d8fb2ff7c5f960fc2": {
      "model_module": "@jupyter-widgets/controls",
      "model_module_version": "2.0.0",
      "model_name": "FloatSliderModel",
      "state": {
       "behavior": "drag-tap",
       "description": "Distance Offshore (m)",
       "layout": "IPY_MODEL_f728a787454c4b53b86e7096d4623bb4",
       "min": 5,
       "step": 5,
       "style": "IPY_MODEL_08dad264564543fe92f522dca6f094fc",
       "value": 20
      }
     },
     "b6af2b136c504300a8001e66924b3d27": {
      "model_module": "@jupyter-widgets/controls",
      "model_module_version": "2.0.0",
      "model_name": "FloatSliderModel",
      "state": {
       "behavior": "drag-tap",
       "description": "Breakwater Length (m)",
       "layout": "IPY_MODEL_b1250c19f35a432189c09228ee59cd5e",
       "min": 10,
       "step": 5,
       "style": "IPY_MODEL_03872644a58e4de9b566e9d09f5091bf",
       "value": 30
      }
     },
     "b7bd42790c3045588c5e0c43ef6b90ec": {
      "model_module": "@jupyter-widgets/output",
      "model_module_version": "1.0.0",
      "model_name": "OutputModel",
      "state": {
       "layout": "IPY_MODEL_7c71effb1d4c4b18ba43178a757195f1",
       "outputs": [
        {
         "name": "stdout",
         "output_type": "stream",
         "text": "📏 Breakwater Length (Ls): 30.0 m\n📍 Distance Offshore (X): 20.0 m\n🔢 Ls/X Ratio: 1.50\n🔀 Gap Between Segments (G): 20.0 m\n📐 Predicted Salient Length (Xs): 19.94 m\n🧱 Estimated Tombolo Thickness: 1.24 m\n🏖️ Estimated Sediment Volume (Herbich): 11.41 m³ per 30 m width\n🧭 Wave Direction: 0.0° from shore-normal\n\n📊 Shoreline Response Predictions:\n - Inman & Fritschy (1966): Salient\n - Noble (1978): Salient\n - Gourlay (1981): Tombolo\n - Nir (1982): Salient\n - CERC (1984): Salient\n - Dally & Pope (1986): Tombolo\n - Suh & Dalrymple (1987): Tombolo\n - Herbich (1989): Tombolo\n - Hsu & Silvester (1980): Tombolo\n - Ahren & Cox (1990): Salient\n - McCormick (1993): Salient\n\n🏆 Top 3 Most Consistent Predictions:\n - Salient: 6 methods\n - Tombolo: 5 methods\n - Limited: 0 methods\n"
        },
        {
         "data": {
          "image/png": "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",
          "text/plain": "<Figure size 1000x600 with 1 Axes>"
         },
         "metadata": {},
         "output_type": "display_data"
        }
       ]
      }
     },
     "ba836c906219473dba36e299d8f27a38": {
      "model_module": "@jupyter-widgets/controls",
      "model_module_version": "2.0.0",
      "model_name": "SliderStyleModel",
      "state": {
       "description_width": ""
      }
     },
     "bad4bca69c954591bcffdacb4dd5580c": {
      "model_module": "@jupyter-widgets/controls",
      "model_module_version": "2.0.0",
      "model_name": "VBoxModel",
      "state": {
       "_dom_classes": [
        "widget-interact"
       ],
       "children": [
        "IPY_MODEL_20dae6e05c6c4085b46d7cd6a7559132",
        "IPY_MODEL_167dacab2cb641f1a68870028510eccd",
        "IPY_MODEL_aad42e6d887f4089a8008ca3f136ae8b",
        "IPY_MODEL_4cf39e722f904127a36cb154092c0bea",
        "IPY_MODEL_3b4d7ec14c504ee6b38db53578c5c051",
        "IPY_MODEL_77f356ded2ef4590a621b8943409f67b",
        "IPY_MODEL_029c7b29e2574f24a63f29908aa03b5b"
       ],
       "layout": "IPY_MODEL_8094a2340c6d4307ad4cfda48514f6f0"
      }
     },
     "bc2f03a988294ce2a1d85cb6b15d0bf3": {
      "model_module": "@jupyter-widgets/base",
      "model_module_version": "2.0.0",
      "model_name": "LayoutModel",
      "state": {}
     },
     "bc4e07d16a2f411fb825ddc0f4fc5722": {
      "model_module": "@jupyter-widgets/base",
      "model_module_version": "2.0.0",
      "model_name": "LayoutModel",
      "state": {}
     },
     "bdf2381a98e74fd5a85d49545a5b8ee8": {
      "model_module": "@jupyter-widgets/controls",
      "model_module_version": "2.0.0",
      "model_name": "ToggleButtonsStyleModel",
      "state": {
       "button_width": "",
       "description_width": ""
      }
     },
     "be233eb4dda243a89a946f8df543bf7a": {
      "model_module": "@jupyter-widgets/base",
      "model_module_version": "2.0.0",
      "model_name": "LayoutModel",
      "state": {}
     },
     "c287cbc71fc04ef9a879b73b5d8a16e6": {
      "model_module": "@jupyter-widgets/controls",
      "model_module_version": "2.0.0",
      "model_name": "FloatSliderModel",
      "state": {
       "behavior": "drag-tap",
       "description": "Water Depth h (m)",
       "layout": "IPY_MODEL_7b0b6d41b1524f3d908d1c22d58921ad",
       "max": 10,
       "min": 1,
       "step": 0.1,
       "style": "IPY_MODEL_3a4fb3fec5f14e24b1b59cbe59d9580d",
       "value": 2
      }
     },
     "c44e0078a27e49228d3e7d2e600eee9e": {
      "model_module": "@jupyter-widgets/controls",
      "model_module_version": "2.0.0",
      "model_name": "VBoxModel",
      "state": {
       "_dom_classes": [
        "widget-interact"
       ],
       "children": [
        "IPY_MODEL_99d8c20fe3024aa0aeaacbcfa907db7d",
        "IPY_MODEL_81b5b3c8e11c4d9c84e342e493dac616",
        "IPY_MODEL_65b0ed867c9f4ba982c3d7507ccb1784",
        "IPY_MODEL_376b81f6a06f464db6de894d43450adb",
        "IPY_MODEL_b4e08437d7e84d5d8fb2ff7c5f960fc2",
        "IPY_MODEL_162a5e0bc2da4df4b24070f47b19f439",
        "IPY_MODEL_02dd5f6cb2924a6b874369e33d0927be",
        "IPY_MODEL_b4d5147652a7437d9f7a150824f8fcc4",
        "IPY_MODEL_b7bd42790c3045588c5e0c43ef6b90ec"
       ],
       "layout": "IPY_MODEL_f08a61a93eea47e1b39d93141d63d868"
      }
     },
     "c72676c9a6b04b1a968bcce14e193769": {
      "model_module": "@jupyter-widgets/base",
      "model_module_version": "2.0.0",
      "model_name": "LayoutModel",
      "state": {}
     },
     "c9ab6e4c3ee443daa55c9000befc5dbc": {
      "model_module": "@jupyter-widgets/base",
      "model_module_version": "2.0.0",
      "model_name": "LayoutModel",
      "state": {}
     },
     "cbbf5a6532fc4f2fb809d9ec1dd2e204": {
      "model_module": "@jupyter-widgets/controls",
      "model_module_version": "2.0.0",
      "model_name": "SliderStyleModel",
      "state": {
       "description_width": ""
      }
     },
     "d23d282254ee417cb4a1a2fafc713bd4": {
      "model_module": "@jupyter-widgets/controls",
      "model_module_version": "2.0.0",
      "model_name": "SliderStyleModel",
      "state": {
       "description_width": ""
      }
     },
     "d27ef5b0ff284a51970b9529e172e255": {
      "model_module": "@jupyter-widgets/base",
      "model_module_version": "2.0.0",
      "model_name": "LayoutModel",
      "state": {}
     },
     "d2e851b07f424135b439785315cb0fe3": {
      "model_module": "@jupyter-widgets/controls",
      "model_module_version": "2.0.0",
      "model_name": "ToggleButtonsModel",
      "state": {
       "_options_labels": [
        "True",
        "False"
       ],
       "button_style": "",
       "description": "Submerged?",
       "icons": [],
       "index": 0,
       "layout": "IPY_MODEL_62c4fa26aaff421eb7a081708e95037d",
       "style": "IPY_MODEL_437f120688bb4b74ac3ed0517c837a51",
       "tooltips": []
      }
     },
     "d469b5234a3c489b8145472d662a6e96": {
      "model_module": "@jupyter-widgets/controls",
      "model_module_version": "2.0.0",
      "model_name": "SliderStyleModel",
      "state": {
       "description_width": ""
      }
     },
     "d66200e425074c0f82ee071b0c239422": {
      "model_module": "@jupyter-widgets/controls",
      "model_module_version": "2.0.0",
      "model_name": "SliderStyleModel",
      "state": {
       "description_width": ""
      }
     },
     "d6bfdb943c764cc18042f7d5c199d420": {
      "model_module": "@jupyter-widgets/controls",
      "model_module_version": "2.0.0",
      "model_name": "FloatSliderModel",
      "state": {
       "behavior": "drag-tap",
       "description": "Wave Height Hs (m)",
       "layout": "IPY_MODEL_fa9f52d34e8143589b51f34fe4aa8ef3",
       "max": 5,
       "min": 0.5,
       "step": 0.1,
       "style": "IPY_MODEL_ba836c906219473dba36e299d8f27a38",
       "value": 1.5
      }
     },
     "d97c80c24cbd43cfba16502e7d2f0a60": {
      "model_module": "@jupyter-widgets/controls",
      "model_module_version": "2.0.0",
      "model_name": "SliderStyleModel",
      "state": {
       "description_width": ""
      }
     },
     "da2e7b20cd31479ca3ecb4c5fa346e78": {
      "model_module": "@jupyter-widgets/controls",
      "model_module_version": "2.0.0",
      "model_name": "FloatSliderModel",
      "state": {
       "behavior": "drag-tap",
       "description": "Breakwater Length (m)",
       "layout": "IPY_MODEL_39a4d22ac7ce4bffb9161e70cd9891b9",
       "min": 10,
       "step": 5,
       "style": "IPY_MODEL_a507d26db35a4c609ea6eb01a04ba68d",
       "value": 30
      }
     },
     "da6f7ef25cc546dd977c2ede738c1338": {
      "model_module": "@jupyter-widgets/base",
      "model_module_version": "2.0.0",
      "model_name": "LayoutModel",
      "state": {}
     },
     "de5b0fa451cb49e8b85fe7f0e71817f9": {
      "model_module": "@jupyter-widgets/base",
      "model_module_version": "2.0.0",
      "model_name": "LayoutModel",
      "state": {}
     },
     "df2459ab35ad491593155a3bcc1bae28": {
      "model_module": "@jupyter-widgets/controls",
      "model_module_version": "2.0.0",
      "model_name": "FloatSliderModel",
      "state": {
       "behavior": "drag-tap",
       "description": "Wave Angle (°)",
       "layout": "IPY_MODEL_a0606901c58845fbb5c7559f64f7dc50",
       "max": 90,
       "min": -90,
       "step": 5,
       "style": "IPY_MODEL_04529062f70044268de7a68d831ae4aa"
      }
     },
     "e14c679d70b54552913969d0a8d5a005": {
      "model_module": "@jupyter-widgets/base",
      "model_module_version": "2.0.0",
      "model_name": "LayoutModel",
      "state": {}
     },
     "e35bcc003ea54821bc67e988c79ca002": {
      "model_module": "@jupyter-widgets/base",
      "model_module_version": "2.0.0",
      "model_name": "LayoutModel",
      "state": {}
     },
     "e9e6fed106ad4f479e61ecc08f725c26": {
      "model_module": "@jupyter-widgets/output",
      "model_module_version": "1.0.0",
      "model_name": "OutputModel",
      "state": {
       "layout": "IPY_MODEL_4066f0af61e44db081a08edf9df4b114",
       "outputs": [
        {
         "name": "stdout",
         "output_type": "stream",
         "text": "🌊 Significant Wave Height: 1.50 m\n🏗️ Breakwater Crest Elevation: 1.00 m\n🌊 Water Depth at Structure: 2.00 m\n📏 Breakwater Length: 30.0 m\n📍 Distance Offshore: 20.0 m\n🌊 Transmission Coefficient (Kt): 0.60\n🌊 Reflection Coefficient (Kr): 0.23\n🏖️ Predicted Shoreline Response: Salient formation\n"
        },
        {
         "data": {
          "image/png": "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",
          "text/plain": "<Figure size 1000x600 with 1 Axes>"
         },
         "metadata": {},
         "output_type": "display_data"
        }
       ]
      }
     },
     "ea0e5ed7fc9241d69c6cb2636650e2fa": {
      "model_module": "@jupyter-widgets/base",
      "model_module_version": "2.0.0",
      "model_name": "LayoutModel",
      "state": {}
     },
     "ea7c8fd95e9f49b0a997ef665a135e6e": {
      "model_module": "@jupyter-widgets/controls",
      "model_module_version": "2.0.0",
      "model_name": "ToggleButtonsModel",
      "state": {
       "_options_labels": [
        "True",
        "False"
       ],
       "button_style": "",
       "description": "Submerged?",
       "icons": [],
       "index": 0,
       "layout": "IPY_MODEL_93989a93c9f84df3bef6924ac063fb8c",
       "style": "IPY_MODEL_bdf2381a98e74fd5a85d49545a5b8ee8",
       "tooltips": []
      }
     },
     "eac0d12e2e3c4195a1cca162534069b7": {
      "model_module": "@jupyter-widgets/controls",
      "model_module_version": "2.0.0",
      "model_name": "FloatSliderModel",
      "state": {
       "behavior": "drag-tap",
       "description": "Wave Height Hs (m)",
       "layout": "IPY_MODEL_55bf1fadb5564f1687cdc110ff252c99",
       "max": 5,
       "min": 0.5,
       "step": 0.1,
       "style": "IPY_MODEL_8c26025ce8144e1d97f6db2d9c4b6266",
       "value": 1.5
      }
     },
     "eaf1ed04d86f4e719fa24b779c114f08": {
      "model_module": "@jupyter-widgets/controls",
      "model_module_version": "2.0.0",
      "model_name": "SliderStyleModel",
      "state": {
       "description_width": ""
      }
     },
     "ebfa0bd532f54566869ed0fc4e6be426": {
      "model_module": "@jupyter-widgets/controls",
      "model_module_version": "2.0.0",
      "model_name": "FloatSliderModel",
      "state": {
       "behavior": "drag-tap",
       "description": "Crest Elevation H (m)",
       "layout": "IPY_MODEL_e14c679d70b54552913969d0a8d5a005",
       "max": 5,
       "min": 0.5,
       "step": 0.1,
       "style": "IPY_MODEL_1491bd56af5c4626a828de801b58e5a0",
       "value": 1
      }
     },
     "ee4ef35fafde46748b959775d290082c": {
      "model_module": "@jupyter-widgets/controls",
      "model_module_version": "2.0.0",
      "model_name": "SliderStyleModel",
      "state": {
       "description_width": ""
      }
     },
     "f08a61a93eea47e1b39d93141d63d868": {
      "model_module": "@jupyter-widgets/base",
      "model_module_version": "2.0.0",
      "model_name": "LayoutModel",
      "state": {}
     },
     "f2d661a48b5d43ca813203849b69dd0e": {
      "model_module": "@jupyter-widgets/controls",
      "model_module_version": "2.0.0",
      "model_name": "SliderStyleModel",
      "state": {
       "description_width": ""
      }
     },
     "f32c4d6d669e453fa1782ea84f7210d0": {
      "model_module": "@jupyter-widgets/base",
      "model_module_version": "2.0.0",
      "model_name": "LayoutModel",
      "state": {}
     },
     "f379b901f0674d4493f301d3b0f398cc": {
      "model_module": "@jupyter-widgets/output",
      "model_module_version": "1.0.0",
      "model_name": "OutputModel",
      "state": {
       "layout": "IPY_MODEL_1b1550e4c1a3460a8f42d70ca8ef3e84",
       "outputs": [
        {
         "name": "stdout",
         "output_type": "stream",
         "text": "🌊 Significant Wave Height: 1.50 m\n🏗️ Breakwater Crest Elevation: 1.00 m\n🌊 Water Depth at Structure: 2.00 m\n📏 Breakwater Length: 30.0 m\n📍 Distance Offshore: 20.0 m\n🌊 Transmission Coefficient (Kt): 0.60\n🌊 Reflection Coefficient (Kr): 0.23\n🏖️ Predicted Shoreline Response: Salient formation\n"
        },
        {
         "data": {
          "image/png": "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",
          "text/plain": "<Figure size 1000x600 with 1 Axes>"
         },
         "metadata": {},
         "output_type": "display_data"
        }
       ]
      }
     },
     "f3c6936be2ae48c2a84d6e0e0d8f6543": {
      "model_module": "@jupyter-widgets/controls",
      "model_module_version": "2.0.0",
      "model_name": "FloatSliderModel",
      "state": {
       "behavior": "drag-tap",
       "description": "Distance Offshore (m)",
       "layout": "IPY_MODEL_e35bcc003ea54821bc67e988c79ca002",
       "min": 5,
       "step": 5,
       "style": "IPY_MODEL_0030c854044542bea6b3c9947e422d8b",
       "value": 20
      }
     },
     "f41f8e90d9e041b2b25664c6342b9b99": {
      "model_module": "@jupyter-widgets/controls",
      "model_module_version": "2.0.0",
      "model_name": "SliderStyleModel",
      "state": {
       "description_width": ""
      }
     },
     "f728a787454c4b53b86e7096d4623bb4": {
      "model_module": "@jupyter-widgets/base",
      "model_module_version": "2.0.0",
      "model_name": "LayoutModel",
      "state": {}
     },
     "fa9f52d34e8143589b51f34fe4aa8ef3": {
      "model_module": "@jupyter-widgets/base",
      "model_module_version": "2.0.0",
      "model_name": "LayoutModel",
      "state": {}
     },
     "faf1589b870a4b9b9c66753d597fa874": {
      "model_module": "@jupyter-widgets/controls",
      "model_module_version": "2.0.0",
      "model_name": "FloatSliderModel",
      "state": {
       "behavior": "drag-tap",
       "description": "Wave Angle (°)",
       "layout": "IPY_MODEL_6410ef8b6fbb46b3883c5c367107c4d0",
       "max": 90,
       "min": -90,
       "step": 5,
       "style": "IPY_MODEL_d23d282254ee417cb4a1a2fafc713bd4"
      }
     },
     "fb1f3452f1054839999e857ed8672e8b": {
      "model_module": "@jupyter-widgets/base",
      "model_module_version": "2.0.0",
      "model_name": "LayoutModel",
      "state": {}
     },
     "fc53dca3aca54e028ab53bcdd71deed6": {
      "model_module": "@jupyter-widgets/controls",
      "model_module_version": "2.0.0",
      "model_name": "SliderStyleModel",
      "state": {
       "description_width": ""
      }
     },
     "fd4e6fa69bcc45f9ab5d0da437b6d4ce": {
      "model_module": "@jupyter-widgets/base",
      "model_module_version": "2.0.0",
      "model_name": "LayoutModel",
      "state": {}
     },
     "fd93027c9d82498782df6ded11f88af6": {
      "model_module": "@jupyter-widgets/base",
      "model_module_version": "2.0.0",
      "model_name": "LayoutModel",
      "state": {}
     },
     "feaacbe083914a209d30b8b13e1e9fce": {
      "model_module": "@jupyter-widgets/base",
      "model_module_version": "2.0.0",
      "model_name": "LayoutModel",
      "state": {}
     }
    },
    "version_major": 2,
    "version_minor": 0
   }
  }
 },
 "nbformat": 4,
 "nbformat_minor": 5
}
