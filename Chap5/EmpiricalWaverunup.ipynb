{
 "cells": [
  {
   "cell_type": "markdown",
   "id": "930790ec-c7f8-4da9-947d-43f4b49ad1bb",
   "metadata": {},
   "source": [
    "# Chapter 5 Coastal Engineering: Wave Runup Estimation"
   ]
  },
  {
   "cell_type": "markdown",
   "id": "836e37ad-985d-4756-97c7-c29a928fc1b1",
   "metadata": {},
   "source": [
    "1. [Introduction: Wave Runup](#1.-Introduction)\n",
    "2. [Simulation: Multimodel Wave Runup](#2.-Simulation)\n",
    "3. [Self-Assessment](#3.-Self-Assessment)"
   ]
  },
  {
   "cell_type": "markdown",
   "id": "da7d1bd5-2b89-422b-b871-9246c77f0a20",
   "metadata": {},
   "source": [
    "## 1. Introduction"
   ]
  },
  {
   "cell_type": "markdown",
   "id": "0720709d-62c7-4ff0-8048-9696b55f302c",
   "metadata": {},
   "source": [
    "\n",
    "Wave runup is the uprush of water from wave action on a beach or coastal structure. Accurately predicting runup is \n",
    "crucial for: Coastal flood risk assessment, Beach erosion modeling, and the Design of coastal infrastructure. This tool \n",
    "compares nine commonly used empirical wave runup models derived from experimental studies and field observations. \n",
    "Each model estimates the vertical extent of runup (R) based on:deep-water wave height (m); deep-water wavelength (m)\n",
    "and beach slope (dimensionless). \n",
    "General Empirical Runup Formula: R = C × [ a × β × √(H × L) + √( (H × L) × (b × β² + c) / 2 ) ]\n",
    "Where: H × L represents the incident wave energy at the shoreline; Coefficients a, b, c, and C are empirically \n",
    "derived, and R is the estimated 2% exceedance runup height\n",
    "\n",
    "Runup Estimation Models Compared: Stockdon2006; Holman1986;Ruggiero2001;Power2018;Nielsen2009;Vousdoukas2012;\n",
    "Senechal2011; Beuzen2019;Passarella2018. Each model predicts runup based on H, L, and β, but differs in calibration\n",
    "method and target environments. All models emphasize the interaction of wave energy with beach slope. The first term\n",
    "accounts for wave setup;  the second term reflects swash oscillation. Coefficients vary due to: Coastal type \n",
    "(steep vs. dissipative); Storm vs. fair weather conditions, Field vs. lab data sources. This tool helps you: Analyze \n",
    "model spread across varying beach/wave conditions, Assess slope and wavelength sensitivity, and visualize differences for \n",
    "coastal design or hazard planning.\n"
   ]
  },
  {
   "cell_type": "markdown",
   "id": "d0c57851-c9fc-4b3f-b3cf-4636f9b45a24",
   "metadata": {},
   "source": [
    "## 2. Simulation"
   ]
  },
  {
   "cell_type": "markdown",
   "id": "8b4d8c41-8ea4-4b66-81fe-af9dd87bfa28",
   "metadata": {},
   "source": [
    "### 🌊 Multi-Model Wave Runup Simulator — Beach Slope Sensitivity Analysis\n",
    "\n",
    "This Jupyter-based tool compares **wave runup estimates** from 9 published models based on input wave height, wavelength, and beach slope. It enables interactive exploration of how **runup magnitude** varies with coastal conditions.\n",
    "\n",
    "---\n",
    "\n",
    "### 🧠 What It Does\n",
    "\n",
    "- Implements models from **Stockdon, Power, Holman, Nielsen, Ruggiero, Vousdoukas, Senechal, Beuzen, and Passarella**\n",
    "- Calculates runup using empirical formulas involving √(H×L) and slope (β)\n",
    "- Provides side-by-side output for model comparison\n",
    "- Includes **interactive sliders** to explore wave height, wavelength, and slope sensitivity\n",
    "- Prompts users to reflect on how increasing β affects runup\n",
    "\n",
    "---\n",
    "\n",
    "### 🎛️ User Inputs\n",
    "\n",
    "| Parameter         | Description                     |\n",
    "|------------------|---------------------------------|\n",
    "| `Wave Height (H)` | Height of incoming waves (m)    |\n",
    "| `Wavelength (L)`  | Distance between wave crests (m)|\n",
    "| `Beach Slope (β)` | Shoreline slope (unitless)      |\n",
    "\n",
    "---\n",
    "\n",
    "### 📊 Outputs\n",
    "\n",
    "- **Runup estimates** (in meters) from each model\n",
    "- **Bar chart** showing model-to-model variation\n",
    "- **Reflective prompt** to help users understand physical influence of beach slope\n",
    "\n",
    "---\n",
    "\n",
    "### 🧭 How to Interpret\n",
    "\n",
    "- All models predict **increased runup with steeper beach slopes and higher wave energy**\n",
    "- Differences between models reflect varying datasets, calibration regions, and empirical assumptions\n",
    "- Use this tool for:\n",
    "  - Design benchmarking\n",
    "  - Field study sensitivity tests\n",
    "  - Teaching coastal processes and model uncertainty\n",
    "\n",
    "> _A steep β amplifies wave runup—highlighting its importance in flooding, erosion, and coastal resilience assessments._\n"
   ]
  },
  {
   "cell_type": "code",
   "execution_count": 1,
   "id": "49e5438b-3aec-4b32-9b80-d9ea074a3666",
   "metadata": {},
   "outputs": [
    {
     "name": "stdout",
     "output_type": "stream",
     "text": [
      "Stockdon2006 Runup=   1.62 meters\n",
      "Power2018 Runup   =   1.16 meters\n",
      "Holman1986 Runup  =   1.26 meters\n",
      "Nielsen2009 Runup =   1.80 meters\n",
      "Ruggiero2001 Runup=   1.46 meters\n",
      "Vousdoukas2012 Runup= 1.63 meters\n",
      "Senechal2011 Runup  = 1.54 meters\n",
      "Beuzen2019 Runup    = 1.80 meters\n",
      "Passarella2018 Runup= 1.51 meters\n"
     ]
    },
    {
     "data": {
      "application/vnd.jupyter.widget-view+json": {
       "model_id": "35e9e2fe489d4c90b220d4975c199009",
       "version_major": 2,
       "version_minor": 0
      },
      "text/plain": [
       "interactive(children=(FloatSlider(value=2.0, description='Wave Height (H)', max=10.0, min=0.1), FloatSlider(va…"
      ]
     },
     "metadata": {},
     "output_type": "display_data"
    },
    {
     "data": {
      "application/vnd.jupyter.widget-view+json": {
       "model_id": "12eadc92e4ee4b7c90075f4209083795",
       "version_major": 2,
       "version_minor": 0
      },
      "text/plain": [
       "interactive(children=(FloatSlider(value=2.0, description='Wave Height (H)', max=5.0, min=0.5), FloatSlider(val…"
      ]
     },
     "metadata": {},
     "output_type": "display_data"
    },
    {
     "data": {
      "text/plain": [
       "<function __main__.explore_runup(H, L, beta)>"
      ]
     },
     "execution_count": 1,
     "metadata": {},
     "output_type": "execute_result"
    }
   ],
   "source": [
    "#pip install jupyterquiz\n",
    "import numpy as np\n",
    "import matplotlib.pyplot as plt\n",
    "from ipywidgets import interact, FloatSlider\n",
    "#pip install jupyterlab-mathjax3\n",
    "\n",
    "# Display theoretical overview in output\n",
    "\n",
    "\n",
    "# Define the wave parameters\n",
    "H = 2.0# Wave height in meters\n",
    "L = 100.0# Wavelength in meters\n",
    "T = 10.0# Wave period in seconds\n",
    "beta = 0.1# Beach slope\n",
    "\n",
    "# Stockdon2006 model\n",
    "def stockdon2006(H, L, beta):\n",
    "    R = 1.1 * (0.35 * beta * np.sqrt(H * L) + np.sqrt((H * L * (0.563 * beta**2 + 0.004)) / 2))\n",
    "    return R\n",
    "\n",
    "# Power2018 model\n",
    "def power2018(H, L, beta):\n",
    "    R = 0.83 * (0.27 * beta * np.sqrt(H * L) + np.sqrt((H * L * (0.52 * beta**2 + 0.005)) / 2))\n",
    "    return R\n",
    "\n",
    "# Holman1986 model\n",
    "def holman1986(H, L, beta):\n",
    "    R = 0.75 * (0.5 * beta * np.sqrt(H * L) + np.sqrt((H * L * (0.65 * beta**2 + 0.003)) / 2))\n",
    "    return R\n",
    "\n",
    "# Nielsen2009 model\n",
    "def nielsen2009(H, L, beta):\n",
    "    R = 1.2 * (0.3 * beta * np.sqrt(H * L) + np.sqrt((H * L * (0.55 * beta**2 + 0.006)) / 2))\n",
    "    return R\n",
    "\n",
    "# Ruggiero2001 model\n",
    "def ruggiero2001(H, L, beta):\n",
    "    R = 1.05 * (0.25 * beta * np.sqrt(H * L) + np.sqrt((H * L * (0.57 * beta**2 + 0.005)) / 2))\n",
    "    return R\n",
    "\n",
    "# Vousdoukas2012 model\n",
    "def vousdoukas2012(H, L, beta):\n",
    "    R = 1.15 * (0.32 * beta * np.sqrt(H * L) + np.sqrt((H * L * (0.53 * beta**2 + 0.004)) / 2))\n",
    "    return R\n",
    "\n",
    "# Senechal2011 model\n",
    "def senechal2011(H, L, beta):\n",
    "    R = 1.08 * (0.28 * beta * np.sqrt(H * L) + np.sqrt((H * L * (0.56 * beta**2 + 0.005)) / 2))\n",
    "    return R\n",
    "\n",
    "# Beuzen2019 model\n",
    "def beuzen2019(H, L, beta):\n",
    "    R = 1.25 * (0.33 * beta * np.sqrt(H * L) + np.sqrt((H * L * (0.54 * beta**2 + 0.004)) / 2))\n",
    "    return R\n",
    "\n",
    "# Passarella2018 model\n",
    "def passarella2018(H, L, beta):\n",
    "    R = 1.05 * (0.29 * beta * np.sqrt(H * L) + np.sqrt((H * L * (0.55 * beta**2 + 0.005)) / 2))\n",
    "    return R\n",
    "\n",
    "# Calculate runup using different models\n",
    "runup_stockdon2006 = stockdon2006(H, L, beta)\n",
    "runup_power2018 = power2018(H, L, beta)\n",
    "runup_holman1986 = holman1986(H, L, beta)\n",
    "runup_nielsen2009 = nielsen2009(H, L, beta)\n",
    "runup_ruggiero2001 = ruggiero2001(H, L, beta)\n",
    "runup_vousdoukas2012 = vousdoukas2012(H, L, beta)\n",
    "runup_senechal2011 = senechal2011(H, L, beta)\n",
    "runup_beuzen2019 = beuzen2019(H, L, beta)\n",
    "runup_passarella2018 = passarella2018(H, L, beta)\n",
    "\n",
    "# Print the results\n",
    "print(f\"Stockdon2006 Runup=   {runup_stockdon2006:.2f} meters\")\n",
    "print(f\"Power2018 Runup   =   {runup_power2018:.2f} meters\")\n",
    "print(f\"Holman1986 Runup  =   {runup_holman1986:.2f} meters\")\n",
    "print(f\"Nielsen2009 Runup =   {runup_nielsen2009:.2f} meters\")\n",
    "print(f\"Ruggiero2001 Runup=   {runup_ruggiero2001:.2f} meters\")\n",
    "print(f\"Vousdoukas2012 Runup= {runup_vousdoukas2012:.2f} meters\")\n",
    "print(f\"Senechal2011 Runup  = {runup_senechal2011:.2f} meters\")\n",
    "print(f\"Beuzen2019 Runup    = {runup_beuzen2019:.2f} meters\")\n",
    "print(f\"Passarella2018 Runup= {runup_passarella2018:.2f} meters\")\n",
    "\n",
    "# Plot the results\n",
    "#models = ['Stockdon2006', 'Power2018', 'Holman1986', 'Nielsen2009', 'Ruggiero2001', 'Vousdoukas2012', 'Senechal2011', 'Beuzen2019', 'Passarella2018']\n",
    "#runups = [runup_stockdon2006, runup_power2018, runup_holman1986, runup_nielsen2009, runup_ruggiero2001, runup_vousdoukas2012,runup_senechal2011, runup_beuzen2019, runup_passarella2018]\n",
    "\n",
    "\n",
    "# Interactive plotting function\n",
    "def plot_runup(H, L, beta):\n",
    "    models = {\n",
    "        'Stockdon2006': stockdon2006,'Power2018': power2018,'Holman1986': holman1986,\n",
    "        'Nielsen2009': nielsen2009,'Ruggiero2001': ruggiero2001,'Vousdoukas2012': vousdoukas2012,\n",
    "        'Senechal2011': senechal2011,'Beuzen2019': beuzen2019,'Passarella2018': passarella2018}\n",
    "    runups = [model(H, L, beta) for model in models.values()]\n",
    "    plt.figure(figsize=(10, 5))\n",
    "    plt.bar(models.keys(), runups)\n",
    "    plt.xlabel('Models')\n",
    "    plt.ylabel('Runup (meters)')\n",
    "    plt.title('Wave Runup Calculations Using Different Models')\n",
    "    plt.xticks(rotation=45)\n",
    "    plt.ylim(0, max(runups) * 1.2)\n",
    "    plt.grid(axis='y')\n",
    "    plt.show()\n",
    "# Create sliders and interactive widget\n",
    "interact(plot_runup,\n",
    "         H=FloatSlider(value=2.0, min=0.1, max=10.0, step=0.1, description='Wave Height (H)'),\n",
    "         L=FloatSlider(value=100.0, min=10.0, max=500.0, step=10.0, description='Wavelength (L)'),\n",
    "         beta=FloatSlider(value=0.1, min=0.01, max=0.5, step=0.01, description='Beach Slope (β)'))\n",
    "\n",
    "from ipywidgets import interact, FloatSlider\n",
    "\n",
    "def explore_runup(H, L, beta):\n",
    "    R = 1.1 * (0.35 * beta * (H * L)**0.5 + ((H * L * (0.563 * beta**2 + 0.004)) / 2)**0.5)\n",
    "    print(f\"Estimated runup: {R:.2f} m\")\n",
    "    print(\"🧠 What happens when you increase β? Why?\")\n",
    "\n",
    "interact(explore_runup,\n",
    "         H=FloatSlider(min=0.5, max=5.0, step=0.1, value=2.0, description=\"Wave Height (H)\"),\n",
    "         L=FloatSlider(min=50, max=300, step=10, value=100, description=\"Wavelength (L)\"),\n",
    "         beta=FloatSlider(min=0.01, max=0.5, step=0.01, value=0.1, description=\"Beach Slope (β)\"))"
   ]
  },
  {
   "cell_type": "markdown",
   "id": "9acb16b5-88b0-4862-bdde-d9907d783c3f",
   "metadata": {},
   "source": [
    "## 3. Self-Assessment"
   ]
  },
  {
   "cell_type": "markdown",
   "id": "a2a61c9f-72fe-474d-9a88-22cf2ce0a04c",
   "metadata": {},
   "source": [
    "### Conceptual Understanding Wave Runup Estimation\n",
    "\n",
    "1. **Define wave runup.**  \n",
    "   Why is predicting runup height important in coastal engineering?\n",
    "\n",
    "2. **Key Parameters**  \n",
    "   What are the three main parameters used in most empirical runup models?\n",
    "\n",
    "3. **Formula Interpretation**  \n",
    "   In the general empirical formula  \n",
    "   \\[\n",
    "   R = C \\left( a \\beta \\sqrt{HL} + \\sqrt{ \\frac{HL (b \\beta^2 + c)}{2} } \\right)\n",
    "   \\]\n",
    "   what do the two terms inside the brackets represent physically?\n",
    "\n",
    "5. **Energy Representation**  \n",
    "   Why is the product \\( H \\times L \\) used in estimating runup energy?\n",
    "\n",
    "6. **Coefficient Meaning**  \n",
    "   What does the coefficient \\( C \\) generally reflect in each model?\n",
    "\n",
    "7.  **Model-Specific Reasoning**\n",
    "    Which model has the highest scaling factor for wave runup prediction in the code provided, and what might that imply?\n",
    "\n",
    "8.  **Model-Specific Reasoning**\n",
    "    Why might two models return different runup predictions for the same wave and beach conditions?\n",
    "\n",
    "8.  **Model-Specific Reasoning**\n",
    "    How does beach slope influence the runup height in most models\n",
    "   "
   ]
  },
  {
   "cell_type": "markdown",
   "id": "07c0a28a-e84f-4390-a9b5-4f7ae2109108",
   "metadata": {},
   "source": [
    "Model-Specific Reasoning\n",
    "- Which model has the highest scaling factor for wave runup prediction in the code provided, and what might that imply?\n",
    "- Why might two models return different runup predictions for the same wave and beach conditions?\n",
    "- How does beach slope influence the runup height in most models\n"
   ]
  }
 ],
 "metadata": {
  "kernelspec": {
   "display_name": "Python [conda env:base] *",
   "language": "python",
   "name": "conda-base-py"
  },
  "language_info": {
   "codemirror_mode": {
    "name": "ipython",
    "version": 3
   },
   "file_extension": ".py",
   "mimetype": "text/x-python",
   "name": "python",
   "nbconvert_exporter": "python",
   "pygments_lexer": "ipython3",
   "version": "3.12.7"
  },
  "widgets": {
   "application/vnd.jupyter.widget-state+json": {
    "state": {
     "0cc8cb766a8c40778b0aa8dd8c968010": {
      "model_module": "@jupyter-widgets/controls",
      "model_module_version": "2.0.0",
      "model_name": "FloatSliderModel",
      "state": {
       "behavior": "drag-tap",
       "description": "Beach Slope (β)",
       "layout": "IPY_MODEL_6b3060bc866b45f48d2f5191d532ced7",
       "max": 0.5,
       "min": 0.01,
       "step": 0.01,
       "style": "IPY_MODEL_aea87047d01144bb918f9c24970d042b",
       "value": 0.09999999999999999
      }
     },
     "109d35bc1be74054b82a73007eee4b60": {
      "model_module": "@jupyter-widgets/base",
      "model_module_version": "2.0.0",
      "model_name": "LayoutModel",
      "state": {}
     },
     "124b21f5bc0b4fed9d226596d674d9e9": {
      "model_module": "@jupyter-widgets/base",
      "model_module_version": "2.0.0",
      "model_name": "LayoutModel",
      "state": {}
     },
     "12eadc92e4ee4b7c90075f4209083795": {
      "model_module": "@jupyter-widgets/controls",
      "model_module_version": "2.0.0",
      "model_name": "VBoxModel",
      "state": {
       "_dom_classes": [
        "widget-interact"
       ],
       "children": [
        "IPY_MODEL_da08e14b377a468a82ce487474524979",
        "IPY_MODEL_88cd0854a663469e8787ff8e4d773d4d",
        "IPY_MODEL_0cc8cb766a8c40778b0aa8dd8c968010",
        "IPY_MODEL_3791fb95ec9240c88773044205fe79a3"
       ],
       "layout": "IPY_MODEL_109d35bc1be74054b82a73007eee4b60"
      }
     },
     "2e9b1b6ffbc14b0dabc83b9cc1f76bcb": {
      "model_module": "@jupyter-widgets/base",
      "model_module_version": "2.0.0",
      "model_name": "LayoutModel",
      "state": {}
     },
     "35e9e2fe489d4c90b220d4975c199009": {
      "model_module": "@jupyter-widgets/controls",
      "model_module_version": "2.0.0",
      "model_name": "VBoxModel",
      "state": {
       "_dom_classes": [
        "widget-interact"
       ],
       "children": [
        "IPY_MODEL_bb696d00ac0440cf98e90ea792c39798",
        "IPY_MODEL_d75c832ac1174f0e8f87b22d2eb08770",
        "IPY_MODEL_6cac232175394da1b6b4357855b66aaf",
        "IPY_MODEL_3e38bbb33aa447d7879b49a3ff032dfc"
       ],
       "layout": "IPY_MODEL_d3910667c77c4d528a028df565f46ec7"
      }
     },
     "3791fb95ec9240c88773044205fe79a3": {
      "model_module": "@jupyter-widgets/output",
      "model_module_version": "1.0.0",
      "model_name": "OutputModel",
      "state": {
       "layout": "IPY_MODEL_2e9b1b6ffbc14b0dabc83b9cc1f76bcb",
       "outputs": [
        {
         "name": "stdout",
         "output_type": "stream",
         "text": "Estimated runup: 1.62 m\n🧠 What happens when you increase β? Why?\n"
        }
       ]
      }
     },
     "3e38bbb33aa447d7879b49a3ff032dfc": {
      "model_module": "@jupyter-widgets/output",
      "model_module_version": "1.0.0",
      "model_name": "OutputModel",
      "state": {
       "layout": "IPY_MODEL_55e9b205a5ae48d49461ec904d61f547",
       "outputs": [
        {
         "data": {
          "image/png": "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",
          "text/plain": "<Figure size 1000x500 with 1 Axes>"
         },
         "metadata": {},
         "output_type": "display_data"
        }
       ]
      }
     },
     "425064ad7996401cb1be45cb15dd7b6f": {
      "model_module": "@jupyter-widgets/base",
      "model_module_version": "2.0.0",
      "model_name": "LayoutModel",
      "state": {}
     },
     "55e9b205a5ae48d49461ec904d61f547": {
      "model_module": "@jupyter-widgets/base",
      "model_module_version": "2.0.0",
      "model_name": "LayoutModel",
      "state": {}
     },
     "6b3060bc866b45f48d2f5191d532ced7": {
      "model_module": "@jupyter-widgets/base",
      "model_module_version": "2.0.0",
      "model_name": "LayoutModel",
      "state": {}
     },
     "6cac232175394da1b6b4357855b66aaf": {
      "model_module": "@jupyter-widgets/controls",
      "model_module_version": "2.0.0",
      "model_name": "FloatSliderModel",
      "state": {
       "behavior": "drag-tap",
       "description": "Beach Slope (β)",
       "layout": "IPY_MODEL_e9c3fd1dab3f4bff804794077d93c3c5",
       "max": 0.5,
       "min": 0.01,
       "step": 0.01,
       "style": "IPY_MODEL_aedc06af578843148be6385c595adde9",
       "value": 0.09999999999999999
      }
     },
     "88cd0854a663469e8787ff8e4d773d4d": {
      "model_module": "@jupyter-widgets/controls",
      "model_module_version": "2.0.0",
      "model_name": "FloatSliderModel",
      "state": {
       "behavior": "drag-tap",
       "description": "Wavelength (L)",
       "layout": "IPY_MODEL_425064ad7996401cb1be45cb15dd7b6f",
       "max": 300,
       "min": 50,
       "step": 10,
       "style": "IPY_MODEL_f42c5c91ab8d43b58d06511509609622",
       "value": 100
      }
     },
     "9d76fbe868f3420bba847f20b846fb89": {
      "model_module": "@jupyter-widgets/controls",
      "model_module_version": "2.0.0",
      "model_name": "SliderStyleModel",
      "state": {
       "description_width": ""
      }
     },
     "aea87047d01144bb918f9c24970d042b": {
      "model_module": "@jupyter-widgets/controls",
      "model_module_version": "2.0.0",
      "model_name": "SliderStyleModel",
      "state": {
       "description_width": ""
      }
     },
     "aedc06af578843148be6385c595adde9": {
      "model_module": "@jupyter-widgets/controls",
      "model_module_version": "2.0.0",
      "model_name": "SliderStyleModel",
      "state": {
       "description_width": ""
      }
     },
     "bb696d00ac0440cf98e90ea792c39798": {
      "model_module": "@jupyter-widgets/controls",
      "model_module_version": "2.0.0",
      "model_name": "FloatSliderModel",
      "state": {
       "behavior": "drag-tap",
       "description": "Wave Height (H)",
       "layout": "IPY_MODEL_ed51c2d71544475db77753ea2bda5f82",
       "max": 10,
       "min": 0.1,
       "step": 0.1,
       "style": "IPY_MODEL_9d76fbe868f3420bba847f20b846fb89",
       "value": 2.0000000000000004
      }
     },
     "bc60a7a58b954636a015a96cef0813cd": {
      "model_module": "@jupyter-widgets/controls",
      "model_module_version": "2.0.0",
      "model_name": "SliderStyleModel",
      "state": {
       "description_width": ""
      }
     },
     "c9505177e9704f12817e1cb688d6ef3a": {
      "model_module": "@jupyter-widgets/base",
      "model_module_version": "2.0.0",
      "model_name": "LayoutModel",
      "state": {}
     },
     "d3910667c77c4d528a028df565f46ec7": {
      "model_module": "@jupyter-widgets/base",
      "model_module_version": "2.0.0",
      "model_name": "LayoutModel",
      "state": {}
     },
     "d75c832ac1174f0e8f87b22d2eb08770": {
      "model_module": "@jupyter-widgets/controls",
      "model_module_version": "2.0.0",
      "model_name": "FloatSliderModel",
      "state": {
       "behavior": "drag-tap",
       "description": "Wavelength (L)",
       "layout": "IPY_MODEL_c9505177e9704f12817e1cb688d6ef3a",
       "max": 500,
       "min": 10,
       "step": 10,
       "style": "IPY_MODEL_e79de6977ca74a588ba31aa1ed23cf85",
       "value": 100
      }
     },
     "da08e14b377a468a82ce487474524979": {
      "model_module": "@jupyter-widgets/controls",
      "model_module_version": "2.0.0",
      "model_name": "FloatSliderModel",
      "state": {
       "behavior": "drag-tap",
       "description": "Wave Height (H)",
       "layout": "IPY_MODEL_124b21f5bc0b4fed9d226596d674d9e9",
       "max": 5,
       "min": 0.5,
       "step": 0.1,
       "style": "IPY_MODEL_bc60a7a58b954636a015a96cef0813cd",
       "value": 2
      }
     },
     "e79de6977ca74a588ba31aa1ed23cf85": {
      "model_module": "@jupyter-widgets/controls",
      "model_module_version": "2.0.0",
      "model_name": "SliderStyleModel",
      "state": {
       "description_width": ""
      }
     },
     "e9c3fd1dab3f4bff804794077d93c3c5": {
      "model_module": "@jupyter-widgets/base",
      "model_module_version": "2.0.0",
      "model_name": "LayoutModel",
      "state": {}
     },
     "ed51c2d71544475db77753ea2bda5f82": {
      "model_module": "@jupyter-widgets/base",
      "model_module_version": "2.0.0",
      "model_name": "LayoutModel",
      "state": {}
     },
     "f42c5c91ab8d43b58d06511509609622": {
      "model_module": "@jupyter-widgets/controls",
      "model_module_version": "2.0.0",
      "model_name": "SliderStyleModel",
      "state": {
       "description_width": ""
      }
     }
    },
    "version_major": 2,
    "version_minor": 0
   }
  }
 },
 "nbformat": 4,
 "nbformat_minor": 5
}
