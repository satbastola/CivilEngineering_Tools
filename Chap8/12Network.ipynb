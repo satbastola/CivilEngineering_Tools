{
 "cells": [
  {
   "cell_type": "markdown",
   "id": "cec005e7-68d6-4ad5-bb01-79cacd07dec4",
   "metadata": {},
   "source": [
    "### 🌐 Computer Networks: Overview and Analysis\n",
    "\n",
    "---\n",
    "\n",
    "### 1️⃣ What Is a Computer Network?\n",
    "\n",
    "A **computer network** is a system of interconnected devices (computers, servers, routers, etc.) that communicate and share resources using transmission protocols. Networks enable data exchange, remote access, and distributed computing.\n",
    "\n",
    "**Key Components**:\n",
    "- Nodes (devices)\n",
    "- Transmission medium (wired/wireless)\n",
    "- Protocols (rules for communication)\n",
    "- Network interfaces (NICs, routers, switches)\n",
    "\n",
    "---\n",
    "\n",
    "### 2️⃣ Types of Computer Networks\n",
    "\n",
    "| Type       | Scope            | Description                                      | Example Use Case               |\n",
    "|------------|------------------|--------------------------------------------------|--------------------------------|\n",
    "| LAN        | Local Area       | Covers small geographic area (e.g., office)      | Home Wi-Fi, school network     |\n",
    "| WAN        | Wide Area        | Covers large geographic area                     | Internet, corporate networks   |\n",
    "| MAN        | Metropolitan     | Spans a city or campus                           | City-wide broadband            |\n",
    "| PAN        | Personal Area    | Short-range, personal devices                    | Bluetooth, wearable tech       |\n",
    "| WLAN       | Wireless LAN     | Wireless version of LAN                          | Wi-Fi hotspots                 |\n",
    "| CAN        | Campus Area      | Connects buildings within a campus               | University network             |\n",
    "| SAN        | Storage Area     | Dedicated to data storage and retrieval          | Data centers                   |\n",
    "\n",
    "---\n",
    "\n",
    "### 3️⃣ Comparison of Network Protocols\n",
    "\n",
    "| Protocol   | Layer     | Purpose                          | Characteristics                          | Use Case                      |\n",
    "|------------|-----------|----------------------------------|-------------------------------------------|-------------------------------|\n",
    "| TCP        | Transport | Reliable, ordered data delivery  | Connection-oriented, error-checked        | Web browsing, email           |\n",
    "| UDP        | Transport | Fast, connectionless transmission| No guarantee of delivery or order         | Streaming, gaming             |\n",
    "| IP         | Network   | Routing and addressing           | Stateless, best-effort delivery           | Internet backbone             |\n",
    "| HTTP/HTTPS | Application| Web communication               | Text-based, secure with HTTPS             | Websites, APIs                |\n",
    "| FTP        | Application| File transfer                   | Authenticated, supports large files       | File sharing                  |\n",
    "| SMTP       | Application| Email transmission              | Push-based, used with POP/IMAP            | Email servers                 |\n",
    "| DNS        | Application| Domain name resolution          | Converts domain names to IP addresses     | Web access                    |\n",
    "| ICMP       | Network   | Diagnostics and error reporting | Used for ping/traceroute                  | Network troubleshooting       |\n",
    "\n",
    "---\n",
    "\n",
    "### 4️⃣ Tools and Skills for Network Analysis\n",
    "\n",
    "### 🛠️ Tools\n",
    "- **Wireshark**: Packet capture and protocol analysis\n",
    "- **Nmap**: Network scanning and host discovery\n",
    "- **Ping/Traceroute**: Connectivity and path tracing\n",
    "- **Netstat**: Displays active connections and ports\n",
    "- **Tcpdump**: Command-line packet analyzer\n",
    "- **NSLookup/Dig**: DNS query tools\n",
    "- **NetworkMiner**: Passive packet sniffing and forensic analysis\n",
    "\n",
    "### 🧠 Skills\n",
    "- Understanding of OSI and TCP/IP models\n",
    "- Protocol behavior and packet structure\n",
    "- IP addressing and subnetting\n",
    "- Firewall and routing configuration\n",
    "- Intrusion detection and traffic filtering\n",
    "- Performance monitoring and bottleneck analysis\n",
    "\n",
    "---\n",
    "\n",
    "### 📘 Summary Table\n",
    "\n",
    "| Category            | Key Elements                                      |\n",
    "|---------------------|---------------------------------------------------|\n",
    "| Network Types       | LAN, WAN, MAN, PAN, WLAN, CAN, SAN                |\n",
    "| Protocols           | TCP, UDP, IP, HTTP/HTTPS, FTP, SMTP, DNS, ICMP    |\n",
    "| Analysis Tools      | Wireshark, Nmap, Netstat, Tcpdump, NSLookup       |\n",
    "| Required Skills     | Protocol analysis, subnetting, diagnostics        |\n",
    "\n",
    "---\n",
    "\n",
    "Computer networks are the backbone of modern communication. Mastery of protocols, tools, and diagnostic techniques is essential for careers in **network engineering**, **cybersecurity**, and **IT infrastructure**.\n"
   ]
  },
  {
   "cell_type": "code",
   "execution_count": 2,
   "id": "688dc031-72ae-4ba2-97c4-a52bb6b9f4f9",
   "metadata": {},
   "outputs": [
    {
     "data": {
      "application/vnd.jupyter.widget-view+json": {
       "model_id": "57d711e04a29445a84f463c9ac058067",
       "version_major": 2,
       "version_minor": 0
      },
      "text/plain": [
       "Dropdown(description='📚 Select Topic:', layout=Layout(width='400px'), options=('What is a Computer Network', '…"
      ]
     },
     "metadata": {},
     "output_type": "display_data"
    },
    {
     "data": {
      "application/vnd.jupyter.widget-view+json": {
       "model_id": "ef1340632e0e4022b704ef875dbbc3bf",
       "version_major": 2,
       "version_minor": 0
      },
      "text/plain": [
       "Output()"
      ]
     },
     "metadata": {},
     "output_type": "display_data"
    }
   ],
   "source": [
    "import ipywidgets as widgets\n",
    "from IPython.display import display, Markdown, clear_output\n",
    "\n",
    "# 📘 Topics with Descriptions, Components, Skills, and Quizzes\n",
    "topics = {\n",
    "    \"What is a Computer Network\": {\n",
    "        \"description\": \"\"\"\n",
    "A **computer network** is a system of interconnected devices that communicate and share resources.\n",
    "\n",
    "### 🔧 Key Components:\n",
    "- Nodes (computers, routers, switches)\n",
    "- Transmission media (cables, wireless)\n",
    "- Protocols (rules for communication)\n",
    "- Network interfaces (NICs)\n",
    "\n",
    "### 🧠 Skills to Master:\n",
    "- OSI and TCP/IP models\n",
    "- IP addressing and routing\n",
    "- Network hardware and topology\n",
    "\"\"\",\n",
    "        \"quiz\": [\n",
    "            (\"What is the primary purpose of a computer network?\", \"To share resources and enable communication\"),\n",
    "            (\"Which component defines the rules for data exchange?\", \"Protocol\"),\n",
    "            (\"What does NIC stand for?\", \"Network Interface Card\")\n",
    "        ]\n",
    "    },\n",
    "\n",
    "    \"Types of Networks\": {\n",
    "        \"description\": \"\"\"\n",
    "Networks vary by size and scope.\n",
    "\n",
    "### 🌐 Common Types:\n",
    "- LAN: Local Area Network\n",
    "- WAN: Wide Area Network\n",
    "- PAN: Personal Area Network\n",
    "- MAN: Metropolitan Area Network\n",
    "- SAN: Storage Area Network\n",
    "- WLAN: Wireless LAN\n",
    "\n",
    "### 🧠 Skills to Master:\n",
    "- Network design and topology\n",
    "- Wireless vs. wired configurations\n",
    "- Security and scalability\n",
    "\"\"\",\n",
    "        \"quiz\": [\n",
    "            (\"Which network type is used in homes and small offices?\", \"LAN\"),\n",
    "            (\"Which network spans a city or campus?\", \"MAN\"),\n",
    "            (\"Which type is used for Bluetooth devices?\", \"PAN\")\n",
    "        ]\n",
    "    },\n",
    "\n",
    "    \"Network Protocols\": {\n",
    "        \"description\": \"\"\"\n",
    "Protocols define how data is transmitted.\n",
    "\n",
    "### 🔗 Key Protocols:\n",
    "- TCP: Reliable, ordered delivery\n",
    "- UDP: Fast, connectionless\n",
    "- IP: Routing and addressing\n",
    "- HTTP/HTTPS: Web communication\n",
    "- FTP: File transfer\n",
    "- DNS: Domain name resolution\n",
    "- ICMP: Diagnostics\n",
    "\n",
    "### 🧠 Skills to Master:\n",
    "- Packet structure and headers\n",
    "- Port numbers and services\n",
    "- Protocol behavior and use cases\n",
    "\"\"\",\n",
    "        \"quiz\": [\n",
    "            (\"Which protocol ensures reliable delivery?\", \"TCP\"),\n",
    "            (\"Which protocol is used for domain name resolution?\", \"DNS\"),\n",
    "            (\"Which protocol is commonly used for streaming?\", \"UDP\")\n",
    "        ]\n",
    "    },\n",
    "\n",
    "    \"Network Analysis Tools\": {\n",
    "        \"description\": \"\"\"\n",
    "Tools help monitor and troubleshoot networks.\n",
    "\n",
    "### 🛠️ Tools:\n",
    "- Wireshark: Packet analysis\n",
    "- Nmap: Network scanning\n",
    "- Ping/Traceroute: Connectivity testing\n",
    "- Netstat: Active connections\n",
    "- Tcpdump: CLI packet capture\n",
    "- NSLookup/Dig: DNS queries\n",
    "\n",
    "### 🧠 Skills to Master:\n",
    "- Packet inspection and filtering\n",
    "- Host discovery and scanning\n",
    "- DNS resolution and traffic tracing\n",
    "\"\"\",\n",
    "        \"quiz\": [\n",
    "            (\"Which tool captures and analyzes packets?\", \"Wireshark\"),\n",
    "            (\"Which tool is used to scan for open ports?\", \"Nmap\"),\n",
    "            (\"Which tool helps trace the path to a remote host?\", \"Traceroute\")\n",
    "        ]\n",
    "    }\n",
    "}\n",
    "\n",
    "# 🔘 Topic Selector\n",
    "topic_selector = widgets.Dropdown(\n",
    "    options=list(topics.keys()),\n",
    "    description='📚 Select Topic:',\n",
    "    style={'description_width': 'initial'},\n",
    "    layout=widgets.Layout(width='400px')\n",
    ")\n",
    "\n",
    "output_area = widgets.Output()\n",
    "\n",
    "# 🔄 Update Display\n",
    "def update_topic(change=None):\n",
    "    output_area.clear_output()\n",
    "    selected = topic_selector.value\n",
    "    content = topics[selected]\n",
    "    with output_area:\n",
    "        display(Markdown(f\"### 🧠 {selected}\"))\n",
    "        display(Markdown(content[\"description\"]))\n",
    "        display(Markdown(\"### ❓ Quiz\"))\n",
    "        for q, a in content[\"quiz\"]:\n",
    "            display(Markdown(f\"- **Q:** {q}  \\n  **A:** {a}\"))\n",
    "\n",
    "# 🔁 Observe Changes\n",
    "topic_selector.observe(update_topic, names='value')\n",
    "\n",
    "# 🚀 Display Interface\n",
    "display(topic_selector)\n",
    "display(output_area)\n",
    "update_topic()\n"
   ]
  },
  {
   "cell_type": "markdown",
   "id": "377ed07a-67c6-4896-a64a-06c48809dbd7",
   "metadata": {},
   "source": [
    "## 1. Protocol Simulation: Simulate how different protocols behave (e.g., TCP vs. UDP):"
   ]
  },
  {
   "cell_type": "code",
   "execution_count": 3,
   "id": "24add261-9300-40a8-9753-0acf7493cf28",
   "metadata": {},
   "outputs": [
    {
     "name": "stdout",
     "output_type": "stream",
     "text": [
      "🔗 TCP: Establishing connection...\n",
      "📦 Sending: Hello, TCP!\n",
      "✅ TCP: Delivery confirmed with ACK\n",
      "📦 UDP: Sending Hello, UDP! without confirmation\n"
     ]
    }
   ],
   "source": [
    "import time\n",
    "\n",
    "def simulate_tcp(data):\n",
    "    print(\"🔗 TCP: Establishing connection...\")\n",
    "    time.sleep(1)\n",
    "    print(f\"📦 Sending: {data}\")\n",
    "    time.sleep(1)\n",
    "    print(\"✅ TCP: Delivery confirmed with ACK\")\n",
    "\n",
    "def simulate_udp(data):\n",
    "    print(f\"📦 UDP: Sending {data} without confirmation\")\n",
    "\n",
    "simulate_tcp(\"Hello, TCP!\")\n",
    "simulate_udp(\"Hello, UDP!\")\n"
   ]
  },
  {
   "cell_type": "markdown",
   "id": "c48d63a7-5131-450f-b64e-ff29dcb9cd68",
   "metadata": {},
   "source": [
    "##  IP Address and Subnet Calculaton: Students input IP and subnet mask to compute network details:"
   ]
  },
  {
   "cell_type": "code",
   "execution_count": 4,
   "id": "9a612149-64b6-4eb5-8a26-b9b879f3885d",
   "metadata": {},
   "outputs": [
    {
     "data": {
      "application/vnd.jupyter.widget-view+json": {
       "model_id": "8f01a6bea6ac4e4db10183e4fa4a6a0a",
       "version_major": 2,
       "version_minor": 0
      },
      "text/plain": [
       "Text(value='192.168.1.10/24', description='Enter IP/Subnet:')"
      ]
     },
     "metadata": {},
     "output_type": "display_data"
    },
    {
     "data": {
      "application/vnd.jupyter.widget-view+json": {
       "model_id": "e9c2cff5fc614f78b14e332cbbb3a248",
       "version_major": 2,
       "version_minor": 0
      },
      "text/plain": [
       "Output()"
      ]
     },
     "metadata": {},
     "output_type": "display_data"
    }
   ],
   "source": [
    "import ipaddress\n",
    "ip_input = widgets.Text(value='192.168.1.10/24', description='Enter IP/Subnet:')\n",
    "output = widgets.Output()\n",
    "\n",
    "def calculate_network(change):\n",
    "    output.clear_output()\n",
    "    try:\n",
    "        net = ipaddress.ip_interface(ip_input.value)\n",
    "        with output:\n",
    "            display(Markdown(f\"**Network:** {net.network}\"))\n",
    "            display(Markdown(f\"**Host IP:** {net.ip}\"))\n",
    "            display(Markdown(f\"**Netmask:** {net.network.netmask}\"))\n",
    "    except Exception as e:\n",
    "        with output:\n",
    "            display(Markdown(f\"❌ Error: {e}\"))\n",
    "\n",
    "ip_input.observe(calculate_network, names='value')\n",
    "display(ip_input, output)\n",
    "calculate_network(None)\n"
   ]
  },
  {
   "cell_type": "markdown",
   "id": "51acad56-a54b-4765-8be0-de1624f1c004",
   "metadata": {},
   "source": [
    "##  3. OSI Model Explorer: Interactive dropdown to explore each OSI layer:"
   ]
  },
  {
   "cell_type": "code",
   "execution_count": 6,
   "id": "d6020d30-2b9e-4a90-91b1-b1a0d21eefe8",
   "metadata": {},
   "outputs": [
    {
     "data": {
      "application/vnd.jupyter.widget-view+json": {
       "model_id": "81bafc53ef18470293bece77de83bb95",
       "version_major": 2,
       "version_minor": 0
      },
      "text/plain": [
       "Dropdown(description='OSI Layer:', options=('Application', 'Presentation', 'Session', 'Transport', 'Network', …"
      ]
     },
     "metadata": {},
     "output_type": "display_data"
    },
    {
     "data": {
      "application/vnd.jupyter.widget-view+json": {
       "model_id": "a0ca3845b57e4e31a348611d0beedd35",
       "version_major": 2,
       "version_minor": 0
      },
      "text/plain": [
       "Output()"
      ]
     },
     "metadata": {},
     "output_type": "display_data"
    }
   ],
   "source": [
    "osi_layers = {\n",
    "    \"Application\": \"User-facing services (HTTP, FTP, SMTP)\",\n",
    "    \"Presentation\": \"Data formatting, encryption (SSL, JPEG)\",\n",
    "    \"Session\": \"Connection management (API sessions)\",\n",
    "    \"Transport\": \"Reliable delivery (TCP, UDP)\",\n",
    "    \"Network\": \"Routing and addressing (IP)\",\n",
    "    \"Data Link\": \"MAC addressing, switches\",\n",
    "    \"Physical\": \"Cables, signals, hardware\"\n",
    "}\n",
    "\n",
    "layer_selector = widgets.Dropdown(options=osi_layers.keys(), description=\"OSI Layer:\")\n",
    "layer_output = widgets.Output()\n",
    "\n",
    "def show_layer(change):\n",
    "    layer_output.clear_output()\n",
    "    with layer_output:\n",
    "        display(Markdown(f\"### {layer_selector.value} Layer\"))\n",
    "        display(Markdown(osi_layers[layer_selector.value]))\n",
    "\n",
    "layer_selector.observe(show_layer, names='value')\n",
    "display(layer_selector, layer_output)\n",
    "show_layer(None)\n"
   ]
  },
  {
   "cell_type": "code",
   "execution_count": null,
   "id": "d1230a63-83f0-4422-9b14-eebfc0226cdf",
   "metadata": {},
   "outputs": [],
   "source": []
  }
 ],
 "metadata": {
  "kernelspec": {
   "display_name": "Python [conda env:base] *",
   "language": "python",
   "name": "conda-base-py"
  },
  "language_info": {
   "codemirror_mode": {
    "name": "ipython",
    "version": 3
   },
   "file_extension": ".py",
   "mimetype": "text/x-python",
   "name": "python",
   "nbconvert_exporter": "python",
   "pygments_lexer": "ipython3",
   "version": "3.12.7"
  },
  "widgets": {
   "application/vnd.jupyter.widget-state+json": {
    "state": {},
    "version_major": 2,
    "version_minor": 0
   }
  }
 },
 "nbformat": 4,
 "nbformat_minor": 5
}
