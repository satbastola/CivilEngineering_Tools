{
 "cells": [
  {
   "cell_type": "markdown",
   "id": "545a4a30-ead4-425a-a1b9-17935dccf2ac",
   "metadata": {},
   "source": [
    "### 🧠 Data Modeling: Concepts and Types\n",
    "\n",
    "Data modeling is the process of designing the structure, relationships, and logic of data to support analysis, reporting, and decision-making.\n",
    "\n",
    "---\n",
    "\n",
    "### 📐 Key Aspects of Data Modeling\n",
    "\n",
    "| Aspect              | Description                                                                 |\n",
    "|---------------------|-----------------------------------------------------------------------------|\n",
    "| **Entities**         | Core objects or concepts (e.g., Customers, Orders)                         |\n",
    "| **Attributes**       | Properties or fields of entities (e.g., Order Date, Customer Name)         |\n",
    "| **Relationships**    | Logical connections between entities (e.g., One-to-Many, Many-to-Many)     |\n",
    "| **Keys**             | Unique identifiers (Primary Key, Foreign Key)                              |\n",
    "| **Cardinality**      | Defines the nature of relationships (e.g., 1:1, 1:N, N:N)                   |\n",
    "| **Normalization**    | Organizing data to reduce redundancy and improve integrity                 |\n",
    "| **Denormalization**  | Flattening data for performance or reporting simplicity                    |\n",
    "\n",
    "---\n",
    "\n",
    "### 🧩 Types of Data Models\n",
    "\n",
    "### 📊 Data Model Types: Summary of Strengths, Weaknesses, and Applicability\n",
    "\n",
    "| Model Type         | Description                              | Strengths                                                                 | Weaknesses                                                             | Applicability in BI                                                   |\n",
    "|--------------------|------------------------------------------|---------------------------------------------------------------------------|------------------------------------------------------------------------|------------------------------------------------------------------------|\n",
    "| **Conceptual**      | High-level overview of entities          | Easy to understand; good for stakeholder alignment                        | Lacks technical detail; not implementation-ready                      | Early planning; stakeholder communication                             |\n",
    "| **Logical**         | Detailed structure without implementation| Platform-independent; precise schema design                               | Needs translation to physical model                                   | Schema validation; database design                                    |\n",
    "| **Physical**        | Actual database schema                   | Directly implementable; optimized for performance                         | Platform-specific; less abstract                                      | SQL databases; Power BI data models                                   |\n",
    "| **Dimensional**     | Fact and dimension tables for analytics  | Optimized for queries; intuitive for analysts                             | May sacrifice normalization; redundancy possible                      | Star/Snowflake schemas; dashboards; OLAP cubes                        |\n",
    "| **Hierarchical**    | Tree-structured parent-child relationships| Fast access for structured data                                           | Rigid structure; poor flexibility                                     | Legacy systems; XML data                                              |\n",
    "| **Network**         | Graph-like complex relationships         | Handles many-to-many relationships well                                   | Difficult to maintain; less intuitive                                 | Advanced relational databases; niche analytics                        |\n",
    "| **Object-Oriented** | Combines data and behavior               | Reusable; encapsulates logic and structure                                | Complex for relational mapping                                        | Application-driven modeling; hybrid systems                           |\n",
    "\n",
    "\n",
    "---\n",
    "\n",
    "### 📊 BI Context: Dimensional Modeling\n",
    "\n",
    "- **Fact Table**: Contains measurable metrics (e.g., Sales, Revenue)\n",
    "- **Dimension Tables**: Describe context (e.g., Time, Product, Region)\n",
    "- **Star Schema**: Central fact table connected to dimensions\n",
    "- **Snowflake Schema**: Dimensions normalized into sub-dimensions\n",
    "\n",
    "### 📊 Fact Tables, Dimension Tables, and Schema Design in BI\n",
    "\n",
    "Understanding how data is structured in analytical models is essential for building efficient and insightful dashboards.\n",
    "\n",
    "---\n",
    "\n",
    "### 🧮 Fact Table\n",
    "\n",
    "A **Fact Table** contains measurable, quantitative data—typically business metrics.\n",
    "\n",
    "### 🔹 Example: `SalesFact`\n",
    "| SaleID | DateID | ProductID | CustomerID | RegionID | Revenue | Quantity |\n",
    "|--------|--------|-----------|------------|----------|---------|----------|\n",
    "| 101    | 20230801 | P001     | C001       | R01      | 1200.00 | 3        |\n",
    "\n",
    "- **Keys**: Foreign keys to dimension tables\n",
    "- **Measures**: Revenue, Quantity, Profit, etc.\n",
    "\n",
    "---\n",
    "\n",
    "### 🧾 Dimension Tables\n",
    "\n",
    "**Dimension Tables** provide descriptive context for facts. They are used for filtering, grouping, and slicing data.\n",
    "\n",
    "### 🔹 Example: `ProductDim`\n",
    "| ProductID | ProductName | Category | Brand |\n",
    "|-----------|-------------|----------|--------|\n",
    "| P001      | Laptop      | Electronics | Dell  |\n",
    "\n",
    "### 🔹 Example: `CustomerDim`\n",
    "| CustomerID | Name     | Segment | JoinDate |\n",
    "|------------|----------|---------|----------|\n",
    "| C001       | Alice    | Retail  | 2022-01-15|\n",
    "\n",
    "### 🔹 Example: `DateDim`\n",
    "| DateID   | Date       | Month | Quarter | Year |\n",
    "|----------|------------|-------|---------|------|\n",
    "| 20230801 | 2023-08-01 | Aug   | Q3      | 2023 |\n",
    "\n",
    "---\n",
    "\n",
    "### ⭐ Star Schema\n",
    "\n",
    "- Central **Fact Table**\n",
    "- Connected directly to **denormalized Dimension Tables**\n",
    "- Simple, fast for querying\n",
    "\n",
    "### 🔹 Structure\n",
    "\n",
    "SalesFact ├── ProductDim ├── CustomerDim ├── DateDim └── RegionDim\n",
    "\n",
    "---\n",
    "\n",
    "### ❄️ Snowflake Schema\n",
    "\n",
    "- Dimensions are **normalized** into sub-dimensions\n",
    "- Reduces redundancy, improves integrity\n",
    "- More complex joins, slower queries\n",
    "\n",
    "### 🔹 Structure\n",
    "SalesFact ├── ProductDim │ └── CategoryDim ├── CustomerDim │ └── SegmentDim ├── DateDim └── RegionDim └── CountryDim\n",
    "\n",
    "\n",
    "### ⭐ Star Schema vs ❄️ Snowflake Schema\n",
    "\n",
    "| Feature                  | ⭐ Star Schema                                      | ❄️ Snowflake Schema                                      |\n",
    "|--------------------------|----------------------------------------------------|----------------------------------------------------------|\n",
    "| **Structure**            | Central fact table with directly linked dimensions | Dimensions are normalized into sub-dimensions            |\n",
    "| **Complexity**           | Simple and flat                                    | More complex with multiple joins                         |\n",
    "| **Query Performance**    | Faster due to fewer joins                          | Slower due to normalized joins                          |\n",
    "| **Storage Efficiency**   | Less efficient (redundancy in dimensions)          | More efficient (reduces data duplication)                |\n",
    "| **Ease of Use**          | Easier for analysts and BI tools                   | Requires deeper understanding of relationships           |\n",
    "| **Normalization Level**  | Denormalized                                       | Normalized                                               |\n",
    "| **Maintenance**          | Easier to maintain and modify                      | More difficult to maintain due to relational depth       |\n",
    "| **Use Case**             | Dashboards, ad-hoc analysis                        | Large-scale enterprise systems with strict data integrity|\n",
    "| **Example**              | ProductDim includes category and brand             | ProductDim links to CategoryDim and BrandDim             |\n",
    "\n",
    "\n",
    "\n",
    "### 🧠 Reflection Questions\n",
    "\n",
    "1. What are the trade-offs between normalization and denormalization?\n",
    "2. Why is dimensional modeling preferred in BI tools like Power BI?\n",
    "3. How do relationships and cardinality affect data integrity and performance?\n",
    "\n"
   ]
  },
  {
   "cell_type": "markdown",
   "id": "a6331934-18ab-4eb4-9f13-a1db248f9361",
   "metadata": {},
   "source": [
    "### 🧩 Interactive Schema Explorer Overview\n",
    "\n",
    "This module simulates a Power BI-style data model using pandas and ipywidgets:\n",
    "\n",
    "- **Fact Table (`sales_fact`)**: Contains transactional data including sales, revenue, and quantity.\n",
    "- **Dimension Tables**: Include `product_dim`, `customer_dim`, `date_dim`, and `region_dim` for descriptive attributes.\n",
    "- **Snowflake Extension**: `category_dim` adds hierarchy to `product_dim` via category → department.\n",
    "- **Schema Toggle**: Users can switch between **Star Schema** and **Snowflake Schema** views.\n",
    "- **Join Simulation**: Demonstrates how snowflake schemas normalize data via joins.\n",
    "- **Quiz Prompts**: Encourage reflection on schema design, performance, and join logic.\n",
    "\n",
    "Ideal for teaching schema modeling, join operations, and Power BI data relationships.\n"
   ]
  },
  {
   "cell_type": "code",
   "execution_count": 4,
   "id": "ecc620ef-b3c0-4d1d-9c87-61da57ce995c",
   "metadata": {},
   "outputs": [
    {
     "data": {
      "text/markdown": [
       "## 🧪 Interactive Schema Explorer"
      ],
      "text/plain": [
       "<IPython.core.display.Markdown object>"
      ]
     },
     "metadata": {},
     "output_type": "display_data"
    },
    {
     "data": {
      "application/vnd.jupyter.widget-view+json": {
       "model_id": "6737a17c76c244aca3299f7e0c3f423c",
       "version_major": 2,
       "version_minor": 0
      },
      "text/plain": [
       "ToggleButtons(button_style='info', description='Schema View:', options=('Star Schema', 'Snowflake Schema'), va…"
      ]
     },
     "metadata": {},
     "output_type": "display_data"
    },
    {
     "data": {
      "text/markdown": [
       "### 📊 Fact Table"
      ],
      "text/plain": [
       "<IPython.core.display.Markdown object>"
      ]
     },
     "metadata": {},
     "output_type": "display_data"
    },
    {
     "data": {
      "text/html": [
       "<div>\n",
       "<style scoped>\n",
       "    .dataframe tbody tr th:only-of-type {\n",
       "        vertical-align: middle;\n",
       "    }\n",
       "\n",
       "    .dataframe tbody tr th {\n",
       "        vertical-align: top;\n",
       "    }\n",
       "\n",
       "    .dataframe thead th {\n",
       "        text-align: right;\n",
       "    }\n",
       "</style>\n",
       "<table border=\"1\" class=\"dataframe\">\n",
       "  <thead>\n",
       "    <tr style=\"text-align: right;\">\n",
       "      <th></th>\n",
       "      <th>SaleID</th>\n",
       "      <th>DateID</th>\n",
       "      <th>ProductID</th>\n",
       "      <th>CustomerID</th>\n",
       "      <th>RegionID</th>\n",
       "      <th>Revenue</th>\n",
       "      <th>Quantity</th>\n",
       "    </tr>\n",
       "  </thead>\n",
       "  <tbody>\n",
       "    <tr>\n",
       "      <th>0</th>\n",
       "      <td>101</td>\n",
       "      <td>20230801</td>\n",
       "      <td>P001</td>\n",
       "      <td>C001</td>\n",
       "      <td>R01</td>\n",
       "      <td>1200.0</td>\n",
       "      <td>3</td>\n",
       "    </tr>\n",
       "    <tr>\n",
       "      <th>1</th>\n",
       "      <td>102</td>\n",
       "      <td>20230802</td>\n",
       "      <td>P002</td>\n",
       "      <td>C002</td>\n",
       "      <td>R02</td>\n",
       "      <td>800.0</td>\n",
       "      <td>2</td>\n",
       "    </tr>\n",
       "    <tr>\n",
       "      <th>2</th>\n",
       "      <td>103</td>\n",
       "      <td>20230803</td>\n",
       "      <td>P003</td>\n",
       "      <td>C003</td>\n",
       "      <td>R01</td>\n",
       "      <td>1500.0</td>\n",
       "      <td>5</td>\n",
       "    </tr>\n",
       "  </tbody>\n",
       "</table>\n",
       "</div>"
      ],
      "text/plain": [
       "   SaleID    DateID ProductID CustomerID RegionID  Revenue  Quantity\n",
       "0     101  20230801      P001       C001      R01   1200.0         3\n",
       "1     102  20230802      P002       C002      R02    800.0         2\n",
       "2     103  20230803      P003       C003      R01   1500.0         5"
      ]
     },
     "metadata": {},
     "output_type": "display_data"
    },
    {
     "data": {
      "text/markdown": [
       "### 🧾 Dimension Tables"
      ],
      "text/plain": [
       "<IPython.core.display.Markdown object>"
      ]
     },
     "metadata": {},
     "output_type": "display_data"
    },
    {
     "data": {
      "text/html": [
       "<div>\n",
       "<style scoped>\n",
       "    .dataframe tbody tr th:only-of-type {\n",
       "        vertical-align: middle;\n",
       "    }\n",
       "\n",
       "    .dataframe tbody tr th {\n",
       "        vertical-align: top;\n",
       "    }\n",
       "\n",
       "    .dataframe thead th {\n",
       "        text-align: right;\n",
       "    }\n",
       "</style>\n",
       "<table border=\"1\" class=\"dataframe\">\n",
       "  <thead>\n",
       "    <tr style=\"text-align: right;\">\n",
       "      <th></th>\n",
       "      <th>ProductID</th>\n",
       "      <th>ProductName</th>\n",
       "      <th>Category</th>\n",
       "      <th>Brand</th>\n",
       "    </tr>\n",
       "  </thead>\n",
       "  <tbody>\n",
       "    <tr>\n",
       "      <th>0</th>\n",
       "      <td>P001</td>\n",
       "      <td>Laptop</td>\n",
       "      <td>Electronics</td>\n",
       "      <td>Dell</td>\n",
       "    </tr>\n",
       "    <tr>\n",
       "      <th>1</th>\n",
       "      <td>P002</td>\n",
       "      <td>Tablet</td>\n",
       "      <td>Electronics</td>\n",
       "      <td>Samsung</td>\n",
       "    </tr>\n",
       "    <tr>\n",
       "      <th>2</th>\n",
       "      <td>P003</td>\n",
       "      <td>Monitor</td>\n",
       "      <td>Accessories</td>\n",
       "      <td>HP</td>\n",
       "    </tr>\n",
       "  </tbody>\n",
       "</table>\n",
       "</div>"
      ],
      "text/plain": [
       "  ProductID ProductName     Category    Brand\n",
       "0      P001      Laptop  Electronics     Dell\n",
       "1      P002      Tablet  Electronics  Samsung\n",
       "2      P003     Monitor  Accessories       HP"
      ]
     },
     "metadata": {},
     "output_type": "display_data"
    },
    {
     "data": {
      "text/html": [
       "<div>\n",
       "<style scoped>\n",
       "    .dataframe tbody tr th:only-of-type {\n",
       "        vertical-align: middle;\n",
       "    }\n",
       "\n",
       "    .dataframe tbody tr th {\n",
       "        vertical-align: top;\n",
       "    }\n",
       "\n",
       "    .dataframe thead th {\n",
       "        text-align: right;\n",
       "    }\n",
       "</style>\n",
       "<table border=\"1\" class=\"dataframe\">\n",
       "  <thead>\n",
       "    <tr style=\"text-align: right;\">\n",
       "      <th></th>\n",
       "      <th>CustomerID</th>\n",
       "      <th>Name</th>\n",
       "      <th>Segment</th>\n",
       "      <th>JoinDate</th>\n",
       "    </tr>\n",
       "  </thead>\n",
       "  <tbody>\n",
       "    <tr>\n",
       "      <th>0</th>\n",
       "      <td>C001</td>\n",
       "      <td>Alice</td>\n",
       "      <td>Retail</td>\n",
       "      <td>2022-01-15</td>\n",
       "    </tr>\n",
       "    <tr>\n",
       "      <th>1</th>\n",
       "      <td>C002</td>\n",
       "      <td>Bob</td>\n",
       "      <td>Corporate</td>\n",
       "      <td>2021-11-03</td>\n",
       "    </tr>\n",
       "    <tr>\n",
       "      <th>2</th>\n",
       "      <td>C003</td>\n",
       "      <td>Charlie</td>\n",
       "      <td>Retail</td>\n",
       "      <td>2023-02-20</td>\n",
       "    </tr>\n",
       "  </tbody>\n",
       "</table>\n",
       "</div>"
      ],
      "text/plain": [
       "  CustomerID     Name    Segment    JoinDate\n",
       "0       C001    Alice     Retail  2022-01-15\n",
       "1       C002      Bob  Corporate  2021-11-03\n",
       "2       C003  Charlie     Retail  2023-02-20"
      ]
     },
     "metadata": {},
     "output_type": "display_data"
    },
    {
     "data": {
      "text/html": [
       "<div>\n",
       "<style scoped>\n",
       "    .dataframe tbody tr th:only-of-type {\n",
       "        vertical-align: middle;\n",
       "    }\n",
       "\n",
       "    .dataframe tbody tr th {\n",
       "        vertical-align: top;\n",
       "    }\n",
       "\n",
       "    .dataframe thead th {\n",
       "        text-align: right;\n",
       "    }\n",
       "</style>\n",
       "<table border=\"1\" class=\"dataframe\">\n",
       "  <thead>\n",
       "    <tr style=\"text-align: right;\">\n",
       "      <th></th>\n",
       "      <th>DateID</th>\n",
       "      <th>Date</th>\n",
       "      <th>Month</th>\n",
       "      <th>Quarter</th>\n",
       "      <th>Year</th>\n",
       "    </tr>\n",
       "  </thead>\n",
       "  <tbody>\n",
       "    <tr>\n",
       "      <th>0</th>\n",
       "      <td>20230801</td>\n",
       "      <td>2023-08-01</td>\n",
       "      <td>Aug</td>\n",
       "      <td>Q3</td>\n",
       "      <td>2023</td>\n",
       "    </tr>\n",
       "    <tr>\n",
       "      <th>1</th>\n",
       "      <td>20230802</td>\n",
       "      <td>2023-08-02</td>\n",
       "      <td>Aug</td>\n",
       "      <td>Q3</td>\n",
       "      <td>2023</td>\n",
       "    </tr>\n",
       "    <tr>\n",
       "      <th>2</th>\n",
       "      <td>20230803</td>\n",
       "      <td>2023-08-03</td>\n",
       "      <td>Aug</td>\n",
       "      <td>Q3</td>\n",
       "      <td>2023</td>\n",
       "    </tr>\n",
       "  </tbody>\n",
       "</table>\n",
       "</div>"
      ],
      "text/plain": [
       "     DateID        Date Month Quarter  Year\n",
       "0  20230801  2023-08-01   Aug      Q3  2023\n",
       "1  20230802  2023-08-02   Aug      Q3  2023\n",
       "2  20230803  2023-08-03   Aug      Q3  2023"
      ]
     },
     "metadata": {},
     "output_type": "display_data"
    },
    {
     "data": {
      "text/html": [
       "<div>\n",
       "<style scoped>\n",
       "    .dataframe tbody tr th:only-of-type {\n",
       "        vertical-align: middle;\n",
       "    }\n",
       "\n",
       "    .dataframe tbody tr th {\n",
       "        vertical-align: top;\n",
       "    }\n",
       "\n",
       "    .dataframe thead th {\n",
       "        text-align: right;\n",
       "    }\n",
       "</style>\n",
       "<table border=\"1\" class=\"dataframe\">\n",
       "  <thead>\n",
       "    <tr style=\"text-align: right;\">\n",
       "      <th></th>\n",
       "      <th>RegionID</th>\n",
       "      <th>RegionName</th>\n",
       "      <th>Country</th>\n",
       "    </tr>\n",
       "  </thead>\n",
       "  <tbody>\n",
       "    <tr>\n",
       "      <th>0</th>\n",
       "      <td>R01</td>\n",
       "      <td>North</td>\n",
       "      <td>USA</td>\n",
       "    </tr>\n",
       "    <tr>\n",
       "      <th>1</th>\n",
       "      <td>R02</td>\n",
       "      <td>South</td>\n",
       "      <td>USA</td>\n",
       "    </tr>\n",
       "  </tbody>\n",
       "</table>\n",
       "</div>"
      ],
      "text/plain": [
       "  RegionID RegionName Country\n",
       "0      R01      North     USA\n",
       "1      R02      South     USA"
      ]
     },
     "metadata": {},
     "output_type": "display_data"
    },
    {
     "data": {
      "text/markdown": [
       "### ✅ Current Schema: **Star Schema**"
      ],
      "text/plain": [
       "<IPython.core.display.Markdown object>"
      ]
     },
     "metadata": {},
     "output_type": "display_data"
    },
    {
     "data": {
      "text/markdown": [
       "\n",
       "### 🧠 Quiz Prompts\n",
       "1. What is the difference between a fact and a dimension table?\n",
       "2. How does the snowflake schema improve data integrity?\n",
       "3. Why might a star schema be preferred for dashboard performance?\n",
       "4. Which fields would you use to join the tables in Power BI?\n"
      ],
      "text/plain": [
       "<IPython.core.display.Markdown object>"
      ]
     },
     "metadata": {},
     "output_type": "display_data"
    }
   ],
   "source": [
    "# 📦 Imports\n",
    "import pandas as pd\n",
    "import ipywidgets as widgets\n",
    "from IPython.display import display, Markdown, clear_output\n",
    "\n",
    "# 🧮 Fact Table\n",
    "sales_fact = pd.DataFrame({\n",
    "    'SaleID': [101, 102, 103],\n",
    "    'DateID': [20230801, 20230802, 20230803],\n",
    "    'ProductID': ['P001', 'P002', 'P003'],\n",
    "    'CustomerID': ['C001', 'C002', 'C003'],\n",
    "    'RegionID': ['R01', 'R02', 'R01'],\n",
    "    'Revenue': [1200.0, 800.0, 1500.0],\n",
    "    'Quantity': [3, 2, 5]\n",
    "})\n",
    "\n",
    "# 🧾 Dimension Tables\n",
    "product_dim = pd.DataFrame({\n",
    "    'ProductID': ['P001', 'P002', 'P003'],\n",
    "    'ProductName': ['Laptop', 'Tablet', 'Monitor'],\n",
    "    'Category': ['Electronics', 'Electronics', 'Accessories'],\n",
    "    'Brand': ['Dell', 'Samsung', 'HP']\n",
    "})\n",
    "\n",
    "category_dim = pd.DataFrame({\n",
    "    'Category': ['Electronics', 'Accessories'],\n",
    "    'Department': ['Tech', 'Peripherals']\n",
    "})\n",
    "\n",
    "customer_dim = pd.DataFrame({\n",
    "    'CustomerID': ['C001', 'C002', 'C003'],\n",
    "    'Name': ['Alice', 'Bob', 'Charlie'],\n",
    "    'Segment': ['Retail', 'Corporate', 'Retail'],\n",
    "    'JoinDate': ['2022-01-15', '2021-11-03', '2023-02-20']\n",
    "})\n",
    "\n",
    "date_dim = pd.DataFrame({\n",
    "    'DateID': [20230801, 20230802, 20230803],\n",
    "    'Date': ['2023-08-01', '2023-08-02', '2023-08-03'],\n",
    "    'Month': ['Aug', 'Aug', 'Aug'],\n",
    "    'Quarter': ['Q3', 'Q3', 'Q3'],\n",
    "    'Year': [2023, 2023, 2023]\n",
    "})\n",
    "\n",
    "region_dim = pd.DataFrame({\n",
    "    'RegionID': ['R01', 'R02'],\n",
    "    'RegionName': ['North', 'South'],\n",
    "    'Country': ['USA', 'USA']\n",
    "})\n",
    "\n",
    "# 🎛️ Schema Toggle\n",
    "schema_toggle = widgets.ToggleButtons(\n",
    "    options=['Star Schema', 'Snowflake Schema'],\n",
    "    description='Schema View:',\n",
    "    button_style='info'\n",
    ")\n",
    "\n",
    "# 🔄 Callback\n",
    "def show_schema(change):\n",
    "    clear_output(wait=True)\n",
    "    display(Markdown(\"### 🧪 Interactive Schema Explorer\"))\n",
    "    display(schema_toggle)\n",
    "\n",
    "    display(Markdown(\"### 📊 Fact Table\"))\n",
    "    display(sales_fact)\n",
    "\n",
    "    display(Markdown(\"### 🧾 Dimension Tables\"))\n",
    "    display(product_dim)\n",
    "    display(customer_dim)\n",
    "    display(date_dim)\n",
    "    display(region_dim)\n",
    "\n",
    "    if schema_toggle.value == 'Snowflake Schema':\n",
    "        display(Markdown(\"### ❄️ Sub-Dimension: Category → Department\"))\n",
    "        display(category_dim)\n",
    "\n",
    "        # Join simulation\n",
    "        enriched_product = pd.merge(product_dim, category_dim, on='Category', how='left')\n",
    "        display(Markdown(\"### 🔗 Joined Product Table (Snowflake View)\"))\n",
    "        display(enriched_product)\n",
    "\n",
    "    display(Markdown(f\"### ✅ Current Schema: **{schema_toggle.value}**\"))\n",
    "\n",
    "    # 🧠 Quiz Prompts\n",
    "    display(Markdown(\"\"\"\n",
    "### 🧠 Quiz Prompts\n",
    "1. What is the difference between a fact and a dimension table?\n",
    "2. How does the snowflake schema improve data integrity?\n",
    "3. Why might a star schema be preferred for dashboard performance?\n",
    "4. Which fields would you use to join the tables in Power BI?\n",
    "\"\"\"))\n",
    "\n",
    "schema_toggle.observe(show_schema, names='value')\n",
    "\n",
    "# ▶️ Display\n",
    "display(Markdown(\"### 🧪 Interactive Schema Explorer\"))\n",
    "display(schema_toggle)\n",
    "show_schema(None)\n"
   ]
  },
  {
   "cell_type": "markdown",
   "id": "83e1e75b-6541-4ea9-ad97-a3eaae2063cc",
   "metadata": {},
   "source": [
    "### 📊 Power BI Visual Types & Applications\n",
    "\n",
    "| Visual Type         | Description                                      | Best For                                      | Example Use Case                         |\n",
    "|---------------------|--------------------------------------------------|-----------------------------------------------|------------------------------------------|\n",
    "| **Bar Chart**       | Horizontal bars to compare categories            | Comparing discrete values across categories   | Sales by region                          |\n",
    "| **Column Chart**    | Vertical bars for category comparison            | Time-based or categorical comparisons         | Monthly revenue                          |\n",
    "| **Line Chart**      | Points connected by lines                        | Trend analysis over time                      | Stock price movement                     |\n",
    "| **Pie Chart**       | Circular chart showing proportions               | Showing part-to-whole relationships           | Market share distribution                |\n",
    "| **Donut Chart**     | Pie chart with center cutout                     | Similar to pie chart, more aesthetic          | Customer segment breakdown               |\n",
    "| **Area Chart**      | Line chart with filled area below line           | Cumulative trends over time                   | Website traffic growth                   |\n",
    "| **Scatter Plot**    | Points plotted on X-Y axis                       | Correlation and distribution analysis         | Revenue vs. customer age                 |\n",
    "| **Bubble Chart**    | Scatter plot with variable-sized bubbles         | Multivariate comparison                       | Sales by product and region              |\n",
    "| **Table**           | Tabular data with rows and columns               | Detailed data view                            | Transaction log                          |\n",
    "| **Matrix**          | Pivot-style table with hierarchical grouping     | Cross-tab analysis                            | Sales by product and region              |\n",
    "| **Card**            | Single value display                             | KPIs and summary metrics                      | Total revenue                            |\n",
    "| **Gauge**           | Circular dial showing progress                   | Performance against target                    | % of sales goal achieved                 |\n",
    "| **Map (Filled)**    | Geographic heatmap                               | Regional data visualization                   | Sales by country                         |\n",
    "| **Tree Map**        | Nested rectangles sized by value                 | Hierarchical part-to-whole relationships      | Product category contribution            |\n",
    "| **Waterfall Chart** | Shows cumulative effect of sequential values     | Profit/loss breakdown                         | Operating income analysis                |\n",
    "| **Histogram**       | Frequency distribution of numeric data           | Distribution analysis                         | Customer age distribution                |\n",
    "| **Slicer**          | Interactive filter control                       | User-driven filtering                         | Filter by year or region                 |\n",
    "\n",
    "---\n",
    "\n",
    "### 🧠 Tips for Choosing Visuals\n",
    "\n",
    "- Use **line charts** for trends, **bar/column charts** for comparisons.\n",
    "- Prefer **tables/matrices** for detailed data, **cards/gauges** for KPIs.\n",
    "- Use **maps** for geographic data, **scatter/bubble** for relationships.\n",
    "- Avoid **pie charts** with too many categories—use **tree maps** instead.\n",
    "\n",
    "### Based on Eazybi\n",
    "\n",
    "### 📊 Chart Type Selector: A Decision Guide for Effective Data Visualization\n",
    "\n",
    "Use this guide to choose the most appropriate chart type based on your reporting goal and data structure.\n",
    "\n",
    "---\n",
    "\n",
    "### 🎯 Step 1: What is your presentation goal?\n",
    "\n",
    "| Goal Type      | Description                                  | Typical Use Case                     |\n",
    "|----------------|----------------------------------------------|--------------------------------------|\n",
    "| **Comparison** | Compare values across categories or time     | Sales by region, monthly revenue     |\n",
    "| **Composition**| Show parts of a whole (static or over time)  | Market share, budget breakdown       |\n",
    "| **Distribution**| Show frequency or spread of values          | Age distribution, score histogram    |\n",
    "| **Relationship**| Show correlation between variables          | Revenue vs. customer age             |\n",
    "\n",
    "---\n",
    "\n",
    "### 🔢 Step 2: How many variables are you showing?\n",
    "\n",
    "- **One variable** → Simple bar, column, or line chart\n",
    "- **Two variables** → Line, scatter, or grouped bar chart\n",
    "- **Three or more** → Bubble chart, matrix, or stacked visuals\n",
    "\n",
    "---\n",
    "\n",
    "### 🔁 Step 3: Are you showing data over time?\n",
    "\n",
    "- ✅ Yes → Use **line chart**, **area chart**, or **stacked column chart**\n",
    "- ❌ No → Use **bar chart**, **pie chart**, or **tree map**\n",
    "\n",
    "---\n",
    "\n",
    "### 👥 Step 4: Are you comparing groups or categories?\n",
    "\n",
    "- ✅ Yes → Use **bar chart**, **column chart**, **stacked chart**\n",
    "- ❌ No → Use **scatter plot**, **bubble chart**, or **histogram**\n",
    "\n",
    "---\n",
    "\n",
    "### 🧠 Chart Type Selection Rules\n",
    "\n",
    "| Goal           | Few Data Points       | Many Data Points        |\n",
    "|----------------|------------------------|--------------------------|\n",
    "| **Comparison** | Bar, Column             | Line Chart               |\n",
    "| **Composition**| Pie, Stacked Bar        | Stacked Column, Area     |\n",
    "| **Distribution**| Column, Bar             | Histogram, Line, Scatter |\n",
    "| **Relationship**| Scatter, Bubble         | Scatter, Bubble          |\n",
    "\n",
    "---\n",
    "\n",
    "### 🧪 Example Prompts\n",
    "\n",
    "- “I want to compare monthly revenue across regions” → **Column Chart**\n",
    "- “I want to show how product categories contribute to total sales” → **Tree Map**\n",
    "- “I want to explore correlation between age and spending” → **Scatter Plot**\n",
    "- “I want to show budget breakdown over time” → **Stacked Area Chart**\n"
   ]
  },
  {
   "cell_type": "code",
   "execution_count": 6,
   "id": "5c63172d-66f8-4712-b867-51834c5948af",
   "metadata": {},
   "outputs": [
    {
     "data": {
      "application/vnd.jupyter.widget-view+json": {
       "model_id": "719d4bf085ae4dd6a774d2d04b975a7c",
       "version_major": 2,
       "version_minor": 0
      },
      "text/plain": [
       "Dropdown(description='Goal:', options=('Comparison', 'Composition', 'Distribution', 'Relationship'), style=Des…"
      ]
     },
     "metadata": {},
     "output_type": "display_data"
    },
    {
     "data": {
      "application/vnd.jupyter.widget-view+json": {
       "model_id": "cc399a232af047318bd5d394d382fff2",
       "version_major": 2,
       "version_minor": 0
      },
      "text/plain": [
       "Dropdown(description='Variables:', options=('One', 'Two', 'Three or more'), style=DescriptionStyle(description…"
      ]
     },
     "metadata": {},
     "output_type": "display_data"
    },
    {
     "data": {
      "application/vnd.jupyter.widget-view+json": {
       "model_id": "5fbbb0ea5a9e4f97bba211b31bc87209",
       "version_major": 2,
       "version_minor": 0
      },
      "text/plain": [
       "ToggleButtons(description='Over time?', options=('Yes', 'No'), style=ToggleButtonsStyle(description_width='ini…"
      ]
     },
     "metadata": {},
     "output_type": "display_data"
    },
    {
     "data": {
      "application/vnd.jupyter.widget-view+json": {
       "model_id": "d2775e0407ff4f60b107cd3f8b11702d",
       "version_major": 2,
       "version_minor": 0
      },
      "text/plain": [
       "ToggleButtons(description='Groupwise?', options=('Yes', 'No'), style=ToggleButtonsStyle(description_width='ini…"
      ]
     },
     "metadata": {},
     "output_type": "display_data"
    },
    {
     "data": {
      "application/vnd.jupyter.widget-view+json": {
       "model_id": "e90b4e2d2808420486d2bcefc940dece",
       "version_major": 2,
       "version_minor": 0
      },
      "text/plain": [
       "Dropdown(description='Data points:', options=('Few', 'Many'), style=DescriptionStyle(description_width='initia…"
      ]
     },
     "metadata": {},
     "output_type": "display_data"
    },
    {
     "data": {
      "application/vnd.jupyter.widget-view+json": {
       "model_id": "35359c5b622f4a26a319775625405a58",
       "version_major": 2,
       "version_minor": 0
      },
      "text/plain": [
       "Button(description='Recommend Chart Type', style=ButtonStyle())"
      ]
     },
     "metadata": {},
     "output_type": "display_data"
    },
    {
     "data": {
      "application/vnd.jupyter.widget-view+json": {
       "model_id": "1a99db45015440419e0131a8cf9dbe2a",
       "version_major": 2,
       "version_minor": 0
      },
      "text/plain": [
       "Output()"
      ]
     },
     "metadata": {},
     "output_type": "display_data"
    }
   ],
   "source": [
    "import ipywidgets as widgets\n",
    "from IPython.display import display, Markdown\n",
    "\n",
    "# Step 1: Presentation goal\n",
    "goal = widgets.Dropdown(\n",
    "    options=['Comparison', 'Composition', 'Distribution', 'Relationship'],\n",
    "    description='Goal:',\n",
    "    style={'description_width': 'initial'}\n",
    ")\n",
    "\n",
    "# Step 2: Number of variables\n",
    "variables = widgets.Dropdown(\n",
    "    options=['One', 'Two', 'Three or more'],\n",
    "    description='Variables:',\n",
    "    style={'description_width': 'initial'}\n",
    ")\n",
    "\n",
    "# Step 3: Time-based data\n",
    "time_based = widgets.ToggleButtons(\n",
    "    options=['Yes', 'No'],\n",
    "    description='Over time?',\n",
    "    style={'description_width': 'initial'}\n",
    ")\n",
    "\n",
    "# Step 4: Group/category comparison\n",
    "groupwise = widgets.ToggleButtons(\n",
    "    options=['Yes', 'No'],\n",
    "    description='Groupwise?',\n",
    "    style={'description_width': 'initial'}\n",
    ")\n",
    "\n",
    "# Step 5: Data volume\n",
    "data_points = widgets.Dropdown(\n",
    "    options=['Few', 'Many'],\n",
    "    description='Data points:',\n",
    "    style={'description_width': 'initial'}\n",
    ")\n",
    "\n",
    "# Output logic\n",
    "def recommend_chart(goal, variables, time_based, groupwise, data_points):\n",
    "    chart = ''\n",
    "    explanation = ''\n",
    "\n",
    "    if goal == 'Comparison':\n",
    "        if time_based == 'Yes':\n",
    "            chart = 'Line Chart' if data_points == 'Many' else 'Column Chart'\n",
    "        else:\n",
    "            chart = 'Bar Chart' if groupwise == 'Yes' else 'Column Chart'\n",
    "        explanation = 'Used to compare values across categories or time. Line charts show trends; bar/column charts show discrete comparisons.'\n",
    "\n",
    "    elif goal == 'Composition':\n",
    "        if time_based == 'Yes':\n",
    "            chart = 'Stacked Area Chart' if variables != 'One' else 'Area Chart'\n",
    "        else:\n",
    "            chart = 'Pie Chart' if variables == 'One' else 'Stacked Bar Chart'\n",
    "        explanation = 'Used to show parts of a whole. Pie charts for simple static compositions; stacked charts for evolving compositions.'\n",
    "\n",
    "    elif goal == 'Distribution':\n",
    "        chart = 'Histogram' if variables == 'One' else 'Scatter Plot'\n",
    "        explanation = 'Used to show frequency or spread. Histograms for single-variable bins; scatter plots for value spread and clustering.'\n",
    "\n",
    "    elif goal == 'Relationship':\n",
    "        chart = 'Scatter Plot' if variables == 'Two' else 'Bubble Chart'\n",
    "        explanation = 'Used to show correlation. Scatter plots for two variables; bubble charts add a third dimension via size.'\n",
    "\n",
    "    return chart, explanation\n",
    "\n",
    "# Button and output\n",
    "button = widgets.Button(description=\"Recommend Chart Type\")\n",
    "output = widgets.Output()\n",
    "\n",
    "def on_button_click(b):\n",
    "    output.clear_output()\n",
    "    chart, explanation = recommend_chart(goal.value, variables.value, time_based.value, groupwise.value, data_points.value)\n",
    "    with output:\n",
    "        display(Markdown(f\"### ✅ Recommended Chart: **{chart}**\"))\n",
    "        display(Markdown(f\"**Why this chart?** {explanation}\"))\n",
    "\n",
    "button.on_click(on_button_click)\n",
    "\n",
    "# Display UI\n",
    "display(goal, variables, time_based, groupwise, data_points, button, output)\n"
   ]
  },
  {
   "cell_type": "markdown",
   "id": "9722f528-874f-45df-9532-028cd0c2f387",
   "metadata": {},
   "source": [
    "### 📘 DAX Function Reference Table\n",
    "\n",
    "Use this table to explore DAX functions by category, with descriptions to guide usage.\n",
    "\n",
    "---\n",
    "\n",
    "### 🔢 Aggregation & Math\n",
    "\n",
    "| Function       | Description |\n",
    "|----------------|-------------|\n",
    "| `SUM()`        | Adds values in a column |\n",
    "| `AVERAGE()`    | Calculates mean |\n",
    "| `MAX()`        | Returns maximum value |\n",
    "| `MIN()`        | Returns minimum value |\n",
    "| `COUNT()`      | Counts non-blank values |\n",
    "| `COUNTA()`     | Counts all non-empty values |\n",
    "| `COUNTROWS()`  | Counts rows in a table |\n",
    "| `DIVIDE()`     | Performs division with error handling |\n",
    "| `ROUND()`      | Rounds to specified decimals |\n",
    "| `RANKX()`      | Ranks values in context |\n",
    "\n",
    "---\n",
    "\n",
    "### 📅 Date & Time\n",
    "\n",
    "| Function         | Description |\n",
    "|------------------|-------------|\n",
    "| `TODAY()`        | Current date |\n",
    "| `NOW()`          | Current date and time |\n",
    "| `DATE()`         | Constructs date from year, month, day |\n",
    "| `DATEDIFF()`     | Difference between two dates |\n",
    "| `YEAR()`         | Extracts year |\n",
    "| `MONTH()`        | Extracts month |\n",
    "| `DAY()`          | Extracts day |\n",
    "| `WEEKNUM()`      | Week number |\n",
    "| `EOMONTH()`      | End of month date |\n",
    "| `DATEADD()`      | Shifts date by interval |\n",
    "\n",
    "---\n",
    "\n",
    "### ⏱️ Time Intelligence\n",
    "\n",
    "| Function              | Description |\n",
    "|-----------------------|-------------|\n",
    "| `TOTALYTD()`          | Year-to-date total |\n",
    "| `TOTALMTD()`          | Month-to-date total |\n",
    "| `TOTALQTD()`          | Quarter-to-date total |\n",
    "| `SAMEPERIODLASTYEAR()`| Same period last year |\n",
    "| `PREVIOUSMONTH()`     | Previous month |\n",
    "| `NEXTMONTH()`         | Next month |\n",
    "| `DATESYTD()`          | YTD date range |\n",
    "| `PARALLELPERIOD()`    | Offset period |\n",
    "| `FIRSTDATE()`         | First date in column |\n",
    "| `LASTDATE()`          | Last date in column |\n",
    "\n",
    "---\n",
    "\n",
    "### 🔍 Logical & Conditional\n",
    "\n",
    "| Function     | Description |\n",
    "|--------------|-------------|\n",
    "| `IF()`       | Basic condition |\n",
    "| `SWITCH()`   | Multi-condition logic |\n",
    "| `AND()`      | Logical AND |\n",
    "| `OR()`       | Logical OR |\n",
    "| `NOT()`      | Logical NOT |\n",
    "\n",
    "---\n",
    "\n",
    "### 🧹 Filter & Context\n",
    "\n",
    "| Function         | Description |\n",
    "|------------------|-------------|\n",
    "| `CALCULATE()`    | Changes filter context |\n",
    "| `FILTER()`       | Returns filtered table |\n",
    "| `ALL()`          | Removes filters |\n",
    "| `ALLEXCEPT()`    | Removes all filters except specified |\n",
    "| `REMOVEFILTERS()`| Clears filters |\n",
    "\n",
    "---\n",
    "\n",
    "### 🔗 Relationships & Tables\n",
    "\n",
    "| Function           | Description |\n",
    "|--------------------|-------------|\n",
    "| `RELATED()`        | Gets value from related table |\n",
    "| `RELATEDTABLE()`   | Gets related table |\n",
    "| `USERELATIONSHIP()`| Activates inactive relationship |\n",
    "| `VALUES()`         | Unique values |\n",
    "| `SELECTCOLUMNS()`  | Selects columns |\n",
    "| `ADDCOLUMNS()`     | Adds calculated column |\n",
    "| `SUMMARIZE()`      | Groups and aggregates |\n",
    "| `CROSSJOIN()`      | Cartesian product |\n",
    "\n",
    "---\n",
    "\n",
    "### 🔤 Text & Formatting\n",
    "\n",
    "| Function              | Description |\n",
    "|-----------------------|-------------|\n",
    "| `CONCATENATE()`       | Joins two strings |\n",
    "| `CONCATENATEX()`      | Joins values in column |\n",
    "| `FORMAT()`            | Formats value as text |\n"
   ]
  }
 ],
 "metadata": {
  "kernelspec": {
   "display_name": "Python [conda env:base] *",
   "language": "python",
   "name": "conda-base-py"
  },
  "language_info": {
   "codemirror_mode": {
    "name": "ipython",
    "version": 3
   },
   "file_extension": ".py",
   "mimetype": "text/x-python",
   "name": "python",
   "nbconvert_exporter": "python",
   "pygments_lexer": "ipython3",
   "version": "3.12.7"
  },
  "widgets": {
   "application/vnd.jupyter.widget-state+json": {
    "state": {
     "039f8f210dff4373b6c83094a0b99a77": {
      "model_module": "@jupyter-widgets/base",
      "model_module_version": "2.0.0",
      "model_name": "LayoutModel",
      "state": {}
     },
     "05c1b5aae0b74b5fa089c57d75e09026": {
      "model_module": "@jupyter-widgets/base",
      "model_module_version": "2.0.0",
      "model_name": "LayoutModel",
      "state": {}
     },
     "0a03f836144c4bcba664cb25fd5fc0aa": {
      "model_module": "@jupyter-widgets/base",
      "model_module_version": "2.0.0",
      "model_name": "LayoutModel",
      "state": {}
     },
     "0c8808d766d04d6db93b9aea88636d37": {
      "model_module": "@jupyter-widgets/controls",
      "model_module_version": "2.0.0",
      "model_name": "DescriptionStyleModel",
      "state": {
       "description_width": "initial"
      }
     },
     "164eed45825e4412a3835eea39af528b": {
      "model_module": "@jupyter-widgets/base",
      "model_module_version": "2.0.0",
      "model_name": "LayoutModel",
      "state": {}
     },
     "1a99db45015440419e0131a8cf9dbe2a": {
      "model_module": "@jupyter-widgets/output",
      "model_module_version": "1.0.0",
      "model_name": "OutputModel",
      "state": {
       "layout": "IPY_MODEL_4f074e56b7a9460196885c67e24108a4",
       "outputs": [
        {
         "data": {
          "text/markdown": "### ✅ Recommended Chart: **Line Chart**",
          "text/plain": "<IPython.core.display.Markdown object>"
         },
         "metadata": {},
         "output_type": "display_data"
        },
        {
         "data": {
          "text/markdown": "**Why this chart?** Used to compare values across categories or time. Line charts show trends; bar/column charts show discrete comparisons.",
          "text/plain": "<IPython.core.display.Markdown object>"
         },
         "metadata": {},
         "output_type": "display_data"
        }
       ]
      }
     },
     "1b462983e6dd4440ad3d5da4339df1a0": {
      "model_module": "@jupyter-widgets/controls",
      "model_module_version": "2.0.0",
      "model_name": "ToggleButtonsStyleModel",
      "state": {
       "button_width": "",
       "description_width": ""
      }
     },
     "1b6e2d8331764ac0bf8e8d33cb897c1d": {
      "model_module": "@jupyter-widgets/controls",
      "model_module_version": "2.0.0",
      "model_name": "DescriptionStyleModel",
      "state": {
       "description_width": "initial"
      }
     },
     "1cc33dc40e3d4782b648d8c13215a0d7": {
      "model_module": "@jupyter-widgets/base",
      "model_module_version": "2.0.0",
      "model_name": "LayoutModel",
      "state": {}
     },
     "20993b7e74dc406a9f8de59ca3d71aaf": {
      "model_module": "@jupyter-widgets/base",
      "model_module_version": "2.0.0",
      "model_name": "LayoutModel",
      "state": {}
     },
     "2a251c4401cc412f88376a5131e6a436": {
      "model_module": "@jupyter-widgets/base",
      "model_module_version": "2.0.0",
      "model_name": "LayoutModel",
      "state": {}
     },
     "35359c5b622f4a26a319775625405a58": {
      "model_module": "@jupyter-widgets/controls",
      "model_module_version": "2.0.0",
      "model_name": "ButtonModel",
      "state": {
       "description": "Recommend Chart Type",
       "layout": "IPY_MODEL_c525c83e4d504f42a0d7d4027f253798",
       "style": "IPY_MODEL_dd597d181c8f4e98a5ad91c86ed8f42c",
       "tooltip": null
      }
     },
     "483e93d3def24e7091046d45427fa71c": {
      "model_module": "@jupyter-widgets/controls",
      "model_module_version": "2.0.0",
      "model_name": "DescriptionStyleModel",
      "state": {
       "description_width": "initial"
      }
     },
     "4f074e56b7a9460196885c67e24108a4": {
      "model_module": "@jupyter-widgets/base",
      "model_module_version": "2.0.0",
      "model_name": "LayoutModel",
      "state": {}
     },
     "4f0c4d110c3d413f8d342617f823af27": {
      "model_module": "@jupyter-widgets/controls",
      "model_module_version": "2.0.0",
      "model_name": "ToggleButtonsStyleModel",
      "state": {
       "button_width": "",
       "description_width": ""
      }
     },
     "52d0eda707f14251987730b686458a3a": {
      "model_module": "@jupyter-widgets/controls",
      "model_module_version": "2.0.0",
      "model_name": "DescriptionStyleModel",
      "state": {
       "description_width": "initial"
      }
     },
     "56e1dec97d3643988a7157008585eddf": {
      "model_module": "@jupyter-widgets/controls",
      "model_module_version": "2.0.0",
      "model_name": "ToggleButtonsStyleModel",
      "state": {
       "button_width": "",
       "description_width": "initial"
      }
     },
     "5fbbb0ea5a9e4f97bba211b31bc87209": {
      "model_module": "@jupyter-widgets/controls",
      "model_module_version": "2.0.0",
      "model_name": "ToggleButtonsModel",
      "state": {
       "_options_labels": [
        "Yes",
        "No"
       ],
       "button_style": "",
       "description": "Over time?",
       "icons": [],
       "index": 0,
       "layout": "IPY_MODEL_9ff23f7b4b8d4b2b840a9539f178fba0",
       "style": "IPY_MODEL_80cb82314c9b4ee1a9dad785d1819bcb",
       "tooltips": []
      }
     },
     "6231b3809d0548f89c7ef992f7be2072": {
      "model_module": "@jupyter-widgets/controls",
      "model_module_version": "2.0.0",
      "model_name": "ToggleButtonsStyleModel",
      "state": {
       "button_width": "",
       "description_width": ""
      }
     },
     "6737a17c76c244aca3299f7e0c3f423c": {
      "model_module": "@jupyter-widgets/controls",
      "model_module_version": "2.0.0",
      "model_name": "ToggleButtonsModel",
      "state": {
       "_options_labels": [
        "Star Schema",
        "Snowflake Schema"
       ],
       "button_style": "info",
       "description": "Schema View:",
       "icons": [],
       "index": 0,
       "layout": "IPY_MODEL_2a251c4401cc412f88376a5131e6a436",
       "style": "IPY_MODEL_4f0c4d110c3d413f8d342617f823af27",
       "tooltips": []
      }
     },
     "6832876890eb4cb480e9e401236d1fbe": {
      "model_module": "@jupyter-widgets/controls",
      "model_module_version": "2.0.0",
      "model_name": "ToggleButtonsModel",
      "state": {
       "_options_labels": [
        "Star Schema",
        "Snowflake Schema"
       ],
       "button_style": "info",
       "description": "Schema View:",
       "icons": [],
       "index": 0,
       "layout": "IPY_MODEL_164eed45825e4412a3835eea39af528b",
       "style": "IPY_MODEL_1b462983e6dd4440ad3d5da4339df1a0",
       "tooltips": []
      }
     },
     "6ab7387a98ae49a7a25b18a789f2a42c": {
      "model_module": "@jupyter-widgets/base",
      "model_module_version": "2.0.0",
      "model_name": "LayoutModel",
      "state": {
       "width": "60%"
      }
     },
     "719d4bf085ae4dd6a774d2d04b975a7c": {
      "model_module": "@jupyter-widgets/controls",
      "model_module_version": "2.0.0",
      "model_name": "DropdownModel",
      "state": {
       "_options_labels": [
        "Comparison",
        "Composition",
        "Distribution",
        "Relationship"
       ],
       "description": "Goal:",
       "index": 0,
       "layout": "IPY_MODEL_1cc33dc40e3d4782b648d8c13215a0d7",
       "style": "IPY_MODEL_0c8808d766d04d6db93b9aea88636d37"
      }
     },
     "7338b05149904320bf7dc9764d742e02": {
      "model_module": "@jupyter-widgets/controls",
      "model_module_version": "2.0.0",
      "model_name": "DropdownModel",
      "state": {
       "_options_labels": [
        "Compare categories",
        "Show trends over time",
        "Display proportions",
        "Highlight KPIs",
        "Analyze geographic data",
        "Explore relationships",
        "Show hierarchical breakdown",
        "Detailed tabular view"
       ],
       "description": "Goal:",
       "index": 0,
       "layout": "IPY_MODEL_6ab7387a98ae49a7a25b18a789f2a42c",
       "style": "IPY_MODEL_483e93d3def24e7091046d45427fa71c"
      }
     },
     "80cb82314c9b4ee1a9dad785d1819bcb": {
      "model_module": "@jupyter-widgets/controls",
      "model_module_version": "2.0.0",
      "model_name": "ToggleButtonsStyleModel",
      "state": {
       "button_width": "",
       "description_width": "initial"
      }
     },
     "9ff23f7b4b8d4b2b840a9539f178fba0": {
      "model_module": "@jupyter-widgets/base",
      "model_module_version": "2.0.0",
      "model_name": "LayoutModel",
      "state": {}
     },
     "be0f270a48ef4df79a53b77a325fc505": {
      "model_module": "@jupyter-widgets/controls",
      "model_module_version": "2.0.0",
      "model_name": "ToggleButtonsModel",
      "state": {
       "_options_labels": [
        "Star Schema",
        "Snowflake Schema"
       ],
       "button_style": "info",
       "description": "Schema View:",
       "icons": [],
       "index": 1,
       "layout": "IPY_MODEL_d20ceb37a9b7411fb61ca82a62d805b4",
       "style": "IPY_MODEL_6231b3809d0548f89c7ef992f7be2072",
       "tooltips": []
      }
     },
     "c525c83e4d504f42a0d7d4027f253798": {
      "model_module": "@jupyter-widgets/base",
      "model_module_version": "2.0.0",
      "model_name": "LayoutModel",
      "state": {}
     },
     "cc399a232af047318bd5d394d382fff2": {
      "model_module": "@jupyter-widgets/controls",
      "model_module_version": "2.0.0",
      "model_name": "DropdownModel",
      "state": {
       "_options_labels": [
        "One",
        "Two",
        "Three or more"
       ],
       "description": "Variables:",
       "index": 2,
       "layout": "IPY_MODEL_05c1b5aae0b74b5fa089c57d75e09026",
       "style": "IPY_MODEL_1b6e2d8331764ac0bf8e8d33cb897c1d"
      }
     },
     "d20ceb37a9b7411fb61ca82a62d805b4": {
      "model_module": "@jupyter-widgets/base",
      "model_module_version": "2.0.0",
      "model_name": "LayoutModel",
      "state": {}
     },
     "d2775e0407ff4f60b107cd3f8b11702d": {
      "model_module": "@jupyter-widgets/controls",
      "model_module_version": "2.0.0",
      "model_name": "ToggleButtonsModel",
      "state": {
       "_options_labels": [
        "Yes",
        "No"
       ],
       "button_style": "",
       "description": "Groupwise?",
       "icons": [],
       "index": 1,
       "layout": "IPY_MODEL_039f8f210dff4373b6c83094a0b99a77",
       "style": "IPY_MODEL_56e1dec97d3643988a7157008585eddf",
       "tooltips": []
      }
     },
     "dd597d181c8f4e98a5ad91c86ed8f42c": {
      "model_module": "@jupyter-widgets/controls",
      "model_module_version": "2.0.0",
      "model_name": "ButtonStyleModel",
      "state": {
       "font_family": null,
       "font_size": null,
       "font_style": null,
       "font_variant": null,
       "font_weight": null,
       "text_color": null,
       "text_decoration": null
      }
     },
     "e173842e8dd7457f944f090abaf5c8d6": {
      "model_module": "@jupyter-widgets/controls",
      "model_module_version": "2.0.0",
      "model_name": "ToggleButtonsStyleModel",
      "state": {
       "button_width": "",
       "description_width": ""
      }
     },
     "e3a020f96c7148e3b24ef93119fc407d": {
      "model_module": "@jupyter-widgets/controls",
      "model_module_version": "2.0.0",
      "model_name": "ToggleButtonsModel",
      "state": {
       "_options_labels": [
        "Star Schema",
        "Snowflake Schema"
       ],
       "button_style": "info",
       "description": "Schema View:",
       "icons": [],
       "index": 0,
       "layout": "IPY_MODEL_20993b7e74dc406a9f8de59ca3d71aaf",
       "style": "IPY_MODEL_e173842e8dd7457f944f090abaf5c8d6",
       "tooltips": []
      }
     },
     "e90b4e2d2808420486d2bcefc940dece": {
      "model_module": "@jupyter-widgets/controls",
      "model_module_version": "2.0.0",
      "model_name": "DropdownModel",
      "state": {
       "_options_labels": [
        "Few",
        "Many"
       ],
       "description": "Data points:",
       "index": 1,
       "layout": "IPY_MODEL_0a03f836144c4bcba664cb25fd5fc0aa",
       "style": "IPY_MODEL_52d0eda707f14251987730b686458a3a"
      }
     }
    },
    "version_major": 2,
    "version_minor": 0
   }
  }
 },
 "nbformat": 4,
 "nbformat_minor": 5
}
