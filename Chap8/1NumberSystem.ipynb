{
 "cells": [
  {
   "cell_type": "markdown",
   "id": "ed8f988a-88ae-46a0-8c53-62d995a131fb",
   "metadata": {
    "jp-MarkdownHeadingCollapsed": true
   },
   "source": [
    "### 🔢 Number Systems Overview\n",
    "\n",
    "A **number system** is a structured way to represent and manipulate numbers using a set of symbols and rules. Each system has a **base** that determines how many unique digits it uses.\n",
    "\n",
    "---\n",
    "\n",
    "### 🌍 Types of Number Systems\n",
    "\n",
    "| Number System | Base | Digits Used         | Example   | Common Uses                          |\n",
    "|---------------|------|---------------------|-----------|--------------------------------------|\n",
    "| Decimal       | 10   | 0–9                 | `42`      | Everyday arithmetic, finance         |\n",
    "| Binary        | 2    | 0, 1                | `101010`  | Computers, digital circuits          |\n",
    "| Octal         | 8    | 0–7                 | `52`      | Unix file permissions, legacy code   |\n",
    "| Hexadecimal   | 16   | 0–9, A–F            | `2A`      | Memory addressing, color codes       |\n",
    "\n",
    "---\n",
    "\n",
    "### 🧠 Key Differences\n",
    "\n",
    "- **Base Value**:  \n",
    "  Determines how many digits are used before rolling over to the next place value.\n",
    "\n",
    "- **Digit Set**:  \n",
    "  Binary uses only `0` and `1`, while hexadecimal includes letters `A–F` for values 10–15.\n",
    "\n",
    "- **Compactness**:  \n",
    "  Binary numbers are longer; hexadecimal and octal offer more compact representations.\n",
    "\n",
    "- **Conversion**:  \n",
    "  All systems can be converted to and from decimal. For example:\n",
    "  - Binary `101010` → Decimal `42`\n",
    "  - Decimal `42` → Hexadecimal `2A`\n",
    "  - Decimal `42` → Octal `52`\n",
    "\n",
    "---\n",
    "\n",
    "### 📘 Summary Table\n",
    "\n",
    "| Feature              | Decimal     | Binary      | Octal       | Hexadecimal |\n",
    "|----------------------|-------------|-------------|-------------|-------------|\n",
    "| Base                 | 10          | 2           | 8           | 16          |\n",
    "| Digits Used          | 0–9         | 0, 1        | 0–7         | 0–9, A–F     |\n",
    "| Example              | `42`        | `101010`    | `52`        | `2A`         |\n",
    "| Compactness          | Moderate    | Least       | More than binary | Most       |\n",
    "| Use Case             | Daily life  | Computers   | Legacy systems | Programming |\n",
    "\n",
    "---\n",
    "\n",
    "Understanding these systems is essential for fields like **computer science**, **engineering**, and **cybersecurity**, where data representation and manipulation are foundational.\n"
   ]
  },
  {
   "cell_type": "markdown",
   "id": "a5907d57-b5cf-4987-9802-83c5da2af81f",
   "metadata": {},
   "source": [
    "### 🔄 Interactive Number System Converter\n",
    "\n",
    "This tool allows users to convert numbers between **Decimal**, **Binary**, **Octal**, and **Hexadecimal** systems using Python and `ipywidgets`.\n",
    "\n",
    "---\n",
    "\n",
    "### 🧠 What It Does\n",
    "\n",
    "- Accepts a number input and its base (e.g., Decimal, Binary).\n",
    "- Converts it to a target base selected by the user.\n",
    "- Displays the result and a brief interpretation.\n",
    "\n",
    "---\n",
    "\n",
    "### ⚙️ How It Works\n",
    "\n",
    "1. **Input Handling**:  \n",
    "   The user enters a number and selects its base (e.g., Decimal).\n",
    "\n",
    "2. **Conversion Logic**:  \n",
    "   - The input is first converted to **Decimal** using `int(num_str, base_from)`.\n",
    "   - Then it's converted to the target base using:\n",
    "     - `bin()` for Binary\n",
    "     - `oct()` for Octal\n",
    "     - `hex()` for Hexadecimal\n",
    "\n",
    "3. **Output Display**:  \n",
    "   The result is shown using Markdown formatting, along with a clear explanation of the conversion.\n",
    "\n",
    "---\n",
    "\n",
    "### ✅ Example\n",
    "\n",
    "**Input**:  \n",
    "- Number: `42`  \n",
    "- From Base: `Decimal`  \n",
    "- To Base: `Binary`\n",
    "\n",
    "**Output**:  \n"
   ]
  },
  {
   "cell_type": "code",
   "execution_count": 2,
   "id": "8a4943c2-0108-4f39-980c-42bfe3f97a76",
   "metadata": {},
   "outputs": [
    {
     "data": {
      "application/vnd.jupyter.widget-view+json": {
       "model_id": "40655759832f4bf7942a05593d21f745",
       "version_major": 2,
       "version_minor": 0
      },
      "text/plain": [
       "HBox(children=(Dropdown(description='📥 From Base:', layout=Layout(width='300px'), options=('Decimal', 'Binary'…"
      ]
     },
     "metadata": {},
     "output_type": "display_data"
    },
    {
     "data": {
      "application/vnd.jupyter.widget-view+json": {
       "model_id": "a0f787004d0b4e4d8dad040edea800a8",
       "version_major": 2,
       "version_minor": 0
      },
      "text/plain": [
       "Text(value='42', description='🔢 Input Number:', layout=Layout(width='400px'), style=TextStyle(description_widt…"
      ]
     },
     "metadata": {},
     "output_type": "display_data"
    },
    {
     "data": {
      "application/vnd.jupyter.widget-view+json": {
       "model_id": "adc43305fa34410291079bdb557a515e",
       "version_major": 2,
       "version_minor": 0
      },
      "text/plain": [
       "Output()"
      ]
     },
     "metadata": {},
     "output_type": "display_data"
    }
   ],
   "source": [
    "import ipywidgets as widgets\n",
    "from IPython.display import display, clear_output, Markdown\n",
    "\n",
    "# 🔢 Supported Bases\n",
    "bases = {\n",
    "    \"Decimal\": 10,\n",
    "    \"Binary\": 2,\n",
    "    \"Octal\": 8,\n",
    "    \"Hexadecimal\": 16\n",
    "}\n",
    "\n",
    "# 📥 Input Widgets\n",
    "input_number = widgets.Text(\n",
    "    value='42',\n",
    "    description='🔢 Input Number:',\n",
    "    style={'description_width': 'initial'},\n",
    "    layout=widgets.Layout(width='400px')\n",
    ")\n",
    "\n",
    "input_base = widgets.Dropdown(\n",
    "    options=bases.keys(),\n",
    "    value='Decimal',\n",
    "    description='📥 From Base:',\n",
    "    style={'description_width': 'initial'},\n",
    "    layout=widgets.Layout(width='300px')\n",
    ")\n",
    "\n",
    "output_base = widgets.Dropdown(\n",
    "    options=bases.keys(),\n",
    "    value='Binary',\n",
    "    description='📤 To Base:',\n",
    "    style={'description_width': 'initial'},\n",
    "    layout=widgets.Layout(width='300px')\n",
    ")\n",
    "\n",
    "output = widgets.Output()\n",
    "\n",
    "# 🔄 Conversion Logic\n",
    "def convert_number(change=None):\n",
    "    output.clear_output()\n",
    "    try:\n",
    "        base_from = bases[input_base.value]\n",
    "        base_to = bases[output_base.value]\n",
    "        num_str = input_number.value.strip()\n",
    "\n",
    "        # Convert input to decimal\n",
    "        decimal_value = int(num_str, base_from)\n",
    "\n",
    "        # Convert decimal to target base\n",
    "        if base_to == 2:\n",
    "            converted = bin(decimal_value)[2:]\n",
    "        elif base_to == 8:\n",
    "            converted = oct(decimal_value)[2:]\n",
    "        elif base_to == 16:\n",
    "            converted = hex(decimal_value)[2:]\n",
    "        else:\n",
    "            converted = str(decimal_value)\n",
    "\n",
    "        with output:\n",
    "            display(Markdown(f\"### ✅ Result\"))\n",
    "            display(Markdown(f\"**{input_base.value} {num_str} → {output_base.value} {converted}**\"))\n",
    "            display(Markdown(f\"**📘 Interpretation:** Converted from base {base_from} to base {base_to} using Python's built-in conversion functions.\"))\n",
    "\n",
    "    except ValueError:\n",
    "        with output:\n",
    "            display(Markdown(\"❌ **Invalid input for the selected base. Please check your number format.**\"))\n",
    "\n",
    "# 🔁 Observe Changes\n",
    "input_number.observe(convert_number, names='value')\n",
    "input_base.observe(convert_number, names='value')\n",
    "output_base.observe(convert_number, names='value')\n",
    "\n",
    "# 🚀 Display Widgets\n",
    "display(widgets.HBox([input_base, output_base]))\n",
    "display(input_number)\n",
    "display(output)\n",
    "convert_number()\n"
   ]
  },
  {
   "cell_type": "code",
   "execution_count": null,
   "id": "3a165372-8cc7-415c-bcb4-ee6533724df0",
   "metadata": {},
   "outputs": [],
   "source": []
  }
 ],
 "metadata": {
  "kernelspec": {
   "display_name": "Python [conda env:base] *",
   "language": "python",
   "name": "conda-base-py"
  },
  "language_info": {
   "codemirror_mode": {
    "name": "ipython",
    "version": 3
   },
   "file_extension": ".py",
   "mimetype": "text/x-python",
   "name": "python",
   "nbconvert_exporter": "python",
   "pygments_lexer": "ipython3",
   "version": "3.12.7"
  },
  "widgets": {
   "application/vnd.jupyter.widget-state+json": {
    "state": {},
    "version_major": 2,
    "version_minor": 0
   }
  }
 },
 "nbformat": 4,
 "nbformat_minor": 5
}
