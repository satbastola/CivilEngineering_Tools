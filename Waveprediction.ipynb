{
 "cells": [
  {
   "cell_type": "markdown",
   "id": "0e78315a-c93f-47d8-8db2-0ed51375de01",
   "metadata": {},
   "source": [
    "# Chapter 5 Coastal Engineering: Wave Prediction"
   ]
  },
  {
   "cell_type": "markdown",
   "id": "e8a3d74c-fc1d-405a-a701-5c58ddef1c51",
   "metadata": {},
   "source": [
    "1. [Introduction](#1.-Introduction)\n",
    "2. [Simulation](#2.-Simulation)\n",
    "3. [Self-Assessment](#3.-Self-Assessment) "
   ]
  },
  {
   "cell_type": "markdown",
   "id": "0aba0e90-a1f8-49d4-927a-d11c38eb4675",
   "metadata": {},
   "source": [
    "## 1. Introduction"
   ]
  },
  {
   "cell_type": "markdown",
   "id": "ade22b15-1730-479c-8fce-e7b22b9f532d",
   "metadata": {},
   "source": [
    "\n",
    "### Wind Wave Height Estimator\n",
    "\n",
    "This Jupyter Notebook provides a comparative visualization of estimated **significant wave heights** using multiple empirical models based on wind conditions. It empowers learners to explore how wind speed, fetch length, and wind duration influence the formation of surface gravity waves in open water bodies.\n",
    "\n",
    "---\n",
    "\n",
    "##### 💡 Purpose\n",
    "\n",
    "The simulation helps answer questions like:\n",
    "\n",
    "- How do different empirical formulas estimate wave height?\n",
    "- How do wind fetch and duration influence wave growth?\n",
    "- How do rapid changes in wind speed affect offshore conditions?\n",
    "\n",
    "---\n",
    "\n",
    "##### Models Implemented\n",
    "\n",
    "The following empirical formulas are used to estimate wave height \\( H \\):\n",
    "\n",
    "- **Simple Empirical**:  \n",
    "  $$\n",
    "  H = 0.025 \\cdot V^2\n",
    "  $$\n",
    "  A basic quadratic fit for quick estimation.\n",
    "\n",
    "- **Duration Limited**:  \n",
    "  $$\n",
    "  H = 0.0146 \\cdot D^{5/7} \\cdot V^{9/7}\n",
    "  $$\n",
    "  Appropriate when wave growth is constrained by how long the wind blows.\n",
    "\n",
    "- **Fetch Limited**:  \n",
    "  $$\n",
    "  H = 0.0163 \\cdot \\sqrt{F / 1000} \\cdot V\n",
    "  $$\n",
    "  Models cases where the fetch is the limiting factor for wave development.\n",
    "\n",
    "- **NOAA Rule of Thumb**:  \n",
    "  $$\n",
    "  H = 0.3 \\cdot V\n",
    "  $$\n",
    "  A quick linear approximation often used in engineering estimates.\n",
    "\n",
    "> 🔍 *Units:*  \n",
    "> \\( V \\) = Wind speed (m/s),  \n",
    "> \\( F \\) = Fetch length (m),  \n",
    "> \\( D \\) = Wind duration (hr)\n",
    "---\n",
    "##### 🎛 Interactive Controls\n",
    "Use the sliders below to adjust:\n",
    "- **Wind Speed** (5–50 m/s)  \n",
    "- **Fetch Length** (1,000–500,000 m)  \n",
    "- **Wind Duration** (1–24 hours)\n",
    "Each setting dynamically updates the chart, helping you compare how wave height predictions vary by method.\n",
    "---\n",
    "##### 📊 Output Visualization\n",
    "\n",
    "The bar chart shows estimated wave heights (in meters) from each model for the selected wind conditions. Values are labeled above each bar to enhance clarity and comparison.\n",
    "\n",
    "\n"
   ]
  },
  {
   "cell_type": "markdown",
   "id": "ab5b056e-8d93-420d-a5e9-24bcf8a63295",
   "metadata": {},
   "source": [
    "## 2. Simulation"
   ]
  },
  {
   "cell_type": "markdown",
   "id": "8559d48d-f4ca-4d6e-bb2b-c7fbc54d4740",
   "metadata": {},
   "source": [
    "### 2.1 Simulation1"
   ]
  },
  {
   "cell_type": "code",
   "execution_count": 1,
   "id": "a2c1fb19-b745-4f57-9943-78aa708738fc",
   "metadata": {
    "editable": true,
    "slideshow": {
     "slide_type": ""
    },
    "tags": [
     "thebe-init"
    ]
   },
   "outputs": [
    {
     "data": {
      "application/vnd.jupyter.widget-view+json": {
       "model_id": "6d0fd4990668472d9275794179110245",
       "version_major": 2,
       "version_minor": 0
      },
      "text/plain": [
       "interactive(children=(FloatSlider(value=15.0, description='Wind Speed (m/s)', max=50.0, min=5.0, step=1.0), In…"
      ]
     },
     "metadata": {},
     "output_type": "display_data"
    },
    {
     "data": {
      "text/plain": [
       "<function __main__.plot_wave_heights(V=15.0, F=50000, D=5)>"
      ]
     },
     "execution_count": 1,
     "metadata": {},
     "output_type": "execute_result"
    }
   ],
   "source": [
    "import numpy as np\n",
    "import matplotlib.pyplot as plt\n",
    "from ipywidgets import interact, FloatSlider, IntSlider\n",
    "import warnings\n",
    "warnings.filterwarnings('ignore')\n",
    "# Constants\n",
    "g = 9.81\n",
    "\n",
    "def simple_empirical(V):\n",
    "    return 0.025 * V**2\n",
    "\n",
    "#def fully_developed(V, F):\n",
    "#    return 0.21 * ((g * F) / V**2)**0.5 * V**2 / g\n",
    "\n",
    "def duration_limited(V, D):\n",
    "    return 0.0146 * (D**(5/7)) * (V**(9/7))\n",
    "\n",
    "def fetch_limited(V, F):\n",
    "    return 0.0163 * (F / 1000)**0.5 * V\n",
    "\n",
    "def noaa_estimate(V):\n",
    "    return 0.3 * V\n",
    "\n",
    "def plot_wave_heights(V=15.0, F=50000, D=5):\n",
    "    methods = {\n",
    "        \"Simple Empirical\": simple_empirical(V),\n",
    "        #\"Fully Developed Sea\": fully_developed(V, F),\n",
    "        \"Duration Limited\": duration_limited(V, D),\n",
    "        \"Fetch Limited\": fetch_limited(V, F),\n",
    "        \"NOAA Rule of Thumb\": noaa_estimate(V)\n",
    "    }\n",
    "\n",
    "    plt.figure(figsize=(10, 6))\n",
    "    bars = plt.bar(methods.keys(), methods.values(), color=\"cornflowerblue\")\n",
    "    \n",
    "    # Add value labels\n",
    "    for bar in bars:\n",
    "        yval = bar.get_height()\n",
    "        plt.text(bar.get_x() + bar.get_width()/2, yval + 0.1, f\"{yval:.2f} m\",\n",
    "                 ha='center', va='bottom', fontsize=10)\n",
    "\n",
    "    plt.title(f\"Wave Height Comparison (V={V:.1f} m/s, F={F:.0f} m, D={D} hr)\")\n",
    "    plt.ylabel(\"Estimated Wave Height (m)\")\n",
    "    plt.xticks(rotation=15)\n",
    "    plt.grid(axis=\"y\", linestyle=\"--\", alpha=0.7)\n",
    "    plt.tight_layout()\n",
    "    plt.show()\n",
    "interact(\n",
    "    plot_wave_heights,\n",
    "    V=FloatSlider(value=15, min=5, max=50, step=1, description='Wind Speed (m/s)'),\n",
    "    F=IntSlider(value=50000, min=1000, max=500000, step=1000, description='Fetch (m)'),\n",
    "    D=IntSlider(value=5, min=1, max=24, step=1, description='Duration (hr)')\n",
    ")"
   ]
  },
  {
   "cell_type": "markdown",
   "id": "a9a02eb4-9be0-4a84-831f-4513cbbe83c7",
   "metadata": {},
   "source": [
    "### 2.2 Simulation2"
   ]
  },
  {
   "cell_type": "markdown",
   "id": "5229eab8-0ba9-4553-be67-9946dc514786",
   "metadata": {},
   "source": [
    "### USACE Wave Prediction Tool (CEM Dimensional Analysis)\n",
    "\n",
    "This notebook provides an interactive tool to estimate **significant wave height (Hs)** and **peak wave period (Tp)** using fetch- and duration-limited empirical formulas derived from the **U.S. Army Corps of Engineers Coastal Engineering Manual (CEM)**.\n",
    "\n",
    "---\n",
    "\n",
    "##### Objective\n",
    "\n",
    "To calculate and visualize wave height development under different wind conditions by considering:\n",
    "\n",
    "- **Wind speed (V)** at 10 meters elevation\n",
    "- **Fetch length (F)** — the uninterrupted distance over which wind blows\n",
    "- **Wind duration (t)** — the time wind has been blowing at a constant speed and direction\n",
    "\n",
    "---\n",
    "\n",
    "####  Theoretical Framework\n",
    "\n",
    "The predictions are based on **non-dimensional empirical relationships** fitted to observed data from the Shore Protection Manual (SPM), expressed as:\n",
    "\n",
    "- **Non-dimensional fetch**:  \n",
    "  $$\n",
    "  \\hat{X} = \\frac{g \\cdot F}{V^2}\n",
    "  $$\n",
    "\n",
    "- **Non-dimensional duration**:  \n",
    "  $$\n",
    "  \\hat{T} = \\frac{g \\cdot t}{V}\n",
    "  $$\n",
    "\n",
    "The empirical formulas for **non-dimensional wave height ($( \\hat{H} $))** and **non-dimensional period ($( \\hat{T}_p $))** are:\n",
    "\n",
    "```python\n",
    "Ĥ = 0.283 * tanh(0.0125 * X̂)\n",
    "T̂p = 1.2 * tanh(0.077 * X̂**0.25)"
   ]
  },
  {
   "cell_type": "code",
   "execution_count": 2,
   "id": "9090b488-03e0-44a3-a176-3a5c6015cd4c",
   "metadata": {
    "editable": true,
    "slideshow": {
     "slide_type": ""
    },
    "tags": [
     "thebe-init"
    ]
   },
   "outputs": [
    {
     "data": {
      "application/vnd.jupyter.widget-view+json": {
       "model_id": "9e489d0e40ec46f39f450cd41bcb7207",
       "version_major": 2,
       "version_minor": 0
      },
      "text/plain": [
       "interactive(children=(FloatSlider(value=15.0, description='Wind Speed (m/s)', min=5.0, step=1.0), FloatSlider(…"
      ]
     },
     "metadata": {},
     "output_type": "display_data"
    },
    {
     "data": {
      "text/plain": [
       "<function __main__.plot_usace_wave(V=15, F_km=50, t_hr=3)>"
      ]
     },
     "execution_count": 2,
     "metadata": {},
     "output_type": "execute_result"
    }
   ],
   "source": [
    "import numpy as np\n",
    "import matplotlib.pyplot as plt\n",
    "from ipywidgets import interact, FloatSlider, IntSlider\n",
    "\n",
    "g = 9.81  # gravitational acceleration (m/s²)\n",
    "def nondim_wave_height_fetch(X_hat):\n",
    "    return 0.283 * np.tanh(0.0125 * X_hat)\n",
    "\n",
    "def nondim_wave_period_fetch(X_hat):\n",
    "    return 1.2 * np.tanh(0.077 * X_hat**0.25)\n",
    "\n",
    "def nondim_wave_height_duration(T_hat):\n",
    "    return 0.283 * np.tanh(0.0125 * T_hat)\n",
    "\n",
    "def nondim_wave_period_duration(T_hat):\n",
    "    return 1.2 * np.tanh(0.077 * T_hat**0.25)\n",
    "\n",
    "# Constants\n",
    "g = 9.81  # gravitational acceleration\n",
    "A = 0.283\n",
    "B = 0.0125\n",
    "\n",
    "def fetch_limited_wave(V, F):\n",
    "    X_hat = g * F / V**2\n",
    "    H_hat = nondim_wave_height_fetch(X_hat)\n",
    "    T_hat = nondim_wave_period_fetch(X_hat)\n",
    "    Hs = H_hat * V**2 / g\n",
    "    Tp = T_hat * V / g\n",
    "    return Hs, Tp\n",
    "\n",
    "def duration_limited_wave(V, t):\n",
    "    T_hat = g * t / V\n",
    "    H_hat = nondim_wave_height_duration(T_hat)\n",
    "    T_hat_val = nondim_wave_period_duration(T_hat)\n",
    "    Hs = H_hat * V**2 / g\n",
    "    Tp = T_hat_val * V / g\n",
    "    return Hs, Tp\n",
    "\n",
    "def fetch_limited_wave_heightspm(V, F):\n",
    "    \"\"\"Fetch-limited wave height (SPM)\"\"\"\n",
    "    gF_V2 = g * F / V**2\n",
    "    return A * np.tanh(B * gF_V2) * V**2 / g\n",
    "\n",
    "def duration_limited_wave_heightspm(V, t):\n",
    "    \"\"\"Duration-limited wave height (SPM)\"\"\"\n",
    "    gt_V = g * t / V\n",
    "    return A * np.tanh(B * gt_V) * V**2 / g\n",
    "\n",
    "def plot_usace_wave(V=15, F_km=50, t_hr=3):\n",
    "    F = F_km * 1000  # km → m\n",
    "    t = t_hr * 3600  # hr → s\n",
    "    Hf, Tf = fetch_limited_wave(V, F)\n",
    "    Hd, Td = duration_limited_wave(V, t)\n",
    "    Hs = min(Hf, Hd)\n",
    "    Tp = Tf if Hf < Hd else Td\n",
    "    print(f\"🌬️ Wind Speed: {V:.1f} m/s\")\n",
    "    print(f\"🌊 Fetch-Limited Hs: {Hf:.2f} m, Tp: {Tf:.2f} s\")\n",
    "    print(f\"⏱️ Duration-Limited Hs: {Hd:.2f} m, Tp: {Td:.2f} s\")\n",
    "    print(f\"✅ Selected Hs: {Hs:.2f} m, Tp: {Tp:.2f} s\")\n",
    "    # Plotting\n",
    "    fetch_range = np.linspace(1, 200, 300)\n",
    "    Hs_fetch = [fetch_limited_wave(V, f * 1000)[0] for f in fetch_range]\n",
    "    plt.figure(figsize=(10, 5))\n",
    "    plt.plot(fetch_range, Hs_fetch, label=\"Fetch-Limited Hs\", color='navy')\n",
    "    plt.axhline(Hd, color='orange', linestyle='--', label=f'Duration-Limited Hs = {Hd:.2f} m')\n",
    "    plt.axhline(Hs, color='green', linestyle='-.', label=f'Selected Hs = {Hs:.2f} m')\n",
    "    plt.xlabel(\"Fetch (km)\")\n",
    "    plt.ylabel(\"Significant Wave Height Hs (m)\")\n",
    "    plt.title(\"USACE Wave Height Prediction (CEM Dimensional Analysis)\")\n",
    "    plt.grid(True, linestyle='--', alpha=0.6)\n",
    "    plt.legend()\n",
    "    plt.tight_layout()\n",
    "    plt.show()\n",
    "    spm_FetchlimitedHs=fetch_limited_wave_heightspm(V, F)\n",
    "    spm_DurationlimitedHs=duration_limited_wave_heightspm(V, F)\n",
    "    \n",
    "    print(\"spm_FetchlimitedHs=\",spm_FetchlimitedHs)\n",
    "    print(\"spm_DurationlimitedHs=\",spm_DurationlimitedHs)\n",
    "interact(\n",
    "    plot_usace_wave,\n",
    "    V=FloatSlider(value=15, min=5, max=100, step=1, description=\"Wind Speed (m/s)\"),\n",
    "    F_km=FloatSlider(value=50, min=1, max=200, step=1, description=\"Fetch (km)\"),\n",
    "    t_hr=IntSlider(value=3, min=0, max=24, step=1, description=\"Duration (hr)\")\n",
    ")   "
   ]
  },
  {
   "cell_type": "markdown",
   "id": "03881136-d908-4155-b1ec-10dc5ca1d67c",
   "metadata": {},
   "source": [
    "### 2.2 Simulation2"
   ]
  },
  {
   "cell_type": "markdown",
   "id": "0c1166fa-dea3-4ac5-ac87-a2fbe3d816a1",
   "metadata": {},
   "source": [
    "#### Interactive Wave Spectrum Comparison: PM vs JONSWAP\n",
    "\n",
    "This Jupyter Notebook demonstrates the fundamental differences between the **Pierson–Moskowitz (PM)** and **JONSWAP** wave spectra—two widely used models to describe the energy distribution of sea surface waves generated by wind.\n",
    "\n",
    "---\n",
    "\n",
    "##### Learning Objectives\n",
    "\n",
    "- Understand the theoretical foundations of the PM and JONSWAP spectra\n",
    "- Explore how wave energy is distributed over frequency for varying wind speeds\n",
    "- Examine the effect of spectral peakedness through the JONSWAP γ (gamma) parameter\n",
    "- Interpret real-time spectral plots using interactive sliders\n",
    "\n",
    "---\n",
    "\n",
    "##### Theoretical Background\n",
    "\n",
    "##### Pierson–Moskowitz (PM) Spectrum\n",
    "\n",
    "The PM spectrum models a **fully developed sea** where waves have grown under consistent wind over time and space. It assumes the sea is in equilibrium and is controlled primarily by wind speed \\( U_{10} \\) at 10 meters above the surface.\n",
    "\n",
    "The spectral shape is defined by:\n",
    "\n",
    "$$\n",
    "S_{PM}(f) = \\alpha \\frac{g^2}{(2\\pi)^4} f^{-5} \\exp\\left[-1.25 \\left( \\frac{f_p}{f} \\right)^4 \\right]\n",
    "$$\n",
    "\n",
    "---\n",
    "\n",
    "##### 🌐 JONSWAP Spectrum\n",
    "\n",
    "The **JONSWAP spectrum** extends PM by introducing a **peak enhancement factor \\( \\gamma \\)** to account for young, developing seas. It narrows the spectral peak and adds asymmetry to the distribution. \n",
    "\n",
    "The expression is:\n",
    "\n",
    "$$\n",
    "S_{JONSWAP}(f) = S_{PM}(f) \\cdot \\gamma^{\\exp \\left[ - \\frac{(f - f_p)^2}{2 \\sigma^2 f_p^2} \\right]}\n",
    "$$\n",
    "\n",
    "Where:\n",
    "- \\( f_p \\): peak frequency, inversely related to wind speed\n",
    "- \\( \\gamma \\): spectral peakedness (default ≈ 3.3)\n",
    "- \\( \\sigma \\): frequency-dependent bandwidth (0.07 if \\( f < f_p \\), else 0.09)\n",
    "\n",
    "---\n",
    "\n",
    "##### Interactive Controls\n",
    "\n",
    "Use the sliders below to change:\n",
    "\n",
    "- **Wind speed \\( U_{10} \\)** (in m/s): influences peak frequency and total energy\n",
    "- **Gamma (γ)**: controls the sharpness and intensity of the JONSWAP peak\n",
    "\n",
    "The simulation will regenerate and plot:\n",
    "\n",
    "- The **PM spectrum** (solid line)\n",
    "- The **JONSWAP spectrum** (dashed line)\n",
    "\n",
    "All curves are plotted against frequency in Hz with spectral energy density in m²/Hz.\n",
    "\n",
    "---\n",
    "\n",
    "##### Output Interpretation\n",
    "\n",
    "- **Higher wind speeds** shift the peak to lower frequencies (longer waves)\n",
    "- **Larger γ values** sharpen the JONSWAP spectrum, representing more \"peaky\" wave energy\n",
    "- The **difference between spectra** highlights stages of sea development (from growing to fully developed)\n",
    "\n",
    "---\n",
    "💡 Use this tool to explore real-world sea state dynamics, inform spectral wave modeling, or just to build intuition about wave growth under varying wind conditions."
   ]
  },
  {
   "cell_type": "code",
   "execution_count": 3,
   "id": "04c46b3d-3b35-487a-986f-eb8b5fe26b4d",
   "metadata": {
    "editable": true,
    "slideshow": {
     "slide_type": ""
    },
    "tags": [
     "thebe-init"
    ]
   },
   "outputs": [
    {
     "data": {
      "application/vnd.jupyter.widget-view+json": {
       "model_id": "aad11e8f81154ff7b15a6ca581142dbb",
       "version_major": 2,
       "version_minor": 0
      },
      "text/plain": [
       "interactive(children=(FloatSlider(value=15.0, description='Wind Speed (m/s)', max=30.0, min=5.0, step=1.0), Fl…"
      ]
     },
     "metadata": {},
     "output_type": "display_data"
    },
    {
     "data": {
      "text/plain": [
       "<function __main__.plot_and_estimate(U10=15.0, gamma=3.3, freq_range=(0.05, 1.5))>"
      ]
     },
     "execution_count": 3,
     "metadata": {},
     "output_type": "execute_result"
    }
   ],
   "source": [
    "# 🔹 Cell 1: Imports\n",
    "import numpy as np\n",
    "import matplotlib.pyplot as plt\n",
    "from ipywidgets import interact, FloatSlider, FloatRangeSlider\n",
    "import warnings\n",
    "warnings.filterwarnings('ignore')\n",
    "# 🔹 Cell 2: Spectrum Functions\n",
    "g = 9.81\n",
    "alpha = 0.0081\n",
    "sigma_low = 0.07\n",
    "sigma_high = 0.09\n",
    "\n",
    "# Pierson–Moskowitz Spectrum\n",
    "def pm_spectrum(f, U10):\n",
    "    fp = g / (2 * np.pi * 0.83 * U10)\n",
    "    return (alpha * g**2 / (2 * np.pi)**4) * f**(-5) * np.exp(-1.25 * (fp / f)**4)\n",
    "\n",
    "# JONSWAP Spectrum\n",
    "def jonswap_spectrum(f, U10, gamma):\n",
    "    fp = g / (2 * np.pi * 0.83 * U10)\n",
    "    S_pm = pm_spectrum(f, U10)\n",
    "    sigma = np.where(f <= fp, sigma_low, sigma_high)\n",
    "    exponent = -((f - fp)**2) / (2 * sigma**2 * fp**2)\n",
    "    peak_enhancement = gamma ** np.exp(exponent)\n",
    "    return S_pm * peak_enhancement\n",
    "# 🔹 Cell 3: Plot and Calculate Hs from Both Spectra\n",
    "def plot_and_estimate(U10=15.0, gamma=3.3, freq_range=(0.05, 1.5)):\n",
    "    f_min, f_max = freq_range\n",
    "    f = np.linspace(f_min, f_max, 500)\n",
    "\n",
    "    # Compute spectra\n",
    "    S_pm = pm_spectrum(f, U10)\n",
    "    S_jonswap = jonswap_spectrum(f, U10, gamma)\n",
    "\n",
    "    # Integrate spectra to get Hs\n",
    "    m0_pm = np.trapz(S_pm, f)\n",
    "    Hs_pm = 4 * np.sqrt(m0_pm)\n",
    "\n",
    "    m0_js = np.trapz(S_jonswap, f)\n",
    "    Hs_js = 4 * np.sqrt(m0_js)\n",
    "\n",
    "    # Plot spectra\n",
    "    plt.figure(figsize=(10, 6))\n",
    "    plt.plot(f, S_pm, label=f\"PM Spectrum (Hs = {Hs_pm:.2f} m)\", linewidth=2)\n",
    "    plt.plot(f, S_jonswap, '--', label=f\"JONSWAP Spectrum (γ = {gamma:.1f}, Hs = {Hs_js:.2f} m)\", linewidth=2)\n",
    "    plt.xlabel(\"Frequency (Hz)\")\n",
    "    plt.ylabel(\"Spectral Energy Density $S(f)$ (m²/Hz)\")\n",
    "    plt.title(f\"Wave Spectra Comparison at U10 = {U10:.1f} m/s\")\n",
    "    plt.legend()\n",
    "    plt.grid(True, linestyle='--', alpha=0.6)\n",
    "    plt.tight_layout()\n",
    "    plt.show()\n",
    "\n",
    "# 🔹 Cell 4: Interactive Sliders\n",
    "interact(\n",
    "    plot_and_estimate,\n",
    "    U10=FloatSlider(value=15, min=5, max=30, step=1, description=\"Wind Speed (m/s)\"),\n",
    "    gamma=FloatSlider(value=3.3, min=1.0, max=7.0, step=0.1, description=\"Gamma (γ)\"),\n",
    "    freq_range=FloatRangeSlider(value=(0.05, 1.5), min=0.01, max=2.0, step=0.01, description=\"Freq Range (Hz)\")\n",
    ")"
   ]
  },
  {
   "cell_type": "code",
   "execution_count": 4,
   "id": "5ff77b26-068f-4891-aba8-d3dfd3b5e0f0",
   "metadata": {},
   "outputs": [],
   "source": [
    "#Defining the Spectrum based on observation data and then estimating the significante wave height"
   ]
  },
  {
   "cell_type": "markdown",
   "id": "2bc5bc79-055b-4b80-9ea2-81bed3f5a8c5",
   "metadata": {},
   "source": [
    "### 2.3 Simulation3"
   ]
  },
  {
   "cell_type": "markdown",
   "id": "d3b9b05e-3595-4f07-ac9f-0a01e7c47a65",
   "metadata": {},
   "source": [
    "###Interactive Estimation of Wave Spectra and Significant Wave Height (Hs)\n",
    "\n",
    "This notebook compares two fundamental ocean wave spectral models—**Pierson–Moskowitz (PM)** and **JONSWAP**—to investigate how wind speed, frequency range, and spectral peakedness affect wave energy distributions and significant wave height estimations.\n",
    "\n",
    "--\n",
    "##### Purpose\n",
    "Explore how:\n",
    "- Wind speed at 10 meters height (\\(U_{10}\\))\n",
    "- JONSWAP peak enhancement factor (\\( \\gamma \\))\n",
    "- Frequency range of interest\n",
    "influence wave spectra shape and total wave energy.\n",
    "---\n",
    "##### Models Implemented\n",
    "- **PM Spectrum**: Represents a fully developed sea state assuming equilibrium under steady wind.\n",
    "  $$\n",
    "  S_{PM}(f) = \\alpha \\cdot \\frac{g^2}{(2\\pi)^4} f^{-5} \\exp\\left[-1.25 \\left( \\frac{f_p}{f} \\right)^4 \\right]\n",
    "  $$\n",
    "\n",
    "- **JONSWAP Spectrum**: Enhances the PM spectrum to represent growing seas using a peakedness factor \\( \\gamma \\).\n",
    "\n",
    "  $$\n",
    "  S_{JONSWAP}(f) = S_{PM}(f) \\cdot \\gamma^{\\exp \\left( - \\frac{(f - f_p)^2}{2 \\sigma^2 f_p^2} \\right)}\n",
    "  $$\n",
    "---\n",
    "##### Interactive Inputs\n",
    "Use the sliders to control:\n",
    "- **Wind Speed (m/s)**: Adjusts the peak frequency and energy content\n",
    "- **Gamma (γ)**: Defines the sharpness of the spectral peak (JONSWAP only)\n",
    "- **Frequency Range (Hz)**: Allows you to focus on a specific slice of the spectrum\n",
    "---\n",
    "##### Outputs\n",
    "- A line plot comparing the PM and JONSWAP spectra across frequencies\n",
    "- Real-time calculation and display of:\n",
    "  - **$( H_s $)** from PM spectrum: $( H_s = 4 \\sqrt{m_0} $)\n",
    "  - **$( H_s $)** from JONSWAP spectrum\n",
    "The area under each curve is numerically integrated to yield the zeroth moment \\( m_0 \\), which is then used to estimate the significant wave height.\n",
    "---\n",
    "📘 *Insight*: A higher gamma value leads to a narrower, more peaked spectrum—often representing developing wind seas. The PM spectrum is smoother and broader, idealized for fully developed conditions.\n"
   ]
  },
  {
   "cell_type": "code",
   "execution_count": 8,
   "id": "d818ad38-fd19-4b18-9a0a-1fbc6938075e",
   "metadata": {
    "editable": true,
    "slideshow": {
     "slide_type": ""
    },
    "tags": [
     "thebe-init"
    ]
   },
   "outputs": [
    {
     "name": "stdout",
     "output_type": "stream",
     "text": [
      "                     WVHT  DPD\n",
      "timestamp                     \n",
      "2025-07-10 20:20:00   2.1  6.0\n",
      "2025-07-10 19:50:00   2.1  7.0\n",
      "2025-07-10 19:20:00   1.9  7.0\n",
      "2025-07-10 18:50:00   2.0  7.0\n",
      "2025-07-10 18:20:00   1.9  7.0\n",
      "Observed Hs: 2.10 m, Tp: 6.00 s\n",
      "Estimated from NOAA data:\n",
      "  Hs = 2.10 m\n",
      "  Tp = 6.00 s\n",
      "  fp = 0.167 Hz\n",
      "  Estimated U10 (PM) = 11.29 m/s\n"
     ]
    },
    {
     "data": {
      "image/png": "[encoded data removed]",
      "text/plain": [
       "<Figure size 1000x600 with 1 Axes>"
      ]
     },
     "metadata": {},
     "output_type": "display_data"
    }
   ],
   "source": [
    "import pandas as pd\n",
    "import numpy as np\n",
    "import pandas as pd\n",
    "import matplotlib.pyplot as plt\n",
    "import requests\n",
    "\n",
    "alpha = 0.0081\n",
    "sigma_low = 0.07\n",
    "sigma_high = 0.09\n",
    "\n",
    "# Example: Station 41001 (East of Cape Hatteras)\n",
    "station_id = '41001'\n",
    "url = f'https://www.ndbc.noaa.gov/data/realtime2/{station_id}.txt'\n",
    "\n",
    "# Read the data, skipping header rows\n",
    "df = pd.read_csv(url, delim_whitespace=True, skiprows=[1], na_values='MM')\n",
    "\n",
    "# Rename columns for clarity\n",
    "df.columns = ['YY', 'MM', 'DD', 'hh', 'mm', 'WDIR', 'WSPD', 'GST', 'WVHT', 'DPD',\n",
    "              'APD', 'MWD', 'PRES', 'ATMP', 'WTMP', 'DEWP', 'VIS', 'PTDY','TIDE'][:len(df.columns)]\n",
    "\n",
    "df.rename(columns={'YY': 'year', 'MM': 'month', 'DD': 'day', 'hh':'hour', 'mm':'minute'}, inplace=True)\n",
    "# Combine date columns into a timestamp\n",
    "#df['timestamp'] = pd.to_datetime(df[['YY', 'MM', 'DD', 'hh', 'mm']])\n",
    "df['timestamp'] = pd.to_datetime(df[['year', 'month', 'day', 'hour', 'minute']])\n",
    "df.set_index('timestamp', inplace=True)\n",
    "\n",
    "# Preview wave height and dominant period\n",
    "print(df[['WVHT', 'DPD']].dropna().head())\n",
    "# Use most recent record\n",
    "latest = df[['WVHT', 'DPD']].dropna().iloc[0]\n",
    "Hs_obs = latest['WVHT']\n",
    "Tp_obs = latest['DPD']\n",
    "print(f\"Observed Hs: {Hs_obs:.2f} m, Tp: {Tp_obs:.2f} s\")\n",
    "\n",
    "def pm_spectrum(f, U10):\n",
    "    fp = g / (2 * np.pi * 0.83 * U10)\n",
    "    return (alpha * g**2 / (2 * np.pi)**4) * f**-5 * np.exp(-1.25 * (fp / f)**4)\n",
    "\n",
    "def jonswap_spectrum(f, U10, gamma=3.3):\n",
    "    S_pm = pm_spectrum(f, U10)\n",
    "    fp = g / (2 * np.pi * 0.83 * U10)\n",
    "    sigma = np.where(f <= fp, sigma_low, sigma_high)\n",
    "    enhancement = gamma ** np.exp(-((f - fp)**2) / (2 * sigma**2 * fp**2))\n",
    "    return S_pm * enhancement\n",
    "\n",
    "# Estimate wind speed from PM inverse formula\n",
    "g = 9.81\n",
    "U10_pm = (Tp_obs * g) / (2 * np.pi * 0.83)\n",
    "\n",
    "# Estimate peak frequency\n",
    "fp = 1 / Tp_obs\n",
    "\n",
    "# Print estimated parameters\n",
    "print(f\"Estimated from NOAA data:\")\n",
    "print(f\"  Hs = {Hs_obs:.2f} m\")\n",
    "print(f\"  Tp = {Tp_obs:.2f} s\")\n",
    "print(f\"  fp = {fp:.3f} Hz\")\n",
    "print(f\"  Estimated U10 (PM) = {U10_pm:.2f} m/s\")\n",
    "\n",
    "# Frequency range\n",
    "f = np.linspace(0.05, 1.5, 500)\n",
    "# Compute spectra\n",
    "S_pm = pm_spectrum(f, U10_pm)\n",
    "S_jonswap = jonswap_spectrum(f, U10_pm, gamma=3.3)\n",
    "# Integrate to get Hs from spectra\n",
    "m0_pm = np.trapz(S_pm, f)\n",
    "m0_js = np.trapz(S_jonswap, f)\n",
    "Hs_pm = 4 * np.sqrt(m0_pm)\n",
    "Hs_js = 4 * np.sqrt(m0_js)\n",
    "# Plot\n",
    "plt.figure(figsize=(10, 6))\n",
    "plt.plot(f, S_pm, label=f\"PM (Hs ≈ {Hs_pm:.2f} m)\", lw=2)\n",
    "plt.plot(f, S_jonswap, '--', label=f\"JONSWAP γ=3.3 (Hs ≈ {Hs_js:.2f} m)\", lw=2)\n",
    "plt.axhline(0, color='black', lw=0.5)\n",
    "plt.xlabel(\"Frequency (Hz)\")\n",
    "plt.ylabel(\"Spectral Density $S(f)$ (m²/Hz)\")\n",
    "plt.title(f\"{station_id} Buoy Spectral Comparison\\nObserved Hs: {Hs_obs:.2f} m, Tp: {Tp_obs:.2f} s, U10 pm: {U10_pm:.2f} m/s\")\n",
    "plt.legend()\n",
    "plt.grid(True, linestyle='--', alpha=0.6)\n",
    "plt.tight_layout()\n",
    "plt.show()"
   ]
  },
  {
   "cell_type": "markdown",
   "id": "eabb2507-2fca-41a0-9de0-a71aa185451c",
   "metadata": {},
   "source": [
    "## 3. Self-Assessment"
   ]
  }
 ],
 "metadata": {
  "kernelspec": {
   "display_name": "Python [conda env:base] *",
   "language": "python",
   "name": "conda-base-py"
  },
  "language_info": {
   "codemirror_mode": {
    "name": "ipython",
    "version": 3
   },
   "file_extension": ".py",
   "mimetype": "text/x-python",
   "name": "python",
   "nbconvert_exporter": "python",
   "pygments_lexer": "ipython3",
   "version": "3.12.7"
  }
 },
 "nbformat": 4,
 "nbformat_minor": 5
}
