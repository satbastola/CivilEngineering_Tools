{
 "cells": [
  {
   "cell_type": "markdown",
   "id": "017b3bf2-0f60-4e03-9449-6a74483bbb22",
   "metadata": {},
   "source": [
    "# Chapter 4 Geotechnical Engineering: Bearing Capacity of Soil"
   ]
  },
  {
   "cell_type": "markdown",
   "id": "63281c01-68d3-4764-a690-ee88e0f29309",
   "metadata": {},
   "source": [
    "1. [Introduction: Bearing Capacity](#1.-Introduction)\n",
    "2. [Simulation: Parameter Sensitivity](#2.-Simulation)\n",
    "3. [Self-Assessment](#3.-Self-Assessment)"
   ]
  },
  {
   "cell_type": "markdown",
   "id": "c75c619c-9678-41a8-a255-5f3b9a63dc4a",
   "metadata": {},
   "source": [
    "## 1. Introduction"
   ]
  },
  {
   "cell_type": "markdown",
   "id": "304bf939",
   "metadata": {
    "jp-MarkdownHeadingCollapsed": true
   },
   "source": [
    "### 🧱 Bearing Capacity of Soil\n",
    "\n",
    "**Bearing capacity** is the **maximum load per unit area** that soil can support **without shear failure or excessive settlement**. It determines the **safe load** that can be applied to the ground by foundations, embankments, or other structures.\n",
    "\n",
    "---\n",
    "\n",
    "### 📐 Types of Bearing Capacity\n",
    "\n",
    "| Type                     | Description                                                                 |\n",
    "|--------------------------|-----------------------------------------------------------------------------|\n",
    "| **Ultimate Bearing Capacity (qu)** | Maximum pressure soil can withstand before failure             |\n",
    "| **Net Bearing Capacity (qnet)**    | Ultimate minus overburden pressure                             |\n",
    "| **Safe Bearing Capacity (qsafe)**  | Net capacity divided by a safety factor (typically 2–3)        |\n",
    "\n",
    "---\n",
    "\n",
    "### 🧠 Importance of Bearing Capacity\n",
    "\n",
    "- Ensures **foundation stability** and prevents structural failure\n",
    "- Guides **foundation type selection** (e.g., shallow vs. deep)\n",
    "- Prevents **excessive settlement** and tilting\n",
    "- Critical for **bridges, dams, buildings, towers**, and other infrastructure\n",
    "- Influences **cost and feasibility** of construction projects\n",
    "\n",
    "---\n",
    "\n",
    "### 📊 Factors Influencing Bearing Capacity\n",
    "\n",
    "| Factor                   | Impact                                                                 |\n",
    "|--------------------------|-------------------------------------------------------------------------|\n",
    "| **Soil Type**            | Cohesive soils (clay) vs. granular soils (sand, gravel)                |\n",
    "| **Moisture Content**     | Saturated soils have lower shear strength                              |\n",
    "| **Density and Compaction**| Denser soils offer higher resistance                                   |\n",
    "| **Depth of Foundation**  | Deeper foundations mobilize more soil strength                         |\n",
    "| **Load Shape and Size**  | Circular, square, or strip footings distribute load differently        |\n",
    "| **Groundwater Table**    | High water table reduces effective stress and bearing capacity         |\n",
    "| **Presence of Layers**   | Weak or compressible layers reduce overall capacity                   \n",
    "\n",
    "---\n",
    "\n",
    "### 🔢 Methods for Estimating Bearing Capacity\n",
    "\n",
    "### Bearing Capacity Methods\n",
    "\n",
    "### **1. Terzaghi's Method**\n",
    "**Overview**: Terzaghi's method is one of the earliest and most widely used methods for calculating the bearing capacity of shallow foundations. It is based on the theory of plastic equilibrium in soils.\n",
    "\n",
    "**Equation**:\n",
    "$\n",
    "q_{ult} = cN_c + qN_q + 0.5\\gamma BN_\\gamma\n",
    "$\n",
    "where:\n",
    "- $( q_{ult} $) = ultimate bearing capacity\n",
    "- $( c $) = cohesion of the soil\n",
    "- $( q $) = overburden pressure at the foundation level\n",
    "- $( \\gamma $) = unit weight of the soil\n",
    "- $( B $) = width of the foundation\n",
    "- $( N_c, N_q, N_\\gamma $) = bearing capacity factors, which depend on the internal friction angle (\\(\\phi\\))\n",
    "\n",
    "**Assumptions**:\n",
    "- The soil is homogeneous and isotropic.\n",
    "- The foundation is shallow.\n",
    "- The load is applied vertically and centrally.\n",
    "\n",
    "### **2. Meyerhof's Method**\n",
    "**Overview**: Meyerhof's method extends Terzaghi's theory by considering the shape and depth of the foundation, as well as the inclination of the load.\n",
    "\n",
    "**Equation**:\n",
    "$\n",
    "q_{ult} = cN_c + qN_q + 0.5\\gamma BN_\\gamma \\left(1 + 0.3 \\frac{B}{L}\\right)\n",
    "$\n",
    "where:\n",
    "- $( L $) = length of the foundation\n",
    "- Other terms are as defined in Terzaghi's method.\n",
    "\n",
    "**Assumptions**:\n",
    "- Similar to Terzaghi's method, but includes adjustments for foundation shape and load inclination.\n",
    "\n",
    "### **3. Hansen's Method**\n",
    "**Overview**: Hansen's method further refines the bearing capacity calculation by including shape, depth, and inclination factors for each term in the bearing capacity equation.\n",
    "\n",
    "**Equation**:\n",
    "$\n",
    "q_{ult} = cN_c s_c d_c i_c + qN_q s_q d_q i_q + 0.5\\gamma BN_\\gamma s_\\gamma d_\\gamma i_\\gamma\n",
    "$\n",
    "where:\n",
    "- $( s_c, s_q, s_\\gamma $) = shape factors\n",
    "- $( d_c, d_q, d_\\gamma $) = depth factors\n",
    "- $( i_c, i_q, i_\\gamma $) = inclination factors\n",
    "- Other terms are as defined in Terzaghi's method.\n",
    "\n",
    "**Assumptions**:\n",
    "- More comprehensive than Terzaghi's and Meyerhof's methods, accounting for various factors affecting bearing capacity.\n",
    "\n",
    "### **Interpreting the Results**\n",
    "- **Terzaghi's Method**: Provides a basic estimate of bearing capacity, suitable for simple cases with shallow foundations and uniform soil conditions.\n",
    "- **Meyerhof's Method**: Offers a more refined estimate by considering the shape and depth of the foundation, making it suitable for a wider range of conditions.\n",
    "- **Hansen's Method**: Provides the most comprehensive estimate by including additional factors, making it suitable for complex conditions with varying soil properties and load inclinations.\n",
    "\n",
    "### **Recommendations**\n",
    "- **Consistency**: If the bearing capacities calculated by the different methods are similar, it indicates consistency in the results, and any method can be used based on convenience.\n",
    "- **Significant Differences**: If there are significant differences between the methods, further investigation and validation of soil parameters are recommended to ensure accurate design.\n",
    "\n",
    "### **Bearing Capacity Factors Table**\n",
    "The following table provides typical values for the bearing capacity factors (\\(N_c\\), \\(N_q\\), \\(N_\\gamma\\)) based on the internal friction angle (\\(\\phi\\)):\n",
    "\n",
    "| $(\\phi$) (degrees) | $(N_c$) | $(N_q$) | $(N_\\gamma$) |\n",
    "|--------------------|---------|---------|--------------|\n",
    "| 0                  | 5.14    | 1.00    | 0.00         |\n",
    "| 5                  | 6.50    | 1.57    | 0.21         |\n",
    "| 10                 | 8.34    | 2.47    | 0.67         |\n",
    "| 15                 | 11.00   | 3.90    | 1.41         |\n",
    "| 20                 | 15.00   | 6.40    | 2.56         |\n",
    "| 25                 | 20.70   | 10.60   | 4.40         |\n",
    "| 30                 | 27.70   | 18.40   | 7.40         |\n",
    "| 35                 | 37.20   | 31.00   | 11.80        |\n",
    "| 40                 | 50.60   | 52.00   | 18.40        |\n",
    "| 45                 | 69.30   | 100.00  | 32.40        |\n",
    "\n",
    "These methods are essential tools in geotechnical engineering for designing safe and stable foundations. Understanding their assumptions and limitations helps engineers choose the appropriate method for their specific project conditions.\n",
    "\n",
    "\n",
    "### 4. **Plate Load Test**\n",
    "- Field test using a steel plate to measure load vs. settlement. The **Plate Load Test (PLT)** is a field method used to determine the **bearing capacity** and **settlement characteristics** of soil at a specific depth. It is commonly used for shallow foundation design.\n",
    "\n",
    "### 🔧 Setup and procedure\n",
    "- A rigid steel plate (300–750 mm diameter) is placed at the foundation level in a test pit.\n",
    "- Load is applied incrementally using a hydraulic jack and reaction system.\n",
    "- Settlement is measured using dial gauges or displacement sensors.\n",
    "\n",
    "1. Apply load in increments (e.g., 1/5th of expected ultimate load).\n",
    "2. Record settlement at time intervals (1, 2, 4, 8, 15, 30, 60 minutes).\n",
    "3. Continue loading until failure or excessive settlement.\n",
    "4. Unload gradually and observe rebound.\n",
    "\n",
    "### 📈 Data Interpretation\n",
    "- Plot **load vs. settlement** curve.\n",
    "- Identify **ultimate bearing capacity** at curve inflection.\n",
    "- Calculate **safe bearing capacity** using a safety factor (typically 2–3).\n",
    "- Estimate **footing settlement** using empirical relationships.\n",
    "\n",
    "\n",
    "## 5. 🛠️ Standard Penetration Test (SPT)\n",
    "\n",
    "- A split-barrel sampler is driven into the soil using a drop hammer (63.5 kg falling 760 mm).\n",
    "- The number of blows required to penetrate the last 30 cm is recorded as the **SPT N-value**.\n",
    "- **Empirical correlations** relate N-values to:\n",
    "  - Soil density and consistency\n",
    "  - Bearing capacity\n",
    "  - Settlement potential\n",
    "\n",
    "### 📊 Applications\n",
    "- Common in sands, silts, and mixed soils\n",
    "- Used for shallow foundation design\n",
    "- Provides discrete data points at test depths\n",
    "\n",
    "### ⚠️ Limitations\n",
    "- Less reliable in soft clays\n",
    "- Energy efficiency varies with equipment\n",
    "- Requires depth and overburden corrections\n",
    "\n",
    "---\n",
    "\n",
    "### 6. 🧱 Cone Penetration Test (CPT)\n",
    "\n",
    "- A cone-shaped probe is hydraulically pushed into the ground at a constant rate (typically 2 cm/s).\n",
    "- Measures:\n",
    "  - **Tip resistance (qc)** – indicates soil strength\n",
    "  - **Sleeve friction (fs)** – helps classify soil type\n",
    "\n",
    "### 📊 Applications\n",
    "- Continuous soil profiling\n",
    "- Estimation of:\n",
    "  - Bearing capacity\n",
    "  - Undrained shear strength\n",
    "  - Soil stratigraphy\n",
    "\n",
    "### ⚠️ Limitations\n",
    "- Not suitable for gravel or very hard soils\n",
    "- Requires specialized equipment and calibration\n",
    "\n",
    "\n",
    "### 7. **Numerical Methods**\n",
    "- Finite element modeling for complex soil-structure interaction\n",
    "\n",
    "---\n",
    "\n",
    "## 🧠 Conceptual Insight\n",
    "\n",
    "> Bearing capacity is the **foundation of foundation design** —  \n",
    "> understanding soil strength ensures **safe, durable, and cost-effective structures**.\n",
    "\n",
    "---\n",
    "\n",
    "## ❓ Quiz Questions\n",
    "\n",
    "1. What is the difference between ultimate and safe bearing capacity?\n",
    "2. How does groundwater affect bearing capacity?\n",
    "3. What soil types typically have higher bearing capacity?\n",
    "4. Why is Terzaghi’s equation widely used?\n",
    "5. What field tests help estimate bearing capacity?\n",
    "\n",
    "\n"
   ]
  },
  {
   "cell_type": "markdown",
   "id": "e27959d1-14ae-4cf5-a367-7c916f150ba1",
   "metadata": {},
   "source": [
    "## 2. Simulation"
   ]
  },
  {
   "cell_type": "markdown",
   "id": "be8bb6e0-e839-424a-afbb-dcd999903672",
   "metadata": {},
   "source": [
    "### 🧱 Bearing Capacity Calculator (Terzaghi, Meyerhof, Hansen)\n",
    "\n",
    "This tool estimates the **ultimate bearing capacity of soil** using three classical methods:\n",
    "- **Terzaghi’s Method**\n",
    "- **Meyerhof’s Method**\n",
    "- **Hansen’s Method**\n",
    "\n",
    "It allows users to input soil and foundation parameters interactively and compares the results across methods with interpretive guidance.\n",
    "\n",
    "---\n",
    "\n",
    "### 🔧 Calculation Steps\n",
    "\n",
    "1. **Inputs**:\n",
    "   - Soil properties: cohesion $( c $), unit weight $( \\gamma $), overburden pressure $( q $)\n",
    "   - Foundation dimensions: width $( B $), length $( L $)\n",
    "   - Bearing capacity factors: $( N_c $), $( N_q $), $( N_\\gamma $)\n",
    "\n",
    "2. **Equations Used**:\n",
    "   - **Terzaghi**:\n",
    "     $\n",
    "     q_u = c N_c + q N_q + 0.5 \\gamma B N_\\gamma\n",
    "     $\n",
    "   - **Meyerhof**:\n",
    "     $\n",
    "     q_u = c N_c + q N_q + 0.5 \\gamma B N_\\gamma \\left(1 + 0.3 \\frac{B}{L}\\right)\n",
    "     $\n",
    "   - **Hansen**:\n",
    "     $\n",
    "     q_u = c N_c s_c + q N_q s_q + 0.5 \\gamma B N_\\gamma s_\\gamma\n",
    "     $\n",
    "     where shape factors $( s_c, s_q, s_\\gamma $) depend on $( B/L $)\n",
    "\n",
    "3. **Interpretation Logic**:\n",
    "   - Compares results from all three methods\n",
    "   - Identifies which method gives highest and lowest capacity\n",
    "   - Provides recommendations based on consistency of results\n",
    "\n",
    "---\n",
    "\n",
    "### 📊 How to Interpret Inputs\n",
    "\n",
    "| Parameter         | Meaning                                                                 |\n",
    "|-------------------|-------------------------------------------------------------------------|\n",
    "| `c`               | Soil cohesion (kPa)                                                     |\n",
    "| `γ`               | Unit weight of soil (kN/m³)                                             |\n",
    "| `q`               | Overburden pressure at foundation depth (kPa)                          |\n",
    "| `B`, `L`          | Width and length of foundation (m)                                      |\n",
    "| `Nc`, `Nq`, `Ngamma` | Bearing capacity factors based on soil friction angle               |\n",
    "\n",
    "---\n",
    "\n",
    "## 📋 How to Interpret Outputs\n",
    "\n",
    "| Output                        | Interpretation                                                                 |\n",
    "|-------------------------------|--------------------------------------------------------------------------------|\n",
    "| `Terzaghi`, `Meyerhof`, `Hansen` | Ultimate bearing capacity estimates (kPa)                                |\n",
    "| **Interpretation Section**    | Highlights which method gives highest/lowest values and whether results are consistent |\n",
    "| **Recommendations**           | Suggests further investigation if methods diverge significantly (>50%)       |\n",
    "\n",
    "---\n",
    "\n",
    "## 🧠 Conceptual Insight\n",
    "\n",
    "> This tool helps compare **classic bearing capacity methods** and guides foundation design decisions  \n",
    "> by integrating **soil mechanics theory** with **interactive analysis**."
   ]
  },
  {
   "cell_type": "code",
   "execution_count": 1,
   "id": "b0faf30d",
   "metadata": {},
   "outputs": [
    {
     "data": {
      "application/vnd.jupyter.widget-view+json": {
       "model_id": "56f1c25f2eff4f1c8fed75faba7cb267",
       "version_major": 2,
       "version_minor": 0
      },
      "text/plain": [
       "VBox(children=(FloatSlider(value=25.0, description='Cohesion (kPa):', layout=Layout(width='50%'), step=1.0, st…"
      ]
     },
     "metadata": {},
     "output_type": "display_data"
    },
    {
     "data": {
      "application/vnd.jupyter.widget-view+json": {
       "model_id": "38da30ca58764dffbc73a1b2c6ee5a9c",
       "version_major": 2,
       "version_minor": 0
      },
      "text/plain": [
       "Output()"
      ]
     },
     "metadata": {},
     "output_type": "display_data"
    }
   ],
   "source": [
    "import numpy as np\n",
    "import matplotlib.pyplot as plt\n",
    "import ipywidgets as widgets\n",
    "from IPython.display import display, Markdown\n",
    "\n",
    "# Function to calculate bearing capacity using Terzaghi's method\n",
    "def terzaghi_bearing_capacity(c, gamma, q, B, Nq, Nc, Ngamma):\n",
    "    q_ult = c * Nc + q * Nq + 0.5 * gamma * B * Ngamma\n",
    "    return q_ult\n",
    "\n",
    "# Function to calculate bearing capacity using Meyerhof's method\n",
    "def meyerhof_bearing_capacity(c, gamma, q, B, L, Nq, Nc, Ngamma):\n",
    "    q_ult = c * Nc + q * Nq + 0.5 * gamma * B * Ngamma * (1 + 0.3 * (B / L))\n",
    "    return q_ult\n",
    "\n",
    "# Function to calculate bearing capacity using Hansen's method\n",
    "def hansen_bearing_capacity(c, gamma, q, B, L, Nq, Nc, Ngamma):\n",
    "    sc = 1 + 0.2 * (B / L)\n",
    "    sq = 1 + 0.2 * (B / L)\n",
    "    sgamma = 1 - 0.4 * (B / L)\n",
    "    q_ult = c * Nc * sc + q * Nq * sq + 0.5 * gamma * B * Ngamma * sgamma\n",
    "    return q_ult\n",
    "\n",
    "# Function to interpret bearing capacity results and guide users\n",
    "def interpret_results(terzaghi_q_ult, meyerhof_q_ult, hansen_q_ult):\n",
    "    results = {\n",
    "        \"Terzaghi\": terzaghi_q_ult,\n",
    "        \"Meyerhof\": meyerhof_q_ult,\n",
    "        \"Hansen\": hansen_q_ult\n",
    "    }\n",
    "    \n",
    "    max_capacity = max(results.values())\n",
    "    min_capacity = min(results.values())\n",
    "    \n",
    "    interpretation = \"\"\n",
    "    \n",
    "    if max_capacity == terzaghi_q_ult:\n",
    "        interpretation += \"Terzaghi's method provides the highest bearing capacity.\\n\"\n",
    "    elif max_capacity == meyerhof_q_ult:\n",
    "        interpretation += \"Meyerhof's method provides the highest bearing capacity.\\n\"\n",
    "    elif max_capacity == hansen_q_ult:\n",
    "        interpretation += \"Hansen's method provides the highest bearing capacity.\\n\"\n",
    "    \n",
    "    if min_capacity == terzaghi_q_ult:\n",
    "        interpretation += \"Terzaghi's method provides the lowest bearing capacity.\\n\"\n",
    "    elif min_capacity == meyerhof_q_ult:\n",
    "        interpretation += \"Meyerhof's method provides the lowest bearing capacity.\\n\"\n",
    "    elif min_capacity == hansen_q_ult:\n",
    "        interpretation += \"Hansen's method provides the lowest bearing capacity.\\n\"\n",
    "    \n",
    "    interpretation += \"\\n### Recommendations:\\n\"\n",
    "    \n",
    "    if max_capacity / min_capacity > 1.5:\n",
    "        interpretation += \"- There is a significant difference between the methods. Consider further investigation and validation of soil parameters.\\n\"\n",
    "    else:\n",
    "        interpretation += \"- The methods provide similar results. You can choose any method based on convenience and familiarity.\\n\"\n",
    "    \n",
    "    return interpretation\n",
    "# Interactive widgets for input parameters\n",
    "c_input = widgets.FloatSlider(\n",
    "    value=25,\n",
    "    min=0,\n",
    "    max=100,\n",
    "    step=1,\n",
    "    description='Cohesion (kPa):',\n",
    "    layout=widgets.Layout(width='50%'),\n",
    "    style={'description_width': 'initial'}\n",
    ")\n",
    "\n",
    "gamma_input = widgets.FloatSlider(\n",
    "    value=18,\n",
    "    min=10,\n",
    "    max=25,\n",
    "    step=0.1,\n",
    "    description='Unit Weight (kN/m³):',\n",
    "    layout=widgets.Layout(width='50%'),\n",
    "    style={'description_width': 'initial'}\n",
    ")\n",
    "\n",
    "q_input = widgets.FloatSlider(\n",
    "    value=50,\n",
    "    min=0,\n",
    "    max=200,\n",
    "    step=1,\n",
    "    description='Overburden Pressure (kPa):',\n",
    "    layout=widgets.Layout(width='50%'),\n",
    "    style={'description_width': 'initial'}\n",
    ")\n",
    "\n",
    "B_input = widgets.FloatSlider(\n",
    "    value=2,\n",
    "    min=0.5,\n",
    "    max=10,\n",
    "    step=0.1,\n",
    "    description='Width of Foundation (m):',\n",
    "    layout=widgets.Layout(width='50%'),\n",
    "    style={'description_width': 'initial'}\n",
    ")\n",
    "\n",
    "L_input = widgets.FloatSlider(\n",
    "    value=2,\n",
    "    min=0.5,\n",
    "    max=10,\n",
    "    step=0.1,\n",
    "    description='Length of Foundation (m):',\n",
    "    layout=widgets.Layout(width='50%'),\n",
    "    style={'description_width': 'initial'}\n",
    ")\n",
    "\n",
    "Nq_input = widgets.FloatSlider(\n",
    "    value=20,\n",
    "    min=0,\n",
    "    max=100,\n",
    "    step=1,\n",
    "    description='Nq:',\n",
    "    layout=widgets.Layout(width='50%'),\n",
    "    style={'description_width': 'initial'}\n",
    ")\n",
    "\n",
    "Nc_input = widgets.FloatSlider(\n",
    "    value=30,\n",
    "    min=0,\n",
    "    max=100,\n",
    "    step=1,\n",
    "    description='Nc:',\n",
    "    layout=widgets.Layout(width='50%'),\n",
    "    style={'description_width': 'initial'}\n",
    ")\n",
    "\n",
    "Ngamma_input = widgets.FloatSlider(\n",
    "    value=10,\n",
    "    min=0,\n",
    "    max=100,\n",
    "    step=1,\n",
    "    description='Ngamma:',\n",
    "    layout=widgets.Layout(width='50%'),\n",
    "    style={'description_width': 'initial'}\n",
    ")\n",
    "\n",
    "output = widgets.Output()\n",
    "\n",
    "def update_plot(change=None):\n",
    "    with output:\n",
    "        try:\n",
    "            c = c_input.value\n",
    "            gamma = gamma_input.value\n",
    "            q = q_input.value\n",
    "            B = B_input.value\n",
    "            L = L_input.value\n",
    "            Nq = Nq_input.value\n",
    "            Nc = Nc_input.value\n",
    "            Ngamma = Ngamma_input.value\n",
    "            \n",
    "            # Calculate bearing capacities using different methods\n",
    "            terzaghi_q_ult = terzaghi_bearing_capacity(c, gamma, q, B, Nq, Nc, Ngamma)\n",
    "            meyerhof_q_ult = meyerhof_bearing_capacity(c, gamma, q, B, L, Nq, Nc, Ngamma)\n",
    "            hansen_q_ult = hansen_bearing_capacity(c, gamma, q, B, L, Nq, Nc, Ngamma)\n",
    "            \n",
    "            # Interpret results and guide users\n",
    "            interpretation = interpret_results(terzaghi_q_ult, meyerhof_q_ult, hansen_q_ult)\n",
    "            \n",
    "            # Display results and interpretation\n",
    "            output.clear_output()\n",
    "            display(Markdown(f\"### Bearing Capacity Results\"))\n",
    "            display(Markdown(f\"- **Terzaghi's Method:** {terzaghi_q_ult:.2f} kPa\"))\n",
    "            display(Markdown(f\"- **Meyerhof's Method:** {meyerhof_q_ult:.2f} kPa\"))\n",
    "            display(Markdown(f\"- **Hansen's Method:** {hansen_q_ult:.2f} kPa\"))\n",
    "            display(Markdown(f\"### Interpretation and Recommendations\"))\n",
    "            display(Markdown(interpretation))\n",
    "            \n",
    "        except Exception as e:\n",
    "            output.clear_output()\n",
    "            display(Markdown(f\"❌ **Error:** {e}\"))\n",
    "\n",
    "c_input.observe(update_plot, names='value')\n",
    "gamma_input.observe(update_plot, names='value')\n",
    "q_input.observe(update_plot, names='value')\n",
    "B_input.observe(update_plot, names='value')\n",
    "L_input.observe(update_plot, names='value')\n",
    "Nq_input.observe(update_plot, names='value')\n",
    "Nc_input.observe(update_plot, names='value')\n",
    "Ngamma_input.observe(update_plot, names='value')\n",
    "\n",
    "display(widgets.VBox([c_input, gamma_input, q_input, B_input, L_input, Nq_input, Nc_input, Ngamma_input]), output)\n",
    "update_plot()\n"
   ]
  },
  {
   "cell_type": "markdown",
   "id": "464e928b-e0dc-46d5-b181-5c197cde5e0e",
   "metadata": {},
   "source": [
    "## 3. Self-Assessment"
   ]
  },
  {
   "cell_type": "code",
   "execution_count": 2,
   "id": "c27f4fc2",
   "metadata": {},
   "outputs": [
    {
     "data": {
      "text/markdown": [
       "### Which of the following parameters is **not** included in Terzaghi’s original bearing capacity equation?"
      ],
      "text/plain": [
       "<IPython.core.display.Markdown object>"
      ]
     },
     "metadata": {},
     "output_type": "display_data"
    },
    {
     "data": {
      "application/vnd.jupyter.widget-view+json": {
       "model_id": "298254ea7aa2458398567c4ad8343e62",
       "version_major": 2,
       "version_minor": 0
      },
      "text/plain": [
       "RadioButtons(layout=Layout(width='max-content'), options=('Cohesion (c)', 'Overburden pressure (q)', 'Length o…"
      ]
     },
     "metadata": {},
     "output_type": "display_data"
    },
    {
     "data": {
      "application/vnd.jupyter.widget-view+json": {
       "model_id": "eb0cbe0ab1834c9b9ea88abe412e1fea",
       "version_major": 2,
       "version_minor": 0
      },
      "text/plain": [
       "Button(button_style='info', description='Check Answer', style=ButtonStyle())"
      ]
     },
     "metadata": {},
     "output_type": "display_data"
    },
    {
     "data": {
      "application/vnd.jupyter.widget-view+json": {
       "model_id": "cdcaf53b0bb54ac49f2502a0f3370c0f",
       "version_major": 2,
       "version_minor": 0
      },
      "text/plain": [
       "Output()"
      ]
     },
     "metadata": {},
     "output_type": "display_data"
    },
    {
     "data": {
      "text/markdown": [
       "### What additional factor does Meyerhof’s method introduce compared to Terzaghi’s?"
      ],
      "text/plain": [
       "<IPython.core.display.Markdown object>"
      ]
     },
     "metadata": {},
     "output_type": "display_data"
    },
    {
     "data": {
      "application/vnd.jupyter.widget-view+json": {
       "model_id": "d7d4bf728a3544d48106fec888c543a5",
       "version_major": 2,
       "version_minor": 0
      },
      "text/plain": [
       "RadioButtons(layout=Layout(width='max-content'), options=('Soil compressibility', 'Foundation shape and depth'…"
      ]
     },
     "metadata": {},
     "output_type": "display_data"
    },
    {
     "data": {
      "application/vnd.jupyter.widget-view+json": {
       "model_id": "c07674111ea34b91a98874e4c04e7750",
       "version_major": 2,
       "version_minor": 0
      },
      "text/plain": [
       "Button(button_style='info', description='Check Answer', style=ButtonStyle())"
      ]
     },
     "metadata": {},
     "output_type": "display_data"
    },
    {
     "data": {
      "application/vnd.jupyter.widget-view+json": {
       "model_id": "6cf3c3d7c3124673a002234f413a47a7",
       "version_major": 2,
       "version_minor": 0
      },
      "text/plain": [
       "Output()"
      ]
     },
     "metadata": {},
     "output_type": "display_data"
    },
    {
     "data": {
      "text/markdown": [
       "### Hansen’s method includes which of the following factors in the bearing capacity equation?"
      ],
      "text/plain": [
       "<IPython.core.display.Markdown object>"
      ]
     },
     "metadata": {},
     "output_type": "display_data"
    },
    {
     "data": {
      "application/vnd.jupyter.widget-view+json": {
       "model_id": "5031a978851f44bdac7666f6a63ff062",
       "version_major": 2,
       "version_minor": 0
      },
      "text/plain": [
       "RadioButtons(layout=Layout(width='max-content'), options=('Shape, depth, and inclination factors', 'Only shape…"
      ]
     },
     "metadata": {},
     "output_type": "display_data"
    },
    {
     "data": {
      "application/vnd.jupyter.widget-view+json": {
       "model_id": "d8809a3690eb43ccb00330f4a6176202",
       "version_major": 2,
       "version_minor": 0
      },
      "text/plain": [
       "Button(button_style='info', description='Check Answer', style=ButtonStyle())"
      ]
     },
     "metadata": {},
     "output_type": "display_data"
    },
    {
     "data": {
      "application/vnd.jupyter.widget-view+json": {
       "model_id": "1bf649e911b74ebaae6c747bfe963fc7",
       "version_major": 2,
       "version_minor": 0
      },
      "text/plain": [
       "Output()"
      ]
     },
     "metadata": {},
     "output_type": "display_data"
    },
    {
     "data": {
      "text/markdown": [
       "### According to the bearing capacity factor table, what is the value of Nq when the internal friction angle φ = 30°?"
      ],
      "text/plain": [
       "<IPython.core.display.Markdown object>"
      ]
     },
     "metadata": {},
     "output_type": "display_data"
    },
    {
     "data": {
      "application/vnd.jupyter.widget-view+json": {
       "model_id": "78a3141c62294453ad4c244f084a8403",
       "version_major": 2,
       "version_minor": 0
      },
      "text/plain": [
       "RadioButtons(layout=Layout(width='max-content'), options=('10.6', '18.4', '27.7', '7.4'), value='10.6')"
      ]
     },
     "metadata": {},
     "output_type": "display_data"
    },
    {
     "data": {
      "application/vnd.jupyter.widget-view+json": {
       "model_id": "42bb0adda3f847e2bce5d047c0924344",
       "version_major": 2,
       "version_minor": 0
      },
      "text/plain": [
       "Button(button_style='info', description='Check Answer', style=ButtonStyle())"
      ]
     },
     "metadata": {},
     "output_type": "display_data"
    },
    {
     "data": {
      "application/vnd.jupyter.widget-view+json": {
       "model_id": "b53099c4d0094ddcbc2c5fa35d3f01cc",
       "version_major": 2,
       "version_minor": 0
      },
      "text/plain": [
       "Output()"
      ]
     },
     "metadata": {},
     "output_type": "display_data"
    },
    {
     "data": {
      "text/markdown": [
       "### In the Python code, what does the function interpret_results() primarily do?"
      ],
      "text/plain": [
       "<IPython.core.display.Markdown object>"
      ]
     },
     "metadata": {},
     "output_type": "display_data"
    },
    {
     "data": {
      "application/vnd.jupyter.widget-view+json": {
       "model_id": "43947abdef6e4821be3202a3b2e501ed",
       "version_major": 2,
       "version_minor": 0
      },
      "text/plain": [
       "RadioButtons(layout=Layout(width='max-content'), options=('Calculates the average bearing capacity', 'Compares…"
      ]
     },
     "metadata": {},
     "output_type": "display_data"
    },
    {
     "data": {
      "application/vnd.jupyter.widget-view+json": {
       "model_id": "f4cba0e55fe94bc3ade7c3dccb5fdeb1",
       "version_major": 2,
       "version_minor": 0
      },
      "text/plain": [
       "Button(button_style='info', description='Check Answer', style=ButtonStyle())"
      ]
     },
     "metadata": {},
     "output_type": "display_data"
    },
    {
     "data": {
      "application/vnd.jupyter.widget-view+json": {
       "model_id": "ac27dbab6d1442ab9670c0f18db79ba9",
       "version_major": 2,
       "version_minor": 0
      },
      "text/plain": [
       "Output()"
      ]
     },
     "metadata": {},
     "output_type": "display_data"
    },
    {
     "data": {
      "text/markdown": [
       "### In the simplified Hansen’s method in the code, how is the shape factor sc calculated?"
      ],
      "text/plain": [
       "<IPython.core.display.Markdown object>"
      ]
     },
     "metadata": {},
     "output_type": "display_data"
    },
    {
     "data": {
      "application/vnd.jupyter.widget-view+json": {
       "model_id": "de051669c2f5471a9bfc88caff82e93d",
       "version_major": 2,
       "version_minor": 0
      },
      "text/plain": [
       "RadioButtons(layout=Layout(width='max-content'), options=('1 + 0.3 B/L', '1 - 0.4 B/L', '1 + 0.2 B/L', '1 + 0.…"
      ]
     },
     "metadata": {},
     "output_type": "display_data"
    },
    {
     "data": {
      "application/vnd.jupyter.widget-view+json": {
       "model_id": "87d135188be64806ac8618b23a8b1f76",
       "version_major": 2,
       "version_minor": 0
      },
      "text/plain": [
       "Button(button_style='info', description='Check Answer', style=ButtonStyle())"
      ]
     },
     "metadata": {},
     "output_type": "display_data"
    },
    {
     "data": {
      "application/vnd.jupyter.widget-view+json": {
       "model_id": "0627d26fc4384fe5b24449ed40cc0f17",
       "version_major": 2,
       "version_minor": 0
      },
      "text/plain": [
       "Output()"
      ]
     },
     "metadata": {},
     "output_type": "display_data"
    },
    {
     "data": {
      "text/markdown": [
       "### According to the interpretation logic, when is further investigation recommended?"
      ],
      "text/plain": [
       "<IPython.core.display.Markdown object>"
      ]
     },
     "metadata": {},
     "output_type": "display_data"
    },
    {
     "data": {
      "application/vnd.jupyter.widget-view+json": {
       "model_id": "3acaea84e35b4f1597f5ea855c82d27e",
       "version_major": 2,
       "version_minor": 0
      },
      "text/plain": [
       "RadioButtons(layout=Layout(width='max-content'), options=('When all methods give the same result', 'When max/m…"
      ]
     },
     "metadata": {},
     "output_type": "display_data"
    },
    {
     "data": {
      "application/vnd.jupyter.widget-view+json": {
       "model_id": "e88269802d354ae08848451290ca7b8e",
       "version_major": 2,
       "version_minor": 0
      },
      "text/plain": [
       "Button(button_style='info', description='Check Answer', style=ButtonStyle())"
      ]
     },
     "metadata": {},
     "output_type": "display_data"
    },
    {
     "data": {
      "application/vnd.jupyter.widget-view+json": {
       "model_id": "062e218d1c3e442eb6c81039d1b07a72",
       "version_major": 2,
       "version_minor": 0
      },
      "text/plain": [
       "Output()"
      ]
     },
     "metadata": {},
     "output_type": "display_data"
    },
    {
     "data": {
      "text/markdown": [
       "### What is the effect of increasing the foundation width B on the bearing capacity?"
      ],
      "text/plain": [
       "<IPython.core.display.Markdown object>"
      ]
     },
     "metadata": {},
     "output_type": "display_data"
    },
    {
     "data": {
      "application/vnd.jupyter.widget-view+json": {
       "model_id": "ccd34012c1e743a09c2509ba2ffde616",
       "version_major": 2,
       "version_minor": 0
      },
      "text/plain": [
       "RadioButtons(layout=Layout(width='max-content'), options=('It decreases the bearing capacity', 'It has no effe…"
      ]
     },
     "metadata": {},
     "output_type": "display_data"
    },
    {
     "data": {
      "application/vnd.jupyter.widget-view+json": {
       "model_id": "ca4f4b112bad49ecba223637b71e84ba",
       "version_major": 2,
       "version_minor": 0
      },
      "text/plain": [
       "Button(button_style='info', description='Check Answer', style=ButtonStyle())"
      ]
     },
     "metadata": {},
     "output_type": "display_data"
    },
    {
     "data": {
      "application/vnd.jupyter.widget-view+json": {
       "model_id": "8b93acfc66e148998424cdafd486bf32",
       "version_major": 2,
       "version_minor": 0
      },
      "text/plain": [
       "Output()"
      ]
     },
     "metadata": {},
     "output_type": "display_data"
    },
    {
     "data": {
      "text/markdown": [
       "### Which of the following is **not** an assumption of Terzaghi’s method?"
      ],
      "text/plain": [
       "<IPython.core.display.Markdown object>"
      ]
     },
     "metadata": {},
     "output_type": "display_data"
    },
    {
     "data": {
      "application/vnd.jupyter.widget-view+json": {
       "model_id": "87cb697f4b264b8ab7b3a80b3a731315",
       "version_major": 2,
       "version_minor": 0
      },
      "text/plain": [
       "RadioButtons(layout=Layout(width='max-content'), options=('Soil is homogeneous and isotropic', 'Load is applie…"
      ]
     },
     "metadata": {},
     "output_type": "display_data"
    },
    {
     "data": {
      "application/vnd.jupyter.widget-view+json": {
       "model_id": "ad7ffea147de463896018ef5f9db9c92",
       "version_major": 2,
       "version_minor": 0
      },
      "text/plain": [
       "Button(button_style='info', description='Check Answer', style=ButtonStyle())"
      ]
     },
     "metadata": {},
     "output_type": "display_data"
    },
    {
     "data": {
      "application/vnd.jupyter.widget-view+json": {
       "model_id": "a92aa2cb673f427eb259c7cdb58d2583",
       "version_major": 2,
       "version_minor": 0
      },
      "text/plain": [
       "Output()"
      ]
     },
     "metadata": {},
     "output_type": "display_data"
    },
    {
     "data": {
      "text/markdown": [
       "### Which method is most suitable for complex soil conditions and inclined loads?"
      ],
      "text/plain": [
       "<IPython.core.display.Markdown object>"
      ]
     },
     "metadata": {},
     "output_type": "display_data"
    },
    {
     "data": {
      "application/vnd.jupyter.widget-view+json": {
       "model_id": "84d44aad87574eb5bfd470b2de1aa44a",
       "version_major": 2,
       "version_minor": 0
      },
      "text/plain": [
       "RadioButtons(layout=Layout(width='max-content'), options=('Terzaghi’s Method', 'Meyerhof’s Method', 'Hansen’s …"
      ]
     },
     "metadata": {},
     "output_type": "display_data"
    },
    {
     "data": {
      "application/vnd.jupyter.widget-view+json": {
       "model_id": "0588170dcb874581991788d522741dd7",
       "version_major": 2,
       "version_minor": 0
      },
      "text/plain": [
       "Button(button_style='info', description='Check Answer', style=ButtonStyle())"
      ]
     },
     "metadata": {},
     "output_type": "display_data"
    },
    {
     "data": {
      "application/vnd.jupyter.widget-view+json": {
       "model_id": "eee7bd7bebbd4f58bc2b271903eef0f1",
       "version_major": 2,
       "version_minor": 0
      },
      "text/plain": [
       "Output()"
      ]
     },
     "metadata": {},
     "output_type": "display_data"
    }
   ],
   "source": [
    "import ipywidgets as widgets\n",
    "from IPython.display import display, Markdown, clear_output\n",
    "\n",
    "# Define quiz questions, options, and correct answers\n",
    "quiz_data = [\n",
    "    {\n",
    "        \"question\": \"Which of the following parameters is **not** included in Terzaghi’s original bearing capacity equation?\",\n",
    "        \"options\": [\"Cohesion (c)\", \"Overburden pressure (q)\", \"Length of foundation (L)\", \"Unit weight of soil (γ)\"],\n",
    "        \"answer\": \"Length of foundation (L)\"\n",
    "    },\n",
    "    {\n",
    "        \"question\": \"What additional factor does Meyerhof’s method introduce compared to Terzaghi’s?\",\n",
    "        \"options\": [\"Soil compressibility\", \"Foundation shape and depth\", \"Water table correction\", \"Soil anisotropy\"],\n",
    "        \"answer\": \"Foundation shape and depth\"\n",
    "    },\n",
    "    {\n",
    "        \"question\": \"Hansen’s method includes which of the following factors in the bearing capacity equation?\",\n",
    "        \"options\": [\"Shape, depth, and inclination factors\", \"Only shape and depth factors\", \"Only inclination factors\", \"None of the above\"],\n",
    "        \"answer\": \"Shape, depth, and inclination factors\"\n",
    "    },\n",
    "    {\n",
    "        \"question\": \"According to the bearing capacity factor table, what is the value of Nq when the internal friction angle φ = 30°?\",\n",
    "        \"options\": [\"10.6\", \"18.4\", \"27.7\", \"7.4\"],\n",
    "        \"answer\": \"18.4\"\n",
    "    },\n",
    "    {\n",
    "        \"question\": \"In the Python code, what does the function interpret_results() primarily do?\",\n",
    "        \"options\": [\"Calculates the average bearing capacity\", \"Compares results from different methods and provides recommendations\", \"Plots the bearing capacity values\", \"Adjusts the input parameters\"],\n",
    "        \"answer\": \"Compares results from different methods and provides recommendations\"\n",
    "    },\n",
    "    {\n",
    "        \"question\": \"In the simplified Hansen’s method in the code, how is the shape factor sc calculated?\",\n",
    "        \"options\": [\"1 + 0.3 B/L\", \"1 - 0.4 B/L\", \"1 + 0.2 B/L\", \"1 + 0.5 B/L\"],\n",
    "        \"answer\": \"1 + 0.2 B/L\"\n",
    "    },\n",
    "    {\n",
    "        \"question\": \"According to the interpretation logic, when is further investigation recommended?\",\n",
    "        \"options\": [\"When all methods give the same result\", \"When max/min > 1.5\", \"When max/min < 1.5\", \"When Terzaghi’s method is the lowest\"],\n",
    "        \"answer\": \"When max/min > 1.5\"\n",
    "    },\n",
    "    {\n",
    "        \"question\": \"What is the effect of increasing the foundation width B on the bearing capacity?\",\n",
    "        \"options\": [\"It decreases the bearing capacity\", \"It has no effect\", \"It increases the bearing capacity\", \"It only affects Hansen’s method\"],\n",
    "        \"answer\": \"It increases the bearing capacity\"\n",
    "    },\n",
    "    {\n",
    "        \"question\": \"Which of the following is **not** an assumption of Terzaghi’s method?\",\n",
    "        \"options\": [\"Soil is homogeneous and isotropic\", \"Load is applied eccentrically\", \"Foundation is shallow\", \"Load is vertical and central\"],\n",
    "        \"answer\": \"Load is applied eccentrically\"\n",
    "    },\n",
    "    {\n",
    "        \"question\": \"Which method is most suitable for complex soil conditions and inclined loads?\",\n",
    "        \"options\": [\"Terzaghi’s Method\", \"Meyerhof’s Method\", \"Hansen’s Method\", \"None of the above\"],\n",
    "        \"answer\": \"Hansen’s Method\"\n",
    "    }\n",
    "]\n",
    "\n",
    "# Function to create a widget for each quiz question\n",
    "def create_quiz_widget(question, options, correct_answer):\n",
    "    output = widgets.Output()\n",
    "    radio = widgets.RadioButtons(options=options, layout={'width': 'max-content'})\n",
    "    check_button = widgets.Button(description=\"Check Answer\", button_style='info')\n",
    "\n",
    "    def on_check_clicked(b):\n",
    "        with output:\n",
    "            clear_output()\n",
    "            if radio.value == correct_answer:\n",
    "                display(Markdown(\"✅ **Correct!**\"))\n",
    "            else:\n",
    "                display(Markdown(f\"❌ **Incorrect.** The correct answer is: **{correct_answer}**\"))\n",
    "\n",
    "    check_button.on_click(on_check_clicked)\n",
    "    display(Markdown(f\"### {question}\"))\n",
    "    display(radio, check_button, output)\n",
    "\n",
    "# Display all quiz widgets\n",
    "for q in quiz_data:\n",
    "    create_quiz_widget(q[\"question\"], q[\"options\"], q[\"answer\"])\n"
   ]
  },
  {
   "cell_type": "code",
   "execution_count": 3,
   "id": "52ab50e0",
   "metadata": {},
   "outputs": [
    {
     "data": {
      "text/markdown": [
       "### Reflective Question 1"
      ],
      "text/plain": [
       "<IPython.core.display.Markdown object>"
      ]
     },
     "metadata": {},
     "output_type": "display_data"
    },
    {
     "data": {
      "text/markdown": [
       "Why do different bearing capacity methods (Terzaghi, Meyerhof, Hansen) yield different results for the same soil and foundation conditions?"
      ],
      "text/plain": [
       "<IPython.core.display.Markdown object>"
      ]
     },
     "metadata": {},
     "output_type": "display_data"
    },
    {
     "data": {
      "application/vnd.jupyter.widget-view+json": {
       "model_id": "7f3715886b27432dbe1b05c3f508172e",
       "version_major": 2,
       "version_minor": 0
      },
      "text/plain": [
       "Textarea(value='', layout=Layout(height='100px', width='100%'), placeholder='Type your answer here...')"
      ]
     },
     "metadata": {},
     "output_type": "display_data"
    },
    {
     "data": {
      "text/markdown": [
       "### Reflective Question 2"
      ],
      "text/plain": [
       "<IPython.core.display.Markdown object>"
      ]
     },
     "metadata": {},
     "output_type": "display_data"
    },
    {
     "data": {
      "text/markdown": [
       "How would you decide which method to use in a real-world project?"
      ],
      "text/plain": [
       "<IPython.core.display.Markdown object>"
      ]
     },
     "metadata": {},
     "output_type": "display_data"
    },
    {
     "data": {
      "application/vnd.jupyter.widget-view+json": {
       "model_id": "beb31c7d104b4f0a820875c12cf721a7",
       "version_major": 2,
       "version_minor": 0
      },
      "text/plain": [
       "Textarea(value='', layout=Layout(height='100px', width='100%'), placeholder='Type your answer here...')"
      ]
     },
     "metadata": {},
     "output_type": "display_data"
    },
    {
     "data": {
      "text/markdown": [
       "### Reflective Question 3"
      ],
      "text/plain": [
       "<IPython.core.display.Markdown object>"
      ]
     },
     "metadata": {},
     "output_type": "display_data"
    },
    {
     "data": {
      "text/markdown": [
       "What are the potential consequences of overestimating vs. underestimating bearing capacity in foundation design?"
      ],
      "text/plain": [
       "<IPython.core.display.Markdown object>"
      ]
     },
     "metadata": {},
     "output_type": "display_data"
    },
    {
     "data": {
      "application/vnd.jupyter.widget-view+json": {
       "model_id": "be3bea1837e340a59d075e81ebd36bee",
       "version_major": 2,
       "version_minor": 0
      },
      "text/plain": [
       "Textarea(value='', layout=Layout(height='100px', width='100%'), placeholder='Type your answer here...')"
      ]
     },
     "metadata": {},
     "output_type": "display_data"
    },
    {
     "data": {
      "text/markdown": [
       "### Reflective Question 4"
      ],
      "text/plain": [
       "<IPython.core.display.Markdown object>"
      ]
     },
     "metadata": {},
     "output_type": "display_data"
    },
    {
     "data": {
      "text/markdown": [
       "How does the inclusion of shape, depth, and inclination factors in Hansen’s method improve the accuracy of bearing capacity predictions?"
      ],
      "text/plain": [
       "<IPython.core.display.Markdown object>"
      ]
     },
     "metadata": {},
     "output_type": "display_data"
    },
    {
     "data": {
      "application/vnd.jupyter.widget-view+json": {
       "model_id": "3a85f6674d534ac68ba886ec2391ccad",
       "version_major": 2,
       "version_minor": 0
      },
      "text/plain": [
       "Textarea(value='', layout=Layout(height='100px', width='100%'), placeholder='Type your answer here...')"
      ]
     },
     "metadata": {},
     "output_type": "display_data"
    },
    {
     "data": {
      "text/markdown": [
       "### Reflective Question 5"
      ],
      "text/plain": [
       "<IPython.core.display.Markdown object>"
      ]
     },
     "metadata": {},
     "output_type": "display_data"
    },
    {
     "data": {
      "text/markdown": [
       "How would you validate the soil parameters (e.g., cohesion, unit weight, friction angle) used in bearing capacity calculations?"
      ],
      "text/plain": [
       "<IPython.core.display.Markdown object>"
      ]
     },
     "metadata": {},
     "output_type": "display_data"
    },
    {
     "data": {
      "application/vnd.jupyter.widget-view+json": {
       "model_id": "c61acdbc25e2453fba7c532c35ebf29b",
       "version_major": 2,
       "version_minor": 0
      },
      "text/plain": [
       "Textarea(value='', layout=Layout(height='100px', width='100%'), placeholder='Type your answer here...')"
      ]
     },
     "metadata": {},
     "output_type": "display_data"
    },
    {
     "data": {
      "text/markdown": [
       "### Reflective Question 6"
      ],
      "text/plain": [
       "<IPython.core.display.Markdown object>"
      ]
     },
     "metadata": {},
     "output_type": "display_data"
    },
    {
     "data": {
      "text/markdown": [
       "Explain the physical meaning of each term in Terzaghi’s bearing capacity equation."
      ],
      "text/plain": [
       "<IPython.core.display.Markdown object>"
      ]
     },
     "metadata": {},
     "output_type": "display_data"
    },
    {
     "data": {
      "application/vnd.jupyter.widget-view+json": {
       "model_id": "5f40ab04bdce4ebbb92b9d3086478688",
       "version_major": 2,
       "version_minor": 0
      },
      "text/plain": [
       "Textarea(value='', layout=Layout(height='100px', width='100%'), placeholder='Type your answer here...')"
      ]
     },
     "metadata": {},
     "output_type": "display_data"
    },
    {
     "data": {
      "text/markdown": [
       "### Reflective Question 7"
      ],
      "text/plain": [
       "<IPython.core.display.Markdown object>"
      ]
     },
     "metadata": {},
     "output_type": "display_data"
    },
    {
     "data": {
      "text/markdown": [
       "What is the role of the bearing capacity factors Nc, Nq, and Nγ? How do they relate to the internal friction angle φ?"
      ],
      "text/plain": [
       "<IPython.core.display.Markdown object>"
      ]
     },
     "metadata": {},
     "output_type": "display_data"
    },
    {
     "data": {
      "application/vnd.jupyter.widget-view+json": {
       "model_id": "c8cf12b16664406fad27fc714336a3b9",
       "version_major": 2,
       "version_minor": 0
      },
      "text/plain": [
       "Textarea(value='', layout=Layout(height='100px', width='100%'), placeholder='Type your answer here...')"
      ]
     },
     "metadata": {},
     "output_type": "display_data"
    },
    {
     "data": {
      "text/markdown": [
       "### Reflective Question 8"
      ],
      "text/plain": [
       "<IPython.core.display.Markdown object>"
      ]
     },
     "metadata": {},
     "output_type": "display_data"
    },
    {
     "data": {
      "text/markdown": [
       "Why is the width of the foundation (B) included in the bearing capacity equations?"
      ],
      "text/plain": [
       "<IPython.core.display.Markdown object>"
      ]
     },
     "metadata": {},
     "output_type": "display_data"
    },
    {
     "data": {
      "application/vnd.jupyter.widget-view+json": {
       "model_id": "6e68a33394b844868194c454bd4f00c9",
       "version_major": 2,
       "version_minor": 0
      },
      "text/plain": [
       "Textarea(value='', layout=Layout(height='100px', width='100%'), placeholder='Type your answer here...')"
      ]
     },
     "metadata": {},
     "output_type": "display_data"
    },
    {
     "data": {
      "text/markdown": [
       "### Reflective Question 9"
      ],
      "text/plain": [
       "<IPython.core.display.Markdown object>"
      ]
     },
     "metadata": {},
     "output_type": "display_data"
    },
    {
     "data": {
      "text/markdown": [
       "Compare the assumptions made in Terzaghi’s method with those in Meyerhof’s and Hansen’s."
      ],
      "text/plain": [
       "<IPython.core.display.Markdown object>"
      ]
     },
     "metadata": {},
     "output_type": "display_data"
    },
    {
     "data": {
      "application/vnd.jupyter.widget-view+json": {
       "model_id": "fe1a32d3421f49ddaf4e3b534aefd330",
       "version_major": 2,
       "version_minor": 0
      },
      "text/plain": [
       "Textarea(value='', layout=Layout(height='100px', width='100%'), placeholder='Type your answer here...')"
      ]
     },
     "metadata": {},
     "output_type": "display_data"
    },
    {
     "data": {
      "text/markdown": [
       "### Reflective Question 10"
      ],
      "text/plain": [
       "<IPython.core.display.Markdown object>"
      ]
     },
     "metadata": {},
     "output_type": "display_data"
    },
    {
     "data": {
      "text/markdown": [
       "How would the presence of groundwater near the foundation level affect bearing capacity?"
      ],
      "text/plain": [
       "<IPython.core.display.Markdown object>"
      ]
     },
     "metadata": {},
     "output_type": "display_data"
    },
    {
     "data": {
      "application/vnd.jupyter.widget-view+json": {
       "model_id": "95e4b30e4c6e4fbc95fb3f4da7576fbe",
       "version_major": 2,
       "version_minor": 0
      },
      "text/plain": [
       "Textarea(value='', layout=Layout(height='100px', width='100%'), placeholder='Type your answer here...')"
      ]
     },
     "metadata": {},
     "output_type": "display_data"
    }
   ],
   "source": [
    "import ipywidgets as widgets\n",
    "from IPython.display import display, Markdown\n",
    "\n",
    "# Define reflective and conceptual questions\n",
    "questions = [\n",
    "    \"Why do different bearing capacity methods (Terzaghi, Meyerhof, Hansen) yield different results for the same soil and foundation conditions?\",\n",
    "    \"How would you decide which method to use in a real-world project?\",\n",
    "    \"What are the potential consequences of overestimating vs. underestimating bearing capacity in foundation design?\",\n",
    "    \"How does the inclusion of shape, depth, and inclination factors in Hansen’s method improve the accuracy of bearing capacity predictions?\",\n",
    "    \"How would you validate the soil parameters (e.g., cohesion, unit weight, friction angle) used in bearing capacity calculations?\",\n",
    "    \"Explain the physical meaning of each term in Terzaghi’s bearing capacity equation.\",\n",
    "    \"What is the role of the bearing capacity factors Nc, Nq, and Nγ? How do they relate to the internal friction angle φ?\",\n",
    "    \"Why is the width of the foundation (B) included in the bearing capacity equations?\",\n",
    "    \"Compare the assumptions made in Terzaghi’s method with those in Meyerhof’s and Hansen’s.\",\n",
    "    \"How would the presence of groundwater near the foundation level affect bearing capacity?\"\n",
    "]\n",
    "\n",
    "# Display each question with a text area for user input\n",
    "for i, q in enumerate(questions, 1):\n",
    "    display(Markdown(f\"### Reflective Question {i}\"))\n",
    "    display(Markdown(q))\n",
    "    display(widgets.Textarea(\n",
    "        placeholder='Type your answer here...',\n",
    "        layout=widgets.Layout(width='100%', height='100px')\n",
    "    ))\n"
   ]
  },
  {
   "cell_type": "code",
   "execution_count": null,
   "id": "07fecb6a",
   "metadata": {},
   "outputs": [],
   "source": []
  }
 ],
 "metadata": {
  "kernelspec": {
   "display_name": "Python [conda env:base] *",
   "language": "python",
   "name": "conda-base-py"
  },
  "language_info": {
   "codemirror_mode": {
    "name": "ipython",
    "version": 3
   },
   "file_extension": ".py",
   "mimetype": "text/x-python",
   "name": "python",
   "nbconvert_exporter": "python",
   "pygments_lexer": "ipython3",
   "version": "3.12.7"
  },
  "widgets": {
   "application/vnd.jupyter.widget-state+json": {
    "state": {
     "0016d0f649304d09ba619d4423611eea": {
      "model_module": "@jupyter-widgets/base",
      "model_module_version": "2.0.0",
      "model_name": "LayoutModel",
      "state": {}
     },
     "0394c2933f1d46fd8f90bae55fc7f7fd": {
      "model_module": "@jupyter-widgets/controls",
      "model_module_version": "2.0.0",
      "model_name": "DescriptionStyleModel",
      "state": {
       "description_width": ""
      }
     },
     "0588170dcb874581991788d522741dd7": {
      "model_module": "@jupyter-widgets/controls",
      "model_module_version": "2.0.0",
      "model_name": "ButtonModel",
      "state": {
       "button_style": "info",
       "description": "Check Answer",
       "layout": "IPY_MODEL_75d68b7c8ac341de97143b8794e867b2",
       "style": "IPY_MODEL_ea48ea2d20904e22b677519e05b0349a",
       "tooltip": null
      }
     },
     "0627d26fc4384fe5b24449ed40cc0f17": {
      "model_module": "@jupyter-widgets/output",
      "model_module_version": "1.0.0",
      "model_name": "OutputModel",
      "state": {
       "layout": "IPY_MODEL_5b0b4832561f4c688135f2422075e6ba"
      }
     },
     "062e218d1c3e442eb6c81039d1b07a72": {
      "model_module": "@jupyter-widgets/output",
      "model_module_version": "1.0.0",
      "model_name": "OutputModel",
      "state": {
       "layout": "IPY_MODEL_077c19336b1b42e189942a93c66edaa5"
      }
     },
     "077c19336b1b42e189942a93c66edaa5": {
      "model_module": "@jupyter-widgets/base",
      "model_module_version": "2.0.0",
      "model_name": "LayoutModel",
      "state": {}
     },
     "07c490b2317c4a29abfa98c8c732b93b": {
      "model_module": "@jupyter-widgets/controls",
      "model_module_version": "2.0.0",
      "model_name": "ButtonStyleModel",
      "state": {
       "font_family": null,
       "font_size": null,
       "font_style": null,
       "font_variant": null,
       "font_weight": null,
       "text_color": null,
       "text_decoration": null
      }
     },
     "07ec9f22b88c4afcabeef6fefe97ce5a": {
      "model_module": "@jupyter-widgets/controls",
      "model_module_version": "2.0.0",
      "model_name": "DescriptionStyleModel",
      "state": {
       "description_width": ""
      }
     },
     "0833f7ac53c44b9fbec3881103d3e81c": {
      "model_module": "@jupyter-widgets/base",
      "model_module_version": "2.0.0",
      "model_name": "LayoutModel",
      "state": {
       "height": "100px",
       "width": "100%"
      }
     },
     "08cb7089bb264d3fa4c5b8b4ec636e6d": {
      "model_module": "@jupyter-widgets/controls",
      "model_module_version": "2.0.0",
      "model_name": "TextStyleModel",
      "state": {
       "description_width": "",
       "font_size": null,
       "text_color": null
      }
     },
     "10e5b420be8544a6a98ed38317b1d92b": {
      "model_module": "@jupyter-widgets/base",
      "model_module_version": "2.0.0",
      "model_name": "LayoutModel",
      "state": {
       "width": "50%"
      }
     },
     "11dc3cc67de844a7ad77ed5c6d7ff38d": {
      "model_module": "@jupyter-widgets/base",
      "model_module_version": "2.0.0",
      "model_name": "LayoutModel",
      "state": {}
     },
     "1240ceacff644a7aa58d4d3271ec2e7a": {
      "model_module": "@jupyter-widgets/controls",
      "model_module_version": "2.0.0",
      "model_name": "DescriptionStyleModel",
      "state": {
       "description_width": ""
      }
     },
     "14165c2bde0a49f0a0a2049dc4ece004": {
      "model_module": "@jupyter-widgets/base",
      "model_module_version": "2.0.0",
      "model_name": "LayoutModel",
      "state": {
       "width": "max-content"
      }
     },
     "154e92a8f34b418faf9b4cf190d59af2": {
      "model_module": "@jupyter-widgets/base",
      "model_module_version": "2.0.0",
      "model_name": "LayoutModel",
      "state": {
       "width": "50%"
      }
     },
     "18d57b6bc0504f26b9e6148193525d40": {
      "model_module": "@jupyter-widgets/base",
      "model_module_version": "2.0.0",
      "model_name": "LayoutModel",
      "state": {}
     },
     "19fd7a3c2e5c4bc6842b55cba4adf03d": {
      "model_module": "@jupyter-widgets/controls",
      "model_module_version": "2.0.0",
      "model_name": "ButtonStyleModel",
      "state": {
       "font_family": null,
       "font_size": null,
       "font_style": null,
       "font_variant": null,
       "font_weight": null,
       "text_color": null,
       "text_decoration": null
      }
     },
     "1bf649e911b74ebaae6c747bfe963fc7": {
      "model_module": "@jupyter-widgets/output",
      "model_module_version": "1.0.0",
      "model_name": "OutputModel",
      "state": {
       "layout": "IPY_MODEL_18d57b6bc0504f26b9e6148193525d40"
      }
     },
     "23aa3258426a41708ef3ef1a457b9422": {
      "model_module": "@jupyter-widgets/base",
      "model_module_version": "2.0.0",
      "model_name": "LayoutModel",
      "state": {
       "width": "50%"
      }
     },
     "250ff77c526941f9b469cc3e605e27cc": {
      "model_module": "@jupyter-widgets/controls",
      "model_module_version": "2.0.0",
      "model_name": "TextStyleModel",
      "state": {
       "description_width": "",
       "font_size": null,
       "text_color": null
      }
     },
     "27d7b79a707c4737aef74494a0ed3f9c": {
      "model_module": "@jupyter-widgets/base",
      "model_module_version": "2.0.0",
      "model_name": "LayoutModel",
      "state": {
       "height": "100px",
       "width": "100%"
      }
     },
     "2940bbdbdc9646a0ad5d992354bedad8": {
      "model_module": "@jupyter-widgets/base",
      "model_module_version": "2.0.0",
      "model_name": "LayoutModel",
      "state": {
       "height": "100px",
       "width": "100%"
      }
     },
     "298254ea7aa2458398567c4ad8343e62": {
      "model_module": "@jupyter-widgets/controls",
      "model_module_version": "2.0.0",
      "model_name": "RadioButtonsModel",
      "state": {
       "_options_labels": [
        "Cohesion (c)",
        "Overburden pressure (q)",
        "Length of foundation (L)",
        "Unit weight of soil (γ)"
       ],
       "index": 0,
       "layout": "IPY_MODEL_881e745b8c694173acf050233085d181",
       "style": "IPY_MODEL_1240ceacff644a7aa58d4d3271ec2e7a"
      }
     },
     "34942efb87944c349d17ee35b49433a9": {
      "model_module": "@jupyter-widgets/controls",
      "model_module_version": "2.0.0",
      "model_name": "DescriptionStyleModel",
      "state": {
       "description_width": ""
      }
     },
     "35e6724603ae41a99fbbe08a03250d2c": {
      "model_module": "@jupyter-widgets/base",
      "model_module_version": "2.0.0",
      "model_name": "LayoutModel",
      "state": {}
     },
     "36e94441ba4e4753b049df69a34e73f2": {
      "model_module": "@jupyter-widgets/controls",
      "model_module_version": "2.0.0",
      "model_name": "TextStyleModel",
      "state": {
       "description_width": "",
       "font_size": null,
       "text_color": null
      }
     },
     "38da30ca58764dffbc73a1b2c6ee5a9c": {
      "model_module": "@jupyter-widgets/output",
      "model_module_version": "1.0.0",
      "model_name": "OutputModel",
      "state": {
       "layout": "IPY_MODEL_af00cf806abb46928bdc390846281388",
       "outputs": [
        {
         "data": {
          "text/markdown": "### Bearing Capacity Results",
          "text/plain": "<IPython.core.display.Markdown object>"
         },
         "metadata": {},
         "output_type": "display_data"
        },
        {
         "data": {
          "text/markdown": "- **Terzaghi's Method:** 1930.00 kPa",
          "text/plain": "<IPython.core.display.Markdown object>"
         },
         "metadata": {},
         "output_type": "display_data"
        },
        {
         "data": {
          "text/markdown": "- **Meyerhof's Method:** 1984.00 kPa",
          "text/plain": "<IPython.core.display.Markdown object>"
         },
         "metadata": {},
         "output_type": "display_data"
        },
        {
         "data": {
          "text/markdown": "- **Hansen's Method:** 2208.00 kPa",
          "text/plain": "<IPython.core.display.Markdown object>"
         },
         "metadata": {},
         "output_type": "display_data"
        },
        {
         "data": {
          "text/markdown": "### Interpretation and Recommendations",
          "text/plain": "<IPython.core.display.Markdown object>"
         },
         "metadata": {},
         "output_type": "display_data"
        },
        {
         "data": {
          "text/markdown": "Hansen's method provides the highest bearing capacity.\nTerzaghi's method provides the lowest bearing capacity.\n\n### Recommendations:\n- The methods provide similar results. You can choose any method based on convenience and familiarity.\n",
          "text/plain": "<IPython.core.display.Markdown object>"
         },
         "metadata": {},
         "output_type": "display_data"
        }
       ]
      }
     },
     "397ac7bcbb694fd0a924de6c8f2d9913": {
      "model_module": "@jupyter-widgets/base",
      "model_module_version": "2.0.0",
      "model_name": "LayoutModel",
      "state": {
       "width": "50%"
      }
     },
     "3a85f6674d534ac68ba886ec2391ccad": {
      "model_module": "@jupyter-widgets/controls",
      "model_module_version": "2.0.0",
      "model_name": "TextareaModel",
      "state": {
       "layout": "IPY_MODEL_7d8fe7e402b544a88e3bd8c909e7e5d5",
       "placeholder": "Type your answer here...",
       "style": "IPY_MODEL_4e2ebe7a1f164664a6d8be44aa8d6cc0"
      }
     },
     "3acaea84e35b4f1597f5ea855c82d27e": {
      "model_module": "@jupyter-widgets/controls",
      "model_module_version": "2.0.0",
      "model_name": "RadioButtonsModel",
      "state": {
       "_options_labels": [
        "When all methods give the same result",
        "When max/min > 1.5",
        "When max/min < 1.5",
        "When Terzaghi’s method is the lowest"
       ],
       "index": 0,
       "layout": "IPY_MODEL_ece0f6a7d02a47678e40b67c050da7b2",
       "style": "IPY_MODEL_f8efb134776d475ca8e93ae9f10744de"
      }
     },
     "3c75fc088b134cb99a2c102dde6285bf": {
      "model_module": "@jupyter-widgets/controls",
      "model_module_version": "2.0.0",
      "model_name": "FloatSliderModel",
      "state": {
       "behavior": "drag-tap",
       "description": "Width of Foundation (m):",
       "layout": "IPY_MODEL_ae3417c9054544c2adefe60194f97bfe",
       "max": 10,
       "min": 0.5,
       "step": 0.1,
       "style": "IPY_MODEL_469333da8e2344eb90abe4cd152914dc",
       "value": 2
      }
     },
     "3d1de60623a4443f972f3dd7b9ea5974": {
      "model_module": "@jupyter-widgets/controls",
      "model_module_version": "2.0.0",
      "model_name": "ButtonStyleModel",
      "state": {
       "font_family": null,
       "font_size": null,
       "font_style": null,
       "font_variant": null,
       "font_weight": null,
       "text_color": null,
       "text_decoration": null
      }
     },
     "400eab0bd6914650bdb9b0f9ad7e9d09": {
      "model_module": "@jupyter-widgets/base",
      "model_module_version": "2.0.0",
      "model_name": "LayoutModel",
      "state": {}
     },
     "40fccb7d74474149ab81424275985709": {
      "model_module": "@jupyter-widgets/base",
      "model_module_version": "2.0.0",
      "model_name": "LayoutModel",
      "state": {
       "height": "100px",
       "width": "100%"
      }
     },
     "42bb0adda3f847e2bce5d047c0924344": {
      "model_module": "@jupyter-widgets/controls",
      "model_module_version": "2.0.0",
      "model_name": "ButtonModel",
      "state": {
       "button_style": "info",
       "description": "Check Answer",
       "layout": "IPY_MODEL_0016d0f649304d09ba619d4423611eea",
       "style": "IPY_MODEL_3d1de60623a4443f972f3dd7b9ea5974",
       "tooltip": null
      }
     },
     "43947abdef6e4821be3202a3b2e501ed": {
      "model_module": "@jupyter-widgets/controls",
      "model_module_version": "2.0.0",
      "model_name": "RadioButtonsModel",
      "state": {
       "_options_labels": [
        "Calculates the average bearing capacity",
        "Compares results from different methods and provides recommendations",
        "Plots the bearing capacity values",
        "Adjusts the input parameters"
       ],
       "index": 0,
       "layout": "IPY_MODEL_d000b3a5a3e2484ab239714e4861abf5",
       "style": "IPY_MODEL_5db922c2680e46c58bde8f1dccf9ae61"
      }
     },
     "469333da8e2344eb90abe4cd152914dc": {
      "model_module": "@jupyter-widgets/controls",
      "model_module_version": "2.0.0",
      "model_name": "SliderStyleModel",
      "state": {
       "description_width": "initial"
      }
     },
     "480c6ba353e3454194bd1ebed3a29846": {
      "model_module": "@jupyter-widgets/controls",
      "model_module_version": "2.0.0",
      "model_name": "TextStyleModel",
      "state": {
       "description_width": "",
       "font_size": null,
       "text_color": null
      }
     },
     "4a5704a7d6e74dc7a2600e176cd69511": {
      "model_module": "@jupyter-widgets/base",
      "model_module_version": "2.0.0",
      "model_name": "LayoutModel",
      "state": {}
     },
     "4e05b1a5fd5940b4bb04eb86f0890076": {
      "model_module": "@jupyter-widgets/base",
      "model_module_version": "2.0.0",
      "model_name": "LayoutModel",
      "state": {}
     },
     "4e2ebe7a1f164664a6d8be44aa8d6cc0": {
      "model_module": "@jupyter-widgets/controls",
      "model_module_version": "2.0.0",
      "model_name": "TextStyleModel",
      "state": {
       "description_width": "",
       "font_size": null,
       "text_color": null
      }
     },
     "4e624c94259543e784fa1bd7d37b11d7": {
      "model_module": "@jupyter-widgets/base",
      "model_module_version": "2.0.0",
      "model_name": "LayoutModel",
      "state": {
       "height": "100px",
       "width": "100%"
      }
     },
     "50075872c12c4325ab5afba07ed651c0": {
      "model_module": "@jupyter-widgets/controls",
      "model_module_version": "2.0.0",
      "model_name": "FloatSliderModel",
      "state": {
       "behavior": "drag-tap",
       "description": "Nc:",
       "layout": "IPY_MODEL_154e92a8f34b418faf9b4cf190d59af2",
       "style": "IPY_MODEL_874f145cf43446068dc7445c8b2d16bd",
       "value": 30
      }
     },
     "5031a978851f44bdac7666f6a63ff062": {
      "model_module": "@jupyter-widgets/controls",
      "model_module_version": "2.0.0",
      "model_name": "RadioButtonsModel",
      "state": {
       "_options_labels": [
        "Shape, depth, and inclination factors",
        "Only shape and depth factors",
        "Only inclination factors",
        "None of the above"
       ],
       "index": 0,
       "layout": "IPY_MODEL_f0a629d6b7e041179c842a1edf64893b",
       "style": "IPY_MODEL_b4097b125c544c1584e8ddbe7a02bc17"
      }
     },
     "5127d23c41084c5bb9346cb030e26dab": {
      "model_module": "@jupyter-widgets/controls",
      "model_module_version": "2.0.0",
      "model_name": "TextStyleModel",
      "state": {
       "description_width": "",
       "font_size": null,
       "text_color": null
      }
     },
     "5175d50b0b854a95807897947dd50621": {
      "model_module": "@jupyter-widgets/controls",
      "model_module_version": "2.0.0",
      "model_name": "DescriptionStyleModel",
      "state": {
       "description_width": ""
      }
     },
     "530444357da44ffcae221bc04c27e374": {
      "model_module": "@jupyter-widgets/base",
      "model_module_version": "2.0.0",
      "model_name": "LayoutModel",
      "state": {}
     },
     "560ecfd2fe2a4720afd472a27ec325ff": {
      "model_module": "@jupyter-widgets/base",
      "model_module_version": "2.0.0",
      "model_name": "LayoutModel",
      "state": {
       "width": "50%"
      }
     },
     "56f1c25f2eff4f1c8fed75faba7cb267": {
      "model_module": "@jupyter-widgets/controls",
      "model_module_version": "2.0.0",
      "model_name": "VBoxModel",
      "state": {
       "children": [
        "IPY_MODEL_b31e81ebd11747b4a1c5276267597f2c",
        "IPY_MODEL_b1d5d27345964d67b4c26999bc537d6b",
        "IPY_MODEL_da8dbd5ed90647f298de85fb3fd6c49b",
        "IPY_MODEL_3c75fc088b134cb99a2c102dde6285bf",
        "IPY_MODEL_85ea67eab06d44f986dba87cfa2bec85",
        "IPY_MODEL_a1aa59981e824e8ab6d79692648b864f",
        "IPY_MODEL_50075872c12c4325ab5afba07ed651c0",
        "IPY_MODEL_78bde36e8ced4fc8b19fb9b94bebe453"
       ],
       "layout": "IPY_MODEL_71626b06485448ef946c394c24069122"
      }
     },
     "5b0b4832561f4c688135f2422075e6ba": {
      "model_module": "@jupyter-widgets/base",
      "model_module_version": "2.0.0",
      "model_name": "LayoutModel",
      "state": {}
     },
     "5b8fc2a2a2f34eb284cd405c213ff924": {
      "model_module": "@jupyter-widgets/base",
      "model_module_version": "2.0.0",
      "model_name": "LayoutModel",
      "state": {
       "height": "100px",
       "width": "100%"
      }
     },
     "5db922c2680e46c58bde8f1dccf9ae61": {
      "model_module": "@jupyter-widgets/controls",
      "model_module_version": "2.0.0",
      "model_name": "DescriptionStyleModel",
      "state": {
       "description_width": ""
      }
     },
     "5dcf1a82a03943b4970f35dc0169446c": {
      "model_module": "@jupyter-widgets/controls",
      "model_module_version": "2.0.0",
      "model_name": "TextStyleModel",
      "state": {
       "description_width": "",
       "font_size": null,
       "text_color": null
      }
     },
     "5f40ab04bdce4ebbb92b9d3086478688": {
      "model_module": "@jupyter-widgets/controls",
      "model_module_version": "2.0.0",
      "model_name": "TextareaModel",
      "state": {
       "layout": "IPY_MODEL_4e624c94259543e784fa1bd7d37b11d7",
       "placeholder": "Type your answer here...",
       "style": "IPY_MODEL_d6ef91eea80e46c78ba2bafef79e38d7"
      }
     },
     "61e5f892940c40888aa62be369c19d84": {
      "model_module": "@jupyter-widgets/base",
      "model_module_version": "2.0.0",
      "model_name": "LayoutModel",
      "state": {
       "height": "100px",
       "width": "100%"
      }
     },
     "6847793012214bb19077697f2a19f423": {
      "model_module": "@jupyter-widgets/base",
      "model_module_version": "2.0.0",
      "model_name": "LayoutModel",
      "state": {}
     },
     "68e40d00624f41cab61599e0ba602ce4": {
      "model_module": "@jupyter-widgets/controls",
      "model_module_version": "2.0.0",
      "model_name": "DescriptionStyleModel",
      "state": {
       "description_width": ""
      }
     },
     "69bf2d575ea14b6b9e99ec4a13b32484": {
      "model_module": "@jupyter-widgets/controls",
      "model_module_version": "2.0.0",
      "model_name": "ButtonStyleModel",
      "state": {
       "font_family": null,
       "font_size": null,
       "font_style": null,
       "font_variant": null,
       "font_weight": null,
       "text_color": null,
       "text_decoration": null
      }
     },
     "6b0e247069d9465a9ea1de66afcfce23": {
      "model_module": "@jupyter-widgets/controls",
      "model_module_version": "2.0.0",
      "model_name": "SliderStyleModel",
      "state": {
       "description_width": "initial"
      }
     },
     "6cf3c3d7c3124673a002234f413a47a7": {
      "model_module": "@jupyter-widgets/output",
      "model_module_version": "1.0.0",
      "model_name": "OutputModel",
      "state": {
       "layout": "IPY_MODEL_ec64676e8c174cafa531146d8d2a5a53"
      }
     },
     "6e68a33394b844868194c454bd4f00c9": {
      "model_module": "@jupyter-widgets/controls",
      "model_module_version": "2.0.0",
      "model_name": "TextareaModel",
      "state": {
       "layout": "IPY_MODEL_2940bbdbdc9646a0ad5d992354bedad8",
       "placeholder": "Type your answer here...",
       "style": "IPY_MODEL_36e94441ba4e4753b049df69a34e73f2"
      }
     },
     "70c2651b522943e392af7fcb738fe3ad": {
      "model_module": "@jupyter-widgets/base",
      "model_module_version": "2.0.0",
      "model_name": "LayoutModel",
      "state": {
       "width": "50%"
      }
     },
     "71626b06485448ef946c394c24069122": {
      "model_module": "@jupyter-widgets/base",
      "model_module_version": "2.0.0",
      "model_name": "LayoutModel",
      "state": {}
     },
     "75d68b7c8ac341de97143b8794e867b2": {
      "model_module": "@jupyter-widgets/base",
      "model_module_version": "2.0.0",
      "model_name": "LayoutModel",
      "state": {}
     },
     "78a3141c62294453ad4c244f084a8403": {
      "model_module": "@jupyter-widgets/controls",
      "model_module_version": "2.0.0",
      "model_name": "RadioButtonsModel",
      "state": {
       "_options_labels": [
        "10.6",
        "18.4",
        "27.7",
        "7.4"
       ],
       "index": 0,
       "layout": "IPY_MODEL_14165c2bde0a49f0a0a2049dc4ece004",
       "style": "IPY_MODEL_68e40d00624f41cab61599e0ba602ce4"
      }
     },
     "78bde36e8ced4fc8b19fb9b94bebe453": {
      "model_module": "@jupyter-widgets/controls",
      "model_module_version": "2.0.0",
      "model_name": "FloatSliderModel",
      "state": {
       "behavior": "drag-tap",
       "description": "Ngamma:",
       "layout": "IPY_MODEL_397ac7bcbb694fd0a924de6c8f2d9913",
       "style": "IPY_MODEL_f91e79c784f9436f8debec5cb0684bf9",
       "value": 10
      }
     },
     "7905643a1fb24801accd43649ac8b69b": {
      "model_module": "@jupyter-widgets/controls",
      "model_module_version": "2.0.0",
      "model_name": "SliderStyleModel",
      "state": {
       "description_width": "initial"
      }
     },
     "791b3e5ba8a44a0db679ebc1074ef6e8": {
      "model_module": "@jupyter-widgets/base",
      "model_module_version": "2.0.0",
      "model_name": "LayoutModel",
      "state": {
       "width": "max-content"
      }
     },
     "7c0367fce8e64a0489437b2d86ba56bb": {
      "model_module": "@jupyter-widgets/controls",
      "model_module_version": "2.0.0",
      "model_name": "ButtonStyleModel",
      "state": {
       "font_family": null,
       "font_size": null,
       "font_style": null,
       "font_variant": null,
       "font_weight": null,
       "text_color": null,
       "text_decoration": null
      }
     },
     "7d8fe7e402b544a88e3bd8c909e7e5d5": {
      "model_module": "@jupyter-widgets/base",
      "model_module_version": "2.0.0",
      "model_name": "LayoutModel",
      "state": {
       "height": "100px",
       "width": "100%"
      }
     },
     "7f3715886b27432dbe1b05c3f508172e": {
      "model_module": "@jupyter-widgets/controls",
      "model_module_version": "2.0.0",
      "model_name": "TextareaModel",
      "state": {
       "layout": "IPY_MODEL_0833f7ac53c44b9fbec3881103d3e81c",
       "placeholder": "Type your answer here...",
       "style": "IPY_MODEL_5dcf1a82a03943b4970f35dc0169446c"
      }
     },
     "84d44aad87574eb5bfd470b2de1aa44a": {
      "model_module": "@jupyter-widgets/controls",
      "model_module_version": "2.0.0",
      "model_name": "RadioButtonsModel",
      "state": {
       "_options_labels": [
        "Terzaghi’s Method",
        "Meyerhof’s Method",
        "Hansen’s Method",
        "None of the above"
       ],
       "index": 0,
       "layout": "IPY_MODEL_8fc9daec7e7e4ac8be4e1617dc0fb4f9",
       "style": "IPY_MODEL_5175d50b0b854a95807897947dd50621"
      }
     },
     "85ea67eab06d44f986dba87cfa2bec85": {
      "model_module": "@jupyter-widgets/controls",
      "model_module_version": "2.0.0",
      "model_name": "FloatSliderModel",
      "state": {
       "behavior": "drag-tap",
       "description": "Length of Foundation (m):",
       "layout": "IPY_MODEL_560ecfd2fe2a4720afd472a27ec325ff",
       "max": 10,
       "min": 0.5,
       "step": 0.1,
       "style": "IPY_MODEL_cb95efc2a67f4e9d84df8c7dff2e3167",
       "value": 2
      }
     },
     "874f145cf43446068dc7445c8b2d16bd": {
      "model_module": "@jupyter-widgets/controls",
      "model_module_version": "2.0.0",
      "model_name": "SliderStyleModel",
      "state": {
       "description_width": "initial"
      }
     },
     "87cb697f4b264b8ab7b3a80b3a731315": {
      "model_module": "@jupyter-widgets/controls",
      "model_module_version": "2.0.0",
      "model_name": "RadioButtonsModel",
      "state": {
       "_options_labels": [
        "Soil is homogeneous and isotropic",
        "Load is applied eccentrically",
        "Foundation is shallow",
        "Load is vertical and central"
       ],
       "index": 0,
       "layout": "IPY_MODEL_f00f8fca212e4630b2da0db2edf27eb3",
       "style": "IPY_MODEL_34942efb87944c349d17ee35b49433a9"
      }
     },
     "87d135188be64806ac8618b23a8b1f76": {
      "model_module": "@jupyter-widgets/controls",
      "model_module_version": "2.0.0",
      "model_name": "ButtonModel",
      "state": {
       "button_style": "info",
       "description": "Check Answer",
       "layout": "IPY_MODEL_bb7397e1aadc4fccb0d104c745e7dd3b",
       "style": "IPY_MODEL_69bf2d575ea14b6b9e99ec4a13b32484",
       "tooltip": null
      }
     },
     "881e745b8c694173acf050233085d181": {
      "model_module": "@jupyter-widgets/base",
      "model_module_version": "2.0.0",
      "model_name": "LayoutModel",
      "state": {
       "width": "max-content"
      }
     },
     "8b93acfc66e148998424cdafd486bf32": {
      "model_module": "@jupyter-widgets/output",
      "model_module_version": "1.0.0",
      "model_name": "OutputModel",
      "state": {
       "layout": "IPY_MODEL_400eab0bd6914650bdb9b0f9ad7e9d09"
      }
     },
     "8fc9daec7e7e4ac8be4e1617dc0fb4f9": {
      "model_module": "@jupyter-widgets/base",
      "model_module_version": "2.0.0",
      "model_name": "LayoutModel",
      "state": {
       "width": "max-content"
      }
     },
     "90acd93141d44ddebac0de323cf17724": {
      "model_module": "@jupyter-widgets/base",
      "model_module_version": "2.0.0",
      "model_name": "LayoutModel",
      "state": {
       "width": "max-content"
      }
     },
     "95e4b30e4c6e4fbc95fb3f4da7576fbe": {
      "model_module": "@jupyter-widgets/controls",
      "model_module_version": "2.0.0",
      "model_name": "TextareaModel",
      "state": {
       "layout": "IPY_MODEL_5b8fc2a2a2f34eb284cd405c213ff924",
       "placeholder": "Type your answer here...",
       "style": "IPY_MODEL_480c6ba353e3454194bd1ebed3a29846"
      }
     },
     "a0cd33daa4b14963b49190bf1353234a": {
      "model_module": "@jupyter-widgets/base",
      "model_module_version": "2.0.0",
      "model_name": "LayoutModel",
      "state": {}
     },
     "a1aa59981e824e8ab6d79692648b864f": {
      "model_module": "@jupyter-widgets/controls",
      "model_module_version": "2.0.0",
      "model_name": "FloatSliderModel",
      "state": {
       "behavior": "drag-tap",
       "description": "Nq:",
       "layout": "IPY_MODEL_23aa3258426a41708ef3ef1a457b9422",
       "style": "IPY_MODEL_cbb2be38f55f4183a96d9ddde4a42887",
       "value": 20
      }
     },
     "a5640b735cf14a4ba0afc2afb172d26a": {
      "model_module": "@jupyter-widgets/base",
      "model_module_version": "2.0.0",
      "model_name": "LayoutModel",
      "state": {
       "width": "max-content"
      }
     },
     "a63211f31d9b4b069c99aa2d8c0a2799": {
      "model_module": "@jupyter-widgets/base",
      "model_module_version": "2.0.0",
      "model_name": "LayoutModel",
      "state": {
       "height": "100px",
       "width": "100%"
      }
     },
     "a92aa2cb673f427eb259c7cdb58d2583": {
      "model_module": "@jupyter-widgets/output",
      "model_module_version": "1.0.0",
      "model_name": "OutputModel",
      "state": {
       "layout": "IPY_MODEL_4e05b1a5fd5940b4bb04eb86f0890076"
      }
     },
     "a98b3f49b56141adab2dbef3e634b7a1": {
      "model_module": "@jupyter-widgets/base",
      "model_module_version": "2.0.0",
      "model_name": "LayoutModel",
      "state": {
       "height": "100px",
       "width": "100%"
      }
     },
     "ac27dbab6d1442ab9670c0f18db79ba9": {
      "model_module": "@jupyter-widgets/output",
      "model_module_version": "1.0.0",
      "model_name": "OutputModel",
      "state": {
       "layout": "IPY_MODEL_bb8f515e28874adfbb649fb239c87f21"
      }
     },
     "ad339c795b154a36b8e35db1357ffe2d": {
      "model_module": "@jupyter-widgets/controls",
      "model_module_version": "2.0.0",
      "model_name": "ButtonStyleModel",
      "state": {
       "font_family": null,
       "font_size": null,
       "font_style": null,
       "font_variant": null,
       "font_weight": null,
       "text_color": null,
       "text_decoration": null
      }
     },
     "ad7ffea147de463896018ef5f9db9c92": {
      "model_module": "@jupyter-widgets/controls",
      "model_module_version": "2.0.0",
      "model_name": "ButtonModel",
      "state": {
       "button_style": "info",
       "description": "Check Answer",
       "layout": "IPY_MODEL_530444357da44ffcae221bc04c27e374",
       "style": "IPY_MODEL_19fd7a3c2e5c4bc6842b55cba4adf03d",
       "tooltip": null
      }
     },
     "ae3417c9054544c2adefe60194f97bfe": {
      "model_module": "@jupyter-widgets/base",
      "model_module_version": "2.0.0",
      "model_name": "LayoutModel",
      "state": {
       "width": "50%"
      }
     },
     "af00cf806abb46928bdc390846281388": {
      "model_module": "@jupyter-widgets/base",
      "model_module_version": "2.0.0",
      "model_name": "LayoutModel",
      "state": {}
     },
     "af1ad015990841ac98a62d6517b7c47b": {
      "model_module": "@jupyter-widgets/controls",
      "model_module_version": "2.0.0",
      "model_name": "DescriptionStyleModel",
      "state": {
       "description_width": ""
      }
     },
     "b1d5d27345964d67b4c26999bc537d6b": {
      "model_module": "@jupyter-widgets/controls",
      "model_module_version": "2.0.0",
      "model_name": "FloatSliderModel",
      "state": {
       "behavior": "drag-tap",
       "description": "Unit Weight (kN/m³):",
       "layout": "IPY_MODEL_fc5b21a20ddd4e12be0a403f1b7ebebc",
       "max": 25,
       "min": 10,
       "step": 0.1,
       "style": "IPY_MODEL_e74520962f354777b222fa4591d0991e",
       "value": 18
      }
     },
     "b31e81ebd11747b4a1c5276267597f2c": {
      "model_module": "@jupyter-widgets/controls",
      "model_module_version": "2.0.0",
      "model_name": "FloatSliderModel",
      "state": {
       "behavior": "drag-tap",
       "description": "Cohesion (kPa):",
       "layout": "IPY_MODEL_70c2651b522943e392af7fcb738fe3ad",
       "style": "IPY_MODEL_7905643a1fb24801accd43649ac8b69b",
       "value": 25
      }
     },
     "b4097b125c544c1584e8ddbe7a02bc17": {
      "model_module": "@jupyter-widgets/controls",
      "model_module_version": "2.0.0",
      "model_name": "DescriptionStyleModel",
      "state": {
       "description_width": ""
      }
     },
     "b53099c4d0094ddcbc2c5fa35d3f01cc": {
      "model_module": "@jupyter-widgets/output",
      "model_module_version": "1.0.0",
      "model_name": "OutputModel",
      "state": {
       "layout": "IPY_MODEL_ceb456ef84c444a7889f1d7b1bfb214b"
      }
     },
     "bb7397e1aadc4fccb0d104c745e7dd3b": {
      "model_module": "@jupyter-widgets/base",
      "model_module_version": "2.0.0",
      "model_name": "LayoutModel",
      "state": {}
     },
     "bb8f515e28874adfbb649fb239c87f21": {
      "model_module": "@jupyter-widgets/base",
      "model_module_version": "2.0.0",
      "model_name": "LayoutModel",
      "state": {}
     },
     "be3bea1837e340a59d075e81ebd36bee": {
      "model_module": "@jupyter-widgets/controls",
      "model_module_version": "2.0.0",
      "model_name": "TextareaModel",
      "state": {
       "layout": "IPY_MODEL_a98b3f49b56141adab2dbef3e634b7a1",
       "placeholder": "Type your answer here...",
       "style": "IPY_MODEL_f2230c2a0f57481f8f093a5a02390109"
      }
     },
     "beb31c7d104b4f0a820875c12cf721a7": {
      "model_module": "@jupyter-widgets/controls",
      "model_module_version": "2.0.0",
      "model_name": "TextareaModel",
      "state": {
       "layout": "IPY_MODEL_a63211f31d9b4b069c99aa2d8c0a2799",
       "placeholder": "Type your answer here...",
       "style": "IPY_MODEL_5127d23c41084c5bb9346cb030e26dab"
      }
     },
     "c07674111ea34b91a98874e4c04e7750": {
      "model_module": "@jupyter-widgets/controls",
      "model_module_version": "2.0.0",
      "model_name": "ButtonModel",
      "state": {
       "button_style": "info",
       "description": "Check Answer",
       "layout": "IPY_MODEL_4a5704a7d6e74dc7a2600e176cd69511",
       "style": "IPY_MODEL_e5f20ec1056f4d78aebb69a53928d5c2",
       "tooltip": null
      }
     },
     "c4b8508d793547698a987d3e8ec32310": {
      "model_module": "@jupyter-widgets/base",
      "model_module_version": "2.0.0",
      "model_name": "LayoutModel",
      "state": {}
     },
     "c61acdbc25e2453fba7c532c35ebf29b": {
      "model_module": "@jupyter-widgets/controls",
      "model_module_version": "2.0.0",
      "model_name": "TextareaModel",
      "state": {
       "layout": "IPY_MODEL_61e5f892940c40888aa62be369c19d84",
       "placeholder": "Type your answer here...",
       "style": "IPY_MODEL_08cb7089bb264d3fa4c5b8b4ec636e6d"
      }
     },
     "c8cf12b16664406fad27fc714336a3b9": {
      "model_module": "@jupyter-widgets/controls",
      "model_module_version": "2.0.0",
      "model_name": "TextareaModel",
      "state": {
       "layout": "IPY_MODEL_27d7b79a707c4737aef74494a0ed3f9c",
       "placeholder": "Type your answer here...",
       "style": "IPY_MODEL_fd96a6dfb349445dafac250c5d6673b7"
      }
     },
     "ca4f4b112bad49ecba223637b71e84ba": {
      "model_module": "@jupyter-widgets/controls",
      "model_module_version": "2.0.0",
      "model_name": "ButtonModel",
      "state": {
       "button_style": "info",
       "description": "Check Answer",
       "layout": "IPY_MODEL_a0cd33daa4b14963b49190bf1353234a",
       "style": "IPY_MODEL_7c0367fce8e64a0489437b2d86ba56bb",
       "tooltip": null
      }
     },
     "cb95efc2a67f4e9d84df8c7dff2e3167": {
      "model_module": "@jupyter-widgets/controls",
      "model_module_version": "2.0.0",
      "model_name": "SliderStyleModel",
      "state": {
       "description_width": "initial"
      }
     },
     "cbb2be38f55f4183a96d9ddde4a42887": {
      "model_module": "@jupyter-widgets/controls",
      "model_module_version": "2.0.0",
      "model_name": "SliderStyleModel",
      "state": {
       "description_width": "initial"
      }
     },
     "ccd34012c1e743a09c2509ba2ffde616": {
      "model_module": "@jupyter-widgets/controls",
      "model_module_version": "2.0.0",
      "model_name": "RadioButtonsModel",
      "state": {
       "_options_labels": [
        "It decreases the bearing capacity",
        "It has no effect",
        "It increases the bearing capacity",
        "It only affects Hansen’s method"
       ],
       "index": 0,
       "layout": "IPY_MODEL_a5640b735cf14a4ba0afc2afb172d26a",
       "style": "IPY_MODEL_af1ad015990841ac98a62d6517b7c47b"
      }
     },
     "cdcaf53b0bb54ac49f2502a0f3370c0f": {
      "model_module": "@jupyter-widgets/output",
      "model_module_version": "1.0.0",
      "model_name": "OutputModel",
      "state": {
       "layout": "IPY_MODEL_de751e608b3f4e34ab80180dd8fb7672"
      }
     },
     "ceb456ef84c444a7889f1d7b1bfb214b": {
      "model_module": "@jupyter-widgets/base",
      "model_module_version": "2.0.0",
      "model_name": "LayoutModel",
      "state": {}
     },
     "d000b3a5a3e2484ab239714e4861abf5": {
      "model_module": "@jupyter-widgets/base",
      "model_module_version": "2.0.0",
      "model_name": "LayoutModel",
      "state": {
       "width": "max-content"
      }
     },
     "d6ef91eea80e46c78ba2bafef79e38d7": {
      "model_module": "@jupyter-widgets/controls",
      "model_module_version": "2.0.0",
      "model_name": "TextStyleModel",
      "state": {
       "description_width": "",
       "font_size": null,
       "text_color": null
      }
     },
     "d7d4bf728a3544d48106fec888c543a5": {
      "model_module": "@jupyter-widgets/controls",
      "model_module_version": "2.0.0",
      "model_name": "RadioButtonsModel",
      "state": {
       "_options_labels": [
        "Soil compressibility",
        "Foundation shape and depth",
        "Water table correction",
        "Soil anisotropy"
       ],
       "index": 0,
       "layout": "IPY_MODEL_90acd93141d44ddebac0de323cf17724",
       "style": "IPY_MODEL_07ec9f22b88c4afcabeef6fefe97ce5a"
      }
     },
     "d828c63933d849d9894919d7564bb7df": {
      "model_module": "@jupyter-widgets/controls",
      "model_module_version": "2.0.0",
      "model_name": "ButtonStyleModel",
      "state": {
       "font_family": null,
       "font_size": null,
       "font_style": null,
       "font_variant": null,
       "font_weight": null,
       "text_color": null,
       "text_decoration": null
      }
     },
     "d8809a3690eb43ccb00330f4a6176202": {
      "model_module": "@jupyter-widgets/controls",
      "model_module_version": "2.0.0",
      "model_name": "ButtonModel",
      "state": {
       "button_style": "info",
       "description": "Check Answer",
       "layout": "IPY_MODEL_35e6724603ae41a99fbbe08a03250d2c",
       "style": "IPY_MODEL_d828c63933d849d9894919d7564bb7df",
       "tooltip": null
      }
     },
     "da8dbd5ed90647f298de85fb3fd6c49b": {
      "model_module": "@jupyter-widgets/controls",
      "model_module_version": "2.0.0",
      "model_name": "FloatSliderModel",
      "state": {
       "behavior": "drag-tap",
       "description": "Overburden Pressure (kPa):",
       "layout": "IPY_MODEL_10e5b420be8544a6a98ed38317b1d92b",
       "max": 200,
       "style": "IPY_MODEL_6b0e247069d9465a9ea1de66afcfce23",
       "value": 50
      }
     },
     "de051669c2f5471a9bfc88caff82e93d": {
      "model_module": "@jupyter-widgets/controls",
      "model_module_version": "2.0.0",
      "model_name": "RadioButtonsModel",
      "state": {
       "_options_labels": [
        "1 + 0.3 B/L",
        "1 - 0.4 B/L",
        "1 + 0.2 B/L",
        "1 + 0.5 B/L"
       ],
       "index": 0,
       "layout": "IPY_MODEL_791b3e5ba8a44a0db679ebc1074ef6e8",
       "style": "IPY_MODEL_0394c2933f1d46fd8f90bae55fc7f7fd"
      }
     },
     "de751e608b3f4e34ab80180dd8fb7672": {
      "model_module": "@jupyter-widgets/base",
      "model_module_version": "2.0.0",
      "model_name": "LayoutModel",
      "state": {}
     },
     "e5f20ec1056f4d78aebb69a53928d5c2": {
      "model_module": "@jupyter-widgets/controls",
      "model_module_version": "2.0.0",
      "model_name": "ButtonStyleModel",
      "state": {
       "font_family": null,
       "font_size": null,
       "font_style": null,
       "font_variant": null,
       "font_weight": null,
       "text_color": null,
       "text_decoration": null
      }
     },
     "e74520962f354777b222fa4591d0991e": {
      "model_module": "@jupyter-widgets/controls",
      "model_module_version": "2.0.0",
      "model_name": "SliderStyleModel",
      "state": {
       "description_width": "initial"
      }
     },
     "e88269802d354ae08848451290ca7b8e": {
      "model_module": "@jupyter-widgets/controls",
      "model_module_version": "2.0.0",
      "model_name": "ButtonModel",
      "state": {
       "button_style": "info",
       "description": "Check Answer",
       "layout": "IPY_MODEL_11dc3cc67de844a7ad77ed5c6d7ff38d",
       "style": "IPY_MODEL_07c490b2317c4a29abfa98c8c732b93b",
       "tooltip": null
      }
     },
     "ea48ea2d20904e22b677519e05b0349a": {
      "model_module": "@jupyter-widgets/controls",
      "model_module_version": "2.0.0",
      "model_name": "ButtonStyleModel",
      "state": {
       "font_family": null,
       "font_size": null,
       "font_style": null,
       "font_variant": null,
       "font_weight": null,
       "text_color": null,
       "text_decoration": null
      }
     },
     "eb0cbe0ab1834c9b9ea88abe412e1fea": {
      "model_module": "@jupyter-widgets/controls",
      "model_module_version": "2.0.0",
      "model_name": "ButtonModel",
      "state": {
       "button_style": "info",
       "description": "Check Answer",
       "layout": "IPY_MODEL_c4b8508d793547698a987d3e8ec32310",
       "style": "IPY_MODEL_ad339c795b154a36b8e35db1357ffe2d",
       "tooltip": null
      }
     },
     "ec64676e8c174cafa531146d8d2a5a53": {
      "model_module": "@jupyter-widgets/base",
      "model_module_version": "2.0.0",
      "model_name": "LayoutModel",
      "state": {}
     },
     "ece0f6a7d02a47678e40b67c050da7b2": {
      "model_module": "@jupyter-widgets/base",
      "model_module_version": "2.0.0",
      "model_name": "LayoutModel",
      "state": {
       "width": "max-content"
      }
     },
     "eee7bd7bebbd4f58bc2b271903eef0f1": {
      "model_module": "@jupyter-widgets/output",
      "model_module_version": "1.0.0",
      "model_name": "OutputModel",
      "state": {
       "layout": "IPY_MODEL_6847793012214bb19077697f2a19f423"
      }
     },
     "f00f8fca212e4630b2da0db2edf27eb3": {
      "model_module": "@jupyter-widgets/base",
      "model_module_version": "2.0.0",
      "model_name": "LayoutModel",
      "state": {
       "width": "max-content"
      }
     },
     "f0a629d6b7e041179c842a1edf64893b": {
      "model_module": "@jupyter-widgets/base",
      "model_module_version": "2.0.0",
      "model_name": "LayoutModel",
      "state": {
       "width": "max-content"
      }
     },
     "f2230c2a0f57481f8f093a5a02390109": {
      "model_module": "@jupyter-widgets/controls",
      "model_module_version": "2.0.0",
      "model_name": "TextStyleModel",
      "state": {
       "description_width": "",
       "font_size": null,
       "text_color": null
      }
     },
     "f4cba0e55fe94bc3ade7c3dccb5fdeb1": {
      "model_module": "@jupyter-widgets/controls",
      "model_module_version": "2.0.0",
      "model_name": "ButtonModel",
      "state": {
       "button_style": "info",
       "description": "Check Answer",
       "layout": "IPY_MODEL_f703c4e7979c4ad6b3f0a7728f50971a",
       "style": "IPY_MODEL_f53576eaf0d7419d8a982a865ca54283",
       "tooltip": null
      }
     },
     "f53576eaf0d7419d8a982a865ca54283": {
      "model_module": "@jupyter-widgets/controls",
      "model_module_version": "2.0.0",
      "model_name": "ButtonStyleModel",
      "state": {
       "font_family": null,
       "font_size": null,
       "font_style": null,
       "font_variant": null,
       "font_weight": null,
       "text_color": null,
       "text_decoration": null
      }
     },
     "f703c4e7979c4ad6b3f0a7728f50971a": {
      "model_module": "@jupyter-widgets/base",
      "model_module_version": "2.0.0",
      "model_name": "LayoutModel",
      "state": {}
     },
     "f8efb134776d475ca8e93ae9f10744de": {
      "model_module": "@jupyter-widgets/controls",
      "model_module_version": "2.0.0",
      "model_name": "DescriptionStyleModel",
      "state": {
       "description_width": ""
      }
     },
     "f91e79c784f9436f8debec5cb0684bf9": {
      "model_module": "@jupyter-widgets/controls",
      "model_module_version": "2.0.0",
      "model_name": "SliderStyleModel",
      "state": {
       "description_width": "initial"
      }
     },
     "fc5b21a20ddd4e12be0a403f1b7ebebc": {
      "model_module": "@jupyter-widgets/base",
      "model_module_version": "2.0.0",
      "model_name": "LayoutModel",
      "state": {
       "width": "50%"
      }
     },
     "fd96a6dfb349445dafac250c5d6673b7": {
      "model_module": "@jupyter-widgets/controls",
      "model_module_version": "2.0.0",
      "model_name": "TextStyleModel",
      "state": {
       "description_width": "",
       "font_size": null,
       "text_color": null
      }
     },
     "fe1a32d3421f49ddaf4e3b534aefd330": {
      "model_module": "@jupyter-widgets/controls",
      "model_module_version": "2.0.0",
      "model_name": "TextareaModel",
      "state": {
       "layout": "IPY_MODEL_40fccb7d74474149ab81424275985709",
       "placeholder": "Type your answer here...",
       "style": "IPY_MODEL_250ff77c526941f9b469cc3e605e27cc"
      }
     }
    },
    "version_major": 2,
    "version_minor": 0
   }
  }
 },
 "nbformat": 4,
 "nbformat_minor": 5
}
