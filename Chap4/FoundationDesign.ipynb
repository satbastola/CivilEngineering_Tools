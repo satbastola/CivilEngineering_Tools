{
 "cells": [
  {
   "cell_type": "markdown",
   "id": "017b3bf2-0f60-4e03-9449-6a74483bbb22",
   "metadata": {},
   "source": [
    "# Chapter 4 Geotechnical Engineering: Bearing Capacity of Soil"
   ]
  },
  {
   "cell_type": "markdown",
   "id": "63281c01-68d3-4764-a690-ee88e0f29309",
   "metadata": {},
   "source": [
    "1. [Introduction: Bearing Capacity](#1.-Introduction)\n",
    "2. [Simulation: Parameter Sensitivity](#2.-Simulation)\n",
    "3. [Self-Assessment](#3.-Self-Assessment)"
   ]
  },
  {
   "cell_type": "markdown",
   "id": "c75c619c-9678-41a8-a255-5f3b9a63dc4a",
   "metadata": {},
   "source": [
    "## 1. Introduction"
   ]
  },
  {
   "cell_type": "markdown",
   "id": "304bf939",
   "metadata": {},
   "source": [
    "### Bearing Capacity Methods\n",
    "\n",
    "### **1. Terzaghi's Method**\n",
    "**Overview**: Terzaghi's method is one of the earliest and most widely used methods for calculating the bearing capacity of shallow foundations. It is based on the theory of plastic equilibrium in soils.\n",
    "\n",
    "**Equation**:\n",
    "$$\n",
    "q_{ult} = cN_c + qN_q + 0.5\\gamma BN_\\gamma\n",
    "$$\n",
    "where:\n",
    "- \\( q_{ult} \\) = ultimate bearing capacity\n",
    "- \\( c \\) = cohesion of the soil\n",
    "- \\( q \\) = overburden pressure at the foundation level\n",
    "- \\( \\gamma \\) = unit weight of the soil\n",
    "- \\( B \\) = width of the foundation\n",
    "- \\( N_c, N_q, N_\\gamma \\) = bearing capacity factors, which depend on the internal friction angle (\\(\\phi\\))\n",
    "\n",
    "**Assumptions**:\n",
    "- The soil is homogeneous and isotropic.\n",
    "- The foundation is shallow.\n",
    "- The load is applied vertically and centrally.\n",
    "\n",
    "### **2. Meyerhof's Method**\n",
    "**Overview**: Meyerhof's method extends Terzaghi's theory by considering the shape and depth of the foundation, as well as the inclination of the load.\n",
    "\n",
    "**Equation**:\n",
    "$$\n",
    "q_{ult} = cN_c + qN_q + 0.5\\gamma BN_\\gamma \\left(1 + 0.3 \\frac{B}{L}\\right)\n",
    "$$\n",
    "where:\n",
    "- \\( L \\) = length of the foundation\n",
    "- Other terms are as defined in Terzaghi's method.\n",
    "\n",
    "**Assumptions**:\n",
    "- Similar to Terzaghi's method, but includes adjustments for foundation shape and load inclination.\n",
    "\n",
    "### **3. Hansen's Method**\n",
    "**Overview**: Hansen's method further refines the bearing capacity calculation by including shape, depth, and inclination factors for each term in the bearing capacity equation.\n",
    "\n",
    "**Equation**:\n",
    "$$\n",
    "q_{ult} = cN_c s_c d_c i_c + qN_q s_q d_q i_q + 0.5\\gamma BN_\\gamma s_\\gamma d_\\gamma i_\\gamma\n",
    "$$\n",
    "where:\n",
    "- \\( s_c, s_q, s_\\gamma \\) = shape factors\n",
    "- \\( d_c, d_q, d_\\gamma \\) = depth factors\n",
    "- \\( i_c, i_q, i_\\gamma \\) = inclination factors\n",
    "- Other terms are as defined in Terzaghi's method.\n",
    "\n",
    "**Assumptions**:\n",
    "- More comprehensive than Terzaghi's and Meyerhof's methods, accounting for various factors affecting bearing capacity.\n",
    "\n",
    "### **Interpreting the Results**\n",
    "- **Terzaghi's Method**: Provides a basic estimate of bearing capacity, suitable for simple cases with shallow foundations and uniform soil conditions.\n",
    "- **Meyerhof's Method**: Offers a more refined estimate by considering the shape and depth of the foundation, making it suitable for a wider range of conditions.\n",
    "- **Hansen's Method**: Provides the most comprehensive estimate by including additional factors, making it suitable for complex conditions with varying soil properties and load inclinations.\n",
    "\n",
    "### **Recommendations**\n",
    "- **Consistency**: If the bearing capacities calculated by the different methods are similar, it indicates consistency in the results, and any method can be used based on convenience.\n",
    "- **Significant Differences**: If there are significant differences between the methods, further investigation and validation of soil parameters are recommended to ensure accurate design.\n",
    "\n",
    "### **Bearing Capacity Factors Table**\n",
    "The following table provides typical values for the bearing capacity factors (\\(N_c\\), \\(N_q\\), \\(N_\\gamma\\)) based on the internal friction angle (\\(\\phi\\)):\n",
    "\n",
    "| \\(\\phi\\) (degrees) | \\(N_c\\) | \\(N_q\\) | \\(N_\\gamma\\) |\n",
    "|--------------------|---------|---------|--------------|\n",
    "| 0                  | 5.14    | 1.00    | 0.00         |\n",
    "| 5                  | 6.50    | 1.57    | 0.21         |\n",
    "| 10                 | 8.34    | 2.47    | 0.67         |\n",
    "| 15                 | 11.00   | 3.90    | 1.41         |\n",
    "| 20                 | 15.00   | 6.40    | 2.56         |\n",
    "| 25                 | 20.70   | 10.60   | 4.40         |\n",
    "| 30                 | 27.70   | 18.40   | 7.40         |\n",
    "| 35                 | 37.20   | 31.00   | 11.80        |\n",
    "| 40                 | 50.60   | 52.00   | 18.40        |\n",
    "| 45                 | 69.30   | 100.00  | 32.40        |\n",
    "\n",
    "These methods are essential tools in geotechnical engineering for designing safe and stable foundations. Understanding their assumptions and limitations helps engineers choose the appropriate method for their specific project conditions.\n"
   ]
  },
  {
   "cell_type": "markdown",
   "id": "e27959d1-14ae-4cf5-a367-7c916f150ba1",
   "metadata": {},
   "source": [
    "## 2. Simulation"
   ]
  },
  {
   "cell_type": "code",
   "execution_count": 1,
   "id": "b0faf30d",
   "metadata": {},
   "outputs": [
    {
     "data": {
      "application/vnd.jupyter.widget-view+json": {
       "model_id": "802e52a7a2f444ba9ab8317f7a8232b4",
       "version_major": 2,
       "version_minor": 0
      },
      "text/plain": [
       "VBox(children=(FloatSlider(value=25.0, description='Cohesion (kPa):', layout=Layout(width='50%'), step=1.0, st…"
      ]
     },
     "metadata": {},
     "output_type": "display_data"
    },
    {
     "data": {
      "application/vnd.jupyter.widget-view+json": {
       "model_id": "1e7009ed048f4b4e9c43a078dcff40a8",
       "version_major": 2,
       "version_minor": 0
      },
      "text/plain": [
       "Output()"
      ]
     },
     "metadata": {},
     "output_type": "display_data"
    }
   ],
   "source": [
    "import numpy as np\n",
    "import matplotlib.pyplot as plt\n",
    "import ipywidgets as widgets\n",
    "from IPython.display import display, Markdown\n",
    "\n",
    "# Function to calculate bearing capacity using Terzaghi's method\n",
    "def terzaghi_bearing_capacity(c, gamma, q, B, Nq, Nc, Ngamma):\n",
    "    q_ult = c * Nc + q * Nq + 0.5 * gamma * B * Ngamma\n",
    "    return q_ult\n",
    "\n",
    "# Function to calculate bearing capacity using Meyerhof's method\n",
    "def meyerhof_bearing_capacity(c, gamma, q, B, L, Nq, Nc, Ngamma):\n",
    "    q_ult = c * Nc + q * Nq + 0.5 * gamma * B * Ngamma * (1 + 0.3 * (B / L))\n",
    "    return q_ult\n",
    "\n",
    "# Function to calculate bearing capacity using Hansen's method\n",
    "def hansen_bearing_capacity(c, gamma, q, B, L, Nq, Nc, Ngamma):\n",
    "    sc = 1 + 0.2 * (B / L)\n",
    "    sq = 1 + 0.2 * (B / L)\n",
    "    sgamma = 1 - 0.4 * (B / L)\n",
    "    q_ult = c * Nc * sc + q * Nq * sq + 0.5 * gamma * B * Ngamma * sgamma\n",
    "    return q_ult\n",
    "\n",
    "# Function to interpret bearing capacity results and guide users\n",
    "def interpret_results(terzaghi_q_ult, meyerhof_q_ult, hansen_q_ult):\n",
    "    results = {\n",
    "        \"Terzaghi\": terzaghi_q_ult,\n",
    "        \"Meyerhof\": meyerhof_q_ult,\n",
    "        \"Hansen\": hansen_q_ult\n",
    "    }\n",
    "    \n",
    "    max_capacity = max(results.values())\n",
    "    min_capacity = min(results.values())\n",
    "    \n",
    "    interpretation = \"\"\n",
    "    \n",
    "    if max_capacity == terzaghi_q_ult:\n",
    "        interpretation += \"Terzaghi's method provides the highest bearing capacity.\\n\"\n",
    "    elif max_capacity == meyerhof_q_ult:\n",
    "        interpretation += \"Meyerhof's method provides the highest bearing capacity.\\n\"\n",
    "    elif max_capacity == hansen_q_ult:\n",
    "        interpretation += \"Hansen's method provides the highest bearing capacity.\\n\"\n",
    "    \n",
    "    if min_capacity == terzaghi_q_ult:\n",
    "        interpretation += \"Terzaghi's method provides the lowest bearing capacity.\\n\"\n",
    "    elif min_capacity == meyerhof_q_ult:\n",
    "        interpretation += \"Meyerhof's method provides the lowest bearing capacity.\\n\"\n",
    "    elif min_capacity == hansen_q_ult:\n",
    "        interpretation += \"Hansen's method provides the lowest bearing capacity.\\n\"\n",
    "    \n",
    "    interpretation += \"\\n### Recommendations:\\n\"\n",
    "    \n",
    "    if max_capacity / min_capacity > 1.5:\n",
    "        interpretation += \"- There is a significant difference between the methods. Consider further investigation and validation of soil parameters.\\n\"\n",
    "    else:\n",
    "        interpretation += \"- The methods provide similar results. You can choose any method based on convenience and familiarity.\\n\"\n",
    "    \n",
    "    return interpretation\n",
    "# Interactive widgets for input parameters\n",
    "c_input = widgets.FloatSlider(\n",
    "    value=25,\n",
    "    min=0,\n",
    "    max=100,\n",
    "    step=1,\n",
    "    description='Cohesion (kPa):',\n",
    "    layout=widgets.Layout(width='50%'),\n",
    "    style={'description_width': 'initial'}\n",
    ")\n",
    "\n",
    "gamma_input = widgets.FloatSlider(\n",
    "    value=18,\n",
    "    min=10,\n",
    "    max=25,\n",
    "    step=0.1,\n",
    "    description='Unit Weight (kN/m³):',\n",
    "    layout=widgets.Layout(width='50%'),\n",
    "    style={'description_width': 'initial'}\n",
    ")\n",
    "\n",
    "q_input = widgets.FloatSlider(\n",
    "    value=50,\n",
    "    min=0,\n",
    "    max=200,\n",
    "    step=1,\n",
    "    description='Overburden Pressure (kPa):',\n",
    "    layout=widgets.Layout(width='50%'),\n",
    "    style={'description_width': 'initial'}\n",
    ")\n",
    "\n",
    "B_input = widgets.FloatSlider(\n",
    "    value=2,\n",
    "    min=0.5,\n",
    "    max=10,\n",
    "    step=0.1,\n",
    "    description='Width of Foundation (m):',\n",
    "    layout=widgets.Layout(width='50%'),\n",
    "    style={'description_width': 'initial'}\n",
    ")\n",
    "\n",
    "L_input = widgets.FloatSlider(\n",
    "    value=2,\n",
    "    min=0.5,\n",
    "    max=10,\n",
    "    step=0.1,\n",
    "    description='Length of Foundation (m):',\n",
    "    layout=widgets.Layout(width='50%'),\n",
    "    style={'description_width': 'initial'}\n",
    ")\n",
    "\n",
    "Nq_input = widgets.FloatSlider(\n",
    "    value=20,\n",
    "    min=0,\n",
    "    max=100,\n",
    "    step=1,\n",
    "    description='Nq:',\n",
    "    layout=widgets.Layout(width='50%'),\n",
    "    style={'description_width': 'initial'}\n",
    ")\n",
    "\n",
    "Nc_input = widgets.FloatSlider(\n",
    "    value=30,\n",
    "    min=0,\n",
    "    max=100,\n",
    "    step=1,\n",
    "    description='Nc:',\n",
    "    layout=widgets.Layout(width='50%'),\n",
    "    style={'description_width': 'initial'}\n",
    ")\n",
    "\n",
    "Ngamma_input = widgets.FloatSlider(\n",
    "    value=10,\n",
    "    min=0,\n",
    "    max=100,\n",
    "    step=1,\n",
    "    description='Ngamma:',\n",
    "    layout=widgets.Layout(width='50%'),\n",
    "    style={'description_width': 'initial'}\n",
    ")\n",
    "\n",
    "output = widgets.Output()\n",
    "\n",
    "def update_plot(change=None):\n",
    "    with output:\n",
    "        try:\n",
    "            c = c_input.value\n",
    "            gamma = gamma_input.value\n",
    "            q = q_input.value\n",
    "            B = B_input.value\n",
    "            L = L_input.value\n",
    "            Nq = Nq_input.value\n",
    "            Nc = Nc_input.value\n",
    "            Ngamma = Ngamma_input.value\n",
    "            \n",
    "            # Calculate bearing capacities using different methods\n",
    "            terzaghi_q_ult = terzaghi_bearing_capacity(c, gamma, q, B, Nq, Nc, Ngamma)\n",
    "            meyerhof_q_ult = meyerhof_bearing_capacity(c, gamma, q, B, L, Nq, Nc, Ngamma)\n",
    "            hansen_q_ult = hansen_bearing_capacity(c, gamma, q, B, L, Nq, Nc, Ngamma)\n",
    "            \n",
    "            # Interpret results and guide users\n",
    "            interpretation = interpret_results(terzaghi_q_ult, meyerhof_q_ult, hansen_q_ult)\n",
    "            \n",
    "            # Display results and interpretation\n",
    "            output.clear_output()\n",
    "            display(Markdown(f\"### Bearing Capacity Results\"))\n",
    "            display(Markdown(f\"- **Terzaghi's Method:** {terzaghi_q_ult:.2f} kPa\"))\n",
    "            display(Markdown(f\"- **Meyerhof's Method:** {meyerhof_q_ult:.2f} kPa\"))\n",
    "            display(Markdown(f\"- **Hansen's Method:** {hansen_q_ult:.2f} kPa\"))\n",
    "            display(Markdown(f\"### Interpretation and Recommendations\"))\n",
    "            display(Markdown(interpretation))\n",
    "            \n",
    "        except Exception as e:\n",
    "            output.clear_output()\n",
    "            display(Markdown(f\"❌ **Error:** {e}\"))\n",
    "\n",
    "c_input.observe(update_plot, names='value')\n",
    "gamma_input.observe(update_plot, names='value')\n",
    "q_input.observe(update_plot, names='value')\n",
    "B_input.observe(update_plot, names='value')\n",
    "L_input.observe(update_plot, names='value')\n",
    "Nq_input.observe(update_plot, names='value')\n",
    "Nc_input.observe(update_plot, names='value')\n",
    "Ngamma_input.observe(update_plot, names='value')\n",
    "\n",
    "display(widgets.VBox([c_input, gamma_input, q_input, B_input, L_input, Nq_input, Nc_input, Ngamma_input]), output)\n",
    "update_plot()\n"
   ]
  },
  {
   "cell_type": "markdown",
   "id": "464e928b-e0dc-46d5-b181-5c197cde5e0e",
   "metadata": {},
   "source": [
    "## 3. Self-Assessment"
   ]
  },
  {
   "cell_type": "code",
   "execution_count": 2,
   "id": "c27f4fc2",
   "metadata": {},
   "outputs": [
    {
     "data": {
      "text/markdown": [
       "### Which of the following parameters is **not** included in Terzaghi’s original bearing capacity equation?"
      ],
      "text/plain": [
       "<IPython.core.display.Markdown object>"
      ]
     },
     "metadata": {},
     "output_type": "display_data"
    },
    {
     "data": {
      "application/vnd.jupyter.widget-view+json": {
       "model_id": "96d7ba97e5574875bdd4904f8a56cd0d",
       "version_major": 2,
       "version_minor": 0
      },
      "text/plain": [
       "RadioButtons(layout=Layout(width='max-content'), options=('Cohesion (c)', 'Overburden pressure (q)', 'Length o…"
      ]
     },
     "metadata": {},
     "output_type": "display_data"
    },
    {
     "data": {
      "application/vnd.jupyter.widget-view+json": {
       "model_id": "ca11ea9e8ca248b0aad02d0d06c03253",
       "version_major": 2,
       "version_minor": 0
      },
      "text/plain": [
       "Button(button_style='info', description='Check Answer', style=ButtonStyle())"
      ]
     },
     "metadata": {},
     "output_type": "display_data"
    },
    {
     "data": {
      "application/vnd.jupyter.widget-view+json": {
       "model_id": "2dde1481e7bc4afab0eaa3021d51c4f8",
       "version_major": 2,
       "version_minor": 0
      },
      "text/plain": [
       "Output()"
      ]
     },
     "metadata": {},
     "output_type": "display_data"
    },
    {
     "data": {
      "text/markdown": [
       "### What additional factor does Meyerhof’s method introduce compared to Terzaghi’s?"
      ],
      "text/plain": [
       "<IPython.core.display.Markdown object>"
      ]
     },
     "metadata": {},
     "output_type": "display_data"
    },
    {
     "data": {
      "application/vnd.jupyter.widget-view+json": {
       "model_id": "7e0930a31ff940f2af97e5f49d9db826",
       "version_major": 2,
       "version_minor": 0
      },
      "text/plain": [
       "RadioButtons(layout=Layout(width='max-content'), options=('Soil compressibility', 'Foundation shape and depth'…"
      ]
     },
     "metadata": {},
     "output_type": "display_data"
    },
    {
     "data": {
      "application/vnd.jupyter.widget-view+json": {
       "model_id": "3be646fdb3b04e59ad883c427c398008",
       "version_major": 2,
       "version_minor": 0
      },
      "text/plain": [
       "Button(button_style='info', description='Check Answer', style=ButtonStyle())"
      ]
     },
     "metadata": {},
     "output_type": "display_data"
    },
    {
     "data": {
      "application/vnd.jupyter.widget-view+json": {
       "model_id": "3c0c0cd4cd1f4bc0b3bf8b257f2841f7",
       "version_major": 2,
       "version_minor": 0
      },
      "text/plain": [
       "Output()"
      ]
     },
     "metadata": {},
     "output_type": "display_data"
    },
    {
     "data": {
      "text/markdown": [
       "### Hansen’s method includes which of the following factors in the bearing capacity equation?"
      ],
      "text/plain": [
       "<IPython.core.display.Markdown object>"
      ]
     },
     "metadata": {},
     "output_type": "display_data"
    },
    {
     "data": {
      "application/vnd.jupyter.widget-view+json": {
       "model_id": "b689f2b5d0d449159ba1f575b2a53583",
       "version_major": 2,
       "version_minor": 0
      },
      "text/plain": [
       "RadioButtons(layout=Layout(width='max-content'), options=('Shape, depth, and inclination factors', 'Only shape…"
      ]
     },
     "metadata": {},
     "output_type": "display_data"
    },
    {
     "data": {
      "application/vnd.jupyter.widget-view+json": {
       "model_id": "e63a7c3d3da2474baf31f90b49e68ad5",
       "version_major": 2,
       "version_minor": 0
      },
      "text/plain": [
       "Button(button_style='info', description='Check Answer', style=ButtonStyle())"
      ]
     },
     "metadata": {},
     "output_type": "display_data"
    },
    {
     "data": {
      "application/vnd.jupyter.widget-view+json": {
       "model_id": "f55436b42b6d4552a32db715ca64345e",
       "version_major": 2,
       "version_minor": 0
      },
      "text/plain": [
       "Output()"
      ]
     },
     "metadata": {},
     "output_type": "display_data"
    },
    {
     "data": {
      "text/markdown": [
       "### According to the bearing capacity factor table, what is the value of Nq when the internal friction angle φ = 30°?"
      ],
      "text/plain": [
       "<IPython.core.display.Markdown object>"
      ]
     },
     "metadata": {},
     "output_type": "display_data"
    },
    {
     "data": {
      "application/vnd.jupyter.widget-view+json": {
       "model_id": "987d052903304a979f11838b3f1c65fc",
       "version_major": 2,
       "version_minor": 0
      },
      "text/plain": [
       "RadioButtons(layout=Layout(width='max-content'), options=('10.6', '18.4', '27.7', '7.4'), value='10.6')"
      ]
     },
     "metadata": {},
     "output_type": "display_data"
    },
    {
     "data": {
      "application/vnd.jupyter.widget-view+json": {
       "model_id": "c7669937567d435a9c6ef54f0a70572e",
       "version_major": 2,
       "version_minor": 0
      },
      "text/plain": [
       "Button(button_style='info', description='Check Answer', style=ButtonStyle())"
      ]
     },
     "metadata": {},
     "output_type": "display_data"
    },
    {
     "data": {
      "application/vnd.jupyter.widget-view+json": {
       "model_id": "8caa7add2b6c4c98862e71082529102a",
       "version_major": 2,
       "version_minor": 0
      },
      "text/plain": [
       "Output()"
      ]
     },
     "metadata": {},
     "output_type": "display_data"
    },
    {
     "data": {
      "text/markdown": [
       "### In the Python code, what does the function interpret_results() primarily do?"
      ],
      "text/plain": [
       "<IPython.core.display.Markdown object>"
      ]
     },
     "metadata": {},
     "output_type": "display_data"
    },
    {
     "data": {
      "application/vnd.jupyter.widget-view+json": {
       "model_id": "250010d19c984886ae5435650c735d14",
       "version_major": 2,
       "version_minor": 0
      },
      "text/plain": [
       "RadioButtons(layout=Layout(width='max-content'), options=('Calculates the average bearing capacity', 'Compares…"
      ]
     },
     "metadata": {},
     "output_type": "display_data"
    },
    {
     "data": {
      "application/vnd.jupyter.widget-view+json": {
       "model_id": "58960fd5e3e6422b93a6a6b6d6d8c573",
       "version_major": 2,
       "version_minor": 0
      },
      "text/plain": [
       "Button(button_style='info', description='Check Answer', style=ButtonStyle())"
      ]
     },
     "metadata": {},
     "output_type": "display_data"
    },
    {
     "data": {
      "application/vnd.jupyter.widget-view+json": {
       "model_id": "035eed54aa7a441e97841956bc46ef1a",
       "version_major": 2,
       "version_minor": 0
      },
      "text/plain": [
       "Output()"
      ]
     },
     "metadata": {},
     "output_type": "display_data"
    },
    {
     "data": {
      "text/markdown": [
       "### In the simplified Hansen’s method in the code, how is the shape factor sc calculated?"
      ],
      "text/plain": [
       "<IPython.core.display.Markdown object>"
      ]
     },
     "metadata": {},
     "output_type": "display_data"
    },
    {
     "data": {
      "application/vnd.jupyter.widget-view+json": {
       "model_id": "47e1fc168ada46e5b3566d5d515fa6cb",
       "version_major": 2,
       "version_minor": 0
      },
      "text/plain": [
       "RadioButtons(layout=Layout(width='max-content'), options=('1 + 0.3 B/L', '1 - 0.4 B/L', '1 + 0.2 B/L', '1 + 0.…"
      ]
     },
     "metadata": {},
     "output_type": "display_data"
    },
    {
     "data": {
      "application/vnd.jupyter.widget-view+json": {
       "model_id": "3134ef4500414063af5f2e7fb962c22a",
       "version_major": 2,
       "version_minor": 0
      },
      "text/plain": [
       "Button(button_style='info', description='Check Answer', style=ButtonStyle())"
      ]
     },
     "metadata": {},
     "output_type": "display_data"
    },
    {
     "data": {
      "application/vnd.jupyter.widget-view+json": {
       "model_id": "a1fd4a7ed21146f38a909c5318abe8da",
       "version_major": 2,
       "version_minor": 0
      },
      "text/plain": [
       "Output()"
      ]
     },
     "metadata": {},
     "output_type": "display_data"
    },
    {
     "data": {
      "text/markdown": [
       "### According to the interpretation logic, when is further investigation recommended?"
      ],
      "text/plain": [
       "<IPython.core.display.Markdown object>"
      ]
     },
     "metadata": {},
     "output_type": "display_data"
    },
    {
     "data": {
      "application/vnd.jupyter.widget-view+json": {
       "model_id": "109cc416b9f44b708e23937f17c5f118",
       "version_major": 2,
       "version_minor": 0
      },
      "text/plain": [
       "RadioButtons(layout=Layout(width='max-content'), options=('When all methods give the same result', 'When max/m…"
      ]
     },
     "metadata": {},
     "output_type": "display_data"
    },
    {
     "data": {
      "application/vnd.jupyter.widget-view+json": {
       "model_id": "3ee4448dc40942788fc060b8889eb260",
       "version_major": 2,
       "version_minor": 0
      },
      "text/plain": [
       "Button(button_style='info', description='Check Answer', style=ButtonStyle())"
      ]
     },
     "metadata": {},
     "output_type": "display_data"
    },
    {
     "data": {
      "application/vnd.jupyter.widget-view+json": {
       "model_id": "644fd822b4494ae0bc40609391cc60c8",
       "version_major": 2,
       "version_minor": 0
      },
      "text/plain": [
       "Output()"
      ]
     },
     "metadata": {},
     "output_type": "display_data"
    },
    {
     "data": {
      "text/markdown": [
       "### What is the effect of increasing the foundation width B on the bearing capacity?"
      ],
      "text/plain": [
       "<IPython.core.display.Markdown object>"
      ]
     },
     "metadata": {},
     "output_type": "display_data"
    },
    {
     "data": {
      "application/vnd.jupyter.widget-view+json": {
       "model_id": "9793b8ae062940d898f17de6acb7fde5",
       "version_major": 2,
       "version_minor": 0
      },
      "text/plain": [
       "RadioButtons(layout=Layout(width='max-content'), options=('It decreases the bearing capacity', 'It has no effe…"
      ]
     },
     "metadata": {},
     "output_type": "display_data"
    },
    {
     "data": {
      "application/vnd.jupyter.widget-view+json": {
       "model_id": "17a87c6bfa594b09987e4580bff83581",
       "version_major": 2,
       "version_minor": 0
      },
      "text/plain": [
       "Button(button_style='info', description='Check Answer', style=ButtonStyle())"
      ]
     },
     "metadata": {},
     "output_type": "display_data"
    },
    {
     "data": {
      "application/vnd.jupyter.widget-view+json": {
       "model_id": "e083624f924342549669ab600a84b5c3",
       "version_major": 2,
       "version_minor": 0
      },
      "text/plain": [
       "Output()"
      ]
     },
     "metadata": {},
     "output_type": "display_data"
    },
    {
     "data": {
      "text/markdown": [
       "### Which of the following is **not** an assumption of Terzaghi’s method?"
      ],
      "text/plain": [
       "<IPython.core.display.Markdown object>"
      ]
     },
     "metadata": {},
     "output_type": "display_data"
    },
    {
     "data": {
      "application/vnd.jupyter.widget-view+json": {
       "model_id": "7424c2f56ba64c069f20029bb81fc329",
       "version_major": 2,
       "version_minor": 0
      },
      "text/plain": [
       "RadioButtons(layout=Layout(width='max-content'), options=('Soil is homogeneous and isotropic', 'Load is applie…"
      ]
     },
     "metadata": {},
     "output_type": "display_data"
    },
    {
     "data": {
      "application/vnd.jupyter.widget-view+json": {
       "model_id": "3e7676b76c90475b85c26d42030cf225",
       "version_major": 2,
       "version_minor": 0
      },
      "text/plain": [
       "Button(button_style='info', description='Check Answer', style=ButtonStyle())"
      ]
     },
     "metadata": {},
     "output_type": "display_data"
    },
    {
     "data": {
      "application/vnd.jupyter.widget-view+json": {
       "model_id": "a6d1583b7bc1497e92c503ced1e91937",
       "version_major": 2,
       "version_minor": 0
      },
      "text/plain": [
       "Output()"
      ]
     },
     "metadata": {},
     "output_type": "display_data"
    },
    {
     "data": {
      "text/markdown": [
       "### Which method is most suitable for complex soil conditions and inclined loads?"
      ],
      "text/plain": [
       "<IPython.core.display.Markdown object>"
      ]
     },
     "metadata": {},
     "output_type": "display_data"
    },
    {
     "data": {
      "application/vnd.jupyter.widget-view+json": {
       "model_id": "7d328288f8fc40078f19f7b42f51d576",
       "version_major": 2,
       "version_minor": 0
      },
      "text/plain": [
       "RadioButtons(layout=Layout(width='max-content'), options=('Terzaghi’s Method', 'Meyerhof’s Method', 'Hansen’s …"
      ]
     },
     "metadata": {},
     "output_type": "display_data"
    },
    {
     "data": {
      "application/vnd.jupyter.widget-view+json": {
       "model_id": "7699fee657b24240bf1da03309ef891b",
       "version_major": 2,
       "version_minor": 0
      },
      "text/plain": [
       "Button(button_style='info', description='Check Answer', style=ButtonStyle())"
      ]
     },
     "metadata": {},
     "output_type": "display_data"
    },
    {
     "data": {
      "application/vnd.jupyter.widget-view+json": {
       "model_id": "263618ced0824e13a73dd39817596eab",
       "version_major": 2,
       "version_minor": 0
      },
      "text/plain": [
       "Output()"
      ]
     },
     "metadata": {},
     "output_type": "display_data"
    }
   ],
   "source": [
    "import ipywidgets as widgets\n",
    "from IPython.display import display, Markdown, clear_output\n",
    "\n",
    "# Define quiz questions, options, and correct answers\n",
    "quiz_data = [\n",
    "    {\n",
    "        \"question\": \"Which of the following parameters is **not** included in Terzaghi’s original bearing capacity equation?\",\n",
    "        \"options\": [\"Cohesion (c)\", \"Overburden pressure (q)\", \"Length of foundation (L)\", \"Unit weight of soil (γ)\"],\n",
    "        \"answer\": \"Length of foundation (L)\"\n",
    "    },\n",
    "    {\n",
    "        \"question\": \"What additional factor does Meyerhof’s method introduce compared to Terzaghi’s?\",\n",
    "        \"options\": [\"Soil compressibility\", \"Foundation shape and depth\", \"Water table correction\", \"Soil anisotropy\"],\n",
    "        \"answer\": \"Foundation shape and depth\"\n",
    "    },\n",
    "    {\n",
    "        \"question\": \"Hansen’s method includes which of the following factors in the bearing capacity equation?\",\n",
    "        \"options\": [\"Shape, depth, and inclination factors\", \"Only shape and depth factors\", \"Only inclination factors\", \"None of the above\"],\n",
    "        \"answer\": \"Shape, depth, and inclination factors\"\n",
    "    },\n",
    "    {\n",
    "        \"question\": \"According to the bearing capacity factor table, what is the value of Nq when the internal friction angle φ = 30°?\",\n",
    "        \"options\": [\"10.6\", \"18.4\", \"27.7\", \"7.4\"],\n",
    "        \"answer\": \"18.4\"\n",
    "    },\n",
    "    {\n",
    "        \"question\": \"In the Python code, what does the function interpret_results() primarily do?\",\n",
    "        \"options\": [\"Calculates the average bearing capacity\", \"Compares results from different methods and provides recommendations\", \"Plots the bearing capacity values\", \"Adjusts the input parameters\"],\n",
    "        \"answer\": \"Compares results from different methods and provides recommendations\"\n",
    "    },\n",
    "    {\n",
    "        \"question\": \"In the simplified Hansen’s method in the code, how is the shape factor sc calculated?\",\n",
    "        \"options\": [\"1 + 0.3 B/L\", \"1 - 0.4 B/L\", \"1 + 0.2 B/L\", \"1 + 0.5 B/L\"],\n",
    "        \"answer\": \"1 + 0.2 B/L\"\n",
    "    },\n",
    "    {\n",
    "        \"question\": \"According to the interpretation logic, when is further investigation recommended?\",\n",
    "        \"options\": [\"When all methods give the same result\", \"When max/min > 1.5\", \"When max/min < 1.5\", \"When Terzaghi’s method is the lowest\"],\n",
    "        \"answer\": \"When max/min > 1.5\"\n",
    "    },\n",
    "    {\n",
    "        \"question\": \"What is the effect of increasing the foundation width B on the bearing capacity?\",\n",
    "        \"options\": [\"It decreases the bearing capacity\", \"It has no effect\", \"It increases the bearing capacity\", \"It only affects Hansen’s method\"],\n",
    "        \"answer\": \"It increases the bearing capacity\"\n",
    "    },\n",
    "    {\n",
    "        \"question\": \"Which of the following is **not** an assumption of Terzaghi’s method?\",\n",
    "        \"options\": [\"Soil is homogeneous and isotropic\", \"Load is applied eccentrically\", \"Foundation is shallow\", \"Load is vertical and central\"],\n",
    "        \"answer\": \"Load is applied eccentrically\"\n",
    "    },\n",
    "    {\n",
    "        \"question\": \"Which method is most suitable for complex soil conditions and inclined loads?\",\n",
    "        \"options\": [\"Terzaghi’s Method\", \"Meyerhof’s Method\", \"Hansen’s Method\", \"None of the above\"],\n",
    "        \"answer\": \"Hansen’s Method\"\n",
    "    }\n",
    "]\n",
    "\n",
    "# Function to create a widget for each quiz question\n",
    "def create_quiz_widget(question, options, correct_answer):\n",
    "    output = widgets.Output()\n",
    "    radio = widgets.RadioButtons(options=options, layout={'width': 'max-content'})\n",
    "    check_button = widgets.Button(description=\"Check Answer\", button_style='info')\n",
    "\n",
    "    def on_check_clicked(b):\n",
    "        with output:\n",
    "            clear_output()\n",
    "            if radio.value == correct_answer:\n",
    "                display(Markdown(\"✅ **Correct!**\"))\n",
    "            else:\n",
    "                display(Markdown(f\"❌ **Incorrect.** The correct answer is: **{correct_answer}**\"))\n",
    "\n",
    "    check_button.on_click(on_check_clicked)\n",
    "    display(Markdown(f\"### {question}\"))\n",
    "    display(radio, check_button, output)\n",
    "\n",
    "# Display all quiz widgets\n",
    "for q in quiz_data:\n",
    "    create_quiz_widget(q[\"question\"], q[\"options\"], q[\"answer\"])\n"
   ]
  },
  {
   "cell_type": "code",
   "execution_count": 3,
   "id": "52ab50e0",
   "metadata": {},
   "outputs": [
    {
     "data": {
      "text/markdown": [
       "### Reflective Question 1"
      ],
      "text/plain": [
       "<IPython.core.display.Markdown object>"
      ]
     },
     "metadata": {},
     "output_type": "display_data"
    },
    {
     "data": {
      "text/markdown": [
       "Why do different bearing capacity methods (Terzaghi, Meyerhof, Hansen) yield different results for the same soil and foundation conditions?"
      ],
      "text/plain": [
       "<IPython.core.display.Markdown object>"
      ]
     },
     "metadata": {},
     "output_type": "display_data"
    },
    {
     "data": {
      "application/vnd.jupyter.widget-view+json": {
       "model_id": "404f21ba508d48759e2a0fdcfada88c4",
       "version_major": 2,
       "version_minor": 0
      },
      "text/plain": [
       "Textarea(value='', layout=Layout(height='100px', width='100%'), placeholder='Type your answer here...')"
      ]
     },
     "metadata": {},
     "output_type": "display_data"
    },
    {
     "data": {
      "text/markdown": [
       "### Reflective Question 2"
      ],
      "text/plain": [
       "<IPython.core.display.Markdown object>"
      ]
     },
     "metadata": {},
     "output_type": "display_data"
    },
    {
     "data": {
      "text/markdown": [
       "How would you decide which method to use in a real-world project?"
      ],
      "text/plain": [
       "<IPython.core.display.Markdown object>"
      ]
     },
     "metadata": {},
     "output_type": "display_data"
    },
    {
     "data": {
      "application/vnd.jupyter.widget-view+json": {
       "model_id": "b410c9ca97b440ccb8623ca79cca5c83",
       "version_major": 2,
       "version_minor": 0
      },
      "text/plain": [
       "Textarea(value='', layout=Layout(height='100px', width='100%'), placeholder='Type your answer here...')"
      ]
     },
     "metadata": {},
     "output_type": "display_data"
    },
    {
     "data": {
      "text/markdown": [
       "### Reflective Question 3"
      ],
      "text/plain": [
       "<IPython.core.display.Markdown object>"
      ]
     },
     "metadata": {},
     "output_type": "display_data"
    },
    {
     "data": {
      "text/markdown": [
       "What are the potential consequences of overestimating vs. underestimating bearing capacity in foundation design?"
      ],
      "text/plain": [
       "<IPython.core.display.Markdown object>"
      ]
     },
     "metadata": {},
     "output_type": "display_data"
    },
    {
     "data": {
      "application/vnd.jupyter.widget-view+json": {
       "model_id": "5a2013fea7df40a5a55debc998b61e39",
       "version_major": 2,
       "version_minor": 0
      },
      "text/plain": [
       "Textarea(value='', layout=Layout(height='100px', width='100%'), placeholder='Type your answer here...')"
      ]
     },
     "metadata": {},
     "output_type": "display_data"
    },
    {
     "data": {
      "text/markdown": [
       "### Reflective Question 4"
      ],
      "text/plain": [
       "<IPython.core.display.Markdown object>"
      ]
     },
     "metadata": {},
     "output_type": "display_data"
    },
    {
     "data": {
      "text/markdown": [
       "How does the inclusion of shape, depth, and inclination factors in Hansen’s method improve the accuracy of bearing capacity predictions?"
      ],
      "text/plain": [
       "<IPython.core.display.Markdown object>"
      ]
     },
     "metadata": {},
     "output_type": "display_data"
    },
    {
     "data": {
      "application/vnd.jupyter.widget-view+json": {
       "model_id": "6bf994892e384ba5b185d3ead298f010",
       "version_major": 2,
       "version_minor": 0
      },
      "text/plain": [
       "Textarea(value='', layout=Layout(height='100px', width='100%'), placeholder='Type your answer here...')"
      ]
     },
     "metadata": {},
     "output_type": "display_data"
    },
    {
     "data": {
      "text/markdown": [
       "### Reflective Question 5"
      ],
      "text/plain": [
       "<IPython.core.display.Markdown object>"
      ]
     },
     "metadata": {},
     "output_type": "display_data"
    },
    {
     "data": {
      "text/markdown": [
       "How would you validate the soil parameters (e.g., cohesion, unit weight, friction angle) used in bearing capacity calculations?"
      ],
      "text/plain": [
       "<IPython.core.display.Markdown object>"
      ]
     },
     "metadata": {},
     "output_type": "display_data"
    },
    {
     "data": {
      "application/vnd.jupyter.widget-view+json": {
       "model_id": "515ef41900a2485ba0af6e9448502e94",
       "version_major": 2,
       "version_minor": 0
      },
      "text/plain": [
       "Textarea(value='', layout=Layout(height='100px', width='100%'), placeholder='Type your answer here...')"
      ]
     },
     "metadata": {},
     "output_type": "display_data"
    },
    {
     "data": {
      "text/markdown": [
       "### Reflective Question 6"
      ],
      "text/plain": [
       "<IPython.core.display.Markdown object>"
      ]
     },
     "metadata": {},
     "output_type": "display_data"
    },
    {
     "data": {
      "text/markdown": [
       "Explain the physical meaning of each term in Terzaghi’s bearing capacity equation."
      ],
      "text/plain": [
       "<IPython.core.display.Markdown object>"
      ]
     },
     "metadata": {},
     "output_type": "display_data"
    },
    {
     "data": {
      "application/vnd.jupyter.widget-view+json": {
       "model_id": "c922aba4fbab4975b1b843ecb7911276",
       "version_major": 2,
       "version_minor": 0
      },
      "text/plain": [
       "Textarea(value='', layout=Layout(height='100px', width='100%'), placeholder='Type your answer here...')"
      ]
     },
     "metadata": {},
     "output_type": "display_data"
    },
    {
     "data": {
      "text/markdown": [
       "### Reflective Question 7"
      ],
      "text/plain": [
       "<IPython.core.display.Markdown object>"
      ]
     },
     "metadata": {},
     "output_type": "display_data"
    },
    {
     "data": {
      "text/markdown": [
       "What is the role of the bearing capacity factors Nc, Nq, and Nγ? How do they relate to the internal friction angle φ?"
      ],
      "text/plain": [
       "<IPython.core.display.Markdown object>"
      ]
     },
     "metadata": {},
     "output_type": "display_data"
    },
    {
     "data": {
      "application/vnd.jupyter.widget-view+json": {
       "model_id": "ddfd6e00c67045ec8fd8f0717fdcf620",
       "version_major": 2,
       "version_minor": 0
      },
      "text/plain": [
       "Textarea(value='', layout=Layout(height='100px', width='100%'), placeholder='Type your answer here...')"
      ]
     },
     "metadata": {},
     "output_type": "display_data"
    },
    {
     "data": {
      "text/markdown": [
       "### Reflective Question 8"
      ],
      "text/plain": [
       "<IPython.core.display.Markdown object>"
      ]
     },
     "metadata": {},
     "output_type": "display_data"
    },
    {
     "data": {
      "text/markdown": [
       "Why is the width of the foundation (B) included in the bearing capacity equations?"
      ],
      "text/plain": [
       "<IPython.core.display.Markdown object>"
      ]
     },
     "metadata": {},
     "output_type": "display_data"
    },
    {
     "data": {
      "application/vnd.jupyter.widget-view+json": {
       "model_id": "c4a8dc03ae9845c7bda7e84286f3c55f",
       "version_major": 2,
       "version_minor": 0
      },
      "text/plain": [
       "Textarea(value='', layout=Layout(height='100px', width='100%'), placeholder='Type your answer here...')"
      ]
     },
     "metadata": {},
     "output_type": "display_data"
    },
    {
     "data": {
      "text/markdown": [
       "### Reflective Question 9"
      ],
      "text/plain": [
       "<IPython.core.display.Markdown object>"
      ]
     },
     "metadata": {},
     "output_type": "display_data"
    },
    {
     "data": {
      "text/markdown": [
       "Compare the assumptions made in Terzaghi’s method with those in Meyerhof’s and Hansen’s."
      ],
      "text/plain": [
       "<IPython.core.display.Markdown object>"
      ]
     },
     "metadata": {},
     "output_type": "display_data"
    },
    {
     "data": {
      "application/vnd.jupyter.widget-view+json": {
       "model_id": "b62086598ec047a183aa63647a98cc15",
       "version_major": 2,
       "version_minor": 0
      },
      "text/plain": [
       "Textarea(value='', layout=Layout(height='100px', width='100%'), placeholder='Type your answer here...')"
      ]
     },
     "metadata": {},
     "output_type": "display_data"
    },
    {
     "data": {
      "text/markdown": [
       "### Reflective Question 10"
      ],
      "text/plain": [
       "<IPython.core.display.Markdown object>"
      ]
     },
     "metadata": {},
     "output_type": "display_data"
    },
    {
     "data": {
      "text/markdown": [
       "How would the presence of groundwater near the foundation level affect bearing capacity?"
      ],
      "text/plain": [
       "<IPython.core.display.Markdown object>"
      ]
     },
     "metadata": {},
     "output_type": "display_data"
    },
    {
     "data": {
      "application/vnd.jupyter.widget-view+json": {
       "model_id": "1251204f5fea4b0c886f31b09ab4d83c",
       "version_major": 2,
       "version_minor": 0
      },
      "text/plain": [
       "Textarea(value='', layout=Layout(height='100px', width='100%'), placeholder='Type your answer here...')"
      ]
     },
     "metadata": {},
     "output_type": "display_data"
    }
   ],
   "source": [
    "import ipywidgets as widgets\n",
    "from IPython.display import display, Markdown\n",
    "\n",
    "# Define reflective and conceptual questions\n",
    "questions = [\n",
    "    \"Why do different bearing capacity methods (Terzaghi, Meyerhof, Hansen) yield different results for the same soil and foundation conditions?\",\n",
    "    \"How would you decide which method to use in a real-world project?\",\n",
    "    \"What are the potential consequences of overestimating vs. underestimating bearing capacity in foundation design?\",\n",
    "    \"How does the inclusion of shape, depth, and inclination factors in Hansen’s method improve the accuracy of bearing capacity predictions?\",\n",
    "    \"How would you validate the soil parameters (e.g., cohesion, unit weight, friction angle) used in bearing capacity calculations?\",\n",
    "    \"Explain the physical meaning of each term in Terzaghi’s bearing capacity equation.\",\n",
    "    \"What is the role of the bearing capacity factors Nc, Nq, and Nγ? How do they relate to the internal friction angle φ?\",\n",
    "    \"Why is the width of the foundation (B) included in the bearing capacity equations?\",\n",
    "    \"Compare the assumptions made in Terzaghi’s method with those in Meyerhof’s and Hansen’s.\",\n",
    "    \"How would the presence of groundwater near the foundation level affect bearing capacity?\"\n",
    "]\n",
    "\n",
    "# Display each question with a text area for user input\n",
    "for i, q in enumerate(questions, 1):\n",
    "    display(Markdown(f\"### Reflective Question {i}\"))\n",
    "    display(Markdown(q))\n",
    "    display(widgets.Textarea(\n",
    "        placeholder='Type your answer here...',\n",
    "        layout=widgets.Layout(width='100%', height='100px')\n",
    "    ))\n"
   ]
  },
  {
   "cell_type": "code",
   "execution_count": null,
   "id": "07fecb6a",
   "metadata": {},
   "outputs": [],
   "source": []
  }
 ],
 "metadata": {
  "kernelspec": {
   "display_name": "Python [conda env:base] *",
   "language": "python",
   "name": "conda-base-py"
  },
  "language_info": {
   "codemirror_mode": {
    "name": "ipython",
    "version": 3
   },
   "file_extension": ".py",
   "mimetype": "text/x-python",
   "name": "python",
   "nbconvert_exporter": "python",
   "pygments_lexer": "ipython3",
   "version": "3.12.7"
  }
 },
 "nbformat": 4,
 "nbformat_minor": 5
}
