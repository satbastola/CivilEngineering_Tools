{
 "cells": [
  {
   "cell_type": "markdown",
   "id": "2b03fac0-1379-42a9-b42c-828a165a4843",
   "metadata": {},
   "source": [
    "# Chapter 4 Geotechnical Engineering: 1D Consolidation Test"
   ]
  },
  {
   "cell_type": "markdown",
   "id": "8df815b7-e1c9-43c5-986c-1e595b264ee4",
   "metadata": {},
   "source": [
    "1. [Introduction: Soil Consolidation Test](#1.-Introduction)\n",
    "2. [Simulation: Soil Consolidation Test](#2.-Simulation)\n",
    "3. [Self-Assessment](#3.-Self-Assessment)"
   ]
  },
  {
   "cell_type": "markdown",
   "id": "86bc8966-8dc6-40a2-8406-12bb330aa76f",
   "metadata": {},
   "source": [
    "## 1. Introduction"
   ]
  },
  {
   "cell_type": "markdown",
   "id": "596b5000-f33a-4602-996e-f89de7c127b9",
   "metadata": {},
   "source": [
    "### 🧱 Soil Consolidation:\n",
    "\n",
    "**Soil consolidation** is the process by which **soil volume decreases over time** due to the **expulsion of pore water** under sustained loading. It primarily occurs in **saturated cohesive soils** (e.g., clay) and is governed by the gradual transfer of stress from water to soil particles.\n",
    "\n",
    "- When a load (e.g., building, embankment, dam) is applied to saturated soil:\n",
    "  - Initially, the load is carried by **pore water pressure**\n",
    "  - Over time, water drains out, and the load is transferred to the **soil skeleton**\n",
    "  - This causes **settlement** and **reduction in void ratio**\n",
    "\n",
    "---\n",
    "\n",
    "### 🧱 1D Consolidation Test – Key Steps per U.S. Standard (ASTM D2435/D4186)\n",
    "\n",
    "The **1D Consolidation Test** evaluates the compressibility and rate of consolidation of cohesive soils under axial load, as defined by **ASTM D2435** (incremental loading method) and **ASTM D4186** (continuous loading method). Here's a summary of the standard measurement steps:\n",
    "\n",
    "---\n",
    "\n",
    "### 📘 ASTM D2435 – Incremental Loading Procedure\n",
    "\n",
    "| Step | Description                                                    | Notes                                  |\n",
    "|------|----------------------------------------------------------------|----------------------------------------|\n",
    "| 1️⃣   | Prepare soil specimen (typically 20–25 mm thick)              | Saturate with water, trim uniformly    |\n",
    "| 2️⃣   | Assemble specimen in consolidation ring                       | Ensure drainage top and bottom         |\n",
    "| 3️⃣   | Place in load frame and saturate sample                       | Record initial height and area         |\n",
    "| 4️⃣   | Apply incremental loads (e.g. 12.5, 25, 50, … kPa)            | Typically double per step              |\n",
    "| 5️⃣   | Record dial gauge readings over time                          | Track deformation at intervals (0.25, 1, 2, 4, 8… mins) |\n",
    "| 6️⃣   | Maintain each load for 24 hours or until deformation rate is negligible | Use time–deformation curve             |\n",
    "| 7️⃣   | Unload incrementally and monitor rebound                      | Observe elastic recovery               |\n",
    "| 8️⃣   | Oven-dry sample to determine moisture content                 | Required for calculating void ratio    |\n",
    "| 9️⃣   | Calculate compression index (Cc) and coefficient of consolidation (Cv) | Use log–strain regression and time factor (Tv) |\n",
    "\n",
    "---\n",
    "\n",
    "### 🧪 Key Parameters Measured\n",
    "\n",
    "- **Dial Deflection** → vertical deformation\n",
    "- **Elapsed Time (t)** → rate of settlement\n",
    "- **Applied Stress (σ)** → total vertical load\n",
    "- **Specimen Dimensions** → area and initial height\n",
    "- **Moisture Content** → for calculating void ratio and strain\n",
    "\n",
    "---\n",
    "\n",
    "### 📐 Outputs\n",
    "\n",
    "| Parameter       | Formula                                             | Usage                                 |\n",
    "|----------------|------------------------------------------------------|----------------------------------------|\n",
    "| **Cc**          | \\( C_c = \\frac{\\Delta e}{\\log(\\sigma_2/\\sigma_1)} \\) | Compressibility of soil                |\n",
    "| **Cv**          | \\( C_v = \\frac{T_v \\cdot H^2}{t_{50}} \\)             | Settlement rate prediction             |\n",
    "| **Strain (%)**  | \\( \\Delta H / H_0 \\times 100 \\)                      | Deformation under load                 |\n",
    "| **Void Ratio (e)** | Based on moisture and unit weight                 | Required for settlement calculations   |\n",
    "\n",
    "---\n",
    "\n",
    "\n",
    "---\n",
    "\n",
    "### ✅ Visual Checklist of Test Steps (ASTM D2435)\n",
    "\n",
    "| Step | Task                                      | Observation Point                     |\n",
    "|------|-------------------------------------------|----------------------------------------|\n",
    "| 1️⃣   | Prepare saturated, trimmed specimen       | Uniform dimensions; full saturation    |\n",
    "| 2️⃣   | Place specimen in ring with porous stones| No trapped air; drainage enabled       |\n",
    "| 3️⃣   | Position assembly in loading frame       | Ensure proper alignment and contact    |\n",
    "| 4️⃣   | Attach dial gauge or LVDT                | Zero reading; full-range accessibility |\n",
    "| 5️⃣   | Apply first load increment               | Record initial dial deflection         |\n",
    "| 6️⃣   | Capture dial readings over time          | Recommended intervals: <br>0.25, 1, 2, 4, 8, 15, 30 min… up to 24 hr |\n",
    "| 7️⃣   | Increase load incrementally              | Typically double each step (e.g., 12.5 → 25 → 50 kPa…) |\n",
    "| 8️⃣   | Monitor rebound on unloading             | Elastic recovery noted                 |\n",
    "| 9️⃣   | Oven-dry sample for moisture content     | For void ratio and compressibility     |\n",
    "| 🔟   | Analyze strain–log(stress), t₅₀, and compute Cc and Cv | Graphs and regression output          |\n",
    "\n",
    "---\n",
    "                       "
   ]
  },
  {
   "cell_type": "markdown",
   "id": "86c703af-d002-4b1e-b253-6d57b2686fb4",
   "metadata": {},
   "source": [
    "## 2. Simulation"
   ]
  },
  {
   "cell_type": "markdown",
   "id": "55b17156-3ab6-41a6-9621-ef3117fd3c98",
   "metadata": {},
   "source": [
    "### 🧱 Summary of the 1D Consolidation Test App (ASTM D2435 Interactive Module)\n",
    "\n",
    "### 📘 What It Is\n",
    "An interactive Python app built with `ipywidgets` that simulates the **1D Consolidation test** for soil samples. It allows users to input lab data and automatically computes:\n",
    "\n",
    "- Vertical strain under stepwise loading\n",
    "- **Compression Index (Cc)** for estimating compressibility\n",
    "- **Consolidation Coefficient (Cv)** for predicting settlement rate\n",
    "\n",
    "---\n",
    "\n",
    "### ⚙️ What It Does\n",
    "\n",
    "| Feature                | Description                                                  |\n",
    "|------------------------|--------------------------------------------------------------|\n",
    "| Input dial readings    | Accepts initial/final dial gauge values per load increment   |\n",
    "| Computes strain        | Calculates vertical strain (%) from dial compression         |\n",
    "| Regression for Cc      | Fits a line to strain vs. log stress for compression index   |\n",
    "| Computes Cv            | Uses t₅₀ and specimen height to calculate consolidation rate |\n",
    "| Generates report       | Summarizes data in Markdown with optional plot visualization |\n",
    "\n",
    "---\n",
    "\n",
    "### 🧮 How to Interpret the Output\n",
    "\n",
    "### Key Results\n",
    "\n",
    "- **Strain (%)**: Relative vertical deformation from load\n",
    "- **Cc**: Compression Index  \n",
    "  ↳ Higher Cc ⇒ more compressible soil  \n",
    "  ↳ Used to estimate settlement from effective stress change\n",
    "\n",
    "- **Cv (m²/s)**: Coefficient of Consolidation  \n",
    "  ↳ Larger Cv ⇒ faster dissipation of pore water  \n",
    "  ↳ Important for evaluating settlement duration and stability\n",
    "\n",
    "### Use in Design\n",
    "\n",
    "- Cc and Cv are foundational parameters for predicting:\n",
    "  - Primary consolidation settlement\n",
    "  - Time-dependent deformation\n",
    "  - Earthwork and foundation stability over time"
   ]
  },
  {
   "cell_type": "code",
   "execution_count": 6,
   "id": "98349691-87ee-478c-ae00-b7e79a8cad50",
   "metadata": {},
   "outputs": [
    {
     "data": {
      "application/vnd.jupyter.widget-view+json": {
       "model_id": "acc1aa460eae4c52ba7b666b065be22b",
       "version_major": 2,
       "version_minor": 0
      },
      "text/plain": [
       "VBox(children=(IntSlider(value=5, description='Load Steps:', layout=Layout(width='400px'), max=12, min=1, styl…"
      ]
     },
     "metadata": {},
     "output_type": "display_data"
    }
   ],
   "source": [
    "import pandas as pd\n",
    "import numpy as np\n",
    "import ipywidgets as widgets\n",
    "from IPython.display import display, Markdown\n",
    "import matplotlib.pyplot as plt\n",
    "\n",
    "# 📐 Style\n",
    "style = {'description_width': '200px'}\n",
    "layout = widgets.Layout(width='400px')\n",
    "\n",
    "# 📋 Specimen Parameters\n",
    "specimen_area = widgets.FloatText(value=0.00785, description='Specimen Area (m²):', style=style, layout=layout)\n",
    "specimen_height = widgets.FloatText(value=0.025, description='Initial Height (m):', style=style, layout=layout)\n",
    "load_increment = widgets.FloatText(value=12.5, description='Load Increment (kPa):', style=style, layout=layout)\n",
    "num_increments = widgets.IntSlider(value=5, min=1, max=12, description='Load Steps:', style=style, layout=layout)\n",
    "t50_input = widgets.FloatText(value=240, description='t₅₀ Time (min):', style=style, layout=layout)\n",
    "\n",
    "# 🧪 Atterberg Limits for USCS\n",
    "LL_input = widgets.FloatText(value=45.0, description='Liquid Limit (LL%)', style=style, layout=layout)\n",
    "PL_input = widgets.FloatText(value=25.0, description='Plastic Limit (PL%)', style=style, layout=layout)\n",
    "\n",
    "# 📥 Generate Reading Inputs\n",
    "def create_reading_inputs(n):\n",
    "    inputs = []\n",
    "    for i in range(n):\n",
    "        d0 = widgets.FloatText(value=0.00, description=f'Trial {i+1} – Dial Initial (mm)', style=style, layout=layout)\n",
    "        df = widgets.FloatText(value=0.25, description=f'Trial {i+1} – Dial Final (mm)', style=style, layout=layout)\n",
    "        duration = widgets.FloatText(value=240, description=f'Trial {i+1} – Time (min)', style=style, layout=layout)\n",
    "        inputs.append((d0, df, duration))\n",
    "    return inputs\n",
    "\n",
    "reading_inputs = create_reading_inputs(num_increments.value)\n",
    "\n",
    "def update_inputs(change):\n",
    "    global reading_inputs\n",
    "    reading_inputs = create_reading_inputs(change['new'])\n",
    "    input_box.children = [\n",
    "        specimen_area, specimen_height, load_increment, t50_input,\n",
    "        LL_input, PL_input\n",
    "    ] + [w for group in reading_inputs for w in group]\n",
    "\n",
    "num_increments.observe(update_inputs, names='value')\n",
    "\n",
    "input_box = widgets.VBox([\n",
    "    specimen_area, specimen_height, load_increment, t50_input,\n",
    "    LL_input, PL_input\n",
    "] + [w for group in reading_inputs for w in group])\n",
    "\n",
    "run_btn = widgets.Button(description='Generate Full Report', layout=widgets.Layout(width='260px'))\n",
    "\n",
    "# 🧭 USCS Classification Logic\n",
    "def classify_uscs(ll, pl):\n",
    "    pi = ll - pl\n",
    "    if ll < 50:\n",
    "        if pi < 4:\n",
    "            return \"ML – Low plasticity silt\"\n",
    "        elif pi < 7:\n",
    "            return \"CL or ML – Borderline low plasticity\"\n",
    "        elif pi <= 20:\n",
    "            return \"CL – Lean clay\"\n",
    "        else:\n",
    "            return \"CL – Medium plasticity clay\"\n",
    "    else:\n",
    "        if pi <= 20:\n",
    "            return \"MH – Elastic silt\"\n",
    "        else:\n",
    "            return \"CH – Fat clay\"\n",
    "\n",
    "# 🧮 Main Logic\n",
    "def on_run_click(b):\n",
    "    A = specimen_area.value\n",
    "    H0 = specimen_height.value\n",
    "    dP = load_increment.value\n",
    "    t50 = t50_input.value * 60\n",
    "    LL = LL_input.value\n",
    "    PL = PL_input.value\n",
    "    PI = LL - PL\n",
    "    classification = classify_uscs(LL, PL)\n",
    "\n",
    "    rows = []\n",
    "    cumulative_load = 0\n",
    "\n",
    "    for i, (d_init, d_final, time) in enumerate(reading_inputs):\n",
    "        cumulative_load += dP\n",
    "        d1 = d_init.value / 1000\n",
    "        d2 = d_final.value / 1000\n",
    "        strain = (d2 - d1) / H0 if H0 > 0 else 0\n",
    "        rows.append({\n",
    "            'Step': i + 1,\n",
    "            'Applied Stress (kPa)': cumulative_load,\n",
    "            'Dial Initial (mm)': round(d_init.value, 2),\n",
    "            'Dial Final (mm)': round(d_final.value, 2),\n",
    "            'Strain (%)': round(strain * 100, 3),\n",
    "            'Time (min)': time.value,\n",
    "            'Log(Stress)': np.log10(max(cumulative_load, 1))\n",
    "        })\n",
    "\n",
    "    df = pd.DataFrame(rows)\n",
    "\n",
    "    # 📊 Report Markdown\n",
    "    report_md = \"\"\"\n",
    "### 🧱 Consolidation Report – ASTM D2435\n",
    "\n",
    "| Step | Stress (kPa) | Dial Init (mm) | Dial Final (mm) | Strain (%) | Time (min) |\n",
    "|------|--------------|----------------|------------------|-------------|------------|\n",
    "\"\"\"\n",
    "    for row in rows:\n",
    "        report_md += f\"| {row['Step']} | {row['Applied Stress (kPa)']} | {row['Dial Initial (mm)']} | {row['Dial Final (mm)']} | {row['Strain (%)']} | {row['Time (min)']} |\\n\"\n",
    "\n",
    "    report_md += f\"\"\"\n",
    "#### 📌 Specimen Details\n",
    "- **Area**: {A:.5f} m²  \n",
    "- **Initial Height**: {H0:.3f} m  \n",
    "- **Load Increment**: {dP:.1f} kPa  \n",
    "- **t₅₀ Time**: {t50 / 60:.1f} min\n",
    "\n",
    "---\n",
    "\"\"\"\n",
    "\n",
    "    # 📈 Cc Calculation & Plot\n",
    "    df_fit = df[df['Applied Stress (kPa)'] >= df['Applied Stress (kPa)'].max() * 0.5]\n",
    "    if len(df_fit) >= 2:\n",
    "        x = df_fit['Log(Stress)']\n",
    "        y = df_fit['Strain (%)']\n",
    "        slope, intercept = np.polyfit(x, y, 1)\n",
    "        fit_line = slope * df['Log(Stress)'] + intercept\n",
    "        Cc = round(slope / 100, 4)\n",
    "\n",
    "        fig, ax = plt.subplots(figsize=(6, 4))\n",
    "        ax.plot(df['Log(Stress)'], df['Strain (%)'], 'bo-', label='Measured Strain')\n",
    "        ax.plot(df['Log(Stress)'], fit_line, 'r--', label='Cc Regression')\n",
    "        ax.set_xlabel('Log(Stress) [log(kPa)]')\n",
    "        ax.set_ylabel('Strain (%)')\n",
    "        ax.set_title('Strain vs. Log(Stress) – Cc Fit')\n",
    "        ax.grid(True)\n",
    "        ax.legend()\n",
    "        plt.show()\n",
    "\n",
    "        report_md += f\"\"\"\n",
    "### 📊 Compression Index (Cc)\n",
    "\n",
    "- **Cc** = {Cc:.4f}  \n",
    "- Based on strain–log(σ′) regression for final increments\n",
    "\"\"\"\n",
    "    else:\n",
    "        report_md += \"⚠️ Insufficient data to compute compression index (Cc).\\n\"\n",
    "\n",
    "    # ⏳ Cv Calculation\n",
    "    Tv = 0.197\n",
    "    Hdr = H0 / 2\n",
    "    Cv = (Tv * Hdr ** 2) / t50 if t50 > 0 else 0\n",
    "    report_md += f\"\"\"\n",
    "### ⏳ Coefficient of Consolidation (Cv)\n",
    "\n",
    "- **Cv** = {Cv:.6f} m²/s  \n",
    "- Based on t₅₀ = {t50 / 60:.1f} min and Hdr = {Hdr:.3f} m  \n",
    "\"\"\"\n",
    "\n",
    "    # 📘 USCS Output\n",
    "    report_md += f\"\"\"\n",
    "### 🧭 USCS Classification (Atterberg Limits)\n",
    "\n",
    "- **Liquid Limit (LL)** = {LL:.1f} %  \n",
    "- **Plastic Limit (PL)** = {PL:.1f} %  \n",
    "- **Plasticity Index (PI)** = {PI:.1f} %  \n",
    "- **USCS Group** = {classification}\n",
    "\"\"\"\n",
    "\n",
    "    display(Markdown(report_md))\n",
    "\n",
    "run_btn.on_click(on_run_click)\n",
    "\n",
    "# 📦 Display Interface\n",
    "display(widgets.VBox([num_increments, input_box, run_btn]))"
   ]
  },
  {
   "cell_type": "markdown",
   "id": "7f413a08-b2fc-4749-9410-65779e64f631",
   "metadata": {},
   "source": [
    "## 3. Self-Assessment"
   ]
  },
  {
   "cell_type": "markdown",
   "id": "d7da2c38-bef0-430d-aa79-705063df022b",
   "metadata": {},
   "source": [
    "### 🧱 1D Consolidation Test – Conceptual, Reflective & Quiz Questions\n",
    "\n",
    "\n",
    "### 🔍 Conceptual Questions\n",
    "\n",
    "1. What does the compression index (Cc) indicate about the compressibility of soil under load?\n",
    "2. Why is strain plotted against log of vertical stress in evaluating soil consolidation behavior?\n",
    "3. How does the coefficient of consolidation (Cv) influence the rate at which pore water dissipates?\n",
    "4. What is the significance of determining the time for 50% consolidation (t₅₀)?\n",
    "5. How do specimen geometry and drainage path affect the interpretation of Cv?\n",
    "\n",
    "---\n",
    "\n",
    "### 💭 Reflective Questions\n",
    "\n",
    "1. While reviewing your test data, which load steps showed nonlinear strain responses—and what might that imply?\n",
    "2. What factors in a lab setup could influence the accuracy of dial readings or strain measurements?\n",
    "3. If you observed a sudden drop in strain between two stress increments, how would you explain it?\n",
    "4. How would you communicate the meaning of Cc and Cv to a field engineer overseeing embankment construction?\n",
    "5. What challenges might arise when translating lab-calculated Cv into field-scale predictions?\n",
    "\n",
    "---\n",
    "\n",
    "### Theory & Interpretation\n",
    "\n",
    "**Q1. What is the formula used to calculate the compression index (Cc)?**  \n",
    "A. $( C_c = \\Delta e / \\log(\\sigma_2 / \\sigma_1) $) ✅  \n",
    "B. $( C_c = \\Delta H / H_0 $)  \n",
    "C. $( C_c = \\gamma_w \\cdot t / H_0^2 $)  \n",
    "D. $( C_c = \\sigma_2 - \\sigma_1 $)\n",
    "\n",
    "**Q2. The time factor (Tv) for 50% consolidation using the square-root method is approximately:**  \n",
    "A. 0.5  \n",
    "B. 0.197 ✅  \n",
    "C. 1.0  \n",
    "D. 0.10\n",
    "\n",
    "**Q3. Cv is computed from which variables?**  \n",
    "A. Load and compression index  \n",
    "B. Time and specimen diameter  \n",
    "C. Drainage path length and time to 50% consolidation ✅  \n",
    "D. Moisture content and bulk density\n",
    "\n",
    "### Data & Reasoning\n",
    "\n",
    "**Q4. A higher Cv value generally indicates:**  \n",
    "A. Slower water dissipation  \n",
    "B. Faster consolidation rate ✅  \n",
    "C. More clay content  \n",
    "D. Higher shrinkage\n",
    "\n",
    "**Q5. Why is the drainage path taken as H₀/2 in double-drainage setups?**  \n",
    "A. Because water exits only one face  \n",
    "B. Because soil drains vertically and horizontally  \n",
    "C. Because both top and bottom surfaces allow drainage ✅  \n",
    "D. Because initial strain is halved\n",
    "\n",
    "---\n",
    "\n",
    "Would you like these embedded into the app as interactive explanations or formatted as a worksheet for learner assessment?"
   ]
  },
  {
   "cell_type": "code",
   "execution_count": null,
   "id": "9759de12-7fdb-46f3-834a-9cd2273bf30e",
   "metadata": {},
   "outputs": [],
   "source": []
  }
 ],
 "metadata": {
  "kernelspec": {
   "display_name": "Python [conda env:base] *",
   "language": "python",
   "name": "conda-base-py"
  },
  "language_info": {
   "codemirror_mode": {
    "name": "ipython",
    "version": 3
   },
   "file_extension": ".py",
   "mimetype": "text/x-python",
   "name": "python",
   "nbconvert_exporter": "python",
   "pygments_lexer": "ipython3",
   "version": "3.12.7"
  },
  "widgets": {
   "application/vnd.jupyter.widget-state+json": {
    "state": {
     "0000a2bf0d0c4f0fbe3cad10e899b6d2": {
      "model_module": "@jupyter-widgets/controls",
      "model_module_version": "2.0.0",
      "model_name": "DescriptionStyleModel",
      "state": {
       "description_width": "200px"
      }
     },
     "002f3558e64c4d0db6587ce49fde484f": {
      "model_module": "@jupyter-widgets/controls",
      "model_module_version": "2.0.0",
      "model_name": "DescriptionStyleModel",
      "state": {
       "description_width": "200px"
      }
     },
     "0086b0b68e5242698bfaa2b33cc306de": {
      "model_module": "@jupyter-widgets/controls",
      "model_module_version": "2.0.0",
      "model_name": "ButtonModel",
      "state": {
       "description": "Generate Full Report",
       "layout": "IPY_MODEL_5e0678375d09486eb49cc706d0eadbd5",
       "style": "IPY_MODEL_9a1954a27cdc441081e94dd54209215e",
       "tooltip": null
      }
     },
     "04399d0bbcf841f58ee1f3df441b5356": {
      "model_module": "@jupyter-widgets/controls",
      "model_module_version": "2.0.0",
      "model_name": "DescriptionStyleModel",
      "state": {
       "description_width": "200px"
      }
     },
     "06c20bfd750a4250bcac5b5cda27ca2f": {
      "model_module": "@jupyter-widgets/controls",
      "model_module_version": "2.0.0",
      "model_name": "ButtonStyleModel",
      "state": {
       "font_family": null,
       "font_size": null,
       "font_style": null,
       "font_variant": null,
       "font_weight": null,
       "text_color": null,
       "text_decoration": null
      }
     },
     "08cfbe312ef94bd58e11f02190c36feb": {
      "model_module": "@jupyter-widgets/controls",
      "model_module_version": "2.0.0",
      "model_name": "DescriptionStyleModel",
      "state": {
       "description_width": "200px"
      }
     },
     "0a64482467cb4901bb586278388808cc": {
      "model_module": "@jupyter-widgets/controls",
      "model_module_version": "2.0.0",
      "model_name": "DescriptionStyleModel",
      "state": {
       "description_width": "200px"
      }
     },
     "0aa808416c76453e82eed174c2ac4231": {
      "model_module": "@jupyter-widgets/base",
      "model_module_version": "2.0.0",
      "model_name": "LayoutModel",
      "state": {
       "width": "260px"
      }
     },
     "0ab67bddeea740dbbcb9d023b1cc7123": {
      "model_module": "@jupyter-widgets/controls",
      "model_module_version": "2.0.0",
      "model_name": "FloatTextModel",
      "state": {
       "description": "Liquid Limit (LL%)",
       "layout": "IPY_MODEL_45de730323e5431d952ca2ad6dfdf18e",
       "step": null,
       "style": "IPY_MODEL_61995d7407534dbca477e6b8953e29ba",
       "value": 45
      }
     },
     "0bd65bdf22654c70a12068abee4352bc": {
      "model_module": "@jupyter-widgets/controls",
      "model_module_version": "2.0.0",
      "model_name": "FloatTextModel",
      "state": {
       "description": "Specimen Area (m²):",
       "layout": "IPY_MODEL_71fa6e8c3a3347b9a019f4b41162a026",
       "step": null,
       "style": "IPY_MODEL_a8e02a3443e142878d31ccc028333a5d",
       "value": 0.00785
      }
     },
     "0bfef11943694212b83d51ea263d806c": {
      "model_module": "@jupyter-widgets/controls",
      "model_module_version": "2.0.0",
      "model_name": "FloatTextModel",
      "state": {
       "description": "Initial Height (m):",
       "layout": "IPY_MODEL_92e9d060f515434fbea4966f648f5d25",
       "step": null,
       "style": "IPY_MODEL_0f56210d78ea4b849d8c0641bb6faf23",
       "value": 0.025
      }
     },
     "0c34e13141c24e1c976c0e59aeda1ce6": {
      "model_module": "@jupyter-widgets/controls",
      "model_module_version": "2.0.0",
      "model_name": "DescriptionStyleModel",
      "state": {
       "description_width": "200px"
      }
     },
     "0e8d0631d44647da8a9c64409ed4630b": {
      "model_module": "@jupyter-widgets/controls",
      "model_module_version": "2.0.0",
      "model_name": "DescriptionStyleModel",
      "state": {
       "description_width": "200px"
      }
     },
     "0f56210d78ea4b849d8c0641bb6faf23": {
      "model_module": "@jupyter-widgets/controls",
      "model_module_version": "2.0.0",
      "model_name": "DescriptionStyleModel",
      "state": {
       "description_width": "200px"
      }
     },
     "113dad0f75664bb6891865133c2528c0": {
      "model_module": "@jupyter-widgets/controls",
      "model_module_version": "2.0.0",
      "model_name": "DescriptionStyleModel",
      "state": {
       "description_width": "200px"
      }
     },
     "119d6525703541eb9d672eef35ad3253": {
      "model_module": "@jupyter-widgets/controls",
      "model_module_version": "2.0.0",
      "model_name": "DescriptionStyleModel",
      "state": {
       "description_width": "200px"
      }
     },
     "11a87d236641406494b68f9e2f346290": {
      "model_module": "@jupyter-widgets/controls",
      "model_module_version": "2.0.0",
      "model_name": "DescriptionStyleModel",
      "state": {
       "description_width": "200px"
      }
     },
     "12990c9f1f104f7481ccf7dd6b6d929c": {
      "model_module": "@jupyter-widgets/base",
      "model_module_version": "2.0.0",
      "model_name": "LayoutModel",
      "state": {}
     },
     "14f7b26c63ab4a28bd5929e08a53885f": {
      "model_module": "@jupyter-widgets/controls",
      "model_module_version": "2.0.0",
      "model_name": "FloatTextModel",
      "state": {
       "description": "Trial 1 – Dial Initial (mm)",
       "layout": "IPY_MODEL_45de730323e5431d952ca2ad6dfdf18e",
       "step": null,
       "style": "IPY_MODEL_26b9483d68ba481783e1f490e8b280de"
      }
     },
     "15c014b976dd41d7bc1be2e6781c653b": {
      "model_module": "@jupyter-widgets/controls",
      "model_module_version": "2.0.0",
      "model_name": "FloatTextModel",
      "state": {
       "description": "Load Increment (kPa):",
       "layout": "IPY_MODEL_6b1f1b23f43a46d9aa49a7cb0559cb0d",
       "step": null,
       "style": "IPY_MODEL_abb995f6cc28403f81907385fd018d43",
       "value": 12.5
      }
     },
     "1791d68dae4e4f919842d40e2e49eb87": {
      "model_module": "@jupyter-widgets/controls",
      "model_module_version": "2.0.0",
      "model_name": "FloatTextModel",
      "state": {
       "description": "Trial 4 – Dial Final (mm)",
       "layout": "IPY_MODEL_92e9d060f515434fbea4966f648f5d25",
       "step": null,
       "style": "IPY_MODEL_eeed037b52d84d1b8d1c44a881642a7b",
       "value": 0.25
      }
     },
     "1b3e8ca4439743a89d51ba6ee93f12a2": {
      "model_module": "@jupyter-widgets/controls",
      "model_module_version": "2.0.0",
      "model_name": "FloatTextModel",
      "state": {
       "description": "t₅₀ Time (min):",
       "layout": "IPY_MODEL_c121f62a96274100b84bfb4bcfbf6101",
       "step": null,
       "style": "IPY_MODEL_5e089f6cccba45cbb6437cfd921d9252",
       "value": 240
      }
     },
     "1bbe8c91fa454346b52031f9b5c14976": {
      "model_module": "@jupyter-widgets/controls",
      "model_module_version": "2.0.0",
      "model_name": "FloatTextModel",
      "state": {
       "description": "Final Dial T2 (mm)",
       "layout": "IPY_MODEL_6b1f1b23f43a46d9aa49a7cb0559cb0d",
       "step": null,
       "style": "IPY_MODEL_113dad0f75664bb6891865133c2528c0",
       "value": 0.25
      }
     },
     "1bf081e5d9eb43c49b886bbd10434611": {
      "model_module": "@jupyter-widgets/controls",
      "model_module_version": "2.0.0",
      "model_name": "VBoxModel",
      "state": {
       "children": [
        "IPY_MODEL_5bcffcc7dbbc49c3ade042ec5de15711",
        "IPY_MODEL_b1b6e622c39c44cead6f93b8ac284825",
        "IPY_MODEL_31395bc03ecf40108a133426cdb9ffb0",
        "IPY_MODEL_36abd790e3354db3ba2068d51cda8bc0",
        "IPY_MODEL_0ab67bddeea740dbbcb9d023b1cc7123",
        "IPY_MODEL_fb47c138ebae427da4e1ebd0b5dec0ca",
        "IPY_MODEL_14f7b26c63ab4a28bd5929e08a53885f",
        "IPY_MODEL_46937b3f513a4374bea36e4090ead6dd",
        "IPY_MODEL_7dabf826e3f1482e9cac140519497b6b",
        "IPY_MODEL_d32414838cc5476daf6e306ac52c9707",
        "IPY_MODEL_a1970c393dc94c98a6456b7593b4da74",
        "IPY_MODEL_e4bce8de6e4b4fa2b79e5b3162209eda",
        "IPY_MODEL_478e681a062b42d8b2e0a4d013055606",
        "IPY_MODEL_fa5053fdf1284e2e81e2912e066da38e",
        "IPY_MODEL_ed74f716d9dc454da61d27e50e2a2f95",
        "IPY_MODEL_be6a8ef131ce47ce8fbfbc4a30aec975",
        "IPY_MODEL_83d34678941f4fac8ce7de59e2d6f244",
        "IPY_MODEL_edc6c6c368c24f5fae2505dc24ee5c79",
        "IPY_MODEL_487cb0c342b44371a66e26f3730beb54",
        "IPY_MODEL_2e23ba060c484abca8ef5661c9ef7d6c",
        "IPY_MODEL_350a704488064d1b871494e6a6cfdecc"
       ],
       "layout": "IPY_MODEL_f69c78e588554e30847d5dc150640525"
      }
     },
     "1c025f2465f24199a7c924d66fe35fff": {
      "model_module": "@jupyter-widgets/controls",
      "model_module_version": "2.0.0",
      "model_name": "SliderStyleModel",
      "state": {
       "description_width": "200px"
      }
     },
     "1d37e48eb4ab4582a0109fb7e8504e09": {
      "model_module": "@jupyter-widgets/controls",
      "model_module_version": "2.0.0",
      "model_name": "FloatTextModel",
      "state": {
       "description": "Final Dial T3 (mm)",
       "layout": "IPY_MODEL_6b1f1b23f43a46d9aa49a7cb0559cb0d",
       "step": null,
       "style": "IPY_MODEL_6b5a89e3432e45f0bf4051e4b4d60163",
       "value": 0.25
      }
     },
     "1fb4e542f9e94758adf8cd58217e2365": {
      "model_module": "@jupyter-widgets/controls",
      "model_module_version": "2.0.0",
      "model_name": "FloatTextModel",
      "state": {
       "description": "Time to Final (min) T4",
       "layout": "IPY_MODEL_6b1f1b23f43a46d9aa49a7cb0559cb0d",
       "step": null,
       "style": "IPY_MODEL_209235f09f3f4bac9db177777f4bb1b0",
       "value": 240
      }
     },
     "20324287ea074726936615b4cc6dff23": {
      "model_module": "@jupyter-widgets/controls",
      "model_module_version": "2.0.0",
      "model_name": "VBoxModel",
      "state": {
       "children": [
        "IPY_MODEL_b649989788ca40bcbb0879abcc0846fd",
        "IPY_MODEL_ecb4a9780e9d4ff4b645e2581ada3393",
        "IPY_MODEL_90301b29eb9e4363a186384b381af97a"
       ],
       "layout": "IPY_MODEL_12990c9f1f104f7481ccf7dd6b6d929c"
      }
     },
     "209235f09f3f4bac9db177777f4bb1b0": {
      "model_module": "@jupyter-widgets/controls",
      "model_module_version": "2.0.0",
      "model_name": "DescriptionStyleModel",
      "state": {
       "description_width": "200px"
      }
     },
     "215d7d4fc21747a8a3a09304757f6cfe": {
      "model_module": "@jupyter-widgets/controls",
      "model_module_version": "2.0.0",
      "model_name": "DescriptionStyleModel",
      "state": {
       "description_width": "200px"
      }
     },
     "21d3467bc74b47b6b59baf73ee90e7f3": {
      "model_module": "@jupyter-widgets/controls",
      "model_module_version": "2.0.0",
      "model_name": "DescriptionStyleModel",
      "state": {
       "description_width": "200px"
      }
     },
     "23066583127f4d3683c77a5ebeaa13df": {
      "model_module": "@jupyter-widgets/controls",
      "model_module_version": "2.0.0",
      "model_name": "DescriptionStyleModel",
      "state": {
       "description_width": "200px"
      }
     },
     "243689c0cfe449edb11f9706c682b34e": {
      "model_module": "@jupyter-widgets/controls",
      "model_module_version": "2.0.0",
      "model_name": "DescriptionStyleModel",
      "state": {
       "description_width": "200px"
      }
     },
     "24a9978b219340d4851115d2927d8083": {
      "model_module": "@jupyter-widgets/controls",
      "model_module_version": "2.0.0",
      "model_name": "VBoxModel",
      "state": {
       "children": [
        "IPY_MODEL_e0fb3cd6822b4ac09f183149f71c6a04",
        "IPY_MODEL_6d1cba42945e4a3ebf9e24f8333c4dd6",
        "IPY_MODEL_f7c4340c827b491689c34fda39015e72"
       ],
       "layout": "IPY_MODEL_de300b202b2e44b08ea913aab0bb7114"
      }
     },
     "24f5e97410a84ef584b201f9a0cf59cf": {
      "model_module": "@jupyter-widgets/controls",
      "model_module_version": "2.0.0",
      "model_name": "DescriptionStyleModel",
      "state": {
       "description_width": "200px"
      }
     },
     "254c93982b0546dc8e668a4774dedb84": {
      "model_module": "@jupyter-widgets/controls",
      "model_module_version": "2.0.0",
      "model_name": "DescriptionStyleModel",
      "state": {
       "description_width": "200px"
      }
     },
     "2646a6fb52da48dfab41b25117470bfb": {
      "model_module": "@jupyter-widgets/controls",
      "model_module_version": "2.0.0",
      "model_name": "FloatTextModel",
      "state": {
       "description": "Trial 2 – Time (min)",
       "layout": "IPY_MODEL_92e9d060f515434fbea4966f648f5d25",
       "step": null,
       "style": "IPY_MODEL_d8de4e93300f4672a6ab037c8b345eb2",
       "value": 240
      }
     },
     "26b9483d68ba481783e1f490e8b280de": {
      "model_module": "@jupyter-widgets/controls",
      "model_module_version": "2.0.0",
      "model_name": "DescriptionStyleModel",
      "state": {
       "description_width": "200px"
      }
     },
     "2797d645611d44f59793ec2c69991fd9": {
      "model_module": "@jupyter-widgets/controls",
      "model_module_version": "2.0.0",
      "model_name": "FloatTextModel",
      "state": {
       "description": "Trial 3 – Time (min)",
       "layout": "IPY_MODEL_92e9d060f515434fbea4966f648f5d25",
       "step": null,
       "style": "IPY_MODEL_71c5d4f1762f46cdb83efa480992ed52",
       "value": 240
      }
     },
     "27b37fe9c7eb4a8b8f2b26fc9da7e3c2": {
      "model_module": "@jupyter-widgets/base",
      "model_module_version": "2.0.0",
      "model_name": "LayoutModel",
      "state": {
       "width": "400px"
      }
     },
     "28019447b1ea4133b4558f021f209ba4": {
      "model_module": "@jupyter-widgets/controls",
      "model_module_version": "2.0.0",
      "model_name": "FloatTextModel",
      "state": {
       "description": "Initial Dial T1 (mm)",
       "layout": "IPY_MODEL_6b1f1b23f43a46d9aa49a7cb0559cb0d",
       "step": null,
       "style": "IPY_MODEL_72af5ccf124948ab8fcdd4ace5fcc8d1"
      }
     },
     "28ec4efd1d964f1da8b59c353a566f0a": {
      "model_module": "@jupyter-widgets/controls",
      "model_module_version": "2.0.0",
      "model_name": "FloatTextModel",
      "state": {
       "description": "Trial 4 – Time (min)",
       "layout": "IPY_MODEL_c121f62a96274100b84bfb4bcfbf6101",
       "step": null,
       "style": "IPY_MODEL_cd3126c64f0c402baf5c9421c0ddf609",
       "value": 240
      }
     },
     "28fd2479e35c4785b99365b733283b5b": {
      "model_module": "@jupyter-widgets/controls",
      "model_module_version": "2.0.0",
      "model_name": "FloatTextModel",
      "state": {
       "description": "Trial 3 – Dial Final (mm)",
       "layout": "IPY_MODEL_71fa6e8c3a3347b9a019f4b41162a026",
       "step": null,
       "style": "IPY_MODEL_f21b16b6a22245eca4859ef919bcd014",
       "value": 0.25
      }
     },
     "29ad53495d3448fd80b8a379c73d9cb5": {
      "model_module": "@jupyter-widgets/controls",
      "model_module_version": "2.0.0",
      "model_name": "ButtonModel",
      "state": {
       "description": "Generate Full Report",
       "layout": "IPY_MODEL_794df6f9fa964b81980041703c59612a",
       "style": "IPY_MODEL_4c06700802704aa69221bcc280717b86",
       "tooltip": null
      }
     },
     "2a3d62607b5041a3b5415583633f2e85": {
      "model_module": "@jupyter-widgets/base",
      "model_module_version": "2.0.0",
      "model_name": "LayoutModel",
      "state": {}
     },
     "2ae9fd82782049e4a46669196b6f66ca": {
      "model_module": "@jupyter-widgets/controls",
      "model_module_version": "2.0.0",
      "model_name": "DescriptionStyleModel",
      "state": {
       "description_width": "200px"
      }
     },
     "2d24efb203fc4d66a6323623f407dabc": {
      "model_module": "@jupyter-widgets/controls",
      "model_module_version": "2.0.0",
      "model_name": "FloatTextModel",
      "state": {
       "description": "Trial 5 – Time (min)",
       "layout": "IPY_MODEL_27b37fe9c7eb4a8b8f2b26fc9da7e3c2",
       "step": null,
       "style": "IPY_MODEL_5962ed5627e043809dc51d668521c279",
       "value": 240
      }
     },
     "2d8c4ce160ef487bb03f9060db3b801b": {
      "model_module": "@jupyter-widgets/controls",
      "model_module_version": "2.0.0",
      "model_name": "FloatTextModel",
      "state": {
       "description": "Trial 3 – Time (min)",
       "layout": "IPY_MODEL_c121f62a96274100b84bfb4bcfbf6101",
       "step": null,
       "style": "IPY_MODEL_644585c646a14bc28e0dac4bfb7cc8ef",
       "value": 240
      }
     },
     "2e23ba060c484abca8ef5661c9ef7d6c": {
      "model_module": "@jupyter-widgets/controls",
      "model_module_version": "2.0.0",
      "model_name": "FloatTextModel",
      "state": {
       "description": "Trial 5 – Dial Final (mm)",
       "layout": "IPY_MODEL_45de730323e5431d952ca2ad6dfdf18e",
       "step": null,
       "style": "IPY_MODEL_2f1116c8db3d4b45a08a1e090e6ebd80",
       "value": 0.25
      }
     },
     "2e764b32f5c74b8cadb7cce86b64c2e1": {
      "model_module": "@jupyter-widgets/controls",
      "model_module_version": "2.0.0",
      "model_name": "FloatTextModel",
      "state": {
       "description": "Initial Dial T4 (mm)",
       "layout": "IPY_MODEL_6b1f1b23f43a46d9aa49a7cb0559cb0d",
       "step": null,
       "style": "IPY_MODEL_7629c66db8a34733a6d40ebd11572829"
      }
     },
     "2eed1df37dc94adf9cd0c7f14520c97d": {
      "model_module": "@jupyter-widgets/controls",
      "model_module_version": "2.0.0",
      "model_name": "DescriptionStyleModel",
      "state": {
       "description_width": "200px"
      }
     },
     "2f1116c8db3d4b45a08a1e090e6ebd80": {
      "model_module": "@jupyter-widgets/controls",
      "model_module_version": "2.0.0",
      "model_name": "DescriptionStyleModel",
      "state": {
       "description_width": "200px"
      }
     },
     "3070c9cab80640798f076073de874f47": {
      "model_module": "@jupyter-widgets/controls",
      "model_module_version": "2.0.0",
      "model_name": "DescriptionStyleModel",
      "state": {
       "description_width": "200px"
      }
     },
     "31395bc03ecf40108a133426cdb9ffb0": {
      "model_module": "@jupyter-widgets/controls",
      "model_module_version": "2.0.0",
      "model_name": "FloatTextModel",
      "state": {
       "description": "Load Increment (kPa):",
       "layout": "IPY_MODEL_45de730323e5431d952ca2ad6dfdf18e",
       "step": null,
       "style": "IPY_MODEL_2eed1df37dc94adf9cd0c7f14520c97d",
       "value": 12.5
      }
     },
     "325d54a16f044e18ac72e044acf26b07": {
      "model_module": "@jupyter-widgets/controls",
      "model_module_version": "2.0.0",
      "model_name": "DescriptionStyleModel",
      "state": {
       "description_width": "200px"
      }
     },
     "3320f39b0d494a07a7f8f68c72c4a130": {
      "model_module": "@jupyter-widgets/controls",
      "model_module_version": "2.0.0",
      "model_name": "FloatTextModel",
      "state": {
       "description": "Trial 4 – Dial Final (mm)",
       "layout": "IPY_MODEL_c121f62a96274100b84bfb4bcfbf6101",
       "step": null,
       "style": "IPY_MODEL_b26958a023ff42c9aff4fe2370ddf8a8",
       "value": 0.25
      }
     },
     "33c79ecd17564ae1ab6d3a0f5949b843": {
      "model_module": "@jupyter-widgets/controls",
      "model_module_version": "2.0.0",
      "model_name": "FloatTextModel",
      "state": {
       "description": "Plastic Limit (PL%)",
       "layout": "IPY_MODEL_71fa6e8c3a3347b9a019f4b41162a026",
       "step": null,
       "style": "IPY_MODEL_9957aa13ead94ce3aee82d9d1a860215",
       "value": 25
      }
     },
     "350a704488064d1b871494e6a6cfdecc": {
      "model_module": "@jupyter-widgets/controls",
      "model_module_version": "2.0.0",
      "model_name": "FloatTextModel",
      "state": {
       "description": "Trial 5 – Time (min)",
       "layout": "IPY_MODEL_45de730323e5431d952ca2ad6dfdf18e",
       "step": null,
       "style": "IPY_MODEL_71222bb1517246ae9e6778ea272def08",
       "value": 240
      }
     },
     "350e36128095410cb156154f1cc5994e": {
      "model_module": "@jupyter-widgets/controls",
      "model_module_version": "2.0.0",
      "model_name": "DescriptionStyleModel",
      "state": {
       "description_width": "200px"
      }
     },
     "3528a25b2ffe4e7d92b02da5d680ce4e": {
      "model_module": "@jupyter-widgets/controls",
      "model_module_version": "2.0.0",
      "model_name": "DescriptionStyleModel",
      "state": {
       "description_width": "200px"
      }
     },
     "35ce160b567a436d92b920f3abd58fce": {
      "model_module": "@jupyter-widgets/controls",
      "model_module_version": "2.0.0",
      "model_name": "DescriptionStyleModel",
      "state": {
       "description_width": "200px"
      }
     },
     "35d05a5d809a4e15bbce489519d10988": {
      "model_module": "@jupyter-widgets/controls",
      "model_module_version": "2.0.0",
      "model_name": "FloatTextModel",
      "state": {
       "description": "Initial Height (m):",
       "layout": "IPY_MODEL_6b1f1b23f43a46d9aa49a7cb0559cb0d",
       "step": null,
       "style": "IPY_MODEL_24f5e97410a84ef584b201f9a0cf59cf",
       "value": 0.025
      }
     },
     "36abd790e3354db3ba2068d51cda8bc0": {
      "model_module": "@jupyter-widgets/controls",
      "model_module_version": "2.0.0",
      "model_name": "FloatTextModel",
      "state": {
       "description": "t₅₀ Time (min):",
       "layout": "IPY_MODEL_45de730323e5431d952ca2ad6dfdf18e",
       "step": null,
       "style": "IPY_MODEL_3ac40958eefa41bdb79f0650d34f4016",
       "value": 240
      }
     },
     "3ac40958eefa41bdb79f0650d34f4016": {
      "model_module": "@jupyter-widgets/controls",
      "model_module_version": "2.0.0",
      "model_name": "DescriptionStyleModel",
      "state": {
       "description_width": "200px"
      }
     },
     "3b4f37273a3c40f08f811d8975c31ac7": {
      "model_module": "@jupyter-widgets/controls",
      "model_module_version": "2.0.0",
      "model_name": "FloatTextModel",
      "state": {
       "description": "Trial 3 – Dial Final (mm)",
       "layout": "IPY_MODEL_92e9d060f515434fbea4966f648f5d25",
       "step": null,
       "style": "IPY_MODEL_c4e7089ab7e44e6ca7d55eba3ba8422e",
       "value": 0.25
      }
     },
     "3bae5ae957ce49a4b43c8fb2328f8bb4": {
      "model_module": "@jupyter-widgets/controls",
      "model_module_version": "2.0.0",
      "model_name": "DescriptionStyleModel",
      "state": {
       "description_width": "200px"
      }
     },
     "3ce1ab5b71124a0bbcc77d27b42d09de": {
      "model_module": "@jupyter-widgets/controls",
      "model_module_version": "2.0.0",
      "model_name": "DescriptionStyleModel",
      "state": {
       "description_width": "200px"
      }
     },
     "3fffb660aafc476e9495ac9a60e2f322": {
      "model_module": "@jupyter-widgets/controls",
      "model_module_version": "2.0.0",
      "model_name": "FloatTextModel",
      "state": {
       "description": "Load Increment (kPa):",
       "layout": "IPY_MODEL_71fa6e8c3a3347b9a019f4b41162a026",
       "step": null,
       "style": "IPY_MODEL_cea8ba891dcd4d3da908d096515ad415",
       "value": 12.5
      }
     },
     "431257e6d26c435c984daccfcaf005b2": {
      "model_module": "@jupyter-widgets/controls",
      "model_module_version": "2.0.0",
      "model_name": "VBoxModel",
      "state": {
       "children": [
        "IPY_MODEL_9874f0ce6d7346af9c924e3db456bd49",
        "IPY_MODEL_61e3e12140bf4714ace9c3f4edc1920f",
        "IPY_MODEL_ddd8be6eba764458a2904506d0d0658e"
       ],
       "layout": "IPY_MODEL_cad1c31a29604ce4b267365337d4cf34"
      }
     },
     "43dc52fd986240d4ae1272d2a8b10ebe": {
      "model_module": "@jupyter-widgets/controls",
      "model_module_version": "2.0.0",
      "model_name": "DescriptionStyleModel",
      "state": {
       "description_width": "200px"
      }
     },
     "458d64a140ae4405809b94697ee861a2": {
      "model_module": "@jupyter-widgets/controls",
      "model_module_version": "2.0.0",
      "model_name": "DescriptionStyleModel",
      "state": {
       "description_width": "200px"
      }
     },
     "45de730323e5431d952ca2ad6dfdf18e": {
      "model_module": "@jupyter-widgets/base",
      "model_module_version": "2.0.0",
      "model_name": "LayoutModel",
      "state": {
       "width": "400px"
      }
     },
     "46937b3f513a4374bea36e4090ead6dd": {
      "model_module": "@jupyter-widgets/controls",
      "model_module_version": "2.0.0",
      "model_name": "FloatTextModel",
      "state": {
       "description": "Trial 1 – Dial Final (mm)",
       "layout": "IPY_MODEL_45de730323e5431d952ca2ad6dfdf18e",
       "step": null,
       "style": "IPY_MODEL_3ce1ab5b71124a0bbcc77d27b42d09de",
       "value": 0.25
      }
     },
     "469f6b6b1c1043809fd2a345bd9cd5bb": {
      "model_module": "@jupyter-widgets/controls",
      "model_module_version": "2.0.0",
      "model_name": "DescriptionStyleModel",
      "state": {
       "description_width": "200px"
      }
     },
     "478e681a062b42d8b2e0a4d013055606": {
      "model_module": "@jupyter-widgets/controls",
      "model_module_version": "2.0.0",
      "model_name": "FloatTextModel",
      "state": {
       "description": "Trial 3 – Dial Initial (mm)",
       "layout": "IPY_MODEL_45de730323e5431d952ca2ad6dfdf18e",
       "step": null,
       "style": "IPY_MODEL_f0c9028aaef3451eaa645784a20fb50d"
      }
     },
     "487cb0c342b44371a66e26f3730beb54": {
      "model_module": "@jupyter-widgets/controls",
      "model_module_version": "2.0.0",
      "model_name": "FloatTextModel",
      "state": {
       "description": "Trial 5 – Dial Initial (mm)",
       "layout": "IPY_MODEL_45de730323e5431d952ca2ad6dfdf18e",
       "step": null,
       "style": "IPY_MODEL_ddc6b1bd609f4c2686043b13c2e0c9f7"
      }
     },
     "4b7bcb9621ad4da9be54d33b3154ce04": {
      "model_module": "@jupyter-widgets/controls",
      "model_module_version": "2.0.0",
      "model_name": "FloatTextModel",
      "state": {
       "description": "Trial 5 – Time (min)",
       "layout": "IPY_MODEL_92e9d060f515434fbea4966f648f5d25",
       "step": null,
       "style": "IPY_MODEL_215d7d4fc21747a8a3a09304757f6cfe",
       "value": 240
      }
     },
     "4bd24b03e8bf47ceb360296278e49e77": {
      "model_module": "@jupyter-widgets/controls",
      "model_module_version": "2.0.0",
      "model_name": "FloatTextModel",
      "state": {
       "description": "Trial 4 – Dial Initial (mm)",
       "layout": "IPY_MODEL_c121f62a96274100b84bfb4bcfbf6101",
       "step": null,
       "style": "IPY_MODEL_8845780cef5146d2889c78039e97654f"
      }
     },
     "4c06700802704aa69221bcc280717b86": {
      "model_module": "@jupyter-widgets/controls",
      "model_module_version": "2.0.0",
      "model_name": "ButtonStyleModel",
      "state": {
       "font_family": null,
       "font_size": null,
       "font_style": null,
       "font_variant": null,
       "font_weight": null,
       "text_color": null,
       "text_decoration": null
      }
     },
     "4c5f98cf78ee4a55a94232d571120ea0": {
      "model_module": "@jupyter-widgets/controls",
      "model_module_version": "2.0.0",
      "model_name": "FloatTextModel",
      "state": {
       "description": "Trial 5 – Time (min)",
       "layout": "IPY_MODEL_c121f62a96274100b84bfb4bcfbf6101",
       "step": null,
       "style": "IPY_MODEL_96ac8317987f4123b65477980a7bc82a",
       "value": 240
      }
     },
     "4c8e7b7f885748ebac2b45a2bdf5072f": {
      "model_module": "@jupyter-widgets/controls",
      "model_module_version": "2.0.0",
      "model_name": "DescriptionStyleModel",
      "state": {
       "description_width": "200px"
      }
     },
     "4ccbabea03cf47918a0f74bfa19a5dfc": {
      "model_module": "@jupyter-widgets/controls",
      "model_module_version": "2.0.0",
      "model_name": "FloatTextModel",
      "state": {
       "description": "Trial 5 – Dial Initial (mm)",
       "layout": "IPY_MODEL_71fa6e8c3a3347b9a019f4b41162a026",
       "step": null,
       "style": "IPY_MODEL_23066583127f4d3683c77a5ebeaa13df"
      }
     },
     "4cda210f7b784c3daeb79408722f4ccf": {
      "model_module": "@jupyter-widgets/base",
      "model_module_version": "2.0.0",
      "model_name": "LayoutModel",
      "state": {}
     },
     "4da87b30b471440e975b678d68bf97f3": {
      "model_module": "@jupyter-widgets/controls",
      "model_module_version": "2.0.0",
      "model_name": "IntSliderModel",
      "state": {
       "behavior": "drag-tap",
       "description": "Load Steps:",
       "layout": "IPY_MODEL_71fa6e8c3a3347b9a019f4b41162a026",
       "max": 12,
       "min": 1,
       "style": "IPY_MODEL_a8decd06fc46441dade583ccc9e3c1b8",
       "value": 5
      }
     },
     "4dce3ff54eb047478bb314dc0983b6fa": {
      "model_module": "@jupyter-widgets/controls",
      "model_module_version": "2.0.0",
      "model_name": "FloatTextModel",
      "state": {
       "description": "Trial 2 – Dial Final (mm)",
       "layout": "IPY_MODEL_92e9d060f515434fbea4966f648f5d25",
       "step": null,
       "style": "IPY_MODEL_04399d0bbcf841f58ee1f3df441b5356",
       "value": 0.25
      }
     },
     "509ea7fec1ca4764bfe2b51e628d7723": {
      "model_module": "@jupyter-widgets/controls",
      "model_module_version": "2.0.0",
      "model_name": "DescriptionStyleModel",
      "state": {
       "description_width": "200px"
      }
     },
     "50d95e3158914595b7b79cc0e2959bff": {
      "model_module": "@jupyter-widgets/controls",
      "model_module_version": "2.0.0",
      "model_name": "FloatTextModel",
      "state": {
       "description": "Load Increment (kPa):",
       "layout": "IPY_MODEL_c121f62a96274100b84bfb4bcfbf6101",
       "step": null,
       "style": "IPY_MODEL_5ffe1a54a6304689b8ea06d3a4d3dd6d",
       "value": 12.5
      }
     },
     "513330999b80494a985b6ef50136dd46": {
      "model_module": "@jupyter-widgets/controls",
      "model_module_version": "2.0.0",
      "model_name": "FloatTextModel",
      "state": {
       "description": "Trial 4 – Time (min)",
       "layout": "IPY_MODEL_71fa6e8c3a3347b9a019f4b41162a026",
       "step": null,
       "style": "IPY_MODEL_5b5c09f7daad402aba6c43e4cc3dd127",
       "value": 240
      }
     },
     "513e58ece6f14201859f94a973f3e49b": {
      "model_module": "@jupyter-widgets/controls",
      "model_module_version": "2.0.0",
      "model_name": "DescriptionStyleModel",
      "state": {
       "description_width": "200px"
      }
     },
     "51547f7e05174284bdd1a5fced87d5b5": {
      "model_module": "@jupyter-widgets/controls",
      "model_module_version": "2.0.0",
      "model_name": "DescriptionStyleModel",
      "state": {
       "description_width": "200px"
      }
     },
     "52fe2e1c85ee43eeb4199a5a511a42b0": {
      "model_module": "@jupyter-widgets/controls",
      "model_module_version": "2.0.0",
      "model_name": "DescriptionStyleModel",
      "state": {
       "description_width": "200px"
      }
     },
     "5354c89b7db24fcaba991047afbcab80": {
      "model_module": "@jupyter-widgets/controls",
      "model_module_version": "2.0.0",
      "model_name": "IntSliderModel",
      "state": {
       "behavior": "drag-tap",
       "description": "Load Steps:",
       "layout": "IPY_MODEL_45de730323e5431d952ca2ad6dfdf18e",
       "max": 12,
       "min": 1,
       "style": "IPY_MODEL_dabba9ed34da4538a7fc7f53003876cf",
       "value": 5
      }
     },
     "53b658d6bf854f0687214a9ce679449e": {
      "model_module": "@jupyter-widgets/controls",
      "model_module_version": "2.0.0",
      "model_name": "FloatTextModel",
      "state": {
       "description": "Trial 3 – Time (min)",
       "layout": "IPY_MODEL_71fa6e8c3a3347b9a019f4b41162a026",
       "step": null,
       "style": "IPY_MODEL_9efa915d1014480388245b406803c3e4",
       "value": 240
      }
     },
     "53e6282988b7497387c2ad1ca75c1dc7": {
      "model_module": "@jupyter-widgets/controls",
      "model_module_version": "2.0.0",
      "model_name": "FloatTextModel",
      "state": {
       "description": "Time to Final (min) T1",
       "layout": "IPY_MODEL_6b1f1b23f43a46d9aa49a7cb0559cb0d",
       "step": null,
       "style": "IPY_MODEL_740252a6186b4e6e96870efe0f5c79bf",
       "value": 240
      }
     },
     "54c91d4945924a35bd3c18e8f7b460ed": {
      "model_module": "@jupyter-widgets/controls",
      "model_module_version": "2.0.0",
      "model_name": "FloatTextModel",
      "state": {
       "description": "Trial 4 – Dial Initial (mm)",
       "layout": "IPY_MODEL_27b37fe9c7eb4a8b8f2b26fc9da7e3c2",
       "step": null,
       "style": "IPY_MODEL_cd35304ce38e4155b6fca95808dc45ba"
      }
     },
     "5525b4e388554a4ab8e074c00d5c9297": {
      "model_module": "@jupyter-widgets/controls",
      "model_module_version": "2.0.0",
      "model_name": "FloatTextModel",
      "state": {
       "description": "Trial 2 – Time (min)",
       "layout": "IPY_MODEL_27b37fe9c7eb4a8b8f2b26fc9da7e3c2",
       "step": null,
       "style": "IPY_MODEL_ec68b12013a24651ae1465f9df3690fd",
       "value": 240
      }
     },
     "581c46362c9440d0b89f0399a2d45a8c": {
      "model_module": "@jupyter-widgets/controls",
      "model_module_version": "2.0.0",
      "model_name": "FloatTextModel",
      "state": {
       "description": "Time to Final (min) T3",
       "layout": "IPY_MODEL_6b1f1b23f43a46d9aa49a7cb0559cb0d",
       "step": null,
       "style": "IPY_MODEL_d97356b3bb8843fb922ddae862b8adda",
       "value": 240
      }
     },
     "584ac3aafcda4835ad2f81cbc472f500": {
      "model_module": "@jupyter-widgets/controls",
      "model_module_version": "2.0.0",
      "model_name": "FloatTextModel",
      "state": {
       "description": "Trial 3 – Dial Final (mm)",
       "layout": "IPY_MODEL_c121f62a96274100b84bfb4bcfbf6101",
       "step": null,
       "style": "IPY_MODEL_11a87d236641406494b68f9e2f346290",
       "value": 0.25
      }
     },
     "58a7435180654844a9105bb84a673433": {
      "model_module": "@jupyter-widgets/controls",
      "model_module_version": "2.0.0",
      "model_name": "FloatTextModel",
      "state": {
       "description": "Trial 3 – Dial Initial (mm)",
       "layout": "IPY_MODEL_92e9d060f515434fbea4966f648f5d25",
       "step": null,
       "style": "IPY_MODEL_a7c86bbeaea44f308df2ccacaefb2197"
      }
     },
     "5935e447bfe042ea8407471646e68ec3": {
      "model_module": "@jupyter-widgets/controls",
      "model_module_version": "2.0.0",
      "model_name": "FloatTextModel",
      "state": {
       "description": "Trial 3 – Dial Initial (mm)",
       "layout": "IPY_MODEL_71fa6e8c3a3347b9a019f4b41162a026",
       "step": null,
       "style": "IPY_MODEL_a93e6e5a0dac4c4a8e537cd1f366cb85"
      }
     },
     "594c8cb8575942e9b80c4e200e46017e": {
      "model_module": "@jupyter-widgets/controls",
      "model_module_version": "2.0.0",
      "model_name": "FloatTextModel",
      "state": {
       "description": "t₅₀ Time (min):",
       "layout": "IPY_MODEL_27b37fe9c7eb4a8b8f2b26fc9da7e3c2",
       "step": null,
       "style": "IPY_MODEL_955a5ae1a08b4e248ab83b63433451a7",
       "value": 240
      }
     },
     "5962ed5627e043809dc51d668521c279": {
      "model_module": "@jupyter-widgets/controls",
      "model_module_version": "2.0.0",
      "model_name": "DescriptionStyleModel",
      "state": {
       "description_width": "200px"
      }
     },
     "5a8b5b3f7ebe43fdb8d8b4267802ec66": {
      "model_module": "@jupyter-widgets/controls",
      "model_module_version": "2.0.0",
      "model_name": "DescriptionStyleModel",
      "state": {
       "description_width": "200px"
      }
     },
     "5b5c09f7daad402aba6c43e4cc3dd127": {
      "model_module": "@jupyter-widgets/controls",
      "model_module_version": "2.0.0",
      "model_name": "DescriptionStyleModel",
      "state": {
       "description_width": "200px"
      }
     },
     "5bcffcc7dbbc49c3ade042ec5de15711": {
      "model_module": "@jupyter-widgets/controls",
      "model_module_version": "2.0.0",
      "model_name": "FloatTextModel",
      "state": {
       "description": "Specimen Area (m²):",
       "layout": "IPY_MODEL_45de730323e5431d952ca2ad6dfdf18e",
       "step": null,
       "style": "IPY_MODEL_945830fe434b44d18da2772abc3a940d",
       "value": 0.00785
      }
     },
     "5c45b25d58284bbeaa3ff9281b555969": {
      "model_module": "@jupyter-widgets/controls",
      "model_module_version": "2.0.0",
      "model_name": "DescriptionStyleModel",
      "state": {
       "description_width": "200px"
      }
     },
     "5cef0709a669482c8b94108fe2eda16c": {
      "model_module": "@jupyter-widgets/controls",
      "model_module_version": "2.0.0",
      "model_name": "FloatTextModel",
      "state": {
       "description": "Trial 1 – Dial Final (mm)",
       "layout": "IPY_MODEL_c121f62a96274100b84bfb4bcfbf6101",
       "step": null,
       "style": "IPY_MODEL_0c34e13141c24e1c976c0e59aeda1ce6",
       "value": 0.25
      }
     },
     "5d4112797c4c48ef8d4a5b2fa842e9f8": {
      "model_module": "@jupyter-widgets/controls",
      "model_module_version": "2.0.0",
      "model_name": "DescriptionStyleModel",
      "state": {
       "description_width": "200px"
      }
     },
     "5d4bfeb9467a4b10b1f2c7f812eed7fd": {
      "model_module": "@jupyter-widgets/controls",
      "model_module_version": "2.0.0",
      "model_name": "FloatTextModel",
      "state": {
       "description": "Initial Dial T2 (mm)",
       "layout": "IPY_MODEL_6b1f1b23f43a46d9aa49a7cb0559cb0d",
       "step": null,
       "style": "IPY_MODEL_458d64a140ae4405809b94697ee861a2"
      }
     },
     "5e0678375d09486eb49cc706d0eadbd5": {
      "model_module": "@jupyter-widgets/base",
      "model_module_version": "2.0.0",
      "model_name": "LayoutModel",
      "state": {
       "width": "260px"
      }
     },
     "5e089f6cccba45cbb6437cfd921d9252": {
      "model_module": "@jupyter-widgets/controls",
      "model_module_version": "2.0.0",
      "model_name": "DescriptionStyleModel",
      "state": {
       "description_width": "200px"
      }
     },
     "5ffe1a54a6304689b8ea06d3a4d3dd6d": {
      "model_module": "@jupyter-widgets/controls",
      "model_module_version": "2.0.0",
      "model_name": "DescriptionStyleModel",
      "state": {
       "description_width": "200px"
      }
     },
     "61424dceafa14268be61cb65e6043fe5": {
      "model_module": "@jupyter-widgets/controls",
      "model_module_version": "2.0.0",
      "model_name": "VBoxModel",
      "state": {
       "children": [
        "IPY_MODEL_5354c89b7db24fcaba991047afbcab80",
        "IPY_MODEL_1bf081e5d9eb43c49b886bbd10434611",
        "IPY_MODEL_29ad53495d3448fd80b8a379c73d9cb5"
       ],
       "layout": "IPY_MODEL_d7af6523101241d0a8e6ab3b41ae6fad"
      }
     },
     "61995d7407534dbca477e6b8953e29ba": {
      "model_module": "@jupyter-widgets/controls",
      "model_module_version": "2.0.0",
      "model_name": "DescriptionStyleModel",
      "state": {
       "description_width": "200px"
      }
     },
     "61c2666c760642c39ed9df73278b7866": {
      "model_module": "@jupyter-widgets/controls",
      "model_module_version": "2.0.0",
      "model_name": "DescriptionStyleModel",
      "state": {
       "description_width": "200px"
      }
     },
     "61e3e12140bf4714ace9c3f4edc1920f": {
      "model_module": "@jupyter-widgets/controls",
      "model_module_version": "2.0.0",
      "model_name": "VBoxModel",
      "state": {
       "children": [
        "IPY_MODEL_f46fb817e9ec4d5fae429e47655f0f83",
        "IPY_MODEL_35d05a5d809a4e15bbce489519d10988",
        "IPY_MODEL_15c014b976dd41d7bc1be2e6781c653b",
        "IPY_MODEL_28019447b1ea4133b4558f021f209ba4",
        "IPY_MODEL_feabe81d442b47278b341c4d72e0dc9a",
        "IPY_MODEL_53e6282988b7497387c2ad1ca75c1dc7",
        "IPY_MODEL_5d4bfeb9467a4b10b1f2c7f812eed7fd",
        "IPY_MODEL_1bbe8c91fa454346b52031f9b5c14976",
        "IPY_MODEL_f56fe27da6b94360acd37791adffc80f",
        "IPY_MODEL_ba650b368cdc4428904ba4d3c36eab41",
        "IPY_MODEL_1d37e48eb4ab4582a0109fb7e8504e09",
        "IPY_MODEL_581c46362c9440d0b89f0399a2d45a8c",
        "IPY_MODEL_2e764b32f5c74b8cadb7cce86b64c2e1",
        "IPY_MODEL_9645018737e74851a077548bc72f1022",
        "IPY_MODEL_1fb4e542f9e94758adf8cd58217e2365",
        "IPY_MODEL_759564f3d7ef4712bc4b689499b1d53e",
        "IPY_MODEL_caced2b2f9344ff0871b18858ce271e0",
        "IPY_MODEL_c1a0a2a014354240891a37d75317068b"
       ],
       "layout": "IPY_MODEL_4cda210f7b784c3daeb79408722f4ccf"
      }
     },
     "62a7a82310174d4e9c5720f33b90af46": {
      "model_module": "@jupyter-widgets/controls",
      "model_module_version": "2.0.0",
      "model_name": "DescriptionStyleModel",
      "state": {
       "description_width": "200px"
      }
     },
     "644585c646a14bc28e0dac4bfb7cc8ef": {
      "model_module": "@jupyter-widgets/controls",
      "model_module_version": "2.0.0",
      "model_name": "DescriptionStyleModel",
      "state": {
       "description_width": "200px"
      }
     },
     "64fead538bbe4f6bada21187c5859a59": {
      "model_module": "@jupyter-widgets/controls",
      "model_module_version": "2.0.0",
      "model_name": "FloatTextModel",
      "state": {
       "description": "Trial 4 – Dial Final (mm)",
       "layout": "IPY_MODEL_27b37fe9c7eb4a8b8f2b26fc9da7e3c2",
       "step": null,
       "style": "IPY_MODEL_5d4112797c4c48ef8d4a5b2fa842e9f8",
       "value": 0.25
      }
     },
     "678b3dec7e4c4b1a9ead5cb816d029ad": {
      "model_module": "@jupyter-widgets/controls",
      "model_module_version": "2.0.0",
      "model_name": "FloatTextModel",
      "state": {
       "description": "Trial 1 – Dial Final (mm)",
       "layout": "IPY_MODEL_71fa6e8c3a3347b9a019f4b41162a026",
       "step": null,
       "style": "IPY_MODEL_e5e9d84600af4cd38e9a43375d6c6e56",
       "value": 0.25
      }
     },
     "6a43dd40a6614114acf03fdcb5f76bdb": {
      "model_module": "@jupyter-widgets/base",
      "model_module_version": "2.0.0",
      "model_name": "LayoutModel",
      "state": {}
     },
     "6b1f1b23f43a46d9aa49a7cb0559cb0d": {
      "model_module": "@jupyter-widgets/base",
      "model_module_version": "2.0.0",
      "model_name": "LayoutModel",
      "state": {
       "width": "400px"
      }
     },
     "6b5a89e3432e45f0bf4051e4b4d60163": {
      "model_module": "@jupyter-widgets/controls",
      "model_module_version": "2.0.0",
      "model_name": "DescriptionStyleModel",
      "state": {
       "description_width": "200px"
      }
     },
     "6b9d9e99f4f042949810a38f2a60d4b8": {
      "model_module": "@jupyter-widgets/controls",
      "model_module_version": "2.0.0",
      "model_name": "DescriptionStyleModel",
      "state": {
       "description_width": "200px"
      }
     },
     "6c30be47542243979239debc1f6cf73d": {
      "model_module": "@jupyter-widgets/controls",
      "model_module_version": "2.0.0",
      "model_name": "DescriptionStyleModel",
      "state": {
       "description_width": "200px"
      }
     },
     "6d1cba42945e4a3ebf9e24f8333c4dd6": {
      "model_module": "@jupyter-widgets/controls",
      "model_module_version": "2.0.0",
      "model_name": "VBoxModel",
      "state": {
       "children": [
        "IPY_MODEL_cf52f2d7233b4d73a94797cf7ee8e086",
        "IPY_MODEL_911a260ac81741379d014293d905f65c",
        "IPY_MODEL_50d95e3158914595b7b79cc0e2959bff",
        "IPY_MODEL_1b3e8ca4439743a89d51ba6ee93f12a2",
        "IPY_MODEL_ba55bd3c009f4bf2b3065c93fcce729b",
        "IPY_MODEL_5cef0709a669482c8b94108fe2eda16c",
        "IPY_MODEL_bb55f405af8046cbacf8d06bdf1bc402",
        "IPY_MODEL_ca8e42c938a24d0d921e366f7c62fcaa",
        "IPY_MODEL_c034c2494d8b4489ba192cc178fd812c",
        "IPY_MODEL_8661678a37674efb83f942cb878e3328",
        "IPY_MODEL_cc4a941c96154d748fcbca2e44920ba7",
        "IPY_MODEL_584ac3aafcda4835ad2f81cbc472f500",
        "IPY_MODEL_2d8c4ce160ef487bb03f9060db3b801b",
        "IPY_MODEL_4bd24b03e8bf47ceb360296278e49e77",
        "IPY_MODEL_3320f39b0d494a07a7f8f68c72c4a130",
        "IPY_MODEL_28ec4efd1d964f1da8b59c353a566f0a",
        "IPY_MODEL_bf78341ceae64f98bdf481dca52ad31a",
        "IPY_MODEL_ff5da4bccbff4016a31e5b17f05c7970",
        "IPY_MODEL_4c5f98cf78ee4a55a94232d571120ea0"
       ],
       "layout": "IPY_MODEL_fc0553226d6e41db82bc2d2ca49b92a5"
      }
     },
     "71222bb1517246ae9e6778ea272def08": {
      "model_module": "@jupyter-widgets/controls",
      "model_module_version": "2.0.0",
      "model_name": "DescriptionStyleModel",
      "state": {
       "description_width": "200px"
      }
     },
     "7134c753e20b40998a1d18c960fd85cf": {
      "model_module": "@jupyter-widgets/controls",
      "model_module_version": "2.0.0",
      "model_name": "FloatTextModel",
      "state": {
       "description": "Trial 3 – Dial Final (mm)",
       "layout": "IPY_MODEL_27b37fe9c7eb4a8b8f2b26fc9da7e3c2",
       "step": null,
       "style": "IPY_MODEL_350e36128095410cb156154f1cc5994e",
       "value": 0.25
      }
     },
     "71c5d4f1762f46cdb83efa480992ed52": {
      "model_module": "@jupyter-widgets/controls",
      "model_module_version": "2.0.0",
      "model_name": "DescriptionStyleModel",
      "state": {
       "description_width": "200px"
      }
     },
     "71fa6e8c3a3347b9a019f4b41162a026": {
      "model_module": "@jupyter-widgets/base",
      "model_module_version": "2.0.0",
      "model_name": "LayoutModel",
      "state": {
       "width": "400px"
      }
     },
     "72af5ccf124948ab8fcdd4ace5fcc8d1": {
      "model_module": "@jupyter-widgets/controls",
      "model_module_version": "2.0.0",
      "model_name": "DescriptionStyleModel",
      "state": {
       "description_width": "200px"
      }
     },
     "740252a6186b4e6e96870efe0f5c79bf": {
      "model_module": "@jupyter-widgets/controls",
      "model_module_version": "2.0.0",
      "model_name": "DescriptionStyleModel",
      "state": {
       "description_width": "200px"
      }
     },
     "750e541149c74d83aaddfc5a87bd0443": {
      "model_module": "@jupyter-widgets/controls",
      "model_module_version": "2.0.0",
      "model_name": "FloatTextModel",
      "state": {
       "description": "Trial 1 – Dial Initial (mm)",
       "layout": "IPY_MODEL_92e9d060f515434fbea4966f648f5d25",
       "step": null,
       "style": "IPY_MODEL_3070c9cab80640798f076073de874f47"
      }
     },
     "753f910ed793413488e957b9bf4c48b0": {
      "model_module": "@jupyter-widgets/controls",
      "model_module_version": "2.0.0",
      "model_name": "DescriptionStyleModel",
      "state": {
       "description_width": "200px"
      }
     },
     "759564f3d7ef4712bc4b689499b1d53e": {
      "model_module": "@jupyter-widgets/controls",
      "model_module_version": "2.0.0",
      "model_name": "FloatTextModel",
      "state": {
       "description": "Initial Dial T5 (mm)",
       "layout": "IPY_MODEL_6b1f1b23f43a46d9aa49a7cb0559cb0d",
       "step": null,
       "style": "IPY_MODEL_bb3320811a10469abd514cff3aa1ec2e"
      }
     },
     "761cf90447d6425a838a35d102edc093": {
      "model_module": "@jupyter-widgets/controls",
      "model_module_version": "2.0.0",
      "model_name": "FloatTextModel",
      "state": {
       "description": "t₅₀ Time (min):",
       "layout": "IPY_MODEL_92e9d060f515434fbea4966f648f5d25",
       "step": null,
       "style": "IPY_MODEL_0e8d0631d44647da8a9c64409ed4630b",
       "value": 240
      }
     },
     "761fb93452394165b0c3e9517b2cc616": {
      "model_module": "@jupyter-widgets/controls",
      "model_module_version": "2.0.0",
      "model_name": "FloatTextModel",
      "state": {
       "description": "Trial 5 – Dial Final (mm)",
       "layout": "IPY_MODEL_92e9d060f515434fbea4966f648f5d25",
       "step": null,
       "style": "IPY_MODEL_2ae9fd82782049e4a46669196b6f66ca",
       "value": 0.25
      }
     },
     "7629c66db8a34733a6d40ebd11572829": {
      "model_module": "@jupyter-widgets/controls",
      "model_module_version": "2.0.0",
      "model_name": "DescriptionStyleModel",
      "state": {
       "description_width": "200px"
      }
     },
     "78893e5f91794a158a67c7df48e2bae1": {
      "model_module": "@jupyter-widgets/controls",
      "model_module_version": "2.0.0",
      "model_name": "ButtonModel",
      "state": {
       "description": "Generate Full Report",
       "layout": "IPY_MODEL_be9efae2d20d4be88b4f966f244c3885",
       "style": "IPY_MODEL_cc21d0dc6f8e4bea90b301d7fbff89c1",
       "tooltip": null
      }
     },
     "78b8ab25699444e4a0e8e0a04e27768f": {
      "model_module": "@jupyter-widgets/base",
      "model_module_version": "2.0.0",
      "model_name": "LayoutModel",
      "state": {}
     },
     "794df6f9fa964b81980041703c59612a": {
      "model_module": "@jupyter-widgets/base",
      "model_module_version": "2.0.0",
      "model_name": "LayoutModel",
      "state": {
       "width": "260px"
      }
     },
     "7ced5fb2b6dc4339a6f2084b4bd96a08": {
      "model_module": "@jupyter-widgets/controls",
      "model_module_version": "2.0.0",
      "model_name": "DescriptionStyleModel",
      "state": {
       "description_width": "200px"
      }
     },
     "7dabf826e3f1482e9cac140519497b6b": {
      "model_module": "@jupyter-widgets/controls",
      "model_module_version": "2.0.0",
      "model_name": "FloatTextModel",
      "state": {
       "description": "Trial 1 – Time (min)",
       "layout": "IPY_MODEL_45de730323e5431d952ca2ad6dfdf18e",
       "step": null,
       "style": "IPY_MODEL_a0b907e0865140ef87b4a62ece9206f6",
       "value": 240
      }
     },
     "7e1e04577a8045218e6beaac28c59911": {
      "model_module": "@jupyter-widgets/controls",
      "model_module_version": "2.0.0",
      "model_name": "DescriptionStyleModel",
      "state": {
       "description_width": "200px"
      }
     },
     "8118ff43c87a4e139d9d9f42c425ebcd": {
      "model_module": "@jupyter-widgets/controls",
      "model_module_version": "2.0.0",
      "model_name": "DescriptionStyleModel",
      "state": {
       "description_width": "200px"
      }
     },
     "8347f7274a54411fa315d579e59d62c5": {
      "model_module": "@jupyter-widgets/controls",
      "model_module_version": "2.0.0",
      "model_name": "FloatTextModel",
      "state": {
       "description": "Trial 1 – Dial Final (mm)",
       "layout": "IPY_MODEL_27b37fe9c7eb4a8b8f2b26fc9da7e3c2",
       "step": null,
       "style": "IPY_MODEL_5c45b25d58284bbeaa3ff9281b555969",
       "value": 0.25
      }
     },
     "83c01df3d46a4ce3995250d655e361e7": {
      "model_module": "@jupyter-widgets/base",
      "model_module_version": "2.0.0",
      "model_name": "LayoutModel",
      "state": {}
     },
     "83d34678941f4fac8ce7de59e2d6f244": {
      "model_module": "@jupyter-widgets/controls",
      "model_module_version": "2.0.0",
      "model_name": "FloatTextModel",
      "state": {
       "description": "Trial 4 – Dial Final (mm)",
       "layout": "IPY_MODEL_45de730323e5431d952ca2ad6dfdf18e",
       "step": null,
       "style": "IPY_MODEL_8f365684de9d40cea84b787e6b263ecd",
       "value": 0.25
      }
     },
     "83f8a3bd942d435c94c8d3c04354d25d": {
      "model_module": "@jupyter-widgets/controls",
      "model_module_version": "2.0.0",
      "model_name": "DescriptionStyleModel",
      "state": {
       "description_width": "200px"
      }
     },
     "863b128250cd4e2fb6303bc9291ac662": {
      "model_module": "@jupyter-widgets/controls",
      "model_module_version": "2.0.0",
      "model_name": "FloatTextModel",
      "state": {
       "description": "Liquid Limit (LL%)",
       "layout": "IPY_MODEL_92e9d060f515434fbea4966f648f5d25",
       "step": null,
       "style": "IPY_MODEL_509ea7fec1ca4764bfe2b51e628d7723",
       "value": 45
      }
     },
     "8661678a37674efb83f942cb878e3328": {
      "model_module": "@jupyter-widgets/controls",
      "model_module_version": "2.0.0",
      "model_name": "FloatTextModel",
      "state": {
       "description": "Trial 2 – Time (min)",
       "layout": "IPY_MODEL_c121f62a96274100b84bfb4bcfbf6101",
       "step": null,
       "style": "IPY_MODEL_8a9c5a4c24274358b5c3a313c4df761a",
       "value": 240
      }
     },
     "870fe1220195407cb8b0af6168599dea": {
      "model_module": "@jupyter-widgets/controls",
      "model_module_version": "2.0.0",
      "model_name": "FloatTextModel",
      "state": {
       "description": "Trial 1 – Dial Initial (mm)",
       "layout": "IPY_MODEL_71fa6e8c3a3347b9a019f4b41162a026",
       "step": null,
       "style": "IPY_MODEL_83f8a3bd942d435c94c8d3c04354d25d"
      }
     },
     "87af03b9912f4fc1b398f0f9afeae03c": {
      "model_module": "@jupyter-widgets/controls",
      "model_module_version": "2.0.0",
      "model_name": "FloatTextModel",
      "state": {
       "description": "Trial 2 – Dial Final (mm)",
       "layout": "IPY_MODEL_71fa6e8c3a3347b9a019f4b41162a026",
       "step": null,
       "style": "IPY_MODEL_bf443da428c244558bbf60199c1c3482",
       "value": 0.25
      }
     },
     "8845780cef5146d2889c78039e97654f": {
      "model_module": "@jupyter-widgets/controls",
      "model_module_version": "2.0.0",
      "model_name": "DescriptionStyleModel",
      "state": {
       "description_width": "200px"
      }
     },
     "892d84ee32aa4995a7e400c8d5cc1248": {
      "model_module": "@jupyter-widgets/controls",
      "model_module_version": "2.0.0",
      "model_name": "FloatTextModel",
      "state": {
       "description": "Specimen Area (m²):",
       "layout": "IPY_MODEL_92e9d060f515434fbea4966f648f5d25",
       "step": null,
       "style": "IPY_MODEL_21d3467bc74b47b6b59baf73ee90e7f3",
       "value": 0.00785
      }
     },
     "8a9c5a4c24274358b5c3a313c4df761a": {
      "model_module": "@jupyter-widgets/controls",
      "model_module_version": "2.0.0",
      "model_name": "DescriptionStyleModel",
      "state": {
       "description_width": "200px"
      }
     },
     "8ac4462e627b466496ab002d2bc3ce02": {
      "model_module": "@jupyter-widgets/controls",
      "model_module_version": "2.0.0",
      "model_name": "DescriptionStyleModel",
      "state": {
       "description_width": "200px"
      }
     },
     "8d74e3b4a58c4ee08eca0ef5149303ae": {
      "model_module": "@jupyter-widgets/controls",
      "model_module_version": "2.0.0",
      "model_name": "FloatTextModel",
      "state": {
       "description": "Trial 3 – Dial Initial (mm)",
       "layout": "IPY_MODEL_27b37fe9c7eb4a8b8f2b26fc9da7e3c2",
       "step": null,
       "style": "IPY_MODEL_a1439f157924491d9d850a7a2d901b91"
      }
     },
     "8f365684de9d40cea84b787e6b263ecd": {
      "model_module": "@jupyter-widgets/controls",
      "model_module_version": "2.0.0",
      "model_name": "DescriptionStyleModel",
      "state": {
       "description_width": "200px"
      }
     },
     "90301b29eb9e4363a186384b381af97a": {
      "model_module": "@jupyter-widgets/controls",
      "model_module_version": "2.0.0",
      "model_name": "ButtonModel",
      "state": {
       "description": "Generate Full Report",
       "layout": "IPY_MODEL_95857f58f7da4dda8823951bf13ad5b5",
       "style": "IPY_MODEL_06c20bfd750a4250bcac5b5cda27ca2f",
       "tooltip": null
      }
     },
     "911a260ac81741379d014293d905f65c": {
      "model_module": "@jupyter-widgets/controls",
      "model_module_version": "2.0.0",
      "model_name": "FloatTextModel",
      "state": {
       "description": "Initial Height (m):",
       "layout": "IPY_MODEL_c121f62a96274100b84bfb4bcfbf6101",
       "step": null,
       "style": "IPY_MODEL_7e1e04577a8045218e6beaac28c59911",
       "value": 0.025
      }
     },
     "91551c94fde5431b966e108d12ef29b7": {
      "model_module": "@jupyter-widgets/controls",
      "model_module_version": "2.0.0",
      "model_name": "DescriptionStyleModel",
      "state": {
       "description_width": "200px"
      }
     },
     "9160b33c2e104c359b23cbddf71c65b4": {
      "model_module": "@jupyter-widgets/controls",
      "model_module_version": "2.0.0",
      "model_name": "FloatTextModel",
      "state": {
       "description": "Trial 2 – Time (min)",
       "layout": "IPY_MODEL_71fa6e8c3a3347b9a019f4b41162a026",
       "step": null,
       "style": "IPY_MODEL_997a5b2d70c949ba9dcc81b4b819c913",
       "value": 240
      }
     },
     "92e9d060f515434fbea4966f648f5d25": {
      "model_module": "@jupyter-widgets/base",
      "model_module_version": "2.0.0",
      "model_name": "LayoutModel",
      "state": {
       "width": "400px"
      }
     },
     "9318b3798f814946ba8f734a29cffae8": {
      "model_module": "@jupyter-widgets/controls",
      "model_module_version": "2.0.0",
      "model_name": "DescriptionStyleModel",
      "state": {
       "description_width": "200px"
      }
     },
     "938747e9b1e54b7d974142685605532e": {
      "model_module": "@jupyter-widgets/controls",
      "model_module_version": "2.0.0",
      "model_name": "DescriptionStyleModel",
      "state": {
       "description_width": "200px"
      }
     },
     "945830fe434b44d18da2772abc3a940d": {
      "model_module": "@jupyter-widgets/controls",
      "model_module_version": "2.0.0",
      "model_name": "DescriptionStyleModel",
      "state": {
       "description_width": "200px"
      }
     },
     "9462213ed6bd401083e67f642ad41179": {
      "model_module": "@jupyter-widgets/controls",
      "model_module_version": "2.0.0",
      "model_name": "FloatTextModel",
      "state": {
       "description": "Trial 4 – Dial Final (mm)",
       "layout": "IPY_MODEL_71fa6e8c3a3347b9a019f4b41162a026",
       "step": null,
       "style": "IPY_MODEL_efcbc98d513e49cda4afec92b9c4602d",
       "value": 0.25
      }
     },
     "955a5ae1a08b4e248ab83b63433451a7": {
      "model_module": "@jupyter-widgets/controls",
      "model_module_version": "2.0.0",
      "model_name": "DescriptionStyleModel",
      "state": {
       "description_width": "200px"
      }
     },
     "95857f58f7da4dda8823951bf13ad5b5": {
      "model_module": "@jupyter-widgets/base",
      "model_module_version": "2.0.0",
      "model_name": "LayoutModel",
      "state": {
       "width": "260px"
      }
     },
     "9645018737e74851a077548bc72f1022": {
      "model_module": "@jupyter-widgets/controls",
      "model_module_version": "2.0.0",
      "model_name": "FloatTextModel",
      "state": {
       "description": "Final Dial T4 (mm)",
       "layout": "IPY_MODEL_6b1f1b23f43a46d9aa49a7cb0559cb0d",
       "step": null,
       "style": "IPY_MODEL_dde809aa6ba942539d5e59f65c1d6e51",
       "value": 0.25
      }
     },
     "96ac8317987f4123b65477980a7bc82a": {
      "model_module": "@jupyter-widgets/controls",
      "model_module_version": "2.0.0",
      "model_name": "DescriptionStyleModel",
      "state": {
       "description_width": "200px"
      }
     },
     "9874f0ce6d7346af9c924e3db456bd49": {
      "model_module": "@jupyter-widgets/controls",
      "model_module_version": "2.0.0",
      "model_name": "IntSliderModel",
      "state": {
       "behavior": "drag-tap",
       "description": "Load Steps:",
       "layout": "IPY_MODEL_6b1f1b23f43a46d9aa49a7cb0559cb0d",
       "max": 12,
       "min": 1,
       "style": "IPY_MODEL_f03023c5c0a74cf68df8e2cef27c0905",
       "value": 5
      }
     },
     "98d9fe3fe86a4019a21bea97a36b8640": {
      "model_module": "@jupyter-widgets/controls",
      "model_module_version": "2.0.0",
      "model_name": "FloatTextModel",
      "state": {
       "description": "Load Increment (kPa):",
       "layout": "IPY_MODEL_92e9d060f515434fbea4966f648f5d25",
       "step": null,
       "style": "IPY_MODEL_bcc3a9b57b974099a8fd247befcce4b9",
       "value": 12.5
      }
     },
     "994835351d2f4839a4f204966b697b7a": {
      "model_module": "@jupyter-widgets/controls",
      "model_module_version": "2.0.0",
      "model_name": "DescriptionStyleModel",
      "state": {
       "description_width": "200px"
      }
     },
     "9957aa13ead94ce3aee82d9d1a860215": {
      "model_module": "@jupyter-widgets/controls",
      "model_module_version": "2.0.0",
      "model_name": "DescriptionStyleModel",
      "state": {
       "description_width": "200px"
      }
     },
     "997a5b2d70c949ba9dcc81b4b819c913": {
      "model_module": "@jupyter-widgets/controls",
      "model_module_version": "2.0.0",
      "model_name": "DescriptionStyleModel",
      "state": {
       "description_width": "200px"
      }
     },
     "99cfc005384a499295dbb2bb462e6814": {
      "model_module": "@jupyter-widgets/controls",
      "model_module_version": "2.0.0",
      "model_name": "VBoxModel",
      "state": {
       "children": [
        "IPY_MODEL_f30851c2677c4b829d2b2c2090daefe9",
        "IPY_MODEL_c0bb75b617d6419b8815eb39d0fbabd0",
        "IPY_MODEL_ace3f4e7e80c481fac42559f5e567f6d",
        "IPY_MODEL_594c8cb8575942e9b80c4e200e46017e",
        "IPY_MODEL_aae41cd1915142f5aa7de1bb692af4b8",
        "IPY_MODEL_b82438282555498686ccc65e3f887d95",
        "IPY_MODEL_dd6c59f94ac741f39da9250d80eae326",
        "IPY_MODEL_8347f7274a54411fa315d579e59d62c5",
        "IPY_MODEL_dab6937db25f40dba78efd2fff81528d",
        "IPY_MODEL_9ee6f58e6fa54a8c9693d5855a6b9a29",
        "IPY_MODEL_9c3a486fe31d481f9b100c78866c3f9b",
        "IPY_MODEL_5525b4e388554a4ab8e074c00d5c9297",
        "IPY_MODEL_8d74e3b4a58c4ee08eca0ef5149303ae",
        "IPY_MODEL_7134c753e20b40998a1d18c960fd85cf",
        "IPY_MODEL_b14ffe281a3e49b5a4eddf58d356d5cb",
        "IPY_MODEL_54c91d4945924a35bd3c18e8f7b460ed",
        "IPY_MODEL_64fead538bbe4f6bada21187c5859a59",
        "IPY_MODEL_ab49226a83594ac1a31688e234da47d8",
        "IPY_MODEL_d6aa5f0fdf3248d5a4993fc20924a169",
        "IPY_MODEL_adf7525a845541ae8dbf8e201ca59bc3",
        "IPY_MODEL_2d24efb203fc4d66a6323623f407dabc"
       ],
       "layout": "IPY_MODEL_78b8ab25699444e4a0e8e0a04e27768f"
      }
     },
     "9a0f0811f8fd4f0e9628fa55cd0b5f2a": {
      "model_module": "@jupyter-widgets/base",
      "model_module_version": "2.0.0",
      "model_name": "LayoutModel",
      "state": {}
     },
     "9a1954a27cdc441081e94dd54209215e": {
      "model_module": "@jupyter-widgets/controls",
      "model_module_version": "2.0.0",
      "model_name": "ButtonStyleModel",
      "state": {
       "font_family": null,
       "font_size": null,
       "font_style": null,
       "font_variant": null,
       "font_weight": null,
       "text_color": null,
       "text_decoration": null
      }
     },
     "9c3a486fe31d481f9b100c78866c3f9b": {
      "model_module": "@jupyter-widgets/controls",
      "model_module_version": "2.0.0",
      "model_name": "FloatTextModel",
      "state": {
       "description": "Trial 2 – Dial Final (mm)",
       "layout": "IPY_MODEL_27b37fe9c7eb4a8b8f2b26fc9da7e3c2",
       "step": null,
       "style": "IPY_MODEL_ea9cd54e1cac43cd9ffaf4d699ba624b",
       "value": 0.25
      }
     },
     "9ce7dc1d3bb64fd49e67f653a87b8c0d": {
      "model_module": "@jupyter-widgets/controls",
      "model_module_version": "2.0.0",
      "model_name": "FloatTextModel",
      "state": {
       "description": "Initial Height (m):",
       "layout": "IPY_MODEL_71fa6e8c3a3347b9a019f4b41162a026",
       "step": null,
       "style": "IPY_MODEL_35ce160b567a436d92b920f3abd58fce",
       "value": 0.025
      }
     },
     "9ee6f58e6fa54a8c9693d5855a6b9a29": {
      "model_module": "@jupyter-widgets/controls",
      "model_module_version": "2.0.0",
      "model_name": "FloatTextModel",
      "state": {
       "description": "Trial 2 – Dial Initial (mm)",
       "layout": "IPY_MODEL_27b37fe9c7eb4a8b8f2b26fc9da7e3c2",
       "step": null,
       "style": "IPY_MODEL_119d6525703541eb9d672eef35ad3253"
      }
     },
     "9efa915d1014480388245b406803c3e4": {
      "model_module": "@jupyter-widgets/controls",
      "model_module_version": "2.0.0",
      "model_name": "DescriptionStyleModel",
      "state": {
       "description_width": "200px"
      }
     },
     "9f542351dd484e00b08b201c19a825b3": {
      "model_module": "@jupyter-widgets/controls",
      "model_module_version": "2.0.0",
      "model_name": "DescriptionStyleModel",
      "state": {
       "description_width": "200px"
      }
     },
     "a0b907e0865140ef87b4a62ece9206f6": {
      "model_module": "@jupyter-widgets/controls",
      "model_module_version": "2.0.0",
      "model_name": "DescriptionStyleModel",
      "state": {
       "description_width": "200px"
      }
     },
     "a1439f157924491d9d850a7a2d901b91": {
      "model_module": "@jupyter-widgets/controls",
      "model_module_version": "2.0.0",
      "model_name": "DescriptionStyleModel",
      "state": {
       "description_width": "200px"
      }
     },
     "a18e225d404349de9b66a82c00550639": {
      "model_module": "@jupyter-widgets/controls",
      "model_module_version": "2.0.0",
      "model_name": "DescriptionStyleModel",
      "state": {
       "description_width": "200px"
      }
     },
     "a1970c393dc94c98a6456b7593b4da74": {
      "model_module": "@jupyter-widgets/controls",
      "model_module_version": "2.0.0",
      "model_name": "FloatTextModel",
      "state": {
       "description": "Trial 2 – Dial Final (mm)",
       "layout": "IPY_MODEL_45de730323e5431d952ca2ad6dfdf18e",
       "step": null,
       "style": "IPY_MODEL_938747e9b1e54b7d974142685605532e",
       "value": 0.25
      }
     },
     "a2884bdf23a545119333c172f65c8795": {
      "model_module": "@jupyter-widgets/controls",
      "model_module_version": "2.0.0",
      "model_name": "VBoxModel",
      "state": {
       "children": [
        "IPY_MODEL_0bd65bdf22654c70a12068abee4352bc",
        "IPY_MODEL_9ce7dc1d3bb64fd49e67f653a87b8c0d",
        "IPY_MODEL_3fffb660aafc476e9495ac9a60e2f322",
        "IPY_MODEL_af4a58999f2a4754a7f436082fe22fb6",
        "IPY_MODEL_cba33fd6728d463a9e5725d713479e0f",
        "IPY_MODEL_33c79ecd17564ae1ab6d3a0f5949b843",
        "IPY_MODEL_870fe1220195407cb8b0af6168599dea",
        "IPY_MODEL_678b3dec7e4c4b1a9ead5cb816d029ad",
        "IPY_MODEL_ba2199a733cb46c2b931f495a37f9811",
        "IPY_MODEL_c266026f424d4b90b3cf840cd13a0c01",
        "IPY_MODEL_87af03b9912f4fc1b398f0f9afeae03c",
        "IPY_MODEL_9160b33c2e104c359b23cbddf71c65b4",
        "IPY_MODEL_5935e447bfe042ea8407471646e68ec3",
        "IPY_MODEL_28fd2479e35c4785b99365b733283b5b",
        "IPY_MODEL_53b658d6bf854f0687214a9ce679449e",
        "IPY_MODEL_e48d3e123839481da9a926116ca6941c",
        "IPY_MODEL_9462213ed6bd401083e67f642ad41179",
        "IPY_MODEL_513330999b80494a985b6ef50136dd46",
        "IPY_MODEL_4ccbabea03cf47918a0f74bfa19a5dfc",
        "IPY_MODEL_e835c076b70349bc883b5ade01224050",
        "IPY_MODEL_f574e299a9fd4cbc90e1faf454ad78b4"
       ],
       "layout": "IPY_MODEL_83c01df3d46a4ce3995250d655e361e7"
      }
     },
     "a33aaca46f484ad78702250376812864": {
      "model_module": "@jupyter-widgets/controls",
      "model_module_version": "2.0.0",
      "model_name": "DescriptionStyleModel",
      "state": {
       "description_width": "200px"
      }
     },
     "a7c86bbeaea44f308df2ccacaefb2197": {
      "model_module": "@jupyter-widgets/controls",
      "model_module_version": "2.0.0",
      "model_name": "DescriptionStyleModel",
      "state": {
       "description_width": "200px"
      }
     },
     "a7f72ce7e2904a9680fa660090121aa1": {
      "model_module": "@jupyter-widgets/controls",
      "model_module_version": "2.0.0",
      "model_name": "DescriptionStyleModel",
      "state": {
       "description_width": "200px"
      }
     },
     "a84172b5c5f746fa87a606049e539abc": {
      "model_module": "@jupyter-widgets/controls",
      "model_module_version": "2.0.0",
      "model_name": "SliderStyleModel",
      "state": {
       "description_width": "200px"
      }
     },
     "a8decd06fc46441dade583ccc9e3c1b8": {
      "model_module": "@jupyter-widgets/controls",
      "model_module_version": "2.0.0",
      "model_name": "SliderStyleModel",
      "state": {
       "description_width": "200px"
      }
     },
     "a8e02a3443e142878d31ccc028333a5d": {
      "model_module": "@jupyter-widgets/controls",
      "model_module_version": "2.0.0",
      "model_name": "DescriptionStyleModel",
      "state": {
       "description_width": "200px"
      }
     },
     "a93e6e5a0dac4c4a8e537cd1f366cb85": {
      "model_module": "@jupyter-widgets/controls",
      "model_module_version": "2.0.0",
      "model_name": "DescriptionStyleModel",
      "state": {
       "description_width": "200px"
      }
     },
     "aae41cd1915142f5aa7de1bb692af4b8": {
      "model_module": "@jupyter-widgets/controls",
      "model_module_version": "2.0.0",
      "model_name": "FloatTextModel",
      "state": {
       "description": "Liquid Limit (LL%)",
       "layout": "IPY_MODEL_27b37fe9c7eb4a8b8f2b26fc9da7e3c2",
       "step": null,
       "style": "IPY_MODEL_8118ff43c87a4e139d9d9f42c425ebcd",
       "value": 45
      }
     },
     "ab49226a83594ac1a31688e234da47d8": {
      "model_module": "@jupyter-widgets/controls",
      "model_module_version": "2.0.0",
      "model_name": "FloatTextModel",
      "state": {
       "description": "Trial 4 – Time (min)",
       "layout": "IPY_MODEL_27b37fe9c7eb4a8b8f2b26fc9da7e3c2",
       "step": null,
       "style": "IPY_MODEL_243689c0cfe449edb11f9706c682b34e",
       "value": 240
      }
     },
     "abb995f6cc28403f81907385fd018d43": {
      "model_module": "@jupyter-widgets/controls",
      "model_module_version": "2.0.0",
      "model_name": "DescriptionStyleModel",
      "state": {
       "description_width": "200px"
      }
     },
     "acc1aa460eae4c52ba7b666b065be22b": {
      "model_module": "@jupyter-widgets/controls",
      "model_module_version": "2.0.0",
      "model_name": "VBoxModel",
      "state": {
       "children": [
        "IPY_MODEL_d26737e10dad490388371bb0d96abc48",
        "IPY_MODEL_99cfc005384a499295dbb2bb462e6814",
        "IPY_MODEL_78893e5f91794a158a67c7df48e2bae1"
       ],
       "layout": "IPY_MODEL_9a0f0811f8fd4f0e9628fa55cd0b5f2a"
      }
     },
     "ace3f4e7e80c481fac42559f5e567f6d": {
      "model_module": "@jupyter-widgets/controls",
      "model_module_version": "2.0.0",
      "model_name": "FloatTextModel",
      "state": {
       "description": "Load Increment (kPa):",
       "layout": "IPY_MODEL_27b37fe9c7eb4a8b8f2b26fc9da7e3c2",
       "step": null,
       "style": "IPY_MODEL_8ac4462e627b466496ab002d2bc3ce02",
       "value": 12.5
      }
     },
     "ad2cbdff67dc4ad58123e5f04669b179": {
      "model_module": "@jupyter-widgets/controls",
      "model_module_version": "2.0.0",
      "model_name": "DescriptionStyleModel",
      "state": {
       "description_width": "200px"
      }
     },
     "adf7525a845541ae8dbf8e201ca59bc3": {
      "model_module": "@jupyter-widgets/controls",
      "model_module_version": "2.0.0",
      "model_name": "FloatTextModel",
      "state": {
       "description": "Trial 5 – Dial Final (mm)",
       "layout": "IPY_MODEL_27b37fe9c7eb4a8b8f2b26fc9da7e3c2",
       "step": null,
       "style": "IPY_MODEL_469f6b6b1c1043809fd2a345bd9cd5bb",
       "value": 0.25
      }
     },
     "aeafbed5a8474b069328fae4a63dfcf1": {
      "model_module": "@jupyter-widgets/controls",
      "model_module_version": "2.0.0",
      "model_name": "DescriptionStyleModel",
      "state": {
       "description_width": "200px"
      }
     },
     "af4a58999f2a4754a7f436082fe22fb6": {
      "model_module": "@jupyter-widgets/controls",
      "model_module_version": "2.0.0",
      "model_name": "FloatTextModel",
      "state": {
       "description": "t₅₀ Time (min):",
       "layout": "IPY_MODEL_71fa6e8c3a3347b9a019f4b41162a026",
       "step": null,
       "style": "IPY_MODEL_0000a2bf0d0c4f0fbe3cad10e899b6d2",
       "value": 240
      }
     },
     "b1232c99dd014f09a25131b22e21e38b": {
      "model_module": "@jupyter-widgets/controls",
      "model_module_version": "2.0.0",
      "model_name": "FloatTextModel",
      "state": {
       "description": "Trial 1 – Time (min)",
       "layout": "IPY_MODEL_92e9d060f515434fbea4966f648f5d25",
       "step": null,
       "style": "IPY_MODEL_ed63f2e46d1b4e829d7a6b80f09047f8",
       "value": 240
      }
     },
     "b14ffe281a3e49b5a4eddf58d356d5cb": {
      "model_module": "@jupyter-widgets/controls",
      "model_module_version": "2.0.0",
      "model_name": "FloatTextModel",
      "state": {
       "description": "Trial 3 – Time (min)",
       "layout": "IPY_MODEL_27b37fe9c7eb4a8b8f2b26fc9da7e3c2",
       "step": null,
       "style": "IPY_MODEL_3bae5ae957ce49a4b43c8fb2328f8bb4",
       "value": 240
      }
     },
     "b152111c93ed4ad08ca97120a7fe5227": {
      "model_module": "@jupyter-widgets/controls",
      "model_module_version": "2.0.0",
      "model_name": "FloatTextModel",
      "state": {
       "description": "Trial 1 – Dial Final (mm)",
       "layout": "IPY_MODEL_92e9d060f515434fbea4966f648f5d25",
       "step": null,
       "style": "IPY_MODEL_254c93982b0546dc8e668a4774dedb84",
       "value": 0.25
      }
     },
     "b1b6e622c39c44cead6f93b8ac284825": {
      "model_module": "@jupyter-widgets/controls",
      "model_module_version": "2.0.0",
      "model_name": "FloatTextModel",
      "state": {
       "description": "Initial Height (m):",
       "layout": "IPY_MODEL_45de730323e5431d952ca2ad6dfdf18e",
       "step": null,
       "style": "IPY_MODEL_c296a019a3a84d20a7c2f547857e84c8",
       "value": 0.025
      }
     },
     "b2389b86974540359d7ba295ab663f3c": {
      "model_module": "@jupyter-widgets/controls",
      "model_module_version": "2.0.0",
      "model_name": "VBoxModel",
      "state": {
       "children": [
        "IPY_MODEL_4da87b30b471440e975b678d68bf97f3",
        "IPY_MODEL_a2884bdf23a545119333c172f65c8795",
        "IPY_MODEL_0086b0b68e5242698bfaa2b33cc306de"
       ],
       "layout": "IPY_MODEL_2a3d62607b5041a3b5415583633f2e85"
      }
     },
     "b26958a023ff42c9aff4fe2370ddf8a8": {
      "model_module": "@jupyter-widgets/controls",
      "model_module_version": "2.0.0",
      "model_name": "DescriptionStyleModel",
      "state": {
       "description_width": "200px"
      }
     },
     "b3fef970743f4c3c910e4e7c406c1911": {
      "model_module": "@jupyter-widgets/controls",
      "model_module_version": "2.0.0",
      "model_name": "DescriptionStyleModel",
      "state": {
       "description_width": "200px"
      }
     },
     "b649989788ca40bcbb0879abcc0846fd": {
      "model_module": "@jupyter-widgets/controls",
      "model_module_version": "2.0.0",
      "model_name": "IntSliderModel",
      "state": {
       "behavior": "drag-tap",
       "description": "Load Steps:",
       "layout": "IPY_MODEL_92e9d060f515434fbea4966f648f5d25",
       "max": 12,
       "min": 1,
       "style": "IPY_MODEL_ccde9100a2634583b4e039dc94288b39",
       "value": 5
      }
     },
     "b6731125b14a4989a0bf5494ce78a31a": {
      "model_module": "@jupyter-widgets/controls",
      "model_module_version": "2.0.0",
      "model_name": "FloatTextModel",
      "state": {
       "description": "Trial 2 – Dial Initial (mm)",
       "layout": "IPY_MODEL_92e9d060f515434fbea4966f648f5d25",
       "step": null,
       "style": "IPY_MODEL_3528a25b2ffe4e7d92b02da5d680ce4e"
      }
     },
     "b74418ee84ce44f8959f92451c0c36f7": {
      "model_module": "@jupyter-widgets/controls",
      "model_module_version": "2.0.0",
      "model_name": "ButtonStyleModel",
      "state": {
       "font_family": null,
       "font_size": null,
       "font_style": null,
       "font_variant": null,
       "font_weight": null,
       "text_color": null,
       "text_decoration": null
      }
     },
     "b74cb11690e54ab3aa922c1f72501604": {
      "model_module": "@jupyter-widgets/controls",
      "model_module_version": "2.0.0",
      "model_name": "DescriptionStyleModel",
      "state": {
       "description_width": "200px"
      }
     },
     "b82438282555498686ccc65e3f887d95": {
      "model_module": "@jupyter-widgets/controls",
      "model_module_version": "2.0.0",
      "model_name": "FloatTextModel",
      "state": {
       "description": "Plastic Limit (PL%)",
       "layout": "IPY_MODEL_27b37fe9c7eb4a8b8f2b26fc9da7e3c2",
       "step": null,
       "style": "IPY_MODEL_4c8e7b7f885748ebac2b45a2bdf5072f",
       "value": 25
      }
     },
     "b9f19c8d84bd42c1821bc63fd36da8b8": {
      "model_module": "@jupyter-widgets/controls",
      "model_module_version": "2.0.0",
      "model_name": "FloatTextModel",
      "state": {
       "description": "Trial 5 – Dial Initial (mm)",
       "layout": "IPY_MODEL_92e9d060f515434fbea4966f648f5d25",
       "step": null,
       "style": "IPY_MODEL_9f542351dd484e00b08b201c19a825b3"
      }
     },
     "ba2199a733cb46c2b931f495a37f9811": {
      "model_module": "@jupyter-widgets/controls",
      "model_module_version": "2.0.0",
      "model_name": "FloatTextModel",
      "state": {
       "description": "Trial 1 – Time (min)",
       "layout": "IPY_MODEL_71fa6e8c3a3347b9a019f4b41162a026",
       "step": null,
       "style": "IPY_MODEL_a7f72ce7e2904a9680fa660090121aa1",
       "value": 240
      }
     },
     "ba55bd3c009f4bf2b3065c93fcce729b": {
      "model_module": "@jupyter-widgets/controls",
      "model_module_version": "2.0.0",
      "model_name": "FloatTextModel",
      "state": {
       "description": "Trial 1 – Dial Initial (mm)",
       "layout": "IPY_MODEL_c121f62a96274100b84bfb4bcfbf6101",
       "step": null,
       "style": "IPY_MODEL_b3fef970743f4c3c910e4e7c406c1911"
      }
     },
     "ba650b368cdc4428904ba4d3c36eab41": {
      "model_module": "@jupyter-widgets/controls",
      "model_module_version": "2.0.0",
      "model_name": "FloatTextModel",
      "state": {
       "description": "Initial Dial T3 (mm)",
       "layout": "IPY_MODEL_6b1f1b23f43a46d9aa49a7cb0559cb0d",
       "step": null,
       "style": "IPY_MODEL_51547f7e05174284bdd1a5fced87d5b5"
      }
     },
     "bb3320811a10469abd514cff3aa1ec2e": {
      "model_module": "@jupyter-widgets/controls",
      "model_module_version": "2.0.0",
      "model_name": "DescriptionStyleModel",
      "state": {
       "description_width": "200px"
      }
     },
     "bb55f405af8046cbacf8d06bdf1bc402": {
      "model_module": "@jupyter-widgets/controls",
      "model_module_version": "2.0.0",
      "model_name": "FloatTextModel",
      "state": {
       "description": "Trial 1 – Time (min)",
       "layout": "IPY_MODEL_c121f62a96274100b84bfb4bcfbf6101",
       "step": null,
       "style": "IPY_MODEL_325d54a16f044e18ac72e044acf26b07",
       "value": 240
      }
     },
     "bcc3a9b57b974099a8fd247befcce4b9": {
      "model_module": "@jupyter-widgets/controls",
      "model_module_version": "2.0.0",
      "model_name": "DescriptionStyleModel",
      "state": {
       "description_width": "200px"
      }
     },
     "be6a8ef131ce47ce8fbfbc4a30aec975": {
      "model_module": "@jupyter-widgets/controls",
      "model_module_version": "2.0.0",
      "model_name": "FloatTextModel",
      "state": {
       "description": "Trial 4 – Dial Initial (mm)",
       "layout": "IPY_MODEL_45de730323e5431d952ca2ad6dfdf18e",
       "step": null,
       "style": "IPY_MODEL_08cfbe312ef94bd58e11f02190c36feb"
      }
     },
     "be9efae2d20d4be88b4f966f244c3885": {
      "model_module": "@jupyter-widgets/base",
      "model_module_version": "2.0.0",
      "model_name": "LayoutModel",
      "state": {
       "width": "260px"
      }
     },
     "bf443da428c244558bbf60199c1c3482": {
      "model_module": "@jupyter-widgets/controls",
      "model_module_version": "2.0.0",
      "model_name": "DescriptionStyleModel",
      "state": {
       "description_width": "200px"
      }
     },
     "bf78341ceae64f98bdf481dca52ad31a": {
      "model_module": "@jupyter-widgets/controls",
      "model_module_version": "2.0.0",
      "model_name": "FloatTextModel",
      "state": {
       "description": "Trial 5 – Dial Initial (mm)",
       "layout": "IPY_MODEL_c121f62a96274100b84bfb4bcfbf6101",
       "step": null,
       "style": "IPY_MODEL_b74cb11690e54ab3aa922c1f72501604"
      }
     },
     "c034c2494d8b4489ba192cc178fd812c": {
      "model_module": "@jupyter-widgets/controls",
      "model_module_version": "2.0.0",
      "model_name": "FloatTextModel",
      "state": {
       "description": "Trial 2 – Dial Final (mm)",
       "layout": "IPY_MODEL_c121f62a96274100b84bfb4bcfbf6101",
       "step": null,
       "style": "IPY_MODEL_e2d22d7e8e384b22b000479d18b112ed",
       "value": 0.25
      }
     },
     "c0bb75b617d6419b8815eb39d0fbabd0": {
      "model_module": "@jupyter-widgets/controls",
      "model_module_version": "2.0.0",
      "model_name": "FloatTextModel",
      "state": {
       "description": "Initial Height (m):",
       "layout": "IPY_MODEL_27b37fe9c7eb4a8b8f2b26fc9da7e3c2",
       "step": null,
       "style": "IPY_MODEL_52fe2e1c85ee43eeb4199a5a511a42b0",
       "value": 0.025
      }
     },
     "c121f62a96274100b84bfb4bcfbf6101": {
      "model_module": "@jupyter-widgets/base",
      "model_module_version": "2.0.0",
      "model_name": "LayoutModel",
      "state": {
       "width": "400px"
      }
     },
     "c1a0a2a014354240891a37d75317068b": {
      "model_module": "@jupyter-widgets/controls",
      "model_module_version": "2.0.0",
      "model_name": "FloatTextModel",
      "state": {
       "description": "Time to Final (min) T5",
       "layout": "IPY_MODEL_6b1f1b23f43a46d9aa49a7cb0559cb0d",
       "step": null,
       "style": "IPY_MODEL_aeafbed5a8474b069328fae4a63dfcf1",
       "value": 240
      }
     },
     "c266026f424d4b90b3cf840cd13a0c01": {
      "model_module": "@jupyter-widgets/controls",
      "model_module_version": "2.0.0",
      "model_name": "FloatTextModel",
      "state": {
       "description": "Trial 2 – Dial Initial (mm)",
       "layout": "IPY_MODEL_71fa6e8c3a3347b9a019f4b41162a026",
       "step": null,
       "style": "IPY_MODEL_6b9d9e99f4f042949810a38f2a60d4b8"
      }
     },
     "c296a019a3a84d20a7c2f547857e84c8": {
      "model_module": "@jupyter-widgets/controls",
      "model_module_version": "2.0.0",
      "model_name": "DescriptionStyleModel",
      "state": {
       "description_width": "200px"
      }
     },
     "c4e7089ab7e44e6ca7d55eba3ba8422e": {
      "model_module": "@jupyter-widgets/controls",
      "model_module_version": "2.0.0",
      "model_name": "DescriptionStyleModel",
      "state": {
       "description_width": "200px"
      }
     },
     "c675877c654a42e295f0edd85a9dd3ad": {
      "model_module": "@jupyter-widgets/controls",
      "model_module_version": "2.0.0",
      "model_name": "DescriptionStyleModel",
      "state": {
       "description_width": "200px"
      }
     },
     "ca8e42c938a24d0d921e366f7c62fcaa": {
      "model_module": "@jupyter-widgets/controls",
      "model_module_version": "2.0.0",
      "model_name": "FloatTextModel",
      "state": {
       "description": "Trial 2 – Dial Initial (mm)",
       "layout": "IPY_MODEL_c121f62a96274100b84bfb4bcfbf6101",
       "step": null,
       "style": "IPY_MODEL_753f910ed793413488e957b9bf4c48b0"
      }
     },
     "caced2b2f9344ff0871b18858ce271e0": {
      "model_module": "@jupyter-widgets/controls",
      "model_module_version": "2.0.0",
      "model_name": "FloatTextModel",
      "state": {
       "description": "Final Dial T5 (mm)",
       "layout": "IPY_MODEL_6b1f1b23f43a46d9aa49a7cb0559cb0d",
       "step": null,
       "style": "IPY_MODEL_a18e225d404349de9b66a82c00550639",
       "value": 0.25
      }
     },
     "cad1c31a29604ce4b267365337d4cf34": {
      "model_module": "@jupyter-widgets/base",
      "model_module_version": "2.0.0",
      "model_name": "LayoutModel",
      "state": {}
     },
     "cba33fd6728d463a9e5725d713479e0f": {
      "model_module": "@jupyter-widgets/controls",
      "model_module_version": "2.0.0",
      "model_name": "FloatTextModel",
      "state": {
       "description": "Liquid Limit (LL%)",
       "layout": "IPY_MODEL_71fa6e8c3a3347b9a019f4b41162a026",
       "step": null,
       "style": "IPY_MODEL_43dc52fd986240d4ae1272d2a8b10ebe",
       "value": 45
      }
     },
     "cc21d0dc6f8e4bea90b301d7fbff89c1": {
      "model_module": "@jupyter-widgets/controls",
      "model_module_version": "2.0.0",
      "model_name": "ButtonStyleModel",
      "state": {
       "font_family": null,
       "font_size": null,
       "font_style": null,
       "font_variant": null,
       "font_weight": null,
       "text_color": null,
       "text_decoration": null
      }
     },
     "cc4a941c96154d748fcbca2e44920ba7": {
      "model_module": "@jupyter-widgets/controls",
      "model_module_version": "2.0.0",
      "model_name": "FloatTextModel",
      "state": {
       "description": "Trial 3 – Dial Initial (mm)",
       "layout": "IPY_MODEL_c121f62a96274100b84bfb4bcfbf6101",
       "step": null,
       "style": "IPY_MODEL_d32c07c004d54c9ab39f13cd5f675a70"
      }
     },
     "ccde9100a2634583b4e039dc94288b39": {
      "model_module": "@jupyter-widgets/controls",
      "model_module_version": "2.0.0",
      "model_name": "SliderStyleModel",
      "state": {
       "description_width": "200px"
      }
     },
     "cd3126c64f0c402baf5c9421c0ddf609": {
      "model_module": "@jupyter-widgets/controls",
      "model_module_version": "2.0.0",
      "model_name": "DescriptionStyleModel",
      "state": {
       "description_width": "200px"
      }
     },
     "cd35304ce38e4155b6fca95808dc45ba": {
      "model_module": "@jupyter-widgets/controls",
      "model_module_version": "2.0.0",
      "model_name": "DescriptionStyleModel",
      "state": {
       "description_width": "200px"
      }
     },
     "ce2e5cae2de34136b36d420dddd383e9": {
      "model_module": "@jupyter-widgets/controls",
      "model_module_version": "2.0.0",
      "model_name": "DescriptionStyleModel",
      "state": {
       "description_width": "200px"
      }
     },
     "cea8ba891dcd4d3da908d096515ad415": {
      "model_module": "@jupyter-widgets/controls",
      "model_module_version": "2.0.0",
      "model_name": "DescriptionStyleModel",
      "state": {
       "description_width": "200px"
      }
     },
     "ceb4d986bc694359b3806c14973a52c0": {
      "model_module": "@jupyter-widgets/controls",
      "model_module_version": "2.0.0",
      "model_name": "DescriptionStyleModel",
      "state": {
       "description_width": "200px"
      }
     },
     "cf1c298869694df1bbca0a32176b699d": {
      "model_module": "@jupyter-widgets/controls",
      "model_module_version": "2.0.0",
      "model_name": "ButtonStyleModel",
      "state": {
       "font_family": null,
       "font_size": null,
       "font_style": null,
       "font_variant": null,
       "font_weight": null,
       "text_color": null,
       "text_decoration": null
      }
     },
     "cf52f2d7233b4d73a94797cf7ee8e086": {
      "model_module": "@jupyter-widgets/controls",
      "model_module_version": "2.0.0",
      "model_name": "FloatTextModel",
      "state": {
       "description": "Specimen Area (m²):",
       "layout": "IPY_MODEL_c121f62a96274100b84bfb4bcfbf6101",
       "step": null,
       "style": "IPY_MODEL_dcf03dd827a34cafb3d5c9cb89d6b9cf",
       "value": 0.00785
      }
     },
     "d26737e10dad490388371bb0d96abc48": {
      "model_module": "@jupyter-widgets/controls",
      "model_module_version": "2.0.0",
      "model_name": "IntSliderModel",
      "state": {
       "behavior": "drag-tap",
       "description": "Load Steps:",
       "layout": "IPY_MODEL_27b37fe9c7eb4a8b8f2b26fc9da7e3c2",
       "max": 12,
       "min": 1,
       "style": "IPY_MODEL_a84172b5c5f746fa87a606049e539abc",
       "value": 5
      }
     },
     "d32414838cc5476daf6e306ac52c9707": {
      "model_module": "@jupyter-widgets/controls",
      "model_module_version": "2.0.0",
      "model_name": "FloatTextModel",
      "state": {
       "description": "Trial 2 – Dial Initial (mm)",
       "layout": "IPY_MODEL_45de730323e5431d952ca2ad6dfdf18e",
       "step": null,
       "style": "IPY_MODEL_e2845c2382204c2283392e757d33c92a"
      }
     },
     "d32c07c004d54c9ab39f13cd5f675a70": {
      "model_module": "@jupyter-widgets/controls",
      "model_module_version": "2.0.0",
      "model_name": "DescriptionStyleModel",
      "state": {
       "description_width": "200px"
      }
     },
     "d3406d9f04e9462680c28c7bbf1da9f6": {
      "model_module": "@jupyter-widgets/controls",
      "model_module_version": "2.0.0",
      "model_name": "FloatTextModel",
      "state": {
       "description": "Trial 4 – Time (min)",
       "layout": "IPY_MODEL_92e9d060f515434fbea4966f648f5d25",
       "step": null,
       "style": "IPY_MODEL_994835351d2f4839a4f204966b697b7a",
       "value": 240
      }
     },
     "d6aa5f0fdf3248d5a4993fc20924a169": {
      "model_module": "@jupyter-widgets/controls",
      "model_module_version": "2.0.0",
      "model_name": "FloatTextModel",
      "state": {
       "description": "Trial 5 – Dial Initial (mm)",
       "layout": "IPY_MODEL_27b37fe9c7eb4a8b8f2b26fc9da7e3c2",
       "step": null,
       "style": "IPY_MODEL_c675877c654a42e295f0edd85a9dd3ad"
      }
     },
     "d7af6523101241d0a8e6ab3b41ae6fad": {
      "model_module": "@jupyter-widgets/base",
      "model_module_version": "2.0.0",
      "model_name": "LayoutModel",
      "state": {}
     },
     "d8de4e93300f4672a6ab037c8b345eb2": {
      "model_module": "@jupyter-widgets/controls",
      "model_module_version": "2.0.0",
      "model_name": "DescriptionStyleModel",
      "state": {
       "description_width": "200px"
      }
     },
     "d97356b3bb8843fb922ddae862b8adda": {
      "model_module": "@jupyter-widgets/controls",
      "model_module_version": "2.0.0",
      "model_name": "DescriptionStyleModel",
      "state": {
       "description_width": "200px"
      }
     },
     "dab6937db25f40dba78efd2fff81528d": {
      "model_module": "@jupyter-widgets/controls",
      "model_module_version": "2.0.0",
      "model_name": "FloatTextModel",
      "state": {
       "description": "Trial 1 – Time (min)",
       "layout": "IPY_MODEL_27b37fe9c7eb4a8b8f2b26fc9da7e3c2",
       "step": null,
       "style": "IPY_MODEL_def015be74bb473c8cca87d160374709",
       "value": 240
      }
     },
     "dabba9ed34da4538a7fc7f53003876cf": {
      "model_module": "@jupyter-widgets/controls",
      "model_module_version": "2.0.0",
      "model_name": "SliderStyleModel",
      "state": {
       "description_width": "200px"
      }
     },
     "dcf03dd827a34cafb3d5c9cb89d6b9cf": {
      "model_module": "@jupyter-widgets/controls",
      "model_module_version": "2.0.0",
      "model_name": "DescriptionStyleModel",
      "state": {
       "description_width": "200px"
      }
     },
     "dd6c59f94ac741f39da9250d80eae326": {
      "model_module": "@jupyter-widgets/controls",
      "model_module_version": "2.0.0",
      "model_name": "FloatTextModel",
      "state": {
       "description": "Trial 1 – Dial Initial (mm)",
       "layout": "IPY_MODEL_27b37fe9c7eb4a8b8f2b26fc9da7e3c2",
       "step": null,
       "style": "IPY_MODEL_ad2cbdff67dc4ad58123e5f04669b179"
      }
     },
     "ddc6b1bd609f4c2686043b13c2e0c9f7": {
      "model_module": "@jupyter-widgets/controls",
      "model_module_version": "2.0.0",
      "model_name": "DescriptionStyleModel",
      "state": {
       "description_width": "200px"
      }
     },
     "ddd8be6eba764458a2904506d0d0658e": {
      "model_module": "@jupyter-widgets/controls",
      "model_module_version": "2.0.0",
      "model_name": "ButtonModel",
      "state": {
       "description": "Generate Consolidation Report",
       "layout": "IPY_MODEL_e2ff0188162c4860a7a8dfefdc0643ca",
       "style": "IPY_MODEL_cf1c298869694df1bbca0a32176b699d",
       "tooltip": null
      }
     },
     "dde809aa6ba942539d5e59f65c1d6e51": {
      "model_module": "@jupyter-widgets/controls",
      "model_module_version": "2.0.0",
      "model_name": "DescriptionStyleModel",
      "state": {
       "description_width": "200px"
      }
     },
     "de300b202b2e44b08ea913aab0bb7114": {
      "model_module": "@jupyter-widgets/base",
      "model_module_version": "2.0.0",
      "model_name": "LayoutModel",
      "state": {}
     },
     "def015be74bb473c8cca87d160374709": {
      "model_module": "@jupyter-widgets/controls",
      "model_module_version": "2.0.0",
      "model_name": "DescriptionStyleModel",
      "state": {
       "description_width": "200px"
      }
     },
     "e0fb3cd6822b4ac09f183149f71c6a04": {
      "model_module": "@jupyter-widgets/controls",
      "model_module_version": "2.0.0",
      "model_name": "IntSliderModel",
      "state": {
       "behavior": "drag-tap",
       "description": "Load Steps:",
       "layout": "IPY_MODEL_c121f62a96274100b84bfb4bcfbf6101",
       "max": 12,
       "min": 1,
       "style": "IPY_MODEL_1c025f2465f24199a7c924d66fe35fff",
       "value": 5
      }
     },
     "e2845c2382204c2283392e757d33c92a": {
      "model_module": "@jupyter-widgets/controls",
      "model_module_version": "2.0.0",
      "model_name": "DescriptionStyleModel",
      "state": {
       "description_width": "200px"
      }
     },
     "e2d22d7e8e384b22b000479d18b112ed": {
      "model_module": "@jupyter-widgets/controls",
      "model_module_version": "2.0.0",
      "model_name": "DescriptionStyleModel",
      "state": {
       "description_width": "200px"
      }
     },
     "e2ff0188162c4860a7a8dfefdc0643ca": {
      "model_module": "@jupyter-widgets/base",
      "model_module_version": "2.0.0",
      "model_name": "LayoutModel",
      "state": {
       "width": "250px"
      }
     },
     "e48d3e123839481da9a926116ca6941c": {
      "model_module": "@jupyter-widgets/controls",
      "model_module_version": "2.0.0",
      "model_name": "FloatTextModel",
      "state": {
       "description": "Trial 4 – Dial Initial (mm)",
       "layout": "IPY_MODEL_71fa6e8c3a3347b9a019f4b41162a026",
       "step": null,
       "style": "IPY_MODEL_ce2e5cae2de34136b36d420dddd383e9"
      }
     },
     "e4bce8de6e4b4fa2b79e5b3162209eda": {
      "model_module": "@jupyter-widgets/controls",
      "model_module_version": "2.0.0",
      "model_name": "FloatTextModel",
      "state": {
       "description": "Trial 2 – Time (min)",
       "layout": "IPY_MODEL_45de730323e5431d952ca2ad6dfdf18e",
       "step": null,
       "style": "IPY_MODEL_513e58ece6f14201859f94a973f3e49b",
       "value": 240
      }
     },
     "e5e9d84600af4cd38e9a43375d6c6e56": {
      "model_module": "@jupyter-widgets/controls",
      "model_module_version": "2.0.0",
      "model_name": "DescriptionStyleModel",
      "state": {
       "description_width": "200px"
      }
     },
     "e835c076b70349bc883b5ade01224050": {
      "model_module": "@jupyter-widgets/controls",
      "model_module_version": "2.0.0",
      "model_name": "FloatTextModel",
      "state": {
       "description": "Trial 5 – Dial Final (mm)",
       "layout": "IPY_MODEL_71fa6e8c3a3347b9a019f4b41162a026",
       "step": null,
       "style": "IPY_MODEL_a33aaca46f484ad78702250376812864",
       "value": 0.25
      }
     },
     "ea746286c0d24339ab2fdc006276df87": {
      "model_module": "@jupyter-widgets/controls",
      "model_module_version": "2.0.0",
      "model_name": "DescriptionStyleModel",
      "state": {
       "description_width": "200px"
      }
     },
     "ea9cd54e1cac43cd9ffaf4d699ba624b": {
      "model_module": "@jupyter-widgets/controls",
      "model_module_version": "2.0.0",
      "model_name": "DescriptionStyleModel",
      "state": {
       "description_width": "200px"
      }
     },
     "ec68b12013a24651ae1465f9df3690fd": {
      "model_module": "@jupyter-widgets/controls",
      "model_module_version": "2.0.0",
      "model_name": "DescriptionStyleModel",
      "state": {
       "description_width": "200px"
      }
     },
     "ecb4a9780e9d4ff4b645e2581ada3393": {
      "model_module": "@jupyter-widgets/controls",
      "model_module_version": "2.0.0",
      "model_name": "VBoxModel",
      "state": {
       "children": [
        "IPY_MODEL_892d84ee32aa4995a7e400c8d5cc1248",
        "IPY_MODEL_0bfef11943694212b83d51ea263d806c",
        "IPY_MODEL_98d9fe3fe86a4019a21bea97a36b8640",
        "IPY_MODEL_761cf90447d6425a838a35d102edc093",
        "IPY_MODEL_863b128250cd4e2fb6303bc9291ac662",
        "IPY_MODEL_f5ff78dd26294d1e80a62c1654245874",
        "IPY_MODEL_750e541149c74d83aaddfc5a87bd0443",
        "IPY_MODEL_b152111c93ed4ad08ca97120a7fe5227",
        "IPY_MODEL_b1232c99dd014f09a25131b22e21e38b",
        "IPY_MODEL_b6731125b14a4989a0bf5494ce78a31a",
        "IPY_MODEL_4dce3ff54eb047478bb314dc0983b6fa",
        "IPY_MODEL_2646a6fb52da48dfab41b25117470bfb",
        "IPY_MODEL_58a7435180654844a9105bb84a673433",
        "IPY_MODEL_3b4f37273a3c40f08f811d8975c31ac7",
        "IPY_MODEL_2797d645611d44f59793ec2c69991fd9",
        "IPY_MODEL_fe915899ee564303a77c839c404e221e",
        "IPY_MODEL_1791d68dae4e4f919842d40e2e49eb87",
        "IPY_MODEL_d3406d9f04e9462680c28c7bbf1da9f6",
        "IPY_MODEL_b9f19c8d84bd42c1821bc63fd36da8b8",
        "IPY_MODEL_761fb93452394165b0c3e9517b2cc616",
        "IPY_MODEL_4b7bcb9621ad4da9be54d33b3154ce04"
       ],
       "layout": "IPY_MODEL_6a43dd40a6614114acf03fdcb5f76bdb"
      }
     },
     "ed63f2e46d1b4e829d7a6b80f09047f8": {
      "model_module": "@jupyter-widgets/controls",
      "model_module_version": "2.0.0",
      "model_name": "DescriptionStyleModel",
      "state": {
       "description_width": "200px"
      }
     },
     "ed74f716d9dc454da61d27e50e2a2f95": {
      "model_module": "@jupyter-widgets/controls",
      "model_module_version": "2.0.0",
      "model_name": "FloatTextModel",
      "state": {
       "description": "Trial 3 – Time (min)",
       "layout": "IPY_MODEL_45de730323e5431d952ca2ad6dfdf18e",
       "step": null,
       "style": "IPY_MODEL_0a64482467cb4901bb586278388808cc",
       "value": 240
      }
     },
     "edc6c6c368c24f5fae2505dc24ee5c79": {
      "model_module": "@jupyter-widgets/controls",
      "model_module_version": "2.0.0",
      "model_name": "FloatTextModel",
      "state": {
       "description": "Trial 4 – Time (min)",
       "layout": "IPY_MODEL_45de730323e5431d952ca2ad6dfdf18e",
       "step": null,
       "style": "IPY_MODEL_ceb4d986bc694359b3806c14973a52c0",
       "value": 240
      }
     },
     "eeed037b52d84d1b8d1c44a881642a7b": {
      "model_module": "@jupyter-widgets/controls",
      "model_module_version": "2.0.0",
      "model_name": "DescriptionStyleModel",
      "state": {
       "description_width": "200px"
      }
     },
     "efcbc98d513e49cda4afec92b9c4602d": {
      "model_module": "@jupyter-widgets/controls",
      "model_module_version": "2.0.0",
      "model_name": "DescriptionStyleModel",
      "state": {
       "description_width": "200px"
      }
     },
     "f03023c5c0a74cf68df8e2cef27c0905": {
      "model_module": "@jupyter-widgets/controls",
      "model_module_version": "2.0.0",
      "model_name": "SliderStyleModel",
      "state": {
       "description_width": "200px"
      }
     },
     "f0c9028aaef3451eaa645784a20fb50d": {
      "model_module": "@jupyter-widgets/controls",
      "model_module_version": "2.0.0",
      "model_name": "DescriptionStyleModel",
      "state": {
       "description_width": "200px"
      }
     },
     "f21b16b6a22245eca4859ef919bcd014": {
      "model_module": "@jupyter-widgets/controls",
      "model_module_version": "2.0.0",
      "model_name": "DescriptionStyleModel",
      "state": {
       "description_width": "200px"
      }
     },
     "f30851c2677c4b829d2b2c2090daefe9": {
      "model_module": "@jupyter-widgets/controls",
      "model_module_version": "2.0.0",
      "model_name": "FloatTextModel",
      "state": {
       "description": "Specimen Area (m²):",
       "layout": "IPY_MODEL_27b37fe9c7eb4a8b8f2b26fc9da7e3c2",
       "step": null,
       "style": "IPY_MODEL_6c30be47542243979239debc1f6cf73d",
       "value": 0.00785
      }
     },
     "f46fb817e9ec4d5fae429e47655f0f83": {
      "model_module": "@jupyter-widgets/controls",
      "model_module_version": "2.0.0",
      "model_name": "FloatTextModel",
      "state": {
       "description": "Specimen Area (m²):",
       "layout": "IPY_MODEL_6b1f1b23f43a46d9aa49a7cb0559cb0d",
       "step": null,
       "style": "IPY_MODEL_5a8b5b3f7ebe43fdb8d8b4267802ec66",
       "value": 0.00785
      }
     },
     "f56fe27da6b94360acd37791adffc80f": {
      "model_module": "@jupyter-widgets/controls",
      "model_module_version": "2.0.0",
      "model_name": "FloatTextModel",
      "state": {
       "description": "Time to Final (min) T2",
       "layout": "IPY_MODEL_6b1f1b23f43a46d9aa49a7cb0559cb0d",
       "step": null,
       "style": "IPY_MODEL_7ced5fb2b6dc4339a6f2084b4bd96a08",
       "value": 240
      }
     },
     "f574e299a9fd4cbc90e1faf454ad78b4": {
      "model_module": "@jupyter-widgets/controls",
      "model_module_version": "2.0.0",
      "model_name": "FloatTextModel",
      "state": {
       "description": "Trial 5 – Time (min)",
       "layout": "IPY_MODEL_71fa6e8c3a3347b9a019f4b41162a026",
       "step": null,
       "style": "IPY_MODEL_002f3558e64c4d0db6587ce49fde484f",
       "value": 240
      }
     },
     "f5ff78dd26294d1e80a62c1654245874": {
      "model_module": "@jupyter-widgets/controls",
      "model_module_version": "2.0.0",
      "model_name": "FloatTextModel",
      "state": {
       "description": "Plastic Limit (PL%)",
       "layout": "IPY_MODEL_92e9d060f515434fbea4966f648f5d25",
       "step": null,
       "style": "IPY_MODEL_62a7a82310174d4e9c5720f33b90af46",
       "value": 25
      }
     },
     "f69c78e588554e30847d5dc150640525": {
      "model_module": "@jupyter-widgets/base",
      "model_module_version": "2.0.0",
      "model_name": "LayoutModel",
      "state": {}
     },
     "f7c4340c827b491689c34fda39015e72": {
      "model_module": "@jupyter-widgets/controls",
      "model_module_version": "2.0.0",
      "model_name": "ButtonModel",
      "state": {
       "description": "Generate Report with Cc & Cv",
       "layout": "IPY_MODEL_0aa808416c76453e82eed174c2ac4231",
       "style": "IPY_MODEL_b74418ee84ce44f8959f92451c0c36f7",
       "tooltip": null
      }
     },
     "f8987e34bd1a464a88c38068caf22c04": {
      "model_module": "@jupyter-widgets/controls",
      "model_module_version": "2.0.0",
      "model_name": "DescriptionStyleModel",
      "state": {
       "description_width": "200px"
      }
     },
     "fa5053fdf1284e2e81e2912e066da38e": {
      "model_module": "@jupyter-widgets/controls",
      "model_module_version": "2.0.0",
      "model_name": "FloatTextModel",
      "state": {
       "description": "Trial 3 – Dial Final (mm)",
       "layout": "IPY_MODEL_45de730323e5431d952ca2ad6dfdf18e",
       "step": null,
       "style": "IPY_MODEL_9318b3798f814946ba8f734a29cffae8",
       "value": 0.25
      }
     },
     "fb47c138ebae427da4e1ebd0b5dec0ca": {
      "model_module": "@jupyter-widgets/controls",
      "model_module_version": "2.0.0",
      "model_name": "FloatTextModel",
      "state": {
       "description": "Plastic Limit (PL%)",
       "layout": "IPY_MODEL_45de730323e5431d952ca2ad6dfdf18e",
       "step": null,
       "style": "IPY_MODEL_f8987e34bd1a464a88c38068caf22c04",
       "value": 25
      }
     },
     "fc0553226d6e41db82bc2d2ca49b92a5": {
      "model_module": "@jupyter-widgets/base",
      "model_module_version": "2.0.0",
      "model_name": "LayoutModel",
      "state": {}
     },
     "fe915899ee564303a77c839c404e221e": {
      "model_module": "@jupyter-widgets/controls",
      "model_module_version": "2.0.0",
      "model_name": "FloatTextModel",
      "state": {
       "description": "Trial 4 – Dial Initial (mm)",
       "layout": "IPY_MODEL_92e9d060f515434fbea4966f648f5d25",
       "step": null,
       "style": "IPY_MODEL_61c2666c760642c39ed9df73278b7866"
      }
     },
     "feabe81d442b47278b341c4d72e0dc9a": {
      "model_module": "@jupyter-widgets/controls",
      "model_module_version": "2.0.0",
      "model_name": "FloatTextModel",
      "state": {
       "description": "Final Dial T1 (mm)",
       "layout": "IPY_MODEL_6b1f1b23f43a46d9aa49a7cb0559cb0d",
       "step": null,
       "style": "IPY_MODEL_ea746286c0d24339ab2fdc006276df87",
       "value": 0.25
      }
     },
     "ff5da4bccbff4016a31e5b17f05c7970": {
      "model_module": "@jupyter-widgets/controls",
      "model_module_version": "2.0.0",
      "model_name": "FloatTextModel",
      "state": {
       "description": "Trial 5 – Dial Final (mm)",
       "layout": "IPY_MODEL_c121f62a96274100b84bfb4bcfbf6101",
       "step": null,
       "style": "IPY_MODEL_91551c94fde5431b966e108d12ef29b7",
       "value": 0.25
      }
     }
    },
    "version_major": 2,
    "version_minor": 0
   }
  }
 },
 "nbformat": 4,
 "nbformat_minor": 5
}
