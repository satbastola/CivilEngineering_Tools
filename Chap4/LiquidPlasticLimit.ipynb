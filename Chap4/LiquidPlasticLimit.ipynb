{
 "cells": [
  {
   "cell_type": "markdown",
   "id": "0854feaf-0214-4498-93ac-7cdeef69cfd0",
   "metadata": {},
   "source": [
    "# Chapter 6 Geotech Engineering Laboratory: Liquid and Plastic Limit"
   ]
  },
  {
   "cell_type": "markdown",
   "id": "8590a9ac-060d-43d0-93a8-7387b21dfdc0",
   "metadata": {},
   "source": [
    "1. [Introduction: Soil Density Lab](#1.-Introduction)\n",
    "2. [Simulation: Procter density Test](#2.-Simulation)\n",
    "3. [Self-Assessment](#3.-Self-Assessment)"
   ]
  },
  {
   "cell_type": "markdown",
   "id": "f95cb87e-4dd4-48bd-90ab-d841556215dd",
   "metadata": {},
   "source": [
    "## 1. Introduction"
   ]
  },
  {
   "cell_type": "markdown",
   "id": "64606361-d09b-4846-b4e5-1076caa7e20d",
   "metadata": {},
   "source": [
    "### 🧪 Liquid Limit & Plastic Limit – Definitions, Importance & Empirical Use\n",
    "\n",
    "---\n",
    "\n",
    "### 📘 Definitions\n",
    "\n",
    "| Term            | Description                                                                 |\n",
    "|------------------|------------------------------------------------------------------------------|\n",
    "| **Liquid Limit (LL)**  | Moisture content (%) at which soil transitions from plastic to liquid behavior |\n",
    "| **Plastic Limit (PL)** | Moisture content (%) at which soil transitions from semi-solid to plastic state |\n",
    "| **Plasticity Index (PI)** | Difference between LL and PL → \\( PI = LL - PL \\)                         |\n",
    "\n",
    "---\n",
    "\n",
    "### 🎯 Importance in Geotechnical Engineering\n",
    "\n",
    "| Parameter        | Influence of Atterberg Limits                                    |\n",
    "|------------------|-------------------------------------------------------------------|\n",
    "| **Soil Classification**  | PI and LL define fine-grained behavior (USCS, AASHTO systems)      |\n",
    "| **Workability**          | Determines ease of handling, compaction, and mixing               |\n",
    "| **Settlement & Compressibility** | High PI → greater compressibility in saturated soils        |\n",
    "| **Foundation Design**    | LL used in estimating undrained shear strength and bearing capacity |\n",
    "| **Expansive Behavior**   | High PI indicates swelling potential for clays                    |\n",
    "\n",
    "---\n",
    "\n",
    "### 🧭 U.S. Standards for Measurement\n",
    "\n",
    "| Property          | Method              | ASTM Standard     |\n",
    "|-------------------|---------------------|--------------------|\n",
    "| **Liquid Limit**  | Casagrande Groove Closure (mechanical device) | ASTM D4318 |\n",
    "| **Plastic Limit** | Soil thread rolling until crumbling | ASTM D4318 |\n",
    "| **PI Calculation**| \\( PI = LL - PL \\) | ASTM D4318 |\n",
    "\n",
    "🔹 LL is determined by plotting moisture vs. groove closure blows and estimating at 25 blows (log regression).  \n",
    "🔹 PL is taken as the average moisture content at which rolled soil threads begin to crumble at 3.2 mm diameter.\n",
    "\n",
    "---\n",
    "\n",
    "### 📐 Empirical Equations Using LL, PL, PI\n",
    "\n",
    "### ✅ Compression / Settlement\n",
    "\n",
    "| Equation                          | Expression                                       | Source             |\n",
    "|-----------------------------------|--------------------------------------------------|--------------------|\n",
    "| Compression Index (Cc)            | $( C_c = 0.009 (LL - 10) $)                      | Terzaghi & Peck    |\n",
    "| Secondary Compression (Cα)        | $( C_\\alpha = C_c / (1 + e_0) $)                 | Consolidation Theory |\n",
    "\n",
    "### ✅ Shear Strength / Bearing Capacity\n",
    "\n",
    "| Equation                          | Expression                                       | Use Case           |\n",
    "|-----------------------------------|--------------------------------------------------|--------------------|\n",
    "| Undrained Shear Strength (Su)     | $( Su = A \\cdot PI^{-0.5} \\cdot \\sigma_v $)     | Soft clays         |\n",
    "| Bearing Capacity Reduction        | $( q_{ult} = B - C \\cdot PI $)                  | Shallow foundations |\n",
    "\n",
    "### ✅ Permeability / Hydraulic Conductivity\n",
    "\n",
    "| Equation                          | Expression                                       | Notes              |\n",
    "|-----------------------------------|--------------------------------------------------|--------------------|\n",
    "| Seed et al. (1961)                | $( K = 10^{-7 + 3.3 \\cdot PI/LL} $)              | Fine soils         |\n",
    "| Ferguson & Maxwell                | $( \\log(K) = A - B \\cdot LL $)                   | Empirical estimate |\n",
    "| Morin & Todorovic                 | $( K = a \\cdot e^b \\cdot LL^{-c} $)              | Silty clays        |\n",
    "\n",
    "---\n",
    "\n",
    "### 🧭 Interpretation Notes\n",
    "\n",
    "- **High LL (>50%)** → Soil may exhibit soft, liquid behavior; careful handling needed  \n",
    "- **High PI (>20%)** → Swelling, shrinkage, and stability concerns in foundations  \n",
    "- **Empirical formulas** help estimate soil behavior when lab tests aren’t available, but must be used cautiously—always validate when possible\n",
    "\n",
    "Would you like these equations bundled into a worksheet or interactive calculator for preliminary soil profiling?"
   ]
  },
  {
   "cell_type": "markdown",
   "id": "11c5b1d4-672f-464a-af28-7e38df8070b6",
   "metadata": {},
   "source": [
    "## 2. Simulation"
   ]
  },
  {
   "cell_type": "markdown",
   "id": "482a5822-b25f-4bbe-a1d3-fae0ac9cc9a1",
   "metadata": {},
   "source": [
    "## 🧪 Atterberg Limit Calculator – Summary Guide\n",
    "\n",
    "## 📘 What It Is\n",
    "An interactive Python tool using `ipywidgets` to compute the **Liquid Limit (LL)**, **Plastic Limit (PL)**, and **Plasticity Index (PI)** based on laboratory moisture content measurements.\n",
    "\n",
    "- **LL** estimated from Casagrande groove closure trials (moisture vs. blow count)\n",
    "- **PL** averaged from plastic thread moisture trials\n",
    "- **PI** computed as LL − PL, indicating soil plasticity behavior\n",
    "\n",
    "---\n",
    "\n",
    "## ⚙️ What It Does\n",
    "\n",
    "| Task                              | Method Used                                 |\n",
    "|-----------------------------------|---------------------------------------------|\n",
    "| Input data for LL (moisture & blows) | User-entered values per trial              |\n",
    "| Input data for PL (moisture only)    | Averaged across trials                     |\n",
    "| Compute LL                         | Regression at 25 blows (log-linear fit)     |\n",
    "| Compute PL                         | Mean moisture from plastic thread trials    |\n",
    "| Output PI                          | LL − PL                                     |\n",
    "| Output Classification              | Based on PI value range (low, med, high)    |\n",
    "\n",
    "---\n",
    "\n",
    "## 🧩 How to Use\n",
    "\n",
    "### 📥 Inputs\n",
    "- LL trials: moisture content (%) and closure blows per test\n",
    "- PL trials: moisture content from rolling soil into threads\n",
    "\n",
    "### 📤 Outputs\n",
    "| Output        | Meaning                                        |\n",
    "|---------------|------------------------------------------------|\n",
    "| **LL (%)**     | Water content where clay flows under vibration |\n",
    "| **PL (%)**     | Water content at which soil crumbles when rolled |\n",
    "| **PI (%)**     | Index of soil plasticity (LL − PL)            |\n",
    "| **Classification** | Soil behavior: low, medium, or high plasticity |\n",
    "\n",
    "---\n",
    "\n",
    "## 🧭 How to Interpret\n",
    "\n",
    "| PI Value      | Plasticity Class        | Soil Implication                        |\n",
    "|---------------|-------------------------|------------------------------------------|\n",
    "| PI < 7        | 💡 Low plasticity        | Easily workable, minimal swelling        |\n",
    "| PI 7–20       | 💡 Medium plasticity     | Moderate volume change & handling effort |\n",
    "| PI > 20       | 💡 High plasticity       | Sticky, expansive behavior risk          |\n",
    "\n",
    "Use these limits for soil classification under systems like USCS and for selecting compaction, stabilization, and foundation methods."
   ]
  },
  {
   "cell_type": "code",
   "execution_count": 2,
   "id": "1d00b7b6-e9b2-4dca-b2cb-e4b5a16684c3",
   "metadata": {},
   "outputs": [
    {
     "data": {
      "application/vnd.jupyter.widget-view+json": {
       "model_id": "e6e929039458467b90340eeec8bbe2e8",
       "version_major": 2,
       "version_minor": 0
      },
      "text/plain": [
       "VBox(children=(HTML(value='<h3>💧 Liquid Limit Inputs (Casagrande)</h3>'), IntSlider(value=4, description='LL T…"
      ]
     },
     "metadata": {},
     "output_type": "display_data"
    }
   ],
   "source": [
    "import pandas as pd\n",
    "import numpy as np\n",
    "import ipywidgets as widgets\n",
    "from IPython.display import display, Markdown\n",
    "import math\n",
    "\n",
    "# 💡 Styling\n",
    "style = {'description_width': '200px'}\n",
    "layout = widgets.Layout(width='400px')\n",
    "\n",
    "# 📋 Liquid Limit Data Entry\n",
    "num_ll_trials = widgets.IntSlider(value=4, min=2, max=6, description='LL Trials:', style=style, layout=layout)\n",
    "\n",
    "def create_ll_inputs(n):\n",
    "    return [\n",
    "        (\n",
    "            widgets.FloatText(value=28 + i*2, description=f'Trial {i+1} – Moisture (%)', style=style, layout=layout),\n",
    "            widgets.IntText(value=15 + i*5, description=f'Trial {i+1} – Blows', style=style, layout=layout)\n",
    "        )\n",
    "        for i in range(n)\n",
    "    ]\n",
    "\n",
    "ll_data = create_ll_inputs(num_ll_trials.value)\n",
    "\n",
    "def update_ll(change):\n",
    "    global ll_data\n",
    "    ll_data = create_ll_inputs(change['new'])\n",
    "    ll_box.children = [w for group in ll_data for w in group]\n",
    "\n",
    "num_ll_trials.observe(update_ll, names='value')\n",
    "ll_box = widgets.VBox([w for group in ll_data for w in group])\n",
    "\n",
    "# 📋 Plastic Limit Data Entry\n",
    "num_pl_trials = widgets.IntSlider(value=3, min=1, max=5, description='PL Trials:', style=style, layout=layout)\n",
    "\n",
    "pl_inputs = [\n",
    "    widgets.FloatText(value=19 + i, description=f'PL Moisture (%) T{i+1}', style=style, layout=layout)\n",
    "    for i in range(num_pl_trials.value)\n",
    "]\n",
    "\n",
    "def update_pl(change):\n",
    "    global pl_inputs\n",
    "    pl_inputs = [widgets.FloatText(value=19 + i, description=f'PL Moisture (%) T{i+1}', style=style, layout=layout)\n",
    "                 for i in range(change['new'])]\n",
    "    pl_box.children = pl_inputs\n",
    "\n",
    "num_pl_trials.observe(update_pl, names='value')\n",
    "pl_box = widgets.VBox(pl_inputs)\n",
    "\n",
    "# 🧮 Calculation\n",
    "run_btn = widgets.Button(description='Compute LL, PL & PI', layout=widgets.Layout(width='300px'))\n",
    "\n",
    "def on_run_click(b):\n",
    "    # LL Regression\n",
    "    blows = []\n",
    "    moistures = []\n",
    "    for m, n in ll_data:\n",
    "        moistures.append(m.value)\n",
    "        blows.append(n.value)\n",
    "\n",
    "    log_blows = [math.log10(x) for x in blows]\n",
    "    df_ll = pd.DataFrame({'Moisture': moistures, 'Log(Blows)': log_blows})\n",
    "    slope, intercept = np.polyfit(df_ll['Log(Blows)'], df_ll['Moisture'], 1)\n",
    "    LL = round(slope * math.log10(25) + intercept, 1)\n",
    "\n",
    "    # PL Average\n",
    "    pl_vals = [x.value for x in pl_inputs if x.value > 0]\n",
    "    PL = round(np.mean(pl_vals), 1)\n",
    "    PI = round(LL - PL, 1)\n",
    "\n",
    "    # Classification Hint\n",
    "    if PI < 7:\n",
    "        desc = \"💡 Low plasticity\"\n",
    "    elif PI < 20:\n",
    "        desc = \"💡 Intermediate plasticity\"\n",
    "    else:\n",
    "        desc = \"💡 High plasticity\"\n",
    "\n",
    "    md = f\"\"\"\n",
    "### 🧪 Atterberg Limit Results\n",
    "\n",
    "- **Liquid Limit (LL)**: {LL:.1f} %  \n",
    "- **Plastic Limit (PL)**: {PL:.1f} %  \n",
    "- **Plasticity Index (PI)**: {PI:.1f} %  \n",
    "- **Estimated Classification**: {desc}\n",
    "\n",
    "---\n",
    "\n",
    "### 📐 Interpretation Notes\n",
    "- LL estimated via regression at 25 blows (Casagrande method)  \n",
    "- PL taken as average of plastic roll moisture  \n",
    "- PI = LL - PL → Indicator of soil plasticity and classification\n",
    "\"\"\"\n",
    "    display(Markdown(md))\n",
    "\n",
    "run_btn.on_click(on_run_click)\n",
    "\n",
    "# 🧩 Display Interface\n",
    "display(widgets.VBox([\n",
    "    widgets.HTML(\"<h3>💧 Liquid Limit Inputs (Casagrande)</h3>\"),\n",
    "    num_ll_trials, ll_box,\n",
    "    widgets.HTML(\"<h3>🧂 Plastic Limit Inputs (Roll Method)</h3>\"),\n",
    "    num_pl_trials, pl_box,\n",
    "    run_btn\n",
    "]))"
   ]
  },
  {
   "cell_type": "markdown",
   "id": "7fcb288c-bf3f-43d4-be0e-0b2116c0023a",
   "metadata": {},
   "source": [
    "## 3. Self-Assessment"
   ]
  },
  {
   "cell_type": "markdown",
   "id": "8d4b79da-a3c5-4cce-b09d-8046c23a016e",
   "metadata": {},
   "source": [
    "### 🧪 Atterberg Limits – Conceptual, Reflective & Quiz Questions\n",
    "\n",
    "---\n",
    "\n",
    "### 🔍 Conceptual Questions\n",
    "\n",
    "1. What does the liquid limit (LL) represent in terms of soil behavior?\n",
    "2. How does the plastic limit (PL) relate to the consistency and workability of fine-grained soils?\n",
    "3. Why is plasticity index (PI) a useful metric in geotechnical soil classification?\n",
    "4. How does moisture content influence the transition between liquid, plastic, and semi-solid states in clayey soils?\n",
    "5. What are the limitations of using Casagrande’s groove method for determining LL?\n",
    "\n",
    "---\n",
    "\n",
    "### 💭 Reflective Questions\n",
    "\n",
    "1. In your lab trial, what factors influenced variability in LL and PL measurements?\n",
    "2. How would soil plasticity affect field handling, compaction, or foundation preparation?\n",
    "3. If two soils have similar LL but very different PI, how might that influence your design decisions?\n",
    "4. What human or procedural errors could bias the moisture content used in calculating Atterberg limits?\n",
    "5. How do Atterberg limits help in understanding swelling potential or shrinkage behavior?\n",
    "\n",
    "---\n",
    "\n",
    "### 🧪 Quiz Questions\n",
    "\n",
    "### Theory & Classification\n",
    "\n",
    "**Q1. Plasticity Index (PI) is calculated as:**  \n",
    "- A. PI = PL − LL  \n",
    "- B. PI = LL × PL  \n",
    "- C. PI = LL − PL ✅  \n",
    "- D. PI = LL / PL\n",
    "\n",
    "**Q2. A soil with LL = 50% and PL = 22% has:**  \n",
    "- A. PI = 28% ✅  \n",
    "- B. PI = 72%  \n",
    "- C. PI = 32%  \n",
    "- D. PI = 4%\n",
    "\n",
    "**Q3. Which statement best describes a high PI soil?**  \n",
    "- A. Very brittle and non-plastic  \n",
    "- B. Highly plastic and expansive ✅  \n",
    "- C. Low moisture retention  \n",
    "- D. Ideal for road subgrade\n",
    "\n",
    "### Methodology\n",
    "\n",
    "**Q4. Casagrande method uses which feature to determine LL?**  \n",
    "- A. Soil roll stiffness  \n",
    "- B. Closure of groove at 25 blows ✅  \n",
    "- C. Drop cone penetration  \n",
    "- D. Weight of sample\n",
    "\n",
    "**Q5. Atterberg limits apply to which soil fraction?**  \n",
    "- A. Coarse gravel  \n",
    "- B. Sand  \n",
    "- C. Silt and clay-sized particles ✅  \n",
    "- D. Organic topsoil"
   ]
  }
 ],
 "metadata": {
  "kernelspec": {
   "display_name": "Python [conda env:base] *",
   "language": "python",
   "name": "conda-base-py"
  },
  "language_info": {
   "codemirror_mode": {
    "name": "ipython",
    "version": 3
   },
   "file_extension": ".py",
   "mimetype": "text/x-python",
   "name": "python",
   "nbconvert_exporter": "python",
   "pygments_lexer": "ipython3",
   "version": "3.12.7"
  },
  "widgets": {
   "application/vnd.jupyter.widget-state+json": {
    "state": {
     "030f1f45c0384429bfe81dc977915363": {
      "model_module": "@jupyter-widgets/controls",
      "model_module_version": "2.0.0",
      "model_name": "ButtonModel",
      "state": {
       "description": "Compute LL, PL & PI",
       "layout": "IPY_MODEL_ddcfc628dd134f3cbca46892d213b2f3",
       "style": "IPY_MODEL_519b6fa7f52447d4a61c254d4f979ffc",
       "tooltip": null
      }
     },
     "0e0fae68626b41a98cf3394e037f4039": {
      "model_module": "@jupyter-widgets/controls",
      "model_module_version": "2.0.0",
      "model_name": "FloatTextModel",
      "state": {
       "description": "Trial 3 – Moisture (%)",
       "layout": "IPY_MODEL_ef37f00ada3a4a409ef969465c61208d",
       "step": null,
       "style": "IPY_MODEL_671319c50b4940b49b0aee9a3b397794",
       "value": 32
      }
     },
     "10ed6807a83c45f3b1dbd2bff49624d5": {
      "model_module": "@jupyter-widgets/controls",
      "model_module_version": "2.0.0",
      "model_name": "SliderStyleModel",
      "state": {
       "description_width": "200px"
      }
     },
     "12733ff9a8944de89a826254b570a495": {
      "model_module": "@jupyter-widgets/controls",
      "model_module_version": "2.0.0",
      "model_name": "IntTextModel",
      "state": {
       "description": "Trial 3 – Blows",
       "layout": "IPY_MODEL_ee01c6f5e21f427493ceb741435e1799",
       "step": 1,
       "style": "IPY_MODEL_78df661ef7e94f78966dd221d724c013",
       "value": 25
      }
     },
     "14f07aab233642768221417f57eb1fc8": {
      "model_module": "@jupyter-widgets/controls",
      "model_module_version": "2.0.0",
      "model_name": "HTMLModel",
      "state": {
       "layout": "IPY_MODEL_6430cfeb93784e6b84b3832f78e4b2d8",
       "style": "IPY_MODEL_3b62c87418c64ac1a55c9e4096bf770d",
       "value": "<h3>🧂 Plastic Limit Inputs (Roll Method)</h3>"
      }
     },
     "15c65fdbaf8f45239e30a3fada23b259": {
      "model_module": "@jupyter-widgets/controls",
      "model_module_version": "2.0.0",
      "model_name": "DescriptionStyleModel",
      "state": {
       "description_width": "200px"
      }
     },
     "15f635bd4f1548efbbefa964d1aab9be": {
      "model_module": "@jupyter-widgets/base",
      "model_module_version": "2.0.0",
      "model_name": "LayoutModel",
      "state": {}
     },
     "171a8d9833df43d69b1a8aa8f5c705b4": {
      "model_module": "@jupyter-widgets/controls",
      "model_module_version": "2.0.0",
      "model_name": "FloatTextModel",
      "state": {
       "description": "Trial 2 – Moisture (%)",
       "layout": "IPY_MODEL_ee01c6f5e21f427493ceb741435e1799",
       "step": null,
       "style": "IPY_MODEL_cf44dfe86477461a9f77e9ef1a67bff9",
       "value": 30
      }
     },
     "1807a81182764ede8a96dbfd6481832e": {
      "model_module": "@jupyter-widgets/controls",
      "model_module_version": "2.0.0",
      "model_name": "FloatTextModel",
      "state": {
       "description": "Trial 4 – Moisture (%)",
       "layout": "IPY_MODEL_ef37f00ada3a4a409ef969465c61208d",
       "step": null,
       "style": "IPY_MODEL_ad05abcf46984d29a4c797f34a3e8ef4",
       "value": 34
      }
     },
     "2271246767604e229bcb793db8aad89b": {
      "model_module": "@jupyter-widgets/controls",
      "model_module_version": "2.0.0",
      "model_name": "VBoxModel",
      "state": {
       "children": [
        "IPY_MODEL_9e7b7dcfa1af41bfb8b30d296dba3e2d",
        "IPY_MODEL_6d6c1707df6343e892e2410580b83de2",
        "IPY_MODEL_adfe5d57cc604a52a4395a4d1d282f6b",
        "IPY_MODEL_14f07aab233642768221417f57eb1fc8",
        "IPY_MODEL_53b7ffd33b4c4d0d97b91383675b49ed",
        "IPY_MODEL_7dd9348357724cda93a34f95dc3fffca",
        "IPY_MODEL_030f1f45c0384429bfe81dc977915363"
       ],
       "layout": "IPY_MODEL_e8dc029d68814b89bb75dec01613addc"
      }
     },
     "28b9124bf64a448cbc57f4b57fde6b79": {
      "model_module": "@jupyter-widgets/controls",
      "model_module_version": "2.0.0",
      "model_name": "HTMLModel",
      "state": {
       "layout": "IPY_MODEL_eac059ac439f49cf9465a437e8b01f02",
       "style": "IPY_MODEL_91dc73145ba04d5e82b2c9714a6e754c",
       "value": "<h3>🧂 Plastic Limit Inputs (Roll Method)</h3>"
      }
     },
     "329943bcaf83403bb11fc2fbe25e40f3": {
      "model_module": "@jupyter-widgets/controls",
      "model_module_version": "2.0.0",
      "model_name": "IntSliderModel",
      "state": {
       "behavior": "drag-tap",
       "description": "PL Trials:",
       "layout": "IPY_MODEL_ee01c6f5e21f427493ceb741435e1799",
       "max": 5,
       "min": 1,
       "style": "IPY_MODEL_e0aeb84059a14037afed719d122e21fa",
       "value": 3
      }
     },
     "32ae713fdb5b406db3c2e3139d01d8ce": {
      "model_module": "@jupyter-widgets/controls",
      "model_module_version": "2.0.0",
      "model_name": "FloatTextModel",
      "state": {
       "description": "PL Moisture (%) T1",
       "layout": "IPY_MODEL_ee01c6f5e21f427493ceb741435e1799",
       "step": null,
       "style": "IPY_MODEL_5f8403dc665d4e22a9fb8778602f7633",
       "value": 19
      }
     },
     "392beaedddc14c289de57fe00243a859": {
      "model_module": "@jupyter-widgets/controls",
      "model_module_version": "2.0.0",
      "model_name": "ButtonStyleModel",
      "state": {
       "font_family": null,
       "font_size": null,
       "font_style": null,
       "font_variant": null,
       "font_weight": null,
       "text_color": null,
       "text_decoration": null
      }
     },
     "3b62c87418c64ac1a55c9e4096bf770d": {
      "model_module": "@jupyter-widgets/controls",
      "model_module_version": "2.0.0",
      "model_name": "HTMLStyleModel",
      "state": {
       "description_width": "",
       "font_size": null,
       "text_color": null
      }
     },
     "3f176c900f5b4525a4ad134d82613b60": {
      "model_module": "@jupyter-widgets/controls",
      "model_module_version": "2.0.0",
      "model_name": "VBoxModel",
      "state": {
       "children": [
        "IPY_MODEL_6e17ff4e344e458b8161809855d4dc72",
        "IPY_MODEL_81e02e3c7fcc42779329d522238f2795",
        "IPY_MODEL_171a8d9833df43d69b1a8aa8f5c705b4",
        "IPY_MODEL_7edf6877038a4353b88ee2839286f3f1",
        "IPY_MODEL_f2fadd4a5793477ca8b7f7ad69f59168",
        "IPY_MODEL_12733ff9a8944de89a826254b570a495",
        "IPY_MODEL_6ae7f9bcb5a043c5ac9d426be97db242",
        "IPY_MODEL_9920a40dff98448998ba61a6929cbd53"
       ],
       "layout": "IPY_MODEL_f594bfd9e3dd4a9f8b2171c13b33dfa5"
      }
     },
     "3fdb7a5cc7c34c568bcc18b41fed066c": {
      "model_module": "@jupyter-widgets/base",
      "model_module_version": "2.0.0",
      "model_name": "LayoutModel",
      "state": {}
     },
     "433fc884da35429da1b6c97a0ad389fe": {
      "model_module": "@jupyter-widgets/controls",
      "model_module_version": "2.0.0",
      "model_name": "DescriptionStyleModel",
      "state": {
       "description_width": "200px"
      }
     },
     "4907d839a16f4e30b0d2308da08b798f": {
      "model_module": "@jupyter-widgets/controls",
      "model_module_version": "2.0.0",
      "model_name": "DescriptionStyleModel",
      "state": {
       "description_width": "200px"
      }
     },
     "4d3e5b5a37f54f3dac2ceb759bf387ea": {
      "model_module": "@jupyter-widgets/base",
      "model_module_version": "2.0.0",
      "model_name": "LayoutModel",
      "state": {}
     },
     "4f949d98f56a4671871c039fad53902b": {
      "model_module": "@jupyter-widgets/controls",
      "model_module_version": "2.0.0",
      "model_name": "DescriptionStyleModel",
      "state": {
       "description_width": "200px"
      }
     },
     "519b6fa7f52447d4a61c254d4f979ffc": {
      "model_module": "@jupyter-widgets/controls",
      "model_module_version": "2.0.0",
      "model_name": "ButtonStyleModel",
      "state": {
       "font_family": null,
       "font_size": null,
       "font_style": null,
       "font_variant": null,
       "font_weight": null,
       "text_color": null,
       "text_decoration": null
      }
     },
     "53b7ffd33b4c4d0d97b91383675b49ed": {
      "model_module": "@jupyter-widgets/controls",
      "model_module_version": "2.0.0",
      "model_name": "IntSliderModel",
      "state": {
       "behavior": "drag-tap",
       "description": "PL Trials:",
       "layout": "IPY_MODEL_ef37f00ada3a4a409ef969465c61208d",
       "max": 5,
       "min": 1,
       "style": "IPY_MODEL_67ecaf06ba954441b66aa727937e952d",
       "value": 3
      }
     },
     "59533d8bedb84809923e1fad8a63968d": {
      "model_module": "@jupyter-widgets/controls",
      "model_module_version": "2.0.0",
      "model_name": "IntTextModel",
      "state": {
       "description": "Trial 2 – Blows",
       "layout": "IPY_MODEL_ef37f00ada3a4a409ef969465c61208d",
       "step": 1,
       "style": "IPY_MODEL_ab076dfe2fbd4faab2fd7a0db5bd0fe7",
       "value": 20
      }
     },
     "5c0d7c5b870147128faa742c554411a6": {
      "model_module": "@jupyter-widgets/controls",
      "model_module_version": "2.0.0",
      "model_name": "HTMLStyleModel",
      "state": {
       "description_width": "",
       "font_size": null,
       "text_color": null
      }
     },
     "5f8403dc665d4e22a9fb8778602f7633": {
      "model_module": "@jupyter-widgets/controls",
      "model_module_version": "2.0.0",
      "model_name": "DescriptionStyleModel",
      "state": {
       "description_width": "200px"
      }
     },
     "6430cfeb93784e6b84b3832f78e4b2d8": {
      "model_module": "@jupyter-widgets/base",
      "model_module_version": "2.0.0",
      "model_name": "LayoutModel",
      "state": {}
     },
     "66b2914454234d4c98994dfc6648cb34": {
      "model_module": "@jupyter-widgets/controls",
      "model_module_version": "2.0.0",
      "model_name": "SliderStyleModel",
      "state": {
       "description_width": "200px"
      }
     },
     "671319c50b4940b49b0aee9a3b397794": {
      "model_module": "@jupyter-widgets/controls",
      "model_module_version": "2.0.0",
      "model_name": "DescriptionStyleModel",
      "state": {
       "description_width": "200px"
      }
     },
     "67da59cb380c4bb882a54fedaf3320ed": {
      "model_module": "@jupyter-widgets/controls",
      "model_module_version": "2.0.0",
      "model_name": "DescriptionStyleModel",
      "state": {
       "description_width": "200px"
      }
     },
     "67ecaf06ba954441b66aa727937e952d": {
      "model_module": "@jupyter-widgets/controls",
      "model_module_version": "2.0.0",
      "model_name": "SliderStyleModel",
      "state": {
       "description_width": "200px"
      }
     },
     "6865f6b2c56f4cbaa03e39ff132edd3f": {
      "model_module": "@jupyter-widgets/base",
      "model_module_version": "2.0.0",
      "model_name": "LayoutModel",
      "state": {}
     },
     "69c4308a23854c2ea579ecdb47bbc982": {
      "model_module": "@jupyter-widgets/controls",
      "model_module_version": "2.0.0",
      "model_name": "DescriptionStyleModel",
      "state": {
       "description_width": "200px"
      }
     },
     "6ae7f9bcb5a043c5ac9d426be97db242": {
      "model_module": "@jupyter-widgets/controls",
      "model_module_version": "2.0.0",
      "model_name": "FloatTextModel",
      "state": {
       "description": "Trial 4 – Moisture (%)",
       "layout": "IPY_MODEL_ee01c6f5e21f427493ceb741435e1799",
       "step": null,
       "style": "IPY_MODEL_4f949d98f56a4671871c039fad53902b",
       "value": 34
      }
     },
     "6d04b81cbe58423295571c1087937b39": {
      "model_module": "@jupyter-widgets/controls",
      "model_module_version": "2.0.0",
      "model_name": "DescriptionStyleModel",
      "state": {
       "description_width": "200px"
      }
     },
     "6d6c1707df6343e892e2410580b83de2": {
      "model_module": "@jupyter-widgets/controls",
      "model_module_version": "2.0.0",
      "model_name": "IntSliderModel",
      "state": {
       "behavior": "drag-tap",
       "description": "LL Trials:",
       "layout": "IPY_MODEL_ef37f00ada3a4a409ef969465c61208d",
       "max": 6,
       "min": 2,
       "style": "IPY_MODEL_10ed6807a83c45f3b1dbd2bff49624d5",
       "value": 4
      }
     },
     "6e17ff4e344e458b8161809855d4dc72": {
      "model_module": "@jupyter-widgets/controls",
      "model_module_version": "2.0.0",
      "model_name": "FloatTextModel",
      "state": {
       "description": "Trial 1 – Moisture (%)",
       "layout": "IPY_MODEL_ee01c6f5e21f427493ceb741435e1799",
       "step": null,
       "style": "IPY_MODEL_7821b488a8554ec29d2748b31934bc94",
       "value": 28
      }
     },
     "716e64dfa2e84d9cb39d210565e4498d": {
      "model_module": "@jupyter-widgets/controls",
      "model_module_version": "2.0.0",
      "model_name": "IntSliderModel",
      "state": {
       "behavior": "drag-tap",
       "description": "LL Trials:",
       "layout": "IPY_MODEL_ee01c6f5e21f427493ceb741435e1799",
       "max": 6,
       "min": 2,
       "style": "IPY_MODEL_66b2914454234d4c98994dfc6648cb34",
       "value": 4
      }
     },
     "7821b488a8554ec29d2748b31934bc94": {
      "model_module": "@jupyter-widgets/controls",
      "model_module_version": "2.0.0",
      "model_name": "DescriptionStyleModel",
      "state": {
       "description_width": "200px"
      }
     },
     "78df661ef7e94f78966dd221d724c013": {
      "model_module": "@jupyter-widgets/controls",
      "model_module_version": "2.0.0",
      "model_name": "DescriptionStyleModel",
      "state": {
       "description_width": "200px"
      }
     },
     "7dd9348357724cda93a34f95dc3fffca": {
      "model_module": "@jupyter-widgets/controls",
      "model_module_version": "2.0.0",
      "model_name": "VBoxModel",
      "state": {
       "children": [
        "IPY_MODEL_85b78ca6b44c4fa8adae0ed6a55d6ddc",
        "IPY_MODEL_c9c4411c17ee45f8822a6cd8cc63bdab",
        "IPY_MODEL_ed2b9e7186dc41418e69e5356137df3f"
       ],
       "layout": "IPY_MODEL_6865f6b2c56f4cbaa03e39ff132edd3f"
      }
     },
     "7edf6877038a4353b88ee2839286f3f1": {
      "model_module": "@jupyter-widgets/controls",
      "model_module_version": "2.0.0",
      "model_name": "IntTextModel",
      "state": {
       "description": "Trial 2 – Blows",
       "layout": "IPY_MODEL_ee01c6f5e21f427493ceb741435e1799",
       "step": 1,
       "style": "IPY_MODEL_996d010b00c141168ddb8aa1e18fbfc3",
       "value": 20
      }
     },
     "80cf749406124946a01f66d2e8ccdb34": {
      "model_module": "@jupyter-widgets/controls",
      "model_module_version": "2.0.0",
      "model_name": "IntTextModel",
      "state": {
       "description": "Trial 3 – Blows",
       "layout": "IPY_MODEL_ef37f00ada3a4a409ef969465c61208d",
       "step": 1,
       "style": "IPY_MODEL_4907d839a16f4e30b0d2308da08b798f",
       "value": 25
      }
     },
     "81e02e3c7fcc42779329d522238f2795": {
      "model_module": "@jupyter-widgets/controls",
      "model_module_version": "2.0.0",
      "model_name": "IntTextModel",
      "state": {
       "description": "Trial 1 – Blows",
       "layout": "IPY_MODEL_ee01c6f5e21f427493ceb741435e1799",
       "step": 1,
       "style": "IPY_MODEL_d716c85c31c94644b50d1a68eed4128d",
       "value": 15
      }
     },
     "85961546f6514653a61f831a9aecfc90": {
      "model_module": "@jupyter-widgets/controls",
      "model_module_version": "2.0.0",
      "model_name": "IntTextModel",
      "state": {
       "description": "Trial 1 – Blows",
       "layout": "IPY_MODEL_ef37f00ada3a4a409ef969465c61208d",
       "step": 1,
       "style": "IPY_MODEL_d1934e1188274d1b9860c84697709b1f",
       "value": 15
      }
     },
     "85b78ca6b44c4fa8adae0ed6a55d6ddc": {
      "model_module": "@jupyter-widgets/controls",
      "model_module_version": "2.0.0",
      "model_name": "FloatTextModel",
      "state": {
       "description": "PL Moisture (%) T1",
       "layout": "IPY_MODEL_ef37f00ada3a4a409ef969465c61208d",
       "step": null,
       "style": "IPY_MODEL_67da59cb380c4bb882a54fedaf3320ed",
       "value": 19
      }
     },
     "89e4a3a306d949c1ace78d6628535725": {
      "model_module": "@jupyter-widgets/controls",
      "model_module_version": "2.0.0",
      "model_name": "HTMLModel",
      "state": {
       "layout": "IPY_MODEL_4d3e5b5a37f54f3dac2ceb759bf387ea",
       "style": "IPY_MODEL_ccc54852d7d34fc380e07d33ad23b25d",
       "value": "<h3>💧 Liquid Limit Inputs (Casagrande)</h3>"
      }
     },
     "91dc73145ba04d5e82b2c9714a6e754c": {
      "model_module": "@jupyter-widgets/controls",
      "model_module_version": "2.0.0",
      "model_name": "HTMLStyleModel",
      "state": {
       "description_width": "",
       "font_size": null,
       "text_color": null
      }
     },
     "92a5c6f646344204a3b8c9912bdb45b8": {
      "model_module": "@jupyter-widgets/controls",
      "model_module_version": "2.0.0",
      "model_name": "FloatTextModel",
      "state": {
       "description": "PL Moisture (%) T3",
       "layout": "IPY_MODEL_ee01c6f5e21f427493ceb741435e1799",
       "step": null,
       "style": "IPY_MODEL_69c4308a23854c2ea579ecdb47bbc982",
       "value": 21
      }
     },
     "9920a40dff98448998ba61a6929cbd53": {
      "model_module": "@jupyter-widgets/controls",
      "model_module_version": "2.0.0",
      "model_name": "IntTextModel",
      "state": {
       "description": "Trial 4 – Blows",
       "layout": "IPY_MODEL_ee01c6f5e21f427493ceb741435e1799",
       "step": 1,
       "style": "IPY_MODEL_433fc884da35429da1b6c97a0ad389fe",
       "value": 30
      }
     },
     "996d010b00c141168ddb8aa1e18fbfc3": {
      "model_module": "@jupyter-widgets/controls",
      "model_module_version": "2.0.0",
      "model_name": "DescriptionStyleModel",
      "state": {
       "description_width": "200px"
      }
     },
     "9de7b6bddbc540c59af0a9eb202492de": {
      "model_module": "@jupyter-widgets/base",
      "model_module_version": "2.0.0",
      "model_name": "LayoutModel",
      "state": {}
     },
     "9e7b7dcfa1af41bfb8b30d296dba3e2d": {
      "model_module": "@jupyter-widgets/controls",
      "model_module_version": "2.0.0",
      "model_name": "HTMLModel",
      "state": {
       "layout": "IPY_MODEL_3fdb7a5cc7c34c568bcc18b41fed066c",
       "style": "IPY_MODEL_5c0d7c5b870147128faa742c554411a6",
       "value": "<h3>💧 Liquid Limit Inputs (Casagrande)</h3>"
      }
     },
     "a4b5a4bc6caf43209bd926f18e7ceafd": {
      "model_module": "@jupyter-widgets/controls",
      "model_module_version": "2.0.0",
      "model_name": "DescriptionStyleModel",
      "state": {
       "description_width": "200px"
      }
     },
     "a56d63277c71429fb6d1eb8ecc0c1f50": {
      "model_module": "@jupyter-widgets/controls",
      "model_module_version": "2.0.0",
      "model_name": "ButtonModel",
      "state": {
       "description": "Compute LL, PL & PI",
       "layout": "IPY_MODEL_c9d3379a754a456093da76915065f27f",
       "style": "IPY_MODEL_392beaedddc14c289de57fe00243a859",
       "tooltip": null
      }
     },
     "a8aee0ed139f4de083daa99164b0ee17": {
      "model_module": "@jupyter-widgets/controls",
      "model_module_version": "2.0.0",
      "model_name": "DescriptionStyleModel",
      "state": {
       "description_width": "200px"
      }
     },
     "ab076dfe2fbd4faab2fd7a0db5bd0fe7": {
      "model_module": "@jupyter-widgets/controls",
      "model_module_version": "2.0.0",
      "model_name": "DescriptionStyleModel",
      "state": {
       "description_width": "200px"
      }
     },
     "ad05abcf46984d29a4c797f34a3e8ef4": {
      "model_module": "@jupyter-widgets/controls",
      "model_module_version": "2.0.0",
      "model_name": "DescriptionStyleModel",
      "state": {
       "description_width": "200px"
      }
     },
     "adfe5d57cc604a52a4395a4d1d282f6b": {
      "model_module": "@jupyter-widgets/controls",
      "model_module_version": "2.0.0",
      "model_name": "VBoxModel",
      "state": {
       "children": [
        "IPY_MODEL_d283baa16e534adea76d0f733b2b9200",
        "IPY_MODEL_85961546f6514653a61f831a9aecfc90",
        "IPY_MODEL_d6e72a8f39b54250bcbd1b09aa22e58a",
        "IPY_MODEL_59533d8bedb84809923e1fad8a63968d",
        "IPY_MODEL_0e0fae68626b41a98cf3394e037f4039",
        "IPY_MODEL_80cf749406124946a01f66d2e8ccdb34",
        "IPY_MODEL_1807a81182764ede8a96dbfd6481832e",
        "IPY_MODEL_c1587cac890f46308efabf4888a1593c"
       ],
       "layout": "IPY_MODEL_afb6bdb45a7f42eea48b09479018c904"
      }
     },
     "afb6bdb45a7f42eea48b09479018c904": {
      "model_module": "@jupyter-widgets/base",
      "model_module_version": "2.0.0",
      "model_name": "LayoutModel",
      "state": {}
     },
     "b71c2aeae6784287b0a3e29b969f9eda": {
      "model_module": "@jupyter-widgets/controls",
      "model_module_version": "2.0.0",
      "model_name": "DescriptionStyleModel",
      "state": {
       "description_width": "200px"
      }
     },
     "c1587cac890f46308efabf4888a1593c": {
      "model_module": "@jupyter-widgets/controls",
      "model_module_version": "2.0.0",
      "model_name": "IntTextModel",
      "state": {
       "description": "Trial 4 – Blows",
       "layout": "IPY_MODEL_ef37f00ada3a4a409ef969465c61208d",
       "step": 1,
       "style": "IPY_MODEL_a4b5a4bc6caf43209bd926f18e7ceafd",
       "value": 30
      }
     },
     "c50715695d0145caad68f1331bd88aeb": {
      "model_module": "@jupyter-widgets/controls",
      "model_module_version": "2.0.0",
      "model_name": "DescriptionStyleModel",
      "state": {
       "description_width": "200px"
      }
     },
     "c9c4411c17ee45f8822a6cd8cc63bdab": {
      "model_module": "@jupyter-widgets/controls",
      "model_module_version": "2.0.0",
      "model_name": "FloatTextModel",
      "state": {
       "description": "PL Moisture (%) T2",
       "layout": "IPY_MODEL_ef37f00ada3a4a409ef969465c61208d",
       "step": null,
       "style": "IPY_MODEL_e946977389c74781b27e93ddae8da779",
       "value": 20
      }
     },
     "c9d3379a754a456093da76915065f27f": {
      "model_module": "@jupyter-widgets/base",
      "model_module_version": "2.0.0",
      "model_name": "LayoutModel",
      "state": {
       "width": "300px"
      }
     },
     "ccc54852d7d34fc380e07d33ad23b25d": {
      "model_module": "@jupyter-widgets/controls",
      "model_module_version": "2.0.0",
      "model_name": "HTMLStyleModel",
      "state": {
       "description_width": "",
       "font_size": null,
       "text_color": null
      }
     },
     "cf44dfe86477461a9f77e9ef1a67bff9": {
      "model_module": "@jupyter-widgets/controls",
      "model_module_version": "2.0.0",
      "model_name": "DescriptionStyleModel",
      "state": {
       "description_width": "200px"
      }
     },
     "d1934e1188274d1b9860c84697709b1f": {
      "model_module": "@jupyter-widgets/controls",
      "model_module_version": "2.0.0",
      "model_name": "DescriptionStyleModel",
      "state": {
       "description_width": "200px"
      }
     },
     "d283baa16e534adea76d0f733b2b9200": {
      "model_module": "@jupyter-widgets/controls",
      "model_module_version": "2.0.0",
      "model_name": "FloatTextModel",
      "state": {
       "description": "Trial 1 – Moisture (%)",
       "layout": "IPY_MODEL_ef37f00ada3a4a409ef969465c61208d",
       "step": null,
       "style": "IPY_MODEL_b71c2aeae6784287b0a3e29b969f9eda",
       "value": 28
      }
     },
     "d6e72a8f39b54250bcbd1b09aa22e58a": {
      "model_module": "@jupyter-widgets/controls",
      "model_module_version": "2.0.0",
      "model_name": "FloatTextModel",
      "state": {
       "description": "Trial 2 – Moisture (%)",
       "layout": "IPY_MODEL_ef37f00ada3a4a409ef969465c61208d",
       "step": null,
       "style": "IPY_MODEL_6d04b81cbe58423295571c1087937b39",
       "value": 30
      }
     },
     "d716c85c31c94644b50d1a68eed4128d": {
      "model_module": "@jupyter-widgets/controls",
      "model_module_version": "2.0.0",
      "model_name": "DescriptionStyleModel",
      "state": {
       "description_width": "200px"
      }
     },
     "ddcfc628dd134f3cbca46892d213b2f3": {
      "model_module": "@jupyter-widgets/base",
      "model_module_version": "2.0.0",
      "model_name": "LayoutModel",
      "state": {
       "width": "300px"
      }
     },
     "e0aeb84059a14037afed719d122e21fa": {
      "model_module": "@jupyter-widgets/controls",
      "model_module_version": "2.0.0",
      "model_name": "SliderStyleModel",
      "state": {
       "description_width": "200px"
      }
     },
     "e6e929039458467b90340eeec8bbe2e8": {
      "model_module": "@jupyter-widgets/controls",
      "model_module_version": "2.0.0",
      "model_name": "VBoxModel",
      "state": {
       "children": [
        "IPY_MODEL_89e4a3a306d949c1ace78d6628535725",
        "IPY_MODEL_716e64dfa2e84d9cb39d210565e4498d",
        "IPY_MODEL_3f176c900f5b4525a4ad134d82613b60",
        "IPY_MODEL_28b9124bf64a448cbc57f4b57fde6b79",
        "IPY_MODEL_329943bcaf83403bb11fc2fbe25e40f3",
        "IPY_MODEL_f8eea090e3434b789958f83ce9eeaae9",
        "IPY_MODEL_a56d63277c71429fb6d1eb8ecc0c1f50"
       ],
       "layout": "IPY_MODEL_9de7b6bddbc540c59af0a9eb202492de"
      }
     },
     "e8dc029d68814b89bb75dec01613addc": {
      "model_module": "@jupyter-widgets/base",
      "model_module_version": "2.0.0",
      "model_name": "LayoutModel",
      "state": {}
     },
     "e946977389c74781b27e93ddae8da779": {
      "model_module": "@jupyter-widgets/controls",
      "model_module_version": "2.0.0",
      "model_name": "DescriptionStyleModel",
      "state": {
       "description_width": "200px"
      }
     },
     "eac059ac439f49cf9465a437e8b01f02": {
      "model_module": "@jupyter-widgets/base",
      "model_module_version": "2.0.0",
      "model_name": "LayoutModel",
      "state": {}
     },
     "ed2b9e7186dc41418e69e5356137df3f": {
      "model_module": "@jupyter-widgets/controls",
      "model_module_version": "2.0.0",
      "model_name": "FloatTextModel",
      "state": {
       "description": "PL Moisture (%) T3",
       "layout": "IPY_MODEL_ef37f00ada3a4a409ef969465c61208d",
       "step": null,
       "style": "IPY_MODEL_c50715695d0145caad68f1331bd88aeb",
       "value": 21
      }
     },
     "ee01c6f5e21f427493ceb741435e1799": {
      "model_module": "@jupyter-widgets/base",
      "model_module_version": "2.0.0",
      "model_name": "LayoutModel",
      "state": {
       "width": "400px"
      }
     },
     "ef37f00ada3a4a409ef969465c61208d": {
      "model_module": "@jupyter-widgets/base",
      "model_module_version": "2.0.0",
      "model_name": "LayoutModel",
      "state": {
       "width": "400px"
      }
     },
     "f2fadd4a5793477ca8b7f7ad69f59168": {
      "model_module": "@jupyter-widgets/controls",
      "model_module_version": "2.0.0",
      "model_name": "FloatTextModel",
      "state": {
       "description": "Trial 3 – Moisture (%)",
       "layout": "IPY_MODEL_ee01c6f5e21f427493ceb741435e1799",
       "step": null,
       "style": "IPY_MODEL_a8aee0ed139f4de083daa99164b0ee17",
       "value": 32
      }
     },
     "f3ab5e2b9dfb46e8be0d78a18b775639": {
      "model_module": "@jupyter-widgets/controls",
      "model_module_version": "2.0.0",
      "model_name": "FloatTextModel",
      "state": {
       "description": "PL Moisture (%) T2",
       "layout": "IPY_MODEL_ee01c6f5e21f427493ceb741435e1799",
       "step": null,
       "style": "IPY_MODEL_15c65fdbaf8f45239e30a3fada23b259",
       "value": 20
      }
     },
     "f594bfd9e3dd4a9f8b2171c13b33dfa5": {
      "model_module": "@jupyter-widgets/base",
      "model_module_version": "2.0.0",
      "model_name": "LayoutModel",
      "state": {}
     },
     "f8eea090e3434b789958f83ce9eeaae9": {
      "model_module": "@jupyter-widgets/controls",
      "model_module_version": "2.0.0",
      "model_name": "VBoxModel",
      "state": {
       "children": [
        "IPY_MODEL_32ae713fdb5b406db3c2e3139d01d8ce",
        "IPY_MODEL_f3ab5e2b9dfb46e8be0d78a18b775639",
        "IPY_MODEL_92a5c6f646344204a3b8c9912bdb45b8"
       ],
       "layout": "IPY_MODEL_15f635bd4f1548efbbefa964d1aab9be"
      }
     }
    },
    "version_major": 2,
    "version_minor": 0
   }
  }
 },
 "nbformat": 4,
 "nbformat_minor": 5
}
