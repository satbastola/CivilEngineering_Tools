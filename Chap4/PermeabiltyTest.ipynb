{
 "cells": [
  {
   "cell_type": "markdown",
   "id": "8c3f0586-3aa1-429c-9a8b-d2cae0e40c11",
   "metadata": {},
   "source": [
    "# Chapter 6 Geotech Engineering Laboratory: Soil Permeability"
   ]
  },
  {
   "cell_type": "markdown",
   "id": "686fcf1d-ca86-4ec7-a067-e2a528becd83",
   "metadata": {},
   "source": [
    "1. [Introduction: Soil Density Lab](#1.-Introduction)\n",
    "2. [Simulation: Procter density Test](#2.-Simulation)\n",
    "3. [Self-Assessment](#3.-Self-Assessment)"
   ]
  },
  {
   "cell_type": "markdown",
   "id": "ffc680fb-7e48-4cf0-879e-dbe4b8185f43",
   "metadata": {},
   "source": [
    "## 1. Introduciton"
   ]
  },
  {
   "cell_type": "markdown",
   "id": "d7a4ab26-8ba5-4dad-b019-ec6b3d18ccf8",
   "metadata": {},
   "source": [
    "### 🌱 Soil Permeability – Definition, Importance & Applications in Geotechnical Engineering\n",
    "\n",
    "**Soil permeability** is the ability of soil to allow fluids (typically water) to pass through its pores. It is quantified as **hydraulic conductivity (K)**, usually expressed in meters per second (m/s). Permeability depends on particle size, gradation, pore continuity, compaction, and water viscosity.\n",
    "\n",
    "---\n",
    "\n",
    "### 🔍 Importance for Geotechnical Parameters\n",
    "\n",
    "| Parameter                   | Role of Permeability                                |\n",
    "|----------------------------|------------------------------------------------------|\n",
    "| **Hydraulic Conductivity (K)** | Core index for water flow through soil             |\n",
    "| **Seepage Analysis**        | Predicts water migration in slopes, dams, foundations |\n",
    "| **Settlement Prediction**   | Influences consolidation rates in saturated clays    |\n",
    "| **Piping & Erosion**        | High permeability can trigger internal erosion       |\n",
    "| **Bearing Capacity**        | Excess pore pressure dissipation depends on K        |\n",
    "| **Compaction Control**      | Impacts drying behavior and strength development     |\n",
    "\n",
    "---\n",
    "\n",
    "### 🏗️ Applications in Geotechnical Engineering\n",
    "\n",
    "| Application                 | How Permeability Is Used                              |\n",
    "|-----------------------------|--------------------------------------------------------|\n",
    "| **Earth Dams & Embankments**| Controls seepage paths and filter design               |\n",
    "| **Retaining Structures**    | Affects hydrostatic pressure and drainage planning     |\n",
    "| **Slope Stability**         | Low K may cause perched water, triggering failure      |\n",
    "| **Foundation Design**       | Guides dewatering and settlement estimation            |\n",
    "| **Soil Stabilization**      | Determines chemical injection feasibility              |\n",
    "| **Landfills & Liners**      | Impermeable layers designed for containment            |\n",
    "\n",
    "---\n",
    "\n",
    "### 🧪 Measurement Methods\n",
    "\n",
    "| Lab Test            | Description                                  |\n",
    "|---------------------|----------------------------------------------|\n",
    "| **Constant Head Test** | Measures flow under steady-state conditions (sandy soils) |\n",
    "| **Falling Head Test**  | Suitable for low-permeability soils (silts, clays)        |\n",
    "| **Field Permeability** | Includes borehole tests, double-ring infiltrometers       |\n",
    "\n",
    "---\n",
    "\n",
    "### 🧪 Permeability Testing in Soil Mechanics\n",
    "\n",
    "Permeability quantifies how easily water flows through soil pores. It’s typically expressed as **hydraulic conductivity (K)** in m/s. The choice of test method depends on the expected flow rate and soil type.\n",
    "\n",
    "---\n",
    "\n",
    "### 📉 Falling Head Method (Best for Clay and Silts)\n",
    "\n",
    "### 🔍 Why Use for Fine-Grained Soils:\n",
    "- Low permeability makes steady-state flow impractical\n",
    "- Transient flow enables sensitive head decay measurement\n",
    "\n",
    "### 🛠️ Test Principle:\n",
    "- A standpipe is filled to initial head $( h_1 $)\n",
    "- Water infiltrates through specimen over time $( t $)\n",
    "- Final head $( h_2 $) is recorded\n",
    "- Compute K using:\n",
    "\n",
    "  $$\n",
    "  K = \\frac{aL}{At} \\ln\\left(\\frac{h_1}{h_2}\\right)\n",
    "  $$\n",
    "\n",
    "### 📎 Parameters:\n",
    "| Symbol | Meaning                          |\n",
    "|--------|----------------------------------|\n",
    "| $( a $)     | Cross-section of standpipe         |\n",
    "| $( A $)     | Cross-section of soil specimen     |\n",
    "| $( L $)     | Length of specimen                 |\n",
    "| $( h_1, h_2 $) | Initial and final head levels    |\n",
    "| $( t $)     | Time elapsed during fall            |\n",
    "\n",
    "---\n",
    "\n",
    "### 💧 Constant Head Method (Best for Sandy Soils)\n",
    "\n",
    "### 🔍 Why Use for Coarse-Grained Soils:\n",
    "- High flow rates permit steady measurement\n",
    "- Flow stabilizes quickly under constant head\n",
    "\n",
    "### 🛠️ Test Principle:\n",
    "- Constant head \\( h \\) is applied to specimen\n",
    "- Measure volume \\( V \\) collected over time \\( t \\)\n",
    "- Compute flow rate \\( q = V/t \\)\n",
    "- Compute K using:\n",
    "\n",
    "  $$\n",
    "  K = \\frac{qL}{Ah}\n",
    "  $$\n",
    "\n",
    "### 📎 Parameters:\n",
    "| Symbol | Meaning                              |\n",
    "|--------|--------------------------------------|\n",
    "| $( q $)     | Discharge rate                       |\n",
    "| $( A $)     | Cross-section of soil specimen       |\n",
    "| $( L $)     | Length of specimen                   |\n",
    "| $( h $)     | Head difference across specimen      |\n",
    "\n",
    "---\n",
    "\n",
    "### 🌡️ Temperature Correction – Influence of Viscosity\n",
    "\n",
    "Water viscosity affects how easily it moves through pores. Since viscosity decreases with temperature:\n",
    "\n",
    "### 🔍 Correction Formula:\n",
    "To adjust measured conductivity to **standard temperature (usually 20°C)**:\n",
    "\n",
    "$$\n",
    "K_{20} = K_T \\times \\frac{\\mu_T}{\\mu_{20}}\n",
    "$$\n",
    "\n",
    "| Symbol | Meaning                             |\n",
    "|--------|-------------------------------------|\n",
    "| $( K_T $)   | Measured conductivity at test temp |\n",
    "| $( K_{20} $) | Corrected conductivity at 20°C     |\n",
    "| $( \\mu_T $) | Dynamic viscosity at test temp      |\n",
    "| $( \\mu_{20} $) | Viscosity at standard temp (≈ 1.002 × 10⁻³ Pa·s) |\n",
    "\n",
    "### 🌡️ Temperature Effects:\n",
    "| Temp (°C) | Viscosity \\( \\mu \\) (Pa·s) | Effect on K         |\n",
    "|-----------|----------------------------|---------------------|\n",
    "| 10°C      | ~1.308 × 10⁻³              | Lower K (more resistance) |\n",
    "| 20°C      | ~1.002 × 10⁻³              | Standard reference  |\n",
    "| 30°C      | ~0.797 × 10⁻³              | Higher K (less resistance) |\n",
    "\n",
    "---\n",
    "\n",
    "### ✅ Summary\n",
    "\n",
    "| Test Method     | Suitable Soils     | Typical K Range     |\n",
    "|------------------|--------------------|----------------------|\n",
    "| **Falling Head** | Clays, Silts       | < \\( 10^{-7} \\) m/s  |\n",
    "| **Constant Head**| Sands, Gravels     | \\( 10^{-4} \\)–\\( 10^{-2} \\) m/s |\n",
    "\n",
    "---\n",
    "### 📊 Empirical Equations for Estimating Soil Permeability\n",
    "\n",
    "### 📘 Based on Particle Size Distribution\n",
    "\n",
    "| Equation                        | Expression                                                   | Parameters                          | Soil Type           |\n",
    "|---------------------------------|---------------------------------------------------------------|-------------------------------------|----------------------|\n",
    "| **Kozeny–Carman (simplified)** | $( K = C \\cdot \\frac{D_{10}^2}{e^2} \\cdot \\frac{1}{1+e} $)    | $( D_{10} $): effective grain size  | Sand, silt            |\n",
    "|                                 |                                                               | $( e $): void ratio                  |                      |\n",
    "| **Hazen’s Equation**            | $( K = C \\cdot D_{10}^2 $)                                    | $( D_{10} $): grain size (cm)       | Clean sands           |\n",
    "|                                 |                                                               | $( C $): empirical (~1–1.5)         |                      |\n",
    "| **Chapuis Modification**       | $( K = C \\cdot D_{10}^2 \\cdot \\left( \\frac{n^3}{1-n^2} \\right) $) | $( n $): porosity                  | Sandy to silty soils |\n",
    "\n",
    "---\n",
    "\n",
    "### 🧪 Based on Atterberg Limits\n",
    "\n",
    "| Equation (Empirical)              | Expression                                               | Parameters                         | Soil Type            |\n",
    "|----------------------------------|-----------------------------------------------------------|------------------------------------|-----------------------|\n",
    "| **Seed et al. (1961)**           | $( K = 10^{-7 + 3.3 \\cdot PI/LL} $)                       | PI: Plasticity Index               | Fine-grained soils (clays) |\n",
    "| **Ferguson & Maxwell (1990)**    | $( \\log(K) = A - B \\cdot LL $)                            | LL: Liquid Limit                   | Clayey soils          |\n",
    "|                                  |                                                           | A, B: empirical constants          |                       |\n",
    "| **Morin & Todorovic (1979)**     | $( K = a \\cdot e^b \\cdot LL^{-c} $)                       | e: void ratio                      | Silty clays, loams    |\n",
    "\n",
    "---\n",
    "\n",
    "### 🧭 Notes\n",
    "\n",
    "- Most empirical formulas provide approximate **hydraulic conductivity (K)** in **m/s or cm/s**\n",
    "- Empirical constants vary by region, soil genesis, and calibration dataset\n",
    "- These formulas are best used for **screening**, not as substitutes for lab tests\n"
   ]
  },
  {
   "cell_type": "markdown",
   "id": "7a24d7d8-c050-41e6-9b6b-fd1fed9ca1d6",
   "metadata": {},
   "source": [
    "## 2. Simulation"
   ]
  },
  {
   "cell_type": "markdown",
   "id": "4974f2f4-f182-42ea-b245-c6b470f586c6",
   "metadata": {},
   "source": [
    "### 🧪 Summary: Permeability Test Calculator (Interactive)\n",
    "\n",
    "An interactive Python tool built with `ipywidgets` to compute **hydraulic conductivity (K)** of soil using either the **Constant Head** or **Falling Head** permeability test methods. It mimics ASTM lab procedures for evaluating water flow through soil specimens.\n",
    "\n",
    "---\n",
    "### Test Selection\n",
    "- Users toggle between **Constant Head** (steady flow) or **Falling Head** (declining flow)\n",
    "\n",
    "### Input Parameters\n",
    "| Input Field                 | Description                              |\n",
    "|-----------------------------|------------------------------------------|\n",
    "| Area (m²)                   | Cross-sectional area of soil specimen    |\n",
    "| Length (m)                  | Length of soil column or mold            |\n",
    "| Volume, Time, Head (Const.) | Flow volume, duration, and head applied  |\n",
    "| h₁, h₂, t, a (Falling Head) | Initial & final head, elapsed time, pipe area |\n",
    "\n",
    "### Computations\n",
    "- **Constant Head**:  \n",
    "  $( K = \\frac{qL}{Ah} $), with $( q = V/t $)  \n",
    "- **Falling Head**:  \n",
    "  $( K = \\frac{aL}{At} \\ln\\left(\\frac{h_1}{h_2}\\right) $)\n",
    "\n",
    "### Interpretation\n",
    "Outputs:\n",
    "- **Hydraulic Conductivity (K)** in m/s\n",
    "- Estimated flow regime (clay, silt, sand, gravel) based on K value\n",
    "\n",
    "---\n",
    "### 📊 How to Interpret Results\n",
    "\n",
    "| Output Field            | Meaning                                                     |\n",
    "|-------------------------|--------------------------------------------------------------|\n",
    "| **K Value**             | Rate at which water flows through soil under gravity         |\n",
    "| **Flow Regime Estimate**| Qualitative inference: e.g., clay (low), sand (high)         |\n",
    "| **Error Messages**      | Triggered for invalid head inputs or negative conductivity   |\n",
    "\n",
    "---\n",
    "\n",
    "### 🔍 Typical Hydraulic Conductivity Ranges\n",
    "\n",
    "| Soil Type         | K Value (m/s)           |\n",
    "|--------------------|--------------------------|\n",
    "| Tight Clay         | < 1 × 10⁻⁷              |\n",
    "| Silty or Loamy Soil| 1 × 10⁻⁷ to 1 × 10⁻⁵     |\n",
    "| Sand/Gravel        | > 1 × 10⁻³              |\n",
    "\n",
    "---\n",
    "\n",
    "✅ Use this tool for classroom demonstrations, lab simulation, or quick validation of flow behavior in compacted or natural soils."
   ]
  },
  {
   "cell_type": "code",
   "execution_count": 2,
   "id": "88b9edc3-2213-41c8-8ed1-e45e307d4674",
   "metadata": {},
   "outputs": [
    {
     "data": {
      "application/vnd.jupyter.widget-view+json": {
       "model_id": "8223f680328b478bbff9ea57fa82546e",
       "version_major": 2,
       "version_minor": 0
      },
      "text/plain": [
       "VBox(children=(ToggleButtons(description='Select Test Type:', options=('Constant Head', 'Falling Head'), style…"
      ]
     },
     "metadata": {},
     "output_type": "display_data"
    }
   ],
   "source": [
    "import ipywidgets as widgets\n",
    "from IPython.display import display, Markdown\n",
    "import numpy as np\n",
    "\n",
    "# 🎛️ Style\n",
    "style = {'description_width': '220px'}\n",
    "layout = widgets.Layout(width='420px')\n",
    "\n",
    "# 🧭 Test selection\n",
    "test_type = widgets.ToggleButtons(\n",
    "    options=['Constant Head', 'Falling Head'],\n",
    "    description='Select Test Type:',\n",
    "    style=style\n",
    ")\n",
    "\n",
    "# 📋 Common inputs\n",
    "area_input = widgets.FloatText(value=0.00075, description='Cross-sectional Area (m²):', style=style, layout=layout)\n",
    "length_input = widgets.FloatText(value=0.15, description='Length of Specimen (m):', style=style, layout=layout)\n",
    "\n",
    "# 💧 Constant Head Inputs\n",
    "volume_input = widgets.FloatText(value=0.003, description='Collected Volume (m³):', style=style, layout=layout)\n",
    "time_input = widgets.FloatText(value=120, description='Collection Time (s):', style=style, layout=layout)\n",
    "head_input = widgets.FloatText(value=0.25, description='Head Difference h (m):', style=style, layout=layout)\n",
    "\n",
    "# 📉 Falling Head Inputs\n",
    "initial_head = widgets.FloatText(value=0.30, description='Initial Head h₁ (m):', style=style, layout=layout)\n",
    "final_head = widgets.FloatText(value=0.10, description='Final Head h₂ (m):', style=style, layout=layout)\n",
    "fall_time = widgets.FloatText(value=240, description='Elapsed Time (s):', style=style, layout=layout)\n",
    "standpipe_area = widgets.FloatText(value=0.0002, description='Standpipe Area (m²):', style=style, layout=layout)\n",
    "\n",
    "run_btn = widgets.Button(description='Compute Permeability', layout=widgets.Layout(width='220px'))\n",
    "\n",
    "# 🔎 Permeability functions\n",
    "def compute_constant_head(A, L, V, t, h):\n",
    "    q = V / t\n",
    "    K = (q * L) / (A * h)\n",
    "    return round(K, 6)\n",
    "\n",
    "def compute_falling_head(A, a, L, h1, h2, t):\n",
    "    if h1 <= h2 or h1 <= 0 or h2 <= 0:\n",
    "        return None\n",
    "    ln_ratio = np.log(h1 / h2)\n",
    "    K = (a * L / (A * t)) * ln_ratio\n",
    "    return round(K, 6)\n",
    "\n",
    "# 📄 Output handler\n",
    "def on_click(b):\n",
    "    A = area_input.value\n",
    "    L = length_input.value\n",
    "\n",
    "    if test_type.value == 'Constant Head':\n",
    "        V = volume_input.value\n",
    "        t = time_input.value\n",
    "        h = head_input.value\n",
    "        K = compute_constant_head(A, L, V, t, h)\n",
    "        method = \"Constant Head\"\n",
    "    else:\n",
    "        a = standpipe_area.value\n",
    "        h1 = initial_head.value\n",
    "        h2 = final_head.value\n",
    "        t = fall_time.value\n",
    "        K = compute_falling_head(A, a, L, h1, h2, t)\n",
    "        method = \"Falling Head\"\n",
    "\n",
    "    if K is None or K <= 0:\n",
    "        display(Markdown(f\"### ❌ Invalid inputs or calculation error. Please verify head levels and time.\"))\n",
    "        return\n",
    "\n",
    "    regime = (\n",
    "        \"🪨 Tight clay or compact silt\" if K < 1e-7 else\n",
    "        \"🌾 Silty or loamy soil\" if K < 1e-5 else\n",
    "        \"🌊 Coarse sand or gravel\"\n",
    "    )\n",
    "\n",
    "    md = f\"\"\"\n",
    "### 🧪 Permeability Test Result\n",
    "\n",
    "- **Method**: {method}  \n",
    "- **Hydraulic Conductivity (K)**: {K:.6f} m/s  \n",
    "- **Flow Regime Estimate**: {regime}\n",
    "\n",
    "---\n",
    "\n",
    "### 📐 Interpretation\n",
    "- Typical **K < 1e-7 m/s** → Low permeability (fine soils)  \n",
    "- Typical **K ~ 1e-5 to 1e-3 m/s** → Medium to high permeability  \n",
    "- Values > 1e-2 m/s → Highly permeable media (gravel, fractured rock)\n",
    "\"\"\"\n",
    "    display(Markdown(md))\n",
    "\n",
    "run_btn.on_click(on_click)\n",
    "\n",
    "# 🧩 Dynamic Layout\n",
    "def update_ui():\n",
    "    if test_type.value == 'Constant Head':\n",
    "        inputs = [area_input, length_input, volume_input, time_input, head_input]\n",
    "    else:\n",
    "        inputs = [area_input, length_input, standpipe_area, initial_head, final_head, fall_time]\n",
    "    display(widgets.VBox([test_type] + inputs + [run_btn]))\n",
    "\n",
    "test_type.observe(lambda change: update_ui(), names='value')\n",
    "update_ui()"
   ]
  },
  {
   "cell_type": "markdown",
   "id": "9147a4c6-ecdb-435d-a180-30aa01937381",
   "metadata": {},
   "source": [
    "## 3. Self-Assessment"
   ]
  },
  {
   "cell_type": "markdown",
   "id": "c2c740c8-455e-40d0-9cf1-6184b1b8fa0c",
   "metadata": {},
   "source": [
    "\n",
    "### 🔍 Conceptual Questions\n",
    "\n",
    "1. What are the physical principles that distinguish the constant head and falling head methods?\n",
    "2. Why is the falling head test more appropriate for fine-grained soils like clays?\n",
    "3. How does hydraulic conductivity relate to soil structure and pore connectivity?\n",
    "4. What role does specimen geometry (area, length) play in permeability calculations?\n",
    "5. Why is flow assumed laminar in these tests—and what happens if it's not?\n",
    "\n",
    "---\n",
    "\n",
    "### 💭 Reflective Questions\n",
    "\n",
    "1. Have you observed a soil type where constant head measurements became unstable? What caused it?\n",
    "2. If your falling head test shows minimal change in head over time, how do you interpret that about permeability?\n",
    "3. What lab challenges might affect the accuracy of time measurements or head readings?\n",
    "4. How would you explain the significance of temperature correction to a field technician unfamiliar with fluid viscosity?\n",
    "5. Which test method gives you greater confidence for quality assurance in low-permeability soils, and why?\n",
    "\n",
    "---\n",
    "\n",
    "\n",
    "### Test Matching\n",
    "\n",
    "**Q1. Which test is ideal for measuring permeability of saturated clay specimens?**  \n",
    "A. Constant Head  \n",
    "B. Falling Head ✅  \n",
    "C. Cone Penetration  \n",
    "D. Plate Load\n",
    "\n",
    "**Q2. Constant head tests typically require which soil condition?**  \n",
    "A. Frozen  \n",
    "B. Loose gravel ✅  \n",
    "C. High plasticity  \n",
    "D. Organic-rich silt\n",
    "\n",
    "### Calculation Logic\n",
    "\n",
    "**Q3. The falling head conductivity formula includes which mathematical function?**  \n",
    "A. Square root  \n",
    "B. Logarithm ✅  \n",
    "C. Sine  \n",
    "D. Linear slope\n",
    "\n",
    "**Q4. In constant head tests, discharge rate (q) is calculated as:**  \n",
    "A. Time divided by head  \n",
    "B. Length times head  \n",
    "C. Volume divided by time ✅  \n",
    "D. Area times velocity\n",
    "\n",
    "### Interpretation\n",
    "\n",
    "**Q5. A K value of 1 × 10⁻⁶ m/s most likely corresponds to:**  \n",
    "A. Highly permeable gravel  \n",
    "B. Silty or loamy soil ✅  \n",
    "C. Compacted clay  \n",
    "D. Saturated sand dune"
   ]
  },
  {
   "cell_type": "code",
   "execution_count": null,
   "id": "2b0fd378-b569-4041-8754-7da44dd37160",
   "metadata": {},
   "outputs": [],
   "source": []
  }
 ],
 "metadata": {
  "kernelspec": {
   "display_name": "Python [conda env:base] *",
   "language": "python",
   "name": "conda-base-py"
  },
  "language_info": {
   "codemirror_mode": {
    "name": "ipython",
    "version": 3
   },
   "file_extension": ".py",
   "mimetype": "text/x-python",
   "name": "python",
   "nbconvert_exporter": "python",
   "pygments_lexer": "ipython3",
   "version": "3.12.7"
  },
  "widgets": {
   "application/vnd.jupyter.widget-state+json": {
    "state": {
     "08daa07bfb4741218a169e4ed93e2b91": {
      "model_module": "@jupyter-widgets/controls",
      "model_module_version": "2.0.0",
      "model_name": "FloatTextModel",
      "state": {
       "description": "Cross-sectional Area (m²):",
       "layout": "IPY_MODEL_44c5fdda20bb4d5f9a66a46a9d846abb",
       "step": null,
       "style": "IPY_MODEL_35e02fe42f22429f84b2dbf71d702abe",
       "value": 0.00075
      }
     },
     "0a49d3d9d11f4ae09eca938b4877e881": {
      "model_module": "@jupyter-widgets/controls",
      "model_module_version": "2.0.0",
      "model_name": "FloatTextModel",
      "state": {
       "description": "Collection Time (s):",
       "layout": "IPY_MODEL_44c5fdda20bb4d5f9a66a46a9d846abb",
       "step": null,
       "style": "IPY_MODEL_f7317dd0cd5d414c845737c5ac2d8dff",
       "value": 120
      }
     },
     "0f075a4b684e409d96b4d6d2de86ad28": {
      "model_module": "@jupyter-widgets/controls",
      "model_module_version": "2.0.0",
      "model_name": "FloatTextModel",
      "state": {
       "description": "Head Difference h (m):",
       "layout": "IPY_MODEL_44c5fdda20bb4d5f9a66a46a9d846abb",
       "step": null,
       "style": "IPY_MODEL_2edad6af713f4c178d742d480bf7cd4e",
       "value": 0.25
      }
     },
     "11726d323fb94e5c81ef3f6130b58605": {
      "model_module": "@jupyter-widgets/controls",
      "model_module_version": "2.0.0",
      "model_name": "ToggleButtonsStyleModel",
      "state": {
       "button_width": "",
       "description_width": "220px"
      }
     },
     "1e29579583b141b286b5a90b55a2605a": {
      "model_module": "@jupyter-widgets/controls",
      "model_module_version": "2.0.0",
      "model_name": "FloatTextModel",
      "state": {
       "description": "Initial Head h₁ (m):",
       "layout": "IPY_MODEL_a67a9bf62b1c44aa8bed53c156fdaf44",
       "step": null,
       "style": "IPY_MODEL_90578adbcbfa47f9bd598dd77426f132",
       "value": 0.3
      }
     },
     "2edad6af713f4c178d742d480bf7cd4e": {
      "model_module": "@jupyter-widgets/controls",
      "model_module_version": "2.0.0",
      "model_name": "DescriptionStyleModel",
      "state": {
       "description_width": "220px"
      }
     },
     "2f9da128cb9b41ad941fd00c9d0ee85d": {
      "model_module": "@jupyter-widgets/controls",
      "model_module_version": "2.0.0",
      "model_name": "FloatTextModel",
      "state": {
       "description": "Collected Volume (m³):",
       "layout": "IPY_MODEL_44c5fdda20bb4d5f9a66a46a9d846abb",
       "step": null,
       "style": "IPY_MODEL_fd4e8ed85b7d40b0a77aaa61d03d7479",
       "value": 0.003
      }
     },
     "344b2965df0146a4925bb4293fae0acc": {
      "model_module": "@jupyter-widgets/controls",
      "model_module_version": "2.0.0",
      "model_name": "DescriptionStyleModel",
      "state": {
       "description_width": "220px"
      }
     },
     "35e02fe42f22429f84b2dbf71d702abe": {
      "model_module": "@jupyter-widgets/controls",
      "model_module_version": "2.0.0",
      "model_name": "DescriptionStyleModel",
      "state": {
       "description_width": "220px"
      }
     },
     "39a138a8010546b38cb6539eacd0e31a": {
      "model_module": "@jupyter-widgets/controls",
      "model_module_version": "2.0.0",
      "model_name": "DescriptionStyleModel",
      "state": {
       "description_width": "220px"
      }
     },
     "3b161656637c4a1ca676a871c6f132d1": {
      "model_module": "@jupyter-widgets/controls",
      "model_module_version": "2.0.0",
      "model_name": "FloatTextModel",
      "state": {
       "description": "Initial Head h₁ (m):",
       "layout": "IPY_MODEL_44c5fdda20bb4d5f9a66a46a9d846abb",
       "step": null,
       "style": "IPY_MODEL_c337b7809a564439bdbe1a0f4490d507",
       "value": 0.3
      }
     },
     "3c4cc8db759040acb9cdcf27eb15b117": {
      "model_module": "@jupyter-widgets/base",
      "model_module_version": "2.0.0",
      "model_name": "LayoutModel",
      "state": {}
     },
     "3eacddbdd7ef43cf835269ddedf5fa85": {
      "model_module": "@jupyter-widgets/controls",
      "model_module_version": "2.0.0",
      "model_name": "DescriptionStyleModel",
      "state": {
       "description_width": "220px"
      }
     },
     "44c5fdda20bb4d5f9a66a46a9d846abb": {
      "model_module": "@jupyter-widgets/base",
      "model_module_version": "2.0.0",
      "model_name": "LayoutModel",
      "state": {
       "width": "420px"
      }
     },
     "47c33f80e29f450e95fbab23f14cf0ab": {
      "model_module": "@jupyter-widgets/base",
      "model_module_version": "2.0.0",
      "model_name": "LayoutModel",
      "state": {}
     },
     "52aab7ea2a994bbfbf8cf354f285ca80": {
      "model_module": "@jupyter-widgets/base",
      "model_module_version": "2.0.0",
      "model_name": "LayoutModel",
      "state": {
       "width": "220px"
      }
     },
     "55890e5121df4927b623b3297d2bd3bb": {
      "model_module": "@jupyter-widgets/controls",
      "model_module_version": "2.0.0",
      "model_name": "FloatTextModel",
      "state": {
       "description": "Length of Specimen (m):",
       "layout": "IPY_MODEL_a67a9bf62b1c44aa8bed53c156fdaf44",
       "step": null,
       "style": "IPY_MODEL_344b2965df0146a4925bb4293fae0acc",
       "value": 0.15
      }
     },
     "55aa8b5880b54d13b5d67b35e9e09e8b": {
      "model_module": "@jupyter-widgets/controls",
      "model_module_version": "2.0.0",
      "model_name": "FloatTextModel",
      "state": {
       "description": "Elapsed Time (s):",
       "layout": "IPY_MODEL_44c5fdda20bb4d5f9a66a46a9d846abb",
       "step": null,
       "style": "IPY_MODEL_39a138a8010546b38cb6539eacd0e31a",
       "value": 240
      }
     },
     "5a97df6ee7f04cfd8fb4d3b0bf821723": {
      "model_module": "@jupyter-widgets/controls",
      "model_module_version": "2.0.0",
      "model_name": "FloatTextModel",
      "state": {
       "description": "Elapsed Time (s):",
       "layout": "IPY_MODEL_a67a9bf62b1c44aa8bed53c156fdaf44",
       "step": null,
       "style": "IPY_MODEL_85a390f2feb0417e87187c88496784fd",
       "value": 240
      }
     },
     "5b9a247f837c4d8e99cb79c15fb9bd2c": {
      "model_module": "@jupyter-widgets/controls",
      "model_module_version": "2.0.0",
      "model_name": "VBoxModel",
      "state": {
       "children": [
        "IPY_MODEL_fe6f6ae5877e45ee8bcd025218139778",
        "IPY_MODEL_08daa07bfb4741218a169e4ed93e2b91",
        "IPY_MODEL_c2646c45a5934896b3ee56d9f4f30411",
        "IPY_MODEL_2f9da128cb9b41ad941fd00c9d0ee85d",
        "IPY_MODEL_0a49d3d9d11f4ae09eca938b4877e881",
        "IPY_MODEL_0f075a4b684e409d96b4d6d2de86ad28",
        "IPY_MODEL_99e9ca64146045b580bd654c77218b52"
       ],
       "layout": "IPY_MODEL_896dcae15a854bfb9e9d691b36e13dbc"
      }
     },
     "5d1b1a5babf645959fafedb779596c29": {
      "model_module": "@jupyter-widgets/controls",
      "model_module_version": "2.0.0",
      "model_name": "ButtonStyleModel",
      "state": {
       "font_family": null,
       "font_size": null,
       "font_style": null,
       "font_variant": null,
       "font_weight": null,
       "text_color": null,
       "text_decoration": null
      }
     },
     "676ade88a87943e288fea6d7dc41229c": {
      "model_module": "@jupyter-widgets/controls",
      "model_module_version": "2.0.0",
      "model_name": "DescriptionStyleModel",
      "state": {
       "description_width": "220px"
      }
     },
     "691e1542a57a49b5b2b01d63b0827988": {
      "model_module": "@jupyter-widgets/controls",
      "model_module_version": "2.0.0",
      "model_name": "FloatTextModel",
      "state": {
       "description": "Collection Time (s):",
       "layout": "IPY_MODEL_a67a9bf62b1c44aa8bed53c156fdaf44",
       "step": null,
       "style": "IPY_MODEL_f2eb6b640b4e42289c0f59e639446abf",
       "value": 120
      }
     },
     "7c965b91dd2a407998b5377e404818a4": {
      "model_module": "@jupyter-widgets/base",
      "model_module_version": "2.0.0",
      "model_name": "LayoutModel",
      "state": {
       "width": "220px"
      }
     },
     "8223f680328b478bbff9ea57fa82546e": {
      "model_module": "@jupyter-widgets/controls",
      "model_module_version": "2.0.0",
      "model_name": "VBoxModel",
      "state": {
       "children": [
        "IPY_MODEL_bdd567bf7e284affab9d381505083f44",
        "IPY_MODEL_efaa7541bb0e4914a67785a5cb466476",
        "IPY_MODEL_55890e5121df4927b623b3297d2bd3bb",
        "IPY_MODEL_dabfc358d63a48118825f5df7d01198a",
        "IPY_MODEL_691e1542a57a49b5b2b01d63b0827988",
        "IPY_MODEL_acce2d416cac4f36824096cf422431f7",
        "IPY_MODEL_e54eeaa891734fc89253c15c15a25f8e"
       ],
       "layout": "IPY_MODEL_d986d2b4f32948b4a400f10ee41438d0"
      }
     },
     "85a390f2feb0417e87187c88496784fd": {
      "model_module": "@jupyter-widgets/controls",
      "model_module_version": "2.0.0",
      "model_name": "DescriptionStyleModel",
      "state": {
       "description_width": "220px"
      }
     },
     "896dcae15a854bfb9e9d691b36e13dbc": {
      "model_module": "@jupyter-widgets/base",
      "model_module_version": "2.0.0",
      "model_name": "LayoutModel",
      "state": {}
     },
     "897517f988de432fbfbb06dbdc3796aa": {
      "model_module": "@jupyter-widgets/controls",
      "model_module_version": "2.0.0",
      "model_name": "DescriptionStyleModel",
      "state": {
       "description_width": "220px"
      }
     },
     "90578adbcbfa47f9bd598dd77426f132": {
      "model_module": "@jupyter-widgets/controls",
      "model_module_version": "2.0.0",
      "model_name": "DescriptionStyleModel",
      "state": {
       "description_width": "220px"
      }
     },
     "995e94f4b8874e0584de16a211add054": {
      "model_module": "@jupyter-widgets/controls",
      "model_module_version": "2.0.0",
      "model_name": "FloatTextModel",
      "state": {
       "description": "Standpipe Area (m²):",
       "layout": "IPY_MODEL_a67a9bf62b1c44aa8bed53c156fdaf44",
       "step": null,
       "style": "IPY_MODEL_897517f988de432fbfbb06dbdc3796aa",
       "value": 0.0002
      }
     },
     "99e9ca64146045b580bd654c77218b52": {
      "model_module": "@jupyter-widgets/controls",
      "model_module_version": "2.0.0",
      "model_name": "ButtonModel",
      "state": {
       "description": "Compute Permeability",
       "layout": "IPY_MODEL_7c965b91dd2a407998b5377e404818a4",
       "style": "IPY_MODEL_5d1b1a5babf645959fafedb779596c29",
       "tooltip": null
      }
     },
     "9c672d9f6e6a4b4986b66e1b4d15dde8": {
      "model_module": "@jupyter-widgets/controls",
      "model_module_version": "2.0.0",
      "model_name": "ToggleButtonsStyleModel",
      "state": {
       "button_width": "",
       "description_width": "220px"
      }
     },
     "a67a9bf62b1c44aa8bed53c156fdaf44": {
      "model_module": "@jupyter-widgets/base",
      "model_module_version": "2.0.0",
      "model_name": "LayoutModel",
      "state": {
       "width": "420px"
      }
     },
     "a76366f6cd0b4232b9db317cbb9d019d": {
      "model_module": "@jupyter-widgets/controls",
      "model_module_version": "2.0.0",
      "model_name": "DescriptionStyleModel",
      "state": {
       "description_width": "220px"
      }
     },
     "a93be2e794fb4f94be8a4ebcf525e8dd": {
      "model_module": "@jupyter-widgets/controls",
      "model_module_version": "2.0.0",
      "model_name": "DescriptionStyleModel",
      "state": {
       "description_width": "220px"
      }
     },
     "acce2d416cac4f36824096cf422431f7": {
      "model_module": "@jupyter-widgets/controls",
      "model_module_version": "2.0.0",
      "model_name": "FloatTextModel",
      "state": {
       "description": "Head Difference h (m):",
       "layout": "IPY_MODEL_a67a9bf62b1c44aa8bed53c156fdaf44",
       "step": null,
       "style": "IPY_MODEL_b18be3504aab4933bb9d106384a279da",
       "value": 0.25
      }
     },
     "ad7dc567aa13498d86e627bdaee89a14": {
      "model_module": "@jupyter-widgets/controls",
      "model_module_version": "2.0.0",
      "model_name": "FloatTextModel",
      "state": {
       "description": "Final Head h₂ (m):",
       "layout": "IPY_MODEL_44c5fdda20bb4d5f9a66a46a9d846abb",
       "step": null,
       "style": "IPY_MODEL_3eacddbdd7ef43cf835269ddedf5fa85",
       "value": 0.1
      }
     },
     "b18be3504aab4933bb9d106384a279da": {
      "model_module": "@jupyter-widgets/controls",
      "model_module_version": "2.0.0",
      "model_name": "DescriptionStyleModel",
      "state": {
       "description_width": "220px"
      }
     },
     "b24c7a34099743758b7682e901c7c9eb": {
      "model_module": "@jupyter-widgets/controls",
      "model_module_version": "2.0.0",
      "model_name": "ButtonStyleModel",
      "state": {
       "font_family": null,
       "font_size": null,
       "font_style": null,
       "font_variant": null,
       "font_weight": null,
       "text_color": null,
       "text_decoration": null
      }
     },
     "b41eaa55e01b49a8baabd6bda2174fdf": {
      "model_module": "@jupyter-widgets/controls",
      "model_module_version": "2.0.0",
      "model_name": "DescriptionStyleModel",
      "state": {
       "description_width": "220px"
      }
     },
     "b5cb151740ea41168e15480ae3f5a523": {
      "model_module": "@jupyter-widgets/controls",
      "model_module_version": "2.0.0",
      "model_name": "DescriptionStyleModel",
      "state": {
       "description_width": "220px"
      }
     },
     "bdd567bf7e284affab9d381505083f44": {
      "model_module": "@jupyter-widgets/controls",
      "model_module_version": "2.0.0",
      "model_name": "ToggleButtonsModel",
      "state": {
       "_options_labels": [
        "Constant Head",
        "Falling Head"
       ],
       "button_style": "",
       "description": "Select Test Type:",
       "icons": [],
       "index": 0,
       "layout": "IPY_MODEL_47c33f80e29f450e95fbab23f14cf0ab",
       "style": "IPY_MODEL_11726d323fb94e5c81ef3f6130b58605",
       "tooltips": []
      }
     },
     "c2646c45a5934896b3ee56d9f4f30411": {
      "model_module": "@jupyter-widgets/controls",
      "model_module_version": "2.0.0",
      "model_name": "FloatTextModel",
      "state": {
       "description": "Length of Specimen (m):",
       "layout": "IPY_MODEL_44c5fdda20bb4d5f9a66a46a9d846abb",
       "step": null,
       "style": "IPY_MODEL_a76366f6cd0b4232b9db317cbb9d019d",
       "value": 0.15
      }
     },
     "c337b7809a564439bdbe1a0f4490d507": {
      "model_module": "@jupyter-widgets/controls",
      "model_module_version": "2.0.0",
      "model_name": "DescriptionStyleModel",
      "state": {
       "description_width": "220px"
      }
     },
     "d23f8d119c2b40d6b8a84761fa31f786": {
      "model_module": "@jupyter-widgets/controls",
      "model_module_version": "2.0.0",
      "model_name": "FloatTextModel",
      "state": {
       "description": "Standpipe Area (m²):",
       "layout": "IPY_MODEL_44c5fdda20bb4d5f9a66a46a9d846abb",
       "step": null,
       "style": "IPY_MODEL_b41eaa55e01b49a8baabd6bda2174fdf",
       "value": 0.0002
      }
     },
     "d986d2b4f32948b4a400f10ee41438d0": {
      "model_module": "@jupyter-widgets/base",
      "model_module_version": "2.0.0",
      "model_name": "LayoutModel",
      "state": {}
     },
     "dabfc358d63a48118825f5df7d01198a": {
      "model_module": "@jupyter-widgets/controls",
      "model_module_version": "2.0.0",
      "model_name": "FloatTextModel",
      "state": {
       "description": "Collected Volume (m³):",
       "layout": "IPY_MODEL_a67a9bf62b1c44aa8bed53c156fdaf44",
       "step": null,
       "style": "IPY_MODEL_676ade88a87943e288fea6d7dc41229c",
       "value": 0.003
      }
     },
     "e54eeaa891734fc89253c15c15a25f8e": {
      "model_module": "@jupyter-widgets/controls",
      "model_module_version": "2.0.0",
      "model_name": "ButtonModel",
      "state": {
       "description": "Compute Permeability",
       "layout": "IPY_MODEL_52aab7ea2a994bbfbf8cf354f285ca80",
       "style": "IPY_MODEL_b24c7a34099743758b7682e901c7c9eb",
       "tooltip": null
      }
     },
     "efaa7541bb0e4914a67785a5cb466476": {
      "model_module": "@jupyter-widgets/controls",
      "model_module_version": "2.0.0",
      "model_name": "FloatTextModel",
      "state": {
       "description": "Cross-sectional Area (m²):",
       "layout": "IPY_MODEL_a67a9bf62b1c44aa8bed53c156fdaf44",
       "step": null,
       "style": "IPY_MODEL_b5cb151740ea41168e15480ae3f5a523",
       "value": 0.00075
      }
     },
     "f1a5f0f20a1743438fc0979886073d8f": {
      "model_module": "@jupyter-widgets/controls",
      "model_module_version": "2.0.0",
      "model_name": "FloatTextModel",
      "state": {
       "description": "Final Head h₂ (m):",
       "layout": "IPY_MODEL_a67a9bf62b1c44aa8bed53c156fdaf44",
       "step": null,
       "style": "IPY_MODEL_a93be2e794fb4f94be8a4ebcf525e8dd",
       "value": 0.1
      }
     },
     "f2eb6b640b4e42289c0f59e639446abf": {
      "model_module": "@jupyter-widgets/controls",
      "model_module_version": "2.0.0",
      "model_name": "DescriptionStyleModel",
      "state": {
       "description_width": "220px"
      }
     },
     "f7317dd0cd5d414c845737c5ac2d8dff": {
      "model_module": "@jupyter-widgets/controls",
      "model_module_version": "2.0.0",
      "model_name": "DescriptionStyleModel",
      "state": {
       "description_width": "220px"
      }
     },
     "fd4e8ed85b7d40b0a77aaa61d03d7479": {
      "model_module": "@jupyter-widgets/controls",
      "model_module_version": "2.0.0",
      "model_name": "DescriptionStyleModel",
      "state": {
       "description_width": "220px"
      }
     },
     "fe6f6ae5877e45ee8bcd025218139778": {
      "model_module": "@jupyter-widgets/controls",
      "model_module_version": "2.0.0",
      "model_name": "ToggleButtonsModel",
      "state": {
       "_options_labels": [
        "Constant Head",
        "Falling Head"
       ],
       "button_style": "",
       "description": "Select Test Type:",
       "icons": [],
       "index": 0,
       "layout": "IPY_MODEL_3c4cc8db759040acb9cdcf27eb15b117",
       "style": "IPY_MODEL_9c672d9f6e6a4b4986b66e1b4d15dde8",
       "tooltips": []
      }
     }
    },
    "version_major": 2,
    "version_minor": 0
   }
  }
 },
 "nbformat": 4,
 "nbformat_minor": 5
}
