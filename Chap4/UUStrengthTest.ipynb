{
 "cells": [
  {
   "cell_type": "markdown",
   "id": "2c6e3fb5-317c-4752-adb9-d885347cea3c",
   "metadata": {},
   "source": [
    "# Chapter 4 Geotechnical Engineering: Unconsolidated Undrained (UU) Triaxial Test"
   ]
  },
  {
   "cell_type": "markdown",
   "id": "ff9089f0-6bc3-40da-acf7-0fbc97620e55",
   "metadata": {},
   "source": [
    "1. [Introduction: USCS Soil Classification](#1.-Introduction)\n",
    "2. [Simulation: USCS Soil Classification](#2.-Simulation)\n",
    "3. [Self-Assessment](#3.-Self-Assessment)"
   ]
  },
  {
   "cell_type": "markdown",
   "id": "f3483d90-f038-4208-bfe7-58fad038b629",
   "metadata": {},
   "source": [
    "## 1. Introduction"
   ]
  },
  {
   "cell_type": "markdown",
   "id": "140d26a4-c2fd-46b8-88b1-68398ba3cb50",
   "metadata": {},
   "source": [
    "### 🧱 Soil Strength – Definition, Influencing Factors & Engineering Importance\n",
    "\n",
    "**Soil strength** refers to the capacity of soil to resist deformation and failure under applied loads. It is governed by the internal resistance offered by particles through cohesion and friction. In geotechnical engineering, strength is assessed in terms of shear strength, typically represented as:\n",
    "\n",
    "$$\n",
    "\\tau = c + \\sigma \\cdot \\tan\\phi\n",
    "$$\n",
    "\n",
    "Where:\n",
    "- $( \\tau $) = shear strength  \n",
    "- $( c $) = cohesion  \n",
    "- $( \\sigma $) = normal stress  \n",
    "- $( \\phi $) = angle of internal friction\n",
    "\n",
    "---\n",
    "\n",
    "### 🔍 Key Influencing Factors\n",
    "\n",
    "| Factor               | Influence on Strength Behavior                     |\n",
    "|----------------------|----------------------------------------------------|\n",
    "| **Moisture Content** | Increased water may weaken particle bonds          |\n",
    "| **Drainage Conditions** | Undrained behavior leads to pore pressure buildup |\n",
    "| **Soil Type**        | Clay = cohesive; Sand = frictional                 |\n",
    "| **Density / Compaction** | Higher compaction enhances resistance           |\n",
    "| **Loading Rate**     | Rapid loads may lead to undrained failure          |\n",
    "| **Stress History**   | Overconsolidated soils show different responses    |\n",
    "\n",
    "---\n",
    "\n",
    "### 💧 Role of Water & Drainage\n",
    "\n",
    "- **In Saturated Conditions**: Excess pore water reduces effective stress → lowers shear strength  \n",
    "- **In Drained Conditions**: Water exits → pore pressure dissipates → strength stabilizes  \n",
    "- **Undrained Behavior**: Short-term loads (UU or CU tests) measure immediate strength before drainage occurs\n",
    "\n",
    "Understanding water's impact is essential in differentiating **total stress vs. effective stress** analysis and in choosing the right test method (UU, CU, CD).\n",
    "\n",
    "---\n",
    "\n",
    "### 🏗️ Why Soil Strength Matters\n",
    "\n",
    "### 🔨 Engineering Applications\n",
    "\n",
    "| Domain                    | Role of Soil Strength                         |\n",
    "|---------------------------|-----------------------------------------------|\n",
    "| **Bearing Capacity**      | Determines allowable pressure under footings  |\n",
    "| **Slope Stability**       | Prevents landslides or embankment failure     |\n",
    "| **Retaining Structures**  | Guides lateral earth pressure estimation      |\n",
    "| **Foundation Design**     | Ensures settlement stays within tolerable limits |\n",
    "| **Excavation Safety**     | Assesses trench stability and collapse risk   |\n",
    "\n",
    "Reliable strength data is the foundation for safe and durable infrastructure—roads, buildings, bridges, dams—all depend on it.\n",
    "\n",
    "---\n",
    "### 🧪 Typical UU, CU, and CD Strength Values – Regional Soil Profiles\n",
    "\n",
    "Soil strength values from **Unconsolidated Undrained (UU)**, **Consolidated Undrained (CU)**, and **Consolidated Drained (CD)** triaxial tests vary significantly depending on soil type, saturation, consolidation history, and drainage conditions. These tests simulate different field scenarios:\n",
    "\n",
    "- **UU** → Short-term construction safety (no drainage, no consolidation)\n",
    "- **CU** → Intermediate-term stability (consolidated, undrained with pore pressure measurement)\n",
    "- **CD** → Long-term settlement and failure (fully drained, consolidated)\n",
    "\n",
    "---\n",
    "\n",
    "### 🌍 Representative Strength Parameters by Region & Soil Type\n",
    "\n",
    "| Region / Soil Type            | UU Test – Su (kPa) | CU Test – φ′ (°), c′ (kPa) | CD Test – φ′ (°), c′ (kPa) |\n",
    "|-------------------------------|--------------------|-----------------------------|-----------------------------|\n",
    "| **Virginia, USA – CL Clay**   | 45–90              | φ′ = 27–32°, c′ = 0–5       | φ′ = 30–32°, c′ = 0–4.9     |\n",
    "| **Indonesia – Soft Marine Clay** | 15–40           | φ′ = 20–28°, c′ = 0–10      | φ′ = 25–30°, c′ = 0–8       |\n",
    "| **UK – London Clay**          | 60–120             | φ′ = 24–30°, c′ = 0–10      | φ′ = 28–32°, c′ = 0–12      |\n",
    "| **India – Black Cotton Soil** | 30–70              | φ′ = 18–25°, c′ = 0–15      | φ′ = 22–28°, c′ = 0–10      |\n",
    "| **China – Silty Clay (NC)**   | 40–80              | φ′ = 26–30°, c′ = 0–5       | φ′ = 28–33°, c′ = 0–6       |\n",
    "| **Brazil – Residual Clayey Soil** | 50–100         | φ′ = 25–30°, c′ = 0–8       | φ′ = 27–32°, c′ = 0–10      |\n",
    "\n",
    "> 📌 Note: UU test results are in terms of **total stress** (Su), while CU and CD provide **effective stress parameters** (φ′ and c′). CD tests often show slightly higher friction angles due to full drainage.\n",
    "\n",
    "---\n",
    "\n",
    "### 🧭 Application Guidance\n",
    "\n",
    "| Test Type | Field Scenario Simulated                  | Use Case Examples                          |\n",
    "|-----------|--------------------------------------------|---------------------------------------------|\n",
    "| **UU**    | No drainage, no consolidation              | Excavation safety, embankment during construction |\n",
    "| **CU**    | Consolidated, undrained (pore pressure measured) | Foundation design, slope stability (short to medium term) |\n",
    "| **CD**    | Fully drained, long-term consolidation     | Settlement prediction, long-term slope stability |\n",
    "\n",
    "---"
   ]
  },
  {
   "cell_type": "markdown",
   "id": "662f6766-5feb-47f2-a36f-78120b67cdc1",
   "metadata": {},
   "source": [
    "## 2. Simulation"
   ]
  },
  {
   "cell_type": "markdown",
   "id": "47f93c90-509b-4176-9f05-aff78fbb25e8",
   "metadata": {},
   "source": [
    "### 🧪 Summary – Interactive UU Triaxial Test App\n",
    "\n",
    "An interactive Python app built with `ipywidgets`, designed to organize and analyze data from the **Unconsolidated Undrained (UU) triaxial test**, a short-term strength evaluation method for cohesive soils under total stress conditions (ASTM D2850).\n",
    "\n",
    "---\n",
    "\n",
    "### ⚙️ What It Does\n",
    "\n",
    "| Task                          | Description                                                   |\n",
    "|-------------------------------|---------------------------------------------------------------|\n",
    "| Data Entry                    | Users input specimen dimensions and trial data (σ₃ and σ₁)    |\n",
    "| Calculation                   | Computes deviator stress \\(σ_d = σ₁ − σ₃\\) and \\(Su = σ_d / 2\\) |\n",
    "| Report Generation             | Displays tabulated results and interpretation notes            |\n",
    "| Mohr Envelope Plot            | Visualizes σ₁ vs. σ₃ pairs in total stress space              |\n",
    "\n",
    "---\n",
    "\n",
    "### 📥 Inputs\n",
    "\n",
    "| Input                         | Meaning                                   |\n",
    "|-------------------------------|--------------------------------------------|\n",
    "| **Sample ID**                | Identifier for the soil specimen           |\n",
    "| **Diameter & Height**        | Used to compute cross-sectional area       |\n",
    "| **Number of Trials**         | Defines how many σ₃–σ₁ stress pairs to evaluate |\n",
    "| **σ₃ (kPa)**                 | Confining pressure during each test trial  |\n",
    "| **σ₁ (kPa)**                 | Axial failure stress during each trial     |\n",
    "\n",
    "---\n",
    "\n",
    "### 📤 Outputs\n",
    "\n",
    "| Output                       | Interpretation                            |\n",
    "|------------------------------|--------------------------------------------|\n",
    "| **σ_d (kPa)**                | Deviator stress = σ₁ − σ₃                  |\n",
    "| **Su (kPa)**                 | Undrained shear strength (total stress)    |\n",
    "| **Mohr Envelope Plot**       | Stress-space visualization assuming φ = 0  |\n",
    "| **Markdown Summary**         | Consolidated table with all trial results  |\n",
    "\n",
    "---\n",
    "\n",
    "### 🧭 How to Interpret\n",
    "\n",
    "- **Su** represents short-term strength for cohesive soils, assuming no drainage or consolidation  \n",
    "- **Total Stress Analysis**: friction angle \\(φ_{uu} = 0^\\circ\\) implies horizontal failure envelope  \n",
    "- Results are used for stability evaluations such as slope failure or embankment design under rapid loading conditions\n",
    "\n",
    "---"
   ]
  },
  {
   "cell_type": "code",
   "execution_count": 2,
   "id": "38f923e0-8e2b-4da0-ba83-1f119fb30db5",
   "metadata": {},
   "outputs": [
    {
     "name": "stderr",
     "output_type": "stream",
     "text": [
      "<>:79: SyntaxWarning: invalid escape sequence '\\['\n",
      "<>:79: SyntaxWarning: invalid escape sequence '\\['\n",
      "C:\\Users\\satis\\AppData\\Local\\Temp\\ipykernel_17124\\2334736742.py:79: SyntaxWarning: invalid escape sequence '\\['\n",
      "  md += \"\"\"\n"
     ]
    },
    {
     "data": {
      "application/vnd.jupyter.widget-view+json": {
       "model_id": "cf091f2d88874cee868e24d3871af41b",
       "version_major": 2,
       "version_minor": 0
      },
      "text/plain": [
       "VBox(children=(Text(value='Sample-001', description='Sample ID:', layout=Layout(width='380px'), style=TextStyl…"
      ]
     },
     "metadata": {},
     "output_type": "display_data"
    }
   ],
   "source": [
    "# 🧪 Revised Interactive Unconsolidated Undrained (UU) Triaxial Test App\n",
    "\n",
    "import pandas as pd\n",
    "import numpy as np\n",
    "import ipywidgets as widgets\n",
    "from IPython.display import display, Markdown\n",
    "import matplotlib.pyplot as plt\n",
    "\n",
    "# 📐 Styling\n",
    "style = {'description_width': '180px'}\n",
    "layout = widgets.Layout(width='380px')\n",
    "\n",
    "# 📋 Specimen Inputs\n",
    "sample_ID = widgets.Text(value='Sample-001', description='Sample ID:', style=style, layout=layout)\n",
    "specimen_diameter = widgets.FloatText(value=0.038, description='Diameter (m):', style=style, layout=layout)\n",
    "specimen_height = widgets.FloatText(value=0.076, description='Height (m):', style=style, layout=layout)\n",
    "num_trials = widgets.IntSlider(value=3, min=1, max=10, description='Number of Trials:', style=style, layout=layout)\n",
    "\n",
    "# 📥 Trial Inputs (Interactive)\n",
    "def create_trial_inputs(n):\n",
    "    trials = []\n",
    "    for i in range(n):\n",
    "        sigma3 = widgets.FloatText(value=100 + i*50, description=f'Trial {i+1} – σ₃ (kPa)', style=style, layout=layout)\n",
    "        sigma1 = widgets.FloatText(value=130 + i*50, description=f'Trial {i+1} – σ₁ (kPa)', style=style, layout=layout)\n",
    "        trials.append((sigma3, sigma1))\n",
    "    return trials\n",
    "\n",
    "trial_inputs = create_trial_inputs(num_trials.value)\n",
    "\n",
    "def update_trials(change):\n",
    "    global trial_inputs\n",
    "    trial_inputs = create_trial_inputs(change['new'])\n",
    "    trial_box.children = [w for pair in trial_inputs for w in pair]\n",
    "\n",
    "num_trials.observe(update_trials, names='value')\n",
    "trial_box = widgets.VBox([w for pair in trial_inputs for w in pair])\n",
    "\n",
    "# 🧮 Main Logic\n",
    "run_btn = widgets.Button(description='Analyze UU Data', layout=widgets.Layout(width='250px'))\n",
    "\n",
    "def on_run_click(b):\n",
    "    D = specimen_diameter.value\n",
    "    H = specimen_height.value\n",
    "    A = np.pi * D**2 / 4\n",
    "\n",
    "    results = []\n",
    "    for i, (conf_widget, axial_widget) in enumerate(trial_inputs):\n",
    "        sigma3 = conf_widget.value\n",
    "        sigma1 = axial_widget.value\n",
    "        sigma_d = sigma1 - sigma3\n",
    "        Su = sigma_d / 2\n",
    "        results.append({\n",
    "            'Trial': f'Trial {i+1}',\n",
    "            'σ₃ (kPa)': sigma3,\n",
    "            'σ₁ (kPa)': sigma1,\n",
    "            'σ_d (kPa)': sigma_d,\n",
    "            'Su (kPa)': round(Su, 2)\n",
    "        })\n",
    "\n",
    "    df = pd.DataFrame(results)\n",
    "\n",
    "    # 📄 Markdown Report\n",
    "    md = f\"\"\"\n",
    "### 🧱 UU Triaxial Test Report – Unconsolidated Undrained (Total Stress Analysis)\n",
    "\n",
    "**Sample ID**: {sample_ID.value}  \n",
    "**Diameter**: {D:.3f} m  \n",
    "**Height**: {H:.3f} m  \n",
    "**Area**: {A:.5f} m²  \n",
    "\n",
    "---\n",
    "\n",
    "| Trial | σ₃ (kPa) | σ₁ (kPa) | σ_d (kPa) | Su (kPa) |\n",
    "|-------|----------|----------|-----------|-----------|\n",
    "\"\"\"\n",
    "    for row in results:\n",
    "        md += f\"| {row['Trial']} | {row['σ₃ (kPa)']} | {row['σ₁ (kPa)']} | {row['σ_d (kPa)']} | {row['Su (kPa)']} |\\n\"\n",
    "\n",
    "    md += \"\"\"\n",
    "---\n",
    "\n",
    "### 📘 Interpretation Notes\n",
    "\n",
    "- UU tests are performed without allowing drainage or consolidation → reflects short-term behavior  \n",
    "- Undrained shear strength is calculated as:  \n",
    "  \\[\n",
    "  Su = \\frac{σ_1 - σ_3}{2}\n",
    "  \\]\n",
    "- Total stress analysis assumes φ = 0 → Mohr circles have horizontal failure envelope  \n",
    "\"\"\"\n",
    "\n",
    "    display(Markdown(md))\n",
    "\n",
    "    # 📈 Mohr Envelope Plot\n",
    "    fig, ax = plt.subplots(figsize=(6, 4))\n",
    "    ax.plot(df['σ₃ (kPa)'], df['σ₁ (kPa)'], 'bo-', label='Stress Pairs')\n",
    "    ax.set_xlabel('Confining Pressure σ₃ (kPa)')\n",
    "    ax.set_ylabel('Axial Stress σ₁ (kPa)')\n",
    "    ax.set_title('UU Test – σ₁ vs. σ₃ (Mohr Envelope)')\n",
    "    ax.grid(True)\n",
    "    ax.legend()\n",
    "    plt.show()\n",
    "\n",
    "run_btn.on_click(on_run_click)\n",
    "\n",
    "# 📦 App Interface\n",
    "display(widgets.VBox([\n",
    "    sample_ID,\n",
    "    specimen_diameter,\n",
    "    specimen_height,\n",
    "    num_trials,\n",
    "    trial_box,\n",
    "    run_btn\n",
    "]))"
   ]
  },
  {
   "cell_type": "markdown",
   "id": "95530c1b-4a40-4789-b21d-a5a09f2078d0",
   "metadata": {},
   "source": [
    "## 3. Self-Assessment"
   ]
  },
  {
   "cell_type": "markdown",
   "id": "ba187eb0-95b5-4421-8e45-86e3c59068d1",
   "metadata": {},
   "source": [
    "\n",
    "### 🔍 Conceptual Questions\n",
    "\n",
    "1. Why is the UU triaxial test suitable for evaluating short-term soil strength?\n",
    "2. What assumptions justify the use of total stress analysis in the UU test?\n",
    "3. Why is the internal friction angle (ϕ) typically assumed to be zero in UU conditions?\n",
    "4. How does the deviator stress (σ₁ − σ₃) relate to the failure mechanism of cohesive soils?\n",
    "5. How do UU test results inform decisions in rapid construction scenarios, such as embankments or slopes?\n",
    "\n",
    "---\n",
    "\n",
    "### 💭 Reflective Questions\n",
    "\n",
    "1. In your trials, how did changes in confining pressure (σ₃) affect the measured Su values?\n",
    "2. What limitations might arise if UU test results are used for long-term design considerations?\n",
    "3. If Su values vary widely across trials, what could be potential causes (sample disturbance, saturation, etc)?\n",
    "4. How might your results differ if the soil specimen were overconsolidated or partially drained?\n",
    "5. What visual trends are revealed in the Mohr envelope plot of σ₁ vs. σ₃, and how do they support the assumption of φ = 0?\n",
    "\n",
    "-----\n",
    "\n",
    "### Theory & Method\n",
    "\n",
    "**Q1. What does the UU triaxial test assume about drainage and consolidation?**  \n",
    "- A. Drainage allowed, no consolidation  \n",
    "- B. No drainage, full consolidation  \n",
    "- C. No drainage, no consolidation ✅  \n",
    "- D. Full drainage and consolidation\n",
    "\n",
    "**Q2. In UU conditions, undrained shear strength Su is calculated as:**  \n",
    "- A. $( Su = σ₁ × σ₃ $)  \n",
    "- B. $( Su = \\frac{σ₁ + σ₃}{2} $)  \n",
    "- C. $( Su = \\frac{σ₁ − σ₃}{2} $) ✅  \n",
    "- D. $( Su = σ₃ − σ₁ $)\n",
    "\n",
    "**Q3. Why is the Mohr failure envelope horizontal in a UU test?**  \n",
    "- A. Cohesion is infinite  \n",
    "- B. Friction angle is zero ✅  \n",
    "- C. Sample is overconsolidated  \n",
    "- D. Stress-strain curve is linear\n",
    "\n",
    "### Application & Interpretation\n",
    "\n",
    "**Q4. Which soil type is most appropriate for UU testing?**  \n",
    "- A. Clean sand  \n",
    "- B. Granular gravel  \n",
    "- C. Cohesive clay ✅  \n",
    "- D. Organic silt\n",
    "\n",
    "**Q5. A Su value of 90 kPa suggests:**  \n",
    "- A. High shear strength  \n",
    "- B. Very weak soil  \n",
    "- C. Moderate undrained strength ✅  \n",
    "- D. Inappropriate test method"
   ]
  }
 ],
 "metadata": {
  "kernelspec": {
   "display_name": "Python [conda env:base] *",
   "language": "python",
   "name": "conda-base-py"
  },
  "language_info": {
   "codemirror_mode": {
    "name": "ipython",
    "version": 3
   },
   "file_extension": ".py",
   "mimetype": "text/x-python",
   "name": "python",
   "nbconvert_exporter": "python",
   "pygments_lexer": "ipython3",
   "version": "3.12.7"
  },
  "widgets": {
   "application/vnd.jupyter.widget-state+json": {
    "state": {
     "034f86bbe2c048d49e5a392d6b43d813": {
      "model_module": "@jupyter-widgets/controls",
      "model_module_version": "2.0.0",
      "model_name": "TextModel",
      "state": {
       "description": "Sample ID:",
       "layout": "IPY_MODEL_faab2f380486467c809fbc8d9d1431c8",
       "style": "IPY_MODEL_c9087a74d0e042af88c1f21751b6019b",
       "value": "Sample-001"
      }
     },
     "074b96c7452846db8153e02d92f44020": {
      "model_module": "@jupyter-widgets/controls",
      "model_module_version": "2.0.0",
      "model_name": "IntSliderModel",
      "state": {
       "behavior": "drag-tap",
       "description": "Number of Trials:",
       "layout": "IPY_MODEL_faab2f380486467c809fbc8d9d1431c8",
       "max": 10,
       "min": 1,
       "style": "IPY_MODEL_468a09cb0a6b446d85898c70a1f15342",
       "value": 3
      }
     },
     "0cb288e286984b63827ecfd11bec1a06": {
      "model_module": "@jupyter-widgets/controls",
      "model_module_version": "2.0.0",
      "model_name": "DescriptionStyleModel",
      "state": {
       "description_width": "180px"
      }
     },
     "0d93abd30c2c402aa8b2e0b0f57ade85": {
      "model_module": "@jupyter-widgets/controls",
      "model_module_version": "2.0.0",
      "model_name": "FloatTextModel",
      "state": {
       "description": "Trial 1 – σ₃ (kPa)",
       "layout": "IPY_MODEL_d74b925153ef453ba3e10339c7a697fb",
       "step": null,
       "style": "IPY_MODEL_d869ca6285954040aba54a91b8a2e8fd",
       "value": 100
      }
     },
     "0e60d66923b34d9da195d452ea35c56d": {
      "model_module": "@jupyter-widgets/base",
      "model_module_version": "2.0.0",
      "model_name": "LayoutModel",
      "state": {}
     },
     "0f14d6f050e44d59a1bfaf6da8334bb1": {
      "model_module": "@jupyter-widgets/controls",
      "model_module_version": "2.0.0",
      "model_name": "FloatTextModel",
      "state": {
       "description": "Diameter (m):",
       "layout": "IPY_MODEL_d74b925153ef453ba3e10339c7a697fb",
       "step": null,
       "style": "IPY_MODEL_a09c1a2d3df5421dbe7e6aff5f93010c",
       "value": 0.038
      }
     },
     "102b4dd54a0d4cd0a1badce1f684fb3b": {
      "model_module": "@jupyter-widgets/controls",
      "model_module_version": "2.0.0",
      "model_name": "DescriptionStyleModel",
      "state": {
       "description_width": "180px"
      }
     },
     "13a60bed3ccd4f1080a2543194265ee2": {
      "model_module": "@jupyter-widgets/base",
      "model_module_version": "2.0.0",
      "model_name": "LayoutModel",
      "state": {}
     },
     "149b812990934ed2a91944331777e0c6": {
      "model_module": "@jupyter-widgets/controls",
      "model_module_version": "2.0.0",
      "model_name": "DescriptionStyleModel",
      "state": {
       "description_width": "180px"
      }
     },
     "15ca577794b44c639adaad4102e2db22": {
      "model_module": "@jupyter-widgets/controls",
      "model_module_version": "2.0.0",
      "model_name": "DescriptionStyleModel",
      "state": {
       "description_width": "180px"
      }
     },
     "172d8b4436044d499c4e985620c4ec68": {
      "model_module": "@jupyter-widgets/controls",
      "model_module_version": "2.0.0",
      "model_name": "DescriptionStyleModel",
      "state": {
       "description_width": "200px"
      }
     },
     "1aeb6af066ea4f93a169c41094d1b0cd": {
      "model_module": "@jupyter-widgets/base",
      "model_module_version": "2.0.0",
      "model_name": "LayoutModel",
      "state": {
       "width": "250px"
      }
     },
     "2117902cdfbd405991b6d614921dbc77": {
      "model_module": "@jupyter-widgets/controls",
      "model_module_version": "2.0.0",
      "model_name": "FloatTextModel",
      "state": {
       "description": "Trial 2 – σ₁ (kPa)",
       "layout": "IPY_MODEL_d74b925153ef453ba3e10339c7a697fb",
       "step": null,
       "style": "IPY_MODEL_172d8b4436044d499c4e985620c4ec68",
       "value": 170
      }
     },
     "21dce50b183d44c2bcdcf2c28bcacd08": {
      "model_module": "@jupyter-widgets/controls",
      "model_module_version": "2.0.0",
      "model_name": "DescriptionStyleModel",
      "state": {
       "description_width": "200px"
      }
     },
     "2e1ce8f29ee24568adafcfcfb8039197": {
      "model_module": "@jupyter-widgets/controls",
      "model_module_version": "2.0.0",
      "model_name": "ButtonStyleModel",
      "state": {
       "font_family": null,
       "font_size": null,
       "font_style": null,
       "font_variant": null,
       "font_weight": null,
       "text_color": null,
       "text_decoration": null
      }
     },
     "32e03257f3334326b48808e603b17af2": {
      "model_module": "@jupyter-widgets/controls",
      "model_module_version": "2.0.0",
      "model_name": "FloatTextModel",
      "state": {
       "description": "Trial 3 – σ₃ (kPa)",
       "layout": "IPY_MODEL_d74b925153ef453ba3e10339c7a697fb",
       "step": null,
       "style": "IPY_MODEL_7162e240f5d54577a608e5da240c3ba0",
       "value": 200
      }
     },
     "3304195efba349d9bcea6510a1a849ed": {
      "model_module": "@jupyter-widgets/controls",
      "model_module_version": "2.0.0",
      "model_name": "TextModel",
      "state": {
       "description": "Sample ID:",
       "layout": "IPY_MODEL_d74b925153ef453ba3e10339c7a697fb",
       "style": "IPY_MODEL_6781a687519542b9bfc988119fde2a5e",
       "value": "Sample-A"
      }
     },
     "3403a64343a04b9494480eaf40bddcde": {
      "model_module": "@jupyter-widgets/controls",
      "model_module_version": "2.0.0",
      "model_name": "FloatTextModel",
      "state": {
       "description": "Trial 3 – σ₃ (kPa)",
       "layout": "IPY_MODEL_faab2f380486467c809fbc8d9d1431c8",
       "step": null,
       "style": "IPY_MODEL_7c499418e4504e04a75cb0a2814b57d2",
       "value": 200
      }
     },
     "3c6190cc0acf48ab91b99716e9cc5a92": {
      "model_module": "@jupyter-widgets/controls",
      "model_module_version": "2.0.0",
      "model_name": "DescriptionStyleModel",
      "state": {
       "description_width": "180px"
      }
     },
     "468a09cb0a6b446d85898c70a1f15342": {
      "model_module": "@jupyter-widgets/controls",
      "model_module_version": "2.0.0",
      "model_name": "SliderStyleModel",
      "state": {
       "description_width": "180px"
      }
     },
     "4d6b75064d7f4277bc3aae840b23b7bb": {
      "model_module": "@jupyter-widgets/controls",
      "model_module_version": "2.0.0",
      "model_name": "FloatTextModel",
      "state": {
       "description": "Diameter (m):",
       "layout": "IPY_MODEL_faab2f380486467c809fbc8d9d1431c8",
       "step": null,
       "style": "IPY_MODEL_149b812990934ed2a91944331777e0c6",
       "value": 0.038
      }
     },
     "4fff028120c5463aa64da1c935622679": {
      "model_module": "@jupyter-widgets/controls",
      "model_module_version": "2.0.0",
      "model_name": "DescriptionStyleModel",
      "state": {
       "description_width": "180px"
      }
     },
     "510cd8da116a4722917d86ff796be3e0": {
      "model_module": "@jupyter-widgets/controls",
      "model_module_version": "2.0.0",
      "model_name": "DescriptionStyleModel",
      "state": {
       "description_width": "200px"
      }
     },
     "52bdde6a84dd49e4bc59aed27e53753c": {
      "model_module": "@jupyter-widgets/controls",
      "model_module_version": "2.0.0",
      "model_name": "FloatTextModel",
      "state": {
       "description": "Trial 3 – σ₁ (kPa)",
       "layout": "IPY_MODEL_d74b925153ef453ba3e10339c7a697fb",
       "step": null,
       "style": "IPY_MODEL_21dce50b183d44c2bcdcf2c28bcacd08",
       "value": 220
      }
     },
     "5425a954ddc34822b9b858cdb84ed9b8": {
      "model_module": "@jupyter-widgets/base",
      "model_module_version": "2.0.0",
      "model_name": "LayoutModel",
      "state": {}
     },
     "54bcc8638bda471b98db045dadaa996f": {
      "model_module": "@jupyter-widgets/controls",
      "model_module_version": "2.0.0",
      "model_name": "FloatTextModel",
      "state": {
       "description": "Trial 1 – σ₁ (kPa)",
       "layout": "IPY_MODEL_d74b925153ef453ba3e10339c7a697fb",
       "step": null,
       "style": "IPY_MODEL_7f30aacf882048ea8c159fc8ab2fc906",
       "value": 120
      }
     },
     "5910cb4804444530a515532db36816a4": {
      "model_module": "@jupyter-widgets/controls",
      "model_module_version": "2.0.0",
      "model_name": "FloatTextModel",
      "state": {
       "description": "Trial 1 – σ₃ (kPa)",
       "layout": "IPY_MODEL_faab2f380486467c809fbc8d9d1431c8",
       "step": null,
       "style": "IPY_MODEL_0cb288e286984b63827ecfd11bec1a06",
       "value": 100
      }
     },
     "59f806abc02a49619393b2a4d8176101": {
      "model_module": "@jupyter-widgets/controls",
      "model_module_version": "2.0.0",
      "model_name": "FloatTextModel",
      "state": {
       "description": "Height (m):",
       "layout": "IPY_MODEL_faab2f380486467c809fbc8d9d1431c8",
       "step": null,
       "style": "IPY_MODEL_fd3897deb51b46ac95fce07df1a6cf22",
       "value": 0.076
      }
     },
     "60c42da1f80d40b382e5e5e80f91dcc7": {
      "model_module": "@jupyter-widgets/controls",
      "model_module_version": "2.0.0",
      "model_name": "VBoxModel",
      "state": {
       "children": [
        "IPY_MODEL_0d93abd30c2c402aa8b2e0b0f57ade85",
        "IPY_MODEL_54bcc8638bda471b98db045dadaa996f",
        "IPY_MODEL_a7ac1f6989d442a5adb063c0685b54fb",
        "IPY_MODEL_2117902cdfbd405991b6d614921dbc77",
        "IPY_MODEL_32e03257f3334326b48808e603b17af2",
        "IPY_MODEL_52bdde6a84dd49e4bc59aed27e53753c"
       ],
       "layout": "IPY_MODEL_0e60d66923b34d9da195d452ea35c56d"
      }
     },
     "61c714d417a542c8a6e23507c3035727": {
      "model_module": "@jupyter-widgets/controls",
      "model_module_version": "2.0.0",
      "model_name": "ButtonModel",
      "state": {
       "description": "Analyze UU Data",
       "layout": "IPY_MODEL_1aeb6af066ea4f93a169c41094d1b0cd",
       "style": "IPY_MODEL_66bfc80f296645708859938cf8b43549",
       "tooltip": null
      }
     },
     "66bfc80f296645708859938cf8b43549": {
      "model_module": "@jupyter-widgets/controls",
      "model_module_version": "2.0.0",
      "model_name": "ButtonStyleModel",
      "state": {
       "font_family": null,
       "font_size": null,
       "font_style": null,
       "font_variant": null,
       "font_weight": null,
       "text_color": null,
       "text_decoration": null
      }
     },
     "6781a687519542b9bfc988119fde2a5e": {
      "model_module": "@jupyter-widgets/controls",
      "model_module_version": "2.0.0",
      "model_name": "TextStyleModel",
      "state": {
       "description_width": "200px",
       "font_size": null,
       "text_color": null
      }
     },
     "687c309e608c48be9958f067e93d8410": {
      "model_module": "@jupyter-widgets/controls",
      "model_module_version": "2.0.0",
      "model_name": "FloatTextModel",
      "state": {
       "description": "Trial 2 – σ₁ (kPa)",
       "layout": "IPY_MODEL_faab2f380486467c809fbc8d9d1431c8",
       "step": null,
       "style": "IPY_MODEL_15ca577794b44c639adaad4102e2db22",
       "value": 180
      }
     },
     "6a865c52aae843efa0a57807b003c71e": {
      "model_module": "@jupyter-widgets/controls",
      "model_module_version": "2.0.0",
      "model_name": "SliderStyleModel",
      "state": {
       "description_width": "200px"
      }
     },
     "6c56be61fe724d6186287d69b15d85ac": {
      "model_module": "@jupyter-widgets/controls",
      "model_module_version": "2.0.0",
      "model_name": "IntSliderModel",
      "state": {
       "behavior": "drag-tap",
       "description": "Number of Trials:",
       "layout": "IPY_MODEL_d74b925153ef453ba3e10339c7a697fb",
       "max": 10,
       "min": 1,
       "style": "IPY_MODEL_6a865c52aae843efa0a57807b003c71e",
       "value": 3
      }
     },
     "7162e240f5d54577a608e5da240c3ba0": {
      "model_module": "@jupyter-widgets/controls",
      "model_module_version": "2.0.0",
      "model_name": "DescriptionStyleModel",
      "state": {
       "description_width": "200px"
      }
     },
     "7557fd1ba3e243a1b7a57bbdd1a6e9b7": {
      "model_module": "@jupyter-widgets/controls",
      "model_module_version": "2.0.0",
      "model_name": "VBoxModel",
      "state": {
       "children": [
        "IPY_MODEL_5910cb4804444530a515532db36816a4",
        "IPY_MODEL_8b1a415c817d45f689a1f7914cd53aea",
        "IPY_MODEL_912aa3a2a89340808946887d66b9df9e",
        "IPY_MODEL_687c309e608c48be9958f067e93d8410",
        "IPY_MODEL_3403a64343a04b9494480eaf40bddcde",
        "IPY_MODEL_b5de6632eaf64b7995b6611093748c60"
       ],
       "layout": "IPY_MODEL_5425a954ddc34822b9b858cdb84ed9b8"
      }
     },
     "7c499418e4504e04a75cb0a2814b57d2": {
      "model_module": "@jupyter-widgets/controls",
      "model_module_version": "2.0.0",
      "model_name": "DescriptionStyleModel",
      "state": {
       "description_width": "180px"
      }
     },
     "7e43b176e4214b928c193bdd20149bdf": {
      "model_module": "@jupyter-widgets/base",
      "model_module_version": "2.0.0",
      "model_name": "LayoutModel",
      "state": {}
     },
     "7f30aacf882048ea8c159fc8ab2fc906": {
      "model_module": "@jupyter-widgets/controls",
      "model_module_version": "2.0.0",
      "model_name": "DescriptionStyleModel",
      "state": {
       "description_width": "200px"
      }
     },
     "877e67ed882c40ea9798bdfe42860f7e": {
      "model_module": "@jupyter-widgets/controls",
      "model_module_version": "2.0.0",
      "model_name": "ButtonModel",
      "state": {
       "description": "Analyze UU Data",
       "layout": "IPY_MODEL_e7f7a79f169143e1911c930704957ed8",
       "style": "IPY_MODEL_2e1ce8f29ee24568adafcfcfb8039197",
       "tooltip": null
      }
     },
     "8b1a415c817d45f689a1f7914cd53aea": {
      "model_module": "@jupyter-widgets/controls",
      "model_module_version": "2.0.0",
      "model_name": "FloatTextModel",
      "state": {
       "description": "Trial 1 – σ₁ (kPa)",
       "layout": "IPY_MODEL_faab2f380486467c809fbc8d9d1431c8",
       "step": null,
       "style": "IPY_MODEL_102b4dd54a0d4cd0a1badce1f684fb3b",
       "value": 130
      }
     },
     "8b8a0d61abb74edfab8f21eb913bff57": {
      "model_module": "@jupyter-widgets/controls",
      "model_module_version": "2.0.0",
      "model_name": "FloatTextModel",
      "state": {
       "description": "Height (m):",
       "layout": "IPY_MODEL_d74b925153ef453ba3e10339c7a697fb",
       "step": null,
       "style": "IPY_MODEL_e37e4a36c6364ce3bd3846a27cf98867",
       "value": 0.076
      }
     },
     "912aa3a2a89340808946887d66b9df9e": {
      "model_module": "@jupyter-widgets/controls",
      "model_module_version": "2.0.0",
      "model_name": "FloatTextModel",
      "state": {
       "description": "Trial 2 – σ₃ (kPa)",
       "layout": "IPY_MODEL_faab2f380486467c809fbc8d9d1431c8",
       "step": null,
       "style": "IPY_MODEL_4fff028120c5463aa64da1c935622679",
       "value": 150
      }
     },
     "a09c1a2d3df5421dbe7e6aff5f93010c": {
      "model_module": "@jupyter-widgets/controls",
      "model_module_version": "2.0.0",
      "model_name": "DescriptionStyleModel",
      "state": {
       "description_width": "200px"
      }
     },
     "a7ac1f6989d442a5adb063c0685b54fb": {
      "model_module": "@jupyter-widgets/controls",
      "model_module_version": "2.0.0",
      "model_name": "FloatTextModel",
      "state": {
       "description": "Trial 2 – σ₃ (kPa)",
       "layout": "IPY_MODEL_d74b925153ef453ba3e10339c7a697fb",
       "step": null,
       "style": "IPY_MODEL_510cd8da116a4722917d86ff796be3e0",
       "value": 150
      }
     },
     "b5de6632eaf64b7995b6611093748c60": {
      "model_module": "@jupyter-widgets/controls",
      "model_module_version": "2.0.0",
      "model_name": "FloatTextModel",
      "state": {
       "description": "Trial 3 – σ₁ (kPa)",
       "layout": "IPY_MODEL_faab2f380486467c809fbc8d9d1431c8",
       "step": null,
       "style": "IPY_MODEL_3c6190cc0acf48ab91b99716e9cc5a92",
       "value": 230
      }
     },
     "c9087a74d0e042af88c1f21751b6019b": {
      "model_module": "@jupyter-widgets/controls",
      "model_module_version": "2.0.0",
      "model_name": "TextStyleModel",
      "state": {
       "description_width": "180px",
       "font_size": null,
       "text_color": null
      }
     },
     "cf091f2d88874cee868e24d3871af41b": {
      "model_module": "@jupyter-widgets/controls",
      "model_module_version": "2.0.0",
      "model_name": "VBoxModel",
      "state": {
       "children": [
        "IPY_MODEL_034f86bbe2c048d49e5a392d6b43d813",
        "IPY_MODEL_4d6b75064d7f4277bc3aae840b23b7bb",
        "IPY_MODEL_59f806abc02a49619393b2a4d8176101",
        "IPY_MODEL_074b96c7452846db8153e02d92f44020",
        "IPY_MODEL_7557fd1ba3e243a1b7a57bbdd1a6e9b7",
        "IPY_MODEL_877e67ed882c40ea9798bdfe42860f7e"
       ],
       "layout": "IPY_MODEL_13a60bed3ccd4f1080a2543194265ee2"
      }
     },
     "d74b925153ef453ba3e10339c7a697fb": {
      "model_module": "@jupyter-widgets/base",
      "model_module_version": "2.0.0",
      "model_name": "LayoutModel",
      "state": {
       "width": "400px"
      }
     },
     "d869ca6285954040aba54a91b8a2e8fd": {
      "model_module": "@jupyter-widgets/controls",
      "model_module_version": "2.0.0",
      "model_name": "DescriptionStyleModel",
      "state": {
       "description_width": "200px"
      }
     },
     "e37e4a36c6364ce3bd3846a27cf98867": {
      "model_module": "@jupyter-widgets/controls",
      "model_module_version": "2.0.0",
      "model_name": "DescriptionStyleModel",
      "state": {
       "description_width": "200px"
      }
     },
     "e7f7a79f169143e1911c930704957ed8": {
      "model_module": "@jupyter-widgets/base",
      "model_module_version": "2.0.0",
      "model_name": "LayoutModel",
      "state": {
       "width": "250px"
      }
     },
     "ed54b95ffa934485865cdff332498061": {
      "model_module": "@jupyter-widgets/controls",
      "model_module_version": "2.0.0",
      "model_name": "VBoxModel",
      "state": {
       "children": [
        "IPY_MODEL_3304195efba349d9bcea6510a1a849ed",
        "IPY_MODEL_0f14d6f050e44d59a1bfaf6da8334bb1",
        "IPY_MODEL_8b8a0d61abb74edfab8f21eb913bff57",
        "IPY_MODEL_6c56be61fe724d6186287d69b15d85ac",
        "IPY_MODEL_60c42da1f80d40b382e5e5e80f91dcc7",
        "IPY_MODEL_61c714d417a542c8a6e23507c3035727"
       ],
       "layout": "IPY_MODEL_7e43b176e4214b928c193bdd20149bdf"
      }
     },
     "faab2f380486467c809fbc8d9d1431c8": {
      "model_module": "@jupyter-widgets/base",
      "model_module_version": "2.0.0",
      "model_name": "LayoutModel",
      "state": {
       "width": "380px"
      }
     },
     "fd3897deb51b46ac95fce07df1a6cf22": {
      "model_module": "@jupyter-widgets/controls",
      "model_module_version": "2.0.0",
      "model_name": "DescriptionStyleModel",
      "state": {
       "description_width": "180px"
      }
     }
    },
    "version_major": 2,
    "version_minor": 0
   }
  }
 },
 "nbformat": 4,
 "nbformat_minor": 5
}
