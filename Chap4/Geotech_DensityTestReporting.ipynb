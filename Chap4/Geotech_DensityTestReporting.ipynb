{
 "cells": [
  {
   "cell_type": "markdown",
   "id": "a6fc5e53-8334-460c-bcb4-6c429c5cc68b",
   "metadata": {},
   "source": [
    "# Chapter 6 Geotech Engineering Laboratory: Soil Density"
   ]
  },
  {
   "cell_type": "markdown",
   "id": "edd78020-eb22-4605-ae56-69676500b667",
   "metadata": {},
   "source": [
    "1. [Introduction: Soil Density Lab](#1.-Introduction)\n",
    "2. [Simulation: Procter density Test](#2.-Simulation)\n",
    "3. [Simulation: Sand Cone Test](#3.-Simulation)\n",
    "4. [Self-Assessment](#4.-Self-Assessment)"
   ]
  },
  {
   "cell_type": "markdown",
   "id": "a7b3c86f-8391-4192-82c2-47a0a2466c29",
   "metadata": {},
   "source": [
    "## 1. Introduction"
   ]
  },
  {
   "cell_type": "markdown",
   "id": "8b04c59c-b42e-4f27-aa5f-ee4997866053",
   "metadata": {},
   "source": [
    "### 🧱 Soil Density in Geotechnical Engineering\n",
    "\n",
    "### 📘 Definition\n",
    "**Soil density** refers to the mass of soil per unit volume. It's a key parameter in assessing compaction, load-bearing capacity, permeability, and stability of soil for construction and geotechnical applications.\n",
    "\n",
    "### Types of Soil Density\n",
    "| Type            | Description                                              |\n",
    "|------------------|----------------------------------------------------------|\n",
    "| **Bulk Density** | Includes moisture; total mass per unit volume            |\n",
    "| **Dry Density**  | Mass of solids only, per unit volume (moisture excluded) |\n",
    "| **Maximum Dry Density (MDD)** | Highest dry density achievable with optimal moisture |\n",
    "| **Relative Density** | Ratio of field density to lab density (used for granular soils) |\n",
    "\n",
    "---\n",
    "\n",
    "### 🎯 Importance in Geotechnical Engineering\n",
    "\n",
    "- **Foundation Stability**: Influences settlement and bearing capacity\n",
    "- **Compaction Control**: Ensures strength, minimizes voids\n",
    "- **Permeability & Drainage**: Affects water movement and seepage\n",
    "- **Slope & Embankment Safety**: Critical in evaluating failure risk\n",
    "- **Earthworks Quality Assurance**: Used to validate construction standards\n",
    "\n",
    "---\n",
    "\n",
    "### 🧪 Lab Measurement – Proctor Compaction Test\n",
    "\n",
    "### Methods:\n",
    "| Type                 | ASTM Standard | Energy Applied        | Use Case                     |\n",
    "|----------------------|----------------|------------------------|-------------------------------|\n",
    "| **Standard Proctor** | ASTM D698      | 12,300 ft-lbf/ft³      | Residential & non-critical fill |\n",
    "| **Modified Proctor** | ASTM D1557     | 56,000 ft-lbf/ft³      | Highways, airports, structural fill |\n",
    "\n",
    "### Test Principle:\n",
    "- Compact soil in a mold at varied moisture contents\n",
    "- Record wet mass and compute **dry density**\n",
    "- Plot **dry density vs. moisture content**\n",
    "- Peak defines **maximum dry density** and **optimum moisture**\n",
    "\n",
    "### Key Equations:\n",
    "- **Bulk Density**:  \n",
    "  $( \\rho_{bulk} = \\frac{M_{wet} - M_{mold}}{V_{mold}} $)\n",
    "- **Dry Density**:  \n",
    "  $( \\rho_{dry} = \\frac{\\rho_{bulk}}{1 + w} $)  \n",
    "  Where \\( w \\) is moisture fraction (e.g., 12% → 0.12)\n",
    "\n",
    "---\n",
    "\n",
    "### 🏜️ Field Measurement – Sand Cone Test\n",
    "\n",
    "### Standard: ASTM D1556  \n",
    "Used to measure **in-place density** of compacted soil in the field.\n",
    "\n",
    "### Procedure:\n",
    "1. Excavate a small test hole\n",
    "2. Fill hole with calibrated dry sand using cone apparatus\n",
    "3. Weigh sand used and calculate hole volume\n",
    "4. Weigh excavated soil and moisture content\n",
    "5. Compute bulk and dry densities, then compare to lab reference\n",
    "\n",
    "### Equations:\n",
    "- **Hole Volume**:  \n",
    "  \\( V = \\frac{M_{sand}}{\\rho_{sand}} - V_{cone} \\)\n",
    "- **Dry Density**:  \n",
    "  \\( \\rho_{dry} = \\frac{M_{soil}}{V \\times (1 + w)} \\)\n",
    "\n",
    "### Acceptance:\n",
    "- **≥ 95% of lab dry density** → Structural zones\n",
    "- **90–95%** → General backfill\n",
    "- **< 90%** → May require moisture correction or re-compaction\n",
    "\n",
    "---\n",
    "\n",
    "Would you like a comparison table between Proctor and Sand Cone methods for teaching purposes or a plotting module for moisture vs. density visualization?"
   ]
  },
  {
   "cell_type": "markdown",
   "id": "b1c0cfa8-daf2-4caf-8d5c-7d86121d316d",
   "metadata": {},
   "source": [
    "## 2. Simulation"
   ]
  },
  {
   "cell_type": "markdown",
   "id": "f0a7f5c6-95fa-4839-a91d-6975bf876e86",
   "metadata": {},
   "source": [
    "### 🧱 Interactive Proctor Soil Compaction Tool Summary\n",
    "\n",
    "### 📘 What It Is\n",
    "A Jupyter-based widget tool for entering and evaluating lab test data from a **Proctor compaction test**. It calculates dry densities for each trial, identifies the **maximum dry density** and **optimum moisture content**, and provides automated compaction recommendations.\n",
    "\n",
    "---\n",
    "\n",
    "### ⚙️ How It Works\n",
    "\n",
    "### 🔧 Inputs\n",
    "- **Number of Trials**: Adjustable with a slider (1–10)\n",
    "- **Mold Mass & Volume**: Constants used across all trials\n",
    "- **Trial Inputs**: Moisture content (%) and wet mass (kg) entered per trial\n",
    "\n",
    "### 🔢 Computation Logic\n",
    "- Calculates:\n",
    "  - Bulk Density:  \n",
    "    $( \\rho_{bulk} = \\frac{M_{wet} - M_{mold}}{V_{mold}} $)\n",
    "  - Dry Density:  \n",
    "    $( \\rho_{dry} = \\frac{\\rho_{bulk}}{1 + w} $), where $( w $) is moisture fraction\n",
    "- Finds trial with **maximum dry density**\n",
    "- Assesses if results meet compaction specs\n",
    "\n",
    "---\n",
    "\n",
    "### 🧱 Proctor Soil Compaction Methods – U.S. Standards & Procedures\n",
    "\n",
    "### 📑 U.S. Standards Overview\n",
    "\n",
    "| Method              | ASTM Standard        | Common Name                    | Energy Applied                 |\n",
    "|---------------------|----------------------|--------------------------------|-------------------------------|\n",
    "| **Standard Proctor**| ASTM D698            | \"Classical Method\"             | 12,300 ft-lbf/ft³             |\n",
    "| **Modified Proctor**| ASTM D1557           | \"Modified Energy Method\"       | 56,000 ft-lbf/ft³             |\n",
    "\n",
    "---\n",
    "\n",
    "### ⚙️ Procedure Comparison Table\n",
    "\n",
    "| Step                      | Standard Proctor (D698)                               | Modified Proctor (D1557)                          |\n",
    "|---------------------------|-------------------------------------------------------|--------------------------------------------------|\n",
    "| **Mold Size**             | 1/30 ft³ (4-inch diameter)                            | Same or 1/13.33 ft³ (6-inch diameter)            |\n",
    "| **Compaction Layers**     | 3 layers                                              | 5 layers                                         |\n",
    "| **Hammer Weight**         | 5.5 lb                                                | 10 lb                                            |\n",
    "| **Drop Height**           | 12 inches                                             | 18 inches                                        |\n",
    "| **Number of Blows/layer** | 25                                                    | 25                                               |\n",
    "| **Moisture Variation**    | Multiple trials with varying moisture                 | Multiple trials with varying moisture            |\n",
    "| **Measurements Taken**    | Wet mass, mold volume, moisture content               | Same                                             |\n",
    "| **Calculated Outputs**    | Bulk density, dry density, compaction curve, optimum moisture | Same                                     |\n",
    "| **Application**           | Residential, embankments, non-critical fills          | Airports, highways, structural fills             |\n",
    "\n",
    "---\n",
    "\n",
    "### 📐 Interpretation Notes\n",
    "\n",
    "- **Bulk Density**:  \n",
    "  $( \\rho_{bulk} = \\frac{M_{wet} - M_{mold}}{V_{mold}} $)\n",
    "\n",
    "- **Dry Density**:  \n",
    "  $( \\rho_{dry} = \\frac{\\rho_{bulk}}{1 + w} $), where $( w $) is moisture fraction\n",
    "\n",
    "- **Curve Analysis**:  \n",
    "  Peak of dry density vs. moisture content curve defines:\n",
    "  - **Maximum Dry Density (MDD)**\n",
    "  - **Optimum Moisture Content (OMC)**\n",
    "\n",
    "---\n",
    "\n",
    "### 📊 Output & Interpretation\n",
    "\n",
    "| Output Metric               | What It Means                                                  |\n",
    "|-----------------------------|-----------------------------------------------------------------|\n",
    "| **Dry Density Table**       | Summary per trial showing moisture, mass, bulk and dry densities |\n",
    "| **Maximum Dry Density**     | Indicates the peak compaction achieved in lab                  |\n",
    "| **Optimum Moisture Content**| Moisture level where compaction peaked                         |\n",
    "| **Density Recommendation**  | Evaluates suitability for field applications                   |\n",
    "| **Moisture Recommendation** | Flags moisture content alignment with cohesive soil norms      |\n",
    "\n",
    "---\n",
    "\n",
    "✅ Use this tool to validate field compaction targets, interpret lab data trends, and train learners on soil behavior under controlled moisture conditions."
   ]
  },
  {
   "cell_type": "code",
   "execution_count": 12,
   "id": "7385435c-18c6-4d6d-8121-8900aad82bee",
   "metadata": {},
   "outputs": [
    {
     "data": {
      "application/vnd.jupyter.widget-view+json": {
       "model_id": "7b7dc10a65744fdb9907533bdf5e0746",
       "version_major": 2,
       "version_minor": 0
      },
      "text/plain": [
       "VBox(children=(IntSlider(value=5, description='Number of Trials:', max=10, min=1), VBox(children=(FloatText(va…"
      ]
     },
     "metadata": {},
     "output_type": "display_data"
    }
   ],
   "source": [
    "import numpy as np\n",
    "import pandas as pd\n",
    "import ipywidgets as widgets\n",
    "from IPython.display import Markdown, display\n",
    "\n",
    "# 📋 Setup input widgets\n",
    "num_trials = widgets.IntSlider(value=5, min=1, max=10, description='Number of Trials:')\n",
    "mass_mold_input = widgets.FloatText(value=2.10, description='Mold Mass (kg):')\n",
    "volume_input = widgets.FloatText(value=0.00100, description='Mold Volume (m³):')\n",
    "\n",
    "# Function to generate inputs for each trial\n",
    "def generate_trial_inputs(n):\n",
    "    trial_widgets = []\n",
    "    for i in range(n):\n",
    "        moisture = widgets.FloatText(value=12 + i*1.5, description=f'Moisture % (Trial {i+1})')\n",
    "        mass_wet = widgets.FloatText(value=4.2 + i*0.1, description=f'Wet Mass (kg, Trial {i+1})')\n",
    "        trial_widgets.append((moisture, mass_wet))\n",
    "    return trial_widgets\n",
    "\n",
    "trial_data = generate_trial_inputs(num_trials.value)\n",
    "\n",
    "def update_trials(change):\n",
    "    global trial_data\n",
    "    trial_data = generate_trial_inputs(change['new'])\n",
    "    input_box.children = [mass_mold_input, volume_input] + [w for pair in trial_data for w in pair]\n",
    "\n",
    "num_trials.observe(update_trials, names='value')\n",
    "input_box = widgets.VBox([mass_mold_input, volume_input] + [w for pair in trial_data for w in pair])\n",
    "\n",
    "run_button = widgets.Button(description='Generate Report')\n",
    "\n",
    "# 📊 Evaluation logic\n",
    "def evaluate_compaction(max_dry_density, optimum_moisture):\n",
    "    if max_dry_density >= 1800:\n",
    "        density_status = \"✅ Suitable for highway subgrade or structural fill.\"\n",
    "    elif max_dry_density >= 1600:\n",
    "        density_status = \"⚠️ Acceptable for general backfill, but not load-bearing zones.\"\n",
    "    else:\n",
    "        density_status = \"❌ Unsuitable for critical applications—consider reprocessing or additives.\"\n",
    "\n",
    "    if 10 <= optimum_moisture <= 18:\n",
    "        moisture_status = \"✅ Moisture content falls within typical optimum range for cohesive soils.\"\n",
    "    else:\n",
    "        moisture_status = \"⚠️ Moisture content may be too low/high—field adjustment recommended.\"\n",
    "\n",
    "    return density_status, moisture_status\n",
    "\n",
    "# 🧱 Calculation and Markdown display\n",
    "def on_run_click(b):\n",
    "    entries = []\n",
    "    mold_mass = mass_mold_input.value\n",
    "    V = volume_input.value\n",
    "\n",
    "    for pair in trial_data:\n",
    "        moisture = pair[0].value / 100\n",
    "        wet_mass = pair[1].value\n",
    "        bulk_density = (wet_mass - mold_mass) / V\n",
    "        dry_density = bulk_density / (1 + moisture)\n",
    "        entries.append({\n",
    "            'moisture': round(pair[0].value, 1),\n",
    "            'mass_wet': round(wet_mass, 2),\n",
    "            'bulk_density': round(bulk_density, 2),\n",
    "            'dry_density': round(dry_density, 2)\n",
    "        })\n",
    "\n",
    "    df = pd.DataFrame(entries)\n",
    "    idx_max = df['dry_density'].idxmax()\n",
    "    max_dry_density = df.loc[idx_max, 'dry_density']\n",
    "    optimum_moisture = df.loc[idx_max, 'moisture']\n",
    "    density_status, moisture_status = evaluate_compaction(max_dry_density, optimum_moisture)\n",
    "\n",
    "    # 📄 Report generation\n",
    "    report = f\"\"\"\n",
    "### 🧱 Proctor Soil Compaction Report\n",
    "\n",
    "| Trial | Moisture Content (%) | Wet Mass (kg) | Bulk Density (kg/m³) | Dry Density (kg/m³) |\n",
    "|-------|----------------------|----------------|------------------------|----------------------|\n",
    "\"\"\"\n",
    "    for i, row in df.iterrows():\n",
    "        report += f\"| {i+1} | {row['moisture']:.1f} | {row['mass_wet']:.2f} | {row['bulk_density']:.2f} | {row['dry_density']:.2f} |\\n\"\n",
    "\n",
    "    report += f\"\"\"\n",
    "\n",
    "#### 🔍 Key Results\n",
    "- **Maximum Dry Density**: {max_dry_density:.2f} kg/m³  \n",
    "- **Optimum Moisture Content**: {optimum_moisture:.1f} %\n",
    "\n",
    "---\n",
    "\n",
    "### 🧭 Interpretation & Recommendations\n",
    "- **Density Assessment**: {density_status}  \n",
    "- **Moisture Assessment**: {moisture_status}\n",
    "\"\"\"\n",
    "\n",
    "    display(Markdown(report))\n",
    "\n",
    "run_button.on_click(on_run_click)\n",
    "\n",
    "display(widgets.VBox([num_trials, input_box, run_button]))"
   ]
  },
  {
   "cell_type": "markdown",
   "id": "ac73b5a5-9eaa-4cc2-ad83-9722f71bef63",
   "metadata": {},
   "source": [
    "## 3. Simulation"
   ]
  },
  {
   "cell_type": "markdown",
   "id": "cb55a2ee-bda6-4d1b-bb88-7ce1a42a7c36",
   "metadata": {},
   "source": [
    "### 🏜️ Sand Cone Test Report – Field Soil Density Determination (ASTM D1556)\n",
    "\n",
    "### 📋 Test Summary\n",
    "\n",
    "The sand cone method is used to determine the **in-place density** of compacted soil in the field. It compares the mass of soil excavated to the volume filled by calibrated sand from the cone apparatus.\n",
    "\n",
    "---\n",
    "\n",
    "### 🧪 Input Parameters\n",
    "\n",
    "| Parameter                   | Symbol      | Unit       | Description                                       |\n",
    "|----------------------------|-------------|------------|---------------------------------------------------|\n",
    "| Mass of Cone + Sand (Before) | \\( M_1 \\)    | kg         | Apparatus + sand before test                      |\n",
    "| Mass of Cone + Sand (After)  | \\( M_2 \\)    | kg         | Apparatus + sand after filling hole               |\n",
    "| Calibration Density of Sand  | \\( \\rho_{sand} \\) | kg/m³     | Known bulk density of calibration sand            |\n",
    "| Mass of Excavated Soil       | \\( M_{soil} \\) | kg         | Mass of soil removed from test hole               |\n",
    "| Moisture Content             | \\( w \\)      | %          | Lab-tested moisture content of excavated soil     |\n",
    "\n",
    "---\n",
    "\n",
    "### ⚙️ Computation\n",
    "\n",
    "### 1. Volume of Test Hole  \n",
    "$( V = \\frac{M_1 - M_2}{\\rho_{sand}} $)  \n",
    "*Mass of sand poured divided by calibration density*\n",
    "\n",
    "### 2. Bulk Density  \n",
    "$( \\rho_{bulk} = \\frac{M_{soil}}{V} $)\n",
    "\n",
    "### 3. Dry Density  \n",
    "$( \\rho_{dry} = \\frac{\\rho_{bulk}}{1 + \\frac{w}{100}} $)\n",
    "\n",
    "---\n",
    "\n",
    "### 🛠️ Corrections in Sand Cone Test\n",
    "\n",
    "### 📏 1. Apparatus Calibration\n",
    "| Correction Type           | Description                                                       |\n",
    "|---------------------------|-------------------------------------------------------------------|\n",
    "| **Sand Density Calibration** | Ensure sand used has known unit weight (dry) via standard mold   |\n",
    "| **Cone Volume Adjustment**   | Account for volume in the cone tip that doesn't enter the hole    |\n",
    "\n",
    "### 🧪 2. Moisture Content Correction\n",
    "| Correction Type           | Description                                                       |\n",
    "|---------------------------|-------------------------------------------------------------------|\n",
    "| **Dry Density Adjustment**   | Bulk density converted to dry density using lab moisture content |\n",
    "| **Evaporative Losses**       | Prevent moisture evaporation between excavation and lab weighing |\n",
    "\n",
    "### ⚙️ 3. Excavation Volume Correction\n",
    "| Correction Type           | Description                                                       |\n",
    "|---------------------------|-------------------------------------------------------------------|\n",
    "| **Over-excavation**          | Correct if the hole is excessively large or irregular in shape   |\n",
    "| **Collapsing Walls**         | Account for soil collapsing which artificially increases volume  |\n",
    "\n",
    "### 🌡️ 4. Environmental Factors\n",
    "| Correction Type           | Description                                                       |\n",
    "|---------------------------|-------------------------------------------------------------------|\n",
    "| **Temperature Effects**      | Sand density varies with thermal expansion in extreme conditions |\n",
    "| **Wind/Handling Losses**     | Fine sand or soil particles lost during transfer                 |\n",
    "\n",
    "### 📊 5. Field vs. Lab Density Comparison\n",
    "| Correction Type           | Description                                                       |\n",
    "|---------------------------|-------------------------------------------------------------------|\n",
    "| **Compaction Ratio**        | Compute field dry density as % of lab Proctor max dry density    |\n",
    "| **Specification Thresholds**| Adjust acceptance based on project-specific compaction targets   |\n",
    "\n",
    "---\n",
    "\n",
    "\n",
    "### 📄 Sample Output Table\n",
    "\n",
    "| Trial | Sand Before (kg) | Sand After (kg) | Excavated Soil (kg) | Moisture (%) | Bulk Density (kg/m³) | Dry Density (kg/m³) |\n",
    "|-------|------------------|-----------------|----------------------|---------------|-----------------------|---------------------|\n",
    "| 1     | 12.50            | 10.10           | 3.85                 | 11.5          | 1604.17               | 1438.83             |\n",
    "| 2     | 12.40            | 10.05           | 3.90                 | 12.0          | 1630.43               | 1456.63             |\n",
    "\n",
    "---\n",
    "\n",
    "### 🧭 Interpretation\n",
    "\n",
    "- **Compare dry density** to lab Proctor maximum to assess compaction adequacy\n",
    "- Typical field compaction requirements:\n",
    "  - Structural fill: ≥ 95% of Modified Proctor\n",
    "  - Subgrade/backfill: ≥ 90% of Standard Proctor\n",
    "- If dry density is low, moisture adjustment or re-compaction may be needed\n",
    "\n",
    "---"
   ]
  },
  {
   "cell_type": "code",
   "execution_count": 9,
   "id": "80e91204-f5ad-428f-8917-1bb4ccb3d271",
   "metadata": {},
   "outputs": [
    {
     "data": {
      "application/vnd.jupyter.widget-view+json": {
       "model_id": "329c6553b7624fc4b0afacf8dc136b66",
       "version_major": 2,
       "version_minor": 0
      },
      "text/plain": [
       "VBox(children=(IntSlider(value=2, description='No. of Trials:', layout=Layout(width='450px'), max=10, min=1, s…"
      ]
     },
     "metadata": {},
     "output_type": "display_data"
    }
   ],
   "source": [
    "import pandas as pd\n",
    "import ipywidgets as widgets\n",
    "from IPython.display import Markdown, display\n",
    "\n",
    "# 💡 Style for wide labels and input alignment\n",
    "label_style = {'description_width': '250px'}\n",
    "input_layout = widgets.Layout(width='450px')\n",
    "\n",
    "# 🔧 Reference Inputs with styling\n",
    "rho_sand_input = widgets.FloatText(\n",
    "    value=1550.0, description='Sand Density (kg/m³):',\n",
    "    style=label_style, layout=input_layout)\n",
    "\n",
    "cone_tip_volume_input = widgets.FloatText(\n",
    "    value=0.00001, description='Cone Tip Volume Correction (m³):',\n",
    "    style=label_style, layout=input_layout)\n",
    "\n",
    "lab_dry_density_input = widgets.FloatText(\n",
    "    value=1800.0, description='Lab Max Dry Density (kg/m³):',\n",
    "    style=label_style, layout=input_layout)\n",
    "\n",
    "num_trials = widgets.IntSlider(\n",
    "    value=2, min=1, max=10, description='No. of Trials:',\n",
    "    style=label_style, layout=input_layout)\n",
    "\n",
    "# 📋 Trial Input Generator with styled widgets\n",
    "def create_trial_inputs(n):\n",
    "    trials = []\n",
    "    for i in range(n):\n",
    "        M1 = widgets.FloatText(\n",
    "            value=12.5, description=f'Trial {i+1} – M₁: Mass Before (kg)',\n",
    "            style=label_style, layout=input_layout)\n",
    "        M2 = widgets.FloatText(\n",
    "            value=10.1, description=f'Trial {i+1} – M₂: Mass After (kg)',\n",
    "            style=label_style, layout=input_layout)\n",
    "        M_soil = widgets.FloatText(\n",
    "            value=3.85, description=f'Trial {i+1} – Excavated Soil (kg)',\n",
    "            style=label_style, layout=input_layout)\n",
    "        moisture = widgets.FloatText(\n",
    "            value=11.5, description=f'Trial {i+1} – Moisture (%)',\n",
    "            style=label_style, layout=input_layout)\n",
    "        trials.append((M1, M2, M_soil, moisture))\n",
    "    return trials\n",
    "\n",
    "trial_inputs = create_trial_inputs(num_trials.value)\n",
    "\n",
    "def update_trials(change):\n",
    "    global trial_inputs\n",
    "    trial_inputs = create_trial_inputs(change['new'])\n",
    "    trial_box.children = [rho_sand_input, cone_tip_volume_input, lab_dry_density_input] + \\\n",
    "                         [w for group in trial_inputs for w in group]\n",
    "\n",
    "num_trials.observe(update_trials, names='value')\n",
    "\n",
    "trial_box = widgets.VBox([rho_sand_input, cone_tip_volume_input, lab_dry_density_input] + \\\n",
    "                         [w for group in trial_inputs for w in group])\n",
    "\n",
    "run_btn = widgets.Button(description='Compute & Generate Report', layout=widgets.Layout(width='250px'))\n",
    "\n",
    "# 🧮 Calculation and Markdown Output\n",
    "def on_run_click(b):\n",
    "    rho_sand = rho_sand_input.value\n",
    "    cone_tip_volume = cone_tip_volume_input.value\n",
    "    lab_dry_density = lab_dry_density_input.value\n",
    "    rows = []\n",
    "\n",
    "    for i, group in enumerate(trial_inputs):\n",
    "        M1 = group[0].value\n",
    "        M2 = group[1].value\n",
    "        M_soil = group[2].value\n",
    "        moisture = group[3].value\n",
    "\n",
    "        volume = ((M1 - M2) / rho_sand) - cone_tip_volume\n",
    "        bulk_density = M_soil / volume if volume > 0 else 0\n",
    "        dry_density = bulk_density / (1 + moisture / 100) if bulk_density > 0 else 0\n",
    "        compaction = (dry_density / lab_dry_density) * 100 if lab_dry_density > 0 else 0\n",
    "\n",
    "        remark = (\n",
    "            \"✅ Pass: Suitable for structural fill\" if compaction >= 95 else\n",
    "            \"⚠️ Acceptable for subgrade/backfill\" if compaction >= 90 else\n",
    "            \"❌ Fail: Rework or adjust moisture\"\n",
    "        )\n",
    "\n",
    "        rows.append({\n",
    "            'Trial': i + 1,\n",
    "            'Volume (m³)': round(volume, 5),\n",
    "            'Bulk Density (kg/m³)': round(bulk_density, 2),\n",
    "            'Dry Density (kg/m³)': round(dry_density, 2),\n",
    "            'Compaction (%)': round(compaction, 1),\n",
    "            'Remark': remark\n",
    "        })\n",
    "\n",
    "    df = pd.DataFrame(rows)\n",
    "\n",
    "    # 📝 Markdown Report\n",
    "    report_md = \"\"\"\n",
    "### 🏜️ Sand Cone Test – Field Density Report with Corrections\n",
    "\n",
    "| Trial | Volume (m³) | Bulk Density (kg/m³) | Dry Density (kg/m³) | Compaction (%) | Remark |\n",
    "|-------|-------------|-----------------------|----------------------|----------------|--------|\n",
    "\"\"\"\n",
    "    for row in rows:\n",
    "        report_md += f\"| {row['Trial']} | {row['Volume (m³)']} | {row['Bulk Density (kg/m³)']} | {row['Dry Density (kg/m³)']} | {row['Compaction (%)']} | {row['Remark']} |\\n\"\n",
    "\n",
    "    report_md += f\"\"\"\n",
    "\n",
    "#### 📌 Reference Settings\n",
    "- **Sand Calibration Density**: {rho_sand:.1f} kg/m³  \n",
    "- **Cone Tip Volume Correction**: {cone_tip_volume:.5f} m³  \n",
    "- **Lab Max Dry Density**: {lab_dry_density:.1f} kg/m³\n",
    "\n",
    "---\n",
    "\n",
    "### 🧭 Interpretation Guide\n",
    "- **≥ 95%** → ✅ Structural zone approved  \n",
    "- **90–95%** → ⚠️ Acceptable for general fill  \n",
    "- **< 90%** → ❌ May require moisture adjustment or re-compaction\n",
    "\"\"\"\n",
    "\n",
    "    display(Markdown(report_md))\n",
    "\n",
    "run_btn.on_click(on_run_click)\n",
    "\n",
    "# 📦 Display Interface\n",
    "display(widgets.VBox([num_trials, trial_box, run_btn]))"
   ]
  },
  {
   "cell_type": "markdown",
   "id": "84ffe5c8-4c0d-43e0-b0aa-1cc4f032ef16",
   "metadata": {},
   "source": [
    "## 4. Self-Assessment"
   ]
  },
  {
   "cell_type": "markdown",
   "id": "4915d505-c907-41d3-a88e-9c85ad4f71df",
   "metadata": {},
   "source": [
    "### 🧠 Proctor Soil Compaction – Conceptual, Reflective & Quiz Questions\n",
    "\n",
    "\n",
    "### 🔍 Conceptual Questions\n",
    "\n",
    "- What is the role of dry density and moisture content in determining optimal soil compaction?\n",
    "- Why is the mold volume critical to computing bulk and dry densities accurately?\n",
    "- How does moisture content influence the ability of soil particles to rearrange and compact?\n",
    "- What distinguishes bulk density from dry density and why must moisture be corrected?\n",
    "- How do you identify optimum moisture content from a set of Proctor test trials?\n",
    "\n",
    "---\n",
    "\n",
    "### 💭 Reflective Questions\n",
    "\n",
    "- While entering trial data, which values had the greatest impact on dry density trends?\n",
    "- What might cause a trial to show lower dry density even with increasing moisture—what field behavior could that reflect?\n",
    "- Have you ever seen soil over-compacted in the field—how would dry density results confirm or challenge that impression?\n",
    "- If your optimum moisture is outside the 10–18% range, what construction concerns might you raise?\n",
    "- How confident are you in explaining the logic behind selecting 1800 kg/m³ as a pass/fail threshold for field density?\n",
    "\n",
    "---\n",
    "\n",
    "### Dry Density Calculations\n",
    "\n",
    "**Q1. Which formula correctly computes dry density from bulk density and moisture content?**  \n",
    "- A. $( \\rho_{dry} = \\rho_{bulk} / (1 + w) $) ✅  \n",
    "- B. $( \\rho_{dry} = \\rho_{bulk} \\times w $)  \n",
    "- C. $( \\rho_{dry} = \\rho_{bulk} - w $)  \n",
    "- D. $( \\rho_{dry} = \\rho_{bulk} \\times (1 + w) $)\n",
    "\n",
    "**Q2. If mold mass = 2.10 kg, wet mass = 4.40 kg, and volume = 0.001 m³, what is the bulk density?**  \n",
    "- A. 2300 kg/m³  \n",
    "- B. 2200 kg/m³  \n",
    "- C. 2300 g/cm³  \n",
    "- D. $( \\frac{4.40 - 2.10}{0.001} = $) **2300 kg/m³** ✅\n",
    "\n",
    "**Q3. Optimum moisture content corresponds to:**  \n",
    "- A. Minimum dry density  \n",
    "- B. Wettest soil possible  \n",
    "- C. Peak of dry density vs. moisture curve ✅  \n",
    "- D. Saturated soil condition\n",
    "\n",
    "### Interpretation & Specifications\n",
    "\n",
    "**Q4. Maximum dry density of 1620 kg/m³ falls into which recommendation category?**  \n",
    "- A. ✅ Suitable for structural fill  \n",
    "- B. ⚠️ Acceptable for general backfill ✅  \n",
    "- C. ❌ Unsuitable  \n",
    "- D. Requires no action\n",
    "\n",
    "**Q5. Why might a moisture value of 21.5% be flagged in the report?**  \n",
    "- A. It's dry and safe  \n",
    "- B. It exceeds typical cohesive soil range ✅  \n",
    "- C. It's not used in compaction  \n",
    "- D. Moisture always increases density\n",
    "\n",
    "\n",
    "### 🔍 Conceptual Questions\n",
    "\n",
    "- What does the sand cone test measure in the context of field compaction?\n",
    "- Why must the volume of the cone tip be subtracted from the sand volume?\n",
    "- How does moisture content influence dry density computation?\n",
    "- Why is sand calibration density critical to accurate volume determination?\n",
    "- What is the significance of comparing field dry density to lab maximum dry density?\n",
    "\n",
    "---\n",
    "\n",
    "### 💭 Reflective Questions\n",
    "\n",
    "- How might field conditions (e.g., soil texture, weather) affect your measurements during a sand cone test?\n",
    "- What are the consequences of neglecting cone volume correction in compaction analysis?\n",
    "- If a field test shows 87% compaction, what design risks or construction decisions might follow?\n",
    "- How confident are you in explaining each correction factor (volume, moisture, standard comparison) to a site technician?\n",
    "- When entering multiple trials, what trends in moisture vs. dry density might suggest over-compaction or poor water control?\n",
    "\n",
    "---\n",
    "\n",
    "### 🧪 Quiz Questions\n",
    "\n",
    "### Calculation & Accuracy\n",
    "\n",
    "**Q1. What is the correct formula to compute dry density from bulk density and moisture content?**  \n",
    "A. $( \\rho_{\\text{dry}} = \\rho_{\\text{bulk}} \\times (1 + w) $)  \n",
    "B. $( \\rho_{\\text{dry}} = \\rho_{\\text{bulk}} / (1 + w/100) $) ✅  \n",
    "C. $( \\rho_{\\text{dry}} = \\rho_{\\text{bulk}} - w $)  \n",
    "D. $( \\rho_{\\text{dry}} = \\rho_{\\text{bulk}} \\times w $)  \n",
    "\n",
    "**Q2. In a trial with M₁ = 12.50 kg and M₂ = 10.10 kg, what is the sand mass used?**  \n",
    "A. 2.10 kg  \n",
    "B. 2.40 kg ✅  \n",
    "C. 0.00001 m³  \n",
    "D. Depends on moisture content  \n",
    "\n",
    "**Q3. Which correction is essential to prevent overestimation of hole volume?**  \n",
    "A. Sand grain size  \n",
    "B. Cone tip volume ✅  \n",
    "C. Soil texture  \n",
    "D. Temperature adjustment  \n",
    "\n",
    "### Interpretation & Design Implications\n",
    "\n",
    "**Q4. A field dry density of 1710 kg/m³ compared to lab max of 1800 kg/m³ yields:**  \n",
    "A. 95.0% compaction ✅  \n",
    "B. 90.0% compaction  \n",
    "C. 85.0% compaction  \n",
    "D. Cannot determine  \n",
    "\n",
    "**Q5. Field compaction falling below 90% typically requires:**  \n",
    "A. No action  \n",
    "B. Sand replacement  \n",
    "C. Moisture adjustment or re-compaction ✅  \n",
    "D. Mold volume calibration  \n",
    "\n",
    "---"
   ]
  }
 ],
 "metadata": {
  "kernelspec": {
   "display_name": "Python [conda env:base] *",
   "language": "python",
   "name": "conda-base-py"
  },
  "language_info": {
   "codemirror_mode": {
    "name": "ipython",
    "version": 3
   },
   "file_extension": ".py",
   "mimetype": "text/x-python",
   "name": "python",
   "nbconvert_exporter": "python",
   "pygments_lexer": "ipython3",
   "version": "3.12.7"
  },
  "widgets": {
   "application/vnd.jupyter.widget-state+json": {
    "state": {
     "010e50c37d4a4626b2cddbd2b3ab6479": {
      "model_module": "@jupyter-widgets/controls",
      "model_module_version": "2.0.0",
      "model_name": "DescriptionStyleModel",
      "state": {
       "description_width": "250px"
      }
     },
     "025d27d89cc249e5977e253a50516955": {
      "model_module": "@jupyter-widgets/controls",
      "model_module_version": "2.0.0",
      "model_name": "SliderStyleModel",
      "state": {
       "description_width": "250px"
      }
     },
     "03cea924ae9442ed9c54a24752e2f159": {
      "model_module": "@jupyter-widgets/controls",
      "model_module_version": "2.0.0",
      "model_name": "DescriptionStyleModel",
      "state": {
       "description_width": "250px"
      }
     },
     "0433e23373064a4a895bd3054a8e4739": {
      "model_module": "@jupyter-widgets/base",
      "model_module_version": "2.0.0",
      "model_name": "LayoutModel",
      "state": {}
     },
     "046c700a09f24e6e895f4975b631e6dc": {
      "model_module": "@jupyter-widgets/controls",
      "model_module_version": "2.0.0",
      "model_name": "FloatTextModel",
      "state": {
       "description": "Mold Volume (m³):",
       "layout": "IPY_MODEL_da87ad228d334a1caaa77138cc9cd19d",
       "step": null,
       "style": "IPY_MODEL_a7b55c9cde604a28bbad3e8876065deb",
       "value": 0.001
      }
     },
     "0582920c60034f388daa317e739b8c58": {
      "model_module": "@jupyter-widgets/controls",
      "model_module_version": "2.0.0",
      "model_name": "FloatTextModel",
      "state": {
       "description": "Trial 1 – Excavated Soil (kg)",
       "layout": "IPY_MODEL_155036e9b109478d8b8f07ec0eba0425",
       "step": null,
       "style": "IPY_MODEL_73e0786ad72a4185acf4b352c15fcc1e",
       "value": 3.85
      }
     },
     "05b4b177aa2a4fcea055fa21e5309891": {
      "model_module": "@jupyter-widgets/controls",
      "model_module_version": "2.0.0",
      "model_name": "FloatTextModel",
      "state": {
       "description": "Wet Mass (kg, Trial 4)",
       "layout": "IPY_MODEL_f6cf6ae6fef04ed796df4c357b090805",
       "step": null,
       "style": "IPY_MODEL_746ae982cb804c40a9a7708252508717",
       "value": 4.5
      }
     },
     "05d818c360a549bebb3b05486e2ba0b0": {
      "model_module": "@jupyter-widgets/controls",
      "model_module_version": "2.0.0",
      "model_name": "VBoxModel",
      "state": {
       "children": [
        "IPY_MODEL_69d3ee0c63d04871819550dc1be79330",
        "IPY_MODEL_40fa27ab7fce42b6ba613a52564f6acd",
        "IPY_MODEL_23b289c8e8794dba84fde8b2c3ac459c",
        "IPY_MODEL_8ceef96203e04217bd811d1cc88d0099",
        "IPY_MODEL_5ba3f0576fcb41bb9c12fb0f029ce89e",
        "IPY_MODEL_a6c57ebeda9f460abcc267ad9c307280",
        "IPY_MODEL_89cd77ec6f8a49a6b12bf0a140eaab33",
        "IPY_MODEL_b386ef0a137946c496a6d1eb28d2fd31",
        "IPY_MODEL_fe6f0b4e32f448c38e51465ff0e831e8",
        "IPY_MODEL_44b037687c654740b37bbd95c1788d33",
        "IPY_MODEL_e5d3bd3aa5d2459088f4159839341915"
       ],
       "layout": "IPY_MODEL_0433e23373064a4a895bd3054a8e4739"
      }
     },
     "071cb8f3cab546b8b5c4b1c18dea06fd": {
      "model_module": "@jupyter-widgets/controls",
      "model_module_version": "2.0.0",
      "model_name": "FloatTextModel",
      "state": {
       "description": "Trial 2 – Excavated Soil (kg)",
       "layout": "IPY_MODEL_23c3ee792f6d4b129d1e458ae4154667",
       "step": null,
       "style": "IPY_MODEL_ad720b4b88184f8b843c89d2e821c439",
       "value": 3.85
      }
     },
     "07fe22eddcd24c6fbd4ab1ceeca114bc": {
      "model_module": "@jupyter-widgets/base",
      "model_module_version": "2.0.0",
      "model_name": "LayoutModel",
      "state": {}
     },
     "0839fc3ae7fa494aad37fe4e1348b331": {
      "model_module": "@jupyter-widgets/controls",
      "model_module_version": "2.0.0",
      "model_name": "DescriptionStyleModel",
      "state": {
       "description_width": ""
      }
     },
     "0a7c4771b35148eb83e3593eb4e0e51a": {
      "model_module": "@jupyter-widgets/controls",
      "model_module_version": "2.0.0",
      "model_name": "DescriptionStyleModel",
      "state": {
       "description_width": ""
      }
     },
     "0ab2ed4e3e5c448085434fdb6c2e4f07": {
      "model_module": "@jupyter-widgets/controls",
      "model_module_version": "2.0.0",
      "model_name": "FloatTextModel",
      "state": {
       "description": "Trial 1 – Moisture (%)",
       "layout": "IPY_MODEL_e4344594e7634d418bc453496e0792f8",
       "step": null,
       "style": "IPY_MODEL_39239cd3482441e9b811aae8d915ebd4",
       "value": 11.5
      }
     },
     "0aef3643187b49b787ab966d1ae8c273": {
      "model_module": "@jupyter-widgets/controls",
      "model_module_version": "2.0.0",
      "model_name": "FloatTextModel",
      "state": {
       "description": "Cone Tip Volume Correction (m³):",
       "layout": "IPY_MODEL_23c3ee792f6d4b129d1e458ae4154667",
       "step": null,
       "style": "IPY_MODEL_a9398d5b82ba436aa904450768e6e2e3",
       "value": 1e-05
      }
     },
     "0b525a541a414c8d87b30b46d323c8ea": {
      "model_module": "@jupyter-widgets/controls",
      "model_module_version": "2.0.0",
      "model_name": "DescriptionStyleModel",
      "state": {
       "description_width": "250px"
      }
     },
     "0c8f2738e375475ab4b5075778b03b6e": {
      "model_module": "@jupyter-widgets/controls",
      "model_module_version": "2.0.0",
      "model_name": "FloatTextModel",
      "state": {
       "description": "Lab Max Dry Density (kg/m³):",
       "layout": "IPY_MODEL_a10a632833ea4e9fbe945f47618c10b5",
       "step": null,
       "style": "IPY_MODEL_c90ef85fbf39479ba3c1a5016bf7199a",
       "value": 1800
      }
     },
     "0d04b3de25674ad9bbb9a5bdf5b00d75": {
      "model_module": "@jupyter-widgets/controls",
      "model_module_version": "2.0.0",
      "model_name": "DescriptionStyleModel",
      "state": {
       "description_width": "250px"
      }
     },
     "0d1d5cd73bbf4145abdea8aa01cfcdc2": {
      "model_module": "@jupyter-widgets/base",
      "model_module_version": "2.0.0",
      "model_name": "LayoutModel",
      "state": {}
     },
     "0dbc419f11b24482839460f1b2fcf6c1": {
      "model_module": "@jupyter-widgets/base",
      "model_module_version": "2.0.0",
      "model_name": "LayoutModel",
      "state": {}
     },
     "0e1a458c1ed140628faef4f9fa34ef08": {
      "model_module": "@jupyter-widgets/controls",
      "model_module_version": "2.0.0",
      "model_name": "FloatTextModel",
      "state": {
       "description": "Moisture % (Trial 3)",
       "layout": "IPY_MODEL_f905af000ed248249fb56d0dd176815b",
       "step": null,
       "style": "IPY_MODEL_ec1e5cde438b475b8a9465841c8997d8",
       "value": 15
      }
     },
     "0f10bd3a40be422fbe7fe5d39132d6fc": {
      "model_module": "@jupyter-widgets/controls",
      "model_module_version": "2.0.0",
      "model_name": "FloatTextModel",
      "state": {
       "description": "Wet Mass (kg, Trial 2)",
       "layout": "IPY_MODEL_e0298f06200545a7b406cce915c27626",
       "step": null,
       "style": "IPY_MODEL_b3ab26a7b4dd490086c324aa615aea3c",
       "value": 4.3
      }
     },
     "11760c8a43ec498c828495cab4452e81": {
      "model_module": "@jupyter-widgets/base",
      "model_module_version": "2.0.0",
      "model_name": "LayoutModel",
      "state": {}
     },
     "117635dc01184a5d9bd3dc6e38352eb5": {
      "model_module": "@jupyter-widgets/controls",
      "model_module_version": "2.0.0",
      "model_name": "FloatTextModel",
      "state": {
       "description": "Wet Mass (kg, Trial 3)",
       "layout": "IPY_MODEL_139d2009741e46ae9c3db9bcf68588ad",
       "step": null,
       "style": "IPY_MODEL_9821e799ef95449c9ce1264a264b41e3",
       "value": 4.4
      }
     },
     "119495b38f2547e8bde8c7b53bc98c9f": {
      "model_module": "@jupyter-widgets/controls",
      "model_module_version": "2.0.0",
      "model_name": "DescriptionStyleModel",
      "state": {
       "description_width": "250px"
      }
     },
     "11ece6fcd7064aa380903fd75d342d31": {
      "model_module": "@jupyter-widgets/controls",
      "model_module_version": "2.0.0",
      "model_name": "DescriptionStyleModel",
      "state": {
       "description_width": "250px"
      }
     },
     "12075545b3944057a00e31eda970879c": {
      "model_module": "@jupyter-widgets/controls",
      "model_module_version": "2.0.0",
      "model_name": "DescriptionStyleModel",
      "state": {
       "description_width": "250px"
      }
     },
     "120b7105e72142f7934f76d998456705": {
      "model_module": "@jupyter-widgets/controls",
      "model_module_version": "2.0.0",
      "model_name": "FloatTextModel",
      "state": {
       "description": "Cone Tip Volume Correction (m³):",
       "layout": "IPY_MODEL_e4344594e7634d418bc453496e0792f8",
       "step": null,
       "style": "IPY_MODEL_6876c71ebbfb41a288be8356ca7314ea",
       "value": 1e-05
      }
     },
     "123a26ae25e745bba203535e30127b4e": {
      "model_module": "@jupyter-widgets/controls",
      "model_module_version": "2.0.0",
      "model_name": "DescriptionStyleModel",
      "state": {
       "description_width": ""
      }
     },
     "132ac96b78ab44e4a6c39900af017a0a": {
      "model_module": "@jupyter-widgets/base",
      "model_module_version": "2.0.0",
      "model_name": "LayoutModel",
      "state": {}
     },
     "136ad18c1592469cbffce9b300a41f0c": {
      "model_module": "@jupyter-widgets/base",
      "model_module_version": "2.0.0",
      "model_name": "LayoutModel",
      "state": {}
     },
     "139d2009741e46ae9c3db9bcf68588ad": {
      "model_module": "@jupyter-widgets/base",
      "model_module_version": "2.0.0",
      "model_name": "LayoutModel",
      "state": {}
     },
     "13bc642c8bc34f4fa26ac0964d701113": {
      "model_module": "@jupyter-widgets/base",
      "model_module_version": "2.0.0",
      "model_name": "LayoutModel",
      "state": {
       "width": "250px"
      }
     },
     "155036e9b109478d8b8f07ec0eba0425": {
      "model_module": "@jupyter-widgets/base",
      "model_module_version": "2.0.0",
      "model_name": "LayoutModel",
      "state": {
       "width": "450px"
      }
     },
     "1620124d509b4210b64b0da01a4a24dd": {
      "model_module": "@jupyter-widgets/controls",
      "model_module_version": "2.0.0",
      "model_name": "FloatTextModel",
      "state": {
       "description": "M₁: Cone+Sand Before [T1]",
       "layout": "IPY_MODEL_420b81cdc3fa4509ac24d0991cc3c16b",
       "step": null,
       "style": "IPY_MODEL_0a7c4771b35148eb83e3593eb4e0e51a",
       "value": 12.5
      }
     },
     "169d7ef8526f4906b349f0f2695c1df3": {
      "model_module": "@jupyter-widgets/base",
      "model_module_version": "2.0.0",
      "model_name": "LayoutModel",
      "state": {}
     },
     "17e3d970b70044bc9833a1a0e38ff7eb": {
      "model_module": "@jupyter-widgets/controls",
      "model_module_version": "2.0.0",
      "model_name": "FloatTextModel",
      "state": {
       "description": "Trial 2 – Excavated Soil (kg)",
       "layout": "IPY_MODEL_e4344594e7634d418bc453496e0792f8",
       "step": null,
       "style": "IPY_MODEL_285de6287ef34e10b22477d11aeec47a",
       "value": 3.85
      }
     },
     "185116e8bc364599befce4cad97c07b7": {
      "model_module": "@jupyter-widgets/base",
      "model_module_version": "2.0.0",
      "model_name": "LayoutModel",
      "state": {}
     },
     "1a5787cb14a74244b4a3906c284dcf51": {
      "model_module": "@jupyter-widgets/base",
      "model_module_version": "2.0.0",
      "model_name": "LayoutModel",
      "state": {}
     },
     "1a6cd49a1d4e4249a675207abad57493": {
      "model_module": "@jupyter-widgets/controls",
      "model_module_version": "2.0.0",
      "model_name": "DescriptionStyleModel",
      "state": {
       "description_width": "250px"
      }
     },
     "1aad21f0805f4968ae8289c72e9f6067": {
      "model_module": "@jupyter-widgets/controls",
      "model_module_version": "2.0.0",
      "model_name": "DescriptionStyleModel",
      "state": {
       "description_width": ""
      }
     },
     "1c150bb10dbd46f0aeb0b9b26a055b9c": {
      "model_module": "@jupyter-widgets/controls",
      "model_module_version": "2.0.0",
      "model_name": "SliderStyleModel",
      "state": {
       "description_width": "250px"
      }
     },
     "1cc1cef1391c466b9c4b8c8656105b97": {
      "model_module": "@jupyter-widgets/controls",
      "model_module_version": "2.0.0",
      "model_name": "FloatTextModel",
      "state": {
       "description": "Wet Mass (kg, Trial 3)",
       "layout": "IPY_MODEL_baac49b143464ffcb62bc26900fc215e",
       "step": null,
       "style": "IPY_MODEL_c7054c4d53a144fda195f68df454e0b1",
       "value": 4.4
      }
     },
     "1ce5e7b1bf8741adbc2d7af7d614859d": {
      "model_module": "@jupyter-widgets/controls",
      "model_module_version": "2.0.0",
      "model_name": "DescriptionStyleModel",
      "state": {
       "description_width": ""
      }
     },
     "1d656358455e47c4af8069bc159f0516": {
      "model_module": "@jupyter-widgets/base",
      "model_module_version": "2.0.0",
      "model_name": "LayoutModel",
      "state": {}
     },
     "1d769931505f4025ac72c7df44f65364": {
      "model_module": "@jupyter-widgets/base",
      "model_module_version": "2.0.0",
      "model_name": "LayoutModel",
      "state": {}
     },
     "1da3f2daff5d46d194330cfc4d772df6": {
      "model_module": "@jupyter-widgets/base",
      "model_module_version": "2.0.0",
      "model_name": "LayoutModel",
      "state": {}
     },
     "1dfc77c75c4b462397cf3a103b2afe31": {
      "model_module": "@jupyter-widgets/controls",
      "model_module_version": "2.0.0",
      "model_name": "DescriptionStyleModel",
      "state": {
       "description_width": "250px"
      }
     },
     "1e39748fddb646449f2632082a282a60": {
      "model_module": "@jupyter-widgets/controls",
      "model_module_version": "2.0.0",
      "model_name": "FloatTextModel",
      "state": {
       "description": "Wet Mass (kg, Trial 4)",
       "layout": "IPY_MODEL_ad358ce92cb44edead1531eedc2d6445",
       "step": null,
       "style": "IPY_MODEL_bdd4c8beb7d0478b823227e2f1f7144e",
       "value": 4.5
      }
     },
     "1f495d824a834b72b7ae10e1b50dfb4d": {
      "model_module": "@jupyter-widgets/base",
      "model_module_version": "2.0.0",
      "model_name": "LayoutModel",
      "state": {}
     },
     "20368a8497a54331af452f87c4de27b6": {
      "model_module": "@jupyter-widgets/controls",
      "model_module_version": "2.0.0",
      "model_name": "FloatTextModel",
      "state": {
       "description": "M₂: Cone+Sand After [T2]",
       "layout": "IPY_MODEL_4de5b3581e9c433eb0f15b889eccb7b6",
       "step": null,
       "style": "IPY_MODEL_57f42827c71e48aa8ba50ebc0260b3bc",
       "value": 10.1
      }
     },
     "20d23105e0ac40f5b4a2229b829b2129": {
      "model_module": "@jupyter-widgets/controls",
      "model_module_version": "2.0.0",
      "model_name": "SliderStyleModel",
      "state": {
       "description_width": "250px"
      }
     },
     "2118bf10ec7b47458ef7c58201af0159": {
      "model_module": "@jupyter-widgets/controls",
      "model_module_version": "2.0.0",
      "model_name": "DescriptionStyleModel",
      "state": {
       "description_width": ""
      }
     },
     "2173357fb746492ea345dd896e0cdfbe": {
      "model_module": "@jupyter-widgets/controls",
      "model_module_version": "2.0.0",
      "model_name": "DescriptionStyleModel",
      "state": {
       "description_width": ""
      }
     },
     "22302c01a20a4688b244f94a9c9f521b": {
      "model_module": "@jupyter-widgets/controls",
      "model_module_version": "2.0.0",
      "model_name": "DescriptionStyleModel",
      "state": {
       "description_width": ""
      }
     },
     "2256193465d049278d8cc6ae30bfe5c0": {
      "model_module": "@jupyter-widgets/base",
      "model_module_version": "2.0.0",
      "model_name": "LayoutModel",
      "state": {}
     },
     "22a234b83e254fd6a59b641fc6fe586e": {
      "model_module": "@jupyter-widgets/controls",
      "model_module_version": "2.0.0",
      "model_name": "DescriptionStyleModel",
      "state": {
       "description_width": ""
      }
     },
     "23a8ec70835f46d0b075e14cff2d84d6": {
      "model_module": "@jupyter-widgets/controls",
      "model_module_version": "2.0.0",
      "model_name": "FloatTextModel",
      "state": {
       "description": "Sand Density (kg/m³):",
       "layout": "IPY_MODEL_e4344594e7634d418bc453496e0792f8",
       "step": null,
       "style": "IPY_MODEL_afa0d5d1c20c48519b7891697c4f8735",
       "value": 1550
      }
     },
     "23b289c8e8794dba84fde8b2c3ac459c": {
      "model_module": "@jupyter-widgets/controls",
      "model_module_version": "2.0.0",
      "model_name": "FloatTextModel",
      "state": {
       "description": "Lab Max Dry Density (kg/m³):",
       "layout": "IPY_MODEL_a1ad00fc90aa4f44b1579dc200bc633b",
       "step": null,
       "style": "IPY_MODEL_1dfc77c75c4b462397cf3a103b2afe31",
       "value": 1800
      }
     },
     "23c3ee792f6d4b129d1e458ae4154667": {
      "model_module": "@jupyter-widgets/base",
      "model_module_version": "2.0.0",
      "model_name": "LayoutModel",
      "state": {
       "width": "450px"
      }
     },
     "23dd0937ad1f4772970d0417175221f9": {
      "model_module": "@jupyter-widgets/base",
      "model_module_version": "2.0.0",
      "model_name": "LayoutModel",
      "state": {}
     },
     "247d80f9965e40a2a9df35d4b1a0b202": {
      "model_module": "@jupyter-widgets/base",
      "model_module_version": "2.0.0",
      "model_name": "LayoutModel",
      "state": {}
     },
     "270430d9878146278f786c93698bf3df": {
      "model_module": "@jupyter-widgets/base",
      "model_module_version": "2.0.0",
      "model_name": "LayoutModel",
      "state": {}
     },
     "27494fbd2ca24607bcfaa5595f1426e4": {
      "model_module": "@jupyter-widgets/controls",
      "model_module_version": "2.0.0",
      "model_name": "DescriptionStyleModel",
      "state": {
       "description_width": ""
      }
     },
     "285de6287ef34e10b22477d11aeec47a": {
      "model_module": "@jupyter-widgets/controls",
      "model_module_version": "2.0.0",
      "model_name": "DescriptionStyleModel",
      "state": {
       "description_width": "250px"
      }
     },
     "2953b732d50c4587936e27284d4b5163": {
      "model_module": "@jupyter-widgets/controls",
      "model_module_version": "2.0.0",
      "model_name": "DescriptionStyleModel",
      "state": {
       "description_width": ""
      }
     },
     "29ac71193ecc421c89dba340085a4439": {
      "model_module": "@jupyter-widgets/controls",
      "model_module_version": "2.0.0",
      "model_name": "FloatTextModel",
      "state": {
       "description": "Trial 1 – M₂: Mass After (kg)",
       "layout": "IPY_MODEL_23c3ee792f6d4b129d1e458ae4154667",
       "step": null,
       "style": "IPY_MODEL_47c49b4eee1642e5b9c34208ce10323d",
       "value": 10.1
      }
     },
     "29e4d4c20ef147c6af7cb350383c288e": {
      "model_module": "@jupyter-widgets/controls",
      "model_module_version": "2.0.0",
      "model_name": "VBoxModel",
      "state": {
       "children": [
        "IPY_MODEL_525d1a08eda8433e810b5bfc4785dfe7",
        "IPY_MODEL_05d818c360a549bebb3b05486e2ba0b0",
        "IPY_MODEL_fdd334911b0d4e759aecd6b0309fdc67"
       ],
       "layout": "IPY_MODEL_8d570c4adcc0495cbc6a2e5e2032d27e"
      }
     },
     "2a445f05be524a96ba37a146efd13b5f": {
      "model_module": "@jupyter-widgets/controls",
      "model_module_version": "2.0.0",
      "model_name": "FloatTextModel",
      "state": {
       "description": "Wet Mass (kg, Trial 5)",
       "layout": "IPY_MODEL_185116e8bc364599befce4cad97c07b7",
       "step": null,
       "style": "IPY_MODEL_22302c01a20a4688b244f94a9c9f521b",
       "value": 4.6000000000000005
      }
     },
     "2ab7b29e1a7f4245a978802a20b7d494": {
      "model_module": "@jupyter-widgets/controls",
      "model_module_version": "2.0.0",
      "model_name": "IntSliderModel",
      "state": {
       "behavior": "drag-tap",
       "description": "No. of Trials:",
       "layout": "IPY_MODEL_f6d7aec2f6c148dd9d0b8cc301d76e4c",
       "max": 10,
       "min": 1,
       "style": "IPY_MODEL_b1e0045b9de144b491dc653814cd14f2",
       "value": 2
      }
     },
     "2ae5df61b9104595865aeddcada1b08f": {
      "model_module": "@jupyter-widgets/controls",
      "model_module_version": "2.0.0",
      "model_name": "FloatTextModel",
      "state": {
       "description": "Trial 2 – Moisture (%)",
       "layout": "IPY_MODEL_e4344594e7634d418bc453496e0792f8",
       "step": null,
       "style": "IPY_MODEL_11ece6fcd7064aa380903fd75d342d31",
       "value": 11.5
      }
     },
     "2b1dbc593034496d82bead98dc6f2ffd": {
      "model_module": "@jupyter-widgets/controls",
      "model_module_version": "2.0.0",
      "model_name": "DescriptionStyleModel",
      "state": {
       "description_width": ""
      }
     },
     "2b47da5ca31444908185733f1694f5ad": {
      "model_module": "@jupyter-widgets/controls",
      "model_module_version": "2.0.0",
      "model_name": "DescriptionStyleModel",
      "state": {
       "description_width": "250px"
      }
     },
     "2b76a7275490412b9ce98be86689fb6c": {
      "model_module": "@jupyter-widgets/controls",
      "model_module_version": "2.0.0",
      "model_name": "DescriptionStyleModel",
      "state": {
       "description_width": ""
      }
     },
     "2bfdd8e887134d19abd5d7c2ff96e88b": {
      "model_module": "@jupyter-widgets/controls",
      "model_module_version": "2.0.0",
      "model_name": "FloatTextModel",
      "state": {
       "description": "Moisture % (Trial 3)",
       "layout": "IPY_MODEL_9785fc39ff0f41b98d73aa12d0b27aff",
       "step": null,
       "style": "IPY_MODEL_c924ff7880e44fd088720fd55ec9d45f",
       "value": 15
      }
     },
     "2c1f805ab24d4d07a9510a1246b0ea90": {
      "model_module": "@jupyter-widgets/controls",
      "model_module_version": "2.0.0",
      "model_name": "VBoxModel",
      "state": {
       "children": [
        "IPY_MODEL_c6e659bbd4ad42db80a6f76d448f4637",
        "IPY_MODEL_0c8f2738e375475ab4b5075778b03b6e",
        "IPY_MODEL_af1426a6bdd844d6ad270852482f1a5b",
        "IPY_MODEL_71ba9dd8e56a45c5bd7c63c6ccc16ecc",
        "IPY_MODEL_53e49ce42fe3464a82920754f7950263",
        "IPY_MODEL_7de8abf1540f47b9a9c57ae9e856d403",
        "IPY_MODEL_77f346f56953412db8f162a6e6a0d4fd",
        "IPY_MODEL_20368a8497a54331af452f87c4de27b6",
        "IPY_MODEL_d78b3b31214f4593a35ed9e87b7d4826",
        "IPY_MODEL_9862bafa6b2e48f490f3fcfae19a287a"
       ],
       "layout": "IPY_MODEL_84ec7b95a8f34c9fa88af1658839281b"
      }
     },
     "2c7c5b5069ff421faad9b1eebb6cb52a": {
      "model_module": "@jupyter-widgets/controls",
      "model_module_version": "2.0.0",
      "model_name": "FloatTextModel",
      "state": {
       "description": "Wet Mass (kg, Trial 2)",
       "layout": "IPY_MODEL_99e3a248ceb74a0884adea4a26c9a52f",
       "step": null,
       "style": "IPY_MODEL_b16745580263401dbb501ae394664f74",
       "value": 4.3
      }
     },
     "2cb69b2314bf4491bbdfbb61c45ce2f9": {
      "model_module": "@jupyter-widgets/controls",
      "model_module_version": "2.0.0",
      "model_name": "FloatTextModel",
      "state": {
       "description": "Trial 1 – Excavated Soil (kg)",
       "layout": "IPY_MODEL_23c3ee792f6d4b129d1e458ae4154667",
       "step": null,
       "style": "IPY_MODEL_522cf4106685456793909b3c536d01e8",
       "value": 3.85
      }
     },
     "2db07c840d7240079de359d243deb7dc": {
      "model_module": "@jupyter-widgets/controls",
      "model_module_version": "2.0.0",
      "model_name": "DescriptionStyleModel",
      "state": {
       "description_width": ""
      }
     },
     "2f118ddc5fc04727884b9f10aa4bde91": {
      "model_module": "@jupyter-widgets/controls",
      "model_module_version": "2.0.0",
      "model_name": "FloatTextModel",
      "state": {
       "description": "Moisture % (Trial 1)",
       "layout": "IPY_MODEL_0dbc419f11b24482839460f1b2fcf6c1",
       "step": null,
       "style": "IPY_MODEL_8e0fbd9e8cd841b69a742110aaddb13d",
       "value": 12
      }
     },
     "2fc68340f2d24900bbd92f1ac94e87a1": {
      "model_module": "@jupyter-widgets/controls",
      "model_module_version": "2.0.0",
      "model_name": "FloatTextModel",
      "state": {
       "description": "Moisture % (Trial 2)",
       "layout": "IPY_MODEL_63e8c794f80f46c88ab2248153231a79",
       "step": null,
       "style": "IPY_MODEL_22a234b83e254fd6a59b641fc6fe586e",
       "value": 13.5
      }
     },
     "313a2a38af174aa5a1936826bb14d234": {
      "model_module": "@jupyter-widgets/controls",
      "model_module_version": "2.0.0",
      "model_name": "ButtonStyleModel",
      "state": {
       "font_family": null,
       "font_size": null,
       "font_style": null,
       "font_variant": null,
       "font_weight": null,
       "text_color": null,
       "text_decoration": null
      }
     },
     "32705a60fbc74d0dac092484fc3a0deb": {
      "model_module": "@jupyter-widgets/controls",
      "model_module_version": "2.0.0",
      "model_name": "FloatTextModel",
      "state": {
       "description": "M₂: Cone+Sand After [T1]",
       "layout": "IPY_MODEL_b16e67af549d4428a3c090cb59bb136d",
       "step": null,
       "style": "IPY_MODEL_2b76a7275490412b9ce98be86689fb6c",
       "value": 10.1
      }
     },
     "329c6553b7624fc4b0afacf8dc136b66": {
      "model_module": "@jupyter-widgets/controls",
      "model_module_version": "2.0.0",
      "model_name": "VBoxModel",
      "state": {
       "children": [
        "IPY_MODEL_38f79e347e0446eca9ae7244f157eb6b",
        "IPY_MODEL_be7f1b0a1adb4a84a40456e464345e50",
        "IPY_MODEL_84ee73686d294da09440463480fb5d12"
       ],
       "layout": "IPY_MODEL_cdefeb55cb624458b21cc38d9879435c"
      }
     },
     "32ce93cb61844585b2642de831c84d8f": {
      "model_module": "@jupyter-widgets/controls",
      "model_module_version": "2.0.0",
      "model_name": "FloatTextModel",
      "state": {
       "description": "Mold Mass (kg):",
       "layout": "IPY_MODEL_49c20665a0014b4ca07b58676a6c0ade",
       "step": null,
       "style": "IPY_MODEL_1aad21f0805f4968ae8289c72e9f6067",
       "value": 2.1
      }
     },
     "339ce8cf03f24ea993cf6da30aa847fc": {
      "model_module": "@jupyter-widgets/controls",
      "model_module_version": "2.0.0",
      "model_name": "FloatTextModel",
      "state": {
       "description": "Moisture % (Trial 1)",
       "layout": "IPY_MODEL_1a5787cb14a74244b4a3906c284dcf51",
       "step": null,
       "style": "IPY_MODEL_a1b4cc4c79474e8293b6d02852710ea8",
       "value": 12
      }
     },
     "38f79e347e0446eca9ae7244f157eb6b": {
      "model_module": "@jupyter-widgets/controls",
      "model_module_version": "2.0.0",
      "model_name": "IntSliderModel",
      "state": {
       "behavior": "drag-tap",
       "description": "No. of Trials:",
       "layout": "IPY_MODEL_23c3ee792f6d4b129d1e458ae4154667",
       "max": 10,
       "min": 1,
       "style": "IPY_MODEL_025d27d89cc249e5977e253a50516955",
       "value": 2
      }
     },
     "39051903cb734f34b975b9d45205b114": {
      "model_module": "@jupyter-widgets/controls",
      "model_module_version": "2.0.0",
      "model_name": "DescriptionStyleModel",
      "state": {
       "description_width": "250px"
      }
     },
     "39239cd3482441e9b811aae8d915ebd4": {
      "model_module": "@jupyter-widgets/controls",
      "model_module_version": "2.0.0",
      "model_name": "DescriptionStyleModel",
      "state": {
       "description_width": "250px"
      }
     },
     "39d31f28061f47c4ad52ccb2f279ad4c": {
      "model_module": "@jupyter-widgets/controls",
      "model_module_version": "2.0.0",
      "model_name": "FloatTextModel",
      "state": {
       "description": "M₂: Cone+Sand After [T2]",
       "layout": "IPY_MODEL_e461422405f9405e8efbddf8e7189b5f",
       "step": null,
       "style": "IPY_MODEL_c778caa0f64a4e499462eacc7dc7333f",
       "value": 10.1
      }
     },
     "3a9a416261fe4e2fa8438a34b59ac204": {
      "model_module": "@jupyter-widgets/base",
      "model_module_version": "2.0.0",
      "model_name": "LayoutModel",
      "state": {}
     },
     "3c4d434a421748a28746c1582d29d13c": {
      "model_module": "@jupyter-widgets/controls",
      "model_module_version": "2.0.0",
      "model_name": "DescriptionStyleModel",
      "state": {
       "description_width": ""
      }
     },
     "3d02675fd11a4f79bf67e30d7902f93f": {
      "model_module": "@jupyter-widgets/controls",
      "model_module_version": "2.0.0",
      "model_name": "FloatTextModel",
      "state": {
       "description": "Msoil: Excavated Soil [T1]",
       "layout": "IPY_MODEL_7daadaa61fc04c0a9968323649bf28a6",
       "step": null,
       "style": "IPY_MODEL_6a59fc6b821b459cae691ca23f7c3e60",
       "value": 3.85
      }
     },
     "3d86812883b04e5593865f40d98181d6": {
      "model_module": "@jupyter-widgets/controls",
      "model_module_version": "2.0.0",
      "model_name": "FloatTextModel",
      "state": {
       "description": "Wet Mass (kg, Trial 2)",
       "layout": "IPY_MODEL_b5b4bbb30331414581ad5c009920cf98",
       "step": null,
       "style": "IPY_MODEL_c20c8999c38c4e6ca204f9d3410d31e9",
       "value": 4.3
      }
     },
     "3f74c51deda84fe88123a88b2965d8c5": {
      "model_module": "@jupyter-widgets/base",
      "model_module_version": "2.0.0",
      "model_name": "LayoutModel",
      "state": {}
     },
     "40fa27ab7fce42b6ba613a52564f6acd": {
      "model_module": "@jupyter-widgets/controls",
      "model_module_version": "2.0.0",
      "model_name": "FloatTextModel",
      "state": {
       "description": "Cone Tip Volume Correction (m³):",
       "layout": "IPY_MODEL_a1ad00fc90aa4f44b1579dc200bc633b",
       "step": null,
       "style": "IPY_MODEL_da6691b2f50c4ae0ba209ddcd101664e",
       "value": 1e-05
      }
     },
     "420b81cdc3fa4509ac24d0991cc3c16b": {
      "model_module": "@jupyter-widgets/base",
      "model_module_version": "2.0.0",
      "model_name": "LayoutModel",
      "state": {}
     },
     "44b037687c654740b37bbd95c1788d33": {
      "model_module": "@jupyter-widgets/controls",
      "model_module_version": "2.0.0",
      "model_name": "FloatTextModel",
      "state": {
       "description": "Trial 2 – Excavated Soil (kg)",
       "layout": "IPY_MODEL_a1ad00fc90aa4f44b1579dc200bc633b",
       "step": null,
       "style": "IPY_MODEL_b35c739f8f4d40b8ad2bc53a6e43682d",
       "value": 3.85
      }
     },
     "45ae1a5d94194559ab1b7b6391a785ed": {
      "model_module": "@jupyter-widgets/controls",
      "model_module_version": "2.0.0",
      "model_name": "DescriptionStyleModel",
      "state": {
       "description_width": ""
      }
     },
     "469d38d3fe074b6298d34e795f64935d": {
      "model_module": "@jupyter-widgets/controls",
      "model_module_version": "2.0.0",
      "model_name": "ButtonStyleModel",
      "state": {
       "font_family": null,
       "font_size": null,
       "font_style": null,
       "font_variant": null,
       "font_weight": null,
       "text_color": null,
       "text_decoration": null
      }
     },
     "47c49b4eee1642e5b9c34208ce10323d": {
      "model_module": "@jupyter-widgets/controls",
      "model_module_version": "2.0.0",
      "model_name": "DescriptionStyleModel",
      "state": {
       "description_width": "250px"
      }
     },
     "481cfa3b6fc849ed87d65d87d279985d": {
      "model_module": "@jupyter-widgets/base",
      "model_module_version": "2.0.0",
      "model_name": "LayoutModel",
      "state": {}
     },
     "4869c1aa34ef41a9b8bf4437935a9fc5": {
      "model_module": "@jupyter-widgets/base",
      "model_module_version": "2.0.0",
      "model_name": "LayoutModel",
      "state": {}
     },
     "497988783db34d34966734726646d00c": {
      "model_module": "@jupyter-widgets/base",
      "model_module_version": "2.0.0",
      "model_name": "LayoutModel",
      "state": {
       "width": "250px"
      }
     },
     "49c20665a0014b4ca07b58676a6c0ade": {
      "model_module": "@jupyter-widgets/base",
      "model_module_version": "2.0.0",
      "model_name": "LayoutModel",
      "state": {}
     },
     "4ac37c775e4249809d4af1f6464f767a": {
      "model_module": "@jupyter-widgets/controls",
      "model_module_version": "2.0.0",
      "model_name": "DescriptionStyleModel",
      "state": {
       "description_width": "250px"
      }
     },
     "4afbe4b04bbf46f7b70e7cf2c1cb6065": {
      "model_module": "@jupyter-widgets/controls",
      "model_module_version": "2.0.0",
      "model_name": "DescriptionStyleModel",
      "state": {
       "description_width": "250px"
      }
     },
     "4c3881c46988493a953858bb650edcea": {
      "model_module": "@jupyter-widgets/controls",
      "model_module_version": "2.0.0",
      "model_name": "FloatTextModel",
      "state": {
       "description": "Trial 2 – Moisture (%)",
       "layout": "IPY_MODEL_155036e9b109478d8b8f07ec0eba0425",
       "step": null,
       "style": "IPY_MODEL_c8d0d4a2a75b4f528c2bcc7c6c227f80",
       "value": 11.5
      }
     },
     "4cbf357e509f4c25954f702396ab9fe5": {
      "model_module": "@jupyter-widgets/controls",
      "model_module_version": "2.0.0",
      "model_name": "DescriptionStyleModel",
      "state": {
       "description_width": "250px"
      }
     },
     "4de5b3581e9c433eb0f15b889eccb7b6": {
      "model_module": "@jupyter-widgets/base",
      "model_module_version": "2.0.0",
      "model_name": "LayoutModel",
      "state": {}
     },
     "4e4a0464f8e74c05b4883dd00a17d233": {
      "model_module": "@jupyter-widgets/controls",
      "model_module_version": "2.0.0",
      "model_name": "FloatTextModel",
      "state": {
       "description": "Moisture % (Trial 2)",
       "layout": "IPY_MODEL_93c4a9165e164a678df14775fab462a1",
       "step": null,
       "style": "IPY_MODEL_7a35786a93c145809fadd0a054ea2056",
       "value": 13.5
      }
     },
     "4e509d8c0a6b48b59aec585bef70d81e": {
      "model_module": "@jupyter-widgets/controls",
      "model_module_version": "2.0.0",
      "model_name": "FloatTextModel",
      "state": {
       "description": "Trial 1 – Moisture (%)",
       "layout": "IPY_MODEL_155036e9b109478d8b8f07ec0eba0425",
       "step": null,
       "style": "IPY_MODEL_711ef47aee0c47a2ab8ed1688b2da02c",
       "value": 11.5
      }
     },
     "4e819a21ae29405599b5b8b6913b0f44": {
      "model_module": "@jupyter-widgets/controls",
      "model_module_version": "2.0.0",
      "model_name": "SliderStyleModel",
      "state": {
       "description_width": ""
      }
     },
     "4eb75a9e86a1476781f0da7996ad1705": {
      "model_module": "@jupyter-widgets/controls",
      "model_module_version": "2.0.0",
      "model_name": "ButtonStyleModel",
      "state": {
       "font_family": null,
       "font_size": null,
       "font_style": null,
       "font_variant": null,
       "font_weight": null,
       "text_color": null,
       "text_decoration": null
      }
     },
     "4f2d67ea0cab4d89a7151d0a87775c6e": {
      "model_module": "@jupyter-widgets/base",
      "model_module_version": "2.0.0",
      "model_name": "LayoutModel",
      "state": {}
     },
     "50066a0effbd457eafc8ffd7ebb70e8c": {
      "model_module": "@jupyter-widgets/base",
      "model_module_version": "2.0.0",
      "model_name": "LayoutModel",
      "state": {}
     },
     "514a9e8e1e624ead8deb7f761db7a783": {
      "model_module": "@jupyter-widgets/controls",
      "model_module_version": "2.0.0",
      "model_name": "ButtonModel",
      "state": {
       "description": "Generate Report",
       "layout": "IPY_MODEL_270430d9878146278f786c93698bf3df",
       "style": "IPY_MODEL_70474d4ccd474dd5a23fd0805dd2eb9f",
       "tooltip": null
      }
     },
     "522cf4106685456793909b3c536d01e8": {
      "model_module": "@jupyter-widgets/controls",
      "model_module_version": "2.0.0",
      "model_name": "DescriptionStyleModel",
      "state": {
       "description_width": "250px"
      }
     },
     "525d1a08eda8433e810b5bfc4785dfe7": {
      "model_module": "@jupyter-widgets/controls",
      "model_module_version": "2.0.0",
      "model_name": "IntSliderModel",
      "state": {
       "behavior": "drag-tap",
       "description": "No. of Trials:",
       "layout": "IPY_MODEL_a1ad00fc90aa4f44b1579dc200bc633b",
       "max": 10,
       "min": 1,
       "style": "IPY_MODEL_20d23105e0ac40f5b4a2229b829b2129",
       "value": 2
      }
     },
     "527abf6780ca4465a39b85c2af84bda1": {
      "model_module": "@jupyter-widgets/base",
      "model_module_version": "2.0.0",
      "model_name": "LayoutModel",
      "state": {}
     },
     "53b43a34d99741538028c942522303f3": {
      "model_module": "@jupyter-widgets/base",
      "model_module_version": "2.0.0",
      "model_name": "LayoutModel",
      "state": {}
     },
     "53e49ce42fe3464a82920754f7950263": {
      "model_module": "@jupyter-widgets/controls",
      "model_module_version": "2.0.0",
      "model_name": "FloatTextModel",
      "state": {
       "description": "Msoil: Excavated Soil [T1]",
       "layout": "IPY_MODEL_4869c1aa34ef41a9b8bf4437935a9fc5",
       "step": null,
       "style": "IPY_MODEL_3c4d434a421748a28746c1582d29d13c",
       "value": 3.85
      }
     },
     "543834c5f3d04f96909a5ffd82ba8b33": {
      "model_module": "@jupyter-widgets/controls",
      "model_module_version": "2.0.0",
      "model_name": "DescriptionStyleModel",
      "state": {
       "description_width": ""
      }
     },
     "54c0ab02ff814d959ae5f5ac67f1b797": {
      "model_module": "@jupyter-widgets/controls",
      "model_module_version": "2.0.0",
      "model_name": "ButtonStyleModel",
      "state": {
       "font_family": null,
       "font_size": null,
       "font_style": null,
       "font_variant": null,
       "font_weight": null,
       "text_color": null,
       "text_decoration": null
      }
     },
     "56e451b53ba94c08ad34ceb6127c06af": {
      "model_module": "@jupyter-widgets/controls",
      "model_module_version": "2.0.0",
      "model_name": "FloatTextModel",
      "state": {
       "description": "Trial 2 – M₂: Mass After (kg)",
       "layout": "IPY_MODEL_23c3ee792f6d4b129d1e458ae4154667",
       "step": null,
       "style": "IPY_MODEL_4ac37c775e4249809d4af1f6464f767a",
       "value": 10.1
      }
     },
     "57f0fd7dc18d4ec8a89b334c536c4c97": {
      "model_module": "@jupyter-widgets/controls",
      "model_module_version": "2.0.0",
      "model_name": "IntSliderModel",
      "state": {
       "behavior": "drag-tap",
       "description": "Number of Trials:",
       "layout": "IPY_MODEL_6bf6b3ad645a45218ce7766f4eece074",
       "max": 10,
       "min": 1,
       "style": "IPY_MODEL_cb47476f853c45a59906b09db846e751",
       "value": 3
      }
     },
     "57f42827c71e48aa8ba50ebc0260b3bc": {
      "model_module": "@jupyter-widgets/controls",
      "model_module_version": "2.0.0",
      "model_name": "DescriptionStyleModel",
      "state": {
       "description_width": ""
      }
     },
     "5b051a96e4c34c9da0e863352fc2fa6b": {
      "model_module": "@jupyter-widgets/controls",
      "model_module_version": "2.0.0",
      "model_name": "DescriptionStyleModel",
      "state": {
       "description_width": ""
      }
     },
     "5b6ca9a9cab246f5b6034779b079050e": {
      "model_module": "@jupyter-widgets/controls",
      "model_module_version": "2.0.0",
      "model_name": "FloatTextModel",
      "state": {
       "description": "Trial 2 – Moisture (%)",
       "layout": "IPY_MODEL_23c3ee792f6d4b129d1e458ae4154667",
       "step": null,
       "style": "IPY_MODEL_c04eab9f21ef40aabc7afba6a67337c4",
       "value": 11.5
      }
     },
     "5ba3f0576fcb41bb9c12fb0f029ce89e": {
      "model_module": "@jupyter-widgets/controls",
      "model_module_version": "2.0.0",
      "model_name": "FloatTextModel",
      "state": {
       "description": "Trial 1 – M₂: Mass After (kg)",
       "layout": "IPY_MODEL_a1ad00fc90aa4f44b1579dc200bc633b",
       "step": null,
       "style": "IPY_MODEL_f28c00cf43b44bcc8e5b48b7b4cf487d",
       "value": 10.1
      }
     },
     "5c7ed73d8d4d430491a37100864dedf6": {
      "model_module": "@jupyter-widgets/base",
      "model_module_version": "2.0.0",
      "model_name": "LayoutModel",
      "state": {}
     },
     "5d2a452e7c0540978264649c9371c711": {
      "model_module": "@jupyter-widgets/controls",
      "model_module_version": "2.0.0",
      "model_name": "DescriptionStyleModel",
      "state": {
       "description_width": "250px"
      }
     },
     "5d42372d084845fc9eab48e7711bc787": {
      "model_module": "@jupyter-widgets/controls",
      "model_module_version": "2.0.0",
      "model_name": "VBoxModel",
      "state": {
       "children": [
        "IPY_MODEL_c37654013a264a60a6f2ce816fac3150",
        "IPY_MODEL_74961722933443d19c88c4e61bf9648d",
        "IPY_MODEL_f3aeec7b29f54989bc79e24b58124fdb",
        "IPY_MODEL_7e4c4afc3f09439c934aa127ec343aac",
        "IPY_MODEL_f522dfdf0ebc4cebbbbaa02ed62063b6",
        "IPY_MODEL_0582920c60034f388daa317e739b8c58",
        "IPY_MODEL_4e509d8c0a6b48b59aec585bef70d81e",
        "IPY_MODEL_6a8aab2a454647ff93ec3b482f9d7aa4",
        "IPY_MODEL_cb476712693841c880fcbc6bd5a97718",
        "IPY_MODEL_6f0c4a7e75b844a4bfcbe99a58df1dc7",
        "IPY_MODEL_4c3881c46988493a953858bb650edcea"
       ],
       "layout": "IPY_MODEL_1f495d824a834b72b7ae10e1b50dfb4d"
      }
     },
     "5f6197205ac64f928ffc42a16262f01b": {
      "model_module": "@jupyter-widgets/controls",
      "model_module_version": "2.0.0",
      "model_name": "DescriptionStyleModel",
      "state": {
       "description_width": ""
      }
     },
     "63d017ff74b04d2cb94202999cc34a1c": {
      "model_module": "@jupyter-widgets/controls",
      "model_module_version": "2.0.0",
      "model_name": "FloatTextModel",
      "state": {
       "description": "Mold Mass (kg):",
       "layout": "IPY_MODEL_53b43a34d99741538028c942522303f3",
       "step": null,
       "style": "IPY_MODEL_689286e2c7c14214b52bfe60113572ed",
       "value": 2.1
      }
     },
     "63e8c794f80f46c88ab2248153231a79": {
      "model_module": "@jupyter-widgets/base",
      "model_module_version": "2.0.0",
      "model_name": "LayoutModel",
      "state": {}
     },
     "64e6d461329c471989f17f81d0d2b914": {
      "model_module": "@jupyter-widgets/controls",
      "model_module_version": "2.0.0",
      "model_name": "DescriptionStyleModel",
      "state": {
       "description_width": ""
      }
     },
     "6876c71ebbfb41a288be8356ca7314ea": {
      "model_module": "@jupyter-widgets/controls",
      "model_module_version": "2.0.0",
      "model_name": "DescriptionStyleModel",
      "state": {
       "description_width": "250px"
      }
     },
     "689286e2c7c14214b52bfe60113572ed": {
      "model_module": "@jupyter-widgets/controls",
      "model_module_version": "2.0.0",
      "model_name": "DescriptionStyleModel",
      "state": {
       "description_width": ""
      }
     },
     "69d3ee0c63d04871819550dc1be79330": {
      "model_module": "@jupyter-widgets/controls",
      "model_module_version": "2.0.0",
      "model_name": "FloatTextModel",
      "state": {
       "description": "Sand Density (kg/m³):",
       "layout": "IPY_MODEL_a1ad00fc90aa4f44b1579dc200bc633b",
       "step": null,
       "style": "IPY_MODEL_03cea924ae9442ed9c54a24752e2f159",
       "value": 1550
      }
     },
     "6a5298550fdf4f5db9b774ca84c010e6": {
      "model_module": "@jupyter-widgets/controls",
      "model_module_version": "2.0.0",
      "model_name": "DescriptionStyleModel",
      "state": {
       "description_width": ""
      }
     },
     "6a59fc6b821b459cae691ca23f7c3e60": {
      "model_module": "@jupyter-widgets/controls",
      "model_module_version": "2.0.0",
      "model_name": "DescriptionStyleModel",
      "state": {
       "description_width": ""
      }
     },
     "6a8aab2a454647ff93ec3b482f9d7aa4": {
      "model_module": "@jupyter-widgets/controls",
      "model_module_version": "2.0.0",
      "model_name": "FloatTextModel",
      "state": {
       "description": "Trial 2 – M₁: Mass Before (kg)",
       "layout": "IPY_MODEL_155036e9b109478d8b8f07ec0eba0425",
       "step": null,
       "style": "IPY_MODEL_e013fae9a5744f698ae1fa782429268f",
       "value": 12.5
      }
     },
     "6ac8be62eace49fdb896ad0f158dee00": {
      "model_module": "@jupyter-widgets/controls",
      "model_module_version": "2.0.0",
      "model_name": "FloatTextModel",
      "state": {
       "description": "Wet Mass (kg, Trial 1)",
       "layout": "IPY_MODEL_5c7ed73d8d4d430491a37100864dedf6",
       "step": null,
       "style": "IPY_MODEL_d42c9a4391644a899d444350fc89479b",
       "value": 4.2
      }
     },
     "6aeb1e64835a498f9c1a93dd2e3462e0": {
      "model_module": "@jupyter-widgets/controls",
      "model_module_version": "2.0.0",
      "model_name": "FloatTextModel",
      "state": {
       "description": "Trial 2 – M₁: Mass Before (kg)",
       "layout": "IPY_MODEL_e4344594e7634d418bc453496e0792f8",
       "step": null,
       "style": "IPY_MODEL_4cbf357e509f4c25954f702396ab9fe5",
       "value": 12.5
      }
     },
     "6b16caa1010249dea7cfa6e1403b89df": {
      "model_module": "@jupyter-widgets/base",
      "model_module_version": "2.0.0",
      "model_name": "LayoutModel",
      "state": {
       "width": "250px"
      }
     },
     "6b30c8003deb4444a542be0ec889bb75": {
      "model_module": "@jupyter-widgets/base",
      "model_module_version": "2.0.0",
      "model_name": "LayoutModel",
      "state": {}
     },
     "6bcade5386434d459b558cb2da6a66fb": {
      "model_module": "@jupyter-widgets/controls",
      "model_module_version": "2.0.0",
      "model_name": "FloatTextModel",
      "state": {
       "description": "Sand Density (kg/m³):",
       "layout": "IPY_MODEL_23c3ee792f6d4b129d1e458ae4154667",
       "step": null,
       "style": "IPY_MODEL_e6295213ac2740628c368f583f65b25b",
       "value": 1550
      }
     },
     "6bf6b3ad645a45218ce7766f4eece074": {
      "model_module": "@jupyter-widgets/base",
      "model_module_version": "2.0.0",
      "model_name": "LayoutModel",
      "state": {}
     },
     "6c5bc90cc3bb422aaa41b29705d6cb6e": {
      "model_module": "@jupyter-widgets/controls",
      "model_module_version": "2.0.0",
      "model_name": "FloatTextModel",
      "state": {
       "description": "Msoil: Excavated Soil [T2]",
       "layout": "IPY_MODEL_9ebbda0f31334a33bf6066aac5f39952",
       "step": null,
       "style": "IPY_MODEL_6ecaff4830294f18bd567390a322c8d8",
       "value": 3.85
      }
     },
     "6ce1ce273ecc4aeb9ff2fc1aed62f0c8": {
      "model_module": "@jupyter-widgets/controls",
      "model_module_version": "2.0.0",
      "model_name": "FloatTextModel",
      "state": {
       "description": "Wet Mass (kg, Trial 1)",
       "layout": "IPY_MODEL_23dd0937ad1f4772970d0417175221f9",
       "step": null,
       "style": "IPY_MODEL_2118bf10ec7b47458ef7c58201af0159",
       "value": 4.2
      }
     },
     "6dc7da235d6847d797962c92f7cf8bfd": {
      "model_module": "@jupyter-widgets/base",
      "model_module_version": "2.0.0",
      "model_name": "LayoutModel",
      "state": {}
     },
     "6dfba64a2ae64bc4ae4d3a50f2772d32": {
      "model_module": "@jupyter-widgets/controls",
      "model_module_version": "2.0.0",
      "model_name": "FloatTextModel",
      "state": {
       "description": "Wet Mass (kg, Trial 2)",
       "layout": "IPY_MODEL_132ac96b78ab44e4a6c39900af017a0a",
       "step": null,
       "style": "IPY_MODEL_f3cbd69275a9435ebb4335a80e425600",
       "value": 4.3
      }
     },
     "6ecaff4830294f18bd567390a322c8d8": {
      "model_module": "@jupyter-widgets/controls",
      "model_module_version": "2.0.0",
      "model_name": "DescriptionStyleModel",
      "state": {
       "description_width": ""
      }
     },
     "6f0c4a7e75b844a4bfcbe99a58df1dc7": {
      "model_module": "@jupyter-widgets/controls",
      "model_module_version": "2.0.0",
      "model_name": "FloatTextModel",
      "state": {
       "description": "Trial 2 – Excavated Soil (kg)",
       "layout": "IPY_MODEL_155036e9b109478d8b8f07ec0eba0425",
       "step": null,
       "style": "IPY_MODEL_5d2a452e7c0540978264649c9371c711",
       "value": 3.85
      }
     },
     "70474d4ccd474dd5a23fd0805dd2eb9f": {
      "model_module": "@jupyter-widgets/controls",
      "model_module_version": "2.0.0",
      "model_name": "ButtonStyleModel",
      "state": {
       "font_family": null,
       "font_size": null,
       "font_style": null,
       "font_variant": null,
       "font_weight": null,
       "text_color": null,
       "text_decoration": null
      }
     },
     "70a48e9d304b4d268e0f5611f08d720d": {
      "model_module": "@jupyter-widgets/controls",
      "model_module_version": "2.0.0",
      "model_name": "IntSliderModel",
      "state": {
       "behavior": "drag-tap",
       "description": "No. of Trials:",
       "layout": "IPY_MODEL_e4344594e7634d418bc453496e0792f8",
       "max": 10,
       "min": 1,
       "style": "IPY_MODEL_7349a7e9d69c4e3c9fe015d792b35e13",
       "value": 2
      }
     },
     "711ef47aee0c47a2ab8ed1688b2da02c": {
      "model_module": "@jupyter-widgets/controls",
      "model_module_version": "2.0.0",
      "model_name": "DescriptionStyleModel",
      "state": {
       "description_width": "250px"
      }
     },
     "71ba9dd8e56a45c5bd7c63c6ccc16ecc": {
      "model_module": "@jupyter-widgets/controls",
      "model_module_version": "2.0.0",
      "model_name": "FloatTextModel",
      "state": {
       "description": "M₂: Cone+Sand After [T1]",
       "layout": "IPY_MODEL_4f2d67ea0cab4d89a7151d0a87775c6e",
       "step": null,
       "style": "IPY_MODEL_d7f26ba2678948cb8d3c361fd784b5ea",
       "value": 10.1
      }
     },
     "726ff58ef0ea4ebd8e73657e5aa94c30": {
      "model_module": "@jupyter-widgets/controls",
      "model_module_version": "2.0.0",
      "model_name": "DescriptionStyleModel",
      "state": {
       "description_width": "250px"
      }
     },
     "7349a7e9d69c4e3c9fe015d792b35e13": {
      "model_module": "@jupyter-widgets/controls",
      "model_module_version": "2.0.0",
      "model_name": "SliderStyleModel",
      "state": {
       "description_width": "250px"
      }
     },
     "73c9af5ef5ad40cca9c26c034f9678e2": {
      "model_module": "@jupyter-widgets/base",
      "model_module_version": "2.0.0",
      "model_name": "LayoutModel",
      "state": {
       "width": "250px"
      }
     },
     "73e0786ad72a4185acf4b352c15fcc1e": {
      "model_module": "@jupyter-widgets/controls",
      "model_module_version": "2.0.0",
      "model_name": "DescriptionStyleModel",
      "state": {
       "description_width": "250px"
      }
     },
     "746ae982cb804c40a9a7708252508717": {
      "model_module": "@jupyter-widgets/controls",
      "model_module_version": "2.0.0",
      "model_name": "DescriptionStyleModel",
      "state": {
       "description_width": ""
      }
     },
     "746d12be694249f7bcff5d2425a92d19": {
      "model_module": "@jupyter-widgets/controls",
      "model_module_version": "2.0.0",
      "model_name": "DescriptionStyleModel",
      "state": {
       "description_width": "250px"
      }
     },
     "74961722933443d19c88c4e61bf9648d": {
      "model_module": "@jupyter-widgets/controls",
      "model_module_version": "2.0.0",
      "model_name": "FloatTextModel",
      "state": {
       "description": "Cone Tip Volume Correction (m³):",
       "layout": "IPY_MODEL_155036e9b109478d8b8f07ec0eba0425",
       "step": null,
       "style": "IPY_MODEL_906516f8275f4b4197fb3ae01f62d05c",
       "value": 1e-05
      }
     },
     "74e9072c7d254a30ae1ba45c91860ff3": {
      "model_module": "@jupyter-widgets/controls",
      "model_module_version": "2.0.0",
      "model_name": "DescriptionStyleModel",
      "state": {
       "description_width": "250px"
      }
     },
     "77f346f56953412db8f162a6e6a0d4fd": {
      "model_module": "@jupyter-widgets/controls",
      "model_module_version": "2.0.0",
      "model_name": "FloatTextModel",
      "state": {
       "description": "M₁: Cone+Sand Before [T2]",
       "layout": "IPY_MODEL_6dc7da235d6847d797962c92f7cf8bfd",
       "step": null,
       "style": "IPY_MODEL_2953b732d50c4587936e27284d4b5163",
       "value": 12.5
      }
     },
     "78a94bfb78ef479fa605ec2daebd41af": {
      "model_module": "@jupyter-widgets/controls",
      "model_module_version": "2.0.0",
      "model_name": "FloatTextModel",
      "state": {
       "description": "Moisture % (Trial 4)",
       "layout": "IPY_MODEL_d891958f17d04d4bac7b72b83d6d65d5",
       "step": null,
       "style": "IPY_MODEL_d3c1f58ffb2c45a6b79cddb355f52180",
       "value": 16.5
      }
     },
     "79a785d687ce4a77a382c266364b9819": {
      "model_module": "@jupyter-widgets/base",
      "model_module_version": "2.0.0",
      "model_name": "LayoutModel",
      "state": {}
     },
     "79ee00a0940647439a92402fb8a08a5e": {
      "model_module": "@jupyter-widgets/controls",
      "model_module_version": "2.0.0",
      "model_name": "DescriptionStyleModel",
      "state": {
       "description_width": ""
      }
     },
     "7a35786a93c145809fadd0a054ea2056": {
      "model_module": "@jupyter-widgets/controls",
      "model_module_version": "2.0.0",
      "model_name": "DescriptionStyleModel",
      "state": {
       "description_width": ""
      }
     },
     "7b5050ceda06489aa9f40f41537a5a5e": {
      "model_module": "@jupyter-widgets/controls",
      "model_module_version": "2.0.0",
      "model_name": "FloatTextModel",
      "state": {
       "description": "Trial 1 – M₁: Mass Before (kg)",
       "layout": "IPY_MODEL_e4344594e7634d418bc453496e0792f8",
       "step": null,
       "style": "IPY_MODEL_0d04b3de25674ad9bbb9a5bdf5b00d75",
       "value": 12.5
      }
     },
     "7b7dc10a65744fdb9907533bdf5e0746": {
      "model_module": "@jupyter-widgets/controls",
      "model_module_version": "2.0.0",
      "model_name": "VBoxModel",
      "state": {
       "children": [
        "IPY_MODEL_b98cf4f1c635417f9473f15b28ae5dda",
        "IPY_MODEL_8235d7500a7c4d0f8e7f0e77c0f37414",
        "IPY_MODEL_514a9e8e1e624ead8deb7f761db7a783"
       ],
       "layout": "IPY_MODEL_94b3282af69043f3bc2a7ac205393f70"
      }
     },
     "7bfaea4adbf349bf861694b132e0f401": {
      "model_module": "@jupyter-widgets/controls",
      "model_module_version": "2.0.0",
      "model_name": "FloatTextModel",
      "state": {
       "description": "Moisture % (Trial 2)",
       "layout": "IPY_MODEL_481cfa3b6fc849ed87d65d87d279985d",
       "step": null,
       "style": "IPY_MODEL_88564852485e4760a1e3cb271befd535",
       "value": 13.5
      }
     },
     "7daadaa61fc04c0a9968323649bf28a6": {
      "model_module": "@jupyter-widgets/base",
      "model_module_version": "2.0.0",
      "model_name": "LayoutModel",
      "state": {}
     },
     "7de8abf1540f47b9a9c57ae9e856d403": {
      "model_module": "@jupyter-widgets/controls",
      "model_module_version": "2.0.0",
      "model_name": "FloatTextModel",
      "state": {
       "description": "Moisture % [T1]",
       "layout": "IPY_MODEL_a3d6969c214d458c9a26aead87db2fff",
       "step": null,
       "style": "IPY_MODEL_845cac2e97314350bd947893f4e6cca2",
       "value": 11.5
      }
     },
     "7e4c4afc3f09439c934aa127ec343aac": {
      "model_module": "@jupyter-widgets/controls",
      "model_module_version": "2.0.0",
      "model_name": "FloatTextModel",
      "state": {
       "description": "Trial 1 – M₁: Mass Before (kg)",
       "layout": "IPY_MODEL_155036e9b109478d8b8f07ec0eba0425",
       "step": null,
       "style": "IPY_MODEL_0b525a541a414c8d87b30b46d323c8ea",
       "value": 12.5
      }
     },
     "7efc2beee4ea4ecdab26ab1a6a0d0859": {
      "model_module": "@jupyter-widgets/controls",
      "model_module_version": "2.0.0",
      "model_name": "DescriptionStyleModel",
      "state": {
       "description_width": "250px"
      }
     },
     "7f3a91c935d5480b87d20c431117bd86": {
      "model_module": "@jupyter-widgets/base",
      "model_module_version": "2.0.0",
      "model_name": "LayoutModel",
      "state": {}
     },
     "801908b67dca4d849c43abfefbaa004f": {
      "model_module": "@jupyter-widgets/controls",
      "model_module_version": "2.0.0",
      "model_name": "DescriptionStyleModel",
      "state": {
       "description_width": "250px"
      }
     },
     "8065488aa18d46b1964319cfe2e3fa0c": {
      "model_module": "@jupyter-widgets/base",
      "model_module_version": "2.0.0",
      "model_name": "LayoutModel",
      "state": {}
     },
     "81996b599b32423dae2da449e6097836": {
      "model_module": "@jupyter-widgets/controls",
      "model_module_version": "2.0.0",
      "model_name": "IntSliderModel",
      "state": {
       "behavior": "drag-tap",
       "description": "No. of Trials:",
       "layout": "IPY_MODEL_8b5f82022bfa4526b3d84d96d60fd840",
       "max": 10,
       "min": 1,
       "style": "IPY_MODEL_bda10ee6a5904011bf1ccf322a80089e",
       "value": 2
      }
     },
     "8235d7500a7c4d0f8e7f0e77c0f37414": {
      "model_module": "@jupyter-widgets/controls",
      "model_module_version": "2.0.0",
      "model_name": "VBoxModel",
      "state": {
       "children": [
        "IPY_MODEL_32ce93cb61844585b2642de831c84d8f",
        "IPY_MODEL_046c700a09f24e6e895f4975b631e6dc",
        "IPY_MODEL_339ce8cf03f24ea993cf6da30aa847fc",
        "IPY_MODEL_6ac8be62eace49fdb896ad0f158dee00",
        "IPY_MODEL_4e4a0464f8e74c05b4883dd00a17d233",
        "IPY_MODEL_0f10bd3a40be422fbe7fe5d39132d6fc",
        "IPY_MODEL_0e1a458c1ed140628faef4f9fa34ef08",
        "IPY_MODEL_117635dc01184a5d9bd3dc6e38352eb5",
        "IPY_MODEL_8594af533f604f72a781db488f360166",
        "IPY_MODEL_1e39748fddb646449f2632082a282a60",
        "IPY_MODEL_e6928783989d424da47cebfcb1c4bab7",
        "IPY_MODEL_2a445f05be524a96ba37a146efd13b5f"
       ],
       "layout": "IPY_MODEL_ff1eb95162ff4b0a8df0a2c7f37038ba"
      }
     },
     "83c157df29e84fb2978f4b0bfa2712d2": {
      "model_module": "@jupyter-widgets/controls",
      "model_module_version": "2.0.0",
      "model_name": "FloatTextModel",
      "state": {
       "description": "Moisture % (Trial 4)",
       "layout": "IPY_MODEL_c8a69dd07d9349d783ace983ee3d74b2",
       "step": null,
       "style": "IPY_MODEL_0839fc3ae7fa494aad37fe4e1348b331",
       "value": 16.5
      }
     },
     "845200fb1a0c4ac3887eb9a325f5c5b2": {
      "model_module": "@jupyter-widgets/controls",
      "model_module_version": "2.0.0",
      "model_name": "DescriptionStyleModel",
      "state": {
       "description_width": ""
      }
     },
     "845cac2e97314350bd947893f4e6cca2": {
      "model_module": "@jupyter-widgets/controls",
      "model_module_version": "2.0.0",
      "model_name": "DescriptionStyleModel",
      "state": {
       "description_width": ""
      }
     },
     "84ec7b95a8f34c9fa88af1658839281b": {
      "model_module": "@jupyter-widgets/base",
      "model_module_version": "2.0.0",
      "model_name": "LayoutModel",
      "state": {}
     },
     "84ee73686d294da09440463480fb5d12": {
      "model_module": "@jupyter-widgets/controls",
      "model_module_version": "2.0.0",
      "model_name": "ButtonModel",
      "state": {
       "description": "Compute & Generate Report",
       "layout": "IPY_MODEL_497988783db34d34966734726646d00c",
       "style": "IPY_MODEL_54c0ab02ff814d959ae5f5ac67f1b797",
       "tooltip": null
      }
     },
     "8594af533f604f72a781db488f360166": {
      "model_module": "@jupyter-widgets/controls",
      "model_module_version": "2.0.0",
      "model_name": "FloatTextModel",
      "state": {
       "description": "Moisture % (Trial 4)",
       "layout": "IPY_MODEL_3a9a416261fe4e2fa8438a34b59ac204",
       "step": null,
       "style": "IPY_MODEL_d7acdc6637564a2d9eccf5dc55c24f75",
       "value": 16.5
      }
     },
     "85c690870bc1442e9dcec31f66b01862": {
      "model_module": "@jupyter-widgets/base",
      "model_module_version": "2.0.0",
      "model_name": "LayoutModel",
      "state": {}
     },
     "86602aaec35e425992774ddbe0aa9c30": {
      "model_module": "@jupyter-widgets/controls",
      "model_module_version": "2.0.0",
      "model_name": "FloatTextModel",
      "state": {
       "description": "Trial 2 – M₂: Mass After (kg)",
       "layout": "IPY_MODEL_e4344594e7634d418bc453496e0792f8",
       "step": null,
       "style": "IPY_MODEL_2b47da5ca31444908185733f1694f5ad",
       "value": 10.1
      }
     },
     "8838c2dc00a9469288cc968f61dcc36e": {
      "model_module": "@jupyter-widgets/controls",
      "model_module_version": "2.0.0",
      "model_name": "FloatTextModel",
      "state": {
       "description": "Lab Max Dry Density (kg/m³):",
       "layout": "IPY_MODEL_e4344594e7634d418bc453496e0792f8",
       "step": null,
       "style": "IPY_MODEL_1a6cd49a1d4e4249a675207abad57493",
       "value": 1800
      }
     },
     "88564852485e4760a1e3cb271befd535": {
      "model_module": "@jupyter-widgets/controls",
      "model_module_version": "2.0.0",
      "model_name": "DescriptionStyleModel",
      "state": {
       "description_width": ""
      }
     },
     "89cd77ec6f8a49a6b12bf0a140eaab33": {
      "model_module": "@jupyter-widgets/controls",
      "model_module_version": "2.0.0",
      "model_name": "FloatTextModel",
      "state": {
       "description": "Trial 1 – Moisture (%)",
       "layout": "IPY_MODEL_a1ad00fc90aa4f44b1579dc200bc633b",
       "step": null,
       "style": "IPY_MODEL_7efc2beee4ea4ecdab26ab1a6a0d0859",
       "value": 11.5
      }
     },
     "8b5f82022bfa4526b3d84d96d60fd840": {
      "model_module": "@jupyter-widgets/base",
      "model_module_version": "2.0.0",
      "model_name": "LayoutModel",
      "state": {}
     },
     "8ceef96203e04217bd811d1cc88d0099": {
      "model_module": "@jupyter-widgets/controls",
      "model_module_version": "2.0.0",
      "model_name": "FloatTextModel",
      "state": {
       "description": "Trial 1 – M₁: Mass Before (kg)",
       "layout": "IPY_MODEL_a1ad00fc90aa4f44b1579dc200bc633b",
       "step": null,
       "style": "IPY_MODEL_801908b67dca4d849c43abfefbaa004f",
       "value": 12.5
      }
     },
     "8d570c4adcc0495cbc6a2e5e2032d27e": {
      "model_module": "@jupyter-widgets/base",
      "model_module_version": "2.0.0",
      "model_name": "LayoutModel",
      "state": {}
     },
     "8e0fbd9e8cd841b69a742110aaddb13d": {
      "model_module": "@jupyter-widgets/controls",
      "model_module_version": "2.0.0",
      "model_name": "DescriptionStyleModel",
      "state": {
       "description_width": ""
      }
     },
     "8e2e9bc717894cf580e00a2fdf10a706": {
      "model_module": "@jupyter-widgets/base",
      "model_module_version": "2.0.0",
      "model_name": "LayoutModel",
      "state": {}
     },
     "8e580b25d1db41549340944a4531f798": {
      "model_module": "@jupyter-widgets/controls",
      "model_module_version": "2.0.0",
      "model_name": "FloatTextModel",
      "state": {
       "description": "Cone Tip Volume (m³):",
       "layout": "IPY_MODEL_79a785d687ce4a77a382c266364b9819",
       "step": null,
       "style": "IPY_MODEL_6a5298550fdf4f5db9b774ca84c010e6",
       "value": 1e-05
      }
     },
     "8f6909eee174429f9ff983ca3f7725df": {
      "model_module": "@jupyter-widgets/controls",
      "model_module_version": "2.0.0",
      "model_name": "DescriptionStyleModel",
      "state": {
       "description_width": ""
      }
     },
     "906516f8275f4b4197fb3ae01f62d05c": {
      "model_module": "@jupyter-widgets/controls",
      "model_module_version": "2.0.0",
      "model_name": "DescriptionStyleModel",
      "state": {
       "description_width": "250px"
      }
     },
     "921b44726b284db9be6ca81e80f46a14": {
      "model_module": "@jupyter-widgets/base",
      "model_module_version": "2.0.0",
      "model_name": "LayoutModel",
      "state": {}
     },
     "93c4a9165e164a678df14775fab462a1": {
      "model_module": "@jupyter-widgets/base",
      "model_module_version": "2.0.0",
      "model_name": "LayoutModel",
      "state": {}
     },
     "94b3282af69043f3bc2a7ac205393f70": {
      "model_module": "@jupyter-widgets/base",
      "model_module_version": "2.0.0",
      "model_name": "LayoutModel",
      "state": {}
     },
     "9732f0935ef84438a07318a2f8b90415": {
      "model_module": "@jupyter-widgets/controls",
      "model_module_version": "2.0.0",
      "model_name": "DescriptionStyleModel",
      "state": {
       "description_width": ""
      }
     },
     "9785fc39ff0f41b98d73aa12d0b27aff": {
      "model_module": "@jupyter-widgets/base",
      "model_module_version": "2.0.0",
      "model_name": "LayoutModel",
      "state": {}
     },
     "97f22528ed9f44b6b9f9892063bab830": {
      "model_module": "@jupyter-widgets/controls",
      "model_module_version": "2.0.0",
      "model_name": "DescriptionStyleModel",
      "state": {
       "description_width": ""
      }
     },
     "9821e799ef95449c9ce1264a264b41e3": {
      "model_module": "@jupyter-widgets/controls",
      "model_module_version": "2.0.0",
      "model_name": "DescriptionStyleModel",
      "state": {
       "description_width": ""
      }
     },
     "9862bafa6b2e48f490f3fcfae19a287a": {
      "model_module": "@jupyter-widgets/controls",
      "model_module_version": "2.0.0",
      "model_name": "FloatTextModel",
      "state": {
       "description": "Moisture % [T2]",
       "layout": "IPY_MODEL_8065488aa18d46b1964319cfe2e3fa0c",
       "step": null,
       "style": "IPY_MODEL_ea0feb52995e4735b31b964d6511a4cf",
       "value": 11.5
      }
     },
     "98eed835726143f0858c8089f32e417c": {
      "model_module": "@jupyter-widgets/controls",
      "model_module_version": "2.0.0",
      "model_name": "DescriptionStyleModel",
      "state": {
       "description_width": ""
      }
     },
     "99e3a248ceb74a0884adea4a26c9a52f": {
      "model_module": "@jupyter-widgets/base",
      "model_module_version": "2.0.0",
      "model_name": "LayoutModel",
      "state": {}
     },
     "99e60511cc1d47c7be19571927d48023": {
      "model_module": "@jupyter-widgets/controls",
      "model_module_version": "2.0.0",
      "model_name": "FloatTextModel",
      "state": {
       "description": "Moisture % (Trial 2)",
       "layout": "IPY_MODEL_2256193465d049278d8cc6ae30bfe5c0",
       "step": null,
       "style": "IPY_MODEL_a375785cc9d648d48213b9080e8b8fbd",
       "value": 13.5
      }
     },
     "9a7cafc663d946b486ed58261e540952": {
      "model_module": "@jupyter-widgets/controls",
      "model_module_version": "2.0.0",
      "model_name": "ButtonStyleModel",
      "state": {
       "font_family": null,
       "font_size": null,
       "font_style": null,
       "font_variant": null,
       "font_weight": null,
       "text_color": null,
       "text_decoration": null
      }
     },
     "9b88bed93a824c3d9202e2133d153f9c": {
      "model_module": "@jupyter-widgets/controls",
      "model_module_version": "2.0.0",
      "model_name": "FloatTextModel",
      "state": {
       "description": "Trial 1 – M₂: Mass After (kg)",
       "layout": "IPY_MODEL_e4344594e7634d418bc453496e0792f8",
       "step": null,
       "style": "IPY_MODEL_726ff58ef0ea4ebd8e73657e5aa94c30",
       "value": 10.1
      }
     },
     "9bb25436616047f79d67cf7e48978114": {
      "model_module": "@jupyter-widgets/controls",
      "model_module_version": "2.0.0",
      "model_name": "FloatTextModel",
      "state": {
       "description": "Moisture % (Trial 3)",
       "layout": "IPY_MODEL_136ad18c1592469cbffce9b300a41f0c",
       "step": null,
       "style": "IPY_MODEL_9ffbf9f240a146b389e157e288287c3e",
       "value": 15
      }
     },
     "9d181bde69594b2ebe84f65759c25ca0": {
      "model_module": "@jupyter-widgets/controls",
      "model_module_version": "2.0.0",
      "model_name": "FloatTextModel",
      "state": {
       "description": "Wet Mass (kg, Trial 1)",
       "layout": "IPY_MODEL_1d769931505f4025ac72c7df44f65364",
       "step": null,
       "style": "IPY_MODEL_8f6909eee174429f9ff983ca3f7725df",
       "value": 4.2
      }
     },
     "9e766765ffcf434085bb062484ada997": {
      "model_module": "@jupyter-widgets/controls",
      "model_module_version": "2.0.0",
      "model_name": "DescriptionStyleModel",
      "state": {
       "description_width": "250px"
      }
     },
     "9ebbda0f31334a33bf6066aac5f39952": {
      "model_module": "@jupyter-widgets/base",
      "model_module_version": "2.0.0",
      "model_name": "LayoutModel",
      "state": {}
     },
     "9eec2c5fda144878be1bda04ed7a92c8": {
      "model_module": "@jupyter-widgets/controls",
      "model_module_version": "2.0.0",
      "model_name": "FloatTextModel",
      "state": {
       "description": "Moisture % [T1]",
       "layout": "IPY_MODEL_e8daa65873ff4f60941dca3ad220f6f5",
       "step": null,
       "style": "IPY_MODEL_cda1ce1b03bb4818bd5d0aee59bc851b",
       "value": 11.5
      }
     },
     "9f96d21c801f43faaf6c62df579e0504": {
      "model_module": "@jupyter-widgets/controls",
      "model_module_version": "2.0.0",
      "model_name": "FloatTextModel",
      "state": {
       "description": "Sand Density (kg/m³):",
       "layout": "IPY_MODEL_527abf6780ca4465a39b85c2af84bda1",
       "step": null,
       "style": "IPY_MODEL_123a26ae25e745bba203535e30127b4e",
       "value": 1550
      }
     },
     "9ffbf9f240a146b389e157e288287c3e": {
      "model_module": "@jupyter-widgets/controls",
      "model_module_version": "2.0.0",
      "model_name": "DescriptionStyleModel",
      "state": {
       "description_width": ""
      }
     },
     "a0c197f8f8ff4cb6acdd704a128e1b17": {
      "model_module": "@jupyter-widgets/controls",
      "model_module_version": "2.0.0",
      "model_name": "ButtonModel",
      "state": {
       "description": "Generate Report",
       "layout": "IPY_MODEL_169d7ef8526f4906b349f0f2695c1df3",
       "style": "IPY_MODEL_4eb75a9e86a1476781f0da7996ad1705",
       "tooltip": null
      }
     },
     "a10a632833ea4e9fbe945f47618c10b5": {
      "model_module": "@jupyter-widgets/base",
      "model_module_version": "2.0.0",
      "model_name": "LayoutModel",
      "state": {}
     },
     "a1ad00fc90aa4f44b1579dc200bc633b": {
      "model_module": "@jupyter-widgets/base",
      "model_module_version": "2.0.0",
      "model_name": "LayoutModel",
      "state": {
       "width": "450px"
      }
     },
     "a1b4cc4c79474e8293b6d02852710ea8": {
      "model_module": "@jupyter-widgets/controls",
      "model_module_version": "2.0.0",
      "model_name": "DescriptionStyleModel",
      "state": {
       "description_width": ""
      }
     },
     "a375785cc9d648d48213b9080e8b8fbd": {
      "model_module": "@jupyter-widgets/controls",
      "model_module_version": "2.0.0",
      "model_name": "DescriptionStyleModel",
      "state": {
       "description_width": ""
      }
     },
     "a3d6969c214d458c9a26aead87db2fff": {
      "model_module": "@jupyter-widgets/base",
      "model_module_version": "2.0.0",
      "model_name": "LayoutModel",
      "state": {}
     },
     "a43d263fc2784ff0b3f1c7b1efd173a4": {
      "model_module": "@jupyter-widgets/controls",
      "model_module_version": "2.0.0",
      "model_name": "FloatTextModel",
      "state": {
       "description": "Trial 1 – Excavated Soil (kg)",
       "layout": "IPY_MODEL_e4344594e7634d418bc453496e0792f8",
       "step": null,
       "style": "IPY_MODEL_010e50c37d4a4626b2cddbd2b3ab6479",
       "value": 3.85
      }
     },
     "a5e93fe45e184bb793bbece404d161c6": {
      "model_module": "@jupyter-widgets/controls",
      "model_module_version": "2.0.0",
      "model_name": "VBoxModel",
      "state": {
       "children": [
        "IPY_MODEL_70a48e9d304b4d268e0f5611f08d720d",
        "IPY_MODEL_e2f1d82d281f4e638c597a5e1a2eef29",
        "IPY_MODEL_d479d4344c92435d81c2f0489dbfe949"
       ],
       "layout": "IPY_MODEL_8e2e9bc717894cf580e00a2fdf10a706"
      }
     },
     "a630c2fcc8124ab9ade1c27802c02fd3": {
      "model_module": "@jupyter-widgets/base",
      "model_module_version": "2.0.0",
      "model_name": "LayoutModel",
      "state": {}
     },
     "a6c57ebeda9f460abcc267ad9c307280": {
      "model_module": "@jupyter-widgets/controls",
      "model_module_version": "2.0.0",
      "model_name": "FloatTextModel",
      "state": {
       "description": "Trial 1 – Excavated Soil (kg)",
       "layout": "IPY_MODEL_a1ad00fc90aa4f44b1579dc200bc633b",
       "step": null,
       "style": "IPY_MODEL_d52cb89afcad4ecb968b695a183d6339",
       "value": 3.85
      }
     },
     "a7b55c9cde604a28bbad3e8876065deb": {
      "model_module": "@jupyter-widgets/controls",
      "model_module_version": "2.0.0",
      "model_name": "DescriptionStyleModel",
      "state": {
       "description_width": ""
      }
     },
     "a9398d5b82ba436aa904450768e6e2e3": {
      "model_module": "@jupyter-widgets/controls",
      "model_module_version": "2.0.0",
      "model_name": "DescriptionStyleModel",
      "state": {
       "description_width": "250px"
      }
     },
     "aa04194da54e405c848bd506dfb0c05e": {
      "model_module": "@jupyter-widgets/base",
      "model_module_version": "2.0.0",
      "model_name": "LayoutModel",
      "state": {}
     },
     "aaa8545a5c844f99b40c3c60ace1373f": {
      "model_module": "@jupyter-widgets/controls",
      "model_module_version": "2.0.0",
      "model_name": "VBoxModel",
      "state": {
       "children": [
        "IPY_MODEL_81996b599b32423dae2da449e6097836",
        "IPY_MODEL_2c1f805ab24d4d07a9510a1246b0ea90",
        "IPY_MODEL_aef271e9b0d247e2a362aa5ed1167f43"
       ],
       "layout": "IPY_MODEL_cdc882987e344db2bd6efa4ac0f45ab0"
      }
     },
     "aae87a31c9ca425ca4aa0e516642c70c": {
      "model_module": "@jupyter-widgets/controls",
      "model_module_version": "2.0.0",
      "model_name": "FloatTextModel",
      "state": {
       "description": "Trial 1 – M₁: Mass Before (kg)",
       "layout": "IPY_MODEL_23c3ee792f6d4b129d1e458ae4154667",
       "step": null,
       "style": "IPY_MODEL_cc1c7b4fcbce4964883ebdee8be66e0b",
       "value": 12.5
      }
     },
     "ac491d27af28462b8c122115f48db3f7": {
      "model_module": "@jupyter-widgets/base",
      "model_module_version": "2.0.0",
      "model_name": "LayoutModel",
      "state": {}
     },
     "ad358ce92cb44edead1531eedc2d6445": {
      "model_module": "@jupyter-widgets/base",
      "model_module_version": "2.0.0",
      "model_name": "LayoutModel",
      "state": {}
     },
     "ad720b4b88184f8b843c89d2e821c439": {
      "model_module": "@jupyter-widgets/controls",
      "model_module_version": "2.0.0",
      "model_name": "DescriptionStyleModel",
      "state": {
       "description_width": "250px"
      }
     },
     "aef271e9b0d247e2a362aa5ed1167f43": {
      "model_module": "@jupyter-widgets/controls",
      "model_module_version": "2.0.0",
      "model_name": "ButtonModel",
      "state": {
       "description": "Compute & Report",
       "layout": "IPY_MODEL_e07e3fb4bec245cab035afc52bd823a5",
       "style": "IPY_MODEL_d5c2fd42bfe24dd38b02580575519269",
       "tooltip": null
      }
     },
     "af1426a6bdd844d6ad270852482f1a5b": {
      "model_module": "@jupyter-widgets/controls",
      "model_module_version": "2.0.0",
      "model_name": "FloatTextModel",
      "state": {
       "description": "M₁: Cone+Sand Before [T1]",
       "layout": "IPY_MODEL_07fe22eddcd24c6fbd4ab1ceeca114bc",
       "step": null,
       "style": "IPY_MODEL_5f6197205ac64f928ffc42a16262f01b",
       "value": 12.5
      }
     },
     "af9d38d8121341f185f46489d770c44d": {
      "model_module": "@jupyter-widgets/controls",
      "model_module_version": "2.0.0",
      "model_name": "FloatTextModel",
      "state": {
       "description": "Moisture % (Trial 5)",
       "layout": "IPY_MODEL_dd78a8601de641cebc8ebfa5f756d9d8",
       "step": null,
       "style": "IPY_MODEL_543834c5f3d04f96909a5ffd82ba8b33",
       "value": 18
      }
     },
     "afa0d5d1c20c48519b7891697c4f8735": {
      "model_module": "@jupyter-widgets/controls",
      "model_module_version": "2.0.0",
      "model_name": "DescriptionStyleModel",
      "state": {
       "description_width": "250px"
      }
     },
     "b16745580263401dbb501ae394664f74": {
      "model_module": "@jupyter-widgets/controls",
      "model_module_version": "2.0.0",
      "model_name": "DescriptionStyleModel",
      "state": {
       "description_width": ""
      }
     },
     "b16e67af549d4428a3c090cb59bb136d": {
      "model_module": "@jupyter-widgets/base",
      "model_module_version": "2.0.0",
      "model_name": "LayoutModel",
      "state": {}
     },
     "b1e0045b9de144b491dc653814cd14f2": {
      "model_module": "@jupyter-widgets/controls",
      "model_module_version": "2.0.0",
      "model_name": "SliderStyleModel",
      "state": {
       "description_width": ""
      }
     },
     "b35c739f8f4d40b8ad2bc53a6e43682d": {
      "model_module": "@jupyter-widgets/controls",
      "model_module_version": "2.0.0",
      "model_name": "DescriptionStyleModel",
      "state": {
       "description_width": "250px"
      }
     },
     "b386ef0a137946c496a6d1eb28d2fd31": {
      "model_module": "@jupyter-widgets/controls",
      "model_module_version": "2.0.0",
      "model_name": "FloatTextModel",
      "state": {
       "description": "Trial 2 – M₁: Mass Before (kg)",
       "layout": "IPY_MODEL_a1ad00fc90aa4f44b1579dc200bc633b",
       "step": null,
       "style": "IPY_MODEL_4afbe4b04bbf46f7b70e7cf2c1cb6065",
       "value": 12.5
      }
     },
     "b3ab26a7b4dd490086c324aa615aea3c": {
      "model_module": "@jupyter-widgets/controls",
      "model_module_version": "2.0.0",
      "model_name": "DescriptionStyleModel",
      "state": {
       "description_width": ""
      }
     },
     "b48574a6a22943799171821d79ed10bf": {
      "model_module": "@jupyter-widgets/controls",
      "model_module_version": "2.0.0",
      "model_name": "FloatTextModel",
      "state": {
       "description": "Lab Max Dry Density (kg/m³):",
       "layout": "IPY_MODEL_c3ce446c33704354b4b6f3a048e443a5",
       "step": null,
       "style": "IPY_MODEL_97f22528ed9f44b6b9f9892063bab830",
       "value": 1800
      }
     },
     "b5b4bbb30331414581ad5c009920cf98": {
      "model_module": "@jupyter-widgets/base",
      "model_module_version": "2.0.0",
      "model_name": "LayoutModel",
      "state": {}
     },
     "b98cf4f1c635417f9473f15b28ae5dda": {
      "model_module": "@jupyter-widgets/controls",
      "model_module_version": "2.0.0",
      "model_name": "IntSliderModel",
      "state": {
       "behavior": "drag-tap",
       "description": "Number of Trials:",
       "layout": "IPY_MODEL_50066a0effbd457eafc8ffd7ebb70e8c",
       "max": 10,
       "min": 1,
       "style": "IPY_MODEL_4e819a21ae29405599b5b8b6913b0f44",
       "value": 5
      }
     },
     "b9abec109fbe4ff093e85ac8ef166dda": {
      "model_module": "@jupyter-widgets/controls",
      "model_module_version": "2.0.0",
      "model_name": "DescriptionStyleModel",
      "state": {
       "description_width": "250px"
      }
     },
     "baac49b143464ffcb62bc26900fc215e": {
      "model_module": "@jupyter-widgets/base",
      "model_module_version": "2.0.0",
      "model_name": "LayoutModel",
      "state": {}
     },
     "bcf3b8aea2d4428e817b8160d0b6339b": {
      "model_module": "@jupyter-widgets/controls",
      "model_module_version": "2.0.0",
      "model_name": "FloatTextModel",
      "state": {
       "description": "M₁: Cone+Sand Before [T2]",
       "layout": "IPY_MODEL_ed06bc1f08b345929901f0df0d2d6641",
       "step": null,
       "style": "IPY_MODEL_9732f0935ef84438a07318a2f8b90415",
       "value": 12.5
      }
     },
     "bda10ee6a5904011bf1ccf322a80089e": {
      "model_module": "@jupyter-widgets/controls",
      "model_module_version": "2.0.0",
      "model_name": "SliderStyleModel",
      "state": {
       "description_width": ""
      }
     },
     "bdd4c8beb7d0478b823227e2f1f7144e": {
      "model_module": "@jupyter-widgets/controls",
      "model_module_version": "2.0.0",
      "model_name": "DescriptionStyleModel",
      "state": {
       "description_width": ""
      }
     },
     "be7f1b0a1adb4a84a40456e464345e50": {
      "model_module": "@jupyter-widgets/controls",
      "model_module_version": "2.0.0",
      "model_name": "VBoxModel",
      "state": {
       "children": [
        "IPY_MODEL_6bcade5386434d459b558cb2da6a66fb",
        "IPY_MODEL_0aef3643187b49b787ab966d1ae8c273",
        "IPY_MODEL_f2f58da588c54362b059227fda070949",
        "IPY_MODEL_aae87a31c9ca425ca4aa0e516642c70c",
        "IPY_MODEL_29ac71193ecc421c89dba340085a4439",
        "IPY_MODEL_2cb69b2314bf4491bbdfbb61c45ce2f9",
        "IPY_MODEL_eacc905b0f5641a9a77f4a510446906b",
        "IPY_MODEL_f817a15acb2a46d9894e5658b5622050",
        "IPY_MODEL_56e451b53ba94c08ad34ceb6127c06af",
        "IPY_MODEL_071cb8f3cab546b8b5c4b1c18dea06fd",
        "IPY_MODEL_5b6ca9a9cab246f5b6034779b079050e"
       ],
       "layout": "IPY_MODEL_ea59a0f0a1c74065b38f142c6fcb438e"
      }
     },
     "c04eab9f21ef40aabc7afba6a67337c4": {
      "model_module": "@jupyter-widgets/controls",
      "model_module_version": "2.0.0",
      "model_name": "DescriptionStyleModel",
      "state": {
       "description_width": "250px"
      }
     },
     "c1ef94da2495429981442d536da5eed3": {
      "model_module": "@jupyter-widgets/controls",
      "model_module_version": "2.0.0",
      "model_name": "FloatTextModel",
      "state": {
       "description": "Wet Mass (kg, Trial 3)",
       "layout": "IPY_MODEL_ac491d27af28462b8c122115f48db3f7",
       "step": null,
       "style": "IPY_MODEL_2b1dbc593034496d82bead98dc6f2ffd",
       "value": 4.4
      }
     },
     "c1fec505090043f88f7b3d8c0cd57c55": {
      "model_module": "@jupyter-widgets/base",
      "model_module_version": "2.0.0",
      "model_name": "LayoutModel",
      "state": {}
     },
     "c20c8999c38c4e6ca204f9d3410d31e9": {
      "model_module": "@jupyter-widgets/controls",
      "model_module_version": "2.0.0",
      "model_name": "DescriptionStyleModel",
      "state": {
       "description_width": ""
      }
     },
     "c37654013a264a60a6f2ce816fac3150": {
      "model_module": "@jupyter-widgets/controls",
      "model_module_version": "2.0.0",
      "model_name": "FloatTextModel",
      "state": {
       "description": "Sand Density (kg/m³):",
       "layout": "IPY_MODEL_155036e9b109478d8b8f07ec0eba0425",
       "step": null,
       "style": "IPY_MODEL_74e9072c7d254a30ae1ba45c91860ff3",
       "value": 1550
      }
     },
     "c3bf63e0a1a34981abbb6a06082a310d": {
      "model_module": "@jupyter-widgets/controls",
      "model_module_version": "2.0.0",
      "model_name": "IntSliderModel",
      "state": {
       "behavior": "drag-tap",
       "description": "No. of Trials:",
       "layout": "IPY_MODEL_155036e9b109478d8b8f07ec0eba0425",
       "max": 10,
       "min": 1,
       "style": "IPY_MODEL_1c150bb10dbd46f0aeb0b9b26a055b9c",
       "value": 2
      }
     },
     "c3ce446c33704354b4b6f3a048e443a5": {
      "model_module": "@jupyter-widgets/base",
      "model_module_version": "2.0.0",
      "model_name": "LayoutModel",
      "state": {}
     },
     "c6144ce223a646e195967827959bd174": {
      "model_module": "@jupyter-widgets/base",
      "model_module_version": "2.0.0",
      "model_name": "LayoutModel",
      "state": {}
     },
     "c67d1959c82544d7bf7f26fe7b03f1de": {
      "model_module": "@jupyter-widgets/base",
      "model_module_version": "2.0.0",
      "model_name": "LayoutModel",
      "state": {}
     },
     "c6e659bbd4ad42db80a6f76d448f4637": {
      "model_module": "@jupyter-widgets/controls",
      "model_module_version": "2.0.0",
      "model_name": "FloatTextModel",
      "state": {
       "description": "Sand Density (kg/m³):",
       "layout": "IPY_MODEL_11760c8a43ec498c828495cab4452e81",
       "step": null,
       "style": "IPY_MODEL_2db07c840d7240079de359d243deb7dc",
       "value": 1550
      }
     },
     "c7054c4d53a144fda195f68df454e0b1": {
      "model_module": "@jupyter-widgets/controls",
      "model_module_version": "2.0.0",
      "model_name": "DescriptionStyleModel",
      "state": {
       "description_width": ""
      }
     },
     "c7072e8998d745fd8c1192ecb7501e4a": {
      "model_module": "@jupyter-widgets/controls",
      "model_module_version": "2.0.0",
      "model_name": "DescriptionStyleModel",
      "state": {
       "description_width": ""
      }
     },
     "c778caa0f64a4e499462eacc7dc7333f": {
      "model_module": "@jupyter-widgets/controls",
      "model_module_version": "2.0.0",
      "model_name": "DescriptionStyleModel",
      "state": {
       "description_width": ""
      }
     },
     "c7f62723b53245269fb0d668e439876e": {
      "model_module": "@jupyter-widgets/controls",
      "model_module_version": "2.0.0",
      "model_name": "FloatTextModel",
      "state": {
       "description": "Moisture % [T2]",
       "layout": "IPY_MODEL_d4369687d3d64979be9ce0340f558c98",
       "step": null,
       "style": "IPY_MODEL_98eed835726143f0858c8089f32e417c",
       "value": 11.5
      }
     },
     "c8a69dd07d9349d783ace983ee3d74b2": {
      "model_module": "@jupyter-widgets/base",
      "model_module_version": "2.0.0",
      "model_name": "LayoutModel",
      "state": {}
     },
     "c8d0d4a2a75b4f528c2bcc7c6c227f80": {
      "model_module": "@jupyter-widgets/controls",
      "model_module_version": "2.0.0",
      "model_name": "DescriptionStyleModel",
      "state": {
       "description_width": "250px"
      }
     },
     "c90ef85fbf39479ba3c1a5016bf7199a": {
      "model_module": "@jupyter-widgets/controls",
      "model_module_version": "2.0.0",
      "model_name": "DescriptionStyleModel",
      "state": {
       "description_width": ""
      }
     },
     "c924ff7880e44fd088720fd55ec9d45f": {
      "model_module": "@jupyter-widgets/controls",
      "model_module_version": "2.0.0",
      "model_name": "DescriptionStyleModel",
      "state": {
       "description_width": ""
      }
     },
     "cb47476f853c45a59906b09db846e751": {
      "model_module": "@jupyter-widgets/controls",
      "model_module_version": "2.0.0",
      "model_name": "SliderStyleModel",
      "state": {
       "description_width": ""
      }
     },
     "cb476712693841c880fcbc6bd5a97718": {
      "model_module": "@jupyter-widgets/controls",
      "model_module_version": "2.0.0",
      "model_name": "FloatTextModel",
      "state": {
       "description": "Trial 2 – M₂: Mass After (kg)",
       "layout": "IPY_MODEL_155036e9b109478d8b8f07ec0eba0425",
       "step": null,
       "style": "IPY_MODEL_9e766765ffcf434085bb062484ada997",
       "value": 10.1
      }
     },
     "cc1c7b4fcbce4964883ebdee8be66e0b": {
      "model_module": "@jupyter-widgets/controls",
      "model_module_version": "2.0.0",
      "model_name": "DescriptionStyleModel",
      "state": {
       "description_width": "250px"
      }
     },
     "cd31b736aa1f4a078be42ea177427f66": {
      "model_module": "@jupyter-widgets/controls",
      "model_module_version": "2.0.0",
      "model_name": "FloatTextModel",
      "state": {
       "description": "Wet Mass (kg, Trial 4)",
       "layout": "IPY_MODEL_921b44726b284db9be6ca81e80f46a14",
       "step": null,
       "style": "IPY_MODEL_f916aaf4e08f4be6af7fc0464103ed7d",
       "value": 4.5
      }
     },
     "cda1ce1b03bb4818bd5d0aee59bc851b": {
      "model_module": "@jupyter-widgets/controls",
      "model_module_version": "2.0.0",
      "model_name": "DescriptionStyleModel",
      "state": {
       "description_width": ""
      }
     },
     "cdc882987e344db2bd6efa4ac0f45ab0": {
      "model_module": "@jupyter-widgets/base",
      "model_module_version": "2.0.0",
      "model_name": "LayoutModel",
      "state": {}
     },
     "cdefeb55cb624458b21cc38d9879435c": {
      "model_module": "@jupyter-widgets/base",
      "model_module_version": "2.0.0",
      "model_name": "LayoutModel",
      "state": {}
     },
     "ce4a1bd74e22430094dff324bd69e4c7": {
      "model_module": "@jupyter-widgets/controls",
      "model_module_version": "2.0.0",
      "model_name": "VBoxModel",
      "state": {
       "children": [
        "IPY_MODEL_57f0fd7dc18d4ec8a89b334c536c4c97",
        "IPY_MODEL_e7a6436ee9c2458aba5c06926a89ec7b",
        "IPY_MODEL_a0c197f8f8ff4cb6acdd704a128e1b17"
       ],
       "layout": "IPY_MODEL_e5f99766553f4ed3b3e55bbfd383a631"
      }
     },
     "d3c1f58ffb2c45a6b79cddb355f52180": {
      "model_module": "@jupyter-widgets/controls",
      "model_module_version": "2.0.0",
      "model_name": "DescriptionStyleModel",
      "state": {
       "description_width": ""
      }
     },
     "d42c9a4391644a899d444350fc89479b": {
      "model_module": "@jupyter-widgets/controls",
      "model_module_version": "2.0.0",
      "model_name": "DescriptionStyleModel",
      "state": {
       "description_width": ""
      }
     },
     "d4369687d3d64979be9ce0340f558c98": {
      "model_module": "@jupyter-widgets/base",
      "model_module_version": "2.0.0",
      "model_name": "LayoutModel",
      "state": {}
     },
     "d479d4344c92435d81c2f0489dbfe949": {
      "model_module": "@jupyter-widgets/controls",
      "model_module_version": "2.0.0",
      "model_name": "ButtonModel",
      "state": {
       "description": "Compute & Generate Report",
       "layout": "IPY_MODEL_6b16caa1010249dea7cfa6e1403b89df",
       "style": "IPY_MODEL_db37eb437ebe4a7cb15624daa67f2a92",
       "tooltip": null
      }
     },
     "d4a1b95b116840fe80c62089a5903006": {
      "model_module": "@jupyter-widgets/controls",
      "model_module_version": "2.0.0",
      "model_name": "FloatTextModel",
      "state": {
       "description": "Moisture % (Trial 1)",
       "layout": "IPY_MODEL_c1fec505090043f88f7b3d8c0cd57c55",
       "step": null,
       "style": "IPY_MODEL_27494fbd2ca24607bcfaa5595f1426e4",
       "value": 12
      }
     },
     "d52cb89afcad4ecb968b695a183d6339": {
      "model_module": "@jupyter-widgets/controls",
      "model_module_version": "2.0.0",
      "model_name": "DescriptionStyleModel",
      "state": {
       "description_width": "250px"
      }
     },
     "d5c2fd42bfe24dd38b02580575519269": {
      "model_module": "@jupyter-widgets/controls",
      "model_module_version": "2.0.0",
      "model_name": "ButtonStyleModel",
      "state": {
       "font_family": null,
       "font_size": null,
       "font_style": null,
       "font_variant": null,
       "font_weight": null,
       "text_color": null,
       "text_decoration": null
      }
     },
     "d78b3b31214f4593a35ed9e87b7d4826": {
      "model_module": "@jupyter-widgets/controls",
      "model_module_version": "2.0.0",
      "model_name": "FloatTextModel",
      "state": {
       "description": "Msoil: Excavated Soil [T2]",
       "layout": "IPY_MODEL_6b30c8003deb4444a542be0ec889bb75",
       "step": null,
       "style": "IPY_MODEL_c7072e8998d745fd8c1192ecb7501e4a",
       "value": 3.85
      }
     },
     "d7acdc6637564a2d9eccf5dc55c24f75": {
      "model_module": "@jupyter-widgets/controls",
      "model_module_version": "2.0.0",
      "model_name": "DescriptionStyleModel",
      "state": {
       "description_width": ""
      }
     },
     "d7f26ba2678948cb8d3c361fd784b5ea": {
      "model_module": "@jupyter-widgets/controls",
      "model_module_version": "2.0.0",
      "model_name": "DescriptionStyleModel",
      "state": {
       "description_width": ""
      }
     },
     "d891958f17d04d4bac7b72b83d6d65d5": {
      "model_module": "@jupyter-widgets/base",
      "model_module_version": "2.0.0",
      "model_name": "LayoutModel",
      "state": {}
     },
     "da4656fd416849cea79285ebcf5cc686": {
      "model_module": "@jupyter-widgets/controls",
      "model_module_version": "2.0.0",
      "model_name": "ButtonModel",
      "state": {
       "description": "Compute & Generate Report",
       "layout": "IPY_MODEL_13bc642c8bc34f4fa26ac0964d701113",
       "style": "IPY_MODEL_9a7cafc663d946b486ed58261e540952",
       "tooltip": null
      }
     },
     "da65112104b64964bb58d26901953119": {
      "model_module": "@jupyter-widgets/controls",
      "model_module_version": "2.0.0",
      "model_name": "DescriptionStyleModel",
      "state": {
       "description_width": "250px"
      }
     },
     "da6691b2f50c4ae0ba209ddcd101664e": {
      "model_module": "@jupyter-widgets/controls",
      "model_module_version": "2.0.0",
      "model_name": "DescriptionStyleModel",
      "state": {
       "description_width": "250px"
      }
     },
     "da7a87a387974fa5a64d4c269c45aa57": {
      "model_module": "@jupyter-widgets/controls",
      "model_module_version": "2.0.0",
      "model_name": "ButtonModel",
      "state": {
       "description": "Compute & Report",
       "layout": "IPY_MODEL_1da3f2daff5d46d194330cfc4d772df6",
       "style": "IPY_MODEL_313a2a38af174aa5a1936826bb14d234",
       "tooltip": null
      }
     },
     "da87ad228d334a1caaa77138cc9cd19d": {
      "model_module": "@jupyter-widgets/base",
      "model_module_version": "2.0.0",
      "model_name": "LayoutModel",
      "state": {}
     },
     "db37eb437ebe4a7cb15624daa67f2a92": {
      "model_module": "@jupyter-widgets/controls",
      "model_module_version": "2.0.0",
      "model_name": "ButtonStyleModel",
      "state": {
       "font_family": null,
       "font_size": null,
       "font_style": null,
       "font_variant": null,
       "font_weight": null,
       "text_color": null,
       "text_decoration": null
      }
     },
     "db607f55a36b4175bdaaeadcf005035a": {
      "model_module": "@jupyter-widgets/controls",
      "model_module_version": "2.0.0",
      "model_name": "FloatTextModel",
      "state": {
       "description": "Mold Volume (m³):",
       "layout": "IPY_MODEL_e4297f759e784dd4a2bcbe735db72471",
       "step": null,
       "style": "IPY_MODEL_79ee00a0940647439a92402fb8a08a5e",
       "value": 0.001
      }
     },
     "dcbd3ff082c2485d94c118943db75fbd": {
      "model_module": "@jupyter-widgets/controls",
      "model_module_version": "2.0.0",
      "model_name": "DescriptionStyleModel",
      "state": {
       "description_width": "250px"
      }
     },
     "dd78a8601de641cebc8ebfa5f756d9d8": {
      "model_module": "@jupyter-widgets/base",
      "model_module_version": "2.0.0",
      "model_name": "LayoutModel",
      "state": {}
     },
     "dea33f8c7cd948c69cbe4a84f500bc3f": {
      "model_module": "@jupyter-widgets/controls",
      "model_module_version": "2.0.0",
      "model_name": "FloatTextModel",
      "state": {
       "description": "Moisture % (Trial 3)",
       "layout": "IPY_MODEL_85c690870bc1442e9dcec31f66b01862",
       "step": null,
       "style": "IPY_MODEL_845200fb1a0c4ac3887eb9a325f5c5b2",
       "value": 15
      }
     },
     "e013fae9a5744f698ae1fa782429268f": {
      "model_module": "@jupyter-widgets/controls",
      "model_module_version": "2.0.0",
      "model_name": "DescriptionStyleModel",
      "state": {
       "description_width": "250px"
      }
     },
     "e0298f06200545a7b406cce915c27626": {
      "model_module": "@jupyter-widgets/base",
      "model_module_version": "2.0.0",
      "model_name": "LayoutModel",
      "state": {}
     },
     "e07e3fb4bec245cab035afc52bd823a5": {
      "model_module": "@jupyter-widgets/base",
      "model_module_version": "2.0.0",
      "model_name": "LayoutModel",
      "state": {}
     },
     "e2f1d82d281f4e638c597a5e1a2eef29": {
      "model_module": "@jupyter-widgets/controls",
      "model_module_version": "2.0.0",
      "model_name": "VBoxModel",
      "state": {
       "children": [
        "IPY_MODEL_23a8ec70835f46d0b075e14cff2d84d6",
        "IPY_MODEL_120b7105e72142f7934f76d998456705",
        "IPY_MODEL_8838c2dc00a9469288cc968f61dcc36e",
        "IPY_MODEL_7b5050ceda06489aa9f40f41537a5a5e",
        "IPY_MODEL_9b88bed93a824c3d9202e2133d153f9c",
        "IPY_MODEL_a43d263fc2784ff0b3f1c7b1efd173a4",
        "IPY_MODEL_0ab2ed4e3e5c448085434fdb6c2e4f07",
        "IPY_MODEL_6aeb1e64835a498f9c1a93dd2e3462e0",
        "IPY_MODEL_86602aaec35e425992774ddbe0aa9c30",
        "IPY_MODEL_17e3d970b70044bc9833a1a0e38ff7eb",
        "IPY_MODEL_2ae5df61b9104595865aeddcada1b08f"
       ],
       "layout": "IPY_MODEL_aa04194da54e405c848bd506dfb0c05e"
      }
     },
     "e3163bfaeaad4df78a508f221ab08fa7": {
      "model_module": "@jupyter-widgets/controls",
      "model_module_version": "2.0.0",
      "model_name": "VBoxModel",
      "state": {
       "children": [
        "IPY_MODEL_2ab7b29e1a7f4245a978802a20b7d494",
        "IPY_MODEL_eacd0526814547d8a232548b0465ead8",
        "IPY_MODEL_da7a87a387974fa5a64d4c269c45aa57"
       ],
       "layout": "IPY_MODEL_247d80f9965e40a2a9df35d4b1a0b202"
      }
     },
     "e4297f759e784dd4a2bcbe735db72471": {
      "model_module": "@jupyter-widgets/base",
      "model_module_version": "2.0.0",
      "model_name": "LayoutModel",
      "state": {}
     },
     "e4344594e7634d418bc453496e0792f8": {
      "model_module": "@jupyter-widgets/base",
      "model_module_version": "2.0.0",
      "model_name": "LayoutModel",
      "state": {
       "width": "450px"
      }
     },
     "e461422405f9405e8efbddf8e7189b5f": {
      "model_module": "@jupyter-widgets/base",
      "model_module_version": "2.0.0",
      "model_name": "LayoutModel",
      "state": {}
     },
     "e4738dd867a340c09ca75bd1d0b327e0": {
      "model_module": "@jupyter-widgets/controls",
      "model_module_version": "2.0.0",
      "model_name": "FloatTextModel",
      "state": {
       "description": "Moisture % (Trial 1)",
       "layout": "IPY_MODEL_7f3a91c935d5480b87d20c431117bd86",
       "step": null,
       "style": "IPY_MODEL_64e6d461329c471989f17f81d0d2b914",
       "value": 12
      }
     },
     "e5d3bd3aa5d2459088f4159839341915": {
      "model_module": "@jupyter-widgets/controls",
      "model_module_version": "2.0.0",
      "model_name": "FloatTextModel",
      "state": {
       "description": "Trial 2 – Moisture (%)",
       "layout": "IPY_MODEL_a1ad00fc90aa4f44b1579dc200bc633b",
       "step": null,
       "style": "IPY_MODEL_746d12be694249f7bcff5d2425a92d19",
       "value": 11.5
      }
     },
     "e5f99766553f4ed3b3e55bbfd383a631": {
      "model_module": "@jupyter-widgets/base",
      "model_module_version": "2.0.0",
      "model_name": "LayoutModel",
      "state": {}
     },
     "e6295213ac2740628c368f583f65b25b": {
      "model_module": "@jupyter-widgets/controls",
      "model_module_version": "2.0.0",
      "model_name": "DescriptionStyleModel",
      "state": {
       "description_width": "250px"
      }
     },
     "e6928783989d424da47cebfcb1c4bab7": {
      "model_module": "@jupyter-widgets/controls",
      "model_module_version": "2.0.0",
      "model_name": "FloatTextModel",
      "state": {
       "description": "Moisture % (Trial 5)",
       "layout": "IPY_MODEL_c6144ce223a646e195967827959bd174",
       "step": null,
       "style": "IPY_MODEL_2173357fb746492ea345dd896e0cdfbe",
       "value": 18
      }
     },
     "e770d590ee554ab5a4e84c1418a702c3": {
      "model_module": "@jupyter-widgets/controls",
      "model_module_version": "2.0.0",
      "model_name": "FloatTextModel",
      "state": {
       "description": "Wet Mass (kg, Trial 1)",
       "layout": "IPY_MODEL_a630c2fcc8124ab9ade1c27802c02fd3",
       "step": null,
       "style": "IPY_MODEL_5b051a96e4c34c9da0e863352fc2fa6b",
       "value": 4.2
      }
     },
     "e7a6436ee9c2458aba5c06926a89ec7b": {
      "model_module": "@jupyter-widgets/controls",
      "model_module_version": "2.0.0",
      "model_name": "VBoxModel",
      "state": {
       "children": [
        "IPY_MODEL_63d017ff74b04d2cb94202999cc34a1c",
        "IPY_MODEL_db607f55a36b4175bdaaeadcf005035a",
        "IPY_MODEL_2f118ddc5fc04727884b9f10aa4bde91",
        "IPY_MODEL_e770d590ee554ab5a4e84c1418a702c3",
        "IPY_MODEL_7bfaea4adbf349bf861694b132e0f401",
        "IPY_MODEL_3d86812883b04e5593865f40d98181d6",
        "IPY_MODEL_dea33f8c7cd948c69cbe4a84f500bc3f",
        "IPY_MODEL_f510050e765b481e80f51f5100f2e910"
       ],
       "layout": "IPY_MODEL_eb38407c68ee4247bff0bdb705663176"
      }
     },
     "e8daa65873ff4f60941dca3ad220f6f5": {
      "model_module": "@jupyter-widgets/base",
      "model_module_version": "2.0.0",
      "model_name": "LayoutModel",
      "state": {}
     },
     "ea0feb52995e4735b31b964d6511a4cf": {
      "model_module": "@jupyter-widgets/controls",
      "model_module_version": "2.0.0",
      "model_name": "DescriptionStyleModel",
      "state": {
       "description_width": ""
      }
     },
     "ea59a0f0a1c74065b38f142c6fcb438e": {
      "model_module": "@jupyter-widgets/base",
      "model_module_version": "2.0.0",
      "model_name": "LayoutModel",
      "state": {}
     },
     "eacc905b0f5641a9a77f4a510446906b": {
      "model_module": "@jupyter-widgets/controls",
      "model_module_version": "2.0.0",
      "model_name": "FloatTextModel",
      "state": {
       "description": "Trial 1 – Moisture (%)",
       "layout": "IPY_MODEL_23c3ee792f6d4b129d1e458ae4154667",
       "step": null,
       "style": "IPY_MODEL_12075545b3944057a00e31eda970879c",
       "value": 11.5
      }
     },
     "eacd0526814547d8a232548b0465ead8": {
      "model_module": "@jupyter-widgets/controls",
      "model_module_version": "2.0.0",
      "model_name": "VBoxModel",
      "state": {
       "children": [
        "IPY_MODEL_9f96d21c801f43faaf6c62df579e0504",
        "IPY_MODEL_8e580b25d1db41549340944a4531f798",
        "IPY_MODEL_b48574a6a22943799171821d79ed10bf",
        "IPY_MODEL_1620124d509b4210b64b0da01a4a24dd",
        "IPY_MODEL_32705a60fbc74d0dac092484fc3a0deb",
        "IPY_MODEL_3d02675fd11a4f79bf67e30d7902f93f",
        "IPY_MODEL_9eec2c5fda144878be1bda04ed7a92c8",
        "IPY_MODEL_bcf3b8aea2d4428e817b8160d0b6339b",
        "IPY_MODEL_39d31f28061f47c4ad52ccb2f279ad4c",
        "IPY_MODEL_6c5bc90cc3bb422aaa41b29705d6cb6e",
        "IPY_MODEL_c7f62723b53245269fb0d668e439876e"
       ],
       "layout": "IPY_MODEL_0d1d5cd73bbf4145abdea8aa01cfcdc2"
      }
     },
     "eb38407c68ee4247bff0bdb705663176": {
      "model_module": "@jupyter-widgets/base",
      "model_module_version": "2.0.0",
      "model_name": "LayoutModel",
      "state": {}
     },
     "ec1e5cde438b475b8a9465841c8997d8": {
      "model_module": "@jupyter-widgets/controls",
      "model_module_version": "2.0.0",
      "model_name": "DescriptionStyleModel",
      "state": {
       "description_width": ""
      }
     },
     "ed06bc1f08b345929901f0df0d2d6641": {
      "model_module": "@jupyter-widgets/base",
      "model_module_version": "2.0.0",
      "model_name": "LayoutModel",
      "state": {}
     },
     "ed8ebc009e4b4bdf9c728bb584e03872": {
      "model_module": "@jupyter-widgets/controls",
      "model_module_version": "2.0.0",
      "model_name": "VBoxModel",
      "state": {
       "children": [
        "IPY_MODEL_c3bf63e0a1a34981abbb6a06082a310d",
        "IPY_MODEL_5d42372d084845fc9eab48e7711bc787",
        "IPY_MODEL_da4656fd416849cea79285ebcf5cc686"
       ],
       "layout": "IPY_MODEL_3f74c51deda84fe88123a88b2965d8c5"
      }
     },
     "f28c00cf43b44bcc8e5b48b7b4cf487d": {
      "model_module": "@jupyter-widgets/controls",
      "model_module_version": "2.0.0",
      "model_name": "DescriptionStyleModel",
      "state": {
       "description_width": "250px"
      }
     },
     "f2f58da588c54362b059227fda070949": {
      "model_module": "@jupyter-widgets/controls",
      "model_module_version": "2.0.0",
      "model_name": "FloatTextModel",
      "state": {
       "description": "Lab Max Dry Density (kg/m³):",
       "layout": "IPY_MODEL_23c3ee792f6d4b129d1e458ae4154667",
       "step": null,
       "style": "IPY_MODEL_b9abec109fbe4ff093e85ac8ef166dda",
       "value": 1800
      }
     },
     "f3aeec7b29f54989bc79e24b58124fdb": {
      "model_module": "@jupyter-widgets/controls",
      "model_module_version": "2.0.0",
      "model_name": "FloatTextModel",
      "state": {
       "description": "Lab Max Dry Density (kg/m³):",
       "layout": "IPY_MODEL_155036e9b109478d8b8f07ec0eba0425",
       "step": null,
       "style": "IPY_MODEL_dcbd3ff082c2485d94c118943db75fbd",
       "value": 1800
      }
     },
     "f3cbd69275a9435ebb4335a80e425600": {
      "model_module": "@jupyter-widgets/controls",
      "model_module_version": "2.0.0",
      "model_name": "DescriptionStyleModel",
      "state": {
       "description_width": ""
      }
     },
     "f510050e765b481e80f51f5100f2e910": {
      "model_module": "@jupyter-widgets/controls",
      "model_module_version": "2.0.0",
      "model_name": "FloatTextModel",
      "state": {
       "description": "Wet Mass (kg, Trial 3)",
       "layout": "IPY_MODEL_c67d1959c82544d7bf7f26fe7b03f1de",
       "step": null,
       "style": "IPY_MODEL_1ce5e7b1bf8741adbc2d7af7d614859d",
       "value": 4.4
      }
     },
     "f522dfdf0ebc4cebbbbaa02ed62063b6": {
      "model_module": "@jupyter-widgets/controls",
      "model_module_version": "2.0.0",
      "model_name": "FloatTextModel",
      "state": {
       "description": "Trial 1 – M₂: Mass After (kg)",
       "layout": "IPY_MODEL_155036e9b109478d8b8f07ec0eba0425",
       "step": null,
       "style": "IPY_MODEL_da65112104b64964bb58d26901953119",
       "value": 10.1
      }
     },
     "f6cf6ae6fef04ed796df4c357b090805": {
      "model_module": "@jupyter-widgets/base",
      "model_module_version": "2.0.0",
      "model_name": "LayoutModel",
      "state": {}
     },
     "f6d7aec2f6c148dd9d0b8cc301d76e4c": {
      "model_module": "@jupyter-widgets/base",
      "model_module_version": "2.0.0",
      "model_name": "LayoutModel",
      "state": {}
     },
     "f817a15acb2a46d9894e5658b5622050": {
      "model_module": "@jupyter-widgets/controls",
      "model_module_version": "2.0.0",
      "model_name": "FloatTextModel",
      "state": {
       "description": "Trial 2 – M₁: Mass Before (kg)",
       "layout": "IPY_MODEL_23c3ee792f6d4b129d1e458ae4154667",
       "step": null,
       "style": "IPY_MODEL_119495b38f2547e8bde8c7b53bc98c9f",
       "value": 12.5
      }
     },
     "f905af000ed248249fb56d0dd176815b": {
      "model_module": "@jupyter-widgets/base",
      "model_module_version": "2.0.0",
      "model_name": "LayoutModel",
      "state": {}
     },
     "f916aaf4e08f4be6af7fc0464103ed7d": {
      "model_module": "@jupyter-widgets/controls",
      "model_module_version": "2.0.0",
      "model_name": "DescriptionStyleModel",
      "state": {
       "description_width": ""
      }
     },
     "fdd334911b0d4e759aecd6b0309fdc67": {
      "model_module": "@jupyter-widgets/controls",
      "model_module_version": "2.0.0",
      "model_name": "ButtonModel",
      "state": {
       "description": "Compute & Generate Report",
       "layout": "IPY_MODEL_73c9af5ef5ad40cca9c26c034f9678e2",
       "style": "IPY_MODEL_469d38d3fe074b6298d34e795f64935d",
       "tooltip": null
      }
     },
     "fe6f0b4e32f448c38e51465ff0e831e8": {
      "model_module": "@jupyter-widgets/controls",
      "model_module_version": "2.0.0",
      "model_name": "FloatTextModel",
      "state": {
       "description": "Trial 2 – M₂: Mass After (kg)",
       "layout": "IPY_MODEL_a1ad00fc90aa4f44b1579dc200bc633b",
       "step": null,
       "style": "IPY_MODEL_39051903cb734f34b975b9d45205b114",
       "value": 10.1
      }
     },
     "fefbbbf8cc774190812b5179e206b73d": {
      "model_module": "@jupyter-widgets/controls",
      "model_module_version": "2.0.0",
      "model_name": "FloatTextModel",
      "state": {
       "description": "Wet Mass (kg, Trial 5)",
       "layout": "IPY_MODEL_1d656358455e47c4af8069bc159f0516",
       "step": null,
       "style": "IPY_MODEL_45ae1a5d94194559ab1b7b6391a785ed",
       "value": 4.6000000000000005
      }
     },
     "ff1eb95162ff4b0a8df0a2c7f37038ba": {
      "model_module": "@jupyter-widgets/base",
      "model_module_version": "2.0.0",
      "model_name": "LayoutModel",
      "state": {}
     }
    },
    "version_major": 2,
    "version_minor": 0
   }
  }
 },
 "nbformat": 4,
 "nbformat_minor": 5
}
