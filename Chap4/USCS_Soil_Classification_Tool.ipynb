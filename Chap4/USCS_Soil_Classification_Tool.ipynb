{
 "cells": [
  {
   "cell_type": "markdown",
   "id": "e33c5dd9-a77a-430b-bbd6-8dcc7e94e344",
   "metadata": {},
   "source": [
    "# Chapter 4 Geotechnical Engineering: USCS Soil Classification"
   ]
  },
  {
   "cell_type": "markdown",
   "id": "8ee7b805-2406-4fb2-8498-08c5f566bdd1",
   "metadata": {},
   "source": [
    "1. [Introduction: USCS Soil Classification](#1.-Introduction)\n",
    "2. [Simulation: USCS Soil Classification](#2.-Simulation)\n",
    "3. [Simulation: Soil Hydraulic Properties Calculator](#3.-Simulation)\n",
    "4. [Self-Assessment](#4.-Self-Assessment)"
   ]
  },
  {
   "cell_type": "markdown",
   "id": "2089dea2-d844-4069-bfc7-8e2e8c50ba8f",
   "metadata": {},
   "source": [
    "## 1. Introduction"
   ]
  },
  {
   "cell_type": "markdown",
   "id": "2d848883",
   "metadata": {},
   "source": [
    "### 🧱 Soil and Sand Classification – Engineering and Coastal Importance\n",
    "\n",
    "\n",
    "**Soil classification** is the process of categorizing soils based on their **grain size, plasticity, and behavior** under loading and environmental conditions. It helps engineers predict performance and select appropriate design strategies.\n",
    "\n",
    "---\n",
    "\n",
    "### 📊 Common Soil Classification Systems\n",
    "\n",
    "| System        | Basis of Classification                          | Typical Use Case                     |\n",
    "|---------------|--------------------------------------------------|--------------------------------------|\n",
    "| **USCS**      | Grain size, plasticity, and Atterberg limits     | Foundation and earthwork design      |\n",
    "| **AASHTO**    | Grain size and fines content                     | Highway and pavement design          |\n",
    "| **Unified Soil Classification** | Combines textural and plasticity criteria | General geotechnical applications |\n",
    "\n",
    "---\n",
    "\n",
    "### 🌊 Sand Classification in Coastal Engineering\n",
    "\n",
    "In **coastal engineering**, sand is classified based on **grain size** to evaluate its suitability for:\n",
    "\n",
    "- **Beach nourishment**\n",
    "- **Dune stabilization**\n",
    "- **Scour protection**\n",
    "- **Sediment transport modeling**\n",
    "\n",
    "### 📐 Coastal Sand Size Categories\n",
    "\n",
    "| Sand Type         | Grain Size Range (mm)       | Description                          |\n",
    "|-------------------|-----------------------------|--------------------------------------|\n",
    "| **Very Fine Sand**| 0.0625 – 0.125               | Easily eroded; low settling velocity |\n",
    "| **Fine Sand**     | 0.125 – 0.25                 | Common in beach profiles             |\n",
    "| **Medium Sand**   | 0.25 – 0.5                   | Stable under moderate wave action    |\n",
    "| **Coarse Sand**   | 0.5 – 1.0                    | Used for dune and berm construction  |\n",
    "| **Very Coarse Sand**| 1.0 – 2.0                  | High resistance to wave-induced transport |\n",
    "\n",
    "> Grain size affects **wave energy dissipation**, **sediment mobility**, and **beach profile evolution**.\n",
    "\n",
    "---\n",
    "\n",
    "### 🧠 Importance of Soil Classification in Engineering\n",
    "\n",
    "### 1. **Foundation Design**\n",
    "- Determines bearing capacity and settlement behavior\n",
    "\n",
    "### 2. **Slope Stability**\n",
    "- Identifies risk-prone soils (e.g., soft clays, loose sands)\n",
    "\n",
    "### 3. **Compaction and Earthwork**\n",
    "- Guides equipment selection and moisture control\n",
    "\n",
    "### 4. **Drainage and Permeability**\n",
    "- Influences seepage, erosion, and groundwater flow\n",
    "\n",
    "### 5. **Construction Suitability**\n",
    "- Flags problematic soils (e.g., expansive, collapsible, organic)\n",
    "\n",
    "### 6. **Coastal Applications**\n",
    "- Supports sediment transport modeling, beach nourishment, and erosion control\n",
    "\n",
    "---\n",
    "\n",
    "### 📐 Key Soil Properties for Classification\n",
    "\n",
    "| Property             | Role in Classification                                                       |\n",
    "|----------------------|------------------------------------------------------------------------------|\n",
    "| **Grain Size**        | Distinguishes coarse vs. fine soils; critical in coastal and geotechnical design |\n",
    "| **Plasticity Index**  | Indicates soil's ability to deform without cracking                         |\n",
    "| **Liquid and Plastic Limits** | Define consistency and moisture sensitivity                    |\n",
    "| **Fines Content**     | Affects permeability, cohesion, and compaction                              |\n",
    "\n",
    "---\n",
    "\n",
    "### 🧠 Conceptual Insight\n",
    "\n",
    "> Soil and sand classification are essential for **predicting behavior**,  \n",
    "> ensuring **safe design**, and managing **environmental interactions** —  \n",
    "> from **foundations** to **shorelines**.\n",
    "\n",
    "---\n",
    "\n",
    "### ❓ Quiz Questions\n",
    "\n",
    "1. What grain size range defines medium sand in coastal engineering?\n",
    "2. Why is soil classification important for slope stability?\n",
    "3. How does fines content affect permeability?\n",
    "4. What classification system is used for highway subgrades?\n",
    "5. Why is sand classification critical in beach nourishment projects?"
   ]
  },
  {
   "cell_type": "markdown",
   "id": "e1408b0c-fa81-45d8-b828-239a18e00250",
   "metadata": {},
   "source": [
    "## 2. Simulation"
   ]
  },
  {
   "cell_type": "markdown",
   "id": "9e4bdc1c-0535-4c67-83d2-7b66f2860830",
   "metadata": {},
   "source": [
    "\n",
    "### USCS Soil Classification Tool – Description & Theory\n",
    "\n",
    "This interactive tool classifies soil based on the **Unified Soil Classification System (USCS)** and visualizes its plasticity characteristics using the **Casagrande Plasticity Chart**. It is designed for geotechnical engineers, students, and researchers to explore soil behavior based on key parameters.\n",
    "\n",
    "---\n",
    "\n",
    "### USCS Classification Theory\n",
    "\n",
    "The **USCS** classifies soils based on:\n",
    "- **Grain size distribution** (percent fines, sand, gravel)\n",
    "- **Plasticity characteristics** (Liquid Limit and Plasticity Index)\n",
    "\n",
    "### 🔹 Key Definitions:\n",
    "- **Fines**: Particles smaller than 0.075 mm (silt and clay)\n",
    "- **Sand**: Particles between 0.075 mm and 4.75 mm\n",
    "- **Gravel**: Particles larger than 4.75 mm\n",
    "- **Liquid Limit (LL)**: Water content at which soil changes from plastic to liquid state\n",
    "- **Plasticity Index (PI)**: PI = LL - PL (Plastic Limit)\n",
    "\n",
    "---\n",
    "\n",
    "### Casagrande Plasticity Chart\n",
    "\n",
    "This chart is used to classify **fine-grained soils** based on LL and PI.\n",
    "\n",
    "- **A-line**: PI = 0.73(LL - 20)  \n",
    "  - Soils **above** the A-line are **clays**\n",
    "  - Soils **below** the A-line are **silts**\n",
    "- **U-line**: PI = 0.9(LL - 8)  \n",
    "  - Represents the upper bound of natural soil behavior\n",
    "\n",
    "---\n",
    "\n",
    "### Code Functionality\n",
    "\n",
    "### 1. **Input Sliders**\n",
    "- Users input:\n",
    "  - Percent Fines\n",
    "  - Percent Sand\n",
    "  - Percent Gravel\n",
    "  - Liquid Limit (LL)\n",
    "  - Plasticity Index (PI)\n",
    "\n",
    "### 2. **Classification Logic**\n",
    "- If **fines > 50%**:\n",
    "  - **CH**: Fat Clay (PI > A-line)\n",
    "  - **ML**: Silt (PI < A-line)\n",
    "  - **CL-ML**: Intermediate\n",
    "- If **12% < fines ≤ 50%**:\n",
    "  - **SC/SM**: Silty or Clayey Sand\n",
    "- If **sand > gravel**:\n",
    "  - **SP/SM**: Poorly Graded or Silty Sand\n",
    "- Else:\n",
    "  - **GP/GM**: Poorly Graded or Silty Gravel\n",
    "\n",
    "### 3. **Plasticity Chart**\n",
    "- Plots A-line, U-line, and the sample point\n",
    "- Helps visualize soil behavior and classification\n",
    "---\n",
    "\n",
    "### How to Use\n",
    "1. Adjust the sliders to input soil parameters.\n",
    "2. View the **USCS classification** and **plasticity chart** update in real time.\n",
    "\n",
    "---\n",
    "\n",
    "> This tool is ideal for educational use, lab data interpretation, and preliminary geotechnical analysis.\n"
   ]
  },
  {
   "cell_type": "code",
   "execution_count": 5,
   "id": "2936f343",
   "metadata": {},
   "outputs": [
    {
     "data": {
      "application/vnd.jupyter.widget-view+json": {
       "model_id": "b4aacb96dc3b4792b333b06d3a53de01",
       "version_major": 2,
       "version_minor": 0
      },
      "text/plain": [
       "VBox(children=(IntSlider(value=30, description='Fines (%)'), IntSlider(value=40, description='Sand (%)'), IntS…"
      ]
     },
     "metadata": {},
     "output_type": "display_data"
    },
    {
     "data": {
      "application/vnd.jupyter.widget-view+json": {
       "model_id": "b6cf5c5f82194c08b3faa4cf1c6fd821",
       "version_major": 2,
       "version_minor": 0
      },
      "text/plain": [
       "Output()"
      ]
     },
     "metadata": {},
     "output_type": "display_data"
    }
   ],
   "source": [
    "\n",
    "import ipywidgets as widgets\n",
    "from IPython.display import display, Markdown\n",
    "import plotly.graph_objects as go\n",
    "\n",
    "def classify_soil(percent_fines, percent_sand, percent_gravel, LL, PI):\n",
    "    if percent_fines > 50:\n",
    "        if PI > 7 and PI > 0.73 * (LL - 20):\n",
    "            return \"CH (Fat Clay)\"\n",
    "        elif PI < 4 and PI < 0.73 * (LL - 20):\n",
    "            return \"ML (Silt)\"\n",
    "        else:\n",
    "            return \"CL-ML (Silty Clay)\"\n",
    "    elif percent_fines > 12:\n",
    "        return \"SC/SM (Silty or Clayey Sand)\"\n",
    "    elif percent_sand > percent_gravel:\n",
    "        return \"SP/SM (Poorly Graded or Silty Sand)\"\n",
    "    else:\n",
    "        return \"GP/GM (Poorly Graded or Silty Gravel)\"\n",
    "    \n",
    "\n",
    "def plot_plasticity_chart(LL, PI):\n",
    "    fig = go.Figure()\n",
    "\n",
    "    # A-line\n",
    "    x_a = list(range(0, 101))\n",
    "    y_a = [0.73 * (x - 20) for x in x_a]\n",
    "    fig.add_trace(go.Scatter(x=x_a, y=y_a, mode='lines', name='A-line'))\n",
    "\n",
    "    # U-line\n",
    "    x_u = list(range(8, 74))\n",
    "    y_u = [0.9 * x - 8 for x in x_u]\n",
    "    fig.add_trace(go.Scatter(x=x_u, y=y_u, mode='lines', name='U-line'))\n",
    "\n",
    "    # Sample point\n",
    "    fig.add_trace(go.Scatter(x=[LL], y=[PI], mode='markers', name='Sample', marker=dict(size=10, color='red')))\n",
    "\n",
    "    fig.update_layout(title='Casagrande Plasticity Chart',\n",
    "                      xaxis_title='Liquid Limit (LL)',\n",
    "                      yaxis_title='Plasticity Index (PI)',\n",
    "                      xaxis=dict(range=[0, 100]),\n",
    "                      yaxis=dict(range=[0, 60]),\n",
    "                      width=700, height=500)\n",
    "    fig.show()\n",
    "\n",
    "    \n",
    "percent_fines = widgets.IntSlider(value=30, min=0, max=100, description='Fines (%)')\n",
    "percent_sand = widgets.IntSlider(value=40, min=0, max=100, description='Sand (%)')\n",
    "percent_gravel = widgets.IntSlider(value=30, min=0, max=100, description='Gravel (%)')\n",
    "LL = widgets.IntSlider(value=40, min=0, max=100, description='Liquid Limit')\n",
    "PI = widgets.IntSlider(value=20, min=0, max=60, description='Plasticity Index')\n",
    "\n",
    "ui = widgets.VBox([percent_fines, percent_sand, percent_gravel, LL, PI])\n",
    "\n",
    "\n",
    "out = widgets.Output()\n",
    "\n",
    "def update(change=None):\n",
    "    out.clear_output()\n",
    "    with out:\n",
    "        classification = classify_soil(percent_fines.value, percent_sand.value, percent_gravel.value, LL.value, PI.value)\n",
    "        display(Markdown(f\"### USCS Classification: **{classification}**\"))\n",
    "        plot_plasticity_chart(LL.value, PI.value)\n",
    "\n",
    "for widget in [percent_fines, percent_sand, percent_gravel, LL, PI]:\n",
    "    widget.observe(update, names='value')\n",
    "\n",
    "display(ui, out)\n",
    "update()\n"
   ]
  },
  {
   "cell_type": "markdown",
   "id": "9312d2a8-7512-45cf-b406-515fcae40d56",
   "metadata": {},
   "source": [
    "## 3. Simulation"
   ]
  },
  {
   "cell_type": "markdown",
   "id": "62c1d367-ca45-40dc-9dbf-0c5e859a266f",
   "metadata": {},
   "source": [
    "### 🧱 Interactive Soil Texture and Property Estimator\n",
    "\n",
    "This tool:\n",
    "- Classifies soil texture using **USDA soil triangle rules**\n",
    "- Automatically calculates **silt percentage** from user-selected sand and clay\n",
    "- Estimates key **hydraulic** and **geotechnical properties**:\n",
    "  - Field Capacity (θ_fc)\n",
    "  - Wilting Point (θ_wp)\n",
    "  - Saturated Hydraulic Conductivity (Ksat)\n",
    "  - Soil Strength\n",
    "  - Compression Index (Cc)\n",
    "  - Recompression Index (Cr)\n",
    "\n",
    "---\n",
    "\n",
    "### 🔧 Inputs\n",
    "- **Sand (%)**: User-selected via slider\n",
    "- **Clay (%)**: User-selected via slider (auto-constrained so sand + clay ≤ 100%)\n",
    "- **Silt (%)**: Automatically computed as `100 − sand − clay`\n",
    "\n",
    "### 📐 Classification\n",
    "- Applies USDA soil texture rules to determine texture class:\n",
    "  - Examples: Loam, Clay Loam, Sandy Clay, Silt Loam\n",
    "\n",
    "### 📊 Property Estimation\n",
    "- Retrieves hydraulic and geotechnical properties from a predefined database based on texture class\n",
    "\n",
    "---\n",
    "\n",
    "## 📋 How to Interpret Results\n",
    "\n",
    "| Output Field                     | Meaning                                                                 |\n",
    "|----------------------------------|-------------------------------------------------------------------------|\n",
    "| **Soil Texture Classification**  | USDA-based label (e.g., Loam, Clay, Sandy Loam)                         |\n",
    "| **Sand / Clay / Silt (%)**       | Composition breakdown; silt is auto-calculated                          |\n",
    "| **θ_fc / θ_wp**                  | Water retention characteristics; important for irrigation and drainage  |\n",
    "| **Ksat (mm/hr)**                 | Saturated hydraulic conductivity; affects infiltration and seepage      |\n",
    "| **Soil Strength (kPa)**          | Approximate shear strength; relevant for bearing capacity and stability |\n",
    "| **Cc / Cr**                      | Compression and recompression indices; used in settlement analysis      |\n",
    "\n",
    "---\n",
    "\n",
    "## 🧠 Conceptual Insight\n",
    "\n",
    "> This tool supports **soil classification and preliminary design** by linking texture to key engineering properties —  \n",
    "> useful for **foundation design**, **drainage planning**, and **agronomic assessments**.\n",
    "\n",
    "---\n",
    "\n",
    "## ❓ Example Questions\n",
    "\n",
    "1. What happens to silt percentage when sand and clay are increased?\n",
    "2. How does soil texture affect hydraulic conductivity?\n",
    "3. Why is compression index important in geotechnical design?\n",
    "4. What texture class typically has the highest field capacity?\n",
    "5. How does this tool help in estimating soil behavior for foundations?\n"
   ]
  },
  {
   "cell_type": "code",
   "execution_count": 6,
   "id": "6ebae963-cac7-483a-9241-c59545c8f8eb",
   "metadata": {},
   "outputs": [
    {
     "data": {
      "application/vnd.jupyter.widget-view+json": {
       "model_id": "0560cec3744b430d8e9d18bad3ef66e4",
       "version_major": 2,
       "version_minor": 0
      },
      "text/plain": [
       "VBox(children=(IntSlider(value=60, description='Sand (%)'), IntSlider(value=20, description='Clay (%)', max=40…"
      ]
     },
     "metadata": {},
     "output_type": "display_data"
    },
    {
     "data": {
      "application/vnd.jupyter.widget-view+json": {
       "model_id": "ee0b6968dcf74a9981b6fb5d221b46c4",
       "version_major": 2,
       "version_minor": 0
      },
      "text/plain": [
       "Output()"
      ]
     },
     "metadata": {},
     "output_type": "display_data"
    }
   ],
   "source": [
    "import numpy as np\n",
    "import ipywidgets as widgets\n",
    "from IPython.display import display, Markdown, clear_output\n",
    "\n",
    "# 📌 Soil texture database with hydraulic and geotechnical properties\n",
    "soil_texture_db = {\n",
    "    'Sand': {'θ_fc': 0.10, 'θ_wp': 0.05, 'Ksat': 100.0, 'strength': 10, 'Cc': 0.01, 'Cr': 0.005},\n",
    "    'Loamy Sand': {'θ_fc': 0.12, 'θ_wp': 0.06, 'Ksat': 40.0, 'strength': 15, 'Cc': 0.02, 'Cr': 0.007},\n",
    "    'Sandy Loam': {'θ_fc': 0.18, 'θ_wp': 0.10, 'Ksat': 20.0, 'strength': 20, 'Cc': 0.05, 'Cr': 0.015},\n",
    "    'Loam': {'θ_fc': 0.25, 'θ_wp': 0.12, 'Ksat': 10.0, 'strength': 25, 'Cc': 0.10, 'Cr': 0.03},\n",
    "    'Silt Loam': {'θ_fc': 0.30, 'θ_wp': 0.15, 'Ksat': 6.0, 'strength': 30, 'Cc': 0.15, 'Cr': 0.05},\n",
    "    'Sandy Clay Loam': {'θ_fc': 0.27, 'θ_wp': 0.17, 'Ksat': 2.0, 'strength': 40, 'Cc': 0.20, 'Cr': 0.07},\n",
    "    'Clay Loam': {'θ_fc': 0.32, 'θ_wp': 0.20, 'Ksat': 1.0, 'strength': 50, 'Cc': 0.25, 'Cr': 0.08},\n",
    "    'Silty Clay Loam': {'θ_fc': 0.34, 'θ_wp': 0.22, 'Ksat': 0.5, 'strength': 60, 'Cc': 0.30, 'Cr': 0.10},\n",
    "    'Sandy Clay': {'θ_fc': 0.30, 'θ_wp': 0.20, 'Ksat': 1.0, 'strength': 55, 'Cc': 0.28, 'Cr': 0.09},\n",
    "    'Silty Clay': {'θ_fc': 0.36, 'θ_wp': 0.25, 'Ksat': 0.3, 'strength': 65, 'Cc': 0.35, 'Cr': 0.12},\n",
    "    'Clay': {'θ_fc': 0.40, 'θ_wp': 0.27, 'Ksat': 0.1, 'strength': 70, 'Cc': 0.40, 'Cr': 0.15}\n",
    "}\n",
    "\n",
    "# 📐 USDA soil texture classifier\n",
    "def classify_soil_texture(sand, silt, clay):\n",
    "    if sand + silt + clay != 100:\n",
    "        return \"Invalid: Percentages must sum to 100\"\n",
    "\n",
    "    if clay >= 40:\n",
    "        if silt >= 40:\n",
    "            return 'Silty Clay'\n",
    "        elif sand >= 45:\n",
    "            return 'Sandy Clay'\n",
    "        else:\n",
    "            return 'Clay'\n",
    "    elif clay >= 27:\n",
    "        if sand >= 20 and sand <= 45:\n",
    "            return 'Clay Loam'\n",
    "        elif silt >= 28 and silt < 50:\n",
    "            return 'Silty Clay Loam'\n",
    "        else:\n",
    "            return 'Sandy Clay Loam'\n",
    "    elif clay >= 7 and clay < 27:\n",
    "        if silt >= 50 and sand < 20:\n",
    "            return 'Silt Loam'\n",
    "        elif silt >= 30 and silt < 50 and sand >= 20 and sand < 50:\n",
    "            return 'Loam'\n",
    "        elif silt < 28 and sand >= 50:\n",
    "            return 'Sandy Loam'\n",
    "        else:\n",
    "            return 'Clay Loam'\n",
    "    elif clay < 7:\n",
    "        if silt < 50 and sand > 85:\n",
    "            return 'Sand'\n",
    "        elif sand >= 70 and silt >= 15 and silt < 30:\n",
    "            return 'Loamy Sand'\n",
    "        else:\n",
    "            return 'Sandy Loam'\n",
    "    else:\n",
    "        return 'Loam'\n",
    "\n",
    "# 🔍 Property estimator\n",
    "def estimate_properties(sand, clay):\n",
    "    silt = 100 - sand - clay\n",
    "    if silt < 0:\n",
    "        return \"Invalid\", None, silt\n",
    "    texture = classify_soil_texture(sand, silt, clay)\n",
    "    props = soil_texture_db.get(texture, None)\n",
    "    return texture, props, silt\n",
    "\n",
    "# 🎛️ Interactive widgets\n",
    "sand_slider = widgets.IntSlider(value=60, min=0, max=100, step=1, description='Sand (%)')\n",
    "clay_slider = widgets.IntSlider(value=20, min=0, max=40, step=1, description='Clay (%)')\n",
    "output = widgets.Output()\n",
    "\n",
    "def update_clay_slider_range(change=None):\n",
    "    clay_slider.max = 100 - sand_slider.value\n",
    "    if clay_slider.value > clay_slider.max:\n",
    "        clay_slider.value = clay_slider.max\n",
    "\n",
    "def update_output(change=None):\n",
    "    output.clear_output()\n",
    "    sand = sand_slider.value\n",
    "    clay = clay_slider.value\n",
    "    texture, props, silt = estimate_properties(sand, clay)\n",
    "    with output:\n",
    "        if silt < 0:\n",
    "            display(Markdown(\"❌ **Error:** Sand + Clay must be ≤ 100%\"))\n",
    "            return\n",
    "        display(Markdown(f\"### 🧱 Soil Texture Classification: **{texture}**\"))\n",
    "        display(Markdown(f\"- **Sand:** {sand}%  \\n- **Clay:** {clay}%  \\n- **Silt (auto):** {silt}%\"))\n",
    "        if props:\n",
    "            display(Markdown(f\"\"\"\n",
    "- **Field Capacity (θ_fc):** {props['θ_fc']:.2f}  \n",
    "- **Wilting Point (θ_wp):** {props['θ_wp']:.2f}  \n",
    "- **Saturated Hydraulic Conductivity (Ksat):** {props['Ksat']:.2f} mm/hr  \n",
    "- **Soil Strength:** {props['strength']} kPa  \n",
    "- **Compression Index (Cc):** {props['Cc']:.2f}  \n",
    "- **Recompression Index (Cr):** {props['Cr']:.2f}\n",
    "\"\"\"))\n",
    "        else:\n",
    "            display(Markdown(\"⚠️ No data available for this texture.\"))\n",
    "\n",
    "# 🔄 Link updates\n",
    "sand_slider.observe(update_clay_slider_range, names='value')\n",
    "sand_slider.observe(update_output, names='value')\n",
    "clay_slider.observe(update_output, names='value')\n",
    "\n",
    "# 📊 Display interface\n",
    "display(widgets.VBox([sand_slider, clay_slider]), output)\n",
    "update_clay_slider_range()\n",
    "update_output()"
   ]
  },
  {
   "cell_type": "markdown",
   "id": "3f8dd49c-cad9-43b2-a389-0197ab5a083b",
   "metadata": {},
   "source": [
    "## 4. Self-Assessment"
   ]
  },
  {
   "cell_type": "markdown",
   "id": "9fb958a2",
   "metadata": {},
   "source": [
    "### USCS Soil Classification Learning Module\n",
    "\n",
    "###  1. Conceptual Questions\n",
    "\n",
    "1. **What is the Unified Soil Classification System (USCS), and why is it important in geotechnical engineering?**\n",
    "2. **Define the terms: Liquid Limit (LL), Plastic Limit (PL), and Plasticity Index (PI).**\n",
    "3. **What is the significance of the A-line in the Casagrande Plasticity Chart?**\n",
    "4. **How does the percentage of fines influence whether a soil is classified as coarse-grained or fine-grained?**\n",
    "5. **What are the typical engineering behaviors of CH vs. ML soils?**\n",
    "\n",
    "---\n",
    "\n",
    "###  2. Reflective Questions\n",
    "\n",
    "1. **How might the classification of a soil change if the fines content increases from 10% to 60%?**\n",
    "2. **Why might two soils with the same LL but different PI values be classified differently?**\n",
    "3. **How does the USCS classification help in selecting foundation types or construction methods?**\n",
    "4. **What limitations might exist in using only LL and PI for soil classification?**\n",
    "5. **How would you explain the difference between SC and SM soils to a non-engineer?**\n",
    "\n",
    "---\n",
    "\n",
    "### 3. Sample Problems\n",
    "\n",
    "### **Problem 1:**\n",
    "A soil sample has:\n",
    "- Fines: 55%\n",
    "- LL: 60\n",
    "- PI: 35\n",
    "\n",
    "**Question:** What is the USCS classification?\n",
    "\n",
    "> ✅ **Answer:** Since fines > 50% and PI > A-line → **CH (Fat Clay)**\n",
    "\n",
    "---\n",
    "\n",
    "### **Problem 2:**\n",
    "A soil has:\n",
    "- Fines: 15%\n",
    "- Sand: 60%\n",
    "- Gravel: 25%\n",
    "- LL: 45\n",
    "- PI: 10\n",
    "\n",
    "**Question:** What is the USCS classification?\n",
    "\n",
    "> ✅ **Answer:** Fines between 12–50% → **SC/SM (Silty or Clayey Sand)**\n",
    "\n",
    "---\n",
    "\n",
    "### **Problem 3:**\n",
    "A soil has:\n",
    "- Fines: 8%\n",
    "- Sand: 30%\n",
    "- Gravel: 62%\n",
    "\n",
    "**Question:** What is the USCS classification?\n",
    "\n",
    "> ✅ **Answer:** Fines < 12%, gravel > sand → **GP/GM (Poorly Graded or Silty Gravel)**\n",
    "\n",
    "---\n",
    "\n",
    "### 📝 4. Quiz (Multiple Choice)"
   ]
  },
  {
   "cell_type": "code",
   "execution_count": 7,
   "id": "372d43fe",
   "metadata": {},
   "outputs": [
    {
     "data": {
      "text/markdown": [
       "**Q1.** What does the A-line on the plasticity chart represent?"
      ],
      "text/plain": [
       "<IPython.core.display.Markdown object>"
      ]
     },
     "metadata": {},
     "output_type": "display_data"
    },
    {
     "data": {
      "application/vnd.jupyter.widget-view+json": {
       "model_id": "5ea3af2182204a22b83d3fb9e0444099",
       "version_major": 2,
       "version_minor": 0
      },
      "text/plain": [
       "RadioButtons(layout=Layout(width='max-content'), options=('A) Boundary between sand and gravel', 'B) Upper lim…"
      ]
     },
     "metadata": {},
     "output_type": "display_data"
    },
    {
     "data": {
      "application/vnd.jupyter.widget-view+json": {
       "model_id": "21ac9dab199d4726b20793ebbb6d268a",
       "version_major": 2,
       "version_minor": 0
      },
      "text/plain": [
       "Output()"
      ]
     },
     "metadata": {},
     "output_type": "display_data"
    },
    {
     "data": {
      "text/markdown": [
       "**Q2.** A soil with LL = 50 and PI = 10 lies:"
      ],
      "text/plain": [
       "<IPython.core.display.Markdown object>"
      ]
     },
     "metadata": {},
     "output_type": "display_data"
    },
    {
     "data": {
      "application/vnd.jupyter.widget-view+json": {
       "model_id": "5f2331d6b09547759ad243de08dc7fff",
       "version_major": 2,
       "version_minor": 0
      },
      "text/plain": [
       "RadioButtons(layout=Layout(width='max-content'), options=('A) Above the A-line', 'B) Below the A-line', 'C) On…"
      ]
     },
     "metadata": {},
     "output_type": "display_data"
    },
    {
     "data": {
      "application/vnd.jupyter.widget-view+json": {
       "model_id": "cb3204b4877743d882cbb75ef6ebad66",
       "version_major": 2,
       "version_minor": 0
      },
      "text/plain": [
       "Output()"
      ]
     },
     "metadata": {},
     "output_type": "display_data"
    },
    {
     "data": {
      "text/markdown": [
       "**Q3.** Which of the following is a coarse-grained soil?"
      ],
      "text/plain": [
       "<IPython.core.display.Markdown object>"
      ]
     },
     "metadata": {},
     "output_type": "display_data"
    },
    {
     "data": {
      "application/vnd.jupyter.widget-view+json": {
       "model_id": "e7b013191cf84271907984dd2aae3058",
       "version_major": 2,
       "version_minor": 0
      },
      "text/plain": [
       "RadioButtons(layout=Layout(width='max-content'), options=('A) CH', 'B) ML', 'C) SP', 'D) CL'), value='A) CH')"
      ]
     },
     "metadata": {},
     "output_type": "display_data"
    },
    {
     "data": {
      "application/vnd.jupyter.widget-view+json": {
       "model_id": "f3e778a2a26d46259678767537bb1915",
       "version_major": 2,
       "version_minor": 0
      },
      "text/plain": [
       "Output()"
      ]
     },
     "metadata": {},
     "output_type": "display_data"
    }
   ],
   "source": [
    "from IPython.display import clear_output\n",
    "\n",
    "def create_quiz(question, options, correct_index):\n",
    "    radio = widgets.RadioButtons(options=options, description='', layout={'width': 'max-content'})\n",
    "    output = widgets.Output()\n",
    "\n",
    "    def check_answer(change):\n",
    "        output.clear_output()\n",
    "        with output:\n",
    "            if radio.index == correct_index:\n",
    "                print(\"✅ Correct!\")\n",
    "            else:\n",
    "                print(\"❌ Incorrect. Try again!\")\n",
    "\n",
    "    radio.observe(check_answer, names='value')\n",
    "    display(Markdown(question), radio, output)\n",
    "\n",
    "create_quiz(\"**Q1.** What does the A-line on the plasticity chart represent?\",\n",
    "            [\"A) Boundary between sand and gravel\", \"B) Upper limit of plasticity\", \"C) Boundary between clays and silts\", \"D) Liquid limit threshold\"], 2)\n",
    "\n",
    "create_quiz(\"**Q2.** A soil with LL = 50 and PI = 10 lies:\",\n",
    "            [\"A) Above the A-line\", \"B) Below the A-line\", \"C) On the U-line\", \"D) Cannot be determined\"], 1)\n",
    "\n",
    "create_quiz(\"**Q3.** Which of the following is a coarse-grained soil?\",\n",
    "            [\"A) CH\", \"B) ML\", \"C) SP\", \"D) CL\"], 2)\n"
   ]
  },
  {
   "cell_type": "code",
   "execution_count": null,
   "id": "e71fc5bb",
   "metadata": {},
   "outputs": [],
   "source": []
  }
 ],
 "metadata": {
  "kernelspec": {
   "display_name": "Python [conda env:base] *",
   "language": "python",
   "name": "conda-base-py"
  },
  "language_info": {
   "codemirror_mode": {
    "name": "ipython",
    "version": 3
   },
   "file_extension": ".py",
   "mimetype": "text/x-python",
   "name": "python",
   "nbconvert_exporter": "python",
   "pygments_lexer": "ipython3",
   "version": "3.12.7"
  },
  "widgets": {
   "application/vnd.jupyter.widget-state+json": {
    "state": {},
    "version_major": 2,
    "version_minor": 0
   }
  }
 },
 "nbformat": 4,
 "nbformat_minor": 5
}
