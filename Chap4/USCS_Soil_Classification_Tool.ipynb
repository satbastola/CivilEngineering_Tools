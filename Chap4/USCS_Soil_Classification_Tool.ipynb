{
 "cells": [
  {
   "cell_type": "markdown",
   "id": "e33c5dd9-a77a-430b-bbd6-8dcc7e94e344",
   "metadata": {},
   "source": [
    "# Chapter 4 Geotechnical Engineering: Particle Size Distribution"
   ]
  },
  {
   "cell_type": "markdown",
   "id": "8ee7b805-2406-4fb2-8498-08c5f566bdd1",
   "metadata": {},
   "source": [
    "1. [Introduction: Particle size distribution](#1.-Introduction)\n",
    "2. [Simulation: PSD](#2.-Simulation)\n",
    "3. [Self-Assessment](#3.-Self-Assessment)"
   ]
  },
  {
   "cell_type": "markdown",
   "id": "2089dea2-d844-4069-bfc7-8e2e8c50ba8f",
   "metadata": {},
   "source": [
    "## 1. Introduction"
   ]
  },
  {
   "cell_type": "markdown",
   "id": "2d848883",
   "metadata": {},
   "source": [
    "### USCS Soil Classification Tool – Description & Theory\n",
    "\n",
    "This interactive tool classifies soil based on the **Unified Soil Classification System (USCS)** and visualizes its plasticity characteristics using the **Casagrande Plasticity Chart**. It is designed for geotechnical engineers, students, and researchers to explore soil behavior based on key parameters.\n",
    "\n",
    "---\n",
    "\n",
    "### USCS Classification Theory\n",
    "\n",
    "The **USCS** classifies soils based on:\n",
    "- **Grain size distribution** (percent fines, sand, gravel)\n",
    "- **Plasticity characteristics** (Liquid Limit and Plasticity Index)\n",
    "\n",
    "### 🔹 Key Definitions:\n",
    "- **Fines**: Particles smaller than 0.075 mm (silt and clay)\n",
    "- **Sand**: Particles between 0.075 mm and 4.75 mm\n",
    "- **Gravel**: Particles larger than 4.75 mm\n",
    "- **Liquid Limit (LL)**: Water content at which soil changes from plastic to liquid state\n",
    "- **Plasticity Index (PI)**: PI = LL - PL (Plastic Limit)\n",
    "\n",
    "---\n",
    "\n",
    "### Casagrande Plasticity Chart\n",
    "\n",
    "This chart is used to classify **fine-grained soils** based on LL and PI.\n",
    "\n",
    "- **A-line**: PI = 0.73(LL - 20)  \n",
    "  - Soils **above** the A-line are **clays**\n",
    "  - Soils **below** the A-line are **silts**\n",
    "- **U-line**: PI = 0.9(LL - 8)  \n",
    "  - Represents the upper bound of natural soil behavior\n",
    "\n",
    "---\n",
    "\n",
    "### Code Functionality\n",
    "\n",
    "### 1. **Input Sliders**\n",
    "- Users input:\n",
    "  - Percent Fines\n",
    "  - Percent Sand\n",
    "  - Percent Gravel\n",
    "  - Liquid Limit (LL)\n",
    "  - Plasticity Index (PI)\n",
    "\n",
    "### 2. **Classification Logic**\n",
    "- If **fines > 50%**:\n",
    "  - **CH**: Fat Clay (PI > A-line)\n",
    "  - **ML**: Silt (PI < A-line)\n",
    "  - **CL-ML**: Intermediate\n",
    "- If **12% < fines ≤ 50%**:\n",
    "  - **SC/SM**: Silty or Clayey Sand\n",
    "- If **sand > gravel**:\n",
    "  - **SP/SM**: Poorly Graded or Silty Sand\n",
    "- Else:\n",
    "  - **GP/GM**: Poorly Graded or Silty Gravel\n",
    "\n",
    "### 3. **Plasticity Chart**\n",
    "- Plots A-line, U-line, and the sample point\n",
    "- Helps visualize soil behavior and classification\n",
    "---\n",
    "\n",
    "### How to Use\n",
    "1. Adjust the sliders to input soil parameters.\n",
    "2. View the **USCS classification** and **plasticity chart** update in real time.\n",
    "\n",
    "---\n",
    "\n",
    "> This tool is ideal for educational use, lab data interpretation, and preliminary geotechnical analysis.\n"
   ]
  },
  {
   "cell_type": "markdown",
   "id": "e1408b0c-fa81-45d8-b828-239a18e00250",
   "metadata": {},
   "source": [
    "## 2. Simulation"
   ]
  },
  {
   "cell_type": "code",
   "execution_count": 1,
   "id": "2936f343",
   "metadata": {},
   "outputs": [
    {
     "data": {
      "application/vnd.jupyter.widget-view+json": {
       "model_id": "6e4164d6f20c41689b60684a295a052a",
       "version_major": 2,
       "version_minor": 0
      },
      "text/plain": [
       "VBox(children=(IntSlider(value=30, description='Fines (%)'), IntSlider(value=40, description='Sand (%)'), IntS…"
      ]
     },
     "metadata": {},
     "output_type": "display_data"
    },
    {
     "data": {
      "application/vnd.jupyter.widget-view+json": {
       "model_id": "ecb9624c52cb4e09a88a8f7562e9fb3d",
       "version_major": 2,
       "version_minor": 0
      },
      "text/plain": [
       "Output()"
      ]
     },
     "metadata": {},
     "output_type": "display_data"
    }
   ],
   "source": [
    "\n",
    "import ipywidgets as widgets\n",
    "from IPython.display import display, Markdown\n",
    "import plotly.graph_objects as go\n",
    "\n",
    "def classify_soil(percent_fines, percent_sand, percent_gravel, LL, PI):\n",
    "    if percent_fines > 50:\n",
    "        if PI > 7 and PI > 0.73 * (LL - 20):\n",
    "            return \"CH (Fat Clay)\"\n",
    "        elif PI < 4 and PI < 0.73 * (LL - 20):\n",
    "            return \"ML (Silt)\"\n",
    "        else:\n",
    "            return \"CL-ML (Silty Clay)\"\n",
    "    elif percent_fines > 12:\n",
    "        return \"SC/SM (Silty or Clayey Sand)\"\n",
    "    elif percent_sand > percent_gravel:\n",
    "        return \"SP/SM (Poorly Graded or Silty Sand)\"\n",
    "    else:\n",
    "        return \"GP/GM (Poorly Graded or Silty Gravel)\"\n",
    "    \n",
    "\n",
    "def plot_plasticity_chart(LL, PI):\n",
    "    fig = go.Figure()\n",
    "\n",
    "    # A-line\n",
    "    x_a = list(range(0, 101))\n",
    "    y_a = [0.73 * (x - 20) for x in x_a]\n",
    "    fig.add_trace(go.Scatter(x=x_a, y=y_a, mode='lines', name='A-line'))\n",
    "\n",
    "    # U-line\n",
    "    x_u = list(range(8, 74))\n",
    "    y_u = [0.9 * x - 8 for x in x_u]\n",
    "    fig.add_trace(go.Scatter(x=x_u, y=y_u, mode='lines', name='U-line'))\n",
    "\n",
    "    # Sample point\n",
    "    fig.add_trace(go.Scatter(x=[LL], y=[PI], mode='markers', name='Sample', marker=dict(size=10, color='red')))\n",
    "\n",
    "    fig.update_layout(title='Casagrande Plasticity Chart',\n",
    "                      xaxis_title='Liquid Limit (LL)',\n",
    "                      yaxis_title='Plasticity Index (PI)',\n",
    "                      xaxis=dict(range=[0, 100]),\n",
    "                      yaxis=dict(range=[0, 60]),\n",
    "                      width=700, height=500)\n",
    "    fig.show()\n",
    "\n",
    "    \n",
    "percent_fines = widgets.IntSlider(value=30, min=0, max=100, description='Fines (%)')\n",
    "percent_sand = widgets.IntSlider(value=40, min=0, max=100, description='Sand (%)')\n",
    "percent_gravel = widgets.IntSlider(value=30, min=0, max=100, description='Gravel (%)')\n",
    "LL = widgets.IntSlider(value=40, min=0, max=100, description='Liquid Limit')\n",
    "PI = widgets.IntSlider(value=20, min=0, max=60, description='Plasticity Index')\n",
    "\n",
    "ui = widgets.VBox([percent_fines, percent_sand, percent_gravel, LL, PI])\n",
    "\n",
    "\n",
    "out = widgets.Output()\n",
    "\n",
    "def update(change=None):\n",
    "    out.clear_output()\n",
    "    with out:\n",
    "        classification = classify_soil(percent_fines.value, percent_sand.value, percent_gravel.value, LL.value, PI.value)\n",
    "        display(Markdown(f\"### USCS Classification: **{classification}**\"))\n",
    "        plot_plasticity_chart(LL.value, PI.value)\n",
    "\n",
    "for widget in [percent_fines, percent_sand, percent_gravel, LL, PI]:\n",
    "    widget.observe(update, names='value')\n",
    "\n",
    "display(ui, out)\n",
    "update()\n"
   ]
  },
  {
   "cell_type": "code",
   "execution_count": 2,
   "id": "b6e10d91-d438-4cfe-a2cb-fdcb70991061",
   "metadata": {},
   "outputs": [],
   "source": [
    "## 3. Self-Assessment"
   ]
  },
  {
   "cell_type": "markdown",
   "id": "9fb958a2",
   "metadata": {},
   "source": [
    "### USCS Soil Classification Learning Module\n",
    "\n",
    "###  1. Conceptual Questions\n",
    "\n",
    "1. **What is the Unified Soil Classification System (USCS), and why is it important in geotechnical engineering?**\n",
    "2. **Define the terms: Liquid Limit (LL), Plastic Limit (PL), and Plasticity Index (PI).**\n",
    "3. **What is the significance of the A-line in the Casagrande Plasticity Chart?**\n",
    "4. **How does the percentage of fines influence whether a soil is classified as coarse-grained or fine-grained?**\n",
    "5. **What are the typical engineering behaviors of CH vs. ML soils?**\n",
    "\n",
    "---\n",
    "\n",
    "###  2. Reflective Questions\n",
    "\n",
    "1. **How might the classification of a soil change if the fines content increases from 10% to 60%?**\n",
    "2. **Why might two soils with the same LL but different PI values be classified differently?**\n",
    "3. **How does the USCS classification help in selecting foundation types or construction methods?**\n",
    "4. **What limitations might exist in using only LL and PI for soil classification?**\n",
    "5. **How would you explain the difference between SC and SM soils to a non-engineer?**\n",
    "\n",
    "---\n",
    "\n",
    "### 3. Sample Problems\n",
    "\n",
    "### **Problem 1:**\n",
    "A soil sample has:\n",
    "- Fines: 55%\n",
    "- LL: 60\n",
    "- PI: 35\n",
    "\n",
    "**Question:** What is the USCS classification?\n",
    "\n",
    "> ✅ **Answer:** Since fines > 50% and PI > A-line → **CH (Fat Clay)**\n",
    "\n",
    "---\n",
    "\n",
    "### **Problem 2:**\n",
    "A soil has:\n",
    "- Fines: 15%\n",
    "- Sand: 60%\n",
    "- Gravel: 25%\n",
    "- LL: 45\n",
    "- PI: 10\n",
    "\n",
    "**Question:** What is the USCS classification?\n",
    "\n",
    "> ✅ **Answer:** Fines between 12–50% → **SC/SM (Silty or Clayey Sand)**\n",
    "\n",
    "---\n",
    "\n",
    "### **Problem 3:**\n",
    "A soil has:\n",
    "- Fines: 8%\n",
    "- Sand: 30%\n",
    "- Gravel: 62%\n",
    "\n",
    "**Question:** What is the USCS classification?\n",
    "\n",
    "> ✅ **Answer:** Fines < 12%, gravel > sand → **GP/GM (Poorly Graded or Silty Gravel)**\n",
    "\n",
    "---\n",
    "\n",
    "### 📝 4. Quiz (Multiple Choice)"
   ]
  },
  {
   "cell_type": "code",
   "execution_count": 3,
   "id": "372d43fe",
   "metadata": {},
   "outputs": [
    {
     "data": {
      "text/markdown": [
       "**Q1.** What does the A-line on the plasticity chart represent?"
      ],
      "text/plain": [
       "<IPython.core.display.Markdown object>"
      ]
     },
     "metadata": {},
     "output_type": "display_data"
    },
    {
     "data": {
      "application/vnd.jupyter.widget-view+json": {
       "model_id": "86c2dbfef03d4a5aa2443e88dc26a582",
       "version_major": 2,
       "version_minor": 0
      },
      "text/plain": [
       "RadioButtons(layout=Layout(width='max-content'), options=('A) Boundary between sand and gravel', 'B) Upper lim…"
      ]
     },
     "metadata": {},
     "output_type": "display_data"
    },
    {
     "data": {
      "application/vnd.jupyter.widget-view+json": {
       "model_id": "90e5066786d24602a95edd96c9551a95",
       "version_major": 2,
       "version_minor": 0
      },
      "text/plain": [
       "Output()"
      ]
     },
     "metadata": {},
     "output_type": "display_data"
    },
    {
     "data": {
      "text/markdown": [
       "**Q2.** A soil with LL = 50 and PI = 10 lies:"
      ],
      "text/plain": [
       "<IPython.core.display.Markdown object>"
      ]
     },
     "metadata": {},
     "output_type": "display_data"
    },
    {
     "data": {
      "application/vnd.jupyter.widget-view+json": {
       "model_id": "8138b45ab23448cfbcc38837d4a8339e",
       "version_major": 2,
       "version_minor": 0
      },
      "text/plain": [
       "RadioButtons(layout=Layout(width='max-content'), options=('A) Above the A-line', 'B) Below the A-line', 'C) On…"
      ]
     },
     "metadata": {},
     "output_type": "display_data"
    },
    {
     "data": {
      "application/vnd.jupyter.widget-view+json": {
       "model_id": "86ef200f3fe44be3877de0ee11d92d39",
       "version_major": 2,
       "version_minor": 0
      },
      "text/plain": [
       "Output()"
      ]
     },
     "metadata": {},
     "output_type": "display_data"
    },
    {
     "data": {
      "text/markdown": [
       "**Q3.** Which of the following is a coarse-grained soil?"
      ],
      "text/plain": [
       "<IPython.core.display.Markdown object>"
      ]
     },
     "metadata": {},
     "output_type": "display_data"
    },
    {
     "data": {
      "application/vnd.jupyter.widget-view+json": {
       "model_id": "ff45ceb88d8f48488bf19e09f56653e9",
       "version_major": 2,
       "version_minor": 0
      },
      "text/plain": [
       "RadioButtons(layout=Layout(width='max-content'), options=('A) CH', 'B) ML', 'C) SP', 'D) CL'), value='A) CH')"
      ]
     },
     "metadata": {},
     "output_type": "display_data"
    },
    {
     "data": {
      "application/vnd.jupyter.widget-view+json": {
       "model_id": "a2db285a695b4e63b89cd849c2ac1b68",
       "version_major": 2,
       "version_minor": 0
      },
      "text/plain": [
       "Output()"
      ]
     },
     "metadata": {},
     "output_type": "display_data"
    }
   ],
   "source": [
    "from IPython.display import clear_output\n",
    "\n",
    "def create_quiz(question, options, correct_index):\n",
    "    radio = widgets.RadioButtons(options=options, description='', layout={'width': 'max-content'})\n",
    "    output = widgets.Output()\n",
    "\n",
    "    def check_answer(change):\n",
    "        output.clear_output()\n",
    "        with output:\n",
    "            if radio.index == correct_index:\n",
    "                print(\"✅ Correct!\")\n",
    "            else:\n",
    "                print(\"❌ Incorrect. Try again!\")\n",
    "\n",
    "    radio.observe(check_answer, names='value')\n",
    "    display(Markdown(question), radio, output)\n",
    "\n",
    "create_quiz(\"**Q1.** What does the A-line on the plasticity chart represent?\",\n",
    "            [\"A) Boundary between sand and gravel\", \"B) Upper limit of plasticity\", \"C) Boundary between clays and silts\", \"D) Liquid limit threshold\"], 2)\n",
    "\n",
    "create_quiz(\"**Q2.** A soil with LL = 50 and PI = 10 lies:\",\n",
    "            [\"A) Above the A-line\", \"B) Below the A-line\", \"C) On the U-line\", \"D) Cannot be determined\"], 1)\n",
    "\n",
    "create_quiz(\"**Q3.** Which of the following is a coarse-grained soil?\",\n",
    "            [\"A) CH\", \"B) ML\", \"C) SP\", \"D) CL\"], 2)\n"
   ]
  },
  {
   "cell_type": "code",
   "execution_count": null,
   "id": "e71fc5bb",
   "metadata": {},
   "outputs": [],
   "source": []
  }
 ],
 "metadata": {
  "kernelspec": {
   "display_name": "Python [conda env:base] *",
   "language": "python",
   "name": "conda-base-py"
  },
  "language_info": {
   "codemirror_mode": {
    "name": "ipython",
    "version": 3
   },
   "file_extension": ".py",
   "mimetype": "text/x-python",
   "name": "python",
   "nbconvert_exporter": "python",
   "pygments_lexer": "ipython3",
   "version": "3.12.7"
  }
 },
 "nbformat": 4,
 "nbformat_minor": 5
}
