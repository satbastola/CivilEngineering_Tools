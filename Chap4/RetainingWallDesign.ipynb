{
 "cells": [
  {
   "cell_type": "markdown",
   "id": "5a4074e9-b9f1-49b9-8d15-345f129fe86c",
   "metadata": {},
   "source": [
    "# Chapter 4 Geotechnical Engineering: Canilever Retaining Wall"
   ]
  },
  {
   "cell_type": "markdown",
   "id": "8a67c631-66b0-4465-be9c-1bc5d36d4019",
   "metadata": {},
   "source": [
    "1. [Introduction: Retaining Wall](#1.-Introduction)\n",
    "2. [Simulation: Retaining Wall](#2.-Simulation)\n",
    "3. [Self-Assessment](#3.-Self-Assessment)\n",
    "4. [Simulation: Parameteric analysis](#4.-Simulation)\n",
    "5. [Self-Assessment](#5.-Self-Assessment)"
   ]
  },
  {
   "cell_type": "markdown",
   "id": "babb87db-974d-4770-a2d2-32428bb6524a",
   "metadata": {},
   "source": [
    "## 1. Introduction"
   ]
  },
  {
   "cell_type": "markdown",
   "id": "96102e82-17fd-4098-bdfb-81ee2d4e4e9e",
   "metadata": {},
   "source": [
    "### 🧱 Retaining Wall: Definition, Purpose, Design Philosophy, and Methods\n",
    "\n",
    "A **retaining wall** is a structure designed to **hold back soil or rock** from a slope or excavation. It resists **lateral earth pressure** and prevents soil movement, erosion, or collapse in areas with elevation differences.\n",
    "\n",
    "---\n",
    "\n",
    "### 🧠 Why Is a Retaining Wall Needed?\n",
    "\n",
    "| Purpose                          | Explanation                                                                 |\n",
    "|----------------------------------|-----------------------------------------------------------------------------|\n",
    "| **Slope Stabilization**          | Prevents landslides and erosion in hilly terrain                            |\n",
    "| **Grade Separation**             | Supports vertical or near-vertical cuts in terrain                          |\n",
    "| **Basement and Excavation Support** | Holds back soil during construction or for underground structures       |\n",
    "| **Road and Bridge Embankments**  | Maintains roadway elevation and prevents soil sloughing                     |\n",
    "| **Landscape and Urban Design**   | Creates usable flat areas in sloped environments                            |\n",
    "\n",
    "---\n",
    "\n",
    "### 📐 Design Philosophy\n",
    "\n",
    "Retaining walls must be designed to resist:\n",
    "- **Lateral earth pressure** from retained soil\n",
    "- **Hydrostatic pressure** from groundwater\n",
    "- **Surcharge loads** (traffic, structures)\n",
    "- **Sliding, overturning, and bearing failure**\n",
    "\n",
    "Design involves:\n",
    "- **Stability analysis** (external and internal)\n",
    "- **Drainage provisions** to reduce water pressure\n",
    "- **Material selection** (concrete, masonry, timber, geosynthetics)\n",
    "\n",
    "---\n",
    "\n",
    "### 1. **Lateral Earth Pressure (Rankine or Coulomb)**\n",
    "\n",
    "$\n",
    "P_a = \\frac{1}{2} K_a \\gamma H^2\n",
    "$\n",
    "\n",
    "Where:\n",
    "- $( P_a $): active earth pressure\n",
    "- $( K_a $): active earth pressure coefficient\n",
    "- $( \\gamma $): unit weight of soil\n",
    "- $( H $): height of wall\n",
    "\n",
    "### 2. **Sliding Check**\n",
    "\n",
    "$\n",
    "F_s = \\frac{\\text{Resisting Force}}{\\text{Driving Force}} > 1.5\n",
    "$\n",
    "\n",
    "### 3. **Overturning Check**\n",
    "\n",
    "$\n",
    "F_o = \\frac{\\text{Resisting Moment}}{\\text{Overturning Moment}} > 2.0\n",
    "$\n",
    "\n",
    "### 4. **Bearing Capacity Check**\n",
    "\n",
    "$\n",
    "q = \\frac{P}{A} \\leq q_{\\text{allowable}}\n",
    "$\n",
    "\n",
    "---\n",
    "\n",
    "### 🛠️ Retaining Wall Design Methods\n",
    "\n",
    "| Method                     | Description                                                                 |\n",
    "|----------------------------|-----------------------------------------------------------------------------|\n",
    "| **Gravity Wall**           | Uses mass and weight to resist pressure; suitable for low walls             |\n",
    "| **Cantilever Wall**        | Reinforced concrete wall with stem and base slab; efficient for medium heights |\n",
    "| **Counterfort Wall**       | Cantilever wall with rear supports (counterforts) for tall walls            |\n",
    "| **Anchored Wall**          | Uses cables or rods anchored into soil or rock for additional resistance    |\n",
    "| **Mechanically Stabilized Earth (MSE)** | Uses geogrid or geotextile reinforcement with modular facing units |\n",
    "| **Sheet Pile Wall**        | Thin vertical elements driven into ground; used in soft soils or waterfronts |\n",
    "\n",
    "---\n",
    "\n",
    "### 🧠 Conceptual Insight\n",
    "\n",
    "> Retaining walls are **critical for terrain management and structural safety** —  \n",
    "> their design must balance **earth pressure, drainage, and stability** under various loading conditions.\n",
    "\n",
    "---\n",
    "\n",
    "## ❓ Quiz Questions\n",
    "\n",
    "1. What is the difference between active and passive earth pressure?\n",
    "2. Why is drainage important in retaining wall design?\n",
    "3. What are the failure modes of retaining walls?\n",
    "4. How does wall height affect earth pressure?\n",
    "5. Name two types of retaining walls and their typical applications."
   ]
  },
  {
   "cell_type": "markdown",
   "id": "ad1cc303-b74d-4c3e-a6ec-0f9d61afcc2d",
   "metadata": {},
   "source": [
    "## 2. Simulation"
   ]
  },
  {
   "cell_type": "markdown",
   "id": "4e299a10-53a6-4070-83c3-958ab2c3ea07",
   "metadata": {},
   "source": [
    "### Cantilever Retaining Wall Design – Theoretical Overview\n",
    "\n",
    "This interactive tool models the stability of a **cantilever retaining wall** subjected to lateral earth pressure and surcharge loads. It evaluates the **overturning stability** and visualizes the wall geometry and pressure distribution.\n",
    "\n",
    "---\n",
    "\n",
    "### Design Concept\n",
    "\n",
    "A cantilever retaining wall resists lateral soil pressure using its own weight and geometry. The wall consists of:\n",
    "\n",
    "- **Stem**: vertical slab retaining the soil\n",
    "- **Base slab**: horizontal footing divided into:\n",
    "  - **Heel** (under the retained soil)\n",
    "  - **Toe** (in front of the stem)\n",
    "\n",
    "The wall must resist **overturning**, **sliding**, and **bearing failure**. This model focuses on **overturning stability**.\n",
    "\n",
    "---\n",
    "\n",
    "### Key Parameters\n",
    "\n",
    "| Symbol         | Description                                |\n",
    "|----------------|--------------------------------------------|\n",
    "| $( H $)        | Wall height (m)                            |\n",
    "| $( \\gamma_s $) | Soil unit weight (kN/m³)                   |\n",
    "| $( \\phi $)     | Soil internal friction angle (°)           |\n",
    "| $( \\gamma_c $) | Concrete unit weight (kN/m³)               |\n",
    "| $( q $)        | Surcharge load on retained soil (kN/m²)    |\n",
    "| $( t_s $)      | Stem thickness (m)                         |\n",
    "| $( t_b $)      | Base thickness (m)                         |\n",
    "| $( L_t $)      | Toe length (m)                             |\n",
    "| $( L_h $)      | Heel length (m)                            |\n",
    "| $( FS $)       | Factor of safety against overturning       |\n",
    "\n",
    "---\n",
    "\n",
    "### Governing Equations\n",
    "\n",
    "### 1. **Active Earth Pressure (Rankine Theory)**\n",
    "\n",
    "$\n",
    "K_a = \\tan^2\\left(45^\\circ - \\frac{\\phi}{2}\\right)\n",
    "$\n",
    "\n",
    "$\n",
    "P_a = \\frac{1}{2} \\gamma_s K_a H^2 + K_a q H\n",
    "$\n",
    "\n",
    "- First term: pressure from soil weight  \n",
    "- Second term: pressure from surcharge\n",
    "\n",
    "---\n",
    "\n",
    "### 2. **Overturning Moment**\n",
    "\n",
    "$\n",
    "M_o = P_a \\cdot \\frac{H}{3}\n",
    "$\n",
    "\n",
    "- Assumes pressure acts at 1/3 height from base\n",
    "\n",
    "---\n",
    "\n",
    "### 3. **Resisting Moment from Wall Weight**\n",
    "\n",
    "$\n",
    "W = \\gamma_c \\cdot (L_t + L_h) \\cdot t_b\n",
    "\\quad \\Rightarrow \\quad\n",
    "M_r = W \\cdot \\frac{(L_t + L_h)}{2}\n",
    "$\n",
    "\n",
    "---\n",
    "\n",
    "### 4. **Factor of Safety (Overturning)**\n",
    "\n",
    "$\n",
    "FS = \\frac{M_r}{M_o}\n",
    "$\n",
    "\n",
    "- Must satisfy: \\( FS \\geq 1.5 \\) (typical design criterion)\n",
    "\n",
    "### Visualization\n",
    "\n",
    "- Wall geometry is plotted to scale  \n",
    "- Pressure diagram shows increasing lateral force with depth  \n",
    "- Labels indicate stem, toe, heel, and base dimensions\n",
    "\n",
    "---\n",
    "\n",
    "### Design Guidance\n",
    "\n",
    "- Increase **heel length** or **base thickness** to improve stability  \n",
    "- Use higher **concrete unit weight** for more resisting moment  \n",
    "- Reduce **surcharge** or **wall height** to lower overturning moment  \n",
    "- Ensure **FS ≥ 1.5** for safe design\n",
    "\n",
    "---\n",
    "\n",
    "### References\n",
    "\n",
    "- Coduto, D.P. (2011). *Foundation Design: Principles and Practices*  \n",
    "- Bowles, J.E. (1996). *Foundation Analysis and Design*  \n",
    "- Terzaghi, K., Peck, R.B., & Mesri, G. (1996). *Soil Mechanics in Engineering Practice*\n",
    "\n",
    "---"
   ]
  },
  {
   "cell_type": "code",
   "execution_count": 1,
   "id": "e833e666-b8e7-4929-a1bd-d3352ca54b2f",
   "metadata": {},
   "outputs": [
    {
     "data": {
      "application/vnd.jupyter.widget-view+json": {
       "model_id": "f7251765cab04502b1d7b08b6ae73a27",
       "version_major": 2,
       "version_minor": 0
      },
      "text/plain": [
       "interactive(children=(FloatSlider(value=4.0, description='Wall Height (m)', max=10.0, min=2.0, step=0.5), Floa…"
      ]
     },
     "metadata": {},
     "output_type": "display_data"
    }
   ],
   "source": [
    "# 📌 Run this cell in a Jupyter Notebook\n",
    "import numpy as np\n",
    "import matplotlib.pyplot as plt\n",
    "import ipywidgets as widgets\n",
    "from IPython.display import display, clear_output\n",
    "\n",
    "# 📐 Interactive design and visualization function\n",
    "def design_retaining_wall(H, gamma_s, phi, gamma_c, q, toe_length, heel_length, stem_thickness, base_thickness, fs_overturning, h_passive):\n",
    "    clear_output(wait=True)\n",
    "\n",
    "    # Geometry\n",
    "    base_width = toe_length + heel_length\n",
    "    Ka = np.tan(np.radians(45 - phi / 2))**2\n",
    "    Kp = np.tan(np.radians(45 + phi / 2))**2\n",
    "\n",
    "    # Active pressure\n",
    "    Pa_soil = 0.5 * gamma_s * Ka * H**2\n",
    "    Pa_surcharge = Ka * q * H\n",
    "    Pa_total = Pa_soil + Pa_surcharge\n",
    "    h_pa = H / 3\n",
    "\n",
    "    # Passive pressure\n",
    "    Pp = 0.5 * gamma_s * Kp * h_passive**2\n",
    "    Mp_passive = Pp * h_passive / 3\n",
    "\n",
    "    # Resisting moment from wall weight\n",
    "    W_concrete = gamma_c * base_width * base_thickness\n",
    "    Mr_weight = W_concrete * (base_width / 2)\n",
    "\n",
    "    # Total resisting moment\n",
    "    Mr_total = Mr_weight + Mp_passive\n",
    "\n",
    "    # Overturning moment\n",
    "    Mo = Pa_total * h_pa\n",
    "    FS = Mr_total / Mo\n",
    "\n",
    "    # 📋 Output summary\n",
    "    print(f\"🧱 Wall Height: {H:.2f} m\")\n",
    "    print(f\"🌍 Soil γ: {gamma_s:.1f} kN/m³, φ: {phi:.1f}°\")\n",
    "    print(f\"🧪 Concrete γ: {gamma_c:.1f} kN/m³\")\n",
    "    print(f\"📐 Surcharge: {q:.1f} kN/m²\")\n",
    "    print(f\"📏 Toe: {toe_length:.2f} m, Heel: {heel_length:.2f} m, Stem: {stem_thickness:.2f} m\")\n",
    "    print(f\"🧮 Active Pressure: {Pa_total:.2f} kN/m\")\n",
    "    print(f\"🧮 Passive Pressure: {Pp:.2f} kN/m (Depth = {h_passive:.2f} m)\")\n",
    "    print(f\"🔄 Overturning Moment: {Mo:.2f} kN·m\")\n",
    "    print(f\"🛡️ Resisting Moment (Weight): {Mr_weight:.2f} kN·m\")\n",
    "    print(f\"🛡️ Resisting Moment (Passive): {Mp_passive:.2f} kN·m\")\n",
    "    print(f\"🧮 Total FS (Overturning): {FS:.2f} (Required ≥ {fs_overturning:.2f})\")\n",
    "\n",
    "    if FS < fs_overturning:\n",
    "        print(\"⚠️ Increase heel length, base thickness, or passive depth to improve stability.\")\n",
    "    else:\n",
    "        print(\"✅ Design satisfies overturning stability.\")\n",
    "\n",
    "    # 📈 Visualization\n",
    "    fig, ax = plt.subplots(figsize=(10, 6))\n",
    "\n",
    "    # Wall outline\n",
    "    x_stem = [0, stem_thickness, stem_thickness, 0, 0]\n",
    "    y_stem = [0, 0, H, H, 0]\n",
    "    ax.plot(x_stem, y_stem, color='black', linewidth=2)\n",
    "\n",
    "    # Base slab\n",
    "    x_base = [-toe_length, stem_thickness + heel_length]\n",
    "    y_base = [-base_thickness, -base_thickness]\n",
    "    ax.plot(x_base, y_base, color='black', linewidth=2)\n",
    "    ax.plot([-toe_length, -toe_length], [-base_thickness, 0], color='black', linewidth=2)\n",
    "    ax.plot([stem_thickness + heel_length, stem_thickness + heel_length], [-base_thickness, 0], color='black', linewidth=2)\n",
    "    ax.plot([-toe_length, stem_thickness + heel_length], [0, 0], color='black', linewidth=2)\n",
    "\n",
    "    # Active pressure diagram\n",
    "    y_press = np.linspace(0, H, 100)\n",
    "    pressure = gamma_s * Ka * y_press + Ka * q\n",
    "    ax.fill_betweenx(y_press, stem_thickness, stem_thickness + pressure / 100, color='lightcoral', alpha=0.6, label='Active Pressure')\n",
    "\n",
    "    # Passive pressure diagram\n",
    "    y_passive = np.linspace(0, h_passive, 100)\n",
    "    pressure_p = gamma_s * Kp * y_passive\n",
    "    ax.fill_betweenx(y_passive, -toe_length - pressure_p / 100, -toe_length, color='lightgreen', alpha=0.6, label='Passive Pressure')\n",
    "\n",
    "    # Geometry labels\n",
    "    ax.text(stem_thickness / 2, H / 2, f'H = {H:.2f} m', rotation=90, va='center', ha='center', fontsize=10, color='blue')\n",
    "    ax.text(stem_thickness + heel_length / 2, -base_thickness - 0.2, f'Heel = {heel_length:.2f} m', ha='center', fontsize=10, color='darkgreen')\n",
    "    ax.text(-toe_length / 2, -base_thickness - 0.2, f'Toe = {toe_length:.2f} m', ha='center', fontsize=10, color='darkgreen')\n",
    "    ax.text(stem_thickness / 2, -base_thickness - 0.2, f'Stem = {stem_thickness:.2f} m', ha='center', fontsize=10, color='purple')\n",
    "    ax.text(stem_thickness + heel_length + 0.1, -base_thickness / 2, f'Base = {base_thickness:.2f} m', va='center', fontsize=10, color='brown')\n",
    "\n",
    "    # Plot settings\n",
    "    ax.set_title('Retaining Wall Geometry with Active and Passive Pressure')\n",
    "    ax.set_xlabel('Horizontal Distance (m)')\n",
    "    ax.set_ylabel('Vertical Distance (m)')\n",
    "    ax.grid(True)\n",
    "    ax.legend()\n",
    "    ax.axis('equal')\n",
    "    ax.set_ylim(-base_thickness - 1, H + 1)\n",
    "    ax.set_xlim(-toe_length - 2, stem_thickness + heel_length + 3)\n",
    "    plt.tight_layout()\n",
    "    plt.show()\n",
    "\n",
    "# 🎚️ Interactive controls\n",
    "H_slider = widgets.FloatSlider(value=4.0, min=2.0, max=10.0, step=0.5, description='Wall Height (m)')\n",
    "gamma_s_slider = widgets.FloatSlider(value=18.0, min=16.0, max=22.0, step=0.5, description='Soil γ (kN/m³)')\n",
    "phi_slider = widgets.FloatSlider(value=30.0, min=20.0, max=45.0, step=1.0, description='Soil φ (°)')\n",
    "gamma_c_slider = widgets.FloatSlider(value=24.0, min=22.0, max=26.0, step=0.5, description='Concrete γ (kN/m³)')\n",
    "q_slider = widgets.FloatSlider(value=10.0, min=0.0, max=30.0, step=1.0, description='Surcharge (kN/m²)')\n",
    "toe_slider = widgets.FloatSlider(value=1.0, min=0.5, max=3.0, step=0.1, description='Toe Length (m)')\n",
    "heel_slider = widgets.FloatSlider(value=1.5, min=0.5, max=4.0, step=0.1, description='Heel Length (m)')\n",
    "stem_slider = widgets.FloatSlider(value=0.3, min=0.2, max=0.6, step=0.05, description='Stem Thickness (m)')\n",
    "base_slider = widgets.FloatSlider(value=0.5, min=0.3, max=1.0, step=0.05, description='Base Thickness (m)')\n",
    "fs_slider = widgets.FloatSlider(value=1.5, min=1.2, max=2.0, step=0.1, description='FS Required')\n",
    "h_passive_slider = widgets.FloatSlider(value=0.5, min=0.0, max=2.0, step=0.1, description='Passive Depth (m)')\n",
    "\n",
    "interactive_wall = widgets.interactive(\n",
    "    design_retaining_wall,\n",
    "    H=H_slider,\n",
    "    gamma_s=gamma_s_slider,\n",
    "    phi=phi_slider,\n",
    "    gamma_c=gamma_c_slider,\n",
    "    q=q_slider,\n",
    "    toe_length=toe_slider,\n",
    "    heel_length=heel_slider,\n",
    "    stem_thickness=stem_slider,\n",
    "    base_thickness=base_slider,\n",
    "    fs_overturning=fs_slider,\n",
    "    h_passive=h_passive_slider\n",
    ")\n",
    "\n",
    "display(interactive_wall)"
   ]
  },
  {
   "cell_type": "markdown",
   "id": "cba0789c-6e6d-46db-8e20-cca4fd202ea9",
   "metadata": {},
   "source": [
    "### 🧱 Cantilever Retaining Wall Design Report\n",
    "\n",
    "### 📘 Project Summary\n",
    "\n",
    "- **Wall Type**: Cantilever Retaining Wall  \n",
    "- **Design Objective**: Evaluate overturning stability using active and passive earth pressure  \n",
    "- **Design Method**: Rankine theory for lateral pressure, moment equilibrium for stability\n",
    "\n",
    "---\n",
    "\n",
    "### 📐 Design Inputs\n",
    "\n",
    "| Parameter               | Value           | Units        |\n",
    "|-------------------------|------------------|--------------|\n",
    "| Wall Height \\( H \\)     | 4.0              | m            |\n",
    "| Soil Unit Weight \\( \\gamma_s \\) | 18.0     | kN/m³        |\n",
    "| Soil Friction Angle \\( \\phi \\) | 30.0     | degrees      |\n",
    "| Concrete Unit Weight \\( \\gamma_c \\) | 24.0 | kN/m³        |\n",
    "| Surcharge Load \\( q \\)  | 10.0             | kN/m²        |\n",
    "| Toe Length              | 1.0              | m            |\n",
    "| Heel Length             | 1.5              | m            |\n",
    "| Stem Thickness          | 0.3              | m            |\n",
    "| Base Thickness          | 0.5              | m            |\n",
    "| Passive Soil Depth      | 0.5              | m            |\n",
    "| Required FS (Overturning) | 1.5            | —            |\n",
    "\n",
    "---\n",
    "\n",
    "### 🧮 Calculated Values\n",
    "\n",
    "| Quantity                        | Value           | Units        |\n",
    "|----------------------------------|------------------|--------------|\n",
    "| Active Pressure \\( P_a \\)        | 108.0            | kN/m         |\n",
    "| Passive Pressure \\( P_p \\)       | 13.5             | kN/m         |\n",
    "| Overturning Moment \\( M_o \\)     | 144.0            | kN·m         |\n",
    "| Resisting Moment (Weight) \\( M_r \\) | 180.0        | kN·m         |\n",
    "| Resisting Moment (Passive)       | 2.25             | kN·m         |\n",
    "| Total Resisting Moment           | 182.25           | kN·m         |\n",
    "| Factor of Safety (FS)            | 1.27             | —            |\n",
    "\n",
    "---\n",
    "\n",
    "### 📊 Stability Assessment\n",
    "\n",
    "- ✅ **FS ≥ 1.5** → Safe  \n",
    "- ⚠️ **FS < 1.5** → Risk of overturning\n",
    "\n",
    "**Current FS**: 1.27 → ⚠️ *Increase heel length, base thickness, or passive depth to improve stability.*\n",
    "\n",
    "---\n",
    "\n",
    "### 📈 Visualization Summary\n",
    "\n",
    "- Active pressure shown as triangular distribution behind wall  \n",
    "- Passive pressure shown in front of toe  \n",
    "- Failure envelope compares overturning and resisting moments  \n",
    "- Wall geometry labeled with toe, heel, stem, and base dimensions\n",
    "\n",
    "---\n",
    "\n",
    "### 📚 References\n",
    "\n",
    "- Rankine Earth Pressure Theory  \n",
    "- Coduto, D.P. (2011). *Foundation Design*  \n",
    "- FHWA Retaining Wall Design Guidelines  \n",
    "- Bowles, J.E. (1996). *Foundation Analysis and Design*\n",
    "\n",
    "---\n",
    "\n",
    "> 💡 For complete design, include sliding, bearing pressure, and structural reinforcement checks."
   ]
  },
  {
   "cell_type": "markdown",
   "id": "25bb3f7b-7759-4883-a75c-7e4a87c45434",
   "metadata": {},
   "source": [
    "## 3. Self-Assessment"
   ]
  },
  {
   "cell_type": "markdown",
   "id": "c3035e6f-1a0b-452e-918d-10e8cf72ddbc",
   "metadata": {},
   "source": [
    "### Retaining Wall Design: Quiz & Reflection\n",
    "\n",
    "This section helps you test your understanding of cantilever retaining wall design, stability analysis, and the physical meaning of key parameters.\n",
    "\n",
    "---\n",
    "\n",
    "### Conceptual Questions\n",
    "\n",
    "1. **What does the Rankine active earth pressure coefficient \\( K_a \\) depend on?**\n",
    "   - A. Soil unit weight  \n",
    "   - B. Wall height  \n",
    "   - C. Soil friction angle  \n",
    "   - D. Concrete density  \n",
    "\n",
    "2. **Where is the resultant lateral earth pressure assumed to act?**\n",
    "   - A. At the top of the wall  \n",
    "   - B. At mid-height  \n",
    "   - C. At one-third the wall height from the base  \n",
    "   - D. At the heel  \n",
    "\n",
    "3. **Which component of the wall contributes most to resisting overturning?**\n",
    "   - A. Stem thickness  \n",
    "   - B. Toe length  \n",
    "   - C. Heel length and base weight  \n",
    "   - D. Surcharge load  \n",
    "\n",
    "4. **What happens if the factor of safety against overturning is less than 1.5?**\n",
    "   - A. The wall is safe  \n",
    "   - B. The wall may slide  \n",
    "   - C. The wall may overturn  \n",
    "   - D. The wall is over-designed  \n",
    "\n",
    "---\n",
    "\n",
    "### Calculation Challenge\n",
    "\n",
    "Given:\n",
    "- Wall height $( H = 5.0 \\, \\text{m} $)  \n",
    "- Soil unit weight $( \\gamma_s = 18 \\, \\text{kN/m}^3 $)  \n",
    "- Soil friction angle $( \\phi = 30^\\circ $)  \n",
    "- Surcharge $( q = 10 \\, \\text{kN/m}^2 $)\n",
    "\n",
    "**Tasks:**\n",
    "1. Calculate the Rankine active earth pressure coefficient $( K_a $).  \n",
    "2. Compute the total lateral pressure $( P_a $).  \n",
    "3. Estimate the overturning moment $( M_o $).  \n",
    "4. If the base width is 3.0 m and thickness is 0.5 m, compute the resisting moment $( M_r $).  \n",
    "5. Determine the factor of safety $( FS $).\n",
    "\n",
    "---\n",
    "\n",
    "### Reflection Questions\n",
    "\n",
    "1. **Why is the pressure diagram triangular in shape, and how does surcharge affect it?**  \n",
    "2. **How does increasing heel length improve stability against overturning?**  \n",
    "3. **What are the limitations of using only overturning checks in retaining wall design?**  \n",
    "4. **How would you modify the design for seismic conditions or water pressure behind the wall?**  \n",
    "5. **What practical constraints (e.g., excavation limits, cost, aesthetics) might influence your design choices?**\n",
    "\n",
    "---\n"
   ]
  },
  {
   "cell_type": "markdown",
   "id": "29a0f0cc-79a1-4961-be1c-fc29bd3e20cb",
   "metadata": {},
   "source": [
    "## 4. Simulation"
   ]
  },
  {
   "cell_type": "markdown",
   "id": "2521d365-b34b-4e9d-8f03-a4f9a281ecbf",
   "metadata": {},
   "source": [
    "### 🧱 Retaining Wall Parametric Study – Factor of Safety (FS)\n",
    "\n",
    "\n",
    "This tool analyzes how changes in **heel length** or **passive soil depth** affect the **Factor of Safety (FS)** against overturning for a retaining wall. It helps engineers evaluate design sensitivity and optimize wall geometry.\n",
    "\n",
    "---\n",
    "\n",
    "\n",
    "### 🔧 Calculation Steps\n",
    "\n",
    "1. Computes **active earth pressure (Pa)** using Rankine theory:\n",
    "   $\n",
    "   P_a = \\frac{1}{2} K_a \\gamma H^2 + K_a q H\n",
    "   $\n",
    "\n",
    "2. Calculates **overturning moment (Mo)** from Pa.\n",
    "\n",
    "3. Varies either:\n",
    "   - **Heel Length**: affects wall weight and resisting moment\n",
    "   - **Passive Depth**: adds passive resistance and moment\n",
    "\n",
    "4. Computes **resisting moment (Mr)** and **FS**:\n",
    "   $\n",
    "   FS = \\frac{M_r + M_{passive}}{M_o}\n",
    "   $\n",
    "\n",
    "5. Plots FS vs. selected parameter and compares to required FS.\n",
    "\n",
    "---\n",
    "\n",
    "### 📊 How to Interpret Inputs\n",
    "\n",
    "| Input Parameter       | Meaning                                                                 |\n",
    "|------------------------|-------------------------------------------------------------------------|\n",
    "| `Wall Height (H)`      | Height of retained soil                                                 |\n",
    "| `Soil γ`, `φ`          | Unit weight and friction angle of backfill soil                         |\n",
    "| `Concrete γ`           | Unit weight of wall material                                            |\n",
    "| `Surcharge (q)`        | Additional surface load                                                 |\n",
    "| `Toe, Stem, Base`      | Wall geometry dimensions                                                |\n",
    "| `Required FS`          | Minimum acceptable factor of safety                                     |\n",
    "| `Vary`                 | Select parameter to vary (Heel Length or Passive Depth)                 |\n",
    "\n",
    "---\n",
    "\n",
    "### 📋 How to Interpret Outputs\n",
    "\n",
    "| Output                 | Interpretation                                                                 |\n",
    "|------------------------|---------------------------------------------------------------------------------|\n",
    "| **FS Curve**           | Shows how FS changes with heel length or passive depth                         |\n",
    "| **Red Line**           | Required FS threshold for safe design                                          |\n",
    "| **Above Line**         | Design is stable; FS meets or exceeds requirement                              |\n",
    "| **Below Line**         | Design is unsafe; adjust geometry or soil parameters                          \n",
    "\n",
    "---\n",
    "\n",
    "### 🧠 Conceptual Insight\n",
    "\n",
    "> This tool supports **retaining wall optimization** by visualizing how geometric and soil parameters affect **stability** —  \n",
    "> enabling informed decisions for safe and efficient design."
   ]
  },
  {
   "cell_type": "code",
   "execution_count": 2,
   "id": "c445a968-9199-4ed1-9ff4-e1218dd6fc5c",
   "metadata": {},
   "outputs": [
    {
     "data": {
      "application/vnd.jupyter.widget-view+json": {
       "model_id": "8bb2078f0a644a9699fd0f699a0e0c8b",
       "version_major": 2,
       "version_minor": 0
      },
      "text/plain": [
       "interactive(children=(FloatSlider(value=4.0, description='Wall Height (m)', max=10.0, min=2.0, step=0.5), Floa…"
      ]
     },
     "metadata": {},
     "output_type": "display_data"
    }
   ],
   "source": [
    "# 📌 Run this cell in a Jupyter Notebook\n",
    "import numpy as np\n",
    "import matplotlib.pyplot as plt\n",
    "import ipywidgets as widgets\n",
    "from IPython.display import display, clear_output\n",
    "\n",
    "# 📐 Parametric study function\n",
    "def parametric_FS(H, gamma_s, phi, gamma_c, q, toe_length, stem_thickness, base_thickness, fs_required, vary_param):\n",
    "    clear_output(wait=True)\n",
    "\n",
    "    Ka = np.tan(np.radians(45 - phi / 2))**2\n",
    "    Kp = np.tan(np.radians(45 + phi / 2))**2\n",
    "    Pa_total = 0.5 * gamma_s * Ka * H**2 + Ka * q * H\n",
    "    Mo = Pa_total * (H / 3)\n",
    "\n",
    "    # Vary heel length or passive depth\n",
    "    if vary_param == 'Heel Length':\n",
    "        x_vals = np.linspace(0.5, 4.0, 50)\n",
    "        fs_vals = []\n",
    "        for heel_length in x_vals:\n",
    "            base_width = toe_length + heel_length\n",
    "            W_concrete = gamma_c * base_width * base_thickness\n",
    "            Mr_weight = W_concrete * (base_width / 2)\n",
    "            FS = Mr_weight / Mo\n",
    "            fs_vals.append(FS)\n",
    "        xlabel = 'Heel Length (m)'\n",
    "    else:\n",
    "        x_vals = np.linspace(0.0, 2.0, 50)\n",
    "        fs_vals = []\n",
    "        base_width = toe_length + 1.5  # fixed heel\n",
    "        W_concrete = gamma_c * base_width * base_thickness\n",
    "        Mr_weight = W_concrete * (base_width / 2)\n",
    "        for h_passive in x_vals:\n",
    "            Pp = 0.5 * gamma_s * Kp * h_passive**2\n",
    "            Mp_passive = Pp * h_passive / 3\n",
    "            FS = (Mr_weight + Mp_passive) / Mo\n",
    "            fs_vals.append(FS)\n",
    "        xlabel = 'Passive Depth (m)'\n",
    "\n",
    "    # Plot\n",
    "    plt.figure(figsize=(8, 5))\n",
    "    plt.plot(x_vals, fs_vals, label='Factor of Safety', color='teal')\n",
    "    plt.axhline(fs_required, color='red', linestyle='--', label=f'Required FS = {fs_required:.2f}')\n",
    "    plt.xlabel(xlabel)\n",
    "    plt.ylabel('Factor of Safety (FS)')\n",
    "    plt.title(f'Parametric Study: FS vs. {xlabel}')\n",
    "    plt.grid(True)\n",
    "    plt.legend()\n",
    "    plt.tight_layout()\n",
    "    plt.show()\n",
    "\n",
    "# 🎚️ Controls\n",
    "H_slider = widgets.FloatSlider(value=4.0, min=2.0, max=10.0, step=0.5, description='Wall Height (m)')\n",
    "gamma_s_slider = widgets.FloatSlider(value=18.0, min=16.0, max=22.0, step=0.5, description='Soil γ (kN/m³)')\n",
    "phi_slider = widgets.FloatSlider(value=30.0, min=20.0, max=45.0, step=1.0, description='Soil φ (°)')\n",
    "gamma_c_slider = widgets.FloatSlider(value=24.0, min=22.0, max=26.0, step=0.5, description='Concrete γ (kN/m³)')\n",
    "q_slider = widgets.FloatSlider(value=10.0, min=0.0, max=30.0, step=1.0, description='Surcharge (kN/m²)')\n",
    "toe_slider = widgets.FloatSlider(value=1.0, min=0.5, max=3.0, step=0.1, description='Toe Length (m)')\n",
    "stem_slider = widgets.FloatSlider(value=0.3, min=0.2, max=0.6, step=0.05, description='Stem Thickness (m)')\n",
    "base_slider = widgets.FloatSlider(value=0.5, min=0.3, max=1.0, step=0.05, description='Base Thickness (m)')\n",
    "fs_slider = widgets.FloatSlider(value=1.5, min=1.2, max=2.0, step=0.1, description='Required FS')\n",
    "param_dropdown = widgets.Dropdown(options=['Heel Length', 'Passive Depth'], value='Heel Length', description='Vary')\n",
    "\n",
    "interactive_study = widgets.interactive(\n",
    "    parametric_FS,\n",
    "    H=H_slider,\n",
    "    gamma_s=gamma_s_slider,\n",
    "    phi=phi_slider,\n",
    "    gamma_c=gamma_c_slider,\n",
    "    q=q_slider,\n",
    "    toe_length=toe_slider,\n",
    "    stem_thickness=stem_slider,\n",
    "    base_thickness=base_slider,\n",
    "    fs_required=fs_slider,\n",
    "    vary_param=param_dropdown\n",
    ")\n",
    "\n",
    "display(interactive_study)"
   ]
  },
  {
   "cell_type": "markdown",
   "id": "797bf7bc-14cf-41e1-9a99-53a80ef98dde",
   "metadata": {},
   "source": [
    "## 5. Self-Assessment"
   ]
  },
  {
   "cell_type": "markdown",
   "id": "94961a47-5eaa-4c13-a919-368f6700720d",
   "metadata": {},
   "source": [
    "### 🧠 Retaining Wall Design & Parametric Study: Quiz & Reflection\n",
    "\n",
    "This section helps reinforce key concepts from the retaining wall design tool and parametric analysis. It includes multiple-choice questions, conceptual prompts, and reflective challenges.\n",
    "\n",
    "---\n",
    "\n",
    "### ✅ Conceptual Questions\n",
    "\n",
    "1. **Which parameter most directly increases the resisting moment against overturning?**\n",
    "   - A. Stem thickness  \n",
    "   - B. Heel length  \n",
    "   - C. Surcharge load  \n",
    "   - D. Toe length  \n",
    "\n",
    "2. **Passive earth pressure is only mobilized when:**\n",
    "   - A. The wall is fully buried  \n",
    "   - B. The wall moves toward the soil in front of it  \n",
    "   - C. The surcharge exceeds the soil weight  \n",
    "   - D. The stem thickness is reduced  \n",
    "\n",
    "3. **In Rankine theory, the active earth pressure coefficient \\( K_a \\) decreases when:**\n",
    "   - A. Soil friction angle increases  \n",
    "   - B. Wall height increases  \n",
    "   - C. Concrete unit weight increases  \n",
    "   - D. Passive depth increases  \n",
    "\n",
    "4. **What does the failure envelope represent in the retaining wall visualization?**\n",
    "   - A. The maximum soil pressure  \n",
    "   - B. The required resisting moment for safe design  \n",
    "   - C. The depth of passive soil  \n",
    "   - D. The location of the water table  \n",
    "\n",
    "---\n",
    "\n",
    "### 📐 Parametric Study Challenge\n",
    "\n",
    "You performed a parametric study of **FS vs. heel length** and found that FS = 1.5 when heel length = 2.2 m.\n",
    "\n",
    "1. What happens to FS if heel length is reduced to 1.5 m?  \n",
    "2. How would increasing passive depth affect FS at fixed heel length?  \n",
    "3. Why is it useful to plot FS vs. design variables before finalizing geometry?\n",
    "\n",
    "---\n",
    "\n",
    "### 🔍 Reflection Questions\n",
    "\n",
    "1. **How does the balance between overturning and resisting moments guide your design decisions?**  \n",
    "2. **What practical constraints (e.g. excavation limits, cost, aesthetics) might limit heel length or passive depth?**  \n",
    "3. **If FS is slightly below the required threshold, what are your options as a designer?**  \n",
    "4. **How would the presence of water or seismic loads change your approach to stability analysis?**  \n",
    "5. **Why is it important to visualize both pressure diagrams and moment comparisons in retaining wall design?**\n",
    "\n",
    "---\n",
    "\n",
    "### 💡 Design Insight\n",
    "\n",
    "> “Parametric studies reveal the sensitivity of your design to key variables. They help you make informed decisions, avoid overdesign, and ensure safety under varying conditions.”\n",
    "\n",
    "---"
   ]
  }
 ],
 "metadata": {
  "kernelspec": {
   "display_name": "Python [conda env:base] *",
   "language": "python",
   "name": "conda-base-py"
  },
  "language_info": {
   "codemirror_mode": {
    "name": "ipython",
    "version": 3
   },
   "file_extension": ".py",
   "mimetype": "text/x-python",
   "name": "python",
   "nbconvert_exporter": "python",
   "pygments_lexer": "ipython3",
   "version": "3.12.7"
  },
  "widgets": {
   "application/vnd.jupyter.widget-state+json": {
    "state": {
     "03578747541a496b8b01bad72e63c6d4": {
      "model_module": "@jupyter-widgets/base",
      "model_module_version": "2.0.0",
      "model_name": "LayoutModel",
      "state": {}
     },
     "07646e57d0a6426283587158868532f8": {
      "model_module": "@jupyter-widgets/output",
      "model_module_version": "1.0.0",
      "model_name": "OutputModel",
      "state": {
       "layout": "IPY_MODEL_d80c26e9302f463ebd69cd5584f9e982",
       "outputs": [
        {
         "name": "stdout",
         "output_type": "stream",
         "text": "🧱 Wall Height: 4.00 m\n🌍 Soil γ: 18.0 kN/m³, φ: 30.0°\n🧪 Concrete γ: 24.0 kN/m³\n📐 Surcharge: 10.0 kN/m²\n📏 Toe: 1.00 m, Heel: 1.50 m, Stem: 0.30 m\n🧮 Active Pressure: 61.33 kN/m\n🧮 Passive Pressure: 6.75 kN/m (Depth = 0.50 m)\n🔄 Overturning Moment: 81.78 kN·m\n🛡️ Resisting Moment (Weight): 37.50 kN·m\n🛡️ Resisting Moment (Passive): 1.12 kN·m\n🧮 Total FS (Overturning): 0.47 (Required ≥ 1.50)\n⚠️ Increase heel length, base thickness, or passive depth to improve stability.\n"
        },
        {
         "data": {
          "image/png": "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",
          "text/plain": "<Figure size 1000x600 with 1 Axes>"
         },
         "metadata": {},
         "output_type": "display_data"
        }
       ]
      }
     },
     "192ad954a58a4a4d956bd36881f2ce64": {
      "model_module": "@jupyter-widgets/base",
      "model_module_version": "2.0.0",
      "model_name": "LayoutModel",
      "state": {}
     },
     "1b91e3547a2f40fc82e7810aa00e255d": {
      "model_module": "@jupyter-widgets/controls",
      "model_module_version": "2.0.0",
      "model_name": "FloatSliderModel",
      "state": {
       "behavior": "drag-tap",
       "description": "Base Thickness (m)",
       "layout": "IPY_MODEL_8efdcddb50604090b921d57685d3d834",
       "max": 1,
       "min": 0.3,
       "step": 0.05,
       "style": "IPY_MODEL_a4af6d3bd9f04f7ca230ad0f862d5f0a",
       "value": 0.5
      }
     },
     "1ede5c37c2f443ff97a4c09cc18968b8": {
      "model_module": "@jupyter-widgets/controls",
      "model_module_version": "2.0.0",
      "model_name": "SliderStyleModel",
      "state": {
       "description_width": ""
      }
     },
     "246c410b59d84a4ca8d13561010e61f8": {
      "model_module": "@jupyter-widgets/base",
      "model_module_version": "2.0.0",
      "model_name": "LayoutModel",
      "state": {}
     },
     "274fbd2467f5432cb63eb8bafa665fcb": {
      "model_module": "@jupyter-widgets/controls",
      "model_module_version": "2.0.0",
      "model_name": "SliderStyleModel",
      "state": {
       "description_width": ""
      }
     },
     "325a747adb23449baf7bc4b9ff6f3dc3": {
      "model_module": "@jupyter-widgets/controls",
      "model_module_version": "2.0.0",
      "model_name": "FloatSliderModel",
      "state": {
       "behavior": "drag-tap",
       "description": "Soil φ (°)",
       "layout": "IPY_MODEL_71b15e60075a4cd39fa4b43934687d33",
       "max": 45,
       "min": 20,
       "style": "IPY_MODEL_5a3b8517de5a437a949b2e0c23a22d77",
       "value": 30
      }
     },
     "335a92a805e64c3c8b31eccc90a44afd": {
      "model_module": "@jupyter-widgets/controls",
      "model_module_version": "2.0.0",
      "model_name": "FloatSliderModel",
      "state": {
       "behavior": "drag-tap",
       "description": "Required FS",
       "layout": "IPY_MODEL_246c410b59d84a4ca8d13561010e61f8",
       "max": 2,
       "min": 1.2,
       "step": 0.1,
       "style": "IPY_MODEL_36213874c183432a993a3f2f6b636202",
       "value": 1.5
      }
     },
     "3364b931a00246ecba7e170df00eafd7": {
      "model_module": "@jupyter-widgets/base",
      "model_module_version": "2.0.0",
      "model_name": "LayoutModel",
      "state": {}
     },
     "36213874c183432a993a3f2f6b636202": {
      "model_module": "@jupyter-widgets/controls",
      "model_module_version": "2.0.0",
      "model_name": "SliderStyleModel",
      "state": {
       "description_width": ""
      }
     },
     "382c0a36e6f847d79ba930f7316083d7": {
      "model_module": "@jupyter-widgets/controls",
      "model_module_version": "2.0.0",
      "model_name": "FloatSliderModel",
      "state": {
       "behavior": "drag-tap",
       "description": "Passive Depth (m)",
       "layout": "IPY_MODEL_3ff61bd9901b41dd9f7d94e06ff7865d",
       "max": 2,
       "step": 0.1,
       "style": "IPY_MODEL_bd27ee7d84cb47d0b00d969ff0950889",
       "value": 0.5
      }
     },
     "3a2466c4a9774aa7a1182892996d17db": {
      "model_module": "@jupyter-widgets/controls",
      "model_module_version": "2.0.0",
      "model_name": "FloatSliderModel",
      "state": {
       "behavior": "drag-tap",
       "description": "Soil γ (kN/m³)",
       "layout": "IPY_MODEL_dc2281f70734417b9abeb9b3097c9f2b",
       "max": 22,
       "min": 16,
       "step": 0.5,
       "style": "IPY_MODEL_e954ce2477564fdc8b4d1016985e4789",
       "value": 18
      }
     },
     "3ff61bd9901b41dd9f7d94e06ff7865d": {
      "model_module": "@jupyter-widgets/base",
      "model_module_version": "2.0.0",
      "model_name": "LayoutModel",
      "state": {}
     },
     "4249411d68354cba8d18d50ab5fb750e": {
      "model_module": "@jupyter-widgets/controls",
      "model_module_version": "2.0.0",
      "model_name": "SliderStyleModel",
      "state": {
       "description_width": ""
      }
     },
     "435183c325d4482cb3afbe7af6584bbb": {
      "model_module": "@jupyter-widgets/controls",
      "model_module_version": "2.0.0",
      "model_name": "FloatSliderModel",
      "state": {
       "behavior": "drag-tap",
       "description": "Base Thickness (m)",
       "layout": "IPY_MODEL_f454feb81355486bafabc420e1e6212c",
       "max": 1,
       "min": 0.3,
       "step": 0.05,
       "style": "IPY_MODEL_4249411d68354cba8d18d50ab5fb750e",
       "value": 0.5
      }
     },
     "4610623e5f924545a5da830aa926edcb": {
      "model_module": "@jupyter-widgets/controls",
      "model_module_version": "2.0.0",
      "model_name": "FloatSliderModel",
      "state": {
       "behavior": "drag-tap",
       "description": "Surcharge (kN/m²)",
       "layout": "IPY_MODEL_4f13659662a04c5bb11d43176503bbaf",
       "max": 30,
       "style": "IPY_MODEL_658a97c6d1954fa5a5472f7ed23f0aa3",
       "value": 10.000000000000002
      }
     },
     "4c0179fe73c943868249e8119ddf9f7d": {
      "model_module": "@jupyter-widgets/controls",
      "model_module_version": "2.0.0",
      "model_name": "SliderStyleModel",
      "state": {
       "description_width": ""
      }
     },
     "4f13659662a04c5bb11d43176503bbaf": {
      "model_module": "@jupyter-widgets/base",
      "model_module_version": "2.0.0",
      "model_name": "LayoutModel",
      "state": {}
     },
     "50768f5831d84b858325631048524eed": {
      "model_module": "@jupyter-widgets/controls",
      "model_module_version": "2.0.0",
      "model_name": "SliderStyleModel",
      "state": {
       "description_width": ""
      }
     },
     "5a3b8517de5a437a949b2e0c23a22d77": {
      "model_module": "@jupyter-widgets/controls",
      "model_module_version": "2.0.0",
      "model_name": "SliderStyleModel",
      "state": {
       "description_width": ""
      }
     },
     "5c5b8ff00af84282aeee9237ba7bd97f": {
      "model_module": "@jupyter-widgets/base",
      "model_module_version": "2.0.0",
      "model_name": "LayoutModel",
      "state": {}
     },
     "5d77a49becc942e1a545a3f783a8e5b5": {
      "model_module": "@jupyter-widgets/controls",
      "model_module_version": "2.0.0",
      "model_name": "FloatSliderModel",
      "state": {
       "behavior": "drag-tap",
       "description": "Wall Height (m)",
       "layout": "IPY_MODEL_7f5bef0c6e734456982989172247ba40",
       "max": 10,
       "min": 2,
       "step": 0.5,
       "style": "IPY_MODEL_71aa0627212f4c02a91776c0672dd4cf",
       "value": 4
      }
     },
     "607d7d98f3b64c01883791fcedca01f1": {
      "model_module": "@jupyter-widgets/controls",
      "model_module_version": "2.0.0",
      "model_name": "SliderStyleModel",
      "state": {
       "description_width": ""
      }
     },
     "658a97c6d1954fa5a5472f7ed23f0aa3": {
      "model_module": "@jupyter-widgets/controls",
      "model_module_version": "2.0.0",
      "model_name": "SliderStyleModel",
      "state": {
       "description_width": ""
      }
     },
     "66d1ca93c637432e8c8e262eea2a61c2": {
      "model_module": "@jupyter-widgets/base",
      "model_module_version": "2.0.0",
      "model_name": "LayoutModel",
      "state": {}
     },
     "674aa2b609d2499b88f98c3b7713356a": {
      "model_module": "@jupyter-widgets/controls",
      "model_module_version": "2.0.0",
      "model_name": "FloatSliderModel",
      "state": {
       "behavior": "drag-tap",
       "description": "Wall Height (m)",
       "layout": "IPY_MODEL_ca77d7ba6fc443e188ef657b42094ba5",
       "max": 10,
       "min": 2,
       "step": 0.5,
       "style": "IPY_MODEL_d8b035eb97e34ee4a75138c42e4fabaf",
       "value": 4
      }
     },
     "674ef35d60814543afc5f547a8bea0db": {
      "model_module": "@jupyter-widgets/base",
      "model_module_version": "2.0.0",
      "model_name": "LayoutModel",
      "state": {}
     },
     "6764d1c708904246aeda533139ebf502": {
      "model_module": "@jupyter-widgets/controls",
      "model_module_version": "2.0.0",
      "model_name": "FloatSliderModel",
      "state": {
       "behavior": "drag-tap",
       "description": "Stem Thickness (m)",
       "layout": "IPY_MODEL_5c5b8ff00af84282aeee9237ba7bd97f",
       "max": 0.6,
       "min": 0.2,
       "step": 0.05,
       "style": "IPY_MODEL_1ede5c37c2f443ff97a4c09cc18968b8",
       "value": 0.30000000000000004
      }
     },
     "6b1d01b3295244689cb21a40097d2ee1": {
      "model_module": "@jupyter-widgets/controls",
      "model_module_version": "2.0.0",
      "model_name": "DescriptionStyleModel",
      "state": {
       "description_width": ""
      }
     },
     "6c513bba6e72497d91ae955d9e0ee2f7": {
      "model_module": "@jupyter-widgets/controls",
      "model_module_version": "2.0.0",
      "model_name": "FloatSliderModel",
      "state": {
       "behavior": "drag-tap",
       "description": "Concrete γ (kN/m³)",
       "layout": "IPY_MODEL_b7271e93cd4248c8819d91d97d6055fb",
       "max": 26,
       "min": 22,
       "step": 0.5,
       "style": "IPY_MODEL_cbf25967b3ac4479a62a9806a793d571",
       "value": 24
      }
     },
     "71aa0627212f4c02a91776c0672dd4cf": {
      "model_module": "@jupyter-widgets/controls",
      "model_module_version": "2.0.0",
      "model_name": "SliderStyleModel",
      "state": {
       "description_width": ""
      }
     },
     "71b15e60075a4cd39fa4b43934687d33": {
      "model_module": "@jupyter-widgets/base",
      "model_module_version": "2.0.0",
      "model_name": "LayoutModel",
      "state": {}
     },
     "7f5bef0c6e734456982989172247ba40": {
      "model_module": "@jupyter-widgets/base",
      "model_module_version": "2.0.0",
      "model_name": "LayoutModel",
      "state": {}
     },
     "7f7aaab562714627a7c1417e6142c1b7": {
      "model_module": "@jupyter-widgets/controls",
      "model_module_version": "2.0.0",
      "model_name": "FloatSliderModel",
      "state": {
       "behavior": "drag-tap",
       "description": "Surcharge (kN/m²)",
       "layout": "IPY_MODEL_3364b931a00246ecba7e170df00eafd7",
       "max": 30,
       "style": "IPY_MODEL_819b8f84eb224af4a794f631e034a5ba",
       "value": 10.000000000000002
      }
     },
     "819b8f84eb224af4a794f631e034a5ba": {
      "model_module": "@jupyter-widgets/controls",
      "model_module_version": "2.0.0",
      "model_name": "SliderStyleModel",
      "state": {
       "description_width": ""
      }
     },
     "81a11a973837404193c265ab740054dd": {
      "model_module": "@jupyter-widgets/controls",
      "model_module_version": "2.0.0",
      "model_name": "FloatSliderModel",
      "state": {
       "behavior": "drag-tap",
       "description": "Concrete γ (kN/m³)",
       "layout": "IPY_MODEL_03578747541a496b8b01bad72e63c6d4",
       "max": 26,
       "min": 22,
       "step": 0.5,
       "style": "IPY_MODEL_b92b4fd22b924df1b2a1c597f28eb13f",
       "value": 24
      }
     },
     "8b07f2fb599f442e87751aa2f0e6b56b": {
      "model_module": "@jupyter-widgets/controls",
      "model_module_version": "2.0.0",
      "model_name": "SliderStyleModel",
      "state": {
       "description_width": ""
      }
     },
     "8bb2078f0a644a9699fd0f699a0e0c8b": {
      "model_module": "@jupyter-widgets/controls",
      "model_module_version": "2.0.0",
      "model_name": "VBoxModel",
      "state": {
       "_dom_classes": [
        "widget-interact"
       ],
       "children": [
        "IPY_MODEL_674aa2b609d2499b88f98c3b7713356a",
        "IPY_MODEL_3a2466c4a9774aa7a1182892996d17db",
        "IPY_MODEL_a9ee350cae5848b893bb19b522636f8c",
        "IPY_MODEL_6c513bba6e72497d91ae955d9e0ee2f7",
        "IPY_MODEL_7f7aaab562714627a7c1417e6142c1b7",
        "IPY_MODEL_d06941d897264732a338c8f82c14580c",
        "IPY_MODEL_6764d1c708904246aeda533139ebf502",
        "IPY_MODEL_1b91e3547a2f40fc82e7810aa00e255d",
        "IPY_MODEL_335a92a805e64c3c8b31eccc90a44afd",
        "IPY_MODEL_ee692e3e5a6f4338b79bd26003e56f03",
        "IPY_MODEL_8c24d4df44c14a7a92b9fbdf10968356"
       ],
       "layout": "IPY_MODEL_dc7ace202a244b21b39be71047fa7c4d"
      }
     },
     "8c24d4df44c14a7a92b9fbdf10968356": {
      "model_module": "@jupyter-widgets/output",
      "model_module_version": "1.0.0",
      "model_name": "OutputModel",
      "state": {
       "layout": "IPY_MODEL_d3605107f00040ada35ebe1aee263379",
       "outputs": [
        {
         "data": {
          "image/png": "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",
          "text/plain": "<Figure size 800x500 with 1 Axes>"
         },
         "metadata": {},
         "output_type": "display_data"
        }
       ]
      }
     },
     "8efdcddb50604090b921d57685d3d834": {
      "model_module": "@jupyter-widgets/base",
      "model_module_version": "2.0.0",
      "model_name": "LayoutModel",
      "state": {}
     },
     "99cb9547a5e4478f80f877990208c364": {
      "model_module": "@jupyter-widgets/controls",
      "model_module_version": "2.0.0",
      "model_name": "FloatSliderModel",
      "state": {
       "behavior": "drag-tap",
       "description": "Soil γ (kN/m³)",
       "layout": "IPY_MODEL_d624986021ff48249f987ddf19a8c515",
       "max": 22,
       "min": 16,
       "step": 0.5,
       "style": "IPY_MODEL_50768f5831d84b858325631048524eed",
       "value": 18
      }
     },
     "9d180cc2dabb426ea927454cfc763726": {
      "model_module": "@jupyter-widgets/controls",
      "model_module_version": "2.0.0",
      "model_name": "SliderStyleModel",
      "state": {
       "description_width": ""
      }
     },
     "a4af6d3bd9f04f7ca230ad0f862d5f0a": {
      "model_module": "@jupyter-widgets/controls",
      "model_module_version": "2.0.0",
      "model_name": "SliderStyleModel",
      "state": {
       "description_width": ""
      }
     },
     "a56e3508e0814df4801e0edbf28242c2": {
      "model_module": "@jupyter-widgets/controls",
      "model_module_version": "2.0.0",
      "model_name": "FloatSliderModel",
      "state": {
       "behavior": "drag-tap",
       "description": "FS Required",
       "layout": "IPY_MODEL_a8bb1a293ad943b1abf948c3bdfafa61",
       "max": 2,
       "min": 1.2,
       "step": 0.1,
       "style": "IPY_MODEL_274fbd2467f5432cb63eb8bafa665fcb",
       "value": 1.5
      }
     },
     "a8bb1a293ad943b1abf948c3bdfafa61": {
      "model_module": "@jupyter-widgets/base",
      "model_module_version": "2.0.0",
      "model_name": "LayoutModel",
      "state": {}
     },
     "a9ee350cae5848b893bb19b522636f8c": {
      "model_module": "@jupyter-widgets/controls",
      "model_module_version": "2.0.0",
      "model_name": "FloatSliderModel",
      "state": {
       "behavior": "drag-tap",
       "description": "Soil φ (°)",
       "layout": "IPY_MODEL_d4db7b8611464428bd5f8408590ef3a8",
       "max": 45,
       "min": 20,
       "style": "IPY_MODEL_8b07f2fb599f442e87751aa2f0e6b56b",
       "value": 30
      }
     },
     "b7271e93cd4248c8819d91d97d6055fb": {
      "model_module": "@jupyter-widgets/base",
      "model_module_version": "2.0.0",
      "model_name": "LayoutModel",
      "state": {}
     },
     "b92b4fd22b924df1b2a1c597f28eb13f": {
      "model_module": "@jupyter-widgets/controls",
      "model_module_version": "2.0.0",
      "model_name": "SliderStyleModel",
      "state": {
       "description_width": ""
      }
     },
     "bb14f3af9c25445dbc04ea26940c29b3": {
      "model_module": "@jupyter-widgets/controls",
      "model_module_version": "2.0.0",
      "model_name": "SliderStyleModel",
      "state": {
       "description_width": ""
      }
     },
     "bc576c51483a4387bc53c6d5bd253298": {
      "model_module": "@jupyter-widgets/base",
      "model_module_version": "2.0.0",
      "model_name": "LayoutModel",
      "state": {}
     },
     "bd27ee7d84cb47d0b00d969ff0950889": {
      "model_module": "@jupyter-widgets/controls",
      "model_module_version": "2.0.0",
      "model_name": "SliderStyleModel",
      "state": {
       "description_width": ""
      }
     },
     "ca1a226f0e7b4c97bb84e3811319b328": {
      "model_module": "@jupyter-widgets/controls",
      "model_module_version": "2.0.0",
      "model_name": "FloatSliderModel",
      "state": {
       "behavior": "drag-tap",
       "description": "Stem Thickness (m)",
       "layout": "IPY_MODEL_192ad954a58a4a4d956bd36881f2ce64",
       "max": 0.6,
       "min": 0.2,
       "step": 0.05,
       "style": "IPY_MODEL_bb14f3af9c25445dbc04ea26940c29b3",
       "value": 0.30000000000000004
      }
     },
     "ca77d7ba6fc443e188ef657b42094ba5": {
      "model_module": "@jupyter-widgets/base",
      "model_module_version": "2.0.0",
      "model_name": "LayoutModel",
      "state": {}
     },
     "cbf25967b3ac4479a62a9806a793d571": {
      "model_module": "@jupyter-widgets/controls",
      "model_module_version": "2.0.0",
      "model_name": "SliderStyleModel",
      "state": {
       "description_width": ""
      }
     },
     "d06941d897264732a338c8f82c14580c": {
      "model_module": "@jupyter-widgets/controls",
      "model_module_version": "2.0.0",
      "model_name": "FloatSliderModel",
      "state": {
       "behavior": "drag-tap",
       "description": "Toe Length (m)",
       "layout": "IPY_MODEL_66d1ca93c637432e8c8e262eea2a61c2",
       "max": 3,
       "min": 0.5,
       "step": 0.1,
       "style": "IPY_MODEL_4c0179fe73c943868249e8119ddf9f7d",
       "value": 1
      }
     },
     "d29fa0b9fac84c0abfc5336804e36e01": {
      "model_module": "@jupyter-widgets/controls",
      "model_module_version": "2.0.0",
      "model_name": "FloatSliderModel",
      "state": {
       "behavior": "drag-tap",
       "description": "Toe Length (m)",
       "layout": "IPY_MODEL_bc576c51483a4387bc53c6d5bd253298",
       "max": 3,
       "min": 0.5,
       "step": 0.1,
       "style": "IPY_MODEL_9d180cc2dabb426ea927454cfc763726",
       "value": 1
      }
     },
     "d3605107f00040ada35ebe1aee263379": {
      "model_module": "@jupyter-widgets/base",
      "model_module_version": "2.0.0",
      "model_name": "LayoutModel",
      "state": {}
     },
     "d4db7b8611464428bd5f8408590ef3a8": {
      "model_module": "@jupyter-widgets/base",
      "model_module_version": "2.0.0",
      "model_name": "LayoutModel",
      "state": {}
     },
     "d624986021ff48249f987ddf19a8c515": {
      "model_module": "@jupyter-widgets/base",
      "model_module_version": "2.0.0",
      "model_name": "LayoutModel",
      "state": {}
     },
     "d80c26e9302f463ebd69cd5584f9e982": {
      "model_module": "@jupyter-widgets/base",
      "model_module_version": "2.0.0",
      "model_name": "LayoutModel",
      "state": {}
     },
     "d8b035eb97e34ee4a75138c42e4fabaf": {
      "model_module": "@jupyter-widgets/controls",
      "model_module_version": "2.0.0",
      "model_name": "SliderStyleModel",
      "state": {
       "description_width": ""
      }
     },
     "dc2281f70734417b9abeb9b3097c9f2b": {
      "model_module": "@jupyter-widgets/base",
      "model_module_version": "2.0.0",
      "model_name": "LayoutModel",
      "state": {}
     },
     "dc7ace202a244b21b39be71047fa7c4d": {
      "model_module": "@jupyter-widgets/base",
      "model_module_version": "2.0.0",
      "model_name": "LayoutModel",
      "state": {}
     },
     "dc7fd76a97c04087a04a0bf24f8cd842": {
      "model_module": "@jupyter-widgets/base",
      "model_module_version": "2.0.0",
      "model_name": "LayoutModel",
      "state": {}
     },
     "e27c9ce33104445e945481ae3bf4d090": {
      "model_module": "@jupyter-widgets/controls",
      "model_module_version": "2.0.0",
      "model_name": "FloatSliderModel",
      "state": {
       "behavior": "drag-tap",
       "description": "Heel Length (m)",
       "layout": "IPY_MODEL_dc7fd76a97c04087a04a0bf24f8cd842",
       "max": 4,
       "min": 0.5,
       "step": 0.1,
       "style": "IPY_MODEL_607d7d98f3b64c01883791fcedca01f1",
       "value": 1.5
      }
     },
     "e954ce2477564fdc8b4d1016985e4789": {
      "model_module": "@jupyter-widgets/controls",
      "model_module_version": "2.0.0",
      "model_name": "SliderStyleModel",
      "state": {
       "description_width": ""
      }
     },
     "ee692e3e5a6f4338b79bd26003e56f03": {
      "model_module": "@jupyter-widgets/controls",
      "model_module_version": "2.0.0",
      "model_name": "DropdownModel",
      "state": {
       "_options_labels": [
        "Heel Length",
        "Passive Depth"
       ],
       "description": "Vary",
       "index": 0,
       "layout": "IPY_MODEL_fbef43e2552f4b3fad40bd290a79234c",
       "style": "IPY_MODEL_6b1d01b3295244689cb21a40097d2ee1"
      }
     },
     "f454feb81355486bafabc420e1e6212c": {
      "model_module": "@jupyter-widgets/base",
      "model_module_version": "2.0.0",
      "model_name": "LayoutModel",
      "state": {}
     },
     "f7251765cab04502b1d7b08b6ae73a27": {
      "model_module": "@jupyter-widgets/controls",
      "model_module_version": "2.0.0",
      "model_name": "VBoxModel",
      "state": {
       "_dom_classes": [
        "widget-interact"
       ],
       "children": [
        "IPY_MODEL_5d77a49becc942e1a545a3f783a8e5b5",
        "IPY_MODEL_99cb9547a5e4478f80f877990208c364",
        "IPY_MODEL_325a747adb23449baf7bc4b9ff6f3dc3",
        "IPY_MODEL_81a11a973837404193c265ab740054dd",
        "IPY_MODEL_4610623e5f924545a5da830aa926edcb",
        "IPY_MODEL_d29fa0b9fac84c0abfc5336804e36e01",
        "IPY_MODEL_e27c9ce33104445e945481ae3bf4d090",
        "IPY_MODEL_ca1a226f0e7b4c97bb84e3811319b328",
        "IPY_MODEL_435183c325d4482cb3afbe7af6584bbb",
        "IPY_MODEL_a56e3508e0814df4801e0edbf28242c2",
        "IPY_MODEL_382c0a36e6f847d79ba930f7316083d7",
        "IPY_MODEL_07646e57d0a6426283587158868532f8"
       ],
       "layout": "IPY_MODEL_674ef35d60814543afc5f547a8bea0db"
      }
     },
     "fbef43e2552f4b3fad40bd290a79234c": {
      "model_module": "@jupyter-widgets/base",
      "model_module_version": "2.0.0",
      "model_name": "LayoutModel",
      "state": {}
     }
    },
    "version_major": 2,
    "version_minor": 0
   }
  }
 },
 "nbformat": 4,
 "nbformat_minor": 5
}
