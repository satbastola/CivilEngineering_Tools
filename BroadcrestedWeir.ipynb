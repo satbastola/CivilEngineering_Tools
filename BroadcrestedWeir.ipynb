{
 "cells": [
  {
   "cell_type": "markdown",
   "id": "95be4a41-e7d4-41e0-b4f9-d84580874112",
   "metadata": {},
   "source": [
    "# Chapter 3 Hydraulics:Broad-Crested Weir"
   ]
  },
  {
   "cell_type": "markdown",
   "id": "4cc9fb3a-1ed6-4866-afd4-d33f3568b505",
   "metadata": {},
   "source": [
    "1. [Introduction: Broad_Crested Weir](#1.-Introduction)\n",
    "2. [Simulation](#2.-Simulation)\n",
    "3. [Self-Assessment](#3.-Self-Assessment)"
   ]
  },
  {
   "cell_type": "markdown",
   "id": "2d43d422-908e-4d50-a50b-dcb49390efc6",
   "metadata": {},
   "source": [
    "## 1. Introduction"
   ]
  },
  {
   "cell_type": "markdown",
   "id": "3322e076-35b2-4b37-bff1-964bfda92608",
   "metadata": {},
   "source": [
    "### Interactive Broad-Crested Weir Flow Visualizer\n",
    "\n",
    "This tool demonstrates how discharge \\( Q \\) varies with upstream head \\( H \\), crest width \\( b \\), and the discharge coefficient \\( C_d \\) for a **broad-crested weir**.\n",
    "\n",
    "The flow rate is calculated using the empirical equation:\n",
    "\n",
    "$$\n",
    "Q = C_d \\cdot b \\cdot H \\cdot \\sqrt{2gH}\n",
    "$$\n",
    "\n",
    "Where:\n",
    "- \\( Q \\): discharge [m³/s]  \n",
    "- \\( C_d \\): discharge coefficient (typically between 0.4 and 0.7)  \n",
    "- \\( b \\): crest width [m]  \n",
    "- \\( H \\): head over the crest [m]  \n",
    "- \\( g = 9.81 \\, \\text{m/s}^2 \\): gravitational acceleration  \n",
    "\n",
    "---\n",
    "\n",
    "### Parameters Controlled with Sliders\n",
    "\n",
    "- **Discharge Coefficient \\( C_d \\)**: Adjust between 0.4 and 0.7\n",
    "- **Crest Width \\( b \\)**: Choose values from 0.1 m to 5.0 m\n",
    "- **Maximum Head \\( H \\)**: Define the head range up to 2.0 m\n",
    "\n",
    "---\n",
    "\n",
    "### Output\n",
    "\n",
    "The resulting plot shows:\n",
    "- A continuous curve of **discharge vs head**\n",
    "- How changes in geometry or \\( C_d \\) influence capacity\n",
    "- Useful visual insight for preliminary design or learning\n",
    "\n",
    "---\n",
    "\n",
    " This interactive tool is ideal for illustrating basic hydraulics, verifying design sensitivity, and building intuition for weir performance."
   ]
  },
  {
   "cell_type": "markdown",
   "id": "7a44d184-82f6-40ca-b202-4428aff252ec",
   "metadata": {},
   "source": [
    "## 2. Simulation"
   ]
  },
  {
   "cell_type": "code",
   "execution_count": 1,
   "id": "d296e71f-0cbb-43c9-9a9b-c21045dee7f4",
   "metadata": {},
   "outputs": [
    {
     "data": {
      "application/vnd.jupyter.widget-view+json": {
       "model_id": "3769609402fd4a03ac9b6975e35621ca",
       "version_major": 2,
       "version_minor": 0
      },
      "text/plain": [
       "interactive(children=(FloatSlider(value=0.5, description='Discharge Coeff. Cd', max=0.7, min=0.4, step=0.01), …"
      ]
     },
     "metadata": {},
     "output_type": "display_data"
    },
    {
     "data": {
      "text/plain": [
       "<function __main__.plot_broad_weir(Cd, b, H_max)>"
      ]
     },
     "execution_count": 1,
     "metadata": {},
     "output_type": "execute_result"
    }
   ],
   "source": [
    "import numpy as np\n",
    "import matplotlib.pyplot as plt\n",
    "from ipywidgets import interact, FloatSlider\n",
    "\n",
    "g = 9.81  # gravitational acceleration (m/s²)\n",
    "\n",
    "# Broad-crested weir discharge equation\n",
    "def broad_crested_weir_Q(b, H, Cd):\n",
    "    return Cd * b * H * np.sqrt(2 * g * H)\n",
    "\n",
    "# Interactive plot\n",
    "def plot_broad_weir(Cd, b, H_max):\n",
    "    H_vals = np.linspace(0.01, H_max, 300)\n",
    "    Q_vals = broad_crested_weir_Q(b, H_vals, Cd)\n",
    "    \n",
    "    plt.figure(figsize=(8, 5))\n",
    "    plt.plot(H_vals, Q_vals, color='royalblue', linewidth=2)\n",
    "    plt.xlabel(\"Head over Crest H (m)\")\n",
    "    plt.ylabel(\"Discharge Q (m³/s)\")\n",
    "    plt.title(f\"Broad-Crested Weir: Discharge vs Head\\nWidth b = {b:.2f} m, Cd = {Cd}\")\n",
    "    plt.grid(True, linestyle=\"--\", alpha=0.5)\n",
    "    plt.tight_layout()\n",
    "    plt.show()\n",
    "\n",
    "# Interactive controls\n",
    "interact(\n",
    "    plot_broad_weir,\n",
    "    Cd=FloatSlider(value=0.5, min=0.4, max=0.7, step=0.01, description=\"Discharge Coeff. Cd\"),\n",
    "    b=FloatSlider(value=1.0, min=0.1, max=5.0, step=0.1, description=\"Crest Width b (m)\"),\n",
    "    H_max=FloatSlider(value=1.0, min=0.1, max=2.0, step=0.05, description=\"Max Head H (m)\")\n",
    ")"
   ]
  },
  {
   "cell_type": "markdown",
   "id": "812d52b3-d1c7-4bb8-b939-adc1eaf639e0",
   "metadata": {},
   "source": [
    "## 3. Self-Assessment"
   ]
  },
  {
   "cell_type": "markdown",
   "id": "6adcb899-930b-49cb-bc7d-b96ea95a6799",
   "metadata": {},
   "source": [
    "### Interactive Broad-Crested Weir Flow Estimator\n",
    "\n",
    "This notebook provides an interactive tool for exploring how the **discharge over a broad-crested weir** varies with upstream head, crest width, and discharge coefficient.\n",
    "\n",
    "---\n",
    "\n",
    "### Conceptual Questions\n",
    "\n",
    "1. **Why is the discharge through a broad-crested weir proportional to \\( H^{1.5} \\), and what physical principles explain this relationship?**\n",
    "2. **How does the discharge coefficient \\( C_d \\) reflect the impact of surface roughness, approach flow, and weir geometry?**\n",
    "3. **Why is the weir crest made “broad” compared to sharp-crested weirs? What advantage does this provide in real applications?**\n",
    "4. **Explain why weir width \\( b \\) has a linear relationship with discharge, while head \\( H \\) has a nonlinear one.**\n",
    "5. **What assumptions underlie the standard broad-crested weir equation used in this tool?**\n",
    "\n",
    "---\n",
    "\n",
    "### Reflective Questions\n",
    "\n",
    "1. **If your goal is to minimize flow over a flood control structure, would increasing \\( b \\) or decreasing \\( C_d \\) be more effective? Why?**\n",
    "2. **In what situations might a broad-crested weir be preferred over a V-notch or Cipolletti weir? What trade-offs are involved?**\n",
    "3. **How would sediment buildup on the crest affect the accuracy of the discharge prediction?**\n",
    "4. **What factors might cause the actual \\( C_d \\) in the field to differ from the nominal value used in design?**\n",
    "5. **Imagine you must design a weir for a fish passage. How might your weir geometry or flow regime need to change?**\n",
    "\n",
    "---\n",
    "\n",
    "### General Problem & Solution\n",
    "\n",
    "**Problem:**  \n",
    "A broad-crested weir has a crest width \\( b = 2.0 \\) m. If the upstream head \\( H \\) is 0.6 m and the discharge coefficient is estimated at \\( C_d = 0.5 \\), calculate the flow rate \\( Q \\) over the weir.\n",
    "\n",
    "**Solution:**\n",
    "\n",
    "$$\n",
    "Q = C_d \\cdot b \\cdot H \\cdot \\sqrt{2gH}\n",
    "$$\n",
    "\n",
    "Substitute values:\n",
    "\n",
    "$$\n",
    "Q = 0.5 \\cdot 2.0 \\cdot 0.6 \\cdot \\sqrt{2 \\cdot 9.81 \\cdot 0.6} \\approx 0.6 \\cdot \\sqrt{11.772} \\approx 0.6 \\cdot 3.43 \\approx \\boxed{2.06\\ \\text{m³/s}}\n",
    "$$\n",
    "\n",
    "---\n",
    "\n",
    "### ✅ Quiz Questions\n",
    "\n",
    "**Q1.** Which term in the broad-crested weir equation has the most significant impact on discharge for small changes?  \n",
    "A. Crest width \\( b \\)  \n",
    "B. Discharge coefficient \\( C_d \\)  \n",
    "C. Head over crest \\( H \\)  \n",
    "🟢 **Correct Answer:** C\n",
    "\n",
    "---\n",
    "\n",
    "**Q2.** The exponent on head \\( H \\) in the weir equation is:  \n",
    "A. 1  \n",
    "B. 1.5  \n",
    "C. 2  \n",
    "D. 0.5  \n",
    "🟢 **Correct Answer:** B\n",
    "\n",
    "---\n",
    "\n",
    "**Q3.** The function of a broad-crested weir is primarily to:  \n",
    "A. Increase flow turbulence  \n",
    "B. Reduce head losses  \n",
    "C. Measure or regulate flow  \n",
    "D. Control sediment transport  \n",
    "🟢 **Correct Answer:** C\n",
    "\n",
    "---\n",
    "\n",
    "**Q4.** Increasing the discharge coefficient \\( C_d \\) causes discharge to:  \n",
    "A. Decrease  \n",
    "B. Stay the same  \n",
    "C. Increase  \n",
    "D. Become zero  \n",
    "🟢 **Correct Answer:** C"
   ]
  },
  {
   "cell_type": "markdown",
   "id": "73a45517-1e71-435e-8040-5c3ab8ff0378",
   "metadata": {},
   "source": []
  },
  {
   "cell_type": "code",
   "execution_count": null,
   "id": "dd673aa1-477d-4eea-aeeb-e39c591c3b45",
   "metadata": {},
   "outputs": [],
   "source": []
  }
 ],
 "metadata": {
  "kernelspec": {
   "display_name": "Python [conda env:base] *",
   "language": "python",
   "name": "conda-base-py"
  },
  "language_info": {
   "codemirror_mode": {
    "name": "ipython",
    "version": 3
   },
   "file_extension": ".py",
   "mimetype": "text/x-python",
   "name": "python",
   "nbconvert_exporter": "python",
   "pygments_lexer": "ipython3",
   "version": "3.12.7"
  }
 },
 "nbformat": 4,
 "nbformat_minor": 5
}
