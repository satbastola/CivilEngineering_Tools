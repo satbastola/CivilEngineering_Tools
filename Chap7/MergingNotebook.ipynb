{
 "cells": [
  {
   "cell_type": "code",
   "execution_count": 4,
   "id": "eb36b719-3c8e-4598-a023-ca3f29b721b8",
   "metadata": {},
   "outputs": [
    {
     "ename": "TypeError",
     "evalue": "merge_notebooks() takes 3 positional arguments but 5 were given",
     "output_type": "error",
     "traceback": [
      "\u001b[1;31m---------------------------------------------------------------------------\u001b[0m",
      "\u001b[1;31mTypeError\u001b[0m                                 Traceback (most recent call last)",
      "Cell \u001b[1;32mIn[4], line 24\u001b[0m\n\u001b[0;32m     21\u001b[0m     \u001b[38;5;28mprint\u001b[39m(\u001b[38;5;124mf\u001b[39m\u001b[38;5;124m\"\u001b[39m\u001b[38;5;124mMerged notebook saved to: \u001b[39m\u001b[38;5;132;01m{\u001b[39;00moutput_path\u001b[38;5;132;01m}\u001b[39;00m\u001b[38;5;124m\"\u001b[39m)\n\u001b[0;32m     23\u001b[0m \u001b[38;5;66;03m# Example usage\u001b[39;00m\n\u001b[1;32m---> 24\u001b[0m merge_notebooks(\u001b[38;5;124m'\u001b[39m\u001b[38;5;124mSpectralSignatureViewer.ipynb\u001b[39m\u001b[38;5;124m'\u001b[39m, \u001b[38;5;124m'\u001b[39m\u001b[38;5;124mSingleBand_MultiBandTiff.ipynb\u001b[39m\u001b[38;5;124m'\u001b[39m, \u001b[38;5;124m'\u001b[39m\u001b[38;5;124mInterative_ColorComposite.ipynb\u001b[39m\u001b[38;5;124m'\u001b[39m, \u001b[38;5;124m'\u001b[39m\u001b[38;5;124mGeospatialAnalysis_RS.ipynb\u001b[39m\u001b[38;5;124m'\u001b[39m,\u001b[38;5;124m'\u001b[39m\u001b[38;5;124mMerged_RemoteSensing.ipynb\u001b[39m\u001b[38;5;124m'\u001b[39m)\n",
      "\u001b[1;31mTypeError\u001b[0m: merge_notebooks() takes 3 positional arguments but 5 were given"
     ]
    }
   ],
   "source": [
    "import nbformat\n",
    "\n",
    "def merge_notebooks(nb_path1, nb_path2, output_path):\n",
    "    # Read the notebooks\n",
    "    with open(nb_path1, 'r', encoding='utf-8') as f1:\n",
    "        nb1 = nbformat.read(f1, as_version=4)\n",
    "    with open(nb_path2, 'r', encoding='utf-8') as f2:\n",
    "        nb2 = nbformat.read(f2, as_version=4)\n",
    "\n",
    "    # Combine cells\n",
    "    merged_nb = nbformat.v4.new_notebook()\n",
    "    merged_nb.cells = nb1.cells + nb2.cells\n",
    "\n",
    "    # Use metadata from first notebook\n",
    "    merged_nb.metadata = nb1.metadata\n",
    "\n",
    "    # Write to output\n",
    "    with open(output_path, 'w', encoding='utf-8') as fout:\n",
    "        nbformat.write(merged_nb, fout)\n",
    "\n",
    "    print(f\"Merged notebook saved to: {output_path}\")\n",
    "\n",
    "# Example usage\n",
    "merge_notebooks('SpectralSignatureViewer.ipynb', 'SingleBand_MultiBandTiff.ipynb', 'Interative_ColorComposite.ipynb', 'GeospatialAnalysis_RS.ipynb','Merged_RemoteSensing.ipynb')\n"
   ]
  },
  {
   "cell_type": "code",
   "execution_count": null,
   "id": "fe120bf8-65a9-4166-ab10-7934e431314d",
   "metadata": {},
   "outputs": [],
   "source": []
  },
  {
   "cell_type": "code",
   "execution_count": 5,
   "id": "c31051a7-d835-42b4-bea2-e4df0c1cb8cd",
   "metadata": {},
   "outputs": [
    {
     "name": "stdout",
     "output_type": "stream",
     "text": [
      "✅ Merged notebook saved to: Merged_RemoteSensing.ipynb\n"
     ]
    }
   ],
   "source": [
    "import nbformat\n",
    "from pathlib import Path\n",
    "\n",
    "def merge_notebooks(notebook_paths, output_path):\n",
    "    merged_nb = nbformat.v4.new_notebook()\n",
    "    merged_nb.cells = []\n",
    "\n",
    "    for path in notebook_paths:\n",
    "        with open(path, 'r', encoding='utf-8') as f:\n",
    "            nb = nbformat.read(f, as_version=4)\n",
    "            # Optional: add a header cell to indicate the source notebook\n",
    "            header = nbformat.v4.new_markdown_cell(f\"# 📘 Cells from `{Path(path).name}`\")\n",
    "            merged_nb.cells.append(header)\n",
    "            merged_nb.cells.extend(nb.cells)\n",
    "\n",
    "    # Use metadata from the first notebook\n",
    "    if notebook_paths:\n",
    "        with open(notebook_paths[0], 'r', encoding='utf-8') as f:\n",
    "            first_nb = nbformat.read(f, as_version=4)\n",
    "            merged_nb.metadata = first_nb.metadata\n",
    "\n",
    "    # Save to output path\n",
    "    with open(output_path, 'w', encoding='utf-8') as f_out:\n",
    "        nbformat.write(merged_nb, f_out)\n",
    "\n",
    "    print(f\"✅ Merged notebook saved to: {output_path}\")\n",
    "\n",
    "# Example usage\n",
    "#merge_notebooks('SpectralSignatureViewer.ipynb', 'SingleBand_MultiBandTiff.ipynb', 'Interative_ColorComposite.ipynb', 'GeospatialAnalysis_RS.ipynb','Merged_RemoteSensing.ipynb')\n",
    "notebooks = ['SpectralSignatureViewer.ipynb', 'SingleBand_MultiBandTiff.ipynb', 'Interative_ColorComposite.ipynb', 'GeospatialAnalysis_RS.ipynb']\n",
    "merge_notebooks(notebooks, 'Merged_RemoteSensing.ipynb')\n"
   ]
  },
  {
   "cell_type": "code",
   "execution_count": null,
   "id": "7a5171f2-4fa5-4e8a-a4be-942d3e4a8b37",
   "metadata": {},
   "outputs": [],
   "source": []
  },
  {
   "cell_type": "code",
   "execution_count": null,
   "id": "fd671ec6-0c83-440a-a7ca-f33e6ab3bd3a",
   "metadata": {},
   "outputs": [],
   "source": []
  }
 ],
 "metadata": {
  "kernelspec": {
   "display_name": "Python [conda env:base] *",
   "language": "python",
   "name": "conda-base-py"
  },
  "language_info": {
   "codemirror_mode": {
    "name": "ipython",
    "version": 3
   },
   "file_extension": ".py",
   "mimetype": "text/x-python",
   "name": "python",
   "nbconvert_exporter": "python",
   "pygments_lexer": "ipython3",
   "version": "3.12.7"
  },
  "widgets": {
   "application/vnd.jupyter.widget-state+json": {
    "state": {},
    "version_major": 2,
    "version_minor": 0
   }
  }
 },
 "nbformat": 4,
 "nbformat_minor": 5
}
