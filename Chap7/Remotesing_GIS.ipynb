{
 "cells": [
  {
   "cell_type": "markdown",
   "id": "548f6004-00c2-4ad5-912d-a2179d90c1f2",
   "metadata": {},
   "source": [
    "## 🌿 NDVI Computation from Drone Imagery\n",
    "\n",
    "This code calculates the **Normalized Difference Vegetation Index (NDVI)** using:\n",
    "\n",
    "- **Red band**: `IMG_0666_3.TIF`\n",
    "- **Near-Infrared (NIR) band**: `IMG_0666_4.TIF`\n",
    "\n",
    "### 📘 NDVI Formula\n",
    "$$\n",
    "\\text{NDVI} = \\frac{\\text{NIR} - \\text{Red}}{\\text{NIR} + \\text{Red}}\n",
    "$$\n",
    "\n",
    "### 🧪 Processing Steps\n",
    "- Reads Red and NIR bands using `rasterio`\n",
    "- Computes NDVI and clips values to the range [-1, 1]\n",
    "- Visualizes NDVI using a green-to-red colormap (`RdYlGn`)\n",
    "\n",
    "### 🎨 Output\n",
    "- **High NDVI (green)**: Healthy vegetation\n",
    "- **Low NDVI (red/yellow)**: Bare soil, built-up areas, or stressed vegetation\n",
    "\n",
    "### 🧠 Student Prompts\n",
    "- What does a high NDVI value indicate about vegetation health?\n",
    "- How might NDVI vary across different land cover types?"
   ]
  },
  {
   "cell_type": "code",
   "execution_count": 3,
   "id": "2a8eac44-3664-44c1-bf4b-21ee5b78e818",
   "metadata": {},
   "outputs": [],
   "source": [
    "# 🛰️ Remote Sensing & GIS Essentials with Python\n",
    "# Developed for Ravi’s hydrological and environmental modeling tools\n",
    "# Includes: Raster I/O, NDVI, Clipping, Zonal Stats, Folium Mapping\n",
    "\n",
    "!pip install rasterio geopandas matplotlib folium shapely pyproj rasterstats --quiet\n",
    "\n",
    "import rasterio\n",
    "import geopandas as gpd\n",
    "import matplotlib.pyplot as plt\n",
    "import numpy as np\n",
    "import folium\n",
    "import json\n",
    "from rasterio.mask import mask\n",
    "from rasterstats import zonal_stats\n"
   ]
  },
  {
   "cell_type": "code",
   "execution_count": 4,
   "id": "9408af66-08ed-4378-b4ca-6f46b2eb563c",
   "metadata": {},
   "outputs": [
    {
     "ename": "RasterioIOError",
     "evalue": "LAB4.tif: No such file or directory",
     "output_type": "error",
     "traceback": [
      "\u001b[1;31m---------------------------------------------------------------------------\u001b[0m",
      "\u001b[1;31mCPLE_OpenFailedError\u001b[0m                      Traceback (most recent call last)",
      "File \u001b[1;32mrasterio\\\\_base.pyx:310\u001b[0m, in \u001b[0;36mrasterio._base.DatasetBase.__init__\u001b[1;34m()\u001b[0m\n",
      "File \u001b[1;32mrasterio\\\\_base.pyx:221\u001b[0m, in \u001b[0;36mrasterio._base.open_dataset\u001b[1;34m()\u001b[0m\n",
      "File \u001b[1;32mrasterio\\\\_err.pyx:359\u001b[0m, in \u001b[0;36mrasterio._err.exc_wrap_pointer\u001b[1;34m()\u001b[0m\n",
      "\u001b[1;31mCPLE_OpenFailedError\u001b[0m: LAB4.tif: No such file or directory",
      "\nDuring handling of the above exception, another exception occurred:\n",
      "\u001b[1;31mRasterioIOError\u001b[0m                           Traceback (most recent call last)",
      "Cell \u001b[1;32mIn[4], line 3\u001b[0m\n\u001b[0;32m      1\u001b[0m raster_path \u001b[38;5;241m=\u001b[39m \u001b[38;5;124m'\u001b[39m\u001b[38;5;124mLAB4.tif\u001b[39m\u001b[38;5;124m'\u001b[39m  \u001b[38;5;66;03m# NIR band\u001b[39;00m\n\u001b[1;32m----> 3\u001b[0m \u001b[38;5;28;01mwith\u001b[39;00m rasterio\u001b[38;5;241m.\u001b[39mopen(raster_path) \u001b[38;5;28;01mas\u001b[39;00m src:\n\u001b[0;32m      4\u001b[0m     band \u001b[38;5;241m=\u001b[39m src\u001b[38;5;241m.\u001b[39mread(\u001b[38;5;241m1\u001b[39m)\n\u001b[0;32m      6\u001b[0m plt\u001b[38;5;241m.\u001b[39mimshow(band, cmap\u001b[38;5;241m=\u001b[39m\u001b[38;5;124m'\u001b[39m\u001b[38;5;124mgray\u001b[39m\u001b[38;5;124m'\u001b[39m)\n",
      "File \u001b[1;32m~\\anaconda3\\Lib\\site-packages\\rasterio\\env.py:463\u001b[0m, in \u001b[0;36mensure_env_with_credentials.<locals>.wrapper\u001b[1;34m(*args, **kwds)\u001b[0m\n\u001b[0;32m    460\u001b[0m     session \u001b[38;5;241m=\u001b[39m DummySession()\n\u001b[0;32m    462\u001b[0m \u001b[38;5;28;01mwith\u001b[39;00m env_ctor(session\u001b[38;5;241m=\u001b[39msession):\n\u001b[1;32m--> 463\u001b[0m     \u001b[38;5;28;01mreturn\u001b[39;00m f(\u001b[38;5;241m*\u001b[39margs, \u001b[38;5;241m*\u001b[39m\u001b[38;5;241m*\u001b[39mkwds)\n",
      "File \u001b[1;32m~\\anaconda3\\Lib\\site-packages\\rasterio\\__init__.py:368\u001b[0m, in \u001b[0;36mopen\u001b[1;34m(fp, mode, driver, width, height, count, crs, transform, dtype, nodata, sharing, opener, **kwargs)\u001b[0m\n\u001b[0;32m    365\u001b[0m     path \u001b[38;5;241m=\u001b[39m _parse_path(raw_dataset_path)\n\u001b[0;32m    367\u001b[0m \u001b[38;5;28;01mif\u001b[39;00m mode \u001b[38;5;241m==\u001b[39m \u001b[38;5;124m\"\u001b[39m\u001b[38;5;124mr\u001b[39m\u001b[38;5;124m\"\u001b[39m:\n\u001b[1;32m--> 368\u001b[0m     dataset \u001b[38;5;241m=\u001b[39m DatasetReader(path, driver\u001b[38;5;241m=\u001b[39mdriver, sharing\u001b[38;5;241m=\u001b[39msharing, \u001b[38;5;241m*\u001b[39m\u001b[38;5;241m*\u001b[39mkwargs)\n\u001b[0;32m    369\u001b[0m \u001b[38;5;28;01melif\u001b[39;00m mode \u001b[38;5;241m==\u001b[39m \u001b[38;5;124m\"\u001b[39m\u001b[38;5;124mr+\u001b[39m\u001b[38;5;124m\"\u001b[39m:\n\u001b[0;32m    370\u001b[0m     dataset \u001b[38;5;241m=\u001b[39m get_writer_for_path(path, driver\u001b[38;5;241m=\u001b[39mdriver)(\n\u001b[0;32m    371\u001b[0m         path, mode, driver\u001b[38;5;241m=\u001b[39mdriver, sharing\u001b[38;5;241m=\u001b[39msharing, \u001b[38;5;241m*\u001b[39m\u001b[38;5;241m*\u001b[39mkwargs\n\u001b[0;32m    372\u001b[0m     )\n",
      "File \u001b[1;32mrasterio\\\\_base.pyx:312\u001b[0m, in \u001b[0;36mrasterio._base.DatasetBase.__init__\u001b[1;34m()\u001b[0m\n",
      "\u001b[1;31mRasterioIOError\u001b[0m: LAB4.tif: No such file or directory"
     ]
    }
   ],
   "source": [
    "raster_path = 'LAB4.tif'  # NIR band\n",
    "\n",
    "with rasterio.open(raster_path) as src:\n",
    "    band = src.read(1)\n",
    "\n",
    "plt.imshow(band, cmap='gray')\n",
    "plt.title('Landsat Band 4 (NIR)')\n",
    "plt.colorbar()\n",
    "plt.show()\n"
   ]
  },
  {
   "cell_type": "code",
   "execution_count": null,
   "id": "1cbb7f92-4911-42f2-9ff8-2b018b08f823",
   "metadata": {},
   "outputs": [],
   "source": [
    "with rasterio.open('LAB4.tif') as nir_src:\n",
    "    nir = nir_src.read(1).astype('float32')\n",
    "with rasterio.open('LAB3.tif') as red_src:\n",
    "    red = red_src.read(1).astype('float32')\n",
    "\n",
    "ndvi = (nir - red) / (nir + red)\n",
    "\n",
    "plt.imshow(ndvi, cmap='RdYlGn', vmin=-1, vmax=1)\n",
    "plt.title('NDVI')\n",
    "plt.colorbar()\n",
    "plt.show()\n"
   ]
  },
  {
   "cell_type": "code",
   "execution_count": null,
   "id": "5932a1be-996a-4d1b-a155-d8499d0471f5",
   "metadata": {},
   "outputs": [],
   "source": [
    "gdf = gpd.read_file('testshape.shp')\n",
    "gdf.plot(edgecolor='black', facecolor='none')\n",
    "plt.title('Study Area Boundary')\n",
    "plt.show()\n"
   ]
  },
  {
   "cell_type": "code",
   "execution_count": null,
   "id": "86d1edd2-4f86-4afd-ad83-84d36c6f6a8f",
   "metadata": {},
   "outputs": [],
   "source": [
    "shapes = [json.loads(gdf.to_json())['features'][0]['geometry']]\n",
    "\n",
    "with rasterio.open('LAB4.tif') as src:\n",
    "    out_image, out_transform = mask(src, shapes, crop=True)\n",
    "    clipped_meta = src.meta.copy()\n",
    "    clipped_meta.update({\n",
    "        \"height\": out_image.shape[1],\n",
    "        \"width\": out_image.shape[2],\n",
    "        \"transform\": out_transform\n",
    "    })\n",
    "\n",
    "plt.imshow(out_image[0], cmap='gray')\n",
    "plt.title('Clipped Raster')\n",
    "plt.show()\n"
   ]
  },
  {
   "cell_type": "code",
   "execution_count": 5,
   "id": "8671d3ce-cbc8-4cd6-8e83-582ccb4d0fad",
   "metadata": {},
   "outputs": [
    {
     "ename": "RasterioIOError",
     "evalue": "LAB4.tif: No such file or directory",
     "output_type": "error",
     "traceback": [
      "\u001b[1;31m---------------------------------------------------------------------------\u001b[0m",
      "\u001b[1;31mCPLE_OpenFailedError\u001b[0m                      Traceback (most recent call last)",
      "File \u001b[1;32mrasterio\\\\_base.pyx:310\u001b[0m, in \u001b[0;36mrasterio._base.DatasetBase.__init__\u001b[1;34m()\u001b[0m\n",
      "File \u001b[1;32mrasterio\\\\_base.pyx:221\u001b[0m, in \u001b[0;36mrasterio._base.open_dataset\u001b[1;34m()\u001b[0m\n",
      "File \u001b[1;32mrasterio\\\\_err.pyx:359\u001b[0m, in \u001b[0;36mrasterio._err.exc_wrap_pointer\u001b[1;34m()\u001b[0m\n",
      "\u001b[1;31mCPLE_OpenFailedError\u001b[0m: LAB4.tif: No such file or directory",
      "\nDuring handling of the above exception, another exception occurred:\n",
      "\u001b[1;31mRasterioIOError\u001b[0m                           Traceback (most recent call last)",
      "Cell \u001b[1;32mIn[5], line 9\u001b[0m\n\u001b[0;32m      5\u001b[0m \u001b[38;5;28;01mfrom\u001b[39;00m \u001b[38;5;21;01mrasterstats\u001b[39;00m \u001b[38;5;28;01mimport\u001b[39;00m zonal_stats\n\u001b[0;32m      7\u001b[0m \u001b[38;5;66;03m# ---- 1. Export NDVI to a temporary GeoTIFF ----\u001b[39;00m\n\u001b[0;32m      8\u001b[0m \u001b[38;5;66;03m# Load metadata from a reference raster (e.g. Red or NIR band)\u001b[39;00m\n\u001b[1;32m----> 9\u001b[0m \u001b[38;5;28;01mwith\u001b[39;00m rasterio\u001b[38;5;241m.\u001b[39mopen(\u001b[38;5;124m'\u001b[39m\u001b[38;5;124mLAB4.tif\u001b[39m\u001b[38;5;124m'\u001b[39m) \u001b[38;5;28;01mas\u001b[39;00m src:\n\u001b[0;32m     10\u001b[0m     meta \u001b[38;5;241m=\u001b[39m src\u001b[38;5;241m.\u001b[39mmeta\u001b[38;5;241m.\u001b[39mcopy()\n\u001b[0;32m     11\u001b[0m     meta\u001b[38;5;241m.\u001b[39mupdate(driver\u001b[38;5;241m=\u001b[39m\u001b[38;5;124m'\u001b[39m\u001b[38;5;124mGTiff\u001b[39m\u001b[38;5;124m'\u001b[39m, dtype\u001b[38;5;241m=\u001b[39mrasterio\u001b[38;5;241m.\u001b[39mfloat32, count\u001b[38;5;241m=\u001b[39m\u001b[38;5;241m1\u001b[39m)\n",
      "File \u001b[1;32m~\\anaconda3\\Lib\\site-packages\\rasterio\\env.py:463\u001b[0m, in \u001b[0;36mensure_env_with_credentials.<locals>.wrapper\u001b[1;34m(*args, **kwds)\u001b[0m\n\u001b[0;32m    460\u001b[0m     session \u001b[38;5;241m=\u001b[39m DummySession()\n\u001b[0;32m    462\u001b[0m \u001b[38;5;28;01mwith\u001b[39;00m env_ctor(session\u001b[38;5;241m=\u001b[39msession):\n\u001b[1;32m--> 463\u001b[0m     \u001b[38;5;28;01mreturn\u001b[39;00m f(\u001b[38;5;241m*\u001b[39margs, \u001b[38;5;241m*\u001b[39m\u001b[38;5;241m*\u001b[39mkwds)\n",
      "File \u001b[1;32m~\\anaconda3\\Lib\\site-packages\\rasterio\\__init__.py:368\u001b[0m, in \u001b[0;36mopen\u001b[1;34m(fp, mode, driver, width, height, count, crs, transform, dtype, nodata, sharing, opener, **kwargs)\u001b[0m\n\u001b[0;32m    365\u001b[0m     path \u001b[38;5;241m=\u001b[39m _parse_path(raw_dataset_path)\n\u001b[0;32m    367\u001b[0m \u001b[38;5;28;01mif\u001b[39;00m mode \u001b[38;5;241m==\u001b[39m \u001b[38;5;124m\"\u001b[39m\u001b[38;5;124mr\u001b[39m\u001b[38;5;124m\"\u001b[39m:\n\u001b[1;32m--> 368\u001b[0m     dataset \u001b[38;5;241m=\u001b[39m DatasetReader(path, driver\u001b[38;5;241m=\u001b[39mdriver, sharing\u001b[38;5;241m=\u001b[39msharing, \u001b[38;5;241m*\u001b[39m\u001b[38;5;241m*\u001b[39mkwargs)\n\u001b[0;32m    369\u001b[0m \u001b[38;5;28;01melif\u001b[39;00m mode \u001b[38;5;241m==\u001b[39m \u001b[38;5;124m\"\u001b[39m\u001b[38;5;124mr+\u001b[39m\u001b[38;5;124m\"\u001b[39m:\n\u001b[0;32m    370\u001b[0m     dataset \u001b[38;5;241m=\u001b[39m get_writer_for_path(path, driver\u001b[38;5;241m=\u001b[39mdriver)(\n\u001b[0;32m    371\u001b[0m         path, mode, driver\u001b[38;5;241m=\u001b[39mdriver, sharing\u001b[38;5;241m=\u001b[39msharing, \u001b[38;5;241m*\u001b[39m\u001b[38;5;241m*\u001b[39mkwargs\n\u001b[0;32m    372\u001b[0m     )\n",
      "File \u001b[1;32mrasterio\\\\_base.pyx:312\u001b[0m, in \u001b[0;36mrasterio._base.DatasetBase.__init__\u001b[1;34m()\u001b[0m\n",
      "\u001b[1;31mRasterioIOError\u001b[0m: LAB4.tif: No such file or directory"
     ]
    }
   ],
   "source": [
    "import rasterio\n",
    "import geopandas as gpd\n",
    "import numpy as np\n",
    "import matplotlib.pyplot as plt\n",
    "from rasterstats import zonal_stats\n",
    "\n",
    "# ---- 1. Export NDVI to a temporary GeoTIFF ----\n",
    "# Load metadata from a reference raster (e.g. Red or NIR band)\n",
    "with rasterio.open('LAB4.tif') as src:\n",
    "    meta = src.meta.copy()\n",
    "    meta.update(driver='GTiff', dtype=rasterio.float32, count=1)\n",
    "\n",
    "    # Save NDVI array to new GeoTIFF\n",
    "    with rasterio.open('ndvi.tif', 'w', **meta) as dst:\n",
    "        dst.write(ndvi.astype(rasterio.float32), 1)\n",
    "\n",
    "# ---- 2. Run Zonal Statistics ----\n",
    "stats = zonal_stats('testshape.shp', 'ndvi.tif', stats=['mean', 'min', 'max'])\n",
    "print(\"Zonal Statistics (NDVI):\", stats)\n"
   ]
  },
  {
   "cell_type": "code",
   "execution_count": null,
   "id": "6f3c2fc9-e7ac-4651-8252-d3f5c88ad46e",
   "metadata": {},
   "outputs": [],
   "source": []
  },
  {
   "cell_type": "code",
   "execution_count": null,
   "id": "bea10713-e771-43ff-8680-21007c77c820",
   "metadata": {},
   "outputs": [],
   "source": []
  }
 ],
 "metadata": {
  "kernelspec": {
   "display_name": "Python [conda env:base] *",
   "language": "python",
   "name": "conda-base-py"
  },
  "language_info": {
   "codemirror_mode": {
    "name": "ipython",
    "version": 3
   },
   "file_extension": ".py",
   "mimetype": "text/x-python",
   "name": "python",
   "nbconvert_exporter": "python",
   "pygments_lexer": "ipython3",
   "version": "3.12.7"
  },
  "widgets": {
   "application/vnd.jupyter.widget-state+json": {
    "state": {},
    "version_major": 2,
    "version_minor": 0
   }
  }
 },
 "nbformat": 4,
 "nbformat_minor": 5
}
