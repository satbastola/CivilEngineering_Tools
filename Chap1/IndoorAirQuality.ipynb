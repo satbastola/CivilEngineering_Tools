{
 "cells": [
  {
   "cell_type": "markdown",
   "id": "a856479f-487f-44b2-84a3-f0a6a628c15c",
   "metadata": {},
   "source": [
    "# Chapter 1: Environmental Engineering: Indoor Air quality modeling"
   ]
  },
  {
   "cell_type": "markdown",
   "id": "b684ed2d-ca10-4016-b6b0-5d36e476e917",
   "metadata": {},
   "source": [
    "1. [Introduction: BOD equation](#1.-Introduction)\n",
    "2. [Simulation: BOD](#2.-Simulation)\n",
    "3. [Self-Assessment](#3.-Self-Assessment)"
   ]
  },
  {
   "cell_type": "markdown",
   "id": "fbd7a3d7-7f4f-4715-b0b9-0bdd90e1cf60",
   "metadata": {},
   "source": [
    "## 1. Introduction"
   ]
  },
  {
   "cell_type": "markdown",
   "id": "7b8901be-0b91-499f-9789-2c42c3c245c5",
   "metadata": {},
   "source": [
    "### Indoor Air Quality Simulation: Methodology & Model Description\n",
    "\n",
    "This simulation estimates the concentration of indoor air pollutants over time using a simplified mass balance model for a single enclosed space. It accounts for:\n",
    "\n",
    "- Room volume  \n",
    "- Ventilation rate  \n",
    "- Pollutant emission rate  \n",
    "- Natural decay or removal processes  \n",
    "- Initial pollutant concentration\n",
    "\n",
    "---\n",
    "\n",
    "### Governing Equation: Mass Balance Model\n",
    "\n",
    "The model assumes a well-mixed indoor space and applies the following differential equation:\n",
    "\n",
    "$$\n",
    "\\frac{dC}{dt} = \\frac{E}{V} - \\left( \\frac{Q}{V} + k \\right) C\n",
    "$$\n",
    "\n",
    "Where:\n",
    "- $( C(t) $): pollutant concentration at time \\( t \\) (mg/m³)  \n",
    "- $( E $): emission rate (mg/hr)  \n",
    "- $( V $): room volume (m³)  \n",
    "- $( Q $): ventilation rate (m³/hr)  \n",
    "- $( k $): decay rate (1/hr), representing filtration or chemical decay  \n",
    "- $( \\frac{Q}{V} $): air exchange rate (1/hr)\n",
    "\n",
    "This equation balances pollutant input from emissions and removal via ventilation and decay.\n",
    "\n",
    "---\n",
    "\n",
    "### Numerical Solution\n",
    "\n",
    "The model uses a forward Euler method to simulate concentration over"
   ]
  },
  {
   "cell_type": "markdown",
   "id": "09a75bc8-c553-469d-8e12-49f9407df45c",
   "metadata": {},
   "source": [
    "## 2. Simulation"
   ]
  },
  {
   "cell_type": "code",
   "execution_count": 1,
   "id": "233ade08-fc70-43fb-846d-0c12da874b7b",
   "metadata": {},
   "outputs": [
    {
     "data": {
      "application/vnd.jupyter.widget-view+json": {
       "model_id": "46ed6988de6b42c7a80e86a2353d60cc",
       "version_major": 2,
       "version_minor": 0
      },
      "text/plain": [
       "interactive(children=(FloatSlider(value=50.0, description='Room Volume (m³)', max=200.0, min=10.0, step=5.0), …"
      ]
     },
     "metadata": {},
     "output_type": "display_data"
    },
    {
     "data": {
      "text/plain": [
       "<function __main__.plot_iaq(V, Q, E, k, C0, duration_hr)>"
      ]
     },
     "execution_count": 1,
     "metadata": {},
     "output_type": "execute_result"
    }
   ],
   "source": [
    "import numpy as np\n",
    "import matplotlib.pyplot as plt\n",
    "from ipywidgets import interact, FloatSlider, Dropdown\n",
    "from IPython.display import display\n",
    "\n",
    "# 📐 IAQ model: mass balance for a single zone\n",
    "def simulate_iaq(t, V, Q, E, k, C0):\n",
    "    # V: room volume (m³)\n",
    "    # Q: ventilation rate (m³/hr)\n",
    "    # E: emission rate (mg/hr)\n",
    "    # k: decay rate (1/hr)\n",
    "    # C0: initial concentration (mg/m³)\n",
    "\n",
    "    C = np.zeros_like(t)\n",
    "    C[0] = C0\n",
    "    for i in range(1, len(t)):\n",
    "        dt = t[i] - t[i-1]\n",
    "        dC = (E/V - (Q/V + k) * C[i-1]) * dt\n",
    "        C[i] = C[i-1] + dC\n",
    "    return C\n",
    "\n",
    "# 📊 Plotting function\n",
    "def plot_iaq(V, Q, E, k, C0, duration_hr):\n",
    "    t = np.linspace(0, duration_hr, 500)\n",
    "    C = simulate_iaq(t, V, Q, E, k, C0)\n",
    "\n",
    "    plt.figure(figsize=(10, 5))\n",
    "    plt.plot(t, C, color='darkgreen', label='Pollutant Concentration (mg/m³)')\n",
    "    plt.axhline(1000, color='red', linestyle='--', label='Threshold (e.g. CO₂ ppm)')\n",
    "    plt.title(\"🏠 Indoor Air Quality Simulation\")\n",
    "    plt.xlabel(\"Time (hours)\")\n",
    "    plt.ylabel(\"Concentration (mg/m³)\")\n",
    "    plt.grid(True, linestyle='--', alpha=0.5)\n",
    "    plt.legend()\n",
    "    plt.tight_layout()\n",
    "    plt.show()\n",
    "\n",
    "    peak = np.max(C)\n",
    "    print(f\"📈 Peak concentration: {peak:.2f} mg/m³\")\n",
    "    if peak > 1000:\n",
    "        print(\"⚠️ Air quality exceeds recommended threshold. Consider increasing ventilation or reducing emissions.\")\n",
    "    else:\n",
    "        print(\"✅ Air quality remains within acceptable limits.\")\n",
    "\n",
    "# 🎛️ Interactive controls\n",
    "interact(\n",
    "    plot_iaq,\n",
    "    V=FloatSlider(value=50, min=10, max=200, step=5, description=\"Room Volume (m³)\"),\n",
    "    Q=FloatSlider(value=25, min=5, max=100, step=5, description=\"Ventilation Rate (m³/hr)\"),\n",
    "    E=FloatSlider(value=100, min=0, max=500, step=10, description=\"Emission Rate (mg/hr)\"),\n",
    "    k=FloatSlider(value=0.1, min=0.0, max=1.0, step=0.05, description=\"Decay Rate (1/hr)\"),\n",
    "    C0=FloatSlider(value=0, min=0, max=500, step=10, description=\"Initial Conc. (mg/m³)\"),\n",
    "    duration_hr=FloatSlider(value=8, min=1, max=24, step=1, description=\"Duration (hr)\")\n",
    ")"
   ]
  },
  {
   "cell_type": "markdown",
   "id": "19b5ad83-159d-42f9-877d-e1d519f9a7de",
   "metadata": {},
   "source": [
    "### Indoor Air Quality Simulation: Quiz, Conceptual & Reflective Questions\n",
    "\n",
    "This module reinforces understanding of indoor air quality dynamics using a mass balance model. It supports learning through multiple-choice questions, conceptual prompts, and reflective challenges.\n",
    "\n",
    "---\n",
    "\n",
    "### Conceptual Questions\n",
    "\n",
    "1. **What does the term \\( \\frac{Q}{V} \\) represent in the IAQ model?**\n",
    "   - A. Pollutant emission rate  \n",
    "   - B. Air exchange rate (1/hr)  \n",
    "   - C. Room volume  \n",
    "   - D. Decay coefficient  \n",
    "\n",
    "2. **Which factor most directly reduces indoor pollutant concentration over time?**\n",
    "   - A. Increasing room volume  \n",
    "   - B. Increasing emission rate  \n",
    "   - C. Increasing ventilation rate  \n",
    "   - D. Increasing initial concentration  \n",
    "\n",
    "3. **Why is the decay rate \\( k \\) included in the model?**\n",
    "   - A. To simulate pollutant accumulation  \n",
    "   - B. To represent natural removal or filtration  \n",
    "   - C. To adjust for temperature effects  \n",
    "   - D. To model CO₂ generation  \n",
    "\n",
    "4. **If the emission rate is zero and ventilation is active, what happens to pollutant concentration over time?**\n",
    "   - A. It increases  \n",
    "   - B. It remains constant  \n",
    "   - C. It decreases  \n",
    "   - D. It oscillates  \n",
    "\n",
    "5. **Which of the following would most likely cause the model to predict unsafe air quality?**\n",
    "   - A. High decay rate  \n",
    "   - B. Low emission rate  \n",
    "   - C. Low ventilation rate  \n",
    "   - D. Large room volume  \n",
    "\n",
    "---\n",
    "\n",
    "### Interpretation\n",
    "\n",
    "1. Why is the pollutant concentration initialized with \\( C_0 \\) and updated using a time-stepping loop?  \n",
    "2. How does the model ensure that concentration changes are proportional to both emission and removal processes?  \n",
    "3. Why is the threshold set at 1000 mg/m³, and how could it be adapted for different pollutants (e.g., PM2.5, VOCs)?  \n",
    "4. What assumptions are made by treating the room as a well-mixed zone?  \n",
    "5. How would you modify the model to include multiple rooms or pollutant types?\n",
    "\n",
    "---\n",
    "\n",
    "### Reflective Questions\n",
    "\n",
    "1. **How do ventilation and source control interact to influence indoor air quality?**  \n",
    "2. **Why is it important to simulate pollutant dynamics over time rather than using static values?**  \n",
    "3. **What are the limitations of this model when applied to real buildings with complex airflow patterns?**  \n",
    "4. **How could this simulation support decisions in building design, HVAC upgrades, or public health policy?**  \n",
    "5. **What insights can be gained by comparing different scenarios (e.g., high occupancy vs. low ventilation)?**\n",
    "\n",
    "---\n",
    "\n",
    "### Design Insight\n",
    "\n",
    "> “Indoor air quality is shaped by a dynamic balance between pollutant sources and removal mechanisms. Modeling helps visualize this balance and supports smarter design and healthier environments.”\n",
    "\n",
    "---"
   ]
  }
 ],
 "metadata": {
  "kernelspec": {
   "display_name": "Python [conda env:base] *",
   "language": "python",
   "name": "conda-base-py"
  },
  "language_info": {
   "codemirror_mode": {
    "name": "ipython",
    "version": 3
   },
   "file_extension": ".py",
   "mimetype": "text/x-python",
   "name": "python",
   "nbconvert_exporter": "python",
   "pygments_lexer": "ipython3",
   "version": "3.12.7"
  },
  "widgets": {
   "application/vnd.jupyter.widget-state+json": {
    "state": {},
    "version_major": 2,
    "version_minor": 0
   }
  }
 },
 "nbformat": 4,
 "nbformat_minor": 5
}
