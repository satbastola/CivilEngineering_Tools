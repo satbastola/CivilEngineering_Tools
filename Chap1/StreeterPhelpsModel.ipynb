{
 "cells": [
  {
   "cell_type": "markdown",
   "id": "3f8f175f-8f57-43bd-9684-b8074de45296",
   "metadata": {},
   "source": [
    "# Chapter 1 Environmental Engineering: Water Quality Modelling"
   ]
  },
  {
   "cell_type": "markdown",
   "id": "d80056aa-caa4-456a-a0f1-53338f70c921",
   "metadata": {},
   "source": [
    "1. [Introduction: Streeter-Phelps equation](#1.-Introduction)\n",
    "2. [Simulation: Streeter-Phelps](#2.-Simulation)\n",
    "3. [Self-Assessment](#3.-Self-Assessment)"
   ]
  },
  {
   "cell_type": "markdown",
   "id": "9231d548-982b-4447-8691-6bdc4f9c526d",
   "metadata": {},
   "source": [
    "## 1. Introduction"
   ]
  },
  {
   "cell_type": "markdown",
   "id": "3ee8d521-9139-4246-9f83-bdcb67175afd",
   "metadata": {},
   "source": [
    "### Streeter–Phelps Water Quality Modeling Notebook\n",
    "\n",
    "This notebook provides an interactive simulation of the classic **Streeter–Phelps oxygen sag model**, a fundamental tool in environmental engineering and water quality analysis. It allows users to visualize and assess the impact of wastewater discharges on the dissolved oxygen (DO) profile of a river system, accounting for **organic loading**, **deoxygenation**, **reaeration**, and **temperature effects**.\n",
    "\n",
    "---\n",
    "\n",
    "###  Capabilities\n",
    "\n",
    "- ✅ Simulate DO depletion and recovery using Streeter–Phelps equations  \n",
    "- ✅ Adjust key environmental and wastewater parameters interactively:\n",
    "  - Initial BOD load (L₀)\n",
    "  - Deoxygenation rate (Kₙ)\n",
    "  - Reaeration rate (Kᵣ)\n",
    "  - River and wastewater temperatures\n",
    "  - DO saturation level\n",
    "  - Minimum DO requirement (regulatory threshold)\n",
    "  - Flow velocity to estimate downstream distance\n",
    "- ✅ Automatically computes:\n",
    "  - 🕒 Time to critical DO (DOₘᵢₙ)\n",
    "  - 📍 Distance to critical point (km)\n",
    "  - 📉 Minimum DO concentration\n",
    "  - ⚠️ Warning if the DO falls below the safe threshold\n",
    "  - 🔧 Treatment recommendation: required BOD removal for compliance\n",
    "\n",
    "---\n",
    "\n",
    "### Educational Outcomes\n",
    "\n",
    "By using this tool, students and engineers can:\n",
    "\n",
    "- Explore how **temperature**, **flow rate**, and **treatment level** affect DO levels in a river\n",
    "- Understand the interplay between **decay of organic matter** and **oxygen replenishment**\n",
    "- Identify the **critical location** where aquatic life is most at risk\n",
    "- Optimize **BOD removal targets** prior to discharge to ensure environmental compliance\n",
    "\n",
    "---\n",
    "\n",
    "###  Suggested Use\n",
    "\n",
    "This notebook is ideal for:\n",
    "\n",
    "- Water quality modeling labs and demonstrations  \n",
    "- River pollution impact assessment  \n",
    "- Wastewater design and environmental compliance screening  \n",
    "- Interactive classroom instruction in environmental fluid mechanics or hydrology\n",
    "\n",
    "---"
   ]
  },
  {
   "cell_type": "markdown",
   "id": "5db7f7f2-7a84-4747-a8cb-a8cfb5153e33",
   "metadata": {},
   "source": [
    "## 2. Simulation"
   ]
  },
  {
   "cell_type": "code",
   "execution_count": 3,
   "id": "3e989957-d251-4cbb-b133-221a69b58287",
   "metadata": {},
   "outputs": [
    {
     "data": {
      "application/vnd.jupyter.widget-view+json": {
       "model_id": "74d0914d44c94600a742600f1d10c527",
       "version_major": 2,
       "version_minor": 0
      },
      "text/plain": [
       "interactive(children=(FloatSlider(value=30.0, description='BOD₀ (mg/L)', max=60.0, min=5.0, step=1.0), FloatSl…"
      ]
     },
     "metadata": {},
     "output_type": "display_data"
    },
    {
     "data": {
      "text/plain": [
       "<function __main__.plot_sag_critical(BOD_input, DO_sat, DO_min_allowed, T_ww, T_river, v, kd20, kr20)>"
      ]
     },
     "execution_count": 3,
     "metadata": {},
     "output_type": "execute_result"
    }
   ],
   "source": [
    "import numpy as np\n",
    "import matplotlib.pyplot as plt\n",
    "from ipywidgets import interact, FloatSlider\n",
    "from IPython.display import display\n",
    "\n",
    "def arrhenius_k(k20, T, theta=1.047):\n",
    "    return k20 * theta ** (T - 20)\n",
    "\n",
    "def streeter_phelps(t, L0, kd, kr, DO_sat):\n",
    "    D = (kd * L0 / (kr - kd)) * (np.exp(-kd * t) - np.exp(-kr * t))\n",
    "    DO = DO_sat - D\n",
    "    return D, DO\n",
    "\n",
    "def plot_sag_critical(\n",
    "    BOD_input, DO_sat, DO_min_allowed,\n",
    "    T_ww, T_river, v,\n",
    "    kd20, kr20\n",
    "):\n",
    "    # Time domain\n",
    "    t = np.linspace(0.01, 30, 500)  # Avoid t=0 to prevent division issues\n",
    "\n",
    "    # Adjust decay rates using Arrhenius equation\n",
    "    kd = arrhenius_k(kd20, T_ww)\n",
    "    kr = arrhenius_k(kr20, T_river)\n",
    "\n",
    "    # Compute DO deficit and concentration\n",
    "    D, DO = streeter_phelps(t, BOD_input, kd, kr, DO_sat)\n",
    "\n",
    "    # Find critical time and distance\n",
    "    t_crit = t[np.argmax(D)]\n",
    "    D_crit = np.max(D)\n",
    "    DO_crit = DO_sat - D_crit\n",
    "    x_crit = v * t_crit  # assuming v is in km/day\n",
    "\n",
    "    # Determine if DO_crit meets standard\n",
    "    status = \"✅ Satisfactory\" if DO_crit >= DO_min_allowed else \"❌ Below Standard\"\n",
    "    \n",
    "    # Treatment suggestion\n",
    "    if DO_crit < DO_min_allowed:\n",
    "        L0_required = ((kr - kd) * (DO_sat - DO_min_allowed)) / (kd * (np.exp(-kd * t_crit) - np.exp(-kr * t_crit)))\n",
    "        BOD_to_remove = BOD_input - L0_required\n",
    "        treatment_msg = f\"🔧 Recommended: Remove at least {BOD_to_remove:.2f} mg/L BOD before discharge.\"\n",
    "    else:\n",
    "        treatment_msg = \"✅ No additional BOD removal required to meet DO standard.\"\n",
    "\n",
    "    # Plot\n",
    "    plt.figure(figsize=(10, 5))\n",
    "    plt.plot(t, DO, label=\"DO (mg/L)\", color='teal')\n",
    "    plt.axhline(DO_min_allowed, color='orange', linestyle=':', label=f\"Minimum DO ({DO_min_allowed} mg/L)\")\n",
    "    plt.scatter(t_crit, DO_crit, color='red', zorder=5, label=f\"Critical DO ≈ {DO_crit:.2f} mg/L\")\n",
    "    plt.title(\"📉 Streeter–Phelps Oxygen Sag Curve with Critical Point\")\n",
    "    plt.xlabel(\"Time (days)\")\n",
    "    plt.ylabel(\"Dissolved Oxygen (mg/L)\")\n",
    "    plt.grid(True, linestyle='--', alpha=0.5)\n",
    "    plt.legend()\n",
    "    plt.tight_layout()\n",
    "    plt.show()\n",
    "\n",
    "    print(f\"🧭 Critical time: {t_crit:.2f} days\")\n",
    "    print(f\"📍 Critical distance: {x_crit:.2f} km\")\n",
    "    print(f\"💧 Critical DO: {DO_crit:.2f} mg/L → {status}\")\n",
    "    print(treatment_msg)\n",
    "\n",
    "# 🎛️ Interactive sliders\n",
    "interact(\n",
    "    plot_sag_critical,\n",
    "    BOD_input=FloatSlider(value=30, min=5, max=60, step=1, description=\"BOD₀ (mg/L)\"),\n",
    "    DO_sat=FloatSlider(value=9.0, min=6.0, max=12.0, step=0.1, description=\"DO_sat (mg/L)\"),\n",
    "    DO_min_allowed=FloatSlider(value=5.0, min=2.0, max=7.0, step=0.1, description=\"Minimum DO\"),\n",
    "    T_ww=FloatSlider(value=25.0, min=10.0, max=35.0, step=1, description=\"WW Temp (°C)\"),\n",
    "    T_river=FloatSlider(value=20.0, min=5.0, max=30.0, step=1, description=\"River Temp (°C)\"),\n",
    "    v=FloatSlider(value=1.0, min=0.2, max=5.0, step=0.1, description=\"Flow speed (km/day)\"),\n",
    "    kd20=FloatSlider(value=0.2, min=0.05, max=0.5, step=0.01, description=\"Kₙ @20°C\"),\n",
    "    kr20=FloatSlider(value=0.4, min=0.05, max=1.0, step=0.01, description=\"Kᵣ @20°C\")\n",
    ")"
   ]
  },
  {
   "cell_type": "markdown",
   "id": "d35937e4-d487-4dcb-8056-27d757547cd8",
   "metadata": {},
   "source": [
    "## 3. Self-Assessment"
   ]
  },
  {
   "cell_type": "markdown",
   "id": "df4da64c-3660-4aaf-8e8b-b98667dcbc5f",
   "metadata": {},
   "source": [
    "### Educational Module – Streeter–Phelps Water Quality Model\n",
    "\n",
    "This self-assessment module is designed to accompany the Streeter–Phelps oxygen sag curve simulation. Use these prompts to deepen your understanding of water quality dynamics and critically evaluate your model-based insights.\n",
    "\n",
    "---\n",
    "### Conceptual Questions\n",
    "\n",
    "1. **What physical processes are represented by the terms “deoxygenation” and “reaeration” in the Streeter–Phelps model?**\n",
    "\n",
    "2. **Why does the DO curve initially decrease and then recover downstream from a pollution source?**\n",
    "\n",
    "3. **How does the river’s flow velocity affect the distance to the critical DO point?**\n",
    "\n",
    "4. **Why are separate water temperatures used for calculating \\( K_d \\) and \\( K_r \\) in the model?**\n",
    "\n",
    "5. **What assumptions does the Streeter–Phelps model make about river geometry, mixing, and pollutant distribution? When might these assumptions fail?**\n",
    "---\n",
    "###  Reflective Prompts\n",
    "\n",
    "1. **In your simulation, under what conditions did the critical DO point occur furthest downstream? What physical processes contributed to this?**\n",
    "\n",
    "2. **What could be the ecological or regulatory consequences if the DO falls below the minimum required level?**\n",
    "\n",
    "3. **How might increasing river temperature simultaneously impact deoxygenation and reaeration? What does this mean for water quality under climate change?**\n",
    "\n",
    "4. **How can this model guide treatment decisions or regulatory compliance for a municipal discharge?**\n",
    "\n",
    "5. **If a river had multiple discharge points, how could this model be extended to account for cumulative oxygen impacts?**\n",
    "---\n",
    "### Quiz Questions\n",
    "\n",
    "**Q1.** What does \\( K_d \\) represent in the Streeter–Phelps model?  \n",
    "A. Reaeration coefficient  \n",
    "B. Deoxygenation rate constant  \n",
    "C. Velocity of river flow  \n",
    "D. Saturation DO concentration  \n",
    "✅ **Correct Answer:** B\n",
    "\n",
    "---\n",
    "\n",
    "**Q2.** The critical point in the DO curve occurs when:  \n",
    "A. DO deficit is zero  \n",
    "B. Oxygen input equals consumption  \n",
    "C. Temperature is highest  \n",
    "D. Distance from the source is minimal  \n",
    "✅ **Correct Answer:** B\n",
    "\n",
    "---\n",
    "\n",
    "**Q3.** Increasing the temperature of the river will generally:  \n",
    "A. Lower the saturation DO and increase both \\( K_d \\) and \\( K_r \\)  \n",
    "B. Increase the saturation DO  \n",
    "C. Decrease deoxygenation and reaeration rates  \n",
    "D. Eliminate the critical point entirely  \n",
    "✅ **Correct Answer:** A\n",
    "\n",
    "---\n",
    "\n",
    "**Q4.** If the DO at the critical point is lower than the regulatory minimum, the model:  \n",
    "A. Suggests increasing river depth  \n",
    "B. Identifies required BOD removal at the discharge  \n",
    "C. Computes the new saturation DO  \n",
    "D. Eliminates oxygen deficit  \n",
    "✅ **Correct Answer:** B\n",
    "\n",
    "---\n",
    "\n",
    "**Q5.** Which of the following does not affect the location of the critical DO point?  \n",
    "A. Initial BOD load  \n",
    "B. River flow speed  \n",
    "C. Riverbank slope  \n",
    "D. Reaeration rate  \n",
    "✅ **Correct Answer:** C\n",
    "\n",
    "---"
   ]
  }
 ],
 "metadata": {
  "kernelspec": {
   "display_name": "Python [conda env:base] *",
   "language": "python",
   "name": "conda-base-py"
  },
  "language_info": {
   "codemirror_mode": {
    "name": "ipython",
    "version": 3
   },
   "file_extension": ".py",
   "mimetype": "text/x-python",
   "name": "python",
   "nbconvert_exporter": "python",
   "pygments_lexer": "ipython3",
   "version": "3.12.7"
  },
  "widgets": {
   "application/vnd.jupyter.widget-state+json": {
    "state": {
     "0180b08ed07147b1a0e5fc551634d885": {
      "model_module": "@jupyter-widgets/controls",
      "model_module_version": "2.0.0",
      "model_name": "FloatSliderModel",
      "state": {
       "behavior": "drag-tap",
       "description": "DO_sat (mg/L)",
       "layout": "IPY_MODEL_5868999dd7d54ce08757aa7b4dccd0bd",
       "max": 12,
       "min": 6,
       "step": 0.1,
       "style": "IPY_MODEL_74a7a01be4994e1f9e600c19a8a97587",
       "value": 9
      }
     },
     "01ef96c2f7da426c99db9250f34885df": {
      "model_module": "@jupyter-widgets/base",
      "model_module_version": "2.0.0",
      "model_name": "LayoutModel",
      "state": {}
     },
     "09d49f71179545b28576f3b533ff9b0e": {
      "model_module": "@jupyter-widgets/controls",
      "model_module_version": "2.0.0",
      "model_name": "FloatSliderModel",
      "state": {
       "behavior": "drag-tap",
       "description": "WW Temp (°C)",
       "layout": "IPY_MODEL_d7d20fba99494e90865fadd3c57e9665",
       "max": 35,
       "min": 10,
       "style": "IPY_MODEL_3e9e9af1a312412eb0ae5e639618d09e",
       "value": 25
      }
     },
     "13324b3c46e74026bfaa2e440b37514f": {
      "model_module": "@jupyter-widgets/controls",
      "model_module_version": "2.0.0",
      "model_name": "FloatSliderModel",
      "state": {
       "behavior": "drag-tap",
       "description": "River Temp (°C)",
       "layout": "IPY_MODEL_8292d761b5944b9db539592b14aee0fb",
       "max": 30,
       "min": 5,
       "style": "IPY_MODEL_a50ca5c7d250460189a81ed494bad133",
       "value": 20
      }
     },
     "1591d16712784025850f0dc996839ee1": {
      "model_module": "@jupyter-widgets/controls",
      "model_module_version": "2.0.0",
      "model_name": "FloatSliderModel",
      "state": {
       "behavior": "drag-tap",
       "description": "CBOD₀ (mg/L)",
       "layout": "IPY_MODEL_01ef96c2f7da426c99db9250f34885df",
       "max": 60,
       "min": 5,
       "style": "IPY_MODEL_7bf1d4275ef34cefac15e145b9049d06",
       "value": 20
      }
     },
     "1924d4d5cc014a8badd608334488013b": {
      "model_module": "@jupyter-widgets/controls",
      "model_module_version": "2.0.0",
      "model_name": "SliderStyleModel",
      "state": {
       "description_width": ""
      }
     },
     "1a759cd185ad44f38371555e1ee01087": {
      "model_module": "@jupyter-widgets/base",
      "model_module_version": "2.0.0",
      "model_name": "LayoutModel",
      "state": {}
     },
     "1cac82f76e5340bc98136546d2714ae1": {
      "model_module": "@jupyter-widgets/base",
      "model_module_version": "2.0.0",
      "model_name": "LayoutModel",
      "state": {}
     },
     "1fdb491e5487447b9491996029badca5": {
      "model_module": "@jupyter-widgets/controls",
      "model_module_version": "2.0.0",
      "model_name": "FloatSliderModel",
      "state": {
       "behavior": "drag-tap",
       "description": "NBOD₀ (mg/L)",
       "layout": "IPY_MODEL_96c724b9bc954304aeb3107a25f61f23",
       "max": 20,
       "style": "IPY_MODEL_5b082265960d4ee2bfb0e565d086761c",
       "value": 5
      }
     },
     "2547f1b5c03d4742989c73a02badad27": {
      "model_module": "@jupyter-widgets/base",
      "model_module_version": "2.0.0",
      "model_name": "LayoutModel",
      "state": {}
     },
     "26f0249cf3e2477ea1fdb74c37ef834b": {
      "model_module": "@jupyter-widgets/controls",
      "model_module_version": "2.0.0",
      "model_name": "FloatSliderModel",
      "state": {
       "behavior": "drag-tap",
       "description": "K_CBOD @20°C",
       "layout": "IPY_MODEL_a7dadea887f745118194b9dab98d2d32",
       "max": 0.5,
       "min": 0.05,
       "step": 0.01,
       "style": "IPY_MODEL_4028d8f46b1a4a0bbe1f3832aebcfb79",
       "value": 0.2
      }
     },
     "2b3d767157bd4d4e89f6722a42bea738": {
      "model_module": "@jupyter-widgets/controls",
      "model_module_version": "2.0.0",
      "model_name": "FloatSliderModel",
      "state": {
       "behavior": "drag-tap",
       "description": "Minimum DO",
       "layout": "IPY_MODEL_485545d789a645dbb29f919add51e804",
       "max": 7,
       "min": 2,
       "step": 0.1,
       "style": "IPY_MODEL_1924d4d5cc014a8badd608334488013b",
       "value": 5
      }
     },
     "2c30b8fe3bf3425bbb96f5a820f39065": {
      "model_module": "@jupyter-widgets/base",
      "model_module_version": "2.0.0",
      "model_name": "LayoutModel",
      "state": {}
     },
     "2ce66454239a4cf2a4f2f200782bd913": {
      "model_module": "@jupyter-widgets/base",
      "model_module_version": "2.0.0",
      "model_name": "LayoutModel",
      "state": {}
     },
     "30e905b3ddfe40f387558bdc08ad4c17": {
      "model_module": "@jupyter-widgets/controls",
      "model_module_version": "2.0.0",
      "model_name": "FloatSliderModel",
      "state": {
       "behavior": "drag-tap",
       "description": "River Temp (°C)",
       "layout": "IPY_MODEL_7033bf757527472ebf1b71a378ef67a0",
       "max": 30,
       "min": 5,
       "style": "IPY_MODEL_f4f360c88222494ab086dbeb9e6be8f1",
       "value": 20
      }
     },
     "3317b23fc2704d4683c6b08ddf5a98f5": {
      "model_module": "@jupyter-widgets/output",
      "model_module_version": "1.0.0",
      "model_name": "OutputModel",
      "state": {
       "layout": "IPY_MODEL_50de3d2ee8aa4a0ebad73d670652cd4a",
       "outputs": [
        {
         "name": "stderr",
         "output_type": "stream",
         "text": "C:\\Users\\satis\\AppData\\Local\\Temp\\ipykernel_101764\\3566108109.py:66: UserWarning: Glyph 128201 (\\N{CHART WITH DOWNWARDS TREND}) missing from font(s) DejaVu Sans.\n  plt.tight_layout()\n"
        },
        {
         "data": {
          "image/png": "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",
          "text/plain": "<Figure size 1000x500 with 1 Axes>"
         },
         "metadata": {},
         "output_type": "display_data"
        },
        {
         "name": "stdout",
         "output_type": "stream",
         "text": "🧭 Critical time: 30.00 days\n📍 Critical distance: 30.00 km\n💧 Critical DO: -41.07 mg/L → ❌ Below Standard\n🔧 Recommended: Remove at least -4510.96 mg/L CBOD before discharge.\n"
        }
       ]
      }
     },
     "35b8a6a13c3944319da5d2b6b97f0fa3": {
      "model_module": "@jupyter-widgets/controls",
      "model_module_version": "2.0.0",
      "model_name": "FloatSliderModel",
      "state": {
       "behavior": "drag-tap",
       "description": "Flow speed (km/day)",
       "layout": "IPY_MODEL_d6999ad2e8d449fdb4fd816f7aaca4b1",
       "max": 5,
       "min": 0.2,
       "step": 0.1,
       "style": "IPY_MODEL_e33b7bf3078a4ce1a9af9a2650668383",
       "value": 1
      }
     },
     "3d60449d9fa04366a5e7033c7a3a0843": {
      "model_module": "@jupyter-widgets/controls",
      "model_module_version": "2.0.0",
      "model_name": "FloatSliderModel",
      "state": {
       "behavior": "drag-tap",
       "description": "Flow speed (km/day)",
       "layout": "IPY_MODEL_63cb84f631744d93be4d1a281a3e9fcf",
       "max": 5,
       "min": 0.2,
       "step": 0.1,
       "style": "IPY_MODEL_8f9b6be6adcc4c53999bb3eadb1c6718",
       "value": 3.900000000000001
      }
     },
     "3e705dfa8a7c4af9a430ce2c1b173172": {
      "model_module": "@jupyter-widgets/base",
      "model_module_version": "2.0.0",
      "model_name": "LayoutModel",
      "state": {}
     },
     "3e9e9af1a312412eb0ae5e639618d09e": {
      "model_module": "@jupyter-widgets/controls",
      "model_module_version": "2.0.0",
      "model_name": "SliderStyleModel",
      "state": {
       "description_width": ""
      }
     },
     "4028d8f46b1a4a0bbe1f3832aebcfb79": {
      "model_module": "@jupyter-widgets/controls",
      "model_module_version": "2.0.0",
      "model_name": "SliderStyleModel",
      "state": {
       "description_width": ""
      }
     },
     "43e2f31e35c14cf6a754946ab1898a46": {
      "model_module": "@jupyter-widgets/controls",
      "model_module_version": "2.0.0",
      "model_name": "SliderStyleModel",
      "state": {
       "description_width": ""
      }
     },
     "485545d789a645dbb29f919add51e804": {
      "model_module": "@jupyter-widgets/base",
      "model_module_version": "2.0.0",
      "model_name": "LayoutModel",
      "state": {}
     },
     "49d7ec5385704131a715903b2f4cde47": {
      "model_module": "@jupyter-widgets/controls",
      "model_module_version": "2.0.0",
      "model_name": "FloatSliderModel",
      "state": {
       "behavior": "drag-tap",
       "description": "NBOD₀ (mg/L)",
       "layout": "IPY_MODEL_f5c0b8775c3c477a974fc594dbb62b4d",
       "max": 20,
       "style": "IPY_MODEL_fca2bcddd5964263868f7b5e98a921ff",
       "value": 5
      }
     },
     "4e0bd076b5aa4618a28af18653c0c60f": {
      "model_module": "@jupyter-widgets/base",
      "model_module_version": "2.0.0",
      "model_name": "LayoutModel",
      "state": {}
     },
     "50de3d2ee8aa4a0ebad73d670652cd4a": {
      "model_module": "@jupyter-widgets/base",
      "model_module_version": "2.0.0",
      "model_name": "LayoutModel",
      "state": {}
     },
     "54a53881e8a140039f1f0adf616f9a4c": {
      "model_module": "@jupyter-widgets/controls",
      "model_module_version": "2.0.0",
      "model_name": "FloatSliderModel",
      "state": {
       "behavior": "drag-tap",
       "description": "CBOD₀ (mg/L)",
       "layout": "IPY_MODEL_def1020c82e9471bbe8f5d1fad315639",
       "max": 60,
       "min": 5,
       "style": "IPY_MODEL_7797691fe51f449b8924f887e30a48c5",
       "value": 5
      }
     },
     "5868999dd7d54ce08757aa7b4dccd0bd": {
      "model_module": "@jupyter-widgets/base",
      "model_module_version": "2.0.0",
      "model_name": "LayoutModel",
      "state": {}
     },
     "5b082265960d4ee2bfb0e565d086761c": {
      "model_module": "@jupyter-widgets/controls",
      "model_module_version": "2.0.0",
      "model_name": "SliderStyleModel",
      "state": {
       "description_width": ""
      }
     },
     "5bbe9a0fc74b4fecaa78a4d356cfc778": {
      "model_module": "@jupyter-widgets/controls",
      "model_module_version": "2.0.0",
      "model_name": "FloatSliderModel",
      "state": {
       "behavior": "drag-tap",
       "description": "K_NBOD @20°C",
       "layout": "IPY_MODEL_1cac82f76e5340bc98136546d2714ae1",
       "max": 0.3,
       "min": 0.01,
       "step": 0.01,
       "style": "IPY_MODEL_aac654c7708448fbbc3acee77b5fab61",
       "value": 0.09999999999999999
      }
     },
     "5cc5bf4b4eb546f9a96395fc8e873882": {
      "model_module": "@jupyter-widgets/controls",
      "model_module_version": "2.0.0",
      "model_name": "SliderStyleModel",
      "state": {
       "description_width": ""
      }
     },
     "619d661c7a86425fa3b6a2df0342e83c": {
      "model_module": "@jupyter-widgets/base",
      "model_module_version": "2.0.0",
      "model_name": "LayoutModel",
      "state": {}
     },
     "63cb84f631744d93be4d1a281a3e9fcf": {
      "model_module": "@jupyter-widgets/base",
      "model_module_version": "2.0.0",
      "model_name": "LayoutModel",
      "state": {}
     },
     "63d48c2a0b1343d9b567f90f2ce349bf": {
      "model_module": "@jupyter-widgets/controls",
      "model_module_version": "2.0.0",
      "model_name": "VBoxModel",
      "state": {
       "_dom_classes": [
        "widget-interact"
       ],
       "children": [
        "IPY_MODEL_1591d16712784025850f0dc996839ee1",
        "IPY_MODEL_49d7ec5385704131a715903b2f4cde47",
        "IPY_MODEL_0180b08ed07147b1a0e5fc551634d885",
        "IPY_MODEL_2b3d767157bd4d4e89f6722a42bea738",
        "IPY_MODEL_e0d51879a1d74d679103dafc779b857d",
        "IPY_MODEL_13324b3c46e74026bfaa2e440b37514f",
        "IPY_MODEL_35b8a6a13c3944319da5d2b6b97f0fa3",
        "IPY_MODEL_6b00251955e74eb69b62956628486b0e",
        "IPY_MODEL_5bbe9a0fc74b4fecaa78a4d356cfc778",
        "IPY_MODEL_7f4014c91f504a23ab1c27a68667ffbb",
        "IPY_MODEL_f1b5c696aa7844638c4606b4a6b33a79",
        "IPY_MODEL_dcf5521ba85548998de25b50c1ba25c9",
        "IPY_MODEL_3317b23fc2704d4683c6b08ddf5a98f5"
       ],
       "layout": "IPY_MODEL_af818b860e1940f685ce3d3f3b5d16d9"
      }
     },
     "63db441c8a2d487ba609288f28fb2bef": {
      "model_module": "@jupyter-widgets/base",
      "model_module_version": "2.0.0",
      "model_name": "LayoutModel",
      "state": {}
     },
     "64a3b2cccd9d4142bc50a71dc01abf20": {
      "model_module": "@jupyter-widgets/base",
      "model_module_version": "2.0.0",
      "model_name": "LayoutModel",
      "state": {}
     },
     "6b00251955e74eb69b62956628486b0e": {
      "model_module": "@jupyter-widgets/controls",
      "model_module_version": "2.0.0",
      "model_name": "FloatSliderModel",
      "state": {
       "behavior": "drag-tap",
       "description": "K_CBOD @20°C",
       "layout": "IPY_MODEL_4e0bd076b5aa4618a28af18653c0c60f",
       "max": 0.5,
       "min": 0.05,
       "step": 0.01,
       "style": "IPY_MODEL_cef46d687a5a4a43b994ed47586cd675",
       "value": 0.2
      }
     },
     "6b1922a6aa754c2d907a0b86877d27cf": {
      "model_module": "@jupyter-widgets/controls",
      "model_module_version": "2.0.0",
      "model_name": "SliderStyleModel",
      "state": {
       "description_width": ""
      }
     },
     "6f22fa16dac847ebaba75083fe41272d": {
      "model_module": "@jupyter-widgets/base",
      "model_module_version": "2.0.0",
      "model_name": "LayoutModel",
      "state": {}
     },
     "7033bf757527472ebf1b71a378ef67a0": {
      "model_module": "@jupyter-widgets/base",
      "model_module_version": "2.0.0",
      "model_name": "LayoutModel",
      "state": {}
     },
     "74a7a01be4994e1f9e600c19a8a97587": {
      "model_module": "@jupyter-widgets/controls",
      "model_module_version": "2.0.0",
      "model_name": "SliderStyleModel",
      "state": {
       "description_width": ""
      }
     },
     "7667b1f485dc42cfa1e30acd68e9b3dc": {
      "model_module": "@jupyter-widgets/controls",
      "model_module_version": "2.0.0",
      "model_name": "VBoxModel",
      "state": {
       "_dom_classes": [
        "widget-interact"
       ],
       "children": [
        "IPY_MODEL_54a53881e8a140039f1f0adf616f9a4c",
        "IPY_MODEL_1fdb491e5487447b9491996029badca5",
        "IPY_MODEL_c0ce1ea1c9ed4ca3b86bd2941abeed71",
        "IPY_MODEL_f7d8cf836df448cfb1c7ad5792a58d0a",
        "IPY_MODEL_09d49f71179545b28576f3b533ff9b0e",
        "IPY_MODEL_30e905b3ddfe40f387558bdc08ad4c17",
        "IPY_MODEL_3d60449d9fa04366a5e7033c7a3a0843",
        "IPY_MODEL_26f0249cf3e2477ea1fdb74c37ef834b",
        "IPY_MODEL_e08fdbc002ae434893239076a0e354ab",
        "IPY_MODEL_fc3399543d1748f88308fbc0f020002a",
        "IPY_MODEL_9ad1e5c429024805b4399435e2054fd8",
        "IPY_MODEL_aa3882b0d98b4f3391b83c54b479968e",
        "IPY_MODEL_7c3e984deab641d49fc689fbfa28fbc6"
       ],
       "layout": "IPY_MODEL_1a759cd185ad44f38371555e1ee01087"
      }
     },
     "7797691fe51f449b8924f887e30a48c5": {
      "model_module": "@jupyter-widgets/controls",
      "model_module_version": "2.0.0",
      "model_name": "SliderStyleModel",
      "state": {
       "description_width": ""
      }
     },
     "7bf1d4275ef34cefac15e145b9049d06": {
      "model_module": "@jupyter-widgets/controls",
      "model_module_version": "2.0.0",
      "model_name": "SliderStyleModel",
      "state": {
       "description_width": ""
      }
     },
     "7c3e984deab641d49fc689fbfa28fbc6": {
      "model_module": "@jupyter-widgets/output",
      "model_module_version": "1.0.0",
      "model_name": "OutputModel",
      "state": {
       "layout": "IPY_MODEL_2ce66454239a4cf2a4f2f200782bd913",
       "outputs": [
        {
         "name": "stderr",
         "output_type": "stream",
         "text": "C:\\Users\\satis\\AppData\\Local\\Temp\\ipykernel_101764\\1566891357.py:67: UserWarning: Glyph 128201 (\\N{CHART WITH DOWNWARDS TREND}) missing from font(s) DejaVu Sans.\n  plt.tight_layout()\n"
        },
        {
         "data": {
          "image/png": "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",
          "text/plain": "<Figure size 1000x500 with 1 Axes>"
         },
         "metadata": {},
         "output_type": "display_data"
        },
        {
         "name": "stdout",
         "output_type": "stream",
         "text": "🧭 Critical time: 30.00 days\n📍 Critical distance: 117.00 km\n💧 Critical DO: -9.58 mg/L → ❌ Below Standard\n🔧 Recommended: Remove at least -4525.96 mg/L CBOD before discharge.\n"
        }
       ]
      }
     },
     "7e2fcee28eab4f05b606c9cf866ef149": {
      "model_module": "@jupyter-widgets/controls",
      "model_module_version": "2.0.0",
      "model_name": "SliderStyleModel",
      "state": {
       "description_width": ""
      }
     },
     "7f4014c91f504a23ab1c27a68667ffbb": {
      "model_module": "@jupyter-widgets/controls",
      "model_module_version": "2.0.0",
      "model_name": "FloatSliderModel",
      "state": {
       "behavior": "drag-tap",
       "description": "Kᵣ @20°C",
       "layout": "IPY_MODEL_2c30b8fe3bf3425bbb96f5a820f39065",
       "max": 1,
       "min": 0.05,
       "step": 0.01,
       "style": "IPY_MODEL_fd3c7157f50742f78ab0aa6c2405b84e",
       "value": 0.3999999999999999
      }
     },
     "8292d761b5944b9db539592b14aee0fb": {
      "model_module": "@jupyter-widgets/base",
      "model_module_version": "2.0.0",
      "model_name": "LayoutModel",
      "state": {}
     },
     "8f9b6be6adcc4c53999bb3eadb1c6718": {
      "model_module": "@jupyter-widgets/controls",
      "model_module_version": "2.0.0",
      "model_name": "SliderStyleModel",
      "state": {
       "description_width": ""
      }
     },
     "96c724b9bc954304aeb3107a25f61f23": {
      "model_module": "@jupyter-widgets/base",
      "model_module_version": "2.0.0",
      "model_name": "LayoutModel",
      "state": {}
     },
     "9ad1e5c429024805b4399435e2054fd8": {
      "model_module": "@jupyter-widgets/controls",
      "model_module_version": "2.0.0",
      "model_name": "FloatSliderModel",
      "state": {
       "behavior": "drag-tap",
       "description": "SOD (mg/m²/day)",
       "layout": "IPY_MODEL_b5f4e1ba2b6d4f11a378ccd194e66d9e",
       "max": 15,
       "step": 0.5,
       "style": "IPY_MODEL_c86c99099bbd4e89ae8b101f8e75ec68",
       "value": 5.000000000000001
      }
     },
     "a32f919300274266a721353102e65754": {
      "model_module": "@jupyter-widgets/controls",
      "model_module_version": "2.0.0",
      "model_name": "SliderStyleModel",
      "state": {
       "description_width": ""
      }
     },
     "a50ca5c7d250460189a81ed494bad133": {
      "model_module": "@jupyter-widgets/controls",
      "model_module_version": "2.0.0",
      "model_name": "SliderStyleModel",
      "state": {
       "description_width": ""
      }
     },
     "a7dadea887f745118194b9dab98d2d32": {
      "model_module": "@jupyter-widgets/base",
      "model_module_version": "2.0.0",
      "model_name": "LayoutModel",
      "state": {}
     },
     "aa3882b0d98b4f3391b83c54b479968e": {
      "model_module": "@jupyter-widgets/controls",
      "model_module_version": "2.0.0",
      "model_name": "FloatSliderModel",
      "state": {
       "behavior": "drag-tap",
       "description": "Depth (m)",
       "layout": "IPY_MODEL_f96249335993480a8fb2aa3ef3fb4b1f",
       "max": 10,
       "min": 0.5,
       "step": 0.1,
       "style": "IPY_MODEL_a32f919300274266a721353102e65754",
       "value": 8.1
      }
     },
     "aac654c7708448fbbc3acee77b5fab61": {
      "model_module": "@jupyter-widgets/controls",
      "model_module_version": "2.0.0",
      "model_name": "SliderStyleModel",
      "state": {
       "description_width": ""
      }
     },
     "af818b860e1940f685ce3d3f3b5d16d9": {
      "model_module": "@jupyter-widgets/base",
      "model_module_version": "2.0.0",
      "model_name": "LayoutModel",
      "state": {}
     },
     "b5f4e1ba2b6d4f11a378ccd194e66d9e": {
      "model_module": "@jupyter-widgets/base",
      "model_module_version": "2.0.0",
      "model_name": "LayoutModel",
      "state": {}
     },
     "bf60e9316a7b41ccb65cb77957f48a87": {
      "model_module": "@jupyter-widgets/base",
      "model_module_version": "2.0.0",
      "model_name": "LayoutModel",
      "state": {}
     },
     "c0ce1ea1c9ed4ca3b86bd2941abeed71": {
      "model_module": "@jupyter-widgets/controls",
      "model_module_version": "2.0.0",
      "model_name": "FloatSliderModel",
      "state": {
       "behavior": "drag-tap",
       "description": "DO_sat (mg/L)",
       "layout": "IPY_MODEL_3e705dfa8a7c4af9a430ce2c1b173172",
       "max": 12,
       "min": 6,
       "step": 0.1,
       "style": "IPY_MODEL_7e2fcee28eab4f05b606c9cf866ef149",
       "value": 9
      }
     },
     "c4b9bbd9a2814f09b77168f86935a7ba": {
      "model_module": "@jupyter-widgets/controls",
      "model_module_version": "2.0.0",
      "model_name": "SliderStyleModel",
      "state": {
       "description_width": ""
      }
     },
     "c86c99099bbd4e89ae8b101f8e75ec68": {
      "model_module": "@jupyter-widgets/controls",
      "model_module_version": "2.0.0",
      "model_name": "SliderStyleModel",
      "state": {
       "description_width": ""
      }
     },
     "cef46d687a5a4a43b994ed47586cd675": {
      "model_module": "@jupyter-widgets/controls",
      "model_module_version": "2.0.0",
      "model_name": "SliderStyleModel",
      "state": {
       "description_width": ""
      }
     },
     "d6999ad2e8d449fdb4fd816f7aaca4b1": {
      "model_module": "@jupyter-widgets/base",
      "model_module_version": "2.0.0",
      "model_name": "LayoutModel",
      "state": {}
     },
     "d7d20fba99494e90865fadd3c57e9665": {
      "model_module": "@jupyter-widgets/base",
      "model_module_version": "2.0.0",
      "model_name": "LayoutModel",
      "state": {}
     },
     "dcf5521ba85548998de25b50c1ba25c9": {
      "model_module": "@jupyter-widgets/controls",
      "model_module_version": "2.0.0",
      "model_name": "FloatSliderModel",
      "state": {
       "behavior": "drag-tap",
       "description": "Depth (m)",
       "layout": "IPY_MODEL_2547f1b5c03d4742989c73a02badad27",
       "max": 10,
       "min": 0.5,
       "step": 0.1,
       "style": "IPY_MODEL_6b1922a6aa754c2d907a0b86877d27cf",
       "value": 2.9999999999999996
      }
     },
     "def1020c82e9471bbe8f5d1fad315639": {
      "model_module": "@jupyter-widgets/base",
      "model_module_version": "2.0.0",
      "model_name": "LayoutModel",
      "state": {}
     },
     "e08fdbc002ae434893239076a0e354ab": {
      "model_module": "@jupyter-widgets/controls",
      "model_module_version": "2.0.0",
      "model_name": "FloatSliderModel",
      "state": {
       "behavior": "drag-tap",
       "description": "K_NBOD @20°C",
       "layout": "IPY_MODEL_64a3b2cccd9d4142bc50a71dc01abf20",
       "max": 0.3,
       "min": 0.01,
       "step": 0.01,
       "style": "IPY_MODEL_5cc5bf4b4eb546f9a96395fc8e873882",
       "value": 0.09999999999999999
      }
     },
     "e0d51879a1d74d679103dafc779b857d": {
      "model_module": "@jupyter-widgets/controls",
      "model_module_version": "2.0.0",
      "model_name": "FloatSliderModel",
      "state": {
       "behavior": "drag-tap",
       "description": "WW Temp (°C)",
       "layout": "IPY_MODEL_619d661c7a86425fa3b6a2df0342e83c",
       "max": 35,
       "min": 10,
       "style": "IPY_MODEL_ffeac4cd2fe4459bbf9bd9570dec1ae3",
       "value": 25
      }
     },
     "e33b7bf3078a4ce1a9af9a2650668383": {
      "model_module": "@jupyter-widgets/controls",
      "model_module_version": "2.0.0",
      "model_name": "SliderStyleModel",
      "state": {
       "description_width": ""
      }
     },
     "f1b5c696aa7844638c4606b4a6b33a79": {
      "model_module": "@jupyter-widgets/controls",
      "model_module_version": "2.0.0",
      "model_name": "FloatSliderModel",
      "state": {
       "behavior": "drag-tap",
       "description": "SOD (mg/m²/day)",
       "layout": "IPY_MODEL_63db441c8a2d487ba609288f28fb2bef",
       "max": 15,
       "step": 0.5,
       "style": "IPY_MODEL_fcfb3c8b3aa248d09cec0b1c138b3a77",
       "value": 5.000000000000001
      }
     },
     "f4f360c88222494ab086dbeb9e6be8f1": {
      "model_module": "@jupyter-widgets/controls",
      "model_module_version": "2.0.0",
      "model_name": "SliderStyleModel",
      "state": {
       "description_width": ""
      }
     },
     "f5c0b8775c3c477a974fc594dbb62b4d": {
      "model_module": "@jupyter-widgets/base",
      "model_module_version": "2.0.0",
      "model_name": "LayoutModel",
      "state": {}
     },
     "f7d8cf836df448cfb1c7ad5792a58d0a": {
      "model_module": "@jupyter-widgets/controls",
      "model_module_version": "2.0.0",
      "model_name": "FloatSliderModel",
      "state": {
       "behavior": "drag-tap",
       "description": "Minimum DO",
       "layout": "IPY_MODEL_bf60e9316a7b41ccb65cb77957f48a87",
       "max": 7,
       "min": 2,
       "step": 0.1,
       "style": "IPY_MODEL_43e2f31e35c14cf6a754946ab1898a46",
       "value": 5
      }
     },
     "f96249335993480a8fb2aa3ef3fb4b1f": {
      "model_module": "@jupyter-widgets/base",
      "model_module_version": "2.0.0",
      "model_name": "LayoutModel",
      "state": {}
     },
     "fc3399543d1748f88308fbc0f020002a": {
      "model_module": "@jupyter-widgets/controls",
      "model_module_version": "2.0.0",
      "model_name": "FloatSliderModel",
      "state": {
       "behavior": "drag-tap",
       "description": "Kᵣ @20°C",
       "layout": "IPY_MODEL_6f22fa16dac847ebaba75083fe41272d",
       "max": 1,
       "min": 0.05,
       "step": 0.01,
       "style": "IPY_MODEL_c4b9bbd9a2814f09b77168f86935a7ba",
       "value": 0.3999999999999999
      }
     },
     "fca2bcddd5964263868f7b5e98a921ff": {
      "model_module": "@jupyter-widgets/controls",
      "model_module_version": "2.0.0",
      "model_name": "SliderStyleModel",
      "state": {
       "description_width": ""
      }
     },
     "fcfb3c8b3aa248d09cec0b1c138b3a77": {
      "model_module": "@jupyter-widgets/controls",
      "model_module_version": "2.0.0",
      "model_name": "SliderStyleModel",
      "state": {
       "description_width": ""
      }
     },
     "fd3c7157f50742f78ab0aa6c2405b84e": {
      "model_module": "@jupyter-widgets/controls",
      "model_module_version": "2.0.0",
      "model_name": "SliderStyleModel",
      "state": {
       "description_width": ""
      }
     },
     "ffeac4cd2fe4459bbf9bd9570dec1ae3": {
      "model_module": "@jupyter-widgets/controls",
      "model_module_version": "2.0.0",
      "model_name": "SliderStyleModel",
      "state": {
       "description_width": ""
      }
     }
    },
    "version_major": 2,
    "version_minor": 0
   }
  }
 },
 "nbformat": 4,
 "nbformat_minor": 5
}
