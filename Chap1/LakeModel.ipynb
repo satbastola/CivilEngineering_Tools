{
 "cells": [
  {
   "cell_type": "markdown",
   "id": "a4f55c55-c791-4132-95e5-238190863fc4",
   "metadata": {},
   "source": [
    "# Chapter 1: Environmental Engineering: Lake water quality model"
   ]
  },
  {
   "cell_type": "markdown",
   "id": "03bf72c0-7e37-46a1-a7c2-cb135010c239",
   "metadata": {},
   "source": [
    "1. [Introduction: BOD equation](#1.-Introduction)\n",
    "2. [Simulation: BOD](#2.-Simulation)\n",
    "3. [Self-Assessment](#3.-Self-Assessment)"
   ]
  },
  {
   "cell_type": "markdown",
   "id": "8c1a39d6-f4b5-44f9-867e-d269a0b93f7a",
   "metadata": {},
   "source": [
    "## 1. Introduction"
   ]
  },
  {
   "cell_type": "markdown",
   "id": "6e48453e-0be0-4d69-b367-85ef76115127",
   "metadata": {},
   "source": [
    "### Lake Phosphorus Model — CSTR-Based Simulation\n",
    "\n",
    "This Python code simulates the phosphorus concentration dynamics in a lake using a **Continuous Stirred Tank Reactor (CSTR)** model. It also classifies the lake's nutrient status as **oligotrophic**, **mesotrophic**, or **eutrophic** based on final phosphorus levels. The model is designed for interactive exploration using `ipywidgets`.\n",
    "\n",
    "---\n",
    "\n",
    "### Key Features\n",
    "\n",
    "Based on the mass balance for a CSTR:\n",
    "\n",
    "\n",
    "$$\n",
    "\\frac{dC}{dt} = \\frac{Q}{V} (C_{\\text{in}} - C)\n",
    "$$\n",
    "\n",
    "\n",
    "Where:\n",
    "- $( C $): lake phosphorus concentration (mg/L)\n",
    "- $( C_{\\text{in}} $): inflow phosphorus concentration (mg/L)\n",
    "- $( Q $): inflow rate (m³/day)\n",
    "- $( V $): lake volume (m³)\n",
    "- $( C_0 $): initial concentration in lake\n",
    "- $( t $): time (days)\n",
    "\n",
    "---\n",
    "\n",
    "### Visualization\n",
    "\n",
    "- The phosphorus concentration over time is plotted.\n",
    "- A horizontal dashed line represents the inflow concentration.\n",
    "- The **final concentration** is used to classify the lake:\n",
    "\n",
    "| Classification | Final [P] Range (mg/L)       |\n",
    "|----------------|------------------------------|\n",
    "| Oligotrophic    | < 0.02                       |\n",
    "| Mesotrophic     | 0.02 ≤ C < 0.1               |\n",
    "| Eutrophic       | ≥ 0.1                        |\n",
    "\n",
    "The classification appears in the plot title dynamically.\n",
    "\n",
    "---\n",
    "\n",
    "### Interactive Controls\n",
    "\n",
    "Using sliders built with `ipywidgets`, users can adjust:\n",
    "- `Q`: Flow rate (m³/day)\n",
    "- `V`: Lake volume (m³)\n",
    "- `C_in`: Inflow phosphorus concentration (mg/L)\n",
    "- `C0`: Initial phosphorus concentration (mg/L)\n",
    "- `t_max`: Simulation duration (days)\n",
    "\n",
    "These inputs allow real-time updates to the plot, showing how lake phosphorus levels evolve over time and how different inflow conditions affect lake health.\n",
    "\n",
    "---\n",
    "\n",
    "### Applications\n",
    "\n",
    "- Environmental modeling for nutrient loading\n",
    "- Decision support for watershed management\n",
    "- Educational tool for lake classification and dynamics\n",
    "\n",
    "---\n"
   ]
  },
  {
   "cell_type": "markdown",
   "id": "33bad53b-aef2-4b01-a671-98781404e986",
   "metadata": {},
   "source": [
    "## 2. Simulation"
   ]
  },
  {
   "cell_type": "code",
   "execution_count": 1,
   "id": "11464c57-87f7-45ed-9b0c-81206093c126",
   "metadata": {},
   "outputs": [
    {
     "data": {
      "application/vnd.jupyter.widget-view+json": {
       "model_id": "24aa524eba5f4f95ba5d18624cb35cfb",
       "version_major": 2,
       "version_minor": 0
      },
      "text/plain": [
       "VBox(children=(FloatSlider(value=5000.0, description='Flow Rate Q (m³/day)', max=20000.0, min=1000.0, step=500…"
      ]
     },
     "metadata": {},
     "output_type": "display_data"
    },
    {
     "data": {
      "application/vnd.jupyter.widget-view+json": {
       "model_id": "75a653682d1e47aab090054bcdcf088a",
       "version_major": 2,
       "version_minor": 0
      },
      "text/plain": [
       "Output()"
      ]
     },
     "metadata": {},
     "output_type": "display_data"
    }
   ],
   "source": [
    "import numpy as np\n",
    "import matplotlib.pyplot as plt\n",
    "import ipywidgets as widgets\n",
    "from IPython.display import display\n",
    "\n",
    "#  Lake CSTR model: dC/dt = (Q/V)(C_in - C)\n",
    "def lake_phosphorus_model(Q, V, C_in, C0, t_max):\n",
    "    t = np.linspace(0, t_max, 200)\n",
    "    C = np.zeros_like(t)\n",
    "    C[0] = C0\n",
    "    for i in range(1, len(t)):\n",
    "        dt = t[i] - t[i - 1]\n",
    "        dCdt = (Q / V) * (C_in - C[i - 1])\n",
    "        C[i] = C[i - 1] + dCdt * dt\n",
    "    return t, C\n",
    "\n",
    "# 🔎 Classify lake status based on final P concentration\n",
    "def classify_lake(C_final):\n",
    "    if C_final < 0.02:\n",
    "        return \"Oligotrophic (Low nutrients)\"\n",
    "    elif C_final < 0.1:\n",
    "        return \"Mesotrophic (Moderate nutrients)\"\n",
    "    else:\n",
    "        return \"Eutrophic (High nutrients)\"\n",
    "\n",
    "# 📊 Plotting function with classification\n",
    "def plot_lake_model(Q, V, C_in, C0, t_max):\n",
    "    t, C = lake_phosphorus_model(Q, V, C_in, C0, t_max)\n",
    "    trophic_status = classify_lake(C[-1])\n",
    "\n",
    "    plt.figure(figsize=(10, 4))\n",
    "    plt.plot(t, C, label=\"Lake Phosphorus (mg/L)\", color=\"darkgreen\")\n",
    "    plt.axhline(C_in, color=\"gray\", linestyle=\"--\", label=\"Inflow Concentration\")\n",
    "    plt.xlabel(\"Time (days)\")\n",
    "    plt.ylabel(\"Phosphorus Concentration (mg/L)\")\n",
    "    plt.title(f\"Lake CSTR Model — {trophic_status}\")\n",
    "    plt.grid(True)\n",
    "    plt.legend()\n",
    "    plt.tight_layout()\n",
    "    plt.show()\n",
    "\n",
    "# 🎛️ Interactive controls\n",
    "Q_slider = widgets.FloatSlider(value=5000, min=1000, max=20000, step=500, description='Flow Rate Q (m³/day)')\n",
    "V_slider = widgets.FloatSlider(value=1e6, min=1e5, max=5e6, step=1e5, description='Lake Volume V (m³)')\n",
    "C_in_slider = widgets.FloatSlider(value=0.1, min=0.01, max=1.0, step=0.01, description='Inflow P Conc. (mg/L)')\n",
    "C0_slider = widgets.FloatSlider(value=0.05, min=0.0, max=1.0, step=0.01, description='Initial P Conc. (mg/L)')\n",
    "tmax_slider = widgets.FloatSlider(value=100, min=10, max=365, step=10, description='Simulation Time (days)')\n",
    "\n",
    "ui = widgets.VBox([Q_slider, V_slider, C_in_slider, C0_slider, tmax_slider])\n",
    "out = widgets.interactive_output(plot_lake_model, {\n",
    "    'Q': Q_slider,\n",
    "    'V': V_slider,\n",
    "    'C_in': C_in_slider,\n",
    "    'C0': C0_slider,\n",
    "    't_max': tmax_slider\n",
    "})\n",
    "\n",
    "display(ui, out)\n"
   ]
  },
  {
   "cell_type": "markdown",
   "id": "fb575e44-ef1a-45cb-95d0-73229658c8a5",
   "metadata": {},
   "source": [
    "## 3. Self-Assessment"
   ]
  },
  {
   "cell_type": "markdown",
   "id": "ab5aa717-769e-45b1-8f57-1abf20817a3c",
   "metadata": {},
   "source": [
    "### Lake Phosphorus Learning Module\n",
    "\n",
    "This module combines conceptual understanding, reflection prompts, and a multiple-choice quiz to explore phosphorus dynamics and trophic classification in lakes modeled as Continuous Stirred Tank Reactors (CSTRs).\n",
    "\n",
    "---\n",
    "\n",
    "### Conceptual Questions\n",
    "\n",
    "1. **What is the significance of the inflow rate (\\( Q \\)) in determining the phosphorus concentration in the lake?**\n",
    "2. **How does the lake volume (\\( V \\)) affect residence time and phosphorus dilution?**\n",
    "3. **Why is the initial phosphorus concentration (\\( C_0 \\)) important in modeling lake behavior?**\n",
    "4. **How does the inflow phosphorus concentration (\\( C_{\\text{in}} \\)) influence lake equilibrium?**\n",
    "5. **How does simulation duration (\\( t_{\\text{max}} \\)) affect nutrient trend predictions?**\n",
    "\n",
    "---\n",
    "\n",
    "### Reflective Questions\n",
    "\n",
    "- 💭 How do eutrophic conditions affect lake ecology and local communities?\n",
    "- 💭 In what ways might agriculture or urban runoff alter phosphorus input?\n",
    "- 💭 What practical strategies could help shift a lake from eutrophic to mesotrophic status?\n",
    "- 💭 How could seasonal variations in inflow and nutrient load affect the model results?\n",
    "- 💭 What are the limitations of using a CSTR model for simulating real lakes?\n",
    "\n",
    "---\n",
    "\n",
    "### Quiz: Phosphorus Dynamics\n",
    "\n",
    "### 1. What does the inflow rate (\\( Q \\)) represent?\n",
    "- [ ] Phosphorus removal rate\n",
    "- [x] Water entering the lake\n",
    "- [ ] Nutrient recycling\n",
    "- [ ] Sediment addition  \n",
    "**Explanation**: \\( Q \\) represents the volumetric flow of water bringing nutrients into the lake.\n",
    "\n",
    "---\n",
    "\n",
    "### 2. How does increasing lake volume (\\( V \\)) affect phosphorus dynamics?\n",
    "- [ ] Decreases residence time  \n",
    "- [x] Increases residence time  \n",
    "- [ ] No effect  \n",
    "- [ ] Increases \\( C_{\\text{in}} \\)  \n",
    "**Explanation**: Larger volumes lead to slower turnover, allowing dilution and reduced nutrient concentration.\n",
    "\n",
    "---\n",
    "\n",
    "### 3. What classification corresponds to a final phosphorus level of 0.05 mg/L?\n",
    "- [ ] Oligotrophic  \n",
    "- [x] Mesotrophic  \n",
    "- [ ] Eutrophic  \n",
    "- [ ] Hypereutrophic  \n",
    "**Explanation**: 0.05 mg/L falls within the mesotrophic range (moderate nutrient levels).\n",
    "\n",
    "---\n",
    "\n",
    "### 4. Which factor most directly affects equilibrium concentration?\n",
    "- [ ] Initial concentration \\( C_0 \\)  \n",
    "- [x] Inflow concentration \\( C_{\\text{in}} \\)  \n",
    "- [ ] Simulation duration  \n",
    "- [ ] Lake volume  \n",
    "**Explanation**: \\( C_{\\text{in}} \\) sets the long-term target value for phosphorus.\n",
    "\n",
    "---\n",
    "\n",
    "### 5. What environmental risk is associated with eutrophic lakes?\n",
    "- [ ] Low nutrient availability  \n",
    "- [x] Algal blooms and oxygen depletion  \n",
    "- [ ] Enhanced biodiversity  \n",
    "- [ ] Excess sediment buildup  \n",
    "**Explanation**: Excess nutrients trigger harmful algal growth, depleting oxygen and harming aquatic life.\n",
    "\n",
    "---"
   ]
  },
  {
   "cell_type": "code",
   "execution_count": null,
   "id": "26da11a6-ff66-4c08-8050-c6292b1eff63",
   "metadata": {},
   "outputs": [],
   "source": []
  }
 ],
 "metadata": {
  "kernelspec": {
   "display_name": "Python [conda env:base] *",
   "language": "python",
   "name": "conda-base-py"
  },
  "language_info": {
   "codemirror_mode": {
    "name": "ipython",
    "version": 3
   },
   "file_extension": ".py",
   "mimetype": "text/x-python",
   "name": "python",
   "nbconvert_exporter": "python",
   "pygments_lexer": "ipython3",
   "version": "3.12.7"
  },
  "widgets": {
   "application/vnd.jupyter.widget-state+json": {
    "state": {},
    "version_major": 2,
    "version_minor": 0
   }
  }
 },
 "nbformat": 4,
 "nbformat_minor": 5
}
