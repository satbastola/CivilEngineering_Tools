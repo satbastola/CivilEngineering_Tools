{
 "cells": [
  {
   "cell_type": "markdown",
   "id": "328d24c0-57b4-47fc-9049-72b2a18e8ed6",
   "metadata": {},
   "source": [
    "# Chapter 1 Environmental Engineering: Air Quality Modeling"
   ]
  },
  {
   "cell_type": "markdown",
   "id": "587f96cc-a3bd-4fd8-92d3-f0c21e643097",
   "metadata": {},
   "source": [
    "1. [Introduction: BOD equation](#1.-Introduction)\n",
    "2. [Simulation: BOD](#2.-Simulation)\n",
    "3. [Self-Assessment](#3.-Self-Assessment)"
   ]
  },
  {
   "cell_type": "markdown",
   "id": "76bd28dc-e162-4cfb-a183-2b2298c0179d",
   "metadata": {},
   "source": [
    "## 1. Introduction"
   ]
  },
  {
   "cell_type": "markdown",
   "id": "2a22c62f-d06b-4dc6-90cc-682f1240119d",
   "metadata": {},
   "source": [
    "### Methodology: Watershed Runoff, Sediment, and Nutrient Simulation\n",
    "\n",
    "This simulation estimates hydrologic and water quality responses of a watershed under different land use scenarios. It integrates rainfall, land use type, slope, area, and drainage density to compute:\n",
    "\n",
    "- Surface runoff (mm and m³)\n",
    "- Sediment yield (tons)\n",
    "- Nutrient loads (Nitrogen and Phosphorus in kg)\n",
    "- Change analysis between baseline and future land use\n",
    "\n",
    "---\n",
    "\n",
    "### 1. 🌧️ Runoff Estimation: NRCS Curve Number Method\n",
    "\n",
    "Runoff is calculated using the **NRCS-CN method**, which relates land use and soil conditions to rainfall retention:\n",
    "\n",
    "$$\n",
    "S = \\frac{25400}{CN} - 254\n",
    "\\quad ; \\quad\n",
    "I_a = 0.2 \\cdot S\n",
    "\\quad ; \\quad\n",
    "Q = \\frac{(P - I_a)^2}{P + 0.8 \\cdot S}\n",
    "$$\n",
    "\n",
    "Where:\n",
    "- $( CN $): Curve Number (based on land use)\n",
    "- $( P $): Rainfall (mm)\n",
    "- $( Q $): Runoff depth (mm)\n",
    "\n",
    "Runoff volume is then computed as:\n",
    "\n",
    "$$\n",
    "Q_{\\text{vol}} = Q \\cdot \\frac{\\text{Area}_{\\text{ha}} \\cdot 10,000}{1000}\n",
    "$$\n",
    "\n",
    "---\n",
    "\n",
    "### 2. Sediment Yield: Modified Universal Soil Loss Equation (MUSLE)\n",
    "\n",
    "Sediment yield is estimated using a simplified form of **MUSLE**:\n",
    "\n",
    "$$\n",
    "S = 11.8 \\cdot Q \\cdot A \\cdot K \\cdot C \\cdot P \\cdot LS\n",
    "$$\n",
    "\n",
    "Where:\n",
    "- $( Q $): Runoff (mm)\n",
    "- $( A $): Area (ha)\n",
    "- $( K $): Soil erodibility factor (default 0.3)\n",
    "- $( C $): Cover factor (default 0.2)\n",
    "- $( P $): Practice factor (default 1.0)\n",
    "- $( LS $): Slope length and steepness factor (approximated as slope % / 100)\n",
    "\n",
    "---\n",
    "\n",
    "### 🧪 Nutrient Load Estimation\n",
    "\n",
    "Nutrient loads are estimated using **land use-specific export coefficients"
   ]
  },
  {
   "cell_type": "code",
   "execution_count": 2,
   "id": "b0225834-0c4e-4214-89cd-386961baa7de",
   "metadata": {},
   "outputs": [
    {
     "data": {
      "application/vnd.jupyter.widget-view+json": {
       "model_id": "c0d68b7d56524a9496b8ec9c45e52e64",
       "version_major": 2,
       "version_minor": 0
      },
      "text/plain": [
       "interactive(children=(FloatSlider(value=50.0, description='Rainfall (mm)', max=200.0, min=10.0, step=5.0), Dro…"
      ]
     },
     "metadata": {},
     "output_type": "display_data"
    }
   ],
   "source": [
    "# 📌 Run this cell in a Jupyter Notebook\n",
    "import numpy as np\n",
    "import matplotlib.pyplot as plt\n",
    "import ipywidgets as widgets\n",
    "from IPython.display import display, clear_output\n",
    "\n",
    "# 📐 Curve Number lookup\n",
    "def get_curve_number(landuse):\n",
    "    cn_dict = {\n",
    "        'Forest': 55,\n",
    "        'Urban': 85,\n",
    "        'Agriculture': 75,\n",
    "        'Wetland': 50,\n",
    "        'Grassland': 60\n",
    "    }\n",
    "    return cn_dict.get(landuse, 70)\n",
    "\n",
    "# 📐 Nutrient export coefficients (kg/ha/year)\n",
    "def get_nutrient_coeffs(landuse):\n",
    "    coeffs = {\n",
    "        'Forest': {'N': 1.0, 'P': 0.1},\n",
    "        'Urban': {'N': 5.0, 'P': 1.0},\n",
    "        'Agriculture': {'N': 15.0, 'P': 2.5},\n",
    "        'Wetland': {'N': 0.5, 'P': 0.05},\n",
    "        'Grassland': {'N': 3.0, 'P': 0.5}\n",
    "    }\n",
    "    return coeffs.get(landuse, {'N': 5.0, 'P': 1.0})\n",
    "\n",
    "# 📐 Runoff estimation using NRCS-CN method\n",
    "def estimate_runoff(rainfall_mm, CN):\n",
    "    S = (25400 / CN) - 254\n",
    "    Ia = 0.2 * S\n",
    "    if rainfall_mm <= Ia:\n",
    "        return 0\n",
    "    Q = ((rainfall_mm - Ia)**2) / (rainfall_mm + 0.8 * S)\n",
    "    return round(Q, 2)\n",
    "\n",
    "# 📐 Sediment yield using MUSLE (simplified)\n",
    "def estimate_sediment(Q, area_ha, slope_percent, K=0.3, C=0.2, P=1.0):\n",
    "    LS = slope_percent / 100\n",
    "    sediment_tons = 11.8 * Q * area_ha * K * C * P * LS\n",
    "    return round(sediment_tons, 2)\n",
    "\n",
    "# 📐 Nutrient loads\n",
    "def estimate_nutrients(area_ha, landuse):\n",
    "    coeffs = get_nutrient_coeffs(landuse)\n",
    "    N_load = coeffs['N'] * area_ha\n",
    "    P_load = coeffs['P'] * area_ha\n",
    "    return round(N_load, 2), round(P_load, 2)\n",
    "\n",
    "# 📊 Simulation function\n",
    "def watershed_comparison(rainfall_mm, landuse_base, landuse_future, area_km2, slope_percent, drainage_density):\n",
    "    clear_output(wait=True)\n",
    "\n",
    "    area_ha = area_km2 * 100\n",
    "\n",
    "    def simulate(landuse):\n",
    "        CN = get_curve_number(landuse)\n",
    "        runoff_mm = estimate_runoff(rainfall_mm, CN)\n",
    "        runoff_m3 = runoff_mm / 1000 * area_ha * 10000\n",
    "        sediment = estimate_sediment(runoff_mm, area_ha, slope_percent)\n",
    "        N_load, P_load = estimate_nutrients(area_ha, landuse)\n",
    "        return runoff_m3, sediment, N_load, P_load\n",
    "\n",
    "    base = simulate(landuse_base)\n",
    "    future = simulate(landuse_future)\n",
    "\n",
    "    # 📋 Output summary\n",
    "    print(f\"🌧️ Rainfall: {rainfall_mm:.1f} mm\")\n",
    "    print(f\"📐 Area: {area_km2:.2f} km² | Slope: {slope_percent:.1f}% | Drainage Density: {drainage_density:.2f} km/km²\\n\")\n",
    "\n",
    "    print(f\"🔄 Baseline Land Use: {landuse_base}\")\n",
    "    print(f\"💧 Runoff: {base[0]:,.0f} m³ | Sediment: {base[1]:.2f} tons | N: {base[2]:.2f} kg | P: {base[3]:.2f} kg\")\n",
    "\n",
    "    print(f\"\\n🔁 Future Land Use: {landuse_future}\")\n",
    "    print(f\"💧 Runoff: {future[0]:,.0f} m³ | Sediment: {future[1]:.2f} tons | N: {future[2]:.2f} kg | P: {future[3]:.2f} kg\")\n",
    "\n",
    "    print(\"\\n📊 Change Summary:\")\n",
    "    labels = ['Runoff (m³)', 'Sediment (tons)', 'Nitrogen (kg)', 'Phosphorus (kg)']\n",
    "    for i, label in enumerate(labels):\n",
    "        delta = future[i] - base[i]\n",
    "        pct = (delta / base[i] * 100) if base[i] != 0 else 0\n",
    "        print(f\" - {label}: Δ = {delta:.2f} ({pct:+.1f}%)\")\n",
    "\n",
    "    # 📈 Visualization\n",
    "    x = np.arange(len(labels))\n",
    "    width = 0.35\n",
    "    fig, ax = plt.subplots(figsize=(10, 5))\n",
    "    ax.bar(x - width/2, base, width, label='Baseline', color='lightblue', edgecolor='black')\n",
    "    ax.bar(x + width/2, future, width, label='Future', color='salmon', edgecolor='black')\n",
    "    ax.set_xticks(x)\n",
    "    ax.set_xticklabels(labels)\n",
    "    ax.set_title('Watershed Output Comparison')\n",
    "    ax.set_ylabel('Magnitude')\n",
    "    ax.legend()\n",
    "    ax.grid(True, axis='y')\n",
    "    plt.tight_layout()\n",
    "    plt.show()\n",
    "\n",
    "# 🎚️ Interactive controls\n",
    "rainfall_slider = widgets.FloatSlider(value=50.0, min=10.0, max=200.0, step=5.0, description='Rainfall (mm)')\n",
    "landuse_base_dropdown = widgets.Dropdown(options=['Forest', 'Urban', 'Agriculture', 'Wetland', 'Grassland'], value='Agriculture', description='Baseline Land Use')\n",
    "landuse_future_dropdown = widgets.Dropdown(options=['Forest', 'Urban', 'Agriculture', 'Wetland', 'Grassland'], value='Urban', description='Future Land Use')\n",
    "area_slider = widgets.FloatSlider(value=2.0, min=0.1, max=50.0, step=0.1, description='Area (km²)')\n",
    "slope_slider = widgets.FloatSlider(value=5.0, min=0.1, max=30.0, step=0.5, description='Slope (%)')\n",
    "drainage_slider = widgets.FloatSlider(value=1.5, min=0.5, max=5.0, step=0.1, description='Drainage Density')\n",
    "\n",
    "interactive_plot = widgets.interactive(\n",
    "    watershed_comparison,\n",
    "    rainfall_mm=rainfall_slider,\n",
    "    landuse_base=landuse_base_dropdown,\n",
    "    landuse_future=landuse_future_dropdown,\n",
    "    area_km2=area_slider,\n",
    "    slope_percent=slope_slider,\n",
    "    drainage_density=drainage_slider\n",
    ")\n",
    "\n",
    "display(interactive_plot)"
   ]
  },
  {
   "cell_type": "markdown",
   "id": "4c9af90d-ba3a-48e5-9660-eae7f17b0648",
   "metadata": {},
   "source": [
    "###  Watershed Simulation: Quiz, Conceptual & Reflective Questions\n",
    "\n",
    "This module reinforces understanding of watershed runoff, sediment yield, and nutrient loading using NRCS-CN, MUSLE, and export coefficient methods. It supports learning through multiple-choice questions, conceptual prompts, and reflective challenges.\n",
    "\n",
    "---\n",
    "\n",
    "###  Conceptual Questions\n",
    "\n",
    "1. **What does the Curve Number (CN) primarily represent?**\n",
    "   - A. Soil erosion potential  \n",
    "   - B. Land use and soil infiltration characteristics  \n",
    "   - C. Nutrient export rate  \n",
    "   - D. Slope steepness  \n",
    "\n",
    "2. **Which factor most directly increases sediment yield in the MUSLE equation?**\n",
    "   - A. Rainfall intensity  \n",
    "   - B. Slope percentage  \n",
    "   - C. Drainage density  \n",
    "   - D. Phosphorus coefficient  \n",
    "\n",
    "3. **What is the role of the initial abstraction \\( I_a \\) in the NRCS-CN method?**\n",
    "   - A. It represents the maximum runoff  \n",
    "   - B. It accounts for infiltration and surface storage before runoff begins  \n",
    "   - C. It adjusts nutrient loading  \n",
    "   - D. It scales sediment transport  \n",
    "\n",
    "4. **Which land use type typically has the highest nitrogen export coefficient?**\n",
    "   - A. Forest  \n",
    "   - B. Urban  \n",
    "   - C. Agriculture  \n",
    "   - D. Wetland  \n",
    "\n",
    "5. **What does the LS factor in MUSLE represent?**\n",
    "   - A. Land use and slope  \n",
    "   - B. Length and steepness of slope  \n",
    "   - C. Load and sediment transport  \n",
    "   - D. Land surface roughness  \n",
    "\n",
    "---\n",
    "\n",
    "###  Interpretation\n",
    "\n",
    "1. Why is runoff volume converted from mm to cubic meters using area and unit conversions?  \n",
    "2. How does changing slope percentage affect sediment yield in the MUSLE calculation?  \n",
    "3. Why are nutrient loads estimated using static coefficients rather than dynamic concentration models?  \n",
    "4. What assumptions are made when comparing baseline and future land use scenarios?  \n",
    "5. How could drainage density be incorporated more directly into sediment or runoff estimation?\n",
    "\n",
    "---\n",
    "\n",
    "###  Reflective Questions\n",
    "\n",
    "1. **How do land use changes influence both water quantity and quality in a watershed?**  \n",
    "2. **Why is it important to simulate both runoff and sediment/nutrient loads when planning restoration?**  \n",
    "3. **What are the limitations of using empirical coefficients for nutrient export?**  \n",
    "4. **How could this model be adapted to include BMPs (e.g., buffer strips, retention ponds)?**  \n",
    "5. **What insights can be gained by visualizing the percent change between baseline and future scenarios?**\n",
    "\n",
    "---"
   ]
  },
  {
   "cell_type": "code",
   "execution_count": null,
   "id": "de21aad8-092a-4d4e-bfc8-0e54832721cd",
   "metadata": {},
   "outputs": [],
   "source": []
  }
 ],
 "metadata": {
  "kernelspec": {
   "display_name": "Python [conda env:base] *",
   "language": "python",
   "name": "conda-base-py"
  },
  "language_info": {
   "codemirror_mode": {
    "name": "ipython",
    "version": 3
   },
   "file_extension": ".py",
   "mimetype": "text/x-python",
   "name": "python",
   "nbconvert_exporter": "python",
   "pygments_lexer": "ipython3",
   "version": "3.12.7"
  },
  "widgets": {
   "application/vnd.jupyter.widget-state+json": {
    "state": {
     "0b30d672bccc483d937c09e146fdf340": {
      "model_module": "@jupyter-widgets/base",
      "model_module_version": "2.0.0",
      "model_name": "LayoutModel",
      "state": {}
     },
     "1018c3814acf4c08b63428cd24929aca": {
      "model_module": "@jupyter-widgets/controls",
      "model_module_version": "2.0.0",
      "model_name": "DescriptionStyleModel",
      "state": {
       "description_width": ""
      }
     },
     "11a8ac0614f04fb7938bde74504407bc": {
      "model_module": "@jupyter-widgets/controls",
      "model_module_version": "2.0.0",
      "model_name": "FloatSliderModel",
      "state": {
       "behavior": "drag-tap",
       "description": "Drainage Density",
       "layout": "IPY_MODEL_46eba5b887f94840933e2c84c6cc066b",
       "max": 5,
       "min": 0.5,
       "step": 0.1,
       "style": "IPY_MODEL_e3b19cb8a2d64040af014ca22f9bb69a",
       "value": 1.5
      }
     },
     "1284d3968471432f9c8603716505f036": {
      "model_module": "@jupyter-widgets/controls",
      "model_module_version": "2.0.0",
      "model_name": "FloatSliderModel",
      "state": {
       "behavior": "drag-tap",
       "description": "Rainfall (mm)",
       "layout": "IPY_MODEL_228e565ba3d542cb9e2c71d69d52cf59",
       "max": 200,
       "min": 10,
       "step": 5,
       "style": "IPY_MODEL_a24a93f2ca6845c4af1b83845c0ad3ed",
       "value": 50.00000000000001
      }
     },
     "212ce819b49b49a490d6188bf12d4c04": {
      "model_module": "@jupyter-widgets/controls",
      "model_module_version": "2.0.0",
      "model_name": "FloatSliderModel",
      "state": {
       "behavior": "drag-tap",
       "description": "Slope (%)",
       "layout": "IPY_MODEL_e0ef557f06004e38af48c79fa258d1ef",
       "max": 30,
       "min": 0.1,
       "step": 0.5,
       "style": "IPY_MODEL_4ee554f0b8b14ffba58c731bfe642453",
       "value": 5.1
      }
     },
     "228e565ba3d542cb9e2c71d69d52cf59": {
      "model_module": "@jupyter-widgets/base",
      "model_module_version": "2.0.0",
      "model_name": "LayoutModel",
      "state": {}
     },
     "22e9634826104bfcbe3007c4c3652f31": {
      "model_module": "@jupyter-widgets/base",
      "model_module_version": "2.0.0",
      "model_name": "LayoutModel",
      "state": {}
     },
     "2579c26f9f7145198e946e5bc37b6939": {
      "model_module": "@jupyter-widgets/controls",
      "model_module_version": "2.0.0",
      "model_name": "DropdownModel",
      "state": {
       "_options_labels": [
        "Forest",
        "Urban",
        "Agriculture",
        "Wetland",
        "Grassland"
       ],
       "description": "Future Land Use",
       "index": 1,
       "layout": "IPY_MODEL_a182de7d29c74c70bc600499f9a67b65",
       "style": "IPY_MODEL_3d2b8f680af74c888a66b58bd757d269"
      }
     },
     "39daad8543234bf6bb446284e64762c0": {
      "model_module": "@jupyter-widgets/controls",
      "model_module_version": "2.0.0",
      "model_name": "DropdownModel",
      "state": {
       "_options_labels": [
        "Forest",
        "Urban",
        "Agriculture",
        "Wetland",
        "Grassland"
       ],
       "description": "Baseline Land Use",
       "index": 2,
       "layout": "IPY_MODEL_d1c2ec3d958d4f048f01f547a83d2354",
       "style": "IPY_MODEL_1018c3814acf4c08b63428cd24929aca"
      }
     },
     "3b650a3aa1db442289f9e5ec690c9a27": {
      "model_module": "@jupyter-widgets/base",
      "model_module_version": "2.0.0",
      "model_name": "LayoutModel",
      "state": {}
     },
     "3d2b8f680af74c888a66b58bd757d269": {
      "model_module": "@jupyter-widgets/controls",
      "model_module_version": "2.0.0",
      "model_name": "DescriptionStyleModel",
      "state": {
       "description_width": ""
      }
     },
     "3deb0506576e46a489ca2fd7df169d3f": {
      "model_module": "@jupyter-widgets/base",
      "model_module_version": "2.0.0",
      "model_name": "LayoutModel",
      "state": {}
     },
     "416a1b3e8a95447296f6c50efa807eab": {
      "model_module": "@jupyter-widgets/base",
      "model_module_version": "2.0.0",
      "model_name": "LayoutModel",
      "state": {}
     },
     "46eba5b887f94840933e2c84c6cc066b": {
      "model_module": "@jupyter-widgets/base",
      "model_module_version": "2.0.0",
      "model_name": "LayoutModel",
      "state": {}
     },
     "4ee554f0b8b14ffba58c731bfe642453": {
      "model_module": "@jupyter-widgets/controls",
      "model_module_version": "2.0.0",
      "model_name": "SliderStyleModel",
      "state": {
       "description_width": ""
      }
     },
     "4f68a2e5b7564a2ba364cbf619daf547": {
      "model_module": "@jupyter-widgets/controls",
      "model_module_version": "2.0.0",
      "model_name": "DropdownModel",
      "state": {
       "_options_labels": [
        "Forest",
        "Urban",
        "Agriculture",
        "Wetland",
        "Grassland"
       ],
       "description": "Baseline Land Use",
       "index": 2,
       "layout": "IPY_MODEL_416a1b3e8a95447296f6c50efa807eab",
       "style": "IPY_MODEL_f9a6b11f98684d9a9e80651dbf03e51c"
      }
     },
     "53d31d3c968740fca7bab7483749ca4d": {
      "model_module": "@jupyter-widgets/controls",
      "model_module_version": "2.0.0",
      "model_name": "SliderStyleModel",
      "state": {
       "description_width": ""
      }
     },
     "60d235d0720c43ebb9d239707dfc64c9": {
      "model_module": "@jupyter-widgets/output",
      "model_module_version": "1.0.0",
      "model_name": "OutputModel",
      "state": {
       "layout": "IPY_MODEL_22e9634826104bfcbe3007c4c3652f31",
       "outputs": [
        {
         "name": "stdout",
         "output_type": "stream",
         "text": "🌧️ Rainfall: 50.0 mm\n📐 Area: 2.00 km² | Slope: 5.1% | Drainage Density: 1.50 km/km²\n\n🔄 Baseline Land Use: Agriculture\n💧 Runoff: 18,580 m³ | Sediment: 67.09 tons | N: 3000.00 kg | P: 500.00 kg\n\n🔁 Future Land Use: Urban\n💧 Runoff: 39,220 m³ | Sediment: 141.62 tons | N: 1000.00 kg | P: 200.00 kg\n\n📊 Change Summary:\n - Runoff (m³): Δ = 20640.00 (+111.1%)\n - Sediment (tons): Δ = 74.53 (+111.1%)\n - Nitrogen (kg): Δ = -2000.00 (-66.7%)\n - Phosphorus (kg): Δ = -300.00 (-60.0%)\n"
        },
        {
         "data": {
          "image/png": "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",
          "text/plain": "<Figure size 1000x500 with 1 Axes>"
         },
         "metadata": {},
         "output_type": "display_data"
        }
       ]
      }
     },
     "78af9440e7584d3ebdc7141d629a53ba": {
      "model_module": "@jupyter-widgets/output",
      "model_module_version": "1.0.0",
      "model_name": "OutputModel",
      "state": {
       "layout": "IPY_MODEL_7fbf106cc38545b4b3fd7eff102547b0",
       "outputs": [
        {
         "name": "stdout",
         "output_type": "stream",
         "text": "🌧️ Rainfall: 50.0 mm\n📐 Area: 2.00 km² | Slope: 5.1% | Drainage Density: 1.50 km/km²\n\n🔄 Baseline Land Use: Agriculture\n💧 Runoff: 18,580 m³ | Sediment: 67.09 tons | N: 3000.00 kg | P: 500.00 kg\n\n🔁 Future Land Use: Urban\n💧 Runoff: 39,220 m³ | Sediment: 141.62 tons | N: 1000.00 kg | P: 200.00 kg\n\n📊 Change Summary:\n - Runoff (m³): Δ = 20640.00 (+111.1%)\n - Sediment (tons): Δ = 74.53 (+111.1%)\n - Nitrogen (kg): Δ = -2000.00 (-66.7%)\n - Phosphorus (kg): Δ = -300.00 (-60.0%)\n"
        },
        {
         "data": {
          "image/png": "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",
          "text/plain": "<Figure size 1000x500 with 1 Axes>"
         },
         "metadata": {},
         "output_type": "display_data"
        }
       ]
      }
     },
     "7ecf0a3090ac422187cce744490d62ed": {
      "model_module": "@jupyter-widgets/controls",
      "model_module_version": "2.0.0",
      "model_name": "VBoxModel",
      "state": {
       "_dom_classes": [
        "widget-interact"
       ],
       "children": [
        "IPY_MODEL_1284d3968471432f9c8603716505f036",
        "IPY_MODEL_4f68a2e5b7564a2ba364cbf619daf547",
        "IPY_MODEL_bd87cff988ad4ec8a3a1bd5c66326916",
        "IPY_MODEL_b4f211785df542ff89bcb469b971914a",
        "IPY_MODEL_212ce819b49b49a490d6188bf12d4c04",
        "IPY_MODEL_a42d8107d0b04dd0a356a04faeb0a84b",
        "IPY_MODEL_60d235d0720c43ebb9d239707dfc64c9"
       ],
       "layout": "IPY_MODEL_d527407022d74ae988fb3f8d053aafce"
      }
     },
     "7fbf106cc38545b4b3fd7eff102547b0": {
      "model_module": "@jupyter-widgets/base",
      "model_module_version": "2.0.0",
      "model_name": "LayoutModel",
      "state": {}
     },
     "8c66c01faa144fb69162638e92554417": {
      "model_module": "@jupyter-widgets/controls",
      "model_module_version": "2.0.0",
      "model_name": "SliderStyleModel",
      "state": {
       "description_width": ""
      }
     },
     "8f032549a38a4901afed835a1cb276d4": {
      "model_module": "@jupyter-widgets/controls",
      "model_module_version": "2.0.0",
      "model_name": "FloatSliderModel",
      "state": {
       "behavior": "drag-tap",
       "description": "Slope (%)",
       "layout": "IPY_MODEL_3deb0506576e46a489ca2fd7df169d3f",
       "max": 30,
       "min": 0.1,
       "step": 0.5,
       "style": "IPY_MODEL_9ce269bbfdaf48259de0bd6226950592",
       "value": 5.1
      }
     },
     "93a2559326cd4b9b87efb27944ba2332": {
      "model_module": "@jupyter-widgets/controls",
      "model_module_version": "2.0.0",
      "model_name": "FloatSliderModel",
      "state": {
       "behavior": "drag-tap",
       "description": "Rainfall (mm)",
       "layout": "IPY_MODEL_3b650a3aa1db442289f9e5ec690c9a27",
       "max": 200,
       "min": 10,
       "step": 5,
       "style": "IPY_MODEL_96bd9fed02594b6090f83b1bd949c4bf",
       "value": 50.00000000000001
      }
     },
     "9456f739b8f04da9b61cbb3ab8829df4": {
      "model_module": "@jupyter-widgets/base",
      "model_module_version": "2.0.0",
      "model_name": "LayoutModel",
      "state": {}
     },
     "96bd9fed02594b6090f83b1bd949c4bf": {
      "model_module": "@jupyter-widgets/controls",
      "model_module_version": "2.0.0",
      "model_name": "SliderStyleModel",
      "state": {
       "description_width": ""
      }
     },
     "9ce269bbfdaf48259de0bd6226950592": {
      "model_module": "@jupyter-widgets/controls",
      "model_module_version": "2.0.0",
      "model_name": "SliderStyleModel",
      "state": {
       "description_width": ""
      }
     },
     "a182de7d29c74c70bc600499f9a67b65": {
      "model_module": "@jupyter-widgets/base",
      "model_module_version": "2.0.0",
      "model_name": "LayoutModel",
      "state": {}
     },
     "a24a93f2ca6845c4af1b83845c0ad3ed": {
      "model_module": "@jupyter-widgets/controls",
      "model_module_version": "2.0.0",
      "model_name": "SliderStyleModel",
      "state": {
       "description_width": ""
      }
     },
     "a42d8107d0b04dd0a356a04faeb0a84b": {
      "model_module": "@jupyter-widgets/controls",
      "model_module_version": "2.0.0",
      "model_name": "FloatSliderModel",
      "state": {
       "behavior": "drag-tap",
       "description": "Drainage Density",
       "layout": "IPY_MODEL_f0d8db775b1b48f58b6ac9d209b2beaa",
       "max": 5,
       "min": 0.5,
       "step": 0.1,
       "style": "IPY_MODEL_53d31d3c968740fca7bab7483749ca4d",
       "value": 1.5
      }
     },
     "ac2b4301cadd4543a49995ce08c6108e": {
      "model_module": "@jupyter-widgets/base",
      "model_module_version": "2.0.0",
      "model_name": "LayoutModel",
      "state": {}
     },
     "b4f211785df542ff89bcb469b971914a": {
      "model_module": "@jupyter-widgets/controls",
      "model_module_version": "2.0.0",
      "model_name": "FloatSliderModel",
      "state": {
       "behavior": "drag-tap",
       "description": "Area (km²)",
       "layout": "IPY_MODEL_0b30d672bccc483d937c09e146fdf340",
       "max": 50,
       "min": 0.1,
       "step": 0.1,
       "style": "IPY_MODEL_8c66c01faa144fb69162638e92554417",
       "value": 2
      }
     },
     "bd87cff988ad4ec8a3a1bd5c66326916": {
      "model_module": "@jupyter-widgets/controls",
      "model_module_version": "2.0.0",
      "model_name": "DropdownModel",
      "state": {
       "_options_labels": [
        "Forest",
        "Urban",
        "Agriculture",
        "Wetland",
        "Grassland"
       ],
       "description": "Future Land Use",
       "index": 1,
       "layout": "IPY_MODEL_9456f739b8f04da9b61cbb3ab8829df4",
       "style": "IPY_MODEL_c207b5ef6a424d2bba94cb3142157d16"
      }
     },
     "c0d68b7d56524a9496b8ec9c45e52e64": {
      "model_module": "@jupyter-widgets/controls",
      "model_module_version": "2.0.0",
      "model_name": "VBoxModel",
      "state": {
       "_dom_classes": [
        "widget-interact"
       ],
       "children": [
        "IPY_MODEL_93a2559326cd4b9b87efb27944ba2332",
        "IPY_MODEL_39daad8543234bf6bb446284e64762c0",
        "IPY_MODEL_2579c26f9f7145198e946e5bc37b6939",
        "IPY_MODEL_c45b14e1a61a414596dc1a900e3ccb95",
        "IPY_MODEL_8f032549a38a4901afed835a1cb276d4",
        "IPY_MODEL_11a8ac0614f04fb7938bde74504407bc",
        "IPY_MODEL_78af9440e7584d3ebdc7141d629a53ba"
       ],
       "layout": "IPY_MODEL_f1317e10cc3248e288bbe0581896930a"
      }
     },
     "c207b5ef6a424d2bba94cb3142157d16": {
      "model_module": "@jupyter-widgets/controls",
      "model_module_version": "2.0.0",
      "model_name": "DescriptionStyleModel",
      "state": {
       "description_width": ""
      }
     },
     "c45b14e1a61a414596dc1a900e3ccb95": {
      "model_module": "@jupyter-widgets/controls",
      "model_module_version": "2.0.0",
      "model_name": "FloatSliderModel",
      "state": {
       "behavior": "drag-tap",
       "description": "Area (km²)",
       "layout": "IPY_MODEL_ac2b4301cadd4543a49995ce08c6108e",
       "max": 50,
       "min": 0.1,
       "step": 0.1,
       "style": "IPY_MODEL_c8b618f7a71e4fdeabfc5dc997c9e8d9",
       "value": 2
      }
     },
     "c8b618f7a71e4fdeabfc5dc997c9e8d9": {
      "model_module": "@jupyter-widgets/controls",
      "model_module_version": "2.0.0",
      "model_name": "SliderStyleModel",
      "state": {
       "description_width": ""
      }
     },
     "d1c2ec3d958d4f048f01f547a83d2354": {
      "model_module": "@jupyter-widgets/base",
      "model_module_version": "2.0.0",
      "model_name": "LayoutModel",
      "state": {}
     },
     "d527407022d74ae988fb3f8d053aafce": {
      "model_module": "@jupyter-widgets/base",
      "model_module_version": "2.0.0",
      "model_name": "LayoutModel",
      "state": {}
     },
     "e0ef557f06004e38af48c79fa258d1ef": {
      "model_module": "@jupyter-widgets/base",
      "model_module_version": "2.0.0",
      "model_name": "LayoutModel",
      "state": {}
     },
     "e3b19cb8a2d64040af014ca22f9bb69a": {
      "model_module": "@jupyter-widgets/controls",
      "model_module_version": "2.0.0",
      "model_name": "SliderStyleModel",
      "state": {
       "description_width": ""
      }
     },
     "f0d8db775b1b48f58b6ac9d209b2beaa": {
      "model_module": "@jupyter-widgets/base",
      "model_module_version": "2.0.0",
      "model_name": "LayoutModel",
      "state": {}
     },
     "f1317e10cc3248e288bbe0581896930a": {
      "model_module": "@jupyter-widgets/base",
      "model_module_version": "2.0.0",
      "model_name": "LayoutModel",
      "state": {}
     },
     "f9a6b11f98684d9a9e80651dbf03e51c": {
      "model_module": "@jupyter-widgets/controls",
      "model_module_version": "2.0.0",
      "model_name": "DescriptionStyleModel",
      "state": {
       "description_width": ""
      }
     }
    },
    "version_major": 2,
    "version_minor": 0
   }
  }
 },
 "nbformat": 4,
 "nbformat_minor": 5
}
