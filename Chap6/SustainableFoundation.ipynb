{
 "cells": [
  {
   "cell_type": "markdown",
   "id": "43837e1b-37a3-421a-9c6f-7fe6373a282b",
   "metadata": {},
   "source": [
    "# Chapter 6 Enginereing Sustainability: Sustainable Geotech"
   ]
  },
  {
   "cell_type": "markdown",
   "id": "bd4ef089-7216-40ec-85a1-07694100056c",
   "metadata": {},
   "source": [
    "1. [Introduction: Sustainable Geotech](#1.-Introduction)\n",
    "2. [Simulation: Sustainable Geotech](#2.-Simulation)\n",
    "3. [Self-Assessment](#3.-Self-Assessment)"
   ]
  },
  {
   "cell_type": "markdown",
   "id": "bd26ecbe-dbf9-43bb-8806-87c7b2da413f",
   "metadata": {},
   "source": [
    "## 1. Introduction"
   ]
  },
  {
   "cell_type": "markdown",
   "id": "e3921f57-ec89-4275-8617-b1eb6e530ced",
   "metadata": {},
   "source": [
    "### 🧱 Theoretical Background: Sustainable Geotechnical Engineering Calculator\n",
    "\n",
    "---\n",
    "\n",
    "### 📘 Overview\n",
    "\n",
    "This calculator estimates the environmental and structural performance of common foundation systems—**shallow footings**, **pile foundations**, and **retaining walls**—based on user-defined geometry and soil parameters. It integrates:\n",
    "\n",
    "- Engineering design models for bearing capacity, axial pile capacity, and earth pressure\n",
    "- Material quantity estimation for concrete, steel, and geosynthetics\n",
    "- Embodied carbon and life cycle cost calculations\n",
    "- A sustainability scoring system based on reuse, emissions, and cost\n",
    "\n",
    "---\n",
    "\n",
    "### 📐 Engineering Models\n",
    "\n",
    "### 1. **Shallow Foundation Bearing Capacity**  \n",
    "Based on Terzaghi’s equation for strip footings:\n",
    "\n",
    "$$\n",
    "q_{\\text{ult}} = c N_c + q N_q + 0.5 \\gamma B N_\\gamma\n",
    "$$\n",
    "\n",
    "- $( c $): soil cohesion (kPa)  \n",
    "- $( q $): overburden pressure (kPa)  \n",
    "- $( \\gamma $): unit weight of soil (kN/m³)  \n",
    "- $( B $): footing width (m)  \n",
    "- $( N_c, N_q, N_\\gamma $): bearing capacity factors (empirical)\n",
    "\n",
    "### 2. **Pile Foundation Axial Capacity**  \n",
    "Simplified model combining skin friction and end bearing:\n",
    "\n",
    "$$\n",
    "Q_{\\text{ult}} = \\alpha c \\pi L + c A_p N_c\n",
    "$$\n",
    "\n",
    "- $( \\alpha $): adhesion factor (typically 0.6)  \n",
    "- $( c $): cohesion  \n",
    "- $( L $): pile length (m)  \n",
    "- $( A_p $): pile cross-sectional area (m²)  \n",
    "- $( N_c $): bearing capacity factor (typically 9 for cohesive soils)\n",
    "\n",
    "### 3. **Retaining Wall Earth Pressure**  \n",
    "Using Rankine’s active earth pressure theory:\n",
    "\n",
    "$$\n",
    "P_a = \\frac{1}{2} \\gamma H^2 K_a\n",
    "\\quad \\text{where} \\quad\n",
    "K_a = \\frac{1 - \\sin(\\phi)}{1 + \\sin(\\phi)}\n",
    "$$\n",
    "\n",
    "- $( \\gamma $): unit weight of soil  \n",
    "- $( H $): wall height (m)  \n",
    "- $( \\phi $): internal friction angle (°)\n",
    "\n",
    "---\n",
    "\n",
    "### 🌍 Sustainability Metrics\n",
    "\n",
    "### 1. **Embodied Carbon**  \n",
    "Calculated using emission factors:\n",
    "\n",
    "| Material       | Emission Factor (kg CO₂/kg) |\n",
    "|----------------|-----------------------------|\n",
    "| Concrete       | 0.15                        |\n",
    "| Steel          | 1.85                        |\n",
    "| Geosynthetics  | 2.50                        |\n",
    "\n",
    "$$\n",
    "\\text{Carbon} = \\sum (\\text{mass}_i \\times \\text{emission factor}_i)\n",
    "$$\n",
    "\n",
    "### 2. **Life Cycle Cost**  \n",
    "Estimated using unit costs:\n",
    "\n",
    "| Material       | Cost ($/kg) |\n",
    "|----------------|-------------|\n",
    "| Concrete       | 0.10        |\n",
    "| Steel          | 1.20        |\n",
    "| Geosynthetics  | 2.00        |\n",
    "\n",
    "$$\n",
    "\\text{Cost} = \\sum (\\text{mass}_i \\times \\text{unit cost}_i)\n",
    "$$\n",
    "\n",
    "### 3. **Sustainability Score**  \n",
    "Empirical scoring system (0–10):\n",
    "\n",
    "- +2 if reuse ≥ 50%  \n",
    "- +2 if carbon < 500 kg CO₂  \n",
    "- +1 if cost < $1000\n",
    "\n",
    "---\n",
    "\n",
    "### 📊 Material Estimation\n",
    "\n",
    "Concrete volume is calculated from geometry:\n",
    "\n",
    "- Shallow footing: $( V = B \\times B \\times D $)  \n",
    "- Pile: $( V = A_p \\times L $)  \n",
    "- Retaining wall: $( V = H \\times t_{\\text{wall}} \\times L_{\\text{wall}} $)\n",
    "\n",
    "Steel mass is estimated using typical reinforcement ratios:\n",
    "\n",
    "| Foundation Type     | Steel Ratio (kg/m³) |\n",
    "|---------------------|---------------------|\n",
    "| Shallow Footing     | 100                 |\n",
    "| Pile Foundation     | 120                 |\n",
    "| Retaining Wall      | 150                 |\n",
    "\n",
    "---\n",
    "\n",
    "### 📚 References and Sources\n",
    "\n",
    "- Terzaghi, K. (1943). *Theoretical Soil Mechanics*. Wiley.\n",
    "- Das, B.M. (2010). *Principles of Foundation Engineering*. Cengage.\n",
    "- Rankine, W.J.M. (1857). *On the Stability of Retaining Walls*. Philosophical Transactions.\n",
    "- Hammond, G.P., & Jones, C.I. (2008). *Embodied energy and carbon in construction materials*. ICE Proceedings.\n",
    "- World Bank (2020). *Low Carbon Construction Materials: Cost and Emissions Benchmarks*.\n",
    "\n",
    "\n",
    "### 📥 Typical Input Ranges\n",
    "\n",
    "| Parameter            | Typical Range       |\n",
    "|----------------------|---------------------|\n",
    "| Cohesion $( c $)     | 0–100 kPa           |\n",
    "| Unit Weight $( \\gamma $) | 16–22 kN/m³     |\n",
    "| Friction Angle $( \\phi $) | 25–40°         |\n",
    "| Reuse Percentage     | 0–100%              |\n",
    "| Concrete Density     | 2400 kg/m³          |\n",
    "| Steel Reinforcement  | 100–150 kg/m³       |\n",
    "\n",
    "---"
   ]
  },
  {
   "cell_type": "markdown",
   "id": "82812048-1253-4109-98ed-fa49e171de7e",
   "metadata": {},
   "source": [
    "## 2. Simulation"
   ]
  },
  {
   "cell_type": "code",
   "execution_count": 16,
   "id": "4391a671-62bf-4315-a4d2-e53a534bcc41",
   "metadata": {},
   "outputs": [
    {
     "data": {
      "application/vnd.jupyter.widget-view+json": {
       "model_id": "c5a38f6df651499b926c1f6853cfe4d1",
       "version_major": 2,
       "version_minor": 0
      },
      "text/plain": [
       "Output()"
      ]
     },
     "metadata": {},
     "output_type": "display_data"
    }
   ],
   "source": [
    "import numpy as np\n",
    "import matplotlib.pyplot as plt\n",
    "import ipywidgets as widgets\n",
    "from IPython.display import display, clear_output\n",
    "\n",
    "# Emission and cost factors\n",
    "emission_factors = {\"concrete\": 0.15, \"steel\": 1.85, \"geosynthetic\": 2.5}\n",
    "cost_factors = {\"concrete\": 0.10, \"steel\": 1.20, \"geosynthetic\": 2.00}\n",
    "\n",
    "# Engineering models\n",
    "def bearing_capacity(c, gamma, B, q):\n",
    "    Nc, Nq, Ngamma = 5.14, 1.0, 0.0\n",
    "    return c * Nc + q * Nq + 0.5 * gamma * B * Ngamma\n",
    "\n",
    "def pile_capacity(c, Ap, L, alpha=0.6):\n",
    "    Qs = alpha * c * np.pi * L\n",
    "    Qp = c * Ap * 9\n",
    "    return Qs + Qp\n",
    "\n",
    "def earth_pressure(gamma, H, phi):\n",
    "    Ka = (1 - np.sin(np.radians(phi))) / (1 + np.sin(np.radians(phi)))\n",
    "    return 0.5 * gamma * H**2 * Ka\n",
    "\n",
    "def sustainability_score(reuse_pct, carbon, cost):\n",
    "    score = 5\n",
    "    if reuse_pct >= 50: score += 2\n",
    "    if carbon < 500: score += 2\n",
    "    if cost < 1000: score += 1\n",
    "    return max(min(score, 10), 0)\n",
    "\n",
    "# Material estimation\n",
    "def estimate_materials(foundation_type, B, D, Ap, L, H, t_wall, wall_length):\n",
    "    if foundation_type == \"Shallow\":\n",
    "        V_conc = B * B * D\n",
    "        steel_ratio = 100\n",
    "    elif foundation_type == \"Pile\":\n",
    "        V_conc = Ap * L\n",
    "        steel_ratio = 120\n",
    "    elif foundation_type == \"Retaining Wall\":\n",
    "        V_conc = H * t_wall * wall_length\n",
    "        steel_ratio = 150\n",
    "    else:\n",
    "        V_conc = 0\n",
    "        steel_ratio = 0\n",
    "    concrete_kg = V_conc * 2400\n",
    "    steel_kg = V_conc * steel_ratio\n",
    "    return concrete_kg, steel_kg\n",
    "\n",
    "# Widgets\n",
    "foundation_dropdown = widgets.Dropdown(\n",
    "    options=[\"Shallow\", \"Pile\", \"Retaining Wall\", \"Geosynthetic-Reinforced\"],\n",
    "    description='Type'\n",
    ")\n",
    "reuse_slider = widgets.FloatSlider(value=0, min=0, max=100, step=10, description='Reuse (%)')\n",
    "geo_slider = widgets.FloatSlider(value=200, min=0, max=1000, step=50, description='Geosynthetics (kg)')\n",
    "\n",
    "# Geometry\n",
    "B_slider = widgets.FloatSlider(value=2.0, min=0.5, max=5.0, step=0.1, description='Footing Width (m)')\n",
    "D_slider = widgets.FloatSlider(value=0.5, min=0.2, max=2.0, step=0.1, description='Footing Depth (m)')\n",
    "Ap_slider = widgets.FloatSlider(value=0.2, min=0.05, max=1.0, step=0.05, description='Pile Area (m²)')\n",
    "L_slider = widgets.FloatSlider(value=10, min=2, max=30, step=1, description='Pile Length (m)')\n",
    "H_slider = widgets.FloatSlider(value=4, min=1, max=10, step=0.5, description='Wall Height (m)')\n",
    "t_wall_slider = widgets.FloatSlider(value=0.3, min=0.2, max=1.0, step=0.05, description='Wall Thickness (m)')\n",
    "wall_length_slider = widgets.FloatSlider(value=6, min=2, max=20, step=1, description='Wall Length (m)')\n",
    "\n",
    "# Soil\n",
    "c_slider = widgets.FloatSlider(value=25, min=0, max=100, step=5, description='Cohesion (kPa)')\n",
    "gamma_slider = widgets.FloatSlider(value=18, min=10, max=22, step=1, description='Unit Weight (kN/m³)')\n",
    "q_slider = widgets.FloatSlider(value=30, min=0, max=100, step=5, description='Overburden (kPa)')\n",
    "phi_slider = widgets.FloatSlider(value=30, min=20, max=45, step=1, description='Friction Angle (°)')\n",
    "\n",
    "# Output and button\n",
    "output = widgets.Output()\n",
    "run_button = widgets.Button(description=\"Run Analysis\", button_style='success')\n",
    "\n",
    "# Update visible inputs\n",
    "def update_visibility(change=None):\n",
    "    with output:\n",
    "        clear_output()\n",
    "        base = [foundation_dropdown, reuse_slider, geo_slider]\n",
    "        if foundation_dropdown.value == \"Shallow\":\n",
    "            inputs = base + [B_slider, D_slider, c_slider, gamma_slider, q_slider]\n",
    "        elif foundation_dropdown.value == \"Pile\":\n",
    "            inputs = base + [Ap_slider, L_slider, c_slider]\n",
    "        elif foundation_dropdown.value == \"Retaining Wall\":\n",
    "            inputs = base + [H_slider, t_wall_slider, wall_length_slider, gamma_slider, phi_slider]\n",
    "        else:\n",
    "            inputs = base\n",
    "        display(widgets.VBox(inputs + [run_button]))\n",
    "\n",
    "# Compute results\n",
    "def compute_results(button=None):\n",
    "    with output:\n",
    "        clear_output(wait=True)\n",
    "        concrete_kg, steel_kg = estimate_materials(\n",
    "            foundation_dropdown.value,\n",
    "            B_slider.value, D_slider.value,\n",
    "            Ap_slider.value, L_slider.value,\n",
    "            H_slider.value, t_wall_slider.value,\n",
    "            wall_length_slider.value\n",
    "        )\n",
    "        concrete_eff = concrete_kg * (1 - reuse_slider.value / 100)\n",
    "        steel_eff = steel_kg * (1 - reuse_slider.value / 100)\n",
    "        geo_eff = geo_slider.value * (1 - reuse_slider.value / 100)\n",
    "\n",
    "        carbon = (concrete_eff * emission_factors[\"concrete\"] +\n",
    "                  steel_eff * emission_factors[\"steel\"] +\n",
    "                  geo_eff * emission_factors[\"geosynthetic\"])\n",
    "        cost = (concrete_eff * cost_factors[\"concrete\"] +\n",
    "                steel_eff * cost_factors[\"steel\"] +\n",
    "                geo_eff * cost_factors[\"geosynthetic\"])\n",
    "        score = sustainability_score(reuse_slider.value, carbon, cost)\n",
    "\n",
    "        if foundation_dropdown.value == \"Shallow\":\n",
    "            result = bearing_capacity(c_slider.value, gamma_slider.value, B_slider.value, q_slider.value)\n",
    "            label = \"Ultimate Bearing Capacity (kPa)\"\n",
    "        elif foundation_dropdown.value == \"Pile\":\n",
    "            result = pile_capacity(c_slider.value, Ap_slider.value, L_slider.value)\n",
    "            label = \"Axial Pile Capacity (kN)\"\n",
    "        elif foundation_dropdown.value == \"Retaining Wall\":\n",
    "            result = earth_pressure(gamma_slider.value, H_slider.value, phi_slider.value)\n",
    "            label = \"Active Earth Pressure (kN/m)\"\n",
    "        else:\n",
    "            result = \"N/A\"\n",
    "            label = \"Performance Metric\"\n",
    "        # 📘 Interpretation and Summary\n",
    "        print(\"\\n📘 Interpretation:\")\n",
    "\n",
    "        # Embodied carbon interpretation\n",
    "        if carbon < 500:\n",
    "            print(\"✅ Low embodied carbon — aligns with sustainable construction targets.\")\n",
    "        elif carbon < 800:\n",
    "            print(\"⚠️ Moderate embodied carbon — better than conventional but could improve.\")\n",
    "        else:\n",
    "            print(\"❌ High embodied carbon — consider reducing concrete or increasing reuse.\")\n",
    "\n",
    "        # Cost interpretation\n",
    "        if cost < 1000:\n",
    "            print(\"✅ Economical design — suitable for budget-sensitive projects.\")\n",
    "        elif cost < 1500:\n",
    "            print(\"⚠️ Moderate cost — acceptable for performance-driven applications.\")\n",
    "        else:\n",
    "            print(\"❌ High cost — consider optimizing material use or sourcing.\")\n",
    "\n",
    "        # Strength interpretation\n",
    "        if foundation_dropdown.value == \"Shallow\" and result < 150:\n",
    "            print(\"⚠️ Low bearing capacity — may not be suitable for heavy loads.\")\n",
    "        elif foundation_dropdown.value == \"Pile\" and result < 500:\n",
    "            print(\"⚠️ Low axial capacity — consider increasing pile length or diameter.\")\n",
    "        elif foundation_dropdown.value == \"Retaining Wall\" and result < 20:\n",
    "            print(\"⚠️ Low earth pressure — verify soil parameters.\")\n",
    "        else:\n",
    "            print(\"✅ Structural performance appears adequate for typical conditions.\")\n",
    "\n",
    "        # Sustainability score interpretation\n",
    "        if score >= 8:\n",
    "            print(\"✅ High sustainability score — excellent balance of cost, carbon, and reuse.\")\n",
    "        elif score >= 5:\n",
    "            print(\"⚠️ Moderate sustainability — room for improvement.\")\n",
    "        else:\n",
    "            print(\"❌ Low sustainability — redesign recommended.\")\n",
    "\n",
    "        # 📊 Summary Table\n",
    "        print(\"\\n📊 Summary Compared to Typical Values:\")\n",
    "        print(f\"{'Metric':<25}{'Your Design':>15}{'Typical Range':>20}\")\n",
    "        print(\"-\" * 60)\n",
    "        print(f\"{'Embodied Carbon (kg CO₂)':<25}{carbon:>15.1f}{'300–800':>20}\")\n",
    "        print(f\"{'Life Cycle Cost ($)':<25}{cost:>15.2f}{'800–1500':>20}\")\n",
    "        print(f\"{label:<25}{result if isinstance(result, str) else f'{result:.1f}':>15}{'Depends on type':>20}\")\n",
    "        print(f\"{'Sustainability Score':<25}{score:>15}{'5–10':>20}\")\n",
    "\n",
    "        \n",
    "        \n",
    "        print(f\"🏗️ Foundation Type: {foundation_dropdown.value}\")\n",
    "        print(f\"Concrete Volume: {concrete_kg / 2400:.2f} m³\")\n",
    "        print(f\"Concrete Used: {concrete_eff:.1f} kg\")\n",
    "        print(f\"Steel Used: {steel_eff:.1f} kg\")\n",
    "        print(f\"Geosynthetics Used: {geo_eff:.1f} kg\")\n",
    "        print(f\"Reuse Percentage: {reuse_slider.value}%\")\n",
    "        print(f\"\\n🌍 Embodied Carbon: {carbon:.2f} kg CO₂\")\n",
    "        print(f\"💰 Life Cycle Cost: ${cost:.2f}\")\n",
    "        print(f\"📏 {label}: {result if isinstance(result, str) else f'{result:.1f}'}\")\n",
    "        print(f\"🧠 Sustainability Score: {score}/10\")\n",
    "\n",
    "        categories = ['Carbon (kg CO₂)', 'Cost ($)', 'Sustainability']\n",
    "        values = [carbon, cost, score]\n",
    "        colors = ['gray', 'green', 'blue']\n",
    "\n",
    "        plt.figure(figsize=(7, 4))\n",
    "        plt.bar(categories, values, color=colors)\n",
    "        plt.title(\"Sustainable Geotechnical Metrics\")\n",
    "        plt.ylabel(\"Value\")\n",
    "        plt.grid(True)\n",
    "        plt.tight_layout()\n",
    "        plt.show()\n",
    "\n",
    "# Link triggers\n",
    "foundation_dropdown.observe(update_visibility, names='value')\n",
    "run_button.on_click(compute_results)\n",
    "\n",
    "# Initial display\n",
    "update_visibility()\n",
    "display(output)"
   ]
  },
  {
   "cell_type": "markdown",
   "id": "a8b8ff1e-4ed1-46e0-8be2-51064abb1c96",
   "metadata": {},
   "source": [
    "## 3. Self-Assessment"
   ]
  },
  {
   "cell_type": "markdown",
   "id": "44775440-1c45-4d89-8f68-60efe7dfa7c8",
   "metadata": {},
   "source": [
    "### 🧱 Reflective, Conceptual, and Quiz Questions: Sustainable Geotechnical Engineering Calculator\n",
    "\n",
    "---\n",
    "\n",
    "### 📘 Conceptual Questions\n",
    "\n",
    "These questions explore the engineering principles, sustainability metrics, and modeling logic behind the calculator.\n",
    "\n",
    "### Foundation Design\n",
    "- What are the key differences in load transfer mechanisms between shallow and deep foundations?\n",
    "- How does geometry (e.g., footing width, pile length, wall height) influence material demand and structural performance?\n",
    "- Why is bearing capacity estimated using Terzaghi’s equation for shallow foundations?\n",
    "\n",
    "### Material Estimation\n",
    "- How is concrete volume estimated from geometric inputs, and why is density used to convert to mass?\n",
    "- What assumptions are made about steel reinforcement ratios in different foundation types?\n",
    "- How does material reuse affect both embodied carbon and cost?\n",
    "\n",
    "### Sustainability Metrics\n",
    "- Why is embodied carbon a critical metric in geotechnical design?\n",
    "- How does the sustainability score balance environmental and economic performance?\n",
    "- What are the limitations of using fixed emission and cost factors across diverse project contexts?\n",
    "\n",
    "---\n",
    "\n",
    "### 🔍 Reflective Questions\n",
    "\n",
    "These questions encourage critical thinking and application to real-world design decisions.\n",
    "\n",
    "- If your project site has soft clay and high water table, which foundation type would you choose and why?\n",
    "- How would your design change if the goal was to minimize embodied carbon rather than maximize bearing capacity?\n",
    "- What trade-offs exist between increasing wall thickness for strength and reducing material use for sustainability?\n",
    "- How could this model be extended to include excavation impacts or construction equipment emissions?\n",
    "- What policy or procurement strategies could incentivize reuse of foundation materials?\n",
    "\n",
    "---\n",
    "\n",
    "### ❓ Quiz Questions\n",
    "\n",
    "### Multiple Choice\n",
    "\n",
    "1. **Which foundation type typically requires the greatest volume of concrete per unit area?**  \n",
    "   A. Shallow footing  \n",
    "   B. Pile foundation  \n",
    "   C. Retaining wall  \n",
    "   D. Geosynthetic-reinforced soil  \n",
    "   **Answer:** B\n",
    "\n",
    "2. **What is the primary factor influencing axial capacity of a pile in cohesive soil?**  \n",
    "   A. Pile diameter  \n",
    "   B. Soil friction angle  \n",
    "   C. Cohesion and pile length  \n",
    "   D. Wall height  \n",
    "   **Answer:** C\n",
    "\n",
    "3. **Which parameter most directly affects active earth pressure on a retaining wall?**  \n",
    "   A. Wall thickness  \n",
    "   B. Soil cohesion  \n",
    "   C. Friction angle and wall height  \n",
    "   D. Pile area  \n",
    "   **Answer:** C\n",
    "\n",
    "### True/False\n",
    "\n",
    "4. **Increasing reuse percentage reduces both embodied carbon and material cost.**  \n",
    "   **Answer:** True\n",
    "\n",
    "5. **The sustainability score increases if the design uses more concrete.**  \n",
    "   **Answer:** False\n",
    "\n",
    "6. **Steel reinforcement is assumed to scale linearly with concrete volume in this model.**  \n",
    "   **Answer:** True\n",
    "\n",
    "### Short Answer\n",
    "\n",
    "7. **Explain how the calculator estimates concrete mass from geometric inputs.**  \n",
    "   *Answer:* It calculates volume based on foundation geometry and multiplies by concrete density (2400 kg/m³) to estimate mass.\n",
    "\n",
    "8. **What are the environmental benefits of using geosynthetics in foundation systems?**  \n",
    "   *Answer:* Geosynthetics can reduce the need for bulk materials, improve soil performance, and enable reuse or modular design, lowering overall carbon footprint.\n",
    "\n",
    "---"
   ]
  }
 ],
 "metadata": {
  "kernelspec": {
   "display_name": "Python [conda env:base] *",
   "language": "python",
   "name": "conda-base-py"
  },
  "language_info": {
   "codemirror_mode": {
    "name": "ipython",
    "version": 3
   },
   "file_extension": ".py",
   "mimetype": "text/x-python",
   "name": "python",
   "nbconvert_exporter": "python",
   "pygments_lexer": "ipython3",
   "version": "3.12.7"
  },
  "widgets": {
   "application/vnd.jupyter.widget-state+json": {
    "state": {
     "001144bf23d6472c9c76277d98801495": {
      "model_module": "@jupyter-widgets/base",
      "model_module_version": "2.0.0",
      "model_name": "LayoutModel",
      "state": {}
     },
     "0024e13e63ee4c25adc4bb0db754d041": {
      "model_module": "@jupyter-widgets/controls",
      "model_module_version": "2.0.0",
      "model_name": "SliderStyleModel",
      "state": {
       "description_width": ""
      }
     },
     "00450fb7f8e3438081fcaf570d0ad294": {
      "model_module": "@jupyter-widgets/controls",
      "model_module_version": "2.0.0",
      "model_name": "SliderStyleModel",
      "state": {
       "description_width": ""
      }
     },
     "00e37787a82f48d99d8850664abf3e4e": {
      "model_module": "@jupyter-widgets/controls",
      "model_module_version": "2.0.0",
      "model_name": "SliderStyleModel",
      "state": {
       "description_width": ""
      }
     },
     "01a466f79e324f48acc13955aff18dc3": {
      "model_module": "@jupyter-widgets/base",
      "model_module_version": "2.0.0",
      "model_name": "LayoutModel",
      "state": {}
     },
     "021992b113cd4b59a844254cbf45bcdb": {
      "model_module": "@jupyter-widgets/controls",
      "model_module_version": "2.0.0",
      "model_name": "DescriptionStyleModel",
      "state": {
       "description_width": ""
      }
     },
     "0274fa15e57b40768b0b7f65e5ac96bb": {
      "model_module": "@jupyter-widgets/controls",
      "model_module_version": "2.0.0",
      "model_name": "FloatSliderModel",
      "state": {
       "behavior": "drag-tap",
       "description": "Footing Width (m)",
       "layout": "IPY_MODEL_611cf96fbc224531a7a1d9c3e37b6396",
       "max": 5,
       "min": 0.5,
       "step": 0.1,
       "style": "IPY_MODEL_fa52264ae5af4e119932985da5516c8b",
       "value": 2
      }
     },
     "02865e4a41584f098eb2ec3e23246fe9": {
      "model_module": "@jupyter-widgets/base",
      "model_module_version": "2.0.0",
      "model_name": "LayoutModel",
      "state": {}
     },
     "034b8f20e77a467688a7f2b0581cb60e": {
      "model_module": "@jupyter-widgets/controls",
      "model_module_version": "2.0.0",
      "model_name": "SliderStyleModel",
      "state": {
       "description_width": ""
      }
     },
     "03ea377c81774667886cfc57b2df81c0": {
      "model_module": "@jupyter-widgets/controls",
      "model_module_version": "2.0.0",
      "model_name": "FloatSliderModel",
      "state": {
       "behavior": "drag-tap",
       "description": "Footing Width (m)",
       "layout": "IPY_MODEL_e05ef03b709d4944a3b60613765643ac",
       "max": 5,
       "min": 0.5,
       "step": 0.1,
       "style": "IPY_MODEL_c8c6d89f74e34038b32c0a397d3bc27f",
       "value": 2
      }
     },
     "03ec0280e9ca43c8b44a3c44aa081a40": {
      "model_module": "@jupyter-widgets/base",
      "model_module_version": "2.0.0",
      "model_name": "LayoutModel",
      "state": {}
     },
     "0425bd082b084937b333827ec20b4cfe": {
      "model_module": "@jupyter-widgets/controls",
      "model_module_version": "2.0.0",
      "model_name": "SliderStyleModel",
      "state": {
       "description_width": ""
      }
     },
     "0439af28cee340d8b0f1db7160b766d4": {
      "model_module": "@jupyter-widgets/base",
      "model_module_version": "2.0.0",
      "model_name": "LayoutModel",
      "state": {}
     },
     "046e4d99f7304a069e79c8677613d68b": {
      "model_module": "@jupyter-widgets/base",
      "model_module_version": "2.0.0",
      "model_name": "LayoutModel",
      "state": {}
     },
     "0485a290c3df4318ae351f4351c1e482": {
      "model_module": "@jupyter-widgets/controls",
      "model_module_version": "2.0.0",
      "model_name": "SliderStyleModel",
      "state": {
       "description_width": ""
      }
     },
     "0497f2afd829434cb0e04c96f0b254d9": {
      "model_module": "@jupyter-widgets/controls",
      "model_module_version": "2.0.0",
      "model_name": "ButtonModel",
      "state": {
       "button_style": "success",
       "description": "Run Analysis",
       "layout": "IPY_MODEL_310b499e85c14576989001354ade890e",
       "style": "IPY_MODEL_cc3773beb7e947ebbe9e378ee1a93fe6",
       "tooltip": null
      }
     },
     "051316ea35284e02ad1c4ad5b50b4344": {
      "model_module": "@jupyter-widgets/base",
      "model_module_version": "2.0.0",
      "model_name": "LayoutModel",
      "state": {}
     },
     "0580d0fab679455a930c39948864db02": {
      "model_module": "@jupyter-widgets/base",
      "model_module_version": "2.0.0",
      "model_name": "LayoutModel",
      "state": {}
     },
     "0593269885bc43f5aa116746e01e84ca": {
      "model_module": "@jupyter-widgets/controls",
      "model_module_version": "2.0.0",
      "model_name": "FloatSliderModel",
      "state": {
       "behavior": "drag-tap",
       "description": "Geosynthetics (kg)",
       "layout": "IPY_MODEL_0746d89faa2f4075aaf484dc99898c50",
       "max": 1000,
       "step": 50,
       "style": "IPY_MODEL_beda8651c7624eaeb45b8cb500b267b4",
       "value": 200
      }
     },
     "06ba5b8bdaab49b4bd219e0a81868e74": {
      "model_module": "@jupyter-widgets/controls",
      "model_module_version": "2.0.0",
      "model_name": "FloatSliderModel",
      "state": {
       "behavior": "drag-tap",
       "description": "Wall Length (m)",
       "layout": "IPY_MODEL_0580d0fab679455a930c39948864db02",
       "max": 20,
       "min": 2,
       "style": "IPY_MODEL_88dc2eb036b74dbf90a76b179aa0901e",
       "value": 6
      }
     },
     "0746d89faa2f4075aaf484dc99898c50": {
      "model_module": "@jupyter-widgets/base",
      "model_module_version": "2.0.0",
      "model_name": "LayoutModel",
      "state": {}
     },
     "08293eb25a624f8396a28ae7181d3fd6": {
      "model_module": "@jupyter-widgets/base",
      "model_module_version": "2.0.0",
      "model_name": "LayoutModel",
      "state": {}
     },
     "0895b2e8613347e2ab6573ae9ec08d28": {
      "model_module": "@jupyter-widgets/controls",
      "model_module_version": "2.0.0",
      "model_name": "SliderStyleModel",
      "state": {
       "description_width": ""
      }
     },
     "08b63f10c7a24491bd64c588e9178224": {
      "model_module": "@jupyter-widgets/controls",
      "model_module_version": "2.0.0",
      "model_name": "SliderStyleModel",
      "state": {
       "description_width": ""
      }
     },
     "09c165e0a406438bb9ed2f152563a2a0": {
      "model_module": "@jupyter-widgets/controls",
      "model_module_version": "2.0.0",
      "model_name": "DropdownModel",
      "state": {
       "_options_labels": [
        "Shallow",
        "Pile",
        "Retaining Wall",
        "Geosynthetic-Reinforced"
       ],
       "description": "Type",
       "index": 0,
       "layout": "IPY_MODEL_16d766b15e2040fbaba02b46181d89be",
       "style": "IPY_MODEL_021992b113cd4b59a844254cbf45bcdb"
      }
     },
     "09d6922baab2476daee3221596156559": {
      "model_module": "@jupyter-widgets/controls",
      "model_module_version": "2.0.0",
      "model_name": "SliderStyleModel",
      "state": {
       "description_width": ""
      }
     },
     "0a1837ca32b54ecb9e6365d2faf34ef4": {
      "model_module": "@jupyter-widgets/controls",
      "model_module_version": "2.0.0",
      "model_name": "VBoxModel",
      "state": {
       "_dom_classes": [
        "widget-interact"
       ],
       "children": [
        "IPY_MODEL_f58426e0251f4543a319c3ca4f56b959",
        "IPY_MODEL_51afcd834eeb4dd38ee3c0a0cbd99a0a",
        "IPY_MODEL_47f2ad78ffd443b88637ebdc73d04691",
        "IPY_MODEL_25cd0f7bf8e946ef8dec15d0de08f2ce",
        "IPY_MODEL_a98ae56e6bb64d068ceb52f94cce7619",
        "IPY_MODEL_3319a00373bc45ba891c65a2f4586826",
        "IPY_MODEL_a2f77e5458d6463eafe52527101ab82f",
        "IPY_MODEL_03ea377c81774667886cfc57b2df81c0",
        "IPY_MODEL_a11b5f9949fa42aabb7922b695c90ddb",
        "IPY_MODEL_9e34952232634d90bbc3400feff1c4e3",
        "IPY_MODEL_d935e601da32415f8f94b0f5e8dc0e6d",
        "IPY_MODEL_6cbaa32bd3b54f7cafb4c85da32fef93",
        "IPY_MODEL_c2fc967cdc244225bd65eddb96c8d149",
        "IPY_MODEL_3770475a96184a2f8cd142894fd6f536"
       ],
       "layout": "IPY_MODEL_65345ad48cd04716b540b3a3f8319242"
      }
     },
     "0b1e2058ffef410f975427aa373cfd5f": {
      "model_module": "@jupyter-widgets/controls",
      "model_module_version": "2.0.0",
      "model_name": "DescriptionStyleModel",
      "state": {
       "description_width": ""
      }
     },
     "0baf8f9a86624a0a913bc3631d34d515": {
      "model_module": "@jupyter-widgets/controls",
      "model_module_version": "2.0.0",
      "model_name": "FloatSliderModel",
      "state": {
       "behavior": "drag-tap",
       "description": "Wall Height (m)",
       "layout": "IPY_MODEL_17bc442a6f334c42a036826cb2112adc",
       "max": 10,
       "min": 1,
       "step": 0.5,
       "style": "IPY_MODEL_71383d5b71024be5a5c21516c83572b5",
       "value": 3.9999999999999996
      }
     },
     "0bb0e6ffc8a44bcfb98a463f517be53e": {
      "model_module": "@jupyter-widgets/base",
      "model_module_version": "2.0.0",
      "model_name": "LayoutModel",
      "state": {}
     },
     "0c7c4a64f3cd401d82eb8b112cd9046e": {
      "model_module": "@jupyter-widgets/base",
      "model_module_version": "2.0.0",
      "model_name": "LayoutModel",
      "state": {}
     },
     "0ec3903531b74d1684e36af1c4b3e229": {
      "model_module": "@jupyter-widgets/controls",
      "model_module_version": "2.0.0",
      "model_name": "SliderStyleModel",
      "state": {
       "description_width": ""
      }
     },
     "0f2613c0fdaf4b80aa5b09af018dc98c": {
      "model_module": "@jupyter-widgets/controls",
      "model_module_version": "2.0.0",
      "model_name": "FloatSliderModel",
      "state": {
       "behavior": "drag-tap",
       "description": "Friction Angle (°)",
       "layout": "IPY_MODEL_6712469221bf49ee928f2b9ce591ccfb",
       "max": 45,
       "min": 20,
       "style": "IPY_MODEL_79384cd6653c42ae80d55384fccbef76",
       "value": 30
      }
     },
     "0fbea60b356744828282ae8abb10c0e8": {
      "model_module": "@jupyter-widgets/controls",
      "model_module_version": "2.0.0",
      "model_name": "SliderStyleModel",
      "state": {
       "description_width": ""
      }
     },
     "0fc7a4cc17ca493a8468a77fd7a33ae1": {
      "model_module": "@jupyter-widgets/controls",
      "model_module_version": "2.0.0",
      "model_name": "FloatSliderModel",
      "state": {
       "behavior": "drag-tap",
       "description": "Footing Depth (m)",
       "layout": "IPY_MODEL_f084d7550ea947f9903195a152a3c80c",
       "max": 2,
       "min": 0.2,
       "step": 0.1,
       "style": "IPY_MODEL_80c39be40da348a88adb77f0f019c8db",
       "value": 0.5
      }
     },
     "109c51867cc54dc686438f4407eec0a7": {
      "model_module": "@jupyter-widgets/base",
      "model_module_version": "2.0.0",
      "model_name": "LayoutModel",
      "state": {}
     },
     "13106e5aed4448a6848aee69d3525fe4": {
      "model_module": "@jupyter-widgets/base",
      "model_module_version": "2.0.0",
      "model_name": "LayoutModel",
      "state": {}
     },
     "133e3c0b4bd345688bc36c51ca16719a": {
      "model_module": "@jupyter-widgets/output",
      "model_module_version": "1.0.0",
      "model_name": "OutputModel",
      "state": {
       "layout": "IPY_MODEL_be2acaca27694db8ada2593c2f2fcf42",
       "outputs": [
        {
         "name": "stdout",
         "output_type": "stream",
         "text": "🏗️ Foundation Type: Retaining Wall\nConcrete Used: 5000.0 kg\nSteel Used: 1000.0 kg\nGeosynthetics Used: 200.0 kg\nReuse Percentage: 0.0%\n\n🌍 Embodied Carbon: 3100.00 kg CO₂\n💰 Life Cycle Cost: $2100.00\n📏 Active Earth Pressure (kN/m): 48.0\n🧠 Sustainability Score: 5/10\n"
        },
        {
         "data": {
          "image/png": "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",
          "text/plain": "<Figure size 700x400 with 1 Axes>"
         },
         "metadata": {},
         "output_type": "display_data"
        }
       ]
      }
     },
     "13fa59777a7d4939b01fa8ea289f77f3": {
      "model_module": "@jupyter-widgets/controls",
      "model_module_version": "2.0.0",
      "model_name": "FloatSliderModel",
      "state": {
       "behavior": "drag-tap",
       "description": "Friction Angle (°)",
       "layout": "IPY_MODEL_595a467632284a3f8feab4c4b77e9564",
       "max": 45,
       "min": 20,
       "style": "IPY_MODEL_d6c1e790da384847ad5c2a7e280f33cd",
       "value": 30
      }
     },
     "14984a65018e4928bb46d2db974da3b9": {
      "model_module": "@jupyter-widgets/controls",
      "model_module_version": "2.0.0",
      "model_name": "FloatSliderModel",
      "state": {
       "behavior": "drag-tap",
       "description": "Unit Weight (kN/m³)",
       "layout": "IPY_MODEL_fd4d698d76294830add0e7003f5a6eb7",
       "max": 22,
       "min": 10,
       "style": "IPY_MODEL_1713d9456cd14a549911fbfbd878c9c3",
       "value": 18
      }
     },
     "15855336342d4206b6c8ea12164f1f2a": {
      "model_module": "@jupyter-widgets/controls",
      "model_module_version": "2.0.0",
      "model_name": "FloatSliderModel",
      "state": {
       "behavior": "drag-tap",
       "description": "Pile Length (m)",
       "layout": "IPY_MODEL_7e25043d625c4c6aa162bed5f7f922ec",
       "max": 30,
       "min": 2,
       "style": "IPY_MODEL_ce46b761ce5a430581203145979d01ab",
       "value": 10
      }
     },
     "15c3eb18cb3d4d7088c99e19804ddbf4": {
      "model_module": "@jupyter-widgets/controls",
      "model_module_version": "2.0.0",
      "model_name": "FloatSliderModel",
      "state": {
       "behavior": "drag-tap",
       "description": "Friction Angle (°)",
       "layout": "IPY_MODEL_c477e1e7ad70433e80a329fa95816f6e",
       "max": 45,
       "min": 20,
       "style": "IPY_MODEL_55985585124e4a5a852fbe23fafdfb53",
       "value": 30
      }
     },
     "1610e9984f0e4022a286e8dc4d146433": {
      "model_module": "@jupyter-widgets/controls",
      "model_module_version": "2.0.0",
      "model_name": "SliderStyleModel",
      "state": {
       "description_width": ""
      }
     },
     "16ae25d246dc4135a8536927ba43d719": {
      "model_module": "@jupyter-widgets/controls",
      "model_module_version": "2.0.0",
      "model_name": "FloatSliderModel",
      "state": {
       "behavior": "drag-tap",
       "description": "Footing Width (m)",
       "layout": "IPY_MODEL_3b6e6092fc864917b58be913369d13b7",
       "max": 5,
       "min": 0.5,
       "step": 0.1,
       "style": "IPY_MODEL_9b42a7c9c7014eee9f83ad5bff959e20",
       "value": 2
      }
     },
     "16b0da5035b24c53b736370911c0049c": {
      "model_module": "@jupyter-widgets/controls",
      "model_module_version": "2.0.0",
      "model_name": "DropdownModel",
      "state": {
       "_options_labels": [
        "Shallow",
        "Pile",
        "Retaining Wall",
        "Geosynthetic-Reinforced"
       ],
       "description": "Type",
       "index": 2,
       "layout": "IPY_MODEL_d42cb81757de41bc88151c0d0d8e79e7",
       "style": "IPY_MODEL_f96901f08430416b908e744fd4b7d843"
      }
     },
     "16c5fcfd7ca949b5935f36ada3bd10ac": {
      "model_module": "@jupyter-widgets/controls",
      "model_module_version": "2.0.0",
      "model_name": "FloatSliderModel",
      "state": {
       "behavior": "drag-tap",
       "description": "Wall Height (m)",
       "layout": "IPY_MODEL_437e67f613ae415db5c7be3918c65c89",
       "max": 10,
       "min": 1,
       "step": 0.5,
       "style": "IPY_MODEL_6fcd2ad4e50343559e5e7b3e69d2b2bd",
       "value": 3.9999999999999996
      }
     },
     "16d766b15e2040fbaba02b46181d89be": {
      "model_module": "@jupyter-widgets/base",
      "model_module_version": "2.0.0",
      "model_name": "LayoutModel",
      "state": {}
     },
     "16ecae1c5c1c4b4f807b64e843b40725": {
      "model_module": "@jupyter-widgets/base",
      "model_module_version": "2.0.0",
      "model_name": "LayoutModel",
      "state": {}
     },
     "1700c6ea55844efe8bf3df0abdea52bf": {
      "model_module": "@jupyter-widgets/controls",
      "model_module_version": "2.0.0",
      "model_name": "DescriptionStyleModel",
      "state": {
       "description_width": ""
      }
     },
     "1713d9456cd14a549911fbfbd878c9c3": {
      "model_module": "@jupyter-widgets/controls",
      "model_module_version": "2.0.0",
      "model_name": "SliderStyleModel",
      "state": {
       "description_width": ""
      }
     },
     "1747e609ecd14bf3aa1fe1aafd76576c": {
      "model_module": "@jupyter-widgets/controls",
      "model_module_version": "2.0.0",
      "model_name": "FloatSliderModel",
      "state": {
       "behavior": "drag-tap",
       "description": "Unit Weight (kN/m³)",
       "layout": "IPY_MODEL_884c1d6c731e461b90800851dca4b59c",
       "max": 22,
       "min": 10,
       "style": "IPY_MODEL_82b4a7ca5f264a64897c95cc49e2259f",
       "value": 18
      }
     },
     "17bc442a6f334c42a036826cb2112adc": {
      "model_module": "@jupyter-widgets/base",
      "model_module_version": "2.0.0",
      "model_name": "LayoutModel",
      "state": {}
     },
     "17ff246207c5497e84468ea8e76cb389": {
      "model_module": "@jupyter-widgets/base",
      "model_module_version": "2.0.0",
      "model_name": "LayoutModel",
      "state": {}
     },
     "189ac4719f984983943209e200c52409": {
      "model_module": "@jupyter-widgets/base",
      "model_module_version": "2.0.0",
      "model_name": "LayoutModel",
      "state": {}
     },
     "18c748187a3546318fb0c973b01e09bb": {
      "model_module": "@jupyter-widgets/base",
      "model_module_version": "2.0.0",
      "model_name": "LayoutModel",
      "state": {}
     },
     "18f0a6549b334eb788b6ccbb159dc18a": {
      "model_module": "@jupyter-widgets/controls",
      "model_module_version": "2.0.0",
      "model_name": "SliderStyleModel",
      "state": {
       "description_width": ""
      }
     },
     "190ac9e79e2c45bdb6fbe2aa3d396c44": {
      "model_module": "@jupyter-widgets/base",
      "model_module_version": "2.0.0",
      "model_name": "LayoutModel",
      "state": {}
     },
     "19a1488974e242d7b72aaa2c848f2d43": {
      "model_module": "@jupyter-widgets/controls",
      "model_module_version": "2.0.0",
      "model_name": "FloatSliderModel",
      "state": {
       "behavior": "drag-tap",
       "description": "Overburden (kPa)",
       "layout": "IPY_MODEL_51e3dc37694b4521aa964378774639fd",
       "step": 5,
       "style": "IPY_MODEL_cc31e21c593f4254a92295e1e0d091c8",
       "value": 30
      }
     },
     "19f94c2164c34301a603e128b5a9440a": {
      "model_module": "@jupyter-widgets/base",
      "model_module_version": "2.0.0",
      "model_name": "LayoutModel",
      "state": {}
     },
     "1a740f1bb64e4aa78c9fcf49345c1ee0": {
      "model_module": "@jupyter-widgets/base",
      "model_module_version": "2.0.0",
      "model_name": "LayoutModel",
      "state": {}
     },
     "1b279b6f35054418bf56181b6dff5aac": {
      "model_module": "@jupyter-widgets/base",
      "model_module_version": "2.0.0",
      "model_name": "LayoutModel",
      "state": {}
     },
     "1be95a208ff84155b296a59dea4965c1": {
      "model_module": "@jupyter-widgets/controls",
      "model_module_version": "2.0.0",
      "model_name": "FloatSliderModel",
      "state": {
       "behavior": "drag-tap",
       "description": "Wall Thickness (m)",
       "layout": "IPY_MODEL_345ea87d7c53427fa472d79952768f17",
       "max": 1,
       "min": 0.2,
       "step": 0.05,
       "style": "IPY_MODEL_6a13a49a30a143b5ab0a73db1002b281",
       "value": 0.3
      }
     },
     "1c7665212466493aa98226d25f8726bf": {
      "model_module": "@jupyter-widgets/base",
      "model_module_version": "2.0.0",
      "model_name": "LayoutModel",
      "state": {}
     },
     "1c8641b5bbb043d7bc3388444b03a17a": {
      "model_module": "@jupyter-widgets/base",
      "model_module_version": "2.0.0",
      "model_name": "LayoutModel",
      "state": {}
     },
     "1cb43052229245fb9823103ce2a20bbc": {
      "model_module": "@jupyter-widgets/controls",
      "model_module_version": "2.0.0",
      "model_name": "SliderStyleModel",
      "state": {
       "description_width": ""
      }
     },
     "1d58912da68840dd938e59a489f04e41": {
      "model_module": "@jupyter-widgets/controls",
      "model_module_version": "2.0.0",
      "model_name": "FloatSliderModel",
      "state": {
       "behavior": "drag-tap",
       "description": "Overburden (kPa)",
       "layout": "IPY_MODEL_72d8539b9ce64f29bf781d69857a0dcf",
       "step": 5,
       "style": "IPY_MODEL_b392610fe7e14e80a0db2b6f13b1b9cd",
       "value": 30
      }
     },
     "1e97f2a547b3415c91f95e1d54111184": {
      "model_module": "@jupyter-widgets/controls",
      "model_module_version": "2.0.0",
      "model_name": "FloatSliderModel",
      "state": {
       "behavior": "drag-tap",
       "description": "Reuse (%)",
       "layout": "IPY_MODEL_fee04e94edc04c4c986b7d425bd688fd",
       "step": 10,
       "style": "IPY_MODEL_c1567d67ea944e9092f21650b9033d4e"
      }
     },
     "1f9513dc1da5477e95de5684835a69cd": {
      "model_module": "@jupyter-widgets/controls",
      "model_module_version": "2.0.0",
      "model_name": "FloatSliderModel",
      "state": {
       "behavior": "drag-tap",
       "description": "Footing Width (m)",
       "layout": "IPY_MODEL_700580f7af964628b73b4c84e3a18988",
       "max": 5,
       "min": 0.5,
       "step": 0.1,
       "style": "IPY_MODEL_83e2ae7936f04af291b8c159e891dbe3",
       "value": 2
      }
     },
     "1fbd20472b2e46dd82917b2daa7a1ef5": {
      "model_module": "@jupyter-widgets/controls",
      "model_module_version": "2.0.0",
      "model_name": "SliderStyleModel",
      "state": {
       "description_width": ""
      }
     },
     "1fc1ccb6fd07431b981971df3650a795": {
      "model_module": "@jupyter-widgets/base",
      "model_module_version": "2.0.0",
      "model_name": "LayoutModel",
      "state": {}
     },
     "1ff19193b079433998888339309a461e": {
      "model_module": "@jupyter-widgets/controls",
      "model_module_version": "2.0.0",
      "model_name": "FloatSliderModel",
      "state": {
       "behavior": "drag-tap",
       "description": "Pile Length (m)",
       "layout": "IPY_MODEL_1b279b6f35054418bf56181b6dff5aac",
       "max": 30,
       "min": 2,
       "style": "IPY_MODEL_f813cb9d78cf46d2a806385a06edcfa8",
       "value": 12
      }
     },
     "2054a17dab17484a9f0fec8c573179b9": {
      "model_module": "@jupyter-widgets/controls",
      "model_module_version": "2.0.0",
      "model_name": "SliderStyleModel",
      "state": {
       "description_width": ""
      }
     },
     "20bb2a17727e4bfca701cdc1f5dcb005": {
      "model_module": "@jupyter-widgets/controls",
      "model_module_version": "2.0.0",
      "model_name": "FloatSliderModel",
      "state": {
       "behavior": "drag-tap",
       "description": "Steel (kg)",
       "layout": "IPY_MODEL_3bcdae1f2d834ce982d8021e8c524a3c",
       "max": 5000,
       "step": 100,
       "style": "IPY_MODEL_4549da1867eb40e7b76484d992e54c1d",
       "value": 1000
      }
     },
     "21047c2eb53444669fe716bf4f1e971a": {
      "model_module": "@jupyter-widgets/controls",
      "model_module_version": "2.0.0",
      "model_name": "VBoxModel",
      "state": {
       "children": [
        "IPY_MODEL_cf0bf63e1f394096a1ecfed308acf2aa",
        "IPY_MODEL_300fb9580f8a47b3a5d448589e1ac11e",
        "IPY_MODEL_9373caafbb98498e827cb59343d7c1dc",
        "IPY_MODEL_61e3ca45b928494784c6c2aded898a6d",
        "IPY_MODEL_2980944eba9b4b54860c55f0c5c7970f",
        "IPY_MODEL_528d8e53a30a46518e3dc3c053f19251",
        "IPY_MODEL_e543db3a0897484391491c8a50a79f16"
       ],
       "layout": "IPY_MODEL_4aa1a46760d643cf81508b4244018515"
      }
     },
     "216f51d2bcfa4e7eac90f28ec6270b0b": {
      "model_module": "@jupyter-widgets/controls",
      "model_module_version": "2.0.0",
      "model_name": "FloatSliderModel",
      "state": {
       "behavior": "drag-tap",
       "description": "Unit Weight (kN/m³)",
       "layout": "IPY_MODEL_501756c9e29548bfb29041dc72b8a31c",
       "max": 22,
       "min": 10,
       "style": "IPY_MODEL_b3ba308db3e64170b93d1632ee103600",
       "value": 18
      }
     },
     "217e717d064646389b0fa9a041ed38d4": {
      "model_module": "@jupyter-widgets/base",
      "model_module_version": "2.0.0",
      "model_name": "LayoutModel",
      "state": {}
     },
     "22ef20db5c5f4efb80360bba2470de71": {
      "model_module": "@jupyter-widgets/base",
      "model_module_version": "2.0.0",
      "model_name": "LayoutModel",
      "state": {}
     },
     "2371d711a1814b6bb063f6a66d7ceac6": {
      "model_module": "@jupyter-widgets/controls",
      "model_module_version": "2.0.0",
      "model_name": "FloatSliderModel",
      "state": {
       "behavior": "drag-tap",
       "description": "Reuse (%)",
       "layout": "IPY_MODEL_422d4ee244fd48d6aa51098258ee55b2",
       "step": 10,
       "style": "IPY_MODEL_8f9c5a23029c444ebd2cd48539a76a50"
      }
     },
     "23fad6a0eae4450988344186fc65a66b": {
      "model_module": "@jupyter-widgets/base",
      "model_module_version": "2.0.0",
      "model_name": "LayoutModel",
      "state": {}
     },
     "24007245723e429fb2caaa05e2c66818": {
      "model_module": "@jupyter-widgets/controls",
      "model_module_version": "2.0.0",
      "model_name": "SliderStyleModel",
      "state": {
       "description_width": ""
      }
     },
     "2501615ed7f1446f960af5b906512c3a": {
      "model_module": "@jupyter-widgets/controls",
      "model_module_version": "2.0.0",
      "model_name": "FloatSliderModel",
      "state": {
       "behavior": "drag-tap",
       "description": "Wall Thickness (m)",
       "layout": "IPY_MODEL_75d3cecffb924112b3aa1d657cb805d5",
       "max": 1,
       "min": 0.2,
       "step": 0.05,
       "style": "IPY_MODEL_acea1fcbc6cc4b0c885c3aaad46ffb63",
       "value": 0.3
      }
     },
     "25314c16352d4c718e7fa496ded7592d": {
      "model_module": "@jupyter-widgets/base",
      "model_module_version": "2.0.0",
      "model_name": "LayoutModel",
      "state": {}
     },
     "25c18da0d0c74349b632b8d30d4f0e2a": {
      "model_module": "@jupyter-widgets/base",
      "model_module_version": "2.0.0",
      "model_name": "LayoutModel",
      "state": {}
     },
     "25cd0f7bf8e946ef8dec15d0de08f2ce": {
      "model_module": "@jupyter-widgets/controls",
      "model_module_version": "2.0.0",
      "model_name": "FloatSliderModel",
      "state": {
       "behavior": "drag-tap",
       "description": "Geosynthetics (kg)",
       "layout": "IPY_MODEL_190ac9e79e2c45bdb6fbe2aa3d396c44",
       "max": 1000,
       "step": 50,
       "style": "IPY_MODEL_2c92871e53af42cfb8b7724463313347",
       "value": 200
      }
     },
     "25ef1146a8eb4e7dbcd9a6d110331a61": {
      "model_module": "@jupyter-widgets/output",
      "model_module_version": "1.0.0",
      "model_name": "OutputModel",
      "state": {
       "layout": "IPY_MODEL_6d9d801b3c1049f18c3dcea59cabc8fc",
       "outputs": [
        {
         "name": "stdout",
         "output_type": "stream",
         "text": "🏗️ Foundation Type: Retaining Wall\nConcrete Volume: 2.88 m³\nConcrete Used: 6912.0 kg\nSteel Used: 432.0 kg\nGeosynthetics Used: 200.0 kg\nReuse Percentage: 0.0%\n\n🌍 Embodied Carbon: 2336.00 kg CO₂\n💰 Life Cycle Cost: $1609.60\n📏 Active Earth Pressure (kN/m): 48.0\n🧠 Sustainability Score: 5/10\n"
        },
        {
         "data": {
          "image/png": "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",
          "text/plain": "<Figure size 700x400 with 1 Axes>"
         },
         "metadata": {},
         "output_type": "display_data"
        }
       ]
      }
     },
     "26b853f2463e452d8530cbab63623eef": {
      "model_module": "@jupyter-widgets/base",
      "model_module_version": "2.0.0",
      "model_name": "LayoutModel",
      "state": {}
     },
     "2754ba6dbe1e4c4dbaa91e1889606816": {
      "model_module": "@jupyter-widgets/controls",
      "model_module_version": "2.0.0",
      "model_name": "SliderStyleModel",
      "state": {
       "description_width": ""
      }
     },
     "27c473ef7f5f4311a0e4cb9758aa4568": {
      "model_module": "@jupyter-widgets/controls",
      "model_module_version": "2.0.0",
      "model_name": "SliderStyleModel",
      "state": {
       "description_width": ""
      }
     },
     "28241c5984f64c6d972737757dcca5b7": {
      "model_module": "@jupyter-widgets/controls",
      "model_module_version": "2.0.0",
      "model_name": "SliderStyleModel",
      "state": {
       "description_width": ""
      }
     },
     "2856ce60e07d425a85033b4a125d1032": {
      "model_module": "@jupyter-widgets/base",
      "model_module_version": "2.0.0",
      "model_name": "LayoutModel",
      "state": {}
     },
     "28cbab7a141d4062a6a7d30e1c9ef5a4": {
      "model_module": "@jupyter-widgets/controls",
      "model_module_version": "2.0.0",
      "model_name": "FloatSliderModel",
      "state": {
       "behavior": "drag-tap",
       "description": "Wall Thickness (m)",
       "layout": "IPY_MODEL_445b802d54c344cd9f68206f5a2ae7a4",
       "max": 1,
       "min": 0.2,
       "step": 0.05,
       "style": "IPY_MODEL_93f4d69a9f094f28a0d4fbd92698b09d",
       "value": 0.3
      }
     },
     "292c23a266e64cbda8a0fef15e9c2ca0": {
      "model_module": "@jupyter-widgets/controls",
      "model_module_version": "2.0.0",
      "model_name": "FloatSliderModel",
      "state": {
       "behavior": "drag-tap",
       "description": "Reuse (%)",
       "layout": "IPY_MODEL_473d74f20e264446a66c0ace5ac2864c",
       "step": 10,
       "style": "IPY_MODEL_a587b96fdfa9402bba543b59af9fd151"
      }
     },
     "2954e9361da04bfd95d2b8e14b1ab3e4": {
      "model_module": "@jupyter-widgets/controls",
      "model_module_version": "2.0.0",
      "model_name": "SliderStyleModel",
      "state": {
       "description_width": ""
      }
     },
     "2980944eba9b4b54860c55f0c5c7970f": {
      "model_module": "@jupyter-widgets/controls",
      "model_module_version": "2.0.0",
      "model_name": "FloatSliderModel",
      "state": {
       "behavior": "drag-tap",
       "description": "Pile Length (m)",
       "layout": "IPY_MODEL_a6208e672bab42e3a6569a7e8bd4df9c",
       "max": 30,
       "min": 2,
       "style": "IPY_MODEL_e5da73796d7f46f589ca8330f5b2e85f",
       "value": 14
      }
     },
     "2a0edbec15b2433dba6bf648f3df843e": {
      "model_module": "@jupyter-widgets/base",
      "model_module_version": "2.0.0",
      "model_name": "LayoutModel",
      "state": {}
     },
     "2b193f7e29e4477294a07f347651efdd": {
      "model_module": "@jupyter-widgets/base",
      "model_module_version": "2.0.0",
      "model_name": "LayoutModel",
      "state": {}
     },
     "2c92871e53af42cfb8b7724463313347": {
      "model_module": "@jupyter-widgets/controls",
      "model_module_version": "2.0.0",
      "model_name": "SliderStyleModel",
      "state": {
       "description_width": ""
      }
     },
     "2dfa70088b964ae68bcadbffae8caf91": {
      "model_module": "@jupyter-widgets/controls",
      "model_module_version": "2.0.0",
      "model_name": "SliderStyleModel",
      "state": {
       "description_width": ""
      }
     },
     "2e2b455d5e0541838509453e44e24c9e": {
      "model_module": "@jupyter-widgets/base",
      "model_module_version": "2.0.0",
      "model_name": "LayoutModel",
      "state": {}
     },
     "2e720c2b85794c75901ebe58597f1159": {
      "model_module": "@jupyter-widgets/controls",
      "model_module_version": "2.0.0",
      "model_name": "FloatSliderModel",
      "state": {
       "behavior": "drag-tap",
       "description": "Footing Depth (m)",
       "layout": "IPY_MODEL_d2874a9f9bbb48709da5fc26bd478da7",
       "max": 2,
       "min": 0.2,
       "step": 0.1,
       "style": "IPY_MODEL_973fddc3d24c41068d891dbc77c5df91",
       "value": 0.5
      }
     },
     "2eddd3a8d1894478b2fb89f1a099655a": {
      "model_module": "@jupyter-widgets/controls",
      "model_module_version": "2.0.0",
      "model_name": "FloatSliderModel",
      "state": {
       "behavior": "drag-tap",
       "description": "Friction Angle (°)",
       "layout": "IPY_MODEL_e81a7ef6301047699405c127f6245bd6",
       "max": 45,
       "min": 20,
       "style": "IPY_MODEL_8cd640131328464e80557f076bb1dd3f",
       "value": 30
      }
     },
     "2ef4cecc11a7434781dd2ba5d20c2bf3": {
      "model_module": "@jupyter-widgets/controls",
      "model_module_version": "2.0.0",
      "model_name": "DropdownModel",
      "state": {
       "_options_labels": [
        "Shallow",
        "Pile",
        "Retaining Wall",
        "Geosynthetic-Reinforced"
       ],
       "description": "Type",
       "index": 0,
       "layout": "IPY_MODEL_89762f5ce2694a9d881e5256b7cae1ec",
       "style": "IPY_MODEL_0b1e2058ffef410f975427aa373cfd5f"
      }
     },
     "2f1f5d3c1d5f4daaad3e9437c62f8871": {
      "model_module": "@jupyter-widgets/output",
      "model_module_version": "1.0.0",
      "model_name": "OutputModel",
      "state": {
       "layout": "IPY_MODEL_319fe337568e49d4b91aade760b7d554",
       "outputs": [
        {
         "name": "stdout",
         "output_type": "stream",
         "text": "🏗️ Foundation Type: Deep\nConcrete Used: 5000.0 kg\nSteel Used: 1000.0 kg\nGeosynthetics Used: 200.0 kg\nReuse Percentage: 0.0%\n\n🌍 Embodied Carbon: 3100.00 kg CO₂\n💰 Life Cycle Cost: $2100.00\n📏 Estimated Bearing Capacity: N/A\n🧠 Sustainability Score: 5/10\n"
        },
        {
         "data": {
          "image/png": "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",
          "text/plain": "<Figure size 700x400 with 1 Axes>"
         },
         "metadata": {},
         "output_type": "display_data"
        }
       ]
      }
     },
     "2fcd9a58ef2c49e38693c62e3ee4d2e7": {
      "model_module": "@jupyter-widgets/controls",
      "model_module_version": "2.0.0",
      "model_name": "FloatSliderModel",
      "state": {
       "behavior": "drag-tap",
       "description": "Friction Angle (°)",
       "layout": "IPY_MODEL_8f69fb4c624a4a9f8675a12acab81dad",
       "max": 45,
       "min": 20,
       "style": "IPY_MODEL_d5e37cf3043b4ab6bb0cfce5ec6aadcf",
       "value": 30
      }
     },
     "300fb9580f8a47b3a5d448589e1ac11e": {
      "model_module": "@jupyter-widgets/controls",
      "model_module_version": "2.0.0",
      "model_name": "FloatSliderModel",
      "state": {
       "behavior": "drag-tap",
       "description": "Reuse (%)",
       "layout": "IPY_MODEL_ca68b8be39ed4ee588675a99f5e9d606",
       "step": 10,
       "style": "IPY_MODEL_958feb6c208d4d30b960ab2ee0b243d1"
      }
     },
     "305a5cbe9de34d31b1cbbec97eac5fc0": {
      "model_module": "@jupyter-widgets/controls",
      "model_module_version": "2.0.0",
      "model_name": "FloatSliderModel",
      "state": {
       "behavior": "drag-tap",
       "description": "Wall Thickness (m)",
       "layout": "IPY_MODEL_eca76da11b3e4175b60e3599d116202e",
       "max": 1,
       "min": 0.2,
       "step": 0.05,
       "style": "IPY_MODEL_31aab4f9578c4e36916ca7cef82a9c87",
       "value": 0.30000000000000004
      }
     },
     "30866d57e7e74882a1f7ee059b0ecbd8": {
      "model_module": "@jupyter-widgets/controls",
      "model_module_version": "2.0.0",
      "model_name": "FloatSliderModel",
      "state": {
       "behavior": "drag-tap",
       "description": "Steel (kg)",
       "layout": "IPY_MODEL_c7eb950884b64bbf9b8d3de89fe405d3",
       "max": 5000,
       "step": 100,
       "style": "IPY_MODEL_2dfa70088b964ae68bcadbffae8caf91",
       "value": 1000
      }
     },
     "310b499e85c14576989001354ade890e": {
      "model_module": "@jupyter-widgets/base",
      "model_module_version": "2.0.0",
      "model_name": "LayoutModel",
      "state": {}
     },
     "319fe337568e49d4b91aade760b7d554": {
      "model_module": "@jupyter-widgets/base",
      "model_module_version": "2.0.0",
      "model_name": "LayoutModel",
      "state": {}
     },
     "31aab4f9578c4e36916ca7cef82a9c87": {
      "model_module": "@jupyter-widgets/controls",
      "model_module_version": "2.0.0",
      "model_name": "SliderStyleModel",
      "state": {
       "description_width": ""
      }
     },
     "31d105a7f44d4233b5ccf2632bbb0f8c": {
      "model_module": "@jupyter-widgets/base",
      "model_module_version": "2.0.0",
      "model_name": "LayoutModel",
      "state": {}
     },
     "3260d950290147d681765591f44d4b8b": {
      "model_module": "@jupyter-widgets/controls",
      "model_module_version": "2.0.0",
      "model_name": "SliderStyleModel",
      "state": {
       "description_width": ""
      }
     },
     "3319a00373bc45ba891c65a2f4586826": {
      "model_module": "@jupyter-widgets/controls",
      "model_module_version": "2.0.0",
      "model_name": "FloatSliderModel",
      "state": {
       "behavior": "drag-tap",
       "description": "Cohesion (kPa)",
       "layout": "IPY_MODEL_046e4d99f7304a069e79c8677613d68b",
       "step": 5,
       "style": "IPY_MODEL_61876e3475334ca08e34df2d24e38fbf",
       "value": 25
      }
     },
     "3344afa561be41d89fbff1a5118e848b": {
      "model_module": "@jupyter-widgets/base",
      "model_module_version": "2.0.0",
      "model_name": "LayoutModel",
      "state": {}
     },
     "3401c9ddc12947848881690f7059490a": {
      "model_module": "@jupyter-widgets/base",
      "model_module_version": "2.0.0",
      "model_name": "LayoutModel",
      "state": {}
     },
     "34241eb0eeaf4a75ba758b15fe6c5a0a": {
      "model_module": "@jupyter-widgets/controls",
      "model_module_version": "2.0.0",
      "model_name": "FloatSliderModel",
      "state": {
       "behavior": "drag-tap",
       "description": "Unit Weight (kN/m³)",
       "layout": "IPY_MODEL_ba27e6fed5b14e9baca4add7bfa09de1",
       "max": 22,
       "min": 10,
       "style": "IPY_MODEL_6557a8998be742d09381d8ed115b8857",
       "value": 18
      }
     },
     "3452606353044726b94846209aa7abf0": {
      "model_module": "@jupyter-widgets/controls",
      "model_module_version": "2.0.0",
      "model_name": "FloatSliderModel",
      "state": {
       "behavior": "drag-tap",
       "description": "Footing Depth (m)",
       "layout": "IPY_MODEL_8dab89219a344774a60f4ab40528c722",
       "max": 2,
       "min": 0.2,
       "step": 0.1,
       "style": "IPY_MODEL_83824c3253fe40079a95cb5aa934fd22",
       "value": 0.5
      }
     },
     "345ea87d7c53427fa472d79952768f17": {
      "model_module": "@jupyter-widgets/base",
      "model_module_version": "2.0.0",
      "model_name": "LayoutModel",
      "state": {}
     },
     "34acddc0e79942d1aad2cd5c7ba63fff": {
      "model_module": "@jupyter-widgets/base",
      "model_module_version": "2.0.0",
      "model_name": "LayoutModel",
      "state": {}
     },
     "34cadbe8531a47679b2652e55cdb38a6": {
      "model_module": "@jupyter-widgets/controls",
      "model_module_version": "2.0.0",
      "model_name": "SliderStyleModel",
      "state": {
       "description_width": ""
      }
     },
     "350fb234d79742d09791f8b849f431fc": {
      "model_module": "@jupyter-widgets/controls",
      "model_module_version": "2.0.0",
      "model_name": "SliderStyleModel",
      "state": {
       "description_width": ""
      }
     },
     "35514cc5156042ef899d0d3bc6dfd760": {
      "model_module": "@jupyter-widgets/base",
      "model_module_version": "2.0.0",
      "model_name": "LayoutModel",
      "state": {}
     },
     "36987ea15849412098b693b341ed78d0": {
      "model_module": "@jupyter-widgets/controls",
      "model_module_version": "2.0.0",
      "model_name": "FloatSliderModel",
      "state": {
       "behavior": "drag-tap",
       "description": "Reuse (%)",
       "layout": "IPY_MODEL_3d1136071de14633a7b4069eafbd7b9f",
       "step": 10,
       "style": "IPY_MODEL_00450fb7f8e3438081fcaf570d0ad294"
      }
     },
     "36e70124c918489b9109f0eb98c9fb84": {
      "model_module": "@jupyter-widgets/controls",
      "model_module_version": "2.0.0",
      "model_name": "SliderStyleModel",
      "state": {
       "description_width": ""
      }
     },
     "372eaeb496bb40649a161e34dc42c82b": {
      "model_module": "@jupyter-widgets/controls",
      "model_module_version": "2.0.0",
      "model_name": "FloatSliderModel",
      "state": {
       "behavior": "drag-tap",
       "description": "Pile Length (m)",
       "layout": "IPY_MODEL_fd32f86bdeb64410b3585573a1a03c9d",
       "max": 30,
       "min": 2,
       "style": "IPY_MODEL_ba65172d6b084f76a46e477783fed2de",
       "value": 10
      }
     },
     "3770475a96184a2f8cd142894fd6f536": {
      "model_module": "@jupyter-widgets/output",
      "model_module_version": "1.0.0",
      "model_name": "OutputModel",
      "state": {
       "layout": "IPY_MODEL_17ff246207c5497e84468ea8e76cb389",
       "outputs": [
        {
         "name": "stdout",
         "output_type": "stream",
         "text": "🏗️ Foundation Type: Shallow\nConcrete Used: 5000.0 kg\nSteel Used: 1000.0 kg\nGeosynthetics Used: 200.0 kg\nReuse Percentage: 0.0%\n\n🌍 Embodied Carbon: 3100.00 kg CO₂\n💰 Life Cycle Cost: $2100.00\n📏 Ultimate Bearing Capacity (kPa): 158.5\n🧠 Sustainability Score: 5/10\n"
        },
        {
         "data": {
          "image/png": "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",
          "text/plain": "<Figure size 700x400 with 1 Axes>"
         },
         "metadata": {},
         "output_type": "display_data"
        }
       ]
      }
     },
     "37a9612d6d7340b7aebb3ed4a9181a61": {
      "model_module": "@jupyter-widgets/controls",
      "model_module_version": "2.0.0",
      "model_name": "FloatSliderModel",
      "state": {
       "behavior": "drag-tap",
       "description": "Wall Height (m)",
       "layout": "IPY_MODEL_93cdae71b46e4ad9b8f3917a81b07681",
       "max": 10,
       "min": 1,
       "step": 0.5,
       "style": "IPY_MODEL_5db483ce7d9b460da130d2e2deac1397",
       "value": 3.9999999999999996
      }
     },
     "38093af7987c47cc833d5d9ea64f8ba6": {
      "model_module": "@jupyter-widgets/base",
      "model_module_version": "2.0.0",
      "model_name": "LayoutModel",
      "state": {}
     },
     "397ded807f8e4e0387389fb207926358": {
      "model_module": "@jupyter-widgets/base",
      "model_module_version": "2.0.0",
      "model_name": "LayoutModel",
      "state": {}
     },
     "397f362c95af4293811f7e36724fa0a5": {
      "model_module": "@jupyter-widgets/base",
      "model_module_version": "2.0.0",
      "model_name": "LayoutModel",
      "state": {}
     },
     "398aa88cb3be48fba24575f78eab0c95": {
      "model_module": "@jupyter-widgets/controls",
      "model_module_version": "2.0.0",
      "model_name": "FloatSliderModel",
      "state": {
       "behavior": "drag-tap",
       "description": "Overburden (kPa)",
       "layout": "IPY_MODEL_da2593099d834d6c92ea39c67181ac55",
       "step": 5,
       "style": "IPY_MODEL_479c12e9c8904816b453de46930d72a2",
       "value": 30
      }
     },
     "39cc981381ba4cfb8a182d6124319f6c": {
      "model_module": "@jupyter-widgets/base",
      "model_module_version": "2.0.0",
      "model_name": "LayoutModel",
      "state": {}
     },
     "3a3b2ab7b3bd470d869ac065fbf55900": {
      "model_module": "@jupyter-widgets/controls",
      "model_module_version": "2.0.0",
      "model_name": "FloatSliderModel",
      "state": {
       "behavior": "drag-tap",
       "description": "Unit Weight (kN/m³)",
       "layout": "IPY_MODEL_60ca48a542a648eba39218bce326533a",
       "max": 22,
       "min": 10,
       "style": "IPY_MODEL_428e96fcbffa4d96b4d807ced0d18e41",
       "value": 18
      }
     },
     "3a661454e5db424fbc030eefc1da3328": {
      "model_module": "@jupyter-widgets/base",
      "model_module_version": "2.0.0",
      "model_name": "LayoutModel",
      "state": {}
     },
     "3a7141467a4e40138c99a85924162a20": {
      "model_module": "@jupyter-widgets/controls",
      "model_module_version": "2.0.0",
      "model_name": "FloatSliderModel",
      "state": {
       "behavior": "drag-tap",
       "description": "Pile Area (m²)",
       "layout": "IPY_MODEL_cbbaadaa3ec4457d9fbf6dd801144557",
       "max": 1,
       "min": 0.05,
       "step": 0.05,
       "style": "IPY_MODEL_e450269beb3f4ed186248f32d5c0086b",
       "value": 0.2
      }
     },
     "3b4bfa4e4f91462da40dc4d7a7645bc3": {
      "model_module": "@jupyter-widgets/controls",
      "model_module_version": "2.0.0",
      "model_name": "SliderStyleModel",
      "state": {
       "description_width": ""
      }
     },
     "3b6e6092fc864917b58be913369d13b7": {
      "model_module": "@jupyter-widgets/base",
      "model_module_version": "2.0.0",
      "model_name": "LayoutModel",
      "state": {}
     },
     "3b7085986fc0467eb21e8d01ad169fe6": {
      "model_module": "@jupyter-widgets/base",
      "model_module_version": "2.0.0",
      "model_name": "LayoutModel",
      "state": {}
     },
     "3bcdae1f2d834ce982d8021e8c524a3c": {
      "model_module": "@jupyter-widgets/base",
      "model_module_version": "2.0.0",
      "model_name": "LayoutModel",
      "state": {}
     },
     "3c1ae055f68e42aebdba9b8d3ff448de": {
      "model_module": "@jupyter-widgets/base",
      "model_module_version": "2.0.0",
      "model_name": "LayoutModel",
      "state": {}
     },
     "3c71372db583417bbb8bddbe2d05677f": {
      "model_module": "@jupyter-widgets/controls",
      "model_module_version": "2.0.0",
      "model_name": "VBoxModel",
      "state": {
       "children": [
        "IPY_MODEL_cf0bf63e1f394096a1ecfed308acf2aa",
        "IPY_MODEL_300fb9580f8a47b3a5d448589e1ac11e",
        "IPY_MODEL_9373caafbb98498e827cb59343d7c1dc",
        "IPY_MODEL_6ef6a3cac4164cb68db63bb6a55f4bfe",
        "IPY_MODEL_f552e64d64a0417baac833e4372b7859",
        "IPY_MODEL_77392a698c8b404983e7473a70767eb5",
        "IPY_MODEL_795f322db743459c82aa4979631707c8",
        "IPY_MODEL_57757dfb962b475f86226eb7c55e811e",
        "IPY_MODEL_e543db3a0897484391491c8a50a79f16"
       ],
       "layout": "IPY_MODEL_792edd78f30240c69b00e89c00e1a47e"
      }
     },
     "3caa31dd46374e70959de9209af141d5": {
      "model_module": "@jupyter-widgets/controls",
      "model_module_version": "2.0.0",
      "model_name": "SliderStyleModel",
      "state": {
       "description_width": ""
      }
     },
     "3cef5d649b7c4d3695260a59d2b20e57": {
      "model_module": "@jupyter-widgets/controls",
      "model_module_version": "2.0.0",
      "model_name": "FloatSliderModel",
      "state": {
       "behavior": "drag-tap",
       "description": "Geosynthetics (kg)",
       "layout": "IPY_MODEL_3c1ae055f68e42aebdba9b8d3ff448de",
       "max": 1000,
       "step": 50,
       "style": "IPY_MODEL_3caa31dd46374e70959de9209af141d5",
       "value": 200
      }
     },
     "3d0548139ad34ad2869d60fdfe88b7b0": {
      "model_module": "@jupyter-widgets/controls",
      "model_module_version": "2.0.0",
      "model_name": "SliderStyleModel",
      "state": {
       "description_width": ""
      }
     },
     "3d1136071de14633a7b4069eafbd7b9f": {
      "model_module": "@jupyter-widgets/base",
      "model_module_version": "2.0.0",
      "model_name": "LayoutModel",
      "state": {}
     },
     "3d41cdf7b8aa4abc8d9df7b76cd4cacc": {
      "model_module": "@jupyter-widgets/controls",
      "model_module_version": "2.0.0",
      "model_name": "SliderStyleModel",
      "state": {
       "description_width": ""
      }
     },
     "3d43a22de87545e68e4975952ddfaa43": {
      "model_module": "@jupyter-widgets/controls",
      "model_module_version": "2.0.0",
      "model_name": "SliderStyleModel",
      "state": {
       "description_width": ""
      }
     },
     "3e152aff807849f1b71b23e3e390fb90": {
      "model_module": "@jupyter-widgets/controls",
      "model_module_version": "2.0.0",
      "model_name": "SliderStyleModel",
      "state": {
       "description_width": ""
      }
     },
     "3e2ab0642d304f9aa523012f65cd926d": {
      "model_module": "@jupyter-widgets/base",
      "model_module_version": "2.0.0",
      "model_name": "LayoutModel",
      "state": {}
     },
     "3e58d089afc942e4a5db761b036f0d3a": {
      "model_module": "@jupyter-widgets/controls",
      "model_module_version": "2.0.0",
      "model_name": "VBoxModel",
      "state": {
       "children": [
        "IPY_MODEL_7c501b985b904d679ba2e99503e63702",
        "IPY_MODEL_a47dd4e0748741b591b098a97b395b31",
        "IPY_MODEL_8146add0ae914135af9ac39eded93e00",
        "IPY_MODEL_ffb117de2b704918bb5aa26a921a1c6a",
        "IPY_MODEL_9dd66a9109fc4f74bd8b801bc2b1c5af",
        "IPY_MODEL_4438ce7254eb4ecd8696ef5cdd3f29b5",
        "IPY_MODEL_9cf8e82527b94881bd943e9a2f0980f8",
        "IPY_MODEL_398aa88cb3be48fba24575f78eab0c95",
        "IPY_MODEL_b6ec76a737c7417ca3f418d09b5080fe"
       ],
       "layout": "IPY_MODEL_34acddc0e79942d1aad2cd5c7ba63fff"
      }
     },
     "3ee666e9ff124aa4a08ea0137729b3c6": {
      "model_module": "@jupyter-widgets/controls",
      "model_module_version": "2.0.0",
      "model_name": "SliderStyleModel",
      "state": {
       "description_width": ""
      }
     },
     "3f904825f69943e996e468ac46d85afe": {
      "model_module": "@jupyter-widgets/base",
      "model_module_version": "2.0.0",
      "model_name": "LayoutModel",
      "state": {}
     },
     "422d4ee244fd48d6aa51098258ee55b2": {
      "model_module": "@jupyter-widgets/base",
      "model_module_version": "2.0.0",
      "model_name": "LayoutModel",
      "state": {}
     },
     "4248ab3fbf414f8cb57948702f9fa683": {
      "model_module": "@jupyter-widgets/controls",
      "model_module_version": "2.0.0",
      "model_name": "SliderStyleModel",
      "state": {
       "description_width": ""
      }
     },
     "427446146356474d97b0db340e042379": {
      "model_module": "@jupyter-widgets/controls",
      "model_module_version": "2.0.0",
      "model_name": "SliderStyleModel",
      "state": {
       "description_width": ""
      }
     },
     "428e96fcbffa4d96b4d807ced0d18e41": {
      "model_module": "@jupyter-widgets/controls",
      "model_module_version": "2.0.0",
      "model_name": "SliderStyleModel",
      "state": {
       "description_width": ""
      }
     },
     "437e67f613ae415db5c7be3918c65c89": {
      "model_module": "@jupyter-widgets/base",
      "model_module_version": "2.0.0",
      "model_name": "LayoutModel",
      "state": {}
     },
     "43abb43fc8b4457e9e0419f4486aa835": {
      "model_module": "@jupyter-widgets/controls",
      "model_module_version": "2.0.0",
      "model_name": "FloatSliderModel",
      "state": {
       "behavior": "drag-tap",
       "description": "Overburden (kPa)",
       "layout": "IPY_MODEL_3344afa561be41d89fbff1a5118e848b",
       "step": 5,
       "style": "IPY_MODEL_034b8f20e77a467688a7f2b0581cb60e",
       "value": 30
      }
     },
     "4438ce7254eb4ecd8696ef5cdd3f29b5": {
      "model_module": "@jupyter-widgets/controls",
      "model_module_version": "2.0.0",
      "model_name": "FloatSliderModel",
      "state": {
       "behavior": "drag-tap",
       "description": "Cohesion (kPa)",
       "layout": "IPY_MODEL_bb2b5819a1e64955b847d95add8782eb",
       "step": 5,
       "style": "IPY_MODEL_28241c5984f64c6d972737757dcca5b7",
       "value": 25
      }
     },
     "445b802d54c344cd9f68206f5a2ae7a4": {
      "model_module": "@jupyter-widgets/base",
      "model_module_version": "2.0.0",
      "model_name": "LayoutModel",
      "state": {}
     },
     "44c94e033cfd43c7bc05b85e56dcb939": {
      "model_module": "@jupyter-widgets/controls",
      "model_module_version": "2.0.0",
      "model_name": "ButtonModel",
      "state": {
       "button_style": "success",
       "description": "Run Analysis",
       "layout": "IPY_MODEL_59fc0c23d0a54954bfd3563d7dd27858",
       "style": "IPY_MODEL_d1c99d1eec8d4b2ca49de611d9994097",
       "tooltip": null
      }
     },
     "4549da1867eb40e7b76484d992e54c1d": {
      "model_module": "@jupyter-widgets/controls",
      "model_module_version": "2.0.0",
      "model_name": "SliderStyleModel",
      "state": {
       "description_width": ""
      }
     },
     "461e1ee35aa0478f985b262a54ebfd42": {
      "model_module": "@jupyter-widgets/controls",
      "model_module_version": "2.0.0",
      "model_name": "FloatSliderModel",
      "state": {
       "behavior": "drag-tap",
       "description": "Pile Area (m²)",
       "layout": "IPY_MODEL_5ec2f9f2c5404af48fd046f2d514cb0d",
       "max": 1,
       "min": 0.05,
       "step": 0.05,
       "style": "IPY_MODEL_18f0a6549b334eb788b6ccbb159dc18a",
       "value": 0.2
      }
     },
     "46a0bd0f5e594ecb8556afeec346e693": {
      "model_module": "@jupyter-widgets/base",
      "model_module_version": "2.0.0",
      "model_name": "LayoutModel",
      "state": {}
     },
     "46b6484963d742059b8bbbf409558f62": {
      "model_module": "@jupyter-widgets/base",
      "model_module_version": "2.0.0",
      "model_name": "LayoutModel",
      "state": {}
     },
     "4719e8a6a4e34e2bbee58550c3a3f628": {
      "model_module": "@jupyter-widgets/controls",
      "model_module_version": "2.0.0",
      "model_name": "SliderStyleModel",
      "state": {
       "description_width": ""
      }
     },
     "473d74f20e264446a66c0ace5ac2864c": {
      "model_module": "@jupyter-widgets/base",
      "model_module_version": "2.0.0",
      "model_name": "LayoutModel",
      "state": {}
     },
     "479c12e9c8904816b453de46930d72a2": {
      "model_module": "@jupyter-widgets/controls",
      "model_module_version": "2.0.0",
      "model_name": "SliderStyleModel",
      "state": {
       "description_width": ""
      }
     },
     "47f2ad78ffd443b88637ebdc73d04691": {
      "model_module": "@jupyter-widgets/controls",
      "model_module_version": "2.0.0",
      "model_name": "FloatSliderModel",
      "state": {
       "behavior": "drag-tap",
       "description": "Steel (kg)",
       "layout": "IPY_MODEL_03ec0280e9ca43c8b44a3c44aa081a40",
       "max": 5000,
       "step": 100,
       "style": "IPY_MODEL_dc1dcf1ade594c8ebfba6054e370736c",
       "value": 1000
      }
     },
     "485bbb5e55aa4592a30a57621bd75a47": {
      "model_module": "@jupyter-widgets/controls",
      "model_module_version": "2.0.0",
      "model_name": "FloatSliderModel",
      "state": {
       "behavior": "drag-tap",
       "description": "Cohesion (kPa)",
       "layout": "IPY_MODEL_a8d4237047804f12b3b1a9c770a52264",
       "step": 5,
       "style": "IPY_MODEL_4dee17436c194601931fe8c2479f3c09",
       "value": 25
      }
     },
     "48cc766c9c7343b28526522e7cb621e5": {
      "model_module": "@jupyter-widgets/base",
      "model_module_version": "2.0.0",
      "model_name": "LayoutModel",
      "state": {}
     },
     "4a5f55c218fe43fdadbe8f90574e20da": {
      "model_module": "@jupyter-widgets/controls",
      "model_module_version": "2.0.0",
      "model_name": "FloatSliderModel",
      "state": {
       "behavior": "drag-tap",
       "description": "Cohesion (kPa)",
       "layout": "IPY_MODEL_fe7bd97f4dd84b2dacd507a01e39f910",
       "step": 5,
       "style": "IPY_MODEL_889c394d33c04851970a6c4297958984",
       "value": 25
      }
     },
     "4aa1a46760d643cf81508b4244018515": {
      "model_module": "@jupyter-widgets/base",
      "model_module_version": "2.0.0",
      "model_name": "LayoutModel",
      "state": {}
     },
     "4adc0ceae98843948f45b7f95c43df3d": {
      "model_module": "@jupyter-widgets/controls",
      "model_module_version": "2.0.0",
      "model_name": "FloatSliderModel",
      "state": {
       "behavior": "drag-tap",
       "description": "Concrete (kg)",
       "layout": "IPY_MODEL_2e2b455d5e0541838509453e44e24c9e",
       "max": 10000,
       "min": 1000,
       "step": 500,
       "style": "IPY_MODEL_3ee666e9ff124aa4a08ea0137729b3c6",
       "value": 5000
      }
     },
     "4b5f5f4480e746898617d878ebb16241": {
      "model_module": "@jupyter-widgets/base",
      "model_module_version": "2.0.0",
      "model_name": "LayoutModel",
      "state": {}
     },
     "4b90a2fbf445480e8459940c97bf4c65": {
      "model_module": "@jupyter-widgets/base",
      "model_module_version": "2.0.0",
      "model_name": "LayoutModel",
      "state": {}
     },
     "4baf3d7371084c79a63090e78ceb2410": {
      "model_module": "@jupyter-widgets/base",
      "model_module_version": "2.0.0",
      "model_name": "LayoutModel",
      "state": {}
     },
     "4c11c2e989db4e4c8981f0478212facf": {
      "model_module": "@jupyter-widgets/controls",
      "model_module_version": "2.0.0",
      "model_name": "FloatSliderModel",
      "state": {
       "behavior": "drag-tap",
       "description": "Geosynthetics (kg)",
       "layout": "IPY_MODEL_ef14a258167b4e079766e3dee4a5181f",
       "max": 1000,
       "step": 50,
       "style": "IPY_MODEL_34cadbe8531a47679b2652e55cdb38a6",
       "value": 200
      }
     },
     "4ced3b5403724bbc95d947aa76af63e1": {
      "model_module": "@jupyter-widgets/controls",
      "model_module_version": "2.0.0",
      "model_name": "FloatSliderModel",
      "state": {
       "behavior": "drag-tap",
       "description": "Geosynthetics (kg)",
       "layout": "IPY_MODEL_46a0bd0f5e594ecb8556afeec346e693",
       "max": 1000,
       "step": 50,
       "style": "IPY_MODEL_0895b2e8613347e2ab6573ae9ec08d28",
       "value": 200
      }
     },
     "4d865981199e45d086f1e8e10284df8a": {
      "model_module": "@jupyter-widgets/controls",
      "model_module_version": "2.0.0",
      "model_name": "FloatSliderModel",
      "state": {
       "behavior": "drag-tap",
       "description": "Pile Area (m²)",
       "layout": "IPY_MODEL_7060bb637abc4055b51bb52510cd980c",
       "max": 1,
       "min": 0.05,
       "step": 0.05,
       "style": "IPY_MODEL_92738a258aba472a9a0f6446eb6d79c1",
       "value": 0.2
      }
     },
     "4d94ca35c5bc4912ab6baa64848da4a0": {
      "model_module": "@jupyter-widgets/base",
      "model_module_version": "2.0.0",
      "model_name": "LayoutModel",
      "state": {}
     },
     "4dee17436c194601931fe8c2479f3c09": {
      "model_module": "@jupyter-widgets/controls",
      "model_module_version": "2.0.0",
      "model_name": "SliderStyleModel",
      "state": {
       "description_width": ""
      }
     },
     "4f3db6f2c0d34ed798180f96b8459289": {
      "model_module": "@jupyter-widgets/controls",
      "model_module_version": "2.0.0",
      "model_name": "FloatSliderModel",
      "state": {
       "behavior": "drag-tap",
       "description": "Pile Area (m²)",
       "layout": "IPY_MODEL_23fad6a0eae4450988344186fc65a66b",
       "max": 1,
       "min": 0.05,
       "step": 0.05,
       "style": "IPY_MODEL_eff68224d43c46deb19c93b014a0c973",
       "value": 0.2
      }
     },
     "4f74556cbcae4ce3be636d3a2e205c10": {
      "model_module": "@jupyter-widgets/base",
      "model_module_version": "2.0.0",
      "model_name": "LayoutModel",
      "state": {}
     },
     "4fce14eab4f94fa88258892983c88c8a": {
      "model_module": "@jupyter-widgets/controls",
      "model_module_version": "2.0.0",
      "model_name": "FloatSliderModel",
      "state": {
       "behavior": "drag-tap",
       "description": "Footing Depth (m)",
       "layout": "IPY_MODEL_a9b869b4fa8648679c67f42157d8f1dc",
       "max": 2,
       "min": 0.2,
       "step": 0.1,
       "style": "IPY_MODEL_e17da1d1407147a79a02037930afd5f4",
       "value": 0.5
      }
     },
     "501756c9e29548bfb29041dc72b8a31c": {
      "model_module": "@jupyter-widgets/base",
      "model_module_version": "2.0.0",
      "model_name": "LayoutModel",
      "state": {}
     },
     "517934808fc74556920d292fea49bcce": {
      "model_module": "@jupyter-widgets/controls",
      "model_module_version": "2.0.0",
      "model_name": "FloatSliderModel",
      "state": {
       "behavior": "drag-tap",
       "description": "Friction Angle (°)",
       "layout": "IPY_MODEL_db9877d57af0429eae8298ea59d140a6",
       "max": 45,
       "min": 20,
       "style": "IPY_MODEL_8e053f58856a4d1eaf9cecf3dbb4d8e0",
       "value": 30
      }
     },
     "51afcd834eeb4dd38ee3c0a0cbd99a0a": {
      "model_module": "@jupyter-widgets/controls",
      "model_module_version": "2.0.0",
      "model_name": "FloatSliderModel",
      "state": {
       "behavior": "drag-tap",
       "description": "Concrete (kg)",
       "layout": "IPY_MODEL_8a166d949bfb456b9e46151e246de623",
       "max": 10000,
       "min": 1000,
       "step": 500,
       "style": "IPY_MODEL_d973c8cdc39442348e3d741002c4714c",
       "value": 5000
      }
     },
     "51dc31c6fda34a77b21fdd3edaefd223": {
      "model_module": "@jupyter-widgets/controls",
      "model_module_version": "2.0.0",
      "model_name": "FloatSliderModel",
      "state": {
       "behavior": "drag-tap",
       "description": "Steel (kg)",
       "layout": "IPY_MODEL_9b0511b4db21453a9c200de7644bdc8d",
       "max": 5000,
       "step": 100,
       "style": "IPY_MODEL_7f9bdafec30d4445b9cdfac88e9d3ce0",
       "value": 1000
      }
     },
     "51e3dc37694b4521aa964378774639fd": {
      "model_module": "@jupyter-widgets/base",
      "model_module_version": "2.0.0",
      "model_name": "LayoutModel",
      "state": {}
     },
     "51ec0d5a0bae4ab7a1c5ab13814d23dc": {
      "model_module": "@jupyter-widgets/controls",
      "model_module_version": "2.0.0",
      "model_name": "FloatSliderModel",
      "state": {
       "behavior": "drag-tap",
       "description": "Pile Area (m²)",
       "layout": "IPY_MODEL_74266eaf7b18487590dcb2f2d0d6eff4",
       "max": 1,
       "min": 0.05,
       "step": 0.05,
       "style": "IPY_MODEL_f9b8bdf7632f4e8fbc7d53bd28640fcc",
       "value": 0.2
      }
     },
     "528d8e53a30a46518e3dc3c053f19251": {
      "model_module": "@jupyter-widgets/controls",
      "model_module_version": "2.0.0",
      "model_name": "FloatSliderModel",
      "state": {
       "behavior": "drag-tap",
       "description": "Cohesion (kPa)",
       "layout": "IPY_MODEL_85426ff7f2db47d59dcc483668c4f118",
       "step": 5,
       "style": "IPY_MODEL_e48d9aa26a5d4278a513632166060923",
       "value": 30
      }
     },
     "52c78f717b3445eab1c3325d3acacc54": {
      "model_module": "@jupyter-widgets/base",
      "model_module_version": "2.0.0",
      "model_name": "LayoutModel",
      "state": {}
     },
     "53b37c722af04d4aaadfbe041619e501": {
      "model_module": "@jupyter-widgets/base",
      "model_module_version": "2.0.0",
      "model_name": "LayoutModel",
      "state": {}
     },
     "54ccad52e40147eea2d57cbfbe45745c": {
      "model_module": "@jupyter-widgets/controls",
      "model_module_version": "2.0.0",
      "model_name": "SliderStyleModel",
      "state": {
       "description_width": ""
      }
     },
     "55985585124e4a5a852fbe23fafdfb53": {
      "model_module": "@jupyter-widgets/controls",
      "model_module_version": "2.0.0",
      "model_name": "SliderStyleModel",
      "state": {
       "description_width": ""
      }
     },
     "56f9dafa5b364004a46490318293c6fc": {
      "model_module": "@jupyter-widgets/controls",
      "model_module_version": "2.0.0",
      "model_name": "FloatSliderModel",
      "state": {
       "behavior": "drag-tap",
       "description": "Geosynthetics (kg)",
       "layout": "IPY_MODEL_5c3cd4aeb0fe4690983d843eac591624",
       "max": 1000,
       "step": 50,
       "style": "IPY_MODEL_b7ef1c55279b4f789ade64b7c0c569ff",
       "value": 200
      }
     },
     "5708f8ddbe224386a729003d6b5226d5": {
      "model_module": "@jupyter-widgets/controls",
      "model_module_version": "2.0.0",
      "model_name": "FloatSliderModel",
      "state": {
       "behavior": "drag-tap",
       "description": "Pile Area (m²)",
       "layout": "IPY_MODEL_7e4eac8953314433a7c9232f5b734a7b",
       "max": 1,
       "min": 0.05,
       "step": 0.05,
       "style": "IPY_MODEL_5f3cee4f94b9454cbeebee753880fe6c",
       "value": 0.2
      }
     },
     "57757dfb962b475f86226eb7c55e811e": {
      "model_module": "@jupyter-widgets/controls",
      "model_module_version": "2.0.0",
      "model_name": "FloatSliderModel",
      "state": {
       "behavior": "drag-tap",
       "description": "Friction Angle (°)",
       "layout": "IPY_MODEL_5c274c6366bc40dba62ee6f8f512fdee",
       "max": 45,
       "min": 20,
       "style": "IPY_MODEL_cb89fc6afeba4ba9a79682e72785c57f",
       "value": 30
      }
     },
     "57b383f7dc6f4024891e9e898d84f127": {
      "model_module": "@jupyter-widgets/controls",
      "model_module_version": "2.0.0",
      "model_name": "FloatSliderModel",
      "state": {
       "behavior": "drag-tap",
       "description": "Reuse (%)",
       "layout": "IPY_MODEL_2a0edbec15b2433dba6bf648f3df843e",
       "step": 10,
       "style": "IPY_MODEL_3d43a22de87545e68e4975952ddfaa43"
      }
     },
     "57bf58ed517c4c2f83c130e6edc1ea97": {
      "model_module": "@jupyter-widgets/controls",
      "model_module_version": "2.0.0",
      "model_name": "SliderStyleModel",
      "state": {
       "description_width": ""
      }
     },
     "591b66c680ba41c8b334565d64d17b59": {
      "model_module": "@jupyter-widgets/base",
      "model_module_version": "2.0.0",
      "model_name": "LayoutModel",
      "state": {}
     },
     "592cb204fc444ddaa052b4541beae0c1": {
      "model_module": "@jupyter-widgets/controls",
      "model_module_version": "2.0.0",
      "model_name": "FloatSliderModel",
      "state": {
       "behavior": "drag-tap",
       "description": "Geosynthetics (kg)",
       "layout": "IPY_MODEL_c5694dcbd5c94794a7f526528253ac5c",
       "max": 1000,
       "step": 50,
       "style": "IPY_MODEL_350fb234d79742d09791f8b849f431fc",
       "value": 200
      }
     },
     "5933726dc27d4620aa6559465dd83b28": {
      "model_module": "@jupyter-widgets/controls",
      "model_module_version": "2.0.0",
      "model_name": "DescriptionStyleModel",
      "state": {
       "description_width": ""
      }
     },
     "595a467632284a3f8feab4c4b77e9564": {
      "model_module": "@jupyter-widgets/base",
      "model_module_version": "2.0.0",
      "model_name": "LayoutModel",
      "state": {}
     },
     "59fc0c23d0a54954bfd3563d7dd27858": {
      "model_module": "@jupyter-widgets/base",
      "model_module_version": "2.0.0",
      "model_name": "LayoutModel",
      "state": {}
     },
     "5ab03a0c5e7045a3b57a44e858c47bce": {
      "model_module": "@jupyter-widgets/controls",
      "model_module_version": "2.0.0",
      "model_name": "FloatSliderModel",
      "state": {
       "behavior": "drag-tap",
       "description": "Footing Width (m)",
       "layout": "IPY_MODEL_48cc766c9c7343b28526522e7cb621e5",
       "max": 5,
       "min": 0.5,
       "step": 0.1,
       "style": "IPY_MODEL_a7ef51bb3ebe42cd99ee6d93036433f3",
       "value": 2
      }
     },
     "5ab745d0fd914ed3bc81d763ffffa4ca": {
      "model_module": "@jupyter-widgets/controls",
      "model_module_version": "2.0.0",
      "model_name": "SliderStyleModel",
      "state": {
       "description_width": ""
      }
     },
     "5b7a2e60709d4cde890b79af47a92a65": {
      "model_module": "@jupyter-widgets/controls",
      "model_module_version": "2.0.0",
      "model_name": "FloatSliderModel",
      "state": {
       "behavior": "drag-tap",
       "description": "Pile Length (m)",
       "layout": "IPY_MODEL_2856ce60e07d425a85033b4a125d1032",
       "max": 30,
       "min": 2,
       "style": "IPY_MODEL_9dae129b4c3c46108328054a6e3367b1",
       "value": 10
      }
     },
     "5ba31decfecc435b81bf3a00dd90346d": {
      "model_module": "@jupyter-widgets/controls",
      "model_module_version": "2.0.0",
      "model_name": "FloatSliderModel",
      "state": {
       "behavior": "drag-tap",
       "description": "Wall Height (m)",
       "layout": "IPY_MODEL_dbbea91af337490ab07ca30b68b26d29",
       "max": 10,
       "min": 1,
       "step": 0.5,
       "style": "IPY_MODEL_e7859b5fb14e4dcf92c8b3c907384b23",
       "value": 3.9999999999999996
      }
     },
     "5ba5056834ea4b598bead9c4c3e08a90": {
      "model_module": "@jupyter-widgets/controls",
      "model_module_version": "2.0.0",
      "model_name": "FloatSliderModel",
      "state": {
       "behavior": "drag-tap",
       "description": "Cohesion (kPa)",
       "layout": "IPY_MODEL_dadf2b3233434630a7d863951bb76a89",
       "step": 5,
       "style": "IPY_MODEL_1cb43052229245fb9823103ce2a20bbc",
       "value": 25
      }
     },
     "5c274c6366bc40dba62ee6f8f512fdee": {
      "model_module": "@jupyter-widgets/base",
      "model_module_version": "2.0.0",
      "model_name": "LayoutModel",
      "state": {}
     },
     "5c3cd4aeb0fe4690983d843eac591624": {
      "model_module": "@jupyter-widgets/base",
      "model_module_version": "2.0.0",
      "model_name": "LayoutModel",
      "state": {}
     },
     "5c6f1891312442c9ac062c4f055f3af1": {
      "model_module": "@jupyter-widgets/base",
      "model_module_version": "2.0.0",
      "model_name": "LayoutModel",
      "state": {}
     },
     "5d41699f42d04c4e84c540c7a74c12bd": {
      "model_module": "@jupyter-widgets/controls",
      "model_module_version": "2.0.0",
      "model_name": "FloatSliderModel",
      "state": {
       "behavior": "drag-tap",
       "description": "Overburden (kPa)",
       "layout": "IPY_MODEL_bc04f779fe0b449e84ae26302db1a254",
       "step": 5,
       "style": "IPY_MODEL_64ca528ed1784a1da8d60bf8f74a6076",
       "value": 30
      }
     },
     "5db483ce7d9b460da130d2e2deac1397": {
      "model_module": "@jupyter-widgets/controls",
      "model_module_version": "2.0.0",
      "model_name": "SliderStyleModel",
      "state": {
       "description_width": ""
      }
     },
     "5ddafb6a376d483cadf17c4059df3272": {
      "model_module": "@jupyter-widgets/controls",
      "model_module_version": "2.0.0",
      "model_name": "VBoxModel",
      "state": {
       "children": [
        "IPY_MODEL_09c165e0a406438bb9ed2f152563a2a0",
        "IPY_MODEL_36987ea15849412098b693b341ed78d0",
        "IPY_MODEL_b4f681c3d97f4307ac31c9c48c2ea2b0",
        "IPY_MODEL_5ab03a0c5e7045a3b57a44e858c47bce",
        "IPY_MODEL_3452606353044726b94846209aa7abf0",
        "IPY_MODEL_7c34699cf1144359bc3f2c43241fc9da",
        "IPY_MODEL_eb326cd4d1b74f7ba39f5cd33e2a8468",
        "IPY_MODEL_c19747d4dd9c45fdacdd5901ce7587b1",
        "IPY_MODEL_44c94e033cfd43c7bc05b85e56dcb939"
       ],
       "layout": "IPY_MODEL_721cf3e61c2c4a0ebb885109384235fa"
      }
     },
     "5dfc4fc673cc440dacde8b2deb7229ca": {
      "model_module": "@jupyter-widgets/base",
      "model_module_version": "2.0.0",
      "model_name": "LayoutModel",
      "state": {}
     },
     "5ec2f9f2c5404af48fd046f2d514cb0d": {
      "model_module": "@jupyter-widgets/base",
      "model_module_version": "2.0.0",
      "model_name": "LayoutModel",
      "state": {}
     },
     "5f309a63c48c4fb595d05f2c8617de7b": {
      "model_module": "@jupyter-widgets/controls",
      "model_module_version": "2.0.0",
      "model_name": "VBoxModel",
      "state": {
       "children": [
        "IPY_MODEL_6a3fe2ab13f44208b9abb843f2ce666d",
        "IPY_MODEL_ffd9f033d53a494b954e0c6c1f5b3884",
        "IPY_MODEL_30866d57e7e74882a1f7ee059b0ecbd8",
        "IPY_MODEL_4c11c2e989db4e4c8981f0478212facf",
        "IPY_MODEL_b7b3c5f8191a46e88c9fad6a55ffebbc",
        "IPY_MODEL_1747e609ecd14bf3aa1fe1aafd76576c",
        "IPY_MODEL_0baf8f9a86624a0a913bc3631d34d515",
        "IPY_MODEL_2eddd3a8d1894478b2fb89f1a099655a"
       ],
       "layout": "IPY_MODEL_fb8c61ec093b4092b6a92af57202dc1b"
      }
     },
     "5f3cee4f94b9454cbeebee753880fe6c": {
      "model_module": "@jupyter-widgets/controls",
      "model_module_version": "2.0.0",
      "model_name": "SliderStyleModel",
      "state": {
       "description_width": ""
      }
     },
     "5f4d94dc926547c0a65b86c3543c09d8": {
      "model_module": "@jupyter-widgets/base",
      "model_module_version": "2.0.0",
      "model_name": "LayoutModel",
      "state": {}
     },
     "608f40ec3a0c4cf9b8af52ff33eb7828": {
      "model_module": "@jupyter-widgets/controls",
      "model_module_version": "2.0.0",
      "model_name": "ButtonStyleModel",
      "state": {
       "font_family": null,
       "font_size": null,
       "font_style": null,
       "font_variant": null,
       "font_weight": null,
       "text_color": null,
       "text_decoration": null
      }
     },
     "60ca48a542a648eba39218bce326533a": {
      "model_module": "@jupyter-widgets/base",
      "model_module_version": "2.0.0",
      "model_name": "LayoutModel",
      "state": {}
     },
     "611cf96fbc224531a7a1d9c3e37b6396": {
      "model_module": "@jupyter-widgets/base",
      "model_module_version": "2.0.0",
      "model_name": "LayoutModel",
      "state": {}
     },
     "61876e3475334ca08e34df2d24e38fbf": {
      "model_module": "@jupyter-widgets/controls",
      "model_module_version": "2.0.0",
      "model_name": "SliderStyleModel",
      "state": {
       "description_width": ""
      }
     },
     "61e3ca45b928494784c6c2aded898a6d": {
      "model_module": "@jupyter-widgets/controls",
      "model_module_version": "2.0.0",
      "model_name": "FloatSliderModel",
      "state": {
       "behavior": "drag-tap",
       "description": "Pile Area (m²)",
       "layout": "IPY_MODEL_52c78f717b3445eab1c3325d3acacc54",
       "max": 1,
       "min": 0.05,
       "step": 0.05,
       "style": "IPY_MODEL_fb11a4c826354149b8c187337d1fcd7b",
       "value": 0.55
      }
     },
     "625033a8ec1c45b5959a094ac6b6c9d6": {
      "model_module": "@jupyter-widgets/controls",
      "model_module_version": "2.0.0",
      "model_name": "VBoxModel",
      "state": {
       "children": [
        "IPY_MODEL_931520c14c2647ca95e1785fc0ca6184",
        "IPY_MODEL_aff6e8cdb7cc42a4a6712ada21247e9e",
        "IPY_MODEL_3cef5d649b7c4d3695260a59d2b20e57",
        "IPY_MODEL_c1f534e98ecd4b8ab94ed65ece6b4386",
        "IPY_MODEL_0fc7a4cc17ca493a8468a77fd7a33ae1",
        "IPY_MODEL_c872bb00f8fe4c38b92d8379adf87e5c",
        "IPY_MODEL_cde7bda03b5a4d86b92984b52eddef21",
        "IPY_MODEL_9b3e1f08c4994d4682d27c6307bc6c03"
       ],
       "layout": "IPY_MODEL_1c7665212466493aa98226d25f8726bf"
      }
     },
     "64ca528ed1784a1da8d60bf8f74a6076": {
      "model_module": "@jupyter-widgets/controls",
      "model_module_version": "2.0.0",
      "model_name": "SliderStyleModel",
      "state": {
       "description_width": ""
      }
     },
     "65345ad48cd04716b540b3a3f8319242": {
      "model_module": "@jupyter-widgets/base",
      "model_module_version": "2.0.0",
      "model_name": "LayoutModel",
      "state": {}
     },
     "6541cf6136414c17b8cdee51ea469000": {
      "model_module": "@jupyter-widgets/base",
      "model_module_version": "2.0.0",
      "model_name": "LayoutModel",
      "state": {}
     },
     "6557a8998be742d09381d8ed115b8857": {
      "model_module": "@jupyter-widgets/controls",
      "model_module_version": "2.0.0",
      "model_name": "SliderStyleModel",
      "state": {
       "description_width": ""
      }
     },
     "6625bd5849d743d2b31e00cd7b147dee": {
      "model_module": "@jupyter-widgets/controls",
      "model_module_version": "2.0.0",
      "model_name": "FloatSliderModel",
      "state": {
       "behavior": "drag-tap",
       "description": "Friction Angle (°)",
       "layout": "IPY_MODEL_591b66c680ba41c8b334565d64d17b59",
       "max": 45,
       "min": 20,
       "style": "IPY_MODEL_cbb602b26c0e42a7bff856221cff1f79",
       "value": 30
      }
     },
     "6712469221bf49ee928f2b9ce591ccfb": {
      "model_module": "@jupyter-widgets/base",
      "model_module_version": "2.0.0",
      "model_name": "LayoutModel",
      "state": {}
     },
     "6727517df76d4881945a8e542a6fe93f": {
      "model_module": "@jupyter-widgets/controls",
      "model_module_version": "2.0.0",
      "model_name": "FloatSliderModel",
      "state": {
       "behavior": "drag-tap",
       "description": "Concrete (kg)",
       "layout": "IPY_MODEL_02865e4a41584f098eb2ec3e23246fe9",
       "max": 10000,
       "min": 1000,
       "step": 500,
       "style": "IPY_MODEL_4248ab3fbf414f8cb57948702f9fa683",
       "value": 5000
      }
     },
     "672b755bc37c447280f640367a170f2f": {
      "model_module": "@jupyter-widgets/base",
      "model_module_version": "2.0.0",
      "model_name": "LayoutModel",
      "state": {}
     },
     "6874cbf5fb6d4b8b87f93b0b4c98331a": {
      "model_module": "@jupyter-widgets/controls",
      "model_module_version": "2.0.0",
      "model_name": "VBoxModel",
      "state": {
       "children": [
        "IPY_MODEL_16b0da5035b24c53b736370911c0049c",
        "IPY_MODEL_7fb0e812a8974dba829873683d3675b9",
        "IPY_MODEL_0593269885bc43f5aa116746e01e84ca",
        "IPY_MODEL_37a9612d6d7340b7aebb3ed4a9181a61",
        "IPY_MODEL_305a5cbe9de34d31b1cbbec97eac5fc0",
        "IPY_MODEL_3a3b2ab7b3bd470d869ac065fbf55900",
        "IPY_MODEL_15c3eb18cb3d4d7088c99e19804ddbf4"
       ],
       "layout": "IPY_MODEL_efe7f4c1a3d242d6a51127680c8028bd"
      }
     },
     "68f65792a1224afca4901fb419fffca1": {
      "model_module": "@jupyter-widgets/base",
      "model_module_version": "2.0.0",
      "model_name": "LayoutModel",
      "state": {}
     },
     "69e73f3332cb41538024ae69198af3c7": {
      "model_module": "@jupyter-widgets/controls",
      "model_module_version": "2.0.0",
      "model_name": "DropdownModel",
      "state": {
       "_options_labels": [
        "Shallow",
        "Pile",
        "Retaining Wall",
        "Geosynthetic-Reinforced"
       ],
       "description": "Type",
       "index": 2,
       "layout": "IPY_MODEL_35514cc5156042ef899d0d3bc6dfd760",
       "style": "IPY_MODEL_c8be6f09d1e94ef190b9a35cfa8ec16d"
      }
     },
     "6a13a49a30a143b5ab0a73db1002b281": {
      "model_module": "@jupyter-widgets/controls",
      "model_module_version": "2.0.0",
      "model_name": "SliderStyleModel",
      "state": {
       "description_width": ""
      }
     },
     "6a3fe2ab13f44208b9abb843f2ce666d": {
      "model_module": "@jupyter-widgets/controls",
      "model_module_version": "2.0.0",
      "model_name": "DropdownModel",
      "state": {
       "_options_labels": [
        "Shallow",
        "Pile",
        "Retaining Wall",
        "Geosynthetic-Reinforced"
       ],
       "description": "Type",
       "index": 2,
       "layout": "IPY_MODEL_3e2ab0642d304f9aa523012f65cd926d",
       "style": "IPY_MODEL_8803e094c80f423781a61d79a7f45542"
      }
     },
     "6a7529728e4d4f2ba5c92aacac644419": {
      "model_module": "@jupyter-widgets/controls",
      "model_module_version": "2.0.0",
      "model_name": "FloatSliderModel",
      "state": {
       "behavior": "drag-tap",
       "description": "Wall Length (m)",
       "layout": "IPY_MODEL_8ee6ac9369af4183bc21ba4a10ea8d4b",
       "max": 20,
       "min": 2,
       "style": "IPY_MODEL_0ec3903531b74d1684e36af1c4b3e229",
       "value": 6
      }
     },
     "6ade42a0c1ad4f85bcb80c8a61e92d9c": {
      "model_module": "@jupyter-widgets/controls",
      "model_module_version": "2.0.0",
      "model_name": "FloatSliderModel",
      "state": {
       "behavior": "drag-tap",
       "description": "Wall Length (m)",
       "layout": "IPY_MODEL_39cc981381ba4cfb8a182d6124319f6c",
       "max": 20,
       "min": 2,
       "style": "IPY_MODEL_b71fe6dc6c3646b0baa00888ddc7722d",
       "value": 6
      }
     },
     "6c5534eb96bb43a7ae1ae6bc16516f64": {
      "model_module": "@jupyter-widgets/controls",
      "model_module_version": "2.0.0",
      "model_name": "SliderStyleModel",
      "state": {
       "description_width": ""
      }
     },
     "6cbaa32bd3b54f7cafb4c85da32fef93": {
      "model_module": "@jupyter-widgets/controls",
      "model_module_version": "2.0.0",
      "model_name": "FloatSliderModel",
      "state": {
       "behavior": "drag-tap",
       "description": "Wall Height (m)",
       "layout": "IPY_MODEL_a66e30dcb57d48388142ca2640b545f4",
       "max": 10,
       "min": 1,
       "step": 0.5,
       "style": "IPY_MODEL_d510b1b85aa947ab9a5feb35b7a400dc",
       "value": 3.9999999999999996
      }
     },
     "6ce71e24cf3b47949fb41bb82cd8e7d4": {
      "model_module": "@jupyter-widgets/controls",
      "model_module_version": "2.0.0",
      "model_name": "FloatSliderModel",
      "state": {
       "behavior": "drag-tap",
       "description": "Pile Length (m)",
       "layout": "IPY_MODEL_5dfc4fc673cc440dacde8b2deb7229ca",
       "max": 30,
       "min": 2,
       "style": "IPY_MODEL_9e87cd349d444dd9974dc9b33035a34e",
       "value": 10
      }
     },
     "6d4752bbba934bf5ac8f6a41d45f30fe": {
      "model_module": "@jupyter-widgets/base",
      "model_module_version": "2.0.0",
      "model_name": "LayoutModel",
      "state": {}
     },
     "6d9d801b3c1049f18c3dcea59cabc8fc": {
      "model_module": "@jupyter-widgets/base",
      "model_module_version": "2.0.0",
      "model_name": "LayoutModel",
      "state": {}
     },
     "6ef6a3cac4164cb68db63bb6a55f4bfe": {
      "model_module": "@jupyter-widgets/controls",
      "model_module_version": "2.0.0",
      "model_name": "FloatSliderModel",
      "state": {
       "behavior": "drag-tap",
       "description": "Wall Height (m)",
       "layout": "IPY_MODEL_df962b0de1534840a14ddd3bf920dc9c",
       "max": 10,
       "min": 1,
       "step": 0.5,
       "style": "IPY_MODEL_7c916fe28ee04e9b9c75877c65d20e7a",
       "value": 3.9999999999999996
      }
     },
     "6fa387beea0d48f0a21c5a1f5fa78bdd": {
      "model_module": "@jupyter-widgets/controls",
      "model_module_version": "2.0.0",
      "model_name": "VBoxModel",
      "state": {
       "children": [
        "IPY_MODEL_16b0da5035b24c53b736370911c0049c",
        "IPY_MODEL_7fb0e812a8974dba829873683d3675b9",
        "IPY_MODEL_0593269885bc43f5aa116746e01e84ca",
        "IPY_MODEL_e87f5a335d7d476ca97dd63de49f92d4",
        "IPY_MODEL_c418dcbb499249ad8c56de9b81cd8477",
        "IPY_MODEL_fc7348c4bdf443d19b1ca03a50dca855",
        "IPY_MODEL_3a3b2ab7b3bd470d869ac065fbf55900",
        "IPY_MODEL_19a1488974e242d7b72aaa2c848f2d43"
       ],
       "layout": "IPY_MODEL_e8dd9a123b5e4c7f9701f7dd9fe7b8ce"
      }
     },
     "6fc8773fd27147f4946d8c2c0a1fea61": {
      "model_module": "@jupyter-widgets/controls",
      "model_module_version": "2.0.0",
      "model_name": "FloatSliderModel",
      "state": {
       "behavior": "drag-tap",
       "description": "Wall Length (m)",
       "layout": "IPY_MODEL_5f4d94dc926547c0a65b86c3543c09d8",
       "max": 20,
       "min": 2,
       "style": "IPY_MODEL_80391de0ba3e4969997cac0a57149272",
       "value": 6
      }
     },
     "6fcd2ad4e50343559e5e7b3e69d2b2bd": {
      "model_module": "@jupyter-widgets/controls",
      "model_module_version": "2.0.0",
      "model_name": "SliderStyleModel",
      "state": {
       "description_width": ""
      }
     },
     "700580f7af964628b73b4c84e3a18988": {
      "model_module": "@jupyter-widgets/base",
      "model_module_version": "2.0.0",
      "model_name": "LayoutModel",
      "state": {}
     },
     "7060bb637abc4055b51bb52510cd980c": {
      "model_module": "@jupyter-widgets/base",
      "model_module_version": "2.0.0",
      "model_name": "LayoutModel",
      "state": {}
     },
     "7096d9b154e944f49e27d7bce8f954c1": {
      "model_module": "@jupyter-widgets/controls",
      "model_module_version": "2.0.0",
      "model_name": "SliderStyleModel",
      "state": {
       "description_width": ""
      }
     },
     "70b2f81ef8644ecfa1fa468ce6984c2a": {
      "model_module": "@jupyter-widgets/controls",
      "model_module_version": "2.0.0",
      "model_name": "FloatSliderModel",
      "state": {
       "behavior": "drag-tap",
       "description": "Friction Angle (°)",
       "layout": "IPY_MODEL_f5b3b5b9007f4a8b8d175459dd35908e",
       "max": 45,
       "min": 20,
       "style": "IPY_MODEL_a12459c2f41f42b3a83cb5752968501f",
       "value": 30
      }
     },
     "71383d5b71024be5a5c21516c83572b5": {
      "model_module": "@jupyter-widgets/controls",
      "model_module_version": "2.0.0",
      "model_name": "SliderStyleModel",
      "state": {
       "description_width": ""
      }
     },
     "721cf3e61c2c4a0ebb885109384235fa": {
      "model_module": "@jupyter-widgets/base",
      "model_module_version": "2.0.0",
      "model_name": "LayoutModel",
      "state": {}
     },
     "728ed7bdd70f417d83406243f0b2f22b": {
      "model_module": "@jupyter-widgets/controls",
      "model_module_version": "2.0.0",
      "model_name": "SliderStyleModel",
      "state": {
       "description_width": ""
      }
     },
     "72d8539b9ce64f29bf781d69857a0dcf": {
      "model_module": "@jupyter-widgets/base",
      "model_module_version": "2.0.0",
      "model_name": "LayoutModel",
      "state": {}
     },
     "73733ee4cda54d80bf27733c72d78894": {
      "model_module": "@jupyter-widgets/base",
      "model_module_version": "2.0.0",
      "model_name": "LayoutModel",
      "state": {}
     },
     "73b7d843565848a587df7351bb9d63a3": {
      "model_module": "@jupyter-widgets/base",
      "model_module_version": "2.0.0",
      "model_name": "LayoutModel",
      "state": {}
     },
     "73de9faaa6654a3b94e7bf883adf6895": {
      "model_module": "@jupyter-widgets/base",
      "model_module_version": "2.0.0",
      "model_name": "LayoutModel",
      "state": {}
     },
     "74266eaf7b18487590dcb2f2d0d6eff4": {
      "model_module": "@jupyter-widgets/base",
      "model_module_version": "2.0.0",
      "model_name": "LayoutModel",
      "state": {}
     },
     "74a88598fc2a44c1ae773191b7c73841": {
      "model_module": "@jupyter-widgets/controls",
      "model_module_version": "2.0.0",
      "model_name": "VBoxModel",
      "state": {
       "children": [
        "IPY_MODEL_16b0da5035b24c53b736370911c0049c",
        "IPY_MODEL_7fb0e812a8974dba829873683d3675b9",
        "IPY_MODEL_0593269885bc43f5aa116746e01e84ca",
        "IPY_MODEL_b106c6fe6d614da88571274e1bac8749",
        "IPY_MODEL_15855336342d4206b6c8ea12164f1f2a",
        "IPY_MODEL_fc7348c4bdf443d19b1ca03a50dca855"
       ],
       "layout": "IPY_MODEL_73de9faaa6654a3b94e7bf883adf6895"
      }
     },
     "74e7bf5223b944b08978ee7c299e506c": {
      "model_module": "@jupyter-widgets/controls",
      "model_module_version": "2.0.0",
      "model_name": "SliderStyleModel",
      "state": {
       "description_width": ""
      }
     },
     "75d3cecffb924112b3aa1d657cb805d5": {
      "model_module": "@jupyter-widgets/base",
      "model_module_version": "2.0.0",
      "model_name": "LayoutModel",
      "state": {}
     },
     "77392a698c8b404983e7473a70767eb5": {
      "model_module": "@jupyter-widgets/controls",
      "model_module_version": "2.0.0",
      "model_name": "FloatSliderModel",
      "state": {
       "behavior": "drag-tap",
       "description": "Wall Length (m)",
       "layout": "IPY_MODEL_08293eb25a624f8396a28ae7181d3fd6",
       "max": 20,
       "min": 2,
       "style": "IPY_MODEL_d54c505bfe68434ba3998a163f90a142",
       "value": 6
      }
     },
     "77ef5598729a4ef9a35ec6b3fd2d3b58": {
      "model_module": "@jupyter-widgets/base",
      "model_module_version": "2.0.0",
      "model_name": "LayoutModel",
      "state": {}
     },
     "78c7ac5b84544ed987ed88f58cc7a9b1": {
      "model_module": "@jupyter-widgets/base",
      "model_module_version": "2.0.0",
      "model_name": "LayoutModel",
      "state": {}
     },
     "792edd78f30240c69b00e89c00e1a47e": {
      "model_module": "@jupyter-widgets/base",
      "model_module_version": "2.0.0",
      "model_name": "LayoutModel",
      "state": {}
     },
     "79384cd6653c42ae80d55384fccbef76": {
      "model_module": "@jupyter-widgets/controls",
      "model_module_version": "2.0.0",
      "model_name": "SliderStyleModel",
      "state": {
       "description_width": ""
      }
     },
     "795f322db743459c82aa4979631707c8": {
      "model_module": "@jupyter-widgets/controls",
      "model_module_version": "2.0.0",
      "model_name": "FloatSliderModel",
      "state": {
       "behavior": "drag-tap",
       "description": "Unit Weight (kN/m³)",
       "layout": "IPY_MODEL_3401c9ddc12947848881690f7059490a",
       "max": 22,
       "min": 10,
       "style": "IPY_MODEL_ee5149d01d2a4649bb5958f13f13f330",
       "value": 18
      }
     },
     "79c853c95a11466086f4a43d27bc1d48": {
      "model_module": "@jupyter-widgets/output",
      "model_module_version": "1.0.0",
      "model_name": "OutputModel",
      "state": {
       "layout": "IPY_MODEL_abcd6d81ca624d458e859801a7b079d7",
       "outputs": [
        {
         "name": "stdout",
         "output_type": "stream",
         "text": "🏗️ Foundation Type: Retaining Wall\nConcrete Used: 5000.0 kg\nSteel Used: 1000.0 kg\nGeosynthetics Used: 200.0 kg\nReuse Percentage: 0.0%\n\n🌍 Embodied Carbon: 3100.00 kg CO₂\n💰 Life Cycle Cost: $2100.00\n📏 Active Earth Pressure (kN/m): 48.0\n🧠 Sustainability Score: 5/10\n"
        },
        {
         "data": {
          "image/png": "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",
          "text/plain": "<Figure size 700x400 with 1 Axes>"
         },
         "metadata": {},
         "output_type": "display_data"
        }
       ]
      }
     },
     "7b448818f6c84e55b218f4541e79ddf2": {
      "model_module": "@jupyter-widgets/base",
      "model_module_version": "2.0.0",
      "model_name": "LayoutModel",
      "state": {}
     },
     "7b7fb7cba1bf4cc5bdff0c5907a6f910": {
      "model_module": "@jupyter-widgets/base",
      "model_module_version": "2.0.0",
      "model_name": "LayoutModel",
      "state": {}
     },
     "7bd39c9bd79b40e993a2924ca346cb52": {
      "model_module": "@jupyter-widgets/controls",
      "model_module_version": "2.0.0",
      "model_name": "VBoxModel",
      "state": {
       "children": [
        "IPY_MODEL_7c501b985b904d679ba2e99503e63702",
        "IPY_MODEL_a47dd4e0748741b591b098a97b395b31",
        "IPY_MODEL_8146add0ae914135af9ac39eded93e00",
        "IPY_MODEL_461e1ee35aa0478f985b262a54ebfd42",
        "IPY_MODEL_1ff19193b079433998888339309a461e",
        "IPY_MODEL_4438ce7254eb4ecd8696ef5cdd3f29b5",
        "IPY_MODEL_b6ec76a737c7417ca3f418d09b5080fe"
       ],
       "layout": "IPY_MODEL_19f94c2164c34301a603e128b5a9440a"
      }
     },
     "7c34699cf1144359bc3f2c43241fc9da": {
      "model_module": "@jupyter-widgets/controls",
      "model_module_version": "2.0.0",
      "model_name": "FloatSliderModel",
      "state": {
       "behavior": "drag-tap",
       "description": "Cohesion (kPa)",
       "layout": "IPY_MODEL_a43ee26bf73e40e0bef62ac52f1f7a9a",
       "step": 5,
       "style": "IPY_MODEL_d3b30f5a82f946878c84e132e94d925d",
       "value": 25
      }
     },
     "7c501b985b904d679ba2e99503e63702": {
      "model_module": "@jupyter-widgets/controls",
      "model_module_version": "2.0.0",
      "model_name": "DropdownModel",
      "state": {
       "_options_labels": [
        "Shallow",
        "Pile",
        "Retaining Wall",
        "Geosynthetic-Reinforced"
       ],
       "description": "Type",
       "index": 1,
       "layout": "IPY_MODEL_1a740f1bb64e4aa78c9fcf49345c1ee0",
       "style": "IPY_MODEL_9cc51185132c426cb034113d1de7f3f2"
      }
     },
     "7c916fe28ee04e9b9c75877c65d20e7a": {
      "model_module": "@jupyter-widgets/controls",
      "model_module_version": "2.0.0",
      "model_name": "SliderStyleModel",
      "state": {
       "description_width": ""
      }
     },
     "7d90555e64d0462ea83c4976f47112f9": {
      "model_module": "@jupyter-widgets/controls",
      "model_module_version": "2.0.0",
      "model_name": "SliderStyleModel",
      "state": {
       "description_width": ""
      }
     },
     "7e085cc4c9c94291b2fed6265f49d626": {
      "model_module": "@jupyter-widgets/base",
      "model_module_version": "2.0.0",
      "model_name": "LayoutModel",
      "state": {}
     },
     "7e25043d625c4c6aa162bed5f7f922ec": {
      "model_module": "@jupyter-widgets/base",
      "model_module_version": "2.0.0",
      "model_name": "LayoutModel",
      "state": {}
     },
     "7e4eac8953314433a7c9232f5b734a7b": {
      "model_module": "@jupyter-widgets/base",
      "model_module_version": "2.0.0",
      "model_name": "LayoutModel",
      "state": {}
     },
     "7e971b7e37b24d7997b6fddfd8e08ebc": {
      "model_module": "@jupyter-widgets/base",
      "model_module_version": "2.0.0",
      "model_name": "LayoutModel",
      "state": {}
     },
     "7f3d6ed963a8460bb60f59d08db2b631": {
      "model_module": "@jupyter-widgets/controls",
      "model_module_version": "2.0.0",
      "model_name": "FloatSliderModel",
      "state": {
       "behavior": "drag-tap",
       "description": "Pile Area (m²)",
       "layout": "IPY_MODEL_7e971b7e37b24d7997b6fddfd8e08ebc",
       "max": 1,
       "min": 0.05,
       "step": 0.05,
       "style": "IPY_MODEL_7d90555e64d0462ea83c4976f47112f9",
       "value": 0.2
      }
     },
     "7f9bdafec30d4445b9cdfac88e9d3ce0": {
      "model_module": "@jupyter-widgets/controls",
      "model_module_version": "2.0.0",
      "model_name": "SliderStyleModel",
      "state": {
       "description_width": ""
      }
     },
     "7fb0e812a8974dba829873683d3675b9": {
      "model_module": "@jupyter-widgets/controls",
      "model_module_version": "2.0.0",
      "model_name": "FloatSliderModel",
      "state": {
       "behavior": "drag-tap",
       "description": "Reuse (%)",
       "layout": "IPY_MODEL_edaa3bd7b1f746a680886a7cc1dfa801",
       "step": 10,
       "style": "IPY_MODEL_819c70e418334a1ab25657ca3e315625"
      }
     },
     "7fb50f5925824aa1ae74baa9b4225ae6": {
      "model_module": "@jupyter-widgets/base",
      "model_module_version": "2.0.0",
      "model_name": "LayoutModel",
      "state": {}
     },
     "7fe2ebb480d6429fbb074a517dab5b71": {
      "model_module": "@jupyter-widgets/controls",
      "model_module_version": "2.0.0",
      "model_name": "SliderStyleModel",
      "state": {
       "description_width": ""
      }
     },
     "7ff405fa6d454fa1b032cecbe4b10427": {
      "model_module": "@jupyter-widgets/controls",
      "model_module_version": "2.0.0",
      "model_name": "DescriptionStyleModel",
      "state": {
       "description_width": ""
      }
     },
     "80391de0ba3e4969997cac0a57149272": {
      "model_module": "@jupyter-widgets/controls",
      "model_module_version": "2.0.0",
      "model_name": "SliderStyleModel",
      "state": {
       "description_width": ""
      }
     },
     "80c39be40da348a88adb77f0f019c8db": {
      "model_module": "@jupyter-widgets/controls",
      "model_module_version": "2.0.0",
      "model_name": "SliderStyleModel",
      "state": {
       "description_width": ""
      }
     },
     "8146add0ae914135af9ac39eded93e00": {
      "model_module": "@jupyter-widgets/controls",
      "model_module_version": "2.0.0",
      "model_name": "FloatSliderModel",
      "state": {
       "behavior": "drag-tap",
       "description": "Geosynthetics (kg)",
       "layout": "IPY_MODEL_38093af7987c47cc833d5d9ea64f8ba6",
       "max": 1000,
       "step": 50,
       "style": "IPY_MODEL_b91920bbabca4777bac524b2ddf1fe4b",
       "value": 200
      }
     },
     "81472b1944e2447fba75a98dd5b1c1ca": {
      "model_module": "@jupyter-widgets/controls",
      "model_module_version": "2.0.0",
      "model_name": "SliderStyleModel",
      "state": {
       "description_width": ""
      }
     },
     "819c70e418334a1ab25657ca3e315625": {
      "model_module": "@jupyter-widgets/controls",
      "model_module_version": "2.0.0",
      "model_name": "SliderStyleModel",
      "state": {
       "description_width": ""
      }
     },
     "81c2e59c51d841d591c0aa3539a301dc": {
      "model_module": "@jupyter-widgets/controls",
      "model_module_version": "2.0.0",
      "model_name": "SliderStyleModel",
      "state": {
       "description_width": ""
      }
     },
     "820002982fbf4336993016eb64c74257": {
      "model_module": "@jupyter-widgets/base",
      "model_module_version": "2.0.0",
      "model_name": "LayoutModel",
      "state": {}
     },
     "8259cf55e4c148b884d9b79c96f612b4": {
      "model_module": "@jupyter-widgets/controls",
      "model_module_version": "2.0.0",
      "model_name": "FloatSliderModel",
      "state": {
       "behavior": "drag-tap",
       "description": "Unit Weight (kN/m³)",
       "layout": "IPY_MODEL_0439af28cee340d8b0f1db7160b766d4",
       "max": 22,
       "min": 10,
       "style": "IPY_MODEL_ece96301ef5e47769ad371027c0bb373",
       "value": 18
      }
     },
     "82b4a7ca5f264a64897c95cc49e2259f": {
      "model_module": "@jupyter-widgets/controls",
      "model_module_version": "2.0.0",
      "model_name": "SliderStyleModel",
      "state": {
       "description_width": ""
      }
     },
     "83824c3253fe40079a95cb5aa934fd22": {
      "model_module": "@jupyter-widgets/controls",
      "model_module_version": "2.0.0",
      "model_name": "SliderStyleModel",
      "state": {
       "description_width": ""
      }
     },
     "838e17fce68f4becb6e8065a2518b5bf": {
      "model_module": "@jupyter-widgets/controls",
      "model_module_version": "2.0.0",
      "model_name": "SliderStyleModel",
      "state": {
       "description_width": ""
      }
     },
     "83d11d783e994d5d9f4c202a49a3393a": {
      "model_module": "@jupyter-widgets/output",
      "model_module_version": "1.0.0",
      "model_name": "OutputModel",
      "state": {
       "layout": "IPY_MODEL_16ecae1c5c1c4b4f807b64e843b40725",
       "outputs": [
        {
         "name": "stdout",
         "output_type": "stream",
         "text": "🏗️ Foundation Type: Retaining Wall\nConcrete Volume: 7.20 m³\nConcrete Used: 17280.0 kg\nSteel Used: 1080.0 kg\nGeosynthetics Used: 200.0 kg\nReuse Percentage: 0.0%\n\n🌍 Embodied Carbon: 5090.00 kg CO₂\n💰 Life Cycle Cost: $3424.00\n📏 Active Earth Pressure (kN/m): 48.0\n🧠 Sustainability Score: 5/10\n"
        },
        {
         "data": {
          "image/png": "iVBORw0KGgoAAAANSUhEUgAAArIAAAGGCAYAAACHemKmAAAAOXRFWHRTb2Z0d2FyZQBNYXRwbG90bGliIHZlcnNpb24zLjkuMiwgaHR0cHM6Ly9tYXRwbG90bGliLm9yZy8hTgPZAAAACXBIWXMAAA9hAAAPYQGoP6dpAABMG0lEQVR4nO3de3zP9f//8fvb7GjzzsY205xKopkcaqbDiBlyKPVRVkNUkkj4ilRGNX76OBQdJKcoyqeUpDnklOacKYckHznEHGcOm23s+fvDd+9vbzvYMG+v3K6Xi8vF+/V6vF6vx+v03n2v9+v9ms0YYwQAAABYTClXNwAAAABcDoIsAAAALIkgCwAAAEsiyAIAAMCSCLIAAACwJIIsAAAALIkgCwAAAEsiyAIAAMCSCLIAAACwJIIsYGFr167Vww8/rMqVK8vT01NBQUGKjIxU//79S2yZCxYsUHx8/BXNo2vXrqpatepV6acgy5cvl81m03/+859L1sbHx8tms131Hnbv3q0+ffqoVq1aKlOmjLy8vFS1alU9+eSTWrZsmUryDyump6crPj5ey5cvL7FlSNKff/4pm82mf//731d1vjab7YqPs8JUrVpVXbt2LVKdzWZTkyZN8h3/ySefyGazyWazXda23rZtm+Lj4/Xnn38Wa7omTZoU2BNwIyHIAhb13XffqXHjxjp58qRGjRqlRYsW6Z133tE999yjzz//vMSWu2DBAg0bNuyK5vHaa69p7ty5V6mj69O8efNUp04dzZs3T126dNHcuXO1cOFCvfbaazp27JgeeOABLV26tMSWn56ermHDhpV4kC0pq1ev1tNPP+3qNiRJfn5+WrlypXbt2pVn3JQpU1S2bNnLnve2bds0bNiwYgfZ999/X++///5lLxf4pyjt6gYAXJ5Ro0apWrVqWrhwoUqX/r9T+fHHH9eoUaNc2Nml3XLLLa5uoUTt2rVLnTp10h133KElS5Y4BZ2oqCh1795dy5cvV7ly5VzY5fWtUaNGrm7B4d5779Wvv/6qKVOm6K233nIM37Vrl1auXKmnn35akyZNuia9pKeny8fHR7Vr174mywOud1yRBSzq2LFjKl++vFOIzVWqlPOpXdDHtBd/vJqenq4BAwaoWrVq8vLykr+/vxo2bKhZs2ZJunBLwHvvveeYZ+6/3KtJ7733nu6//34FBgaqTJkyqlOnjkaNGqXs7Gyn5eZ3a4HNZtMLL7ygGTNmqFatWvLx8VHdunU1f/58p7o//vhDTz31lGrUqCEfHx9VqlRJbdu21a+//prvdjp79qz69eun4OBgeXt7KyoqSps2bcq39mKff/65IiMjVaZMGfn6+iomJqZI044ZM0bp6el6//33C7xa16RJE9WtW9dp2M6dOxUbG6vAwEB5enqqVq1aju39d3v37tWTTz7pVDd69Gjl5ORIuvBxf4UKFSRJw4YNc+ynv+/roi7rxIkT6t+/v6pXry5PT08FBgaqdevW+u233/Jd72rVqsnX11eRkZFas2aN0/iuXbvK19dXf/zxh1q3bi1fX1+Fhoaqf//+yszMdKrN75j966+/9Oyzzyo0NFQeHh4KCQnRo48+qkOHDkm6sK/79++vO++8U3a7Xf7+/oqMjNQ333yT7z4oqlKlSqlz586aPn26YxtLF67GhoaGqnnz5vlOt2HDBrVr107+/v7y8vJSvXr19MUXXzjGT5s2Tf/6178kSU2bNnXsp2nTpkm6cIyEhYVp5cqVaty4sXx8fNStWzfHuItvLcjMzNTw4cNVq1YteXl5KSAgQE2bNlVSUpKjZs6cOYqIiJDdbpePj4+qV6/umCdgRVyRBSwqMjJSH3/8sfr06aMnnnhC9evXl7u7+xXNs1+/fpoxY4befPNN1atXT2fOnNGWLVt07NgxSRduCThz5oz+85//aPXq1Y7pKlasKOnCFarY2FhVq1ZNHh4e2rx5s9566y399ttvmjJlyiWX/91332n9+vUaPny4fH19NWrUKD388MPasWOHqlevLkk6cOCAAgICNHLkSFWoUEHHjx/X9OnTFRERoU2bNqlmzZpO83zllVdUv359ffzxx0pLS1N8fLyaNGmiTZs2OeaZn4SEBL366qt66qmn9OqrryorK0tvv/227rvvPq1bt67QK2KLFy9WxYoV1bBhw0uuc65t27apcePGqly5skaPHq3g4GAtXLhQffr00dGjRzV06FBJ0pEjR9S4cWNlZWXpjTfeUNWqVTV//nwNGDBAu3bt0vvvv6+KFSsqMTFRLVu2VPfu3R0f0eeG26Iu69SpU7r33nv1559/6uWXX1ZERIROnz6tlStX6uDBg7r99tsd/b/33nu6/fbbNW7cOEkXjpXWrVtr9+7dstvtjrrs7Gy1a9dO3bt3V//+/bVy5Uq98cYbstvtev311wvcPn/99ZfuuusuZWdn65VXXlF4eLiOHTumhQsXKjU1VUFBQcrMzNTx48c1YMAAVapUSVlZWVqyZIk6dOigqVOnqnPnzkXeHxfr1q2bRowYoYULF6pVq1Y6f/68pk+fru7du+f5xVGSli1bppYtWyoiIkIffvih7Ha7Zs+erccee0zp6enq2rWrHnzwQSUkJOiVV17Re++9p/r160ty/sTi4MGDevLJJzVw4EAlJCTkuyxJOnfunFq1aqUff/xRffv21QMPPKBz585pzZo12rt3rxo3bqzVq1frscce02OPPab4+Hh5eXlpz549JXqLC1DiDABLOnr0qLn33nuNJCPJuLu7m8aNG5sRI0aYU6dOOdVKMkOHDs0zjypVqpguXbo4XoeFhZmHHnqo0OX26tXLFOWt4/z58yY7O9t88sknxs3NzRw/ftwxrkuXLqZKlSp5egwKCjInT550DEtJSTGlSpUyI0aMKHA5586dM1lZWaZGjRrmpZdecgxftmyZkWTq169vcnJyHMP//PNP4+7ubp5++mnHsKFDhzqt0969e03p0qVN7969nZZ16tQpExwcbDp27Fjount5eZlGjRrlGZ67TXL/nT9/3jEuJibG3HzzzSYtLc1pmhdeeMF4eXk5tt+gQYOMJLN27Vqnup49exqbzWZ27NhhjDHmyJEjBe73oi5r+PDhRpJZvHhxgeu6e/duI8nUqVPHnDt3zjF83bp1RpKZNWuWY1iXLl2MJPPFF184zaN169amZs2aTsMu7r1bt27G3d3dbNu2rcBeLnbu3DmTnZ1tunfvburVq+c07uJjvyBVqlQxDz74oDHGmKioKPPoo48aY4z57rvvjM1mM7t37zZz5swxksyyZcsc091+++2mXr16Jjs722l+bdq0MRUrVnTs+/ymzRUVFWUkmR9++CHfcVFRUY7Xn3zyiZFkJk2aVOC6/Pvf/zaSzIkTJy653oBVcGsBYFEBAQH68ccftX79eo0cOVLt27fX77//rsGDB6tOnTo6evRosed599136/vvv9egQYO0fPlyZWRkFGv6TZs2qV27dgoICJCbm5vc3d3VuXNnnT9/Xr///vslp2/atKn8/Pwcr4OCghQYGKg9e/Y4hp07d04JCQmqXbu2PDw8VLp0aXl4eGjnzp3avn17nnnGxsY6PZGgSpUqaty4sZYtW1ZgHwsXLtS5c+fUuXNnnTt3zvHPy8tLUVFRl/0Fqg4dOsjd3d3xr0+fPpIufCT+ww8/6OGHH5aPj4/TMlu3bq2zZ886PqZfunSpateurbvvvttp3l27dpUx5pJX14qzrO+//1633XZbgR+d/92DDz4oNzc3x+vw8HBJctp30oVbBtq2bes0LDw8PE/dxb7//ns1bdpUtWrVKrRuzpw5uueee+Tr66vSpUvL3d1dkydPzvfYKK5u3bpp3rx5OnbsmCZPnqymTZvm+/SNP/74Q7/99pueeOIJScqzjQ8ePKgdO3YUaZnlypXTAw88cMm677//Xl5eXoXeJnDXXXdJkjp27KgvvvhCf/31V5F6AK5nBFnA4ho2bKiXX35Zc+bM0YEDB/TSSy/pzz//vKwvfL377rt6+eWX9fXXX6tp06by9/fXQw89pJ07d15y2r179+q+++7TX3/9pXfeeccRsnPvuyxKKA4ICMgzzNPT02nafv366bXXXtNDDz2kb7/9VmvXrtX69etVt27dfJcRHByc77Dc2yXyk3vP5V133eUUPN3d3fX5559f8peEypUr5xvMRo8erfXr12v9+vVOw48dO6Zz585p/PjxeZbXunVrSXIs89ixY45bOf4uJCTEMb4wxVnWkSNHdPPNNxc6v1wX7ztPT09Jefe7j4+PvLy88tSePXu20PkXpZevvvpKHTt2VKVKlTRz5kytXr1a69evV7du3S45/6J49NFH5eXlpbFjx+rbb79V9+7d863LPX4GDBiQZxs///zzklTkXzTz29f5OXLkiEJCQgq89UCS7r//fn399deOX9JuvvlmhYWFOe6BB6yIe2SBfxB3d3cNHTpUY8eO1ZYtWxzDPT0983yZRsobesqUKaNhw4Zp2LBhOnTokOPqbNu2bfP9cs/fff311zpz5oy++uorValSxTE8OTn5ylbqIjNnzlTnzp2VkJDgNPzo0aO66aab8tSnpKTkOyy/0JyrfPnykqT//Oc/TutSVNHR0Xrvvfe0YcMGp/tkC3paQ7ly5eTm5qa4uDj16tUr35pq1apJuhAYDx48mGf8gQMHnHovSHGWVaFCBe3fv7/Q+V0rRell5syZqlatmj7//HOnq/D5HfuXw8fHR48//rhGjBihsmXLqkOHDvnW5e6DwYMHF1hz8b3cBSnq840rVKigVatWKScnp9Aw2759e7Vv316ZmZlas2aNRowYodjYWFWtWlWRkZFFWhZwPSHIAhZ18ODBfK/W5H6EmnuFTrrwdIJffvnFqW7p0qU6ffp0gfMPCgpS165dtXnzZo0bN87x2J+/X2nz9vZ21Of+wM0dL0nGmKv+WCKbzea0DOnCl8T++usv3XrrrXnqZ82apX79+jn627Nnj5KSkgr94k9MTIxKly6tXbt26ZFHHil2jy+99JKmTp2qXr16acmSJU63S+THx8dHTZs21aZNmxQeHi4PD48Ca5s1a6YRI0bo559/dnw5SPq/B/M3bdpUUuFXRIu6rFatWun111/X0qVLi/Txdklq1aqVZsyYoR07dhQYAm02mzw8PJzCX0pKyhU/teDvevbsqUOHDikqKirPleVcNWvWVI0aNbR58+Y8v3BdrKD9VFytWrXSrFmzNG3atCI9hcDT01NRUVG66aabtHDhQm3atIkgC0siyAIWFRMTo5tvvllt27bV7bffrpycHCUnJ2v06NHy9fXViy++6KiNi4vTa6+9ptdff11RUVHatm2bJkyY4PRtckmKiIhQmzZtFB4ernLlymn79u2aMWOGIiMj5ePjI0mqU6eOJOn//b//p1atWsnNzU3h4eGKjo6Wh4eHOnXqpIEDB+rs2bP64IMPlJqaelXXu02bNpo2bZpuv/12hYeHa+PGjXr77bcL/Nj58OHDevjhh/XMM88oLS1NQ4cOlZeXlwYPHlzgMqpWrarhw4dryJAh+u9//6uWLVuqXLlyOnTokNatW+e4cl2QW265RbNmzVKnTp1Up04d9ezZU/Xr15enp6cOHz6sRYsWSZLTo7neeecd3XvvvbrvvvvUs2dPVa1aVadOndIff/yhb7/91nHv60svvaRPPvlEDz74oIYPH64qVarou+++0/vvv6+ePXvqtttuk3ThIf5VqlTRN998o2bNmsnf31/ly5dX1apVi7ysvn376vPPP1f79u01aNAg3X333crIyNCKFSvUpk0bR2i+FoYPH67vv/9e999/v1555RXVqVNHJ06cUGJiovr166fbb79dbdq00VdffaXnn39ejz76qPbt26c33nhDFStWLNLtMUVx55136uuvv75k3cSJE9WqVSvFxMSoa9euqlSpko4fP67t27fr559/1pw5cyRJYWFhkqSPPvpIfn5+8vLyUrVq1Qr9xCA/nTp10tSpU/Xcc89px44datq0qXJycrR27VrVqlVLjz/+uF5//XXt379fzZo1080336wTJ07onXfekbu7u6Kiooq9LYDrgqu/bQbg8nz++ecmNjbW1KhRw/j6+hp3d3dTuXJlExcXl+eb3ZmZmWbgwIEmNDTUeHt7m6ioKJOcnJznm9uDBg0yDRs2NOXKlTOenp6mevXq5qWXXjJHjx51mtfTTz9tKlSoYGw2m5Fkdu/ebYwx5ttvvzV169Y1Xl5eplKlSuZ//ud/zPfff5/nW9kFPbWgV69eedbz4h5TU1NN9+7dTWBgoPHx8TH33nuv+fHHH/N8izv3qQUzZswwffr0MRUqVDCenp7mvvvuMxs2bHBaxsVPLcj19ddfm6ZNm5qyZcsaT09PU6VKFfPoo4+aJUuWFLBXnO3atcv07t3b1KxZ03h7ezvm8a9//cvMnTvX6WkKxlx4AkC3bt1MpUqVjLu7u6lQoYJp3LixefPNN53q9uzZY2JjY01AQIBxd3c3NWvWNG+//bbTUxCMMWbJkiWmXr16xtPT00hy2o5FXVZqaqp58cUXTeXKlY27u7sJDAw0Dz74oPntt98c85Fk3n777Tzrr4uePNClSxdTpkyZPHX5bf+LpzXGmH379plu3bqZ4OBg4+7ubkJCQkzHjh3NoUOHHDUjR440VatWNZ6enqZWrVpm0qRJ+c7/cp5aUJCCnjywefNm07FjRxMYGGjc3d1NcHCweeCBB8yHH37oVDdu3DhTrVo14+bmZiSZqVOnGmMuPJngjjvuyHeZFx/vxhiTkZFhXn/9dVOjRg3j4eFhAgICzAMPPGCSkpKMMcbMnz/ftGrVylSqVMl4eHiYwMBA07p1a/Pjjz9ecjsA1yubMSX4x74BAACAEsJTCwAAAGBJBFkAAABYEkEWAAAAlkSQBQAAgCURZAEAAGBJBFkAAABYEn8QoYhycnJ04MAB+fn5FflPBgIAAKB4jDE6deqUQkJCCv2TyxJBtsgOHDig0NBQV7cBAABwQ9i3b1+Bf7UxF0G2iHL/Vvq+ffuc/qwkri/Z2dlatGiRWrRoIXd3d1e3A7gU5wPgjHPCGk6ePKnQ0FBH9ioMQbaIcm8nKFu2LEH2OpadnS0fHx+VLVuWNync8DgfAGecE9ZSlFs5+bIXAAAALIkgCwAAAEsiyAIAAMCSCLIAAACwJIIsAAAALIkgCwAAAEsiyAIAAMCSCLIAAACwJIIsAAAALIkgCwAAAEsiyAIAAMCSCLIAAACwJIIsAAAALKm0qxtA/oYNG+bqFiypVKlSCg8P18iRI5WTk+Pqdixl6NChrm4BAIBicekV2fj4eNlsNqd/wcHBjvHGGMXHxyskJETe3t5q0qSJtm7d6jSPzMxM9e7dW+XLl1eZMmXUrl077d+/36kmNTVVcXFxstvtstvtiouL04kTJ67FKgIAAKCEuPzWgjvuuEMHDx50/Pv1118d40aNGqUxY8ZowoQJWr9+vYKDgxUdHa1Tp045avr27au5c+dq9uzZWrVqlU6fPq02bdro/PnzjprY2FglJycrMTFRiYmJSk5OVlxc3DVdTwAAAFxdLr+1oHTp0k5XYXMZYzRu3DgNGTJEHTp0kCRNnz5dQUFB+uyzz9SjRw+lpaVp8uTJmjFjhpo3by5JmjlzpkJDQ7VkyRLFxMRo+/btSkxM1Jo1axQRESFJmjRpkiIjI7Vjxw7VrFnz2q0sAAAArhqXB9mdO3cqJCREnp6eioiIUEJCgqpXr67du3crJSVFLVq0cNR6enoqKipKSUlJ6tGjhzZu3Kjs7GynmpCQEIWFhSkpKUkxMTFavXq17Ha7I8RKUqNGjWS325WUlFRgkM3MzFRmZqbj9cmTJyVJ2dnZys7OvtqbIY9SpVx+sdyScrcb26/4rsVxjWsrd5+yb4ELOCesoTj7x6VBNiIiQp988oluu+02HTp0SG+++aYaN26srVu3KiUlRZIUFBTkNE1QUJD27NkjSUpJSZGHh4fKlSuXpyZ3+pSUFAUGBuZZdmBgoKMmPyNGjMj3C1eLFi2Sj49P8Vb0MoSHh5f4Mv7JwsLCXN2C5SxYsMDVLaCELF682NUtANcVzonrW3p6epFrXRpkW7Vq5fh/nTp1FBkZqVtuuUXTp09Xo0aNJEk2m81pGmNMnmEXu7gmv/pLzWfw4MHq16+f4/XJkycVGhqqFi1aqGzZsoWv2FUwcuTIEl/GP1GpUqUUFhamLVu28NSCYho0aJCrW8BVlp2drcWLFys6Olru7u6ubgdwOc4Ja8j9FLwoXH5rwd+VKVNGderU0c6dO/XQQw9JunBFtWLFio6aw4cPO67SBgcHKysrS6mpqU5XZQ8fPqzGjRs7ag4dOpRnWUeOHMlztffvPD095enpmWe4u7v7NTn4CWFXJicnh21YTLyp/3Ndq/ctwCo4J65vxdk319WNhJmZmdq+fbsqVqyoatWqKTg42Onyf1ZWllasWOEIqQ0aNJC7u7tTzcGDB7VlyxZHTWRkpNLS0rRu3TpHzdq1a5WWluaoAQAAgPW49IrsgAED1LZtW1WuXFmHDx/Wm2++qZMnT6pLly6y2Wzq27evEhISVKNGDdWoUUMJCQny8fFRbGysJMlut6t79+7q37+/AgIC5O/vrwEDBqhOnTqOpxjUqlVLLVu21DPPPKOJEydKkp599lm1adOGJxYAAABYmEuD7P79+9WpUycdPXpUFSpUUKNGjbRmzRpVqVJFkjRw4EBlZGTo+eefV2pqqiIiIrRo0SL5+fk55jF27FiVLl1aHTt2VEZGhpo1a6Zp06bJzc3NUfPpp5+qT58+jqcbtGvXThMmTLi2KwsAAICryqVBdvbs2YWOt9lsio+PV3x8fIE1Xl5eGj9+vMaPH19gjb+/v2bOnHm5bQIAAOA6dF3dIwsAAAAUFUEWAAAAlkSQBQAAgCURZAEAAGBJBFkAAABYEkEWAAAAlkSQBQAAgCURZAEAAGBJBFkAAABYEkEWAAAAlkSQBQAAgCURZAEAAGBJBFkAAABYEkEWAAAAlkSQBQAAgCURZAEAAGBJBFkAAABYEkEWAAAAlkSQBQAAgCURZAEAAGBJBFkAAABYEkEWAAAAlkSQBQAAgCURZAEAAGBJBFkAAABYEkEWAAAAlkSQBQAAgCURZAEAAGBJBFkAAABYEkEWAAAAlkSQBQAAgCURZAEAAGBJBFkAAABYEkEWAAAAlkSQBQAAgCURZAEAAGBJBFkAAABYEkEWAAAAlkSQBQAAgCURZAEAAGBJBFkAAABYEkEWAAAAlkSQBQAAgCURZAEAAGBJBFkAAABYEkEWAAAAlkSQBQAAgCURZAEAAGBJBFkAAABYEkEWAAAAlnTdBNkRI0bIZrOpb9++jmHGGMXHxyskJETe3t5q0qSJtm7d6jRdZmamevfurfLly6tMmTJq166d9u/f71STmpqquLg42e122e12xcXF6cSJE9dgrQAAAFBSrosgu379en300UcKDw93Gj5q1CiNGTNGEyZM0Pr16xUcHKzo6GidOnXKUdO3b1/NnTtXs2fP1qpVq3T69Gm1adNG58+fd9TExsYqOTlZiYmJSkxMVHJysuLi4q7Z+gEAAODqc3mQPX36tJ544glNmjRJ5cqVcww3xmjcuHEaMmSIOnTooLCwME2fPl3p6en67LPPJElpaWmaPHmyRo8erebNm6tevXqaOXOmfv31Vy1ZskSStH37diUmJurjjz9WZGSkIiMjNWnSJM2fP187duxwyToDAADgypV2dQO9evXSgw8+qObNm+vNN990DN+9e7dSUlLUokULxzBPT09FRUUpKSlJPXr00MaNG5Wdne1UExISorCwMCUlJSkmJkarV6+W3W5XRESEo6ZRo0ay2+1KSkpSzZo18+0rMzNTmZmZjtcnT56UJGVnZys7O/uqrX9BSpVy+e8YlpS73dh+xXctjmtcW7n7lH0LXMA5YQ3F2T8uDbKzZ8/Wzz//rPXr1+cZl5KSIkkKCgpyGh4UFKQ9e/Y4ajw8PJyu5ObW5E6fkpKiwMDAPPMPDAx01ORnxIgRGjZsWJ7hixYtko+PzyXW7MpdfJsFiicsLMzVLVjOggULXN0CSsjixYtd3QJwXeGcuL6lp6cXudZlQXbfvn168cUXtWjRInl5eRVYZ7PZnF4bY/IMu9jFNfnVX2o+gwcPVr9+/RyvT548qdDQULVo0UJly5YtdPlXw8iRI0t8Gf9EpUqVUlhYmLZs2aKcnBxXt2MpgwYNcnULuMqys7O1ePFiRUdHy93d3dXtAC7HOWENuZ+CF4XLguzGjRt1+PBhNWjQwDHs/PnzWrlypSZMmOC4fzUlJUUVK1Z01Bw+fNhxlTY4OFhZWVlKTU11uip7+PBhNW7c2FFz6NChPMs/cuRInqu9f+fp6SlPT888w93d3a/JwU8IuzI5OTlsw2LiTf2f61q9bwFWwTlxfSvOvnHZjYTNmjXTr7/+quTkZMe/hg0b6oknnlBycrKqV6+u4OBgp8v/WVlZWrFihSOkNmjQQO7u7k41Bw8e1JYtWxw1kZGRSktL07p16xw1a9euVVpamqMGAAAA1uOyK7J+fn557mMsU6aMAgICHMP79u2rhIQE1ahRQzVq1FBCQoJ8fHwUGxsrSbLb7erevbv69++vgIAA+fv7a8CAAapTp46aN28uSapVq5ZatmypZ555RhMnTpQkPfvss2rTpk2BX/QCAADA9c/lTy0ozMCBA5WRkaHnn39eqampioiI0KJFi+Tn5+eoGTt2rEqXLq2OHTsqIyNDzZo107Rp0+Tm5uao+fTTT9WnTx/H0w3atWunCRMmXPP1AQAAwNVzXQXZ5cuXO7222WyKj49XfHx8gdN4eXlp/PjxGj9+fIE1/v7+mjlz5lXqEgAAANcDHrYJAAAASyLIAgAAwJIIsgAAALAkgiwAAAAsiSALAAAASyLIAgAAwJIIsgAAALAkgiwAAAAsiSALAAAASyLIAgAAwJIIsgAAALAkgiwAAAAsiSALAAAASyLIAgAAwJIIsgAAALAkgiwAAAAsiSALAAAASyLIAgAAwJIIsgAAALAkgiwAAAAsiSALAAAASyLIAgAAwJIIsgAAALAkgiwAAAAsiSALAAAASyLIAgAAwJIIsgAAALAkgiwAAAAsqbSrGwCAorANs7m6BcvxLuWtWeGzZB9pV0ZOhqvbsRwz1Li6BQCXwBVZAAAAWBJBFgAAAJZEkAUAAIAlEWQBAABgSQRZAAAAWBJBFgAAAJZEkAUAAIAlEWQBAABgSQRZAAAAWBJBFgAAAJZEkAUAAIAlEWQBAABgSQRZAAAAWBJBFgAAAJZEkAUAAIAlEWQBAABgSQRZAAAAWBJBFgAAAJZEkAUAAIAlEWQBAABgSQRZAAAAWJJLg+wHH3yg8PBwlS1bVmXLllVkZKS+//57x3hjjOLj4xUSEiJvb281adJEW7dudZpHZmamevfurfLly6tMmTJq166d9u/f71STmpqquLg42e122e12xcXF6cSJE9diFQEAAFBCXBpkb775Zo0cOVIbNmzQhg0b9MADD6h9+/aOsDpq1CiNGTNGEyZM0Pr16xUcHKzo6GidOnXKMY++fftq7ty5mj17tlatWqXTp0+rTZs2On/+vKMmNjZWycnJSkxMVGJiopKTkxUXF3fN1xcAAABXT2lXLrxt27ZOr9966y198MEHWrNmjWrXrq1x48ZpyJAh6tChgyRp+vTpCgoK0meffaYePXooLS1NkydP1owZM9S8eXNJ0syZMxUaGqolS5YoJiZG27dvV2JiotasWaOIiAhJ0qRJkxQZGakdO3aoZs2a13alAQAAcFW4NMj+3fnz5zVnzhydOXNGkZGR2r17t1JSUtSiRQtHjaenp6KiopSUlKQePXpo48aNys7OdqoJCQlRWFiYkpKSFBMTo9WrV8tutztCrCQ1atRIdrtdSUlJBQbZzMxMZWZmOl6fPHlSkpSdna3s7Oyrvfp5lCrF7cuXI3e7sf2K71oc11fCu5S3q1uwnNxtxra7PNf7OYHiy92n7NvrW3H2j8uD7K+//qrIyEidPXtWvr6+mjt3rmrXrq2kpCRJUlBQkFN9UFCQ9uzZI0lKSUmRh4eHypUrl6cmJSXFURMYGJhnuYGBgY6a/IwYMULDhg3LM3zRokXy8fEp3kpehvDw8BJfxj9ZWFiYq1uwnAULFri6hULNCp/l6hYsa0rYFFe3YEnX+zmBy7d48WJXt4BCpKenF7nW5UG2Zs2aSk5O1okTJ/Tll1+qS5cuWrFihWO8zWZzqjfG5Bl2sYtr8qu/1HwGDx6sfv36OV6fPHlSoaGhatGihcqWLXvJ9bpSI0eOLPFl/BOVKlVKYWFh2rJli3JyclzdjqUMGjTI1S0Uyj7S7uoWLMe7lLemhE1Rty3dlJGT4ep2LCdtUJqrW8BVlp2drcWLFys6Olru7u6ubgcFyP0UvChcHmQ9PDx06623SpIaNmyo9evX65133tHLL78s6cIV1YoVKzrqDx8+7LhKGxwcrKysLKWmpjpdlT18+LAaN27sqDl06FCe5R45ciTP1d6/8/T0lKenZ57h7u7u1+TgJ4RdmZycHLZhMV3vb+oEscuXkZPB9rsM1/s5gct3rX6W4/IUZ99c1o2E586d05IlSzRx4kTHEwQOHDig06dPX87snBhjlJmZqWrVqik4ONjp8n9WVpZWrFjhCKkNGjSQu7u7U83Bgwe1ZcsWR01kZKTS0tK0bt06R83atWuVlpbmqAEAAID1FPuK7J49e9SyZUvt3btXmZmZio6Olp+fn0aNGqWzZ8/qww8/LPK8XnnlFbVq1UqhoaE6deqUZs+ereXLlysxMVE2m019+/ZVQkKCatSooRo1aighIUE+Pj6KjY2VJNntdnXv3l39+/dXQECA/P39NWDAANWpU8fxFINatWqpZcuWeuaZZzRx4kRJ0rPPPqs2bdrwxAIAAAALK3aQffHFF9WwYUNt3rxZAQEBjuEPP/ywnn766WLN69ChQ4qLi9PBgwdlt9sVHh6uxMRERUdHS5IGDhyojIwMPf/880pNTVVERIQWLVokPz8/xzzGjh2r0qVLq2PHjsrIyFCzZs00bdo0ubm5OWo+/fRT9enTx/F0g3bt2mnChAnFXXUAAABcR4odZFetWqWffvpJHh4eTsOrVKmiv/76q1jzmjx5cqHjbTab4uPjFR8fX2CNl5eXxo8fr/HjxxdY4+/vr5kzZxarNwAAAFzfin2PbE5OjtNfzcq1f/9+pyulAAAAQEkqdpCNjo7WuHHjHK9tNptOnz6toUOHqnXr1lezNwAAAKBAxb61YOzYsWratKlq166ts2fPKjY2Vjt37lT58uU1axYPLAcAAMC1UewgGxISouTkZM2aNUs///yzcnJy1L17dz3xxBPy9ubPIAIAAODauKw/iODt7a1u3bqpW7duV7sfAAAAoEiKHWQ/+eSTQsd37tz5spsBAAAAiuqyniP7d9nZ2UpPT5eHh4d8fHwIsgAAALgmiv3UgtTUVKd/p0+f1o4dO3TvvffyZS8AAABcM8UOsvmpUaOGRo4cmedqLQAAAFBSrkqQlSQ3NzcdOHDgas0OAAAAKFSx75GdN2+e02tjjA4ePKgJEybonnvuuWqNAQAAAIUpdpB96KGHnF7bbDZVqFBBDzzwgEaPHn21+gIAAAAKVewgm5OTUxJ9AAAAAMVy1e6RBQAAAK6lIl2R7devX5FnOGbMmMtuBgAAACiqIgXZTZs2FWlmNpvtipoBAAAAiqpIQXbZsmUl3QcAAABQLNwjCwAAAEsq9lMLJGn9+vWaM2eO9u7dq6ysLKdxX3311VVpDAAAAChMsa/Izp49W/fcc4+2bdumuXPnKjs7W9u2bdPSpUtlt9tLokcAAAAgj2IH2YSEBI0dO1bz58+Xh4eH3nnnHW3fvl0dO3ZU5cqVS6JHAAAAII9iB9ldu3bpwQcflCR5enrqzJkzstlseumll/TRRx9d9QYBAACA/BQ7yPr7++vUqVOSpEqVKmnLli2SpBMnTig9Pf3qdgcAAAAUoMhBNjk5WZJ03333afHixZKkjh076sUXX9QzzzyjTp06qVmzZiXSJAAAAHCxIj+1oH79+qpXr54eeughderUSZI0ePBgubu7a9WqVerQoYNee+21EmsUAAAA+LsiX5H96aefVL9+ff373//WLbfcoieffFIrVqzQwIEDNW/ePI0ZM0blypUryV4BAAAAhyIH2cjISE2aNEkpKSn64IMPtH//fjVv3ly33HKL3nrrLe3fv78k+wQAAACcFPvLXt7e3urSpYuWL1+u33//XZ06ddLEiRNVrVo1tW7duiR6BAAAAPK4oj9Re8stt2jQoEEaMmSIypYtq4ULF16tvgAAAIBCXdafqJWkFStWaMqUKfryyy/l5uamjh07qnv37lezNwAAAKBAxQqy+/bt07Rp0zRt2jTt3r1bjRs31vjx49WxY0eVKVOmpHoEAAAA8ihykI2OjtayZctUoUIFde7cWd26dVPNmjVLsjcAAACgQEUOst7e3vryyy/Vpk0bubm5lWRPAAAAwCUVOcjOmzevJPsAAAAAiuWKnloAAAAAuApBFgAAAJZEkAUAAIAlEWQBAABgSQRZAAAAWBJBFgAAAJZEkAUAAIAlEWQBAABgSQRZAAAAWBJBFgAAAJZEkAUAAIAlEWQBAABgSQRZAAAAWBJBFgAAAJZEkAUAAIAlEWQBAABgSS4NsiNGjNBdd90lPz8/BQYG6qGHHtKOHTucaowxio+PV0hIiLy9vdWkSRNt3brVqSYzM1O9e/dW+fLlVaZMGbVr10779+93qklNTVVcXJzsdrvsdrvi4uJ04sSJkl5FAAAAlBCXBtkVK1aoV69eWrNmjRYvXqxz586pRYsWOnPmjKNm1KhRGjNmjCZMmKD169crODhY0dHROnXqlKOmb9++mjt3rmbPnq1Vq1bp9OnTatOmjc6fP++oiY2NVXJyshITE5WYmKjk5GTFxcVd0/UFAADA1VPalQtPTEx0ej116lQFBgZq48aNuv/++2WM0bhx4zRkyBB16NBBkjR9+nQFBQXps88+U48ePZSWlqbJkydrxowZat68uSRp5syZCg0N1ZIlSxQTE6Pt27crMTFRa9asUUREhCRp0qRJioyM1I4dO1SzZs1ru+IAAAC4Yi4NshdLS0uTJPn7+0uSdu/erZSUFLVo0cJR4+npqaioKCUlJalHjx7auHGjsrOznWpCQkIUFhampKQkxcTEaPXq1bLb7Y4QK0mNGjWS3W5XUlJSvkE2MzNTmZmZjtcnT56UJGVnZys7O/vqrng+SpXi9uXLkbvd2H7Fdy2O6yvhXcrb1S1YTu42Y9tdnuv9nEDx5e5T9u31rTj757oJssYY9evXT/fee6/CwsIkSSkpKZKkoKAgp9qgoCDt2bPHUePh4aFy5crlqcmdPiUlRYGBgXmWGRgY6Ki52IgRIzRs2LA8wxctWiQfH59irl3xhYeHl/gy/slyjyEU3YIFC1zdQqFmhc9ydQuWNSVsiqtbsKTr/ZzA5Vu8eLGrW0Ah0tPTi1x73QTZF154Qb/88otWrVqVZ5zNZnN6bYzJM+xiF9fkV1/YfAYPHqx+/fo5Xp88eVKhoaFq0aKFypYtW+iyr4aRI0eW+DL+iUqVKqWwsDBt2bJFOTk5rm7HUgYNGuTqFgplH2l3dQuW413KW1PCpqjblm7KyMlwdTuWkzYozdUt4CrLzs7W4sWLFR0dLXd3d1e3gwLkfgpeFNdFkO3du7fmzZunlStX6uabb3YMDw4OlnThimrFihUdww8fPuy4ShscHKysrCylpqY6XZU9fPiwGjdu7Kg5dOhQnuUeOXIkz9XeXJ6envL09Mwz3N3d/Zoc/ISwK5OTk8M2LKbr/U2dIHb5MnIy2H6X4Xo/J3D5rtXPclye4uwbl95IaIzRCy+8oK+++kpLly5VtWrVnMZXq1ZNwcHBTh8BZGVlacWKFY6Q2qBBA7m7uzvVHDx4UFu2bHHUREZGKi0tTevWrXPUrF27VmlpaY4aAAAAWItLr8j26tVLn332mb755hv5+fk57le12+3y9vaWzWZT3759lZCQoBo1aqhGjRpKSEiQj4+PYmNjHbXdu3dX//79FRAQIH9/fw0YMEB16tRxPMWgVq1aatmypZ555hlNnDhRkvTss8+qTZs2PLEAAADAolwaZD/44ANJUpMmTZyGT506VV27dpUkDRw4UBkZGXr++eeVmpqqiIgILVq0SH5+fo76sWPHqnTp0urYsaMyMjLUrFkzTZs2TW5ubo6aTz/9VH369HE83aBdu3aaMGFCya4gAAAASoxLg6wx5pI1NptN8fHxio+PL7DGy8tL48eP1/jx4wus8ff318yZMy+nTQAAAFyHeNgmAAAALIkgCwAAAEsiyAIAAMCSCLIAAACwJIIsAAAALIkgCwAAAEsiyAIAAMCSCLIAAACwJIIsAAAALIkgCwAAAEsiyAIAAMCSCLIAAACwJIIsAAAALIkgCwAAAEsiyAIAAMCSCLIAAACwJIIsAAAALIkgCwAAAEsiyAIAAMCSCLIAAACwJIIsAAAALIkgCwAAAEsiyAIAAMCSCLIAAACwJIIsAAAALIkgCwAAAEsiyAIAAMCSCLIAAACwJIIsAAAALIkgCwAAAEsiyAIAAMCSCLIAAACwJIIsAAAALIkgCwAAAEsiyAIAAMCSCLIAAACwJIIsAAAALIkgCwAAAEsiyAIAAMCSCLIAAACwJIIsAAAALIkgCwAAAEsiyAIAAMCSCLIAAACwJIIsAAAALIkgCwAAAEsiyAIAAMCSCLIAAACwJIIsAAAALIkgCwAAAEtyaZBduXKl2rZtq5CQENlsNn399ddO440xio+PV0hIiLy9vdWkSRNt3brVqSYzM1O9e/dW+fLlVaZMGbVr10779+93qklNTVVcXJzsdrvsdrvi4uJ04sSJEl47AAAAlCSXBtkzZ86obt26mjBhQr7jR40apTFjxmjChAlav369goODFR0drVOnTjlq+vbtq7lz52r27NlatWqVTp8+rTZt2uj8+fOOmtjYWCUnJysxMVGJiYlKTk5WXFxcia8fAAAASk5pVy68VatWatWqVb7jjDEaN26chgwZog4dOkiSpk+frqCgIH322Wfq0aOH0tLSNHnyZM2YMUPNmzeXJM2cOVOhoaFasmSJYmJitH37diUmJmrNmjWKiIiQJE2aNEmRkZHasWOHataseW1WFgAAAFeVS4NsYXbv3q2UlBS1aNHCMczT01NRUVFKSkpSjx49tHHjRmVnZzvVhISEKCwsTElJSYqJidHq1atlt9sdIVaSGjVqJLvdrqSkpAKDbGZmpjIzMx2vT548KUnKzs5Wdnb21V7dPEqV4vbly5G73dh+xXctjusr4V3K29UtWE7uNmPbXZ7r/ZxA8eXuU/bt9a04++e6DbIpKSmSpKCgIKfhQUFB2rNnj6PGw8ND5cqVy1OTO31KSooCAwPzzD8wMNBRk58RI0Zo2LBheYYvWrRIPj4+xVuZyxAeHl7iy/gnCwsLc3ULlrNgwQJXt1CoWeGzXN2CZU0Jm+LqFizpej8ncPkWL17s6hZQiPT09CLXXrdBNpfNZnN6bYzJM+xiF9fkV3+p+QwePFj9+vVzvD558qRCQ0PVokULlS1btqjtX7aRI0eW+DL+iUqVKqWwsDBt2bJFOTk5rm7HUgYNGuTqFgplH2l3dQuW413KW1PCpqjblm7KyMlwdTuWkzYozdUt4CrLzs7W4sWLFR0dLXd3d1e3gwLkfgpeFNdtkA0ODpZ04YpqxYoVHcMPHz7suEobHBysrKwspaamOl2VPXz4sBo3buyoOXToUJ75HzlyJM/V3r/z9PSUp6dnnuHu7u7X5OAnhF2ZnJwctmExXe9v6gSxy5eRk8H2uwzX+zmBy3etfpbj8hRn31y3NxJWq1ZNwcHBTpf/s7KytGLFCkdIbdCggdzd3Z1qDh48qC1btjhqIiMjlZaWpnXr1jlq1q5dq7S0NEcNAAAArMelV2RPnz6tP/74w/F69+7dSk5Olr+/vypXrqy+ffsqISFBNWrUUI0aNZSQkCAfHx/FxsZKkux2u7p3767+/fsrICBA/v7+GjBggOrUqeN4ikGtWrXUsmVLPfPMM5o4caIk6dlnn1WbNm14YgEAAICFuTTIbtiwQU2bNnW8zr0ntUuXLpo2bZoGDhyojIwMPf/880pNTVVERIQWLVokPz8/xzRjx45V6dKl1bFjR2VkZKhZs2aaNm2a3NzcHDWffvqp+vTp43i6Qbt27Qp8di0AAACswaVBtkmTJjLGFDjeZrMpPj5e8fHxBdZ4eXlp/PjxGj9+fIE1/v7+mjlz5pW0CgAAgOvMdXuPLAAAAFAYgiwAAAAsiSALAAAASyLIAgAAwJIIsgAAALAkgiwAAAAsiSALAAAASyLIAgAAwJIIsgAAALAkgiwAAAAsiSALAAAASyLIAgAAwJIIsgAAALAkgiwAAAAsiSALAAAASyLIAgAAwJIIsgAAALAkgiwAAAAsiSALAAAASyLIAgAAwJIIsgAAALAkgiwAAAAsiSALAAAASyLIAgAAwJIIsgAAALAkgiwAAAAsiSALAAAASyLIAgAAwJIIsgAAALAkgiwAAAAsiSALAAAASyLIAgAAwJIIsgAAALAkgiwAAAAsiSALAAAASyLIAgAAwJIIsgAAALAkgiwAAAAsiSALAAAASyLIAgAAwJIIsgAAALAkgiwAAAAsiSALAAAASyLIAgAAwJIIsgAAALAkgiwAAAAsiSALAAAASyLIAgAAwJIIsgAAALAkgiwAAAAs6YYKsu+//76qVasmLy8vNWjQQD/++KOrWwIAAMBlumGC7Oeff66+fftqyJAh2rRpk+677z61atVKe/fudXVrAAAAuAw3TJAdM2aMunfvrqefflq1atXSuHHjFBoaqg8++MDVrQEAAOAylHZ1A9dCVlaWNm7cqEGDBjkNb9GihZKSkvKdJjMzU5mZmY7XaWlpkqTjx48rOzu75Jr9X1lZWSW+jH+iUqVKKT09XVlZWcrJyXF1O5Zy7NgxV7dQKK8sL1e3YDlepbyUnp4urywvmRzj6nYs53o/J1B82dnZSk9P17Fjx+Tu7u7qdlCAU6dOSZKMufT71g0RZI8eParz588rKCjIaXhQUJBSUlLynWbEiBEaNmxYnuHVqlUrkR4BV0tISHB1C7jKzuqsYhXr6jYsq3xCeVe3ANzQTp06JbvdXmjNDRFkc9lsNqfXxpg8w3INHjxY/fr1c7zOycnR8ePHFRAQUOA0cL2TJ08qNDRU+/btU9myZV3dDuBSnA+AM84JazDG6NSpUwoJCblk7Q0RZMuXLy83N7c8V18PHz6c5yptLk9PT3l6ejoNu+mmm0qqRVxlZcuW5U0K+F+cD4Azzonr36WuxOa6Ib7s5eHhoQYNGmjx4sVOwxcvXqzGjRu7qCsAAABciRviiqwk9evXT3FxcWrYsKEiIyP10Ucfae/evXruuedc3RoAAAAuww0TZB977DEdO3ZMw4cP18GDBxUWFqYFCxaoSpUqrm4NV5Gnp6eGDh2a57YQ4EbE+QA445z457GZojzbAAAAALjO3BD3yAIAAOCfhyALAAAASyLIAgAAwJIIsrjqunbtqoceeshly588ebJatGhx3fRzJQ4fPqwKFSror7/+cnUruAHcf//9+uyzz/IMX758uaZNm5ZnOMcnrlc2m01ff/31VZ1nkyZN1Ldv30JrqlatqnHjxuXbx59//imbzabk5OSr2teNjiB7g0pJSVHv3r1VvXp1eXp6KjQ0VG3bttUPP/zg6tauSGZmpl5//XW99tpr12R5X375pZo0aSK73S5fX1+Fh4dr+PDhOn78uKMmIyNDQ4cOVc2aNeXp6any5cvr0Ucf1datWy85/8DAQMXFxWno0KEluRpwkZI+D6dNm1bkP+Qyf/58paSk6PHHHy/y/Dk+cfjwYfXo0UOVK1eWp6engoODFRMTo9WrV1/xvK8k+B08eFCtWrW64h6Ka/369Xr22WfzHRcaGup4apJ04RdEm82mEydOXMMO/3kIsjegP//8Uw0aNNDSpUs1atQo/frrr0pMTFTTpk3Vq1evy57v+fPnlZOTcxU7Lb4vv/xSvr6+uu+++0p8WUOGDNFjjz2mu+66S99//722bNmi0aNHa/PmzZoxY4akC8G6efPmmjJlit544w39/vvvWrBggc6fP6+IiAitWbPmkst56qmn9Omnnyo1NbWkVwnXUEmdh5fr3Xff1VNPPaVSpf7vx0JycrKio6P1yCOPqHfv3qpTp47i4+OdpuP4vLE98sgj2rx5s6ZPn67ff/9d8+bNU5MmTZx+mXeF4OBglzxiq0KFCvLx8cl3nJubm4KDg1W69A3z5NNrw+CG06pVK1OpUiVz+vTpPONSU1Md/x89erQJCwszPj4+5uabbzY9e/Y0p06dcoyfOnWqsdvt5ttvvzW1atUybm5u5r///a/p0qWLad++vYmPjzcVKlQwfn5+5tlnnzWZmZmOac+ePWt69+5tKlSoYDw9Pc0999xj1q1b5xi/bNkyI8ksWbLENGjQwHh7e5vIyEjz22+/Fbpubdu2NQMGDHAalttPrg0bNpgKFSqYN9980zHsjTfeMBUqVDC+vr6me/fu5uWXXzZ169YtcDlr1641ksy4cePyHZ+7HUeOHGlsNptJTk52Gn/+/HnTsGFDU7t2bZOTk1PoOhljTNWqVc3kyZMvWQfrKOp5uGfPHtOuXTtTpkwZ4+fnZ/71r3+ZlJQUx/jk5GTTpEkT4+vra/z8/Ez9+vXN+vXrHefQ3/8NHTo0316OHDlibDab2bJli9PwypUrm3bt2pmJEyea4cOHm3nz5pmRI0fmmZ7j88aUmppqJJnly5fnO3737t1Gktm0aVOeaZYtW2aMMeb48eMmNjbWlC9f3nh5eZlbb73VTJkyxRhj8hy/UVFRxhhj1q1bZ5o3b24CAgJM2bJlzf333282btzotGxJZu7cuU59fPnll6ZJkybG29vbhIeHm6SkJEf90aNHzeOPP24qVapkvL29TVhYmPnss8+c5hkVFWV69eplevXqZex2u/H39zdDhgxxeg+vUqWKGTt2bKF9bNq0yfH/v//r0qWLmT59uvH39zdnz551WnaHDh1MXFxcofvjRkWQvcEcO3bM2Gw2k5CQcMnasWPHmqVLl5r//ve/5ocffjA1a9Y0PXv2dIyfOnWqcXd3N40bNzY//fST+e2338zp06dNly5djK+vr3nsscfMli1bzPz5802FChXMK6+84pi2T58+JiQkxCxYsMBs3brVdOnSxZQrV84cO3bMGPN/QTYiIsIsX77cbN261dx3332mcePGhfZ80003mdmzZzsN+3uQXbZsmbHb7eb99993jJ85c6bx8vIyU6ZMMTt27DDDhg0zZcuWLTTI9unTx/j6+pqsrKxC+wkPDzctWrTId9ynn36a502+IB07djRdu3a9ZB2soajnYU5OjqlXr5659957zYYNG8yaNWtM/fr1HT/QjTHmjjvuME8++aTZvn27+f33380XX3xhkpOTTWZmphk3bpwpW7asOXjwoDl48KDTL6J/N3fuXFOmTBlz/vx5x7AjR44YSWbVqlVm2bJlZurUqQX2yfF5Y8rOzja+vr6mb9++eYKXMUULsr169TJ33nmnWb9+vdm9e7dZvHixmTdvnjHmQmDNvaBx8OBBx8+HH374wcyYMcNs27bNbNu2zXTv3t0EBQWZkydPOpaTX4C8/fbbzfz5882OHTvMo48+aqpUqWKys7ONMcbs37/fvP3222bTpk1m165d5t133zVubm5mzZo1jnlGRUUZX19f8+KLL5rffvvNzJw50/j4+JiPPvrIUVPUIHvu3Dnz5ZdfGklmx44d5uDBg+bEiRMmPT3d2O1288UXXzjmceTIEePh4WGWLl1a/J10AyDI3mByryR+9dVXxZ72iy++MAEBAY7XU6dONZLyXG3s0qWL8ff3N2fOnHEM++CDD4yvr685f/68OX36tHF3dzeffvqpY3xWVpYJCQkxo0aNMsY4X5HN9d133xlJJiMjI9/+ct8gV65cmaef9u3bm6+//tr4+fnl+S07IiLC9OrVy2nYPffcU2iQbdWqlQkPDy9wfC4vLy/z4osv5jvu559/NpLM559/fsn5vPTSS6ZJkyaXrIM1FPU8XLRokXFzczN79+51DNu6dauR5PgEw8/Pz0ybNi3f6XM/NbmUsWPHmurVq+cZXrNmTRMTE2PGjh1baJDl+Lxx/ec//zHlypUzXl5epnHjxmbw4MFm8+bNxpiiBdm2bduap556Kt955zd9fs6dO2f8/PzMt99+6xiWX4D8+OOPHeNzz6Pt27cXON/WrVub/v37O15HRUWZWrVqOV2Bffnll02tWrUcr4saZI35v59zf/8ExhhjevbsaVq1auV4PW7cOFO9evUifXp3I+Ie2RuM+d8/5Gaz2S5Zu2zZMkVHR6tSpUry8/NT586ddezYMZ05c8ZR4+HhofDw8DzT1q1b1+k+ocjISJ0+fVr79u3Trl27lJ2drXvuuccx3t3dXXfffbe2b9/uNJ+/z7tixYqSLny5ID8ZGRmSJC8vrzzj1q5dq0ceeUTTp09Xp06dnMbt2LFDd999t9Owi19fzBhTpG14qXlIF/bFrl279PDDD6t9+/a66667tHDhQqdab29vpaenX9HycP0o6nm4fft2hYaGKjQ01DGsdu3auummmxznSr9+/fT000+refPmGjlypHbt2lXsfjIyMvI9bxYuXKigoCAlJCToueeeU7NmzbR06dI8dRyfN65HHnlEBw4c0Lx58xQTE6Ply5erfv36+T7lIj89e/bU7Nmzdeedd2rgwIFKSkq65DSHDx/Wc889p9tuu012u112u12nT5/W3r17C52usJ8n58+f11tvvaXw8HAFBATI19dXixYtyjPPRo0aOZ23kZGR2rlzp86fP1+k9S2KZ555RosWLXI8DWTq1Knq2rXrFf/M+aciyN5gatSoIZvNlicwXmzPnj1q3bq1wsLC9OWXX2rjxo167733JEnZ2dmOOm9v72KdXDabrcAf4vmFQ3d3d6dpJRX4hbKAgADZbLZ8v3Ryyy236Pbbb9eUKVOUlZWVb18X91KY2267zRHIL1W3bdu2fMf99ttvki7sk2rVqmnu3Ln65ptv1K9fP3388cdOtcePH1eFChUKXRaso6jnYUG/MP19eHx8vLZu3aoHH3xQS5cuVe3atTV37txi9VO+fPl8z5sqVapo+vTp+uKLL/Tyyy/rzjvvVMuWLfM8cYPj88bm5eWl6Ohovf7660pKSlLXrl01dOhQxxcH//5+evF7ZqtWrbRnzx717dtXBw4cULNmzTRgwIBCl9e1a1dt3LhR48aNU1JSkpKTkxUQEJDve/vfFfbzZPTo0Ro7dqwGDhyopUuXKjk5WTExMZecZ0moV6+e6tatq08++UQ///yzfv31V3Xt2vWa92EVBNkbjL+/v2JiYvTee+85XVnNlfsYkA0bNujcuXMaPXq0GjVqpNtuu00HDhwo8nI2b97suEIqSWvWrJGvr69uvvlm3XrrrfLw8NCqVasc47Ozs7VhwwbVqlXrstfNw8NDtWvXzjc4li9fXkuXLtWuXbv02GOPOb2Z1qxZU+vWrXOq37BhQ6HLio2N1enTp/X+++/nOz53Oz7++ONasmSJNm/e7DQ+JydHY8eOVe3atVW3bl3HG/6ff/6pd955R8OHD3eq37Jli+rVq1doT7COop6HtWvX1t69e7Vv3z7HuG3btiktLc3pXLntttv00ksvadGiRerQoYOmTp0q6cI5UZQrRfXq1VNKSkqhTx6oVq2aRo8eLT8/vzxP2+D4xN/Vrl1bZ86ccfxyc/DgQce4/B6lVaFCBXXt2lUzZ87UuHHj9NFHH0m6cPxKynMM//jjj+rTp49at26tO+64Q56enjp69OgV9fzjjz+qffv2evLJJ1W3bl1Vr15dO3fuzFN38bG/Zs0a1ahRQ25ubsVeZkHrJ0lPP/20pk6dqilTpqh58+ZOn8rAGUH2BvT+++/r/Pnzuvvuu/Xll19q586d2r59u959911FRkZKunAF89y5cxo/frz++9//asaMGfrwww+LvIysrCx1795d27Zt0/fff6+hQ4fqhRdeUKlSpVSmTBn17NlT//M//6PExERt27ZNzzzzjNLT09W9e/crWreYmBingPx3gYGBWrp0qX777Td16tRJ586dkyT17t1bkydP1vTp07Vz5069+eab+uWXXwq90hwREaGBAweqf//+GjhwoFavXq09e/bohx9+0L/+9S9Nnz5dkvTSSy/p7rvvVtu2bTVnzhzt3btX69ev1yOPPKLt27dr8uTJjuUsX75cTz31lGbMmOEUUtLT07Vx40anP/IA6yvKedi8eXOFh4friSee0M8//6x169apc+fOioqKUsOGDZWRkaEXXnhBy5cv1549e/TTTz9p/fr1juOnatWqOn36tH744QcdPXq0wI//69WrpwoVKuinn35yDDtw4ID69eunX375RZmZmUpPT9fEiRN14sQJp9DK8XnjOnbsmB544AHNnDlTv/zyi3bv3q05c+Zo1KhRat++vby9vdWoUSONHDlS27Zt08qVK/Xqq686zeP111/XN998oz/++ENbt27V/PnzHcdvYGCgvL29lZiYqEOHDiktLU2SdOutt2rGjBnavn271q5dqyeeeELe3t5XtC633nqrFi9erKSkJG3fvl09evRQSkpKnrp9+/apX79+2rFjh2bNmqXx48frxRdfvKxlVqlSRTabTfPnz9eRI0d0+vRpx7gnnnhCf/31lyZNmqRu3bpd9nrdEFx1cy5c68CBA6ZXr16mSpUqxsPDw1SqVMm0a9fOcQO+McaMGTPGVKxY0Xh7e5uYmBjzySefON2YXtAXSXK/XPX666+bgIAA4+vra55++mmnb7VmZGSY3r17m/Llyxf6+K2/3wS/adMmI8ns3r27wPXavn278fb2NidOnMjTz9/X/bbbbjMdO3Y0586dM8YYM3z4cFO+fHnj6+trunXrZvr06WMaNWp0ye34+eefm/vvv9/4+fmZMmXKmPDwcDN8+HCnvs+cOWNeffVVc+uttxp3d3fj7+9vHnnkEfPrr786an755RdTunRp06RJE/Pggw+avn37OsZ99tlnpmbNmpfsBdZTlPOwsMdvZWZmmscff9yEhoYaDw8PExISYl544QWnL0Q+99xzJiAgoNDHbxljzKBBg8zjjz/ueH3q1CnTu3dvU6NGDePp6Wk8PDzM7bffbqZPn+40Hcfnjevs2bNm0KBBpn79+sZutxsfHx9Ts2ZN8+qrr5r09HRjjDHbtm0zjRo1Mt7e3ubOO+80ixYtcvqy1xtvvGFq1aplvL29jb+/v2nfvr3573//61jGpEmTTGhoqClVqpTjaR0///yzadiwofH09DQ1atQwc+bMKdaXrIzJ+6WzY8eOmfbt2xtfX18TGBhoXn31VdO5c2ennx1RUVHm+eefN88995wpW7asKVeunBk0aNBlPX4r1/Dhw01wcLCx2WymS5cuTts3Li4u30dxwZnNmEvcDAhYTMeOHVWvXj0NHjz4sucRHR2t4OBgxx82cKW7775bffv2VWxsrKtbwT/YoUOHdMcdd2jjxo2qUqWK07jly5frzz//zPc+PY5PoGRER0erVq1aevfdd13dynWNPy+Bf5y3335b8+bNK3J9enq6PvzwQ8XExMjNzU2zZs3SkiVLtHjx4hLssmgOHz6sRx99NM+TFoCrLSgoSJMnT9bevXvzBNmCcHwCV9/x48e1aNEiLV26VBMmTHB1O9c9rsjihpeRkaG2bdvq559/VmZmpmrWrKlXX31VHTp0cHVrAIAbTNWqVZWamqrXXnvtkk9wAEEWAAAAFsVTCwAAAGBJBFkAAABYEkEWAAAAlkSQBQAAgCURZAEAAGBJBFkAAABYEkEWAAAAlkSQBQAAgCURZAEAAGBJ/x9HsGDj/b1b8gAAAABJRU5ErkJggg==",
          "text/plain": "<Figure size 700x400 with 1 Axes>"
         },
         "metadata": {},
         "output_type": "display_data"
        }
       ]
      }
     },
     "83e2ae7936f04af291b8c159e891dbe3": {
      "model_module": "@jupyter-widgets/controls",
      "model_module_version": "2.0.0",
      "model_name": "SliderStyleModel",
      "state": {
       "description_width": ""
      }
     },
     "85426ff7f2db47d59dcc483668c4f118": {
      "model_module": "@jupyter-widgets/base",
      "model_module_version": "2.0.0",
      "model_name": "LayoutModel",
      "state": {}
     },
     "85e518facd504e459f67e83dc8fb3f23": {
      "model_module": "@jupyter-widgets/controls",
      "model_module_version": "2.0.0",
      "model_name": "DropdownModel",
      "state": {
       "_options_labels": [
        "Shallow",
        "Deep",
        "Geosynthetic-Reinforced"
       ],
       "description": "Type",
       "index": 1,
       "layout": "IPY_MODEL_01a466f79e324f48acc13955aff18dc3",
       "style": "IPY_MODEL_de9a2da096c14e69acd3a6c0a92fa219"
      }
     },
     "86fcb2559e9d4dc1b274c15ed3b13452": {
      "model_module": "@jupyter-widgets/controls",
      "model_module_version": "2.0.0",
      "model_name": "SliderStyleModel",
      "state": {
       "description_width": ""
      }
     },
     "8803e094c80f423781a61d79a7f45542": {
      "model_module": "@jupyter-widgets/controls",
      "model_module_version": "2.0.0",
      "model_name": "DescriptionStyleModel",
      "state": {
       "description_width": ""
      }
     },
     "8820a3a70fce4c88be5f95e9fc064a8e": {
      "model_module": "@jupyter-widgets/controls",
      "model_module_version": "2.0.0",
      "model_name": "SliderStyleModel",
      "state": {
       "description_width": ""
      }
     },
     "884c1d6c731e461b90800851dca4b59c": {
      "model_module": "@jupyter-widgets/base",
      "model_module_version": "2.0.0",
      "model_name": "LayoutModel",
      "state": {}
     },
     "8858dd5e71ce40169f39487c3d49712d": {
      "model_module": "@jupyter-widgets/controls",
      "model_module_version": "2.0.0",
      "model_name": "FloatSliderModel",
      "state": {
       "behavior": "drag-tap",
       "description": "Wall Height (m)",
       "layout": "IPY_MODEL_a2b7c8a537344616b8e10ba939627a91",
       "max": 10,
       "min": 1,
       "step": 0.5,
       "style": "IPY_MODEL_b76cec744c8c4b678b567d00b8d2a535",
       "value": 3.9999999999999996
      }
     },
     "889c394d33c04851970a6c4297958984": {
      "model_module": "@jupyter-widgets/controls",
      "model_module_version": "2.0.0",
      "model_name": "SliderStyleModel",
      "state": {
       "description_width": ""
      }
     },
     "88dc2eb036b74dbf90a76b179aa0901e": {
      "model_module": "@jupyter-widgets/controls",
      "model_module_version": "2.0.0",
      "model_name": "SliderStyleModel",
      "state": {
       "description_width": ""
      }
     },
     "88ec468af227427dbcf99d0eed032795": {
      "model_module": "@jupyter-widgets/output",
      "model_module_version": "1.0.0",
      "model_name": "OutputModel",
      "state": {
       "layout": "IPY_MODEL_f37f860d4d1c416da6d8582c8baac6e2",
       "outputs": [
        {
         "name": "stdout",
         "output_type": "stream",
         "text": "🏗️ Foundation Type: Retaining Wall\nConcrete Volume: 7.20 m³\nConcrete Used: 17280.0 kg\nSteel Used: 1080.0 kg\nGeosynthetics Used: 200.0 kg\nReuse Percentage: 0.0%\n\n🌍 Embodied Carbon: 5090.00 kg CO₂\n💰 Life Cycle Cost: $3424.00\n📏 Active Earth Pressure (kN/m): 48.0\n🧠 Sustainability Score: 5/10\n"
        },
        {
         "data": {
          "image/png": "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",
          "text/plain": "<Figure size 700x400 with 1 Axes>"
         },
         "metadata": {},
         "output_type": "display_data"
        }
       ]
      }
     },
     "891494b985d941b38ab2e3d5256f4d21": {
      "model_module": "@jupyter-widgets/controls",
      "model_module_version": "2.0.0",
      "model_name": "SliderStyleModel",
      "state": {
       "description_width": ""
      }
     },
     "89762f5ce2694a9d881e5256b7cae1ec": {
      "model_module": "@jupyter-widgets/base",
      "model_module_version": "2.0.0",
      "model_name": "LayoutModel",
      "state": {}
     },
     "8a166d949bfb456b9e46151e246de623": {
      "model_module": "@jupyter-widgets/base",
      "model_module_version": "2.0.0",
      "model_name": "LayoutModel",
      "state": {}
     },
     "8c306ba871cc44aeae4dcd1c2212abb4": {
      "model_module": "@jupyter-widgets/base",
      "model_module_version": "2.0.0",
      "model_name": "LayoutModel",
      "state": {}
     },
     "8cd640131328464e80557f076bb1dd3f": {
      "model_module": "@jupyter-widgets/controls",
      "model_module_version": "2.0.0",
      "model_name": "SliderStyleModel",
      "state": {
       "description_width": ""
      }
     },
     "8dab89219a344774a60f4ab40528c722": {
      "model_module": "@jupyter-widgets/base",
      "model_module_version": "2.0.0",
      "model_name": "LayoutModel",
      "state": {}
     },
     "8dce0f96357a4399b024f8a374ccb301": {
      "model_module": "@jupyter-widgets/base",
      "model_module_version": "2.0.0",
      "model_name": "LayoutModel",
      "state": {}
     },
     "8e053f58856a4d1eaf9cecf3dbb4d8e0": {
      "model_module": "@jupyter-widgets/controls",
      "model_module_version": "2.0.0",
      "model_name": "SliderStyleModel",
      "state": {
       "description_width": ""
      }
     },
     "8ee6ac9369af4183bc21ba4a10ea8d4b": {
      "model_module": "@jupyter-widgets/base",
      "model_module_version": "2.0.0",
      "model_name": "LayoutModel",
      "state": {}
     },
     "8f080dc405f840deb82a95a9132db71e": {
      "model_module": "@jupyter-widgets/controls",
      "model_module_version": "2.0.0",
      "model_name": "SliderStyleModel",
      "state": {
       "description_width": ""
      }
     },
     "8f69fb4c624a4a9f8675a12acab81dad": {
      "model_module": "@jupyter-widgets/base",
      "model_module_version": "2.0.0",
      "model_name": "LayoutModel",
      "state": {}
     },
     "8f9c5a23029c444ebd2cd48539a76a50": {
      "model_module": "@jupyter-widgets/controls",
      "model_module_version": "2.0.0",
      "model_name": "SliderStyleModel",
      "state": {
       "description_width": ""
      }
     },
     "91798533c67e4c51b387ff57354da72f": {
      "model_module": "@jupyter-widgets/controls",
      "model_module_version": "2.0.0",
      "model_name": "SliderStyleModel",
      "state": {
       "description_width": ""
      }
     },
     "92738a258aba472a9a0f6446eb6d79c1": {
      "model_module": "@jupyter-widgets/controls",
      "model_module_version": "2.0.0",
      "model_name": "SliderStyleModel",
      "state": {
       "description_width": ""
      }
     },
     "92a15063187b43209b5df386486d07ee": {
      "model_module": "@jupyter-widgets/controls",
      "model_module_version": "2.0.0",
      "model_name": "FloatSliderModel",
      "state": {
       "behavior": "drag-tap",
       "description": "Pile Length (m)",
       "layout": "IPY_MODEL_a34eaa34c72d45aa93b33951ad6d6c99",
       "max": 30,
       "min": 2,
       "style": "IPY_MODEL_0425bd082b084937b333827ec20b4cfe",
       "value": 10
      }
     },
     "931520c14c2647ca95e1785fc0ca6184": {
      "model_module": "@jupyter-widgets/controls",
      "model_module_version": "2.0.0",
      "model_name": "DropdownModel",
      "state": {
       "_options_labels": [
        "Shallow",
        "Pile",
        "Retaining Wall",
        "Geosynthetic-Reinforced"
       ],
       "description": "Type",
       "index": 2,
       "layout": "IPY_MODEL_ad95455fb75448eda6ae923ee81ec0ff",
       "style": "IPY_MODEL_7ff405fa6d454fa1b032cecbe4b10427"
      }
     },
     "93560ff333cc433bb473822d0606c30a": {
      "model_module": "@jupyter-widgets/base",
      "model_module_version": "2.0.0",
      "model_name": "LayoutModel",
      "state": {}
     },
     "9373caafbb98498e827cb59343d7c1dc": {
      "model_module": "@jupyter-widgets/controls",
      "model_module_version": "2.0.0",
      "model_name": "FloatSliderModel",
      "state": {
       "behavior": "drag-tap",
       "description": "Geosynthetics (kg)",
       "layout": "IPY_MODEL_caf3e4a437d24fc58c81c30f4e880a66",
       "max": 1000,
       "step": 50,
       "style": "IPY_MODEL_dc281436a51b42d2aa538011d0c103e2",
       "value": 200
      }
     },
     "93cdae71b46e4ad9b8f3917a81b07681": {
      "model_module": "@jupyter-widgets/base",
      "model_module_version": "2.0.0",
      "model_name": "LayoutModel",
      "state": {}
     },
     "93f4d69a9f094f28a0d4fbd92698b09d": {
      "model_module": "@jupyter-widgets/controls",
      "model_module_version": "2.0.0",
      "model_name": "SliderStyleModel",
      "state": {
       "description_width": ""
      }
     },
     "946a7fadbbb843fcb981033469fc6cf0": {
      "model_module": "@jupyter-widgets/controls",
      "model_module_version": "2.0.0",
      "model_name": "SliderStyleModel",
      "state": {
       "description_width": ""
      }
     },
     "9542f8deb79042cc962d4ed08e76cca5": {
      "model_module": "@jupyter-widgets/base",
      "model_module_version": "2.0.0",
      "model_name": "LayoutModel",
      "state": {}
     },
     "958feb6c208d4d30b960ab2ee0b243d1": {
      "model_module": "@jupyter-widgets/controls",
      "model_module_version": "2.0.0",
      "model_name": "SliderStyleModel",
      "state": {
       "description_width": ""
      }
     },
     "95acb66a084e46dab8957f33b711385c": {
      "model_module": "@jupyter-widgets/controls",
      "model_module_version": "2.0.0",
      "model_name": "FloatSliderModel",
      "state": {
       "behavior": "drag-tap",
       "description": "Steel (kg)",
       "layout": "IPY_MODEL_397ded807f8e4e0387389fb207926358",
       "max": 5000,
       "step": 100,
       "style": "IPY_MODEL_b737b103b4ba44ce9f4d561c4637f24d",
       "value": 1000
      }
     },
     "973fddc3d24c41068d891dbc77c5df91": {
      "model_module": "@jupyter-widgets/controls",
      "model_module_version": "2.0.0",
      "model_name": "SliderStyleModel",
      "state": {
       "description_width": ""
      }
     },
     "983c6b8ce1dd4ca1946f15fba3843e01": {
      "model_module": "@jupyter-widgets/base",
      "model_module_version": "2.0.0",
      "model_name": "LayoutModel",
      "state": {}
     },
     "9870891e4d0d459690b1d6cf0cdc9bd4": {
      "model_module": "@jupyter-widgets/controls",
      "model_module_version": "2.0.0",
      "model_name": "VBoxModel",
      "state": {
       "_dom_classes": [
        "widget-interact"
       ],
       "children": [
        "IPY_MODEL_85e518facd504e459f67e83dc8fb3f23",
        "IPY_MODEL_4adc0ceae98843948f45b7f95c43df3d",
        "IPY_MODEL_51dc31c6fda34a77b21fdd3edaefd223",
        "IPY_MODEL_ec28c6e578444b5aa0ba64d6b66f8629",
        "IPY_MODEL_292c23a266e64cbda8a0fef15e9c2ca0",
        "IPY_MODEL_c7c10306a00e4c4aaaffc7335315f247",
        "IPY_MODEL_14984a65018e4928bb46d2db974da3b9",
        "IPY_MODEL_16ae25d246dc4135a8536927ba43d719",
        "IPY_MODEL_43abb43fc8b4457e9e0419f4486aa835",
        "IPY_MODEL_2f1f5d3c1d5f4daaad3e9437c62f8871"
       ],
       "layout": "IPY_MODEL_fdce59b4e6a44a3abf97eceff6e64b8f"
      }
     },
     "99bb82505da6402c9b5260821d13bb59": {
      "model_module": "@jupyter-widgets/controls",
      "model_module_version": "2.0.0",
      "model_name": "SliderStyleModel",
      "state": {
       "description_width": ""
      }
     },
     "9b0511b4db21453a9c200de7644bdc8d": {
      "model_module": "@jupyter-widgets/base",
      "model_module_version": "2.0.0",
      "model_name": "LayoutModel",
      "state": {}
     },
     "9b3e1f08c4994d4682d27c6307bc6c03": {
      "model_module": "@jupyter-widgets/controls",
      "model_module_version": "2.0.0",
      "model_name": "FloatSliderModel",
      "state": {
       "behavior": "drag-tap",
       "description": "Overburden (kPa)",
       "layout": "IPY_MODEL_ed7fd0467fdb45bca1d829984499268d",
       "step": 5,
       "style": "IPY_MODEL_91798533c67e4c51b387ff57354da72f",
       "value": 30
      }
     },
     "9b42a7c9c7014eee9f83ad5bff959e20": {
      "model_module": "@jupyter-widgets/controls",
      "model_module_version": "2.0.0",
      "model_name": "SliderStyleModel",
      "state": {
       "description_width": ""
      }
     },
     "9b4f5eaebae14c5a91592bb648021863": {
      "model_module": "@jupyter-widgets/controls",
      "model_module_version": "2.0.0",
      "model_name": "SliderStyleModel",
      "state": {
       "description_width": ""
      }
     },
     "9ba66954f7314654b802220dc8bb013e": {
      "model_module": "@jupyter-widgets/controls",
      "model_module_version": "2.0.0",
      "model_name": "DropdownModel",
      "state": {
       "_options_labels": [
        "Shallow",
        "Pile",
        "Retaining Wall",
        "Geosynthetic-Reinforced"
       ],
       "description": "Type",
       "index": 0,
       "layout": "IPY_MODEL_820002982fbf4336993016eb64c74257",
       "style": "IPY_MODEL_1700c6ea55844efe8bf3df0abdea52bf"
      }
     },
     "9c6928714d74488e803040b9072857c3": {
      "model_module": "@jupyter-widgets/controls",
      "model_module_version": "2.0.0",
      "model_name": "FloatSliderModel",
      "state": {
       "behavior": "drag-tap",
       "description": "Pile Length (m)",
       "layout": "IPY_MODEL_53b37c722af04d4aaadfbe041619e501",
       "max": 30,
       "min": 2,
       "style": "IPY_MODEL_81c2e59c51d841d591c0aa3539a301dc",
       "value": 10
      }
     },
     "9cc51185132c426cb034113d1de7f3f2": {
      "model_module": "@jupyter-widgets/controls",
      "model_module_version": "2.0.0",
      "model_name": "DescriptionStyleModel",
      "state": {
       "description_width": ""
      }
     },
     "9cf8e82527b94881bd943e9a2f0980f8": {
      "model_module": "@jupyter-widgets/controls",
      "model_module_version": "2.0.0",
      "model_name": "FloatSliderModel",
      "state": {
       "behavior": "drag-tap",
       "description": "Unit Weight (kN/m³)",
       "layout": "IPY_MODEL_18c748187a3546318fb0c973b01e09bb",
       "max": 22,
       "min": 10,
       "style": "IPY_MODEL_3260d950290147d681765591f44d4b8b",
       "value": 18
      }
     },
     "9dae129b4c3c46108328054a6e3367b1": {
      "model_module": "@jupyter-widgets/controls",
      "model_module_version": "2.0.0",
      "model_name": "SliderStyleModel",
      "state": {
       "description_width": ""
      }
     },
     "9dd66a9109fc4f74bd8b801bc2b1c5af": {
      "model_module": "@jupyter-widgets/controls",
      "model_module_version": "2.0.0",
      "model_name": "FloatSliderModel",
      "state": {
       "behavior": "drag-tap",
       "description": "Footing Depth (m)",
       "layout": "IPY_MODEL_0bb0e6ffc8a44bcfb98a463f517be53e",
       "max": 2,
       "min": 0.2,
       "step": 0.1,
       "style": "IPY_MODEL_2954e9361da04bfd95d2b8e14b1ab3e4",
       "value": 0.5
      }
     },
     "9df396d311ab4dbe977dc13708d8368c": {
      "model_module": "@jupyter-widgets/controls",
      "model_module_version": "2.0.0",
      "model_name": "FloatSliderModel",
      "state": {
       "behavior": "drag-tap",
       "description": "Footing Depth (m)",
       "layout": "IPY_MODEL_a71861908ab24a08b1a33673a4fcdaf0",
       "max": 2,
       "min": 0.2,
       "step": 0.1,
       "style": "IPY_MODEL_27c473ef7f5f4311a0e4cb9758aa4568",
       "value": 0.5
      }
     },
     "9df96269b93c4dffae78fe8b3fa5da89": {
      "model_module": "@jupyter-widgets/base",
      "model_module_version": "2.0.0",
      "model_name": "LayoutModel",
      "state": {}
     },
     "9e34952232634d90bbc3400feff1c4e3": {
      "model_module": "@jupyter-widgets/controls",
      "model_module_version": "2.0.0",
      "model_name": "FloatSliderModel",
      "state": {
       "behavior": "drag-tap",
       "description": "Pile Area (m²)",
       "layout": "IPY_MODEL_e18d2a13712e45b8940f19efb75c2062",
       "max": 1,
       "min": 0.05,
       "step": 0.05,
       "style": "IPY_MODEL_99bb82505da6402c9b5260821d13bb59",
       "value": 0.2
      }
     },
     "9e87cd349d444dd9974dc9b33035a34e": {
      "model_module": "@jupyter-widgets/controls",
      "model_module_version": "2.0.0",
      "model_name": "SliderStyleModel",
      "state": {
       "description_width": ""
      }
     },
     "a0b964f892d94708b7c0801a717c2569": {
      "model_module": "@jupyter-widgets/controls",
      "model_module_version": "2.0.0",
      "model_name": "DescriptionStyleModel",
      "state": {
       "description_width": ""
      }
     },
     "a11b5f9949fa42aabb7922b695c90ddb": {
      "model_module": "@jupyter-widgets/controls",
      "model_module_version": "2.0.0",
      "model_name": "FloatSliderModel",
      "state": {
       "behavior": "drag-tap",
       "description": "Overburden (kPa)",
       "layout": "IPY_MODEL_d226d5a0bedc4669b103bbe987b4af26",
       "step": 5,
       "style": "IPY_MODEL_891494b985d941b38ab2e3d5256f4d21",
       "value": 30
      }
     },
     "a12459c2f41f42b3a83cb5752968501f": {
      "model_module": "@jupyter-widgets/controls",
      "model_module_version": "2.0.0",
      "model_name": "SliderStyleModel",
      "state": {
       "description_width": ""
      }
     },
     "a1ac22b05094445cbff6934d8d3ee62c": {
      "model_module": "@jupyter-widgets/base",
      "model_module_version": "2.0.0",
      "model_name": "LayoutModel",
      "state": {}
     },
     "a29ab904d9a24b80ba9435127d0fa536": {
      "model_module": "@jupyter-widgets/controls",
      "model_module_version": "2.0.0",
      "model_name": "FloatSliderModel",
      "state": {
       "behavior": "drag-tap",
       "description": "Cohesion (kPa)",
       "layout": "IPY_MODEL_7fb50f5925824aa1ae74baa9b4225ae6",
       "step": 5,
       "style": "IPY_MODEL_00e37787a82f48d99d8850664abf3e4e",
       "value": 25
      }
     },
     "a2b7c8a537344616b8e10ba939627a91": {
      "model_module": "@jupyter-widgets/base",
      "model_module_version": "2.0.0",
      "model_name": "LayoutModel",
      "state": {}
     },
     "a2f77e5458d6463eafe52527101ab82f": {
      "model_module": "@jupyter-widgets/controls",
      "model_module_version": "2.0.0",
      "model_name": "FloatSliderModel",
      "state": {
       "behavior": "drag-tap",
       "description": "Unit Weight (kN/m³)",
       "layout": "IPY_MODEL_caa6163850804d4cac8262879c76eed5",
       "max": 22,
       "min": 10,
       "style": "IPY_MODEL_7096d9b154e944f49e27d7bce8f954c1",
       "value": 18
      }
     },
     "a324c4a031664a20808152dd3cf06a1e": {
      "model_module": "@jupyter-widgets/controls",
      "model_module_version": "2.0.0",
      "model_name": "DropdownModel",
      "state": {
       "_options_labels": [
        "Shallow",
        "Deep",
        "Geosynthetic-Reinforced"
       ],
       "description": "Type",
       "index": 0,
       "layout": "IPY_MODEL_672b755bc37c447280f640367a170f2f",
       "style": "IPY_MODEL_a0b964f892d94708b7c0801a717c2569"
      }
     },
     "a3429127f47e43d6915f636086a0ee42": {
      "model_module": "@jupyter-widgets/controls",
      "model_module_version": "2.0.0",
      "model_name": "FloatSliderModel",
      "state": {
       "behavior": "drag-tap",
       "description": "Footing Width (m)",
       "layout": "IPY_MODEL_3f904825f69943e996e468ac46d85afe",
       "max": 5,
       "min": 0.5,
       "step": 0.1,
       "style": "IPY_MODEL_0024e13e63ee4c25adc4bb0db754d041",
       "value": 2
      }
     },
     "a34eaa34c72d45aa93b33951ad6d6c99": {
      "model_module": "@jupyter-widgets/base",
      "model_module_version": "2.0.0",
      "model_name": "LayoutModel",
      "state": {}
     },
     "a364825a2a3949ac9b508d7eafd9929e": {
      "model_module": "@jupyter-widgets/controls",
      "model_module_version": "2.0.0",
      "model_name": "FloatSliderModel",
      "state": {
       "behavior": "drag-tap",
       "description": "Footing Width (m)",
       "layout": "IPY_MODEL_9542f8deb79042cc962d4ed08e76cca5",
       "max": 5,
       "min": 0.5,
       "step": 0.1,
       "style": "IPY_MODEL_74e7bf5223b944b08978ee7c299e506c",
       "value": 2
      }
     },
     "a43ee26bf73e40e0bef62ac52f1f7a9a": {
      "model_module": "@jupyter-widgets/base",
      "model_module_version": "2.0.0",
      "model_name": "LayoutModel",
      "state": {}
     },
     "a47dd4e0748741b591b098a97b395b31": {
      "model_module": "@jupyter-widgets/controls",
      "model_module_version": "2.0.0",
      "model_name": "FloatSliderModel",
      "state": {
       "behavior": "drag-tap",
       "description": "Reuse (%)",
       "layout": "IPY_MODEL_b83331d61ad1419cbb7cc5b4de906460",
       "step": 10,
       "style": "IPY_MODEL_7fe2ebb480d6429fbb074a517dab5b71",
       "value": 30
      }
     },
     "a4e99cb985fb4e32af9699eb51b863ef": {
      "model_module": "@jupyter-widgets/output",
      "model_module_version": "1.0.0",
      "model_name": "OutputModel",
      "state": {
       "layout": "IPY_MODEL_b41b960ba1684cf2a1f36af0a2d16c85",
       "outputs": [
        {
         "name": "stdout",
         "output_type": "stream",
         "text": "🏗️ Foundation Type: Shallow\nConcrete Used: 5000.0 kg\nSteel Used: 1000.0 kg\nGeosynthetics Used: 200.0 kg\nReuse Percentage: 0.0%\n\n🌍 Embodied Carbon: 3100.00 kg CO₂\n💰 Life Cycle Cost: $2100.00\n📏 Estimated Bearing Capacity: 158.5 kPa\n🧠 Sustainability Score: 5/10\n"
        },
        {
         "data": {
          "image/png": "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",
          "text/plain": "<Figure size 700x400 with 1 Axes>"
         },
         "metadata": {},
         "output_type": "display_data"
        }
       ]
      }
     },
     "a587b96fdfa9402bba543b59af9fd151": {
      "model_module": "@jupyter-widgets/controls",
      "model_module_version": "2.0.0",
      "model_name": "SliderStyleModel",
      "state": {
       "description_width": ""
      }
     },
     "a59f466f53e344b49aadf0c5e63a7b7c": {
      "model_module": "@jupyter-widgets/controls",
      "model_module_version": "2.0.0",
      "model_name": "FloatSliderModel",
      "state": {
       "behavior": "drag-tap",
       "description": "Wall Thickness (m)",
       "layout": "IPY_MODEL_e6f889452dba4f079f06ea76fdadc5d2",
       "max": 1,
       "min": 0.2,
       "step": 0.05,
       "style": "IPY_MODEL_e59ba15a5fc74da0997c7ddf3bc19b3c",
       "value": 0.30000000000000004
      }
     },
     "a6208e672bab42e3a6569a7e8bd4df9c": {
      "model_module": "@jupyter-widgets/base",
      "model_module_version": "2.0.0",
      "model_name": "LayoutModel",
      "state": {}
     },
     "a66e30dcb57d48388142ca2640b545f4": {
      "model_module": "@jupyter-widgets/base",
      "model_module_version": "2.0.0",
      "model_name": "LayoutModel",
      "state": {}
     },
     "a71861908ab24a08b1a33673a4fcdaf0": {
      "model_module": "@jupyter-widgets/base",
      "model_module_version": "2.0.0",
      "model_name": "LayoutModel",
      "state": {}
     },
     "a7198bf1a6f54ceb8c949d09e909af42": {
      "model_module": "@jupyter-widgets/base",
      "model_module_version": "2.0.0",
      "model_name": "LayoutModel",
      "state": {}
     },
     "a73aa23284d7482d90d60af5fdce2c86": {
      "model_module": "@jupyter-widgets/controls",
      "model_module_version": "2.0.0",
      "model_name": "FloatSliderModel",
      "state": {
       "behavior": "drag-tap",
       "description": "Wall Height (m)",
       "layout": "IPY_MODEL_3a661454e5db424fbc030eefc1da3328",
       "max": 10,
       "min": 1,
       "step": 0.5,
       "style": "IPY_MODEL_54ccad52e40147eea2d57cbfbe45745c",
       "value": 4
      }
     },
     "a7ef51bb3ebe42cd99ee6d93036433f3": {
      "model_module": "@jupyter-widgets/controls",
      "model_module_version": "2.0.0",
      "model_name": "SliderStyleModel",
      "state": {
       "description_width": ""
      }
     },
     "a8942ceb8e464bb6b24769eca3f2a694": {
      "model_module": "@jupyter-widgets/base",
      "model_module_version": "2.0.0",
      "model_name": "LayoutModel",
      "state": {}
     },
     "a8d4237047804f12b3b1a9c770a52264": {
      "model_module": "@jupyter-widgets/base",
      "model_module_version": "2.0.0",
      "model_name": "LayoutModel",
      "state": {}
     },
     "a969509c54b347b28bd1be06f2e117b2": {
      "model_module": "@jupyter-widgets/controls",
      "model_module_version": "2.0.0",
      "model_name": "VBoxModel",
      "state": {
       "children": [
        "IPY_MODEL_cf0bf63e1f394096a1ecfed308acf2aa",
        "IPY_MODEL_300fb9580f8a47b3a5d448589e1ac11e",
        "IPY_MODEL_9373caafbb98498e827cb59343d7c1dc",
        "IPY_MODEL_0274fa15e57b40768b0b7f65e5ac96bb",
        "IPY_MODEL_2e720c2b85794c75901ebe58597f1159",
        "IPY_MODEL_528d8e53a30a46518e3dc3c053f19251",
        "IPY_MODEL_795f322db743459c82aa4979631707c8",
        "IPY_MODEL_ab1550029a344a13a66e4a4c44bee4ba",
        "IPY_MODEL_e543db3a0897484391491c8a50a79f16"
       ],
       "layout": "IPY_MODEL_c34ca5d1aa534357960d4f1e158e647e"
      }
     },
     "a98ae56e6bb64d068ceb52f94cce7619": {
      "model_module": "@jupyter-widgets/controls",
      "model_module_version": "2.0.0",
      "model_name": "FloatSliderModel",
      "state": {
       "behavior": "drag-tap",
       "description": "Reuse (%)",
       "layout": "IPY_MODEL_c0294866444446d3aeeac55cb8487e0d",
       "step": 10,
       "style": "IPY_MODEL_3b4bfa4e4f91462da40dc4d7a7645bc3"
      }
     },
     "a9aec61c665c47c2bddf617fa1ad8796": {
      "model_module": "@jupyter-widgets/base",
      "model_module_version": "2.0.0",
      "model_name": "LayoutModel",
      "state": {}
     },
     "a9b869b4fa8648679c67f42157d8f1dc": {
      "model_module": "@jupyter-widgets/base",
      "model_module_version": "2.0.0",
      "model_name": "LayoutModel",
      "state": {}
     },
     "aaf1dae01ee040db8bcd8ab591ff5a68": {
      "model_module": "@jupyter-widgets/controls",
      "model_module_version": "2.0.0",
      "model_name": "DropdownModel",
      "state": {
       "_options_labels": [
        "Shallow",
        "Pile",
        "Retaining Wall",
        "Geosynthetic-Reinforced"
       ],
       "description": "Type",
       "index": 2,
       "layout": "IPY_MODEL_4b90a2fbf445480e8459940c97bf4c65",
       "style": "IPY_MODEL_df43a8821f464aeda8ffd6348673adaa"
      }
     },
     "ab1550029a344a13a66e4a4c44bee4ba": {
      "model_module": "@jupyter-widgets/controls",
      "model_module_version": "2.0.0",
      "model_name": "FloatSliderModel",
      "state": {
       "behavior": "drag-tap",
       "description": "Overburden (kPa)",
       "layout": "IPY_MODEL_217e717d064646389b0fa9a041ed38d4",
       "step": 5,
       "style": "IPY_MODEL_e5aace7c9ee2447ea0c13f1c25bfe293",
       "value": 30
      }
     },
     "abcd6d81ca624d458e859801a7b079d7": {
      "model_module": "@jupyter-widgets/base",
      "model_module_version": "2.0.0",
      "model_name": "LayoutModel",
      "state": {}
     },
     "ac3f76d34bf54f8fae855852e17ff8e7": {
      "model_module": "@jupyter-widgets/output",
      "model_module_version": "1.0.0",
      "model_name": "OutputModel",
      "state": {
       "layout": "IPY_MODEL_73733ee4cda54d80bf27733c72d78894"
      }
     },
     "acea1fcbc6cc4b0c885c3aaad46ffb63": {
      "model_module": "@jupyter-widgets/controls",
      "model_module_version": "2.0.0",
      "model_name": "SliderStyleModel",
      "state": {
       "description_width": ""
      }
     },
     "ad3f640d0d8c44e9a79c6f9a75909e60": {
      "model_module": "@jupyter-widgets/controls",
      "model_module_version": "2.0.0",
      "model_name": "SliderStyleModel",
      "state": {
       "description_width": ""
      }
     },
     "ad95455fb75448eda6ae923ee81ec0ff": {
      "model_module": "@jupyter-widgets/base",
      "model_module_version": "2.0.0",
      "model_name": "LayoutModel",
      "state": {}
     },
     "ae1dfb108970407893c346cadbd746d0": {
      "model_module": "@jupyter-widgets/base",
      "model_module_version": "2.0.0",
      "model_name": "LayoutModel",
      "state": {}
     },
     "aff6e8cdb7cc42a4a6712ada21247e9e": {
      "model_module": "@jupyter-widgets/controls",
      "model_module_version": "2.0.0",
      "model_name": "FloatSliderModel",
      "state": {
       "behavior": "drag-tap",
       "description": "Reuse (%)",
       "layout": "IPY_MODEL_a7198bf1a6f54ceb8c949d09e909af42",
       "step": 10,
       "style": "IPY_MODEL_36e70124c918489b9109f0eb98c9fb84"
      }
     },
     "b0b9d8f3e8c04b1ba045de020a11ee7d": {
      "model_module": "@jupyter-widgets/base",
      "model_module_version": "2.0.0",
      "model_name": "LayoutModel",
      "state": {}
     },
     "b106c6fe6d614da88571274e1bac8749": {
      "model_module": "@jupyter-widgets/controls",
      "model_module_version": "2.0.0",
      "model_name": "FloatSliderModel",
      "state": {
       "behavior": "drag-tap",
       "description": "Pile Area (m²)",
       "layout": "IPY_MODEL_25c18da0d0c74349b632b8d30d4f0e2a",
       "max": 1,
       "min": 0.05,
       "step": 0.05,
       "style": "IPY_MODEL_8f080dc405f840deb82a95a9132db71e",
       "value": 0.2
      }
     },
     "b28a424aae0b47369e0717defa12be19": {
      "model_module": "@jupyter-widgets/base",
      "model_module_version": "2.0.0",
      "model_name": "LayoutModel",
      "state": {}
     },
     "b28def01203646ec964414106811a268": {
      "model_module": "@jupyter-widgets/base",
      "model_module_version": "2.0.0",
      "model_name": "LayoutModel",
      "state": {}
     },
     "b392610fe7e14e80a0db2b6f13b1b9cd": {
      "model_module": "@jupyter-widgets/controls",
      "model_module_version": "2.0.0",
      "model_name": "SliderStyleModel",
      "state": {
       "description_width": ""
      }
     },
     "b39fca5dac22429295120131701ab789": {
      "model_module": "@jupyter-widgets/controls",
      "model_module_version": "2.0.0",
      "model_name": "FloatSliderModel",
      "state": {
       "behavior": "drag-tap",
       "description": "Footing Width (m)",
       "layout": "IPY_MODEL_f37c360151f9456d9ccedadc34b66562",
       "max": 5,
       "min": 0.5,
       "step": 0.1,
       "style": "IPY_MODEL_24007245723e429fb2caaa05e2c66818",
       "value": 2
      }
     },
     "b3ba308db3e64170b93d1632ee103600": {
      "model_module": "@jupyter-widgets/controls",
      "model_module_version": "2.0.0",
      "model_name": "SliderStyleModel",
      "state": {
       "description_width": ""
      }
     },
     "b401da213f244205a0421a2c7aff5f6f": {
      "model_module": "@jupyter-widgets/controls",
      "model_module_version": "2.0.0",
      "model_name": "FloatSliderModel",
      "state": {
       "behavior": "drag-tap",
       "description": "Pile Area (m²)",
       "layout": "IPY_MODEL_4d94ca35c5bc4912ab6baa64848da4a0",
       "max": 1,
       "min": 0.05,
       "step": 0.05,
       "style": "IPY_MODEL_d46568bf38a8401ba8ac4d285d7a0c91",
       "value": 0.2
      }
     },
     "b41b960ba1684cf2a1f36af0a2d16c85": {
      "model_module": "@jupyter-widgets/base",
      "model_module_version": "2.0.0",
      "model_name": "LayoutModel",
      "state": {}
     },
     "b4f681c3d97f4307ac31c9c48c2ea2b0": {
      "model_module": "@jupyter-widgets/controls",
      "model_module_version": "2.0.0",
      "model_name": "FloatSliderModel",
      "state": {
       "behavior": "drag-tap",
       "description": "Geosynthetics (kg)",
       "layout": "IPY_MODEL_d57dbe270a7246e295a3ce8cd7085de8",
       "max": 1000,
       "step": 50,
       "style": "IPY_MODEL_d531efa59e84451faaf4d4be1c5adef1",
       "value": 200
      }
     },
     "b6ec76a737c7417ca3f418d09b5080fe": {
      "model_module": "@jupyter-widgets/controls",
      "model_module_version": "2.0.0",
      "model_name": "ButtonModel",
      "state": {
       "button_style": "success",
       "description": "Run Analysis",
       "layout": "IPY_MODEL_bbc5704f414246efa94185712b0b91e1",
       "style": "IPY_MODEL_bc3a8e148f2c434493298f0f01922c7f",
       "tooltip": null
      }
     },
     "b6ee4a3f1cdf44e0afccec912118cb3f": {
      "model_module": "@jupyter-widgets/controls",
      "model_module_version": "2.0.0",
      "model_name": "FloatSliderModel",
      "state": {
       "behavior": "drag-tap",
       "description": "Overburden (kPa)",
       "layout": "IPY_MODEL_73b7d843565848a587df7351bb9d63a3",
       "step": 5,
       "style": "IPY_MODEL_3d41cdf7b8aa4abc8d9df7b76cd4cacc",
       "value": 30
      }
     },
     "b71fe6dc6c3646b0baa00888ddc7722d": {
      "model_module": "@jupyter-widgets/controls",
      "model_module_version": "2.0.0",
      "model_name": "SliderStyleModel",
      "state": {
       "description_width": ""
      }
     },
     "b737b103b4ba44ce9f4d561c4637f24d": {
      "model_module": "@jupyter-widgets/controls",
      "model_module_version": "2.0.0",
      "model_name": "SliderStyleModel",
      "state": {
       "description_width": ""
      }
     },
     "b76cec744c8c4b678b567d00b8d2a535": {
      "model_module": "@jupyter-widgets/controls",
      "model_module_version": "2.0.0",
      "model_name": "SliderStyleModel",
      "state": {
       "description_width": ""
      }
     },
     "b7b3c5f8191a46e88c9fad6a55ffebbc": {
      "model_module": "@jupyter-widgets/controls",
      "model_module_version": "2.0.0",
      "model_name": "FloatSliderModel",
      "state": {
       "behavior": "drag-tap",
       "description": "Reuse (%)",
       "layout": "IPY_MODEL_d0a94506bcf54ae99f0c0643b5a5755d",
       "step": 10,
       "style": "IPY_MODEL_dd2057ec32f4431d80774f2fd9289fe1"
      }
     },
     "b7ef1c55279b4f789ade64b7c0c569ff": {
      "model_module": "@jupyter-widgets/controls",
      "model_module_version": "2.0.0",
      "model_name": "SliderStyleModel",
      "state": {
       "description_width": ""
      }
     },
     "b83331d61ad1419cbb7cc5b4de906460": {
      "model_module": "@jupyter-widgets/base",
      "model_module_version": "2.0.0",
      "model_name": "LayoutModel",
      "state": {}
     },
     "b8920b530e0d4cd7963c0ecee6de1ad7": {
      "model_module": "@jupyter-widgets/controls",
      "model_module_version": "2.0.0",
      "model_name": "FloatSliderModel",
      "state": {
       "behavior": "drag-tap",
       "description": "Concrete (kg)",
       "layout": "IPY_MODEL_78c7ac5b84544ed987ed88f58cc7a9b1",
       "max": 10000,
       "min": 1000,
       "step": 500,
       "style": "IPY_MODEL_eb726cb26cd049fabdc3914d14fd047d",
       "value": 5000
      }
     },
     "b91920bbabca4777bac524b2ddf1fe4b": {
      "model_module": "@jupyter-widgets/controls",
      "model_module_version": "2.0.0",
      "model_name": "SliderStyleModel",
      "state": {
       "description_width": ""
      }
     },
     "ba27e6fed5b14e9baca4add7bfa09de1": {
      "model_module": "@jupyter-widgets/base",
      "model_module_version": "2.0.0",
      "model_name": "LayoutModel",
      "state": {}
     },
     "ba65172d6b084f76a46e477783fed2de": {
      "model_module": "@jupyter-widgets/controls",
      "model_module_version": "2.0.0",
      "model_name": "SliderStyleModel",
      "state": {
       "description_width": ""
      }
     },
     "bb2b5819a1e64955b847d95add8782eb": {
      "model_module": "@jupyter-widgets/base",
      "model_module_version": "2.0.0",
      "model_name": "LayoutModel",
      "state": {}
     },
     "bbc5704f414246efa94185712b0b91e1": {
      "model_module": "@jupyter-widgets/base",
      "model_module_version": "2.0.0",
      "model_name": "LayoutModel",
      "state": {}
     },
     "bbe2379a908e4ac7a6efbecc97f074c2": {
      "model_module": "@jupyter-widgets/controls",
      "model_module_version": "2.0.0",
      "model_name": "FloatSliderModel",
      "state": {
       "behavior": "drag-tap",
       "description": "Wall Length (m)",
       "layout": "IPY_MODEL_b28a424aae0b47369e0717defa12be19",
       "max": 20,
       "min": 2,
       "style": "IPY_MODEL_fb4e3a9acab4433d8404afb25c372271",
       "value": 6
      }
     },
     "bc04f779fe0b449e84ae26302db1a254": {
      "model_module": "@jupyter-widgets/base",
      "model_module_version": "2.0.0",
      "model_name": "LayoutModel",
      "state": {}
     },
     "bc3a8e148f2c434493298f0f01922c7f": {
      "model_module": "@jupyter-widgets/controls",
      "model_module_version": "2.0.0",
      "model_name": "ButtonStyleModel",
      "state": {
       "font_family": null,
       "font_size": null,
       "font_style": null,
       "font_variant": null,
       "font_weight": null,
       "text_color": null,
       "text_decoration": null
      }
     },
     "bc5c3f4321c04ee984c5ed7d803c011c": {
      "model_module": "@jupyter-widgets/controls",
      "model_module_version": "2.0.0",
      "model_name": "SliderStyleModel",
      "state": {
       "description_width": ""
      }
     },
     "bd06391fa8624d36ba7c8e2fd0ba7ad2": {
      "model_module": "@jupyter-widgets/controls",
      "model_module_version": "2.0.0",
      "model_name": "VBoxModel",
      "state": {
       "children": [
        "IPY_MODEL_6a3fe2ab13f44208b9abb843f2ce666d",
        "IPY_MODEL_ffd9f033d53a494b954e0c6c1f5b3884",
        "IPY_MODEL_30866d57e7e74882a1f7ee059b0ecbd8",
        "IPY_MODEL_4c11c2e989db4e4c8981f0478212facf",
        "IPY_MODEL_b7b3c5f8191a46e88c9fad6a55ffebbc",
        "IPY_MODEL_dc3ee9968a2a4f84aacee7f003e932f8",
        "IPY_MODEL_1747e609ecd14bf3aa1fe1aafd76576c",
        "IPY_MODEL_b39fca5dac22429295120131701ab789",
        "IPY_MODEL_5d41699f42d04c4e84c540c7a74c12bd"
       ],
       "layout": "IPY_MODEL_e691b101adaa4917af06b23f51677ddb"
      }
     },
     "bd9314d67c4f4d208c114c55cd5ca06b": {
      "model_module": "@jupyter-widgets/base",
      "model_module_version": "2.0.0",
      "model_name": "LayoutModel",
      "state": {}
     },
     "be2acaca27694db8ada2593c2f2fcf42": {
      "model_module": "@jupyter-widgets/base",
      "model_module_version": "2.0.0",
      "model_name": "LayoutModel",
      "state": {}
     },
     "be411051f90046cc900f5b7b7e3cca04": {
      "model_module": "@jupyter-widgets/controls",
      "model_module_version": "2.0.0",
      "model_name": "FloatSliderModel",
      "state": {
       "behavior": "drag-tap",
       "description": "Unit Weight (kN/m³)",
       "layout": "IPY_MODEL_46b6484963d742059b8bbbf409558f62",
       "max": 22,
       "min": 10,
       "style": "IPY_MODEL_cf92764da73e41258a74c170cdfac80f",
       "value": 18
      }
     },
     "beda8651c7624eaeb45b8cb500b267b4": {
      "model_module": "@jupyter-widgets/controls",
      "model_module_version": "2.0.0",
      "model_name": "SliderStyleModel",
      "state": {
       "description_width": ""
      }
     },
     "c0294866444446d3aeeac55cb8487e0d": {
      "model_module": "@jupyter-widgets/base",
      "model_module_version": "2.0.0",
      "model_name": "LayoutModel",
      "state": {}
     },
     "c1567d67ea944e9092f21650b9033d4e": {
      "model_module": "@jupyter-widgets/controls",
      "model_module_version": "2.0.0",
      "model_name": "SliderStyleModel",
      "state": {
       "description_width": ""
      }
     },
     "c162216985044a56bae83c3b92750b59": {
      "model_module": "@jupyter-widgets/controls",
      "model_module_version": "2.0.0",
      "model_name": "FloatSliderModel",
      "state": {
       "behavior": "drag-tap",
       "description": "Wall Height (m)",
       "layout": "IPY_MODEL_22ef20db5c5f4efb80360bba2470de71",
       "max": 10,
       "min": 1,
       "step": 0.5,
       "style": "IPY_MODEL_bc5c3f4321c04ee984c5ed7d803c011c",
       "value": 4
      }
     },
     "c19747d4dd9c45fdacdd5901ce7587b1": {
      "model_module": "@jupyter-widgets/controls",
      "model_module_version": "2.0.0",
      "model_name": "FloatSliderModel",
      "state": {
       "behavior": "drag-tap",
       "description": "Overburden (kPa)",
       "layout": "IPY_MODEL_93560ff333cc433bb473822d0606c30a",
       "step": 5,
       "style": "IPY_MODEL_9b4f5eaebae14c5a91592bb648021863",
       "value": 30
      }
     },
     "c1f534e98ecd4b8ab94ed65ece6b4386": {
      "model_module": "@jupyter-widgets/controls",
      "model_module_version": "2.0.0",
      "model_name": "FloatSliderModel",
      "state": {
       "behavior": "drag-tap",
       "description": "Footing Width (m)",
       "layout": "IPY_MODEL_c1fa72c09200415b9cdd6d6417d5be3c",
       "max": 5,
       "min": 0.5,
       "step": 0.1,
       "style": "IPY_MODEL_4719e8a6a4e34e2bbee58550c3a3f628",
       "value": 2
      }
     },
     "c1fa72c09200415b9cdd6d6417d5be3c": {
      "model_module": "@jupyter-widgets/base",
      "model_module_version": "2.0.0",
      "model_name": "LayoutModel",
      "state": {}
     },
     "c26e486a2f0745c085be8ea8c050c251": {
      "model_module": "@jupyter-widgets/controls",
      "model_module_version": "2.0.0",
      "model_name": "FloatSliderModel",
      "state": {
       "behavior": "drag-tap",
       "description": "Concrete (kg)",
       "layout": "IPY_MODEL_68f65792a1224afca4901fb419fffca1",
       "max": 10000,
       "min": 1000,
       "step": 500,
       "style": "IPY_MODEL_f4021bbad6e748ef8f287463edd52c6c",
       "value": 5000
      }
     },
     "c2fc967cdc244225bd65eddb96c8d149": {
      "model_module": "@jupyter-widgets/controls",
      "model_module_version": "2.0.0",
      "model_name": "FloatSliderModel",
      "state": {
       "behavior": "drag-tap",
       "description": "Friction Angle (°)",
       "layout": "IPY_MODEL_051316ea35284e02ad1c4ad5b50b4344",
       "max": 45,
       "min": 20,
       "style": "IPY_MODEL_57bf58ed517c4c2f83c130e6edc1ea97",
       "value": 30
      }
     },
     "c34ca5d1aa534357960d4f1e158e647e": {
      "model_module": "@jupyter-widgets/base",
      "model_module_version": "2.0.0",
      "model_name": "LayoutModel",
      "state": {}
     },
     "c3d35aa763de4013a29210c189469fcc": {
      "model_module": "@jupyter-widgets/controls",
      "model_module_version": "2.0.0",
      "model_name": "VBoxModel",
      "state": {
       "children": [
        "IPY_MODEL_2ef4cecc11a7434781dd2ba5d20c2bf3",
        "IPY_MODEL_57b383f7dc6f4024891e9e898d84f127",
        "IPY_MODEL_56f9dafa5b364004a46490318293c6fc",
        "IPY_MODEL_a364825a2a3949ac9b508d7eafd9929e",
        "IPY_MODEL_4fce14eab4f94fa88258892983c88c8a",
        "IPY_MODEL_485bbb5e55aa4592a30a57621bd75a47",
        "IPY_MODEL_8259cf55e4c148b884d9b79c96f612b4",
        "IPY_MODEL_b6ee4a3f1cdf44e0afccec912118cb3f",
        "IPY_MODEL_e3edc590d4384253a963e5d83e2c12a7"
       ],
       "layout": "IPY_MODEL_77ef5598729a4ef9a35ec6b3fd2d3b58"
      }
     },
     "c3ec4e26bf494e4bb1dd3d40fbcb05f2": {
      "model_module": "@jupyter-widgets/controls",
      "model_module_version": "2.0.0",
      "model_name": "FloatSliderModel",
      "state": {
       "behavior": "drag-tap",
       "description": "Reuse (%)",
       "layout": "IPY_MODEL_001144bf23d6472c9c76277d98801495",
       "step": 10,
       "style": "IPY_MODEL_8820a3a70fce4c88be5f95e9fc064a8e"
      }
     },
     "c418dcbb499249ad8c56de9b81cd8477": {
      "model_module": "@jupyter-widgets/controls",
      "model_module_version": "2.0.0",
      "model_name": "FloatSliderModel",
      "state": {
       "behavior": "drag-tap",
       "description": "Footing Depth (m)",
       "layout": "IPY_MODEL_397f362c95af4293811f7e36724fa0a5",
       "max": 2,
       "min": 0.2,
       "step": 0.1,
       "style": "IPY_MODEL_f594fa0f05e74084a7d4d649bf729968",
       "value": 0.5
      }
     },
     "c477e1e7ad70433e80a329fa95816f6e": {
      "model_module": "@jupyter-widgets/base",
      "model_module_version": "2.0.0",
      "model_name": "LayoutModel",
      "state": {}
     },
     "c5694dcbd5c94794a7f526528253ac5c": {
      "model_module": "@jupyter-widgets/base",
      "model_module_version": "2.0.0",
      "model_name": "LayoutModel",
      "state": {}
     },
     "c5a38f6df651499b926c1f6853cfe4d1": {
      "model_module": "@jupyter-widgets/output",
      "model_module_version": "1.0.0",
      "model_name": "OutputModel",
      "state": {
       "layout": "IPY_MODEL_189ac4719f984983943209e200c52409",
       "outputs": [
        {
         "data": {
          "application/vnd.jupyter.widget-view+json": {
           "model_id": "5ddafb6a376d483cadf17c4059df3272",
           "version_major": 2,
           "version_minor": 0
          },
          "text/plain": "VBox(children=(Dropdown(description='Type', options=('Shallow', 'Pile', 'Retaining Wall', 'Geosynthetic-Reinfo…"
         },
         "metadata": {},
         "output_type": "display_data"
        }
       ]
      }
     },
     "c7c10306a00e4c4aaaffc7335315f247": {
      "model_module": "@jupyter-widgets/controls",
      "model_module_version": "2.0.0",
      "model_name": "FloatSliderModel",
      "state": {
       "behavior": "drag-tap",
       "description": "Cohesion (kPa)",
       "layout": "IPY_MODEL_31d105a7f44d4233b5ccf2632bbb0f8c",
       "step": 5,
       "style": "IPY_MODEL_0485a290c3df4318ae351f4351c1e482",
       "value": 25
      }
     },
     "c7eb950884b64bbf9b8d3de89fe405d3": {
      "model_module": "@jupyter-widgets/base",
      "model_module_version": "2.0.0",
      "model_name": "LayoutModel",
      "state": {}
     },
     "c872bb00f8fe4c38b92d8379adf87e5c": {
      "model_module": "@jupyter-widgets/controls",
      "model_module_version": "2.0.0",
      "model_name": "FloatSliderModel",
      "state": {
       "behavior": "drag-tap",
       "description": "Cohesion (kPa)",
       "layout": "IPY_MODEL_a9aec61c665c47c2bddf617fa1ad8796",
       "step": 5,
       "style": "IPY_MODEL_3d0548139ad34ad2869d60fdfe88b7b0",
       "value": 25
      }
     },
     "c8be6f09d1e94ef190b9a35cfa8ec16d": {
      "model_module": "@jupyter-widgets/controls",
      "model_module_version": "2.0.0",
      "model_name": "DescriptionStyleModel",
      "state": {
       "description_width": ""
      }
     },
     "c8c6d89f74e34038b32c0a397d3bc27f": {
      "model_module": "@jupyter-widgets/controls",
      "model_module_version": "2.0.0",
      "model_name": "SliderStyleModel",
      "state": {
       "description_width": ""
      }
     },
     "c8f486e24b3249e58d715281b1f39509": {
      "model_module": "@jupyter-widgets/controls",
      "model_module_version": "2.0.0",
      "model_name": "FloatSliderModel",
      "state": {
       "behavior": "drag-tap",
       "description": "Unit Weight (kN/m³)",
       "layout": "IPY_MODEL_2b193f7e29e4477294a07f347651efdd",
       "max": 22,
       "min": 10,
       "style": "IPY_MODEL_1fbd20472b2e46dd82917b2daa7a1ef5",
       "value": 18
      }
     },
     "c91ac6386af8409b886488dfd810a475": {
      "model_module": "@jupyter-widgets/controls",
      "model_module_version": "2.0.0",
      "model_name": "VBoxModel",
      "state": {
       "children": [
        "IPY_MODEL_69e73f3332cb41538024ae69198af3c7",
        "IPY_MODEL_b8920b530e0d4cd7963c0ecee6de1ad7",
        "IPY_MODEL_95acb66a084e46dab8957f33b711385c",
        "IPY_MODEL_ed28191ffe49479d843649b7ee47d46a",
        "IPY_MODEL_cf809c213d544e09a77b471f72b406c5",
        "IPY_MODEL_cbb1c09d8077433c89e181e1c9b62482",
        "IPY_MODEL_216f51d2bcfa4e7eac90f28ec6270b0b",
        "IPY_MODEL_e63cf9925d7f458b86ff6af4c74ed674",
        "IPY_MODEL_d012d7c9066942e5b0ee1821241bc443"
       ],
       "layout": "IPY_MODEL_983c6b8ce1dd4ca1946f15fba3843e01"
      }
     },
     "ca68b8be39ed4ee588675a99f5e9d606": {
      "model_module": "@jupyter-widgets/base",
      "model_module_version": "2.0.0",
      "model_name": "LayoutModel",
      "state": {}
     },
     "caa6163850804d4cac8262879c76eed5": {
      "model_module": "@jupyter-widgets/base",
      "model_module_version": "2.0.0",
      "model_name": "LayoutModel",
      "state": {}
     },
     "caf3e4a437d24fc58c81c30f4e880a66": {
      "model_module": "@jupyter-widgets/base",
      "model_module_version": "2.0.0",
      "model_name": "LayoutModel",
      "state": {}
     },
     "cb89fc6afeba4ba9a79682e72785c57f": {
      "model_module": "@jupyter-widgets/controls",
      "model_module_version": "2.0.0",
      "model_name": "SliderStyleModel",
      "state": {
       "description_width": ""
      }
     },
     "cbb1c09d8077433c89e181e1c9b62482": {
      "model_module": "@jupyter-widgets/controls",
      "model_module_version": "2.0.0",
      "model_name": "FloatSliderModel",
      "state": {
       "behavior": "drag-tap",
       "description": "Cohesion (kPa)",
       "layout": "IPY_MODEL_1fc1ccb6fd07431b981971df3650a795",
       "step": 5,
       "style": "IPY_MODEL_fe533cb1d6cb4698b9958549cf827606",
       "value": 25
      }
     },
     "cbb602b26c0e42a7bff856221cff1f79": {
      "model_module": "@jupyter-widgets/controls",
      "model_module_version": "2.0.0",
      "model_name": "SliderStyleModel",
      "state": {
       "description_width": ""
      }
     },
     "cbbaadaa3ec4457d9fbf6dd801144557": {
      "model_module": "@jupyter-widgets/base",
      "model_module_version": "2.0.0",
      "model_name": "LayoutModel",
      "state": {}
     },
     "cc31e21c593f4254a92295e1e0d091c8": {
      "model_module": "@jupyter-widgets/controls",
      "model_module_version": "2.0.0",
      "model_name": "SliderStyleModel",
      "state": {
       "description_width": ""
      }
     },
     "cc3773beb7e947ebbe9e378ee1a93fe6": {
      "model_module": "@jupyter-widgets/controls",
      "model_module_version": "2.0.0",
      "model_name": "ButtonStyleModel",
      "state": {
       "font_family": null,
       "font_size": null,
       "font_style": null,
       "font_variant": null,
       "font_weight": null,
       "text_color": null,
       "text_decoration": null
      }
     },
     "cde7bda03b5a4d86b92984b52eddef21": {
      "model_module": "@jupyter-widgets/controls",
      "model_module_version": "2.0.0",
      "model_name": "FloatSliderModel",
      "state": {
       "behavior": "drag-tap",
       "description": "Unit Weight (kN/m³)",
       "layout": "IPY_MODEL_e7cb9ebde18c48d39d47a5141ab5455f",
       "max": 22,
       "min": 10,
       "style": "IPY_MODEL_6c5534eb96bb43a7ae1ae6bc16516f64",
       "value": 18
      }
     },
     "ce46b761ce5a430581203145979d01ab": {
      "model_module": "@jupyter-widgets/controls",
      "model_module_version": "2.0.0",
      "model_name": "SliderStyleModel",
      "state": {
       "description_width": ""
      }
     },
     "ce7a793acc3d4f43b1b3051674f6c711": {
      "model_module": "@jupyter-widgets/controls",
      "model_module_version": "2.0.0",
      "model_name": "FloatSliderModel",
      "state": {
       "behavior": "drag-tap",
       "description": "Wall Height (m)",
       "layout": "IPY_MODEL_8dce0f96357a4399b024f8a374ccb301",
       "max": 10,
       "min": 1,
       "step": 0.5,
       "style": "IPY_MODEL_0fbea60b356744828282ae8abb10c0e8",
       "value": 4
      }
     },
     "cf0bf63e1f394096a1ecfed308acf2aa": {
      "model_module": "@jupyter-widgets/controls",
      "model_module_version": "2.0.0",
      "model_name": "DropdownModel",
      "state": {
       "_options_labels": [
        "Shallow",
        "Pile",
        "Retaining Wall",
        "Geosynthetic-Reinforced"
       ],
       "description": "Type",
       "index": 2,
       "layout": "IPY_MODEL_e133ae963eac42b1a22e6cbd41a18ce6",
       "style": "IPY_MODEL_5933726dc27d4620aa6559465dd83b28"
      }
     },
     "cf5bc2f0933a4fa7ad5929f48297dc0b": {
      "model_module": "@jupyter-widgets/controls",
      "model_module_version": "2.0.0",
      "model_name": "VBoxModel",
      "state": {
       "_dom_classes": [
        "widget-interact"
       ],
       "children": [
        "IPY_MODEL_a324c4a031664a20808152dd3cf06a1e",
        "IPY_MODEL_c26e486a2f0745c085be8ea8c050c251",
        "IPY_MODEL_dde2ad8bf4fd41f4909babe6afb470a2",
        "IPY_MODEL_e9f8c42bcc0d400181dd912b5cb2ac99",
        "IPY_MODEL_2371d711a1814b6bb063f6a66d7ceac6",
        "IPY_MODEL_4a5f55c218fe43fdadbe8f90574e20da",
        "IPY_MODEL_c8f486e24b3249e58d715281b1f39509",
        "IPY_MODEL_d204d687bdf0478dacfa71e9c013bd97",
        "IPY_MODEL_e6bc1d46a786409cbb0fc10ef327a608",
        "IPY_MODEL_a4e99cb985fb4e32af9699eb51b863ef"
       ],
       "layout": "IPY_MODEL_109c51867cc54dc686438f4407eec0a7"
      }
     },
     "cf809c213d544e09a77b471f72b406c5": {
      "model_module": "@jupyter-widgets/controls",
      "model_module_version": "2.0.0",
      "model_name": "FloatSliderModel",
      "state": {
       "behavior": "drag-tap",
       "description": "Reuse (%)",
       "layout": "IPY_MODEL_6541cf6136414c17b8cdee51ea469000",
       "step": 10,
       "style": "IPY_MODEL_fd3c6dfb071f43c7bfb5d7b631bf1416"
      }
     },
     "cf92764da73e41258a74c170cdfac80f": {
      "model_module": "@jupyter-widgets/controls",
      "model_module_version": "2.0.0",
      "model_name": "SliderStyleModel",
      "state": {
       "description_width": ""
      }
     },
     "d012d7c9066942e5b0ee1821241bc443": {
      "model_module": "@jupyter-widgets/controls",
      "model_module_version": "2.0.0",
      "model_name": "FloatSliderModel",
      "state": {
       "behavior": "drag-tap",
       "description": "Overburden (kPa)",
       "layout": "IPY_MODEL_9df96269b93c4dffae78fe8b3fa5da89",
       "step": 5,
       "style": "IPY_MODEL_3e152aff807849f1b71b23e3e390fb90",
       "value": 30
      }
     },
     "d0a94506bcf54ae99f0c0643b5a5755d": {
      "model_module": "@jupyter-widgets/base",
      "model_module_version": "2.0.0",
      "model_name": "LayoutModel",
      "state": {}
     },
     "d1c99d1eec8d4b2ca49de611d9994097": {
      "model_module": "@jupyter-widgets/controls",
      "model_module_version": "2.0.0",
      "model_name": "ButtonStyleModel",
      "state": {
       "font_family": null,
       "font_size": null,
       "font_style": null,
       "font_variant": null,
       "font_weight": null,
       "text_color": null,
       "text_decoration": null
      }
     },
     "d204d687bdf0478dacfa71e9c013bd97": {
      "model_module": "@jupyter-widgets/controls",
      "model_module_version": "2.0.0",
      "model_name": "FloatSliderModel",
      "state": {
       "behavior": "drag-tap",
       "description": "Footing Width (m)",
       "layout": "IPY_MODEL_ae1dfb108970407893c346cadbd746d0",
       "max": 5,
       "min": 0.5,
       "step": 0.1,
       "style": "IPY_MODEL_1610e9984f0e4022a286e8dc4d146433",
       "value": 2
      }
     },
     "d226d5a0bedc4669b103bbe987b4af26": {
      "model_module": "@jupyter-widgets/base",
      "model_module_version": "2.0.0",
      "model_name": "LayoutModel",
      "state": {}
     },
     "d2874a9f9bbb48709da5fc26bd478da7": {
      "model_module": "@jupyter-widgets/base",
      "model_module_version": "2.0.0",
      "model_name": "LayoutModel",
      "state": {}
     },
     "d3b30f5a82f946878c84e132e94d925d": {
      "model_module": "@jupyter-widgets/controls",
      "model_module_version": "2.0.0",
      "model_name": "SliderStyleModel",
      "state": {
       "description_width": ""
      }
     },
     "d42cb81757de41bc88151c0d0d8e79e7": {
      "model_module": "@jupyter-widgets/base",
      "model_module_version": "2.0.0",
      "model_name": "LayoutModel",
      "state": {}
     },
     "d46568bf38a8401ba8ac4d285d7a0c91": {
      "model_module": "@jupyter-widgets/controls",
      "model_module_version": "2.0.0",
      "model_name": "SliderStyleModel",
      "state": {
       "description_width": ""
      }
     },
     "d510b1b85aa947ab9a5feb35b7a400dc": {
      "model_module": "@jupyter-widgets/controls",
      "model_module_version": "2.0.0",
      "model_name": "SliderStyleModel",
      "state": {
       "description_width": ""
      }
     },
     "d531efa59e84451faaf4d4be1c5adef1": {
      "model_module": "@jupyter-widgets/controls",
      "model_module_version": "2.0.0",
      "model_name": "SliderStyleModel",
      "state": {
       "description_width": ""
      }
     },
     "d54c505bfe68434ba3998a163f90a142": {
      "model_module": "@jupyter-widgets/controls",
      "model_module_version": "2.0.0",
      "model_name": "SliderStyleModel",
      "state": {
       "description_width": ""
      }
     },
     "d57dbe270a7246e295a3ce8cd7085de8": {
      "model_module": "@jupyter-widgets/base",
      "model_module_version": "2.0.0",
      "model_name": "LayoutModel",
      "state": {}
     },
     "d5e37cf3043b4ab6bb0cfce5ec6aadcf": {
      "model_module": "@jupyter-widgets/controls",
      "model_module_version": "2.0.0",
      "model_name": "SliderStyleModel",
      "state": {
       "description_width": ""
      }
     },
     "d679901e7fc342f0bf549a8284a61b3e": {
      "model_module": "@jupyter-widgets/controls",
      "model_module_version": "2.0.0",
      "model_name": "VBoxModel",
      "state": {
       "_dom_classes": [
        "widget-interact"
       ],
       "children": [
        "IPY_MODEL_aaf1dae01ee040db8bcd8ab591ff5a68",
        "IPY_MODEL_6727517df76d4881945a8e542a6fe93f",
        "IPY_MODEL_20bb2a17727e4bfca701cdc1f5dcb005",
        "IPY_MODEL_4ced3b5403724bbc95d947aa76af63e1",
        "IPY_MODEL_1e97f2a547b3415c91f95e1d54111184",
        "IPY_MODEL_5ba5056834ea4b598bead9c4c3e08a90",
        "IPY_MODEL_34241eb0eeaf4a75ba758b15fe6c5a0a",
        "IPY_MODEL_a3429127f47e43d6915f636086a0ee42",
        "IPY_MODEL_1d58912da68840dd938e59a489f04e41",
        "IPY_MODEL_3a7141467a4e40138c99a85924162a20",
        "IPY_MODEL_372eaeb496bb40649a161e34dc42c82b",
        "IPY_MODEL_8858dd5e71ce40169f39487c3d49712d",
        "IPY_MODEL_13fa59777a7d4939b01fa8ea289f77f3",
        "IPY_MODEL_f4c58c5bd9ce495ab8df35d7c9af93ff"
       ],
       "layout": "IPY_MODEL_7b7fb7cba1bf4cc5bdff0c5907a6f910"
      }
     },
     "d6c1e790da384847ad5c2a7e280f33cd": {
      "model_module": "@jupyter-widgets/controls",
      "model_module_version": "2.0.0",
      "model_name": "SliderStyleModel",
      "state": {
       "description_width": ""
      }
     },
     "d7c6c9e008364c3581c82f342c50add2": {
      "model_module": "@jupyter-widgets/controls",
      "model_module_version": "2.0.0",
      "model_name": "FloatSliderModel",
      "state": {
       "behavior": "drag-tap",
       "description": "Friction Angle (°)",
       "layout": "IPY_MODEL_5c6f1891312442c9ac062c4f055f3af1",
       "max": 45,
       "min": 20,
       "style": "IPY_MODEL_e6c70f9c3c2540c7ad54da4c93f43dc0",
       "value": 30
      }
     },
     "d89f05aa92ad48bfbab25adef9a43679": {
      "model_module": "@jupyter-widgets/controls",
      "model_module_version": "2.0.0",
      "model_name": "SliderStyleModel",
      "state": {
       "description_width": ""
      }
     },
     "d8e4d4e3747a49cd9bdcb0d059107d7c": {
      "model_module": "@jupyter-widgets/base",
      "model_module_version": "2.0.0",
      "model_name": "LayoutModel",
      "state": {}
     },
     "d935e601da32415f8f94b0f5e8dc0e6d": {
      "model_module": "@jupyter-widgets/controls",
      "model_module_version": "2.0.0",
      "model_name": "FloatSliderModel",
      "state": {
       "behavior": "drag-tap",
       "description": "Pile Length (m)",
       "layout": "IPY_MODEL_ed7205794e354cdb847809f895da51e8",
       "max": 30,
       "min": 2,
       "style": "IPY_MODEL_d94ad6007df14136bf95ca9a1ea754a2",
       "value": 10
      }
     },
     "d94ad6007df14136bf95ca9a1ea754a2": {
      "model_module": "@jupyter-widgets/controls",
      "model_module_version": "2.0.0",
      "model_name": "SliderStyleModel",
      "state": {
       "description_width": ""
      }
     },
     "d973c8cdc39442348e3d741002c4714c": {
      "model_module": "@jupyter-widgets/controls",
      "model_module_version": "2.0.0",
      "model_name": "SliderStyleModel",
      "state": {
       "description_width": ""
      }
     },
     "da2593099d834d6c92ea39c67181ac55": {
      "model_module": "@jupyter-widgets/base",
      "model_module_version": "2.0.0",
      "model_name": "LayoutModel",
      "state": {}
     },
     "da694a1c4dc442fe9dff6278045ac0cd": {
      "model_module": "@jupyter-widgets/base",
      "model_module_version": "2.0.0",
      "model_name": "LayoutModel",
      "state": {}
     },
     "dadf2b3233434630a7d863951bb76a89": {
      "model_module": "@jupyter-widgets/base",
      "model_module_version": "2.0.0",
      "model_name": "LayoutModel",
      "state": {}
     },
     "db9877d57af0429eae8298ea59d140a6": {
      "model_module": "@jupyter-widgets/base",
      "model_module_version": "2.0.0",
      "model_name": "LayoutModel",
      "state": {}
     },
     "dbbea91af337490ab07ca30b68b26d29": {
      "model_module": "@jupyter-widgets/base",
      "model_module_version": "2.0.0",
      "model_name": "LayoutModel",
      "state": {}
     },
     "dc1dcf1ade594c8ebfba6054e370736c": {
      "model_module": "@jupyter-widgets/controls",
      "model_module_version": "2.0.0",
      "model_name": "SliderStyleModel",
      "state": {
       "description_width": ""
      }
     },
     "dc281436a51b42d2aa538011d0c103e2": {
      "model_module": "@jupyter-widgets/controls",
      "model_module_version": "2.0.0",
      "model_name": "SliderStyleModel",
      "state": {
       "description_width": ""
      }
     },
     "dc3ee9968a2a4f84aacee7f003e932f8": {
      "model_module": "@jupyter-widgets/controls",
      "model_module_version": "2.0.0",
      "model_name": "FloatSliderModel",
      "state": {
       "behavior": "drag-tap",
       "description": "Cohesion (kPa)",
       "layout": "IPY_MODEL_13106e5aed4448a6848aee69d3525fe4",
       "step": 5,
       "style": "IPY_MODEL_5ab745d0fd914ed3bc81d763ffffa4ca",
       "value": 25
      }
     },
     "dc50eb8c629549f6b4963a4960eeecc0": {
      "model_module": "@jupyter-widgets/controls",
      "model_module_version": "2.0.0",
      "model_name": "VBoxModel",
      "state": {
       "children": [
        "IPY_MODEL_69e73f3332cb41538024ae69198af3c7",
        "IPY_MODEL_b8920b530e0d4cd7963c0ecee6de1ad7",
        "IPY_MODEL_95acb66a084e46dab8957f33b711385c",
        "IPY_MODEL_ed28191ffe49479d843649b7ee47d46a",
        "IPY_MODEL_cf809c213d544e09a77b471f72b406c5",
        "IPY_MODEL_216f51d2bcfa4e7eac90f28ec6270b0b",
        "IPY_MODEL_16c5fcfd7ca949b5935f36ada3bd10ac",
        "IPY_MODEL_0f2613c0fdaf4b80aa5b09af018dc98c"
       ],
       "layout": "IPY_MODEL_4baf3d7371084c79a63090e78ceb2410"
      }
     },
     "dd2057ec32f4431d80774f2fd9289fe1": {
      "model_module": "@jupyter-widgets/controls",
      "model_module_version": "2.0.0",
      "model_name": "SliderStyleModel",
      "state": {
       "description_width": ""
      }
     },
     "dd2409600c6343b79badc20c4bc98cf0": {
      "model_module": "@jupyter-widgets/controls",
      "model_module_version": "2.0.0",
      "model_name": "DescriptionStyleModel",
      "state": {
       "description_width": ""
      }
     },
     "dde2ad8bf4fd41f4909babe6afb470a2": {
      "model_module": "@jupyter-widgets/controls",
      "model_module_version": "2.0.0",
      "model_name": "FloatSliderModel",
      "state": {
       "behavior": "drag-tap",
       "description": "Steel (kg)",
       "layout": "IPY_MODEL_25314c16352d4c718e7fa496ded7592d",
       "max": 5000,
       "step": 100,
       "style": "IPY_MODEL_e643eed3892f4dc386b5401561a7a0f8",
       "value": 1000
      }
     },
     "de9a2da096c14e69acd3a6c0a92fa219": {
      "model_module": "@jupyter-widgets/controls",
      "model_module_version": "2.0.0",
      "model_name": "DescriptionStyleModel",
      "state": {
       "description_width": ""
      }
     },
     "dedb17e1ad7b43d8b4fd190824b0be0d": {
      "model_module": "@jupyter-widgets/output",
      "model_module_version": "1.0.0",
      "model_name": "OutputModel",
      "state": {
       "layout": "IPY_MODEL_d8e4d4e3747a49cd9bdcb0d059107d7c",
       "outputs": [
        {
         "data": {
          "application/vnd.jupyter.widget-view+json": {
           "model_id": "c3d35aa763de4013a29210c189469fcc",
           "version_major": 2,
           "version_minor": 0
          },
          "text/plain": "VBox(children=(Dropdown(description='Type', options=('Shallow', 'Pile', 'Retaining Wall', 'Geosynthetic-Reinfo…"
         },
         "metadata": {},
         "output_type": "display_data"
        }
       ]
      }
     },
     "df43a8821f464aeda8ffd6348673adaa": {
      "model_module": "@jupyter-widgets/controls",
      "model_module_version": "2.0.0",
      "model_name": "DescriptionStyleModel",
      "state": {
       "description_width": ""
      }
     },
     "df962b0de1534840a14ddd3bf920dc9c": {
      "model_module": "@jupyter-widgets/base",
      "model_module_version": "2.0.0",
      "model_name": "LayoutModel",
      "state": {}
     },
     "dfd8f17b065344a5a2f07862b4bed44b": {
      "model_module": "@jupyter-widgets/base",
      "model_module_version": "2.0.0",
      "model_name": "LayoutModel",
      "state": {}
     },
     "e05ef03b709d4944a3b60613765643ac": {
      "model_module": "@jupyter-widgets/base",
      "model_module_version": "2.0.0",
      "model_name": "LayoutModel",
      "state": {}
     },
     "e0dc054d07e94c3fb57b7d401d971e14": {
      "model_module": "@jupyter-widgets/controls",
      "model_module_version": "2.0.0",
      "model_name": "ButtonStyleModel",
      "state": {
       "font_family": null,
       "font_size": null,
       "font_style": null,
       "font_variant": null,
       "font_weight": null,
       "text_color": null,
       "text_decoration": null
      }
     },
     "e133ae963eac42b1a22e6cbd41a18ce6": {
      "model_module": "@jupyter-widgets/base",
      "model_module_version": "2.0.0",
      "model_name": "LayoutModel",
      "state": {}
     },
     "e17da1d1407147a79a02037930afd5f4": {
      "model_module": "@jupyter-widgets/controls",
      "model_module_version": "2.0.0",
      "model_name": "SliderStyleModel",
      "state": {
       "description_width": ""
      }
     },
     "e18d2a13712e45b8940f19efb75c2062": {
      "model_module": "@jupyter-widgets/base",
      "model_module_version": "2.0.0",
      "model_name": "LayoutModel",
      "state": {}
     },
     "e3073ca4c0a2486d933d1fb87d8da431": {
      "model_module": "@jupyter-widgets/controls",
      "model_module_version": "2.0.0",
      "model_name": "SliderStyleModel",
      "state": {
       "description_width": ""
      }
     },
     "e354272975fa41508f7f52bde9a13f90": {
      "model_module": "@jupyter-widgets/base",
      "model_module_version": "2.0.0",
      "model_name": "LayoutModel",
      "state": {}
     },
     "e3e8be91a9574c98939563aa3fcec402": {
      "model_module": "@jupyter-widgets/controls",
      "model_module_version": "2.0.0",
      "model_name": "FloatSliderModel",
      "state": {
       "behavior": "drag-tap",
       "description": "Pile Length (m)",
       "layout": "IPY_MODEL_4b5f5f4480e746898617d878ebb16241",
       "max": 30,
       "min": 2,
       "style": "IPY_MODEL_09d6922baab2476daee3221596156559",
       "value": 10
      }
     },
     "e3edc590d4384253a963e5d83e2c12a7": {
      "model_module": "@jupyter-widgets/controls",
      "model_module_version": "2.0.0",
      "model_name": "ButtonModel",
      "state": {
       "button_style": "success",
       "description": "Run Analysis",
       "layout": "IPY_MODEL_ebe65efca52b402aaf801ebc14f81c91",
       "style": "IPY_MODEL_608f40ec3a0c4cf9b8af52ff33eb7828",
       "tooltip": null
      }
     },
     "e450269beb3f4ed186248f32d5c0086b": {
      "model_module": "@jupyter-widgets/controls",
      "model_module_version": "2.0.0",
      "model_name": "SliderStyleModel",
      "state": {
       "description_width": ""
      }
     },
     "e48d9aa26a5d4278a513632166060923": {
      "model_module": "@jupyter-widgets/controls",
      "model_module_version": "2.0.0",
      "model_name": "SliderStyleModel",
      "state": {
       "description_width": ""
      }
     },
     "e49cd79a41f049c594b3fe783a360238": {
      "model_module": "@jupyter-widgets/base",
      "model_module_version": "2.0.0",
      "model_name": "LayoutModel",
      "state": {}
     },
     "e543db3a0897484391491c8a50a79f16": {
      "model_module": "@jupyter-widgets/controls",
      "model_module_version": "2.0.0",
      "model_name": "ButtonModel",
      "state": {
       "button_style": "success",
       "description": "Run Analysis",
       "layout": "IPY_MODEL_dfd8f17b065344a5a2f07862b4bed44b",
       "style": "IPY_MODEL_e0dc054d07e94c3fb57b7d401d971e14",
       "tooltip": null
      }
     },
     "e59ba15a5fc74da0997c7ddf3bc19b3c": {
      "model_module": "@jupyter-widgets/controls",
      "model_module_version": "2.0.0",
      "model_name": "SliderStyleModel",
      "state": {
       "description_width": ""
      }
     },
     "e5aace7c9ee2447ea0c13f1c25bfe293": {
      "model_module": "@jupyter-widgets/controls",
      "model_module_version": "2.0.0",
      "model_name": "SliderStyleModel",
      "state": {
       "description_width": ""
      }
     },
     "e5da73796d7f46f589ca8330f5b2e85f": {
      "model_module": "@jupyter-widgets/controls",
      "model_module_version": "2.0.0",
      "model_name": "SliderStyleModel",
      "state": {
       "description_width": ""
      }
     },
     "e63cf9925d7f458b86ff6af4c74ed674": {
      "model_module": "@jupyter-widgets/controls",
      "model_module_version": "2.0.0",
      "model_name": "FloatSliderModel",
      "state": {
       "behavior": "drag-tap",
       "description": "Footing Width (m)",
       "layout": "IPY_MODEL_3b7085986fc0467eb21e8d01ad169fe6",
       "max": 5,
       "min": 0.5,
       "step": 0.1,
       "style": "IPY_MODEL_728ed7bdd70f417d83406243f0b2f22b",
       "value": 2
      }
     },
     "e643eed3892f4dc386b5401561a7a0f8": {
      "model_module": "@jupyter-widgets/controls",
      "model_module_version": "2.0.0",
      "model_name": "SliderStyleModel",
      "state": {
       "description_width": ""
      }
     },
     "e691b101adaa4917af06b23f51677ddb": {
      "model_module": "@jupyter-widgets/base",
      "model_module_version": "2.0.0",
      "model_name": "LayoutModel",
      "state": {}
     },
     "e6bc1d46a786409cbb0fc10ef327a608": {
      "model_module": "@jupyter-widgets/controls",
      "model_module_version": "2.0.0",
      "model_name": "FloatSliderModel",
      "state": {
       "behavior": "drag-tap",
       "description": "Overburden (kPa)",
       "layout": "IPY_MODEL_e354272975fa41508f7f52bde9a13f90",
       "step": 5,
       "style": "IPY_MODEL_2054a17dab17484a9f0fec8c573179b9",
       "value": 30
      }
     },
     "e6c70f9c3c2540c7ad54da4c93f43dc0": {
      "model_module": "@jupyter-widgets/controls",
      "model_module_version": "2.0.0",
      "model_name": "SliderStyleModel",
      "state": {
       "description_width": ""
      }
     },
     "e6f889452dba4f079f06ea76fdadc5d2": {
      "model_module": "@jupyter-widgets/base",
      "model_module_version": "2.0.0",
      "model_name": "LayoutModel",
      "state": {}
     },
     "e7859b5fb14e4dcf92c8b3c907384b23": {
      "model_module": "@jupyter-widgets/controls",
      "model_module_version": "2.0.0",
      "model_name": "SliderStyleModel",
      "state": {
       "description_width": ""
      }
     },
     "e7cb9ebde18c48d39d47a5141ab5455f": {
      "model_module": "@jupyter-widgets/base",
      "model_module_version": "2.0.0",
      "model_name": "LayoutModel",
      "state": {}
     },
     "e81a7ef6301047699405c127f6245bd6": {
      "model_module": "@jupyter-widgets/base",
      "model_module_version": "2.0.0",
      "model_name": "LayoutModel",
      "state": {}
     },
     "e87f5a335d7d476ca97dd63de49f92d4": {
      "model_module": "@jupyter-widgets/controls",
      "model_module_version": "2.0.0",
      "model_name": "FloatSliderModel",
      "state": {
       "behavior": "drag-tap",
       "description": "Footing Width (m)",
       "layout": "IPY_MODEL_0c7c4a64f3cd401d82eb8b112cd9046e",
       "max": 5,
       "min": 0.5,
       "step": 0.1,
       "style": "IPY_MODEL_86fcb2559e9d4dc1b274c15ed3b13452",
       "value": 2
      }
     },
     "e8dd9a123b5e4c7f9701f7dd9fe7b8ce": {
      "model_module": "@jupyter-widgets/base",
      "model_module_version": "2.0.0",
      "model_name": "LayoutModel",
      "state": {}
     },
     "e9f8c42bcc0d400181dd912b5cb2ac99": {
      "model_module": "@jupyter-widgets/controls",
      "model_module_version": "2.0.0",
      "model_name": "FloatSliderModel",
      "state": {
       "behavior": "drag-tap",
       "description": "Geosynthetics (kg)",
       "layout": "IPY_MODEL_b28def01203646ec964414106811a268",
       "max": 1000,
       "step": 50,
       "style": "IPY_MODEL_427446146356474d97b0db340e042379",
       "value": 200
      }
     },
     "eb326cd4d1b74f7ba39f5cd33e2a8468": {
      "model_module": "@jupyter-widgets/controls",
      "model_module_version": "2.0.0",
      "model_name": "FloatSliderModel",
      "state": {
       "behavior": "drag-tap",
       "description": "Unit Weight (kN/m³)",
       "layout": "IPY_MODEL_da694a1c4dc442fe9dff6278045ac0cd",
       "max": 22,
       "min": 10,
       "style": "IPY_MODEL_81472b1944e2447fba75a98dd5b1c1ca",
       "value": 18
      }
     },
     "eb726cb26cd049fabdc3914d14fd047d": {
      "model_module": "@jupyter-widgets/controls",
      "model_module_version": "2.0.0",
      "model_name": "SliderStyleModel",
      "state": {
       "description_width": ""
      }
     },
     "eb86e1fdb92c421fa15445bbcfde3663": {
      "model_module": "@jupyter-widgets/controls",
      "model_module_version": "2.0.0",
      "model_name": "SliderStyleModel",
      "state": {
       "description_width": ""
      }
     },
     "ebe65efca52b402aaf801ebc14f81c91": {
      "model_module": "@jupyter-widgets/base",
      "model_module_version": "2.0.0",
      "model_name": "LayoutModel",
      "state": {}
     },
     "ec28c6e578444b5aa0ba64d6b66f8629": {
      "model_module": "@jupyter-widgets/controls",
      "model_module_version": "2.0.0",
      "model_name": "FloatSliderModel",
      "state": {
       "behavior": "drag-tap",
       "description": "Geosynthetics (kg)",
       "layout": "IPY_MODEL_7b448818f6c84e55b218f4541e79ddf2",
       "max": 1000,
       "step": 50,
       "style": "IPY_MODEL_838e17fce68f4becb6e8065a2518b5bf",
       "value": 200
      }
     },
     "eca76da11b3e4175b60e3599d116202e": {
      "model_module": "@jupyter-widgets/base",
      "model_module_version": "2.0.0",
      "model_name": "LayoutModel",
      "state": {}
     },
     "ece96301ef5e47769ad371027c0bb373": {
      "model_module": "@jupyter-widgets/controls",
      "model_module_version": "2.0.0",
      "model_name": "SliderStyleModel",
      "state": {
       "description_width": ""
      }
     },
     "ed175de33f9d4e3d8e8c188508ac0132": {
      "model_module": "@jupyter-widgets/base",
      "model_module_version": "2.0.0",
      "model_name": "LayoutModel",
      "state": {}
     },
     "ed1ea845e8a445729bff42d5f2400d24": {
      "model_module": "@jupyter-widgets/controls",
      "model_module_version": "2.0.0",
      "model_name": "FloatSliderModel",
      "state": {
       "behavior": "drag-tap",
       "description": "Wall Height (m)",
       "layout": "IPY_MODEL_a1ac22b05094445cbff6934d8d3ee62c",
       "max": 10,
       "min": 1,
       "step": 0.5,
       "style": "IPY_MODEL_08b63f10c7a24491bd64c588e9178224",
       "value": 4
      }
     },
     "ed28191ffe49479d843649b7ee47d46a": {
      "model_module": "@jupyter-widgets/controls",
      "model_module_version": "2.0.0",
      "model_name": "FloatSliderModel",
      "state": {
       "behavior": "drag-tap",
       "description": "Geosynthetics (kg)",
       "layout": "IPY_MODEL_e49cd79a41f049c594b3fe783a360238",
       "max": 1000,
       "step": 50,
       "style": "IPY_MODEL_ad3f640d0d8c44e9a79c6f9a75909e60",
       "value": 200
      }
     },
     "ed7205794e354cdb847809f895da51e8": {
      "model_module": "@jupyter-widgets/base",
      "model_module_version": "2.0.0",
      "model_name": "LayoutModel",
      "state": {}
     },
     "ed7fd0467fdb45bca1d829984499268d": {
      "model_module": "@jupyter-widgets/base",
      "model_module_version": "2.0.0",
      "model_name": "LayoutModel",
      "state": {}
     },
     "edaa3bd7b1f746a680886a7cc1dfa801": {
      "model_module": "@jupyter-widgets/base",
      "model_module_version": "2.0.0",
      "model_name": "LayoutModel",
      "state": {}
     },
     "ee5149d01d2a4649bb5958f13f13f330": {
      "model_module": "@jupyter-widgets/controls",
      "model_module_version": "2.0.0",
      "model_name": "SliderStyleModel",
      "state": {
       "description_width": ""
      }
     },
     "ef14a258167b4e079766e3dee4a5181f": {
      "model_module": "@jupyter-widgets/base",
      "model_module_version": "2.0.0",
      "model_name": "LayoutModel",
      "state": {}
     },
     "efcdc2e55c9c4cbf91640d14fcdf76ef": {
      "model_module": "@jupyter-widgets/controls",
      "model_module_version": "2.0.0",
      "model_name": "SliderStyleModel",
      "state": {
       "description_width": ""
      }
     },
     "efe7f4c1a3d242d6a51127680c8028bd": {
      "model_module": "@jupyter-widgets/base",
      "model_module_version": "2.0.0",
      "model_name": "LayoutModel",
      "state": {}
     },
     "eff68224d43c46deb19c93b014a0c973": {
      "model_module": "@jupyter-widgets/controls",
      "model_module_version": "2.0.0",
      "model_name": "SliderStyleModel",
      "state": {
       "description_width": ""
      }
     },
     "f06a57394cdc4c8893608c31d05bfcf8": {
      "model_module": "@jupyter-widgets/output",
      "model_module_version": "1.0.0",
      "model_name": "OutputModel",
      "state": {
       "layout": "IPY_MODEL_1c8641b5bbb043d7bc3388444b03a17a",
       "outputs": [
        {
         "name": "stdout",
         "output_type": "stream",
         "text": "\n📘 Interpretation:\n❌ High embodied carbon — consider reducing concrete or increasing reuse.\n✅ Economical design — suitable for budget-sensitive projects.\n✅ Structural performance appears adequate for typical conditions.\n⚠️ Moderate sustainability — room for improvement.\n\n📊 Summary Compared to Typical Values:\nMetric                       Your Design       Typical Range\n------------------------------------------------------------\nEmbodied Carbon (kg CO₂)          1327.8             300–800\nLife Cycle Cost ($)               925.12            800–1500\nAxial Pile Capacity (kN)           610.5     Depends on type\nSustainability Score                   6                5–10\n🏗️ Foundation Type: Pile\nConcrete Volume: 2.40 m³\nConcrete Used: 4032.0 kg\nSteel Used: 201.6 kg\nGeosynthetics Used: 140.0 kg\nReuse Percentage: 30.0%\n\n🌍 Embodied Carbon: 1327.76 kg CO₂\n💰 Life Cycle Cost: $925.12\n📏 Axial Pile Capacity (kN): 610.5\n🧠 Sustainability Score: 6/10\n"
        },
        {
         "data": {
          "image/png": "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",
          "text/plain": "<Figure size 700x400 with 1 Axes>"
         },
         "metadata": {},
         "output_type": "display_data"
        }
       ]
      }
     },
     "f084d7550ea947f9903195a152a3c80c": {
      "model_module": "@jupyter-widgets/base",
      "model_module_version": "2.0.0",
      "model_name": "LayoutModel",
      "state": {}
     },
     "f17df3f60ffd40c181380aed6ffbf172": {
      "model_module": "@jupyter-widgets/controls",
      "model_module_version": "2.0.0",
      "model_name": "VBoxModel",
      "state": {
       "children": [
        "IPY_MODEL_931520c14c2647ca95e1785fc0ca6184",
        "IPY_MODEL_aff6e8cdb7cc42a4a6712ada21247e9e",
        "IPY_MODEL_3cef5d649b7c4d3695260a59d2b20e57",
        "IPY_MODEL_5ba31decfecc435b81bf3a00dd90346d",
        "IPY_MODEL_a59f466f53e344b49aadf0c5e63a7b7c",
        "IPY_MODEL_bbe2379a908e4ac7a6efbecc97f074c2",
        "IPY_MODEL_cde7bda03b5a4d86b92984b52eddef21",
        "IPY_MODEL_6625bd5849d743d2b31e00cd7b147dee"
       ],
       "layout": "IPY_MODEL_a8942ceb8e464bb6b24769eca3f2a694"
      }
     },
     "f37c360151f9456d9ccedadc34b66562": {
      "model_module": "@jupyter-widgets/base",
      "model_module_version": "2.0.0",
      "model_name": "LayoutModel",
      "state": {}
     },
     "f37f860d4d1c416da6d8582c8baac6e2": {
      "model_module": "@jupyter-widgets/base",
      "model_module_version": "2.0.0",
      "model_name": "LayoutModel",
      "state": {}
     },
     "f4021bbad6e748ef8f287463edd52c6c": {
      "model_module": "@jupyter-widgets/controls",
      "model_module_version": "2.0.0",
      "model_name": "SliderStyleModel",
      "state": {
       "description_width": ""
      }
     },
     "f4c58c5bd9ce495ab8df35d7c9af93ff": {
      "model_module": "@jupyter-widgets/output",
      "model_module_version": "1.0.0",
      "model_name": "OutputModel",
      "state": {
       "layout": "IPY_MODEL_6d4752bbba934bf5ac8f6a41d45f30fe",
       "outputs": [
        {
         "name": "stdout",
         "output_type": "stream",
         "text": "🏗️ Foundation Type: Retaining Wall\nConcrete Used: 5000.0 kg\nSteel Used: 1000.0 kg\nGeosynthetics Used: 200.0 kg\nReuse Percentage: 0.0%\n\n🌍 Embodied Carbon: 3100.00 kg CO₂\n💰 Life Cycle Cost: $2100.00\n📏 Active Earth Pressure (kN/m): 48.0\n🧠 Sustainability Score: 5/10\n"
        },
        {
         "data": {
          "image/png": "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",
          "text/plain": "<Figure size 700x400 with 1 Axes>"
         },
         "metadata": {},
         "output_type": "display_data"
        }
       ]
      }
     },
     "f552e64d64a0417baac833e4372b7859": {
      "model_module": "@jupyter-widgets/controls",
      "model_module_version": "2.0.0",
      "model_name": "FloatSliderModel",
      "state": {
       "behavior": "drag-tap",
       "description": "Wall Thickness (m)",
       "layout": "IPY_MODEL_faada3e0b9db4011949b1473204c20fe",
       "max": 1,
       "min": 0.2,
       "step": 0.05,
       "style": "IPY_MODEL_e3073ca4c0a2486d933d1fb87d8da431",
       "value": 0.30000000000000004
      }
     },
     "f58426e0251f4543a319c3ca4f56b959": {
      "model_module": "@jupyter-widgets/controls",
      "model_module_version": "2.0.0",
      "model_name": "DropdownModel",
      "state": {
       "_options_labels": [
        "Shallow",
        "Pile",
        "Retaining Wall",
        "Geosynthetic-Reinforced"
       ],
       "description": "Type",
       "index": 0,
       "layout": "IPY_MODEL_b0b9d8f3e8c04b1ba045de020a11ee7d",
       "style": "IPY_MODEL_dd2409600c6343b79badc20c4bc98cf0"
      }
     },
     "f594fa0f05e74084a7d4d649bf729968": {
      "model_module": "@jupyter-widgets/controls",
      "model_module_version": "2.0.0",
      "model_name": "SliderStyleModel",
      "state": {
       "description_width": ""
      }
     },
     "f5b3b5b9007f4a8b8d175459dd35908e": {
      "model_module": "@jupyter-widgets/base",
      "model_module_version": "2.0.0",
      "model_name": "LayoutModel",
      "state": {}
     },
     "f6cfbf0eb5d74105b6aa367a5ecf7064": {
      "model_module": "@jupyter-widgets/controls",
      "model_module_version": "2.0.0",
      "model_name": "FloatSliderModel",
      "state": {
       "behavior": "drag-tap",
       "description": "Wall Thickness (m)",
       "layout": "IPY_MODEL_4f74556cbcae4ce3be636d3a2e205c10",
       "max": 1,
       "min": 0.2,
       "step": 0.05,
       "style": "IPY_MODEL_f79c2b0bde824d8d98718b9018126241",
       "value": 0.3
      }
     },
     "f7415380710142d6b16d72cd76036113": {
      "model_module": "@jupyter-widgets/controls",
      "model_module_version": "2.0.0",
      "model_name": "VBoxModel",
      "state": {
       "children": [
        "IPY_MODEL_6a3fe2ab13f44208b9abb843f2ce666d",
        "IPY_MODEL_ffd9f033d53a494b954e0c6c1f5b3884",
        "IPY_MODEL_30866d57e7e74882a1f7ee059b0ecbd8",
        "IPY_MODEL_4c11c2e989db4e4c8981f0478212facf",
        "IPY_MODEL_b7b3c5f8191a46e88c9fad6a55ffebbc",
        "IPY_MODEL_dc3ee9968a2a4f84aacee7f003e932f8",
        "IPY_MODEL_4f3db6f2c0d34ed798180f96b8459289",
        "IPY_MODEL_5b7a2e60709d4cde890b79af47a92a65"
       ],
       "layout": "IPY_MODEL_ed175de33f9d4e3d8e8c188508ac0132"
      }
     },
     "f79c2b0bde824d8d98718b9018126241": {
      "model_module": "@jupyter-widgets/controls",
      "model_module_version": "2.0.0",
      "model_name": "SliderStyleModel",
      "state": {
       "description_width": ""
      }
     },
     "f813cb9d78cf46d2a806385a06edcfa8": {
      "model_module": "@jupyter-widgets/controls",
      "model_module_version": "2.0.0",
      "model_name": "SliderStyleModel",
      "state": {
       "description_width": ""
      }
     },
     "f96901f08430416b908e744fd4b7d843": {
      "model_module": "@jupyter-widgets/controls",
      "model_module_version": "2.0.0",
      "model_name": "DescriptionStyleModel",
      "state": {
       "description_width": ""
      }
     },
     "f96bf78c51c4423191d0f38170f04576": {
      "model_module": "@jupyter-widgets/base",
      "model_module_version": "2.0.0",
      "model_name": "LayoutModel",
      "state": {}
     },
     "f9b8bdf7632f4e8fbc7d53bd28640fcc": {
      "model_module": "@jupyter-widgets/controls",
      "model_module_version": "2.0.0",
      "model_name": "SliderStyleModel",
      "state": {
       "description_width": ""
      }
     },
     "fa52264ae5af4e119932985da5516c8b": {
      "model_module": "@jupyter-widgets/controls",
      "model_module_version": "2.0.0",
      "model_name": "SliderStyleModel",
      "state": {
       "description_width": ""
      }
     },
     "faada3e0b9db4011949b1473204c20fe": {
      "model_module": "@jupyter-widgets/base",
      "model_module_version": "2.0.0",
      "model_name": "LayoutModel",
      "state": {}
     },
     "fb11a4c826354149b8c187337d1fcd7b": {
      "model_module": "@jupyter-widgets/controls",
      "model_module_version": "2.0.0",
      "model_name": "SliderStyleModel",
      "state": {
       "description_width": ""
      }
     },
     "fb4e3a9acab4433d8404afb25c372271": {
      "model_module": "@jupyter-widgets/controls",
      "model_module_version": "2.0.0",
      "model_name": "SliderStyleModel",
      "state": {
       "description_width": ""
      }
     },
     "fb8c61ec093b4092b6a92af57202dc1b": {
      "model_module": "@jupyter-widgets/base",
      "model_module_version": "2.0.0",
      "model_name": "LayoutModel",
      "state": {}
     },
     "fc7348c4bdf443d19b1ca03a50dca855": {
      "model_module": "@jupyter-widgets/controls",
      "model_module_version": "2.0.0",
      "model_name": "FloatSliderModel",
      "state": {
       "behavior": "drag-tap",
       "description": "Cohesion (kPa)",
       "layout": "IPY_MODEL_f96bf78c51c4423191d0f38170f04576",
       "step": 5,
       "style": "IPY_MODEL_946a7fadbbb843fcb981033469fc6cf0",
       "value": 25
      }
     },
     "fd32f86bdeb64410b3585573a1a03c9d": {
      "model_module": "@jupyter-widgets/base",
      "model_module_version": "2.0.0",
      "model_name": "LayoutModel",
      "state": {}
     },
     "fd3c6dfb071f43c7bfb5d7b631bf1416": {
      "model_module": "@jupyter-widgets/controls",
      "model_module_version": "2.0.0",
      "model_name": "SliderStyleModel",
      "state": {
       "description_width": ""
      }
     },
     "fd4d698d76294830add0e7003f5a6eb7": {
      "model_module": "@jupyter-widgets/base",
      "model_module_version": "2.0.0",
      "model_name": "LayoutModel",
      "state": {}
     },
     "fdce59b4e6a44a3abf97eceff6e64b8f": {
      "model_module": "@jupyter-widgets/base",
      "model_module_version": "2.0.0",
      "model_name": "LayoutModel",
      "state": {}
     },
     "fe533cb1d6cb4698b9958549cf827606": {
      "model_module": "@jupyter-widgets/controls",
      "model_module_version": "2.0.0",
      "model_name": "SliderStyleModel",
      "state": {
       "description_width": ""
      }
     },
     "fe7bd97f4dd84b2dacd507a01e39f910": {
      "model_module": "@jupyter-widgets/base",
      "model_module_version": "2.0.0",
      "model_name": "LayoutModel",
      "state": {}
     },
     "fee04e94edc04c4c986b7d425bd688fd": {
      "model_module": "@jupyter-widgets/base",
      "model_module_version": "2.0.0",
      "model_name": "LayoutModel",
      "state": {}
     },
     "ffadee7601834417b48c07598b7a9901": {
      "model_module": "@jupyter-widgets/controls",
      "model_module_version": "2.0.0",
      "model_name": "FloatSliderModel",
      "state": {
       "behavior": "drag-tap",
       "description": "Overburden (kPa)",
       "layout": "IPY_MODEL_8c306ba871cc44aeae4dcd1c2212abb4",
       "step": 5,
       "style": "IPY_MODEL_eb86e1fdb92c421fa15445bbcfde3663",
       "value": 30
      }
     },
     "ffb117de2b704918bb5aa26a921a1c6a": {
      "model_module": "@jupyter-widgets/controls",
      "model_module_version": "2.0.0",
      "model_name": "FloatSliderModel",
      "state": {
       "behavior": "drag-tap",
       "description": "Footing Width (m)",
       "layout": "IPY_MODEL_26b853f2463e452d8530cbab63623eef",
       "max": 5,
       "min": 0.5,
       "step": 0.1,
       "style": "IPY_MODEL_2754ba6dbe1e4c4dbaa91e1889606816",
       "value": 2
      }
     },
     "ffd42be5456a4044bf7d8c5b0b00a7e2": {
      "model_module": "@jupyter-widgets/controls",
      "model_module_version": "2.0.0",
      "model_name": "FloatSliderModel",
      "state": {
       "behavior": "drag-tap",
       "description": "Pile Length (m)",
       "layout": "IPY_MODEL_7e085cc4c9c94291b2fed6265f49d626",
       "max": 30,
       "min": 2,
       "style": "IPY_MODEL_d89f05aa92ad48bfbab25adef9a43679",
       "value": 10
      }
     },
     "ffd9f033d53a494b954e0c6c1f5b3884": {
      "model_module": "@jupyter-widgets/controls",
      "model_module_version": "2.0.0",
      "model_name": "FloatSliderModel",
      "state": {
       "behavior": "drag-tap",
       "description": "Concrete (kg)",
       "layout": "IPY_MODEL_bd9314d67c4f4d208c114c55cd5ca06b",
       "max": 10000,
       "min": 1000,
       "step": 500,
       "style": "IPY_MODEL_efcdc2e55c9c4cbf91640d14fcdf76ef",
       "value": 5000
      }
     }
    },
    "version_major": 2,
    "version_minor": 0
   }
  }
 },
 "nbformat": 4,
 "nbformat_minor": 5
}
