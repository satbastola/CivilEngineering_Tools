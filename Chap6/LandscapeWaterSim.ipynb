{
 "cells": [
  {
   "cell_type": "markdown",
   "id": "e90fa498-efb9-4bd4-8ac1-c27372714dc9",
   "metadata": {},
   "source": [
    "# Chapter 6 Enginereing Sustainability: Landscape Water Conservation"
   ]
  },
  {
   "cell_type": "markdown",
   "id": "4942e8d1-d201-44c5-83bb-c4454bd5016f",
   "metadata": {},
   "source": [
    "1. [Introduction: Landscape Water conservation](#1.-Introduction)\n",
    "2. [Simulation: Landscape Water Conservation](#2.-Simulation)\n",
    "3. [Self-Assessment](#3.-Self-Assessment)"
   ]
  },
  {
   "cell_type": "markdown",
   "id": "49955428-38c8-49dd-b699-d38fb4f67dc8",
   "metadata": {},
   "source": [
    "## 1. Introduction"
   ]
  },
  {
   "cell_type": "markdown",
   "id": "328a9b24-b992-488c-8514-0abc1bfa4b54",
   "metadata": {},
   "source": [
    "### 🌿 Landscape Water Conservation Simulation\n",
    "\n",
    "### 📘 Overview\n",
    "\n",
    "This interactive model estimates **monthly irrigation requirements** and **potential water savings** for different landscape types based on:\n",
    "\n",
    "- 🌧️ Local rainfall\n",
    "- 🌱 Plant water needs (landscape coefficient)\n",
    "- 📏 Landscape area\n",
    "\n",
    "It is inspired by the **EPA WaterSense Water Budget Tool**, which helps homeowners and planners design water-efficient landscapes.\n",
    "\n",
    "---\n",
    "\n",
    "### 🧮 Model Assumptions\n",
    "\n",
    "### 🔹 Reference Evapotranspiration (ET₀)\n",
    "\n",
    "- Assumed constant at **150 mm/month**, typical for summer in many U.S. regions.\n",
    "- Represents the water demand of a well-watered cool-season grass under standard conditions.\n",
    "\n",
    "### 🔹 Landscape Coefficients (Kc)\n",
    "\n",
    "| Landscape Type               | Coefficient (Kc) | Description                          |\n",
    "|-----------------------------|------------------|--------------------------------------|\n",
    "| Cool-season grass           | 0.8              | High water demand                    |\n",
    "| Warm-season grass           | 0.6              | Moderate water demand                |\n",
    "| Native plants               | 0.4              | Adapted to local climate             |\n",
    "| Drought-tolerant groundcover| 0.3              | Minimal irrigation required          |\n",
    "\n",
    "Water need is calculated as:\n",
    "\n",
    "$$\n",
    "\\text{Water Need (mm)} = ET₀ \\times K_c\n",
    "$$\n",
    "\n",
    "---\n",
    "\n",
    "### 💧 Irrigation Requirement\n",
    "\n",
    "$$\n",
    "\\text{Irrigation (mm)} = \\max(ET₀ \\times K_c - \\text{Rainfall}, 0)\n",
    "$$\n",
    "\n",
    "$$\n",
    "\\text{Irrigation Volume (m³)} = \\frac{\\text{Irrigation (mm)} \\times \\text{Area (m²)}}{1000}\n",
    "$$\n",
    "\n",
    "---\n",
    "\n",
    "### 📊 Simulation Output\n",
    "\n",
    "- **Bar chart** comparing rainfall contribution vs irrigation need\n",
    "- **Monthly irrigation volume** required for selected landscape\n",
    "- **Water savings** compared to cool-season grass baseline\n",
    "\n",
    "---\n",
    "\n",
    "### 🎛️ Interactive Controls\n",
    "\n",
    "- **Landscape Area**: size of irrigated zone (10–1000 m²)\n",
    "- **Rainfall**: monthly precipitation (0–150 mm)\n",
    "- **Landscape Type**: choose from grass, native plants, or groundcover\n",
    "\n",
    "---\n",
    "\n",
    "### 📚 Use Cases\n",
    "\n",
    "- Residential and commercial landscape planning\n",
    "- Water conservation education\n",
    "- Estimating irrigation costs and savings\n",
    "- Supporting LEED or WaterSense certification\n",
    "\n",
    "---\n",
    "\n",
    "### 🔗 Reference\n",
    "\n",
    "- [EPA WaterSense Water Budget Tool](https://www.epa.gov/watersense/water-budget-tool)"
   ]
  },
  {
   "cell_type": "markdown",
   "id": "f0a08058-0339-4605-b9a9-48eac13d26d2",
   "metadata": {},
   "source": [
    "## 2. Simulation"
   ]
  },
  {
   "cell_type": "code",
   "execution_count": 2,
   "id": "16485bd6-1d1a-4c26-93a5-a1811d676273",
   "metadata": {},
   "outputs": [
    {
     "data": {
      "application/vnd.jupyter.widget-view+json": {
       "model_id": "3edc7cf23d0f49eab24c4de6c4f93bfc",
       "version_major": 2,
       "version_minor": 0
      },
      "text/plain": [
       "interactive(children=(IntSlider(value=100, description='Landscape Area (m²)', max=1000, min=10, step=10), Floa…"
      ]
     },
     "metadata": {},
     "output_type": "display_data"
    }
   ],
   "source": [
    "import numpy as np\n",
    "import matplotlib.pyplot as plt\n",
    "from ipywidgets import FloatSlider, Dropdown, IntSlider, interact\n",
    "\n",
    "# 🌿 Landscape types and coefficients (Kc × ET adjustment)\n",
    "landscape_types = {\n",
    "    \"Cool-season grass\": 0.8,\n",
    "    \"Warm-season grass\": 0.6,\n",
    "    \"Native plants\": 0.4,\n",
    "    \"Drought-tolerant groundcover\": 0.3\n",
    "}\n",
    "\n",
    "# 💧 Reference evapotranspiration (ET₀) in mm/month (typical summer value)\n",
    "ET0_mm = 150\n",
    "\n",
    "# 🌱 Main simulation function\n",
    "def simulate_irrigation(area_m2, rainfall_mm, landscape_type):\n",
    "    Kc = landscape_types[landscape_type]\n",
    "    \n",
    "    # 🌿 Landscape water requirement\n",
    "    water_need_mm = ET0_mm * Kc\n",
    "    irrigation_mm = max(water_need_mm - rainfall_mm, 0)\n",
    "    irrigation_m3 = irrigation_mm * area_m2 / 1000  # convert mm to m³\n",
    "\n",
    "    # 💧 Water savings compared to cool-season grass baseline\n",
    "    baseline_mm = ET0_mm * landscape_types[\"Cool-season grass\"]\n",
    "    baseline_m3 = max(baseline_mm - rainfall_mm, 0) * area_m2 / 1000\n",
    "    savings_m3 = baseline_m3 - irrigation_m3\n",
    "\n",
    "    # 📊 Plot\n",
    "    labels = ['Rainfall Contribution', 'Irrigation Needed']\n",
    "    values = [rainfall_mm, irrigation_mm]\n",
    "    plt.figure(figsize=(6, 4))\n",
    "    plt.bar(labels, values, color=['skyblue', 'darkgreen'])\n",
    "    plt.ylabel(\"Water Depth (mm)\")\n",
    "    plt.title(f\"Irrigation Need for {landscape_type}\")\n",
    "    plt.tight_layout()\n",
    "    plt.show()\n",
    "\n",
    "    print(f\"🌱 Landscape Type: {landscape_type}\")\n",
    "    print(f\"📏 Area: {area_m2} m²\")\n",
    "    print(f\"🌧️ Monthly Rainfall: {rainfall_mm} mm\")\n",
    "    print(f\"💦 Irrigation Required: {irrigation_m3:.1f} m³/month\")\n",
    "    print(f\"💰 Water Saved vs Cool-season Grass: {savings_m3:.1f} m³/month\")\n",
    "\n",
    "# 🎛️ Interactive controls\n",
    "interact(simulate_irrigation,\n",
    "         area_m2=IntSlider(value=100, min=10, max=1000, step=10, description='Landscape Area (m²)'),\n",
    "         rainfall_mm=FloatSlider(value=50, min=0, max=150, step=5, description='Rainfall (mm/month)'),\n",
    "         landscape_type=Dropdown(options=list(landscape_types.keys()), value=\"Cool-season grass\", description='Landscape'));"
   ]
  },
  {
   "cell_type": "markdown",
   "id": "921f5ad3-4805-4916-b688-50f753c73e05",
   "metadata": {},
   "source": [
    "## 3. Self-Assessment"
   ]
  },
  {
   "cell_type": "markdown",
   "id": "94d32f96-fcd7-4e68-9208-3fd616cbb5b7",
   "metadata": {},
   "source": [
    "\n",
    "### 📘 Conceptual Questions\n",
    "\n",
    "These questions explore the physical principles and modeling logic behind the simulation.\n",
    "\n",
    "### Evapotranspiration & Crop Coefficient\n",
    "- What does reference evapotranspiration (ET₀) represent in landscape water modeling?\n",
    "- How does the crop coefficient (Kc) modify ET₀ for different vegetation types?\n",
    "- Why is irrigation need calculated as \\( \\text{ET₀} \\times \\text{Kc} - \\text{Rainfall} \\)?\n",
    "\n",
    "### Water Budget & Units\n",
    "- Why is water depth (mm) converted to volume (m³) using landscape area?\n",
    "- What assumptions are made about uniform rainfall and evapotranspiration across the area?\n",
    "- How does rainfall offset irrigation demand in the model?\n",
    "\n",
    "### Sustainability Comparison\n",
    "- Why is cool-season grass used as the baseline for water savings?\n",
    "- How do native or drought-tolerant plants reduce irrigation needs?\n",
    "- What are the trade-offs between aesthetic preferences and water efficiency?\n",
    "\n",
    "---\n",
    "\n",
    "### 🔍 Reflective Questions\n",
    "\n",
    "These questions encourage critical thinking and application to real-world landscape design and water conservation.\n",
    "\n",
    "- Which landscape type would be most suitable for your region’s climate and water availability?\n",
    "- How would the irrigation need change during a drought or unusually wet month?\n",
    "- What are the long-term benefits of switching to drought-tolerant groundcover?\n",
    "- How could this model be extended to include soil type, slope, or irrigation system efficiency?\n",
    "- What policy incentives could encourage homeowners to adopt low-water landscapes?\n",
    "\n",
    "---\n",
    "\n",
    "### ❓ Quiz Questions\n",
    "\n",
    "### Multiple Choice\n",
    "\n",
    "1. **Which landscape type has the lowest crop coefficient (Kc)?**  \n",
    "   A. Cool-season grass  \n",
    "   B. Warm-season grass  \n",
    "   C. Native plants  \n",
    "   D. Drought-tolerant groundcover  \n",
    "   **Answer:** D\n",
    "\n",
    "2. **If ET₀ is 150 mm and Kc is 0.6, what is the water need before rainfall?**  \n",
    "   A. 60 mm  \n",
    "   B. 90 mm  \n",
    "   C. 120 mm  \n",
    "   D. 150 mm  \n",
    "   **Answer:** B\n",
    "\n",
    "3. **What does the irrigation volume depend on?**  \n",
    "   A. Rainfall and landscape type only  \n",
    "   B. ET₀, Kc, rainfall, and area  \n",
    "   C. Soil moisture and slope  \n",
    "   D. Irrigation system type  \n",
    "   **Answer:** B\n",
    "\n",
    "### True/False\n",
    "\n",
    "4. **Rainfall reduces the irrigation requirement in the model.**  \n",
    "   **Answer:** True\n",
    "\n",
    "5. **Native plants require more water than cool-season grass.**  \n",
    "   **Answer:** False\n",
    "\n",
    "6. **The model assumes irrigation is needed even if rainfall exceeds water need.**  \n",
    "   **Answer:** False\n",
    "\n",
    "### Short Answer\n",
    "\n",
    "7. **Explain how the model calculates irrigation volume in cubic meters.**  \n",
    "   *Answer:* It multiplies the irrigation depth (mm) by the landscape area (m²) and divides by 1000 to convert to m³.\n",
    "\n",
    "8. **Why might actual irrigation needs differ from the model’s estimate?**  \n",
    "   *Answer:* Factors like microclimate, soil type, plant maturity, and irrigation system efficiency can affect real-world water demand.\n",
    "\n",
    "---\n"
   ]
  }
 ],
 "metadata": {
  "kernelspec": {
   "display_name": "Python [conda env:base] *",
   "language": "python",
   "name": "conda-base-py"
  },
  "language_info": {
   "codemirror_mode": {
    "name": "ipython",
    "version": 3
   },
   "file_extension": ".py",
   "mimetype": "text/x-python",
   "name": "python",
   "nbconvert_exporter": "python",
   "pygments_lexer": "ipython3",
   "version": "3.12.7"
  },
  "widgets": {
   "application/vnd.jupyter.widget-state+json": {
    "state": {
     "07a4a9b3be884aa2a299bf0e0c1cbb12": {
      "model_module": "@jupyter-widgets/base",
      "model_module_version": "2.0.0",
      "model_name": "LayoutModel",
      "state": {}
     },
     "216d1f618b724fd1a6e7225883756f50": {
      "model_module": "@jupyter-widgets/controls",
      "model_module_version": "2.0.0",
      "model_name": "FloatSliderModel",
      "state": {
       "behavior": "drag-tap",
       "description": "Rainfall (mm/month)",
       "layout": "IPY_MODEL_cacee376444047bb90ebc3c68963db57",
       "max": 150,
       "step": 5,
       "style": "IPY_MODEL_ca92a49251964b7e8230a94d5f62e1a8",
       "value": 50
      }
     },
     "21d88bd6939645ac87a786f30aa15539": {
      "model_module": "@jupyter-widgets/controls",
      "model_module_version": "2.0.0",
      "model_name": "IntSliderModel",
      "state": {
       "behavior": "drag-tap",
       "description": "Landscape Area (m²)",
       "layout": "IPY_MODEL_6d5d4367c1834a84a04a98f2b62dbf89",
       "max": 1000,
       "min": 10,
       "step": 10,
       "style": "IPY_MODEL_8d12fc302c964fa9bd7e3d128d9c30b0",
       "value": 100
      }
     },
     "2c2062b80ce0462e9d2cc0332d448951": {
      "model_module": "@jupyter-widgets/controls",
      "model_module_version": "2.0.0",
      "model_name": "DescriptionStyleModel",
      "state": {
       "description_width": ""
      }
     },
     "36c66c573fe34553843524864422deba": {
      "model_module": "@jupyter-widgets/controls",
      "model_module_version": "2.0.0",
      "model_name": "SliderStyleModel",
      "state": {
       "description_width": ""
      }
     },
     "3edc7cf23d0f49eab24c4de6c4f93bfc": {
      "model_module": "@jupyter-widgets/controls",
      "model_module_version": "2.0.0",
      "model_name": "VBoxModel",
      "state": {
       "_dom_classes": [
        "widget-interact"
       ],
       "children": [
        "IPY_MODEL_21d88bd6939645ac87a786f30aa15539",
        "IPY_MODEL_f4951c257734425a91e2b36d5cf203de",
        "IPY_MODEL_76fd3f984b3140429e509637407adaaf",
        "IPY_MODEL_80900dd250014c1f95c60c70a6ff6779"
       ],
       "layout": "IPY_MODEL_9de0deda0b074acfbdcd853bda3e2f81"
      }
     },
     "48d99b5b9c2e43b5959a23c4c66ed418": {
      "model_module": "@jupyter-widgets/base",
      "model_module_version": "2.0.0",
      "model_name": "LayoutModel",
      "state": {}
     },
     "51844c2d365244fd8b48c7d05ea546fb": {
      "model_module": "@jupyter-widgets/base",
      "model_module_version": "2.0.0",
      "model_name": "LayoutModel",
      "state": {}
     },
     "5a149feff2c4474ebf07d34f5650908f": {
      "model_module": "@jupyter-widgets/controls",
      "model_module_version": "2.0.0",
      "model_name": "DropdownModel",
      "state": {
       "_options_labels": [
        "Cool-season grass",
        "Warm-season grass",
        "Native plants",
        "Drought-tolerant groundcover"
       ],
       "description": "Landscape",
       "index": 0,
       "layout": "IPY_MODEL_51844c2d365244fd8b48c7d05ea546fb",
       "style": "IPY_MODEL_2c2062b80ce0462e9d2cc0332d448951"
      }
     },
     "687345a4ec7a45c2a0393d22f1947826": {
      "model_module": "@jupyter-widgets/controls",
      "model_module_version": "2.0.0",
      "model_name": "DescriptionStyleModel",
      "state": {
       "description_width": ""
      }
     },
     "6d5d4367c1834a84a04a98f2b62dbf89": {
      "model_module": "@jupyter-widgets/base",
      "model_module_version": "2.0.0",
      "model_name": "LayoutModel",
      "state": {}
     },
     "76fd3f984b3140429e509637407adaaf": {
      "model_module": "@jupyter-widgets/controls",
      "model_module_version": "2.0.0",
      "model_name": "DropdownModel",
      "state": {
       "_options_labels": [
        "Cool-season grass",
        "Warm-season grass",
        "Native plants",
        "Drought-tolerant groundcover"
       ],
       "description": "Landscape",
       "index": 0,
       "layout": "IPY_MODEL_a24078b2ff8a483080f664736b9218f3",
       "style": "IPY_MODEL_687345a4ec7a45c2a0393d22f1947826"
      }
     },
     "7e2c54cf68224bd7b4e035aa3e20f45f": {
      "model_module": "@jupyter-widgets/output",
      "model_module_version": "1.0.0",
      "model_name": "OutputModel",
      "state": {
       "layout": "IPY_MODEL_858f410406ff414fa3d6bfc9b4c7dfe4",
       "outputs": [
        {
         "data": {
          "image/png": "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",
          "text/plain": "<Figure size 600x400 with 1 Axes>"
         },
         "metadata": {},
         "output_type": "display_data"
        },
        {
         "name": "stdout",
         "output_type": "stream",
         "text": "🌱 Landscape Type: Cool-season grass\n📏 Area: 100 m²\n🌧️ Monthly Rainfall: 50.0 mm\n💦 Irrigation Required: 7.0 m³/month\n💰 Water Saved vs Cool-season Grass: 0.0 m³/month\n"
        }
       ]
      }
     },
     "7fd876d1d2c34c3aa8ab3a416c296ce0": {
      "model_module": "@jupyter-widgets/controls",
      "model_module_version": "2.0.0",
      "model_name": "IntSliderModel",
      "state": {
       "behavior": "drag-tap",
       "description": "Landscape Area (m²)",
       "layout": "IPY_MODEL_48d99b5b9c2e43b5959a23c4c66ed418",
       "max": 1000,
       "min": 10,
       "step": 10,
       "style": "IPY_MODEL_d48690169d1d4120a5fbccd1f755d67b",
       "value": 100
      }
     },
     "80900dd250014c1f95c60c70a6ff6779": {
      "model_module": "@jupyter-widgets/output",
      "model_module_version": "1.0.0",
      "model_name": "OutputModel",
      "state": {
       "layout": "IPY_MODEL_07a4a9b3be884aa2a299bf0e0c1cbb12",
       "outputs": [
        {
         "data": {
          "image/png": "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",
          "text/plain": "<Figure size 600x400 with 1 Axes>"
         },
         "metadata": {},
         "output_type": "display_data"
        },
        {
         "name": "stdout",
         "output_type": "stream",
         "text": "🌱 Landscape Type: Cool-season grass\n📏 Area: 100 m²\n🌧️ Monthly Rainfall: 50.0 mm\n💦 Irrigation Required: 7.0 m³/month\n💰 Water Saved vs Cool-season Grass: 0.0 m³/month\n"
        }
       ]
      }
     },
     "858f410406ff414fa3d6bfc9b4c7dfe4": {
      "model_module": "@jupyter-widgets/base",
      "model_module_version": "2.0.0",
      "model_name": "LayoutModel",
      "state": {}
     },
     "8c6b63dc855e4756813e21f3ad9bf941": {
      "model_module": "@jupyter-widgets/controls",
      "model_module_version": "2.0.0",
      "model_name": "VBoxModel",
      "state": {
       "_dom_classes": [
        "widget-interact"
       ],
       "children": [
        "IPY_MODEL_7fd876d1d2c34c3aa8ab3a416c296ce0",
        "IPY_MODEL_216d1f618b724fd1a6e7225883756f50",
        "IPY_MODEL_5a149feff2c4474ebf07d34f5650908f",
        "IPY_MODEL_7e2c54cf68224bd7b4e035aa3e20f45f"
       ],
       "layout": "IPY_MODEL_b2cebe3b34f14b2f926af43901482cb0"
      }
     },
     "8d12fc302c964fa9bd7e3d128d9c30b0": {
      "model_module": "@jupyter-widgets/controls",
      "model_module_version": "2.0.0",
      "model_name": "SliderStyleModel",
      "state": {
       "description_width": ""
      }
     },
     "9de0deda0b074acfbdcd853bda3e2f81": {
      "model_module": "@jupyter-widgets/base",
      "model_module_version": "2.0.0",
      "model_name": "LayoutModel",
      "state": {}
     },
     "a24078b2ff8a483080f664736b9218f3": {
      "model_module": "@jupyter-widgets/base",
      "model_module_version": "2.0.0",
      "model_name": "LayoutModel",
      "state": {}
     },
     "b2cebe3b34f14b2f926af43901482cb0": {
      "model_module": "@jupyter-widgets/base",
      "model_module_version": "2.0.0",
      "model_name": "LayoutModel",
      "state": {}
     },
     "bf130845fec24a038c4093aae8ba46d7": {
      "model_module": "@jupyter-widgets/base",
      "model_module_version": "2.0.0",
      "model_name": "LayoutModel",
      "state": {}
     },
     "ca92a49251964b7e8230a94d5f62e1a8": {
      "model_module": "@jupyter-widgets/controls",
      "model_module_version": "2.0.0",
      "model_name": "SliderStyleModel",
      "state": {
       "description_width": ""
      }
     },
     "cacee376444047bb90ebc3c68963db57": {
      "model_module": "@jupyter-widgets/base",
      "model_module_version": "2.0.0",
      "model_name": "LayoutModel",
      "state": {}
     },
     "d48690169d1d4120a5fbccd1f755d67b": {
      "model_module": "@jupyter-widgets/controls",
      "model_module_version": "2.0.0",
      "model_name": "SliderStyleModel",
      "state": {
       "description_width": ""
      }
     },
     "f4951c257734425a91e2b36d5cf203de": {
      "model_module": "@jupyter-widgets/controls",
      "model_module_version": "2.0.0",
      "model_name": "FloatSliderModel",
      "state": {
       "behavior": "drag-tap",
       "description": "Rainfall (mm/month)",
       "layout": "IPY_MODEL_bf130845fec24a038c4093aae8ba46d7",
       "max": 150,
       "step": 5,
       "style": "IPY_MODEL_36c66c573fe34553843524864422deba",
       "value": 50
      }
     }
    },
    "version_major": 2,
    "version_minor": 0
   }
  }
 },
 "nbformat": 4,
 "nbformat_minor": 5
}
