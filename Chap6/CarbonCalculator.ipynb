{
 "cells": [
  {
   "cell_type": "markdown",
   "id": "18519e2d-301d-4215-8c3d-7c9d1f93c55f",
   "metadata": {},
   "source": [
    "# Chapter 6 Sustainabilty and Engineering: Carbon Calculator"
   ]
  },
  {
   "cell_type": "markdown",
   "id": "26c57f18-14ca-4616-abc6-a8c486871e70",
   "metadata": {},
   "source": [
    "1. [Introduction: Carbon Calculator](#1.-Introduction)\n",
    "2. [Simulation: Carbon Calculator](#2.-Simulation)\n",
    "3. [Self-Assessment](#3.-Self-Assessment)"
   ]
  },
  {
   "cell_type": "markdown",
   "id": "acb5baaf-d5ee-41cf-b612-6ccdf20fee4b",
   "metadata": {},
   "source": [
    "## 1. Introduction"
   ]
  },
  {
   "cell_type": "markdown",
   "id": "585a6f7c-f595-4896-9ca3-123167e5d2ac",
   "metadata": {},
   "source": [
    "### 🌍 Personal Carbon Footprint Calculator — Description\n",
    "\n",
    "This interactive Python tool helps individuals estimate their **annual carbon emissions** based on detailed lifestyle choices. It enables users to visualize and understand which habits contribute most to their environmental impact.\n",
    "\n",
    "---\n",
    "### Purpose\n",
    "\n",
    "- Quantify carbon emissions from **daily routines**\n",
    "- Compare lifestyle choices (diet, transportation, consumption)\n",
    "- Identify high-impact areas to target for sustainability improvements\n",
    "- Empower users to make informed decisions toward a lower footprint\n",
    "---\n",
    "\n",
    "### What It Calculates\n",
    "\n",
    "The tool includes these components:\n",
    "\n",
    "### 🚗 Transportation\n",
    "- **Km driven per week** — with emission factors based on fuel type\n",
    "- **Flights per year** — considers average hours per flight and per-hour emissions\n",
    "\n",
    "### ⚡ Home Energy Use\n",
    "- **Electricity consumption (kWh/year)** — based on national energy mix\n",
    "- **Gas use (m³/year)** — natural gas combustion for heating/cooking\n",
    "\n",
    "### 🍽️ Diet Choice\n",
    "- Select between **Meat**, **Vegetarian**, or **Vegan**\n",
    "- Assesses daily food-related emissions using published averages\n",
    "\n",
    "### 👕 Consumption\n",
    "- **Clothes purchased per month**\n",
    "- **Electronics purchased per year**\n",
    "- Estimates manufacturing-related emissions\n",
    "\n",
    "---\n",
    "\n",
    "### Visualization\n",
    "\n",
    "- Generates a **pie chart** showing the relative share of each category\n",
    "- Displays **total annual carbon footprint in kg CO₂**\n",
    "- Text output summarizes your personal impact\n",
    "\n",
    "---\n",
    "\n",
    "### Emission Factors Used\n",
    "\n",
    "| Category       | Emission Factor         | Unit                     |\n",
    "|----------------|-------------------------|--------------------------|\n",
    "| Car travel     | 0.21 kg CO₂/km          | Distance                 |\n",
    "| Flights        | 90 kg CO₂/hour          | Flight time              |\n",
    "| Electricity    | 0.45 kg CO₂/kWh         | Based on regional mix    |\n",
    "| Natural Gas    | 2.05 kg CO₂/m³          | Fossil fuel combustion   |\n",
    "| Meat Diet      | 7.2 kg CO₂/day          | High animal consumption  |\n",
    "| Vegetarian     | 3.8 kg CO₂/day          | Reduced animal products  |\n",
    "| Vegan          | 2.5 kg CO₂/day          | Plant-based only         |\n",
    "| Clothing       | 25 kg CO₂/item          | Manufacturing impact     |\n",
    "| Electronics    | 100 kg CO₂/item         | Production + logistics   |\n",
    "\n",
    "---\n",
    "\n",
    "### Use Cases\n",
    "\n",
    "- Evaluate your current lifestyle’s carbon impact\n",
    "- Compare emission sources to find top contributors\n",
    "- Test improvement scenarios (e.g. switching to public transport or vegan diet)\n",
    "- Support sustainability goals, climate pledges, or carbon offset planning\n",
    "\n",
    "---"
   ]
  },
  {
   "cell_type": "markdown",
   "id": "4cbf265c-6653-4919-8aee-6f8d3dd245ab",
   "metadata": {},
   "source": [
    "## 2. Simulation"
   ]
  },
  {
   "cell_type": "code",
   "execution_count": 1,
   "id": "13e7f26a-148a-4326-b348-158b099a71ac",
   "metadata": {},
   "outputs": [
    {
     "data": {
      "application/vnd.jupyter.widget-view+json": {
       "model_id": "fa8660f556194b71a0c23c387446b08e",
       "version_major": 2,
       "version_minor": 0
      },
      "text/plain": [
       "interactive(children=(IntSlider(value=100, description='Km Driven/Week', max=500, step=10), IntSlider(value=2,…"
      ]
     },
     "metadata": {},
     "output_type": "display_data"
    }
   ],
   "source": [
    "import numpy as np\n",
    "import matplotlib.pyplot as plt\n",
    "from ipywidgets import FloatSlider, IntSlider, interact\n",
    "\n",
    "# 📊 Emission factors (in kg CO₂ per unit)\n",
    "factors = {\n",
    "    'car': 0.21,         # kg CO₂/km (average car)\n",
    "    'flight': 90,        # kg CO₂ per hour of flying\n",
    "    'electricity': 0.45, # kg CO₂/kWh (varies by country)\n",
    "    'gas': 2.05,         # kg CO₂/m³\n",
    "    'meat': 7.2,         # kg CO₂/day (high meat diet)\n",
    "    'vegetarian': 3.8,   # kg CO₂/day (vegetarian diet)\n",
    "    'vegan': 2.5,        # kg CO₂/day (vegan diet)\n",
    "    'clothing': 25,      # kg CO₂ per item\n",
    "    'electronics': 100   # kg CO₂ per item\n",
    "}\n",
    "\n",
    "# 🧮 Carbon calculation function\n",
    "def carbon_footprint(km_per_week, flights_per_year, flight_hours,\n",
    "                     electricity_kwh, gas_m3, diet_choice,\n",
    "                     clothes_per_month, electronics_per_year):\n",
    "\n",
    "    annual_car = km_per_week * 52 * factors['car']\n",
    "    annual_flight = flights_per_year * flight_hours * factors['flight']\n",
    "    annual_electric = electricity_kwh * factors['electricity']\n",
    "    annual_gas = gas_m3 * factors['gas']\n",
    "\n",
    "    if diet_choice == 'Meat':\n",
    "        annual_diet = 365 * factors['meat']\n",
    "    elif diet_choice == 'Vegetarian':\n",
    "        annual_diet = 365 * factors['vegetarian']\n",
    "    else:  # Vegan\n",
    "        annual_diet = 365 * factors['vegan']\n",
    "\n",
    "    annual_clothes = clothes_per_month * 12 * factors['clothing']\n",
    "    annual_electronics = electronics_per_year * factors['electronics']\n",
    "\n",
    "    total = (annual_car + annual_flight + annual_electric +\n",
    "             annual_gas + annual_diet + annual_clothes + annual_electronics)\n",
    "\n",
    "    categories = ['Car', 'Flight', 'Electricity', 'Gas', 'Diet', 'Clothing', 'Electronics']\n",
    "    values = [annual_car, annual_flight, annual_electric, annual_gas,\n",
    "              annual_diet, annual_clothes, annual_electronics]\n",
    "\n",
    "    # 📈 Pie chart\n",
    "    plt.figure(figsize=(8, 6))\n",
    "    plt.pie(values, labels=categories, autopct='%1.1f%%', startangle=140)\n",
    "    plt.title(f\"Estimated Annual Carbon Footprint: {total:.0f} kg CO₂\")\n",
    "    plt.tight_layout()\n",
    "    plt.show()\n",
    "\n",
    "    print(f\"🌍 Your Estimated Annual Carbon Footprint: {total:.0f} kg CO₂\")\n",
    "\n",
    "# 🎛️ Interactive sliders & dropdown\n",
    "interact(carbon_footprint,\n",
    "         km_per_week=IntSlider(value=100, min=0, max=500, step=10, description='Km Driven/Week'),\n",
    "         flights_per_year=IntSlider(value=2, min=0, max=20, step=1, description='Flights/Year'),\n",
    "         flight_hours=IntSlider(value=2, min=1, max=12, step=1, description='Flight Hours Avg'),\n",
    "         electricity_kwh=IntSlider(value=4000, min=1000, max=10000, step=500, description='kWh/Year'),\n",
    "         gas_m3=IntSlider(value=800, min=0, max=3000, step=50, description='Gas (m³/Year)'),\n",
    "         diet_choice=['Meat', 'Vegetarian', 'Vegan'],\n",
    "         clothes_per_month=IntSlider(value=2, min=0, max=10, step=1, description='Clothes Bought/Month'),\n",
    "         electronics_per_year=IntSlider(value=1, min=0, max=10, step=1, description='Electronics/Year'));\n"
   ]
  },
  {
   "cell_type": "markdown",
   "id": "9d9e8b09-a673-4932-a30c-c3dd03222c5c",
   "metadata": {},
   "source": [
    "## 3. Self-Assessment"
   ]
  },
  {
   "cell_type": "markdown",
   "id": "cb1f2fd7-4f60-4356-bc1a-f48501bd325f",
   "metadata": {},
   "source": [
    "\n",
    "### Emission Factors\n",
    "- What does an emission factor represent, and how is it used to estimate carbon output?\n",
    "- Why are different units used for different activities (e.g., kg CO₂/km for cars, kg CO₂/day for diet)?\n",
    "- How do emission factors vary by region, technology, or behavior?\n",
    "\n",
    "### Activity-Based Modeling\n",
    "- Why is car travel modeled on a weekly basis while electricity and gas are annualized?\n",
    "- What assumptions are made about the consistency of user behavior over time?\n",
    "- How does the model aggregate emissions from diverse sources into a single footprint?\n",
    "\n",
    "### Visualization & Interpretation\n",
    "- What does the pie chart reveal about the relative contribution of each category?\n",
    "- Why might diet or flights dominate the footprint for some users?\n",
    "- How could the model be adapted to show monthly or lifetime emissions?\n",
    "\n",
    "---\n",
    "\n",
    "### Reflective Questions\n",
    "\n",
    "These questions encourage users to think critically about their lifestyle and sustainability choices.\n",
    "\n",
    "- Which category in your footprint surprised you the most, and why?\n",
    "- What changes could you make to reduce your footprint without compromising quality of life?\n",
    "- How would your footprint change if you switched to renewable electricity or public transport?\n",
    "- What are the limitations of using static emission factors for dynamic behaviors?\n",
    "- How could this model be used to support policy decisions or personal goal-setting?\n",
    "\n",
    "---\n",
    "\n",
    "### Multiple Choice\n",
    "\n",
    "1. **Which activity has the highest emission factor per unit in this model?**  \n",
    "   A. Car travel  \n",
    "   B. Electricity use  \n",
    "   C. Flight hours  \n",
    "   D. Clothing purchases  \n",
    "   **Answer:** C\n",
    "\n",
    "2. **If you fly 5 times a year for 3 hours each, what is your flight-related footprint?**  \n",
    "   A. 270 kg CO₂  \n",
    "   B. 450 kg CO₂  \n",
    "   C. 1,350 kg CO₂  \n",
    "   D. 90 kg CO₂  \n",
    "   **Answer:** C\n",
    "\n",
    "3. **Which diet has the lowest carbon footprint per day?**  \n",
    "   A. Meat  \n",
    "   B. Vegetarian  \n",
    "   C. Vegan  \n",
    "   D. Flexitarian  \n",
    "   **Answer:** C\n",
    "\n",
    "### True/False\n",
    "\n",
    "4. **Electricity and gas emissions are calculated using annual consumption.**  \n",
    "   **Answer:** True\n",
    "\n",
    "5. **The model assumes that all flights have the same duration.**  \n",
    "   **Answer:** False\n",
    "\n",
    "6. **Buying fewer electronics has no impact on your carbon footprint.**  \n",
    "   **Answer:** False\n",
    "\n",
    "### Short Answer\n",
    "\n",
    "7. **Explain how the model calculates total emissions from car travel.**  \n",
    "   *Answer:* It multiplies kilometers driven per week by 52 weeks and then by the car emission factor (kg CO₂/km).\n",
    "\n",
    "8. **Why might the diet category have a large impact on total emissions?**  \n",
    "   *Answer:* Because diet is a daily activity, even small differences in emission factors accumulate significantly over a year.\n"
   ]
  }
 ],
 "metadata": {
  "kernelspec": {
   "display_name": "Python [conda env:base] *",
   "language": "python",
   "name": "conda-base-py"
  },
  "language_info": {
   "codemirror_mode": {
    "name": "ipython",
    "version": 3
   },
   "file_extension": ".py",
   "mimetype": "text/x-python",
   "name": "python",
   "nbconvert_exporter": "python",
   "pygments_lexer": "ipython3",
   "version": "3.12.7"
  },
  "widgets": {
   "application/vnd.jupyter.widget-state+json": {
    "state": {
     "00c621d777f64bbc82b48264a7dfec51": {
      "model_module": "@jupyter-widgets/base",
      "model_module_version": "2.0.0",
      "model_name": "LayoutModel",
      "state": {}
     },
     "0691f033173e40338d4d8d719a90bed6": {
      "model_module": "@jupyter-widgets/controls",
      "model_module_version": "2.0.0",
      "model_name": "SliderStyleModel",
      "state": {
       "description_width": ""
      }
     },
     "11b5730be26242c3a5735bab7bf01b0a": {
      "model_module": "@jupyter-widgets/controls",
      "model_module_version": "2.0.0",
      "model_name": "DropdownModel",
      "state": {
       "_options_labels": [
        "Meat",
        "Vegetarian",
        "Vegan"
       ],
       "description": "diet_choice",
       "index": 0,
       "layout": "IPY_MODEL_a8d5b9a325234110909c85532924e0b6",
       "style": "IPY_MODEL_362c43e8b4e3484c9c4a1d7f2e2a2971"
      }
     },
     "15111dd1725b430a98c63c4b3ad3fd79": {
      "model_module": "@jupyter-widgets/controls",
      "model_module_version": "2.0.0",
      "model_name": "SliderStyleModel",
      "state": {
       "description_width": ""
      }
     },
     "1d84e7c95acc47d68b28eb9ee5b326ad": {
      "model_module": "@jupyter-widgets/controls",
      "model_module_version": "2.0.0",
      "model_name": "IntSliderModel",
      "state": {
       "behavior": "drag-tap",
       "description": "Gas (m³/Year)",
       "layout": "IPY_MODEL_45c37c677e5a4bc48d1e2e3d4f8f61db",
       "max": 3000,
       "step": 50,
       "style": "IPY_MODEL_15111dd1725b430a98c63c4b3ad3fd79",
       "value": 800
      }
     },
     "362c43e8b4e3484c9c4a1d7f2e2a2971": {
      "model_module": "@jupyter-widgets/controls",
      "model_module_version": "2.0.0",
      "model_name": "DescriptionStyleModel",
      "state": {
       "description_width": ""
      }
     },
     "45c37c677e5a4bc48d1e2e3d4f8f61db": {
      "model_module": "@jupyter-widgets/base",
      "model_module_version": "2.0.0",
      "model_name": "LayoutModel",
      "state": {}
     },
     "490c41287cf1400f9b491abd551d981f": {
      "model_module": "@jupyter-widgets/base",
      "model_module_version": "2.0.0",
      "model_name": "LayoutModel",
      "state": {}
     },
     "4f587152e8a8428eb4a5d4da62111ba1": {
      "model_module": "@jupyter-widgets/base",
      "model_module_version": "2.0.0",
      "model_name": "LayoutModel",
      "state": {}
     },
     "5e9fca64a8d84b3d95ad1dcb0d0c317f": {
      "model_module": "@jupyter-widgets/base",
      "model_module_version": "2.0.0",
      "model_name": "LayoutModel",
      "state": {}
     },
     "66dfd6f42170428397b3a76a53faecc9": {
      "model_module": "@jupyter-widgets/controls",
      "model_module_version": "2.0.0",
      "model_name": "SliderStyleModel",
      "state": {
       "description_width": ""
      }
     },
     "67b4d011823644529b55494469aa9285": {
      "model_module": "@jupyter-widgets/controls",
      "model_module_version": "2.0.0",
      "model_name": "SliderStyleModel",
      "state": {
       "description_width": ""
      }
     },
     "69e272e51d8443a18e914ba6426237f2": {
      "model_module": "@jupyter-widgets/controls",
      "model_module_version": "2.0.0",
      "model_name": "SliderStyleModel",
      "state": {
       "description_width": ""
      }
     },
     "6f23d80012374f5d9e51fe4c3229c5e5": {
      "model_module": "@jupyter-widgets/controls",
      "model_module_version": "2.0.0",
      "model_name": "SliderStyleModel",
      "state": {
       "description_width": ""
      }
     },
     "861af8905ede4d5eaa58452f288da96c": {
      "model_module": "@jupyter-widgets/base",
      "model_module_version": "2.0.0",
      "model_name": "LayoutModel",
      "state": {}
     },
     "8a7359000fd0468fac078fedbdb42e9d": {
      "model_module": "@jupyter-widgets/output",
      "model_module_version": "1.0.0",
      "model_name": "OutputModel",
      "state": {
       "layout": "IPY_MODEL_9906d562d66246f6ab3efc766cdb0de9",
       "outputs": [
        {
         "data": {
          "image/png": "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",
          "text/plain": "<Figure size 800x600 with 1 Axes>"
         },
         "metadata": {},
         "output_type": "display_data"
        },
        {
         "name": "stdout",
         "output_type": "stream",
         "text": "🌍 Your Estimated Annual Carbon Footprint: 8220 kg CO₂\n"
        }
       ]
      }
     },
     "94f24cf3b13a474789ca4b3a73c69dfc": {
      "model_module": "@jupyter-widgets/controls",
      "model_module_version": "2.0.0",
      "model_name": "IntSliderModel",
      "state": {
       "behavior": "drag-tap",
       "description": "Km Driven/Week",
       "layout": "IPY_MODEL_c1811252959f429088b10800426c6031",
       "max": 500,
       "step": 10,
       "style": "IPY_MODEL_66dfd6f42170428397b3a76a53faecc9",
       "value": 100
      }
     },
     "96469ad206f84933a37df4861bea271d": {
      "model_module": "@jupyter-widgets/controls",
      "model_module_version": "2.0.0",
      "model_name": "IntSliderModel",
      "state": {
       "behavior": "drag-tap",
       "description": "Clothes Bought/Month",
       "layout": "IPY_MODEL_00c621d777f64bbc82b48264a7dfec51",
       "max": 10,
       "style": "IPY_MODEL_0691f033173e40338d4d8d719a90bed6",
       "value": 2
      }
     },
     "9906d562d66246f6ab3efc766cdb0de9": {
      "model_module": "@jupyter-widgets/base",
      "model_module_version": "2.0.0",
      "model_name": "LayoutModel",
      "state": {}
     },
     "a2f4290479c54d63b440ba541c21fcfe": {
      "model_module": "@jupyter-widgets/base",
      "model_module_version": "2.0.0",
      "model_name": "LayoutModel",
      "state": {}
     },
     "a8d5b9a325234110909c85532924e0b6": {
      "model_module": "@jupyter-widgets/base",
      "model_module_version": "2.0.0",
      "model_name": "LayoutModel",
      "state": {}
     },
     "c1811252959f429088b10800426c6031": {
      "model_module": "@jupyter-widgets/base",
      "model_module_version": "2.0.0",
      "model_name": "LayoutModel",
      "state": {}
     },
     "d7c1a7c70af34fb494014ea8b6888f41": {
      "model_module": "@jupyter-widgets/controls",
      "model_module_version": "2.0.0",
      "model_name": "IntSliderModel",
      "state": {
       "behavior": "drag-tap",
       "description": "Electronics/Year",
       "layout": "IPY_MODEL_4f587152e8a8428eb4a5d4da62111ba1",
       "max": 10,
       "style": "IPY_MODEL_69e272e51d8443a18e914ba6426237f2",
       "value": 1
      }
     },
     "da08d500b1fd4de79cdccc6923992774": {
      "model_module": "@jupyter-widgets/controls",
      "model_module_version": "2.0.0",
      "model_name": "SliderStyleModel",
      "state": {
       "description_width": ""
      }
     },
     "db0eea7bd687439789e59e3672880b79": {
      "model_module": "@jupyter-widgets/controls",
      "model_module_version": "2.0.0",
      "model_name": "IntSliderModel",
      "state": {
       "behavior": "drag-tap",
       "description": "Flight Hours Avg",
       "layout": "IPY_MODEL_a2f4290479c54d63b440ba541c21fcfe",
       "max": 12,
       "min": 1,
       "style": "IPY_MODEL_67b4d011823644529b55494469aa9285",
       "value": 2
      }
     },
     "f73c2121ec19428db17b88fef9c926ef": {
      "model_module": "@jupyter-widgets/controls",
      "model_module_version": "2.0.0",
      "model_name": "IntSliderModel",
      "state": {
       "behavior": "drag-tap",
       "description": "Flights/Year",
       "layout": "IPY_MODEL_490c41287cf1400f9b491abd551d981f",
       "max": 20,
       "style": "IPY_MODEL_da08d500b1fd4de79cdccc6923992774",
       "value": 2
      }
     },
     "fa8660f556194b71a0c23c387446b08e": {
      "model_module": "@jupyter-widgets/controls",
      "model_module_version": "2.0.0",
      "model_name": "VBoxModel",
      "state": {
       "_dom_classes": [
        "widget-interact"
       ],
       "children": [
        "IPY_MODEL_94f24cf3b13a474789ca4b3a73c69dfc",
        "IPY_MODEL_f73c2121ec19428db17b88fef9c926ef",
        "IPY_MODEL_db0eea7bd687439789e59e3672880b79",
        "IPY_MODEL_fbf46dec94f14837806feb78f0de6ee0",
        "IPY_MODEL_1d84e7c95acc47d68b28eb9ee5b326ad",
        "IPY_MODEL_11b5730be26242c3a5735bab7bf01b0a",
        "IPY_MODEL_96469ad206f84933a37df4861bea271d",
        "IPY_MODEL_d7c1a7c70af34fb494014ea8b6888f41",
        "IPY_MODEL_8a7359000fd0468fac078fedbdb42e9d"
       ],
       "layout": "IPY_MODEL_861af8905ede4d5eaa58452f288da96c"
      }
     },
     "fbf46dec94f14837806feb78f0de6ee0": {
      "model_module": "@jupyter-widgets/controls",
      "model_module_version": "2.0.0",
      "model_name": "IntSliderModel",
      "state": {
       "behavior": "drag-tap",
       "description": "kWh/Year",
       "layout": "IPY_MODEL_5e9fca64a8d84b3d95ad1dcb0d0c317f",
       "max": 10000,
       "min": 1000,
       "step": 500,
       "style": "IPY_MODEL_6f23d80012374f5d9e51fe4c3229c5e5",
       "value": 4000
      }
     }
    },
    "version_major": 2,
    "version_minor": 0
   }
  }
 },
 "nbformat": 4,
 "nbformat_minor": 5
}
