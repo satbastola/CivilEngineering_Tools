{
 "cells": [
  {
   "cell_type": "markdown",
   "id": "32e48399-ba64-4e7e-8777-bbc54e68883d",
   "metadata": {},
   "source": [
    "# Chapter 6 Sustainabilty and Engineering: Green Infrastructure"
   ]
  },
  {
   "cell_type": "markdown",
   "id": "00543a78-3b4a-4afd-890f-267a42e93455",
   "metadata": {},
   "source": [
    "1. [Introduction: Green Infrastructure](#1.-Introduction)\n",
    "2. [Simulation: Green Infrastructure](#2.-Simulation)\n",
    "3. [Self-Assessment](#3.-Self-Assessment)"
   ]
  },
  {
   "cell_type": "markdown",
   "id": "4da2211a-9f5a-4088-bf45-f192754c5760",
   "metadata": {},
   "source": [
    "## 1. Introduction"
   ]
  },
  {
   "cell_type": "markdown",
   "id": "2c76ac08-021f-4f01-a53d-1769e76fa7d0",
   "metadata": {},
   "source": [
    "\n",
    "This interactive tool models the effects of various green infrastructure (GI) elements on urban stormwater runoff. It helps planners, engineers, and sustainability advocates visualize how features like rain gardens, green roofs, and permeable pavements contribute to managing water in a more sustainable and decentralized way.\n",
    "\n",
    "### Purpose\n",
    "\n",
    "- Estimate how green infrastructure reduces stormwater runoff during a rainfall event\n",
    "- Visualize retained vs. untreated runoff based on GI surface area\n",
    "- Help guide land use planning, retrofits, and low-impact development (LID) strategies\n",
    "\n",
    "### Core Concepts\n",
    "\n",
    "| Variable              | Description                                      |\n",
    "|----------------------|--------------------------------------------------|\n",
    "| `RAINFALL_MM`        | Design storm depth (in millimeters)             |\n",
    "| `CATCHMENT_AREA_M2`  | Total area contributing runoff (m²)              |\n",
    "| `Retention Coefficient` | Percent of rainfall retained by each GI element |\n",
    "\n",
    "### Inputs Controlled via Sliders\n",
    "\n",
    "- **Rain Garden Area (m²)** – vegetated depressions to absorb runoff\n",
    "- **Green Roof Area (m²)** – living roof systems that retain rainfall\n",
    "- **Permeable Pavement Area (m²)** – paving systems allowing infiltration\n",
    "\n",
    "Each slider lets users define GI surface areas from 0 to 1000 m².\n",
    "\n",
    "### Calculation Steps\n",
    "\n",
    "1. Estimate **total runoff volume** from rainfall over catchment\n",
    "2. Use GI area and retention coefficients to compute **retained water**\n",
    "3. Calculate **net runoff volume** (total runoff − retained volume)\n",
    "4. Display a **pie chart** comparing retained vs. remaining runoff\n",
    "\n",
    "### Outputs\n",
    "\n",
    "- Visual **pie chart** illustrating percentage of water retained\n",
    "- Text summary:\n",
    "  - Total design storm volume\n",
    "  - Total GI area installed\n",
    "  - Volume retained by GI measures\n",
    "  - Remaining untreated runoff\n",
    "\n",
    "### Use Cases\n",
    "\n",
    "- Urban stormwater planning and modeling\n",
    "- Site-scale sustainability assessments\n",
    "- Green infrastructure sizing for streets, campuses, neighborhoods\n",
    "- Support for LEED, SITES, and climate resilience design\n",
    "\n",
    "---"
   ]
  },
  {
   "cell_type": "markdown",
   "id": "9713a324-448d-4ec7-bf94-3d4909a47702",
   "metadata": {},
   "source": [
    "## 2. Simulation"
   ]
  },
  {
   "cell_type": "code",
   "execution_count": 3,
   "id": "f5278792-cf19-44c9-ae63-3c8f04353cba",
   "metadata": {},
   "outputs": [
    {
     "data": {
      "application/vnd.jupyter.widget-view+json": {
       "model_id": "3ea83be6a4834eadbeb649afaabe45d0",
       "version_major": 2,
       "version_minor": 0
      },
      "text/plain": [
       "interactive(children=(FloatSlider(value=50.0, description='Rainfall (mm)', max=150.0, min=10.0, step=5.0), Int…"
      ]
     },
     "metadata": {},
     "output_type": "display_data"
    }
   ],
   "source": [
    "import numpy as np\n",
    "import matplotlib.pyplot as plt\n",
    "from ipywidgets import FloatSlider, IntSlider, interact\n",
    "\n",
    "# 🧮 Retention coefficients for GI features (% of rainfall retained)\n",
    "efficiency = {\n",
    "    'rain_garden': 0.5,     # 50% of rainfall retained\n",
    "    'green_roof': 0.6,\n",
    "    'permeable_pavement': 0.4\n",
    "}\n",
    "\n",
    "# 🌿 Main function to simulate GI impact\n",
    "def simulate_GI(rainfall_mm, catchment_area_m2,\n",
    "                rain_garden_area, green_roof_area, permeable_pave_area):\n",
    "\n",
    "    total_gi_area = rain_garden_area + green_roof_area + permeable_pave_area\n",
    "\n",
    "    gi_retained = (\n",
    "        rain_garden_area * efficiency['rain_garden'] +\n",
    "        green_roof_area * efficiency['green_roof'] +\n",
    "        permeable_pave_area * efficiency['permeable_pavement']\n",
    "    )\n",
    "\n",
    "    total_runoff = catchment_area_m2 * rainfall_mm / 1000  # m³\n",
    "    retained_volume = gi_retained * rainfall_mm / 1000     # m³\n",
    "    net_runoff = total_runoff - retained_volume\n",
    "\n",
    "    # 🌧️ Pie chart\n",
    "    labels = ['Retained by GI', 'Remaining Runoff']\n",
    "    values = [retained_volume, net_runoff]\n",
    "    plt.figure(figsize=(6, 4))\n",
    "    plt.pie(values, labels=labels, autopct='%1.1f%%', colors=['green', 'blue'], startangle=120)\n",
    "    plt.title(\"Stormwater Management with Green Infrastructure\")\n",
    "    plt.tight_layout()\n",
    "    plt.show()\n",
    "\n",
    "    print(f\"🌧️ Design Storm Volume: {total_runoff:.1f} m³\")\n",
    "    print(f\"📏 Catchment Area: {catchment_area_m2:.0f} m²\")\n",
    "    print(f\"🌿 Total Green Infrastructure Area: {total_gi_area:.0f} m²\")\n",
    "    print(f\"💧 Estimated Volume Retained: {retained_volume:.1f} m³\")\n",
    "    print(f\"🚿 Net Runoff After GI Treatment: {net_runoff:.1f} m³\")\n",
    "\n",
    "# 🎛️ Interactive sliders\n",
    "interact(simulate_GI,\n",
    "         rainfall_mm=FloatSlider(value=50, min=10, max=150, step=5, description='Rainfall (mm)'),\n",
    "         catchment_area_m2=IntSlider(value=1000, min=100, max=5000, step=100, description='Catchment Area (m²)'),\n",
    "         rain_garden_area=IntSlider(value=200, min=0, max=2000, step=50, description='Rain Garden (m²)'),\n",
    "         green_roof_area=IntSlider(value=300, min=0, max=2000, step=50, description='Green Roof (m²)'),\n",
    "         permeable_pave_area=IntSlider(value=300, min=0, max=2000, step=50, description='Permeable Pavement (m²)'));"
   ]
  },
  {
   "cell_type": "markdown",
   "id": "2b0b8aa4-a232-43cc-84d4-34e2185883a2",
   "metadata": {},
   "source": [
    "## 3. Self-Assessment"
   ]
  },
  {
   "cell_type": "markdown",
   "id": "acaef04e-f8e2-4940-90c7-de023dc43693",
   "metadata": {},
   "source": [
    "\n",
    "### Conceptual Questions\n",
    "\n",
    "These questions explore the physical principles and modeling logic behind the simulation.\n",
    "\n",
    "### Hydrologic Concepts\n",
    "- What is the relationship between rainfall depth, catchment area, and total runoff volume?\n",
    "- Why is runoff volume calculated using the formula \\( \\text{Area} \\times \\text{Rainfall} / 1000 \\)?\n",
    "- How do retention coefficients represent the effectiveness of different GI features?\n",
    "\n",
    "### GI Performance Modeling\n",
    "- Why is the retained volume calculated as a product of GI area and retention efficiency?\n",
    "- How does increasing GI area affect net runoff?\n",
    "- What assumptions are made about uniform rainfall distribution and GI performance?\n",
    "\n",
    "### Visualization & Interpretation\n",
    "- What does the pie chart reveal about the proportion of runoff managed by GI?\n",
    "- Why might permeable pavement have a lower retention coefficient than green roofs?\n",
    "- How could this model be adapted to simulate multiple storm events or seasonal variation?\n",
    "\n",
    "---\n",
    "\n",
    "### 🔍 Reflective Questions\n",
    "\n",
    "These questions encourage critical thinking and application to real-world urban design and sustainability.\n",
    "\n",
    "- Which GI feature would be most effective for your local climate and land use?\n",
    "- How would the results change if the rainfall intensity increased due to climate change?\n",
    "- What are the trade-offs between space allocation and retention efficiency in GI planning?\n",
    "- How could this model support municipal stormwater management decisions?\n",
    "- What limitations exist in using fixed retention coefficients for dynamic hydrologic systems?\n",
    "\n",
    "---\n",
    "\n",
    "### ❓ Quiz Questions\n",
    "\n",
    "### Multiple Choice\n",
    "\n",
    "1. **Which GI feature has the highest retention efficiency in this model?**  \n",
    "   A. Rain Garden  \n",
    "   B. Green Roof  \n",
    "   C. Permeable Pavement  \n",
    "   D. Bioswale  \n",
    "   **Answer:** B\n",
    "\n",
    "2. **If rainfall is 100 mm and catchment area is 1000 m², what is the total runoff volume?**  \n",
    "   A. 10 m³  \n",
    "   B. 100 m³  \n",
    "   C. 1000 m³  \n",
    "   D. 1 m³  \n",
    "   **Answer:** B\n",
    "\n",
    "3. **Which factor most directly reduces net runoff in the simulation?**  \n",
    "   A. Catchment area  \n",
    "   B. Rainfall depth  \n",
    "   C. GI area and efficiency  \n",
    "   D. Soil type  \n",
    "   **Answer:** C\n",
    "\n",
    "### True/False\n",
    "\n",
    "4. **Increasing green roof area will reduce net runoff.**  \n",
    "   **Answer:** True\n",
    "\n",
    "5. **Retention coefficients are expressed as percentages of rainfall retained.**  \n",
    "   **Answer:** True\n",
    "\n",
    "6. **The model accounts for infiltration and evapotranspiration.**  \n",
    "   **Answer:** False\n",
    "\n",
    "### Short Answer\n",
    "\n",
    "7. **Explain how the model calculates the volume of water retained by GI features.**  \n",
    "   *Answer:* It multiplies the area of each GI feature by its retention coefficient and the rainfall depth, then sums the results.\n",
    "\n",
    "8. **Why might the actual retained volume differ from the model’s estimate?**  \n",
    "   *Answer:* Factors like soil saturation, maintenance, slope, and rainfall intensity can affect real-world retention performance.\n",
    "\n",
    "---\n"
   ]
  },
  {
   "cell_type": "code",
   "execution_count": null,
   "id": "33fc74ac-a871-46fa-a5fe-0132629b8a9c",
   "metadata": {},
   "outputs": [],
   "source": []
  }
 ],
 "metadata": {
  "kernelspec": {
   "display_name": "Python [conda env:base] *",
   "language": "python",
   "name": "conda-base-py"
  },
  "language_info": {
   "codemirror_mode": {
    "name": "ipython",
    "version": 3
   },
   "file_extension": ".py",
   "mimetype": "text/x-python",
   "name": "python",
   "nbconvert_exporter": "python",
   "pygments_lexer": "ipython3",
   "version": "3.12.7"
  },
  "widgets": {
   "application/vnd.jupyter.widget-state+json": {
    "state": {
     "03a4b51bcb6b4023bf1907c5830bbf28": {
      "model_module": "@jupyter-widgets/base",
      "model_module_version": "2.0.0",
      "model_name": "LayoutModel",
      "state": {}
     },
     "068249d7186e40dda424a6c1916353b6": {
      "model_module": "@jupyter-widgets/controls",
      "model_module_version": "2.0.0",
      "model_name": "IntSliderModel",
      "state": {
       "behavior": "drag-tap",
       "description": "Permeable Pavement (m²)",
       "layout": "IPY_MODEL_1afcd887c1114f179606ffa302c0a829",
       "max": 2000,
       "step": 50,
       "style": "IPY_MODEL_70986ae124b14445aac624e8835e5a8d",
       "value": 300
      }
     },
     "14c648eafe2f4bb39f32b204ad032bc0": {
      "model_module": "@jupyter-widgets/base",
      "model_module_version": "2.0.0",
      "model_name": "LayoutModel",
      "state": {}
     },
     "15aab8b2ade1482b82766b58bf19510b": {
      "model_module": "@jupyter-widgets/base",
      "model_module_version": "2.0.0",
      "model_name": "LayoutModel",
      "state": {}
     },
     "16381b8ae3934ff1bf67619f1746153f": {
      "model_module": "@jupyter-widgets/base",
      "model_module_version": "2.0.0",
      "model_name": "LayoutModel",
      "state": {}
     },
     "175d0465fa1840baaff8b9179f6140aa": {
      "model_module": "@jupyter-widgets/controls",
      "model_module_version": "2.0.0",
      "model_name": "SliderStyleModel",
      "state": {
       "description_width": ""
      }
     },
     "1afcd887c1114f179606ffa302c0a829": {
      "model_module": "@jupyter-widgets/base",
      "model_module_version": "2.0.0",
      "model_name": "LayoutModel",
      "state": {}
     },
     "1bf432546b794207b87b1527675655c2": {
      "model_module": "@jupyter-widgets/controls",
      "model_module_version": "2.0.0",
      "model_name": "SliderStyleModel",
      "state": {
       "description_width": ""
      }
     },
     "21585c2e37b940dfbb1c89ec893907b0": {
      "model_module": "@jupyter-widgets/controls",
      "model_module_version": "2.0.0",
      "model_name": "IntSliderModel",
      "state": {
       "behavior": "drag-tap",
       "description": "Rain Garden (m²)",
       "layout": "IPY_MODEL_6853bf55a40a458e97b2b695c4e2667c",
       "max": 2000,
       "step": 50,
       "style": "IPY_MODEL_69ea64c9b18a438f9d6dfd0d74ae6132",
       "value": 200
      }
     },
     "24c2e7e15248449cb797698db6b478ee": {
      "model_module": "@jupyter-widgets/base",
      "model_module_version": "2.0.0",
      "model_name": "LayoutModel",
      "state": {}
     },
     "25568e24df1f4a17becaf65b6dd0fb06": {
      "model_module": "@jupyter-widgets/controls",
      "model_module_version": "2.0.0",
      "model_name": "FloatSliderModel",
      "state": {
       "behavior": "drag-tap",
       "description": "Rainfall (mm)",
       "layout": "IPY_MODEL_5fc35bbe152f45baa797e5300f12aede",
       "max": 150,
       "min": 10,
       "step": 5,
       "style": "IPY_MODEL_175d0465fa1840baaff8b9179f6140aa",
       "value": 50
      }
     },
     "26d6e3a6456945428eac5dd27526bf45": {
      "model_module": "@jupyter-widgets/base",
      "model_module_version": "2.0.0",
      "model_name": "LayoutModel",
      "state": {}
     },
     "280b7b4051f34494bf1e7bf872a7303e": {
      "model_module": "@jupyter-widgets/controls",
      "model_module_version": "2.0.0",
      "model_name": "IntSliderModel",
      "state": {
       "behavior": "drag-tap",
       "description": "Permeable Pavement (m²)",
       "layout": "IPY_MODEL_2908e04be30146428925e1aa37e7b343",
       "max": 2000,
       "step": 50,
       "style": "IPY_MODEL_3b7ba1bf3ba446aaad93ca13487ed763",
       "value": 300
      }
     },
     "2908e04be30146428925e1aa37e7b343": {
      "model_module": "@jupyter-widgets/base",
      "model_module_version": "2.0.0",
      "model_name": "LayoutModel",
      "state": {}
     },
     "2a23475946e44c66a21d21bb5704997c": {
      "model_module": "@jupyter-widgets/controls",
      "model_module_version": "2.0.0",
      "model_name": "SliderStyleModel",
      "state": {
       "description_width": ""
      }
     },
     "2ed8d241f0ed4378800f347faaa19621": {
      "model_module": "@jupyter-widgets/controls",
      "model_module_version": "2.0.0",
      "model_name": "VBoxModel",
      "state": {
       "_dom_classes": [
        "widget-interact"
       ],
       "children": [
        "IPY_MODEL_ce73053247b647d0ad2311b206ec8919",
        "IPY_MODEL_a1543ba0b2b049a4b5320c513554043d",
        "IPY_MODEL_21585c2e37b940dfbb1c89ec893907b0",
        "IPY_MODEL_efed5c8ab6284c70b21ceae7870b09f7",
        "IPY_MODEL_280b7b4051f34494bf1e7bf872a7303e",
        "IPY_MODEL_577e159cd8684ccca4c16860dc4d593a"
       ],
       "layout": "IPY_MODEL_24c2e7e15248449cb797698db6b478ee"
      }
     },
     "3b7ba1bf3ba446aaad93ca13487ed763": {
      "model_module": "@jupyter-widgets/controls",
      "model_module_version": "2.0.0",
      "model_name": "SliderStyleModel",
      "state": {
       "description_width": ""
      }
     },
     "3c115832ab704b42b9d9773752daf0c1": {
      "model_module": "@jupyter-widgets/base",
      "model_module_version": "2.0.0",
      "model_name": "LayoutModel",
      "state": {}
     },
     "3d167ce0f8d248e4af771411125c1296": {
      "model_module": "@jupyter-widgets/controls",
      "model_module_version": "2.0.0",
      "model_name": "SliderStyleModel",
      "state": {
       "description_width": ""
      }
     },
     "3ea83be6a4834eadbeb649afaabe45d0": {
      "model_module": "@jupyter-widgets/controls",
      "model_module_version": "2.0.0",
      "model_name": "VBoxModel",
      "state": {
       "_dom_classes": [
        "widget-interact"
       ],
       "children": [
        "IPY_MODEL_a06d5a8d86bb4e3893af6bd89debd027",
        "IPY_MODEL_65f67de7e68d4e9f9a4f240471e5687b",
        "IPY_MODEL_c27c478153e443d29badb65faf5a4a8d",
        "IPY_MODEL_6dd0fe5692ff4b369c121e3140f3321f",
        "IPY_MODEL_068249d7186e40dda424a6c1916353b6",
        "IPY_MODEL_474135b68a024d8fa0ea367757d8e298"
       ],
       "layout": "IPY_MODEL_c0dc2c9f05b3429a8044c26f7ff32e27"
      }
     },
     "3f6de449ed374437b8011a9c85b1a4aa": {
      "model_module": "@jupyter-widgets/base",
      "model_module_version": "2.0.0",
      "model_name": "LayoutModel",
      "state": {}
     },
     "474135b68a024d8fa0ea367757d8e298": {
      "model_module": "@jupyter-widgets/output",
      "model_module_version": "1.0.0",
      "model_name": "OutputModel",
      "state": {
       "layout": "IPY_MODEL_9b9fa0f5549146ea916678620bdaf901",
       "outputs": [
        {
         "data": {
          "image/png": "iVBORw0KGgoAAAANSUhEUgAAAiIAAAGGCAYAAABG0epPAAAAOXRFWHRTb2Z0d2FyZQBNYXRwbG90bGliIHZlcnNpb24zLjkuMiwgaHR0cHM6Ly9tYXRwbG90bGliLm9yZy8hTgPZAAAACXBIWXMAAA9hAAAPYQGoP6dpAABVIklEQVR4nO3deXhM5wIG8HeSTPaQlUSQhISERkTVWvsShNqpaiu11FLUduvei6tKabX2Vim11la11FKaIFIlthIUrX0PCUEWEVm++8fIyGTfv5mc9/c8eciZM2femUwm73znO2dUQggBIiIiIgmMZAcgIiIi5WIRISIiImlYRIiIiEgaFhEiIiKShkWEiIiIpGERISIiImlYRIiIiEgaFhEiIiKShkWEiIiIpClTReTYsWPo3r07qlatCjMzM1SsWBGNGzfG+PHjddZbvHgxVq1aJSekZBcuXMCnn36KGzdulNptHjx4ECqVCiqVKsfHvXXr1lCpVHB3dy+1XATcu3cPn376KSIiIkr0doKCgrL8bGfOnInt27dnWXfVqlVQqVQ4efJkkW7zjz/+QL9+/bSvB1ZWVqhduzbGjx+Pv//+u0jblsnd3R2dO3cu9PUXLVoET09PmJqaQqVS4cmTJ8UXLg/68Nq7fv16zJ8/X2oG0lVmisju3bvRpEkTxMbGYvbs2QgODsaCBQvQtGlTbNq0SWddffhlkOXChQuYNm1aqRaRdDY2Nvjhhx+yLL9+/ToOHjyIcuXKlXompbt37x6mTZtW4kVkypQp2LZtm86ynIpIcZg8eTKaNWuGmzdvYvLkydi7dy+2b9+OgQMHIiQkBD4+PkhNTS2R29ZnERERGD16NFq1aoUDBw4gPDwcNjY2pXb7+vDayyKif0xkBygus2fPhoeHB3777TeYmLy6W2+//TZmz55d4refmpqKlJQUmJmZlfht6aNnz57B0tIy13X69u2L5cuX4/Lly/Dy8tIuX7FiBVxdXeHr64sLFy6UdFSSoHr16qV2Wxs2bMDnn3+OYcOGYfHixVCpVNrL2rVrh3HjxmHx4sV5bic/z2lDc/78eQDAkCFD0KBBg1zXlX3/k5OToVKpdF7P9Znsx8ugiTKidu3aomHDhnmu5+bmJgDofLm5uWkvv3nzpujfv79wcnISpqamwtvbW3z99dciNTVVu87169cFAPHll1+K6dOnC3d3d2FsbCz27Nkjpk6dKgCIM2fOiF69eoly5coJOzs7MXbsWJGcnCz+/vtvERAQIKytrYWbm5v48ssvtdtNS0sTFSpUECNGjNAuS0lJEba2tkKlUon79+9rl8+ZM0cYGxuLx48fCyGEOHHihOjbt69wc3MT5ubmws3NTbz99tvixo0b2uusXLkyy30HIFauXKldJyQkRLRu3VrY2NgICwsL0aRJE7Fv3z6dxzD9Pv7555+iZ8+ewtbWVjg7O+f4mIeGhgoAYtOmTaJKlSri3//+t/ay1NRUUaVKFTFp0iQRGBio87MQQohvvvlGNGvWTDg5OQlLS0vx2muviS+//FK8ePFCZ70WLVqI2rVri+PHj4s333xTWFhYCA8PDzFr1iydn11iYqIYN26c8PPz0/5sGjVqJLZv354l9+PHj8XAgQOFnZ2dsLKyEp06dRJXr14VAMTUqVN11r106ZLo16+fzvPmm2++yfZxWLdunfjkk0+Es7OzsLKyEp07dxb3798XsbGxYsiQIcLBwUE4ODiIoKAgERcXp7ONtLQ08e233wo/Pz9hbm4ubG1tRc+ePcXVq1cL/Hik58n8lfm+pXv69KkwNjYWs2fP1i6Ljo4WKpVKlCtXTiQnJ2uXjxo1Sjg6Ooq0tDQhhBADBgzQ+dlmd7stWrQQQrx6nh44cEAMGzZMODg4CHt7e9G9e3dx9+7dbLNlVKtWLeHo6CgSExPzXDfz4xUWFiYaN24sLCwsRN++fbX3e/z48cLd3V2o1WpRqVIl8fHHH4v4+HidbRTnzyY3bm5uIjAwUPt9+uvRV199JebMmSPc3d2FlZWVaNSokQgPD9e53cyP+YABA/K8/xs3bhTt2rUTzs7OwtzcXHh7e4uJEydmuf9Xr14Vffv2FS4uLsLU1FRUqFBBtG7dWpw+fVqbO6fX3vTn4po1a8S4ceNEpUqVhEqlEhcvXtS+3mSW/jy5fv26zvJ169aJRo0aCSsrK2FlZSX8/PzE8uXLc3wM0redniE0NFRne+mPb8bXyQEDBggrKytx9uxZ0a5dO2FtbS0aNWokhBAiKSlJTJ8+XdSsWVOYmpoKR0dHERQUJKKiovL82SpVmSkigwcPFgDEqFGjxNGjR7P8oUp36tQpUa1aNeHv7y/Cw8NFeHi4OHXqlBBCiKioKOHq6iqcnJzEkiVLxN69e8XIkSMFADF8+HDtNtKfmK6urqJVq1bi559/FsHBweL69evaX5qaNWuK6dOni5CQEPHJJ58IAGLkyJHC29tbLFy4UISEhIgPPvhAABBbtmzRbvvtt98WNWrU0H5/9OhRAUBYWFiIdevWaZd37NhRNGjQQPv95s2bxf/+9z+xbds2ERYWJjZu3ChatGghnJycRHR0tPb+zZw5UwAQ3377rfb+p/+CrF27VqhUKtGtWzexdetWsXPnTtG5c2dhbGysU0bS76Obm5uYOHGiCAkJyfYPebr0X/DNmzeLKVOmiEqVKomUlBQhhBB79uwRKpVKXLlyJdsiMnbsWPHdd9+JvXv3igMHDoh58+YJR0dH8cEHH+is16JFC+Hg4CC8vLzEkiVLREhIiBgxYoQAIFavXq1d78mTJyIoKEisXbtWHDhwQOzdu1dMmDBBGBkZ6ayXmpoq3nzzTWFubi6++OILERwcLKZNmya8vLyy/LE+f/68KF++vPD19RVr1qwRwcHBYvz48cLIyEh8+umnWR4HNzc3ERQUJPbu3SuWLFkirK2tRatWrUS7du3EhAkTRHBwsPjyyy+FsbGxGDVqlM79HDJkiFCr1WL8+PFi7969Yv369cLb21tUrFhRp6jm5/F4+vSp9sV88uTJ2ufD7du3c/xZNmrUSLRv3177/caNG4W5ublQqVTi8OHD2uU+Pj6iT58+2u8zF5Hw8HBhYWEhOnXqpL3d8+fPCyFe/YGpVq2aGDVqlPjtt9/E8uXLhZ2dnWjVqlWO2YQQ4u7duwKA6NevX67rZdaiRQthb28vqlSpIhYtWiRCQ0NFWFiYSEhIEHXr1hWOjo5i7ty5Yt++fWLBggWifPnyonXr1tqiJUTx/mxyk1MRcXd3Fx06dBDbt28X27dvF76+vsLOzk48efJECKF5nk6ePFn7RzU8PFxcuXIl1/svhBDTp08X8+bNE7t37xYHDx4US5YsER4eHll+FjVr1hSenp5i7dq1IiwsTGzZskWMHz9e+4c9t9fe9N8NV1dX0atXL7Fjxw6xa9cu8ejRowIVkSlTpggAokePHmLz5s0iODhYzJ07V0yZMkX7GDRt2lQ4OztrM6SXtYIWEbVaLdzd3cWsWbPE/v37xW+//SZSU1NFhw4dhJWVlZg2bZoICQkRy5cvF66urqJWrVri2bNnef58lajMFJGHDx+KN998U9tw1Wq1aNKkiZg1a1aWd5W1a9fWvvvK6N///rcAII4dO6azfPjw4UKlUol//vlHCPHqiVm9evUshSf9l2bOnDk6y+vWrSsAiK1bt2qXJScnCycnJ9GjRw/tsuXLlwsA4tatW0IIIWbMmCG8vb3FW2+9pf3j++LFC2FlZSX++9//5vh4pKSkiPj4eGFlZSUWLFigXb558+Zsf9kSEhKEvb296NKli87y1NRU4efnp1N60u/j//73vxxvP6OMReTatWtCpVKJXbt2CSGE6N27t2jZsqUQQmRbRDJnSU5OFmvWrBHGxsYiJiZGe1n6O53MP7tatWqJgICAHLeZkpIikpOTxaBBg4S/v792+e7duwUA8d133+msP2vWrCxFJCAgQFSuXFk8ffpUZ92RI0cKc3Nzbc70xyHzYzxmzBgBQIwePVpnebdu3YS9vb32+/Dw8GyfW7dv3xYWFhbik08+KfDjceLEiSwvsrmZPHmysLCwEM+fPxdCaN4AdOjQQdSpU0dMmzZNCPGqDHz//ffa62UuIkIIYWVlpX1HnlH6H5iMI4NCCDF79mwBQERGRuaYL724Zxx1S5f+s07/ylgi0h+v/fv361xn1qxZwsjISJw4cUJn+c8//ywAiF9//VUIUTI/m5zkVER8fX21BV8IIY4fPy4AiA0bNmiXpT+2me9PTvc/s7S0NJGcnCzCwsK0I79CaF5/AYj58+fnev2cXnvTfzeaN2+e5bL8FpFr164JY2Nj0b9//1wz5PQ6U9AiAkCsWLFCZ90NGzZkeXMpxKvfs8WLF+eaTanKzGRVBwcHHDp0CCdOnMAXX3yBrl274tKlS/jPf/4DX19fPHz4MM9tHDhwALVq1cqy7zQoKAhCCBw4cEBn+VtvvQW1Wp3ttjLPavfx8YFKpULHjh21y0xMTODp6YmbN29ql7Vt2xYAsG/fPgBASEgI2rVrh7Zt2yIkJAQAEB4ejoSEBO26ABAfH4+JEyfC09MTJiYmMDExgbW1NRISEnDx4sU87/uRI0cQExODAQMGICUlRfuVlpaGDh064MSJE0hISNC5Ts+ePfPcbmYeHh5o2bIlVqxYgUePHuGXX37BwIEDc1z/9OnTeOutt+Dg4ABjY2Oo1Wq8//77SE1NxaVLl3TWdXZ2zvKzq1Onjs7jCwCbN29G06ZNYW1tDRMTE6jVavzwww86j1NYWBgAoE+fPjrX7devn873z58/x/79+9G9e3dYWlrqPHadOnXC8+fPcfToUZ3rZPfcAIDAwMAsy2NiYhAfHw8A2LVrF1QqFd59912d23F2doafnx8OHjxYqMejINq0aYPExEQcOXIEgOZ5mvn5mf7czfj8LIy33npL5/s6deoAQKHzOzg4QK1Wa7+2bNmic7mdnR1at26ts2zXrl147bXXULduXZ3HPCAgACqVSvuY68PPJjAwEMbGxjrbA/L/eGV3/wHg2rVreOedd+Ds7Kz9HWzRogUAaH9n7O3tUb16dXz11VeYO3cuTp8+jbS0tALfh8K8pqQLCQlBamoqPvroo0Jvo6Ay5921axdsbW3RpUsXnedB3bp14ezsnOV5QBplpoikq1+/PiZOnIjNmzfj3r17GDt2LG7cuJGvCauPHj2Ci4tLluWVKlXSXp5Rduums7e31/ne1NQUlpaWMDc3z7L8+fPn2u/d3NxQvXp17Nu3D8+ePUN4eLj2hf7OnTv4559/sG/fPlhYWKBJkyba673zzjv45ptvMHjwYPz22284fvw4Tpw4AScnJyQmJuZ53x88eAAA6NWrl86LtVqtxpdffgkhBGJiYvJ9/3MzaNAg7Ny5E3PnzoWFhQV69eqV7Xq3bt1Cs2bNcPfuXSxYsEBbNL/99lsAyHK/HBwcsmzDzMxMZ72tW7eiT58+cHV1xY8//ojw8HCcOHECAwcO1Pk5PHr0CCYmJll+jhUrVtT5/tGjR0hJScGiRYuyPG6dOnUCgCwlOLvnRm7L03M9ePAAQghUrFgxy20dPXo0y+3k5/EoqCZNmsDS0hL79u3DlStXcOPGDe3z89ixY4iPj8e+fftQrVo1eHh4FPp2gKz50yeC55a/SpUqALL/43vw4EGcOHECS5Ysyfa62T2fHzx4gLNnz2Z5vG1sbCCE0D7m+vCzKczjlVF29z8+Ph7NmjXDsWPHMGPGDO1juHXrVp1tq1Qq7N+/HwEBAZg9ezbq1asHJycnjB49GnFxcfm+D4V9TQGA6OhoAEDlypULvY2CsLS0zHKk34MHD/DkyROYmppmeR7cv38/X2+IlcgwpiMXklqtxtSpUzFv3jz89ddfea7v4OCAyMjILMvv3bsHAHB0dNRZnnE2fnFq06YNfvnlF4SFhSEtLQ0tW7aEjY0NKlWqhJCQEOzbtw/NmjXTvtA8ffoUu3btwtSpU/Hvf/9bu52kpKQs5SEn6fdt0aJFaNSoUbbrZP4jXNj736NHD3z00Uf44osvMGTIEFhYWGS73vbt25GQkICtW7fCzc1Nu7woh5r++OOP8PDwwKZNm3TyJyUl6azn4OCAlJQUxMTE6BSE+/fv66xnZ2cHY2NjvPfeezm+EyvqH+R0jo6OUKlUOHToULZHZ5XGEVumpqZ48803sW/fPlSuXBnOzs7w9fVFtWrVAGj+2O/fv79I57koikqVKqF27doICQnB8+fPdYp/3bp1AUA7wpRZds9nR0dHWFhYYMWKFdleJ/33Rh9+NkWV3f0/cOAA7t27h4MHD2pHQQBke+4RNzc37eH5ly5dwk8//YRPP/0UL168yLH85SdD+s8wKSlJ53HM/EfdyckJAHDnzh1tIS2IjLeTUU7lIafni4ODA/bu3ZvtdUrzUGlDUmaKSGRkZLZtOn3oMH1UA8j5nUebNm0wa9YsnDp1CvXq1dMuX7NmDVQqFVq1alUCybNq27Ytvv/+e8yfPx+NGjXSPnnbtGmDbdu24cSJE5g5c6Z2fZVKBSFElhe75cuXZzlXQk7vkpo2bQpbW1tcuHABI0eOLIm7pWVhYYH//e9/+P333zF8+PAc10v/Rc94v4QQWLZsWaFvW6VSaU/klO7+/fv45ZdfdNZr0aIFZs+ejU2bNulk3Lhxo856lpaWaNWqFU6fPo06depoRzFKQufOnfHFF1/g7t27WXYZFVZB3zUDmufnf/7zH9jY2Gh3v1hZWaFRo0ZYtGgR7t27l6/dMkUdAcjJpEmT8M4772DcuHH49ttvi/SGoXPnzpg5cyYcHBxyLZQl8bPRB9n9DgLA0qVLc71ejRo1MHnyZGzZsgWnTp3SLi/Mzzz9RHhnz57FG2+8oV2+c+dOnfXat28PY2NjfPfdd2jcuHGO28spQ8bbCQgI0C7fsWNHvrN27twZGzduRGpqKho2bJjv6yldmSkiAQEBqFy5Mrp06QJvb2+kpaUhIiICc+bMgbW1NT7++GPtur6+vti4cSM2bdqEatWqwdzcHL6+vhg7dizWrFmDwMBAfPbZZ3Bzc8Pu3buxePFiDB8+HDVq1CiV+5J+ltHg4GBMmzZNu7xt27YYMGCA9v/pypUrh+bNm+Orr76Co6Mj3N3dERYWhh9++AG2trY6237ttdcAAN9//z1sbGxgbm4ODw8PODg4YNGiRRgwYABiYmLQq1cvVKhQAdHR0Thz5gyio6Px3XffFdt9HDduHMaNG5frOu3atYOpqSn69euHTz75BM+fP8d3332Hx48fF/p2O3fujK1bt2LEiBHo1asXbt++jenTp8PFxQWXL1/WrtehQwc0bdoU48ePR2xsLF5//XWEh4djzZo1AAAjo1d7NRcsWIA333wTzZo1w/Dhw+Hu7o64uDhcuXIFO3fuzDK3qLCaNm2KDz/8EB988AFOnjyJ5s2bw8rKCpGRkfjjjz/g6+uba7HLTvXq1WFhYYF169bBx8cH1tbWqFSpkk5xz6xNmzZITU3F/v37sXr1au3ytm3bYurUqVCpVNnONcjM19cXBw8exM6dO+Hi4gIbGxvUrFmzQPmz069fP5w/fx6ff/45zpw5g6CgIHh5eSEtLQ23b9/G2rVrAeTv3emYMWOwZcsWNG/eHGPHjkWdOnWQlpaGW7duITg4GOPHj0fDhg1L5GejD5o0aQI7OzsMGzYMU6dOhVqtxrp163DmzBmd9c6ePYuRI0eid+/e8PLygqmpKQ4cOICzZ8/qjNLm9Nqbm06dOsHe3h6DBg3CZ599BhMTE6xatQq3b9/WWc/d3R3//e9/MX36dCQmJqJfv34oX748Lly4gIcPH2pfS319fbF161Z89913eP3112FkZIT69evD2dkZbdu2xaxZs2BnZwc3Nzfs379fuxsqP95++22sW7cOnTp1wscff4wGDRpArVbjzp07CA0NRdeuXdG9e/d8b08xJE6ULVabNm0S77zzjvDy8hLW1tZCrVaLqlWrivfee09cuHBBZ90bN26I9u3bCxsbm2zPI/LOO+8IBwcHoVarRc2aNcVXX32V7XlEvvrqqyw50md4px8ymy79uPPM0o/fz8zf318A0DkkMv1oBAcHB50Z/0IIcefOHdGzZ09hZ2cnbGxsRIcOHcRff/0l3NzcshyZMH/+fOHh4SGMjY2zzAYPCwsTgYGBwt7eXqjVauHq6ioCAwPF5s2b87yPOcl41ExuspvNvnPnTu15GVxdXcW//vUvsWfPniyz23N6HLM7WuOLL74Q7u7uwszMTPj4+Ihly5ZlOzM/JiZGfPDBB8LW1lZYWlqKdu3aaY/KyHgkkhCa58TAgQOFq6urUKvVwsnJSTRp0kTMmDEjz8chpyMZcnqcV6xYIRo2bCisrKyEhYWFqF69unj//ffFyZMnC/V4bNiwQXh7ewu1Wp3reUTSpaWlCUdHRwFA57wehw8fFgBEvXr18nW7ERERomnTpsLS0jLb84hkfjxyOqohJ7///rvo27evqFy5slCr1cLS0lLUqlVLDB8+XOexEiLnx0sIIeLj48XkyZO154VIP1R77NixOoflClH8P5vs5HYekcwy/zxzO2omp/t/5MgR0bhxY2FpaSmcnJzE4MGDxalTp3ReOx48eCCCgoKEt7e3sLKyEtbW1qJOnTpi3rx5Okfy5PTam9drxPHjx0WTJk2ElZWVcHV1FVOnTtUeYZj5PCJr1qwRb7zxhjA3NxfW1tbC399f5zUuJiZG9OrVS3t+poy/95GRkaJXr17C3t5elC9fXrz77rvi5MmTOZ5HJDvJycni66+/1r5uWVtbC29vbzF06FBx+fLlbK+jdCohhCiVxkNUBqxfvx79+/fH4cOHdSYLExFR4bCIEOVgw4YNuHv3Lnx9fWFkZISjR4/iq6++gr+/v/bwXiIiKpoyM0eEqLjZ2Nhg48aNmDFjBhISEuDi4oKgoCDMmDFDdjQiojKDIyJEREQkTZk7oRkREREZDhYRIiIikoZFhIiIiKRhESEiIiJpWESIiIhIGhYRIiIikoZFhIiIiKRhESEiIiJpWESIiIhIGhYRIiIikoZFhIiIiKRhESEiIiJpWESIiIhIGhYRIiIikoZFhIiIiKRhESEiIiJpWESIiIhIGhYRIiIikoZFhIiIiKRhESEiIiJpWESIiIhIGhYRIiIikoZFhIiIiKRhESEiIiJpWESIiIhIGhYRIiIikoZFhIiIiKRhESEiIiJpWESIiIhIGhYRIiIikoZFhIiIiKRhESEiIiJpWESIiIhIGhYRIiIikoZFhIiIiKRhESEiIiJpWESIiIhIGhYRIiIikoZFhIiIiKQxkR2AiEpWYiJw+zZw7x4QEwM8eaL5io0F4uOBhATN17NnQFoaYGQEqFSaf9O/VCrA2BiwsADs7HS/bG1f/b9iRcDKSvIdJiKDwiJCZOASEoDz54F//tEUjtu3gTt3Xv0/JqZ08zg4AO7ur748PF79v1o1TZkhIkqnEkII2SGIKG8vXgB//w389Zfu140bgKH8FhsZAV5egJ+f5qtuXc2/rq6ykxGRLCwiRHoqMhL44w/N1+HDwJkzQEqK7FQlw9FRU0jq1QOaNweaNQPKl5ediohKA4sIkZ64cOFV8fjjD+D6ddmJ5DEy0oyWtGih+WreXDMHhYjKHhYRIkmePQP27QN27QJ+/RW4e1d2Iv1lZAT4+gKtWwNvvaUZMTE2lp2KiIoDiwhRKbp1S1M8du0CQkOB589lJzJMDg5AYCDQrRsQEABYWspORESFxSJCVMJu3gTWrQM2bQLOnpWdpuyxsADatgW6dtV8OTrKTkREBcEiQlQCnjwBNm8GfvwROHTIcI5qMXRqtWakJChI868JT1BApPdYRIiKSXKyZq7H2rWaXS9JSbITKVuFCkD//sAHH2jmlxCRfmIRISqiu3eBxYuBZcuA6GjZaSg7/v6aQvLee5ozwRKR/mARISqkP/4AFi4Etm0ru+f3KGusrID33wdGjwa8vWWnISKARYSoQJKSgA0bgEWLgFOnZKehwlKpgPbtgfHjgXbtZKchUjYWEaJ8iI3VlI8FC7j7pazx9wcmTAD69OHkViIZWESIchEXpykf8+aV/ofHUeny8ACmTNHsuuHJ0ohKD4sIUTbi4jTzP+bOZQFRmpo1gU8/Bfr21ezCIaKSxSJClAELCKWrUweYPl1zSnkiKjksIkQAUlOB778Hpk7lHBDS1aABMGMGJ7USlRQWEVK8vXs1R09cuCA7CemzwEDNfKHq1WUnISpbjGQHIJLlasxVdFn/Fsb9O4ElhPK0ezdQu7ZmQmtiouw0RGUHiwgpzrPkZ5h8YDJqL66NXZd3wrjTONmRyEAkJWl20/j4AFu3yk5DVDZw1wwpytaLWzH2t7G49fSWzvLGx64jfI+7nFBksNq310xurllTdhIiw8UREVKER88eoc/mPuj5U88sJQQArr/RG5aW7ORUMMHBr46u4Wn+iQqHIyJU5u2+tBuDdw7G/fj7ua7X4sZ+hK1qXUqpqKypXx9Ys0az24aI8o8jIlRmxb+Ix5AdQ9B5Q+c8SwgAHHPrBdcqfFtLhXPyJFCvHvD110Bamuw0RIaDRYTKpEM3D8FviR+Wn16e7+s8Vz1G1V6LSjAVlXXPnwP/+hfQvDlw9arsNESGgbtmqExJSknC5AOTMffoXKSJwr0trfPrE5w9Xr6Yk5HSWFkBs2cDI0bITkKk3zgiQmVGxP0I1F9WH1+Hf13oEgIASW2HwciI/ZyKJiEB+OgjoHdvzUcHEFH2OCJCZcLSk0sxeu9ovEh9USzbezPiIv7Y7l0s2yKqUQPYsgV47TXZSYj0D0dEyKAlpyZj2K5hGLZ7WLGVEAD4268nypVnR6ficekS0LCh5qgaItLFIkIGKyohCm3WtMHSP5cW+7Yfqi7Av8+uYt8uKdezZ8CAAcCHH2rO0EpEGtw1Qwbpz3t/ovum7rgde7vEbsNEWKDyj09w46ppid0GKVO9eppdNe7uspMQyccRETI468+tR7OVzUq0hABAiioRjt1mlehtkDKdOqXZVXP8uOwkRPJxRIQMRppIw8SQifg6/OtSvd36B6Jw8nenUr1NUgYLC+DHH4EePWQnIZKHIyJkEJ48f4LA9YGlXkIA4FHzATAxYV+n4peYqDm8d+5c2UmI5OGICOm9yLhItFvbDuejz0vL0PzCKfz+k7+026eyb8QIzSf5GhvLTkJUulhESK/dfHITbda0wdXHcs+XXU5Uhfrb63j0kIOIVHICA4FNmzRnZSVSCr6qkt669OgSmq1sJr2EAECs6hZq9d4kOwaVcbt3A61aAY8fy05CVHo4IkJ66dyDc2i3th0eJDyQHUXLSKjhufkpLl2wkB2Fyjh/fyAkBHBwkJ2EqORxRIT0zvG7x9FiVQu9KiEAkKZKhmWXSbJjkAKcPg20bAlERclOQlTyOCJCeiXsRhi6bOiCuBf6+ylhDQ/fwbEQV9kxSAF8fID9+wEXF9lJiEoOR0RIb+y9shcd13XU6xICAHcb9YOZGfs7lbyLF4EWLYA7d2QnISo5LCKkF3b8swNdN3ZFYkqi7Ch5umN8CI16H5EdgxTi8mWgeXPg5k3ZSYhKBnfNkHS/3/wdAT8G4HnKc9lR8s1KVITN93dxP5InfaDS4ekJHD4MVKggOwlR8eKICEn1V9Rf6Lqxq0GVEABIUD1AtV7LZccgBblyBejQAYiNlZ2EqHhxRISkufX0Fpr80AR34+7KjlI4QoXaO2Jx/rS17CSkIK1aAXv2AGZmspMQFQ+OiJAUMYkx6PBjB8MtIQCgEkCHMVCp2OWp9ISGAv37A2lpspMQFQ8WESp1icmJ6Ly+My4+vCg7SpGdN/sBjTtdlx2DFGbLFs1n0xCVBSwiVKpS01LR9+e+CL8TLjtKsbn6ei9YWXFUhErX0qXAlCmyUxAVHYsIlaqhu4Zi56WdsmMUqwdGp1G/zz7ZMUiBZswAVq6UnYKoaDhZlUrN1NCp+Oz3z2THKBFmojycVkbjzi217CikMKammnkjTZrITkJUOBwRoVLxy9+/lNkSAgBJqqdw7blAdgxSoBcvgB49gFu3ZCchKhyOiFCJu/b4GuotrYenSU9lRylxdffGIOKonewYpED+/poTnlnww6HJwHBEhErU85Tn6PlTT0WUEAB41mYojI3Z7an0nT4NDB0qOwVRwbGIUIka+etIRNyPkB2j1FxSb0aTrhdkxyCFWrsWWLRIdgqiguGuGSoxqyJW4YNfPpAdo9TZixpIXXART5+w51PpMzEBwsI4eZUMB18pqUScuX8GI3Yr84xLMapL8OuzQ3YMUqiUFM2ZV/mZNGQoWESo2MUmxaLX5l5ITEmUHUWaIy7voJpXkuwYpFA3bgDDh8tOQZQ/LCJU7IK2B+FKzBXZMaRKUSXCrtt02TFIwdavB378UXYKorxxjggVq2+Of4NRe0bJjqE36oc+wMmwCrJjkEKVK6c5mqZaNdlJiHLGEREqNtcfX8e/9/1bdgy98rD5e1Cr2fVJjthYzXyRlBTZSYhyxiJCxebDXR8iITlBdgy9csM4GI17nJIdgxTs6FHgs7J7UmMqA1hEqFisOL0C+67xg9+yE+HdHY6OabJjkILNnAmcPCk7BVH2WESoyCLjIjE+eLzsGHorVnUb3n3WyY5BCpaaCnz4oeZfIn3DIkJFNuLXEXjy/InsGHrtsNMHqPnaM9kxSMFOnwbmzZOdgigrFhEqks3nN2P739tlx9B7QpUKs84TZccghZs6VXOOESJ9wiJChRaTGIORe0bKjmEwzpp/g0btb8uOQQr27BkwQpknPCY9xiJChTZm7xhEJUTJjmFQbjd8G+bmPJyX5NmzB9iwQXYKold4QjMqlOCrwQj4MUB2DIPU4urvCFvbTHYMUrAKFYC//wbs7GQnIeKICBVCmkjDhOAJsmMYrOPVusPFlWeYInmiojTzRYj0AYsIFdiaM2twLuqc7BgGK1H1CB69vpcdgxRuyRLg8mXZKYi4a4YK6HnKc3gt8sKd2Duyoxg2ocJru57irz9tZCchBevZE/j5Z9kpSOk4IkIFsuDoApaQ4qASSA0YCZWK7wNIni1bgCNHZKcgpeOICOVbTGIMqi+szpOXFaOmf17G4Z2esmOQgjVuzDJCcnFEhPLt898/ZwkpZpf8e8DGhu8FSJ7wcO6eIbk4IkL5cvPJTdT8piaSUpNkRylzWtzeg7AfOsiOQQrm6QlcuACo1bKTkBJxRITyZXLoZJaQEhJeuQ+quifLjkEKduUKsHy57BSkVCwilKeI+xFYd5afHltSXqji4NxjjuwYpHCzZwMpPL0NScAiQnmaEjoFAtyDV5KOl/sP/JvEyI5BCnbjBrB+vewUpEQsIpSrv6L+wu5Lu2XHUIS41oNgbMzCR/J88QXAWYNU2lhEKFdfHfmKoyGl5IrJdjTt/pfsGKRgFy8C27bJTkFKw6NmKEd3Yu+g2oJqSE7jRMrSYpfmCbHoHzx5zPcIJEf9+sCJE7JTkJLw1Y5yNC98HktIKXtsdAV1+myVHYMU7ORJIDhYdgpSEo6IULZik2JReW5lxL2Ikx1FcYyFGdw3PsHVf8xlRyGFatkSCA2VnYKUgiMilK0Vp1ewhEiSqkpC+a7TZMcgBTt4EPiL05WolLCIUBZCCHx74lvZMRTtlOUXaNDqvuwYpGBLlshOQErBIkJZ/Hr5V1yJuSI7huI9aPoeTE2555TkWLsWSEiQnYKUgEWEslh4fKHsCATgpsk+NOrJwxdIjthYYMMG2SlICVhESMeVmCsIuRoiOwa9dLpGDzhVSJUdgxSKu2eoNLCIkI51Z9fxBGZ6JE51FzV7r5EdgxTqzz81h/MSlSQWEdKx/i9+2IS+Oew4BN6+z2THIIXiqAiVNBYR0jp57yQuPbokOwZlIlSpUAdOkB2DFGrDBk5apZLFIkJa689xNERfnTP/Do073JQdgxTo2TNg507ZKagsYxEhAECaSMPGvzbKjkG5uPFGH1hYcP4Olb5Nm2QnoLKMRYQAAAeuH0BkfKTsGJSLSOPjaNAnTHYMUqA9ezSH8xKVBBYRAsDdMobimHsPVKqcIjsGKUxSEvDLL7JTUFnFIkJ4nvIcWy5ukR2D8uG56jHcen0nOwYp0E8/yU5AZRWLCGH3pd2ITeK4q6EItx2NOm88lR2DFCY4GHjyRHYKKotYRIjnDjFAL9qPgJERJ65S6XnxAti2TXYKKotYRBQuJS0FwVeDZcegAvpbvR5NuvCcL1S6WESoJLCIKNzRO0cR/yJedgwqhL/9esLGhqMiVHoOHgSSk2WnoLKGRUTh+AF3huuh0Xn49/1VdgxSkLg44MgR2SlKnkqlwvbt2/O9/qpVq2Bra1tiefTV9u3b4enpCWNjY4wZMybHZXlhEVG4fdf3yY5ARRDu2hdu1V7IjkEKElwMe3KDgoKgUqmgUqlgYmKCqlWrYvjw4Xj8+HHRN14MIiMj0bFjx3yv37dvX1y6VPK7SletWqV93FQqFSpWrIguXbrg/PnzJX7b2Rk6dCh69eqF27dvY/r06TkuywuLiILFJsXi+N3jsmNQESSrElCh+2zZMUhBfvuteLbToUMHREZG4saNG1i+fDl27tyJESNGFM/Gi8jZ2RlmZmb5Xt/CwgIVKlQowUSvlCtXDpGRkbh37x52796NhIQEBAYG4sWL0n1DEh8fj6ioKAQEBKBSpUqwsbHJdll+sIgo2MEbB5GSxpNjGboTNlPw+psPZccghTh9GnhYDE83MzMzODs7o3Llymjfvj369u2L4EzDLStXroSPjw/Mzc3h7e2NxYsXay+7ceMGVCoVfvrpJzRr1gwWFhZ44403cOnSJZw4cQL169eHtbU1OnTogOjoaO31Tpw4gXbt2sHR0RHly5dHixYtcOrUKZ3bzbhrJv12tm7dilatWsHS0hJ+fn4IDw/Xrp9518ynn36KunXrYu3atXB3d0f58uXx9ttvIy4uTrtOXFwc+vfvDysrK7i4uGDevHlo2bJlnrszVCoVnJ2d4eLigvr162Ps2LG4efMm/vnnH53bzmj+/Plwd3fXfh8UFIRu3brh66+/houLCxwcHPDRRx8hOcMEoMePH+P999+HnZ0dLC0t0bFjR1y+fBkAcPDgQW3JaN26NVQqVY7L8oNFRMH2XeNumbLiScuBMDHhxFUqeWlpQEgxTy27du0a9u7dC7VarV22bNkyTJo0CZ9//jkuXryImTNnYsqUKVi9erXOdadOnYrJkyfj1KlTMDExQb9+/fDJJ59gwYIFOHToEK5evYr//e9/2vXj4uIwYMAAHDp0CEePHoWXlxc6deqkUxKyM2nSJEyYMAERERGoUaMG+vXrh5SUnN/IXb16Fdu3b8euXbuwa9cuhIWF4YsvvtBePm7cOBw+fBg7duxASEgIDh06lKUQ5eXJkydYv15z+oWMj11+hIaG4urVqwgNDcXq1auxatUqrFq1Snt5UFAQTp48iR07diA8PBxCCHTq1AnJyclo0qSJtvhs2bIFkZGROS7LD5MCJacyJeQaJ6qWFVdNdqJ5t7P4/Wc/2VFIAYKDgX79iraNXbt2wdraGqmpqXj+/DkAYO7cudrLp0+fjjlz5qBHjx4AAA8PD1y4cAFLly7FgAEDtOtNmDABAQEBAICPP/4Y/fr1w/79+9G0aVMAwKBBg3T+wLZu3Vonx9KlS2FnZ4ewsDB07tw5x7wTJkxAYGAgAGDatGmoXbs2rly5Am9v72zXT0tLw6pVq7SjBO+99x7279+Pzz//HHFxcVi9ejXWr1+PNm3aANCM/lSqVCnPx+3p06ewtraGEALPnj0DALz11ls55siJnZ0dvvnmGxgbG8Pb2xuBgYHYv38/hgwZgsuXL2PHjh04fPiwtkysW7cOVapUwfbt29G7d2/trih7e3s4OzsDQLbL8oMjIgp1N/Yu/n74t+wYVIzO1OoGe4c02TFIAUJDi76NVq1aISIiAseOHcOoUaMQEBCAUaNGAQCio6Nx+/ZtDBo0CNbW1tqvGTNm4OrVqzrbqVOnjvb/FStWBAD4+vrqLIuKitJ+HxUVhWHDhqFGjRooX748ypcvj/j4eNy6dSvXvBlvx8XFRbutnLi7u+vMkXBxcdGuf+3aNSQnJ6NBgwbay8uXL4+aNWvmmgEAbGxsEBERgT///BNLlixB9erVsWTJkjyvl1nt2rVhbGycbb6LFy/CxMQEDRs21F7u4OCAmjVr4uLFiwW+rbxwREShuFum7HlqdAPNem/GoSV9ZUehMu7mTSAyEnj597hQrKys4OnpCQBYuHAhWrVqhWnTpmH69OlIS9MU6mXLlun8MQSg88cT0N0loVKpsl2Wvj1As8shOjoa8+fPh5ubG8zMzNC4ceM8J3tmdzsZt5vb+plzCCF0tpMufXlujIyMtI+bt7c37t+/j759++L333/XXp55O8nZnPwlP/kyE0JkyVwcOCKiUAdvHpQdgUrA4YrvwdP7uewYpAAZ5moWi6lTp+Lrr7/GvXv3ULFiRbi6uuLatWvw9PTU+fLw8CjS7Rw6dAijR49Gp06dULt2bZiZmeFhccy+LYDq1atDrVbj+PFXRy3GxsZqJ4MWxNixY3HmzBlse3naWycnJ9y/f1+nTERERBRom7Vq1UJKSgqOHTumXfbo0SNcunQJPj4+Bc6YFxYRhTodeVp2BCoBaapk2Lw1RXYMUoDiLiItW7ZE7dq1MXPmTACaoz9mzZqFBQsW4NKlSzh37hxWrlypM4+kMDw9PbF27VpcvHgRx44dQ//+/WFhYVEcdyHfbGxsMGDAAPzrX/9CaGgozp8/j4EDB8LIyKjAIw7lypXD4MGDMXXqVAgh0LJlS0RHR2P27Nm4evUqvv32W+zZs6dA2/Ty8kLXrl0xZMgQ/PHHHzhz5gzeffdduLq6omvXrgXaVn6wiChQcmoyLj4s/v18pB9OW36NBm0iZcegMi7Dm+ViM27cOCxbtgy3b9/G4MGDsXz5cqxatQq+vr5o0aIFVq1aVeQRkRUrVuDx48fw9/fHe++9h9GjR5faOUAymjt3Lho3bozOnTujbdu2aNq0qfZQ5YL6+OOPcfHiRWzevBk+Pj5YvHgxvv32W/j5+eH48eOYMGFCgbe5cuVKvP766+jcuTMaN24MIQR+/fXXAh+dkx8qkZ+dUlSmnLl/BnWX1pUdg0pQ1dRWeDB7P5KSin9/LhEAWFsDT58CRnw7WywSEhLg6uqKOXPmYNCgQbLjlCo+hRTozIMzsiNQCbtlHIpGvY7KjkFlWHw88PK0EVQIp0+fxoYNG3D16lWcOnUK/fv3B4AS2fWh71hEFOjMfRYRJTjp2R0VnVNlx6Ay7ORJ2QkM29dffw0/Pz+0bdsWCQkJOHToEBwdHWXHKnU8fFeBIh5EyI5ApSBB9QB1e6/Eg0WDZUehMurMGeC992SnMEz+/v74888/ZcfQCxwRUSCOiCjHYfsP4eOXIDsGlVHcNUPFgUVEYe7G3sWjxEeyY1BpUQkYdxorO4WBuQvgXQAOACwB1AWQ8Z2rAPApgEoALAC0BJCfj2HfAqAWALOX/27LdPk6AFUA2AP4V6bLbgCoASA2n/ehdLCIUHFgEVGYiPsRsiNQKfvLbBmadLouO4aBeAygKQA1gD0ALgCYA8A2wzqzAcwF8A2AEwCcAbQDkNuHpoUD6AvgPQBnXv7bB0D6MbAPAQwG8DWA3wCsBrA7w/WHA/gCQLnC3rEScf06kM1JO4kKhEVEYXjEjDJdq98bVlY8Uj9vX0IzKrESQAMA7gDaAKj+8nIBYD6ASQB6AHgNmtLwDMD6XLY7H5qy8h8A3i//bfNyOQBcA1AemrLyBoBW0JQgvNyu6cvb0y8pKcC1a7JTkKFjEVGYfx5xLFWJ7hv9ifp9DsiOYQB2AKgPoDeACgD8ASzLcPl1APcBtM+wzAxACwBHctlueKbrAEBAhut4QVNmTgOIgWakpc7L//8PmtEX/cTdM1RULCIKczf2ruwIJMmxqr3hWiVFdgw9dw3Ad9AUg98ADAMwGsCal5fff/lvxUzXq5jhsuzcz+M6dtCMrLwPzUjM+9AUlQkARkFTgPyhGYH5uSB3qMSxiFBR8fBdhbkbxyKiVM9Vj1Gl5yLcnc/JqzlLg2ZEZObL7/2hmYj6HTTlIF3mM9aKbJZlltd1ur/8SncQwDloRkM8AWyAZj5KAwDNoRmxkY9FhIqKIyIKwxERZTtqOw5+DZ7IjqHHXKA5oiUjHwC3Xv7f+eW/mUc/opB1xCMj5wJeJwnACABLAVwBkALN7p+a0Bw9UwIf9FJIV6/KTkCGjkVEQeKS4hD3IreZ/aQEie2GwsiIE1ez1xRA5rf4lwC4vfy/BzSlIiTD5S8AhAFokst2G2e6DgAE53Kd6QA6AqgHIBWaIpIu+eUy/XA/tz1SRPnAIqIg3C1DAHBJ/ROadv1bdgw9NRbAUWh2zVyB5oiV7wF89PJyFYAxLy/fBuAvAEHQnG/knQzbeR+aI2PSfQxN8fgSwN8v/933cluZnQewCcBnL7/3hual+gdoDun9G5oja/QDiwgVFeeIKAh3y1C6i3V6odyBvxD7lJ/Oq+sNaArGf6ApAh7QHGLbP8M6nwBIhGbXyWMADaEpGTYZ1rkF3fd5TQBsBDAZwBRoDgfe9PK6GQkAHwKYB8Dq5TILAKugKUNJ0MwZcS3sHSx2T54ASUmAmZnsJGSoVEIIjtEqxJozazBg+wDZMUhPNL/7C35f9pbsGFQG3LwJVK0qOwUZKu6aURCOiFBGRyq9DffqL2THoDLgwQPZCciQsYgoCOeIUEYpqkQ4dp+Z94pEeWARoaJgEVEQFhHK7KT1NNRvHi07Bhk4TlilomARUZDHiY9lRyA99Kj5AJiYcKoYFV5UlOwEZMhYRBTkRSrnA1BW1032oEmPCNkxyIA9eyY7ARkyFhEFSUpNkh2B9FSETzc4OKbJjkEG6vlz2QnIkLGIKEhSCosIZS9WdQu1+myQHYMMFIsIFQWLiIJwRIRyc9jpA9SolSg7BhmgRD5tqAhYRBSEc0QoN2mqZFh2mSQ7BhkgjohQUbCIKAh3zVBeIizmoWFbHuZNBcMRESoKFhEF4a4Zyo+7jfvB3JyH81L+cUSEioJFREE4IkL5ccf4EBr2OiI7BhkQFhEqChYRBeEcEcqve25zZUcgA2JsLDsBGTIWEYVITUtFqkiVHYMMhE1yDdkRyICYmclOQIaMRUQhjFRGMFLxx035Y5noJTsCGRAWESoK/mVSCJVKBWtTa9kxyEAYx1eVHYEMCIsIFQWLiILYmNrIjkAGIi3WRXYEMiCmprITkCFjEVEQGzMWEcqf5zEOsiOQAeGICBUFi4iCcESE8iv+EZ8rlH8sIlQULCIKwhERyq9HD8xlRyADwiJCRcEioiDlzMrJjkAGwFiY4WE0Xxoo/8qXl52ADBlfbRSEu2YoPyqk+SEtTSU7BhmQChVkJyBDxiKiICwilB/2Kb6yI5CBcXKSnYAMGYuIgnCOCOWHTVJN2RHIwHBEhIrCRHYAKj16P0fkEID9ABoC6PhymQBwEMCfAJ4DcAUQCCCvF74LAA4AeAzADkAbAD4ZLj8LYB+AFwDqAWif4bLHANYC+BCAAudsmiZUkx2BDAyLCBUFR0QUxMVaj09SdReaslEx0/LDAMIBdAIwBIA1gDUAcvsg4dsANgPwAzDs5b+bAdx5eXkCgB3QlI/3AEQAuJTh+rsBtIUiSwgAqOIqy45ABoZFhIqCRURBqtnp6TvdJABbAHSB7h9/AeAogOYAakFTUroDSAZwLpftHQVQHUAzAE4v//V4uRzQjHiYAXgNmhEWDwDRLy87C8D45e0pVPIT/lWh/DM15VEzVDQsIgriYechO0L2fgVQA5rykNFjAPGZlpsAcIdm1CMnt7PZlmeG6zhAU2YiATyDZjSm4sv/h0Iz+qJgz2JsZUcgA8KJqlRUnCOiIJXLVYapsSlepL6QHeWVc9AUgiHZXBb/8l+rTMutADzNZZvxOVwnfXsW0IysbIOmkPhBU1S2QzM/5TGADQBSAbQEUDvPe1GmPInK/OAR5awy9+RREbGIKIiRyghVy1fFlZgrsqNoPAWwF5p5Gupc1ivMKS3yuo4PdCevXgcQBc1oyEIAvaCZj7IMgNvL/ytE9IPcfhhEury8ZCcgQ8ciojDV7KrpTxG5B83E0aUZlgkANwEcBzDq5bJ4ABmPPE5A7sXAGq9GP/JznRRoJqj2ABADIA2a3T+AZjfOXQAKOaK1nKiC2ASezIzyj0WEiopFRGGq2erRhNVqAIZnWvYLAEcATaE57NYawFUA6Qf8pAC4AaBdLtut8vI6jTMsu/pyeXbCAHgBqATNbqK0DJelZvq+jHNKrYtY2SHIoLCIUFFxsqrC6NWEVTNoJolm/FJDM4ejIjS7VxpBc36RiwAeQDOPQw0g48k/t0JzTpB0DaEpHn9AczTMHwCuvdxWZlEAzgNo9fJ7x5e3ewqaQ3ofQnNkjUKUf6Hgw4WoUFhEqKg4IqIwensIb06aQjOhdDeARACVoZlTkvHTPp9Cd05IVWjmeBx4+WX/8vvMk+oEgJ0AAgCYvlymBtANmiN5UqCZM6Ln54ErThaJnrIjkIFhEaGiYhFRGA9bPRoRyc4Hmb5XQTNa0SqbdXO6DqA50iWvo11UAAZls7wmFDMnJDOTBDfZEciAODnxHCJUdNw1ozDV7TOfYIPolbSnenz2XdI7HA2h4sAiojC25raoXI4H/lP2kh47yI5ABsTHJ+91iPJiUEVEpVJh+/btJX477u7umD9/fo6XBwUFoVu3biWeo6TUc6knOwLpqbiHCpoQQ0VWv77sBFQWFKiIBAUFQaVSQaVSwcTEBFWrVsXw4cPx+PHjfG/jxo0bUKlUiIiIKGhWREZGomPHjnmvaMBCQ0PRuXNnODk5wdzcHNWrV0ffvn3x+++/a9c5ePAgVCoVnjx5UqjbeN3l9WJKS2XNowcK/aQ/KpQ33pCdgMqCAo+IdOjQAZGRkbhx4waWL1+OnTt3YsSIESWRLQtnZ2eYmZnlvaKBWrx4Mdq0aQMHBwds2rQJFy9exNq1a9GkSROMHTu22G6HRYSyYyzM8DDaoAZJSSIzM8DXN+/1iPJS4FcdMzMzODs7o3Llymjfvj369u2L4OBgnXVWrlwJHx8fmJubw9vbG4sXL9Ze5uGhOWrD398fKpUKLVu2BACcOHEC7dq1g6OjI8qXL48WLVrg1KlTOtvNuGsmfWRl69ataNWqFSwtLeHn54fw8HCd6xw5cgTNmzeHhYUFqlSpgtGjRyMhIUF7eVRUFLp06QILCwt4eHhg3bp1+X4spk2bhgoVKqBcuXIYOnQoXrzQfIbLmjVr4ODggKQk3c+q79mzJ95///1st3Xr1i2MGTMGY8aMwerVq9G6dWt4eHigSZMm+Pjjj3Hy5Ml858rL65VYRCgrJ+GLtDSeVZXyp04dzSfvEhVVkd7+XLt2DXv37oVa/eqzKZYtW4ZJkybh888/x8WLFzFz5kxMmTIFq1evBgAcP34cALBv3z5ERkZi69atAIC4uDgMGDAAhw4dwtGjR+Hl5YVOnTohLi4u1wyTJk3ChAkTEBERgRo1aqBfv35ISUkBAJw7dw4BAQHo0aMHzp49i02bNuGPP/7AyJEjtdcPCgrCjRs3cODAAfz8889YvHgxoqKi8rzv+/fvx8WLFxEaGooNGzZg27ZtmDZtGgCgd+/eSE1NxY4dO7TrP3z4ELt27cIHH2R3rCmwZcsWJCcn45NPPsn2cpWq+P5AOFs7c8IqZeGQXEd2BDIgnB9CxaXARWTXrl2wtraGhYUFqlevjgsXLmDixInay6dPn445c+agR48e8PDwQI8ePTB27FgsXar5QBGnl58Z7eDgAGdnZ9jb2wMAWrdujXfffRc+Pj7w8fHB0qVL8ezZM4SFheWaZ8KECQgMDESNGjUwbdo03Lx5E1euaD5L5auvvsI777yDMWPGwMvLC02aNMHChQuxZs0aPH/+HJcuXcKePXuwfPlyNG7cGK+//jp++OEHJCYm5vk4mJqaYsWKFahduzYCAwPx2WefYeHChUhLS4OFhQXeeecdrFy5Urv+unXrULlyZe0IUGaXLl1CuXLl4OzsrF22ZcsWWFtba7/OnTuXZ678aly5cd4rkaJYJyn05ClUKJwfQsWlwEWkVatWiIiIwLFjxzBq1CgEBARg1CjNp5NFR0fj9u3bGDRokM4f0BkzZuDq1au5bjcqKgrDhg1DjRo1UL58eZQvXx7x8fG4detWrterU+fVuzgXFxfttgDgzz//xKpVq3SyBAQEIC0tDdevX8fFixdhYmKC+hmqvbe3N2xtbfN8HPz8/GBpaan9vnHjxoiPj8ft27cBAEOGDEFwcDDu3r0LQLO7Kn2yb04yXxYQEICIiAjs3r0bCQkJSE1NzTNXfjWp0qTYtkVlg9kzAzvrLknFIkLFpcBnVrWysoKnp+Y00AsXLkSrVq0wbdo0TJ8+HWlpmk8HW7ZsGRo2bKhzPWNj41y3GxQUhOjoaMyfPx9ubm4wMzND48aNtfMucpJxt1D6H/L0HGlpaRg6dChGjx6d5XpVq1bFP//8o3O94pC+LX9/f/j5+WHNmjUICAjAuXPnsHPnzhyv5+XlhadPn+L+/fvaURFra2t4enrCxKT4T4DLIkKZqeK4u47yx8aG5xCh4lPkKfJTp07F119/jXv37qFixYpwdXXFtWvX4OnpqfOVPknV9OXspszv7g8dOoTRo0ejU6dOqF27NszMzPDw4cMiZatXrx7Onz+fJYunpydMTU3h4+ODlJQUnYmg//zzT74Oiz1z5ozOLpyjR4/C2toalSu/ejEfPHgwVq5ciRUrVqBt27aoUiWnj38FevXqBbVajS+//LJwd7aA/J39YWFiUSq3RYYh5UkF2RHIQDRvDuTx3pIo34pcRFq2bInatWtj5syZAIBPP/0Us2bNwoIFC3Dp0iWcO3cOK1euxNy5cwEAFSpUgIWFBfbu3YsHDx7g6dOnAABPT0+sXbsWFy9exLFjx9C/f39YWBTtD+XEiRMRHh6Ojz76CBEREbh8+TJ27Nih3ZVUs2ZNdOjQAUOGDMGxY8fw559/YvDgwfm63RcvXmDQoEG4cOEC9uzZg6lTp2LkyJEwMnr1kPbv3x93797FsmXLMHDgwFy3V7VqVcyZMwcLFizAgAEDEBoaihs3buDUqVNYuHAhgLxHlQpCbaxGA9cGxbY9MnwJMXayI5CBaN1adgIqS4rlpAHjxo3DsmXLcPv2bQwePBjLly/HqlWr4OvrixYtWmDVqlXaERETExMsXLgQS5cuRaVKldC1a1cAwIoVK/D48WP4+/vjvffew+jRo1GhQtHeodWpUwdhYWG4fPkymjVrBn9/f0yZMkU7lwTQzN2oUqUKWrRogR49euDDDz/M1+22adMGXl5eaN68Ofr06YMuXbrg008/1VmnXLly6NmzJ6ytrfN1JtZRo0YhODgY0dHR6NWrl/bIoevXr2Pv3r3wLeaD9jt4dijW7ZFhexJlJTsCGYhWuX0IJVEBqYQQQnaIsqxdu3bw8fHRjmrok7+i/oLvdzwjEWlYfZWGhASeR4Ry5+gIREUBxTi1jhSOp1EsITExMdi4cSMOHDiAjz76SHacbL1W4TW427rLjkF6oJyowhJC+dKuHUsIFS8WkRJSr149DB06FF9++SVq1tTf8zMEegXKjkB6wDHFT3YEMhABAbITUFlT/MeFEgDNKegNQecanfHtiW9lxyDJyifzWEzKm0rFIkLFjyMiCtfKvRWs1JykqHSWiV6yI5AB8PcHMpz8mahYsIgonJmJGdpUayM7BklmkuAmOwIZgN69ZSegsohFhNDZq7PsCCSZiHXJeyVSPBYRKgksIoTAGoFQgdPglez5Y0fZEUjP+fsD1avLTkFlEYsIoZJNJfi7+MuOQRLFPSwnOwLpOY6GUElhESEAQC+fXrIjkEQxD8xlRyA9xyJCJYVFhAAA7/u9D2MVP8VKiYyFGaKj+FJAOatbF3j5oetExY6vPgQAcC3nigBPniBAiZyEL9LSOEeIcsbRECpJLCKkNbBu7p8QTGWTQ3Id2RFIj6lUQL9+slNQWcYiQlpv1XwLTpZOsmNQKbNKqiE7Aumxtm2Blx+eTlQiWERIS22sxrt13pUdg0qZ+bNqsiOQHvvwQ9kJqKxjESEdg/wHyY5ApUwVV1l2BNJTFSsCXbvKTkFlHYsI6ahdoTYauDaQHYNKUcrTCrIjkJ764ANArZadgso6FhHKgpNWleXZIzvZEUgPqVTAkCGyU5ASsIhQFv18+8FSbSk7BpWSJ9H89GXKqk0boBqnD1EpYBGhLMqZlUPf2n1lx6BSEn3fVHYE0kNDh8pOQErBIkLZ+qTpJzBS8elR1tkIV8TH82RmpMvDA+jeXXYKUgr+paFseTt6o7s3X4nKOqfUurIjkB4aPx4w5ic+UClhEaEc/bfZf2VHoBJW/kUt2RFIz1SoAAzkfHUqRSwilKN6LvUQUJ2fP1OWWSZ6yY5Aemb0aMDCQnYKUhIWEcrVpGaTZEegEmSSUFV2BNIjNjbARx/JTkFKwyJCuWrm1gxvVn1TdgwqISLWRXYE0iPDhgG2trJTkNKwiFCe/vsm54qUVUmPHWVHID1hZgaMHSs7BSkRiwjlqaNXR9RzqSc7BpWAuIflZEcgPTFoEODCATKSgEWE8uU/b/5HdgQqATFRnJVIgLU1MHWq7BSkVCwilC89fHqgTsU6smNQMTISakRH8SWAgAkTNIftEsnAVyHKFyOVEeYFzJMdg4pRBVEHqak8q6rSVayoOYEZkSwsIpRvrT1a82yrZYh9iq/sCKQHpk7V7JohkoVFhApkTvs5MDM2kx2DioHNc2/ZEUiyGjWAIUNkpyClYxGhAvGw88C4xuNkx6BiYPaMn/GudDNnAiYmslOQ0rGIUIH9t9l/4WLN4/wMnSqusuwIJFHTpkDPnrJTELGIUCFYm1pjVptZsmNQESU/5WESSmViAnz3newURBosIlQo7/u9jwauDWTHoCJIjLGTHYEkGTcO8OVcZdITLCJUKCqVCgs6LIAKPPzTUD2NtpIdgSRwd+fJy0i/sIhQoTWq3Aj96/SXHYMKKfq+qewIJME33wCWlrJTEL3CIkJFMi9gHipaVZQdgwrIWrggLo6jWUrTsycQGCg7BZEuFhEqEkdLRyzrskx2DCogp9S6siNQKbOxARYskJ2CKCsWESqyLjW7YGDdgbJjUAHYvqgtOwKVslmzAFdX2SmIsmIRoWIxv8N8uNu6y45B+WT53Et2BCpFAQHAiBGyUxBlj0WEioWNmQ1Wd1sNIxWfUobAJN5NdgQqJY6OwKpVgIpTgkhP8a8GFZvmbs0xpuEY2TEoH0Qsz4yrFMuXA87OslMQ5YxFhIrV520+Ry2nWrJjUB6SHjvKjkClYMgQoGtX2SmIcsciQsXK3MQca7uvhdpILTsK5SLuYTnZEaiEeXkB8+bJTkGUNxYRKnb1XOphSvMpsmNQLmKiLWRHoBJkYgL8+CNgxZPnkgFgEaESMan5JHT07Cg7BmXDSKgR/YC/+mXZzJlAA34UFBkIvhpRiTBSGWF9z/XwsudhovrGSbyG1FQeQlFW9e0L/OtfslMQ5R+LCJUYW3Nb/PL2L7AxtZEdhTKwT+HHrpZVdeoAK1bITkFUMCwiVKJ8nHywrsc6fkqvHrFJ8pYdgUqAvT2wbRs/0I4MD4sIlbguNbvgs1afyY5BL5k/qy47AhUzY2NgwwagWjXZSYgKjkWESsWkZpPQ06en7BgEQBVXWXYEKmaffw60by87BVHhsIhQqVCpVFjdbTV8K3B+gmwpTyrKjkDFqG9fYOJE2SmICo9FhEqNlakVtr+9HfYW9rKjKNqzGDvZEaiYvPmm5nNkiAwZiwiVqmp21bClzxaYGZvJjqJYT6N5lquywNsb+OUXwNxcdhKiomERoVLX0r0lNvfeDBMjE9lRFCn6vqnsCFREzs7Anj2aI2WIDB2LCEnRpWYXrO2+FkYqPgVLk5WoiLg4HkptyGxtgd9+A9zdZSchKh78K0DSvP3a21jaeSnPMVKKKqT6y45ARWBhAezcqTlxGVFZwSJCUg2uNxhzA+bKjqEY5ZNryY5AhWRiAvz0k2aCKlFZwiJC0o1pNAafteQJz0qDVSI/+8cQqdWaEtK5s+wkRMWPRYT0wpQWU/CvJvykrpJmkuAuOwIVkKkp8PPPQPfuspMQlQwWEdIbs9vNxrDXh8mOUaaJ2EqyI1ABmJkBW7YAb70lOwlRyWERIb2yOHAxBvkPkh2jzEp67Cg7AuWTmZnmQ+y4O4bKOhYR0isqlQrL31rO3TQlJP5hOdkRKB/MzTUnK+vYUXYSopLHIkJ6aXa72fiizReyY5Q5j6IsZEegPFhZaQ7RDQiQnYSodLCIkN6a+OZEfN/5e570rJgYCTWiH/Cx1GfOzkBYGNC2rewkRKWHr0qk14a8PgRb+myBhQnfyReVY1ptpKby5HH6yscHCA8HXn9ddhKi0sUiQnqvm3c3hA4IhZOlk+woBs0h1Vd2BMpB8+bA4cM8bTspE4sIGYSGlRsifFA4vOx5Qq7Csknylh2BstGvHxAcDNjZyU5CJAeLCBmM6vbVcWTQETSt0lR2FINk/qya7AiUycSJwLp1mkN1iZSKRYQMiqOlI0IHhGJ0g9GyoxgcVXwV2RHoJQsLYPVq4IsvABWn7ZDCsYiQwVEbq7Gg4wJs6rUJNqY2suMYjJQnFWVHIADVqwNHjwLvvy87CZF+YBEhg9Wndh+cGHICr1V4TXYUg5AYw0kIsnXpApw8CdSpIzsJkf5gESGDVtOxJo4NPoZ367wrO4reexJtLTuCYhkZAZ9/rjlbqq2t7DRE+oVFhAyepdoSa7uvxZLAJTAz5qy/nDy8byo7giI5OgK//Qb897+cD0KUHRYRKjOG1h+KI4OOwMPWQ3YUvWMlKiI2ln8FS1v79kBEBM+USpQbFhEqU+q51MOpoafQp3Yf2VH0SoVUf9kRFMXSEvj2W81IiKur7DRE+o1FhMocW3NbbOq1Cdv6boOLtYvsOHqh/ItasiMoRuPGwJkzwIgRspMQGQYWESqzunl3w4WPLmCQ/yDZUaSzTPKUHaHMMzUFZs4EDh0CPPlwE+UbiwiVabbmtlj+1nLse2+foueOqOPdZUco0/z8gOPHgf/8BzA2lp2GyLCwiJAitKnWBn+N+AtjGo6BkUp5T3sRW0l2hDKpXDlg3jzgzz81ZYSICk55r8ikWJZqS8zrMA9HBh5BbafasuOUqqQnjrIjlDnvvAP8/TcwZgxHQYiKgkWEFKdh5YY4NfQUZrSaoZhTxMc/LC87QplRqxYQGqr5sDoXzoUmKjIWEVIkU2NTTGo+CVdGX8HIN0ZCbaSWHalExUSZy45g8Kytga++0pwXpGVL2WmIyg6VEELIDkEk25WYK5h0YBI2n98MgbL1K6ESxjD+PBkpKTyhWWGYmgIffghMngxU5OcGEhU7jogQAfC098SmXptwbPAxtHRvKTtOsXISr7GEFIKRkeYTcv/5B1i0iCWEqKSwiBBl8IbrGwgdEIpf3/kVvhV8ZccpFg4p/KjXgureHTh3Dli9GnB3l52GqGxjESHKRkevjogYFoFVXVfB096wz05lk+QtO4LBaNsWOHYM2LpVMymViEoeiwhRDoxURhhQdwD+GfkPtvXdhmZVm8mOVChmz6rJjqDXTEyAt98GTp4EQkKABg1kJyJSFhYRojwYqYzQzbsbfv/gd5wYcgL9XusHEyMT2bHyzSi+suwIesnaWnMOkCtXgA0bgNdfl52ISJl41AxRIdyJvYOFxxZi2allePL8iew4uXrz1CX8scNLdgy9UakSMHo0MHQoYGsrOw0RsYgQFUH8i3isOL0CC44twLXH12THyVa9kIc4ddhBdgzpWrYEhgwBevcG1GX7tDFEBoVFhKgYpIk07Lu2D+vOrcO2i9sQ9yJOdiSt6hsScfUfZZ7QrGJFYMAAYPBgwIuDQkR6iUWEqJglJidi56WdWHduHfZc3oPktGSpecrNS0PsU+WcR8TMDOjSBQgKAgICNJNRiUh/sYgQlaCYxBhsPr8Z6/9aj0M3D5X6WVsthROeTYsq1duUwdwcaNdOc/6Pbt0AOzvZiYgov1hEiErJ7ae3seGvDfjp/E84FXmqVEqJe2p73Jj+W4nfjgzlygGBgZry0bGj5igYIjI8LCJEEjx89hD7r+1HyLUQ7Lu2Dzef3iyR26mbOBYRX84tkW3L4O7+auSjTRvN58AQkWFjESHSA5cfXUbItRCEXAtB6PVQPE16WizbbfJ4MY4sGF4s25KhcmWgVatXXzzdOlHZwyJCpGdS01Jx4t4JhFwNQfidcJx5cAb34u4Valstbv+KsB86FnPCkqFSAdWrA2+88ap4eBr22fWJKB84n5xIzxgbGaNR5UZoVLmRdll0QjQi7kfgzIMz2n//fvg3UtJSct2WiHUp6biFYmKi+SyXevUAf3/Nl5+fZt4HESkLR0SIDFRSShLOR5/XFJP7Z3D18VXcenoLt57e0u7aaXT4No6GyDnFu7GxZtdKtWqAh8erf2vWBF57TXOYLRERiwhRGfT0+VPcenoLkRfdceeaDSIjgfv3gagoIC4OSEgA4uM1X+n/T0gAUjIMsKhUmjJhbKwZwUj/18YGcHAA7O2z/9fFRVM6qlblGUyJKG8sIkSk9eLFqwJixI/EJKJSwCJCRERE0vA9DxEREUnDIkJERETSsIgQERGRNCwiREREJA2LCBEREUnDIkJERETSsIgQERGRNCwiREREJA2LCBEREUnDIkJERETSsIgQERGRNCwiREREJA2LCBEREUnDIkJERETSsIgQERGRNCwiREREJA2LCBEREUnDIkJERETSsIgQERGRNCwiREREJA2LCBEREUnDIkJERETSsIgQERGRNCwiREREJA2LCBEREUnDIkJERETSsIgQERGRNCwiREREJA2LCBEREUnDIkJERETSsIgQERGRNCwiREREJA2LCBEREUnDIkJERETSsIgQERGRNCwiREREJA2LCBEREUnDIkJERETSsIgQERGRNCwiREREJA2LCBEREUnDIkJERETSsIgQERGRNP8H8P/el/Zl9iwAAAAASUVORK5CYII=",
          "text/plain": "<Figure size 600x400 with 1 Axes>"
         },
         "metadata": {},
         "output_type": "display_data"
        },
        {
         "name": "stdout",
         "output_type": "stream",
         "text": "🌧️ Design Storm Volume: 50.0 m³\n📏 Catchment Area: 1000 m²\n🌿 Total Green Infrastructure Area: 800 m²\n💧 Estimated Volume Retained: 20.0 m³\n🚿 Net Runoff After GI Treatment: 30.0 m³\n"
        }
       ]
      }
     },
     "51ae561e76c74b679ccac4d3834173a6": {
      "model_module": "@jupyter-widgets/base",
      "model_module_version": "2.0.0",
      "model_name": "LayoutModel",
      "state": {}
     },
     "577e159cd8684ccca4c16860dc4d593a": {
      "model_module": "@jupyter-widgets/output",
      "model_module_version": "1.0.0",
      "model_name": "OutputModel",
      "state": {
       "layout": "IPY_MODEL_b9c5d03ba294497689bee2d861309d77",
       "outputs": [
        {
         "data": {
          "image/png": "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",
          "text/plain": "<Figure size 600x400 with 1 Axes>"
         },
         "metadata": {},
         "output_type": "display_data"
        },
        {
         "name": "stdout",
         "output_type": "stream",
         "text": "🌧️ Design Storm Volume: 50.0 m³\n📏 Catchment Area: 1000 m²\n🌿 Total Green Infrastructure Area: 800 m²\n💧 Estimated Volume Retained: 20.0 m³\n🚿 Net Runoff After GI Treatment: 30.0 m³\n"
        }
       ]
      }
     },
     "5fc35bbe152f45baa797e5300f12aede": {
      "model_module": "@jupyter-widgets/base",
      "model_module_version": "2.0.0",
      "model_name": "LayoutModel",
      "state": {}
     },
     "60b4a2982b8d40fa838d73ea9d2650a2": {
      "model_module": "@jupyter-widgets/controls",
      "model_module_version": "2.0.0",
      "model_name": "SliderStyleModel",
      "state": {
       "description_width": ""
      }
     },
     "62fd2b5d000244dbbb7e16d70422d27f": {
      "model_module": "@jupyter-widgets/controls",
      "model_module_version": "2.0.0",
      "model_name": "SliderStyleModel",
      "state": {
       "description_width": ""
      }
     },
     "65f67de7e68d4e9f9a4f240471e5687b": {
      "model_module": "@jupyter-widgets/controls",
      "model_module_version": "2.0.0",
      "model_name": "IntSliderModel",
      "state": {
       "behavior": "drag-tap",
       "description": "Catchment Area (m²)",
       "layout": "IPY_MODEL_15aab8b2ade1482b82766b58bf19510b",
       "max": 5000,
       "min": 100,
       "step": 100,
       "style": "IPY_MODEL_60b4a2982b8d40fa838d73ea9d2650a2",
       "value": 1000
      }
     },
     "6853bf55a40a458e97b2b695c4e2667c": {
      "model_module": "@jupyter-widgets/base",
      "model_module_version": "2.0.0",
      "model_name": "LayoutModel",
      "state": {}
     },
     "69ea64c9b18a438f9d6dfd0d74ae6132": {
      "model_module": "@jupyter-widgets/controls",
      "model_module_version": "2.0.0",
      "model_name": "SliderStyleModel",
      "state": {
       "description_width": ""
      }
     },
     "6a409483550d4c72a7a73eb8aa2dcb69": {
      "model_module": "@jupyter-widgets/base",
      "model_module_version": "2.0.0",
      "model_name": "LayoutModel",
      "state": {}
     },
     "6dd0fe5692ff4b369c121e3140f3321f": {
      "model_module": "@jupyter-widgets/controls",
      "model_module_version": "2.0.0",
      "model_name": "IntSliderModel",
      "state": {
       "behavior": "drag-tap",
       "description": "Green Roof (m²)",
       "layout": "IPY_MODEL_cfda377eaab14a2da5d37770046aa2de",
       "max": 2000,
       "step": 50,
       "style": "IPY_MODEL_ae34dc40df094689ae29735828b201fe",
       "value": 300
      }
     },
     "6eb60adfc7e94631bceec9d1644fd97f": {
      "model_module": "@jupyter-widgets/controls",
      "model_module_version": "2.0.0",
      "model_name": "SliderStyleModel",
      "state": {
       "description_width": ""
      }
     },
     "70986ae124b14445aac624e8835e5a8d": {
      "model_module": "@jupyter-widgets/controls",
      "model_module_version": "2.0.0",
      "model_name": "SliderStyleModel",
      "state": {
       "description_width": ""
      }
     },
     "72bf97cc02bf4b5c918781f5f3db5ef0": {
      "model_module": "@jupyter-widgets/controls",
      "model_module_version": "2.0.0",
      "model_name": "SliderStyleModel",
      "state": {
       "description_width": ""
      }
     },
     "72c05b71fe9044b9a6b1148e4ce99d7c": {
      "model_module": "@jupyter-widgets/base",
      "model_module_version": "2.0.0",
      "model_name": "LayoutModel",
      "state": {}
     },
     "72c855b964864ac2ab40c262bd05e672": {
      "model_module": "@jupyter-widgets/controls",
      "model_module_version": "2.0.0",
      "model_name": "IntSliderModel",
      "state": {
       "behavior": "drag-tap",
       "description": "Green Roof (m²)",
       "layout": "IPY_MODEL_9d32ad0c2be6499393c486965adf5a3d",
       "max": 2000,
       "step": 50,
       "style": "IPY_MODEL_72bf97cc02bf4b5c918781f5f3db5ef0",
       "value": 300
      }
     },
     "7afb849ed63f4bacb00ea4db313c3116": {
      "model_module": "@jupyter-widgets/controls",
      "model_module_version": "2.0.0",
      "model_name": "SliderStyleModel",
      "state": {
       "description_width": ""
      }
     },
     "9b9fa0f5549146ea916678620bdaf901": {
      "model_module": "@jupyter-widgets/base",
      "model_module_version": "2.0.0",
      "model_name": "LayoutModel",
      "state": {}
     },
     "9d32ad0c2be6499393c486965adf5a3d": {
      "model_module": "@jupyter-widgets/base",
      "model_module_version": "2.0.0",
      "model_name": "LayoutModel",
      "state": {}
     },
     "a03e1deb84bc40e097f788d1d0639527": {
      "model_module": "@jupyter-widgets/output",
      "model_module_version": "1.0.0",
      "model_name": "OutputModel",
      "state": {
       "layout": "IPY_MODEL_6a409483550d4c72a7a73eb8aa2dcb69",
       "outputs": [
        {
         "data": {
          "image/png": "iVBORw0KGgoAAAANSUhEUgAAAiIAAAGGCAYAAABG0epPAAAAOXRFWHRTb2Z0d2FyZQBNYXRwbG90bGliIHZlcnNpb24zLjkuMiwgaHR0cHM6Ly9tYXRwbG90bGliLm9yZy8hTgPZAAAACXBIWXMAAA9hAAAPYQGoP6dpAABVIklEQVR4nO3deXhM5wIG8HeSTPaQlUSQhISERkTVWvsShNqpaiu11FLUduvei6tKabX2Vim11la11FKaIFIlthIUrX0PCUEWEVm++8fIyGTfv5mc9/c8eciZM2femUwm73znO2dUQggBIiIiIgmMZAcgIiIi5WIRISIiImlYRIiIiEgaFhEiIiKShkWEiIiIpGERISIiImlYRIiIiEgaFhEiIiKShkWEiIiIpClTReTYsWPo3r07qlatCjMzM1SsWBGNGzfG+PHjddZbvHgxVq1aJSekZBcuXMCnn36KGzdulNptHjx4ECqVCiqVKsfHvXXr1lCpVHB3dy+1XATcu3cPn376KSIiIkr0doKCgrL8bGfOnInt27dnWXfVqlVQqVQ4efJkkW7zjz/+QL9+/bSvB1ZWVqhduzbGjx+Pv//+u0jblsnd3R2dO3cu9PUXLVoET09PmJqaQqVS4cmTJ8UXLg/68Nq7fv16zJ8/X2oG0lVmisju3bvRpEkTxMbGYvbs2QgODsaCBQvQtGlTbNq0SWddffhlkOXChQuYNm1aqRaRdDY2Nvjhhx+yLL9+/ToOHjyIcuXKlXompbt37x6mTZtW4kVkypQp2LZtm86ynIpIcZg8eTKaNWuGmzdvYvLkydi7dy+2b9+OgQMHIiQkBD4+PkhNTS2R29ZnERERGD16NFq1aoUDBw4gPDwcNjY2pXb7+vDayyKif0xkBygus2fPhoeHB3777TeYmLy6W2+//TZmz55d4refmpqKlJQUmJmZlfht6aNnz57B0tIy13X69u2L5cuX4/Lly/Dy8tIuX7FiBVxdXeHr64sLFy6UdFSSoHr16qV2Wxs2bMDnn3+OYcOGYfHixVCpVNrL2rVrh3HjxmHx4sV5bic/z2lDc/78eQDAkCFD0KBBg1zXlX3/k5OToVKpdF7P9Znsx8ugiTKidu3aomHDhnmu5+bmJgDofLm5uWkvv3nzpujfv79wcnISpqamwtvbW3z99dciNTVVu87169cFAPHll1+K6dOnC3d3d2FsbCz27Nkjpk6dKgCIM2fOiF69eoly5coJOzs7MXbsWJGcnCz+/vtvERAQIKytrYWbm5v48ssvtdtNS0sTFSpUECNGjNAuS0lJEba2tkKlUon79+9rl8+ZM0cYGxuLx48fCyGEOHHihOjbt69wc3MT5ubmws3NTbz99tvixo0b2uusXLkyy30HIFauXKldJyQkRLRu3VrY2NgICwsL0aRJE7Fv3z6dxzD9Pv7555+iZ8+ewtbWVjg7O+f4mIeGhgoAYtOmTaJKlSri3//+t/ay1NRUUaVKFTFp0iQRGBio87MQQohvvvlGNGvWTDg5OQlLS0vx2muviS+//FK8ePFCZ70WLVqI2rVri+PHj4s333xTWFhYCA8PDzFr1iydn11iYqIYN26c8PPz0/5sGjVqJLZv354l9+PHj8XAgQOFnZ2dsLKyEp06dRJXr14VAMTUqVN11r106ZLo16+fzvPmm2++yfZxWLdunfjkk0+Es7OzsLKyEp07dxb3798XsbGxYsiQIcLBwUE4ODiIoKAgERcXp7ONtLQ08e233wo/Pz9hbm4ubG1tRc+ePcXVq1cL/Hik58n8lfm+pXv69KkwNjYWs2fP1i6Ljo4WKpVKlCtXTiQnJ2uXjxo1Sjg6Ooq0tDQhhBADBgzQ+dlmd7stWrQQQrx6nh44cEAMGzZMODg4CHt7e9G9e3dx9+7dbLNlVKtWLeHo6CgSExPzXDfz4xUWFiYaN24sLCwsRN++fbX3e/z48cLd3V2o1WpRqVIl8fHHH4v4+HidbRTnzyY3bm5uIjAwUPt9+uvRV199JebMmSPc3d2FlZWVaNSokQgPD9e53cyP+YABA/K8/xs3bhTt2rUTzs7OwtzcXHh7e4uJEydmuf9Xr14Vffv2FS4uLsLU1FRUqFBBtG7dWpw+fVqbO6fX3vTn4po1a8S4ceNEpUqVhEqlEhcvXtS+3mSW/jy5fv26zvJ169aJRo0aCSsrK2FlZSX8/PzE8uXLc3wM0redniE0NFRne+mPb8bXyQEDBggrKytx9uxZ0a5dO2FtbS0aNWokhBAiKSlJTJ8+XdSsWVOYmpoKR0dHERQUJKKiovL82SpVmSkigwcPFgDEqFGjxNGjR7P8oUp36tQpUa1aNeHv7y/Cw8NFeHi4OHXqlBBCiKioKOHq6iqcnJzEkiVLxN69e8XIkSMFADF8+HDtNtKfmK6urqJVq1bi559/FsHBweL69evaX5qaNWuK6dOni5CQEPHJJ58IAGLkyJHC29tbLFy4UISEhIgPPvhAABBbtmzRbvvtt98WNWrU0H5/9OhRAUBYWFiIdevWaZd37NhRNGjQQPv95s2bxf/+9z+xbds2ERYWJjZu3ChatGghnJycRHR0tPb+zZw5UwAQ3377rfb+p/+CrF27VqhUKtGtWzexdetWsXPnTtG5c2dhbGysU0bS76Obm5uYOHGiCAkJyfYPebr0X/DNmzeLKVOmiEqVKomUlBQhhBB79uwRKpVKXLlyJdsiMnbsWPHdd9+JvXv3igMHDoh58+YJR0dH8cEHH+is16JFC+Hg4CC8vLzEkiVLREhIiBgxYoQAIFavXq1d78mTJyIoKEisXbtWHDhwQOzdu1dMmDBBGBkZ6ayXmpoq3nzzTWFubi6++OILERwcLKZNmya8vLyy/LE+f/68KF++vPD19RVr1qwRwcHBYvz48cLIyEh8+umnWR4HNzc3ERQUJPbu3SuWLFkirK2tRatWrUS7du3EhAkTRHBwsPjyyy+FsbGxGDVqlM79HDJkiFCr1WL8+PFi7969Yv369cLb21tUrFhRp6jm5/F4+vSp9sV88uTJ2ufD7du3c/xZNmrUSLRv3177/caNG4W5ublQqVTi8OHD2uU+Pj6iT58+2u8zF5Hw8HBhYWEhOnXqpL3d8+fPCyFe/YGpVq2aGDVqlPjtt9/E8uXLhZ2dnWjVqlWO2YQQ4u7duwKA6NevX67rZdaiRQthb28vqlSpIhYtWiRCQ0NFWFiYSEhIEHXr1hWOjo5i7ty5Yt++fWLBggWifPnyonXr1tqiJUTx/mxyk1MRcXd3Fx06dBDbt28X27dvF76+vsLOzk48efJECKF5nk6ePFn7RzU8PFxcuXIl1/svhBDTp08X8+bNE7t37xYHDx4US5YsER4eHll+FjVr1hSenp5i7dq1IiwsTGzZskWMHz9e+4c9t9fe9N8NV1dX0atXL7Fjxw6xa9cu8ejRowIVkSlTpggAokePHmLz5s0iODhYzJ07V0yZMkX7GDRt2lQ4OztrM6SXtYIWEbVaLdzd3cWsWbPE/v37xW+//SZSU1NFhw4dhJWVlZg2bZoICQkRy5cvF66urqJWrVri2bNnef58lajMFJGHDx+KN998U9tw1Wq1aNKkiZg1a1aWd5W1a9fWvvvK6N///rcAII4dO6azfPjw4UKlUol//vlHCPHqiVm9evUshSf9l2bOnDk6y+vWrSsAiK1bt2qXJScnCycnJ9GjRw/tsuXLlwsA4tatW0IIIWbMmCG8vb3FW2+9pf3j++LFC2FlZSX++9//5vh4pKSkiPj4eGFlZSUWLFigXb558+Zsf9kSEhKEvb296NKli87y1NRU4efnp1N60u/j//73vxxvP6OMReTatWtCpVKJXbt2CSGE6N27t2jZsqUQQmRbRDJnSU5OFmvWrBHGxsYiJiZGe1n6O53MP7tatWqJgICAHLeZkpIikpOTxaBBg4S/v792+e7duwUA8d133+msP2vWrCxFJCAgQFSuXFk8ffpUZ92RI0cKc3Nzbc70xyHzYzxmzBgBQIwePVpnebdu3YS9vb32+/Dw8GyfW7dv3xYWFhbik08+KfDjceLEiSwvsrmZPHmysLCwEM+fPxdCaN4AdOjQQdSpU0dMmzZNCPGqDHz//ffa62UuIkIIYWVlpX1HnlH6H5iMI4NCCDF79mwBQERGRuaYL724Zxx1S5f+s07/ylgi0h+v/fv361xn1qxZwsjISJw4cUJn+c8//ywAiF9//VUIUTI/m5zkVER8fX21BV8IIY4fPy4AiA0bNmiXpT+2me9PTvc/s7S0NJGcnCzCwsK0I79CaF5/AYj58+fnev2cXnvTfzeaN2+e5bL8FpFr164JY2Nj0b9//1wz5PQ6U9AiAkCsWLFCZ90NGzZkeXMpxKvfs8WLF+eaTanKzGRVBwcHHDp0CCdOnMAXX3yBrl274tKlS/jPf/4DX19fPHz4MM9tHDhwALVq1cqy7zQoKAhCCBw4cEBn+VtvvQW1Wp3ttjLPavfx8YFKpULHjh21y0xMTODp6YmbN29ql7Vt2xYAsG/fPgBASEgI2rVrh7Zt2yIkJAQAEB4ejoSEBO26ABAfH4+JEyfC09MTJiYmMDExgbW1NRISEnDx4sU87/uRI0cQExODAQMGICUlRfuVlpaGDh064MSJE0hISNC5Ts+ePfPcbmYeHh5o2bIlVqxYgUePHuGXX37BwIEDc1z/9OnTeOutt+Dg4ABjY2Oo1Wq8//77SE1NxaVLl3TWdXZ2zvKzq1Onjs7jCwCbN29G06ZNYW1tDRMTE6jVavzwww86j1NYWBgAoE+fPjrX7devn873z58/x/79+9G9e3dYWlrqPHadOnXC8+fPcfToUZ3rZPfcAIDAwMAsy2NiYhAfHw8A2LVrF1QqFd59912d23F2doafnx8OHjxYqMejINq0aYPExEQcOXIEgOZ5mvn5mf7czfj8LIy33npL5/s6deoAQKHzOzg4QK1Wa7+2bNmic7mdnR1at26ts2zXrl147bXXULduXZ3HPCAgACqVSvuY68PPJjAwEMbGxjrbA/L/eGV3/wHg2rVreOedd+Ds7Kz9HWzRogUAaH9n7O3tUb16dXz11VeYO3cuTp8+jbS0tALfh8K8pqQLCQlBamoqPvroo0Jvo6Ay5921axdsbW3RpUsXnedB3bp14ezsnOV5QBplpoikq1+/PiZOnIjNmzfj3r17GDt2LG7cuJGvCauPHj2Ci4tLluWVKlXSXp5Rduums7e31/ne1NQUlpaWMDc3z7L8+fPn2u/d3NxQvXp17Nu3D8+ePUN4eLj2hf7OnTv4559/sG/fPlhYWKBJkyba673zzjv45ptvMHjwYPz22284fvw4Tpw4AScnJyQmJuZ53x88eAAA6NWrl86LtVqtxpdffgkhBGJiYvJ9/3MzaNAg7Ny5E3PnzoWFhQV69eqV7Xq3bt1Cs2bNcPfuXSxYsEBbNL/99lsAyHK/HBwcsmzDzMxMZ72tW7eiT58+cHV1xY8//ojw8HCcOHECAwcO1Pk5PHr0CCYmJll+jhUrVtT5/tGjR0hJScGiRYuyPG6dOnUCgCwlOLvnRm7L03M9ePAAQghUrFgxy20dPXo0y+3k5/EoqCZNmsDS0hL79u3DlStXcOPGDe3z89ixY4iPj8e+fftQrVo1eHh4FPp2gKz50yeC55a/SpUqALL/43vw4EGcOHECS5Ysyfa62T2fHzx4gLNnz2Z5vG1sbCCE0D7m+vCzKczjlVF29z8+Ph7NmjXDsWPHMGPGDO1juHXrVp1tq1Qq7N+/HwEBAZg9ezbq1asHJycnjB49GnFxcfm+D4V9TQGA6OhoAEDlypULvY2CsLS0zHKk34MHD/DkyROYmppmeR7cv38/X2+IlcgwpiMXklqtxtSpUzFv3jz89ddfea7v4OCAyMjILMvv3bsHAHB0dNRZnnE2fnFq06YNfvnlF4SFhSEtLQ0tW7aEjY0NKlWqhJCQEOzbtw/NmjXTvtA8ffoUu3btwtSpU/Hvf/9bu52kpKQs5SEn6fdt0aJFaNSoUbbrZP4jXNj736NHD3z00Uf44osvMGTIEFhYWGS73vbt25GQkICtW7fCzc1Nu7woh5r++OOP8PDwwKZNm3TyJyUl6azn4OCAlJQUxMTE6BSE+/fv66xnZ2cHY2NjvPfeezm+EyvqH+R0jo6OUKlUOHToULZHZ5XGEVumpqZ48803sW/fPlSuXBnOzs7w9fVFtWrVAGj+2O/fv79I57koikqVKqF27doICQnB8+fPdYp/3bp1AUA7wpRZds9nR0dHWFhYYMWKFdleJ/33Rh9+NkWV3f0/cOAA7t27h4MHD2pHQQBke+4RNzc37eH5ly5dwk8//YRPP/0UL168yLH85SdD+s8wKSlJ53HM/EfdyckJAHDnzh1tIS2IjLeTUU7lIafni4ODA/bu3ZvtdUrzUGlDUmaKSGRkZLZtOn3oMH1UA8j5nUebNm0wa9YsnDp1CvXq1dMuX7NmDVQqFVq1alUCybNq27Ytvv/+e8yfPx+NGjXSPnnbtGmDbdu24cSJE5g5c6Z2fZVKBSFElhe75cuXZzlXQk7vkpo2bQpbW1tcuHABI0eOLIm7pWVhYYH//e9/+P333zF8+PAc10v/Rc94v4QQWLZsWaFvW6VSaU/klO7+/fv45ZdfdNZr0aIFZs+ejU2bNulk3Lhxo856lpaWaNWqFU6fPo06depoRzFKQufOnfHFF1/g7t27WXYZFVZB3zUDmufnf/7zH9jY2Gh3v1hZWaFRo0ZYtGgR7t27l6/dMkUdAcjJpEmT8M4772DcuHH49ttvi/SGoXPnzpg5cyYcHBxyLZQl8bPRB9n9DgLA0qVLc71ejRo1MHnyZGzZsgWnTp3SLi/Mzzz9RHhnz57FG2+8oV2+c+dOnfXat28PY2NjfPfdd2jcuHGO28spQ8bbCQgI0C7fsWNHvrN27twZGzduRGpqKho2bJjv6yldmSkiAQEBqFy5Mrp06QJvb2+kpaUhIiICc+bMgbW1NT7++GPtur6+vti4cSM2bdqEatWqwdzcHL6+vhg7dizWrFmDwMBAfPbZZ3Bzc8Pu3buxePFiDB8+HDVq1CiV+5J+ltHg4GBMmzZNu7xt27YYMGCA9v/pypUrh+bNm+Orr76Co6Mj3N3dERYWhh9++AG2trY6237ttdcAAN9//z1sbGxgbm4ODw8PODg4YNGiRRgwYABiYmLQq1cvVKhQAdHR0Thz5gyio6Px3XffFdt9HDduHMaNG5frOu3atYOpqSn69euHTz75BM+fP8d3332Hx48fF/p2O3fujK1bt2LEiBHo1asXbt++jenTp8PFxQWXL1/WrtehQwc0bdoU48ePR2xsLF5//XWEh4djzZo1AAAjo1d7NRcsWIA333wTzZo1w/Dhw+Hu7o64uDhcuXIFO3fuzDK3qLCaNm2KDz/8EB988AFOnjyJ5s2bw8rKCpGRkfjjjz/g6+uba7HLTvXq1WFhYYF169bBx8cH1tbWqFSpkk5xz6xNmzZITU3F/v37sXr1au3ytm3bYurUqVCpVNnONcjM19cXBw8exM6dO+Hi4gIbGxvUrFmzQPmz069fP5w/fx6ff/45zpw5g6CgIHh5eSEtLQ23b9/G2rVrAeTv3emYMWOwZcsWNG/eHGPHjkWdOnWQlpaGW7duITg4GOPHj0fDhg1L5GejD5o0aQI7OzsMGzYMU6dOhVqtxrp163DmzBmd9c6ePYuRI0eid+/e8PLygqmpKQ4cOICzZ8/qjNLm9Nqbm06dOsHe3h6DBg3CZ599BhMTE6xatQq3b9/WWc/d3R3//e9/MX36dCQmJqJfv34oX748Lly4gIcPH2pfS319fbF161Z89913eP3112FkZIT69evD2dkZbdu2xaxZs2BnZwc3Nzfs379fuxsqP95++22sW7cOnTp1wscff4wGDRpArVbjzp07CA0NRdeuXdG9e/d8b08xJE6ULVabNm0S77zzjvDy8hLW1tZCrVaLqlWrivfee09cuHBBZ90bN26I9u3bCxsbm2zPI/LOO+8IBwcHoVarRc2aNcVXX32V7XlEvvrqqyw50md4px8ymy79uPPM0o/fz8zf318A0DkkMv1oBAcHB50Z/0IIcefOHdGzZ09hZ2cnbGxsRIcOHcRff/0l3NzcshyZMH/+fOHh4SGMjY2zzAYPCwsTgYGBwt7eXqjVauHq6ioCAwPF5s2b87yPOcl41ExuspvNvnPnTu15GVxdXcW//vUvsWfPniyz23N6HLM7WuOLL74Q7u7uwszMTPj4+Ihly5ZlOzM/JiZGfPDBB8LW1lZYWlqKdu3aaY/KyHgkkhCa58TAgQOFq6urUKvVwsnJSTRp0kTMmDEjz8chpyMZcnqcV6xYIRo2bCisrKyEhYWFqF69unj//ffFyZMnC/V4bNiwQXh7ewu1Wp3reUTSpaWlCUdHRwFA57wehw8fFgBEvXr18nW7ERERomnTpsLS0jLb84hkfjxyOqohJ7///rvo27evqFy5slCr1cLS0lLUqlVLDB8+XOexEiLnx0sIIeLj48XkyZO154VIP1R77NixOoflClH8P5vs5HYekcwy/zxzO2omp/t/5MgR0bhxY2FpaSmcnJzE4MGDxalTp3ReOx48eCCCgoKEt7e3sLKyEtbW1qJOnTpi3rx5Okfy5PTam9drxPHjx0WTJk2ElZWVcHV1FVOnTtUeYZj5PCJr1qwRb7zxhjA3NxfW1tbC399f5zUuJiZG9OrVS3t+poy/95GRkaJXr17C3t5elC9fXrz77rvi5MmTOZ5HJDvJycni66+/1r5uWVtbC29vbzF06FBx+fLlbK+jdCohhCiVxkNUBqxfvx79+/fH4cOHdSYLExFR4bCIEOVgw4YNuHv3Lnx9fWFkZISjR4/iq6++gr+/v/bwXiIiKpoyM0eEqLjZ2Nhg48aNmDFjBhISEuDi4oKgoCDMmDFDdjQiojKDIyJEREQkTZk7oRkREREZDhYRIiIikoZFhIiIiKRhESEiIiJpWESIiIhIGhYRIiIikoZFhIiIiKRhESEiIiJpWESIiIhIGhYRIiIikoZFhIiIiKRhESEiIiJpWESIiIhIGhYRIiIikoZFhIiIiKRhESEiIiJpWESIiIhIGhYRIiIikoZFhIiIiKRhESEiIiJpWESIiIhIGhYRIiIikoZFhIiIiKRhESEiIiJpWESIiIhIGhYRIiIikoZFhIiIiKRhESEiIiJpWESIiIhIGhYRIiIikoZFhIiIiKRhESEiIiJpWESIiIhIGhYRIiIikoZFhIiIiKRhESEiIiJpWESIiIhIGhYRIiIikoZFhIiIiKQxkR2AiEpWYiJw+zZw7x4QEwM8eaL5io0F4uOBhATN17NnQFoaYGQEqFSaf9O/VCrA2BiwsADs7HS/bG1f/b9iRcDKSvIdJiKDwiJCZOASEoDz54F//tEUjtu3gTt3Xv0/JqZ08zg4AO7ur748PF79v1o1TZkhIkqnEkII2SGIKG8vXgB//w389Zfu140bgKH8FhsZAV5egJ+f5qtuXc2/rq6ykxGRLCwiRHoqMhL44w/N1+HDwJkzQEqK7FQlw9FRU0jq1QOaNweaNQPKl5ediohKA4sIkZ64cOFV8fjjD+D6ddmJ5DEy0oyWtGih+WreXDMHhYjKHhYRIkmePQP27QN27QJ+/RW4e1d2Iv1lZAT4+gKtWwNvvaUZMTE2lp2KiIoDiwhRKbp1S1M8du0CQkOB589lJzJMDg5AYCDQrRsQEABYWspORESFxSJCVMJu3gTWrQM2bQLOnpWdpuyxsADatgW6dtV8OTrKTkREBcEiQlQCnjwBNm8GfvwROHTIcI5qMXRqtWakJChI868JT1BApPdYRIiKSXKyZq7H2rWaXS9JSbITKVuFCkD//sAHH2jmlxCRfmIRISqiu3eBxYuBZcuA6GjZaSg7/v6aQvLee5ozwRKR/mARISqkP/4AFi4Etm0ru+f3KGusrID33wdGjwa8vWWnISKARYSoQJKSgA0bgEWLgFOnZKehwlKpgPbtgfHjgXbtZKchUjYWEaJ8iI3VlI8FC7j7pazx9wcmTAD69OHkViIZWESIchEXpykf8+aV/ofHUeny8ACmTNHsuuHJ0ohKD4sIUTbi4jTzP+bOZQFRmpo1gU8/Bfr21ezCIaKSxSJClAELCKWrUweYPl1zSnkiKjksIkQAUlOB778Hpk7lHBDS1aABMGMGJ7USlRQWEVK8vXs1R09cuCA7CemzwEDNfKHq1WUnISpbjGQHIJLlasxVdFn/Fsb9O4ElhPK0ezdQu7ZmQmtiouw0RGUHiwgpzrPkZ5h8YDJqL66NXZd3wrjTONmRyEAkJWl20/j4AFu3yk5DVDZw1wwpytaLWzH2t7G49fSWzvLGx64jfI+7nFBksNq310xurllTdhIiw8UREVKER88eoc/mPuj5U88sJQQArr/RG5aW7ORUMMHBr46u4Wn+iQqHIyJU5u2+tBuDdw7G/fj7ua7X4sZ+hK1qXUqpqKypXx9Ys0az24aI8o8jIlRmxb+Ix5AdQ9B5Q+c8SwgAHHPrBdcqfFtLhXPyJFCvHvD110Bamuw0RIaDRYTKpEM3D8FviR+Wn16e7+s8Vz1G1V6LSjAVlXXPnwP/+hfQvDlw9arsNESGgbtmqExJSknC5AOTMffoXKSJwr0trfPrE5w9Xr6Yk5HSWFkBs2cDI0bITkKk3zgiQmVGxP0I1F9WH1+Hf13oEgIASW2HwciI/ZyKJiEB+OgjoHdvzUcHEFH2OCJCZcLSk0sxeu9ovEh9USzbezPiIv7Y7l0s2yKqUQPYsgV47TXZSYj0D0dEyKAlpyZj2K5hGLZ7WLGVEAD4268nypVnR6ficekS0LCh5qgaItLFIkIGKyohCm3WtMHSP5cW+7Yfqi7Av8+uYt8uKdezZ8CAAcCHH2rO0EpEGtw1Qwbpz3t/ovum7rgde7vEbsNEWKDyj09w46ppid0GKVO9eppdNe7uspMQyccRETI468+tR7OVzUq0hABAiioRjt1mlehtkDKdOqXZVXP8uOwkRPJxRIQMRppIw8SQifg6/OtSvd36B6Jw8nenUr1NUgYLC+DHH4EePWQnIZKHIyJkEJ48f4LA9YGlXkIA4FHzATAxYV+n4peYqDm8d+5c2UmI5OGICOm9yLhItFvbDuejz0vL0PzCKfz+k7+026eyb8QIzSf5GhvLTkJUulhESK/dfHITbda0wdXHcs+XXU5Uhfrb63j0kIOIVHICA4FNmzRnZSVSCr6qkt669OgSmq1sJr2EAECs6hZq9d4kOwaVcbt3A61aAY8fy05CVHo4IkJ66dyDc2i3th0eJDyQHUXLSKjhufkpLl2wkB2Fyjh/fyAkBHBwkJ2EqORxRIT0zvG7x9FiVQu9KiEAkKZKhmWXSbJjkAKcPg20bAlERclOQlTyOCJCeiXsRhi6bOiCuBf6+ylhDQ/fwbEQV9kxSAF8fID9+wEXF9lJiEoOR0RIb+y9shcd13XU6xICAHcb9YOZGfs7lbyLF4EWLYA7d2QnISo5LCKkF3b8swNdN3ZFYkqi7Ch5umN8CI16H5EdgxTi8mWgeXPg5k3ZSYhKBnfNkHS/3/wdAT8G4HnKc9lR8s1KVITN93dxP5InfaDS4ekJHD4MVKggOwlR8eKICEn1V9Rf6Lqxq0GVEABIUD1AtV7LZccgBblyBejQAYiNlZ2EqHhxRISkufX0Fpr80AR34+7KjlI4QoXaO2Jx/rS17CSkIK1aAXv2AGZmspMQFQ+OiJAUMYkx6PBjB8MtIQCgEkCHMVCp2OWp9ISGAv37A2lpspMQFQ8WESp1icmJ6Ly+My4+vCg7SpGdN/sBjTtdlx2DFGbLFs1n0xCVBSwiVKpS01LR9+e+CL8TLjtKsbn6ei9YWXFUhErX0qXAlCmyUxAVHYsIlaqhu4Zi56WdsmMUqwdGp1G/zz7ZMUiBZswAVq6UnYKoaDhZlUrN1NCp+Oz3z2THKBFmojycVkbjzi217CikMKammnkjTZrITkJUOBwRoVLxy9+/lNkSAgBJqqdw7blAdgxSoBcvgB49gFu3ZCchKhyOiFCJu/b4GuotrYenSU9lRylxdffGIOKonewYpED+/poTnlnww6HJwHBEhErU85Tn6PlTT0WUEAB41mYojI3Z7an0nT4NDB0qOwVRwbGIUIka+etIRNyPkB2j1FxSb0aTrhdkxyCFWrsWWLRIdgqiguGuGSoxqyJW4YNfPpAdo9TZixpIXXART5+w51PpMzEBwsI4eZUMB18pqUScuX8GI3Yr84xLMapL8OuzQ3YMUqiUFM2ZV/mZNGQoWESo2MUmxaLX5l5ITEmUHUWaIy7voJpXkuwYpFA3bgDDh8tOQZQ/LCJU7IK2B+FKzBXZMaRKUSXCrtt02TFIwdavB378UXYKorxxjggVq2+Of4NRe0bJjqE36oc+wMmwCrJjkEKVK6c5mqZaNdlJiHLGEREqNtcfX8e/9/1bdgy98rD5e1Cr2fVJjthYzXyRlBTZSYhyxiJCxebDXR8iITlBdgy9csM4GI17nJIdgxTs6FHgs7J7UmMqA1hEqFisOL0C+67xg9+yE+HdHY6OabJjkILNnAmcPCk7BVH2WESoyCLjIjE+eLzsGHorVnUb3n3WyY5BCpaaCnz4oeZfIn3DIkJFNuLXEXjy/InsGHrtsNMHqPnaM9kxSMFOnwbmzZOdgigrFhEqks3nN2P739tlx9B7QpUKs84TZccghZs6VXOOESJ9wiJChRaTGIORe0bKjmEwzpp/g0btb8uOQQr27BkwQpknPCY9xiJChTZm7xhEJUTJjmFQbjd8G+bmPJyX5NmzB9iwQXYKold4QjMqlOCrwQj4MUB2DIPU4urvCFvbTHYMUrAKFYC//wbs7GQnIeKICBVCmkjDhOAJsmMYrOPVusPFlWeYInmiojTzRYj0AYsIFdiaM2twLuqc7BgGK1H1CB69vpcdgxRuyRLg8mXZKYi4a4YK6HnKc3gt8sKd2Duyoxg2ocJru57irz9tZCchBevZE/j5Z9kpSOk4IkIFsuDoApaQ4qASSA0YCZWK7wNIni1bgCNHZKcgpeOICOVbTGIMqi+szpOXFaOmf17G4Z2esmOQgjVuzDJCcnFEhPLt898/ZwkpZpf8e8DGhu8FSJ7wcO6eIbk4IkL5cvPJTdT8piaSUpNkRylzWtzeg7AfOsiOQQrm6QlcuACo1bKTkBJxRITyZXLoZJaQEhJeuQ+quifLjkEKduUKsHy57BSkVCwilKeI+xFYd5afHltSXqji4NxjjuwYpHCzZwMpPL0NScAiQnmaEjoFAtyDV5KOl/sP/JvEyI5BCnbjBrB+vewUpEQsIpSrv6L+wu5Lu2XHUIS41oNgbMzCR/J88QXAWYNU2lhEKFdfHfmKoyGl5IrJdjTt/pfsGKRgFy8C27bJTkFKw6NmKEd3Yu+g2oJqSE7jRMrSYpfmCbHoHzx5zPcIJEf9+sCJE7JTkJLw1Y5yNC98HktIKXtsdAV1+myVHYMU7ORJIDhYdgpSEo6IULZik2JReW5lxL2Ikx1FcYyFGdw3PsHVf8xlRyGFatkSCA2VnYKUgiMilK0Vp1ewhEiSqkpC+a7TZMcgBTt4EPiL05WolLCIUBZCCHx74lvZMRTtlOUXaNDqvuwYpGBLlshOQErBIkJZ/Hr5V1yJuSI7huI9aPoeTE2555TkWLsWSEiQnYKUgEWEslh4fKHsCATgpsk+NOrJwxdIjthYYMMG2SlICVhESMeVmCsIuRoiOwa9dLpGDzhVSJUdgxSKu2eoNLCIkI51Z9fxBGZ6JE51FzV7r5EdgxTqzz81h/MSlSQWEdKx/i9+2IS+Oew4BN6+z2THIIXiqAiVNBYR0jp57yQuPbokOwZlIlSpUAdOkB2DFGrDBk5apZLFIkJa689xNERfnTP/Do073JQdgxTo2TNg507ZKagsYxEhAECaSMPGvzbKjkG5uPFGH1hYcP4Olb5Nm2QnoLKMRYQAAAeuH0BkfKTsGJSLSOPjaNAnTHYMUqA9ezSH8xKVBBYRAsDdMobimHsPVKqcIjsGKUxSEvDLL7JTUFnFIkJ4nvIcWy5ukR2D8uG56jHcen0nOwYp0E8/yU5AZRWLCGH3pd2ITeK4q6EItx2NOm88lR2DFCY4GHjyRHYKKotYRIjnDjFAL9qPgJERJ65S6XnxAti2TXYKKotYRBQuJS0FwVeDZcegAvpbvR5NuvCcL1S6WESoJLCIKNzRO0cR/yJedgwqhL/9esLGhqMiVHoOHgSSk2WnoLKGRUTh+AF3huuh0Xn49/1VdgxSkLg44MgR2SlKnkqlwvbt2/O9/qpVq2Bra1tiefTV9u3b4enpCWNjY4wZMybHZXlhEVG4fdf3yY5ARRDu2hdu1V7IjkEKElwMe3KDgoKgUqmgUqlgYmKCqlWrYvjw4Xj8+HHRN14MIiMj0bFjx3yv37dvX1y6VPK7SletWqV93FQqFSpWrIguXbrg/PnzJX7b2Rk6dCh69eqF27dvY/r06TkuywuLiILFJsXi+N3jsmNQESSrElCh+2zZMUhBfvuteLbToUMHREZG4saNG1i+fDl27tyJESNGFM/Gi8jZ2RlmZmb5Xt/CwgIVKlQowUSvlCtXDpGRkbh37x52796NhIQEBAYG4sWL0n1DEh8fj6ioKAQEBKBSpUqwsbHJdll+sIgo2MEbB5GSxpNjGboTNlPw+psPZccghTh9GnhYDE83MzMzODs7o3Llymjfvj369u2L4EzDLStXroSPjw/Mzc3h7e2NxYsXay+7ceMGVCoVfvrpJzRr1gwWFhZ44403cOnSJZw4cQL169eHtbU1OnTogOjoaO31Tpw4gXbt2sHR0RHly5dHixYtcOrUKZ3bzbhrJv12tm7dilatWsHS0hJ+fn4IDw/Xrp9518ynn36KunXrYu3atXB3d0f58uXx9ttvIy4uTrtOXFwc+vfvDysrK7i4uGDevHlo2bJlnrszVCoVnJ2d4eLigvr162Ps2LG4efMm/vnnH53bzmj+/Plwd3fXfh8UFIRu3brh66+/houLCxwcHPDRRx8hOcMEoMePH+P999+HnZ0dLC0t0bFjR1y+fBkAcPDgQW3JaN26NVQqVY7L8oNFRMH2XeNumbLiScuBMDHhxFUqeWlpQEgxTy27du0a9u7dC7VarV22bNkyTJo0CZ9//jkuXryImTNnYsqUKVi9erXOdadOnYrJkyfj1KlTMDExQb9+/fDJJ59gwYIFOHToEK5evYr//e9/2vXj4uIwYMAAHDp0CEePHoWXlxc6deqkUxKyM2nSJEyYMAERERGoUaMG+vXrh5SUnN/IXb16Fdu3b8euXbuwa9cuhIWF4YsvvtBePm7cOBw+fBg7duxASEgIDh06lKUQ5eXJkydYv15z+oWMj11+hIaG4urVqwgNDcXq1auxatUqrFq1Snt5UFAQTp48iR07diA8PBxCCHTq1AnJyclo0qSJtvhs2bIFkZGROS7LD5MCJacyJeQaJ6qWFVdNdqJ5t7P4/Wc/2VFIAYKDgX79iraNXbt2wdraGqmpqXj+/DkAYO7cudrLp0+fjjlz5qBHjx4AAA8PD1y4cAFLly7FgAEDtOtNmDABAQEBAICPP/4Y/fr1w/79+9G0aVMAwKBBg3T+wLZu3Vonx9KlS2FnZ4ewsDB07tw5x7wTJkxAYGAgAGDatGmoXbs2rly5Am9v72zXT0tLw6pVq7SjBO+99x7279+Pzz//HHFxcVi9ejXWr1+PNm3aANCM/lSqVCnPx+3p06ewtraGEALPnj0DALz11ls55siJnZ0dvvnmGxgbG8Pb2xuBgYHYv38/hgwZgsuXL2PHjh04fPiwtkysW7cOVapUwfbt29G7d2/trih7e3s4OzsDQLbL8oMjIgp1N/Yu/n74t+wYVIzO1OoGe4c02TFIAUJDi76NVq1aISIiAseOHcOoUaMQEBCAUaNGAQCio6Nx+/ZtDBo0CNbW1tqvGTNm4OrVqzrbqVOnjvb/FStWBAD4+vrqLIuKitJ+HxUVhWHDhqFGjRooX748ypcvj/j4eNy6dSvXvBlvx8XFRbutnLi7u+vMkXBxcdGuf+3aNSQnJ6NBgwbay8uXL4+aNWvmmgEAbGxsEBERgT///BNLlixB9erVsWTJkjyvl1nt2rVhbGycbb6LFy/CxMQEDRs21F7u4OCAmjVr4uLFiwW+rbxwREShuFum7HlqdAPNem/GoSV9ZUehMu7mTSAyEnj597hQrKys4OnpCQBYuHAhWrVqhWnTpmH69OlIS9MU6mXLlun8MQSg88cT0N0loVKpsl2Wvj1As8shOjoa8+fPh5ubG8zMzNC4ceM8J3tmdzsZt5vb+plzCCF0tpMufXlujIyMtI+bt7c37t+/j759++L333/XXp55O8nZnPwlP/kyE0JkyVwcOCKiUAdvHpQdgUrA4YrvwdP7uewYpAAZ5moWi6lTp+Lrr7/GvXv3ULFiRbi6uuLatWvw9PTU+fLw8CjS7Rw6dAijR49Gp06dULt2bZiZmeFhccy+LYDq1atDrVbj+PFXRy3GxsZqJ4MWxNixY3HmzBlse3naWycnJ9y/f1+nTERERBRom7Vq1UJKSgqOHTumXfbo0SNcunQJPj4+Bc6YFxYRhTodeVp2BCoBaapk2Lw1RXYMUoDiLiItW7ZE7dq1MXPmTACaoz9mzZqFBQsW4NKlSzh37hxWrlypM4+kMDw9PbF27VpcvHgRx44dQ//+/WFhYVEcdyHfbGxsMGDAAPzrX/9CaGgozp8/j4EDB8LIyKjAIw7lypXD4MGDMXXqVAgh0LJlS0RHR2P27Nm4evUqvv32W+zZs6dA2/Ty8kLXrl0xZMgQ/PHHHzhz5gzeffdduLq6omvXrgXaVn6wiChQcmoyLj4s/v18pB9OW36NBm0iZcegMi7Dm+ViM27cOCxbtgy3b9/G4MGDsXz5cqxatQq+vr5o0aIFVq1aVeQRkRUrVuDx48fw9/fHe++9h9GjR5faOUAymjt3Lho3bozOnTujbdu2aNq0qfZQ5YL6+OOPcfHiRWzevBk+Pj5YvHgxvv32W/j5+eH48eOYMGFCgbe5cuVKvP766+jcuTMaN24MIQR+/fXXAh+dkx8qkZ+dUlSmnLl/BnWX1pUdg0pQ1dRWeDB7P5KSin9/LhEAWFsDT58CRnw7WywSEhLg6uqKOXPmYNCgQbLjlCo+hRTozIMzsiNQCbtlHIpGvY7KjkFlWHw88PK0EVQIp0+fxoYNG3D16lWcOnUK/fv3B4AS2fWh71hEFOjMfRYRJTjp2R0VnVNlx6Ay7ORJ2QkM29dffw0/Pz+0bdsWCQkJOHToEBwdHWXHKnU8fFeBIh5EyI5ApSBB9QB1e6/Eg0WDZUehMurMGeC992SnMEz+/v74888/ZcfQCxwRUSCOiCjHYfsP4eOXIDsGlVHcNUPFgUVEYe7G3sWjxEeyY1BpUQkYdxorO4WBuQvgXQAOACwB1AWQ8Z2rAPApgEoALAC0BJCfj2HfAqAWALOX/27LdPk6AFUA2AP4V6bLbgCoASA2n/ehdLCIUHFgEVGYiPsRsiNQKfvLbBmadLouO4aBeAygKQA1gD0ALgCYA8A2wzqzAcwF8A2AEwCcAbQDkNuHpoUD6AvgPQBnXv7bB0D6MbAPAQwG8DWA3wCsBrA7w/WHA/gCQLnC3rEScf06kM1JO4kKhEVEYXjEjDJdq98bVlY8Uj9vX0IzKrESQAMA7gDaAKj+8nIBYD6ASQB6AHgNmtLwDMD6XLY7H5qy8h8A3i//bfNyOQBcA1AemrLyBoBW0JQgvNyu6cvb0y8pKcC1a7JTkKFjEVGYfx5xLFWJ7hv9ifp9DsiOYQB2AKgPoDeACgD8ASzLcPl1APcBtM+wzAxACwBHctlueKbrAEBAhut4QVNmTgOIgWakpc7L//8PmtEX/cTdM1RULCIKczf2ruwIJMmxqr3hWiVFdgw9dw3Ad9AUg98ADAMwGsCal5fff/lvxUzXq5jhsuzcz+M6dtCMrLwPzUjM+9AUlQkARkFTgPyhGYH5uSB3qMSxiFBR8fBdhbkbxyKiVM9Vj1Gl5yLcnc/JqzlLg2ZEZObL7/2hmYj6HTTlIF3mM9aKbJZlltd1ur/8SncQwDloRkM8AWyAZj5KAwDNoRmxkY9FhIqKIyIKwxERZTtqOw5+DZ7IjqHHXKA5oiUjHwC3Xv7f+eW/mUc/opB1xCMj5wJeJwnACABLAVwBkALN7p+a0Bw9UwIf9FJIV6/KTkCGjkVEQeKS4hD3IreZ/aQEie2GwsiIE1ez1xRA5rf4lwC4vfy/BzSlIiTD5S8AhAFokst2G2e6DgAE53Kd6QA6AqgHIBWaIpIu+eUy/XA/tz1SRPnAIqIg3C1DAHBJ/ROadv1bdgw9NRbAUWh2zVyB5oiV7wF89PJyFYAxLy/fBuAvAEHQnG/knQzbeR+aI2PSfQxN8fgSwN8v/933cluZnQewCcBnL7/3hual+gdoDun9G5oja/QDiwgVFeeIKAh3y1C6i3V6odyBvxD7lJ/Oq+sNaArGf6ApAh7QHGLbP8M6nwBIhGbXyWMADaEpGTYZ1rkF3fd5TQBsBDAZwBRoDgfe9PK6GQkAHwKYB8Dq5TILAKugKUNJ0MwZcS3sHSx2T54ASUmAmZnsJGSoVEIIjtEqxJozazBg+wDZMUhPNL/7C35f9pbsGFQG3LwJVK0qOwUZKu6aURCOiFBGRyq9DffqL2THoDLgwQPZCciQsYgoCOeIUEYpqkQ4dp+Z94pEeWARoaJgEVEQFhHK7KT1NNRvHi07Bhk4TlilomARUZDHiY9lRyA99Kj5AJiYcKoYFV5UlOwEZMhYRBTkRSrnA1BW1032oEmPCNkxyIA9eyY7ARkyFhEFSUpNkh2B9FSETzc4OKbJjkEG6vlz2QnIkLGIKEhSCosIZS9WdQu1+myQHYMMFIsIFQWLiIJwRIRyc9jpA9SolSg7BhmgRD5tqAhYRBSEc0QoN2mqZFh2mSQ7BhkgjohQUbCIKAh3zVBeIizmoWFbHuZNBcMRESoKFhEF4a4Zyo+7jfvB3JyH81L+cUSEioJFREE4IkL5ccf4EBr2OiI7BhkQFhEqChYRBeEcEcqve25zZUcgA2JsLDsBGTIWEYVITUtFqkiVHYMMhE1yDdkRyICYmclOQIaMRUQhjFRGMFLxx035Y5noJTsCGRAWESoK/mVSCJVKBWtTa9kxyEAYx1eVHYEMCIsIFQWLiILYmNrIjkAGIi3WRXYEMiCmprITkCFjEVEQGzMWEcqf5zEOsiOQAeGICBUFi4iCcESE8iv+EZ8rlH8sIlQULCIKwhERyq9HD8xlRyADwiJCRcEioiDlzMrJjkAGwFiY4WE0Xxoo/8qXl52ADBlfbRSEu2YoPyqk+SEtTSU7BhmQChVkJyBDxiKiICwilB/2Kb6yI5CBcXKSnYAMGYuIgnCOCOWHTVJN2RHIwHBEhIrCRHYAKj16P0fkEID9ABoC6PhymQBwEMCfAJ4DcAUQCCCvF74LAA4AeAzADkAbAD4ZLj8LYB+AFwDqAWif4bLHANYC+BCAAudsmiZUkx2BDAyLCBUFR0QUxMVaj09SdReaslEx0/LDAMIBdAIwBIA1gDUAcvsg4dsANgPwAzDs5b+bAdx5eXkCgB3QlI/3AEQAuJTh+rsBtIUiSwgAqOIqy45ABoZFhIqCRURBqtnp6TvdJABbAHSB7h9/AeAogOYAakFTUroDSAZwLpftHQVQHUAzAE4v//V4uRzQjHiYAXgNmhEWDwDRLy87C8D45e0pVPIT/lWh/DM15VEzVDQsIgriYechO0L2fgVQA5rykNFjAPGZlpsAcIdm1CMnt7PZlmeG6zhAU2YiATyDZjSm4sv/h0Iz+qJgz2JsZUcgA8KJqlRUnCOiIJXLVYapsSlepL6QHeWVc9AUgiHZXBb/8l+rTMutADzNZZvxOVwnfXsW0IysbIOmkPhBU1S2QzM/5TGADQBSAbQEUDvPe1GmPInK/OAR5awy9+RREbGIKIiRyghVy1fFlZgrsqNoPAWwF5p5Gupc1ivMKS3yuo4PdCevXgcQBc1oyEIAvaCZj7IMgNvL/ytE9IPcfhhEury8ZCcgQ8ciojDV7KrpTxG5B83E0aUZlgkANwEcBzDq5bJ4ABmPPE5A7sXAGq9GP/JznRRoJqj2ABADIA2a3T+AZjfOXQAKOaK1nKiC2ASezIzyj0WEiopFRGGq2erRhNVqAIZnWvYLAEcATaE57NYawFUA6Qf8pAC4AaBdLtut8vI6jTMsu/pyeXbCAHgBqATNbqK0DJelZvq+jHNKrYtY2SHIoLCIUFFxsqrC6NWEVTNoJolm/FJDM4ejIjS7VxpBc36RiwAeQDOPQw0g48k/t0JzTpB0DaEpHn9AczTMHwCuvdxWZlEAzgNo9fJ7x5e3ewqaQ3ofQnNkjUKUf6Hgw4WoUFhEqKg4IqIwensIb06aQjOhdDeARACVoZlTkvHTPp9Cd05IVWjmeBx4+WX/8vvMk+oEgJ0AAgCYvlymBtANmiN5UqCZM6Ln54ErThaJnrIjkIFhEaGiYhFRGA9bPRoRyc4Hmb5XQTNa0SqbdXO6DqA50iWvo11UAAZls7wmFDMnJDOTBDfZEciAODnxHCJUdNw1ozDV7TOfYIPolbSnenz2XdI7HA2h4sAiojC25raoXI4H/lP2kh47yI5ABsTHJ+91iPJiUEVEpVJh+/btJX477u7umD9/fo6XBwUFoVu3biWeo6TUc6knOwLpqbiHCpoQQ0VWv77sBFQWFKiIBAUFQaVSQaVSwcTEBFWrVsXw4cPx+PHjfG/jxo0bUKlUiIiIKGhWREZGomPHjnmvaMBCQ0PRuXNnODk5wdzcHNWrV0ffvn3x+++/a9c5ePAgVCoVnjx5UqjbeN3l9WJKS2XNowcK/aQ/KpQ33pCdgMqCAo+IdOjQAZGRkbhx4waWL1+OnTt3YsSIESWRLQtnZ2eYmZnlvaKBWrx4Mdq0aQMHBwds2rQJFy9exNq1a9GkSROMHTu22G6HRYSyYyzM8DDaoAZJSSIzM8DXN+/1iPJS4FcdMzMzODs7o3Llymjfvj369u2L4OBgnXVWrlwJHx8fmJubw9vbG4sXL9Ze5uGhOWrD398fKpUKLVu2BACcOHEC7dq1g6OjI8qXL48WLVrg1KlTOtvNuGsmfWRl69ataNWqFSwtLeHn54fw8HCd6xw5cgTNmzeHhYUFqlSpgtGjRyMhIUF7eVRUFLp06QILCwt4eHhg3bp1+X4spk2bhgoVKqBcuXIYOnQoXrzQfIbLmjVr4ODggKQk3c+q79mzJ95///1st3Xr1i2MGTMGY8aMwerVq9G6dWt4eHigSZMm+Pjjj3Hy5Ml858rL65VYRCgrJ+GLtDSeVZXyp04dzSfvEhVVkd7+XLt2DXv37oVa/eqzKZYtW4ZJkybh888/x8WLFzFz5kxMmTIFq1evBgAcP34cALBv3z5ERkZi69atAIC4uDgMGDAAhw4dwtGjR+Hl5YVOnTohLi4u1wyTJk3ChAkTEBERgRo1aqBfv35ISUkBAJw7dw4BAQHo0aMHzp49i02bNuGPP/7AyJEjtdcPCgrCjRs3cODAAfz8889YvHgxoqKi8rzv+/fvx8WLFxEaGooNGzZg27ZtmDZtGgCgd+/eSE1NxY4dO7TrP3z4ELt27cIHH2R3rCmwZcsWJCcn45NPPsn2cpWq+P5AOFs7c8IqZeGQXEd2BDIgnB9CxaXARWTXrl2wtraGhYUFqlevjgsXLmDixInay6dPn445c+agR48e8PDwQI8ePTB27FgsXar5QBGnl58Z7eDgAGdnZ9jb2wMAWrdujXfffRc+Pj7w8fHB0qVL8ezZM4SFheWaZ8KECQgMDESNGjUwbdo03Lx5E1euaD5L5auvvsI777yDMWPGwMvLC02aNMHChQuxZs0aPH/+HJcuXcKePXuwfPlyNG7cGK+//jp++OEHJCYm5vk4mJqaYsWKFahduzYCAwPx2WefYeHChUhLS4OFhQXeeecdrFy5Urv+unXrULlyZe0IUGaXLl1CuXLl4OzsrF22ZcsWWFtba7/OnTuXZ678aly5cd4rkaJYJyn05ClUKJwfQsWlwEWkVatWiIiIwLFjxzBq1CgEBARg1CjNp5NFR0fj9u3bGDRokM4f0BkzZuDq1au5bjcqKgrDhg1DjRo1UL58eZQvXx7x8fG4detWrterU+fVuzgXFxfttgDgzz//xKpVq3SyBAQEIC0tDdevX8fFixdhYmKC+hmqvbe3N2xtbfN8HPz8/GBpaan9vnHjxoiPj8ft27cBAEOGDEFwcDDu3r0LQLO7Kn2yb04yXxYQEICIiAjs3r0bCQkJSE1NzTNXfjWp0qTYtkVlg9kzAzvrLknFIkLFpcBnVrWysoKnp+Y00AsXLkSrVq0wbdo0TJ8+HWlpmk8HW7ZsGRo2bKhzPWNj41y3GxQUhOjoaMyfPx9ubm4wMzND48aNtfMucpJxt1D6H/L0HGlpaRg6dChGjx6d5XpVq1bFP//8o3O94pC+LX9/f/j5+WHNmjUICAjAuXPnsHPnzhyv5+XlhadPn+L+/fvaURFra2t4enrCxKT4T4DLIkKZqeK4u47yx8aG5xCh4lPkKfJTp07F119/jXv37qFixYpwdXXFtWvX4OnpqfOVPknV9OXspszv7g8dOoTRo0ejU6dOqF27NszMzPDw4cMiZatXrx7Onz+fJYunpydMTU3h4+ODlJQUnYmg//zzT74Oiz1z5ozOLpyjR4/C2toalSu/ejEfPHgwVq5ciRUrVqBt27aoUiWnj38FevXqBbVajS+//LJwd7aA/J39YWFiUSq3RYYh5UkF2RHIQDRvDuTx3pIo34pcRFq2bInatWtj5syZAIBPP/0Us2bNwoIFC3Dp0iWcO3cOK1euxNy5cwEAFSpUgIWFBfbu3YsHDx7g6dOnAABPT0+sXbsWFy9exLFjx9C/f39YWBTtD+XEiRMRHh6Ojz76CBEREbh8+TJ27Nih3ZVUs2ZNdOjQAUOGDMGxY8fw559/YvDgwfm63RcvXmDQoEG4cOEC9uzZg6lTp2LkyJEwMnr1kPbv3x93797FsmXLMHDgwFy3V7VqVcyZMwcLFizAgAEDEBoaihs3buDUqVNYuHAhgLxHlQpCbaxGA9cGxbY9MnwJMXayI5CBaN1adgIqS4rlpAHjxo3DsmXLcPv2bQwePBjLly/HqlWr4OvrixYtWmDVqlXaERETExMsXLgQS5cuRaVKldC1a1cAwIoVK/D48WP4+/vjvffew+jRo1GhQtHeodWpUwdhYWG4fPkymjVrBn9/f0yZMkU7lwTQzN2oUqUKWrRogR49euDDDz/M1+22adMGXl5eaN68Ofr06YMuXbrg008/1VmnXLly6NmzJ6ytrfN1JtZRo0YhODgY0dHR6NWrl/bIoevXr2Pv3r3wLeaD9jt4dijW7ZFhexJlJTsCGYhWuX0IJVEBqYQQQnaIsqxdu3bw8fHRjmrok7+i/oLvdzwjEWlYfZWGhASeR4Ry5+gIREUBxTi1jhSOp1EsITExMdi4cSMOHDiAjz76SHacbL1W4TW427rLjkF6oJyowhJC+dKuHUsIFS8WkRJSr149DB06FF9++SVq1tTf8zMEegXKjkB6wDHFT3YEMhABAbITUFlT/MeFEgDNKegNQecanfHtiW9lxyDJyifzWEzKm0rFIkLFjyMiCtfKvRWs1JykqHSWiV6yI5AB8PcHMpz8mahYsIgonJmJGdpUayM7BklmkuAmOwIZgN69ZSegsohFhNDZq7PsCCSZiHXJeyVSPBYRKgksIoTAGoFQgdPglez5Y0fZEUjP+fsD1avLTkFlEYsIoZJNJfi7+MuOQRLFPSwnOwLpOY6GUElhESEAQC+fXrIjkEQxD8xlRyA9xyJCJYVFhAAA7/u9D2MVP8VKiYyFGaKj+FJAOatbF3j5oetExY6vPgQAcC3nigBPniBAiZyEL9LSOEeIcsbRECpJLCKkNbBu7p8QTGWTQ3Id2RFIj6lUQL9+slNQWcYiQlpv1XwLTpZOsmNQKbNKqiE7Aumxtm2Blx+eTlQiWERIS22sxrt13pUdg0qZ+bNqsiOQHvvwQ9kJqKxjESEdg/wHyY5ApUwVV1l2BNJTFSsCXbvKTkFlHYsI6ahdoTYauDaQHYNKUcrTCrIjkJ764ANArZadgso6FhHKgpNWleXZIzvZEUgPqVTAkCGyU5ASsIhQFv18+8FSbSk7BpWSJ9H89GXKqk0boBqnD1EpYBGhLMqZlUPf2n1lx6BSEn3fVHYE0kNDh8pOQErBIkLZ+qTpJzBS8elR1tkIV8TH82RmpMvDA+jeXXYKUgr+paFseTt6o7s3X4nKOqfUurIjkB4aPx4w5ic+UClhEaEc/bfZf2VHoBJW/kUt2RFIz1SoAAzkfHUqRSwilKN6LvUQUJ2fP1OWWSZ6yY5Aemb0aMDCQnYKUhIWEcrVpGaTZEegEmSSUFV2BNIjNjbARx/JTkFKwyJCuWrm1gxvVn1TdgwqISLWRXYE0iPDhgG2trJTkNKwiFCe/vsm54qUVUmPHWVHID1hZgaMHSs7BSkRiwjlqaNXR9RzqSc7BpWAuIflZEcgPTFoEODCATKSgEWE8uU/b/5HdgQqATFRnJVIgLU1MHWq7BSkVCwilC89fHqgTsU6smNQMTISakRH8SWAgAkTNIftEsnAVyHKFyOVEeYFzJMdg4pRBVEHqak8q6rSVayoOYEZkSwsIpRvrT1a82yrZYh9iq/sCKQHpk7V7JohkoVFhApkTvs5MDM2kx2DioHNc2/ZEUiyGjWAIUNkpyClYxGhAvGw88C4xuNkx6BiYPaMn/GudDNnAiYmslOQ0rGIUIH9t9l/4WLN4/wMnSqusuwIJFHTpkDPnrJTELGIUCFYm1pjVptZsmNQESU/5WESSmViAnz3newURBosIlQo7/u9jwauDWTHoCJIjLGTHYEkGTcO8OVcZdITLCJUKCqVCgs6LIAKPPzTUD2NtpIdgSRwd+fJy0i/sIhQoTWq3Aj96/SXHYMKKfq+qewIJME33wCWlrJTEL3CIkJFMi9gHipaVZQdgwrIWrggLo6jWUrTsycQGCg7BZEuFhEqEkdLRyzrskx2DCogp9S6siNQKbOxARYskJ2CKCsWESqyLjW7YGDdgbJjUAHYvqgtOwKVslmzAFdX2SmIsmIRoWIxv8N8uNu6y45B+WT53Et2BCpFAQHAiBGyUxBlj0WEioWNmQ1Wd1sNIxWfUobAJN5NdgQqJY6OwKpVgIpTgkhP8a8GFZvmbs0xpuEY2TEoH0Qsz4yrFMuXA87OslMQ5YxFhIrV520+Ry2nWrJjUB6SHjvKjkClYMgQoGtX2SmIcsciQsXK3MQca7uvhdpILTsK5SLuYTnZEaiEeXkB8+bJTkGUNxYRKnb1XOphSvMpsmNQLmKiLWRHoBJkYgL8+CNgxZPnkgFgEaESMan5JHT07Cg7BmXDSKgR/YC/+mXZzJlAA34UFBkIvhpRiTBSGWF9z/XwsudhovrGSbyG1FQeQlFW9e0L/OtfslMQ5R+LCJUYW3Nb/PL2L7AxtZEdhTKwT+HHrpZVdeoAK1bITkFUMCwiVKJ8nHywrsc6fkqvHrFJ8pYdgUqAvT2wbRs/0I4MD4sIlbguNbvgs1afyY5BL5k/qy47AhUzY2NgwwagWjXZSYgKjkWESsWkZpPQ06en7BgEQBVXWXYEKmaffw60by87BVHhsIhQqVCpVFjdbTV8K3B+gmwpTyrKjkDFqG9fYOJE2SmICo9FhEqNlakVtr+9HfYW9rKjKNqzGDvZEaiYvPmm5nNkiAwZiwiVqmp21bClzxaYGZvJjqJYT6N5lquywNsb+OUXwNxcdhKiomERoVLX0r0lNvfeDBMjE9lRFCn6vqnsCFREzs7Anj2aI2WIDB2LCEnRpWYXrO2+FkYqPgVLk5WoiLg4HkptyGxtgd9+A9zdZSchKh78K0DSvP3a21jaeSnPMVKKKqT6y45ARWBhAezcqTlxGVFZwSJCUg2uNxhzA+bKjqEY5ZNryY5AhWRiAvz0k2aCKlFZwiJC0o1pNAafteQJz0qDVSI/+8cQqdWaEtK5s+wkRMWPRYT0wpQWU/CvJvykrpJmkuAuOwIVkKkp8PPPQPfuspMQlQwWEdIbs9vNxrDXh8mOUaaJ2EqyI1ABmJkBW7YAb70lOwlRyWERIb2yOHAxBvkPkh2jzEp67Cg7AuWTmZnmQ+y4O4bKOhYR0isqlQrL31rO3TQlJP5hOdkRKB/MzTUnK+vYUXYSopLHIkJ6aXa72fiizReyY5Q5j6IsZEegPFhZaQ7RDQiQnYSodLCIkN6a+OZEfN/5e570rJgYCTWiH/Cx1GfOzkBYGNC2rewkRKWHr0qk14a8PgRb+myBhQnfyReVY1ptpKby5HH6yscHCA8HXn9ddhKi0sUiQnqvm3c3hA4IhZOlk+woBs0h1Vd2BMpB8+bA4cM8bTspE4sIGYSGlRsifFA4vOx5Qq7Csknylh2BstGvHxAcDNjZyU5CJAeLCBmM6vbVcWTQETSt0lR2FINk/qya7AiUycSJwLp1mkN1iZSKRYQMiqOlI0IHhGJ0g9GyoxgcVXwV2RHoJQsLYPVq4IsvABWn7ZDCsYiQwVEbq7Gg4wJs6rUJNqY2suMYjJQnFWVHIADVqwNHjwLvvy87CZF+YBEhg9Wndh+cGHICr1V4TXYUg5AYw0kIsnXpApw8CdSpIzsJkf5gESGDVtOxJo4NPoZ367wrO4reexJtLTuCYhkZAZ9/rjlbqq2t7DRE+oVFhAyepdoSa7uvxZLAJTAz5qy/nDy8byo7giI5OgK//Qb897+cD0KUHRYRKjOG1h+KI4OOwMPWQ3YUvWMlKiI2ln8FS1v79kBEBM+USpQbFhEqU+q51MOpoafQp3Yf2VH0SoVUf9kRFMXSEvj2W81IiKur7DRE+o1FhMocW3NbbOq1Cdv6boOLtYvsOHqh/ItasiMoRuPGwJkzwIgRspMQGQYWESqzunl3w4WPLmCQ/yDZUaSzTPKUHaHMMzUFZs4EDh0CPPlwE+UbiwiVabbmtlj+1nLse2+foueOqOPdZUco0/z8gOPHgf/8BzA2lp2GyLCwiJAitKnWBn+N+AtjGo6BkUp5T3sRW0l2hDKpXDlg3jzgzz81ZYSICk55r8ikWJZqS8zrMA9HBh5BbafasuOUqqQnjrIjlDnvvAP8/TcwZgxHQYiKgkWEFKdh5YY4NfQUZrSaoZhTxMc/LC87QplRqxYQGqr5sDoXzoUmKjIWEVIkU2NTTGo+CVdGX8HIN0ZCbaSWHalExUSZy45g8Kytga++0pwXpGVL2WmIyg6VEELIDkEk25WYK5h0YBI2n98MgbL1K6ESxjD+PBkpKTyhWWGYmgIffghMngxU5OcGEhU7jogQAfC098SmXptwbPAxtHRvKTtOsXISr7GEFIKRkeYTcv/5B1i0iCWEqKSwiBBl8IbrGwgdEIpf3/kVvhV8ZccpFg4p/KjXgureHTh3Dli9GnB3l52GqGxjESHKRkevjogYFoFVXVfB096wz05lk+QtO4LBaNsWOHYM2LpVMymViEoeiwhRDoxURhhQdwD+GfkPtvXdhmZVm8mOVChmz6rJjqDXTEyAt98GTp4EQkKABg1kJyJSFhYRojwYqYzQzbsbfv/gd5wYcgL9XusHEyMT2bHyzSi+suwIesnaWnMOkCtXgA0bgNdfl52ISJl41AxRIdyJvYOFxxZi2allePL8iew4uXrz1CX8scNLdgy9UakSMHo0MHQoYGsrOw0RsYgQFUH8i3isOL0CC44twLXH12THyVa9kIc4ddhBdgzpWrYEhgwBevcG1GX7tDFEBoVFhKgYpIk07Lu2D+vOrcO2i9sQ9yJOdiSt6hsScfUfZZ7QrGJFYMAAYPBgwIuDQkR6iUWEqJglJidi56WdWHduHfZc3oPktGSpecrNS0PsU+WcR8TMDOjSBQgKAgICNJNRiUh/sYgQlaCYxBhsPr8Z6/9aj0M3D5X6WVsthROeTYsq1duUwdwcaNdOc/6Pbt0AOzvZiYgov1hEiErJ7ae3seGvDfjp/E84FXmqVEqJe2p73Jj+W4nfjgzlygGBgZry0bGj5igYIjI8LCJEEjx89hD7r+1HyLUQ7Lu2Dzef3iyR26mbOBYRX84tkW3L4O7+auSjTRvN58AQkWFjESHSA5cfXUbItRCEXAtB6PVQPE16WizbbfJ4MY4sGF4s25KhcmWgVatXXzzdOlHZwyJCpGdS01Jx4t4JhFwNQfidcJx5cAb34u4Valstbv+KsB86FnPCkqFSAdWrA2+88ap4eBr22fWJKB84n5xIzxgbGaNR5UZoVLmRdll0QjQi7kfgzIMz2n//fvg3UtJSct2WiHUp6biFYmKi+SyXevUAf3/Nl5+fZt4HESkLR0SIDFRSShLOR5/XFJP7Z3D18VXcenoLt57e0u7aaXT4No6GyDnFu7GxZtdKtWqAh8erf2vWBF57TXOYLRERiwhRGfT0+VPcenoLkRfdceeaDSIjgfv3gagoIC4OSEgA4uM1X+n/T0gAUjIMsKhUmjJhbKwZwUj/18YGcHAA7O2z/9fFRVM6qlblGUyJKG8sIkSk9eLFqwJixI/EJKJSwCJCRERE0vA9DxEREUnDIkJERETSsIgQERGRNCwiREREJA2LCBEREUnDIkJERETSsIgQERGRNCwiREREJA2LCBEREUnDIkJERETSsIgQERGRNCwiREREJA2LCBEREUnDIkJERETSsIgQERGRNCwiREREJA2LCBEREUnDIkJERETSsIgQERGRNCwiREREJA2LCBEREUnDIkJERETSsIgQERGRNCwiREREJA2LCBEREUnDIkJERETSsIgQERGRNCwiREREJA2LCBEREUnDIkJERETSsIgQERGRNCwiREREJA2LCBEREUnDIkJERETSsIgQERGRNCwiREREJA2LCBEREUnDIkJERETSsIgQERGRNCwiREREJA2LCBEREUnDIkJERETSsIgQERGRNP8H8P/el/Zl9iwAAAAASUVORK5CYII=",
          "text/plain": "<Figure size 600x400 with 1 Axes>"
         },
         "metadata": {},
         "output_type": "display_data"
        },
        {
         "name": "stdout",
         "output_type": "stream",
         "text": "🌧️ Design Storm Volume: 50.0 m³\n📏 Catchment Area: 1000 m²\n🌿 Total Green Infrastructure Area: 800 m²\n💧 Estimated Volume Retained: 20.0 m³\n🚿 Net Runoff After GI Treatment: 30.0 m³\n"
        }
       ]
      }
     },
     "a06d5a8d86bb4e3893af6bd89debd027": {
      "model_module": "@jupyter-widgets/controls",
      "model_module_version": "2.0.0",
      "model_name": "FloatSliderModel",
      "state": {
       "behavior": "drag-tap",
       "description": "Rainfall (mm)",
       "layout": "IPY_MODEL_14c648eafe2f4bb39f32b204ad032bc0",
       "max": 150,
       "min": 10,
       "step": 5,
       "style": "IPY_MODEL_62fd2b5d000244dbbb7e16d70422d27f",
       "value": 50
      }
     },
     "a14d280041f840cd8e20f1fd44752f0b": {
      "model_module": "@jupyter-widgets/controls",
      "model_module_version": "2.0.0",
      "model_name": "IntSliderModel",
      "state": {
       "behavior": "drag-tap",
       "description": "Rain Garden (m²)",
       "layout": "IPY_MODEL_3f6de449ed374437b8011a9c85b1a4aa",
       "max": 2000,
       "step": 50,
       "style": "IPY_MODEL_2a23475946e44c66a21d21bb5704997c",
       "value": 200
      }
     },
     "a1543ba0b2b049a4b5320c513554043d": {
      "model_module": "@jupyter-widgets/controls",
      "model_module_version": "2.0.0",
      "model_name": "IntSliderModel",
      "state": {
       "behavior": "drag-tap",
       "description": "Catchment Area (m²)",
       "layout": "IPY_MODEL_26d6e3a6456945428eac5dd27526bf45",
       "max": 5000,
       "min": 100,
       "step": 100,
       "style": "IPY_MODEL_1bf432546b794207b87b1527675655c2",
       "value": 1000
      }
     },
     "a50235b642fd4b2895fcc626462975bd": {
      "model_module": "@jupyter-widgets/controls",
      "model_module_version": "2.0.0",
      "model_name": "VBoxModel",
      "state": {
       "_dom_classes": [
        "widget-interact"
       ],
       "children": [
        "IPY_MODEL_25568e24df1f4a17becaf65b6dd0fb06",
        "IPY_MODEL_f09d5414d237438bbb8b466b33209795",
        "IPY_MODEL_a14d280041f840cd8e20f1fd44752f0b",
        "IPY_MODEL_72c855b964864ac2ab40c262bd05e672",
        "IPY_MODEL_f8226013545447f8bc89b26d2db90183",
        "IPY_MODEL_a03e1deb84bc40e097f788d1d0639527"
       ],
       "layout": "IPY_MODEL_72c05b71fe9044b9a6b1148e4ce99d7c"
      }
     },
     "aa95f62af1cf4bdabde525ce09bdc012": {
      "model_module": "@jupyter-widgets/controls",
      "model_module_version": "2.0.0",
      "model_name": "SliderStyleModel",
      "state": {
       "description_width": ""
      }
     },
     "ae34dc40df094689ae29735828b201fe": {
      "model_module": "@jupyter-widgets/controls",
      "model_module_version": "2.0.0",
      "model_name": "SliderStyleModel",
      "state": {
       "description_width": ""
      }
     },
     "b9c5d03ba294497689bee2d861309d77": {
      "model_module": "@jupyter-widgets/base",
      "model_module_version": "2.0.0",
      "model_name": "LayoutModel",
      "state": {}
     },
     "be0d0eb0fb294e9b9c3d698322727df9": {
      "model_module": "@jupyter-widgets/controls",
      "model_module_version": "2.0.0",
      "model_name": "SliderStyleModel",
      "state": {
       "description_width": ""
      }
     },
     "c0dc2c9f05b3429a8044c26f7ff32e27": {
      "model_module": "@jupyter-widgets/base",
      "model_module_version": "2.0.0",
      "model_name": "LayoutModel",
      "state": {}
     },
     "c27c478153e443d29badb65faf5a4a8d": {
      "model_module": "@jupyter-widgets/controls",
      "model_module_version": "2.0.0",
      "model_name": "IntSliderModel",
      "state": {
       "behavior": "drag-tap",
       "description": "Rain Garden (m²)",
       "layout": "IPY_MODEL_03a4b51bcb6b4023bf1907c5830bbf28",
       "max": 2000,
       "step": 50,
       "style": "IPY_MODEL_be0d0eb0fb294e9b9c3d698322727df9",
       "value": 200
      }
     },
     "ca83c26d981d4a34baeef1eac3c0901f": {
      "model_module": "@jupyter-widgets/base",
      "model_module_version": "2.0.0",
      "model_name": "LayoutModel",
      "state": {}
     },
     "ce73053247b647d0ad2311b206ec8919": {
      "model_module": "@jupyter-widgets/controls",
      "model_module_version": "2.0.0",
      "model_name": "FloatSliderModel",
      "state": {
       "behavior": "drag-tap",
       "description": "Rainfall (mm)",
       "layout": "IPY_MODEL_51ae561e76c74b679ccac4d3834173a6",
       "max": 150,
       "min": 10,
       "step": 5,
       "style": "IPY_MODEL_3d167ce0f8d248e4af771411125c1296",
       "value": 50
      }
     },
     "cfda377eaab14a2da5d37770046aa2de": {
      "model_module": "@jupyter-widgets/base",
      "model_module_version": "2.0.0",
      "model_name": "LayoutModel",
      "state": {}
     },
     "efed5c8ab6284c70b21ceae7870b09f7": {
      "model_module": "@jupyter-widgets/controls",
      "model_module_version": "2.0.0",
      "model_name": "IntSliderModel",
      "state": {
       "behavior": "drag-tap",
       "description": "Green Roof (m²)",
       "layout": "IPY_MODEL_16381b8ae3934ff1bf67619f1746153f",
       "max": 2000,
       "step": 50,
       "style": "IPY_MODEL_6eb60adfc7e94631bceec9d1644fd97f",
       "value": 300
      }
     },
     "f09d5414d237438bbb8b466b33209795": {
      "model_module": "@jupyter-widgets/controls",
      "model_module_version": "2.0.0",
      "model_name": "IntSliderModel",
      "state": {
       "behavior": "drag-tap",
       "description": "Catchment Area (m²)",
       "layout": "IPY_MODEL_3c115832ab704b42b9d9773752daf0c1",
       "max": 5000,
       "min": 100,
       "step": 100,
       "style": "IPY_MODEL_7afb849ed63f4bacb00ea4db313c3116",
       "value": 1000
      }
     },
     "f8226013545447f8bc89b26d2db90183": {
      "model_module": "@jupyter-widgets/controls",
      "model_module_version": "2.0.0",
      "model_name": "IntSliderModel",
      "state": {
       "behavior": "drag-tap",
       "description": "Permeable Pavement (m²)",
       "layout": "IPY_MODEL_ca83c26d981d4a34baeef1eac3c0901f",
       "max": 2000,
       "step": 50,
       "style": "IPY_MODEL_aa95f62af1cf4bdabde525ce09bdc012",
       "value": 300
      }
     }
    },
    "version_major": 2,
    "version_minor": 0
   }
  }
 },
 "nbformat": 4,
 "nbformat_minor": 5
}
