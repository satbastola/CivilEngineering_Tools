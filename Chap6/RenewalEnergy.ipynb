{
 "cells": [
  {
   "cell_type": "markdown",
   "id": "138dd557-8fb4-4161-9883-38c785d4aa0b",
   "metadata": {},
   "source": [
    "# Chapter 6 Sustainable Engineering: Renewal Energy"
   ]
  },
  {
   "cell_type": "markdown",
   "id": "3bf8853a-d470-4ed6-97df-5dfa5ecfa44f",
   "metadata": {},
   "source": [
    "1. [Introduction: Renewal Energy](#1.-Introduction)\n",
    "2. [Simulation: Wind Energy](#2.-Simulation)\n",
    "3. [Simulation: Solar Energy](#3.-Simulation)\n",
    "4. [Simulation: Wave Energy](#4.-Simulation)\n",
    "5. [Self-Assessment](#5.-Self-Assessment)"
   ]
  },
  {
   "cell_type": "markdown",
   "id": "8640b6ab-8f44-4eed-a0a0-e9139b46912e",
   "metadata": {},
   "source": [
    "## 1. Introduction"
   ]
  },
  {
   "attachments": {},
   "cell_type": "markdown",
   "id": "79075f90-11af-4a66-8faa-7af7d683f4d8",
   "metadata": {},
   "source": [
    "```{figure} RenewalEnergy.png\n",
    ":alt: Descriptive alt text for accessibility\n",
    ":width: 600px\n",
    ":name: Renewal Energy \n",
    "\n",
    "**Figure 6.14 **: Renewal Energy\n",
    "\n",
    "```\n",
    "\n",
    "### 🌱 Renewable Energy: Definition, Role in Energy Security & Regional Potential\n",
    "\n",
    "### 📘 What Is Renewable Energy?\n",
    "\n",
    "**Renewable energy** refers to power derived from natural sources that are continuously replenished. These include:\n",
    "- **Solar energy** (sunlight)\n",
    "- **Wind energy** (air movement)\n",
    "- **Wave energy** (ocean surface motion)\n",
    "- **Hydropower**, **geothermal**, and **biomass** are also part of the renewable family.\n",
    "\n",
    "Unlike fossil fuels, renewables do not deplete over time and produce minimal greenhouse gas emissions.\n",
    "\n",
    "\n",
    "---\n",
    "\n",
    "### 🛡️ How Renewables Enhance Energy Security\n",
    "\n",
    "Energy security means **reliable, affordable, and uninterrupted access to energy**. Renewables contribute by:\n",
    "- **Reducing dependence on imported fossil fuels**\n",
    "- **Diversifying the energy mix**, making grids more resilient\n",
    "- **Decentralizing generation**, which protects against geopolitical and supply chain disruptions\n",
    "- **Improving grid stability** through distributed systems and storage\n",
    "\n",
    "### 🔋 Role of Specific Sources\n",
    "\n",
    "| Source       | Contribution to Energy Security                          |\n",
    "|--------------|-----------------------------------------------------------|\n",
    "| **Solar**    | Localized generation (rooftops, farms), predictable output |\n",
    "| **Wind**     | Large-scale generation, especially in windy regions        |\n",
    "| **Wave**     | Coastal resilience, consistent energy from ocean motion    |\n",
    "\n",
    "---\n",
    "\n",
    "### 🌍 Regional Potential of Wind, Solar & Wave Energy\n",
    "\n",
    "### 🌬️ Wind Energy Potential\n",
    "\n",
    "| Region             | Highlights                                                                 |\n",
    "|--------------------|---------------------------------------------------------------------------|\n",
    "| **United States**  | Over 136 GW installed; Texas leads with 19,000+ turbines           |\n",
    "| **Europe**         | Denmark, Germany, and UK are leaders in onshore/offshore wind             |\n",
    "| **China**          | Largest global wind capacity; aggressive offshore expansion               |\n",
    "| **India**          | Strong potential in Tamil Nadu and Gujarat                                |\n",
    "\n",
    "### ☀️ Solar Energy Potential\n",
    "\n",
    "| Region             | Highlights                                                                 |\n",
    "|--------------------|---------------------------------------------------------------------------|\n",
    "| **Southwest US**   | Nevada, Arizona, and New Mexico have highest solar irradiance   |\n",
    "| **California**     | Leading solar installations; rooftop and utility-scale                    |\n",
    "| **India**          | High solar potential across most states; major national initiatives        |\n",
    "| **Middle East**    | Desert regions ideal for large-scale solar farms                          |\n",
    "\n",
    "### 🌊 Wave Energy Potential\n",
    "\n",
    "| Region             | Highlights                                                                 |\n",
    "|--------------------|---------------------------------------------------------------------------|\n",
    "| **Alaska (US)**    | Highest recoverable wave energy: ~620 TWh/year                    |\n",
    "| **West Coast (US)**| Oregon, California, Washington have strong wave resources                 |\n",
    "| **Hawaii & Puerto Rico** | Consistent wave patterns; ideal for island resilience               |\n",
    "| **Europe**         | UK, Ireland, and Portugal exploring commercial wave projects              |\n",
    "\n",
    "---\n",
    "\n",
    "### 🇺🇸 Renewable Energy Potential in the United States\n",
    "\n",
    "| Source       | Estimated Recoverable Potential (TWh/year) |\n",
    "|--------------|----------------------------------------------------------|\n",
    "| **Wind**     | >10,000 TWh/year (onshore + offshore)                    |\n",
    "| **Solar**    | Varies by region; Southwest exceeds 6 kWh/m²/day         |\n",
    "| **Wave**     | ~1,170 TWh/year (West Coast, Alaska, Hawaii, East Coast) |\n",
    "\n",
    "---\n",
    "### ⚡ Comparative Overview: Wind, Solar & Wave Energy\n",
    "\n",
    "\n",
    "| Attribute       | 🌬️ Wind Energy                            | ☀️ Solar Energy                          | 🌊 Wave Energy                            |\n",
    "|----------------|--------------------------------------------|------------------------------------------|--------------------------------------------|\n",
    "| **Intermittency** | Medium — seasonal & diurnal variability    | High — affected by clouds/night cycles    | Low — ocean motion is fairly consistent     |\n",
    "| **Cost (per kWh)** | $0.02–$0.05 (onshore)                    | $0.03–$0.06 (utility-scale solar)         | ~$0.15–$0.30 (pilot-scale)                 |\n",
    "| **CapEx / OpEx** | High upfront, low maintenance              | Medium upfront, low operating costs       | Very high upfront, emerging maintenance needs |\n",
    "| **Scalability**  | Excellent — utility-scale, offshore farms  | Excellent — utility & distributed systems | Good — coastal deployments, island grids   |\n",
    "| **Maturity**     | Mature — proven tech & economies of scale  | Mature — widely deployed & improving      | Emerging — mostly demo/pilot projects       |\n",
    "| **Land Use**     | Land-friendly (above crops, offshore)      | Moderate — rooftops, solar farms          | Minimal — ocean surface use                 |\n",
    "| **Grid Integration** | Requires storage or backup              | Requires storage & smart grid             | Compatible with coastal microgrids          |\n",
    "\n",
    "---\n",
    "\n",
    "### 🧭 Use Case Matching by Region (U.S. Context)\n",
    "\n",
    "| Region             | Best Fit Source(s)                          | Notes                                      |\n",
    "|--------------------|---------------------------------------------|--------------------------------------------|\n",
    "| **Southwest (AZ, NM)** | ☀️ Solar                                | Highest solar irradiance in U.S.            |\n",
    "| **Great Plains (TX, OK, KS)** | 🌬️ Wind                       | Strong, consistent wind patterns            |\n",
    "| **Pacific Coast (CA, OR, WA)** | 🌬️ Wind + 🌊 Wave           | Wind-rich plus viable wave testing areas    |\n",
    "| **Alaska**          | 🌊 Wave + 🌬️ Wind                          | Wave energy potential > 600 TWh/year        |\n",
    "| **Southeast (FL, GA)** | ☀️ Solar + 🌬️ Wind (offshore)       | Solar coverage year-round; coastal wind     |\n",
    "| **Urban Northeast (NY, MA)** | ☀️ Rooftop Solar + 🌬️ Small Wind | Urban mix with community grid integration   |\n",
    "| **Islands (HI, PR)** | 🌊 Wave + ☀️ Solar                        | Resilience from multiple local sources      |\n",
    "\n",
    "---\n",
    "\n",
    "### 🔮 Scenario Prompts for Planning Worksheets\n",
    "\n",
    "- **Urban Planning**: What renewable mix optimizes roof space and grid resilience?\n",
    "- **Rural Utility**: Should community wind or solar farms lead the development?\n",
    "- **Island Systems**: What is the role of wave energy in grid-independent regions?\n",
    "- **Disaster Preparedness**: Which renewable source offers most reliability in storms?\n",
    "- **Seasonal Optimization**: How do regional wind and solar cycles affect design?\n",
    "\n",
    "\n",
    "### 🔮 Future of Renewable Energy\n",
    "\n",
    "### 📈 Global Outlook\n",
    "- Renewables expected to supply **nearly 50% of global electricity by 2030**\n",
    "- Solar and wind dominate new capacity additions\n",
    "- Battery storage and smart grids will enable 24/7 clean power\n",
    "\n",
    "### 🇺🇸 U.S. Outlook\n",
    "- Renewables already supply **44% of electricity** (including nuclear)\n",
    "- Over **160 clean energy manufacturing facilities** announced since 2022\n",
    "- EVs, data centers, and AI driving demand for clean electricity\n",
    "\n",
    "### 🌐 Strategic Trends\n",
    "- **Decentralization**: Rooftop solar, microgrids, community wind\n",
    "- **Electrification**: Transport, heating, industry shifting to electric\n",
    "- **Resilience**: Renewables reduce vulnerability to fuel price shocks and cyber threats\n",
    "- **Innovation**: AI, green hydrogen, and advanced storage accelerating adoption\n"
   ]
  },
  {
   "cell_type": "markdown",
   "id": "d4088396-8da2-45ef-bdbe-4ef93a619f56",
   "metadata": {},
   "source": [
    "## 2. Simulation"
   ]
  },
  {
   "cell_type": "markdown",
   "id": "d363ee55-cd3b-4ae3-8899-c4af0ff79873",
   "metadata": {},
   "source": [
    "### 💡 Summary: Wind Turbine Power Calculator (Interactive Notebook)\n",
    "\n",
    "This Python-based tool simulates wind power generation from a turbine based on user inputs, incorporating realistic parameters for U.S. regions. It uses `ipywidgets` for interactivity and calculates both theoretical and practical power outputs.\n",
    "\n",
    "---\n",
    "\n",
    "### ⚙️ How It Works\n",
    "\n",
    "### 🛠️ Inputs:\n",
    "- **Region**: Dropdown with average wind speed (at 10 m) and air density values for 7 U.S. regions.\n",
    "- **Turbine Type**: Preset power coefficient (Cp) values for HAWT, VAWT, and urban turbines.\n",
    "- **Rotor Diameter (m)**: Determines swept area.\n",
    "- **Hub Height (m)**: Adjusts wind speed using power-law scaling.\n",
    "\n",
    "### ⚡ Computations:\n",
    "- **Adjusted Wind Speed**: Wind speed at hub height using power law with default exponent (α = 0.14).\n",
    "- **Swept Area**: $( A = \\pi \\cdot (D/2)^2 $)\n",
    "- **Theoretical Power**: $( P = \\frac{1}{2} \\cdot \\rho \\cdot A \\cdot v^3 $)\n",
    "- **Actual Output**: $( P_{\\text{actual}} = P \\cdot C_p $)\n",
    "\n",
    "---\n",
    "\n",
    "### 📊 How to Interpret Results\n",
    "\n",
    "| Output Metric            | Meaning                                                |\n",
    "|--------------------------|--------------------------------------------------------|\n",
    "| **Adjusted Wind Speed**  | Wind speed at selected hub height                     |\n",
    "| **Air Density**          | Affects energy content of wind                         |\n",
    "| **Swept Area**           | Larger area captures more wind                         |\n",
    "| **Power Coefficient (Cp)** | Efficiency of turbine at converting wind energy      |\n",
    "| **Theoretical Power**    | Max extractable power from wind (Betz limit ≈ 0.59)    |\n",
    "| **Actual Power Output**  | Realistic power based on turbine type & efficiency     |\n",
    "\n",
    "---\n",
    "\n",
    "This tool is ideal for exploring turbine design tradeoffs, regional feasibility, and instructional demonstrations of wind energy physics."
   ]
  },
  {
   "cell_type": "code",
   "execution_count": 14,
   "id": "4e5dd6ce-709a-4347-9fe3-66a9b4ecd8e6",
   "metadata": {},
   "outputs": [
    {
     "data": {
      "application/vnd.jupyter.widget-view+json": {
       "model_id": "6d235f4704e14fd6aabc7a2cc2909274",
       "version_major": 2,
       "version_minor": 0
      },
      "text/plain": [
       "Dropdown(description='Region:', index=1, options=('Great Plains', 'Midwest', 'Pacific Northwest', 'California'…"
      ]
     },
     "metadata": {},
     "output_type": "display_data"
    },
    {
     "data": {
      "application/vnd.jupyter.widget-view+json": {
       "model_id": "c704d36eda914df58715732be8d2bf0c",
       "version_major": 2,
       "version_minor": 0
      },
      "text/plain": [
       "Dropdown(description='Turbine Type:', options=('Horizontal Axis (HAWT)', 'Vertical Axis (VAWT)', 'Small Urban …"
      ]
     },
     "metadata": {},
     "output_type": "display_data"
    },
    {
     "data": {
      "application/vnd.jupyter.widget-view+json": {
       "model_id": "79b99f90fc69491d9316b1f87220e9f5",
       "version_major": 2,
       "version_minor": 0
      },
      "text/plain": [
       "FloatSlider(value=40.0, description='Rotor Diameter (m):', max=120.0, min=5.0, step=5.0)"
      ]
     },
     "metadata": {},
     "output_type": "display_data"
    },
    {
     "data": {
      "application/vnd.jupyter.widget-view+json": {
       "model_id": "4c2d79915a89451cbe746eb7367428db",
       "version_major": 2,
       "version_minor": 0
      },
      "text/plain": [
       "FloatSlider(value=80.0, description='Hub Height (m):', max=150.0, min=10.0, step=5.0)"
      ]
     },
     "metadata": {},
     "output_type": "display_data"
    },
    {
     "data": {
      "application/vnd.jupyter.widget-view+json": {
       "model_id": "53bde7a9712446a2b4c7f3a1bc0487f4",
       "version_major": 2,
       "version_minor": 0
      },
      "text/plain": [
       "Button(description='Calculate Wind Power', style=ButtonStyle())"
      ]
     },
     "metadata": {},
     "output_type": "display_data"
    }
   ],
   "source": [
    "import numpy as np\n",
    "import ipywidgets as widgets\n",
    "from IPython.display import display, Markdown\n",
    "\n",
    "# Regional wind data (average conditions)\n",
    "region_data = {\n",
    "    'Great Plains': {'v_10m': 7.5, 'rho': 1.22},\n",
    "    'Midwest': {'v_10m': 6.5, 'rho': 1.225},\n",
    "    'Pacific Northwest': {'v_10m': 6.0, 'rho': 1.20},\n",
    "    'California': {'v_10m': 6.7, 'rho': 1.18},\n",
    "    'Southwest': {'v_10m': 5.8, 'rho': 1.19},\n",
    "    'Southeast': {'v_10m': 5.5, 'rho': 1.21},\n",
    "    'Northeast': {'v_10m': 6.2, 'rho': 1.22}\n",
    "}\n",
    "\n",
    "# Turbine type presets for Cp values\n",
    "turbine_cp_map = {\n",
    "    'Horizontal Axis (HAWT)': 0.45,\n",
    "    'Vertical Axis (VAWT)': 0.30,\n",
    "    'Small Urban Turbine': 0.25\n",
    "}\n",
    "\n",
    "def adjust_wind_speed(v_ref, h_ref, h_target, alpha=0.14):\n",
    "    return v_ref * (h_target / h_ref) ** alpha  # Power law adjustment\n",
    "\n",
    "def calculate_wind_power(region, diameter, turbine_type, hub_height):\n",
    "    v_ref = region_data[region]['v_10m']\n",
    "    rho = region_data[region]['rho']\n",
    "    Cp = turbine_cp_map[turbine_type]\n",
    "    \n",
    "    # Adjust wind speed to user-defined hub height\n",
    "    v = adjust_wind_speed(v_ref, h_ref=10, h_target=hub_height)\n",
    "    A = np.pi * (diameter / 2) ** 2\n",
    "    \n",
    "    P_theoretical = 0.5 * rho * A * v**3\n",
    "    P_actual = P_theoretical * Cp\n",
    "    \n",
    "    result = f\"\"\"\n",
    "### 🌬️ Wind Turbine Power Estimate\n",
    "\n",
    "- **Region**: {region}  \n",
    "- **Turbine Type**: {turbine_type}  \n",
    "- **Hub Height**: {hub_height} m  \n",
    "- **Adjusted Wind Speed**: {v:.2f} m/s  \n",
    "- **Air Density**: {rho:.3f} kg/m³  \n",
    "- **Rotor Diameter**: {diameter:.1f} m  \n",
    "- **Swept Area**: {A:.1f} m²  \n",
    "- **Power Coefficient (Cp)**: {Cp}  \n",
    "- **⚡ Theoretical Power**: {P_theoretical:.2f} W  \n",
    "- **✅ Estimated Actual Power Output**: {P_actual:.2f} W\n",
    "\"\"\"\n",
    "    display(Markdown(result))\n",
    "\n",
    "# Interactive Widgets\n",
    "region_dropdown = widgets.Dropdown(\n",
    "    options=list(region_data.keys()),\n",
    "    value='Midwest',\n",
    "    description='Region:'\n",
    ")\n",
    "\n",
    "turbine_dropdown = widgets.Dropdown(\n",
    "    options=list(turbine_cp_map.keys()),\n",
    "    value='Horizontal Axis (HAWT)',\n",
    "    description='Turbine Type:'\n",
    ")\n",
    "\n",
    "diameter_slider = widgets.FloatSlider(\n",
    "    value=40, min=5, max=120, step=5, description='Rotor Diameter (m):'\n",
    ")\n",
    "\n",
    "height_slider = widgets.FloatSlider(\n",
    "    value=80, min=10, max=150, step=5, description='Hub Height (m):'\n",
    ")\n",
    "\n",
    "run_button = widgets.Button(description='Calculate Wind Power')\n",
    "\n",
    "def on_click(b):\n",
    "    calculate_wind_power(region_dropdown.value, diameter_slider.value,\n",
    "                         turbine_dropdown.value, height_slider.value)\n",
    "\n",
    "run_button.on_click(on_click)\n",
    "\n",
    "# Display interface\n",
    "display(region_dropdown, turbine_dropdown, diameter_slider, height_slider, run_button)"
   ]
  },
  {
   "cell_type": "markdown",
   "id": "5762098e-cf3a-494e-af62-c4590915ac0a",
   "metadata": {},
   "source": [
    "## 3. Simulation"
   ]
  },
  {
   "cell_type": "markdown",
   "id": "31dcfbed-fe3f-4aba-a4a2-a5a5a134a15f",
   "metadata": {},
   "source": [
    "### ☀️ Summary: Interactive Solar Energy Potential Calculator\n",
    "\n",
    "### 📘 What It Is\n",
    "\n",
    "This Jupyter-based Python tool estimates potential solar energy generation using region-specific irradiance data. It's designed for educational modeling or quick feasibility assessments using adjustable inputs via `ipywidgets`.\n",
    "\n",
    "---\n",
    "\n",
    "### ⚙️ How It Works\n",
    "\n",
    "### 🔧 Inputs\n",
    "- **Region**: Selected from U.S. regions with average irradiance values (kWh/m²/day)\n",
    "- **Panel Area**: Total surface area available for solar panels (m²)\n",
    "- **System Efficiency**: Conversion efficiency of solar panels (typically 10–25%)\n",
    "- **Duration**: Time period in days for which energy output is calculated\n",
    "\n",
    "### 🔢 Calculation Logic\n",
    "- Retrieves irradiance for the selected region\n",
    "- Computes daily output:  \n",
    "  $( \\text{Daily Output} = \\text{Irradiance} \\times \\text{Area} \\times \\text{Efficiency} $)\n",
    "- Computes total output over selected duration:  \n",
    "  $( \\text{Total Output} = \\text{Daily Output} \\times \\text{Days} $)\n",
    "\n",
    "---\n",
    "\n",
    "### 📊 How to Interpret Results\n",
    "\n",
    "| Output Field             | Meaning                                                        |\n",
    "|--------------------------|----------------------------------------------------------------|\n",
    "| **Solar Irradiance**     | Average sunlight energy available per m² per day               |\n",
    "| **Estimated Daily Output** | Energy produced daily (kWh/day) based on current inputs        |\n",
    "| **Estimated Total Output** | Cumulative energy over time (kWh) — useful for budgeting, forecasting |\n",
    "| **Efficiency**           | Percentage of sunlight converted into usable electricity       |\n",
    "\n",
    "---\n",
    "\n",
    "This tool helps visualize how geographic location and system design affect solar yield. It's great for scenario testing, comparing installation scale, and understanding regional solar performance."
   ]
  },
  {
   "cell_type": "code",
   "execution_count": 15,
   "id": "b66f19c3-f8b3-466f-a147-784ac6ad4a36",
   "metadata": {},
   "outputs": [
    {
     "data": {
      "application/vnd.jupyter.widget-view+json": {
       "model_id": "1f8c7de0d39d42d5817e1b48f04d0416",
       "version_major": 2,
       "version_minor": 0
      },
      "text/plain": [
       "Dropdown(description='Region:', options=('Southwest (AZ, NM)', 'California', 'Midwest', 'Northeast', 'Southeas…"
      ]
     },
     "metadata": {},
     "output_type": "display_data"
    },
    {
     "data": {
      "application/vnd.jupyter.widget-view+json": {
       "model_id": "6c2e59c21889463d863667a17d2471b3",
       "version_major": 2,
       "version_minor": 0
      },
      "text/plain": [
       "FloatSlider(value=10.0, description='Panel Area (m²):', min=1.0, step=1.0)"
      ]
     },
     "metadata": {},
     "output_type": "display_data"
    },
    {
     "data": {
      "application/vnd.jupyter.widget-view+json": {
       "model_id": "9cd289d3a3394bceb25dc8d22cdb9f41",
       "version_major": 2,
       "version_minor": 0
      },
      "text/plain": [
       "FloatSlider(value=0.18, description='Efficiency:', max=0.25, min=0.1, step=0.01)"
      ]
     },
     "metadata": {},
     "output_type": "display_data"
    },
    {
     "data": {
      "application/vnd.jupyter.widget-view+json": {
       "model_id": "51e0b6423185417695f25b7bb901bd91",
       "version_major": 2,
       "version_minor": 0
      },
      "text/plain": [
       "IntSlider(value=30, description='Duration (days):', max=365, min=1)"
      ]
     },
     "metadata": {},
     "output_type": "display_data"
    },
    {
     "data": {
      "application/vnd.jupyter.widget-view+json": {
       "model_id": "56868409e0bf4d0f96fd69648fd69903",
       "version_major": 2,
       "version_minor": 0
      },
      "text/plain": [
       "Button(description='Calculate Solar Potential', style=ButtonStyle())"
      ]
     },
     "metadata": {},
     "output_type": "display_data"
    }
   ],
   "source": [
    "import numpy as np\n",
    "import ipywidgets as widgets\n",
    "from IPython.display import display, Markdown\n",
    "\n",
    "# ☀️ Regional solar irradiance (approximate values from NREL data)\n",
    "region_irradiance = {\n",
    "    'Southwest (AZ, NM)': 6.5,\n",
    "    'California': 6.2,\n",
    "    'Midwest': 5.0,\n",
    "    'Northeast': 4.5,\n",
    "    'Southeast': 5.2,\n",
    "    'Pacific Northwest': 4.0,\n",
    "    'Texas': 5.8,\n",
    "    'Florida': 5.7,\n",
    "    'Great Plains': 5.4\n",
    "}\n",
    "\n",
    "def estimate_solar_energy(region, area, efficiency, days):\n",
    "    irradiance = region_irradiance[region]  # kWh/m²/day\n",
    "    daily_output = irradiance * area * efficiency\n",
    "    total_output = daily_output * days\n",
    "    \n",
    "    result = f\"\"\"\n",
    "### ☀️ Solar Energy Potential\n",
    "\n",
    "- **Region**: {region}  \n",
    "- **Solar Irradiance**: {irradiance:.2f} kWh/m²/day  \n",
    "- **Panel Area**: {area:.1f} m²  \n",
    "- **System Efficiency**: {efficiency:.2f}  \n",
    "- **Time Frame**: {days} days  \n",
    "\n",
    "⚡ **Estimated Daily Output**: {daily_output:.2f} kWh/day  \n",
    "🔋 **Estimated Total Output**: {total_output:.2f} kWh\n",
    "\"\"\"\n",
    "    display(Markdown(result))\n",
    "\n",
    "# 🎛️ Widgets\n",
    "region_dropdown = widgets.Dropdown(\n",
    "    options=list(region_irradiance.keys()),\n",
    "    value='Southwest (AZ, NM)',\n",
    "    description='Region:'\n",
    ")\n",
    "\n",
    "area_slider = widgets.FloatSlider(\n",
    "    value=10, min=1, max=100, step=1, description='Panel Area (m²):'\n",
    ")\n",
    "\n",
    "efficiency_slider = widgets.FloatSlider(\n",
    "    value=0.18, min=0.10, max=0.25, step=0.01, description='Efficiency:'\n",
    ")\n",
    "\n",
    "days_slider = widgets.IntSlider(\n",
    "    value=30, min=1, max=365, step=1, description='Duration (days):'\n",
    ")\n",
    "\n",
    "run_button = widgets.Button(description='Calculate Solar Potential')\n",
    "\n",
    "def on_click(b):\n",
    "    estimate_solar_energy(region_dropdown.value,\n",
    "                          area_slider.value,\n",
    "                          efficiency_slider.value,\n",
    "                          days_slider.value)\n",
    "\n",
    "run_button.on_click(on_click)\n",
    "\n",
    "# 🔧 Display interface\n",
    "display(region_dropdown, area_slider, efficiency_slider, days_slider, run_button)"
   ]
  },
  {
   "cell_type": "markdown",
   "id": "f2d6f721-30ac-4864-a4a8-0b89251b3e2d",
   "metadata": {},
   "source": [
    "## 4. Simulation"
   ]
  },
  {
   "cell_type": "markdown",
   "id": "4a655733-8c5f-4f24-ac46-72b88f18d721",
   "metadata": {},
   "source": [
    "### 🌊 Summary: Interactive Ocean Wave Energy Converter (U.S. Coastal Estimator)\n",
    "\n",
    "\n",
    "This Python-based widget simulates wave energy conversion for selected **U.S. coastal regions**, using average wave data or custom inputs. It allows learners and planners to explore how wave parameters—such as height, period, density, and converter width—affect the energy output of a wave energy system.\n",
    "\n",
    "---\n",
    "\n",
    "### 🔧 Inputs & Controls\n",
    "\n",
    "| Input Widget             | Purpose                                                      |\n",
    "|--------------------------|--------------------------------------------------------------|\n",
    "| `Region Dropdown`        | Selects a coastal location with typical NOAA wave data       |\n",
    "| `Width (m)`              | Physical width of the wave energy converter system           |\n",
    "| `Efficiency`             | Conversion efficiency (0.10 to 0.60)                         |\n",
    "| `Use Custom H & T`       | Checkbox to override regional data with manual input         |\n",
    "| `Wave Height (H)`        | Custom wave height in meters                                 |\n",
    "| `Wave Period (T)`        | Custom wave period in seconds                                |\n",
    "| `ρ (kg/m³)`              | Water density (can be adjusted for salinity or education)    |\n",
    "| `g (m/s²)`               | Gravitational acceleration (defaults to Earth value)         |\n",
    "| `Units`                  | Choose whether output is shown in kW or MW                   |\n",
    "| `Calculate Wave Power`   | Executes the computation and displays results                |\n",
    "\n",
    "---\n",
    "\n",
    "### 🧮 Computation Logic\n",
    "\n",
    "- **Wave Energy Flux per Meter (kW/m)**:  \n",
    "  $( P = \\frac{ρg^2 H^2 T}{64π \\cdot 1000} $)\n",
    "\n",
    "- **Total Power Output**:  \n",
    "  $( P_{\\text{total}} = P_{\\text{wave}} \\times \\text{Width} \\times \\text{Efficiency} $)\n",
    "\n",
    "---\n",
    "\n",
    "### 📊 Interpreting Outputs\n",
    "\n",
    "| Output Field               | What It Tells You                                       |\n",
    "|----------------------------|----------------------------------------------------------|\n",
    "| **Wave Height (H)**        | Amplitude of the wave; higher waves contain more energy |\n",
    "| **Wave Period (T)**        | Time between wave crests; affects energy flux           |\n",
    "| **Energy Flux**            | Theoretical energy available per meter of wave front    |\n",
    "| **Estimated Extracted Power** | Realistic power accounting for system width and efficiency |\n",
    "\n",
    "---\n",
    "\n",
    "### ✅ Example Insights\n",
    "\n",
    "- Switching from **default regional data** to **custom wave conditions** lets you model seasonal or storm scenarios.\n",
    "- **Higher H and T** = more energy potential, but also design challenges.\n",
    "- **Efficiency and width** directly scale output—these are key for economic feasibility.\n",
    "\n",
    "---\n",
    "\n",
    "This estimator is ideal for conceptual design, site selection, or classroom exploration. You can adapt it to show plots over time, compare device designs, or layer in environmental constraints for real-world scenarios."
   ]
  },
  {
   "cell_type": "code",
   "execution_count": 16,
   "id": "941bc848-594b-4f07-ae70-c3cdf82e3722",
   "metadata": {},
   "outputs": [
    {
     "data": {
      "application/vnd.jupyter.widget-view+json": {
       "model_id": "f0f5f8438ad945f6aba137532ea41523",
       "version_major": 2,
       "version_minor": 0
      },
      "text/plain": [
       "Dropdown(description='Region:', options=('Pacific Northwest (OR, WA)', 'California', 'Hawaii', 'Alaska', 'Puer…"
      ]
     },
     "metadata": {},
     "output_type": "display_data"
    },
    {
     "data": {
      "application/vnd.jupyter.widget-view+json": {
       "model_id": "25e91367ca864dcf90c8f36c4eec7385",
       "version_major": 2,
       "version_minor": 0
      },
      "text/plain": [
       "FloatSlider(value=20.0, description='Width (m):', min=5.0, step=5.0)"
      ]
     },
     "metadata": {},
     "output_type": "display_data"
    },
    {
     "data": {
      "application/vnd.jupyter.widget-view+json": {
       "model_id": "15c52d99435145de88f800e1dccf8478",
       "version_major": 2,
       "version_minor": 0
      },
      "text/plain": [
       "FloatSlider(value=0.3, description='Efficiency:', max=0.6, min=0.1, step=0.05)"
      ]
     },
     "metadata": {},
     "output_type": "display_data"
    },
    {
     "data": {
      "application/vnd.jupyter.widget-view+json": {
       "model_id": "2ba5285c895748849ad89d836e7b72e0",
       "version_major": 2,
       "version_minor": 0
      },
      "text/plain": [
       "Checkbox(value=False, description='Use Custom H & T')"
      ]
     },
     "metadata": {},
     "output_type": "display_data"
    },
    {
     "data": {
      "application/vnd.jupyter.widget-view+json": {
       "model_id": "2120b7cf5ebf4340809bb461309244b0",
       "version_major": 2,
       "version_minor": 0
      },
      "text/plain": [
       "FloatSlider(value=2.0, description='Wave H (m):', max=5.0, min=0.5)"
      ]
     },
     "metadata": {},
     "output_type": "display_data"
    },
    {
     "data": {
      "application/vnd.jupyter.widget-view+json": {
       "model_id": "da176fab7f194885b596a9f2ef8d2138",
       "version_major": 2,
       "version_minor": 0
      },
      "text/plain": [
       "FloatSlider(value=7.0, description='Wave T (s):', max=12.0, min=3.0, step=0.5)"
      ]
     },
     "metadata": {},
     "output_type": "display_data"
    },
    {
     "data": {
      "application/vnd.jupyter.widget-view+json": {
       "model_id": "66240f94443b47fa945fda459f2e2f3b",
       "version_major": 2,
       "version_minor": 0
      },
      "text/plain": [
       "FloatSlider(value=1025.0, description='ρ (kg/m³):', max=1060.0, min=1000.0, step=1.0)"
      ]
     },
     "metadata": {},
     "output_type": "display_data"
    },
    {
     "data": {
      "application/vnd.jupyter.widget-view+json": {
       "model_id": "2af86faad14e4122b01e11cd239a851e",
       "version_major": 2,
       "version_minor": 0
      },
      "text/plain": [
       "FloatSlider(value=9.81, description='g (m/s²):', max=10.0, min=9.0, step=0.01)"
      ]
     },
     "metadata": {},
     "output_type": "display_data"
    },
    {
     "data": {
      "application/vnd.jupyter.widget-view+json": {
       "model_id": "cae0f4dec9664ad7ab25c23d91536f2c",
       "version_major": 2,
       "version_minor": 0
      },
      "text/plain": [
       "Dropdown(description='Units:', options=('kW', 'MW'), value='kW')"
      ]
     },
     "metadata": {},
     "output_type": "display_data"
    },
    {
     "data": {
      "application/vnd.jupyter.widget-view+json": {
       "model_id": "9803e07ee1c64cb68b753a2c6487e7f8",
       "version_major": 2,
       "version_minor": 0
      },
      "text/plain": [
       "Button(description='Calculate Wave Power', style=ButtonStyle())"
      ]
     },
     "metadata": {},
     "output_type": "display_data"
    }
   ],
   "source": [
    "import numpy as np\n",
    "import ipywidgets as widgets\n",
    "from IPython.display import display, Markdown\n",
    "\n",
    "# Default wave data from NOAA & DOE reports\n",
    "coastal_wave_data = {\n",
    "    'Pacific Northwest (OR, WA)': {'H': 2.5, 'T': 8.5},\n",
    "    'California': {'H': 2.0, 'T': 7.5},\n",
    "    'Hawaii': {'H': 2.2, 'T': 8.0},\n",
    "    'Alaska': {'H': 3.0, 'T': 9.0},\n",
    "    'Puerto Rico': {'H': 1.8, 'T': 6.5},\n",
    "    'East Coast (NY, MA)': {'H': 1.5, 'T': 6.0},\n",
    "    'Gulf Coast (FL, TX)': {'H': 1.2, 'T': 5.5}\n",
    "}\n",
    "\n",
    "def estimate_wave_energy(region, width, efficiency, rho, g, use_custom, H_custom, T_custom, unit):\n",
    "    H = H_custom if use_custom else coastal_wave_data[region]['H']\n",
    "    T = T_custom if use_custom else coastal_wave_data[region]['T']\n",
    "\n",
    "    # Deep water wave energy flux per meter crest length\n",
    "    P_wave = (rho * g**2 / (64 * np.pi)) * H**2 * T / 1000  # in kW/m\n",
    "    P_total = P_wave * width * efficiency\n",
    "\n",
    "    # Unit conversion\n",
    "    if unit == 'MW':\n",
    "        P_wave /= 1000\n",
    "        P_total /= 1000\n",
    "\n",
    "    result_md = f\"\"\"\n",
    "### 🌊 Wave Energy Conversion Estimate\n",
    "\n",
    "- **Region**: {region}  \n",
    "- {'**Custom Input Enabled**' if use_custom else '**Using Default NOAA/DOE Parameters**'}  \n",
    "- **Wave Height (H)**: {H:.2f} m  \n",
    "- **Wave Period (T)**: {T:.2f} s  \n",
    "- **Water Density (ρ)**: {rho:.1f} kg/m³  \n",
    "- **Gravity (g)**: {g:.2f} m/s²  \n",
    "- **Converter Width**: {width:.1f} m  \n",
    "- **Efficiency**: {efficiency:.2f}  \n",
    "- **Energy Flux**: {P_wave:.4f} {unit}/m  \n",
    "- ⚡ **Estimated Extracted Power**: {P_total:.4f} {unit}\n",
    "\"\"\"\n",
    "    display(Markdown(result_md))\n",
    "\n",
    "# Interactive inputs\n",
    "region_dropdown = widgets.Dropdown(\n",
    "    options=list(coastal_wave_data.keys()),\n",
    "    value='Pacific Northwest (OR, WA)',\n",
    "    description='Region:'\n",
    ")\n",
    "\n",
    "width_slider = widgets.FloatSlider(value=20, min=5, max=100, step=5, description='Width (m):')\n",
    "eff_slider = widgets.FloatSlider(value=0.30, min=0.1, max=0.6, step=0.05, description='Efficiency:')\n",
    "\n",
    "use_custom_toggle = widgets.Checkbox(value=False, description='Use Custom H & T')\n",
    "\n",
    "H_input = widgets.FloatSlider(value=2.0, min=0.5, max=5.0, step=0.1, description='Wave H (m):')\n",
    "T_input = widgets.FloatSlider(value=7.0, min=3.0, max=12.0, step=0.5, description='Wave T (s):')\n",
    "\n",
    "rho_input = widgets.FloatSlider(value=1025, min=1000, max=1060, step=1, description='ρ (kg/m³):')\n",
    "g_input = widgets.FloatSlider(value=9.81, min=9.0, max=10.0, step=0.01, description='g (m/s²):')\n",
    "\n",
    "unit_dropdown = widgets.Dropdown(options=['kW', 'MW'], value='kW', description='Units:')\n",
    "\n",
    "run_button = widgets.Button(description='Calculate Wave Power')\n",
    "\n",
    "def on_click(b):\n",
    "    estimate_wave_energy(region_dropdown.value,\n",
    "                         width_slider.value,\n",
    "                         eff_slider.value,\n",
    "                         rho_input.value,\n",
    "                         g_input.value,\n",
    "                         use_custom_toggle.value,\n",
    "                         H_input.value,\n",
    "                         T_input.value,\n",
    "                         unit_dropdown.value)\n",
    "\n",
    "run_button.on_click(on_click)\n",
    "\n",
    "# Display layout\n",
    "display(region_dropdown, width_slider, eff_slider, use_custom_toggle,\n",
    "        H_input, T_input, rho_input, g_input, unit_dropdown, run_button)"
   ]
  },
  {
   "cell_type": "markdown",
   "id": "7475a652-71ad-496a-8738-ff7be049caf8",
   "metadata": {},
   "source": [
    "## 5. Self-Assessment"
   ]
  },
  {
   "cell_type": "markdown",
   "id": "8002f9e5-a0b5-440e-8377-c8d7cbd8e35a",
   "metadata": {},
   "source": [
    "\n",
    "### Wind Physics & Turbine Design\n",
    "- What is the mathematical relationship between wind speed and power output in a wind turbine?\n",
    "- How does rotor diameter influence the energy captured by a turbine?\n",
    "- Why is the power coefficient (Cp) limited by physics (Betz limit) and design constraints?\n",
    "- How does air density vary by region and altitude—and why does this matter for turbine output?\n",
    "\n",
    "### Hub Height Adjustment\n",
    "- What assumptions underlie the use of the power law for wind speed adjustment?\n",
    "- How does increasing hub height affect turbine performance in regions with moderate wind speeds?\n",
    "\n",
    "---\n",
    "\n",
    "### 💭 Self-Reflective Questions\n",
    "\n",
    "- How would you explain the trade-off between rotor size and hub height to a non-technical audience?\n",
    "- Which region’s wind characteristics surprised you most during interactive exploration?\n",
    "- If tasked with placing a wind turbine in your region, which turbine type and hub height would you choose? Why?\n",
    "- Reflect on how regional wind data informs renewable infrastructure decisions—and what data gaps could affect accuracy.\n",
    "\n",
    "---\n",
    "\n",
    "### 🧪 Quiz Questions\n",
    "\n",
    "### Power Equation & Sensitivity\n",
    "\n",
    "**Q1. Wind power output is proportional to which expression?**  \n",
    "- A. $( v $)  \n",
    "- B. $( v^2 $)  \n",
    "- C. $( v^3 $) ✅  \n",
    "- D. $( \\sqrt{v} $)  \n",
    "\n",
    "**Q2. Increasing rotor diameter from 40 m to 80 m will approximately:**  \n",
    "- A. Double the swept area  \n",
    "- B. Quadruple the swept area ✅  \n",
    "- C. Halve the output  \n",
    "- D. Not change power generation  \n",
    "\n",
    "### Air Properties & Turbine Types\n",
    "\n",
    "**Q3. Air density is typically highest in which U.S. region?**  \n",
    "- A. California  \n",
    "- B. Great Plains  \n",
    "- C. Southeast  \n",
    "- D. Midwest ✅  \n",
    "\n",
    "**Q4. Which turbine type generally has the lowest Cp value?**  \n",
    "- A. Horizontal Axis (HAWT)  \n",
    "- B. Small Urban Turbine ✅  \n",
    "- C. Vertical Axis (VAWT)  \n",
    "- D. Offshore Turbine  \n",
    "\n",
    "\n",
    "**Q5. The power law exponent (α = 0.14) is commonly used for:**  \n",
    "- A. Forested terrain  \n",
    "- B. Rural open land ✅  \n",
    "- C. Mountainous zones  \n",
    "- D. Urban canyons\n",
    "\n",
    "**Q6. Solar power output is proportional to which combination of inputs?**  \n",
    "- A. Irradiance × Area × Efficiency ✅  \n",
    "- B. Wind speed × Efficiency  \n",
    "- C. Temperature × Efficiency  \n",
    "- D. Air density × Panel angle\n",
    "\n",
    "**Q7. If a solar panel has an area of 10 m², irradiance of 5.5 kWh/m²/day, and efficiency of 20%, estimated daily energy is:**  \n",
    "- A. 5.5 kWh  \n",
    "- B. 11.0 kWh  \n",
    "- C. 8.8 kWh ✅  \n",
    "- D. 20.0 kWh  \n",
    "\n",
    "---\n",
    "\n",
    "## 🌍 Regional Properties\n",
    "\n",
    "**Q8. Air density is typically highest in which U.S. region?**  \n",
    "- A. California  \n",
    "- B. Great Plains  \n",
    "- C. Southeast  \n",
    "- D. Midwest ✅\n",
    "\n",
    "**Q9. Which U.S. region has the highest solar irradiance on average?**  \n",
    "- A. Northeast  \n",
    "- B. Pacific Northwest  \n",
    "- C. Southwest (AZ, NM) ✅  \n",
    "- D. Midwest\n",
    "\n",
    "---\n",
    "\n",
    "### ⚙️ Technology & Adjustment\n",
    "\n",
    "**Q10. Which turbine type generally has the lowest Cp (efficiency) value?**  \n",
    "- A. Horizontal Axis (HAWT)  \n",
    "- B. Small Urban Turbine ✅  \n",
    "- C. Vertical Axis (VAWT)  \n",
    "- D. Offshore Turbine  \n",
    "\n",
    "**Q11. The power law exponent (α = 0.14) is commonly used for:**  \n",
    "- A. Forested terrain  \n",
    "- B. Rural open land ✅  \n",
    "- C. Mountainous zones  \n",
    "- D. Urban canyons\n",
    "\n",
    "**Q12. Solar panel efficiency is typically affected by which factor?**  \n",
    "- A. Air pressure  \n",
    "- B. Cloud cover ✅  \n",
    "- C. Wind direction  \n",
    "- D. Rotor diameter\n",
    "\n",
    "**Q13. Which of the following conditions would decrease solar output most significantly?**  \n",
    "- A. High elevation  \n",
    "- B. Low air density  \n",
    "- C. Overcast skies ✅  \n",
    "- D. Tilt angle of 25°"
   ]
  },
  {
   "cell_type": "code",
   "execution_count": null,
   "id": "a68d2bdc-386c-4dc5-b7f2-0f4ee13a9c94",
   "metadata": {},
   "outputs": [],
   "source": []
  }
 ],
 "metadata": {
  "kernelspec": {
   "display_name": "Python [conda env:base] *",
   "language": "python",
   "name": "conda-base-py"
  },
  "language_info": {
   "codemirror_mode": {
    "name": "ipython",
    "version": 3
   },
   "file_extension": ".py",
   "mimetype": "text/x-python",
   "name": "python",
   "nbconvert_exporter": "python",
   "pygments_lexer": "ipython3",
   "version": "3.12.7"
  },
  "widgets": {
   "application/vnd.jupyter.widget-state+json": {
    "state": {},
    "version_major": 2,
    "version_minor": 0
   }
  }
 },
 "nbformat": 4,
 "nbformat_minor": 5
}
