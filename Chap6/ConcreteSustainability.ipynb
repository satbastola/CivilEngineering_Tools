{
 "cells": [
  {
   "cell_type": "markdown",
   "id": "489dca0b-a4e1-461b-9dca-eaa6f15ec2ac",
   "metadata": {},
   "source": [
    "# Chapter 6 Enginereing Sustainability: Sustainable Concrete"
   ]
  },
  {
   "cell_type": "markdown",
   "id": "cc840d69-9d4f-4b67-a1e6-03a4c5cc7733",
   "metadata": {},
   "source": [
    "1. [Introduction: Sustainable Concrete](#1.-Introduction)\n",
    "2. [Simulation: Sustainable Concrete](#2.-Simulation)\n",
    "3. [Self-Assessment](#3.-Self-Assessment)"
   ]
  },
  {
   "cell_type": "markdown",
   "id": "240c2feb-eaab-4399-b98e-69c2bfde58a6",
   "metadata": {},
   "source": [
    "## 1. Introduction"
   ]
  },
  {
   "cell_type": "markdown",
   "id": "9fd73efe-7545-4edc-b3b5-7d51ac39b7d3",
   "metadata": {},
   "source": [
    "### 🧱 Methodology: Sustainable Concrete Emissions Calculator\n",
    "\n",
    "This interactive model estimates the **embodied carbon** of concrete mixes based on literature-derived emission factors and user-defined material proportions. It allows exploration of strategies to reduce environmental impact by adjusting the percentage of clinker, supplementary cementitious materials (SCMs), and recycled aggregates.\n",
    "\n",
    "---\n",
    "\n",
    "### 📚 Emission Factors\n",
    "\n",
    "The model uses published average values for **CO₂ emissions per kilogram of material**:\n",
    "\n",
    "| Material              | Emission Factor (kg CO₂/kg) | Source/Justification                      |\n",
    "|-----------------------|-----------------------------|-------------------------------------------|\n",
    "| Clinker               | 0.85                        | High due to calcination and fuel use      |\n",
    "| SCM (e.g., fly ash)   | 0.05                        | By-product with low embodied carbon       |\n",
    "| Natural Aggregate     | 0.005                       | Low emissions from extraction and transport |\n",
    "| Recycled Aggregate    | 0.002                       | Lower emissions due to reuse              |\n",
    "| Water                 | 0.0003                      | Minimal impact                            |\n",
    "\n",
    "---\n",
    "\n",
    "### 📐 Mix Design Assumptions\n",
    "\n",
    "- **Binder content**: 350 kg/m³ (clinker + SCM)\n",
    "- **Aggregate content**: 1800 kg/m³\n",
    "- **Water content**: 180 kg/m³\n",
    "- Users adjust:\n",
    "  - % of clinker in binder\n",
    "  - % of SCM in binder\n",
    "  - % of recycled aggregate in total aggregate\n",
    "\n",
    "---\n",
    "\n",
    "### 🧮 Emissions Calculation\n",
    "\n",
    "For each material:\n",
    "$$\n",
    "\\text{Emissions} = \\text{Mass} \\times \\text{Emission Factor}\n",
    "$$\n",
    "\n",
    "Total embodied carbon is the sum of emissions from:\n",
    "- Clinker\n",
    "- SCM\n",
    "- Natural aggregate\n",
    "- Recycled aggregate\n",
    "- Water\n",
    "\n",
    "---\n",
    "\n",
    "### 📊 Visualization\n",
    "\n",
    "A **pie chart** displays the contribution of each material to the total carbon footprint, helping users identify which components dominate emissions.\n",
    "\n",
    "---\n",
    "\n",
    "### 🎛️ Interactive Controls\n",
    "\n",
    "Users can explore sustainability strategies by adjusting:\n",
    "- **Clinker percentage** (40–100%)\n",
    "- **SCM percentage** (0–60%)\n",
    "- **Recycled aggregate percentage** (0–100%)\n",
    "\n",
    "The model dynamically updates:\n",
    "- Material quantities (kg/m³)\n",
    "- Total embodied carbon (kg CO₂/m³)\n",
    "- Visual breakdown of emissions\n",
    "\n",
    "---\n",
    "\n",
    "### 🧠 Purpose\n",
    "\n",
    "This tool supports:\n",
    "- Sustainable design decisions\n",
    "- Educational exploration of low-carbon concrete\n",
    "- Scenario analysis for material substitution\n",
    "\n",
    "\n",
    "The enhanced model estimates the **embodied carbon**, **performance characteristics**, and **economic implications** of concrete mixes. It integrates user-defined material proportions with engineering targets and sustainability metrics to support informed decision-making.\n",
    "\n",
    "---\n",
    "\n",
    "#### 📚 Emission Factors\n",
    "\n",
    "Same as the base model, using literature-derived values for CO₂ emissions per kg of material:\n",
    "\n",
    "| Material              | Emission Factor (kg CO₂/kg) |\n",
    "|-----------------------|-----------------------------|\n",
    "| Clinker               | 0.85                        |\n",
    "| SCM (e.g., fly ash)   | 0.05                        |\n",
    "| Natural Aggregate     | 0.005                       |\n",
    "| Recycled Aggregate    | 0.002                       |\n",
    "| Water                 | 0.0003                      |\n",
    "\n",
    "---\n",
    "\n",
    "### 📐 Mix Design Assumptions\n",
    "\n",
    "- **Binder content**: 350 kg/m³ (clinker + SCM)\n",
    "- **Aggregate content**: 1800 kg/m³\n",
    "- **Water content**: 180 kg/m³\n",
    "- Adjustable parameters:\n",
    "  - % Clinker\n",
    "  - % SCM\n",
    "  - % Recycled Aggregate\n",
    "\n",
    "---\n",
    "\n",
    "### 🧮 Emissions Calculation\n",
    "\n",
    "$$\n",
    "\\text{Emissions} = \\sum_{i} \\text{Mass}_i \\times \\text{Emission Factor}_i\n",
    "$$\n",
    "\n",
    "---\n",
    "\n",
    "### 🧱 Compressive Strength Estimation\n",
    "\n",
    "Empirical relationships from literature suggest that compressive strength \\( f_c \\) depends on binder type and water-to-cement ratio (w/c):\n",
    "\n",
    "$$\n",
    "f_c = k \\cdot \\left( \\frac{C}{W} \\right)^\\alpha\n",
    "$$\n",
    "\n",
    "- $( C $): effective cementitious content (kg/m³)\n",
    "- $( W $): water content (kg/m³)\n",
    "- $( k, \\alpha $): empirical constants (e.g., $( k = 30 $), $( \\alpha = 0.5 $))\n",
    "- SCMs may reduce early strength but improve long-term\n",
    "---"
   ]
  },
  {
   "cell_type": "markdown",
   "id": "ac35cd49-ea1c-4d6c-9076-e961c9ca7b47",
   "metadata": {},
   "source": [
    "## 2. Simulation"
   ]
  },
  {
   "cell_type": "code",
   "execution_count": 4,
   "id": "c57fca6f-399f-48d9-9e2e-16b3e7caa20c",
   "metadata": {},
   "outputs": [
    {
     "data": {
      "application/vnd.jupyter.widget-view+json": {
       "model_id": "179dbc6210f3429186884193f4ce1f38",
       "version_major": 2,
       "version_minor": 0
      },
      "text/plain": [
       "interactive(children=(FloatSlider(value=85.0, description='Clinker %', min=40.0, step=5.0), FloatSlider(value=…"
      ]
     },
     "metadata": {},
     "output_type": "display_data"
    }
   ],
   "source": [
    "# 📌 Run this cell in a Jupyter Notebook\n",
    "import numpy as np\n",
    "import matplotlib.pyplot as plt\n",
    "import ipywidgets as widgets\n",
    "from IPython.display import display, clear_output\n",
    "\n",
    "# 📚 Emission factors (kg CO₂/kg)\n",
    "emission_factors = {\n",
    "    \"clinker\": 0.85,\n",
    "    \"SCM\": 0.05,\n",
    "    \"aggregate\": 0.005,\n",
    "    \"recycled_agg\": 0.002,\n",
    "    \"water\": 0.0003\n",
    "}\n",
    "\n",
    "# 💰 Unit costs ($/kg)\n",
    "cost_factors = {\n",
    "    \"clinker\": 0.12,\n",
    "    \"SCM\": 0.03,\n",
    "    \"aggregate\": 0.01,\n",
    "    \"recycled_agg\": 0.008,\n",
    "    \"water\": 0.001\n",
    "}\n",
    "\n",
    "# 📐 Default mix proportions\n",
    "default_mix = {\n",
    "    \"binder_total\": 350,   # kg/m³\n",
    "    \"aggregate_total\": 1800,\n",
    "    \"water\": 180\n",
    "}\n",
    "\n",
    "# 📏 Compressive strength model (empirical)\n",
    "def estimate_strength(w_b_ratio):\n",
    "    k = 30  # strength coefficient\n",
    "    alpha = -0.5\n",
    "    return k * (w_b_ratio ** alpha)\n",
    "\n",
    "# 🛡️ Durability scoring\n",
    "def durability_score(scm_pct, recycled_pct):\n",
    "    score = 5\n",
    "    if scm_pct >= 30:\n",
    "        score += 2\n",
    "    if recycled_pct >= 50:\n",
    "        score -= 2\n",
    "    if default_mix[\"water\"] / default_mix[\"binder_total\"] < 0.45:\n",
    "        score += 1\n",
    "    return max(min(score, 10), 0)\n",
    "\n",
    "# 💰 Life cycle cost\n",
    "def calculate_cost(mix):\n",
    "    return sum(mix[k] * cost_factors[k] for k in mix)\n",
    "\n",
    "# 🌍 Embodied carbon\n",
    "def calculate_emissions(mix):\n",
    "    return sum(mix[k] * emission_factors[k] for k in mix)\n",
    "\n",
    "# 📊 Interactive function\n",
    "def update_mix(clinker_pct, scm_pct, recycled_pct):\n",
    "    clear_output(wait=True)\n",
    "\n",
    "    binder_total = default_mix[\"binder_total\"]\n",
    "    aggregate_total = default_mix[\"aggregate_total\"]\n",
    "    water = default_mix[\"water\"]\n",
    "\n",
    "    clinker = binder_total * clinker_pct / 100\n",
    "    scm = binder_total * scm_pct / 100\n",
    "    recycled_agg = aggregate_total * recycled_pct / 100\n",
    "    natural_agg = aggregate_total - recycled_agg\n",
    "\n",
    "    mix = {\n",
    "        \"clinker\": clinker,\n",
    "        \"SCM\": scm,\n",
    "        \"aggregate\": natural_agg,\n",
    "        \"recycled_agg\": recycled_agg,\n",
    "        \"water\": water\n",
    "    }\n",
    "\n",
    "    emissions = calculate_emissions(mix)\n",
    "    cost = calculate_cost(mix)\n",
    "    w_b_ratio = water / binder_total\n",
    "    strength = estimate_strength(w_b_ratio)\n",
    "    durability = durability_score(scm_pct, recycled_pct)\n",
    "\n",
    "    # 📋 Summary\n",
    "    print(f\"🧱 Sustainable Concrete Mix:\")\n",
    "    print(f\"Clinker: {clinker:.1f} kg/m³\")\n",
    "    print(f\"SCM: {scm:.1f} kg/m³\")\n",
    "    print(f\"Natural Aggregate: {natural_agg:.1f} kg/m³\")\n",
    "    print(f\"Recycled Aggregate: {recycled_agg:.1f} kg/m³\")\n",
    "    print(f\"Water: {water:.1f} kg/m³\")\n",
    "    print(f\"\\n🌍 Embodied Carbon: {emissions:.2f} kg CO₂/m³\")\n",
    "    print(f\"💰 Life Cycle Cost: ${cost:.2f}/m³\")\n",
    "    print(f\"📏 Estimated Compressive Strength: {strength:.1f} MPa\")\n",
    "    print(f\"🛡️ Durability Score (0–10): {durability}/10\")\n",
    "\n",
    "    # 📈 Bar chart\n",
    "    categories = ['Carbon (kg CO₂)', 'Cost ($)', 'Strength (MPa)', 'Durability']\n",
    "    values = [emissions, cost, strength, durability]\n",
    "    colors = ['gray', 'green', 'orange', 'blue']\n",
    "\n",
    "    plt.figure(figsize=(8, 5))\n",
    "    plt.bar(categories, values, color=colors)\n",
    "    plt.title(\"Sustainable Concrete Performance Metrics\")\n",
    "    plt.ylabel(\"Value\")\n",
    "    plt.grid(True)\n",
    "    plt.tight_layout()\n",
    "    plt.show()\n",
    "\n",
    "    # 📘 Interpretation\n",
    "    print(\"\\n📘 Interpretation:\")\n",
    "\n",
    "    # Carbon footprint\n",
    "    if emissions < 200:\n",
    "        print(\"✅ Low embodied carbon — suitable for green building certification.\")\n",
    "    elif emissions < 350:\n",
    "        print(\"⚠️ Moderate embodied carbon — better than conventional mixes.\")\n",
    "    else:\n",
    "        print(\"❌ High embodied carbon — consider reducing clinker or increasing SCM.\")\n",
    "\n",
    "    # Strength\n",
    "    if strength < 20:\n",
    "        print(\"⚠️ Low strength — suitable for non-structural applications.\")\n",
    "    elif strength < 35:\n",
    "        print(\"✅ Moderate strength — suitable for residential or light-duty structures.\")\n",
    "    else:\n",
    "        print(\"✅ High strength — suitable for structural and infrastructure-grade concrete.\")\n",
    "\n",
    "    # Durability\n",
    "    if durability >= 8:\n",
    "        print(\"✅ High durability — good resistance to environmental degradation.\")\n",
    "    elif durability >= 5:\n",
    "        print(\"⚠️ Moderate durability — may require protective measures.\")\n",
    "    else:\n",
    "        print(\"❌ Low durability — not recommended for exposed or aggressive environments.\")\n",
    "\n",
    "    # Cost\n",
    "    if cost < 100:\n",
    "        print(\"✅ Economical mix — cost-effective for large-scale use.\")\n",
    "    elif cost < 150:\n",
    "        print(\"⚠️ Moderate cost — acceptable for performance-driven applications.\")\n",
    "    else:\n",
    "        print(\"❌ High cost — consider optimizing material selection.\")\n",
    "\n",
    "# 🎛️ Interactive sliders\n",
    "clinker_slider = widgets.FloatSlider(value=85, min=40, max=100, step=5, description='Clinker %')\n",
    "scm_slider = widgets.FloatSlider(value=15, min=0, max=60, step=5, description='SCM %')\n",
    "recycled_slider = widgets.FloatSlider(value=0, min=0, max=100, step=10, description='Recycled Agg %')\n",
    "\n",
    "interactive_mix = widgets.interactive(\n",
    "    update_mix,\n",
    "    clinker_pct=clinker_slider,\n",
    "    scm_pct=scm_slider,\n",
    "    recycled_pct=recycled_slider\n",
    ")\n",
    "\n",
    "display(interactive_mix)"
   ]
  },
  {
   "cell_type": "markdown",
   "id": "80c09caa-6901-41e7-a9d6-8c5314751745",
   "metadata": {},
   "source": [
    "## 3. Self-Assessment"
   ]
  },
  {
   "cell_type": "markdown",
   "id": "09597c4c-f183-493a-8093-74e3e440c8f0",
   "metadata": {},
   "source": [
    "\n",
    "### 📘 Conceptual Questions\n",
    "\n",
    "These questions explore the physical principles, modeling logic, and sustainability metrics embedded in the calculator.\n",
    "\n",
    "### Material Impact\n",
    "- Why is clinker the most carbon-intensive component in concrete?\n",
    "- What role do supplementary cementitious materials (SCMs) play in reducing embodied carbon?\n",
    "- How does the use of recycled aggregate influence both environmental and mechanical performance?\n",
    "\n",
    "### Engineering Metrics\n",
    "- What is the significance of the water-to-binder ratio in estimating compressive strength?\n",
    "- How does SCM content affect durability, especially in sulfate-rich or marine environments?\n",
    "- Why is compressive strength modeled using an empirical power-law relationship?\n",
    "\n",
    "### Economic and Environmental Trade-offs\n",
    "- How does life cycle cost reflect both material prices and sustainability choices?\n",
    "- Why might a mix with lower embodied carbon still have higher cost?\n",
    "- What are the limitations of using static emission and cost factors in dynamic construction contexts?\n",
    "\n",
    "---\n",
    "\n",
    "### 🔍 Reflective Questions\n",
    "\n",
    "These questions encourage critical thinking and application to real-world design and sustainability decisions.\n",
    "\n",
    "- If your goal is to design a mix for a coastal structure, how would you adjust SCM and recycled aggregate percentages?\n",
    "- How would your mix design change if the project prioritized cost over carbon reduction?\n",
    "- What are the trade-offs between achieving high compressive strength and minimizing embodied carbon?\n",
    "- How could this model be extended to include long-term durability testing or service life predictions?\n",
    "- What policy incentives could encourage adoption of low-carbon concrete mixes in public infrastructure?\n",
    "\n",
    "---\n",
    "\n",
    "### ❓ Quiz Questions\n",
    "\n",
    "### Multiple Choice\n",
    "\n",
    "1. **Which material contributes the most to embodied carbon in a typical concrete mix?**  \n",
    "   A. Water  \n",
    "   B. Recycled Aggregate  \n",
    "   C. Clinker  \n",
    "   D. SCM  \n",
    "   **Answer:** C\n",
    "\n",
    "2. **What is the primary benefit of using SCMs like fly ash or slag?**  \n",
    "   A. Increased water demand  \n",
    "   B. Lower compressive strength  \n",
    "   C. Reduced carbon footprint  \n",
    "   D. Higher cost  \n",
    "   **Answer:** C\n",
    "\n",
    "3. **Which factor most directly influences compressive strength in the model?**  \n",
    "   A. Aggregate type  \n",
    "   B. Water-to-binder ratio  \n",
    "   C. SCM percentage  \n",
    "   D. Recycled aggregate percentage  \n",
    "   **Answer:** B\n",
    "\n",
    "### True/False\n",
    "\n",
    "4. **Increasing SCM content generally improves sulfate resistance.**  \n",
    "   **Answer:** True\n",
    "\n",
    "5. **Recycled aggregates always improve durability.**  \n",
    "   **Answer:** False\n",
    "\n",
    "6. **The model assumes a fixed water content across all mix designs.**  \n",
    "   **Answer:** True\n",
    "\n",
    "### Short Answer\n",
    "\n",
    "7. **Explain why reducing clinker content lowers the embodied carbon of concrete.**  \n",
    "   *Answer:* Clinker production involves high-temperature calcination and fossil fuel combustion, making it the most carbon-intensive component.\n",
    "\n",
    "8. **What are the potential durability concerns when using high percentages of recycled aggregate?**  \n",
    "   *Answer:* Reduced freeze-thaw resistance, increased shrinkage, and lower long-term strength due to variability in recycled material quality.\n"
   ]
  }
 ],
 "metadata": {
  "kernelspec": {
   "display_name": "Python [conda env:base] *",
   "language": "python",
   "name": "conda-base-py"
  },
  "language_info": {
   "codemirror_mode": {
    "name": "ipython",
    "version": 3
   },
   "file_extension": ".py",
   "mimetype": "text/x-python",
   "name": "python",
   "nbconvert_exporter": "python",
   "pygments_lexer": "ipython3",
   "version": "3.12.7"
  },
  "widgets": {
   "application/vnd.jupyter.widget-state+json": {
    "state": {
     "0efd0273a8ad4611aa5d49bfc28dc574": {
      "model_module": "@jupyter-widgets/base",
      "model_module_version": "2.0.0",
      "model_name": "LayoutModel",
      "state": {}
     },
     "179dbc6210f3429186884193f4ce1f38": {
      "model_module": "@jupyter-widgets/controls",
      "model_module_version": "2.0.0",
      "model_name": "VBoxModel",
      "state": {
       "_dom_classes": [
        "widget-interact"
       ],
       "children": [
        "IPY_MODEL_5351744ff607481bb4b92335bb72ac80",
        "IPY_MODEL_4f37413df3c04cafa9cb81e7e99b6cac",
        "IPY_MODEL_736ad32982854b798b7e12e8c952d8ec",
        "IPY_MODEL_c9e394c225cc437991390785ff5f8ce3"
       ],
       "layout": "IPY_MODEL_c77e4fcd57b84034b9761628a45e9009"
      }
     },
     "297f92844fa24edc86c10d2e5cfd139e": {
      "model_module": "@jupyter-widgets/controls",
      "model_module_version": "2.0.0",
      "model_name": "FloatSliderModel",
      "state": {
       "behavior": "drag-tap",
       "description": "SCM %",
       "layout": "IPY_MODEL_b88fad0539994a71975ba488df712dc5",
       "max": 60,
       "step": 5,
       "style": "IPY_MODEL_c7c79966905f49d8bd88bf8756b305db",
       "value": 15
      }
     },
     "2d470c03cf82406e8831a9d57e6c7594": {
      "model_module": "@jupyter-widgets/output",
      "model_module_version": "1.0.0",
      "model_name": "OutputModel",
      "state": {
       "layout": "IPY_MODEL_7d7a27fee3df4d50b13f038f59f627d9",
       "outputs": [
        {
         "name": "stdout",
         "output_type": "stream",
         "text": "🧱 Sustainable Concrete Mix:\nClinker: 297.5 kg/m³\nSCM: 52.5 kg/m³\nNatural Aggregate: 1800.0 kg/m³\nRecycled Aggregate: 0.0 kg/m³\nWater: 180.0 kg/m³\n\n🌍 Embodied Carbon: 264.55 kg CO₂/m³\n💰 Life Cycle Cost: $55.45/m³\n📏 Estimated Compressive Strength: 41.8 MPa\n🛡️ Durability Score (0–10): 5/10\n"
        },
        {
         "data": {
          "image/png": "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",
          "text/plain": "<Figure size 800x500 with 1 Axes>"
         },
         "metadata": {},
         "output_type": "display_data"
        }
       ]
      }
     },
     "2dee145a89974bd58b2081197a9d7058": {
      "model_module": "@jupyter-widgets/base",
      "model_module_version": "2.0.0",
      "model_name": "LayoutModel",
      "state": {}
     },
     "2df69485367b4b23825b4496a3ed7021": {
      "model_module": "@jupyter-widgets/output",
      "model_module_version": "1.0.0",
      "model_name": "OutputModel",
      "state": {
       "layout": "IPY_MODEL_6ccb233e10e94b2f99bd5c87c2803b49",
       "outputs": [
        {
         "name": "stdout",
         "output_type": "stream",
         "text": "🧱 Sustainable Concrete Mix:\nClinker: 297.5 kg/m³\nSCM: 52.5 kg/m³\nNatural Aggregate: 1800.0 kg/m³\nRecycled Aggregate: 0.0 kg/m³\nWater: 180.0 kg/m³\n\n🌍 Embodied Carbon: 264.55 kg CO₂/m³\n💰 Life Cycle Cost: $55.45/m³\n📏 Estimated Compressive Strength: 41.8 MPa\n🛡️ Durability Score (0–10): 5/10\n"
        },
        {
         "data": {
          "image/png": "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",
          "text/plain": "<Figure size 800x500 with 1 Axes>"
         },
         "metadata": {},
         "output_type": "display_data"
        },
        {
         "name": "stdout",
         "output_type": "stream",
         "text": "\n📘 Interpretation:\n⚠️ Moderate embodied carbon — better than conventional mixes.\n✅ High strength — suitable for structural and infrastructure-grade concrete.\n⚠️ Moderate durability — may require protective measures.\n✅ Economical mix — cost-effective for large-scale use.\n"
        }
       ]
      }
     },
     "2fda41097bf8479ba77da7a14807c892": {
      "model_module": "@jupyter-widgets/controls",
      "model_module_version": "2.0.0",
      "model_name": "FloatSliderModel",
      "state": {
       "behavior": "drag-tap",
       "description": "Clinker %",
       "layout": "IPY_MODEL_99ac1f9e999c45beb2eb3209923149d7",
       "min": 40,
       "step": 5,
       "style": "IPY_MODEL_e00b36e9319b47bb953a969278be9c60",
       "value": 85
      }
     },
     "461b870fb3614d32833fd5f7402cecfe": {
      "model_module": "@jupyter-widgets/controls",
      "model_module_version": "2.0.0",
      "model_name": "FloatSliderModel",
      "state": {
       "behavior": "drag-tap",
       "description": "SCM %",
       "layout": "IPY_MODEL_75e72c5343ac4b98bc86efc58b0db3fe",
       "max": 60,
       "step": 5,
       "style": "IPY_MODEL_5217f3d4c4b749b4a52b58cc00748172",
       "value": 35
      }
     },
     "4a25585d30384bc3b3887f30535f9de3": {
      "model_module": "@jupyter-widgets/controls",
      "model_module_version": "2.0.0",
      "model_name": "FloatSliderModel",
      "state": {
       "behavior": "drag-tap",
       "description": "Clinker %",
       "layout": "IPY_MODEL_0efd0273a8ad4611aa5d49bfc28dc574",
       "min": 40,
       "step": 5,
       "style": "IPY_MODEL_e1c43f84db5b48e38b1ec51371b18422",
       "value": 85
      }
     },
     "4ad4462c77dc4883b8a4b1a116ef4ff0": {
      "model_module": "@jupyter-widgets/base",
      "model_module_version": "2.0.0",
      "model_name": "LayoutModel",
      "state": {}
     },
     "4e33fe28dd014fe6b42385d1a8eb30e1": {
      "model_module": "@jupyter-widgets/controls",
      "model_module_version": "2.0.0",
      "model_name": "SliderStyleModel",
      "state": {
       "description_width": ""
      }
     },
     "4f37413df3c04cafa9cb81e7e99b6cac": {
      "model_module": "@jupyter-widgets/controls",
      "model_module_version": "2.0.0",
      "model_name": "FloatSliderModel",
      "state": {
       "behavior": "drag-tap",
       "description": "SCM %",
       "layout": "IPY_MODEL_77b8b44faace426eb942029a3ee72642",
       "max": 60,
       "step": 5,
       "style": "IPY_MODEL_b8c331e22cd742278cfe3c24d752dad4",
       "value": 15
      }
     },
     "5217f3d4c4b749b4a52b58cc00748172": {
      "model_module": "@jupyter-widgets/controls",
      "model_module_version": "2.0.0",
      "model_name": "SliderStyleModel",
      "state": {
       "description_width": ""
      }
     },
     "5351744ff607481bb4b92335bb72ac80": {
      "model_module": "@jupyter-widgets/controls",
      "model_module_version": "2.0.0",
      "model_name": "FloatSliderModel",
      "state": {
       "behavior": "drag-tap",
       "description": "Clinker %",
       "layout": "IPY_MODEL_2dee145a89974bd58b2081197a9d7058",
       "min": 40,
       "step": 5,
       "style": "IPY_MODEL_e8a823a060a44b8cbc4c3199d6270d81",
       "value": 85
      }
     },
     "535853c4b16a418e8b7d9b22956e66af": {
      "model_module": "@jupyter-widgets/controls",
      "model_module_version": "2.0.0",
      "model_name": "SliderStyleModel",
      "state": {
       "description_width": ""
      }
     },
     "547d74bcb4154d82a3c2334e887a4648": {
      "model_module": "@jupyter-widgets/controls",
      "model_module_version": "2.0.0",
      "model_name": "VBoxModel",
      "state": {
       "_dom_classes": [
        "widget-interact"
       ],
       "children": [
        "IPY_MODEL_c05163036ca84954b50225d7fd99a466",
        "IPY_MODEL_57671e94e2004f32bb94725afb3823d9",
        "IPY_MODEL_ccfae568be5640889d199f7d6046af1b",
        "IPY_MODEL_2d470c03cf82406e8831a9d57e6c7594"
       ],
       "layout": "IPY_MODEL_db9e2803588745dba32bc1979b826024"
      }
     },
     "57671e94e2004f32bb94725afb3823d9": {
      "model_module": "@jupyter-widgets/controls",
      "model_module_version": "2.0.0",
      "model_name": "FloatSliderModel",
      "state": {
       "behavior": "drag-tap",
       "description": "SCM %",
       "layout": "IPY_MODEL_d44dd8b450024a2eb632f6a81995332e",
       "max": 60,
       "step": 5,
       "style": "IPY_MODEL_535853c4b16a418e8b7d9b22956e66af",
       "value": 15
      }
     },
     "5d82f29648084a89876e20f86a69c27e": {
      "model_module": "@jupyter-widgets/controls",
      "model_module_version": "2.0.0",
      "model_name": "SliderStyleModel",
      "state": {
       "description_width": ""
      }
     },
     "66cc9dff778f451b8a91a2dc4d14c924": {
      "model_module": "@jupyter-widgets/base",
      "model_module_version": "2.0.0",
      "model_name": "LayoutModel",
      "state": {}
     },
     "6820ff5bdd894cdb975c02312eeedca9": {
      "model_module": "@jupyter-widgets/controls",
      "model_module_version": "2.0.0",
      "model_name": "FloatSliderModel",
      "state": {
       "behavior": "drag-tap",
       "description": "Recycled Agg %",
       "layout": "IPY_MODEL_9d7dd151c2e94b9ea5fb2e79596d8179",
       "step": 10,
       "style": "IPY_MODEL_4e33fe28dd014fe6b42385d1a8eb30e1"
      }
     },
     "6ccb233e10e94b2f99bd5c87c2803b49": {
      "model_module": "@jupyter-widgets/base",
      "model_module_version": "2.0.0",
      "model_name": "LayoutModel",
      "state": {}
     },
     "736ad32982854b798b7e12e8c952d8ec": {
      "model_module": "@jupyter-widgets/controls",
      "model_module_version": "2.0.0",
      "model_name": "FloatSliderModel",
      "state": {
       "behavior": "drag-tap",
       "description": "Recycled Agg %",
       "layout": "IPY_MODEL_4ad4462c77dc4883b8a4b1a116ef4ff0",
       "step": 10,
       "style": "IPY_MODEL_c266f599440245f18d6f86eba1b05315"
      }
     },
     "74ef5d4048f6432d8534722669b07d28": {
      "model_module": "@jupyter-widgets/controls",
      "model_module_version": "2.0.0",
      "model_name": "VBoxModel",
      "state": {
       "_dom_classes": [
        "widget-interact"
       ],
       "children": [
        "IPY_MODEL_2fda41097bf8479ba77da7a14807c892",
        "IPY_MODEL_461b870fb3614d32833fd5f7402cecfe",
        "IPY_MODEL_b9232e7eab7349128224a2f7f0da3cb3",
        "IPY_MODEL_f6158cacd7bc46c0a39316b77e21d745"
       ],
       "layout": "IPY_MODEL_f0e120b188d1451d8e474d2630560153"
      }
     },
     "7570549a54ad46a083f0ad63e06b445e": {
      "model_module": "@jupyter-widgets/base",
      "model_module_version": "2.0.0",
      "model_name": "LayoutModel",
      "state": {}
     },
     "75e72c5343ac4b98bc86efc58b0db3fe": {
      "model_module": "@jupyter-widgets/base",
      "model_module_version": "2.0.0",
      "model_name": "LayoutModel",
      "state": {}
     },
     "77b8b44faace426eb942029a3ee72642": {
      "model_module": "@jupyter-widgets/base",
      "model_module_version": "2.0.0",
      "model_name": "LayoutModel",
      "state": {}
     },
     "7d7a27fee3df4d50b13f038f59f627d9": {
      "model_module": "@jupyter-widgets/base",
      "model_module_version": "2.0.0",
      "model_name": "LayoutModel",
      "state": {}
     },
     "7dd865b56fe74a469a821863249ce288": {
      "model_module": "@jupyter-widgets/controls",
      "model_module_version": "2.0.0",
      "model_name": "SliderStyleModel",
      "state": {
       "description_width": ""
      }
     },
     "8c953888a68243a99cd09d9f5ff7c93e": {
      "model_module": "@jupyter-widgets/base",
      "model_module_version": "2.0.0",
      "model_name": "LayoutModel",
      "state": {}
     },
     "9054b2e0d9154d3bbb799f611d0ead89": {
      "model_module": "@jupyter-widgets/controls",
      "model_module_version": "2.0.0",
      "model_name": "VBoxModel",
      "state": {
       "_dom_classes": [
        "widget-interact"
       ],
       "children": [
        "IPY_MODEL_4a25585d30384bc3b3887f30535f9de3",
        "IPY_MODEL_297f92844fa24edc86c10d2e5cfd139e",
        "IPY_MODEL_6820ff5bdd894cdb975c02312eeedca9",
        "IPY_MODEL_2df69485367b4b23825b4496a3ed7021"
       ],
       "layout": "IPY_MODEL_66cc9dff778f451b8a91a2dc4d14c924"
      }
     },
     "91ca634048bd4eadb193c846d71c4b6f": {
      "model_module": "@jupyter-widgets/base",
      "model_module_version": "2.0.0",
      "model_name": "LayoutModel",
      "state": {}
     },
     "99ac1f9e999c45beb2eb3209923149d7": {
      "model_module": "@jupyter-widgets/base",
      "model_module_version": "2.0.0",
      "model_name": "LayoutModel",
      "state": {}
     },
     "9d7dd151c2e94b9ea5fb2e79596d8179": {
      "model_module": "@jupyter-widgets/base",
      "model_module_version": "2.0.0",
      "model_name": "LayoutModel",
      "state": {}
     },
     "b88fad0539994a71975ba488df712dc5": {
      "model_module": "@jupyter-widgets/base",
      "model_module_version": "2.0.0",
      "model_name": "LayoutModel",
      "state": {}
     },
     "b8c331e22cd742278cfe3c24d752dad4": {
      "model_module": "@jupyter-widgets/controls",
      "model_module_version": "2.0.0",
      "model_name": "SliderStyleModel",
      "state": {
       "description_width": ""
      }
     },
     "b9232e7eab7349128224a2f7f0da3cb3": {
      "model_module": "@jupyter-widgets/controls",
      "model_module_version": "2.0.0",
      "model_name": "FloatSliderModel",
      "state": {
       "behavior": "drag-tap",
       "description": "Recycled Agg %",
       "layout": "IPY_MODEL_d7dfa037aa9f4bc4b0dd96e42d81705f",
       "step": 10,
       "style": "IPY_MODEL_fcfe874c10a44b919cc983da6ccdf248",
       "value": 30
      }
     },
     "c05163036ca84954b50225d7fd99a466": {
      "model_module": "@jupyter-widgets/controls",
      "model_module_version": "2.0.0",
      "model_name": "FloatSliderModel",
      "state": {
       "behavior": "drag-tap",
       "description": "Clinker %",
       "layout": "IPY_MODEL_e3fc5e9f9eae40298d5e7ecd84fe7797",
       "min": 40,
       "step": 5,
       "style": "IPY_MODEL_7dd865b56fe74a469a821863249ce288",
       "value": 85
      }
     },
     "c266f599440245f18d6f86eba1b05315": {
      "model_module": "@jupyter-widgets/controls",
      "model_module_version": "2.0.0",
      "model_name": "SliderStyleModel",
      "state": {
       "description_width": ""
      }
     },
     "c77e4fcd57b84034b9761628a45e9009": {
      "model_module": "@jupyter-widgets/base",
      "model_module_version": "2.0.0",
      "model_name": "LayoutModel",
      "state": {}
     },
     "c7c79966905f49d8bd88bf8756b305db": {
      "model_module": "@jupyter-widgets/controls",
      "model_module_version": "2.0.0",
      "model_name": "SliderStyleModel",
      "state": {
       "description_width": ""
      }
     },
     "c9e394c225cc437991390785ff5f8ce3": {
      "model_module": "@jupyter-widgets/output",
      "model_module_version": "1.0.0",
      "model_name": "OutputModel",
      "state": {
       "layout": "IPY_MODEL_7570549a54ad46a083f0ad63e06b445e",
       "outputs": [
        {
         "name": "stdout",
         "output_type": "stream",
         "text": "🧱 Sustainable Concrete Mix:\nClinker: 297.5 kg/m³\nSCM: 52.5 kg/m³\nNatural Aggregate: 1800.0 kg/m³\nRecycled Aggregate: 0.0 kg/m³\nWater: 180.0 kg/m³\n\n🌍 Embodied Carbon: 264.55 kg CO₂/m³\n💰 Life Cycle Cost: $55.45/m³\n📏 Estimated Compressive Strength: 41.8 MPa\n🛡️ Durability Score (0–10): 5/10\n"
        },
        {
         "data": {
          "image/png": "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",
          "text/plain": "<Figure size 800x500 with 1 Axes>"
         },
         "metadata": {},
         "output_type": "display_data"
        },
        {
         "name": "stdout",
         "output_type": "stream",
         "text": "\n📘 Interpretation:\n⚠️ Moderate embodied carbon — better than conventional mixes.\n✅ High strength — suitable for structural and infrastructure-grade concrete.\n⚠️ Moderate durability — may require protective measures.\n✅ Economical mix — cost-effective for large-scale use.\n"
        }
       ]
      }
     },
     "ccfae568be5640889d199f7d6046af1b": {
      "model_module": "@jupyter-widgets/controls",
      "model_module_version": "2.0.0",
      "model_name": "FloatSliderModel",
      "state": {
       "behavior": "drag-tap",
       "description": "Recycled Agg %",
       "layout": "IPY_MODEL_91ca634048bd4eadb193c846d71c4b6f",
       "step": 10,
       "style": "IPY_MODEL_5d82f29648084a89876e20f86a69c27e"
      }
     },
     "d44dd8b450024a2eb632f6a81995332e": {
      "model_module": "@jupyter-widgets/base",
      "model_module_version": "2.0.0",
      "model_name": "LayoutModel",
      "state": {}
     },
     "d7dfa037aa9f4bc4b0dd96e42d81705f": {
      "model_module": "@jupyter-widgets/base",
      "model_module_version": "2.0.0",
      "model_name": "LayoutModel",
      "state": {}
     },
     "db9e2803588745dba32bc1979b826024": {
      "model_module": "@jupyter-widgets/base",
      "model_module_version": "2.0.0",
      "model_name": "LayoutModel",
      "state": {}
     },
     "e00b36e9319b47bb953a969278be9c60": {
      "model_module": "@jupyter-widgets/controls",
      "model_module_version": "2.0.0",
      "model_name": "SliderStyleModel",
      "state": {
       "description_width": ""
      }
     },
     "e1c43f84db5b48e38b1ec51371b18422": {
      "model_module": "@jupyter-widgets/controls",
      "model_module_version": "2.0.0",
      "model_name": "SliderStyleModel",
      "state": {
       "description_width": ""
      }
     },
     "e3fc5e9f9eae40298d5e7ecd84fe7797": {
      "model_module": "@jupyter-widgets/base",
      "model_module_version": "2.0.0",
      "model_name": "LayoutModel",
      "state": {}
     },
     "e8a823a060a44b8cbc4c3199d6270d81": {
      "model_module": "@jupyter-widgets/controls",
      "model_module_version": "2.0.0",
      "model_name": "SliderStyleModel",
      "state": {
       "description_width": ""
      }
     },
     "f0e120b188d1451d8e474d2630560153": {
      "model_module": "@jupyter-widgets/base",
      "model_module_version": "2.0.0",
      "model_name": "LayoutModel",
      "state": {}
     },
     "f6158cacd7bc46c0a39316b77e21d745": {
      "model_module": "@jupyter-widgets/output",
      "model_module_version": "1.0.0",
      "model_name": "OutputModel",
      "state": {
       "layout": "IPY_MODEL_8c953888a68243a99cd09d9f5ff7c93e",
       "outputs": [
        {
         "name": "stdout",
         "output_type": "stream",
         "text": "🧱 Sustainable Concrete Mix:\nClinker: 297.5 kg/m³\nSCM: 52.5 kg/m³\nNatural Aggregate: 1800.0 kg/m³\nRecycled Aggregate: 0.0 kg/m³\nWater: 180 kg/m³\n\n🌍 Estimated Embodied Carbon: 264.55 kg CO₂/m³\n"
        },
        {
         "data": {
          "image/png": "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",
          "text/plain": "<Figure size 600x400 with 1 Axes>"
         },
         "metadata": {},
         "output_type": "display_data"
        }
       ]
      }
     },
     "fcfe874c10a44b919cc983da6ccdf248": {
      "model_module": "@jupyter-widgets/controls",
      "model_module_version": "2.0.0",
      "model_name": "SliderStyleModel",
      "state": {
       "description_width": ""
      }
     }
    },
    "version_major": 2,
    "version_minor": 0
   }
  }
 },
 "nbformat": 4,
 "nbformat_minor": 5
}
