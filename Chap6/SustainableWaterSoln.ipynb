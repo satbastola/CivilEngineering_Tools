{
 "cells": [
  {
   "cell_type": "markdown",
   "id": "3876c9a8-5533-4d14-8825-2e0ff3352c32",
   "metadata": {},
   "source": [
    "# Chapter 6 Sustainabilty and Engineering: Sustainable Water"
   ]
  },
  {
   "cell_type": "markdown",
   "id": "d3e7df5c-390a-46ee-9e79-04eba14f1189",
   "metadata": {},
   "source": [
    "1. [Introduction: Sustainable Water](#1.-Introduction)\n",
    "2. [Simulation: Sustainable Water](#2.-Simulation)\n",
    "3. [Self-Assessment](#3.-Self-Assessment)"
   ]
  },
  {
   "cell_type": "markdown",
   "id": "7da3f6dd-7a2a-468b-ad40-65825d0531b4",
   "metadata": {},
   "source": [
    "## 1. Introduction"
   ]
  },
  {
   "cell_type": "markdown",
   "id": "aaff3739-59c8-4dea-a9a6-cdf21f3e42a3",
   "metadata": {},
   "source": [
    "### 💧 Sustainable Water Savings Simulation\n",
    "\n",
    "### 📘 Overview\n",
    "\n",
    "This interactive model estimates **daily and monthly water savings** for a household based on the adoption of **efficient appliances and fixtures**. It simulates how upgrades like low-flow toilets, efficient showers, and eco-friendly dishwashers can reduce water consumption over time.\n",
    "\n",
    "---\n",
    "\n",
    "### 🧮 Model Assumptions\n",
    "\n",
    "### 🔹 Base Water Usage (per person/day)\n",
    "\n",
    "| Activity     | Default Usage (L/day) |\n",
    "|--------------|------------------------|\n",
    "| Toilet       | 18                    |\n",
    "| Shower       | 50                    |\n",
    "| Faucet       | 12                    |\n",
    "| Laundry      | 60                    |\n",
    "| Dishwasher   | 15                    |\n",
    "\n",
    "These values reflect typical modern usage patterns.\n",
    "\n",
    "---\n",
    "\n",
    "### 🔹 Efficiency Upgrades\n",
    "\n",
    "| Upgrade              | Default Savings (%) |\n",
    "|----------------------|---------------------|\n",
    "| Low-flow toilet       | 40%                |\n",
    "| Efficient shower      | 30%                |\n",
    "| Aerated faucet        | 30%                |\n",
    "| High-efficiency laundry | 40%             |\n",
    "| Eco dishwasher        | 50%                |\n",
    "\n",
    "Each slider allows users to adjust the efficiency level of these upgrades.\n",
    "\n",
    "---\n",
    "\n",
    "### 📊 Simulation Output\n",
    "\n",
    "- **Daily water saved**: based on the difference between baseline and adjusted usage\n",
    "- **Cumulative savings**: plotted over a 30-day period\n",
    "- **Interactive controls**: adjust household size and efficiency levels\n",
    "\n",
    "---\n",
    "\n",
    "### 📈 Visualization\n",
    "\n",
    "The plot shows:\n",
    "\n",
    "- **X-axis**: Day of the month (1–30)\n",
    "- **Y-axis**: Cumulative water saved in liters\n",
    "- **Line**: Total savings over time for the selected household and upgrade settings\n",
    "\n",
    "---\n",
    "\n",
    "### 🧠 How It Works\n",
    "\n",
    "1. Calculates total daily water use for the household\n",
    "2. Applies efficiency reductions to each category\n",
    "3. Computes daily and cumulative savings\n",
    "4. Displays results interactively with sliders\n",
    "\n",
    "---\n",
    "\n",
    "### 📚 Use Cases\n",
    "\n",
    "- Estimating impact of sustainable upgrades\n",
    "- Educational tool for water conservation awareness\n",
    "- Planning household retrofits or green building design\n"
   ]
  },
  {
   "cell_type": "markdown",
   "id": "e0fb8074-a90a-40db-a1f4-7cbf75f7385f",
   "metadata": {},
   "source": [
    "## 2. Simulation"
   ]
  },
  {
   "cell_type": "code",
   "execution_count": 3,
   "id": "1d351d7f-3c8e-486d-ac28-b2b36e1c3185",
   "metadata": {},
   "outputs": [
    {
     "data": {
      "application/vnd.jupyter.widget-view+json": {
       "model_id": "766f366fdac14247ac6fd941745a1583",
       "version_major": 2,
       "version_minor": 0
      },
      "text/plain": [
       "interactive(children=(IntSlider(value=3, description='Household Size', max=10, min=1), FloatSlider(value=0.4, …"
      ]
     },
     "metadata": {},
     "output_type": "display_data"
    }
   ],
   "source": [
    "import numpy as np\n",
    "import matplotlib.pyplot as plt\n",
    "from ipywidgets import FloatSlider, IntSlider, interact\n",
    "\n",
    "# 💦 Base water usage estimates (per person/day)\n",
    "usage_defaults = {\n",
    "    'toilet': 18,     # liters/day (modern low-flush ≈ 6L/use × 3 uses)\n",
    "    'shower': 50,     # liters/day\n",
    "    'faucet': 12,     # liters/day\n",
    "    'laundry': 60,    # liters/day\n",
    "    'dishwasher': 15  # liters/day\n",
    "}\n",
    "\n",
    "# 🧠 Water savings % for sustainable upgrades\n",
    "savings_defaults = {\n",
    "    'low_flow_toilet': 0.4,\n",
    "    'efficient_shower': 0.3,\n",
    "    'aerated_faucet': 0.3,\n",
    "    'HE_laundry': 0.4,\n",
    "    'eco_dishwasher': 0.5\n",
    "}\n",
    "\n",
    "# 💧 Main function to calculate and plot results\n",
    "def simulate_water_savings(people, toilet_eff, shower_eff, faucet_eff, laundry_eff, dish_eff):\n",
    "    days = np.arange(1, 31)\n",
    "    \n",
    "    # Base consumption (L/day)\n",
    "    daily_base = people * sum(usage_defaults.values())\n",
    "    \n",
    "    # Adjusted usage with efficiencies\n",
    "    adjusted = {\n",
    "        'toilet': usage_defaults['toilet'] * (1 - toilet_eff),\n",
    "        'shower': usage_defaults['shower'] * (1 - shower_eff),\n",
    "        'faucet': usage_defaults['faucet'] * (1 - faucet_eff),\n",
    "        'laundry': usage_defaults['laundry'] * (1 - laundry_eff),\n",
    "        'dishwasher': usage_defaults['dishwasher'] * (1 - dish_eff),\n",
    "    }\n",
    "    \n",
    "    daily_saving = people * (sum(usage_defaults.values()) - sum(adjusted.values()))\n",
    "    cumulative_saving = daily_saving * days\n",
    "\n",
    "    # 📊 Plot\n",
    "    plt.figure(figsize=(10, 4))\n",
    "    plt.plot(days, cumulative_saving, label=\"Cumulative Water Saved (L)\", color=\"royalblue\")\n",
    "    plt.title(f\"Sustainable Water Savings Simulation — {people} People\")\n",
    "    plt.xlabel(\"Day of Month\")\n",
    "    plt.ylabel(\"Water Saved (Liters)\")\n",
    "    plt.grid(True)\n",
    "    plt.legend()\n",
    "    plt.tight_layout()\n",
    "    plt.show()\n",
    "    \n",
    "    print(f\"💧 Estimated Daily Water Saved: {daily_saving:.0f} L\")\n",
    "    print(f\"📆 Estimated Monthly Savings: {cumulative_saving[-1]:.0f} L\")\n",
    "\n",
    "# 🎛️ Interactive sliders\n",
    "interact(simulate_water_savings,\n",
    "         people=IntSlider(value=3, min=1, max=10, step=1, description='Household Size'),\n",
    "         toilet_eff=FloatSlider(value=savings_defaults['low_flow_toilet'], min=0.0, max=0.6, step=0.05, description='Toilet Efficiency'),\n",
    "         shower_eff=FloatSlider(value=savings_defaults['efficient_shower'], min=0.0, max=0.5, step=0.05, description='Shower Efficiency'),\n",
    "         faucet_eff=FloatSlider(value=savings_defaults['aerated_faucet'], min=0.0, max=0.5, step=0.05, description='Faucet Efficiency'),\n",
    "         laundry_eff=FloatSlider(value=savings_defaults['HE_laundry'], min=0.0, max=0.6, step=0.05, description='Laundry Efficiency'),\n",
    "         dish_eff=FloatSlider(value=savings_defaults['eco_dishwasher'], min=0.0, max=0.6, step=0.05, description='Dishwasher Efficiency'));\n"
   ]
  },
  {
   "cell_type": "markdown",
   "id": "f3aaea7b-368d-4b28-8ba9-f8e5c4e78a62",
   "metadata": {},
   "source": [
    "## 3. Self-Assessment"
   ]
  },
  {
   "cell_type": "markdown",
   "id": "3b9bd8e5-2d59-477d-857d-0f1121afa7cb",
   "metadata": {},
   "source": [
    "\n",
    "###  Conceptual Questions\n",
    "\n",
    "These questions explore the physical meaning and modeling assumptions behind the simulation.\n",
    "\n",
    "### Household Water Use\n",
    "- What are the primary contributors to daily household water consumption?\n",
    "- How does household size affect total water usage and potential savings?\n",
    "- Why is water usage modeled as a linear function of time in this simulation?\n",
    "\n",
    "### Efficiency Modeling\n",
    "- How do efficiency percentages translate into reduced water usage for each appliance?\n",
    "- Why is the adjusted usage calculated as \\( \\text{usage} \\times (1 - \\text{efficiency}) \\)?\n",
    "- What assumptions are made about the consistency of daily water use and behavior?\n",
    "\n",
    "### Cumulative Savings\n",
    "- Why is cumulative savings modeled as a linear accumulation over days?\n",
    "- How would the results change if usage patterns varied by day (e.g., weekends vs weekdays)?\n",
    "- What are the limitations of using fixed default values for water usage across households?\n",
    "\n",
    "---\n",
    "\n",
    "### 🔍 Reflective Questions\n",
    "\n",
    "These questions encourage critical thinking and application to real-world sustainability decisions.\n",
    "\n",
    "- Which efficiency upgrade offers the greatest potential savings in your household context?\n",
    "- How would the model change if you included outdoor water use (e.g., irrigation)?\n",
    "- What behavioral changes could complement technological upgrades to further reduce water use?\n",
    "- How could this simulation be adapted for seasonal or regional differences in water availability?\n",
    "- What are the trade-offs between cost, convenience, and water savings when choosing efficient appliances?\n",
    "\n",
    "---\n",
    "\n",
    "### Quiz Questions\n",
    "\n",
    "### Multiple Choice\n",
    "\n",
    "1. **Which appliance has the highest default daily water usage per person?**  \n",
    "   A. Toilet  \n",
    "   B. Shower  \n",
    "   C. Laundry  \n",
    "   D. Dishwasher  \n",
    "   **Answer:** C\n",
    "\n",
    "2. **If a faucet has 30% efficiency, how much of its default usage is saved?**  \n",
    "   A. 3.6 liters  \n",
    "   B. 8.4 liters  \n",
    "   C. 12 liters  \n",
    "   D. 30 liters  \n",
    "   **Answer:** A\n",
    "\n",
    "3. **What does the cumulative savings curve represent?**  \n",
    "   A. Total water used over time  \n",
    "   B. Water saved each day  \n",
    "   C. Accumulated water savings over the month  \n",
    "   D. Efficiency of each appliance  \n",
    "   **Answer:** C\n",
    "\n",
    "### True/False\n",
    "\n",
    "4. **Increasing household size increases both total usage and total savings.**  \n",
    "   **Answer:** True\n",
    "\n",
    "5. **The model assumes water usage is constant every day.**  \n",
    "   **Answer:** True\n",
    "\n",
    "6. **A 50% efficient shower reduces its water usage by half.**  \n",
    "   **Answer:** True\n",
    "\n",
    "### Short Answer\n",
    "\n",
    "7. **Explain how the model calculates daily water savings.**  \n",
    "   *Answer:* It subtracts the adjusted usage (based on efficiency) from the default usage for each appliance, multiplies by the number of people, and sums the result.\n",
    "\n",
    "8. **Why might the actual water savings differ from the model’s estimates?**  \n",
    "   *Answer:* Variability in user behavior, appliance performance, maintenance issues, and seasonal factors can all affect real-world outcomes.\n"
   ]
  }
 ],
 "metadata": {
  "kernelspec": {
   "display_name": "Python [conda env:base] *",
   "language": "python",
   "name": "conda-base-py"
  },
  "language_info": {
   "codemirror_mode": {
    "name": "ipython",
    "version": 3
   },
   "file_extension": ".py",
   "mimetype": "text/x-python",
   "name": "python",
   "nbconvert_exporter": "python",
   "pygments_lexer": "ipython3",
   "version": "3.12.7"
  },
  "widgets": {
   "application/vnd.jupyter.widget-state+json": {
    "state": {
     "05271b3a58e34a72a015c8cf51d26fc0": {
      "model_module": "@jupyter-widgets/controls",
      "model_module_version": "2.0.0",
      "model_name": "SliderStyleModel",
      "state": {
       "description_width": ""
      }
     },
     "0effcdc9d6684702b9b9ee0e0c716432": {
      "model_module": "@jupyter-widgets/controls",
      "model_module_version": "2.0.0",
      "model_name": "SliderStyleModel",
      "state": {
       "description_width": ""
      }
     },
     "124de9319f834f82bb01f49400259ac4": {
      "model_module": "@jupyter-widgets/base",
      "model_module_version": "2.0.0",
      "model_name": "LayoutModel",
      "state": {}
     },
     "1a50c24aca8f4ae78f694f0731478d23": {
      "model_module": "@jupyter-widgets/controls",
      "model_module_version": "2.0.0",
      "model_name": "FloatSliderModel",
      "state": {
       "behavior": "drag-tap",
       "description": "Faucet Efficiency",
       "layout": "IPY_MODEL_5cb97c1bb8464d9a8e516fb0ecab242c",
       "max": 0.5,
       "step": 0.05,
       "style": "IPY_MODEL_2b602fbe19144efb93fe5f668c93d903",
       "value": 0.3
      }
     },
     "1f2921a316b846e59208d9062c4976c7": {
      "model_module": "@jupyter-widgets/controls",
      "model_module_version": "2.0.0",
      "model_name": "SliderStyleModel",
      "state": {
       "description_width": ""
      }
     },
     "204cdcdf1d1c4aab99857a6b09fecf6e": {
      "model_module": "@jupyter-widgets/controls",
      "model_module_version": "2.0.0",
      "model_name": "SliderStyleModel",
      "state": {
       "description_width": ""
      }
     },
     "28248e2685134829ac26cacab5126fd6": {
      "model_module": "@jupyter-widgets/controls",
      "model_module_version": "2.0.0",
      "model_name": "FloatSliderModel",
      "state": {
       "behavior": "drag-tap",
       "description": "Dishwasher Efficiency",
       "layout": "IPY_MODEL_47e13f1ddc3c4567864ee28afa31c154",
       "max": 0.6,
       "step": 0.05,
       "style": "IPY_MODEL_6b3ff55bbd7a435c88b0dbbe502a9efc",
       "value": 0.5000000000000001
      }
     },
     "2864161f453c44e88c753f5caf14565b": {
      "model_module": "@jupyter-widgets/base",
      "model_module_version": "2.0.0",
      "model_name": "LayoutModel",
      "state": {}
     },
     "2b602fbe19144efb93fe5f668c93d903": {
      "model_module": "@jupyter-widgets/controls",
      "model_module_version": "2.0.0",
      "model_name": "SliderStyleModel",
      "state": {
       "description_width": ""
      }
     },
     "3fed964366c24936b7fbd3f914bc0c47": {
      "model_module": "@jupyter-widgets/controls",
      "model_module_version": "2.0.0",
      "model_name": "IntSliderModel",
      "state": {
       "behavior": "drag-tap",
       "description": "Household Size",
       "layout": "IPY_MODEL_7dd47cfb4e844cc9b0875d633c4f5b50",
       "max": 10,
       "min": 1,
       "style": "IPY_MODEL_f02a843f93764c168e3cfa4234e12860",
       "value": 3
      }
     },
     "40fec31ec9e34157bb058ed55437361b": {
      "model_module": "@jupyter-widgets/controls",
      "model_module_version": "2.0.0",
      "model_name": "FloatSliderModel",
      "state": {
       "behavior": "drag-tap",
       "description": "Shower Efficiency",
       "layout": "IPY_MODEL_95b496dd7d304803b02edcac407f49d6",
       "max": 0.5,
       "step": 0.05,
       "style": "IPY_MODEL_b17f0ddec8124679a6640e9a7db519b4",
       "value": 0.3
      }
     },
     "420600a21e714565b8faf12c053ae581": {
      "model_module": "@jupyter-widgets/controls",
      "model_module_version": "2.0.0",
      "model_name": "SliderStyleModel",
      "state": {
       "description_width": ""
      }
     },
     "42f41f4351be4db5af9c5bcf0f7635d9": {
      "model_module": "@jupyter-widgets/controls",
      "model_module_version": "2.0.0",
      "model_name": "SliderStyleModel",
      "state": {
       "description_width": ""
      }
     },
     "4535d2006d4040fabfa747c48389c489": {
      "model_module": "@jupyter-widgets/controls",
      "model_module_version": "2.0.0",
      "model_name": "SliderStyleModel",
      "state": {
       "description_width": ""
      }
     },
     "47e13f1ddc3c4567864ee28afa31c154": {
      "model_module": "@jupyter-widgets/base",
      "model_module_version": "2.0.0",
      "model_name": "LayoutModel",
      "state": {}
     },
     "489f9107d4e04b0ba8c3ecce45013fec": {
      "model_module": "@jupyter-widgets/controls",
      "model_module_version": "2.0.0",
      "model_name": "SliderStyleModel",
      "state": {
       "description_width": ""
      }
     },
     "4c492e91fe5a4f838882b46873929efc": {
      "model_module": "@jupyter-widgets/controls",
      "model_module_version": "2.0.0",
      "model_name": "IntSliderModel",
      "state": {
       "behavior": "drag-tap",
       "description": "Household Size",
       "layout": "IPY_MODEL_750471dfe2594a33ba6cc1a37c976fc1",
       "max": 10,
       "min": 1,
       "style": "IPY_MODEL_420600a21e714565b8faf12c053ae581",
       "value": 3
      }
     },
     "515e733ed40e49c4b4a40f165a752d00": {
      "model_module": "@jupyter-widgets/base",
      "model_module_version": "2.0.0",
      "model_name": "LayoutModel",
      "state": {}
     },
     "52c18184751f45fd9b0da00accf1ae80": {
      "model_module": "@jupyter-widgets/base",
      "model_module_version": "2.0.0",
      "model_name": "LayoutModel",
      "state": {}
     },
     "53c380a6bb3a4c04b12ebd55dcba546f": {
      "model_module": "@jupyter-widgets/controls",
      "model_module_version": "2.0.0",
      "model_name": "FloatSliderModel",
      "state": {
       "behavior": "drag-tap",
       "description": "Dishwasher Efficiency",
       "layout": "IPY_MODEL_515e733ed40e49c4b4a40f165a752d00",
       "max": 0.6,
       "step": 0.05,
       "style": "IPY_MODEL_05271b3a58e34a72a015c8cf51d26fc0",
       "value": 0.5000000000000001
      }
     },
     "5ace7f990cd7466eb8b5444f67366cba": {
      "model_module": "@jupyter-widgets/controls",
      "model_module_version": "2.0.0",
      "model_name": "FloatSliderModel",
      "state": {
       "behavior": "drag-tap",
       "description": "Shower Efficiency",
       "layout": "IPY_MODEL_cb10871afc504f2ba3713f47c592883d",
       "max": 0.5,
       "step": 0.05,
       "style": "IPY_MODEL_0effcdc9d6684702b9b9ee0e0c716432",
       "value": 0.3
      }
     },
     "5cb97c1bb8464d9a8e516fb0ecab242c": {
      "model_module": "@jupyter-widgets/base",
      "model_module_version": "2.0.0",
      "model_name": "LayoutModel",
      "state": {}
     },
     "612d00df2b2a434697f2946018f8b4f4": {
      "model_module": "@jupyter-widgets/base",
      "model_module_version": "2.0.0",
      "model_name": "LayoutModel",
      "state": {}
     },
     "6348bbc2b2c44630a98f64f12a576bd4": {
      "model_module": "@jupyter-widgets/controls",
      "model_module_version": "2.0.0",
      "model_name": "IntSliderModel",
      "state": {
       "behavior": "drag-tap",
       "description": "Household Size",
       "layout": "IPY_MODEL_738fc784962144738782f5286b592070",
       "max": 10,
       "min": 1,
       "style": "IPY_MODEL_1f2921a316b846e59208d9062c4976c7",
       "value": 3
      }
     },
     "6b3ff55bbd7a435c88b0dbbe502a9efc": {
      "model_module": "@jupyter-widgets/controls",
      "model_module_version": "2.0.0",
      "model_name": "SliderStyleModel",
      "state": {
       "description_width": ""
      }
     },
     "6ef2914fbdde4c5dba4fb07d7e6a6705": {
      "model_module": "@jupyter-widgets/output",
      "model_module_version": "1.0.0",
      "model_name": "OutputModel",
      "state": {
       "layout": "IPY_MODEL_f26c7e9876484587b0994439fc389f38",
       "outputs": [
        {
         "data": {
          "image/png": "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",
          "text/plain": "<Figure size 1000x400 with 1 Axes>"
         },
         "metadata": {},
         "output_type": "display_data"
        },
        {
         "name": "stdout",
         "output_type": "stream",
         "text": "💧 Estimated Daily Water Saved: 172 L\n📆 Estimated Monthly Savings: 5157 L\n"
        }
       ]
      }
     },
     "6f087a2398a0489a96b92eb9de1091c1": {
      "model_module": "@jupyter-widgets/base",
      "model_module_version": "2.0.0",
      "model_name": "LayoutModel",
      "state": {}
     },
     "738fc784962144738782f5286b592070": {
      "model_module": "@jupyter-widgets/base",
      "model_module_version": "2.0.0",
      "model_name": "LayoutModel",
      "state": {}
     },
     "750471dfe2594a33ba6cc1a37c976fc1": {
      "model_module": "@jupyter-widgets/base",
      "model_module_version": "2.0.0",
      "model_name": "LayoutModel",
      "state": {}
     },
     "766f366fdac14247ac6fd941745a1583": {
      "model_module": "@jupyter-widgets/controls",
      "model_module_version": "2.0.0",
      "model_name": "VBoxModel",
      "state": {
       "_dom_classes": [
        "widget-interact"
       ],
       "children": [
        "IPY_MODEL_4c492e91fe5a4f838882b46873929efc",
        "IPY_MODEL_f8a309d7b401494195fa20469589b78e",
        "IPY_MODEL_5ace7f990cd7466eb8b5444f67366cba",
        "IPY_MODEL_1a50c24aca8f4ae78f694f0731478d23",
        "IPY_MODEL_c8deafee41b54eb0ad6977acdd723ef6",
        "IPY_MODEL_28248e2685134829ac26cacab5126fd6",
        "IPY_MODEL_6ef2914fbdde4c5dba4fb07d7e6a6705"
       ],
       "layout": "IPY_MODEL_f6439f3e00fe4651a5f6dfdbafbdd6ea"
      }
     },
     "789974c7b1db4957b0a0dccb8e30c5c7": {
      "model_module": "@jupyter-widgets/controls",
      "model_module_version": "2.0.0",
      "model_name": "FloatSliderModel",
      "state": {
       "behavior": "drag-tap",
       "description": "Faucet Efficiency",
       "layout": "IPY_MODEL_c4c35c665e3a43948d16726f0cf66413",
       "max": 0.5,
       "step": 0.05,
       "style": "IPY_MODEL_8e5d32defcee424aa8faf22a404e55ac",
       "value": 0.3
      }
     },
     "7b3c7963d74b4b4fbc30f2237dae81a1": {
      "model_module": "@jupyter-widgets/base",
      "model_module_version": "2.0.0",
      "model_name": "LayoutModel",
      "state": {}
     },
     "7dd47cfb4e844cc9b0875d633c4f5b50": {
      "model_module": "@jupyter-widgets/base",
      "model_module_version": "2.0.0",
      "model_name": "LayoutModel",
      "state": {}
     },
     "85e60cd12c0d4b688150f1e8536fd22c": {
      "model_module": "@jupyter-widgets/controls",
      "model_module_version": "2.0.0",
      "model_name": "FloatSliderModel",
      "state": {
       "behavior": "drag-tap",
       "description": "Laundry Efficiency",
       "layout": "IPY_MODEL_88c5be283dbc433398fc50a39afa92c2",
       "max": 0.6,
       "step": 0.05,
       "style": "IPY_MODEL_b82128565ba1466e96949995b21f01d8",
       "value": 0.4
      }
     },
     "875cd4ca83894f4aa7ed6f394790efd7": {
      "model_module": "@jupyter-widgets/base",
      "model_module_version": "2.0.0",
      "model_name": "LayoutModel",
      "state": {}
     },
     "88c5be283dbc433398fc50a39afa92c2": {
      "model_module": "@jupyter-widgets/base",
      "model_module_version": "2.0.0",
      "model_name": "LayoutModel",
      "state": {}
     },
     "8c66e2f70125408ca47e597999e8d410": {
      "model_module": "@jupyter-widgets/controls",
      "model_module_version": "2.0.0",
      "model_name": "FloatSliderModel",
      "state": {
       "behavior": "drag-tap",
       "description": "Toilet Efficiency",
       "layout": "IPY_MODEL_2864161f453c44e88c753f5caf14565b",
       "max": 0.6,
       "step": 0.05,
       "style": "IPY_MODEL_489f9107d4e04b0ba8c3ecce45013fec",
       "value": 0.4
      }
     },
     "8e5d32defcee424aa8faf22a404e55ac": {
      "model_module": "@jupyter-widgets/controls",
      "model_module_version": "2.0.0",
      "model_name": "SliderStyleModel",
      "state": {
       "description_width": ""
      }
     },
     "9439887044114720bf17f1a8a75463b0": {
      "model_module": "@jupyter-widgets/controls",
      "model_module_version": "2.0.0",
      "model_name": "SliderStyleModel",
      "state": {
       "description_width": ""
      }
     },
     "95b496dd7d304803b02edcac407f49d6": {
      "model_module": "@jupyter-widgets/base",
      "model_module_version": "2.0.0",
      "model_name": "LayoutModel",
      "state": {}
     },
     "97d06bf9ad4348dbad42c7b152897070": {
      "model_module": "@jupyter-widgets/base",
      "model_module_version": "2.0.0",
      "model_name": "LayoutModel",
      "state": {}
     },
     "9caf8691461647898e3bd45536994202": {
      "model_module": "@jupyter-widgets/controls",
      "model_module_version": "2.0.0",
      "model_name": "VBoxModel",
      "state": {
       "_dom_classes": [
        "widget-interact"
       ],
       "children": [
        "IPY_MODEL_3fed964366c24936b7fbd3f914bc0c47",
        "IPY_MODEL_8c66e2f70125408ca47e597999e8d410",
        "IPY_MODEL_40fec31ec9e34157bb058ed55437361b",
        "IPY_MODEL_789974c7b1db4957b0a0dccb8e30c5c7",
        "IPY_MODEL_de245003b40f4a79a7b88f9e807c1a76",
        "IPY_MODEL_fd02b2422b3049efb82953fa2b23a41c",
        "IPY_MODEL_ade906b458fc4d2e8b0b6875a875df05"
       ],
       "layout": "IPY_MODEL_b7c5cbbe61eb461eb9db8258b29ff976"
      }
     },
     "9dfd42cb9278428b96eaddaf0db060c9": {
      "model_module": "@jupyter-widgets/controls",
      "model_module_version": "2.0.0",
      "model_name": "SliderStyleModel",
      "state": {
       "description_width": ""
      }
     },
     "a222ec706d394201b1547d2ee6d6f859": {
      "model_module": "@jupyter-widgets/controls",
      "model_module_version": "2.0.0",
      "model_name": "FloatSliderModel",
      "state": {
       "behavior": "drag-tap",
       "description": "Toilet Efficiency",
       "layout": "IPY_MODEL_875cd4ca83894f4aa7ed6f394790efd7",
       "max": 0.6,
       "step": 0.05,
       "style": "IPY_MODEL_e18c82794e994b328d95fb2bb25a4b98",
       "value": 0.4
      }
     },
     "a458adb079b04c26a43442e03f6a7b82": {
      "model_module": "@jupyter-widgets/controls",
      "model_module_version": "2.0.0",
      "model_name": "FloatSliderModel",
      "state": {
       "behavior": "drag-tap",
       "description": "Shower Efficiency",
       "layout": "IPY_MODEL_97d06bf9ad4348dbad42c7b152897070",
       "max": 0.5,
       "step": 0.05,
       "style": "IPY_MODEL_f35c71fd6c9e4a57a0c8c033757537c2",
       "value": 0.3
      }
     },
     "a57cdec6927f4bbb83c32270c9ae6dee": {
      "model_module": "@jupyter-widgets/base",
      "model_module_version": "2.0.0",
      "model_name": "LayoutModel",
      "state": {}
     },
     "ade906b458fc4d2e8b0b6875a875df05": {
      "model_module": "@jupyter-widgets/output",
      "model_module_version": "1.0.0",
      "model_name": "OutputModel",
      "state": {
       "layout": "IPY_MODEL_612d00df2b2a434697f2946018f8b4f4",
       "outputs": [
        {
         "data": {
          "image/png": "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",
          "text/plain": "<Figure size 1000x400 with 1 Axes>"
         },
         "metadata": {},
         "output_type": "display_data"
        },
        {
         "name": "stdout",
         "output_type": "stream",
         "text": "💧 Estimated Daily Water Saved: 172 L\n📆 Estimated Monthly Savings: 5157 L\n"
        }
       ]
      }
     },
     "b17f0ddec8124679a6640e9a7db519b4": {
      "model_module": "@jupyter-widgets/controls",
      "model_module_version": "2.0.0",
      "model_name": "SliderStyleModel",
      "state": {
       "description_width": ""
      }
     },
     "b7c5cbbe61eb461eb9db8258b29ff976": {
      "model_module": "@jupyter-widgets/base",
      "model_module_version": "2.0.0",
      "model_name": "LayoutModel",
      "state": {}
     },
     "b82128565ba1466e96949995b21f01d8": {
      "model_module": "@jupyter-widgets/controls",
      "model_module_version": "2.0.0",
      "model_name": "SliderStyleModel",
      "state": {
       "description_width": ""
      }
     },
     "bf210dc6870a493489a89c5aa5437f83": {
      "model_module": "@jupyter-widgets/base",
      "model_module_version": "2.0.0",
      "model_name": "LayoutModel",
      "state": {}
     },
     "c1962bdf148d44db98c7cc6854f52b98": {
      "model_module": "@jupyter-widgets/output",
      "model_module_version": "1.0.0",
      "model_name": "OutputModel",
      "state": {
       "layout": "IPY_MODEL_f888a8fcb4e445af873ddf4405dbdb55",
       "outputs": [
        {
         "data": {
          "image/png": "iVBORw0KGgoAAAANSUhEUgAAA90AAAGGCAYAAABmGOKbAAAAOXRFWHRTb2Z0d2FyZQBNYXRwbG90bGliIHZlcnNpb24zLjkuMiwgaHR0cHM6Ly9tYXRwbG90bGliLm9yZy8hTgPZAAAACXBIWXMAAA9hAAAPYQGoP6dpAACO30lEQVR4nOzdeVxU5f4H8M8MDLOwCsgmCC6guKAwKuLGkLmUS2XlTcusa+ptsWvqtcVrate0tNJ+2r5pmlndtmuZScXgguvgvqCZuCOKyDYrM+f3x8gZR0CHEQTk8369et3Lc5458z0zz4x8eM55jkQQBAFEREREREREVOuk9V0AERERERER0e2KoZuIiIiIiIiojjB0ExEREREREdURhm4iIiIiIiKiOsLQTURERERERFRHGLqJiIiIiIiI6ghDNxEREREREVEdYegmIiIiIiIiqiMM3URERERERER1hKGbiJq0bdu24b777kPLli0hl8sRGhqKlJQUTJ06tc6ec+3atZg9e/ZN7eOxxx5DTExMrdRTHa1WC4lEgv/+97837Dt79mxIJJJaed6dO3dCIpHg9ddfr7TtnnvugUQiwQcffFBpW//+/REUFARBEFx+rlWrVmHx4sU3U26NCYKA1atXo2/fvggJCYFCoUBkZCQGDRqEjz/+uE6fOyYmBo899lidPsfNOHXqFJ566inExcVBqVQiMDAQnTt3xvjx43Hq1CmxX22ON3dIJBK3PsN6vR6zZ8+GVquttG3ZsmWQSCTIzc296foaiv/7v/9Dz549ERwcDLlcjpYtW+Khhx7CgQMHXHp8TEwMJBKJ+J+Pjw+Sk5Px+eef13Hlrrkd3zMiqhsM3UTUZP3888/o1asXiouLsWDBAqxfvx5vv/02evfuja+++qrOnnft2rWYM2fOTe1j5syZ+P7772upooYlKSkJ/v7+yMjIcGq32WzYuHEjvL29K20zm83YsmULNBpNjcJYfYTuF198EaNGjUJ8fDw+/vhj/PLLL5g7dy5CQ0Px448/1ulzf//995g5c2adPoe7Tp8+jaSkJKSnp2PKlClYu3YtPv30U4waNQo7duzAX3/9JfZ94oknsGXLlnqs1j16vR5z5sypMnQPGTIEW7ZsQXh4+K0vrI4UFBTgrrvuwscff4z169djzpw52LVrF5KTk5GTk+PSPnr37o0tW7Zgy5YtYsgdO3Ys3nvvvTqunoio9njWdwFERPVlwYIFaNWqFX799Vd4ejq+Dh966CEsWLCgHiu7sTZt2tR3CXVGKpWiX79+yMjIQHl5ufje7NmzB4WFhZg2bRpWrFjh9Jht27bBYDAgLS2tPkquxGAwQKlUVtm+ePFiPProo/jwww+dtj322GOw2Wx1WldiYmKd7v9mfPTRR7h48SK2b9+OVq1aie333nsvXnrpJafXJjIyEpGRkfVRZp1p3rw5mjdvXt9l1Kpr/7iYmpqKnj17okOHDvjiiy/wyiuv3HAfAQEB6Nmzp/jznXfeiejoaLz11lt48skna71mIqK6wJluImqyCgoKEBwc7BS4K0ilzl+P1Z1Oeu3punq9HtOmTUOrVq2gUCgQGBiIbt264csvvwRgD1bvvPOOuM+K/ypOT3znnXfQr18/hISEwNvbG507d8aCBQtgsVicnreq08slEgmeeeYZrFixAvHx8VCpVOjSpQt++uknp35//vknHn/8ccTGxkKlUqFFixYYNmwY9u3bV+XrZDQaMWXKFISFhUGpVCI1NRW7du2qsu+1vvrqK6SkpMDb2xs+Pj4YNGiQS49NS0tDaWkpdu7cKbZptVpERETgiSeewPnz53Hw4EGnbRWPA1x7HTUaDX7++WecOHHC6b2oYDabMXfuXLRv3x5yuRzNmzfH448/jgsXLjjVGhMTg6FDh+K7775DYmIiFApFtWcylJWVwWQyVTubee24mzNnDpKTkxEYGAg/Pz8kJSXhk08+cTqF/t5770V0dHSVgT05ORlJSUlOtV49XisuIfjyyy8xY8YMREREwM/PD3feeWelmUhBEDBv3jxER0dDoVCgW7duSE9Ph0ajgUajEfvZbDbMnTsX7dq1g1KpREBAABISEvD2229XecwVCgoKIJVKERIScsPXpqrTyyveh59++gmJiYlQKpWIj48Xx/+yZcsQHx8Pb29v9OjRw2lsAah0HBVcuZTjwoULeOqpp9ChQwf4+PggJCQEd9xxBzZu3Cj2yc3NFUP1nDlzxPFW8X5Ud6ryp59+ii5duojfJ/fddx8OHTpUqUYfHx/8+eefuPvuu+Hj44OoqChMnToVJpPpurXfahWvQVXfu64ICAhAu3btcOLECbHt6NGjGD16NEJCQiCXyxEfHy9+z17t5MmTeOSRR5z6vfnmm06fndzcXEgkEixYsACvvvoqWrZsKY7333//3aUaf/vtN/Tv3x9+fn5QqVTo3bu3y48lotsTQzcRNVkpKSnYtm0bnn32WWzbtq1SsHXHlClT8N577+HZZ5/FunXrsGLFCjz44IMoKCgAYD8t/IEHHgAA8ZTJq08pPXbsGEaPHo0VK1bgp59+wrhx47Bw4UJMnDjRpef/+eefsXTpUrzyyiv49ttvxV/Srz419+zZswgKCsJrr72GdevW4Z133oGnp2e1p3y+9NJL+Ouvv/Dxxx/j448/xtmzZ6HRaJz2WZV58+Zh1KhR6NChA77++musWLECJSUl6Nu3r1NgrkpFeL76NPKMjAykpqaiXbt2CAsLczpFNyMjA82bN0eHDh0AuPY6vvvuu+jduzfCwsKc3gvAHhzvuecevPbaaxg9ejR+/vlnvPbaa2LINBgMTvVmZ2fjX//6l/i+33///VUeV3BwMNq2bYt3330Xb731Fg4fPnzda9Bzc3MxceJEfP311/juu+8wYsQITJo0Cf/5z3/EPn//+99x8uRJ/PHHH06PPXz4MLZv347HH3/8ei81APt7fOLECXz88cf48MMPcfToUQwbNgxWq1XsM2PGDMyYMQODBw/Gjz/+iH/84x944okncOTIEad9LViwALNnz8aoUaPw888/46uvvsK4ceNw+fLl69aQkpICm82GESNG4Ndff0VxcfEN677Wnj178OKLL+L555/Hd999B39/f4wYMQKzZs3Cxx9/jHnz5uGLL75AUVERhg4dWul9dNelS5cAALNmzcLPP/+Mzz77DK1bt4ZGoxHHaXh4ONatWwcAGDdunDjerne6//z58zFu3Dh07NgR3333Hd5++23s3bsXKSkpOHr0qFNfi8WC4cOHo3///vjxxx/x97//HYsWLapybYRbzWq1wmQy4fDhw3jiiScQEhLi0risisViwYkTJ8TwfvDgQXTv3h379+/Hm2++iZ9++glDhgzBs88+6/THrwsXLqBXr15Yv349/vOf/+B///sf7rzzTkybNg3PPPNMpedZunQp1q1bh8WLF2PlypWQSqW46667bnhZw8qVKzFw4ED4+flh+fLl+PrrrxEYGIhBgwYxeBM1ZQIRURN18eJFoU+fPgIAAYAgk8mEXr16CfPnzxdKSkqc+gIQZs2aVWkf0dHRwtixY8WfO3XqJNx7773Xfd6nn35acOXr12q1ChaLRfj8888FDw8P4dKlS+K2sWPHCtHR0ZVqDA0NFYqLi8W2vLw8QSqVCvPnz6/2ecrLywWz2SzExsYKzz33nNiekZEhABCSkpIEm80mtufm5goymUx44oknxLZZs2Y5HdPJkycFT09PYdKkSU7PVVJSIoSFhQkjR4687rHbbDYhMDBQGDhwoPhaBAQECO+//74gCIIwcuRI4YEHHhAEQRBMJpOgVCqr3ef1XschQ4ZUeh0FQRC+/PJLAYDw7bffOrXv2LFDACC8++67Ylt0dLTg4eEh5OTkXPeYKmzfvl1o2bKlOO58fX2FoUOHCp9//rnT61zdcbzyyitCUFCQ2NdisQihoaHC6NGjnfpPnz5d8PLyEi5evOhU69XjteI9vvvuu50e+/XXXwsAhC1btgiCIAiXLl0S5HK58Le//c2p35YtWwQAQmpqqtg2dOhQoWvXri69Flez2WzCxIkTBalUKgAQJBKJEB8fLzz33HPC8ePHnfpeO94qjk2pVAqnT58W23bv3i0AEMLDw4WysjKx/YcffhAACP/73//EttTUVKfjqFDdZ62q74MK5eXlgsViEfr37y/cd999YvuFCxeqfexnn30mABCPtbCwUFAqlZXem5MnTwpyudzp/R47dqwAQPj666+d+t59991Cu3btqq3zVpHL5eJ4j4uLEw4ePOjS46Kjo4W7775bsFgsgsViEY4fPy4e67/+9S9BEARh0KBBQmRkpFBUVOT02GeeeUZQKBTi5/2FF14QAAjbtm1z6vfkk08KEolE/PweP35cACBEREQIBoNB7FdcXCwEBgYKd955p9h27XtWVlYmBAYGCsOGDXN6DqvVKnTp0kXo0aOHS8dNRLcfznQTUZMVFBSEjRs3YseOHXjttddwzz334MiRI3jxxRfRuXNnXLx4scb77NGjB3755Re88MIL0Gq1NZ5J27VrF4YPH46goCB4eHhAJpPh0UcfhdVqrTSjWJW0tDT4+vqKP4eGhiIkJMTpVMzy8nLMmzcPHTp0gJeXFzw9PeHl5YWjR49WOm0VAEaPHu10Km90dDR69epVaTGzq/36668oLy/Ho48+ivLycvE/hUKB1NTUKheSuppEIkFqaio2b94Mi8WC3bt34/Lly+LpvxX7EAQBW7durXQ9982+jj/99BMCAgIwbNgwp/q7du1aaZYdABISEhAXF3fD/QJA9+7d8eeff2LdunV46aWXkJKSgt9//x2PPvoohg8f7jTz/ccff+DOO++Ev7+/eBwvv/wyCgoKkJ+fD8B+mu4jjzyC7777DkVFRQDsM4srVqzAPffcg6CgoBvWNHz48ErHA0AcN1u3boXJZMLIkSOd+vXs2bPSqdc9evTAnj178NRTT9VoxloikeD999/HX3/9hXfffRePP/44LBYLFi1ahI4dOyIzM/OG++jatStatGgh/hwfHw/Afuq4SqWq1H715+Jmvf/++0hKSoJCoYCnpydkMhl+//33Kj9TrtiyZQsMBkOl1eajoqJwxx13VJo1lUgkGDZsmFNbQkLCDY/RZrM5jfGa/OfqGgRZWVnYsmULVq5cCV9fX6Slpbm8gvnatWshk8kgk8nQqlUrfP3115g0aRLmzp0Lo9GI33//Hffddx9UKpVTbXfffTeMRiO2bt0KwP5Z6tChA3r06OG0/8ceewyCIFQ6U2TEiBFQKBTiz76+vhg2bBg2bNjgdAbItcd56dIljB07ttLrNHjwYOzYsQNlZWUuHTcR3V4YuomoyevWrRuef/55fPPNNzh79iyee+455ObmurWY2v/93//h+eefxw8//IC0tDQEBgbi3nvvrXQqaFVOnjyJvn374syZM3j77bfFPwhUXJvoSoCvKmDJ5XKnx06ZMgUzZ87EvffeizVr1mDbtm3YsWMHunTpUuVzhIWFVdlWccp8Vc6fPw/AHjArfmGu+O+rr75y6Q8aaWlpKCsrw44dO5CRkYHQ0FC0a9cOgD10X7x4EQcOHBDDf0Xoro3X8fz587h8+TK8vLwq1Z+Xl1ep/pquOC2TyTBo0CC8+uqr+PXXX3Hq1CloNBr89NNP+OWXXwAA27dvx8CBAwHYFxnbvHkzduzYgRkzZlQ6jr///e8wGo1YvXo1APsfPc6dO+fyKbzXjhu5XO70HBXvdWhoaKXHXtv24osv4o033sDWrVtx1113ISgoCP379690DXV1oqOj8eSTT+KTTz7B0aNH8dVXX8FoNOJf//rXDR8bGBjo9LOXl9d1241Go0s13UjFol7Jycn49ttvsXXrVuzYsQODBw92+xT2ite8qrEVERFR6fOnUqmcQiJgfx9vdIyvvPJKpTHu6n+uLIQG2O9I0LNnTzz88MPIyMiAIAh46aWXXHpsnz59sGPHDuzcuRMHDx7E5cuX8X//93/w8vJCQUEBysvLsWTJkkq13X333QAgflYLCgqqfS0rtl+tuu89s9mM0tLSKmut+N574IEHKtXz+uuvQxAE8VIEImpauHo5EdFVZDIZZs2ahUWLFmH//v1iu1wur3JBomt/UfP29sacOXMwZ84cnD9/Xpz1HjZsGA4fPnzd5/7hhx9QVlaG7777DtHR0WL77t27b+6grrFy5Uo8+uijmDdvnlP7xYsXERAQUKl/Xl5elW3Xm0ENDg4GAPz3v/91OpaaqAjRWq0WW7ZsQWpqqritQ4cOCA4ORkZGBrRaLcLDw8VAXhuvY3BwMIKCgsRrcK919dkEAG76ntFBQUGYPHkytFot9u/fj7vvvhurV6+GTCbDTz/95BSmfvjhh0qPr5jB++yzzzBx4kR89tlniIiIEEP7zap4rytCxdXy8vKcZrs9PT0xZcoUTJkyBZcvX8Zvv/2Gl156CYMGDcKpU6ecZpxdMXLkSMyfP9/p81gXFAqFeKbA1Vz5A9HKlSuh0Wgq3caqpKTE7XoqXvNz585V2nb27FnxM3azJkyYgKFDh7r12IrAWhO+vr5o3769S2ecAIC/vz+6detW5bZmzZrBw8MDY8aMwdNPP11ln4qV8IOCgqp9LQFUej2r+97z8vKCj49Plc9VsY8lS5Y4rbh+tar+cEVEtz+GbiJqss6dO1flzEfF6aBX/0IZExODvXv3OvX7448/qp3xAOy/XD322GPYs2cPFi9eDL1eD5VK5TSLePVtpSqCW8V2wL5i9EcffeTG0VVPIpE4PQdgX4DtzJkzaNu2baX+X375JaZMmSLWd+LECWRlZeHRRx+t9jkGDRoET09PHDt2rNpFxW6kY8eOaN68Of744w/s3LkT8+fPdzqGfv36Yd26ddi6dStGjBjhtA1w7XW89iyACkOHDsXq1athtVqRnJzsVv1VsVgsKC4urvIPFteOO4lEAk9PT3h4eIh9DAZDpdulVXj88cfx5JNPYtOmTVizZg2mTJni9NibkZycDLlcjq+++srptd66dStOnDhR7ereAQEBeOCBB3DmzBlMnjwZubm54mJ316ru81haWopTp065FfBqIiYmBt988w1MJpM4dgoKCpCVlQU/P7/rPraqz9TevXuxZcsWREVFiW3XnkFwPSkpKVAqlVi5ciUefPBBsf306dP4448/xAUZb1ZERESdv7ZXu3jxIvbt24fevXvf9L5UKhXS0tKwa9cuJCQkiGcwVKV///6YP38+srOznVb0//zzzyGRSCrdbvC7777DwoULxT94lZSUYM2aNejbt2+1n6vevXsjICAABw8erHJxNiJquhi6iajJGjRoECIjIzFs2DC0b98eNpsNu3fvxptvvgkfHx/885//FPuOGTMGM2fOxMsvv4zU1FQcPHgQS5cuhb+/v9M+k5OTMXToUCQkJKBZs2Y4dOgQVqxYgZSUFHGGr3PnzgCA119/HXfddRc8PDyQkJCAAQMGwMvLC6NGjcL06dNhNBrx3nvvobCwsFaPe+jQoVi2bBnat2+PhIQE6HQ6LFy4sNr7Hufn5+O+++7D+PHjUVRUhFmzZkGhUODFF1+s9jliYmLwyiuvYMaMGfjrr78wePBgNGvWDOfPn8f27dvFMwKuRyKRQKPR4L///S8EQXCa6Qbsp5hPnjwZgiA4/cJck9exc+fO+O677/Dee+9BrVZDKpWiW7dueOihh/DFF1/g7rvvxj//+U/06NEDMpkMp0+fRkZGBu655x7cd999162/KkVFRYiJicGDDz6IO++8E1FRUSgtLYVWq8Xbb7+N+Ph4MdQOGTIEb731FkaPHo0JEyagoKAAb7zxRqVwV2HUqFGYMmUKRo0aBZPJVOla4JsRGBiIKVOmYP78+WjWrBnuu+8+nD59GnPmzEF4eLjT7byGDRuGTp06oVu3bmjevDlOnDiBxYsXIzo6GrGxsdU+x6uvvorNmzfjb3/7G7p27QqlUonjx49j6dKlKCgowMKFC2vteKoyZswYfPDBB3jkkUcwfvx4FBQUYMGCBTcM3ID9M/Wf//wHs2bNQmpqKnJycvDKK6+gVatWKC8vF/v5+voiOjoaP/74I/r374/AwEAEBwdX+UeLgIAAzJw5Ey+99BIeffRRjBo1CgUFBZgzZw4UCgVmzZpVm4df64qKijBgwACMHj0asbGxUCqVOHLkCN5++22YTKZaq//tt99Gnz590LdvXzz55JOIiYlBSUkJ/vzzT6xZs0a8Vvu5557D559/jiFDhuCVV15BdHQ0fv75Z7z77rt48sknK63J4OHhgQEDBmDKlCmw2Wx4/fXXUVxcfN3vLR8fHyxZsgRjx47FpUuX8MADDyAkJAQXLlzAnj17cOHChUpnQxBRE1FvS7gREdWzr776Shg9erQQGxsr+Pj4CDKZTGjZsqUwZsyYSqvrmkwmYfr06UJUVJSgVCqF1NRUYffu3ZVWg37hhReEbt26Cc2aNRPkcrnQunVr4bnnnnNaQdpkMglPPPGE0Lx5c0EikTitfrtmzRqhS5cugkKhEFq0aCH861//En755RcBgJCRkSHuo7oVlZ9++ulKx3ltjYWFhcK4ceOEkJAQQaVSCX369BE2btxYafXmipWtV6xYITz77LNC8+bNBblcLvTt21fYuXOn03NUtZq0INhXiU5LSxP8/PwEuVwuREdHCw888IDw22+/VfOuOHv33XcFAELz5s0rbatYmRqAcPToUadtrr6Oly5dEh544AEhICBAfC8qWCwW4Y033hD34+PjI7Rv316YOHGi0/NFR0cLQ4YMcel4TCaT8MYbbwh33XWX0LJlS0EulwsKhUKIj48Xpk+fLhQUFDj1//TTT4V27dqJY2n+/PnCJ5984jRmrjZ69GgBgNC7d+8qn7+61cu/+eYbp34VKzh/9tlnYpvNZhPmzp0rREZGCl5eXkJCQoLw008/CV26dHFaofvNN98UevXqJQQHBwteXl5Cy5YthXHjxgm5ubnXfW22bt0qPP3000KXLl2EwMBAwcPDQ2jevLkwePBgYe3atU59q1u9vKr3oarPRcXxLVy40Kl9+fLlQnx8vKBQKIQOHToIX331lUurl5tMJmHatGlCixYtBIVCISQlJQk//PBDlY/97bffhMTERHFF74r349qVsCt8/PHHQkJCguDl5SX4+/sL99xzj3DgwAGnPmPHjhW8vb0rHXt1n8tbwWg0Ck888YQQHx8v+Pj4CJ6enkJkZKTwyCOPVKq/Oq5+to4fPy78/e9/F1q0aCHIZDKhefPmQq9evYS5c+c69Ttx4oQwevRoISgoSJDJZEK7du2EhQsXClar1WlfAITXX39dmDNnjjjeExMThV9//dVpf9W9Z5mZmcKQIUOEwMBAQSaTCS1atBCGDBlS6XNGRE2HRBCuc4NQIiIiomocP34c7du3x6xZs1xeGIuoIcvNzUWrVq2wcOFCTJs2rb7LIaLbBE8vJyIiohvas2cPvvzyS/Tq1Qt+fn7IyckRT78eN25cfZdHRETUYDF0ExER0Q15e3tj586d+OSTT3D58mX4+/tDo9Hg1Vdf5YrMRERE18HTy4mIiIiIiIjqiPTGXYiIiIiIiIjIHQzdRERERERERHWEoZuIiIiIiIiojnAhNRfZbDacPXsWvr6+kEgk9V0OERERERER1SNBEFBSUoKIiAhIpdXPZzN0u+js2bOIioqq7zKIiIiIiIioATl16hQiIyOr3c7Q7SJfX18A9hfUz8/PpcdYLBasX78eAwcOhEwmq8vy6DbBMUPu4Lghd3DckDs4bsgdHDfkjsYwboqLixEVFSVmxeowdLuo4pRyPz+/GoVulUoFPz+/BjtQqGHhmCF3cNyQOzhuyB0cN+QOjhtyR2MaNze6/JgLqRERERERERHVEYZuIiIiIiIiojrC0E1ERERERERUR3hNdy2zWq2wWCwA7NcheHp6wmg0wmq11nNl1BhwzNQ/mUwGDw+P+i6DiIiIiG4TDN21RBAE5OXl4fLly05tYWFhOHXqFO/tTS7hmGkYAgICEBYWxveAiIiIiG4aQ3ctqQjcISEhUKlUkEgksNlsKC0thY+Pz3Vvlk5UgWOmfgmCAL1ej/z8fABAeHh4PVdERERERI0dQ3ctsFqtYuAOCgoS2202G8xmMxQKBQMUuYRjpv4plUoAQH5+PkJCQniqORERERHdFP5WXwsqruFWqVT1XAkR1YaKz3LFZ5uIiIiIyF0M3bWI138S3R74WSYiIiKi2sLQTURERERERA2OINR3BbWDoZsaNIlEgh9++KHB7IduHa1WC4lE4nRHgKr88ccfaN++PWw2m0v7feCBB/DWW2/VQoVEREREVNtK9Db8klWKl94rwM+7W9V3ObWCobuJy8vLw6RJk9C6dWvI5XJERUVh2LBh+P333+u7NLfMnj0bXbt2rdR+7tw53HXXXXX2vA899FCl/f/yyy+QSCSYOXOmU/t//vMfREREuLTf6o6nNn3wwQfo0qULvL29ERAQgMTERLz++ut1+py1afr06ZgxY4a48NyyZcsQEBBQbf+XX34Zr776KoqLi29RhURERER0PaUGG9ZvLcWL7+Tj/udPY+HKS9AdNiP3gh/0RtcmVhoyrl7ehOXm5qJ3794ICAjAggULkJCQAIvFgl9//RVPP/00Dh8+XN8l1pqwsLA63X9aWhqmTZuG8vJyeHraP1ZarRZRUVHIyMhw6qvVapGWllan9VzLYrFAJpNVav/kk08wZcoU/N///R9SU1NhMpmwd+9eHDx48JbW566srCwcPXoUDz74oMuPSUhIQExMDL744gs8+eSTdVgdEREREVVHb7Rhyz4DMnR67DhogKXcsa11Cxn6dpVDKNoOlaJF/RVZSzjT3YQ99dRTkEgk2L59Ox544AHExcWhY8eOmDJlCrZu3QrAHswlEgl2794tPu7y5cuQSCTQarUAHKcB//rrr0hMTIRSqcQdd9yB/Px8/PLLL4iPj4efnx9GjRoFvV4v7icmJgaLFy92qqlr166YPXt2tTU///zziIuLg0qlQuvWrTFz5kxxhelly5Zhzpw52LNnDyQSCSQSCZYtWwbA+fTylJQUvPDCC077vXDhAmQymRiQzWYzpk+fjhYtWsDb2xvJycni8VYlLS0NpaWl2Llzp9im1WrxwgsvYMeOHeJxm81mbNmyRQzd1x7Pyy+/7NLxFBUVYcKECQgJCYGfnx/uuOMO7NmzR3zuihnyTz/9VDyLQajiopg1a9Zg5MiRGDduHNq2bYuOHTti1KhR+M9//iP22bFjBwYMGIDg4GD4+/sjNTUV2dnZ4vZRo0bhoYcectqvxWJBcHAwPvvsMwD2+18vWLAArVu3hlKpRJcuXfDf//7X6TFr165FXFwclEol0tLSkJubW+3rXWH16tUYOHAgFArFDftebfjw4fjyyy9r9BgiIiIiujkGkw1aXRlmfXgBI54/g1c/K0DWXnvgjg7zxNgh/vhsZjg+nhGO0QN90czbVN8l1wrOdNcBQRBgNAuw2WwwmgXITDbcqlsuK7wkLq28fOnSJaxbtw6vvvoqvL29K22/3um51Zk9ezaWLl0KlUqFkSNHYuTIkZDL5Vi1ahVKS0tx3333YcmSJXj++edrvO8Kvr6+WLZsGSIiIrBv3z6MHz8evr6+mD59Ov72t79h//79WLduHX777TcAgL+/f6V9PPzww1i4cCHmz58vvlZfffUVQkNDkZqaCgB4/PHHkZubi9WrVyMiIgLff/89Bg8ejH379iE2NrbSPuPi4hAREYGMjAz07NkTJSUlyM7Oxk8//YSlS5di8+bNGDBgALZu3QqDwSCG7qqORyaTYebMmdUejyAIGDJkCAIDA7F27Vr4+/vjgw8+QP/+/XHkyBEEBgYCAP788098/fXX+Pbbb6u913RYWBgyMzNx4sQJREdHV9mnpKQEY8eOxf/93/8BAN58803cfffdOHr0KHx9ffHwww9j5MiRKC0thY+PDwDg119/RVlZGe6//34AwL///W989913eO+99xAbG4sNGzbgkUceQfPmzZGamopTp05hxIgR+Mc//oEnn3wSO3fuxNSpU284HjZs2IBRo0bdsN+1evTogfnz58NkMkEul9f48URERETkGpPZhm0HjNDq9Ni63wCj2TERFBniCY1ahTS1CjHhstv2DjIM3XXAaBYw5LnTV7WU3LLn/nlRJJTyGw/WP//8E4IgoH379rX23HPnzkXv3r0BAOPGjcOLL76IY8eOoXXr1gDsC1hlZGTcVOj+97//Lf7/mJgYTJ06FV999RWmT58OpVIJHx8feHp6Xvd08r/97W947rnnsGnTJvTt2xcAsGrVKowePRpSqRTHjh3Dl19+idOnT4vXXk+bNg3r1q3DZ599hnnz5lW5X41GA61WixdffBEbN25EXFycGCq1Wi0GDBggnnLepk2bKo9nypQp+PLLLzFz5sxqj+ePP/7Avn37kJ+fLwbGN954Az/88AP++9//YsKECQDss+orVqxA8+bNq30tZs2ahREjRiAmJgZxcXFISUnB3XffjQceeEC8RvqOO+5weswHH3yAZs2aITMzE0OHDsWgQYPg7e2N77//HmPGjBFfz2HDhsHPzw9lZWV466238McffyAlJQUA0Lp1a2zatAkffPABUlNT8d5776F169ZYtGgRJBIJ2rVrh3379t3w2vLc3FyXr4+/WosWLWAymZCXl1ftHxuIiIiIyD1mi4AdhwzQ6vTI2muAweQI2uHBntAk2YN2m8jbN2hfrV5PL589e7Z42mzFf1eHC0EQMHv2bERERECpVEKj0eDAgQNO+zCZTJg0aRKCg4Ph7e2N4cOH4/Tp0059CgsLMWbMGPj7+8Pf3x9jxoy54YrIt7uKU41rc5AnJCSI/z80NFQ8Zfrqtvz8/Jt6jv/+97/o06cPwsLC4OPjg5kzZ+LkyZM12kfz5s0xYMAAfPHFFwCA48ePY8uWLXj44YcBANnZ2RAEAXFxcfDx8RH/y8zMxLFjx6rdb1paGjZv3gyLxQKtVguNRgMAYugG7KecXx1irz2el19+udL4vZZOp0NpaSmCgoKc6jt+/LhTfdHR0dcN3AAQHh6OLVu2YN++fXj22WdhsVgwduxYDB48WFwNPD8/H//4xz8QFxcnfoZKS0vF110mk+HBBx8UX8+ysjL8+OOP4ut58OBBGI1GDBgwwKnezz//XKz30KFD6Nmzp9N4rAjo12MwGGp8ajkAKJVKAHC63IGIiIiI3GcpF7B1nwGvLS/A/c+fxsz3L+L3HXoYTAJCAz3wtzt98d7zoVg5Jxzj7w1A2yivJhG4gQYw092xY0fx1FkATqfBLliwAG+99RaWLVuGuLg4zJ07FwMGDEBOTg58fX0BAJMnT8aaNWuwevVqBAUFYerUqRg6dCh0Op24r9GjR+P06dNYt24dAGDChAkYM2YM1qxZUyfHpPCS4OdFkbDZbCgpKYGvr684a1jXFF6uDdzY2FhIJBIcOnQI9957b7X9Kuq++nrgimuOr3X1Ql0SiaTSwl0SicTptk5SqbTSdcbV7RsAtm7dioceeghz5szBoEGD4O/vj9WrV+PNN9+s9jHVefjhh/HPf/4TS5YswapVq9CxY0d06dIFAGCz2eDh4eE0hipUnD5dlbS0NJSVlWHHjh3IyMjAv/71LwD20P3oo4/i0qVL2LJlC8aOHVvt8Xz55Zc3PB6bzYbw8PAqrzG/+rKAqi4bqE6nTp3QqVMnPP300+IZAJmZmUhLS8Njjz2GCxcuYPHixYiOjoZcLkdKSgrMZrP4+IcffhipqanIz89Heno6FAqFuJp7xXv+888/o0UL54UwKmbqq7re3BXBwcEoLCys8eMuXboEADf8owQRERERVa/cKmBXjv3U8U17DCjRO37XDw7wgCZJBY1ahfiYphOwq1Lvobu6U4EFQcDixYsxY8YMjBgxAgCwfPlyhIaGYtWqVZg4cSKKiorwySefYMWKFbjzzjsBACtXrkRUVBR+++03DBo0CIcOHcK6deuwdetWJCcnAwA++ugjpKSkICcnB+3atav1Y5JIJFDKJbDZAItJAqVcestCt6sCAwMxaNAgvPPOO3j22WcrBbTLly8jICBADCXnzp1DYmIiADgtqnYzmjdvjnPnzok/FxcX4/jx49X237x5M6KjozFjxgyx7cSJE059vLy8YLVab/jc9957LyZOnIh169Zh1apV4mnRAJCYmAir1Yr8/Hzx9HNXtGnTBlFRUfjf//6H3bt3i9eHh4eHIyYmBm+++SaMRqN4Pbe7x5OUlIS8vDx4enoiJibG5fpc1aFDBwD2GWsA2LhxI959913cfffdAIBTp07h4sWLTo/p1asXoqKi8NVXX+GXX37Bgw8+CC8vL3F/crkcJ0+eFF+Tqp7z2vuoVyzmdz2JiYlurbS+f/9+REZGIjg4uMaPJSIiImrKrFYBe46aoM3WY8MuPYrLHEE70E+K1CQVNEkqdGwth1TadIP21eo9dB89ehQRERGQy+VITk7GvHnz0Lp1axw/fhx5eXkYOHCg2FculyM1NRVZWVmYOHEidDodLBaLU5+IiAh06tQJWVlZGDRoELZs2QJ/f38xcANAz5494e/vj6ysrGpDt8lkgsnkWC2v4p6+Foul0mysxWKBINgXTrt6Jrdi9q5iW0OzdOlS9OnTBz169MDs2bORkJCA8vJy/Pbbb3j//fdx4MAByOVy9OzZE6+99hpatmyJixcvitchVxxvxbFd+/+v/l/A8XpUtKWlpWH58uUYMmQImjVrhpdffhkeHh6VXq+K/bZu3RonT57EqlWr0L17d6xduxbff/+90z5btmyJ48ePIzs7G5GRkfD19RVnU6+uT6lUYvjw4Zg5cyYOHTqEhx56SNzWtm1bjB49Go8++igWLlyIxMREXLx4ERkZGejUqZMYPqui0Wjw7rvvom3btmjevLm4z379+mHJkiVo3bo1IiMjqz2eiuBZ8RpUdTx33HEHUlJScO+992L+/Plo164dzp49i19++QX33HMPunXrVum1rs5TTz2FiIgIpKWlITIyEufOncOrr76K5s2bIzk5GTabDW3btsXnn3+OpKQkFBcX4/nnn4dSqaz0Po0aNQrvv/8+jhw5gt9//13c5u3tjalTp+K5555DeXk5+vTpg+LiYmzZsgXe3t4YO3YsJkyYgDfffBPPPfccJkyYAJ1OJ67Ufu3n6moDBw7E559/Xmm8WK1WpxXWAfsfMCr+oLBhwwYMGDCg2v3abDYIggCLxVLtInQNScV30vXOFCG6FscNuYPjhtzBcdP4WW0CDvxlxoZdRmzcbcTlUsfvUP4+UvTtokC/RAU6tfGCx5WgbbWWw4W5sGo1hnHjam31GrqTk5Px+eefIy4uDufPn8fcuXPRq1cvHDhwAHl5eQDs1wFfLTQ0VJwNzMvLg5eXF5o1a1apT8Xj8/LyEBISUum5Q0JCxD5VmT9/PubMmVOpff369VCpVE5tFbP1paWlTqfcVigpuXULqdVEUFAQMjIy8Oabb2Lq1Kk4f/48goOD0aVLFyxcuFD8Q8PixYsxadIk9OjRA23btsWcOXMwYsQI6PV6FBcXi9fFlpSUiDP6RqMRgiCI+wDsf8iwWq1i21NPPYUjR46IC27NmDEDx44dg8lkcnqcwWBAcXEx0tLS8OSTT2LSpEkwm80YMGAApk2bhtdee03sP2DAAPTv3x933HEHioqK8M4772D06NFO+6lw77334ssvv0SvXr0QEBDgtG3x4sV44403MHXqVJw7dw6BgYHo3r07+vbt69TvWj179sSKFSuQkpLi1K979+745JNPcO+994rt1zueijFT3fGsWrUKc+fOxbhx43Dx4kWEhISgV69eUKlUKC4urvRaV6dXr15YuXIl3nvvPVy6dAlBQUHo3r07vv/+e8hkMhQXF+Ptt9/G5MmToVarERkZiZkzZyI3NxdGo9Fp/8OHD8f8+fMRFRWFzp07O22bNm0a/Pz8MH/+fOTm5sLf3x9dunTBc889h+LiYgQEBGD58uWYMWMG3nvvPSQlJeHf//43nnnmGadxda3hw4fjhRdegE6nE1eVNxqNKC0thVqtduobFRWFvXv3wmg04vvvv8e3335b7etjNpthMBiwYcMGlJeXV9mnIUpPT6/vEqgR4rghd3DckDs4bhoXQQDOXfbG0bwAHD3fDGUmx6WjClk52oZeRmzYZUQ2K4FUCpw5av+vtjXkcePq+kASwd2LKetAWVkZ2rRpg+nTp6Nnz57o3bs3zp49i/DwcLHP+PHjcerUKfG04Mcff9xpRhqwB5U2bdrg/fffx7x587B8+XLk5OQ49YmNjcW4ceMq3a+5QlUz3VFRUbh48SL8/Pyc+hqNRpw6dQoxMTFOizoJgiBe092Ur2Eg13HM1Nzzzz+PoqIivP/++y71f/fdd/Hjjz/i119/rbaP0WhEbm4uoqKi3Fqo7VazWCxIT0/HgAEDKq2lQFQdjhtyB8cNuYPjpvEQBAE5JyzI3GXEht0GXLzsmNH2UUrQK8E+o50YJ4enR93+rtoYxk1xcTGCg4NRVFRUKSNerd5PL7+at7c3OnfujKNHj4qLe+Xl5TmF7vz8fHH2OywsDGazGYWFhU6z3fn5+ejVq5fY5/z585We68KFC5Vm0a8ml8urvH+vTCar9KZbrVZIJBJIpc7XbleculqxjehGOGZq7t///jfeeecdCILg0qngXl5eWLp06XVfX6lUKi4G2FC/5KvS2OqlhoHjhtzBcUPu4LhpmARBwNFTFmTsLIM2W4/zlxznhKsUEvROUCJN7Q11vAIyz1s/KdSQx42rdTWo0G0ymXDo0CH07dsXrVq1QlhYGNLT08UFvMxmMzIzM8V796rVashkMqSnp2PkyJEA7At+7d+/HwsWLABgv+1QUVERtm/fjh49egAAtm3bhqKiIjGYE1Hj5e/vj5deesnl/hX3MSciIiJqqgRBwF9nLMjQ6aHN1uPsBcfldAq5BL06K5GmVqF7ByW8ZDz78mbVa+ieNm0ahg0bhpYtWyI/Px9z585FcXExxo4dC4lEgsmTJ2PevHmIjY1FbGws5s2bB5VKJV6j6+/vj3HjxmHq1KkICgpCYGAgpk2bhs6dO4urmcfHx2Pw4MEYP348PvjgAwD2X7qHDh1aJyuXExERERERNUTHz5qhvRK0T513BG25TIKeV4J2j44KKLx4xmVtqtfQffr0aYwaNQoXL15E8+bN0bNnT2zduhXR0dEAgOnTp8NgMOCpp55CYWEhkpOTsX79evEe3QCwaNEieHp6YuTIkTAYDOjfvz+WLVvmdJrpF198gWeffVZc5Xz48OFYunTprT1YIiIiIiKiW+zkeYs9aOv0yD3nWG1b5gkkd7QH7Z6dlFAqGLTrSr2G7tWrV193u0QiwezZszF79uxq+ygUCixZsgRLliyptk9gYCBWrlzpbplERERERESNxpkLFnFG+9hpR9D29AC6d7AH7ZTOSngrGbRvhQZ1TXdj1xDvxU1ENcfPMhERETU2eQXlYtA+ctJxG2MPKaCOVyBNrULvBBV8VAzatxpDdy3w8vKCVCrF2bNn0bx5c3h5eUEikcBms8FsNsNoNHIlanIJx0z9EgQBZrMZFy5cgFQqhZeXV32XRERERFSt/EvlyNylR4ZOj8O5jqAtlQKJcfag3aerEn7eN77DC9Udhu5aIJVK0apVK5w7dw5nz54V2wVBgMFggFKp5D2XySUcMw2DSqVCy5Yt+YcPIiIianAuXi7Hhl0GZOjKcOCvq4K2BEiIlSNNrULfrioE+DJoNxQM3bXEy8sLLVu2RHl5OaxW+73tLBYLNmzYgH79+jXYe8tRw8IxU/88PDzg6enJP3oQERFRg3Gp2IqNV2a09x0zQRDs7RIJ0KmNPWj366pCoD+DdkPE0F2LJBKJ083bPTw8UF5eDoVCwQBFLuGYISIiIiIAKCq1YuNu+4z2niMm2ATHtg6tvOxBO0mF5gGMdA0d3yEiIiIiIqIGoLjMis17DMjQ6ZGdY8TVa7u2i7YH7dQkFUIDGeMaE75bRERERERE9aTUYEPWHvup47rDRpRbHdtio2TQqL2hSVIhPJjRrbHiO0dERERERHQL6Y02ZO01QJutx46DBljKHdtat5BBk6SCRq1CZAgvN7wdMHQTERERERHVMYPJhq377EF72wEjzBbHRdrRYZ7ijHZ0OIP27Yahm4iIiIiIqA6YzDZsO2CEVqfH1v0GGM2OoB0Z4gmNWoU0tQox4TLeOeU2xtBNRERERERUS8wWATsO2me0s/YaYDA5gnZ4sCc0Sfag3SaSQbupYOgmIiIiIiK6CZZyAbpDRmToypC114AyoyNohwR6iEE7rqUXg3YTxNBNRERERERUQ+VWAbtyjMjQ6bFptx6lBkfQDg7wQOqVoB0fw6Dd1DF0ExERERERucBqFbDnqAkZujJs3G1AcZnjRtqBflL0S7QH7Y6t5ZBKGbTJjqGbiIiIiIioGlabgP1/mpCh02Pjbj0KSxxBO8BHir5XgnbntnJ4MGhTFRi6iYiIiIiIrmKzCTh43IwMXRk27DKgoMgqbvPzlqJvVyU0am90jZXDw4NBm66PoZuIiIiIiJo8QRBwONeMDJ0emdl6XLjsCNo+Sgn6dFVBk6RCUnsFPBm0qQYYuomIiIiIqEkSBAFHTpqh1emhzdbj/CVH0FYpJOidYJ/R7havgMyTQZvcw9BNRERERERNhiAIOHbaAm22PWifvVAublPIJejVWYk0tQrdOyjhJWPQppvH0E1ERERERLe942ftM9oZOj1O5zuCtlwmQc8rQbtHRwUUXtJ6rJJuRwzdRERERER0WzqZZ5/RztDpceKcRWyXeQLJHe1Bu2dnJZRyBm2qOwzdRERERER02ziT7wjaf51xDtrd4u1Bu1eCEioFgzbdGgzdRERERETUqJ27WI7MbD0ydGU4esoRtD2kQLd4BTRqFXonqOCjYtCmW4+hm4iIiIiIGp38S+XI3GWf0T6caxbbpVIgMU6BNLUKfboq4eftUY9VEjF0ExERERFRI3Hxcjk27DIgQ1eGA39dFbQlQJc4OdLU3ujTRYkAXwZtajgYuomIiIiIqMG6VGzFxisz2vuOmSAI9naJBOjcRg6NWoV+XVUI9GfQpoaJoZuIiIiIiBqUolIrNu62z2jvOWKCTXBs69jaC5okFfolqdA8gHGGGj6OUiIiIiIiqnfFZVZs3mNAhk6P7BwjbDbHtvYx9qCdmqRCaCAjDDUuHLFERERERFQvSg02ZO2xnzquO2xEudWxLTZKhjS1N1KTVAgPZmyhxoujl4iIiIiIbhm90YasvQZos/XYcdAAS7ljW+sWMqSp7TPakSGy+iuSqBYxdBMRERERUZ2ylEuhzTZg057L2HbACLPFcZF2dLg9aGuSVGgZxqBNtx+GbiIiIiIiqnUmsw3bDhjxx85SZO3thHLrZXFbZIgnNGoV0tQqtIrwqr8iiW4Bhm4iIiIiIqoVZouAHQftp45n7TXAYKqY0fZAeJAH0rp5Q5OkQptIGSQSSb3WSnSrMHQTEREREZHbLOUCdIeM0GbrsXmPHmVGx6njoYEe6NdVAQ+9Do89pIGXF2e1qelh6CYiIiIiohoptwrYlWOEVqfHpj0GlOgd9/cKDvCAJkkFjVqF+BgvlJeXY+1aA2e2qcli6CYiIiIiohuyWgXsOWqCNluPDbv0KC5zBO1APylSk+yLoXVsLYdUyoBNVIGhm4iIiIiIqmS1Cdj/pyNoF5Y4gnaAjxT9Eu0z2p3byuHBoE1UJYZuIiIiIiIS2WwCDh43Q6srQ+YuAwqKrOI2P28p+nZVQqP2RtdYOTw8GLSJboShm4iIiIioiRMEAYdzzdBm66HV6XHhsiNo+ygl6NPVfnuvxHYKeDJoE9UIQzcRERERURMkCAKOnrIgY2cZtNl6nL/kCNoqhQS9E5RIU3tDHa+AzJNBm8hdDN1ERERERE2EIAj464wFGTo9tNl6nL1QLm5TyCXo1VmJNLUK3Tso4SVj0CaqDQzdRERERES3ueNnzdBeCdqnzjuCtlwmQc8rQbtHRwUUXtJ6rJLo9sTQTURERER0Gzp53mIP2jo9cs9ZxHaZJ5Dc0R60e3ZSQqlg0CaqSwzdRERERES3iTMXLOKM9rHTjqDt6QF072AP2imdlfBWMmgT3SoN5tM2f/58SCQSTJ48WWwTBAGzZ89GREQElEolNBoNDhw44PQ4k8mESZMmITg4GN7e3hg+fDhOnz7t1KewsBBjxoyBv78//P39MWbMGFy+fPkWHBURERERUd3KKyjH6vXF+MdreRgz6xw++V8Rjp22wEMK9OiowPOPBuK71yPx6pPNcWcPbwZuolusQcx079ixAx9++CESEhKc2hcsWIC33noLy5YtQ1xcHObOnYsBAwYgJycHvr6+AIDJkydjzZo1WL16NYKCgjB16lQMHToUOp0OHh4eAIDRo0fj9OnTWLduHQBgwoQJGDNmDNasWXNrD5SIiIiIqBbkXypH5i77qeOHcs1iu1QKJMYpkKZWoU9XJfy8PeqxSiICGkDoLi0txcMPP4yPPvoIc+fOFdsFQcDixYsxY8YMjBgxAgCwfPlyhIaGYtWqVZg4cSKKiorwySefYMWKFbjzzjsBACtXrkRUVBR+++03DBo0CIcOHcK6deuwdetWJCcnAwA++ugjpKSkICcnB+3atbv1B01EREREVEMXL5djwy4DMnRlOPDXVUFbAiTEypGmVqFvVxUCfBm0iRqSeg/dTz/9NIYMGYI777zTKXQfP34ceXl5GDhwoNgml8uRmpqKrKwsTJw4ETqdDhaLxalPREQEOnXqhKysLAwaNAhbtmyBv7+/GLgBoGfPnvD390dWVhZDNxERERE1WJeKrdi4S48MnR77jpkgCPZ2iQTo1MYetPt1VSHQn0GbqKGq19C9evVqZGdnY8eOHZW25eXlAQBCQ0Od2kNDQ3HixAmxj5eXF5o1a1apT8Xj8/LyEBISUmn/ISEhYp+qmEwmmEwm8efi4mIAgMVigcViqe5hTir6udqfiGOG3MFxQ+7guCF3cNzcGkWlNmzea0TmLgP2HjXDJji2xcfIkJqoRN+uCgQHVARtGywWW73U6gqOG3JHYxg3rtZWb6H71KlT+Oc//4n169dDoVBU208ikTj9LAhCpbZrXdunqv432s/8+fMxZ86cSu3r16+HSqW67vNfKz09vUb9iThmyB0cN+QOjhtyB8dN7TNaPHDsvD+O5jXDyUu+EATH76mhfmWIC7+MtqGF8FNaAD2wPasei3UTxw25oyGPG71e71K/egvdOp0O+fn5UKvVYpvVasWGDRuwdOlS5OTkALDPVIeHh4t98vPzxdnvsLAwmM1mFBYWOs125+fno1evXmKf8+fPV3r+CxcuVJpFv9qLL76IKVOmiD8XFxcjKioKAwcOhJ+fn0vHaLFYkJ6ejgEDBkAmk7n0GGraOGbIHRw35A6OG3IHx03tKjPYkLXPiA27jMjOMaHc6tjWNtIT/RKVSE1UICwovPqdNAIcN+SOxjBuKs6GvpF6C939+/fHvn37nNoef/xxtG/fHs8//zxat26NsLAwpKenIzExEQBgNpuRmZmJ119/HQCgVqshk8mQnp6OkSNHAgDOnTuH/fv3Y8GCBQCAlJQUFBUVYfv27ejRowcAYNu2bSgqKhKDeVXkcjnkcnmldplMVuM33Z3HUNPGMUPu4Lghd3DckDs4btynN9qwZZ8BGTo9dhw0wFLu2NY6QgaNWgWNWoXIkNvv9eW4IXc05HHjal31Frp9fX3RqVMnpzZvb28EBQWJ7ZMnT8a8efMQGxuL2NhYzJs3DyqVCqNHjwYA+Pv7Y9y4cZg6dSqCgoIQGBiIadOmoXPnzuJq5vHx8Rg8eDDGjx+PDz74AID9lmFDhw7lImpEREREVOcMJhu27bcH7W0HjDBbHBdpR4d5IjVJhTS1N6LDG2awIKKbU++rl1/P9OnTYTAY8NRTT6GwsBDJyclYv369eI9uAFi0aBE8PT0xcuRIGAwG9O/fH8uWLRPv0Q0AX3zxBZ599llxlfPhw4dj6dKlt/x4iIiIiKhpMJlt2HbACK1Oj637DTCaHUE7MsQTGrUKaWoVYsJlN1yviIgaN7dCt8ViQV5eHvR6PZo3b47AwMBaKUar1Tr9LJFIMHv2bMyePbvaxygUCixZsgRLliyptk9gYCBWrlxZKzUSEREREVXFbBGw46AB2mw9svYaYDA5gnZ4kAc0am+kqVVoE8mgTdSUuBy6S0tL8cUXX+DLL7/E9u3bnW6nFRkZiYEDB2LChAno3r17nRRKRERERNTQWMoF6A4Zoc3WY/MePcqMjqAdEugBTZJ9RjuupReDNlET5VLoXrRoEV599VXExMRg+PDheOGFF9CiRQsolUpcunQJ+/fvx8aNGzFgwAD07NkTS5YsQWxsbF3XTkRERER0y5VbBezKsZ86vmmPASV6xz2ygwM8rlyjrUJ8DIM2EbkYurOyspCRkYHOnTtXub1Hjx74+9//jvfffx+ffPIJMjMzGbqJiIiI6LZhtQrYc9SEDF0ZNu42oLjMEbQD/aTol2gP2h1byyGVMmgTkYNLofubb75xaWdyuRxPPfXUTRVERERERNQQWG0C9v9pQoZOj4279SgscQTtAB8p+l4J2p3byuHBoE1E1bjp1cuLi4vxxx9/oF27doiPj6+NmoiIiIiI6oXNJuDgcTMydGXYsMuAgiKruM3PW4o+XZVIU3uja6wcHh4M2kR0YzUO3SNHjkS/fv3wzDPPwGAwoFu3bsjNzYUgCFi9ejXuv//+uqiTiIiIiKhOCIKAw7lmZOj0yMzW48JlR9D2VkrQp4t9RjupvQKeDNpEVEM1Dt0bNmzAjBkzAADff/89BEHA5cuXsXz5csydO5ehm4iIiIgaPEEQcPSUBRk7y6DN1uP8JUfQVikk6J2ghEbtDXV7BbxkDNpE5L4ah+6ioiLxvtzr1q3D/fffD5VKhSFDhuBf//pXrRdIRERERFQbBEHAX2csyNDpoc3W4+yFcnGbQi5BSmcl0pJU6NFRyaBNRLWmxqE7KioKW7ZsQWBgINatW4fVq1cDAAoLC6FQKGq9QCIiIiKim3H8rBnaK0H71HlH0JbLJOjZWQlNkgrJnRRQeEnrsUoiul3VOHRPnjwZDz/8MHx8fBAdHQ2NRgPAftp5dbcUIyIiIiK6lU6et0Cr0yNDp8eJcxaxXeYJJHdUQqNWIaWTEkoFgzYR1a0ah+6nnnoKycnJOHnyJAYMGACp1P5F1bp1a8ydO7fWCyQiIiIicsWZfAu02fag/dcZR9D29AC6d1AiTa1CSmclvJUM2kR069QodFssFrRr1w4//fQT7rvvPqdtQ4YMqdXCiIiIiIhuJK+g/MqMdhmOnnIEbQ8poI5XIE2tQu8EFXxUDNpEVD9qFLplMhlMJhMkEi4sQURERET1I/9SOTJ32We0D+eaxXapFEiMuxK0uyjh7+NRj1USEdnV+PTySZMm4fXXX8fHH38MT88aP5yIiIiIqMYuXi7Hhl0GZOjKcOCvq4K2BEiIlSNNrULfrioE+DJoE1HDUuPUvG3bNvz+++9Yv349OnfuDG9vb6ft3333Xa0VR0RERERN16ViKzZemdHed8wEQbC3SyRApzb2oN2vqwqB/gzaRNRw1Th0BwQE4P7776+LWoiIiIioiSsqtWLjbvuM9p4jJtgEx7YOrbzsQTtJheYBPOOSiBqHGn9bffbZZ3VRBxERERE1UcVlVmzeY0CGTo/sHCNsNse2dtH2oJ2apEJoIIM2ETU+bn1zlZeXQ6vV4tixYxg9ejR8fX1x9uxZ+Pn5wcfHp7ZrJCIiIqLbTKnBhqw99lPHdYeNKLc6tsVGyaBRe0OTpEJ4MIM2ETVuNf4WO3HiBAYPHoyTJ0/CZDJhwIAB8PX1xYIFC2A0GvH+++/XRZ1ERERE1MjpjTZs2Wef0d5x0ABLuWNb6xYyaJJU0KhViAyR1V+RRES1rMah+5///Ce6deuGPXv2ICgoSGy/77778MQTT9RqcURERETUuBlMNmzdZ4A2W49tB4wwWxwXaUeHy5CmVkGTpELLMAZtIro91Th0b9q0CZs3b4aXl5dTe3R0NM6cOVNrhRERERFR42Qy27DtgBFanR5b9xtgNDuCdmSIJzRqFdLUKrSK8LrOXoiIbg81Dt02mw1Wq7VS++nTp+Hr61srRRERERFR42K2CNhx0D6jnbXXAIPJEbTDgz3FGe02kTJIJJJ6rJSI6NaqcegeMGAAFi9ejA8//BAAIJFIUFpailmzZuHuu++u9QKJiIiIqGGylAvQHTJCm63H5j16lBkdQTs00EO8RjuupReDNhE1WTUO3YsWLUJaWho6dOgAo9GI0aNH4+jRowgODsaXX35ZFzUSERERUQNhtQE7D5mwaU8xNu0xoETvuL9XcIAjaMfHMGgTEQFuhO6IiAjs3r0bq1evhk6ng81mw7hx4/Dwww9DqVTWRY1EREREVI+sVgF7jprwx85S/LGjM4zpl8RtgX5SpCbZTx3v2FoOqZRBm4joajUO3Rs2bECvXr3w+OOP4/HHHxfby8vLsWHDBvTr169WCyQiIiKiW89qE7D/TxO02Xps2KVHYUnFjLYn/H2kSE20z2h3biuHB4M2EVG1ahy609LScO7cOYSEhDi1FxUVIS0trcpF1oiIiIio4bPZBBw8boZWV4bMXQYUFDl+r/PzlqJ3ghwKyz6MH90HCgVXHicickWNQ7cgCFVen1NQUABvb+9aKYqIiIiIbg1BEHA41wxtth5anR4XLjuCto9Sgj5d7aeOJ7VXQLCVY+3aEnh4cGabiMhVLofuESNGALCvVv7YY49BLpeL26xWK/bu3YtevXrVfoVEREREVKsEQcDRUxZodWXQZuuRV+AI2iqFBL0TlNCovdEtXgGZpyNgW2xV7Y2IiK7H5dDt7+8PwP4l7evr67RompeXF3r27Inx48fXfoVEREREdNMEQcBfZyzQ6vTQZutx5kK5uE0hl6BXZyXS1Cp076CEl4wz2UREtcXl0P3ZZ58BAGJiYjBt2jSeSk5ERETUCBw/axaD9qnzjqAtl0nQ80rQ7tFRAYWXtB6rJCK6fdX4mu5Zs2bVRR1EREREVEtOnrcgU6dHhk6P3HMWsV3mCSR3VEKjViGlkxJKBYM2EVFdcyl0JyUl4ffff0ezZs2QmJhY5UJqFbKzs2utOCIiIiJyzZkLV4J2th7HTjuCtqcH0L2DfUY7pbMS3koGbSKiW8ml0H3PPfeIC6fde++9dVkPEREREbkor6BcXHX8yEmz2O4hBdTxCqSpVeidoIKPikGbiKi+uBS6rz6lvLrTyy0WC86dO1c7VRERERFRlfIvlSNzlz1oH8p1BG2pFEiMuxK0uyjh7+NRj1USEVGFGl/TXZ2DBw8iKSkJVqv1xp2JiIiIyGUFRVZkZtsXQ9t/zCS2SyRAl7ZyaNQq9EtUIcCXQZuIqKGptdBNRERERLXnUrEVG3fZg/beP00QBHu7RAJ0aiNHmlqFfl1VCPRn0CYiasgYuomIiIgaiKJSKzbuNkCrK8PuIybYBMe2Dq287EE7SYXmAfwVjoioseA3NhEREVE9KtHbsGm3fUZbd9gIm82xrV20PWinJqkQGshf24iIGiOXv7337t173e05OTk3XQwRERFRU1BqsCFrjz1o7zxkRPlVS+K0jZIhTe2N1CQVIoIZtImIGjuXv8m7du0KiUQCQRAqbatov979u4mIiIiaMr3Rhi37DMjQ6bHjoAGWcse21hEyaNQqaNQqRIbI6q9IIiKqdS6H7uPHj9dlHURERES3HYPJhm377UF72wEjzBbH5EV0mCc0am9oklSIDmfQJiK6XbkcuqOjo+uyDiIiIqLbgslsw7YDRmh1emzdb4DR7AjakSGe0KhVSFOrEBMu41mCRERNgEuh++TJk2jZsqXLOz1z5gxatGjhdlFEREREjYnZImDHIQO0Oj2y9hpgMDmCdniQBzRqb6SpVWgTyaBNRNTUuBS6u3fvjuHDh2P8+PHo0aNHlX2Kiorw9ddf4+2338bEiRMxadKkWi2UiIiIqCGxlAvQHbbPaG/eo0eZ0RG0QwI9oEmyz2jHtfRi0CYiasKkrnQ6dOgQ/P39MXjwYISGhmLIkCEYP348Jk2ahEceeQRJSUkICQnBsmXLsHDhQpcD93vvvYeEhAT4+fnBz88PKSkp+OWXX8TtgiBg9uzZiIiIgFKphEajwYEDB5z2YTKZMGnSJAQHB8Pb2xvDhw/H6dOnnfoUFhZizJgx8Pf3h7+/P8aMGYPLly+7VCMRERFRhXKrgB0HDVi4ogAPvHAGL717Aeu3laHMKCA4wAP33+GLpf8KxZf/icA/RjRDu2g5AzcRURPn0kx3YGAg3njjDcydOxdr167Fxo0bkZubC4PBgODgYDz88MMYNGgQOnXqVKMnj4yMxGuvvYa2bdsCAJYvX4577rkHu3btQseOHbFgwQK89dZbWLZsGeLi4jB37lwMGDAAOTk58PX1BQBMnjwZa9aswerVqxEUFISpU6di6NCh0Ol08PDwAACMHj0ap0+fxrp16wAAEyZMwJgxY7BmzZoa1UtERERNj9UmYM9RE7Q6PTbs0qO4zHEj7UA/Kfol2me0O7aWQyplwCYiImc1uvmjQqHAiBEjMGLEiFp58mHDhjn9/Oqrr+K9997D1q1b0aFDByxevBgzZswQn2/58uUIDQ3FqlWrMHHiRBQVFeGTTz7BihUrcOeddwIAVq5ciaioKPz2228YNGgQDh06hHXr1mHr1q1ITk4GAHz00UdISUlBTk4O2rVrVyvHQkRERLcPq03A/mOOoF1Y4gjaAT5S9L0StDu3lcODQZuIiK6jRqG7LlmtVnzzzTcoKytDSkoKjh8/jry8PAwcOFDsI5fLkZqaiqysLEycOBE6nQ4Wi8WpT0REBDp16oSsrCwMGjQIW7Zsgb+/vxi4AaBnz57w9/dHVlYWQzcREREBAGw2AQePm6HVlSFzlwEFRVZxm5+3FH26KpGm9kbXWDk8PBi0iYjINfUeuvft24eUlBQYjUb4+Pjg+++/R4cOHZCVlQUACA0NdeofGhqKEydOAADy8vLg5eWFZs2aVeqTl5cn9gkJCan0vCEhIWKfqphMJphMJvHn4uJiAIDFYoHFYnHp2Cr6udqfiGOG3MFxQ+7guLETBAE5JyzI3GXEht0GXLzsmNH2VkrQq7MCqUkKJMbJ4XklaNts5bDZqtvj7Y3jhtzBcUPuaAzjxtXa6j10t2vXDrt378bly5fx7bffYuzYscjMzBS3X7v4iCAIN1yQ5No+VfW/0X7mz5+POXPmVGpfv349VCrVdZ//Wunp6TXqT8QxQ+7guCF3NMVxIwhAfrESR/Oa4ej5ABQb5OI2Lw8rWocUITasEC2DS+ApFXDhOLD+eD0W3AA1xXFDN4/jhtzRkMeNXq93qV+9h24vLy9xIbVu3bphx44dePvtt/H8888DsM9Uh4eHi/3z8/PF2e+wsDCYzWYUFhY6zXbn5+ejV69eYp/z589Xet4LFy5UmkW/2osvvogpU6aIPxcXFyMqKgoDBw6En5+fS8dmsViQnp6OAQMGQCaTufQYato4ZsgdHDfkjqY2bgRBwF9ny5GZbcCG3Uacu+g4dVzhJUHPTnKkJirRLV4OL1lkPVbasDW1cUO1g+OG3NEYxk3F2dA3Uu+h+1qCIMBkMqFVq1YICwtDeno6EhMTAQBmsxmZmZl4/fXXAQBqtRoymQzp6ekYOXIkAODcuXPYv38/FixYAABISUlBUVERtm/fLt5jfNu2bSgqKhKDeVXkcjnkcnmldplMVuM33Z3HUNPGMUPu4Lghd9zu4+b4WTO0Oj202XqcOl8utstlEiR3UiBN7Y3kTgoovFy6iypdcbuPG6obHDfkjoY8blyty6XQ/b///c/lJx4+fLjLfV966SXcddddiIqKQklJCVavXg2tVot169ZBIpFg8uTJmDdvHmJjYxEbG4t58+ZBpVJh9OjRAAB/f3+MGzcOU6dORVBQEAIDAzFt2jR07txZXM08Pj4egwcPxvjx4/HBBx8AsN8ybOjQoVxEjYiI6DZ08rzFHrR1euSec1xvJ/MEenRUIk2tQkonJZQKBm0iIqp7LoXue++91+lniUQCQRCcfq5gtVrhqvPnz2PMmDE4d+4c/P39kZCQgHXr1mHAgAEAgOnTp8NgMOCpp55CYWEhkpOTsX79evEe3QCwaNEieHp6YuTIkTAYDOjfvz+WLVsm3qMbAL744gs8++yz4irnw4cPx9KlS12uk4iIiBq2M/kWaLPtM9rHTjuCtqcH0C3ePqPdK0EJbyWDNhER3VouhW7bVUt0/vbbb3j++ecxb948pKSkQCKRICsrC//+978xb968Gj35J598ct3tEokEs2fPxuzZs6vto1AosGTJEixZsqTaPoGBgVi5cmWNaiMiIqKGLa+gHFqdHhm6Mhw95QjaHlJA3V4BjVqF3l1U8FUxaBMRUf2p8TXdkydPxvvvv48+ffqIbYMGDYJKpcKECRNw6NChWi2QiIiIqEL+pXJk7tIjQ6fH4Vyz2C6VAolx9qDdp4sS/j4e19kLERHRrVPj0H3s2DH4+/tXavf390dubm5t1EREREQkuni5HBt2GZChK8OBvxxBWyIBusTKoUlSoV+iCgG+DNpERNTw1Dh0d+/eHZMnT8bKlSvFW3nl5eVh6tSp4urgRERERDfjUrEVG6/MaO87ZkLFUjISCdCpjT1opyaqEOjPoE1ERA1bjUP3p59+ivvuuw/R0dFo2bIlAODkyZOIi4vDDz/8UNv1ERERURNRVGrFxt32Ge09R0ywOdZsRYdWXkhTq9AvSYXmAQ3ujqdERETVqvG/Wm3btsXevXuRnp6Ow4cPQxAEdOjQAXfeeafTKuZEREREN1JcZsXmPQZk6PTIzjHiqrVb0S7aHrRTk1QIDWTQJiKixsmtf8EkEgkGDhyIfv36QS6XM2wTERGRy0oNNmTtsZ86rjtsRPlVdxttGyVDmtobmiQVwoMZtImIqPGr8b9mNpsNr776Kt5//32cP38eR44cQevWrTFz5kzExMRg3LhxdVEnERERNWJ6ow1b9tlntHccNMBS7tjWuoUMmiQVNGoVIkNk9VckERFRHahx6J47dy6WL1+OBQsWYPz48WJ7586dsWjRIoZuIiIiAgAYTDZs228P2tsOGGG2OC7Sjg7zhObKjHZ0OIM2ERHdvmocuj///HN8+OGH6N+/P/7xj3+I7QkJCTh8+HCtFkdERESNi8lsw7YDRmh1emzdb4DR7AjakSGe0KhVSFOr0CrCqx6rJCIiunVqHLrPnDmDtm3bVmq32WywWCy1UhQRERE1HmaLgB2HDNDq9Mjaa4DB5Aja4cGe0CTZg3abSBnXgSEioianxqG7Y8eO2LhxI6Kjo53av/nmGyQmJtZaYURERNRwWcoF6A7bZ7Q379GjzOgI2qGBHuI12nEtvRi0iYioSatx6J41axbGjBmDM2fOwGaz4bvvvkNOTg4+//xz/PTTT3VRIxERETUA5VYBu3LsQXvTHgNK9I77ewUHOIJ2fAyDNhERUYUah+5hw4bhq6++wrx58yCRSPDyyy8jKSkJa9aswYABA+qiRiIiIqonVpuAPUdM0GbrsWGXHsVljqAd6CdFapIKmiQVOraWQypl0CYiIrqWWzfAHDRoEAYNGlTbtRAREVEDYLUJ2H/MBK3OHrQLSxxBO8BHir6J9mu0O7eVw4NBm4iI6LpqHLoff/xxPPLII7jjjjt46hgREdFtwmYTcPC4GVpdGTJ3GVBQZBW3+XlL0berEhq1N7rGyuHhwX//iYiIXFXj0F1QUIAhQ4YgKCgIDz30EB555BEuoEZERNQICQJwONeMTXtLkZmtR36hI2j7KCXo09V+6nhSewU8GbSJiIjcUuPQ/b///Q+XL1/G119/jVWrVmHx4sVo164dHnnkEYwePRoxMTF1UCYRERHVBkEQcPSUBb/vKMGvWR1QvL5A3KZSSNA7wT6j3S1eAZkngzYREdHNcuua7oCAAEyYMAETJkzA6dOn8eWXX+LTTz/Fyy+/jPLy8tqukYiIiG6CIAj464wFWp0e2mw9zlyo+LdaDoWXBL0SlNAkqdCjoxJeMgZtIiKi2uRW6K5gsViwc+dObNu2Dbm5uQgNDa2tuoiIiOgmHT9rRma2Hhk6PU6dd/xRXC6ToEdHOXyFQ5j4SAp8vb3qsUoiIqLbm1uhOyMjA6tWrcK3334Lq9WKESNGYM2aNbjjjjtquz4iIiKqgZPnLcjU2YN27jmL2C7zBJI7KqFRq5DSSQlPDyvWrr0MhRdntomIiOpSjUN3ZGQkCgoKMGjQIHzwwQcYNmwYFApFXdRGRERELjhz4UrQztbj2GlH0Pb0ALp3sJ863itBCW+lVNxmsVir2hURERHVshqH7pdffhkPPvggmjVrVhf1EBERkQvyCsqhzdZDq9PjyEmz2O4hBdTxCqSpVeidoIKPSnqdvRAREVFdq3HonjBhQl3UQURERDeQf6kcmbvsQftQriNoS6VAYtyVoN1FCX8fj3qskoiIiK7m1jXdO3bswDfffIOTJ0/CbDY7bfvuu+9qpTAiIiICCoqsyMy2rzq+/5hJbJdIgC6xcqSpVejbVYUAXwZtIiKihqjGoXv16tV49NFHMXDgQKSnp2PgwIE4evQo8vLycN9999VFjURERE3KpWIrNu6yB+29f5ogCPZ2iQTo1MYetPt1VSHQn0GbiIiooatx6J43bx4WLVqEp59+Gr6+vnj77bfRqlUrTJw4EeHh4XVRIxER0W2vqNSKjbsN0OrKsPuICTbBsa1DKy970E5SoXnATd3tk4iIiG6xGv/LfezYMQwZMgQAIJfLUVZWBolEgueeew533HEH5syZU+tFEhER3Y5K9DZs2m2f0dYdNsJmc2xrF20P2qlJKoQGMmgTERE1VjX+VzwwMBAlJSUAgBYtWmD//v3o3LkzLl++DL1eX+sFEhER3U5KDTZk7bEH7Z2HjCi/6s5dbaNkSFN7IzVJhYhgBm0iIqLbQY3/Re/bty/S09PRuXNnjBw5Ev/85z/xxx9/ID09Hf3796+LGomIiBo1vdGGLfsM0Or02H7QAEu5Y1vrCBk0ahU0ahUiQ2T1VyQRERHViRqH7qVLl8JoNAIAXnzxRchkMmzatAkjRozAzJkza71AIiKixshgsmHbfgMydHpsO2CE2eK4SDs6zBMatTc0SSpEhzNoExER3c7cOr28glQqxfTp0zF9+vRaLYqIiKgxMplt2HbAiMxsPbbsM8BodgTtyBBP+4x2kgqtImSQSCT1WCkRERHdKi6HbpvNBpvNBk9Px0POnz+P999/H2VlZRg+fDj69OlTJ0USERE1VGaLgB2HDMjU6bF5rwEGkyNohwd5QKP2RppahTaRDNpERERNkcuhe9y4cZDJZPjwww8BACUlJejevTuMRiPCw8OxaNEi/Pjjj7j77rvrrFgiIqKGwFIuQHfYPqO9aY8eZQZH0A4J9IAmSYU0tQpxLb0YtImIiJo4l0P35s2bsXTpUvHnzz//HOXl5Th69Cj8/f3x/PPPY+HChQzdRER0W7JaBWTnGKHV6bFpjwElesf9vYIDPJB6JWjHxzBoExERkYPLofvMmTOIjY0Vf/79999x//33w9/fHwAwduxYfPbZZ7VfIRERUT2x2gTsOWqCVqfHxt16FJU6gnYzPylSE+1Bu2NrOaRSBm0iIiKqzOXQrVAoYDAYxJ+3bt2KhQsXOm0vLS2t3eqIiIhuMZtNwL5jJmiz9diwS4/CYkfQ9veRol+ifTG0hFg5PBi0iYiI6AZcDt1dunTBihUrMH/+fGzcuBHnz5/HHXfcIW4/duwYIiIi6qRIIiKiumSzCTh43AytrgyZuwwoKLKK2/y8pejTVYk0tTe6xsrh4cGgTURERK5zOXTPnDkTd999N77++mucO3cOjz32GMLDw8Xt33//PXr37l0nRRIREdU2QRBw+IQZWp0emdl65Bc6gra3UoI+XVTQqFVQt1fAk0GbiIiI3ORy6E5LS4NOp0N6ejrCwsLw4IMPOm3v2rUrevToUesFEhER1RZBEHD0lAVaXRm02XrkFTiCtkohQa8E+4y2ur0CXjIGbSIiIrp5LoduAOjQoQM6dOhQ5bYJEybUSkFERES1SRAE/HXGAq1OD222HmculIvbFHIJUjorkZakQo+OSgZtIiIiqnU1Ct1ERESNxfGzZmRm65Gh0+PUeUfQlsskSO6kQJraG8mdFFB4SeuxSiIiIrrdMXQTEdFt4+R5CzJ19qCde84itss8geSOSmjUKqR0UkKpYNAmIiKiW4Ohm4iIGrUzFxynjh877Qjanh5A9w5KaJJU6JWghLeSQZuIiIhuvRqFbqvVik2bNiEhIQHNmjWrq5qIiIiuK6+gXAzaR06axXYPKaCOVyBNrULvBBV8VAzaREREVL9qFLo9PDwwaNAgHDp0iKGbiIhuqfxL5cjcZT91/HCuI2hLpUBi3JWg3UUJfx+PeqySiIiIyFmNpwA6d+6Mv/76q1aefP78+ejevTt8fX0REhKCe++9Fzk5OU59BEHA7NmzERERAaVSCY1GgwMHDjj1MZlMmDRpEoKDg+Ht7Y3hw4fj9OnTTn0KCwsxZswY+Pv7w9/fH2PGjMHly5dr5TiIiKhuXLxcju8ySjDpjTw89O+zeO/byzica4ZUAnSNk+O5Uc3w3/ktsPDZENzd24eBm4iIiBqcGl/T/eqrr2LatGn4z3/+A7VaDW9vb6ftfn5+Lu8rMzMTTz/9NLp3747y8nLMmDEDAwcOxMGDB8X9LliwAG+99RaWLVuGuLg4zJ07FwMGDEBOTg58fX0BAJMnT8aaNWuwevVqBAUFYerUqRg6dCh0Oh08POy/gI0ePRqnT5/GunXrANhvcTZmzBisWbOmpi8BERHVoUvFVmy8MqO975gJgmBvl0iATm3kSFOr0K+rCoH+DNhERETU8NU4dA8ePBgAMHz4cEgkjvuZCoIAiUQCq9Xq8r4qAnCFzz77DCEhIdDpdOjXrx8EQcDixYsxY8YMjBgxAgCwfPlyhIaGYtWqVZg4cSKKiorwySefYMWKFbjzzjsBACtXrkRUVBR+++038XT4devWYevWrUhOTgYAfPTRR0hJSUFOTg7atWtX05eBiIhqUVGpFRt3G5ChK8OeIybYBMe2Dq287EE7SYXmAVz/k4iIiBqXGv/2kpGRURd1AACKiooAAIGBgQCA48ePIy8vDwMHDhT7yOVypKamIisrCxMnToROp4PFYnHqExERgU6dOiErKwuDBg3Cli1b4O/vLwZuAOjZsyf8/f2RlZXF0E1EVA9K9DZs2m2f0c7OMcJmc2xrF20P2qlJKoQGMmgTERFR41Xj32RSU1Prog4IgoApU6agT58+6NSpEwAgLy8PABAaGurUNzQ0FCdOnBD7eHl5VVrYLTQ0VHx8Xl4eQkJCKj1nSEiI2OdaJpMJJpNJ/Lm4uBgAYLFYYLFYqnzMtSr6udqfiGOG3NGYxk2ZwYasfUZs2GVEdo4J5VedHNU20hP9EpVITVQgLKjinyehURxXY9SYxg01HBw35A6OG3JHYxg3rtbm1vTBxo0b8cEHH+Cvv/7CN998gxYtWmDFihVo1aoV+vTp484u8cwzz2Dv3r3YtGlTpW1Xn8YOOE5lv55r+1TV/3r7mT9/PubMmVOpff369VCpVNd97mulp6fXqD8Rxwy5o6GOG3O5FH/l++NoXgBOXPSDVXCs4RnsY0BsWCFiwy6jmbcJMAPZ2+qx2CaooY4batg4bsgdHDfkjoY8bvR6vUv9ahy6v/32W4wZMwYPP/wwsrOzxdngkpISzJs3D2vXrq3pLjFp0iT873//w4YNGxAZGSm2h4WFAbDPVIeHh4vt+fn54ux3WFgYzGYzCgsLnWa78/Pz0atXL7HP+fPnKz3vhQsXKs2iV3jxxRcxZcoU8efi4mJERUVh4MCBLi8WZ7FYkJ6ejgEDBkAmk7n0GGraOGbIHQ1x3BhNNmw7aEJmthE7DhlhvuoPwS1DPZGaqEC/RAVahjWMepuihjhuqOHjuCF3cNyQOxrDuKk4G/pGahy6586di/fffx+PPvooVq9eLbb36tULr7zySo32JQgCJk2ahO+//x5arRatWrVy2t6qVSuEhYUhPT0diYmJAACz2YzMzEy8/vrrAAC1Wg2ZTIb09HSMHDkSAHDu3Dns378fCxYsAACkpKSgqKgI27dvR48ePQAA27ZtQ1FRkRjMryWXyyGXyyu1y2SyGr/p7jyGmjaOGXJHfY8bk9mGbQeM0Or02LrfAKPZsRpaZIgnNGoV0tQqxITLbni2Et069T1uqHHiuCF3cNyQOxryuHG1rhqH7pycHPTr169Su5+fX43ve/30009j1apV+PHHH+Hr6yteX+3v7w+lUgmJRILJkydj3rx5iI2NRWxsLObNmweVSoXRo0eLfceNG4epU6ciKCgIgYGBmDZtGjp37iyuZh4fH4/Bgwdj/Pjx+OCDDwDYbxk2dOhQLqJGRHQTzBYBOw4ZoNXpkbXXAIPJEbTDgz2hSbIH7TaRDNpERETUNNU4dIeHh+PPP/9ETEyMU/umTZvQunXrGu3rvffeAwBoNBqn9s8++wyPPfYYAGD69OkwGAx46qmnUFhYiOTkZKxfv168RzcALFq0CJ6enhg5ciQMBgP69++PZcuWiffoBoAvvvgCzz77rLjK+fDhw7F06dIa1UtERIClXIDusH1Ge/MePcqMjqAdEughBu24ll4M2kRERNTk1Th0T5w4Ef/85z/x6aefQiKR4OzZs9iyZQumTZuGl19+uUb7EgThhn0kEglmz56N2bNnV9tHoVBgyZIlWLJkSbV9AgMDsXLlyhrVR0REduVWAbty7EF70x4DSvSO+3sFB3gg9UrQjo9h0CYiIiK6Wo1D9/Tp01FUVIS0tDQYjUb069cPcrkc06ZNwzPPPFMXNRIRUT2w2gTsOWqCVqfHhl16FJc5gnagnxT9Eu1Bu2NrOaRSBm0iIiKiqrh1y7BXX30VM2bMwMGDB2Gz2dChQwf4+PjUdm1ERHSLWW0C9h9zBO3CEkfQDvCRou+VoN25rRweDNpEREREN1Tj0P33v/8db7/9Nnx9fdGtWzexvaysDJMmTcKnn35aqwUSEVHdstkEHDxuhlZXhsxdBhQUWcVtft5S9OmqRJraG11j5fDwYNAmIiIiqokah+7ly5fjtddec1rIDAAMBgM+//xzhm4iokZAEAQcPmGGVqdHZrYe+YWOoO2tlKBPF/uMdlJ7BTwZtImIiIjc5nLoLi4uhiAIEAQBJSUlUCgU4jar1Yq1a9ciJCSkTookIqKbJwgCjp6yQKsrgzZbj7wCR9BWKSTonaCERu0NdXsFvGQM2kRERES1weXQHRAQAIlEAolEgri4uErbJRIJ5syZU6vFERHRzREEAX+dsUCr00ObrceZC+XiNoVcgl6dldAkqdCjo5JBm4iIiKgOuBy6MzIyIAgC7rjjDnz77bcIDAwUt3l5eSE6OhoRERF1UiQREdVM7jn7jHaGTo9T5x1BWy6TILmTAmlqbyR3UkDhJa3HKomIiIhufy6H7tTUVADA8ePHERUVBamUv6gRETUkp86XY/NePTJ0euSes4jtMk8guaMSGrUKKZ2UUCr4/U1ERER0q9R4IbXo6GgAgF6vx8mTJ2E2m522JyQk1E5lRER0Q2cuWPDHjlKsyWqHi79eENs9PYDuHeynjvdKUMJbyaBNREREVB9qHLovXLiAxx9/HL/88kuV261Wa5XtRERUO/IKyqHN1kOr0+PIyYo/fKrgIQXU8QpoklTo00UFHxWDNhEREVF9q3Honjx5MgoLC7F161akpaXh+++/x/nz5zF37ly8+eabdVEjEVGTl3+pHJm77EH7UK7jDCOpFOga64Vmnn/iHw93R1CAvB6rJCIiIqJr1Th0//HHH/jxxx/RvXt3SKVSREdHY8CAAfDz88P8+fMxZMiQuqiTiKjJKSiyIjPbvur4/mMmsV0iAbrEypGmVqFvVxW8FTasXbsNft6c2SYiIiJqaGocusvKysT7cQcGBuLChQuIi4tD586dkZ2dXesFEhE1JYUlVmy4MqO9908TBMHeLpEAndrIoUlSITVRhUB/D/ExFoutnqolIiIiohupcehu164dcnJyEBMTg65du+KDDz5ATEwM3n//fYSHh9dFjUREt7WiUis27jZAqyvD7iMm2ATHtg6tvKBRq5CapELzgBp/ZRMRERFRPXPrmu5z584BAGbNmoVBgwbhiy++gJeXF5YtW1bb9RER3ZZK9DZs2mOf0dYdNsJ21WR1u2gvpKlV6JeoQlgQgzYRERFRY+byb3N//vkn2rZti4cfflhsS0xMRG5uLg4fPoyWLVsiODi4TookIrodlBpsyNprn9HeeciI8qtu9tA2SoY0tTdSk1SICGbQJiIiIrpduPybXVxcHFq0aIG0tDTccccd0Gg0iImJgUqlQlJSUl3WSETUaOmNNmzZZ4BWp8f2gwZYyh3bWkfIxFPHo0Jl9VckEREREdUZl0N3ZmYmMjMzodVq8fTTT8NoNKJly5a44447kJaWhrS0NLRo0aIuayUiahSMZhu27jdCqyvD1v1GmC2Oi7RbhnpCo1YhTe2N6HAGbSIiIqLbncuhu2/fvujbty/+/e9/w2KxYMuWLdBqtdBqtfjyyy9hMpnQtm1b5OTk1GW9REQNkslsw7YDRmRm67FlnwFGsyNoR4bYg7YmSYVWETJIJJJ6rJSIiIiIbiW3LhyUyWTo168funfvjpSUFPz666/46KOP8Oeff9Z2fUREDZbZImDHIQMydXps3muAweQI2uFBHtCovaFRq9A2kkGbiIiIqKmqUeg2Go3IyspCRkYGtFotduzYgVatWiE1NRXvvfceUlNT66pOIqIGwVIuQHfYPqO9aY8eZQZH0A4J9IAmyT6j3S7ai0GbiIiIiFwP3ampqdixYwfatGmDfv36YdKkSUhNTUVoaGhd1kdEVO/KrQJ25Rih1emxaY8BJXrH/b2CAzyQeiVox8d4QSpl0CYiIiIiB5dDd1ZWFsLDw5GWlgaNRoN+/frxFmFEdNuy2gTsOWqCVqfHhl16FJc5gnYzPylSE1VIU6vQsbWcQZuIiIiIquVy6L58+TI2btwIrVaL119/HaNGjUJcXBxSU1Oh0WiQmpqK5s2b12WtRER1ymoTsP+YI2gXljiCtr+PFP0S7TPaCbFyeDBoExEREZELXA7d3t7eGDx4MAYPHgwAKCkpwaZNm5CRkYEFCxbg4YcfRmxsLPbv319nxRIR1TabTcDB42ZodWXI3GVAQZFV3ObnLUWfrkqkqb3RNVYODw8GbSIiIiKqGbdWLwfsITwwMBCBgYFo1qwZPD09cejQodqsjYioTgiCgMO5Zmiz9dDq9Lhw2RG0vZUS9OliP3U8qb0CngzaRERERHQTXA7dNpsNO3fuhFarRUZGBjZv3oyysjK0aNECaWlpeOedd5CWllaXtRIRuU0QBBw9ZYFWVwZtth55BY6grVJI0CvBPqOtbq+Al4xBm4iIiIhqh8uhOyAgAGVlZQgPD4dGo8Fbb72FtLQ0tGnTpi7rIyJymyAI+OuMBRk6PbTZepy9UC5uU8glSOmsRFqSCj06Khm0iYiIiKhOuBy6Fy5ciLS0NMTFxdVlPUREN+34WTO0V4L2qfOOoC2XSZDcSYE0tTeSOymg8JLWY5VERERE1BS4HLonTpxYl3UQEd2Uk+ct9qCt0yP3nEVsl3kCPToqkaZWIaWTEkoFgzYRERER3TpuL6RGRFTfzlywiDPax047granB9At3j6j3StBCW8lgzYRERER1Q+GbiJqVPIKysWgfeSkWWz3kALq9gpo1Cr06aKCj4pBm4iIiIjqH0M3ETV4+ZfKkbnLfur4oVxH0JZKgcS4iqCthL+PRz1WSURERERUGUM3ETVIFy+XY8MuAzJ0ZTjwlyNoSyRAl1g5NEkq9EtUIcCXQZuIiIiIGi6GbiJqMC4VW7Fxlx4ZOj32HTNBEOztEgnQqY09aKcmqhDoz6BNRERERI0DQzcR1auiUis27jZAqyvD7iMm2ATHtg6tvJCmVqFfkgrNA/h1RURERESND3+LJaJbrkRvw6bd9sXQdIeNsNkc29pF24N2apIKoYH8iiIiIiKixo2/0RLRLVFqsCFrjz1o7zxkRLnVsa1tlAxpam+kJqkQEcyvJSIiIiK6ffC3WyKqM3qjDVv2GZCh02PHQQMs5Y5trSNk0KhV0KhViAyR1V+RRERERER1iKGbiGqVwWTDtv32oL3tgBFmi+Mi7egwT2jU3tAkqRAdzqBNRERERLc/hm4iumkmsw3bDhih1emxdb8BRrMjaEeGeEKjViFNrUJMuAwSiaQeKyUiIiIiurUYuonILWaLgB2HDNDq9Mjaa4DB5Aja4UEe0Ki9kaZWoU0kgzYRERERNV0M3UTkMku5AN1h+4z25j16lBkdQTsk0AOaJPuMdlxLLwZtIiIiIiIwdBPRDVitArJz7EF70x4DSvSO+3sFB3gg9UrQjo9h0CYiIiIiuhZDNxFVYrUJ2HPUBK1Oj4279SgqdQTtQD8p+iXag3bH1nJIpQzaRERERETVkdbnk2/YsAHDhg1DREQEJBIJfvjhB6ftgiBg9uzZiIiIgFKphEajwYEDB5z6mEwmTJo0CcHBwfD29sbw4cNx+vRppz6FhYUYM2YM/P394e/vjzFjxuDy5ct1fHREjYvNJmDPUSPeXn0JI188g2lv5+OnTaUoKrUhwEeKYX198NbkEHw1rwWe/VsgOrdVMHATEREREd1Avc50l5WVoUuXLnj88cdx//33V9q+YMECvPXWW1i2bBni4uIwd+5cDBgwADk5OfD19QUATJ48GWvWrMHq1asRFBSEqVOnYujQodDpdPDw8AAAjB49GqdPn8a6desAABMmTMCYMWOwZs2aW3ewRA2QzSbg4HEztLoyZO4yoKDIKm7z85aiT1cl0tTe6Borh4cHAzYRERERUU3Va+i+6667cNddd1W5TRAELF68GDNmzMCIESMAAMuXL0doaChWrVqFiRMnoqioCJ988glWrFiBO++8EwCwcuVKREVF4bfffsOgQYNw6NAhrFu3Dlu3bkVycjIA4KOPPkJKSgpycnLQrl27W3OwRA2EIAg4fMIMrU6PzGw98gsdQdtbKUGfLvZTx5PaK+DJoE1EREREdFMa7DXdx48fR15eHgYOHCi2yeVypKamIisrCxMnToROp4PFYnHqExERgU6dOiErKwuDBg3Cli1b4O/vLwZuAOjZsyf8/f2RlZXF0E1NgiAIOHrKAq2uDNpsPfIKHEFbpZCgV4J9RlvdXgEvGYM2EREREVFtabChOy8vDwAQGhrq1B4aGooTJ06Ifby8vNCsWbNKfSoen5eXh5CQkEr7DwkJEftUxWQywWQyiT8XFxcDACwWCywWi0vHUNHP1f5EtTlmBEHA8bPlyNxlwIZdRpy96AjaCi8JenaSIzVRiW7x8quCdjk4XBsffteQOzhuyB0cN+QOjhtyR2MYN67W1mBDd4Vrb0EkCMINb0t0bZ+q+t9oP/Pnz8ecOXMqta9fvx4qlepGZTtJT0+vUX+imxkzBaUKHMkLwNG8ZigsU4jtnlIbYpoXIS7sMmKaF0HmIeDyaeC309fZGTUq/K4hd3DckDs4bsgdHDfkjoY8bvR6vUv9GmzoDgsLA2CfqQ4PDxfb8/PzxdnvsLAwmM1mFBYWOs125+fno1evXmKf8+fPV9r/hQsXKs2iX+3FF1/ElClTxJ+Li4sRFRWFgQMHws/Pz6VjsFgsSE9Px4ABAyCTyVx6DDVt7o6Z0/mOGe3cc+Viu8wT6B4vR2qSEskd5VDKW9RF2VTP+F1D7uC4IXdw3JA7OG7IHY1h3FScDX0jDTZ0t2rVCmFhYUhPT0diYiIAwGw2IzMzE6+//joAQK1WQyaTIT09HSNHjgQAnDt3Dvv378eCBQsAACkpKSgqKsL27dvRo0cPAMC2bdtQVFQkBvOqyOVyyOXySu0ymazGb7o7j6GmzZUxc+aCBZk6PTKy9Th22nFqi6cH0L2DEpokFXolKOGtrNc7A9ItxO8acgfHDbmD44bcwXFD7mjI48bVuuo1dJeWluLPP/8Ufz5+/Dh2796NwMBAtGzZEpMnT8a8efMQGxuL2NhYzJs3DyqVCqNHjwYA+Pv7Y9y4cZg6dSqCgoIQGBiIadOmoXPnzuJq5vHx8Rg8eDDGjx+PDz74AID9lmFDhw7lImrU6OQVlEObrYdWp8eRk2ax3UMKqOMV0CSp0KeLCj4qBm0iIiIiooagXkP3zp07kZaWJv5ccTr32LFjsWzZMkyfPh0GgwFPPfUUCgsLkZycjPXr14v36AaARYsWwdPTEyNHjoTBYED//v2xbNky8R7dAPDFF1/g2WefFVc5Hz58OJYuXXqLjpLo5lwodATtQ7mOoC2VAolxCmjUKvTpooS/j8d19kJERERERPWhXkO3RqOBIAjVbpdIJJg9ezZmz55dbR+FQoElS5ZgyZIl1fYJDAzEypUrb6ZUoluqoMiKrH1GaLP12H/MsYq+RAJ0iZVDk6RCv0QVAnwZtImIiIiIGrIGe003UVNTWGJFxs4yfL+9Lf5vfT4q/h4lkQCd2tiDdmqiCoH+DNpERERERI0FQzdRPSoqtWLjbgO0ujLsPmKCTQAA++UTHVp5QaNWITVJheYB/KgSERERETVG/E2e6BYr0duwaY/9Gm3dYSNsNse2uJYyhChyMWFUV0SGKuuvSCIiIiIiqhUM3US3QKnBhqy99hntnYeMKLc6trWNkkGTpIJG7Y3m/gLWrt2O0EB+NImIiIiIbgf8zZ6ojhiMNmTtM0Cr02P7QQMs5Y5trSNkSFWroElSISrUcX8/i8VSxZ6IiIiIiKixYugmqkUGkw3bDhih1ZVh634jzBbH6vwtQz2hUdtntGPCZdfZCxERERER3S4Yuolukslsw/aDRmh1emzZZ4DR7AjaLZrbg3aaWoVWETJIJJJ6rJSIiIiIiG41hm4iN5gtAnYesp86vnmvAQaTI2iHB3kgVe2NNLUKbSMZtImIiIiImjKGbiIXWcoFZOfYZ7Q37dGjzOAI2iHNPJCaZJ/RbhftxaBNREREREQAGLqJrstqFbDriD1ob9xtQInecX+vIH9H0I6P8YJUyqBNRERERETOGLqJrmG1Cdh71AStTo8Nu/UoKnUE7WZ+UqQmqqBRq9CptZxBm4iIiIiIrouhmwiAzSZg3zETtNl6bNilR2GxI2j7+0jRr6s9aCfEyuHBoE1ERERERC5i6KYmy2YTcPC4GdpsPTKz9SgosorbfFVS9O2qhEatQmKcAh4eDNpERERERFRzDN3UpAiCgMMnzNDq7EE7v9ARtL2VEvTpYp/RVrdXwJNBm4iIiIiIbhJDN932BEHA0VMWaHVl0GbrkVfgCNoqhQS9EpTQJKnQLV4JLxmDNhERERER1R6GbrotCYKAv85YoNXpoc3W48yFcnGbwkuClCtBu0cHBeRe0nqslIiIiIiIbmcM3XRbyT13ZUZbp8fJ846gLZdJkNxJAY3aGz07KaBg0CYiIiIioluAoZsavZPnLcjU6ZGh0yP3nEVsl3kCPTraZ7R7dVZCqWDQJiIiIiKiW4uhmxqlMxeuBO1sPY6ddgRtTw+gW7wCaWpv9EpQwlvJoE1ERERERPWHoZsajbyCcmiz9dDq9Dhy0iy2e0gBdXsFNGoVendRwVfFoE1ERERERA0DQzc1aPmXypG5yx60D+U6grZUAiS2swftPl2U8PfxqMcqiYiIiIiIqsbQTQ1OQZEVmdn2Vcf3HzOJ7RIJ0KWtHKlqFfolqtDMl0GbiIiIiIgaNoZuahAKS6zYcGVGe++fJgiCY1vnNnJorgTtIH8GbSIiIiIiajwYuqneFJVasXG3AVpdGXYfMcF2VdDu0MoLGrUKqYkqNG/GYUpERERERI0T0wzdUiV6Gzbttp86rjtshM3m2Nau5ZWgnaRCWBCHJhERERERNX5MNlTnSg02ZO2xB+2dh4wotzq2tY2SQZOkgkbtjYhgDkciIiIiIrq9MOVQndAbbdiyzwCtTo/tBw2wlDu2tY6QIVWtgiZJhahQWf0VSUREREREVMcYuqnWGEw2bNtvgDZbj637jTBbHBdptwz1hEZtn9GOCWfQJiIiIiKipoGhm26KyWzDtgNGZGbrsWWfAUazI2i3aG4P2mlqFVpFyCCRSOqxUiIiIiIioluPoZtqzGwRsOOQAZk6PTbvNcBgcgTt8CAPaNTe0KhVaBvJoE1ERERERE0bQze5xFIuQHfYPqO9aY8eZQZH0A4J9LAvhpakQrtoLwZtIiIiIiKiKxi6qVpWq4DsHHvQ3rjbgBK94/5ewQEeSL0StDu0YtAmIiIiIiKqCkM3ObHaBOw5akKmTo8Nu/UoKnUE7WZ+UqQm2q/R7thaDqmUQZuIiIiIiOh6GLoJNpuAfcdM0GbrsWGXHoXFjqDt7yNFv0T7jHZCrBweDNpEREREREQuY+huomw2AQePm6HN1iMzW4+CIqu4zc9bij5dldAkqZAYp4CHB4M2ERERERGROxi6mxBBEHD4hBlanT1o5xc6gra3UoI+XVTQqFVQt1fAk0GbiIiIiIjopjF03+YEQcDRUxb7jLauDOcKHEFbpZCgV4J9RrtbvBJeMgZtIiIiIiKi2sTQfRsSBAF/nbEHba1OjzMXysVtCi8JUq4E7R4dFJB7SeuxUiIiIiIiotsbQ/dt5MQ5CzJ0ZdDq9Dh53hG05TIJkjspoFF7o2cnBRQM2kRERERERLcEQ/dtYs9RI55blC/+LPMEenS0z2j36qyEUsGgTUREREREdKsxdN8mOraWI8jfA7FRMmjU3uidoIS3kkGbiIiIiIioPjF03yY8PSRY9Z8IyDy5GBoREREREVFDwanQ2wgDNxERERERUcPC0E1ERERERERURxi6iYiIiIiIiOpIkwrd7777Llq1agWFQgG1Wo2NGzfWd0lERERERER0G2syofurr77C5MmTMWPGDOzatQt9+/bFXXfdhZMnT9Z3aURERERERHSbajKh+6233sK4cePwxBNPID4+HosXL0ZUVBTee++9+i6NiIiIiIiIblNN4pZhZrMZOp0OL7zwglP7wIEDkZWVVeVjTCYTTCaT+HNxcTEAwGKxwGKxuPS8Ff1c7U/EMUPu4Lghd3DckDs4bsgdHDfkjsYwblytTSIIglDHtdS7s2fPokWLFti8eTN69eolts+bNw/Lly9HTk5OpcfMnj0bc+bMqdS+atUqqFSqOq2XiIiIiIiIGja9Xo/Ro0ejqKgIfn5+1fZrEjPdFSQS5/tYC4JQqa3Ciy++iClTpog/FxcXIyoqCgMHDrzuC3o1i8WC9PR0DBgwADKZzP3CqcngmCF3cNyQOzhuyB0cN+QOjhtyR2MYNxVnQ99IkwjdwcHB8PDwQF5enlN7fn4+QkNDq3yMXC6HXC6v1C6TyWr8prvzGGraOGbIHRw35A6OG3IHxw25g+OG3NGQx42rdTWJhdS8vLygVquRnp7u1J6enu50ujkRERERERFRbWoSM90AMGXKFIwZMwbdunVDSkoKPvzwQ5w8eRL/+Mc/XHp8xaXvrp5CANhPidDr9SguLm6wf52hhoVjhtzBcUPu4Lghd3DckDs4bsgdjWHcVGTDGy2T1mRC99/+9jcUFBTglVdewblz59CpUyesXbsW0dHRLj2+pKQEABAVFVWXZRIREREREVEjUlJSAn9//2q3N4nVy2uDzWbD2bNn4evrW+3ia9eqWHzt1KlTLi++Rk0bxwy5g+OG3MFxQ+7guCF3cNyQOxrDuBEEASUlJYiIiIBUWv2V201mpvtmSaVSREZGuvVYPz+/BjtQqGHimCF3cNyQOzhuyB0cN+QOjhtyR0MfN9eb4a7QJBZSIyIiIiIiIqoPDN1EREREREREdYShuw7J5XLMmjWryvt9E1WFY4bcwXFD7uC4IXdw3JA7OG7IHbfTuOFCavT/7d1/TJVlH8fxz0kBARFBhQMCyhRUBHFIKqamNEkUh2lLsxRCXZaWjqEz/UNaTcjSlWlamoiOZs5fWKnkAjHNmlgscsxQQVpCTCpTWAh4P3888zwefqj1eDpHer+2s3Gu677P/UGvfbfvuW7OAQAAAADYCDvdAAAAAADYCE03AAAAAAA2QtMNAAAAAICN0HTbyHvvvafg4GB16dJFw4YN05dffmnvSHBg6enpMplMVg+z2WzvWHAwx48f15QpU+Tv7y+TyaQDBw5YzRuGofT0dPn7+8vV1VXjxo3T2bNn7RMWDuNu6yY5OblV/Rk5cqR9wsIhZGRk6OGHH5aHh4d8fHw0depUnTt3zuoY6g1aupd1Q71BS5s2bdKQIUMs38UdExOjw4cPW+Y7Sq2h6baBjz/+WEuWLNHKlSv13XffacyYMYqPj1dlZaW9o8GBDR48WFVVVZZHSUmJvSPBwdTV1SkyMlIbNmxoc37NmjVat26dNmzYoNOnT8tsNmvChAm6du3aP5wUjuRu60aSJk6caFV/Dh069A8mhKMpLCzUwoUL9fXXX+vo0aNqampSXFyc6urqLMdQb9DSvawbiXoDawEBAcrMzFRRUZGKiooUGxurxMRES2PdYWqNgftu+PDhxoIFC6zGBg4caCxfvtxOieDoVq1aZURGRto7Bh4gkoz9+/dbnt+8edMwm81GZmamZezPP/80PD09jc2bN9shIRxRy3VjGIaRlJRkJCYm2iUPHgw1NTWGJKOwsNAwDOoN7k3LdWMY1BvcGy8vL2Pr1q0dqtaw032f3bhxQ2fOnFFcXJzVeFxcnL766is7pcKDoKysTP7+/goODtbMmTN18eJFe0fCA6S8vFzV1dVWtcfFxUWPPvootQd3dezYMfn4+Cg0NFTz589XTU2NvSPBgVy9elWS5O3tLYl6g3vTct3cQr1Be5qbm7Vr1y7V1dUpJiamQ9Uamu777MqVK2pubpavr6/VuK+vr6qrq+2UCo5uxIgR2rFjh/Ly8rRlyxZVV1dr1KhRqq2ttXc0PCBu1RdqD/6q+Ph45eTkKD8/X2vXrtXp06cVGxurhoYGe0eDAzAMQ6mpqRo9erTCw8MlUW9wd22tG4l6g7aVlJSoa9eucnFx0YIFC7R//36FhYV1qFrT2d4BOiqTyWT13DCMVmPALfHx8ZafIyIiFBMTo379+ik7O1upqal2TIYHDbUHf9WMGTMsP4eHhys6Olp9+vTRZ599pmnTptkxGRzBokWL9P333+vEiROt5qg3aE9764Z6g7YMGDBAxcXF+v3337V3714lJSWpsLDQMt8Rag073fdZz5491alTp1bvvtTU1LR6lwZoj7u7uyIiIlRWVmbvKHhA3Pq0e2oP/l9+fn7q06cP9Qd66aWXdPDgQRUUFCggIMAyTr3BnbS3btpCvYEkOTs7q3///oqOjlZGRoYiIyP1zjvvdKhaQ9N9nzk7O2vYsGE6evSo1fjRo0c1atQoO6XCg6ahoUGlpaXy8/OzdxQ8IIKDg2U2m61qz40bN1RYWEjtwV9SW1urn376ifrzL2YYhhYtWqR9+/YpPz9fwcHBVvPUG7TlbuumLdQbtMUwDDU0NHSoWsPt5TaQmpqq2bNnKzo6WjExMfrggw9UWVmpBQsW2DsaHFRaWpqmTJmioKAg1dTU6PXXX9cff/yhpKQke0eDA7l+/brOnz9veV5eXq7i4mJ5e3srKChIS5Ys0erVqxUSEqKQkBCtXr1abm5umjVrlh1Tw97utG68vb2Vnp6u6dOny8/PTxUVFVqxYoV69uypJ554wo6pYU8LFy7URx99pNzcXHl4eFh2mTw9PeXq6iqTyUS9QSt3WzfXr1+n3qCVFStWKD4+XoGBgbp27Zp27dqlY8eO6ciRIx2r1tjtc9M7uI0bNxp9+vQxnJ2djaioKKuvSwBamjFjhuHn52c4OTkZ/v7+xrRp04yzZ8/aOxYcTEFBgSGp1SMpKckwjP9+jc+qVasMs9lsuLi4GGPHjjVKSkrsGxp2d6d1U19fb8TFxRm9evUynJycjKCgICMpKcmorKy0d2zYUVvrRZKRlZVlOYZ6g5butm6oN2hLSkqKpWfq1auX8dhjjxmff/65Zb6j1BqTYRjGP9nkAwAAAADwb8HfdAMAAAAAYCM03QAAAAAA2AhNNwAAAAAANkLTDQAAAACAjdB0AwAAAABgIzTdAAAAAADYCE03AAAAAAA2QtMNAAAAAICN0HQDAIA7OnnypCIiIuTk5KSpU6faO84dVVRUyGQyqbi42N5RAACQRNMNAIBdJScny2QyyWQyycnJSb6+vpowYYK2bdummzdv2jueJCk1NVVDhw5VeXm5tm/f3uYx48aNk8lkUmZmZqu5SZMmyWQyKT09/b7mSk5Odvg3AQAAoOkGAMDOJk6cqKqqKlVUVOjw4cMaP368Fi9erISEBDU1Ndk7ni5cuKDY2FgFBASoe/fu7R4XGBiorKwsq7HLly8rPz9ffn5+Nk4JAIBjoukGAMDOXFxcZDab1bt3b0VFRWnFihXKzc3V4cOHrXaW161bp4iICLm7uyswMFAvvviirl+/Lkmqq6tTt27dtGfPHqvX/uSTT+Tu7q5r1661ee2Ghga9/PLL8vHxUZcuXTR69GidPn1a0v9u1a6trVVKSopMJlO7O92SlJCQoNraWp08edIytn37dsXFxcnHx8fq2N9++01z5syRl5eX3NzcFB8fr7KyMqvzunfvrry8PA0aNEhdu3a1vDkhSenp6crOzlZubq7lToFjx45Zzr948aLGjx8vNzc3RUZG6tSpU+3/BwAAYEM03QAAOKDY2FhFRkZq3759lrGHHnpI69ev1w8//KDs7Gzl5+dr2bJlkiR3d3fNnDmz1U5zVlaWnnzySXl4eLR5nWXLlmnv3r3Kzs7Wt99+q/79++vxxx/Xr7/+qsDAQFVVValbt256++23VVVVpRkzZrSb2dnZWc8884xVhu3btyslJaXVscnJySoqKtLBgwd16tQpGYahSZMmqbGx0XJMfX293nrrLe3cuVPHjx9XZWWl0tLSJElpaWl66qmnLI14VVWVRo0aZTl35cqVSktLU3FxsUJDQ/X00087xF0DAIB/H5puAAAc1MCBA1VRUWF5vmTJEo0fP17BwcGKjY3Va6+9pt27d1vm582bp7y8PF2+fFmSdOXKFX366adtNr3Sf3fHN23apDfffFPx8fEKCwvTli1b5Orqqg8//FCdOnWS2WyWyWSSp6enzGazXF1d75h57ty52r17t+rq6nT8+HFdvXpVkydPtjqmrKxMBw8e1NatWzVmzBhFRkYqJydHP//8sw4cOGA5rrGxUZs3b1Z0dLSioqK0aNEiffHFF5Kkrl27ytXV1XKXgNlslrOzs+XctLQ0TZ48WaGhoXr11Vd16dIlnT9//p7+3QEAuJ9ougEAcFCGYchkMlmeFxQUaMKECerdu7c8PDw0Z84c1dbWqq6uTpI0fPhwDR48WDt27JAk7dy5U0FBQRo7dmybr3/hwgU1NjbqkUcesYw5OTlp+PDhKi0t/VuZhwwZopCQEO3Zs0fbtm3T7Nmz5eTkZHVMaWmpOnfurBEjRljGevTooQEDBlhd183NTf369bM89/PzU01NzT3nuP08Sfd8LgAA9xNNNwAADqq0tFTBwcGSpEuXLmnSpEkKDw/X3r17debMGW3cuFGSrG7JnjdvnuX27qysLD333HNWjfvtDMOQpFbzLZv9vyolJUUbN27Unj172txlv3XdtsZvv27LZt1kMrV7bku3n3vrNR3l0+ABAP8uNN0AADig/Px8lZSUaPr06ZKkoqIiNTU1ae3atRo5cqRCQ0Mtt5Hf7tlnn1VlZaXWr1+vs2fPKikpqd1r9O/fX87Ozjpx4oRlrLGxUUVFRRo0aNDfzj5r1iyVlJQoPDxcYWFhrebDwsLU1NSkb775xjJWW1urH3/88S9d19nZWc3NzX87JwAA/4TO9g4AAMC/XUNDg6qrq9Xc3KxffvlFR44cUUZGhhISEjRnzhxJUr9+/dTU1KR3331XU6ZM0cmTJ7V58+ZWr+Xl5aVp06Zp6dKliouLU0BAQLvXdXd31wsvvKClS5fK29tbQUFBWrNmjerr6zV37ty//ft4eXmpqqqq1U71LSEhIUpMTNT8+fP1/vvvy8PDQ8uXL1fv3r2VmJh4z9fp27ev8vLydO7cOfXo0UOenp5/OzMAALbCTjcAAHZ25MgR+fn5qW/fvpo4caIKCgq0fv165ebmqlOnTpKkoUOHat26dXrjjTcUHh6unJwcZWRktPl6c+fO1Y0bN9r9ALXbZWZmavr06Zo9e7aioqJ0/vx55eXlycvL6//6nbp37y53d/d257OysjRs2DAlJCQoJiZGhmHo0KFD7TbqbZk/f74GDBig6Oho9erVy+qrygAAcBQm417/OAoAADwQcnJytHjxYl2+fNnqE70BAMA/j9vLAQDoIOrr61VeXq6MjAw9//zzNNwAADgAbi8HAKCDWLNmjYYOHSpfX1+98sor9o4DAADE7eUAAAAAANgMO90AAAAAANgITTcAAAAAADZC0w0AAAAAgI3QdAMAAAAAYCM03QAAAAAA2AhNNwAAAAAANkLTDQAAAACAjdB0AwAAAABgIzTdAAAAAADYyH8Ar3BT518AhsMAAAAASUVORK5CYII=",
          "text/plain": "<Figure size 1000x400 with 1 Axes>"
         },
         "metadata": {},
         "output_type": "display_data"
        },
        {
         "name": "stdout",
         "output_type": "stream",
         "text": "💧 Estimated Daily Water Saved: 172 L\n📆 Estimated Monthly Savings: 5157 L\n"
        }
       ]
      }
     },
     "c4c35c665e3a43948d16726f0cf66413": {
      "model_module": "@jupyter-widgets/base",
      "model_module_version": "2.0.0",
      "model_name": "LayoutModel",
      "state": {}
     },
     "c8deafee41b54eb0ad6977acdd723ef6": {
      "model_module": "@jupyter-widgets/controls",
      "model_module_version": "2.0.0",
      "model_name": "FloatSliderModel",
      "state": {
       "behavior": "drag-tap",
       "description": "Laundry Efficiency",
       "layout": "IPY_MODEL_52c18184751f45fd9b0da00accf1ae80",
       "max": 0.6,
       "step": 0.05,
       "style": "IPY_MODEL_42f41f4351be4db5af9c5bcf0f7635d9",
       "value": 0.4
      }
     },
     "cb10871afc504f2ba3713f47c592883d": {
      "model_module": "@jupyter-widgets/base",
      "model_module_version": "2.0.0",
      "model_name": "LayoutModel",
      "state": {}
     },
     "de245003b40f4a79a7b88f9e807c1a76": {
      "model_module": "@jupyter-widgets/controls",
      "model_module_version": "2.0.0",
      "model_name": "FloatSliderModel",
      "state": {
       "behavior": "drag-tap",
       "description": "Laundry Efficiency",
       "layout": "IPY_MODEL_6f087a2398a0489a96b92eb9de1091c1",
       "max": 0.6,
       "step": 0.05,
       "style": "IPY_MODEL_4535d2006d4040fabfa747c48389c489",
       "value": 0.4
      }
     },
     "e18c82794e994b328d95fb2bb25a4b98": {
      "model_module": "@jupyter-widgets/controls",
      "model_module_version": "2.0.0",
      "model_name": "SliderStyleModel",
      "state": {
       "description_width": ""
      }
     },
     "e33348f2f558408ba5d4e47924e8ff58": {
      "model_module": "@jupyter-widgets/controls",
      "model_module_version": "2.0.0",
      "model_name": "FloatSliderModel",
      "state": {
       "behavior": "drag-tap",
       "description": "Faucet Efficiency",
       "layout": "IPY_MODEL_7b3c7963d74b4b4fbc30f2237dae81a1",
       "max": 0.5,
       "step": 0.05,
       "style": "IPY_MODEL_9439887044114720bf17f1a8a75463b0",
       "value": 0.3
      }
     },
     "f02a843f93764c168e3cfa4234e12860": {
      "model_module": "@jupyter-widgets/controls",
      "model_module_version": "2.0.0",
      "model_name": "SliderStyleModel",
      "state": {
       "description_width": ""
      }
     },
     "f0441ebcd2c248bf840e068d9dcd4cc1": {
      "model_module": "@jupyter-widgets/controls",
      "model_module_version": "2.0.0",
      "model_name": "VBoxModel",
      "state": {
       "_dom_classes": [
        "widget-interact"
       ],
       "children": [
        "IPY_MODEL_6348bbc2b2c44630a98f64f12a576bd4",
        "IPY_MODEL_a222ec706d394201b1547d2ee6d6f859",
        "IPY_MODEL_a458adb079b04c26a43442e03f6a7b82",
        "IPY_MODEL_e33348f2f558408ba5d4e47924e8ff58",
        "IPY_MODEL_85e60cd12c0d4b688150f1e8536fd22c",
        "IPY_MODEL_53c380a6bb3a4c04b12ebd55dcba546f",
        "IPY_MODEL_c1962bdf148d44db98c7cc6854f52b98"
       ],
       "layout": "IPY_MODEL_a57cdec6927f4bbb83c32270c9ae6dee"
      }
     },
     "f26c7e9876484587b0994439fc389f38": {
      "model_module": "@jupyter-widgets/base",
      "model_module_version": "2.0.0",
      "model_name": "LayoutModel",
      "state": {}
     },
     "f35c71fd6c9e4a57a0c8c033757537c2": {
      "model_module": "@jupyter-widgets/controls",
      "model_module_version": "2.0.0",
      "model_name": "SliderStyleModel",
      "state": {
       "description_width": ""
      }
     },
     "f6439f3e00fe4651a5f6dfdbafbdd6ea": {
      "model_module": "@jupyter-widgets/base",
      "model_module_version": "2.0.0",
      "model_name": "LayoutModel",
      "state": {}
     },
     "f888a8fcb4e445af873ddf4405dbdb55": {
      "model_module": "@jupyter-widgets/base",
      "model_module_version": "2.0.0",
      "model_name": "LayoutModel",
      "state": {}
     },
     "f8a309d7b401494195fa20469589b78e": {
      "model_module": "@jupyter-widgets/controls",
      "model_module_version": "2.0.0",
      "model_name": "FloatSliderModel",
      "state": {
       "behavior": "drag-tap",
       "description": "Toilet Efficiency",
       "layout": "IPY_MODEL_124de9319f834f82bb01f49400259ac4",
       "max": 0.6,
       "step": 0.05,
       "style": "IPY_MODEL_9dfd42cb9278428b96eaddaf0db060c9",
       "value": 0.4
      }
     },
     "fd02b2422b3049efb82953fa2b23a41c": {
      "model_module": "@jupyter-widgets/controls",
      "model_module_version": "2.0.0",
      "model_name": "FloatSliderModel",
      "state": {
       "behavior": "drag-tap",
       "description": "Dishwasher Efficiency",
       "layout": "IPY_MODEL_bf210dc6870a493489a89c5aa5437f83",
       "max": 0.6,
       "step": 0.05,
       "style": "IPY_MODEL_204cdcdf1d1c4aab99857a6b09fecf6e",
       "value": 0.5000000000000001
      }
     }
    },
    "version_major": 2,
    "version_minor": 0
   }
  }
 },
 "nbformat": 4,
 "nbformat_minor": 5
}
