{
 "cells": [
  {
   "cell_type": "markdown",
   "id": "01148450-17d7-4cf1-9683-c6577a1ae3a9",
   "metadata": {},
   "source": [
    "# Chapter 6 Enginereing Sustainability: Wall Thermal Conductance"
   ]
  },
  {
   "cell_type": "markdown",
   "id": "4351417b-f74e-40e0-99c5-1ddcf054dfad",
   "metadata": {},
   "source": [
    "1. [Introduction: Thermal Conductance](#1.-Introduction)\n",
    "2. [Simulation: Thermal Conductance](#2.-Simulation)\n",
    "3. [Self-Assessment](#3.-Self-Assessment)"
   ]
  },
  {
   "cell_type": "markdown",
   "id": "567c14e2-b387-491e-9fe8-e90275f9860e",
   "metadata": {},
   "source": [
    "## 1. Introduction"
   ]
  },
  {
   "cell_type": "markdown",
   "id": "02709420-1391-4368-86f1-a09239584eca",
   "metadata": {},
   "source": [
    "### Methodology: House Wall Thermal Conductance & Insulation Calculator\n",
    "\n",
    "This calculator estimates the thermal performance of house walls by computing the **U-value** (thermal transmittance) based on wall geometry and material properties. It also suggests insulation thickness required to meet a specified energy efficiency target.\n",
    "\n",
    "---\n",
    "\n",
    "### Step 1: Wall Area Estimation\n",
    "\n",
    "The total wall surface area is calculated assuming a rectangular house with four vertical walls. This area is essential for scaling thermal performance metrics and estimating total heat loss.\n",
    "\n",
    "- **Formula:**  \n",
    "  \\( A = 2h(l + w) \\)  \n",
    "  where \\( h \\) is wall height, \\( l \\) is house length, and \\( w \\) is house width.\n",
    "\n",
    "---\n",
    "\n",
    "### Step 2: U-value Calculation\n",
    "\n",
    "The U-value represents the rate of heat transfer through the wall per unit area per unit temperature difference. It is the inverse of the total thermal resistance of the wall layers.\n",
    "\n",
    "- **Thermal Resistance of Each Layer:**  \n",
    "  $( R_i = \\frac{\\text{thickness}_i}{\\text{conductivity}_i} $)\n",
    "\n",
    "- **Total Resistance:**  \n",
    "  $( R_{\\text{total}} = \\sum R_i $)\n",
    "\n",
    "- **U-value:**  \n",
    "  $( U = \\frac{1}{R_{\\text{total}}} $)\n",
    "\n",
    "This step accounts for all existing wall materials (e.g., brick, plaster) and their thermal properties.\n",
    "\n",
    "### Step 3: Insulation Thickness Suggestion\n",
    "\n",
    "To meet a target U-value, the calculator estimates the additional thermal resistance required and converts it into insulation thickness using the conductivity of the chosen insulation material.\n",
    "\n",
    "- **Required Resistance:**  \n",
    "  $( R_{\\text{required}} = \\frac{1}{U_{\\text{target}}} $)\n",
    "\n",
    "- **Insulation Resistance Needed:**  \n",
    "  $( R_{\\text{insulation}} = R_{\\text{required}} - R_{\\text{base}} $)\n",
    "\n",
    "- **Suggested Thickness:**  \n",
    "  $( \\text{Thickness} = R_{\\text{insulation}} \\times k_{\\text{insulation}} $)\n",
    "\n",
    "If the existing wall already meets or exceeds the target resistance, no insulation is recommended.\n",
    "\n",
    "### Step 4: Performance Interpretation\n",
    "\n",
    "The calculated U-value is interpreted against the target and typical climate standards:\n",
    "\n",
    "- **Meets Target:** Efficient insulation\n",
    "- **Moderate Insulation:** May benefit from improvement\n",
    "- **Poor Insulation:** Likely to cause high energy costs\n",
    "\n",
    "This qualitative feedback helps users understand the implications of their wall design.\n",
    "\n",
    "### Step 5: Climate Benchmarking\n",
    "\n",
    "The calculator compares the wall’s U-value against typical standards:\n",
    "\n",
    "- **Cold Climate:** ≤ 0.25 W/m²·K  \n",
    "- **Moderate Climate:** ≤ 0.35 W/m²·K  \n",
    "- **Warm Climate:** ≤ 0.50 W/m²·K\n",
    "\n",
    "This contextualizes the thermal performance based on regional energy efficiency expectations.\n",
    "\n",
    "### Summary\n",
    "\n",
    "This methodology integrates geometric modeling, material science, and energy efficiency principles to provide actionable insights for improving wall insulation. It supports decision-making for retrofitting, design optimization, and compliance with building standards."
   ]
  },
  {
   "cell_type": "markdown",
   "id": "3a96e9e9-234a-4114-ab2b-fb47f5196464",
   "metadata": {},
   "source": [
    "## 2. Simulation"
   ]
  },
  {
   "cell_type": "code",
   "execution_count": 1,
   "id": "0020892a-f1d2-44eb-93f1-173d775b8edc",
   "metadata": {},
   "outputs": [
    {
     "data": {
      "application/vnd.jupyter.widget-view+json": {
       "model_id": "7ec2e79f57f24bbdbf11d3e101c85a22",
       "version_major": 2,
       "version_minor": 0
      },
      "text/plain": [
       "interactive(children=(FloatSlider(value=10.0, description='House Length (m)', layout=Layout(width='500px'), ma…"
      ]
     },
     "metadata": {},
     "output_type": "display_data"
    },
    {
     "data": {
      "text/plain": [
       "<function __main__.thermal_analysis(length, width, height, target_u)>"
      ]
     },
     "execution_count": 1,
     "metadata": {},
     "output_type": "execute_result"
    }
   ],
   "source": [
    "import numpy as np\n",
    "from ipywidgets import interact, FloatSlider, Layout\n",
    "\n",
    "# 🧱 Wall layers (brick + plaster)\n",
    "wall_layers = [\n",
    "    {\"name\": \"Brick\", \"conductivity\": 0.72, \"thickness\": 0.20},   # meters\n",
    "    {\"name\": \"Plaster\", \"conductivity\": 0.5, \"thickness\": 0.02}\n",
    "]\n",
    "\n",
    "insulation_conductivity = 0.04  # W/m·K (e.g., fiberglass)\n",
    "g = 9.81  # gravity for reference\n",
    "\n",
    "def calculate_wall_area(length, width, height):\n",
    "    return 2 * height * (length + width)\n",
    "\n",
    "def calculate_u_value(layers):\n",
    "    total_r = sum(layer[\"thickness\"] / layer[\"conductivity\"] for layer in layers)\n",
    "    return 1 / total_r\n",
    "\n",
    "def suggest_insulation(target_u, base_layers, insulation_k):\n",
    "    base_r = sum(layer[\"thickness\"] / layer[\"conductivity\"] for layer in base_layers)\n",
    "    required_r = 1 / target_u\n",
    "    insulation_r = required_r - base_r\n",
    "    return max(insulation_r * insulation_k, 0)\n",
    "\n",
    "def interpret_u_value(u_value, target_u):\n",
    "    if u_value <= target_u:\n",
    "        return \"✅ The wall meets the target U-value for energy efficiency.\"\n",
    "    elif u_value <= 0.5:\n",
    "        return \"⚠️ Moderately insulated — could benefit from added insulation.\"\n",
    "    else:\n",
    "        return \"❌ Poor insulation — may lead to high energy costs.\"\n",
    "\n",
    "def thermal_analysis(length, width, height, target_u):\n",
    "    wall_area = calculate_wall_area(length, width, height)\n",
    "    current_u = calculate_u_value(wall_layers)\n",
    "    suggested_thickness = suggest_insulation(target_u, wall_layers, insulation_conductivity)\n",
    "\n",
    "    print(f\"\\n🏠 House Wall Thermal Analysis\")\n",
    "    print(f\"📐 Total Wall Area: {wall_area:.2f} m²\")\n",
    "    print(f\"🧱 Current U-value: {current_u:.3f} W/m²·K\")\n",
    "    print(f\"🎯 Target U-value: {target_u:.3f} W/m²·K\")\n",
    "\n",
    "    if suggested_thickness > 0:\n",
    "        print(f\"🧊 Suggested Insulation Thickness: {suggested_thickness * 100:.2f} cm\")\n",
    "    else:\n",
    "        print(\"✅ No additional insulation needed.\")\n",
    "\n",
    "    print(\"\\n📘 Evaluation:\")\n",
    "    print(interpret_u_value(current_u, target_u))\n",
    "\n",
    "    print(\"\\n📊 Typical U-value Standards:\")\n",
    "    print(\"Cold Climate     → ≤ 0.25 W/m²·K\")\n",
    "    print(\"Moderate Climate → ≤ 0.35 W/m²·K\")\n",
    "    print(\"Warm Climate     → ≤ 0.50 W/m²·K\")\n",
    "\n",
    "# 🧪 Interactive sliders\n",
    "interact(\n",
    "    thermal_analysis,\n",
    "    length=FloatSlider(value=10.0, min=5.0, max=20.0, step=0.5, description=\"House Length (m)\", layout=Layout(width='500px')),\n",
    "    width=FloatSlider(value=8.0, min=4.0, max=20.0, step=0.5, description=\"House Width (m)\", layout=Layout(width='500px')),\n",
    "    height=FloatSlider(value=3.0, min=2.0, max=5.0, step=0.1, description=\"Wall Height (m)\", layout=Layout(width='500px')),\n",
    "    target_u=FloatSlider(value=0.35, min=0.25, max=0.6, step=0.01, description=\"Target U-Value\", layout=Layout(width='500px'))\n",
    ")\n"
   ]
  },
  {
   "cell_type": "markdown",
   "id": "b9a57180-ace8-4084-9935-1ef7cd99fe14",
   "metadata": {},
   "source": [
    "## 3. Self-Assessment"
   ]
  },
  {
   "cell_type": "markdown",
   "id": "b2d7e5ca-fa4c-4033-962f-45bf310f516f",
   "metadata": {},
   "source": [
    "\n",
    "###  Conceptual Questions\n",
    "\n",
    "These questions explore the physical principles and modeling logic behind the calculator.\n",
    "\n",
    "### Thermal Physics & U-value\n",
    "- What does the U-value represent in the context of building insulation?\n",
    "- How is thermal resistance calculated for a layered wall system?\n",
    "- Why is the U-value the inverse of total thermal resistance?\n",
    "\n",
    "### Geometry & Heat Transfer\n",
    "- How does wall area influence total heat loss from a building?\n",
    "- Why is the wall area calculated using only vertical surfaces?\n",
    "- What assumptions are made about heat transfer through walls in this model?\n",
    "\n",
    "### Insulation Strategy\n",
    "- How does the thermal conductivity of insulation affect the required thickness?\n",
    "- Why might a wall with a low U-value still require additional insulation?\n",
    "- What are the trade-offs between increasing insulation thickness and using materials with lower conductivity?\n",
    "\n",
    "\n",
    "### Reflective Questions\n",
    "\n",
    "These questions encourage critical thinking and application to real-world scenarios.\n",
    "\n",
    "- How would the suggested insulation thickness change if the wall included an air gap or additional layers?\n",
    "- In what climates would the default wall configuration be insufficient for energy efficiency?\n",
    "- How could this model be adapted to include windows, doors, or roof insulation?\n",
    "- What are the limitations of using steady-state thermal calculations for dynamic indoor environments?\n",
    "- How might building orientation or solar gain affect the relevance of the U-value?\n",
    "\n",
    "---\n",
    "\n",
    "### Multiple Choice\n",
    "\n",
    "1. **Which formula is used to calculate the thermal resistance of a wall layer?**  \n",
    "   A. $( R = k \\cdot t $)  \n",
    "   B. $( R = \\frac{k}{t} $)  \n",
    "   C. $( R = \\frac{t}{k} $)  \n",
    "   D. $( R = \\frac{1}{k \\cdot t} $)  \n",
    "   **Answer:** C\n",
    "\n",
    "2. **What does a lower U-value indicate?**  \n",
    "   A. Higher heat loss  \n",
    "   B. Better insulation  \n",
    "   C. Thinner wall layers  \n",
    "   D. Higher thermal conductivity  \n",
    "   **Answer:** B\n",
    "\n",
    "3. **Which climate has the strictest U-value requirement according to the model?**  \n",
    "   A. Warm Climate  \n",
    "   B. Moderate Climate  \n",
    "   C. Cold Climate  \n",
    "   D. Tropical Climate  \n",
    "   **Answer:** C\n",
    "\n",
    "### True/False\n",
    "\n",
    "4. **The U-value increases when insulation thickness increases.**  \n",
    "   **Answer:** False\n",
    "\n",
    "5. **The calculator assumes uniform heat transfer across all wall surfaces.**  \n",
    "   **Answer:** True\n",
    "\n",
    "6. **A wall with a U-value of 0.6 W/m²·K meets the target for moderate climates.**  \n",
    "   **Answer:** False\n",
    "\n",
    "### Short Answer\n",
    "\n",
    "7. **Explain why the calculator multiplies insulation resistance by conductivity to get thickness.**  \n",
    "   *Answer:* Because thermal resistance $( R = \\frac{t}{k} $), solving for thickness gives $( t = R \\cdot k $).\n",
    "\n",
    "8. **What physical factors might cause the actual U-value to differ from the calculated value?**  \n",
    "   *Answer:* Moisture content, thermal bridging, air leakage, and imperfect installation can all affect real-world performance.\n"
   ]
  },
  {
   "cell_type": "code",
   "execution_count": null,
   "id": "f1480b6a-43aa-4d9c-9ba7-b01307ecf8cf",
   "metadata": {},
   "outputs": [],
   "source": []
  }
 ],
 "metadata": {
  "kernelspec": {
   "display_name": "Python [conda env:base] *",
   "language": "python",
   "name": "conda-base-py"
  },
  "language_info": {
   "codemirror_mode": {
    "name": "ipython",
    "version": 3
   },
   "file_extension": ".py",
   "mimetype": "text/x-python",
   "name": "python",
   "nbconvert_exporter": "python",
   "pygments_lexer": "ipython3",
   "version": "3.12.7"
  },
  "widgets": {
   "application/vnd.jupyter.widget-state+json": {
    "state": {
     "11b39978b8714eb8b5145f9d6fb37808": {
      "model_module": "@jupyter-widgets/controls",
      "model_module_version": "2.0.0",
      "model_name": "SliderStyleModel",
      "state": {
       "description_width": ""
      }
     },
     "12221ef1a46947c9bf3d97eeab3693c2": {
      "model_module": "@jupyter-widgets/controls",
      "model_module_version": "2.0.0",
      "model_name": "FloatSliderModel",
      "state": {
       "behavior": "drag-tap",
       "description": "House Length (m)",
       "layout": "IPY_MODEL_8b11e2b06f424361a1b675191761a17a",
       "max": 20,
       "min": 5,
       "step": 0.5,
       "style": "IPY_MODEL_af65fb62fad2427bb8134b1772d5f070",
       "value": 10
      }
     },
     "27c3988dd81d4331857a565c0563840b": {
      "model_module": "@jupyter-widgets/controls",
      "model_module_version": "2.0.0",
      "model_name": "SliderStyleModel",
      "state": {
       "description_width": ""
      }
     },
     "3babac38dc9c4009b6ed998bdf2b4c7b": {
      "model_module": "@jupyter-widgets/controls",
      "model_module_version": "2.0.0",
      "model_name": "FloatSliderModel",
      "state": {
       "behavior": "drag-tap",
       "description": "Target U-Value",
       "layout": "IPY_MODEL_9eb3ed44da064ee69711e4155c274b43",
       "max": 0.6,
       "min": 0.25,
       "step": 0.01,
       "style": "IPY_MODEL_11b39978b8714eb8b5145f9d6fb37808",
       "value": 0.35
      }
     },
     "57c31dc2bd86453885f9ca605d393772": {
      "model_module": "@jupyter-widgets/output",
      "model_module_version": "1.0.0",
      "model_name": "OutputModel",
      "state": {
       "layout": "IPY_MODEL_d68ebddbc9b24b80802d29bcc5ffe995",
       "outputs": [
        {
         "name": "stdout",
         "output_type": "stream",
         "text": "\n🏠 House Wall Thermal Analysis\n📐 Total Wall Area: 108.00 m²\n🧱 Current U-value: 3.147 W/m²·K\n🎯 Target U-value: 0.350 W/m²·K\n🧊 Suggested Insulation Thickness: 10.16 cm\n\n📘 Evaluation:\n❌ Poor insulation — may lead to high energy costs.\n\n📊 Typical U-value Standards:\nCold Climate     → ≤ 0.25 W/m²·K\nModerate Climate → ≤ 0.35 W/m²·K\nWarm Climate     → ≤ 0.50 W/m²·K\n"
        }
       ]
      }
     },
     "61749a7fd7c14b62994a08a36ff9fe14": {
      "model_module": "@jupyter-widgets/controls",
      "model_module_version": "2.0.0",
      "model_name": "FloatSliderModel",
      "state": {
       "behavior": "drag-tap",
       "description": "House Width (m)",
       "layout": "IPY_MODEL_b21a6d4c22b8467f877ea8bbf22936ac",
       "max": 20,
       "min": 4,
       "step": 0.5,
       "style": "IPY_MODEL_6f28654874f44cc8ba45171c77c63ac2",
       "value": 8
      }
     },
     "6d094ac59e924fe7977be1a68469aca9": {
      "model_module": "@jupyter-widgets/controls",
      "model_module_version": "2.0.0",
      "model_name": "FloatSliderModel",
      "state": {
       "behavior": "drag-tap",
       "description": "Wall Height (m)",
       "layout": "IPY_MODEL_c22e152d8e404e2c9f96f72f79cb2b8c",
       "max": 5,
       "min": 2,
       "step": 0.1,
       "style": "IPY_MODEL_27c3988dd81d4331857a565c0563840b",
       "value": 3
      }
     },
     "6f28654874f44cc8ba45171c77c63ac2": {
      "model_module": "@jupyter-widgets/controls",
      "model_module_version": "2.0.0",
      "model_name": "SliderStyleModel",
      "state": {
       "description_width": ""
      }
     },
     "7ec2e79f57f24bbdbf11d3e101c85a22": {
      "model_module": "@jupyter-widgets/controls",
      "model_module_version": "2.0.0",
      "model_name": "VBoxModel",
      "state": {
       "_dom_classes": [
        "widget-interact"
       ],
       "children": [
        "IPY_MODEL_12221ef1a46947c9bf3d97eeab3693c2",
        "IPY_MODEL_61749a7fd7c14b62994a08a36ff9fe14",
        "IPY_MODEL_6d094ac59e924fe7977be1a68469aca9",
        "IPY_MODEL_3babac38dc9c4009b6ed998bdf2b4c7b",
        "IPY_MODEL_57c31dc2bd86453885f9ca605d393772"
       ],
       "layout": "IPY_MODEL_b61f6214eb584f0cae9666fc8dd16521"
      }
     },
     "8b11e2b06f424361a1b675191761a17a": {
      "model_module": "@jupyter-widgets/base",
      "model_module_version": "2.0.0",
      "model_name": "LayoutModel",
      "state": {
       "width": "500px"
      }
     },
     "9eb3ed44da064ee69711e4155c274b43": {
      "model_module": "@jupyter-widgets/base",
      "model_module_version": "2.0.0",
      "model_name": "LayoutModel",
      "state": {
       "width": "500px"
      }
     },
     "af65fb62fad2427bb8134b1772d5f070": {
      "model_module": "@jupyter-widgets/controls",
      "model_module_version": "2.0.0",
      "model_name": "SliderStyleModel",
      "state": {
       "description_width": ""
      }
     },
     "b21a6d4c22b8467f877ea8bbf22936ac": {
      "model_module": "@jupyter-widgets/base",
      "model_module_version": "2.0.0",
      "model_name": "LayoutModel",
      "state": {
       "width": "500px"
      }
     },
     "b61f6214eb584f0cae9666fc8dd16521": {
      "model_module": "@jupyter-widgets/base",
      "model_module_version": "2.0.0",
      "model_name": "LayoutModel",
      "state": {}
     },
     "c22e152d8e404e2c9f96f72f79cb2b8c": {
      "model_module": "@jupyter-widgets/base",
      "model_module_version": "2.0.0",
      "model_name": "LayoutModel",
      "state": {
       "width": "500px"
      }
     },
     "d68ebddbc9b24b80802d29bcc5ffe995": {
      "model_module": "@jupyter-widgets/base",
      "model_module_version": "2.0.0",
      "model_name": "LayoutModel",
      "state": {}
     }
    },
    "version_major": 2,
    "version_minor": 0
   }
  }
 },
 "nbformat": 4,
 "nbformat_minor": 5
}
