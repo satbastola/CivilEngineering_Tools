{
 "cells": [
  {
   "cell_type": "markdown",
   "id": "de8a46da-4eaa-4e15-a86d-c93fd7f1d3dc",
   "metadata": {},
   "source": [
    "# Chapter 6 Sustainabilty and Engineering: Energy Balance"
   ]
  },
  {
   "cell_type": "markdown",
   "id": "bcf6c473-5e68-4bb3-8b5d-6219b587068b",
   "metadata": {},
   "source": [
    "1. [Introduction: Energy Balance](#1.-Introduction)\n",
    "2. [Simulation: Energy Balance](#2.-Simulation)\n",
    "3. [Self-Assessment](#3.-Self-Assessment)"
   ]
  },
  {
   "cell_type": "markdown",
   "id": "a2e942f8-04c7-4f64-964c-8f67c2585320",
   "metadata": {},
   "source": [
    "## 1. Introduction"
   ]
  },
  {
   "cell_type": "markdown",
   "id": "3c5b1177-ca8e-4055-b92e-01ddccfa9b41",
   "metadata": {},
   "source": [
    "### Global Energy Balance Model\n",
    "\n",
    "### Overview\n",
    "\n",
    "This model simulates the impact of atmospheric **CO₂ concentration** on **global mean temperature** using a simplified **energy balance approach**. It assumes that the Earth reaches thermal equilibrium when the **incoming solar radiation** equals the **outgoing longwave radiation**, which is affected by greenhouse gases.\n",
    "\n",
    "The model is interactive, allowing users to explore how changes in:\n",
    "- **CO₂ concentration**\n",
    "- **Planetary albedo**\n",
    "- **Climate sensitivity**\n",
    "\n",
    "affect the Earth's equilibrium temperature.\n",
    "\n",
    "---\n",
    "\n",
    "### Key Equations\n",
    "\n",
    "### 🔹 Incoming Solar Radiation\n",
    "\n",
    "$$\n",
    "Q_{\\text{in}} = \\frac{S(1 - \\alpha)}{4}\n",
    "$$\n",
    "\n",
    "Where:\n",
    "- $( S $) = Solar constant (≈ 1361 W/m²)  \n",
    "- $( \\alpha $) = Planetary albedo (reflectivity)  \n",
    "- Division by 4 accounts for Earth's spherical geometry\n",
    "\n",
    "---\n",
    "\n",
    "### 🔹 Outgoing Longwave Radiation\n",
    "\n",
    "$$\n",
    "Q_{\\text{out}} = \\sigma T^4\n",
    "$$\n",
    "\n",
    "Where:\n",
    "- $( \\sigma $) = Stefan-Boltzmann constant (5.67 × 10⁻⁸ W/m²·K⁴)  \n",
    "- $( T $) = Earth's surface temperature in Kelvin\n",
    "\n",
    "---\n",
    "\n",
    "### 🔹 Radiative Forcing from CO₂ (IPCC AR4)\n",
    "\n",
    "$$\n",
    "\\Delta F = 5.35 \\cdot \\ln\\left(\\frac{C}{C_0}\\right)\n",
    "$$\n",
    "\n",
    "Where:\n",
    "- $( C $) = Current CO₂ concentration (ppm)  \n",
    "- $( C_0 $) = Reference CO₂ concentration (typically 280 ppm)  \n",
    "- $( \\Delta F $) = Additional energy trapped due to greenhouse effect\n",
    "\n",
    "---\n",
    "\n",
    "### 🔹 Equilibrium Temperature\n",
    "\n",
    "$$\n",
    "T = \\left( \\frac{Q_{\\text{in}} - \\Delta F}{\\sigma} \\right)^{1/4}\n",
    "$$\n",
    "\n",
    "This equation balances incoming and outgoing energy, adjusted for greenhouse forcing.\n",
    "\n",
    "---\n",
    "\n",
    "### Climate Sensitivity\n",
    "\n",
    "Climate sensitivity represents the **temperature increase** associated with a **doubling of CO₂**. While not explicitly used in the Stefan-Boltzmann calculation, it helps interpret the model’s behavior and calibrate feedbacks.\n",
    "\n",
    "Typical values range from **1.5°C to 4.5°C** per doubling.\n",
    "\n",
    "---\n",
    "\n",
    "### Interactive Parameters\n",
    "\n",
    "| Parameter         | Description                              |\n",
    "|------------------|------------------------------------------|\n",
    "| CO₂ (ppm)         | Atmospheric carbon dioxide concentration |\n",
    "| Albedo            | Fraction of solar energy reflected       |\n",
    "| Sensitivity (°C)  | Temperature change per CO₂ doubling      |\n",
    "\n",
    "---\n",
    "\n",
    "### Assumptions\n",
    "\n",
    "- Earth is modeled as a single-layer radiative system  \n",
    "- Only CO₂ is considered (no CH₄, aerosols, or feedbacks)  \n",
    "- Climate sensitivity is used as a conceptual guide  \n",
    "- No temporal dynamics (steady-state only)\n",
    "\n",
    "---\n",
    "\n",
    "### References\n",
    "\n",
    "- IPCC (2007). *Fourth Assessment Report*  \n",
    "- Kiehl & Trenberth (1997). *Earth’s Annual Global Mean Energy Budget*  \n",
    "- Hartmann (1994). *Global Physical Climatology*"
   ]
  },
  {
   "cell_type": "markdown",
   "id": "3c3703a8-531a-4a0a-92c5-055b3fc9bec1",
   "metadata": {},
   "source": [
    "## 2. Simulation"
   ]
  },
  {
   "cell_type": "code",
   "execution_count": 4,
   "id": "4d6236a6-f721-4a08-8faf-9fd067e949f9",
   "metadata": {},
   "outputs": [
    {
     "data": {
      "application/vnd.jupyter.widget-view+json": {
       "model_id": "8d3e69d5028a4c1b87292e1f02299831",
       "version_major": 2,
       "version_minor": 0
      },
      "text/plain": [
       "interactive(children=(FloatSlider(value=420.0, description='CO₂ (ppm)', max=600.0, min=280.0, step=5.0), Float…"
      ]
     },
     "metadata": {},
     "output_type": "display_data"
    }
   ],
   "source": [
    "# 📌 Run this cell first in a Jupyter Notebook\n",
    "%matplotlib inline\n",
    "\n",
    "import numpy as np\n",
    "import matplotlib.pyplot as plt\n",
    "import ipywidgets as widgets\n",
    "from IPython.display import display, clear_output\n",
    "\n",
    "# 🌞 Constants\n",
    "S = 1361             # Solar constant (W/m²)\n",
    "sigma = 5.67e-8      # Stefan-Boltzmann constant (W/m²·K⁴)\n",
    "CO2_ref = 280        # Reference CO₂ concentration (pre-industrial)\n",
    "\n",
    "# Sea level rise per °C warming (approximate)\n",
    "sea_level_per_deg = 0.32  # meters per °C (IPCC estimate)\n",
    "\n",
    "def equilibrium_temperature(C, alpha=0.3):\n",
    "    Q_in = S * (1 - alpha) / 4\n",
    "    delta_F = 5.35 * np.log(C / C0)\n",
    "    T = ((Q_in + delta_F) / sigma) ** 0.25\n",
    "    return T\n",
    "\n",
    "def sea_level_rise(C):\n",
    "    T0 = equilibrium_temperature(C0)\n",
    "    T = equilibrium_temperature(C)\n",
    "    delta_T = T - T0\n",
    "    rise = delta_T * sea_level_per_deg\n",
    "    return delta_T, rise\n",
    "\n",
    "\n",
    "# 🧮 Temperature without greenhouse effect (pure radiative balance)\n",
    "def temperature_no_greenhouse(albedo):\n",
    "    incoming = S * (1 - albedo) / 4\n",
    "    T_kelvin = (incoming / sigma)**0.25\n",
    "    return T_kelvin - 273.15  # °C\n",
    "\n",
    "# 🧮 Temperature with greenhouse effect (anchored to observed baseline)\n",
    "def temperature_with_greenhouse(C, sensitivity):\n",
    "    T_ref = 15.0  # observed global mean temperature at 280 ppm\n",
    "    delta_T = sensitivity * np.log(C / CO2_ref) / np.log(2)\n",
    "    return T_ref + delta_T\n",
    "\n",
    "# 📊 Interactive function\n",
    "def update_model(CO2, albedo, sensitivity):\n",
    "    clear_output(wait=True)\n",
    "\n",
    "    T_no_ghg = temperature_no_greenhouse(albedo)\n",
    "    T_with_ghg = temperature_with_greenhouse(CO2, sensitivity)\n",
    "    delta_T = T_with_ghg - temperature_with_greenhouse(CO2_ref, sensitivity)\n",
    "    rise = delta_T * sea_level_per_deg\n",
    "\n",
    "    print(f\"🌍 CO₂ Concentration: {CO2:.0f} ppm\")\n",
    "    print(f\"🌞 Albedo: {albedo:.2f}\")\n",
    "    print(f\"🌡️ Climate Sensitivity: {sensitivity:.2f} °C per doubling\")\n",
    "    print(f\"\\n🌡️ Temperature WITHOUT Greenhouse Effect: {T_no_ghg:.2f} °C\")\n",
    "    print(f\"🌡️ Temperature WITH Greenhouse Effect:    {T_with_ghg:.2f} °C\")\n",
    "    print(f\"Estimated warming: {delta_T:.2f} °C\")\n",
    "    print(f\"Estimated sea level rise: {rise:.2f} meters\")\n",
    "\n",
    "    # 📈 Plot comparison\n",
    "    CO2_range = np.linspace(280, 600, 100)\n",
    "    T_vals = [temperature_with_greenhouse(C, sensitivity) for C in CO2_range]\n",
    "\n",
    "    plt.figure(figsize=(10, 6))\n",
    "    plt.plot(CO2_range, T_vals, color='darkred', label='With Greenhouse Effect')\n",
    "    plt.axhline(T_no_ghg, color='blue', linestyle='--', label='Without Greenhouse Effect')\n",
    "    plt.axvline(CO2, color='gray', linestyle=':', label=f'Current CO₂ = {CO2:.0f} ppm')\n",
    "    plt.xlabel('CO₂ Concentration (ppm)')\n",
    "    plt.ylabel('Global Temperature (°C)')\n",
    "    plt.title('Global Temperature: With vs Without Greenhouse Effect')\n",
    "    plt.grid(True)\n",
    "    plt.legend()\n",
    "    plt.tight_layout()\n",
    "    plt.show()\n",
    "\n",
    "# 🎛️ Sliders\n",
    "CO2_slider = widgets.FloatSlider(value=420, min=280, max=600, step=5, description='CO₂ (ppm)')\n",
    "albedo_slider = widgets.FloatSlider(value=0.3, min=0.2, max=0.4, step=0.01, description='Albedo')\n",
    "sensitivity_slider = widgets.FloatSlider(value=3.0, min=1.0, max=6.0, step=0.1, description='Sensitivity (°C)')\n",
    "\n",
    "# 🔄 Display interactive controls\n",
    "interactive_plot = widgets.interactive(\n",
    "    update_model,\n",
    "    CO2=CO2_slider,\n",
    "    albedo=albedo_slider,\n",
    "    sensitivity=sensitivity_slider\n",
    ")\n",
    "\n",
    "display(interactive_plot)"
   ]
  },
  {
   "cell_type": "markdown",
   "id": "b8fbc528-8612-4c03-a804-2905966fe90b",
   "metadata": {},
   "source": [
    "## 3. Self-Assessment"
   ]
  },
  {
   "cell_type": "markdown",
   "id": "e79fac2b-97b2-4122-ba74-834892955e42",
   "metadata": {},
   "source": [
    "### Conceptual Questions\n",
    "\n",
    "1. **Why does the Earth’s geometry require dividing the solar constant by 4 in the energy balance equation?**  \n",
    "2. **How does planetary albedo influence the Earth’s equilibrium temperature?**  \n",
    "3. **What role does the Stefan-Boltzmann law play in modeling outgoing longwave radiation?**  \n",
    "4. **Why is the logarithmic relationship used in calculating radiative forcing from CO₂?**  \n",
    "5. **How does climate sensitivity help interpret the impact of CO₂ doubling, even if it’s not directly used in the energy balance equation?**  \n",
    "6. **What are the limitations of modeling Earth as a single-layer radiative system?**  \n",
    "7. **How would including feedbacks like water vapor or ice-albedo change the model’s predictions?**\n",
    "\n",
    "---\n",
    "\n",
    "### 🌍 Reflective Questions\n",
    "\n",
    "1. **How did changing CO₂ concentration in the model affect your understanding of climate sensitivity?**  \n",
    "2. **Which parameter—CO₂, albedo, or sensitivity—had the most dramatic effect on equilibrium temperature in your simulations? Why?**  \n",
    "3. **Did the model’s simplicity help or hinder your grasp of global energy balance?**  \n",
    "4. **How might this model be used to communicate climate change concepts to non-scientific audiences?**  \n",
    "5. **If you were to extend this model, what additional components (e.g., aerosols, methane, ocean heat uptake) would you include and why?**\n",
    "\n",
    "---\n",
    "\n",
    "### ❓ Quiz Questions\n",
    "\n",
    "```{admonition} Quiz 1\n",
    "**1. What does the term \"planetary albedo\" refer to?**\n",
    "\n",
    "- ( ) The amount of CO₂ in the atmosphere  \n",
    "- (x) The fraction of solar energy reflected by Earth  \n",
    "- ( ) The temperature of the Earth's surface  \n",
    "- ( ) The strength of the greenhouse effect  \n",
    "\n",
    "**Explanation:**  \n",
    "Albedo measures reflectivity—higher albedo means more sunlight is reflected, cooling the planet.\n",
    "```\n",
    "\n",
    "```{admonition} Quiz 2\n",
    "**2. What is the approximate radiative forcing from doubling CO₂ from 280 ppm to 560 ppm?**\n",
    "\n",
    "- ( ) 2.5 W/m²  \n",
    "- (x) 3.7 W/m²  \n",
    "- ( ) 5.35 W/m²  \n",
    "- ( ) 7.4 W/m²  \n",
    "\n",
    "**Explanation:**  \n",
    "Using the formula"
   ]
  },
  {
   "cell_type": "code",
   "execution_count": null,
   "id": "834d102e-7582-46eb-8b36-fbfed1af60cc",
   "metadata": {},
   "outputs": [],
   "source": []
  }
 ],
 "metadata": {
  "kernelspec": {
   "display_name": "Python [conda env:base] *",
   "language": "python",
   "name": "conda-base-py"
  },
  "language_info": {
   "codemirror_mode": {
    "name": "ipython",
    "version": 3
   },
   "file_extension": ".py",
   "mimetype": "text/x-python",
   "name": "python",
   "nbconvert_exporter": "python",
   "pygments_lexer": "ipython3",
   "version": "3.12.7"
  },
  "widgets": {
   "application/vnd.jupyter.widget-state+json": {
    "state": {
     "04f2bd8e8bca452486d273bd93ce4c1f": {
      "model_module": "@jupyter-widgets/controls",
      "model_module_version": "2.0.0",
      "model_name": "SliderStyleModel",
      "state": {
       "description_width": ""
      }
     },
     "0bd7f20d753d46209c55db040ecfce0a": {
      "model_module": "@jupyter-widgets/base",
      "model_module_version": "2.0.0",
      "model_name": "LayoutModel",
      "state": {}
     },
     "0e92300d95934c71825d9f47c9f78272": {
      "model_module": "@jupyter-widgets/controls",
      "model_module_version": "2.0.0",
      "model_name": "FloatSliderModel",
      "state": {
       "behavior": "drag-tap",
       "description": "CO₂ (ppm)",
       "layout": "IPY_MODEL_febdc078730a4ab5bb19fccc6eef7b9c",
       "max": 600,
       "min": 280,
       "step": 5,
       "style": "IPY_MODEL_c105b1a361104b7bbda4e805179cb5e1",
       "value": 420
      }
     },
     "1c68c93c4da947b2b3f81b63b92139d9": {
      "model_module": "@jupyter-widgets/output",
      "model_module_version": "1.0.0",
      "model_name": "OutputModel",
      "state": {
       "layout": "IPY_MODEL_81767ebeee7a4c6e974af7b231823514",
       "outputs": [
        {
         "name": "stdout",
         "output_type": "stream",
         "text": "🌍 CO₂ Concentration: 420 ppm\n🌞 Albedo: 0.30\n🌡️ Climate Sensitivity: 3.00 °C per doubling\n\n🌡️ Temperature WITHOUT Greenhouse Effect: -18.57 °C\n🌡️ Temperature WITH Greenhouse Effect:    16.75 °C\nEstimated warming: 1.75 °C\nEstimated sea level rise: 0.56 meters\n"
        },
        {
         "data": {
          "image/png": "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",
          "text/plain": "<Figure size 1000x600 with 1 Axes>"
         },
         "metadata": {},
         "output_type": "display_data"
        }
       ]
      }
     },
     "1ea590442ba74e9cbc493c5074a9ceed": {
      "model_module": "@jupyter-widgets/base",
      "model_module_version": "2.0.0",
      "model_name": "LayoutModel",
      "state": {}
     },
     "210559440a8141dfa17104a390b171da": {
      "model_module": "@jupyter-widgets/base",
      "model_module_version": "2.0.0",
      "model_name": "LayoutModel",
      "state": {}
     },
     "2130b1e80d6d4128950783ca8be91a1d": {
      "model_module": "@jupyter-widgets/base",
      "model_module_version": "2.0.0",
      "model_name": "LayoutModel",
      "state": {}
     },
     "22518b550b6048bc898a072b63abac77": {
      "model_module": "@jupyter-widgets/output",
      "model_module_version": "1.0.0",
      "model_name": "OutputModel",
      "state": {
       "layout": "IPY_MODEL_5b03438751354755b52349d65c71b17d",
       "outputs": [
        {
         "name": "stdout",
         "output_type": "stream",
         "text": "🌍 CO₂ Concentration: 420 ppm\n🌞 Albedo: 0.30\n🌡️ Climate Sensitivity: 3.00 °C per doubling\n\n🌡️ Temperature WITHOUT Greenhouse Effect: -18.57 °C\n🌡️ Temperature WITH Greenhouse Effect:    16.75 °C\nEstimated warming: 1.75 °C\nEstimated sea level rise: 0.56 meters\n"
        },
        {
         "data": {
          "image/png": "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",
          "text/plain": "<Figure size 1000x600 with 1 Axes>"
         },
         "metadata": {},
         "output_type": "display_data"
        }
       ]
      }
     },
     "277a2ac276e64e42aec98c10f59c2f10": {
      "model_module": "@jupyter-widgets/controls",
      "model_module_version": "2.0.0",
      "model_name": "SliderStyleModel",
      "state": {
       "description_width": ""
      }
     },
     "3be05f3c3b1e4116ba60e7d51545e661": {
      "model_module": "@jupyter-widgets/controls",
      "model_module_version": "2.0.0",
      "model_name": "FloatSliderModel",
      "state": {
       "behavior": "drag-tap",
       "description": "Albedo",
       "layout": "IPY_MODEL_c2ac0ee667724e3ca04fd03cd36f2a90",
       "max": 0.4,
       "min": 0.2,
       "step": 0.01,
       "style": "IPY_MODEL_adf55f0b1b0d4240b39d288e5fe8d862",
       "value": 0.30000000000000004
      }
     },
     "43c1dc89b80546f2bea711783f94ebee": {
      "model_module": "@jupyter-widgets/base",
      "model_module_version": "2.0.0",
      "model_name": "LayoutModel",
      "state": {}
     },
     "54733f4b90ff4fb69fc2da4f5f395ef7": {
      "model_module": "@jupyter-widgets/base",
      "model_module_version": "2.0.0",
      "model_name": "LayoutModel",
      "state": {}
     },
     "55428a4b983b442ea6d3997772d2e335": {
      "model_module": "@jupyter-widgets/base",
      "model_module_version": "2.0.0",
      "model_name": "LayoutModel",
      "state": {}
     },
     "5b03438751354755b52349d65c71b17d": {
      "model_module": "@jupyter-widgets/base",
      "model_module_version": "2.0.0",
      "model_name": "LayoutModel",
      "state": {}
     },
     "5bda343b2147410c839655b13cbba719": {
      "model_module": "@jupyter-widgets/base",
      "model_module_version": "2.0.0",
      "model_name": "LayoutModel",
      "state": {}
     },
     "5d0ee1094ef14318b1557d24ed1a7027": {
      "model_module": "@jupyter-widgets/base",
      "model_module_version": "2.0.0",
      "model_name": "LayoutModel",
      "state": {}
     },
     "5e1aafebbcb34990a342ad4fca3a3490": {
      "model_module": "@jupyter-widgets/controls",
      "model_module_version": "2.0.0",
      "model_name": "FloatSliderModel",
      "state": {
       "behavior": "drag-tap",
       "description": "Sensitivity (°C)",
       "layout": "IPY_MODEL_43c1dc89b80546f2bea711783f94ebee",
       "max": 6,
       "min": 1,
       "step": 0.1,
       "style": "IPY_MODEL_a290c2d6799446fab38400b8a0be5fac",
       "value": 3
      }
     },
     "6507ee697fcc41ba87aff922f3a3c338": {
      "model_module": "@jupyter-widgets/controls",
      "model_module_version": "2.0.0",
      "model_name": "FloatSliderModel",
      "state": {
       "behavior": "drag-tap",
       "description": "Albedo",
       "layout": "IPY_MODEL_6c4bfa1bb29c4da4a4209cdadb442d42",
       "max": 0.4,
       "min": 0.2,
       "step": 0.01,
       "style": "IPY_MODEL_ac1170bba85c48da8eba97d5e1e1b758",
       "value": 0.30000000000000004
      }
     },
     "691862e19ea84ecbb2a5525688645362": {
      "model_module": "@jupyter-widgets/controls",
      "model_module_version": "2.0.0",
      "model_name": "FloatSliderModel",
      "state": {
       "behavior": "drag-tap",
       "description": "CO₂ (ppm)",
       "layout": "IPY_MODEL_1ea590442ba74e9cbc493c5074a9ceed",
       "max": 600,
       "min": 280,
       "step": 5,
       "style": "IPY_MODEL_ecce0c6dd16d4e68a659a9011bc2e0cb",
       "value": 420
      }
     },
     "69417be32d4a45f78af7806ff74b309c": {
      "model_module": "@jupyter-widgets/output",
      "model_module_version": "1.0.0",
      "model_name": "OutputModel",
      "state": {
       "layout": "IPY_MODEL_210559440a8141dfa17104a390b171da",
       "outputs": [
        {
         "ename": "NameError",
         "evalue": "name 'delta_T' is not defined",
         "output_type": "error",
         "traceback": [
          "\u001b[1;31m---------------------------------------------------------------------------\u001b[0m",
          "\u001b[1;31mNameError\u001b[0m                                 Traceback (most recent call last)",
          "File \u001b[1;32m~\\anaconda3\\Lib\\site-packages\\ipywidgets\\widgets\\interaction.py:243\u001b[0m, in \u001b[0;36minteractive.update\u001b[1;34m(self, *args)\u001b[0m\n\u001b[0;32m    241\u001b[0m     value \u001b[38;5;241m=\u001b[39m widget\u001b[38;5;241m.\u001b[39mget_interact_value()\n\u001b[0;32m    242\u001b[0m     \u001b[38;5;28mself\u001b[39m\u001b[38;5;241m.\u001b[39mkwargs[widget\u001b[38;5;241m.\u001b[39m_kwarg] \u001b[38;5;241m=\u001b[39m value\n\u001b[1;32m--> 243\u001b[0m \u001b[38;5;28mself\u001b[39m\u001b[38;5;241m.\u001b[39mresult \u001b[38;5;241m=\u001b[39m \u001b[38;5;28mself\u001b[39m\u001b[38;5;241m.\u001b[39mf(\u001b[38;5;241m*\u001b[39m\u001b[38;5;241m*\u001b[39m\u001b[38;5;28mself\u001b[39m\u001b[38;5;241m.\u001b[39mkwargs)\n\u001b[0;32m    244\u001b[0m show_inline_matplotlib_plots()\n\u001b[0;32m    245\u001b[0m \u001b[38;5;28;01mif\u001b[39;00m \u001b[38;5;28mself\u001b[39m\u001b[38;5;241m.\u001b[39mauto_display \u001b[38;5;129;01mand\u001b[39;00m \u001b[38;5;28mself\u001b[39m\u001b[38;5;241m.\u001b[39mresult \u001b[38;5;129;01mis\u001b[39;00m \u001b[38;5;129;01mnot\u001b[39;00m \u001b[38;5;28;01mNone\u001b[39;00m:\n",
          "Cell \u001b[1;32mIn[1], line 52\u001b[0m, in \u001b[0;36mupdate_model\u001b[1;34m(CO2, albedo, sensitivity)\u001b[0m\n\u001b[0;32m     50\u001b[0m C_current \u001b[38;5;241m=\u001b[39m \u001b[38;5;241m420\u001b[39m\n\u001b[0;32m     51\u001b[0m \u001b[38;5;66;03m#delta_T, rise = sea_level_rise(C_current)\u001b[39;00m\n\u001b[1;32m---> 52\u001b[0m rise \u001b[38;5;241m=\u001b[39m delta_T \u001b[38;5;241m*\u001b[39m sea_level_per_deg\n\u001b[0;32m     53\u001b[0m \u001b[38;5;28mprint\u001b[39m(\u001b[38;5;124mf\u001b[39m\u001b[38;5;124m\"\u001b[39m\u001b[38;5;124m🌍 CO₂ Concentration: \u001b[39m\u001b[38;5;132;01m{\u001b[39;00mCO2\u001b[38;5;132;01m:\u001b[39;00m\u001b[38;5;124m.0f\u001b[39m\u001b[38;5;132;01m}\u001b[39;00m\u001b[38;5;124m ppm\u001b[39m\u001b[38;5;124m\"\u001b[39m)\n\u001b[0;32m     54\u001b[0m \u001b[38;5;28mprint\u001b[39m(\u001b[38;5;124mf\u001b[39m\u001b[38;5;124m\"\u001b[39m\u001b[38;5;124m🌞 Albedo: \u001b[39m\u001b[38;5;132;01m{\u001b[39;00malbedo\u001b[38;5;132;01m:\u001b[39;00m\u001b[38;5;124m.2f\u001b[39m\u001b[38;5;132;01m}\u001b[39;00m\u001b[38;5;124m\"\u001b[39m)\n",
          "\u001b[1;31mNameError\u001b[0m: name 'delta_T' is not defined"
         ]
        }
       ]
      }
     },
     "6c4130e0627e43dc88ca8ee0282fdb65": {
      "model_module": "@jupyter-widgets/controls",
      "model_module_version": "2.0.0",
      "model_name": "SliderStyleModel",
      "state": {
       "description_width": ""
      }
     },
     "6c4bfa1bb29c4da4a4209cdadb442d42": {
      "model_module": "@jupyter-widgets/base",
      "model_module_version": "2.0.0",
      "model_name": "LayoutModel",
      "state": {}
     },
     "6e2fc0e40318411c9d967dd8f8b546d0": {
      "model_module": "@jupyter-widgets/controls",
      "model_module_version": "2.0.0",
      "model_name": "VBoxModel",
      "state": {
       "_dom_classes": [
        "widget-interact"
       ],
       "children": [
        "IPY_MODEL_0e92300d95934c71825d9f47c9f78272",
        "IPY_MODEL_3be05f3c3b1e4116ba60e7d51545e661",
        "IPY_MODEL_a2c2f5585982465da078533fd15a38fb",
        "IPY_MODEL_69417be32d4a45f78af7806ff74b309c"
       ],
       "layout": "IPY_MODEL_b0043208ed984f94a177889f1c44cfb7"
      }
     },
     "7b16e99d641a4715904a7a906e5d468a": {
      "model_module": "@jupyter-widgets/controls",
      "model_module_version": "2.0.0",
      "model_name": "SliderStyleModel",
      "state": {
       "description_width": ""
      }
     },
     "81767ebeee7a4c6e974af7b231823514": {
      "model_module": "@jupyter-widgets/base",
      "model_module_version": "2.0.0",
      "model_name": "LayoutModel",
      "state": {}
     },
     "8b9fcb43094548bf8f70852eda98c380": {
      "model_module": "@jupyter-widgets/controls",
      "model_module_version": "2.0.0",
      "model_name": "VBoxModel",
      "state": {
       "_dom_classes": [
        "widget-interact"
       ],
       "children": [
        "IPY_MODEL_691862e19ea84ecbb2a5525688645362",
        "IPY_MODEL_9d46dee0ce1044609b6fdd5734dfc880",
        "IPY_MODEL_5e1aafebbcb34990a342ad4fca3a3490",
        "IPY_MODEL_ef520830735f4622826dd76bfbb29c32"
       ],
       "layout": "IPY_MODEL_0bd7f20d753d46209c55db040ecfce0a"
      }
     },
     "8d2c89a6864d4ffb8b95415149aa872f": {
      "model_module": "@jupyter-widgets/base",
      "model_module_version": "2.0.0",
      "model_name": "LayoutModel",
      "state": {}
     },
     "8d3e69d5028a4c1b87292e1f02299831": {
      "model_module": "@jupyter-widgets/controls",
      "model_module_version": "2.0.0",
      "model_name": "VBoxModel",
      "state": {
       "_dom_classes": [
        "widget-interact"
       ],
       "children": [
        "IPY_MODEL_d09d3e192afd488ebe7cfb16807e4101",
        "IPY_MODEL_d0dfc6e00e89487abccc4637eb65532a",
        "IPY_MODEL_fa020d6a7f214cb78c4b73f99b025eaa",
        "IPY_MODEL_22518b550b6048bc898a072b63abac77"
       ],
       "layout": "IPY_MODEL_5bda343b2147410c839655b13cbba719"
      }
     },
     "8ea38d3e74a842a5b7a23af98a4ad116": {
      "model_module": "@jupyter-widgets/controls",
      "model_module_version": "2.0.0",
      "model_name": "FloatSliderModel",
      "state": {
       "behavior": "drag-tap",
       "description": "Sensitivity (°C)",
       "layout": "IPY_MODEL_55428a4b983b442ea6d3997772d2e335",
       "max": 6,
       "min": 1,
       "step": 0.1,
       "style": "IPY_MODEL_d1eb4cbb15784d5fbe94b9fa948878b7",
       "value": 3
      }
     },
     "91ceda241a9e4d939e6fb1c2d97fea70": {
      "model_module": "@jupyter-widgets/controls",
      "model_module_version": "2.0.0",
      "model_name": "SliderStyleModel",
      "state": {
       "description_width": ""
      }
     },
     "9cd8cc75ae364f409955ee69302b5528": {
      "model_module": "@jupyter-widgets/controls",
      "model_module_version": "2.0.0",
      "model_name": "FloatSliderModel",
      "state": {
       "behavior": "drag-tap",
       "description": "CO₂ (ppm)",
       "layout": "IPY_MODEL_fb675b0992cc413a8c9a6f02fa212958",
       "max": 600,
       "min": 280,
       "step": 5,
       "style": "IPY_MODEL_04f2bd8e8bca452486d273bd93ce4c1f",
       "value": 420
      }
     },
     "9d46dee0ce1044609b6fdd5734dfc880": {
      "model_module": "@jupyter-widgets/controls",
      "model_module_version": "2.0.0",
      "model_name": "FloatSliderModel",
      "state": {
       "behavior": "drag-tap",
       "description": "Albedo",
       "layout": "IPY_MODEL_c7d16a6a7b7a4b9082d592be975e5bad",
       "max": 0.4,
       "min": 0.2,
       "step": 0.01,
       "style": "IPY_MODEL_6c4130e0627e43dc88ca8ee0282fdb65",
       "value": 0.30000000000000004
      }
     },
     "a290c2d6799446fab38400b8a0be5fac": {
      "model_module": "@jupyter-widgets/controls",
      "model_module_version": "2.0.0",
      "model_name": "SliderStyleModel",
      "state": {
       "description_width": ""
      }
     },
     "a2c2f5585982465da078533fd15a38fb": {
      "model_module": "@jupyter-widgets/controls",
      "model_module_version": "2.0.0",
      "model_name": "FloatSliderModel",
      "state": {
       "behavior": "drag-tap",
       "description": "Sensitivity (°C)",
       "layout": "IPY_MODEL_8d2c89a6864d4ffb8b95415149aa872f",
       "max": 6,
       "min": 1,
       "step": 0.1,
       "style": "IPY_MODEL_7b16e99d641a4715904a7a906e5d468a",
       "value": 3
      }
     },
     "ac1170bba85c48da8eba97d5e1e1b758": {
      "model_module": "@jupyter-widgets/controls",
      "model_module_version": "2.0.0",
      "model_name": "SliderStyleModel",
      "state": {
       "description_width": ""
      }
     },
     "adf55f0b1b0d4240b39d288e5fe8d862": {
      "model_module": "@jupyter-widgets/controls",
      "model_module_version": "2.0.0",
      "model_name": "SliderStyleModel",
      "state": {
       "description_width": ""
      }
     },
     "b0043208ed984f94a177889f1c44cfb7": {
      "model_module": "@jupyter-widgets/base",
      "model_module_version": "2.0.0",
      "model_name": "LayoutModel",
      "state": {}
     },
     "b303133a179343a495fee02359484650": {
      "model_module": "@jupyter-widgets/controls",
      "model_module_version": "2.0.0",
      "model_name": "SliderStyleModel",
      "state": {
       "description_width": ""
      }
     },
     "b9ab0db7ea6d45d1b77873df025358e6": {
      "model_module": "@jupyter-widgets/base",
      "model_module_version": "2.0.0",
      "model_name": "LayoutModel",
      "state": {}
     },
     "c105b1a361104b7bbda4e805179cb5e1": {
      "model_module": "@jupyter-widgets/controls",
      "model_module_version": "2.0.0",
      "model_name": "SliderStyleModel",
      "state": {
       "description_width": ""
      }
     },
     "c2ac0ee667724e3ca04fd03cd36f2a90": {
      "model_module": "@jupyter-widgets/base",
      "model_module_version": "2.0.0",
      "model_name": "LayoutModel",
      "state": {}
     },
     "c7d16a6a7b7a4b9082d592be975e5bad": {
      "model_module": "@jupyter-widgets/base",
      "model_module_version": "2.0.0",
      "model_name": "LayoutModel",
      "state": {}
     },
     "c86cbbf1fe9944cb90279ea565cf5b20": {
      "model_module": "@jupyter-widgets/controls",
      "model_module_version": "2.0.0",
      "model_name": "VBoxModel",
      "state": {
       "_dom_classes": [
        "widget-interact"
       ],
       "children": [
        "IPY_MODEL_9cd8cc75ae364f409955ee69302b5528",
        "IPY_MODEL_6507ee697fcc41ba87aff922f3a3c338",
        "IPY_MODEL_8ea38d3e74a842a5b7a23af98a4ad116",
        "IPY_MODEL_1c68c93c4da947b2b3f81b63b92139d9"
       ],
       "layout": "IPY_MODEL_54733f4b90ff4fb69fc2da4f5f395ef7"
      }
     },
     "d09d3e192afd488ebe7cfb16807e4101": {
      "model_module": "@jupyter-widgets/controls",
      "model_module_version": "2.0.0",
      "model_name": "FloatSliderModel",
      "state": {
       "behavior": "drag-tap",
       "description": "CO₂ (ppm)",
       "layout": "IPY_MODEL_b9ab0db7ea6d45d1b77873df025358e6",
       "max": 600,
       "min": 280,
       "step": 5,
       "style": "IPY_MODEL_277a2ac276e64e42aec98c10f59c2f10",
       "value": 420
      }
     },
     "d0dfc6e00e89487abccc4637eb65532a": {
      "model_module": "@jupyter-widgets/controls",
      "model_module_version": "2.0.0",
      "model_name": "FloatSliderModel",
      "state": {
       "behavior": "drag-tap",
       "description": "Albedo",
       "layout": "IPY_MODEL_2130b1e80d6d4128950783ca8be91a1d",
       "max": 0.4,
       "min": 0.2,
       "step": 0.01,
       "style": "IPY_MODEL_b303133a179343a495fee02359484650",
       "value": 0.30000000000000004
      }
     },
     "d1eb4cbb15784d5fbe94b9fa948878b7": {
      "model_module": "@jupyter-widgets/controls",
      "model_module_version": "2.0.0",
      "model_name": "SliderStyleModel",
      "state": {
       "description_width": ""
      }
     },
     "ecce0c6dd16d4e68a659a9011bc2e0cb": {
      "model_module": "@jupyter-widgets/controls",
      "model_module_version": "2.0.0",
      "model_name": "SliderStyleModel",
      "state": {
       "description_width": ""
      }
     },
     "eeb9cce65baf446b98a3e34803be1358": {
      "model_module": "@jupyter-widgets/base",
      "model_module_version": "2.0.0",
      "model_name": "LayoutModel",
      "state": {}
     },
     "ef520830735f4622826dd76bfbb29c32": {
      "model_module": "@jupyter-widgets/output",
      "model_module_version": "1.0.0",
      "model_name": "OutputModel",
      "state": {
       "layout": "IPY_MODEL_5d0ee1094ef14318b1557d24ed1a7027",
       "outputs": [
        {
         "ename": "NameError",
         "evalue": "name 'delta_T' is not defined",
         "output_type": "error",
         "traceback": [
          "\u001b[1;31m---------------------------------------------------------------------------\u001b[0m",
          "\u001b[1;31mNameError\u001b[0m                                 Traceback (most recent call last)",
          "File \u001b[1;32m~\\anaconda3\\Lib\\site-packages\\ipywidgets\\widgets\\interaction.py:243\u001b[0m, in \u001b[0;36minteractive.update\u001b[1;34m(self, *args)\u001b[0m\n\u001b[0;32m    241\u001b[0m     value \u001b[38;5;241m=\u001b[39m widget\u001b[38;5;241m.\u001b[39mget_interact_value()\n\u001b[0;32m    242\u001b[0m     \u001b[38;5;28mself\u001b[39m\u001b[38;5;241m.\u001b[39mkwargs[widget\u001b[38;5;241m.\u001b[39m_kwarg] \u001b[38;5;241m=\u001b[39m value\n\u001b[1;32m--> 243\u001b[0m \u001b[38;5;28mself\u001b[39m\u001b[38;5;241m.\u001b[39mresult \u001b[38;5;241m=\u001b[39m \u001b[38;5;28mself\u001b[39m\u001b[38;5;241m.\u001b[39mf(\u001b[38;5;241m*\u001b[39m\u001b[38;5;241m*\u001b[39m\u001b[38;5;28mself\u001b[39m\u001b[38;5;241m.\u001b[39mkwargs)\n\u001b[0;32m    244\u001b[0m show_inline_matplotlib_plots()\n\u001b[0;32m    245\u001b[0m \u001b[38;5;28;01mif\u001b[39;00m \u001b[38;5;28mself\u001b[39m\u001b[38;5;241m.\u001b[39mauto_display \u001b[38;5;129;01mand\u001b[39;00m \u001b[38;5;28mself\u001b[39m\u001b[38;5;241m.\u001b[39mresult \u001b[38;5;129;01mis\u001b[39;00m \u001b[38;5;129;01mnot\u001b[39;00m \u001b[38;5;28;01mNone\u001b[39;00m:\n",
          "Cell \u001b[1;32mIn[2], line 52\u001b[0m, in \u001b[0;36mupdate_model\u001b[1;34m(CO2, albedo, sensitivity)\u001b[0m\n\u001b[0;32m     50\u001b[0m C_current \u001b[38;5;241m=\u001b[39m \u001b[38;5;241m420\u001b[39m\n\u001b[0;32m     51\u001b[0m \u001b[38;5;66;03m#delta_T, rise = sea_level_rise(C_current)\u001b[39;00m\n\u001b[1;32m---> 52\u001b[0m rise \u001b[38;5;241m=\u001b[39m delta_T \u001b[38;5;241m*\u001b[39m sea_level_per_deg\n\u001b[0;32m     53\u001b[0m \u001b[38;5;28mprint\u001b[39m(\u001b[38;5;124mf\u001b[39m\u001b[38;5;124m\"\u001b[39m\u001b[38;5;124m🌍 CO₂ Concentration: \u001b[39m\u001b[38;5;132;01m{\u001b[39;00mCO2\u001b[38;5;132;01m:\u001b[39;00m\u001b[38;5;124m.0f\u001b[39m\u001b[38;5;132;01m}\u001b[39;00m\u001b[38;5;124m ppm\u001b[39m\u001b[38;5;124m\"\u001b[39m)\n\u001b[0;32m     54\u001b[0m \u001b[38;5;28mprint\u001b[39m(\u001b[38;5;124mf\u001b[39m\u001b[38;5;124m\"\u001b[39m\u001b[38;5;124m🌞 Albedo: \u001b[39m\u001b[38;5;132;01m{\u001b[39;00malbedo\u001b[38;5;132;01m:\u001b[39;00m\u001b[38;5;124m.2f\u001b[39m\u001b[38;5;132;01m}\u001b[39;00m\u001b[38;5;124m\"\u001b[39m)\n",
          "\u001b[1;31mNameError\u001b[0m: name 'delta_T' is not defined"
         ]
        }
       ]
      }
     },
     "fa020d6a7f214cb78c4b73f99b025eaa": {
      "model_module": "@jupyter-widgets/controls",
      "model_module_version": "2.0.0",
      "model_name": "FloatSliderModel",
      "state": {
       "behavior": "drag-tap",
       "description": "Sensitivity (°C)",
       "layout": "IPY_MODEL_eeb9cce65baf446b98a3e34803be1358",
       "max": 6,
       "min": 1,
       "step": 0.1,
       "style": "IPY_MODEL_91ceda241a9e4d939e6fb1c2d97fea70",
       "value": 3
      }
     },
     "fb675b0992cc413a8c9a6f02fa212958": {
      "model_module": "@jupyter-widgets/base",
      "model_module_version": "2.0.0",
      "model_name": "LayoutModel",
      "state": {}
     },
     "febdc078730a4ab5bb19fccc6eef7b9c": {
      "model_module": "@jupyter-widgets/base",
      "model_module_version": "2.0.0",
      "model_name": "LayoutModel",
      "state": {}
     }
    },
    "version_major": 2,
    "version_minor": 0
   }
  }
 },
 "nbformat": 4,
 "nbformat_minor": 5
}
